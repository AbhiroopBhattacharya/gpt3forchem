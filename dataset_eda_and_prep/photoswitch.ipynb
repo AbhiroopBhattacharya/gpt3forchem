{
 "cells": [
  {
   "cell_type": "code",
   "execution_count": 81,
   "metadata": {},
   "outputs": [],
   "source": [
    "import pandas as pd\n",
    "import matplotlib.pyplot as plt\n",
    "import seaborn as sns\n",
    "from rdkit import Chem\n",
    "from rdkit.Chem import AllChem, Descriptors, MolFromSmiles, MolToSmiles\n",
    "import requests\n",
    "import selfies as sf\n",
    "import time\n",
    "import numpy as np\n",
    "\n",
    "from fastcore.xtras import save_pickle\n",
    "\n",
    "plt.style.use([\"science\", \"nature\"])\n"
   ]
  },
  {
   "cell_type": "code",
   "execution_count": 13,
   "metadata": {},
   "outputs": [],
   "source": [
    "df = pd.read_csv(\n",
    "    \"https://raw.githubusercontent.com/Ryan-Rhys/The-Photoswitch-Dataset/master/dataset/photoswitches.csv\"\n",
    ")\n"
   ]
  },
  {
   "cell_type": "code",
   "execution_count": 14,
   "metadata": {},
   "outputs": [
    {
     "data": {
      "text/html": [
       "<div>\n",
       "<style scoped>\n",
       "    .dataframe tbody tr th:only-of-type {\n",
       "        vertical-align: middle;\n",
       "    }\n",
       "\n",
       "    .dataframe tbody tr th {\n",
       "        vertical-align: top;\n",
       "    }\n",
       "\n",
       "    .dataframe thead th {\n",
       "        text-align: right;\n",
       "    }\n",
       "</style>\n",
       "<table border=\"1\" class=\"dataframe\">\n",
       "  <thead>\n",
       "    <tr style=\"text-align: right;\">\n",
       "      <th></th>\n",
       "      <th>Unnamed: 0</th>\n",
       "      <th>SMILES</th>\n",
       "      <th>rate of thermal isomerisation from Z-E in s-1</th>\n",
       "      <th>Solvent used for thermal isomerisation rates</th>\n",
       "      <th>Z PhotoStationaryState</th>\n",
       "      <th>E PhotoStationaryState</th>\n",
       "      <th>E isomer pi-pi* wavelength in nm</th>\n",
       "      <th>Extinction</th>\n",
       "      <th>E isomer n-pi* wavelength in nm</th>\n",
       "      <th>Extinction coefficient in M-1 cm-1</th>\n",
       "      <th>...</th>\n",
       "      <th>TPSSh/6-31G** DFT Z isomer pi-pi* wavelength in nm</th>\n",
       "      <th>TPSSh/6-31G** DFT Z isomer n-pi* wavelength in nm</th>\n",
       "      <th>CAM-B3LYP/6-31G** DFT E isomer pi-pi* wavelength in nm</th>\n",
       "      <th>CAM-B3LYP/6-31G** DFT E isomer n-pi* wavelength in nm</th>\n",
       "      <th>CAM-B3LYP/6-31G** DFT Z isomer pi-pi* wavelength in nm</th>\n",
       "      <th>CAM-B3LYP/6-31G** DFT Z isomer n-pi* wavelength in nm</th>\n",
       "      <th>BHLYP/6-31G* DFT E isomer pi-pi* wavelength in nm</th>\n",
       "      <th>BHLYP/6-31G* DFT E isomer n-pi* wavelength in nm</th>\n",
       "      <th>BHLYP/6-31G* Z isomer pi-pi* wavelength in nm</th>\n",
       "      <th>BHLYP/6-31G* DFT Z isomer n-pi* wavelength in nm</th>\n",
       "    </tr>\n",
       "  </thead>\n",
       "  <tbody>\n",
       "    <tr>\n",
       "      <th>0</th>\n",
       "      <td>0</td>\n",
       "      <td>C[N]1N=NC(=N1)N=NC2=CC=CC=C2</td>\n",
       "      <td>2.100000e-07</td>\n",
       "      <td>MeCN</td>\n",
       "      <td>76.0</td>\n",
       "      <td>72.0</td>\n",
       "      <td>310.0</td>\n",
       "      <td>1.67</td>\n",
       "      <td>442.0</td>\n",
       "      <td>0.0373</td>\n",
       "      <td>...</td>\n",
       "      <td>NaN</td>\n",
       "      <td>NaN</td>\n",
       "      <td>NaN</td>\n",
       "      <td>NaN</td>\n",
       "      <td>NaN</td>\n",
       "      <td>NaN</td>\n",
       "      <td>NaN</td>\n",
       "      <td>NaN</td>\n",
       "      <td>NaN</td>\n",
       "      <td>NaN</td>\n",
       "    </tr>\n",
       "    <tr>\n",
       "      <th>1</th>\n",
       "      <td>1</td>\n",
       "      <td>C[N]1C=NC(=N1)N=NC2=CC=CC=C2</td>\n",
       "      <td>3.800000e-07</td>\n",
       "      <td>MeCN</td>\n",
       "      <td>90.0</td>\n",
       "      <td>84.0</td>\n",
       "      <td>310.0</td>\n",
       "      <td>1.87</td>\n",
       "      <td>438.0</td>\n",
       "      <td>0.0505</td>\n",
       "      <td>...</td>\n",
       "      <td>NaN</td>\n",
       "      <td>NaN</td>\n",
       "      <td>NaN</td>\n",
       "      <td>NaN</td>\n",
       "      <td>NaN</td>\n",
       "      <td>NaN</td>\n",
       "      <td>NaN</td>\n",
       "      <td>NaN</td>\n",
       "      <td>NaN</td>\n",
       "      <td>NaN</td>\n",
       "    </tr>\n",
       "    <tr>\n",
       "      <th>2</th>\n",
       "      <td>2</td>\n",
       "      <td>C[N]1C=CC(=N1)N=NC2=CC=CC=C2</td>\n",
       "      <td>1.100000e-07</td>\n",
       "      <td>MeCN</td>\n",
       "      <td>98.0</td>\n",
       "      <td>97.0</td>\n",
       "      <td>320.0</td>\n",
       "      <td>1.46</td>\n",
       "      <td>425.0</td>\n",
       "      <td>0.0778</td>\n",
       "      <td>...</td>\n",
       "      <td>NaN</td>\n",
       "      <td>NaN</td>\n",
       "      <td>NaN</td>\n",
       "      <td>NaN</td>\n",
       "      <td>NaN</td>\n",
       "      <td>NaN</td>\n",
       "      <td>NaN</td>\n",
       "      <td>NaN</td>\n",
       "      <td>NaN</td>\n",
       "      <td>NaN</td>\n",
       "    </tr>\n",
       "    <tr>\n",
       "      <th>3</th>\n",
       "      <td>3</td>\n",
       "      <td>C[N]1C=C(C)C(=N1)N=NC2=CC=CC=C2</td>\n",
       "      <td>1.500000e-06</td>\n",
       "      <td>MeCN</td>\n",
       "      <td>96.0</td>\n",
       "      <td>87.0</td>\n",
       "      <td>325.0</td>\n",
       "      <td>1.74</td>\n",
       "      <td>428.0</td>\n",
       "      <td>0.0612</td>\n",
       "      <td>...</td>\n",
       "      <td>NaN</td>\n",
       "      <td>NaN</td>\n",
       "      <td>NaN</td>\n",
       "      <td>NaN</td>\n",
       "      <td>NaN</td>\n",
       "      <td>NaN</td>\n",
       "      <td>NaN</td>\n",
       "      <td>NaN</td>\n",
       "      <td>NaN</td>\n",
       "      <td>NaN</td>\n",
       "    </tr>\n",
       "    <tr>\n",
       "      <th>4</th>\n",
       "      <td>4</td>\n",
       "      <td>C[N]1C=C(C=N1)N=NC2=CC=CC=C2</td>\n",
       "      <td>7.600000e-09</td>\n",
       "      <td>MeCN</td>\n",
       "      <td>98.0</td>\n",
       "      <td>70.0</td>\n",
       "      <td>328.0</td>\n",
       "      <td>1.66</td>\n",
       "      <td>417.0</td>\n",
       "      <td>0.0640</td>\n",
       "      <td>...</td>\n",
       "      <td>295.0</td>\n",
       "      <td>410.0</td>\n",
       "      <td>305.0</td>\n",
       "      <td>427.0</td>\n",
       "      <td>256.0</td>\n",
       "      <td>401.0</td>\n",
       "      <td>NaN</td>\n",
       "      <td>NaN</td>\n",
       "      <td>NaN</td>\n",
       "      <td>NaN</td>\n",
       "    </tr>\n",
       "  </tbody>\n",
       "</table>\n",
       "<p>5 rows × 34 columns</p>\n",
       "</div>"
      ],
      "text/plain": [
       "   Unnamed: 0                           SMILES  \\\n",
       "0           0     C[N]1N=NC(=N1)N=NC2=CC=CC=C2   \n",
       "1           1     C[N]1C=NC(=N1)N=NC2=CC=CC=C2   \n",
       "2           2     C[N]1C=CC(=N1)N=NC2=CC=CC=C2   \n",
       "3           3  C[N]1C=C(C)C(=N1)N=NC2=CC=CC=C2   \n",
       "4           4     C[N]1C=C(C=N1)N=NC2=CC=CC=C2   \n",
       "\n",
       "   rate of thermal isomerisation from Z-E in s-1  \\\n",
       "0                                   2.100000e-07   \n",
       "1                                   3.800000e-07   \n",
       "2                                   1.100000e-07   \n",
       "3                                   1.500000e-06   \n",
       "4                                   7.600000e-09   \n",
       "\n",
       "  Solvent used for thermal isomerisation rates  Z PhotoStationaryState  \\\n",
       "0                                         MeCN                    76.0   \n",
       "1                                         MeCN                    90.0   \n",
       "2                                         MeCN                    98.0   \n",
       "3                                         MeCN                    96.0   \n",
       "4                                         MeCN                    98.0   \n",
       "\n",
       "   E PhotoStationaryState  E isomer pi-pi* wavelength in nm  Extinction  \\\n",
       "0                    72.0                             310.0        1.67   \n",
       "1                    84.0                             310.0        1.87   \n",
       "2                    97.0                             320.0        1.46   \n",
       "3                    87.0                             325.0        1.74   \n",
       "4                    70.0                             328.0        1.66   \n",
       "\n",
       "   E isomer n-pi* wavelength in nm  Extinction coefficient in M-1 cm-1  ...  \\\n",
       "0                            442.0                              0.0373  ...   \n",
       "1                            438.0                              0.0505  ...   \n",
       "2                            425.0                              0.0778  ...   \n",
       "3                            428.0                              0.0612  ...   \n",
       "4                            417.0                              0.0640  ...   \n",
       "\n",
       "   TPSSh/6-31G** DFT Z isomer pi-pi* wavelength in nm  \\\n",
       "0                                                NaN    \n",
       "1                                                NaN    \n",
       "2                                                NaN    \n",
       "3                                                NaN    \n",
       "4                                              295.0    \n",
       "\n",
       "   TPSSh/6-31G** DFT Z isomer n-pi* wavelength in nm  \\\n",
       "0                                                NaN   \n",
       "1                                                NaN   \n",
       "2                                                NaN   \n",
       "3                                                NaN   \n",
       "4                                              410.0   \n",
       "\n",
       "   CAM-B3LYP/6-31G** DFT E isomer pi-pi* wavelength in nm  \\\n",
       "0                                                NaN        \n",
       "1                                                NaN        \n",
       "2                                                NaN        \n",
       "3                                                NaN        \n",
       "4                                              305.0        \n",
       "\n",
       "   CAM-B3LYP/6-31G** DFT E isomer n-pi* wavelength in nm  \\\n",
       "0                                                NaN       \n",
       "1                                                NaN       \n",
       "2                                                NaN       \n",
       "3                                                NaN       \n",
       "4                                              427.0       \n",
       "\n",
       "   CAM-B3LYP/6-31G** DFT Z isomer pi-pi* wavelength in nm  \\\n",
       "0                                                NaN        \n",
       "1                                                NaN        \n",
       "2                                                NaN        \n",
       "3                                                NaN        \n",
       "4                                              256.0        \n",
       "\n",
       "  CAM-B3LYP/6-31G** DFT Z isomer n-pi* wavelength in nm  \\\n",
       "0                                                NaN      \n",
       "1                                                NaN      \n",
       "2                                                NaN      \n",
       "3                                                NaN      \n",
       "4                                              401.0      \n",
       "\n",
       "  BHLYP/6-31G* DFT E isomer pi-pi* wavelength in nm  \\\n",
       "0                                               NaN   \n",
       "1                                               NaN   \n",
       "2                                               NaN   \n",
       "3                                               NaN   \n",
       "4                                               NaN   \n",
       "\n",
       "  BHLYP/6-31G* DFT E isomer n-pi* wavelength in nm  \\\n",
       "0                                              NaN   \n",
       "1                                              NaN   \n",
       "2                                              NaN   \n",
       "3                                              NaN   \n",
       "4                                              NaN   \n",
       "\n",
       "   BHLYP/6-31G* Z isomer pi-pi* wavelength in nm  \\\n",
       "0                                            NaN   \n",
       "1                                            NaN   \n",
       "2                                            NaN   \n",
       "3                                            NaN   \n",
       "4                                            NaN   \n",
       "\n",
       "   BHLYP/6-31G* DFT Z isomer n-pi* wavelength in nm  \n",
       "0                                               NaN  \n",
       "1                                               NaN  \n",
       "2                                               NaN  \n",
       "3                                               NaN  \n",
       "4                                               NaN  \n",
       "\n",
       "[5 rows x 34 columns]"
      ]
     },
     "execution_count": 14,
     "metadata": {},
     "output_type": "execute_result"
    }
   ],
   "source": [
    "df.head()\n"
   ]
  },
  {
   "cell_type": "code",
   "execution_count": 15,
   "metadata": {},
   "outputs": [
    {
     "name": "stderr",
     "output_type": "stream",
     "text": [
      "/Users/kevinmaikjablonka/miniconda3/envs/gpt3/lib/python3.9/site-packages/seaborn/distributions.py:2619: FutureWarning: `distplot` is a deprecated function and will be removed in a future version. Please adapt your code to use either `displot` (a figure-level function with similar flexibility) or `histplot` (an axes-level function for histograms).\n",
      "  warnings.warn(msg, FutureWarning)\n"
     ]
    },
    {
     "data": {
      "text/plain": [
       "<AxesSubplot:xlabel='E isomer pi-pi* wavelength in nm', ylabel='Density'>"
      ]
     },
     "execution_count": 15,
     "metadata": {},
     "output_type": "execute_result"
    },
    {
     "data": {
      "image/png": "[encoded data removed]",
      "text/plain": [
       "<Figure size 237.6x180 with 1 Axes>"
      ]
     },
     "metadata": {
      "needs_background": "light"
     },
     "output_type": "display_data"
    }
   ],
   "source": [
    "sns.distplot(df[\"E isomer pi-pi* wavelength in nm\"], kde_kws={\"cut\": 0})\n"
   ]
  },
  {
   "cell_type": "markdown",
   "metadata": {},
   "source": [
    "Interesting distribution, spread is wider than I expected scrolling through the csv.\n"
   ]
  },
  {
   "cell_type": "code",
   "execution_count": 16,
   "metadata": {},
   "outputs": [
    {
     "name": "stdout",
     "output_type": "stream",
     "text": [
      "267.0 623.0\n"
     ]
    }
   ],
   "source": [
    "print(\n",
    "    df[\"E isomer pi-pi* wavelength in nm\"].min(),\n",
    "    df[\"E isomer pi-pi* wavelength in nm\"].max(),\n",
    ")\n"
   ]
  },
  {
   "cell_type": "code",
   "execution_count": 10,
   "metadata": {},
   "outputs": [
    {
     "data": {
      "text/plain": [
       "13"
      ]
     },
     "execution_count": 10,
     "metadata": {},
     "output_type": "execute_result"
    }
   ],
   "source": [
    "df[\"E isomer pi-pi* wavelength in nm\"].isna().sum()\n"
   ]
  },
  {
   "cell_type": "markdown",
   "metadata": {},
   "source": [
    "The minimum wavelength molecule\n"
   ]
  },
  {
   "cell_type": "code",
   "execution_count": 20,
   "metadata": {},
   "outputs": [
    {
     "data": {
      "image/png": "[encoded data removed]",
      "text/plain": [
       "<rdkit.Chem.rdchem.Mol at 0x28b483700>"
      ]
     },
     "execution_count": 20,
     "metadata": {},
     "output_type": "execute_result"
    }
   ],
   "source": [
    "Chem.MolFromSmiles(df.iloc[df[\"E isomer pi-pi* wavelength in nm\"].argmin()][\"SMILES\"])\n"
   ]
  },
  {
   "cell_type": "markdown",
   "metadata": {},
   "source": [
    "Maximum wavelength molecule\n"
   ]
  },
  {
   "cell_type": "code",
   "execution_count": 23,
   "metadata": {},
   "outputs": [
    {
     "data": {
      "image/png": "[encoded data removed]",
      "text/plain": [
       "<rdkit.Chem.rdchem.Mol at 0x28b2ead60>"
      ]
     },
     "execution_count": 23,
     "metadata": {},
     "output_type": "execute_result"
    }
   ],
   "source": [
    "Chem.MolFromSmiles(df.iloc[df[\"E isomer pi-pi* wavelength in nm\"].argmax()][\"SMILES\"])\n"
   ]
  },
  {
   "cell_type": "markdown",
   "metadata": {},
   "source": [
    "Let's also get the SELFIES and then bin the wavelengths for a classification task.\n"
   ]
  },
  {
   "cell_type": "markdown",
   "metadata": {},
   "source": [
    "Let's also get chemical names\n"
   ]
  },
  {
   "cell_type": "code",
   "execution_count": 50,
   "metadata": {},
   "outputs": [],
   "source": [
    "CACTUS = \"https://cactus.nci.nih.gov/chemical/structure/{0}/{1}\"\n",
    "\n",
    "\n",
    "def smiles_to_iupac(smiles):\n",
    "    try:\n",
    "        time.sleep(0.1)\n",
    "        rep = \"iupac_name\"\n",
    "        url = CACTUS.format(smiles, rep)\n",
    "        response = requests.get(url)\n",
    "        response.raise_for_status()\n",
    "        name = response.text\n",
    "        if \"html\" in name:\n",
    "            return None\n",
    "        return name\n",
    "    except Exception:\n",
    "        return None\n"
   ]
  },
  {
   "cell_type": "code",
   "execution_count": 31,
   "metadata": {},
   "outputs": [
    {
     "data": {
      "text/plain": [
       "'Pentane'"
      ]
     },
     "execution_count": 31,
     "metadata": {},
     "output_type": "execute_result"
    }
   ],
   "source": [
    "smiles_to_iupac(\"CCCCC\")\n"
   ]
  },
  {
   "cell_type": "code",
   "execution_count": 33,
   "metadata": {},
   "outputs": [
    {
     "data": {
      "text/plain": [
       "'(3,5-dimethyl-1,2-oxazol-4-yl)-(2-methoxyphenyl)diazene'"
      ]
     },
     "execution_count": 33,
     "metadata": {},
     "output_type": "execute_result"
    }
   ],
   "source": [
    "smiles_to_iupac(df.iloc[100][\"SMILES\"])\n"
   ]
  },
  {
   "cell_type": "code",
   "execution_count": 38,
   "metadata": {},
   "outputs": [
    {
     "data": {
      "text/plain": [
       "'[C][C][=N][O][C][Branch1][C][C][=C][Ring1][=Branch1][/N][=N][/C][=C][Branch1][Ring1][O][C][C][=C][C][=C][Ring1][Branch2]'"
      ]
     },
     "execution_count": 38,
     "metadata": {},
     "output_type": "execute_result"
    }
   ],
   "source": [
    "sf.encoder(df.iloc[100][\"SMILES\"])\n"
   ]
  },
  {
   "cell_type": "code",
   "execution_count": 39,
   "metadata": {},
   "outputs": [],
   "source": [
    "selfies = [sf.encoder(smiles) for smiles in df[\"SMILES\"]]\n"
   ]
  },
  {
   "cell_type": "code",
   "execution_count": 51,
   "metadata": {},
   "outputs": [],
   "source": [
    "chemical_names = [smiles_to_iupac(smiles) for smiles in df[\"SMILES\"]]\n"
   ]
  },
  {
   "cell_type": "code",
   "execution_count": 53,
   "metadata": {},
   "outputs": [
    {
     "data": {
      "text/plain": [
       "405"
      ]
     },
     "execution_count": 53,
     "metadata": {},
     "output_type": "execute_result"
    }
   ],
   "source": [
    "len(df[\"SMILES\"])\n"
   ]
  },
  {
   "cell_type": "code",
   "execution_count": 54,
   "metadata": {},
   "outputs": [],
   "source": [
    "df[\"name\"] = chemical_names\n"
   ]
  },
  {
   "cell_type": "code",
   "execution_count": 55,
   "metadata": {},
   "outputs": [
    {
     "data": {
      "text/plain": [
       "316"
      ]
     },
     "execution_count": 55,
     "metadata": {},
     "output_type": "execute_result"
    }
   ],
   "source": [
    "df[\"name\"].isna().sum()\n"
   ]
  },
  {
   "cell_type": "code",
   "execution_count": 56,
   "metadata": {},
   "outputs": [],
   "source": [
    "df[\"selfies\"] = selfies\n"
   ]
  },
  {
   "cell_type": "markdown",
   "metadata": {},
   "source": [
    "Now also compute the \"fragprints\" (using the [original code](https://github.com/Ryan-Rhys/The-Photoswitch-Dataset/blob/master/property_prediction/data_utils.py))\n"
   ]
  },
  {
   "cell_type": "code",
   "execution_count": 59,
   "metadata": {},
   "outputs": [],
   "source": [
    "df_w_smiles = df.dropna(subset=[\"SMILES\"])\n"
   ]
  },
  {
   "cell_type": "code",
   "execution_count": 61,
   "metadata": {},
   "outputs": [],
   "source": [
    "smiles_list = df_w_smiles[\"SMILES\"]\n"
   ]
  },
  {
   "cell_type": "code",
   "execution_count": 62,
   "metadata": {},
   "outputs": [],
   "source": [
    "rdkit_mols = [MolFromSmiles(smiles) for smiles in smiles_list]\n",
    "rdkit_smiles = [MolToSmiles(mol, isomericSmiles=False) for mol in rdkit_mols]\n",
    "rdkit_mols = [MolFromSmiles(smiles) for smiles in rdkit_smiles]\n",
    "X = [AllChem.GetMorganFingerprintAsBitVect(mol, 3, nBits=2048) for mol in rdkit_mols]\n",
    "X = np.asarray(X)\n",
    "\n",
    "fragments = {d[0]: d[1] for d in Descriptors.descList[115:]}\n",
    "X1 = np.zeros((len(smiles_list), len(fragments)))\n",
    "for i in range(len(smiles_list)):\n",
    "    mol = MolFromSmiles(smiles_list[i])\n",
    "    try:\n",
    "        features = [fragments[d](mol) for d in fragments]\n",
    "    except:\n",
    "        raise Exception(\"molecule {}\".format(i) + \" is not canonicalised\")\n",
    "    X1[i, :] = features\n",
    "\n",
    "X = np.concatenate((X, X1), axis=1)\n"
   ]
  },
  {
   "cell_type": "code",
   "execution_count": 77,
   "metadata": {},
   "outputs": [
    {
     "data": {
      "text/plain": [
       "<matplotlib.image.AxesImage at 0x28e895bb0>"
      ]
     },
     "execution_count": 77,
     "metadata": {},
     "output_type": "execute_result"
    },
    {
     "data": {
      "image/png": "[encoded data removed]",
      "text/plain": [
       "<Figure size 237.6x180 with 1 Axes>"
      ]
     },
     "metadata": {
      "needs_background": "light"
     },
     "output_type": "display_data"
    }
   ],
   "source": [
    "plt.imshow(np.log(X + 1e-8), cmap=\"RdBu_r\")\n"
   ]
  },
  {
   "cell_type": "code",
   "execution_count": 80,
   "metadata": {},
   "outputs": [],
   "source": [
    "fragprint_features = dict(zip(smiles_list, X))\n"
   ]
  },
  {
   "cell_type": "code",
   "execution_count": 82,
   "metadata": {},
   "outputs": [],
   "source": [
    "save_pickle(\"../data/fragprint_features.pkl\", fragprint_features)\n"
   ]
  },
  {
   "cell_type": "code",
   "execution_count": 85,
   "metadata": {},
   "outputs": [],
   "source": [
    "df_w_smiles = df_w_smiles.drop(columns=[\"Unnamed: 0\"])\n"
   ]
  },
  {
   "cell_type": "code",
   "execution_count": 92,
   "metadata": {},
   "outputs": [],
   "source": [
    "df_w_smiles[\"wavelength_cat\"] = pd.cut(\n",
    "    df_w_smiles[\"E isomer pi-pi* wavelength in nm\"],\n",
    "    5,\n",
    "    labels=[\"very small\", \"small\", \"medium\", \"large\", \"very large\"],\n",
    ")\n"
   ]
  },
  {
   "cell_type": "code",
   "execution_count": 93,
   "metadata": {},
   "outputs": [],
   "source": [
    "df_w_smiles.to_csv(\"../data/photoswitches.csv\", index=False)\n"
   ]
  },
  {
   "cell_type": "code",
   "execution_count": null,
   "metadata": {},
   "outputs": [],
   "source": []
  }
 ],
 "metadata": {
  "kernelspec": {
   "display_name": "Python 3.9.13 ('gpt3')",
   "language": "python",
   "name": "python3"
  },
  "language_info": {
   "codemirror_mode": {
    "name": "ipython",
    "version": 3
   },
   "file_extension": ".py",
   "mimetype": "text/x-python",
   "name": "python",
   "nbconvert_exporter": "python",
   "pygments_lexer": "ipython3",
   "version": "3.9.13"
  },
  "orig_nbformat": 4,
  "vscode": {
   "interpreter": {
    "hash": "9a4fa60962de90e73b5da8d67a44b01d2de04630d82b94b8db1f727a73d31e61"
   }
  }
 },
 "nbformat": 4,
 "nbformat_minor": 2
}
