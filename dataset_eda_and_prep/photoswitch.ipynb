{
 "cells": [
  {
   "cell_type": "code",
   "execution_count": 1,
   "metadata": {},
   "outputs": [],
   "source": [
    "import pandas as pd\n",
    "import matplotlib.pyplot as plt\n",
    "import seaborn as sns\n",
    "from rdkit import Chem\n",
    "from rdkit.Chem import AllChem, Descriptors, MolFromSmiles, MolToSmiles\n",
    "import requests\n",
    "import selfies as sf\n",
    "import time\n",
    "import numpy as np\n",
    "\n",
    "from fastcore.xtras import save_pickle\n",
    "\n",
    "plt.style.use([\"science\", \"nature\"])\n"
   ]
  },
  {
   "cell_type": "code",
   "execution_count": 2,
   "metadata": {},
   "outputs": [],
   "source": [
    "df = pd.read_csv(\n",
    "    \"https://raw.githubusercontent.com/Ryan-Rhys/The-Photoswitch-Dataset/master/dataset/photoswitches.csv\"\n",
    ")\n"
   ]
  },
  {
   "cell_type": "code",
   "execution_count": 3,
   "metadata": {},
   "outputs": [
    {
     "data": {
      "text/html": [
       "<div>\n",
       "<style scoped>\n",
       "    .dataframe tbody tr th:only-of-type {\n",
       "        vertical-align: middle;\n",
       "    }\n",
       "\n",
       "    .dataframe tbody tr th {\n",
       "        vertical-align: top;\n",
       "    }\n",
       "\n",
       "    .dataframe thead th {\n",
       "        text-align: right;\n",
       "    }\n",
       "</style>\n",
       "<table border=\"1\" class=\"dataframe\">\n",
       "  <thead>\n",
       "    <tr style=\"text-align: right;\">\n",
       "      <th></th>\n",
       "      <th>Unnamed: 0</th>\n",
       "      <th>SMILES</th>\n",
       "      <th>rate of thermal isomerisation from Z-E in s-1</th>\n",
       "      <th>Solvent used for thermal isomerisation rates</th>\n",
       "      <th>Z PhotoStationaryState</th>\n",
       "      <th>E PhotoStationaryState</th>\n",
       "      <th>E isomer pi-pi* wavelength in nm</th>\n",
       "      <th>Extinction</th>\n",
       "      <th>E isomer n-pi* wavelength in nm</th>\n",
       "      <th>Extinction coefficient in M-1 cm-1</th>\n",
       "      <th>...</th>\n",
       "      <th>TPSSh/6-31G** DFT Z isomer pi-pi* wavelength in nm</th>\n",
       "      <th>TPSSh/6-31G** DFT Z isomer n-pi* wavelength in nm</th>\n",
       "      <th>CAM-B3LYP/6-31G** DFT E isomer pi-pi* wavelength in nm</th>\n",
       "      <th>CAM-B3LYP/6-31G** DFT E isomer n-pi* wavelength in nm</th>\n",
       "      <th>CAM-B3LYP/6-31G** DFT Z isomer pi-pi* wavelength in nm</th>\n",
       "      <th>CAM-B3LYP/6-31G** DFT Z isomer n-pi* wavelength in nm</th>\n",
       "      <th>BHLYP/6-31G* DFT E isomer pi-pi* wavelength in nm</th>\n",
       "      <th>BHLYP/6-31G* DFT E isomer n-pi* wavelength in nm</th>\n",
       "      <th>BHLYP/6-31G* Z isomer pi-pi* wavelength in nm</th>\n",
       "      <th>BHLYP/6-31G* DFT Z isomer n-pi* wavelength in nm</th>\n",
       "    </tr>\n",
       "  </thead>\n",
       "  <tbody>\n",
       "    <tr>\n",
       "      <th>0</th>\n",
       "      <td>0</td>\n",
       "      <td>C[N]1N=NC(=N1)N=NC2=CC=CC=C2</td>\n",
       "      <td>2.100000e-07</td>\n",
       "      <td>MeCN</td>\n",
       "      <td>76.0</td>\n",
       "      <td>72.0</td>\n",
       "      <td>310.0</td>\n",
       "      <td>1.67</td>\n",
       "      <td>442.0</td>\n",
       "      <td>0.0373</td>\n",
       "      <td>...</td>\n",
       "      <td>NaN</td>\n",
       "      <td>NaN</td>\n",
       "      <td>NaN</td>\n",
       "      <td>NaN</td>\n",
       "      <td>NaN</td>\n",
       "      <td>NaN</td>\n",
       "      <td>NaN</td>\n",
       "      <td>NaN</td>\n",
       "      <td>NaN</td>\n",
       "      <td>NaN</td>\n",
       "    </tr>\n",
       "    <tr>\n",
       "      <th>1</th>\n",
       "      <td>1</td>\n",
       "      <td>C[N]1C=NC(=N1)N=NC2=CC=CC=C2</td>\n",
       "      <td>3.800000e-07</td>\n",
       "      <td>MeCN</td>\n",
       "      <td>90.0</td>\n",
       "      <td>84.0</td>\n",
       "      <td>310.0</td>\n",
       "      <td>1.87</td>\n",
       "      <td>438.0</td>\n",
       "      <td>0.0505</td>\n",
       "      <td>...</td>\n",
       "      <td>NaN</td>\n",
       "      <td>NaN</td>\n",
       "      <td>NaN</td>\n",
       "      <td>NaN</td>\n",
       "      <td>NaN</td>\n",
       "      <td>NaN</td>\n",
       "      <td>NaN</td>\n",
       "      <td>NaN</td>\n",
       "      <td>NaN</td>\n",
       "      <td>NaN</td>\n",
       "    </tr>\n",
       "    <tr>\n",
       "      <th>2</th>\n",
       "      <td>2</td>\n",
       "      <td>C[N]1C=CC(=N1)N=NC2=CC=CC=C2</td>\n",
       "      <td>1.100000e-07</td>\n",
       "      <td>MeCN</td>\n",
       "      <td>98.0</td>\n",
       "      <td>97.0</td>\n",
       "      <td>320.0</td>\n",
       "      <td>1.46</td>\n",
       "      <td>425.0</td>\n",
       "      <td>0.0778</td>\n",
       "      <td>...</td>\n",
       "      <td>NaN</td>\n",
       "      <td>NaN</td>\n",
       "      <td>NaN</td>\n",
       "      <td>NaN</td>\n",
       "      <td>NaN</td>\n",
       "      <td>NaN</td>\n",
       "      <td>NaN</td>\n",
       "      <td>NaN</td>\n",
       "      <td>NaN</td>\n",
       "      <td>NaN</td>\n",
       "    </tr>\n",
       "    <tr>\n",
       "      <th>3</th>\n",
       "      <td>3</td>\n",
       "      <td>C[N]1C=C(C)C(=N1)N=NC2=CC=CC=C2</td>\n",
       "      <td>1.500000e-06</td>\n",
       "      <td>MeCN</td>\n",
       "      <td>96.0</td>\n",
       "      <td>87.0</td>\n",
       "      <td>325.0</td>\n",
       "      <td>1.74</td>\n",
       "      <td>428.0</td>\n",
       "      <td>0.0612</td>\n",
       "      <td>...</td>\n",
       "      <td>NaN</td>\n",
       "      <td>NaN</td>\n",
       "      <td>NaN</td>\n",
       "      <td>NaN</td>\n",
       "      <td>NaN</td>\n",
       "      <td>NaN</td>\n",
       "      <td>NaN</td>\n",
       "      <td>NaN</td>\n",
       "      <td>NaN</td>\n",
       "      <td>NaN</td>\n",
       "    </tr>\n",
       "    <tr>\n",
       "      <th>4</th>\n",
       "      <td>4</td>\n",
       "      <td>C[N]1C=C(C=N1)N=NC2=CC=CC=C2</td>\n",
       "      <td>7.600000e-09</td>\n",
       "      <td>MeCN</td>\n",
       "      <td>98.0</td>\n",
       "      <td>70.0</td>\n",
       "      <td>328.0</td>\n",
       "      <td>1.66</td>\n",
       "      <td>417.0</td>\n",
       "      <td>0.0640</td>\n",
       "      <td>...</td>\n",
       "      <td>295.0</td>\n",
       "      <td>410.0</td>\n",
       "      <td>305.0</td>\n",
       "      <td>427.0</td>\n",
       "      <td>256.0</td>\n",
       "      <td>401.0</td>\n",
       "      <td>NaN</td>\n",
       "      <td>NaN</td>\n",
       "      <td>NaN</td>\n",
       "      <td>NaN</td>\n",
       "    </tr>\n",
       "  </tbody>\n",
       "</table>\n",
       "<p>5 rows × 34 columns</p>\n",
       "</div>"
      ],
      "text/plain": [
       "   Unnamed: 0                           SMILES  \\\n",
       "0           0     C[N]1N=NC(=N1)N=NC2=CC=CC=C2   \n",
       "1           1     C[N]1C=NC(=N1)N=NC2=CC=CC=C2   \n",
       "2           2     C[N]1C=CC(=N1)N=NC2=CC=CC=C2   \n",
       "3           3  C[N]1C=C(C)C(=N1)N=NC2=CC=CC=C2   \n",
       "4           4     C[N]1C=C(C=N1)N=NC2=CC=CC=C2   \n",
       "\n",
       "   rate of thermal isomerisation from Z-E in s-1  \\\n",
       "0                                   2.100000e-07   \n",
       "1                                   3.800000e-07   \n",
       "2                                   1.100000e-07   \n",
       "3                                   1.500000e-06   \n",
       "4                                   7.600000e-09   \n",
       "\n",
       "  Solvent used for thermal isomerisation rates  Z PhotoStationaryState  \\\n",
       "0                                         MeCN                    76.0   \n",
       "1                                         MeCN                    90.0   \n",
       "2                                         MeCN                    98.0   \n",
       "3                                         MeCN                    96.0   \n",
       "4                                         MeCN                    98.0   \n",
       "\n",
       "   E PhotoStationaryState  E isomer pi-pi* wavelength in nm  Extinction  \\\n",
       "0                    72.0                             310.0        1.67   \n",
       "1                    84.0                             310.0        1.87   \n",
       "2                    97.0                             320.0        1.46   \n",
       "3                    87.0                             325.0        1.74   \n",
       "4                    70.0                             328.0        1.66   \n",
       "\n",
       "   E isomer n-pi* wavelength in nm  Extinction coefficient in M-1 cm-1  ...  \\\n",
       "0                            442.0                              0.0373  ...   \n",
       "1                            438.0                              0.0505  ...   \n",
       "2                            425.0                              0.0778  ...   \n",
       "3                            428.0                              0.0612  ...   \n",
       "4                            417.0                              0.0640  ...   \n",
       "\n",
       "   TPSSh/6-31G** DFT Z isomer pi-pi* wavelength in nm  \\\n",
       "0                                                NaN    \n",
       "1                                                NaN    \n",
       "2                                                NaN    \n",
       "3                                                NaN    \n",
       "4                                              295.0    \n",
       "\n",
       "   TPSSh/6-31G** DFT Z isomer n-pi* wavelength in nm  \\\n",
       "0                                                NaN   \n",
       "1                                                NaN   \n",
       "2                                                NaN   \n",
       "3                                                NaN   \n",
       "4                                              410.0   \n",
       "\n",
       "   CAM-B3LYP/6-31G** DFT E isomer pi-pi* wavelength in nm  \\\n",
       "0                                                NaN        \n",
       "1                                                NaN        \n",
       "2                                                NaN        \n",
       "3                                                NaN        \n",
       "4                                              305.0        \n",
       "\n",
       "   CAM-B3LYP/6-31G** DFT E isomer n-pi* wavelength in nm  \\\n",
       "0                                                NaN       \n",
       "1                                                NaN       \n",
       "2                                                NaN       \n",
       "3                                                NaN       \n",
       "4                                              427.0       \n",
       "\n",
       "   CAM-B3LYP/6-31G** DFT Z isomer pi-pi* wavelength in nm  \\\n",
       "0                                                NaN        \n",
       "1                                                NaN        \n",
       "2                                                NaN        \n",
       "3                                                NaN        \n",
       "4                                              256.0        \n",
       "\n",
       "  CAM-B3LYP/6-31G** DFT Z isomer n-pi* wavelength in nm  \\\n",
       "0                                                NaN      \n",
       "1                                                NaN      \n",
       "2                                                NaN      \n",
       "3                                                NaN      \n",
       "4                                              401.0      \n",
       "\n",
       "  BHLYP/6-31G* DFT E isomer pi-pi* wavelength in nm  \\\n",
       "0                                               NaN   \n",
       "1                                               NaN   \n",
       "2                                               NaN   \n",
       "3                                               NaN   \n",
       "4                                               NaN   \n",
       "\n",
       "  BHLYP/6-31G* DFT E isomer n-pi* wavelength in nm  \\\n",
       "0                                              NaN   \n",
       "1                                              NaN   \n",
       "2                                              NaN   \n",
       "3                                              NaN   \n",
       "4                                              NaN   \n",
       "\n",
       "   BHLYP/6-31G* Z isomer pi-pi* wavelength in nm  \\\n",
       "0                                            NaN   \n",
       "1                                            NaN   \n",
       "2                                            NaN   \n",
       "3                                            NaN   \n",
       "4                                            NaN   \n",
       "\n",
       "   BHLYP/6-31G* DFT Z isomer n-pi* wavelength in nm  \n",
       "0                                               NaN  \n",
       "1                                               NaN  \n",
       "2                                               NaN  \n",
       "3                                               NaN  \n",
       "4                                               NaN  \n",
       "\n",
       "[5 rows x 34 columns]"
      ]
     },
     "execution_count": 3,
     "metadata": {},
     "output_type": "execute_result"
    }
   ],
   "source": [
    "df.head()\n"
   ]
  },
  {
   "cell_type": "code",
   "execution_count": 4,
   "metadata": {},
   "outputs": [
    {
     "name": "stderr",
     "output_type": "stream",
     "text": [
      "/Users/kevinmaikjablonka/miniconda3/envs/gpt3/lib/python3.9/site-packages/seaborn/distributions.py:2619: FutureWarning: `distplot` is a deprecated function and will be removed in a future version. Please adapt your code to use either `displot` (a figure-level function with similar flexibility) or `histplot` (an axes-level function for histograms).\n",
      "  warnings.warn(msg, FutureWarning)\n"
     ]
    },
    {
     "data": {
      "text/plain": [
       "<AxesSubplot:xlabel='E isomer pi-pi* wavelength in nm', ylabel='Density'>"
      ]
     },
     "execution_count": 4,
     "metadata": {},
     "output_type": "execute_result"
    },
    {
     "data": {
      "image/png": "[encoded data removed]",
      "text/plain": [
       "<Figure size 237.6x180 with 1 Axes>"
      ]
     },
     "metadata": {
      "needs_background": "light"
     },
     "output_type": "display_data"
    }
   ],
   "source": [
    "sns.distplot(df[\"E isomer pi-pi* wavelength in nm\"], kde_kws={\"cut\": 0})\n"
   ]
  },
  {
   "cell_type": "markdown",
   "metadata": {},
   "source": [
    "Interesting distribution, spread is wider than I expected scrolling through the csv.\n"
   ]
  },
  {
   "cell_type": "code",
   "execution_count": 5,
   "metadata": {},
   "outputs": [
    {
     "name": "stdout",
     "output_type": "stream",
     "text": [
      "267.0 623.0\n"
     ]
    }
   ],
   "source": [
    "print(\n",
    "    df[\"E isomer pi-pi* wavelength in nm\"].min(),\n",
    "    df[\"E isomer pi-pi* wavelength in nm\"].max(),\n",
    ")\n"
   ]
  },
  {
   "cell_type": "code",
   "execution_count": 6,
   "metadata": {},
   "outputs": [
    {
     "data": {
      "text/plain": [
       "13"
      ]
     },
     "execution_count": 6,
     "metadata": {},
     "output_type": "execute_result"
    }
   ],
   "source": [
    "df[\"E isomer pi-pi* wavelength in nm\"].isna().sum()\n"
   ]
  },
  {
   "cell_type": "markdown",
   "metadata": {},
   "source": [
    "The minimum wavelength molecule\n"
   ]
  },
  {
   "cell_type": "code",
   "execution_count": 7,
   "metadata": {},
   "outputs": [
    {
     "data": {
      "image/png": "[encoded data removed]",
      "text/plain": [
       "<rdkit.Chem.rdchem.Mol at 0x28cef9460>"
      ]
     },
     "execution_count": 7,
     "metadata": {},
     "output_type": "execute_result"
    }
   ],
   "source": [
    "Chem.MolFromSmiles(df.iloc[df[\"E isomer pi-pi* wavelength in nm\"].argmin()][\"SMILES\"])\n"
   ]
  },
  {
   "cell_type": "markdown",
   "metadata": {},
   "source": [
    "Maximum wavelength molecule\n"
   ]
  },
  {
   "cell_type": "code",
   "execution_count": 8,
   "metadata": {},
   "outputs": [
    {
     "data": {
      "image/png": "[encoded data removed]",
      "text/plain": [
       "<rdkit.Chem.rdchem.Mol at 0x28c8b5640>"
      ]
     },
     "execution_count": 8,
     "metadata": {},
     "output_type": "execute_result"
    }
   ],
   "source": [
    "Chem.MolFromSmiles(df.iloc[df[\"E isomer pi-pi* wavelength in nm\"].argmax()][\"SMILES\"])\n"
   ]
  },
  {
   "cell_type": "markdown",
   "metadata": {},
   "source": [
    "Let's also get the SELFIES and then bin the wavelengths for a classification task.\n"
   ]
  },
  {
   "cell_type": "markdown",
   "metadata": {},
   "source": [
    "Let's also get chemical names\n"
   ]
  },
  {
   "cell_type": "code",
   "execution_count": 9,
   "metadata": {},
   "outputs": [],
   "source": [
    "CACTUS = \"https://cactus.nci.nih.gov/chemical/structure/{0}/{1}\"\n",
    "\n",
    "\n",
    "def smiles_to_iupac(smiles):\n",
    "    try:\n",
    "        time.sleep(0.1)\n",
    "        rep = \"iupac_name\"\n",
    "        url = CACTUS.format(smiles, rep)\n",
    "        response = requests.get(url)\n",
    "        response.raise_for_status()\n",
    "        name = response.text\n",
    "        if \"html\" in name:\n",
    "            return None\n",
    "        return name\n",
    "    except Exception:\n",
    "        return None\n"
   ]
  },
  {
   "cell_type": "code",
   "execution_count": 10,
   "metadata": {},
   "outputs": [
    {
     "data": {
      "text/plain": [
       "'Pentane'"
      ]
     },
     "execution_count": 10,
     "metadata": {},
     "output_type": "execute_result"
    }
   ],
   "source": [
    "smiles_to_iupac(\"CCCCC\")\n"
   ]
  },
  {
   "cell_type": "code",
   "execution_count": 11,
   "metadata": {},
   "outputs": [
    {
     "data": {
      "text/plain": [
       "'(3,5-dimethyl-1,2-oxazol-4-yl)-(2-methoxyphenyl)diazene'"
      ]
     },
     "execution_count": 11,
     "metadata": {},
     "output_type": "execute_result"
    }
   ],
   "source": [
    "smiles_to_iupac(df.iloc[100][\"SMILES\"])\n"
   ]
  },
  {
   "cell_type": "code",
   "execution_count": 12,
   "metadata": {},
   "outputs": [
    {
     "data": {
      "text/plain": [
       "'[C][C][=N][O][C][Branch1][C][C][=C][Ring1][=Branch1][/N][=N][/C][=C][Branch1][Ring1][O][C][C][=C][C][=C][Ring1][Branch2]'"
      ]
     },
     "execution_count": 12,
     "metadata": {},
     "output_type": "execute_result"
    }
   ],
   "source": [
    "sf.encoder(df.iloc[100][\"SMILES\"])\n"
   ]
  },
  {
   "cell_type": "code",
   "execution_count": 13,
   "metadata": {},
   "outputs": [],
   "source": [
    "selfies = [sf.encoder(smiles) for smiles in df[\"SMILES\"]]\n"
   ]
  },
  {
   "cell_type": "code",
   "execution_count": 14,
   "metadata": {},
   "outputs": [],
   "source": [
    "chemical_names = [smiles_to_iupac(smiles) for smiles in df[\"SMILES\"]]\n"
   ]
  },
  {
   "cell_type": "code",
   "execution_count": 30,
   "metadata": {},
   "outputs": [
    {
     "name": "stdout",
     "output_type": "stream",
     "text": [
      "Tensorflow version: 2.9.2\n",
      "Downloading trained model to /Users/kevinmaikjablonka/.data/STOUT-V2/models\n",
      "/Users/kevinmaikjablonka/.data/STOUT-V2/models.zip\n",
      "... done downloading trained model!\n",
      "Archive:  /Users/kevinmaikjablonka/.data/STOUT-V2/models.zip\n",
      "   creating: /Users/kevinmaikjablonka/.data/STOUT-V2/models/translator_reverse/\n",
      "   creating: /Users/kevinmaikjablonka/.data/STOUT-V2/models/translator_reverse/variables/\n",
      "  inflating: /Users/kevinmaikjablonka/.data/STOUT-V2/models/translator_reverse/variables/variables.data-00000-of-00001  \n",
      "  inflating: /Users/kevinmaikjablonka/.data/STOUT-V2/models/translator_reverse/variables/variables.index  \n",
      "  inflating: /Users/kevinmaikjablonka/.data/STOUT-V2/models/translator_reverse/saved_model.pb  \n",
      "   creating: /Users/kevinmaikjablonka/.data/STOUT-V2/models/translator_reverse/assets/\n",
      "   creating: /Users/kevinmaikjablonka/.data/STOUT-V2/models/assets/\n",
      "  inflating: /Users/kevinmaikjablonka/.data/STOUT-V2/models/assets/max_length_targ.pkl  \n",
      "  inflating: /Users/kevinmaikjablonka/.data/STOUT-V2/models/assets/tokenizer_input.pkl  \n",
      "  inflating: /Users/kevinmaikjablonka/.data/STOUT-V2/models/assets/max_length_inp.pkl  \n",
      "  inflating: /Users/kevinmaikjablonka/.data/STOUT-V2/models/assets/tokenizer_target.pkl  \n",
      "   creating: /Users/kevinmaikjablonka/.data/STOUT-V2/models/translator_forward/\n",
      "   creating: /Users/kevinmaikjablonka/.data/STOUT-V2/models/translator_forward/variables/\n",
      "  inflating: /Users/kevinmaikjablonka/.data/STOUT-V2/models/translator_forward/variables/variables.data-00000-of-00001  \n",
      "  inflating: /Users/kevinmaikjablonka/.data/STOUT-V2/models/translator_forward/variables/variables.index  \n",
      "  inflating: /Users/kevinmaikjablonka/.data/STOUT-V2/models/translator_forward/saved_model.pb  \n",
      "   creating: /Users/kevinmaikjablonka/.data/STOUT-V2/models/translator_forward/assets/\n"
     ]
    }
   ],
   "source": [
    "from STOUT import translate_forward, translate_reverse"
   ]
  },
  {
   "cell_type": "code",
   "execution_count": 39,
   "metadata": {},
   "outputs": [
    {
     "data": {
      "text/plain": [
       "'(E)-(1-fluorocyclohexa-2,4-dien-1-ylidene)-(2-fluorophenyl)diazene'"
      ]
     },
     "execution_count": 39,
     "metadata": {},
     "output_type": "execute_result"
    }
   ],
   "source": [
    "translate_forward(df[\"SMILES\"].iloc[30])"
   ]
  },
  {
   "cell_type": "code",
   "execution_count": 35,
   "metadata": {},
   "outputs": [
    {
     "data": {
      "text/html": [
       "<div>\n",
       "<style scoped>\n",
       "    .dataframe tbody tr th:only-of-type {\n",
       "        vertical-align: middle;\n",
       "    }\n",
       "\n",
       "    .dataframe tbody tr th {\n",
       "        vertical-align: top;\n",
       "    }\n",
       "\n",
       "    .dataframe thead th {\n",
       "        text-align: right;\n",
       "    }\n",
       "</style>\n",
       "<table border=\"1\" class=\"dataframe\">\n",
       "  <thead>\n",
       "    <tr style=\"text-align: right;\">\n",
       "      <th></th>\n",
       "      <th>Unnamed: 0</th>\n",
       "      <th>SMILES</th>\n",
       "      <th>rate of thermal isomerisation from Z-E in s-1</th>\n",
       "      <th>Solvent used for thermal isomerisation rates</th>\n",
       "      <th>Z PhotoStationaryState</th>\n",
       "      <th>E PhotoStationaryState</th>\n",
       "      <th>E isomer pi-pi* wavelength in nm</th>\n",
       "      <th>Extinction</th>\n",
       "      <th>E isomer n-pi* wavelength in nm</th>\n",
       "      <th>Extinction coefficient in M-1 cm-1</th>\n",
       "      <th>...</th>\n",
       "      <th>TPSSh/6-31G** DFT Z isomer n-pi* wavelength in nm</th>\n",
       "      <th>CAM-B3LYP/6-31G** DFT E isomer pi-pi* wavelength in nm</th>\n",
       "      <th>CAM-B3LYP/6-31G** DFT E isomer n-pi* wavelength in nm</th>\n",
       "      <th>CAM-B3LYP/6-31G** DFT Z isomer pi-pi* wavelength in nm</th>\n",
       "      <th>CAM-B3LYP/6-31G** DFT Z isomer n-pi* wavelength in nm</th>\n",
       "      <th>BHLYP/6-31G* DFT E isomer pi-pi* wavelength in nm</th>\n",
       "      <th>BHLYP/6-31G* DFT E isomer n-pi* wavelength in nm</th>\n",
       "      <th>BHLYP/6-31G* Z isomer pi-pi* wavelength in nm</th>\n",
       "      <th>BHLYP/6-31G* DFT Z isomer n-pi* wavelength in nm</th>\n",
       "      <th>name</th>\n",
       "    </tr>\n",
       "  </thead>\n",
       "  <tbody>\n",
       "    <tr>\n",
       "      <th>5</th>\n",
       "      <td>5</td>\n",
       "      <td>C[N]1N=C(C)C(=C1C)N=NC2=CC=CC=C2</td>\n",
       "      <td>7.700000e-07</td>\n",
       "      <td>MeCN</td>\n",
       "      <td>98.0</td>\n",
       "      <td>98.0</td>\n",
       "      <td>335.0</td>\n",
       "      <td>2.27</td>\n",
       "      <td>425.0</td>\n",
       "      <td>0.0963</td>\n",
       "      <td>...</td>\n",
       "      <td>462.0</td>\n",
       "      <td>314.0</td>\n",
       "      <td>422.0</td>\n",
       "      <td>279.0</td>\n",
       "      <td>449.0</td>\n",
       "      <td>NaN</td>\n",
       "      <td>NaN</td>\n",
       "      <td>NaN</td>\n",
       "      <td>NaN</td>\n",
       "      <td>phenyl-(1,3,5-trimethylpyrazol-4-yl)diazene</td>\n",
       "    </tr>\n",
       "    <tr>\n",
       "      <th>12</th>\n",
       "      <td>12</td>\n",
       "      <td>CN1C(/N=N/C2=CC=CC=C2)=NC=C1</td>\n",
       "      <td>2.200000e-05</td>\n",
       "      <td>MeCN</td>\n",
       "      <td>98.0</td>\n",
       "      <td>NaN</td>\n",
       "      <td>363.0</td>\n",
       "      <td>1.70</td>\n",
       "      <td>417.0</td>\n",
       "      <td>0.1260</td>\n",
       "      <td>...</td>\n",
       "      <td>NaN</td>\n",
       "      <td>NaN</td>\n",
       "      <td>NaN</td>\n",
       "      <td>NaN</td>\n",
       "      <td>NaN</td>\n",
       "      <td>NaN</td>\n",
       "      <td>NaN</td>\n",
       "      <td>NaN</td>\n",
       "      <td>NaN</td>\n",
       "      <td>(1-methylimidazol-2-yl)-phenyldiazene</td>\n",
       "    </tr>\n",
       "    <tr>\n",
       "      <th>30</th>\n",
       "      <td>30</td>\n",
       "      <td>FC1=CC=CC=C1/N=N/C2=C(F)C=CC=C2</td>\n",
       "      <td>1.750370e-05</td>\n",
       "      <td>MeCN at 60C</td>\n",
       "      <td>66.0</td>\n",
       "      <td>82.0</td>\n",
       "      <td>325.0</td>\n",
       "      <td>20000.00</td>\n",
       "      <td>448.0</td>\n",
       "      <td>700.0000</td>\n",
       "      <td>...</td>\n",
       "      <td>NaN</td>\n",
       "      <td>346.0</td>\n",
       "      <td>500.0</td>\n",
       "      <td>322.0</td>\n",
       "      <td>466.0</td>\n",
       "      <td>NaN</td>\n",
       "      <td>NaN</td>\n",
       "      <td>NaN</td>\n",
       "      <td>NaN</td>\n",
       "      <td>bis(2-fluorophenyl)diazene</td>\n",
       "    </tr>\n",
       "    <tr>\n",
       "      <th>33</th>\n",
       "      <td>33</td>\n",
       "      <td>FC1=CC(F)=CC(F)=C1/N=N/C(C(F)=C2)=C(F)C=C2F</td>\n",
       "      <td>9.600000e-06</td>\n",
       "      <td>MeCN at 60C</td>\n",
       "      <td>94.0</td>\n",
       "      <td>91.0</td>\n",
       "      <td>309.0</td>\n",
       "      <td>20000.00</td>\n",
       "      <td>450.0</td>\n",
       "      <td>900.0000</td>\n",
       "      <td>...</td>\n",
       "      <td>NaN</td>\n",
       "      <td>342.0</td>\n",
       "      <td>510.0</td>\n",
       "      <td>310.0</td>\n",
       "      <td>453.0</td>\n",
       "      <td>NaN</td>\n",
       "      <td>NaN</td>\n",
       "      <td>NaN</td>\n",
       "      <td>NaN</td>\n",
       "      <td>bis(2,4,6-trifluorophenyl)diazene</td>\n",
       "    </tr>\n",
       "    <tr>\n",
       "      <th>34</th>\n",
       "      <td>34</td>\n",
       "      <td>FC1=C(F)C=C(F)C(F)=C1/N=N/C2=C(F)C(F)=CC(F)=C2F</td>\n",
       "      <td>7.131140e-06</td>\n",
       "      <td>MeCN at 60C</td>\n",
       "      <td>92.0</td>\n",
       "      <td>92.0</td>\n",
       "      <td>303.0</td>\n",
       "      <td>16000.00</td>\n",
       "      <td>456.0</td>\n",
       "      <td>700.0000</td>\n",
       "      <td>...</td>\n",
       "      <td>NaN</td>\n",
       "      <td>338.0</td>\n",
       "      <td>531.0</td>\n",
       "      <td>363.0</td>\n",
       "      <td>439.0</td>\n",
       "      <td>NaN</td>\n",
       "      <td>NaN</td>\n",
       "      <td>NaN</td>\n",
       "      <td>NaN</td>\n",
       "      <td>bis(2,3,5,6-tetrafluorophenyl)diazene</td>\n",
       "    </tr>\n",
       "    <tr>\n",
       "      <th>...</th>\n",
       "      <td>...</td>\n",
       "      <td>...</td>\n",
       "      <td>...</td>\n",
       "      <td>...</td>\n",
       "      <td>...</td>\n",
       "      <td>...</td>\n",
       "      <td>...</td>\n",
       "      <td>...</td>\n",
       "      <td>...</td>\n",
       "      <td>...</td>\n",
       "      <td>...</td>\n",
       "      <td>...</td>\n",
       "      <td>...</td>\n",
       "      <td>...</td>\n",
       "      <td>...</td>\n",
       "      <td>...</td>\n",
       "      <td>...</td>\n",
       "      <td>...</td>\n",
       "      <td>...</td>\n",
       "      <td>...</td>\n",
       "      <td>...</td>\n",
       "    </tr>\n",
       "    <tr>\n",
       "      <th>311</th>\n",
       "      <td>311</td>\n",
       "      <td>[H]N(CC)C(C=C3)=CC=C3/N=N/C4=CC=C([N+]([O-])=O...</td>\n",
       "      <td>NaN</td>\n",
       "      <td>NaN</td>\n",
       "      <td>NaN</td>\n",
       "      <td>NaN</td>\n",
       "      <td>468.0</td>\n",
       "      <td>NaN</td>\n",
       "      <td>NaN</td>\n",
       "      <td>NaN</td>\n",
       "      <td>...</td>\n",
       "      <td>NaN</td>\n",
       "      <td>NaN</td>\n",
       "      <td>NaN</td>\n",
       "      <td>NaN</td>\n",
       "      <td>NaN</td>\n",
       "      <td>NaN</td>\n",
       "      <td>NaN</td>\n",
       "      <td>NaN</td>\n",
       "      <td>NaN</td>\n",
       "      <td>N-ethyl-4-(4-nitrophenyl)diazenylaniline</td>\n",
       "    </tr>\n",
       "    <tr>\n",
       "      <th>312</th>\n",
       "      <td>312</td>\n",
       "      <td>[H]N(CCO)C(C=C5)=CC=C5/N=N/C6=CC=C([N+]([O-])=...</td>\n",
       "      <td>NaN</td>\n",
       "      <td>NaN</td>\n",
       "      <td>NaN</td>\n",
       "      <td>NaN</td>\n",
       "      <td>463.0</td>\n",
       "      <td>NaN</td>\n",
       "      <td>NaN</td>\n",
       "      <td>NaN</td>\n",
       "      <td>...</td>\n",
       "      <td>NaN</td>\n",
       "      <td>NaN</td>\n",
       "      <td>NaN</td>\n",
       "      <td>NaN</td>\n",
       "      <td>NaN</td>\n",
       "      <td>NaN</td>\n",
       "      <td>NaN</td>\n",
       "      <td>NaN</td>\n",
       "      <td>NaN</td>\n",
       "      <td>2-[[4-(4-nitrophenyl)diazenylphenyl]amino]ethanol</td>\n",
       "    </tr>\n",
       "    <tr>\n",
       "      <th>354</th>\n",
       "      <td>354</td>\n",
       "      <td>C12=CC=CC=C1N=C(/N=N/C3=NC4=CC=CC=C4S3)S2</td>\n",
       "      <td>NaN</td>\n",
       "      <td>NaN</td>\n",
       "      <td>NaN</td>\n",
       "      <td>NaN</td>\n",
       "      <td>421.0</td>\n",
       "      <td>NaN</td>\n",
       "      <td>NaN</td>\n",
       "      <td>NaN</td>\n",
       "      <td>...</td>\n",
       "      <td>NaN</td>\n",
       "      <td>NaN</td>\n",
       "      <td>NaN</td>\n",
       "      <td>NaN</td>\n",
       "      <td>NaN</td>\n",
       "      <td>NaN</td>\n",
       "      <td>NaN</td>\n",
       "      <td>NaN</td>\n",
       "      <td>NaN</td>\n",
       "      <td>(E)-bis(1,3-benzothiazol-2-yl)diazene</td>\n",
       "    </tr>\n",
       "    <tr>\n",
       "      <th>355</th>\n",
       "      <td>355</td>\n",
       "      <td>[H]C1=CC=C(N=C(N=NC2=CC=CC=C2)S3)C3=C1</td>\n",
       "      <td>NaN</td>\n",
       "      <td>NaN</td>\n",
       "      <td>NaN</td>\n",
       "      <td>NaN</td>\n",
       "      <td>328.0</td>\n",
       "      <td>NaN</td>\n",
       "      <td>NaN</td>\n",
       "      <td>NaN</td>\n",
       "      <td>...</td>\n",
       "      <td>NaN</td>\n",
       "      <td>NaN</td>\n",
       "      <td>NaN</td>\n",
       "      <td>NaN</td>\n",
       "      <td>NaN</td>\n",
       "      <td>NaN</td>\n",
       "      <td>NaN</td>\n",
       "      <td>NaN</td>\n",
       "      <td>NaN</td>\n",
       "      <td>1,3-benzothiazol-2-yl-phenyldiazene</td>\n",
       "    </tr>\n",
       "    <tr>\n",
       "      <th>364</th>\n",
       "      <td>364</td>\n",
       "      <td>O=[N+]([O-])C1=CC=C(N=C(N=NC2=CC=CC=C2)S3)C3=C1</td>\n",
       "      <td>NaN</td>\n",
       "      <td>NaN</td>\n",
       "      <td>NaN</td>\n",
       "      <td>NaN</td>\n",
       "      <td>340.0</td>\n",
       "      <td>NaN</td>\n",
       "      <td>NaN</td>\n",
       "      <td>NaN</td>\n",
       "      <td>...</td>\n",
       "      <td>NaN</td>\n",
       "      <td>NaN</td>\n",
       "      <td>NaN</td>\n",
       "      <td>NaN</td>\n",
       "      <td>NaN</td>\n",
       "      <td>NaN</td>\n",
       "      <td>NaN</td>\n",
       "      <td>NaN</td>\n",
       "      <td>NaN</td>\n",
       "      <td>(6-nitro-1,3-benzothiazol-2-yl)-phenyldiazene</td>\n",
       "    </tr>\n",
       "  </tbody>\n",
       "</table>\n",
       "<p>89 rows × 35 columns</p>\n",
       "</div>"
      ],
      "text/plain": [
       "     Unnamed: 0                                             SMILES  \\\n",
       "5             5                   C[N]1N=C(C)C(=C1C)N=NC2=CC=CC=C2   \n",
       "12           12                       CN1C(/N=N/C2=CC=CC=C2)=NC=C1   \n",
       "30           30                    FC1=CC=CC=C1/N=N/C2=C(F)C=CC=C2   \n",
       "33           33        FC1=CC(F)=CC(F)=C1/N=N/C(C(F)=C2)=C(F)C=C2F   \n",
       "34           34    FC1=C(F)C=C(F)C(F)=C1/N=N/C2=C(F)C(F)=CC(F)=C2F   \n",
       "..          ...                                                ...   \n",
       "311         311  [H]N(CC)C(C=C3)=CC=C3/N=N/C4=CC=C([N+]([O-])=O...   \n",
       "312         312  [H]N(CCO)C(C=C5)=CC=C5/N=N/C6=CC=C([N+]([O-])=...   \n",
       "354         354          C12=CC=CC=C1N=C(/N=N/C3=NC4=CC=CC=C4S3)S2   \n",
       "355         355             [H]C1=CC=C(N=C(N=NC2=CC=CC=C2)S3)C3=C1   \n",
       "364         364    O=[N+]([O-])C1=CC=C(N=C(N=NC2=CC=CC=C2)S3)C3=C1   \n",
       "\n",
       "     rate of thermal isomerisation from Z-E in s-1  \\\n",
       "5                                     7.700000e-07   \n",
       "12                                    2.200000e-05   \n",
       "30                                    1.750370e-05   \n",
       "33                                    9.600000e-06   \n",
       "34                                    7.131140e-06   \n",
       "..                                             ...   \n",
       "311                                            NaN   \n",
       "312                                            NaN   \n",
       "354                                            NaN   \n",
       "355                                            NaN   \n",
       "364                                            NaN   \n",
       "\n",
       "    Solvent used for thermal isomerisation rates  Z PhotoStationaryState  \\\n",
       "5                                           MeCN                    98.0   \n",
       "12                                          MeCN                    98.0   \n",
       "30                                   MeCN at 60C                    66.0   \n",
       "33                                   MeCN at 60C                    94.0   \n",
       "34                                   MeCN at 60C                    92.0   \n",
       "..                                           ...                     ...   \n",
       "311                                          NaN                     NaN   \n",
       "312                                          NaN                     NaN   \n",
       "354                                          NaN                     NaN   \n",
       "355                                          NaN                     NaN   \n",
       "364                                          NaN                     NaN   \n",
       "\n",
       "     E PhotoStationaryState  E isomer pi-pi* wavelength in nm  Extinction  \\\n",
       "5                      98.0                             335.0        2.27   \n",
       "12                      NaN                             363.0        1.70   \n",
       "30                     82.0                             325.0    20000.00   \n",
       "33                     91.0                             309.0    20000.00   \n",
       "34                     92.0                             303.0    16000.00   \n",
       "..                      ...                               ...         ...   \n",
       "311                     NaN                             468.0         NaN   \n",
       "312                     NaN                             463.0         NaN   \n",
       "354                     NaN                             421.0         NaN   \n",
       "355                     NaN                             328.0         NaN   \n",
       "364                     NaN                             340.0         NaN   \n",
       "\n",
       "     E isomer n-pi* wavelength in nm  Extinction coefficient in M-1 cm-1  ...  \\\n",
       "5                              425.0                              0.0963  ...   \n",
       "12                             417.0                              0.1260  ...   \n",
       "30                             448.0                            700.0000  ...   \n",
       "33                             450.0                            900.0000  ...   \n",
       "34                             456.0                            700.0000  ...   \n",
       "..                               ...                                 ...  ...   \n",
       "311                              NaN                                 NaN  ...   \n",
       "312                              NaN                                 NaN  ...   \n",
       "354                              NaN                                 NaN  ...   \n",
       "355                              NaN                                 NaN  ...   \n",
       "364                              NaN                                 NaN  ...   \n",
       "\n",
       "     TPSSh/6-31G** DFT Z isomer n-pi* wavelength in nm  \\\n",
       "5                                                462.0   \n",
       "12                                                 NaN   \n",
       "30                                                 NaN   \n",
       "33                                                 NaN   \n",
       "34                                                 NaN   \n",
       "..                                                 ...   \n",
       "311                                                NaN   \n",
       "312                                                NaN   \n",
       "354                                                NaN   \n",
       "355                                                NaN   \n",
       "364                                                NaN   \n",
       "\n",
       "     CAM-B3LYP/6-31G** DFT E isomer pi-pi* wavelength in nm  \\\n",
       "5                                                314.0        \n",
       "12                                                 NaN        \n",
       "30                                               346.0        \n",
       "33                                               342.0        \n",
       "34                                               338.0        \n",
       "..                                                 ...        \n",
       "311                                                NaN        \n",
       "312                                                NaN        \n",
       "354                                                NaN        \n",
       "355                                                NaN        \n",
       "364                                                NaN        \n",
       "\n",
       "     CAM-B3LYP/6-31G** DFT E isomer n-pi* wavelength in nm  \\\n",
       "5                                                422.0       \n",
       "12                                                 NaN       \n",
       "30                                               500.0       \n",
       "33                                               510.0       \n",
       "34                                               531.0       \n",
       "..                                                 ...       \n",
       "311                                                NaN       \n",
       "312                                                NaN       \n",
       "354                                                NaN       \n",
       "355                                                NaN       \n",
       "364                                                NaN       \n",
       "\n",
       "     CAM-B3LYP/6-31G** DFT Z isomer pi-pi* wavelength in nm  \\\n",
       "5                                                279.0        \n",
       "12                                                 NaN        \n",
       "30                                               322.0        \n",
       "33                                               310.0        \n",
       "34                                               363.0        \n",
       "..                                                 ...        \n",
       "311                                                NaN        \n",
       "312                                                NaN        \n",
       "354                                                NaN        \n",
       "355                                                NaN        \n",
       "364                                                NaN        \n",
       "\n",
       "     CAM-B3LYP/6-31G** DFT Z isomer n-pi* wavelength in nm  \\\n",
       "5                                                449.0       \n",
       "12                                                 NaN       \n",
       "30                                               466.0       \n",
       "33                                               453.0       \n",
       "34                                               439.0       \n",
       "..                                                 ...       \n",
       "311                                                NaN       \n",
       "312                                                NaN       \n",
       "354                                                NaN       \n",
       "355                                                NaN       \n",
       "364                                                NaN       \n",
       "\n",
       "    BHLYP/6-31G* DFT E isomer pi-pi* wavelength in nm  \\\n",
       "5                                                 NaN   \n",
       "12                                                NaN   \n",
       "30                                                NaN   \n",
       "33                                                NaN   \n",
       "34                                                NaN   \n",
       "..                                                ...   \n",
       "311                                               NaN   \n",
       "312                                               NaN   \n",
       "354                                               NaN   \n",
       "355                                               NaN   \n",
       "364                                               NaN   \n",
       "\n",
       "    BHLYP/6-31G* DFT E isomer n-pi* wavelength in nm  \\\n",
       "5                                                NaN   \n",
       "12                                               NaN   \n",
       "30                                               NaN   \n",
       "33                                               NaN   \n",
       "34                                               NaN   \n",
       "..                                               ...   \n",
       "311                                              NaN   \n",
       "312                                              NaN   \n",
       "354                                              NaN   \n",
       "355                                              NaN   \n",
       "364                                              NaN   \n",
       "\n",
       "    BHLYP/6-31G* Z isomer pi-pi* wavelength in nm  \\\n",
       "5                                             NaN   \n",
       "12                                            NaN   \n",
       "30                                            NaN   \n",
       "33                                            NaN   \n",
       "34                                            NaN   \n",
       "..                                            ...   \n",
       "311                                           NaN   \n",
       "312                                           NaN   \n",
       "354                                           NaN   \n",
       "355                                           NaN   \n",
       "364                                           NaN   \n",
       "\n",
       "     BHLYP/6-31G* DFT Z isomer n-pi* wavelength in nm  \\\n",
       "5                                                 NaN   \n",
       "12                                                NaN   \n",
       "30                                                NaN   \n",
       "33                                                NaN   \n",
       "34                                                NaN   \n",
       "..                                                ...   \n",
       "311                                               NaN   \n",
       "312                                               NaN   \n",
       "354                                               NaN   \n",
       "355                                               NaN   \n",
       "364                                               NaN   \n",
       "\n",
       "                                                  name  \n",
       "5          phenyl-(1,3,5-trimethylpyrazol-4-yl)diazene  \n",
       "12               (1-methylimidazol-2-yl)-phenyldiazene  \n",
       "30                          bis(2-fluorophenyl)diazene  \n",
       "33                   bis(2,4,6-trifluorophenyl)diazene  \n",
       "34               bis(2,3,5,6-tetrafluorophenyl)diazene  \n",
       "..                                                 ...  \n",
       "311           N-ethyl-4-(4-nitrophenyl)diazenylaniline  \n",
       "312  2-[[4-(4-nitrophenyl)diazenylphenyl]amino]ethanol  \n",
       "354              (E)-bis(1,3-benzothiazol-2-yl)diazene  \n",
       "355                1,3-benzothiazol-2-yl-phenyldiazene  \n",
       "364      (6-nitro-1,3-benzothiazol-2-yl)-phenyldiazene  \n",
       "\n",
       "[89 rows x 35 columns]"
      ]
     },
     "execution_count": 35,
     "metadata": {},
     "output_type": "execute_result"
    }
   ],
   "source": [
    "df[~df['name'].isna()]"
   ]
  },
  {
   "cell_type": "code",
   "execution_count": 15,
   "metadata": {},
   "outputs": [
    {
     "data": {
      "text/plain": [
       "405"
      ]
     },
     "execution_count": 15,
     "metadata": {},
     "output_type": "execute_result"
    }
   ],
   "source": [
    "len(df[\"SMILES\"])\n"
   ]
  },
  {
   "cell_type": "code",
   "execution_count": 33,
   "metadata": {},
   "outputs": [],
   "source": [
    "df[\"name\"] = chemical_names\n"
   ]
  },
  {
   "cell_type": "code",
   "execution_count": 17,
   "metadata": {},
   "outputs": [
    {
     "data": {
      "text/plain": [
       "316"
      ]
     },
     "execution_count": 17,
     "metadata": {},
     "output_type": "execute_result"
    }
   ],
   "source": [
    "df[\"name\"].isna().sum()\n"
   ]
  },
  {
   "cell_type": "code",
   "execution_count": 18,
   "metadata": {},
   "outputs": [],
   "source": [
    "df[\"selfies\"] = selfies\n"
   ]
  },
  {
   "cell_type": "markdown",
   "metadata": {},
   "source": [
    "Now also compute the \"fragprints\" (using the [original code](https://github.com/Ryan-Rhys/The-Photoswitch-Dataset/blob/master/property_prediction/data_utils.py))\n"
   ]
  },
  {
   "cell_type": "code",
   "execution_count": 19,
   "metadata": {},
   "outputs": [],
   "source": [
    "df_w_smiles = df.dropna(subset=[\"SMILES\"])\n"
   ]
  },
  {
   "cell_type": "code",
   "execution_count": 20,
   "metadata": {},
   "outputs": [],
   "source": [
    "smiles_list = df_w_smiles[\"SMILES\"]\n"
   ]
  },
  {
   "cell_type": "code",
   "execution_count": 21,
   "metadata": {},
   "outputs": [],
   "source": [
    "rdkit_mols = [MolFromSmiles(smiles) for smiles in smiles_list]\n",
    "rdkit_smiles = [MolToSmiles(mol, isomericSmiles=False) for mol in rdkit_mols]\n",
    "rdkit_mols = [MolFromSmiles(smiles) for smiles in rdkit_smiles]\n",
    "X = [AllChem.GetMorganFingerprintAsBitVect(mol, 3, nBits=2048) for mol in rdkit_mols]\n",
    "X = np.asarray(X)\n",
    "\n",
    "fragments = {d[0]: d[1] for d in Descriptors.descList[115:]}\n",
    "X1 = np.zeros((len(smiles_list), len(fragments)))\n",
    "for i in range(len(smiles_list)):\n",
    "    mol = MolFromSmiles(smiles_list[i])\n",
    "    try:\n",
    "        features = [fragments[d](mol) for d in fragments]\n",
    "    except:\n",
    "        raise Exception(\"molecule {}\".format(i) + \" is not canonicalised\")\n",
    "    X1[i, :] = features\n",
    "\n",
    "X = np.concatenate((X, X1), axis=1)\n"
   ]
  },
  {
   "cell_type": "code",
   "execution_count": 22,
   "metadata": {},
   "outputs": [
    {
     "data": {
      "text/plain": [
       "<matplotlib.image.AxesImage at 0x17248ceb0>"
      ]
     },
     "execution_count": 22,
     "metadata": {},
     "output_type": "execute_result"
    },
    {
     "data": {
      "image/png": "[encoded data removed]",
      "text/plain": [
       "<Figure size 237.6x180 with 1 Axes>"
      ]
     },
     "metadata": {
      "needs_background": "light"
     },
     "output_type": "display_data"
    }
   ],
   "source": [
    "plt.imshow(np.log(X + 1e-8), cmap=\"RdBu_r\")\n"
   ]
  },
  {
   "cell_type": "code",
   "execution_count": 23,
   "metadata": {},
   "outputs": [],
   "source": [
    "fragprint_features = dict(zip(smiles_list, X))\n"
   ]
  },
  {
   "cell_type": "code",
   "execution_count": 24,
   "metadata": {},
   "outputs": [],
   "source": [
    "save_pickle(\"../data/fragprint_features.pkl\", fragprint_features)\n"
   ]
  },
  {
   "cell_type": "code",
   "execution_count": 25,
   "metadata": {},
   "outputs": [],
   "source": [
    "df_w_smiles = df_w_smiles.drop(columns=[\"Unnamed: 0\"])\n"
   ]
  },
  {
   "cell_type": "code",
   "execution_count": 26,
   "metadata": {},
   "outputs": [],
   "source": [
    "df_w_smiles[\"wavelength_cat\"] = pd.cut(\n",
    "    df_w_smiles[\"E isomer pi-pi* wavelength in nm\"],\n",
    "    5,\n",
    "    labels=[\"very small\", \"small\", \"medium\", \"large\", \"very large\"],\n",
    ")\n"
   ]
  },
  {
   "cell_type": "code",
   "execution_count": null,
   "metadata": {},
   "outputs": [],
   "source": []
  },
  {
   "cell_type": "code",
   "execution_count": 27,
   "metadata": {},
   "outputs": [],
   "source": [
    "df_w_smiles.to_csv(\"../data/photoswitches.csv\", index=False)\n"
   ]
  },
  {
   "cell_type": "code",
   "execution_count": null,
   "metadata": {},
   "outputs": [],
   "source": []
  }
 ],
 "metadata": {
  "kernelspec": {
   "display_name": "Python 3.9.13 ('gpt3')",
   "language": "python",
   "name": "python3"
  },
  "language_info": {
   "codemirror_mode": {
    "name": "ipython",
    "version": 3
   },
   "file_extension": ".py",
   "mimetype": "text/x-python",
   "name": "python",
   "nbconvert_exporter": "python",
   "pygments_lexer": "ipython3",
   "version": "3.9.13"
  },
  "orig_nbformat": 4,
  "vscode": {
   "interpreter": {
    "hash": "9a4fa60962de90e73b5da8d67a44b01d2de04630d82b94b8db1f727a73d31e61"
   }
  }
 },
 "nbformat": 4,
 "nbformat_minor": 2
}
