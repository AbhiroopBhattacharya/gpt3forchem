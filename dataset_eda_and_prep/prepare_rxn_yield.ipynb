{
 "cells": [
  {
   "cell_type": "code",
   "execution_count": 112,
   "metadata": {},
   "outputs": [],
   "source": [
    "import xmltodict\n",
    "from glob import glob\n",
    "from tqdm import tqdm\n",
    "from fastcore.xtras import save_pickle\n",
    "import pandas as pd "
   ]
  },
  {
   "cell_type": "code",
   "execution_count": 27,
   "metadata": {},
   "outputs": [],
   "source": [
    "example_xml = '/Users/kevinmaikjablonka/Downloads/5104873/applications/2016/I20160728.xml'"
   ]
  },
  {
   "cell_type": "code",
   "execution_count": 28,
   "metadata": {},
   "outputs": [],
   "source": [
    "with open(example_xml, 'r') as f:\n",
    "    xml_dict = xmltodict.parse(f.read())"
   ]
  },
  {
   "cell_type": "code",
   "execution_count": 43,
   "metadata": {},
   "outputs": [],
   "source": [
    "def has_product_yield(x):\n",
    "    try:\n",
    "        return any([y['amount']['@dl:propertyType']=='PERCENTYIELD' for y in x['productList']['product']])\n",
    "    except KeyError:\n",
    "        return False\n",
    "    except:\n",
    "        return False\n",
    "\n",
    "def has_product_amount(x):\n",
    "    try:\n",
    "        return any([y['amount']['@dl:propertyType']=='MASS' for y in x['productList']['product']])\n",
    "    except KeyError:\n",
    "        return False\n",
    "    except:\n",
    "        return False\n",
    "\n",
    "def has_two_elements_in_product_list(x):\n",
    "    try:\n",
    "        return len(x['productList']['product'])==2\n",
    "    except KeyError:\n",
    "        return False\n",
    "    except:\n",
    "        return False"
   ]
  },
  {
   "cell_type": "code",
   "execution_count": 30,
   "metadata": {},
   "outputs": [],
   "source": [
    "def get_reaction_list(xml_dict):\n",
    "    return xml_dict['reactionList']['reaction']"
   ]
  },
  {
   "cell_type": "code",
   "execution_count": 44,
   "metadata": {},
   "outputs": [],
   "source": [
    "reactions_with_yield = [x for x in get_reaction_list(xml_dict) if has_product_yield(x) and has_product_amount(x) and has_two_elements_in_product_list(x)]"
   ]
  },
  {
   "cell_type": "code",
   "execution_count": 45,
   "metadata": {},
   "outputs": [
    {
     "data": {
      "text/plain": [
       "15"
      ]
     },
     "execution_count": 45,
     "metadata": {},
     "output_type": "execute_result"
    }
   ],
   "source": [
    "len(reactions_with_yield)"
   ]
  },
  {
   "cell_type": "code",
   "execution_count": 46,
   "metadata": {},
   "outputs": [
    {
     "data": {
      "text/plain": [
       "{'dl:source': {'dl:documentId': 'US20160213657A1',\n",
       "  'dl:headingText': '1-(f): tert-Butyl (tert-butoxycarbonyl {6-[(pyridin-2-ylsulfonyl)aminomethyl]pyridin-2-yl}amino)acetate',\n",
       "  'dl:paragraphNum': '0217',\n",
       "  'dl:paragraphText': '12 mL solution of methylene chloride containing 1.20 g (3.56 mmol) of the tert-butyl [(6-aminomethylpyridin-2-yl)tert-butoxycarbonylamino]acetate obtained in Reference Example 1-(e) and 2.24 mL (16.2 mmol) of triethylamine were added to 14 mL solution of methylene chloride containing 0.640 g (3.60 mmol) of 2-pyridylsulfonyl chloride followed by stirring for 0.5 hours at room temperature. After completion of the reaction, a 5% by weight aqueous potassium hydrogen sulfate solution was added to the reaction solution followed by extracting with methylene chloride. The organic layer was sequentially washed with saturated aqueous sodium bicarbonate solution and saturated aqueous sodium chloride solution, dried with anhydrous magnesium sulfate, and then concentrated under reduced pressure. The residue was subjected to silica gel column chromatography (elution solvent: n-hexane:ethyl acetate=1:1 (V/V)) and the fractions containing the target product were concentrated under reduced pressure to obtain 1.46 g of the title compound in the form of a white solid (yield: 86%).'},\n",
       " 'dl:reactionSmiles': 'C(Cl)Cl.[NH2:4][CH2:5][C:6]1[N:11]=[C:10]([N:12]([CH2:20][C:21]([O:23][C:24]([CH3:27])([CH3:26])[CH3:25])=[O:22])[C:13]([O:15][C:16]([CH3:19])([CH3:18])[CH3:17])=[O:14])[CH:9]=[CH:8][CH:7]=1.C(N(CC)CC)C.[N:35]1[CH:40]=[CH:39][CH:38]=[CH:37][C:36]=1[S:41](Cl)(=[O:43])=[O:42].S([O-])(O)(=O)=O.[K+]>>[C:16]([O:15][C:13]([N:12]([CH2:20][C:21]([O:23][C:24]([CH3:27])([CH3:26])[CH3:25])=[O:22])[C:10]1[CH:9]=[CH:8][CH:7]=[C:6]([CH2:5][NH:4][S:41]([C:36]2[CH:37]=[CH:38][CH:39]=[CH:40][N:35]=2)(=[O:43])=[O:42])[N:11]=1)=[O:14])([CH3:19])([CH3:18])[CH3:17] |f:4.5|',\n",
       " 'productList': {'product': [{'@role': 'product',\n",
       "    'molecule': {'@id': 'm0',\n",
       "     'name': {'@dictRef': 'nameDict:unknown', '#text': 'title compound'},\n",
       "     'dl:nameResolved': 'tert-Butyl (tert-butoxycarbonyl {6-[(pyridin-2-ylsulfonyl)aminomethyl]pyridin-2-yl}amino)acetate'},\n",
       "    'amount': {'@dl:propertyType': 'MASS',\n",
       "     '@dl:normalizedValue': '1.46',\n",
       "     '#text': '1.46 g'},\n",
       "    'identifier': [{'@dictRef': 'cml:smiles',\n",
       "      '@value': 'C(C)(C)(C)OC(=O)N(C1=NC(=CC=C1)CNS(=O)(=O)C1=NC=CC=C1)CC(=O)OC(C)(C)C'},\n",
       "     {'@dictRef': 'cml:inchi',\n",
       "      '@value': 'InChI=1S/C22H30N4O6S/c1-21(2,3)31-19(27)15-26(20(28)32-22(4,5)6)17-11-9-10-16(25-17)14-24-33(29,30)18-12-7-8-13-23-18/h7-13,24H,14-15H2,1-6H3'}],\n",
       "    'dl:entityType': 'definiteReference'},\n",
       "   {'@role': 'product',\n",
       "    'molecule': {'@id': 'm1',\n",
       "     'name': {'@dictRef': 'nameDict:unknown', '#text': 'solid'}},\n",
       "    'amount': {'@dl:propertyType': 'PERCENTYIELD',\n",
       "     '@dl:normalizedValue': '86',\n",
       "     '#text': 'yield: 86%'},\n",
       "    'dl:entityType': 'chemicalClass',\n",
       "    'dl:state': 'solid'}]},\n",
       " 'reactantList': {'reactant': [{'@role': 'reactant',\n",
       "    'molecule': {'@id': 'm2',\n",
       "     'name': {'@dictRef': 'nameDict:unknown', '#text': 'solution'}},\n",
       "    'amount': {'@dl:propertyType': 'VOLUME',\n",
       "     '@dl:normalizedValue': '0.012',\n",
       "     '#text': '12 mL'},\n",
       "    'dl:entityType': 'exact'},\n",
       "   {'@role': 'reactant',\n",
       "    'molecule': {'@id': 'm3',\n",
       "     'name': {'@dictRef': 'nameDict:unknown', '#text': 'methylene chloride'}},\n",
       "    'amount': [{'@dl:propertyType': 'AMOUNT',\n",
       "      '@dl:normalizedValue': '0.00356',\n",
       "      '#text': '3.56 mmol'},\n",
       "     {'@dl:propertyType': 'MASS',\n",
       "      '@dl:normalizedValue': '1.20',\n",
       "      '#text': '1.20 g'}],\n",
       "    'identifier': [{'@dictRef': 'cml:smiles', '@value': 'C(Cl)Cl'},\n",
       "     {'@dictRef': 'cml:inchi', '@value': 'InChI=1S/CH2Cl2/c2-1-3/h1H2'}],\n",
       "    'dl:entityType': 'exact'},\n",
       "   {'@role': 'reactant',\n",
       "    '@count': '1',\n",
       "    'molecule': {'@id': 'm4',\n",
       "     'name': {'@dictRef': 'nameDict:unknown',\n",
       "      '#text': 'tert-butyl [(6-aminomethylpyridin-2-yl)tert-butoxycarbonylamino]acetate'}},\n",
       "    'identifier': [{'@dictRef': 'cml:smiles',\n",
       "      '@value': 'NCC1=CC=CC(=N1)N(C(=O)OC(C)(C)C)CC(=O)OC(C)(C)C'},\n",
       "     {'@dictRef': 'cml:inchi',\n",
       "      '@value': 'InChI=1S/C17H27N3O4/c1-16(2,3)23-14(21)11-20(15(22)24-17(4,5)6)13-9-7-8-12(10-18)19-13/h7-9H,10-11,18H2,1-6H3'}],\n",
       "    'dl:entityType': 'exact'},\n",
       "   {'@role': 'reactant',\n",
       "    'molecule': {'@id': 'm5',\n",
       "     'name': {'@dictRef': 'nameDict:unknown', '#text': 'triethylamine'}},\n",
       "    'amount': [{'@dl:propertyType': 'AMOUNT',\n",
       "      '@dl:normalizedValue': '0.0162',\n",
       "      '#text': '16.2 mmol'},\n",
       "     {'@dl:propertyType': 'VOLUME',\n",
       "      '@dl:normalizedValue': '0.00224',\n",
       "      '#text': '2.24 mL'}],\n",
       "    'identifier': [{'@dictRef': 'cml:smiles', '@value': 'C(C)N(CC)CC'},\n",
       "     {'@dictRef': 'cml:inchi',\n",
       "      '@value': 'InChI=1S/C6H15N/c1-4-7(5-2)6-3/h4-6H2,1-3H3'}],\n",
       "    'dl:entityType': 'exact'},\n",
       "   {'@role': 'reactant',\n",
       "    'molecule': {'@id': 'm6',\n",
       "     'name': {'@dictRef': 'nameDict:unknown', '#text': 'solution'}},\n",
       "    'amount': {'@dl:propertyType': 'VOLUME',\n",
       "     '@dl:normalizedValue': '0.014',\n",
       "     '#text': '14 mL'},\n",
       "    'dl:entityType': 'exact'},\n",
       "   {'@role': 'reactant',\n",
       "    'molecule': {'@id': 'm7',\n",
       "     'name': {'@dictRef': 'nameDict:unknown', '#text': 'methylene chloride'}},\n",
       "    'amount': [{'@dl:propertyType': 'AMOUNT',\n",
       "      '@dl:normalizedValue': '0.00360',\n",
       "      '#text': '3.60 mmol'},\n",
       "     {'@dl:propertyType': 'MASS',\n",
       "      '@dl:normalizedValue': '0.640',\n",
       "      '#text': '0.640 g'}],\n",
       "    'identifier': [{'@dictRef': 'cml:smiles', '@value': 'C(Cl)Cl'},\n",
       "     {'@dictRef': 'cml:inchi', '@value': 'InChI=1S/CH2Cl2/c2-1-3/h1H2'}],\n",
       "    'dl:entityType': 'exact'},\n",
       "   {'@role': 'reactant',\n",
       "    '@count': '1',\n",
       "    'molecule': {'@id': 'm8',\n",
       "     'name': {'@dictRef': 'nameDict:unknown',\n",
       "      '#text': '2-pyridylsulfonyl chloride'}},\n",
       "    'identifier': [{'@dictRef': 'cml:smiles',\n",
       "      '@value': 'N1=C(C=CC=C1)S(=O)(=O)Cl'},\n",
       "     {'@dictRef': 'cml:inchi',\n",
       "      '@value': 'InChI=1S/C5H4ClNO2S/c6-10(8,9)5-3-1-2-4-7-5/h1-4H'}],\n",
       "    'dl:entityType': 'exact'},\n",
       "   {'@role': 'reactant',\n",
       "    'molecule': {'@id': 'm9',\n",
       "     'name': {'@dictRef': 'nameDict:unknown',\n",
       "      '#text': 'potassium hydrogen sulfate'}},\n",
       "    'identifier': [{'@dictRef': 'cml:smiles',\n",
       "      '@value': 'S(=O)(=O)(O)[O-].[K+]'},\n",
       "     {'@dictRef': 'cml:inchi',\n",
       "      '@value': 'InChI=1S/K.H2O4S/c;1-5(2,3)4/h;(H2,1,2,3,4)/q+1;/p-1'}],\n",
       "    'dl:entityType': 'exact'}]},\n",
       " 'spectatorList': None,\n",
       " 'dl:reactionActionList': {'dl:reactionAction': [{'@action': 'Add',\n",
       "    'dl:phraseText': '2.24 mL (16.2 mmol) of triethylamine were added to 14 mL solution of methylene chloride containing 0.640 g (3.60 mmol) of 2-pyridylsulfonyl chloride',\n",
       "    'dl:chemical': [{'@ref': 'm5'},\n",
       "     {'@ref': 'm6'},\n",
       "     {'@ref': 'm7'},\n",
       "     {'@ref': 'm8'}]},\n",
       "   {'@action': 'Stir',\n",
       "    'dl:phraseText': 'by stirring for 0.5 hours at room temperature',\n",
       "    'dl:parameter': [{'@propertyType': 'Time',\n",
       "      '@normalizedValue': '1800',\n",
       "      '#text': '0.5 hours'},\n",
       "     {'@propertyType': 'Temperature',\n",
       "      '@normalizedValue': 'room temperature',\n",
       "      '#text': 'room temperature'}]},\n",
       "   {'@action': 'Synthesize',\n",
       "    'dl:phraseText': 'After completion of the reaction'},\n",
       "   {'@action': 'Add',\n",
       "    'dl:phraseText': 'a 5% by weight aqueous potassium hydrogen sulfate solution was added to the reaction solution',\n",
       "    'dl:chemical': {'@ref': 'm9'}},\n",
       "   {'@action': 'Extract',\n",
       "    'dl:phraseText': 'by extracting with methylene chloride',\n",
       "    'chemical': {'molecule': {'@id': 'm10',\n",
       "      'name': {'@dictRef': 'nameDict:unknown', '#text': 'methylene chloride'}},\n",
       "     'identifier': [{'@dictRef': 'cml:smiles', '@value': 'C(Cl)Cl'},\n",
       "      {'@dictRef': 'cml:inchi', '@value': 'InChI=1S/CH2Cl2/c2-1-3/h1H2'}],\n",
       "     'dl:entityType': 'exact'}},\n",
       "   {'@action': 'Wash',\n",
       "    'dl:phraseText': 'The organic layer was sequentially washed with saturated aqueous sodium bicarbonate solution and saturated aqueous sodium chloride solution',\n",
       "    'chemical': [{'molecule': {'@id': 'm11',\n",
       "       'name': {'@dictRef': 'nameDict:unknown',\n",
       "        '#text': 'sodium bicarbonate'}},\n",
       "      'identifier': [{'@dictRef': 'cml:smiles',\n",
       "        '@value': 'C([O-])(O)=O.[Na+]'},\n",
       "       {'@dictRef': 'cml:inchi',\n",
       "        '@value': 'InChI=1S/CH2O3.Na/c2-1(3)4;/h(H2,2,3,4);/q;+1/p-1'}],\n",
       "      'dl:entityType': 'exact'},\n",
       "     {'molecule': {'@id': 'm12',\n",
       "       'name': {'@dictRef': 'nameDict:unknown', '#text': 'sodium chloride'}},\n",
       "      'identifier': [{'@dictRef': 'cml:smiles', '@value': '[Cl-].[Na+]'},\n",
       "       {'@dictRef': 'cml:inchi', '@value': 'InChI=1S/ClH.Na/h1H;/q;+1/p-1'}],\n",
       "      'dl:entityType': 'exact'}]},\n",
       "   {'@action': 'Dry',\n",
       "    'dl:phraseText': 'dried with anhydrous magnesium sulfate',\n",
       "    'chemical': {'molecule': {'@id': 'm13',\n",
       "      'name': {'@dictRef': 'nameDict:unknown', '#text': 'magnesium sulfate'}},\n",
       "     'identifier': [{'@dictRef': 'cml:smiles',\n",
       "       '@value': 'S(=O)(=O)([O-])[O-].[Mg+2]'},\n",
       "      {'@dictRef': 'cml:inchi',\n",
       "       '@value': 'InChI=1S/Mg.H2O4S/c;1-5(2,3)4/h;(H2,1,2,3,4)/q+2;/p-2'}],\n",
       "     'dl:entityType': 'exact'}},\n",
       "   {'@action': 'Concentrate',\n",
       "    'dl:phraseText': 'concentrated under reduced pressure',\n",
       "    'dl:parameter': {'@propertyType': 'Pressure',\n",
       "     '@normalizedValue': 'reduced pressure',\n",
       "     '#text': 'reduced pressure'}},\n",
       "   {'@action': 'Wash',\n",
       "    'dl:phraseText': 'The residue was subjected to silica gel column chromatography (elution solvent: n-hexane:ethyl acetate=1:1 (V/V))',\n",
       "    'chemical': [{'molecule': {'@id': 'm14',\n",
       "       'name': {'@dictRef': 'nameDict:unknown', '#text': 'silica gel'}},\n",
       "      'dl:entityType': 'falsePositive'},\n",
       "     {'molecule': {'@id': 'm15',\n",
       "       'name': {'@dictRef': 'nameDict:unknown', '#text': 'n-hexane'}},\n",
       "      'identifier': [{'@dictRef': 'cml:smiles', '@value': 'CCCCCC'},\n",
       "       {'@dictRef': 'cml:inchi',\n",
       "        '@value': 'InChI=1S/C6H14/c1-3-5-6-4-2/h3-6H2,1-2H3'}],\n",
       "      'dl:entityType': 'exact'},\n",
       "     {'molecule': {'@id': 'm16',\n",
       "       'name': {'@dictRef': 'nameDict:unknown', '#text': 'ethyl acetate'}},\n",
       "      'identifier': [{'@dictRef': 'cml:smiles', '@value': 'C(C)(=O)OCC'},\n",
       "       {'@dictRef': 'cml:inchi',\n",
       "        '@value': 'InChI=1S/C4H8O2/c1-3-6-4(2)5/h3H2,1-2H3'}],\n",
       "      'dl:entityType': 'exact'}]},\n",
       "   {'@action': 'Add',\n",
       "    'dl:phraseText': 'the fractions containing the target product'},\n",
       "   {'@action': 'Concentrate',\n",
       "    'dl:phraseText': 'were concentrated under reduced pressure',\n",
       "    'dl:parameter': {'@propertyType': 'Pressure',\n",
       "     '@normalizedValue': 'reduced pressure',\n",
       "     '#text': 'reduced pressure'}},\n",
       "   {'@action': 'Yield',\n",
       "    'dl:phraseText': 'to obtain 1.46 g of the title compound in the form of a white solid (yield: 86%)',\n",
       "    'dl:chemical': [{'@ref': 'm0'}, {'@ref': 'm1'}]}]}}"
      ]
     },
     "execution_count": 46,
     "metadata": {},
     "output_type": "execute_result"
    }
   ],
   "source": [
    "reactions_with_yield[12]"
   ]
  },
  {
   "cell_type": "markdown",
   "metadata": {},
   "source": [
    "It probably makes sense to remove the sentences with characterization data as they do not contain any information that we have *before* (or during) the reaction. At best, this only is superfluuos tokens. At worst, it is data leakage."
   ]
  },
  {
   "cell_type": "code",
   "execution_count": 97,
   "metadata": {},
   "outputs": [],
   "source": [
    "def remove_characterization_sentences(text): \n",
    "    sentences = text.split('. ')\n",
    "    sentences_without_characterization = []\n",
    "\n",
    "    for sentence in sentences: \n",
    "        if ('NMR' and 'Hz') in sentence: # matching with the unicode delta gives weird results... \n",
    "            continue\n",
    "        if ('MS' and 'm/z') in sentence:\n",
    "            continue\n",
    "        sentences_without_characterization.append(sentence)\n",
    "    return '. '.join(sentences_without_characterization)\n"
   ]
  },
  {
   "cell_type": "code",
   "execution_count": 98,
   "metadata": {},
   "outputs": [],
   "source": [
    "def extract_data_from_reaction(reaction): \n",
    "    yield_amount = [x['amount']['@dl:normalizedValue'] for x in reaction['productList']['product'] if x['amount']['@dl:propertyType']=='PERCENTYIELD'][0]\n",
    "    mass_amount = [x['amount']['@dl:normalizedValue'] for x in reaction['productList']['product'] if x['amount']['@dl:propertyType']=='MASS'][0]\n",
    "    \n",
    "    # extract the yield text from the dl:reactionActionList\n",
    "    yield_text = [x['dl:phraseText'] for x in reaction['dl:reactionActionList']['dl:reactionAction'] if x['@action']=='Yield'][0]\n",
    "\n",
    "    reac_info = {\n",
    "        'reaction_smiles': reaction['dl:reactionSmiles'],\n",
    "        'yield': float(yield_amount),\n",
    "        'mass': float(mass_amount),\n",
    "        'yield_text': yield_text\n",
    "    }\n",
    "    reac_info.update(reaction['dl:source'])\n",
    "    reac_info['paragraph_without_yield'] = reac_info['dl:paragraphText'].replace(reac_info['yield_text'], '')\n",
    "    reac_info['paragraph_without_yield_and_charac'] = remove_characterization_sentences(reac_info['paragraph_without_yield'])\n",
    "    return reac_info"
   ]
  },
  {
   "cell_type": "code",
   "execution_count": 99,
   "metadata": {},
   "outputs": [
    {
     "data": {
      "text/plain": [
       "{'reaction_smiles': 'C(Cl)Cl.[NH2:4][CH2:5][C:6]1[N:11]=[C:10]([N:12]([CH2:20][C:21]([O:23][C:24]([CH3:27])([CH3:26])[CH3:25])=[O:22])[C:13]([O:15][C:16]([CH3:19])([CH3:18])[CH3:17])=[O:14])[CH:9]=[CH:8][CH:7]=1.C(N(CC)CC)C.[N:35]1[CH:40]=[CH:39][CH:38]=[CH:37][C:36]=1[S:41](Cl)(=[O:43])=[O:42].S([O-])(O)(=O)=O.[K+]>>[C:16]([O:15][C:13]([N:12]([CH2:20][C:21]([O:23][C:24]([CH3:27])([CH3:26])[CH3:25])=[O:22])[C:10]1[CH:9]=[CH:8][CH:7]=[C:6]([CH2:5][NH:4][S:41]([C:36]2[CH:37]=[CH:38][CH:39]=[CH:40][N:35]=2)(=[O:43])=[O:42])[N:11]=1)=[O:14])([CH3:19])([CH3:18])[CH3:17] |f:4.5|',\n",
       " 'yield': 86.0,\n",
       " 'mass': 1.46,\n",
       " 'yield_text': 'to obtain 1.46 g of the title compound in the form of a white solid (yield: 86%)',\n",
       " 'dl:documentId': 'US20160213657A1',\n",
       " 'dl:headingText': '1-(f): tert-Butyl (tert-butoxycarbonyl {6-[(pyridin-2-ylsulfonyl)aminomethyl]pyridin-2-yl}amino)acetate',\n",
       " 'dl:paragraphNum': '0217',\n",
       " 'dl:paragraphText': '12 mL solution of methylene chloride containing 1.20 g (3.56 mmol) of the tert-butyl [(6-aminomethylpyridin-2-yl)tert-butoxycarbonylamino]acetate obtained in Reference Example 1-(e) and 2.24 mL (16.2 mmol) of triethylamine were added to 14 mL solution of methylene chloride containing 0.640 g (3.60 mmol) of 2-pyridylsulfonyl chloride followed by stirring for 0.5 hours at room temperature. After completion of the reaction, a 5% by weight aqueous potassium hydrogen sulfate solution was added to the reaction solution followed by extracting with methylene chloride. The organic layer was sequentially washed with saturated aqueous sodium bicarbonate solution and saturated aqueous sodium chloride solution, dried with anhydrous magnesium sulfate, and then concentrated under reduced pressure. The residue was subjected to silica gel column chromatography (elution solvent: n-hexane:ethyl acetate=1:1 (V/V)) and the fractions containing the target product were concentrated under reduced pressure to obtain 1.46 g of the title compound in the form of a white solid (yield: 86%).',\n",
       " 'paragraph_without_yield': '12 mL solution of methylene chloride containing 1.20 g (3.56 mmol) of the tert-butyl [(6-aminomethylpyridin-2-yl)tert-butoxycarbonylamino]acetate obtained in Reference Example 1-(e) and 2.24 mL (16.2 mmol) of triethylamine were added to 14 mL solution of methylene chloride containing 0.640 g (3.60 mmol) of 2-pyridylsulfonyl chloride followed by stirring for 0.5 hours at room temperature. After completion of the reaction, a 5% by weight aqueous potassium hydrogen sulfate solution was added to the reaction solution followed by extracting with methylene chloride. The organic layer was sequentially washed with saturated aqueous sodium bicarbonate solution and saturated aqueous sodium chloride solution, dried with anhydrous magnesium sulfate, and then concentrated under reduced pressure. The residue was subjected to silica gel column chromatography (elution solvent: n-hexane:ethyl acetate=1:1 (V/V)) and the fractions containing the target product were concentrated under reduced pressure .',\n",
       " 'paragraph_without_yield_and_charac': '12 mL solution of methylene chloride containing 1.20 g (3.56 mmol) of the tert-butyl [(6-aminomethylpyridin-2-yl)tert-butoxycarbonylamino]acetate obtained in Reference Example 1-(e) and 2.24 mL (16.2 mmol) of triethylamine were added to 14 mL solution of methylene chloride containing 0.640 g (3.60 mmol) of 2-pyridylsulfonyl chloride followed by stirring for 0.5 hours at room temperature. After completion of the reaction, a 5% by weight aqueous potassium hydrogen sulfate solution was added to the reaction solution followed by extracting with methylene chloride. The organic layer was sequentially washed with saturated aqueous sodium bicarbonate solution and saturated aqueous sodium chloride solution, dried with anhydrous magnesium sulfate, and then concentrated under reduced pressure. The residue was subjected to silica gel column chromatography (elution solvent: n-hexane:ethyl acetate=1:1 (V/V)) and the fractions containing the target product were concentrated under reduced pressure .'}"
      ]
     },
     "execution_count": 99,
     "metadata": {},
     "output_type": "execute_result"
    }
   ],
   "source": [
    "extract_data_from_reaction(reactions_with_yield[12])"
   ]
  },
  {
   "cell_type": "code",
   "execution_count": 101,
   "metadata": {},
   "outputs": [],
   "source": [
    "all_xmls = glob('/Users/kevinmaikjablonka/Downloads/5104873/applications/*/*.xml')"
   ]
  },
  {
   "cell_type": "code",
   "execution_count": 102,
   "metadata": {},
   "outputs": [
    {
     "data": {
      "text/plain": [
       "1364"
      ]
     },
     "execution_count": 102,
     "metadata": {},
     "output_type": "execute_result"
    }
   ],
   "source": [
    "len(all_xmls)"
   ]
  },
  {
   "cell_type": "code",
   "execution_count": 105,
   "metadata": {},
   "outputs": [
    {
     "name": "stderr",
     "output_type": "stream",
     "text": [
      "  4%|▍         | 61/1364 [01:10<21:53,  1.01s/it]"
     ]
    },
    {
     "name": "stdout",
     "output_type": "stream",
     "text": [
      "Error with /Users/kevinmaikjablonka/Downloads/5104873/applications/2014/I20140918.xml: 'reaction'\n"
     ]
    },
    {
     "name": "stderr",
     "output_type": "stream",
     "text": [
      " 15%|█▌        | 211/1364 [04:15<22:13,  1.16s/it]"
     ]
    },
    {
     "name": "stdout",
     "output_type": "stream",
     "text": [
      "Error with /Users/kevinmaikjablonka/Downloads/5104873/applications/2008/I20080410-SUPP.xml: 'reaction'\n"
     ]
    },
    {
     "name": "stderr",
     "output_type": "stream",
     "text": [
      " 16%|█▌        | 213/1364 [04:15<14:45,  1.30it/s]"
     ]
    },
    {
     "name": "stdout",
     "output_type": "stream",
     "text": [
      "Error with /Users/kevinmaikjablonka/Downloads/5104873/applications/2008/I20080214-SUPP.xml: 'reaction'\n",
      "Error with /Users/kevinmaikjablonka/Downloads/5104873/applications/2008/I20080925-SUPP.xml: 'reaction'\n"
     ]
    },
    {
     "name": "stderr",
     "output_type": "stream",
     "text": [
      " 16%|█▌        | 218/1364 [04:18<12:26,  1.54it/s]"
     ]
    },
    {
     "name": "stdout",
     "output_type": "stream",
     "text": [
      "Error with /Users/kevinmaikjablonka/Downloads/5104873/applications/2008/I20080911-SUPP.xml: 'reaction'\n",
      "Error with /Users/kevinmaikjablonka/Downloads/5104873/applications/2008/I20080221-SUPP.xml: 'reaction'\n"
     ]
    },
    {
     "name": "stderr",
     "output_type": "stream",
     "text": [
      " 16%|█▋        | 222/1364 [04:20<09:51,  1.93it/s]"
     ]
    },
    {
     "name": "stdout",
     "output_type": "stream",
     "text": [
      "Error with /Users/kevinmaikjablonka/Downloads/5104873/applications/2008/I20080703-SUPP.xml: 'reaction'\n"
     ]
    },
    {
     "name": "stderr",
     "output_type": "stream",
     "text": [
      " 16%|█▋        | 224/1364 [04:21<09:13,  2.06it/s]"
     ]
    },
    {
     "name": "stdout",
     "output_type": "stream",
     "text": [
      "Error with /Users/kevinmaikjablonka/Downloads/5104873/applications/2008/I20080424-SUPP.xml: 'reaction'\n"
     ]
    },
    {
     "name": "stderr",
     "output_type": "stream",
     "text": [
      " 17%|█▋        | 226/1364 [04:21<08:33,  2.22it/s]"
     ]
    },
    {
     "name": "stdout",
     "output_type": "stream",
     "text": [
      "Error with /Users/kevinmaikjablonka/Downloads/5104873/applications/2008/I20081127-SUPP.xml: 'reaction'\n",
      "Error with /Users/kevinmaikjablonka/Downloads/5104873/applications/2008/I20080124-SUPP.xml: 'reaction'\n"
     ]
    },
    {
     "name": "stderr",
     "output_type": "stream",
     "text": [
      " 17%|█▋        | 229/1364 [04:22<05:56,  3.18it/s]"
     ]
    },
    {
     "name": "stdout",
     "output_type": "stream",
     "text": [
      "Error with /Users/kevinmaikjablonka/Downloads/5104873/applications/2008/I20080110-SUPP.xml: 'reaction'\n"
     ]
    },
    {
     "name": "stderr",
     "output_type": "stream",
     "text": [
      " 17%|█▋        | 233/1364 [04:25<11:28,  1.64it/s]"
     ]
    },
    {
     "name": "stdout",
     "output_type": "stream",
     "text": [
      "Error with /Users/kevinmaikjablonka/Downloads/5104873/applications/2008/I20081113-SUPP.xml: 'reaction'\n",
      "Error with /Users/kevinmaikjablonka/Downloads/5104873/applications/2008/I20081120-SUPP.xml: 'reaction'\n",
      "Error with /Users/kevinmaikjablonka/Downloads/5104873/applications/2008/I20080508-SUPP.xml: 'reaction'\n",
      "Error with /Users/kevinmaikjablonka/Downloads/5104873/applications/2008/I20081016-SUPP.xml: 'reaction'\n"
     ]
    },
    {
     "name": "stderr",
     "output_type": "stream",
     "text": [
      " 17%|█▋        | 238/1364 [04:26<06:37,  2.83it/s]"
     ]
    },
    {
     "name": "stdout",
     "output_type": "stream",
     "text": [
      "Error with /Users/kevinmaikjablonka/Downloads/5104873/applications/2008/I20081023-SUPP.xml: 'reaction'\n",
      "Error with /Users/kevinmaikjablonka/Downloads/5104873/applications/2008/I20080117-SUPP.xml: 'reaction'\n"
     ]
    },
    {
     "name": "stderr",
     "output_type": "stream",
     "text": [
      " 18%|█▊        | 241/1364 [04:27<06:05,  3.07it/s]"
     ]
    },
    {
     "name": "stdout",
     "output_type": "stream",
     "text": [
      "Error with /Users/kevinmaikjablonka/Downloads/5104873/applications/2008/I20080306-SUPP.xml: 'reaction'\n"
     ]
    },
    {
     "name": "stderr",
     "output_type": "stream",
     "text": [
      " 18%|█▊        | 243/1364 [04:28<06:56,  2.69it/s]"
     ]
    },
    {
     "name": "stdout",
     "output_type": "stream",
     "text": [
      "Error with /Users/kevinmaikjablonka/Downloads/5104873/applications/2008/I20081211-SUPP.xml: 'reaction'\n"
     ]
    },
    {
     "name": "stderr",
     "output_type": "stream",
     "text": [
      " 18%|█▊        | 245/1364 [04:29<07:44,  2.41it/s]"
     ]
    },
    {
     "name": "stdout",
     "output_type": "stream",
     "text": [
      "Error with /Users/kevinmaikjablonka/Downloads/5104873/applications/2008/I20080417-SUPP.xml: 'reaction'\n",
      "Error with /Users/kevinmaikjablonka/Downloads/5104873/applications/2008/I20080814-SUPP.xml: 'reaction'\n"
     ]
    },
    {
     "name": "stderr",
     "output_type": "stream",
     "text": [
      " 18%|█▊        | 248/1364 [04:30<06:57,  2.67it/s]"
     ]
    },
    {
     "name": "stdout",
     "output_type": "stream",
     "text": [
      "Error with /Users/kevinmaikjablonka/Downloads/5104873/applications/2008/I20080731-SUPP.xml: 'reaction'\n"
     ]
    },
    {
     "name": "stderr",
     "output_type": "stream",
     "text": [
      " 18%|█▊        | 250/1364 [04:30<07:01,  2.64it/s]"
     ]
    },
    {
     "name": "stdout",
     "output_type": "stream",
     "text": [
      "Error with /Users/kevinmaikjablonka/Downloads/5104873/applications/2008/I20080515-SUPP.xml: 'reaction'\n"
     ]
    },
    {
     "name": "stderr",
     "output_type": "stream",
     "text": [
      " 19%|█▊        | 254/1364 [04:34<12:55,  1.43it/s]"
     ]
    },
    {
     "name": "stdout",
     "output_type": "stream",
     "text": [
      "Error with /Users/kevinmaikjablonka/Downloads/5104873/applications/2008/I20080821-SUPP.xml: 'reaction'\n",
      "Error with /Users/kevinmaikjablonka/Downloads/5104873/applications/2008/I20081225-SUPP.xml: 'reaction'\n",
      "Error with /Users/kevinmaikjablonka/Downloads/5104873/applications/2008/I20080904-SUPP.xml: 'reaction'\n",
      "Error with /Users/kevinmaikjablonka/Downloads/5104873/applications/2008/I20080717-SUPP.xml: 'reaction'\n"
     ]
    },
    {
     "name": "stderr",
     "output_type": "stream",
     "text": [
      " 19%|█▉        | 260/1364 [04:36<08:38,  2.13it/s]"
     ]
    },
    {
     "name": "stdout",
     "output_type": "stream",
     "text": [
      "Error with /Users/kevinmaikjablonka/Downloads/5104873/applications/2008/I20080807-SUPP.xml: 'reaction'\n"
     ]
    },
    {
     "name": "stderr",
     "output_type": "stream",
     "text": [
      " 19%|█▉        | 265/1364 [04:38<10:08,  1.81it/s]"
     ]
    },
    {
     "name": "stdout",
     "output_type": "stream",
     "text": [
      "Error with /Users/kevinmaikjablonka/Downloads/5104873/applications/2008/I20081030-SUPP.xml: 'reaction'\n"
     ]
    },
    {
     "name": "stderr",
     "output_type": "stream",
     "text": [
      " 20%|█▉        | 267/1364 [04:39<08:32,  2.14it/s]"
     ]
    },
    {
     "name": "stdout",
     "output_type": "stream",
     "text": [
      "Error with /Users/kevinmaikjablonka/Downloads/5104873/applications/2008/I20081106-SUPP.xml: 'reaction'\n"
     ]
    },
    {
     "name": "stderr",
     "output_type": "stream",
     "text": [
      " 20%|█▉        | 269/1364 [04:40<08:09,  2.24it/s]"
     ]
    },
    {
     "name": "stdout",
     "output_type": "stream",
     "text": [
      "Error with /Users/kevinmaikjablonka/Downloads/5104873/applications/2008/I20080228-SUPP.xml: 'reaction'\n",
      "Error with /Users/kevinmaikjablonka/Downloads/5104873/applications/2008/I20080320-SUPP.xml: 'reaction'\n",
      "Error with /Users/kevinmaikjablonka/Downloads/5104873/applications/2008/I20080918-SUPP.xml: 'reaction'\n"
     ]
    },
    {
     "name": "stderr",
     "output_type": "stream",
     "text": [
      " 20%|██        | 276/1364 [04:42<07:06,  2.55it/s]"
     ]
    },
    {
     "name": "stdout",
     "output_type": "stream",
     "text": [
      "Error with /Users/kevinmaikjablonka/Downloads/5104873/applications/2008/I20080131-SUPP.xml: 'reaction'\n"
     ]
    },
    {
     "name": "stderr",
     "output_type": "stream",
     "text": [
      " 20%|██        | 278/1364 [04:43<07:58,  2.27it/s]"
     ]
    },
    {
     "name": "stdout",
     "output_type": "stream",
     "text": [
      "Error with /Users/kevinmaikjablonka/Downloads/5104873/applications/2008/I20080103-SUPP.xml: 'reaction'\n"
     ]
    },
    {
     "name": "stderr",
     "output_type": "stream",
     "text": [
      " 21%|██        | 280/1364 [04:44<08:43,  2.07it/s]"
     ]
    },
    {
     "name": "stdout",
     "output_type": "stream",
     "text": [
      "Error with /Users/kevinmaikjablonka/Downloads/5104873/applications/2008/I20081218-SUPP.xml: 'reaction'\n",
      "Error with /Users/kevinmaikjablonka/Downloads/5104873/applications/2008/I20081009-SUPP.xml: 'reaction'\n"
     ]
    },
    {
     "name": "stderr",
     "output_type": "stream",
     "text": [
      " 21%|██        | 283/1364 [04:45<08:14,  2.19it/s]"
     ]
    },
    {
     "name": "stdout",
     "output_type": "stream",
     "text": [
      "Error with /Users/kevinmaikjablonka/Downloads/5104873/applications/2008/I20080529-SUPP.xml: 'reaction'\n",
      "Error with /Users/kevinmaikjablonka/Downloads/5104873/applications/2008/I20080313-SUPP.xml: 'reaction'\n",
      "Error with /Users/kevinmaikjablonka/Downloads/5104873/applications/2008/I20080327-SUPP.xml: 'reaction'\n"
     ]
    },
    {
     "name": "stderr",
     "output_type": "stream",
     "text": [
      " 21%|██▏       | 291/1364 [04:50<12:05,  1.48it/s]"
     ]
    },
    {
     "name": "stdout",
     "output_type": "stream",
     "text": [
      "Error with /Users/kevinmaikjablonka/Downloads/5104873/applications/2008/I20080522-SUPP.xml: 'reaction'\n",
      "Error with /Users/kevinmaikjablonka/Downloads/5104873/applications/2008/I20080828-SUPP.xml: 'reaction'\n"
     ]
    },
    {
     "name": "stderr",
     "output_type": "stream",
     "text": [
      " 22%|██▏       | 294/1364 [04:50<07:25,  2.40it/s]"
     ]
    },
    {
     "name": "stdout",
     "output_type": "stream",
     "text": [
      "Error with /Users/kevinmaikjablonka/Downloads/5104873/applications/2008/I20081002-SUPP.xml: 'reaction'\n"
     ]
    },
    {
     "name": "stderr",
     "output_type": "stream",
     "text": [
      " 22%|██▏       | 297/1364 [04:52<08:08,  2.18it/s]"
     ]
    },
    {
     "name": "stdout",
     "output_type": "stream",
     "text": [
      "Error with /Users/kevinmaikjablonka/Downloads/5104873/applications/2008/I20080605-SUPP.xml: 'reaction'\n"
     ]
    },
    {
     "name": "stderr",
     "output_type": "stream",
     "text": [
      " 22%|██▏       | 301/1364 [04:54<08:16,  2.14it/s]"
     ]
    },
    {
     "name": "stdout",
     "output_type": "stream",
     "text": [
      "Error with /Users/kevinmaikjablonka/Downloads/5104873/applications/2008/I20080501-SUPP.xml: 'reaction'\n",
      "Error with /Users/kevinmaikjablonka/Downloads/5104873/applications/2008/I20080626-SUPP.xml: 'reaction'\n"
     ]
    },
    {
     "name": "stderr",
     "output_type": "stream",
     "text": [
      " 22%|██▏       | 304/1364 [04:54<05:52,  3.00it/s]"
     ]
    },
    {
     "name": "stdout",
     "output_type": "stream",
     "text": [
      "Error with /Users/kevinmaikjablonka/Downloads/5104873/applications/2008/I20080619-SUPP.xml: 'reaction'\n",
      "Error with /Users/kevinmaikjablonka/Downloads/5104873/applications/2008/I20080710-SUPP.xml: 'reaction'\n",
      "Error with /Users/kevinmaikjablonka/Downloads/5104873/applications/2008/I20080724-SUPP.xml: 'reaction'\n"
     ]
    },
    {
     "name": "stderr",
     "output_type": "stream",
     "text": [
      " 23%|██▎       | 308/1364 [04:55<05:20,  3.30it/s]"
     ]
    },
    {
     "name": "stdout",
     "output_type": "stream",
     "text": [
      "Error with /Users/kevinmaikjablonka/Downloads/5104873/applications/2008/I20080403-SUPP.xml: 'reaction'\n",
      "Error with /Users/kevinmaikjablonka/Downloads/5104873/applications/2008/I20081204-SUPP.xml: 'reaction'\n"
     ]
    },
    {
     "name": "stderr",
     "output_type": "stream",
     "text": [
      " 23%|██▎       | 316/1364 [04:58<05:16,  3.32it/s]"
     ]
    },
    {
     "name": "stdout",
     "output_type": "stream",
     "text": [
      "Error with /Users/kevinmaikjablonka/Downloads/5104873/applications/2008/I20080207-SUPP.xml: 'reaction'\n",
      "Error with /Users/kevinmaikjablonka/Downloads/5104873/applications/2001/20010329.xml: 'reaction'\n",
      "Error with /Users/kevinmaikjablonka/Downloads/5104873/applications/2001/20011213-SUPP.xml: 'reaction'\n"
     ]
    },
    {
     "name": "stderr",
     "output_type": "stream",
     "text": [
      " 23%|██▎       | 320/1364 [04:58<03:09,  5.50it/s]"
     ]
    },
    {
     "name": "stdout",
     "output_type": "stream",
     "text": [
      "Error with /Users/kevinmaikjablonka/Downloads/5104873/applications/2001/20011227-SUPP.xml: 'reaction'\n"
     ]
    },
    {
     "name": "stderr",
     "output_type": "stream",
     "text": [
      " 24%|██▍       | 326/1364 [04:59<02:37,  6.59it/s]"
     ]
    },
    {
     "name": "stdout",
     "output_type": "stream",
     "text": [
      "Error with /Users/kevinmaikjablonka/Downloads/5104873/applications/2001/20010503.xml: 'reaction'\n"
     ]
    },
    {
     "name": "stderr",
     "output_type": "stream",
     "text": [
      " 26%|██▌       | 352/1364 [05:00<00:50, 19.86it/s]"
     ]
    },
    {
     "name": "stdout",
     "output_type": "stream",
     "text": [
      "Error with /Users/kevinmaikjablonka/Downloads/5104873/applications/2001/20010322.xml: 'reaction'\n"
     ]
    },
    {
     "name": "stderr",
     "output_type": "stream",
     "text": [
      " 26%|██▋       | 360/1364 [05:02<02:45,  6.07it/s]"
     ]
    },
    {
     "name": "stdout",
     "output_type": "stream",
     "text": [
      "Error with /Users/kevinmaikjablonka/Downloads/5104873/applications/2006/I20060810-SUPP.xml: 'reaction'\n",
      "Error with /Users/kevinmaikjablonka/Downloads/5104873/applications/2006/I20060413-SUPP.xml: 'reaction'\n",
      "Error with /Users/kevinmaikjablonka/Downloads/5104873/applications/2006/I20061214-SUPP.xml: 'reaction'\n"
     ]
    },
    {
     "name": "stderr",
     "output_type": "stream",
     "text": [
      " 27%|██▋       | 363/1364 [05:03<03:03,  5.45it/s]"
     ]
    },
    {
     "name": "stdout",
     "output_type": "stream",
     "text": [
      "Error with /Users/kevinmaikjablonka/Downloads/5104873/applications/2006/I20061005-SUPP.xml: 'reaction'\n",
      "Error with /Users/kevinmaikjablonka/Downloads/5104873/applications/2006/I20060216-SUPP.xml: 'reaction'\n"
     ]
    },
    {
     "name": "stderr",
     "output_type": "stream",
     "text": [
      " 27%|██▋       | 366/1364 [05:03<03:11,  5.21it/s]"
     ]
    },
    {
     "name": "stdout",
     "output_type": "stream",
     "text": [
      "Error with /Users/kevinmaikjablonka/Downloads/5104873/applications/2006/I20060525-SUPP.xml: 'reaction'\n",
      "Error with /Users/kevinmaikjablonka/Downloads/5104873/applications/2006/I20060223-SUPP.xml: 'reaction'\n",
      "Error with /Users/kevinmaikjablonka/Downloads/5104873/applications/2006/I20060105-SUPP.xml: 'reaction'\n",
      "Error with /Users/kevinmaikjablonka/Downloads/5104873/applications/2006/I20061221-SUPP.xml: 'reaction'\n",
      "Error with /Users/kevinmaikjablonka/Downloads/5104873/applications/2006/I20060427-SUPP.xml: 'reaction'\n",
      "Error with /Users/kevinmaikjablonka/Downloads/5104873/applications/2006/I20060824-SUPP.xml: 'reaction'\n"
     ]
    },
    {
     "name": "stderr",
     "output_type": "stream",
     "text": [
      " 27%|██▋       | 375/1364 [05:06<04:28,  3.69it/s]"
     ]
    },
    {
     "name": "stdout",
     "output_type": "stream",
     "text": [
      "Error with /Users/kevinmaikjablonka/Downloads/5104873/applications/2006/I20060608-SUPP.xml: 'reaction'\n"
     ]
    },
    {
     "name": "stderr",
     "output_type": "stream",
     "text": [
      " 28%|██▊       | 377/1364 [05:07<04:59,  3.30it/s]"
     ]
    },
    {
     "name": "stdout",
     "output_type": "stream",
     "text": [
      "Error with /Users/kevinmaikjablonka/Downloads/5104873/applications/2006/I20060119-SUPP.xml: 'reaction'\n"
     ]
    },
    {
     "name": "stderr",
     "output_type": "stream",
     "text": [
      " 28%|██▊       | 379/1364 [05:08<05:34,  2.95it/s]"
     ]
    },
    {
     "name": "stdout",
     "output_type": "stream",
     "text": [
      "Error with /Users/kevinmaikjablonka/Downloads/5104873/applications/2006/I20060309-SUPP.xml: 'reaction'\n",
      "Error with /Users/kevinmaikjablonka/Downloads/5104873/applications/2006/I20061012-SUPP.xml: 'reaction'\n",
      "Error with /Users/kevinmaikjablonka/Downloads/5104873/applications/2006/I20060615-SUPP.xml: 'reaction'\n",
      "Error with /Users/kevinmaikjablonka/Downloads/5104873/applications/2006/I20060126-SUPP.xml: 'reaction'\n"
     ]
    },
    {
     "name": "stderr",
     "output_type": "stream",
     "text": [
      " 28%|██▊       | 384/1364 [05:08<03:50,  4.25it/s]"
     ]
    },
    {
     "name": "stdout",
     "output_type": "stream",
     "text": [
      "Error with /Users/kevinmaikjablonka/Downloads/5104873/applications/2006/I20061026-SUPP.xml: 'reaction'\n",
      "Error with /Users/kevinmaikjablonka/Downloads/5104873/applications/2006/I20060112-SUPP.xml: 'reaction'\n",
      "Error with /Users/kevinmaikjablonka/Downloads/5104873/applications/2006/I20060511-SUPPP.xml: 'reaction'\n"
     ]
    },
    {
     "name": "stderr",
     "output_type": "stream",
     "text": [
      " 29%|██▊       | 390/1364 [05:10<05:10,  3.14it/s]"
     ]
    },
    {
     "name": "stdout",
     "output_type": "stream",
     "text": [
      "Error with /Users/kevinmaikjablonka/Downloads/5104873/applications/2006/I20061019-SUPP.xml: 'reaction'\n",
      "Error with /Users/kevinmaikjablonka/Downloads/5104873/applications/2006/I20060302-SUPP.xml: 'reaction'\n"
     ]
    },
    {
     "name": "stderr",
     "output_type": "stream",
     "text": [
      " 29%|██▉       | 393/1364 [05:11<04:25,  3.66it/s]"
     ]
    },
    {
     "name": "stdout",
     "output_type": "stream",
     "text": [
      "Error with /Users/kevinmaikjablonka/Downloads/5104873/applications/2006/I20060330-SUPP.xml: 'reaction'\n"
     ]
    },
    {
     "name": "stderr",
     "output_type": "stream",
     "text": [
      " 29%|██▉       | 395/1364 [05:11<04:17,  3.77it/s]"
     ]
    },
    {
     "name": "stdout",
     "output_type": "stream",
     "text": [
      "Error with /Users/kevinmaikjablonka/Downloads/5104873/applications/2006/I20061123-SUPP.xml: 'reaction'\n"
     ]
    },
    {
     "name": "stderr",
     "output_type": "stream",
     "text": [
      " 29%|██▉       | 398/1364 [05:13<07:07,  2.26it/s]"
     ]
    },
    {
     "name": "stdout",
     "output_type": "stream",
     "text": [
      "Error with /Users/kevinmaikjablonka/Downloads/5104873/applications/2006/I20061116-SUPP.xml: 'reaction'\n"
     ]
    },
    {
     "name": "stderr",
     "output_type": "stream",
     "text": [
      " 30%|██▉       | 403/1364 [05:16<10:21,  1.55it/s]"
     ]
    },
    {
     "name": "stdout",
     "output_type": "stream",
     "text": [
      "Error with /Users/kevinmaikjablonka/Downloads/5104873/applications/2006/I20060817-SUPP.xml: 'reaction'\n"
     ]
    },
    {
     "name": "stderr",
     "output_type": "stream",
     "text": [
      " 30%|██▉       | 407/1364 [05:18<08:37,  1.85it/s]"
     ]
    },
    {
     "name": "stdout",
     "output_type": "stream",
     "text": [
      "Error with /Users/kevinmaikjablonka/Downloads/5104873/applications/2006/I20060921-SUPP.xml: 'reaction'\n",
      "Error with /Users/kevinmaikjablonka/Downloads/5104873/applications/2006/I20060914-SUPP.xml: 'reaction'\n"
     ]
    },
    {
     "name": "stderr",
     "output_type": "stream",
     "text": [
      " 30%|███       | 410/1364 [05:19<06:36,  2.41it/s]"
     ]
    },
    {
     "name": "stdout",
     "output_type": "stream",
     "text": [
      "Error with /Users/kevinmaikjablonka/Downloads/5104873/applications/2006/I20060420-SUPP.xml: 'reaction'\n",
      "Error with /Users/kevinmaikjablonka/Downloads/5104873/applications/2006/I20060706-SUPP.xml: 'reaction'\n",
      "Error with /Users/kevinmaikjablonka/Downloads/5104873/applications/2006/I20060622-SUPP.xml: 'reaction'\n",
      "Error with /Users/kevinmaikjablonka/Downloads/5104873/applications/2006/I20060504-SUPP.xml: 'reaction'\n",
      "Error with /Users/kevinmaikjablonka/Downloads/5104873/applications/2006/I20060907-SUPP.xml: 'reaction'\n"
     ]
    },
    {
     "name": "stderr",
     "output_type": "stream",
     "text": [
      " 31%|███       | 417/1364 [05:21<05:07,  3.08it/s]"
     ]
    },
    {
     "name": "stdout",
     "output_type": "stream",
     "text": [
      "Error with /Users/kevinmaikjablonka/Downloads/5104873/applications/2006/I20060831-SUPP.xml: 'reaction'\n"
     ]
    },
    {
     "name": "stderr",
     "output_type": "stream",
     "text": [
      " 31%|███       | 419/1364 [05:21<04:54,  3.21it/s]"
     ]
    },
    {
     "name": "stdout",
     "output_type": "stream",
     "text": [
      "Error with /Users/kevinmaikjablonka/Downloads/5104873/applications/2006/I20060209-SUPP.xml: 'reaction'\n"
     ]
    },
    {
     "name": "stderr",
     "output_type": "stream",
     "text": [
      " 31%|███       | 422/1364 [05:22<05:23,  2.91it/s]"
     ]
    },
    {
     "name": "stdout",
     "output_type": "stream",
     "text": [
      "Error with /Users/kevinmaikjablonka/Downloads/5104873/applications/2006/I20060406-SUPP.xml: 'reaction'\n",
      "Error with /Users/kevinmaikjablonka/Downloads/5104873/applications/2006/I20060629-SUPP.xml: 'reaction'\n",
      "Error with /Users/kevinmaikjablonka/Downloads/5104873/applications/2006/I20060720-SUPP.xml: 'reaction'\n",
      "Error with /Users/kevinmaikjablonka/Downloads/5104873/applications/2006/I20060202-SUPP.xml: 'reaction'\n"
     ]
    },
    {
     "name": "stderr",
     "output_type": "stream",
     "text": [
      " 32%|███▏      | 434/1364 [05:29<10:52,  1.43it/s]"
     ]
    },
    {
     "name": "stdout",
     "output_type": "stream",
     "text": [
      "Error with /Users/kevinmaikjablonka/Downloads/5104873/applications/2006/I20060316-SUPP.xml: 'reaction'\n"
     ]
    },
    {
     "name": "stderr",
     "output_type": "stream",
     "text": [
      " 32%|███▏      | 436/1364 [05:29<08:20,  1.85it/s]"
     ]
    },
    {
     "name": "stdout",
     "output_type": "stream",
     "text": [
      "Error with /Users/kevinmaikjablonka/Downloads/5104873/applications/2006/I20061130-SUPP.xml: 'reaction'\n"
     ]
    },
    {
     "name": "stderr",
     "output_type": "stream",
     "text": [
      " 32%|███▏      | 439/1364 [05:30<06:37,  2.33it/s]"
     ]
    },
    {
     "name": "stdout",
     "output_type": "stream",
     "text": [
      "Error with /Users/kevinmaikjablonka/Downloads/5104873/applications/2006/I20060518-SUPP.xml: 'reaction'\n",
      "Error with /Users/kevinmaikjablonka/Downloads/5104873/applications/2006/I20060323-SUPP.xml: 'reaction'\n",
      "Error with /Users/kevinmaikjablonka/Downloads/5104873/applications/2006/I20060601-SUPP.xml: 'reaction'\n",
      "Error with /Users/kevinmaikjablonka/Downloads/5104873/applications/2006/I20061228-SUPP.xml: 'reaction'\n"
     ]
    },
    {
     "name": "stderr",
     "output_type": "stream",
     "text": [
      " 33%|███▎      | 446/1364 [05:33<06:19,  2.42it/s]"
     ]
    },
    {
     "name": "stdout",
     "output_type": "stream",
     "text": [
      "Error with /Users/kevinmaikjablonka/Downloads/5104873/applications/2006/I20060928-SUPP.xml: 'reaction'\n",
      "Error with /Users/kevinmaikjablonka/Downloads/5104873/applications/2006/I20061102-SUPP.xml: 'reaction'\n"
     ]
    },
    {
     "name": "stderr",
     "output_type": "stream",
     "text": [
      " 33%|███▎      | 449/1364 [05:33<05:09,  2.95it/s]"
     ]
    },
    {
     "name": "stdout",
     "output_type": "stream",
     "text": [
      "Error with /Users/kevinmaikjablonka/Downloads/5104873/applications/2006/I20061109-SUPP.xml: 'reaction'\n"
     ]
    },
    {
     "name": "stderr",
     "output_type": "stream",
     "text": [
      " 33%|███▎      | 456/1364 [05:38<08:32,  1.77it/s]"
     ]
    },
    {
     "name": "stdout",
     "output_type": "stream",
     "text": [
      "Error with /Users/kevinmaikjablonka/Downloads/5104873/applications/2006/I20060713-SUPP.xml: 'reaction'\n"
     ]
    },
    {
     "name": "stderr",
     "output_type": "stream",
     "text": [
      " 34%|███▎      | 458/1364 [05:38<06:33,  2.30it/s]"
     ]
    },
    {
     "name": "stdout",
     "output_type": "stream",
     "text": [
      "Error with /Users/kevinmaikjablonka/Downloads/5104873/applications/2006/I20060803-SUPP.xml: 'reaction'\n",
      "Error with /Users/kevinmaikjablonka/Downloads/5104873/applications/2006/I20061207-SUPP.xml: 'reaction'\n",
      "Error with /Users/kevinmaikjablonka/Downloads/5104873/applications/2006/I20060727-SUPP.xml: 'reaction'\n"
     ]
    },
    {
     "name": "stderr",
     "output_type": "stream",
     "text": [
      " 34%|███▍      | 463/1364 [05:40<06:35,  2.28it/s]"
     ]
    },
    {
     "name": "stdout",
     "output_type": "stream",
     "text": [
      "Error with /Users/kevinmaikjablonka/Downloads/5104873/applications/2007/I20070201-SUPP.xml: 'reaction'\n",
      "Error with /Users/kevinmaikjablonka/Downloads/5104873/applications/2007/I20070308-SUPP.xml: 'reaction'\n"
     ]
    },
    {
     "name": "stderr",
     "output_type": "stream",
     "text": [
      " 34%|███▍      | 466/1364 [05:41<05:38,  2.66it/s]"
     ]
    },
    {
     "name": "stdout",
     "output_type": "stream",
     "text": [
      "Error with /Users/kevinmaikjablonka/Downloads/5104873/applications/2007/I20070614-SUPP.xml: 'reaction'\n",
      "Error with /Users/kevinmaikjablonka/Downloads/5104873/applications/2007/I20070405-SUPP.xml: 'reaction'\n"
     ]
    },
    {
     "name": "stderr",
     "output_type": "stream",
     "text": [
      " 34%|███▍      | 470/1364 [05:42<05:14,  2.84it/s]"
     ]
    },
    {
     "name": "stdout",
     "output_type": "stream",
     "text": [
      "Error with /Users/kevinmaikjablonka/Downloads/5104873/applications/2007/I20070118-SUPP.xml: 'reaction'\n",
      "Error with /Users/kevinmaikjablonka/Downloads/5104873/applications/2007/I20071018-SUPP.xml: 'reaction'\n"
     ]
    },
    {
     "name": "stderr",
     "output_type": "stream",
     "text": [
      " 35%|███▍      | 474/1364 [05:44<05:35,  2.66it/s]"
     ]
    },
    {
     "name": "stdout",
     "output_type": "stream",
     "text": [
      "Error with /Users/kevinmaikjablonka/Downloads/5104873/applications/2007/I20070621-SUPP.xml: 'reaction'\n"
     ]
    },
    {
     "name": "stderr",
     "output_type": "stream",
     "text": [
      " 35%|███▌      | 479/1364 [05:47<09:46,  1.51it/s]"
     ]
    },
    {
     "name": "stdout",
     "output_type": "stream",
     "text": [
      "Error with /Users/kevinmaikjablonka/Downloads/5104873/applications/2007/I20071004-SUPP.xml: 'reaction'\n"
     ]
    },
    {
     "name": "stderr",
     "output_type": "stream",
     "text": [
      " 35%|███▌      | 481/1364 [05:48<08:30,  1.73it/s]"
     ]
    },
    {
     "name": "stdout",
     "output_type": "stream",
     "text": [
      "Error with /Users/kevinmaikjablonka/Downloads/5104873/applications/2007/I20070927-SUPP.xml: 'reaction'\n",
      "Error with /Users/kevinmaikjablonka/Downloads/5104873/applications/2007/I20070524-SUPP.xml: 'reaction'\n",
      "Error with /Users/kevinmaikjablonka/Downloads/5104873/applications/2007/I20070412-SUPP.xml: 'reaction'\n"
     ]
    },
    {
     "name": "stderr",
     "output_type": "stream",
     "text": [
      " 36%|███▌      | 485/1364 [05:48<05:12,  2.82it/s]"
     ]
    },
    {
     "name": "stdout",
     "output_type": "stream",
     "text": [
      "Error with /Users/kevinmaikjablonka/Downloads/5104873/applications/2007/I20070315-SUPP.xml: 'reaction'\n",
      "Error with /Users/kevinmaikjablonka/Downloads/5104873/applications/2007/I20071220-SUPP.xml: 'reaction'\n",
      "Error with /Users/kevinmaikjablonka/Downloads/5104873/applications/2007/I20070426-SUPP.xml: 'reaction'\n",
      "Error with /Users/kevinmaikjablonka/Downloads/5104873/applications/2007/I20070510-SUPP.xml: 'reaction'\n",
      "Error with /Users/kevinmaikjablonka/Downloads/5104873/applications/2007/I20070222-SUPP.xml: 'reaction'\n",
      "Error with /Users/kevinmaikjablonka/Downloads/5104873/applications/2007/I20070419-SUPP.xml: 'reaction'\n",
      "Error with /Users/kevinmaikjablonka/Downloads/5104873/applications/2007/I20070913-SUPP.xml: 'reaction'\n",
      "Error with /Users/kevinmaikjablonka/Downloads/5104873/applications/2007/I20070104-SUPP.xml: 'reaction'\n"
     ]
    },
    {
     "name": "stderr",
     "output_type": "stream",
     "text": [
      " 36%|███▋      | 497/1364 [05:52<05:42,  2.53it/s]"
     ]
    },
    {
     "name": "stdout",
     "output_type": "stream",
     "text": [
      "Error with /Users/kevinmaikjablonka/Downloads/5104873/applications/2007/I20070920-SUPP.xml: 'reaction'\n",
      "Error with /Users/kevinmaikjablonka/Downloads/5104873/applications/2007/I20070816-SUPP.xml: 'reaction'\n"
     ]
    },
    {
     "name": "stderr",
     "output_type": "stream",
     "text": [
      " 37%|███▋      | 500/1364 [05:53<05:47,  2.49it/s]"
     ]
    },
    {
     "name": "stdout",
     "output_type": "stream",
     "text": [
      "Error with /Users/kevinmaikjablonka/Downloads/5104873/applications/2007/I20071213-SUPP.xml: 'reaction'\n",
      "Error with /Users/kevinmaikjablonka/Downloads/5104873/applications/2007/I20071227-SUPP.xml: 'reaction'\n",
      "Error with /Users/kevinmaikjablonka/Downloads/5104873/applications/2007/I20070823-SUPP.xml: 'reaction'\n"
     ]
    },
    {
     "name": "stderr",
     "output_type": "stream",
     "text": [
      " 37%|███▋      | 504/1364 [05:54<05:05,  2.82it/s]"
     ]
    },
    {
     "name": "stdout",
     "output_type": "stream",
     "text": [
      "Error with /Users/kevinmaikjablonka/Downloads/5104873/applications/2007/I20071101-SUPP.xml: 'reaction'\n"
     ]
    },
    {
     "name": "stderr",
     "output_type": "stream",
     "text": [
      " 37%|███▋      | 507/1364 [05:56<05:51,  2.44it/s]"
     ]
    },
    {
     "name": "stdout",
     "output_type": "stream",
     "text": [
      "Error with /Users/kevinmaikjablonka/Downloads/5104873/applications/2007/I20070517-SUPP.xml: 'reaction'\n"
     ]
    },
    {
     "name": "stderr",
     "output_type": "stream",
     "text": [
      " 38%|███▊      | 513/1364 [06:01<12:06,  1.17it/s]"
     ]
    },
    {
     "name": "stdout",
     "output_type": "stream",
     "text": [
      "Error with /Users/kevinmaikjablonka/Downloads/5104873/applications/2007/I20071122-SUPP.xml: 'reaction'\n"
     ]
    },
    {
     "name": "stderr",
     "output_type": "stream",
     "text": [
      " 38%|███▊      | 515/1364 [06:02<10:02,  1.41it/s]"
     ]
    },
    {
     "name": "stdout",
     "output_type": "stream",
     "text": [
      "Error with /Users/kevinmaikjablonka/Downloads/5104873/applications/2007/I20071129-SUPP.xml: 'reaction'\n"
     ]
    },
    {
     "name": "stderr",
     "output_type": "stream",
     "text": [
      " 38%|███▊      | 520/1364 [06:05<09:18,  1.51it/s]"
     ]
    },
    {
     "name": "stdout",
     "output_type": "stream",
     "text": [
      "Error with /Users/kevinmaikjablonka/Downloads/5104873/applications/2007/I20070329-SUPP.xml: 'reaction'\n"
     ]
    },
    {
     "name": "stderr",
     "output_type": "stream",
     "text": [
      " 38%|███▊      | 522/1364 [06:05<07:14,  1.94it/s]"
     ]
    },
    {
     "name": "stdout",
     "output_type": "stream",
     "text": [
      "Error with /Users/kevinmaikjablonka/Downloads/5104873/applications/2007/I20070215-SUPP.xml: 'reaction'\n"
     ]
    },
    {
     "name": "stderr",
     "output_type": "stream",
     "text": [
      " 39%|███▊      | 526/1364 [06:07<06:38,  2.10it/s]"
     ]
    },
    {
     "name": "stdout",
     "output_type": "stream",
     "text": [
      "Error with /Users/kevinmaikjablonka/Downloads/5104873/applications/2007/I20070322-SUPP.xml: 'reaction'\n"
     ]
    },
    {
     "name": "stderr",
     "output_type": "stream",
     "text": [
      " 39%|███▉      | 530/1364 [06:09<07:52,  1.77it/s]"
     ]
    },
    {
     "name": "stdout",
     "output_type": "stream",
     "text": [
      "Error with /Users/kevinmaikjablonka/Downloads/5104873/applications/2007/I20070301-SUPP.xml: 'reaction'\n",
      "Error with /Users/kevinmaikjablonka/Downloads/5104873/applications/2007/I20070830-SUPP.xml: 'reaction'\n",
      "Error with /Users/kevinmaikjablonka/Downloads/5104873/applications/2007/I20070208-SUPP.xml: 'reaction'\n",
      "Error with /Users/kevinmaikjablonka/Downloads/5104873/applications/2007/I20071025-SUPP.xml: 'reaction'\n",
      "Error with /Users/kevinmaikjablonka/Downloads/5104873/applications/2007/I20070111-SUPP.xml: 'reaction'\n"
     ]
    },
    {
     "name": "stderr",
     "output_type": "stream",
     "text": [
      " 39%|███▉      | 536/1364 [06:09<03:07,  4.40it/s]"
     ]
    },
    {
     "name": "stdout",
     "output_type": "stream",
     "text": [
      "Error with /Users/kevinmaikjablonka/Downloads/5104873/applications/2007/I20070906-SUPP.xml: 'reaction'\n"
     ]
    },
    {
     "name": "stderr",
     "output_type": "stream",
     "text": [
      " 40%|███▉      | 539/1364 [06:11<03:50,  3.57it/s]"
     ]
    },
    {
     "name": "stdout",
     "output_type": "stream",
     "text": [
      "Error with /Users/kevinmaikjablonka/Downloads/5104873/applications/2007/I20070531-SUPP.xml: 'reaction'\n"
     ]
    },
    {
     "name": "stderr",
     "output_type": "stream",
     "text": [
      " 40%|███▉      | 541/1364 [06:11<04:39,  2.94it/s]"
     ]
    },
    {
     "name": "stdout",
     "output_type": "stream",
     "text": [
      "Error with /Users/kevinmaikjablonka/Downloads/5104873/applications/2007/I20071011-SUPP.xml: 'reaction'\n",
      "Error with /Users/kevinmaikjablonka/Downloads/5104873/applications/2007/I20070125-SUPP.xml: 'reaction'\n"
     ]
    },
    {
     "name": "stderr",
     "output_type": "stream",
     "text": [
      " 40%|███▉      | 544/1364 [06:13<04:51,  2.82it/s]"
     ]
    },
    {
     "name": "stdout",
     "output_type": "stream",
     "text": [
      "Error with /Users/kevinmaikjablonka/Downloads/5104873/applications/2007/I20070628-SUPP.xml: 'reaction'\n",
      "Error with /Users/kevinmaikjablonka/Downloads/5104873/applications/2007/I20071115-SUPP.xml: 'reaction'\n",
      "Error with /Users/kevinmaikjablonka/Downloads/5104873/applications/2007/I20070712-SUPP.xml: 'reaction'\n"
     ]
    },
    {
     "name": "stderr",
     "output_type": "stream",
     "text": [
      " 40%|████      | 552/1364 [06:16<06:59,  1.93it/s]"
     ]
    },
    {
     "name": "stdout",
     "output_type": "stream",
     "text": [
      "Error with /Users/kevinmaikjablonka/Downloads/5104873/applications/2007/I20070809-SUPP.xml: 'reaction'\n",
      "Error with /Users/kevinmaikjablonka/Downloads/5104873/applications/2007/I20070503-SUPP.xml: 'reaction'\n"
     ]
    },
    {
     "name": "stderr",
     "output_type": "stream",
     "text": [
      " 41%|████      | 556/1364 [06:17<06:07,  2.20it/s]"
     ]
    },
    {
     "name": "stdout",
     "output_type": "stream",
     "text": [
      "Error with /Users/kevinmaikjablonka/Downloads/5104873/applications/2007/I20070719-SUPP.xml: 'reaction'\n",
      "Error with /Users/kevinmaikjablonka/Downloads/5104873/applications/2007/I20071206-SUPP.xml: 'reaction'\n",
      "Error with /Users/kevinmaikjablonka/Downloads/5104873/applications/2007/I20070802-SUPP.xml: 'reaction'\n"
     ]
    },
    {
     "name": "stderr",
     "output_type": "stream",
     "text": [
      " 41%|████      | 561/1364 [06:19<05:22,  2.49it/s]"
     ]
    },
    {
     "name": "stdout",
     "output_type": "stream",
     "text": [
      "Error with /Users/kevinmaikjablonka/Downloads/5104873/applications/2007/I20070726-SUPP.xml: 'reaction'\n"
     ]
    },
    {
     "name": "stderr",
     "output_type": "stream",
     "text": [
      " 41%|████▏     | 563/1364 [06:20<05:13,  2.55it/s]"
     ]
    },
    {
     "name": "stdout",
     "output_type": "stream",
     "text": [
      "Error with /Users/kevinmaikjablonka/Downloads/5104873/applications/2007/I20070705-SUPP.xml: 'reaction'\n",
      "Error with /Users/kevinmaikjablonka/Downloads/5104873/applications/2007/I20071108-SUPP.xml: 'reaction'\n",
      "Error with /Users/kevinmaikjablonka/Downloads/5104873/applications/2007/I20070607-SUPP.xml: 'reaction'\n",
      "Error with /Users/kevinmaikjablonka/Downloads/5104873/applications/2009/I20091119-SUPP.xml: 'reaction'\n",
      "Error with /Users/kevinmaikjablonka/Downloads/5104873/applications/2009/I20091126-SUPP.xml: 'reaction'\n"
     ]
    },
    {
     "name": "stderr",
     "output_type": "stream",
     "text": [
      " 42%|████▏     | 573/1364 [06:25<08:31,  1.55it/s]"
     ]
    },
    {
     "name": "stdout",
     "output_type": "stream",
     "text": [
      "Error with /Users/kevinmaikjablonka/Downloads/5104873/applications/2009/I20091112-SUPP.xml: 'reaction'\n"
     ]
    },
    {
     "name": "stderr",
     "output_type": "stream",
     "text": [
      " 43%|████▎     | 581/1364 [06:32<13:29,  1.03s/it]"
     ]
    },
    {
     "name": "stdout",
     "output_type": "stream",
     "text": [
      "Error with /Users/kevinmaikjablonka/Downloads/5104873/applications/2009/I20090924-SUPP.xml: 'reaction'\n",
      "Error with /Users/kevinmaikjablonka/Downloads/5104873/applications/2009/I20090709-SUPP.xml: 'reaction'\n",
      "Error with /Users/kevinmaikjablonka/Downloads/5104873/applications/2009/I20091217-SUPP.xml: 'reaction'\n",
      "Error with /Users/kevinmaikjablonka/Downloads/5104873/applications/2009/I20090813-SUPP.xml: 'reaction'\n"
     ]
    },
    {
     "name": "stderr",
     "output_type": "stream",
     "text": [
      " 43%|████▎     | 587/1364 [06:35<08:36,  1.51it/s]"
     ]
    },
    {
     "name": "stdout",
     "output_type": "stream",
     "text": [
      "Error with /Users/kevinmaikjablonka/Downloads/5104873/applications/2009/I20091105-SUPP.xml: 'reaction'\n",
      "Error with /Users/kevinmaikjablonka/Downloads/5104873/applications/2009/I20090702-SUPP.xml: 'reaction'\n",
      "Error with /Users/kevinmaikjablonka/Downloads/5104873/applications/2009/I20090827-SUPP.xml: 'reaction'\n"
     ]
    },
    {
     "name": "stderr",
     "output_type": "stream",
     "text": [
      " 43%|████▎     | 592/1364 [06:36<05:15,  2.44it/s]"
     ]
    },
    {
     "name": "stdout",
     "output_type": "stream",
     "text": [
      "Error with /Users/kevinmaikjablonka/Downloads/5104873/applications/2009/I20090910-SUPP.xml: 'reaction'\n"
     ]
    },
    {
     "name": "stderr",
     "output_type": "stream",
     "text": [
      " 44%|████▎     | 594/1364 [06:37<06:02,  2.12it/s]"
     ]
    },
    {
     "name": "stdout",
     "output_type": "stream",
     "text": [
      "Error with /Users/kevinmaikjablonka/Downloads/5104873/applications/2009/I20090521-SUPP.xml: 'reaction'\n",
      "Error with /Users/kevinmaikjablonka/Downloads/5104873/applications/2009/I20090212-SUPP.xml: 'reaction'\n"
     ]
    },
    {
     "name": "stderr",
     "output_type": "stream",
     "text": [
      " 44%|████▍     | 599/1364 [06:38<04:15,  2.99it/s]"
     ]
    },
    {
     "name": "stdout",
     "output_type": "stream",
     "text": [
      "Error with /Users/kevinmaikjablonka/Downloads/5104873/applications/2009/I20091001-SUPP.xml: 'reaction'\n",
      "Error with /Users/kevinmaikjablonka/Downloads/5104873/applications/2009/I20091210-SUPP.xml: 'reaction'\n",
      "Error with /Users/kevinmaikjablonka/Downloads/5104873/applications/2009/I20090416-SUPP.xml: 'reaction'\n",
      "Error with /Users/kevinmaikjablonka/Downloads/5104873/applications/2009/I20090730-SUPP.xml: 'reaction'\n"
     ]
    },
    {
     "name": "stderr",
     "output_type": "stream",
     "text": [
      " 44%|████▍     | 605/1364 [06:40<04:48,  2.63it/s]"
     ]
    },
    {
     "name": "stdout",
     "output_type": "stream",
     "text": [
      "Error with /Users/kevinmaikjablonka/Downloads/5104873/applications/2009/I20090423-SUPP.xml: 'reaction'\n",
      "Error with /Users/kevinmaikjablonka/Downloads/5104873/applications/2009/I20091224-SUPP.xml: 'reaction'\n"
     ]
    },
    {
     "name": "stderr",
     "output_type": "stream",
     "text": [
      " 45%|████▍     | 608/1364 [06:42<05:07,  2.46it/s]"
     ]
    },
    {
     "name": "stdout",
     "output_type": "stream",
     "text": [
      "Error with /Users/kevinmaikjablonka/Downloads/5104873/applications/2009/I20090820-SUPP.xml: 'reaction'\n",
      "Error with /Users/kevinmaikjablonka/Downloads/5104873/applications/2009/I20090219-SUPP.xml: 'reaction'\n",
      "Error with /Users/kevinmaikjablonka/Downloads/5104873/applications/2009/I20090101-SUPP.xml: 'reaction'\n",
      "Error with /Users/kevinmaikjablonka/Downloads/5104873/applications/2009/I20090917-SUPP.xml: 'reaction'\n",
      "Error with /Users/kevinmaikjablonka/Downloads/5104873/applications/2009/I20090514-SUPP.xml: 'reaction'\n",
      "Error with /Users/kevinmaikjablonka/Downloads/5104873/applications/2009/I20090226-SUPP.xml: 'reaction'\n",
      "Error with /Users/kevinmaikjablonka/Downloads/5104873/applications/2009/I20090122-SUPP.xml: 'reaction'\n",
      "Error with /Users/kevinmaikjablonka/Downloads/5104873/applications/2009/I20090611-SUPP.xml: 'reaction'\n"
     ]
    },
    {
     "name": "stderr",
     "output_type": "stream",
     "text": [
      " 45%|████▌     | 617/1364 [06:43<03:14,  3.84it/s]"
     ]
    },
    {
     "name": "stdout",
     "output_type": "stream",
     "text": [
      "Error with /Users/kevinmaikjablonka/Downloads/5104873/applications/2009/I20090205-SUPP.xml: 'reaction'\n"
     ]
    },
    {
     "name": "stderr",
     "output_type": "stream",
     "text": [
      " 45%|████▌     | 619/1364 [06:44<03:46,  3.29it/s]"
     ]
    },
    {
     "name": "stdout",
     "output_type": "stream",
     "text": [
      "Error with /Users/kevinmaikjablonka/Downloads/5104873/applications/2009/I20091029-SUPP.xml: 'reaction'\n"
     ]
    },
    {
     "name": "stderr",
     "output_type": "stream",
     "text": [
      " 46%|████▌     | 625/1364 [06:50<09:08,  1.35it/s]"
     ]
    },
    {
     "name": "stdout",
     "output_type": "stream",
     "text": [
      "Error with /Users/kevinmaikjablonka/Downloads/5104873/applications/2009/I20090129-SUPP.xml: 'reaction'\n"
     ]
    },
    {
     "name": "stderr",
     "output_type": "stream",
     "text": [
      " 46%|████▌     | 627/1364 [06:52<08:42,  1.41it/s]"
     ]
    },
    {
     "name": "stdout",
     "output_type": "stream",
     "text": [
      "Error with /Users/kevinmaikjablonka/Downloads/5104873/applications/2009/I20091022-SUPP.xml: 'reaction'\n",
      "Error with /Users/kevinmaikjablonka/Downloads/5104873/applications/2009/I20090625-SUPP.xml: 'reaction'\n"
     ]
    },
    {
     "name": "stderr",
     "output_type": "stream",
     "text": [
      " 46%|████▋     | 634/1364 [06:57<11:01,  1.10it/s]"
     ]
    },
    {
     "name": "stdout",
     "output_type": "stream",
     "text": [
      "Error with /Users/kevinmaikjablonka/Downloads/5104873/applications/2009/I20090430-SUPP.xml: 'reaction'\n"
     ]
    },
    {
     "name": "stderr",
     "output_type": "stream",
     "text": [
      " 47%|████▋     | 636/1364 [06:58<09:06,  1.33it/s]"
     ]
    },
    {
     "name": "stdout",
     "output_type": "stream",
     "text": [
      "Error with /Users/kevinmaikjablonka/Downloads/5104873/applications/2009/I20090716-SUPP.xml: 'reaction'\n"
     ]
    },
    {
     "name": "stderr",
     "output_type": "stream",
     "text": [
      " 47%|████▋     | 641/1364 [07:03<09:30,  1.27it/s]"
     ]
    },
    {
     "name": "stdout",
     "output_type": "stream",
     "text": [
      "Error with /Users/kevinmaikjablonka/Downloads/5104873/applications/2009/I20090507-SUPP.xml: 'reaction'\n"
     ]
    },
    {
     "name": "stderr",
     "output_type": "stream",
     "text": [
      " 47%|████▋     | 644/1364 [07:04<08:21,  1.43it/s]"
     ]
    },
    {
     "name": "stdout",
     "output_type": "stream",
     "text": [
      "Error with /Users/kevinmaikjablonka/Downloads/5104873/applications/2009/I20090723-SUPP.xml: 'reaction'\n",
      "Error with /Users/kevinmaikjablonka/Downloads/5104873/applications/2009/I20090806-SUPP.xml: 'reaction'\n"
     ]
    },
    {
     "name": "stderr",
     "output_type": "stream",
     "text": [
      " 47%|████▋     | 647/1364 [07:05<06:40,  1.79it/s]"
     ]
    },
    {
     "name": "stdout",
     "output_type": "stream",
     "text": [
      "Error with /Users/kevinmaikjablonka/Downloads/5104873/applications/2009/I20091203-SUPP.xml: 'reaction'\n",
      "Error with /Users/kevinmaikjablonka/Downloads/5104873/applications/2009/I20091231-SUPP.xml: 'reaction'\n",
      "Error with /Users/kevinmaikjablonka/Downloads/5104873/applications/2009/I20090305-SUPP.xml: 'reaction'\n"
     ]
    },
    {
     "name": "stderr",
     "output_type": "stream",
     "text": [
      " 48%|████▊     | 651/1364 [07:07<05:52,  2.02it/s]"
     ]
    },
    {
     "name": "stdout",
     "output_type": "stream",
     "text": [
      "Error with /Users/kevinmaikjablonka/Downloads/5104873/applications/2009/I20090618-SUPP.xml: 'reaction'\n",
      "Error with /Users/kevinmaikjablonka/Downloads/5104873/applications/2009/I20090903-SUPP.xml: 'reaction'\n",
      "Error with /Users/kevinmaikjablonka/Downloads/5104873/applications/2009/I20090409-SUPP.xml: 'reaction'\n"
     ]
    },
    {
     "name": "stderr",
     "output_type": "stream",
     "text": [
      " 48%|████▊     | 656/1364 [07:08<04:16,  2.76it/s]"
     ]
    },
    {
     "name": "stdout",
     "output_type": "stream",
     "text": [
      "Error with /Users/kevinmaikjablonka/Downloads/5104873/applications/2009/I20090115-SUPP.xml: 'reaction'\n",
      "Error with /Users/kevinmaikjablonka/Downloads/5104873/applications/2009/I20091015-SUPP.xml: 'reaction'\n"
     ]
    },
    {
     "name": "stderr",
     "output_type": "stream",
     "text": [
      " 49%|████▊     | 662/1364 [07:12<07:45,  1.51it/s]"
     ]
    },
    {
     "name": "stdout",
     "output_type": "stream",
     "text": [
      "Error with /Users/kevinmaikjablonka/Downloads/5104873/applications/2009/I20090402-SUPP.xml: 'reaction'\n"
     ]
    },
    {
     "name": "stderr",
     "output_type": "stream",
     "text": [
      " 49%|████▉     | 666/1364 [07:16<10:15,  1.13it/s]"
     ]
    },
    {
     "name": "stdout",
     "output_type": "stream",
     "text": [
      "Error with /Users/kevinmaikjablonka/Downloads/5104873/applications/2009/I20091008-SUPP.xml: 'reaction'\n"
     ]
    },
    {
     "name": "stderr",
     "output_type": "stream",
     "text": [
      " 49%|████▉     | 670/1364 [07:20<10:50,  1.07it/s]"
     ]
    },
    {
     "name": "stdout",
     "output_type": "stream",
     "text": [
      "Error with /Users/kevinmaikjablonka/Downloads/5104873/applications/2009/I20090312-SUPP.xml: 'reaction'\n",
      "Error with /Users/kevinmaikjablonka/Downloads/5104873/applications/2009/I20090528-SUPP.xml: 'reaction'\n"
     ]
    },
    {
     "name": "stderr",
     "output_type": "stream",
     "text": [
      " 49%|████▉     | 673/1364 [07:21<07:31,  1.53it/s]"
     ]
    },
    {
     "name": "stdout",
     "output_type": "stream",
     "text": [
      "Error with /Users/kevinmaikjablonka/Downloads/5104873/applications/2009/I20090319-SUPP.xml: 'reaction'\n",
      "Error with /Users/kevinmaikjablonka/Downloads/5104873/applications/2009/I20090604-SUPP.xml: 'reaction'\n"
     ]
    },
    {
     "name": "stderr",
     "output_type": "stream",
     "text": [
      " 50%|████▉     | 677/1364 [07:23<06:07,  1.87it/s]"
     ]
    },
    {
     "name": "stdout",
     "output_type": "stream",
     "text": [
      "Error with /Users/kevinmaikjablonka/Downloads/5104873/applications/2009/I20090326-SUPP.xml: 'reaction'\n",
      "Error with /Users/kevinmaikjablonka/Downloads/5104873/applications/2009/I20090108-SUPP.xml: 'reaction'\n"
     ]
    },
    {
     "name": "stderr",
     "output_type": "stream",
     "text": [
      " 50%|█████     | 683/1364 [07:28<08:57,  1.27it/s]"
     ]
    },
    {
     "name": "stdout",
     "output_type": "stream",
     "text": [
      "Error with /Users/kevinmaikjablonka/Downloads/5104873/applications/2010/I20100916-SUPP.xml: 'reaction'\n"
     ]
    },
    {
     "name": "stderr",
     "output_type": "stream",
     "text": [
      " 50%|█████     | 686/1364 [07:30<08:15,  1.37it/s]"
     ]
    },
    {
     "name": "stdout",
     "output_type": "stream",
     "text": [
      "Error with /Users/kevinmaikjablonka/Downloads/5104873/applications/2010/I20100422-SUPP.xml: 'reaction'\n",
      "Error with /Users/kevinmaikjablonka/Downloads/5104873/applications/2010/I20100311-SUPP.xml: 'reaction'\n"
     ]
    },
    {
     "name": "stderr",
     "output_type": "stream",
     "text": [
      " 51%|█████     | 691/1364 [07:31<05:18,  2.12it/s]"
     ]
    },
    {
     "name": "stdout",
     "output_type": "stream",
     "text": [
      "Error with /Users/kevinmaikjablonka/Downloads/5104873/applications/2010/I20100218-SUPP.xml: 'reaction'\n",
      "Error with /Users/kevinmaikjablonka/Downloads/5104873/applications/2010/I20100325-SUPP.xml: 'reaction'\n"
     ]
    },
    {
     "name": "stderr",
     "output_type": "stream",
     "text": [
      " 51%|█████     | 697/1364 [07:37<10:33,  1.05it/s]"
     ]
    },
    {
     "name": "stdout",
     "output_type": "stream",
     "text": [
      "Error with /Users/kevinmaikjablonka/Downloads/5104873/applications/2010/I20100520-SUPP.xml: 'reaction'\n",
      "Error with /Users/kevinmaikjablonka/Downloads/5104873/applications/2010/I20100923-SUPP.xml: 'reaction'\n",
      "Error with /Users/kevinmaikjablonka/Downloads/5104873/applications/2010/I20100429-SUPP.xml: 'reaction'\n"
     ]
    },
    {
     "name": "stderr",
     "output_type": "stream",
     "text": [
      " 52%|█████▏    | 704/1364 [07:42<09:39,  1.14it/s]"
     ]
    },
    {
     "name": "stdout",
     "output_type": "stream",
     "text": [
      "Error with /Users/kevinmaikjablonka/Downloads/5104873/applications/2010/I20100624-SUPP.xml: 'reaction'\n",
      "Error with /Users/kevinmaikjablonka/Downloads/5104873/applications/2010/I20100128-SUPP.xml: 'reaction'\n"
     ]
    },
    {
     "name": "stderr",
     "output_type": "stream",
     "text": [
      " 52%|█████▏    | 709/1364 [07:45<08:20,  1.31it/s]"
     ]
    },
    {
     "name": "stdout",
     "output_type": "stream",
     "text": [
      "Error with /Users/kevinmaikjablonka/Downloads/5104873/applications/2010/I20100401-SUPP.xml: 'reaction'\n"
     ]
    },
    {
     "name": "stderr",
     "output_type": "stream",
     "text": [
      " 52%|█████▏    | 711/1364 [07:47<08:20,  1.31it/s]"
     ]
    },
    {
     "name": "stdout",
     "output_type": "stream",
     "text": [
      "Error with /Users/kevinmaikjablonka/Downloads/5104873/applications/2010/I20100610-SUPP.xml: 'reaction'\n"
     ]
    },
    {
     "name": "stderr",
     "output_type": "stream",
     "text": [
      " 52%|█████▏    | 715/1364 [07:48<06:25,  1.68it/s]"
     ]
    },
    {
     "name": "stdout",
     "output_type": "stream",
     "text": [
      "Error with /Users/kevinmaikjablonka/Downloads/5104873/applications/2010/I20100204-SUPP.xml: 'reaction'\n"
     ]
    },
    {
     "name": "stderr",
     "output_type": "stream",
     "text": [
      " 53%|█████▎    | 718/1364 [07:51<08:28,  1.27it/s]"
     ]
    },
    {
     "name": "stdout",
     "output_type": "stream",
     "text": [
      "Error with /Users/kevinmaikjablonka/Downloads/5104873/applications/2010/I20100805-SUPP.xml: 'reaction'\n",
      "Error with /Users/kevinmaikjablonka/Downloads/5104873/applications/2010/I20100617-SUPP.xml: 'reaction'\n",
      "Error with /Users/kevinmaikjablonka/Downloads/5104873/applications/2010/I20100107-SUPP.xml: 'reaction'\n"
     ]
    },
    {
     "name": "stderr",
     "output_type": "stream",
     "text": [
      " 53%|█████▎    | 724/1364 [07:53<05:16,  2.03it/s]"
     ]
    },
    {
     "name": "stdout",
     "output_type": "stream",
     "text": [
      "Error with /Users/kevinmaikjablonka/Downloads/5104873/applications/2010/I20100819-SUPP.xml: 'reaction'\n",
      "Error with /Users/kevinmaikjablonka/Downloads/5104873/applications/2010/I20100513-SUPP.xml: 'reaction'\n"
     ]
    },
    {
     "name": "stderr",
     "output_type": "stream",
     "text": [
      " 53%|█████▎    | 729/1364 [07:56<05:30,  1.92it/s]"
     ]
    },
    {
     "name": "stdout",
     "output_type": "stream",
     "text": [
      "Error with /Users/kevinmaikjablonka/Downloads/5104873/applications/2010/I20100826-SUPP.xml: 'reaction'\n"
     ]
    },
    {
     "name": "stderr",
     "output_type": "stream",
     "text": [
      " 54%|█████▎    | 732/1364 [07:57<05:47,  1.82it/s]"
     ]
    },
    {
     "name": "stdout",
     "output_type": "stream",
     "text": [
      "Error with /Users/kevinmaikjablonka/Downloads/5104873/applications/2010/I20100812-SUPP.xml: 'reaction'\n"
     ]
    },
    {
     "name": "stderr",
     "output_type": "stream",
     "text": [
      " 54%|█████▍    | 736/1364 [08:01<07:49,  1.34it/s]"
     ]
    },
    {
     "name": "stdout",
     "output_type": "stream",
     "text": [
      "Error with /Users/kevinmaikjablonka/Downloads/5104873/applications/2010/I20100527-SUPP.xml: 'reaction'\n"
     ]
    },
    {
     "name": "stderr",
     "output_type": "stream",
     "text": [
      " 54%|█████▍    | 738/1364 [08:02<07:33,  1.38it/s]"
     ]
    },
    {
     "name": "stdout",
     "output_type": "stream",
     "text": [
      "Error with /Users/kevinmaikjablonka/Downloads/5104873/applications/2010/I20100708-SUPP.xml: 'reaction'\n",
      "Error with /Users/kevinmaikjablonka/Downloads/5104873/applications/2010/I20100909-SUPP.xml: 'reaction'\n",
      "Error with /Users/kevinmaikjablonka/Downloads/5104873/applications/2010/I20100121-SUPP.xml: 'reaction'\n"
     ]
    },
    {
     "name": "stderr",
     "output_type": "stream",
     "text": [
      " 55%|█████▍    | 747/1364 [08:04<03:26,  2.99it/s]"
     ]
    },
    {
     "name": "stdout",
     "output_type": "stream",
     "text": [
      "Error with /Users/kevinmaikjablonka/Downloads/5104873/applications/2010/I20100408-SUPP.xml: 'reaction'\n",
      "Error with /Users/kevinmaikjablonka/Downloads/5104873/applications/2010/I20100902-SUPP.xml: 'reaction'\n",
      "Error with /Users/kevinmaikjablonka/Downloads/5104873/applications/2010/I20100114-SUPP.xml: 'reaction'\n",
      "Error with /Users/kevinmaikjablonka/Downloads/5104873/applications/2010/I20100304-SUPP.xml: 'reaction'\n",
      "Error with /Users/kevinmaikjablonka/Downloads/5104873/applications/2010/I20100415-SUPP.xml: 'reaction'\n"
     ]
    },
    {
     "name": "stderr",
     "output_type": "stream",
     "text": [
      " 55%|█████▌    | 751/1364 [08:06<04:15,  2.40it/s]"
     ]
    },
    {
     "name": "stdout",
     "output_type": "stream",
     "text": [
      "Error with /Users/kevinmaikjablonka/Downloads/5104873/applications/2010/I20100211-SUPP.xml: 'reaction'\n"
     ]
    },
    {
     "name": "stderr",
     "output_type": "stream",
     "text": [
      " 55%|█████▌    | 753/1364 [08:08<05:40,  1.79it/s]"
     ]
    },
    {
     "name": "stdout",
     "output_type": "stream",
     "text": [
      "Error with /Users/kevinmaikjablonka/Downloads/5104873/applications/2010/I20100318-SUPP.xml: 'reaction'\n"
     ]
    },
    {
     "name": "stderr",
     "output_type": "stream",
     "text": [
      " 56%|█████▌    | 759/1364 [08:15<10:34,  1.05s/it]"
     ]
    },
    {
     "name": "stdout",
     "output_type": "stream",
     "text": [
      "Error with /Users/kevinmaikjablonka/Downloads/5104873/applications/2010/I20100225-SUPP.xml: 'reaction'\n"
     ]
    },
    {
     "name": "stderr",
     "output_type": "stream",
     "text": [
      " 56%|█████▌    | 767/1364 [08:21<09:10,  1.09it/s]"
     ]
    },
    {
     "name": "stdout",
     "output_type": "stream",
     "text": [
      "Error with /Users/kevinmaikjablonka/Downloads/5104873/applications/2010/I20100603-SUPP.xml: 'reaction'\n"
     ]
    },
    {
     "name": "stderr",
     "output_type": "stream",
     "text": [
      " 57%|█████▋    | 771/1364 [08:23<07:31,  1.31it/s]"
     ]
    },
    {
     "name": "stdout",
     "output_type": "stream",
     "text": [
      "Error with /Users/kevinmaikjablonka/Downloads/5104873/applications/2010/I20100701-SUPP.xml: 'reaction'\n"
     ]
    },
    {
     "name": "stderr",
     "output_type": "stream",
     "text": [
      " 57%|█████▋    | 776/1364 [08:27<08:31,  1.15it/s]"
     ]
    },
    {
     "name": "stdout",
     "output_type": "stream",
     "text": [
      "Error with /Users/kevinmaikjablonka/Downloads/5104873/applications/2010/I20100722-SUPP.xml: 'reaction'\n"
     ]
    },
    {
     "name": "stderr",
     "output_type": "stream",
     "text": [
      " 57%|█████▋    | 781/1364 [08:32<10:36,  1.09s/it]"
     ]
    },
    {
     "name": "stdout",
     "output_type": "stream",
     "text": [
      "Error with /Users/kevinmaikjablonka/Downloads/5104873/applications/2010/I20100930-SUPP.xml: 'reaction'\n",
      "Error with /Users/kevinmaikjablonka/Downloads/5104873/applications/2010/I20100506-SUPP.xml: 'reaction'\n",
      "Error with /Users/kevinmaikjablonka/Downloads/5104873/applications/2010/I20100729-SUPP.xml: 'reaction'\n"
     ]
    },
    {
     "name": "stderr",
     "output_type": "stream",
     "text": [
      " 58%|█████▊    | 786/1364 [08:33<05:15,  1.83it/s]"
     ]
    },
    {
     "name": "stdout",
     "output_type": "stream",
     "text": [
      "Error with /Users/kevinmaikjablonka/Downloads/5104873/applications/2011/I20110901-SUPP.xml: 'reaction'\n"
     ]
    },
    {
     "name": "stderr",
     "output_type": "stream",
     "text": [
      " 58%|█████▊    | 797/1364 [08:41<05:49,  1.62it/s]"
     ]
    },
    {
     "name": "stdout",
     "output_type": "stream",
     "text": [
      "Error with /Users/kevinmaikjablonka/Downloads/5104873/applications/2011/I20111103-SUPP.xml: 'reaction'\n"
     ]
    },
    {
     "name": "stderr",
     "output_type": "stream",
     "text": [
      " 59%|█████▊    | 800/1364 [08:43<05:45,  1.63it/s]"
     ]
    },
    {
     "name": "stdout",
     "output_type": "stream",
     "text": [
      "Error with /Users/kevinmaikjablonka/Downloads/5104873/applications/2011/I20110929-SUPP.xml: 'reaction'\n",
      "Error with /Users/kevinmaikjablonka/Downloads/5104873/applications/2011/I20110310-SUPP.xml: 'reaction'\n"
     ]
    },
    {
     "name": "stderr",
     "output_type": "stream",
     "text": [
      " 59%|█████▉    | 805/1364 [08:45<04:27,  2.09it/s]"
     ]
    },
    {
     "name": "stdout",
     "output_type": "stream",
     "text": [
      "Error with /Users/kevinmaikjablonka/Downloads/5104873/applications/2011/I20110428-SUPP.xml: 'reaction'\n"
     ]
    },
    {
     "name": "stderr",
     "output_type": "stream",
     "text": [
      " 59%|█████▉    | 807/1364 [08:46<04:28,  2.08it/s]"
     ]
    },
    {
     "name": "stdout",
     "output_type": "stream",
     "text": [
      "Error with /Users/kevinmaikjablonka/Downloads/5104873/applications/2011/I20110922-SUPP.xml: 'reaction'\n"
     ]
    },
    {
     "name": "stderr",
     "output_type": "stream",
     "text": [
      " 60%|█████▉    | 812/1364 [08:48<04:02,  2.27it/s]"
     ]
    },
    {
     "name": "stdout",
     "output_type": "stream",
     "text": [
      "Error with /Users/kevinmaikjablonka/Downloads/5104873/applications/2011/I20110324-SUPP.xml: 'reaction'\n"
     ]
    },
    {
     "name": "stderr",
     "output_type": "stream",
     "text": [
      " 60%|█████▉    | 815/1364 [08:49<03:44,  2.45it/s]"
     ]
    },
    {
     "name": "stdout",
     "output_type": "stream",
     "text": [
      "Error with /Users/kevinmaikjablonka/Downloads/5104873/applications/2011/I20110317-SUPP.xml: 'reaction'\n",
      "Error with /Users/kevinmaikjablonka/Downloads/5104873/applications/2011/I20111222-SUPP.xml: 'reaction'\n",
      "Error with /Users/kevinmaikjablonka/Downloads/5104873/applications/2011/I20110106-SUPP.xml: 'reaction'\n"
     ]
    },
    {
     "name": "stderr",
     "output_type": "stream",
     "text": [
      " 60%|██████    | 822/1364 [08:50<02:36,  3.45it/s]"
     ]
    },
    {
     "name": "stdout",
     "output_type": "stream",
     "text": [
      "Error with /Users/kevinmaikjablonka/Downloads/5104873/applications/2011/I20110512-SUPP.xml: 'reaction'\n",
      "Error with /Users/kevinmaikjablonka/Downloads/5104873/applications/2011/I20110818-SUPP.xml: 'reaction'\n"
     ]
    },
    {
     "name": "stderr",
     "output_type": "stream",
     "text": [
      " 60%|██████    | 825/1364 [08:51<01:53,  4.75it/s]"
     ]
    },
    {
     "name": "stdout",
     "output_type": "stream",
     "text": [
      "Error with /Users/kevinmaikjablonka/Downloads/5104873/applications/2011/I20110526-SUPP.xml: 'reaction'\n",
      "Error with /Users/kevinmaikjablonka/Downloads/5104873/applications/2011/I20111229-SUPP.xml: 'reaction'\n"
     ]
    },
    {
     "name": "stderr",
     "output_type": "stream",
     "text": [
      " 61%|██████    | 829/1364 [08:52<02:18,  3.86it/s]"
     ]
    },
    {
     "name": "stdout",
     "output_type": "stream",
     "text": [
      "Error with /Users/kevinmaikjablonka/Downloads/5104873/applications/2011/I20111006-SUPP.xml: 'reaction'\n"
     ]
    },
    {
     "name": "stderr",
     "output_type": "stream",
     "text": [
      " 61%|██████    | 831/1364 [08:53<02:51,  3.10it/s]"
     ]
    },
    {
     "name": "stdout",
     "output_type": "stream",
     "text": [
      "Error with /Users/kevinmaikjablonka/Downloads/5104873/applications/2011/I20110519-SUPP.xml: 'reaction'\n"
     ]
    },
    {
     "name": "stderr",
     "output_type": "stream",
     "text": [
      " 61%|██████    | 835/1364 [08:55<03:23,  2.60it/s]"
     ]
    },
    {
     "name": "stdout",
     "output_type": "stream",
     "text": [
      "Error with /Users/kevinmaikjablonka/Downloads/5104873/applications/2011/I20110714-SUPP.xml: 'reaction'\n",
      "Error with /Users/kevinmaikjablonka/Downloads/5104873/applications/2011/I20110505-SUPP.xml: 'reaction'\n"
     ]
    },
    {
     "name": "stderr",
     "output_type": "stream",
     "text": [
      " 62%|██████▏   | 839/1364 [08:57<04:05,  2.14it/s]"
     ]
    },
    {
     "name": "stdout",
     "output_type": "stream",
     "text": [
      "Error with /Users/kevinmaikjablonka/Downloads/5104873/applications/2011/I20110623-SUPP.xml: 'reaction'\n",
      "Error with /Users/kevinmaikjablonka/Downloads/5104873/applications/2011/I20110616-SUPP.xml: 'reaction'\n",
      "Error with /Users/kevinmaikjablonka/Downloads/5104873/applications/2011/I20110203-SUPP.xml: 'reaction'\n",
      "Error with /Users/kevinmaikjablonka/Downloads/5104873/applications/2011/I20110721-SUPP.xml: 'reaction'\n"
     ]
    },
    {
     "name": "stderr",
     "output_type": "stream",
     "text": [
      " 62%|██████▏   | 850/1364 [08:58<01:43,  4.97it/s]"
     ]
    },
    {
     "name": "stdout",
     "output_type": "stream",
     "text": [
      "Error with /Users/kevinmaikjablonka/Downloads/5104873/applications/2011/I20110407-SUPP.xml: 'reaction'\n",
      "Error with /Users/kevinmaikjablonka/Downloads/5104873/applications/2011/I20111201-SUPP.xml: 'reaction'\n",
      "Error with /Users/kevinmaikjablonka/Downloads/5104873/applications/2011/I20110804-SUPP.xml: 'reaction'\n",
      "Error with /Users/kevinmaikjablonka/Downloads/5104873/applications/2011/I20110210-SUPP.xml: 'reaction'\n"
     ]
    },
    {
     "name": "stderr",
     "output_type": "stream",
     "text": [
      " 62%|██████▏   | 852/1364 [08:59<02:30,  3.41it/s]"
     ]
    },
    {
     "name": "stdout",
     "output_type": "stream",
     "text": [
      "Error with /Users/kevinmaikjablonka/Downloads/5104873/applications/2011/I20110414-SUPP.xml: 'reaction'\n"
     ]
    },
    {
     "name": "stderr",
     "output_type": "stream",
     "text": [
      " 63%|██████▎   | 855/1364 [09:02<03:40,  2.31it/s]"
     ]
    },
    {
     "name": "stdout",
     "output_type": "stream",
     "text": [
      "Error with /Users/kevinmaikjablonka/Downloads/5104873/applications/2011/I20110707-SUPP.xml: 'reaction'\n"
     ]
    },
    {
     "name": "stderr",
     "output_type": "stream",
     "text": [
      " 63%|██████▎   | 861/1364 [09:05<04:57,  1.69it/s]"
     ]
    },
    {
     "name": "stdout",
     "output_type": "stream",
     "text": [
      "Error with /Users/kevinmaikjablonka/Downloads/5104873/applications/2011/I20110421-SUPP.xml: 'reaction'\n"
     ]
    },
    {
     "name": "stderr",
     "output_type": "stream",
     "text": [
      " 63%|██████▎   | 864/1364 [09:06<04:22,  1.90it/s]"
     ]
    },
    {
     "name": "stdout",
     "output_type": "stream",
     "text": [
      "Error with /Users/kevinmaikjablonka/Downloads/5104873/applications/2011/I20110630-SUPP.xml: 'reaction'\n",
      "Error with /Users/kevinmaikjablonka/Downloads/5104873/applications/2011/I20110224-SUPP.xml: 'reaction'\n",
      "Error with /Users/kevinmaikjablonka/Downloads/5104873/applications/2011/I20110915-SUPP.xml: 'reaction'\n"
     ]
    },
    {
     "name": "stderr",
     "output_type": "stream",
     "text": [
      " 64%|██████▎   | 869/1364 [09:08<03:59,  2.07it/s]"
     ]
    },
    {
     "name": "stdout",
     "output_type": "stream",
     "text": [
      "Error with /Users/kevinmaikjablonka/Downloads/5104873/applications/2011/I20110120-SUPP.xml: 'reaction'\n"
     ]
    },
    {
     "name": "stderr",
     "output_type": "stream",
     "text": [
      " 64%|██████▍   | 874/1364 [09:11<04:49,  1.69it/s]"
     ]
    },
    {
     "name": "stdout",
     "output_type": "stream",
     "text": [
      "Error with /Users/kevinmaikjablonka/Downloads/5104873/applications/2011/I20110908-SUPP.xml: 'reaction'\n",
      "Error with /Users/kevinmaikjablonka/Downloads/5104873/applications/2011/I20110331-SUPP.xml: 'reaction'\n"
     ]
    },
    {
     "name": "stderr",
     "output_type": "stream",
     "text": [
      " 64%|██████▍   | 877/1364 [09:13<04:09,  1.95it/s]"
     ]
    },
    {
     "name": "stdout",
     "output_type": "stream",
     "text": [
      "Error with /Users/kevinmaikjablonka/Downloads/5104873/applications/2011/I20111117-SUPP.xml: 'reaction'\n"
     ]
    },
    {
     "name": "stderr",
     "output_type": "stream",
     "text": [
      " 64%|██████▍   | 879/1364 [09:14<04:20,  1.87it/s]"
     ]
    },
    {
     "name": "stdout",
     "output_type": "stream",
     "text": [
      "Error with /Users/kevinmaikjablonka/Downloads/5104873/applications/2011/I20111020-SUPP.xml: 'reaction'\n"
     ]
    },
    {
     "name": "stderr",
     "output_type": "stream",
     "text": [
      " 65%|██████▍   | 881/1364 [09:15<03:49,  2.10it/s]"
     ]
    },
    {
     "name": "stdout",
     "output_type": "stream",
     "text": [
      "Error with /Users/kevinmaikjablonka/Downloads/5104873/applications/2011/I20111013-SUPP.xml: 'reaction'\n",
      "Error with /Users/kevinmaikjablonka/Downloads/5104873/applications/2011/I20110127-SUPP.xml: 'reaction'\n",
      "Error with /Users/kevinmaikjablonka/Downloads/5104873/applications/2011/I20111124-SUPP.xml: 'reaction'\n"
     ]
    },
    {
     "name": "stderr",
     "output_type": "stream",
     "text": [
      " 65%|██████▌   | 887/1364 [09:17<03:48,  2.09it/s]"
     ]
    },
    {
     "name": "stdout",
     "output_type": "stream",
     "text": [
      "Error with /Users/kevinmaikjablonka/Downloads/5104873/applications/2011/I20110303-SUPP.xml: 'reaction'\n",
      "Error with /Users/kevinmaikjablonka/Downloads/5104873/applications/2011/I20111110-SUPP.xml: 'reaction'\n"
     ]
    },
    {
     "name": "stderr",
     "output_type": "stream",
     "text": [
      " 65%|██████▌   | 890/1364 [09:18<03:16,  2.41it/s]"
     ]
    },
    {
     "name": "stdout",
     "output_type": "stream",
     "text": [
      "Error with /Users/kevinmaikjablonka/Downloads/5104873/applications/2011/I20111208-SUPP.xml: 'reaction'\n",
      "Error with /Users/kevinmaikjablonka/Downloads/5104873/applications/2011/I20110728-SUPP.xml: 'reaction'\n"
     ]
    },
    {
     "name": "stderr",
     "output_type": "stream",
     "text": [
      " 66%|██████▌   | 894/1364 [09:19<02:38,  2.96it/s]"
     ]
    },
    {
     "name": "stdout",
     "output_type": "stream",
     "text": [
      "Error with /Users/kevinmaikjablonka/Downloads/5104873/applications/2011/I20111027-SUPP.xml: 'reaction'\n",
      "Error with /Users/kevinmaikjablonka/Downloads/5104873/applications/2011/I20110113-SUPP.xml: 'reaction'\n"
     ]
    },
    {
     "name": "stderr",
     "output_type": "stream",
     "text": [
      " 66%|██████▌   | 901/1364 [09:25<06:10,  1.25it/s]"
     ]
    },
    {
     "name": "stdout",
     "output_type": "stream",
     "text": [
      "Error with /Users/kevinmaikjablonka/Downloads/5104873/applications/2011/I20110217-SUPP.xml: 'reaction'\n"
     ]
    },
    {
     "name": "stderr",
     "output_type": "stream",
     "text": [
      " 66%|██████▋   | 904/1364 [09:27<05:54,  1.30it/s]"
     ]
    },
    {
     "name": "stdout",
     "output_type": "stream",
     "text": [
      "Error with /Users/kevinmaikjablonka/Downloads/5104873/applications/2011/I20110602-SUPP.xml: 'reaction'\n",
      "Error with /Users/kevinmaikjablonka/Downloads/5104873/applications/2011/I20110811-SUPP.xml: 'reaction'\n",
      "Error with /Users/kevinmaikjablonka/Downloads/5104873/applications/2011/I20111215-SUPP.xml: 'reaction'\n"
     ]
    },
    {
     "name": "stderr",
     "output_type": "stream",
     "text": [
      " 67%|██████▋   | 910/1364 [09:29<03:22,  2.24it/s]"
     ]
    },
    {
     "name": "stdout",
     "output_type": "stream",
     "text": [
      "Error with /Users/kevinmaikjablonka/Downloads/5104873/applications/2011/I20110609-SUPP.xml: 'reaction'\n"
     ]
    },
    {
     "name": "stderr",
     "output_type": "stream",
     "text": [
      " 67%|██████▋   | 916/1364 [09:31<03:01,  2.47it/s]"
     ]
    },
    {
     "name": "stdout",
     "output_type": "stream",
     "text": [
      "Error with /Users/kevinmaikjablonka/Downloads/5104873/applications/2011/I20110825-SUPP.xml: 'reaction'\n"
     ]
    },
    {
     "name": "stderr",
     "output_type": "stream",
     "text": [
      " 70%|███████   | 959/1364 [10:25<11:07,  1.65s/it]"
     ]
    },
    {
     "name": "stdout",
     "output_type": "stream",
     "text": [
      "Error with /Users/kevinmaikjablonka/Downloads/5104873/applications/2005/I20051103-SUPP.xml: 'reaction'\n",
      "Error with /Users/kevinmaikjablonka/Downloads/5104873/applications/2005/I20050310-SUPP.xml: 'reaction'\n",
      "Error with /Users/kevinmaikjablonka/Downloads/5104873/applications/2005/I20050929-SUPP.xml: 'reaction'\n",
      "Error with /Users/kevinmaikjablonka/Downloads/5104873/applications/2005/I20050428-SUPP.xml: 'reaction'\n",
      "Error with /Users/kevinmaikjablonka/Downloads/5104873/applications/2005/I20050922-SUPP.xml: 'reaction'\n"
     ]
    },
    {
     "name": "stderr",
     "output_type": "stream",
     "text": [
      " 71%|███████   | 968/1364 [10:28<04:03,  1.63it/s]"
     ]
    },
    {
     "name": "stdout",
     "output_type": "stream",
     "text": [
      "Error with /Users/kevinmaikjablonka/Downloads/5104873/applications/2005/I20050324-SUPP.xml: 'reaction'\n"
     ]
    },
    {
     "name": "stderr",
     "output_type": "stream",
     "text": [
      " 71%|███████▏  | 972/1364 [10:31<04:13,  1.54it/s]"
     ]
    },
    {
     "name": "stdout",
     "output_type": "stream",
     "text": [
      "Error with /Users/kevinmaikjablonka/Downloads/5104873/applications/2005/I20050901-SUPP.xml: 'reaction'\n"
     ]
    },
    {
     "name": "stderr",
     "output_type": "stream",
     "text": [
      " 72%|███████▏  | 983/1364 [10:37<04:02,  1.57it/s]"
     ]
    },
    {
     "name": "stdout",
     "output_type": "stream",
     "text": [
      "Error with /Users/kevinmaikjablonka/Downloads/5104873/applications/2005/I20050714-SUPP.xml: 'reaction'\n",
      "Error with /Users/kevinmaikjablonka/Downloads/5104873/applications/2005/I20050505-SUPP.xml: 'reaction'\n",
      "Error with /Users/kevinmaikjablonka/Downloads/5104873/applications/2005/I20050623-SUPP.xml: 'reaction'\n",
      "Error with /Users/kevinmaikjablonka/Downloads/5104873/applications/2005/I20050616-SUPP.xml: 'reaction'\n"
     ]
    },
    {
     "name": "stderr",
     "output_type": "stream",
     "text": [
      " 72%|███████▏  | 988/1364 [10:38<01:38,  3.82it/s]"
     ]
    },
    {
     "name": "stdout",
     "output_type": "stream",
     "text": [
      "Error with /Users/kevinmaikjablonka/Downloads/5104873/applications/2005/I20050203-SUPP.xml: 'reaction'\n"
     ]
    },
    {
     "name": "stderr",
     "output_type": "stream",
     "text": [
      " 73%|███████▎  | 992/1364 [10:39<02:09,  2.87it/s]"
     ]
    },
    {
     "name": "stdout",
     "output_type": "stream",
     "text": [
      "Error with /Users/kevinmaikjablonka/Downloads/5104873/applications/2005/I20050721-SUPP.xml: 'reaction'\n"
     ]
    },
    {
     "name": "stderr",
     "output_type": "stream",
     "text": [
      " 73%|███████▎  | 995/1364 [10:40<02:23,  2.58it/s]"
     ]
    },
    {
     "name": "stdout",
     "output_type": "stream",
     "text": [
      "Error with /Users/kevinmaikjablonka/Downloads/5104873/applications/2005/I20051201-SUPP.xml: 'reaction'\n",
      "Error with /Users/kevinmaikjablonka/Downloads/5104873/applications/2005/I20050407-SUPP.xml: 'reaction'\n",
      "Error with /Users/kevinmaikjablonka/Downloads/5104873/applications/2005/I20050804-SUPP.xml: 'reaction'\n"
     ]
    },
    {
     "name": "stderr",
     "output_type": "stream",
     "text": [
      " 73%|███████▎  | 999/1364 [10:41<01:53,  3.22it/s]"
     ]
    },
    {
     "name": "stdout",
     "output_type": "stream",
     "text": [
      "Error with /Users/kevinmaikjablonka/Downloads/5104873/applications/2005/I20050317-SUPP.xml: 'reaction'\n",
      "Error with /Users/kevinmaikjablonka/Downloads/5104873/applications/2005/I20051222-SUPP.xml: 'reaction'\n",
      "Error with /Users/kevinmaikjablonka/Downloads/5104873/applications/2005/I20050106-SUPP.xml: 'reaction'\n",
      "Error with /Users/kevinmaikjablonka/Downloads/5104873/applications/2005/I20050512-SUPP.xml: 'reaction'\n"
     ]
    },
    {
     "name": "stderr",
     "output_type": "stream",
     "text": [
      " 74%|███████▎  | 1004/1364 [10:42<01:22,  4.37it/s]"
     ]
    },
    {
     "name": "stdout",
     "output_type": "stream",
     "text": [
      "Error with /Users/kevinmaikjablonka/Downloads/5104873/applications/2005/I20050818-SUPP.xml: 'reaction'\n"
     ]
    },
    {
     "name": "stderr",
     "output_type": "stream",
     "text": [
      " 74%|███████▍  | 1006/1364 [10:43<01:31,  3.93it/s]"
     ]
    },
    {
     "name": "stdout",
     "output_type": "stream",
     "text": [
      "Error with /Users/kevinmaikjablonka/Downloads/5104873/applications/2005/I20050526-SUPP.xml: 'reaction'\n",
      "Error with /Users/kevinmaikjablonka/Downloads/5104873/applications/2005/I20051229-SUPP.xml: 'reaction'\n"
     ]
    },
    {
     "name": "stderr",
     "output_type": "stream",
     "text": [
      " 74%|███████▍  | 1009/1364 [10:43<01:28,  3.99it/s]"
     ]
    },
    {
     "name": "stdout",
     "output_type": "stream",
     "text": [
      "Error with /Users/kevinmaikjablonka/Downloads/5104873/applications/2005/I20051006-SUPP.xml: 'reaction'\n",
      "Error with /Users/kevinmaikjablonka/Downloads/5104873/applications/2005/I20050519-SUPP.xml: 'reaction'\n",
      "Error with /Users/kevinmaikjablonka/Downloads/5104873/applications/2005/I20050120-SUPP.xml: 'reaction'\n"
     ]
    },
    {
     "name": "stderr",
     "output_type": "stream",
     "text": [
      " 74%|███████▍  | 1013/1364 [10:44<01:15,  4.66it/s]"
     ]
    },
    {
     "name": "stdout",
     "output_type": "stream",
     "text": [
      "Error with /Users/kevinmaikjablonka/Downloads/5104873/applications/2005/I20050331-SUPP.xml: 'reaction'\n"
     ]
    },
    {
     "name": "stderr",
     "output_type": "stream",
     "text": [
      " 74%|███████▍  | 1015/1364 [10:45<01:31,  3.83it/s]"
     ]
    },
    {
     "name": "stdout",
     "output_type": "stream",
     "text": [
      "Error with /Users/kevinmaikjablonka/Downloads/5104873/applications/2005/I20050908-SUPP.xml: 'reaction'\n"
     ]
    },
    {
     "name": "stderr",
     "output_type": "stream",
     "text": [
      " 75%|███████▍  | 1018/1364 [10:47<02:20,  2.47it/s]"
     ]
    },
    {
     "name": "stdout",
     "output_type": "stream",
     "text": [
      "Error with /Users/kevinmaikjablonka/Downloads/5104873/applications/2005/I20051117-SUPP.xml: 'reaction'\n"
     ]
    },
    {
     "name": "stderr",
     "output_type": "stream",
     "text": [
      " 75%|███████▍  | 1022/1364 [10:49<02:46,  2.06it/s]"
     ]
    },
    {
     "name": "stdout",
     "output_type": "stream",
     "text": [
      "Error with /Users/kevinmaikjablonka/Downloads/5104873/applications/2005/I20051020-SUPP.xml: 'reaction'\n",
      "Error with /Users/kevinmaikjablonka/Downloads/5104873/applications/2005/I20050210-SUPP.xml: 'reaction'\n",
      "Error with /Users/kevinmaikjablonka/Downloads/5104873/applications/2005/I20050414-SUPP.xml: 'reaction'\n",
      "Error with /Users/kevinmaikjablonka/Downloads/5104873/applications/2005/I20050707-SUPP.xml: 'reaction'\n"
     ]
    },
    {
     "name": "stderr",
     "output_type": "stream",
     "text": [
      " 75%|███████▌  | 1027/1364 [10:50<01:40,  3.35it/s]"
     ]
    },
    {
     "name": "stdout",
     "output_type": "stream",
     "text": [
      "Error with /Users/kevinmaikjablonka/Downloads/5104873/applications/2005/I20050421-SUPP.xml: 'reaction'\n",
      "Error with /Users/kevinmaikjablonka/Downloads/5104873/applications/2005/I20050630-SUPP.xml: 'reaction'\n",
      "Error with /Users/kevinmaikjablonka/Downloads/5104873/applications/2005/I20050224-SUPP.xml: 'reaction'\n",
      "Error with /Users/kevinmaikjablonka/Downloads/5104873/applications/2005/I20050915-SUPP.xml: 'reaction'\n"
     ]
    },
    {
     "name": "stderr",
     "output_type": "stream",
     "text": [
      " 76%|███████▌  | 1033/1364 [10:52<01:54,  2.88it/s]"
     ]
    },
    {
     "name": "stdout",
     "output_type": "stream",
     "text": [
      "Error with /Users/kevinmaikjablonka/Downloads/5104873/applications/2005/I20050217-SUPP.xml: 'reaction'\n",
      "Error with /Users/kevinmaikjablonka/Downloads/5104873/applications/2005/I20050602-SUPP.xml: 'reaction'\n",
      "Error with /Users/kevinmaikjablonka/Downloads/5104873/applications/2005/I20050811-SUPP.xml: 'reaction'\n",
      "Error with /Users/kevinmaikjablonka/Downloads/5104873/applications/2005/I20051215-SUPP.xml: 'reaction'\n",
      "Error with /Users/kevinmaikjablonka/Downloads/5104873/applications/2005/I20050609-SUPP.xml: 'reaction'\n"
     ]
    },
    {
     "name": "stderr",
     "output_type": "stream",
     "text": [
      " 76%|███████▋  | 1042/1364 [10:54<01:45,  3.06it/s]"
     ]
    },
    {
     "name": "stdout",
     "output_type": "stream",
     "text": [
      "Error with /Users/kevinmaikjablonka/Downloads/5104873/applications/2005/I20050825-SUPP.xml: 'reaction'\n"
     ]
    },
    {
     "name": "stderr",
     "output_type": "stream",
     "text": [
      " 77%|███████▋  | 1045/1364 [10:55<02:03,  2.59it/s]"
     ]
    },
    {
     "name": "stdout",
     "output_type": "stream",
     "text": [
      "Error with /Users/kevinmaikjablonka/Downloads/5104873/applications/2005/I20051013-SUPP.xml: 'reaction'\n"
     ]
    },
    {
     "name": "stderr",
     "output_type": "stream",
     "text": [
      " 77%|███████▋  | 1047/1364 [10:56<01:55,  2.73it/s]"
     ]
    },
    {
     "name": "stdout",
     "output_type": "stream",
     "text": [
      "Error with /Users/kevinmaikjablonka/Downloads/5104873/applications/2005/I20050127-SUPP.xml: 'reaction'\n"
     ]
    },
    {
     "name": "stderr",
     "output_type": "stream",
     "text": [
      " 77%|███████▋  | 1050/1364 [10:57<02:15,  2.32it/s]"
     ]
    },
    {
     "name": "stdout",
     "output_type": "stream",
     "text": [
      "Error with /Users/kevinmaikjablonka/Downloads/5104873/applications/2005/I20051124-SUPP.xml: 'reaction'\n"
     ]
    },
    {
     "name": "stderr",
     "output_type": "stream",
     "text": [
      " 77%|███████▋  | 1053/1364 [10:59<03:05,  1.68it/s]"
     ]
    },
    {
     "name": "stdout",
     "output_type": "stream",
     "text": [
      "Error with /Users/kevinmaikjablonka/Downloads/5104873/applications/2005/I20050303-SUPP.xml: 'reaction'\n",
      "Error with /Users/kevinmaikjablonka/Downloads/5104873/applications/2005/I20051110-SUPP.xml: 'reaction'\n"
     ]
    },
    {
     "name": "stderr",
     "output_type": "stream",
     "text": [
      " 77%|███████▋  | 1056/1364 [11:00<02:12,  2.33it/s]"
     ]
    },
    {
     "name": "stdout",
     "output_type": "stream",
     "text": [
      "Error with /Users/kevinmaikjablonka/Downloads/5104873/applications/2005/I20051208-SUPP.xml: 'reaction'\n"
     ]
    },
    {
     "name": "stderr",
     "output_type": "stream",
     "text": [
      " 78%|███████▊  | 1058/1364 [11:01<02:02,  2.50it/s]"
     ]
    },
    {
     "name": "stdout",
     "output_type": "stream",
     "text": [
      "Error with /Users/kevinmaikjablonka/Downloads/5104873/applications/2005/I20050728-SUPP.xml: 'reaction'\n"
     ]
    },
    {
     "name": "stderr",
     "output_type": "stream",
     "text": [
      " 78%|███████▊  | 1061/1364 [11:02<01:58,  2.56it/s]"
     ]
    },
    {
     "name": "stdout",
     "output_type": "stream",
     "text": [
      "Error with /Users/kevinmaikjablonka/Downloads/5104873/applications/2005/I20051027-SUPP.xml: 'reaction'\n",
      "Error with /Users/kevinmaikjablonka/Downloads/5104873/applications/2005/I20050113-SUPP.xml: 'reaction'\n"
     ]
    },
    {
     "name": "stderr",
     "output_type": "stream",
     "text": [
      " 78%|███████▊  | 1066/1364 [11:02<01:05,  4.52it/s]"
     ]
    },
    {
     "name": "stdout",
     "output_type": "stream",
     "text": [
      "Error with /Users/kevinmaikjablonka/Downloads/5104873/applications/2002/20020425-SUPP.xml: 'reaction'\n"
     ]
    },
    {
     "name": "stderr",
     "output_type": "stream",
     "text": [
      " 78%|███████▊  | 1069/1364 [11:03<00:54,  5.38it/s]"
     ]
    },
    {
     "name": "stdout",
     "output_type": "stream",
     "text": [
      "Error with /Users/kevinmaikjablonka/Downloads/5104873/applications/2002/20020221-SUPP.xml: 'reaction'\n"
     ]
    },
    {
     "name": "stderr",
     "output_type": "stream",
     "text": [
      " 78%|███████▊  | 1070/1364 [11:03<01:01,  4.75it/s]"
     ]
    },
    {
     "name": "stdout",
     "output_type": "stream",
     "text": [
      "Error with /Users/kevinmaikjablonka/Downloads/5104873/applications/2002/20020411-SUPP.xml: 'reaction'\n"
     ]
    },
    {
     "name": "stderr",
     "output_type": "stream",
     "text": [
      " 79%|███████▉  | 1076/1364 [11:05<01:08,  4.21it/s]"
     ]
    },
    {
     "name": "stdout",
     "output_type": "stream",
     "text": [
      "Error with /Users/kevinmaikjablonka/Downloads/5104873/applications/2002/20021024-SUPP.xml: 'reaction'\n",
      "Error with /Users/kevinmaikjablonka/Downloads/5104873/applications/2002/20021010-SUPP.xml: 'reaction'\n",
      "Error with /Users/kevinmaikjablonka/Downloads/5104873/applications/2002/20021114-SUPP.xml: 'reaction'\n",
      "Error with /Users/kevinmaikjablonka/Downloads/5104873/applications/2002/20020502-SUPP.xml: 'reaction'\n",
      "Error with /Users/kevinmaikjablonka/Downloads/5104873/applications/2002/20021017-SUPP.xml: 'reaction'\n"
     ]
    },
    {
     "name": "stderr",
     "output_type": "stream",
     "text": [
      " 79%|███████▉  | 1083/1364 [11:05<00:37,  7.51it/s]"
     ]
    },
    {
     "name": "stdout",
     "output_type": "stream",
     "text": [
      "Error with /Users/kevinmaikjablonka/Downloads/5104873/applications/2002/20020718-SUPP.xml: 'reaction'\n"
     ]
    },
    {
     "name": "stderr",
     "output_type": "stream",
     "text": [
      " 80%|███████▉  | 1086/1364 [11:06<00:40,  6.88it/s]"
     ]
    },
    {
     "name": "stdout",
     "output_type": "stream",
     "text": [
      "Error with /Users/kevinmaikjablonka/Downloads/5104873/applications/2002/20021121-SUPP.xml: 'reaction'\n"
     ]
    },
    {
     "name": "stderr",
     "output_type": "stream",
     "text": [
      " 80%|███████▉  | 1089/1364 [11:06<00:49,  5.53it/s]"
     ]
    },
    {
     "name": "stdout",
     "output_type": "stream",
     "text": [
      "Error with /Users/kevinmaikjablonka/Downloads/5104873/applications/2002/20020509-SUPP.xml: 'reaction'\n"
     ]
    },
    {
     "name": "stderr",
     "output_type": "stream",
     "text": [
      " 81%|████████  | 1101/1364 [11:11<01:24,  3.10it/s]"
     ]
    },
    {
     "name": "stdout",
     "output_type": "stream",
     "text": [
      "Error with /Users/kevinmaikjablonka/Downloads/5104873/applications/2002/20020404-SUPP.xml: 'reaction'\n"
     ]
    },
    {
     "name": "stderr",
     "output_type": "stream",
     "text": [
      " 81%|████████  | 1104/1364 [11:11<01:05,  3.96it/s]"
     ]
    },
    {
     "name": "stdout",
     "output_type": "stream",
     "text": [
      "Error with /Users/kevinmaikjablonka/Downloads/5104873/applications/2002/20020905-SUPP.xml: 'reaction'\n"
     ]
    },
    {
     "name": "stderr",
     "output_type": "stream",
     "text": [
      " 81%|████████  | 1108/1364 [11:12<01:04,  3.94it/s]"
     ]
    },
    {
     "name": "stdout",
     "output_type": "stream",
     "text": [
      "Error with /Users/kevinmaikjablonka/Downloads/5104873/applications/2002/20020620-SUPP.xml: 'reaction'\n",
      "Error with /Users/kevinmaikjablonka/Downloads/5104873/applications/2002/20020926-SUPP.xml: 'reaction'\n"
     ]
    },
    {
     "name": "stderr",
     "output_type": "stream",
     "text": [
      " 82%|████████▏ | 1113/1364 [11:13<00:56,  4.43it/s]"
     ]
    },
    {
     "name": "stdout",
     "output_type": "stream",
     "text": [
      "Error with /Users/kevinmaikjablonka/Downloads/5104873/applications/2002/20020919-SUPP.xml: 'reaction'\n",
      "Error with /Users/kevinmaikjablonka/Downloads/5104873/applications/2002/20021107-SUPP.xml: 'reaction'\n"
     ]
    },
    {
     "name": "stderr",
     "output_type": "stream",
     "text": [
      " 82%|████████▏ | 1120/1364 [11:14<00:48,  5.04it/s]"
     ]
    },
    {
     "name": "stdout",
     "output_type": "stream",
     "text": [
      "Error with /Users/kevinmaikjablonka/Downloads/5104873/applications/2002/20021031-SUPP.xml: 'reaction'\n"
     ]
    },
    {
     "name": "stderr",
     "output_type": "stream",
     "text": [
      " 83%|████████▎ | 1128/1364 [11:15<00:21, 10.98it/s]"
     ]
    },
    {
     "name": "stdout",
     "output_type": "stream",
     "text": [
      "Error with /Users/kevinmaikjablonka/Downloads/5104873/applications/2002/20020418-SUPP.xml: 'reaction'\n",
      "Error with /Users/kevinmaikjablonka/Downloads/5104873/applications/2002/20020912-SUPP.xml: 'reaction'\n",
      "Error with /Users/kevinmaikjablonka/Downloads/5104873/applications/2002/20020523-SUPP.xml: 'reaction'\n",
      "Error with /Users/kevinmaikjablonka/Downloads/5104873/applications/2002/20020829-SUPP.xml: 'reaction'\n",
      "Error with /Users/kevinmaikjablonka/Downloads/5104873/applications/2002/20021003-SUPP.xml: 'reaction'\n"
     ]
    },
    {
     "name": "stderr",
     "output_type": "stream",
     "text": [
      " 83%|████████▎ | 1130/1364 [11:15<00:30,  7.68it/s]"
     ]
    },
    {
     "name": "stdout",
     "output_type": "stream",
     "text": [
      "Error with /Users/kevinmaikjablonka/Downloads/5104873/applications/2002/20021226-SUPP.xml: 'reaction'\n",
      "Error with /Users/kevinmaikjablonka/Downloads/5104873/applications/2002/20020822-SUPP.xml: 'reaction'\n"
     ]
    },
    {
     "name": "stderr",
     "output_type": "stream",
     "text": [
      " 83%|████████▎ | 1135/1364 [11:16<00:28,  8.03it/s]"
     ]
    },
    {
     "name": "stdout",
     "output_type": "stream",
     "text": [
      "Error with /Users/kevinmaikjablonka/Downloads/5104873/applications/2002/20021219-SUPP.xml: 'reaction'\n"
     ]
    },
    {
     "name": "stderr",
     "output_type": "stream",
     "text": [
      " 83%|████████▎ | 1137/1364 [11:16<00:29,  7.80it/s]"
     ]
    },
    {
     "name": "stdout",
     "output_type": "stream",
     "text": [
      "Error with /Users/kevinmaikjablonka/Downloads/5104873/applications/2002/20020516-SUPP.xml: 'reaction'\n"
     ]
    },
    {
     "name": "stderr",
     "output_type": "stream",
     "text": [
      " 84%|████████▎ | 1140/1364 [11:17<00:48,  4.62it/s]"
     ]
    },
    {
     "name": "stdout",
     "output_type": "stream",
     "text": [
      "Error with /Users/kevinmaikjablonka/Downloads/5104873/applications/2002/20020613-SUPP.xml: 'reaction'\n",
      "Error with /Users/kevinmaikjablonka/Downloads/5104873/applications/2002/20021205-SUPP.xml: 'reaction'\n",
      "Error with /Users/kevinmaikjablonka/Downloads/5104873/applications/2002/20020801-SUPP.xml: 'reaction'\n",
      "Error with /Users/kevinmaikjablonka/Downloads/5104873/applications/2002/20020711-SUPP.xml: 'reaction'\n"
     ]
    },
    {
     "name": "stderr",
     "output_type": "stream",
     "text": [
      " 84%|████████▍ | 1145/1364 [11:18<00:30,  7.25it/s]"
     ]
    },
    {
     "name": "stdout",
     "output_type": "stream",
     "text": [
      "Error with /Users/kevinmaikjablonka/Downloads/5104873/applications/2002/20021128-SUPP.xml: 'reaction'\n"
     ]
    },
    {
     "name": "stderr",
     "output_type": "stream",
     "text": [
      " 84%|████████▍ | 1147/1364 [11:18<00:28,  7.65it/s]"
     ]
    },
    {
     "name": "stdout",
     "output_type": "stream",
     "text": [
      "Error with /Users/kevinmaikjablonka/Downloads/5104873/applications/2002/20020627-SUPP.xml: 'reaction'\n"
     ]
    },
    {
     "name": "stderr",
     "output_type": "stream",
     "text": [
      " 84%|████████▍ | 1150/1364 [11:19<00:39,  5.42it/s]"
     ]
    },
    {
     "name": "stdout",
     "output_type": "stream",
     "text": [
      "Error with /Users/kevinmaikjablonka/Downloads/5104873/applications/2003/20031113-SUPP.xml: 'reaction'\n"
     ]
    },
    {
     "name": "stderr",
     "output_type": "stream",
     "text": [
      " 85%|████████▍ | 1155/1364 [11:20<00:38,  5.47it/s]"
     ]
    },
    {
     "name": "stdout",
     "output_type": "stream",
     "text": [
      "Error with /Users/kevinmaikjablonka/Downloads/5104873/applications/2003/20031127-SUPP.xml: 'reaction'\n"
     ]
    },
    {
     "name": "stderr",
     "output_type": "stream",
     "text": [
      " 85%|████████▍ | 1159/1364 [11:21<01:06,  3.09it/s]"
     ]
    },
    {
     "name": "stdout",
     "output_type": "stream",
     "text": [
      "Error with /Users/kevinmaikjablonka/Downloads/5104873/applications/2003/20030911-SUPP.xml: 'reaction'\n",
      "Error with /Users/kevinmaikjablonka/Downloads/5104873/applications/2003/20030220-SUPP.xml: 'reaction'\n"
     ]
    },
    {
     "name": "stderr",
     "output_type": "stream",
     "text": [
      " 85%|████████▌ | 1162/1364 [11:22<00:51,  3.90it/s]"
     ]
    },
    {
     "name": "stdout",
     "output_type": "stream",
     "text": [
      "Error with /Users/kevinmaikjablonka/Downloads/5104873/applications/2003/20030703-SUPP.xml: 'reaction'\n",
      "Error with /Users/kevinmaikjablonka/Downloads/5104873/applications/2003/20030424-SUPP.xml: 'reaction'\n",
      "Error with /Users/kevinmaikjablonka/Downloads/5104873/applications/2003/20030410-SUPP.xml: 'reaction'\n"
     ]
    },
    {
     "name": "stderr",
     "output_type": "stream",
     "text": [
      " 86%|████████▌ | 1169/1364 [11:23<00:42,  4.58it/s]"
     ]
    },
    {
     "name": "stdout",
     "output_type": "stream",
     "text": [
      "Error with /Users/kevinmaikjablonka/Downloads/5104873/applications/2003/20030515-SUPP.xml: 'reaction'\n",
      "Error with /Users/kevinmaikjablonka/Downloads/5104873/applications/2003/20030227-SUPP.xml: 'reaction'\n"
     ]
    },
    {
     "name": "stderr",
     "output_type": "stream",
     "text": [
      " 86%|████████▋ | 1177/1364 [11:26<01:12,  2.58it/s]"
     ]
    },
    {
     "name": "stdout",
     "output_type": "stream",
     "text": [
      "Error with /Users/kevinmaikjablonka/Downloads/5104873/applications/2003/20030821-SUPP.xml: 'reaction'\n"
     ]
    },
    {
     "name": "stderr",
     "output_type": "stream",
     "text": [
      " 87%|████████▋ | 1180/1364 [11:27<00:56,  3.23it/s]"
     ]
    },
    {
     "name": "stdout",
     "output_type": "stream",
     "text": [
      "Error with /Users/kevinmaikjablonka/Downloads/5104873/applications/2003/20031225-SUPP.xml: 'reaction'\n",
      "Error with /Users/kevinmaikjablonka/Downloads/5104873/applications/2003/20031211-SUPP.xml: 'reaction'\n",
      "Error with /Users/kevinmaikjablonka/Downloads/5104873/applications/2003/20030417-SUPP.xml: 'reaction'\n",
      "Error with /Users/kevinmaikjablonka/Downloads/5104873/applications/2003/20030814-SUPP.xml: 'reaction'\n"
     ]
    },
    {
     "name": "stderr",
     "output_type": "stream",
     "text": [
      " 87%|████████▋ | 1187/1364 [11:27<00:26,  6.77it/s]"
     ]
    },
    {
     "name": "stdout",
     "output_type": "stream",
     "text": [
      "Error with /Users/kevinmaikjablonka/Downloads/5104873/applications/2003/20030731-SUPP.xml: 'reaction'\n",
      "Error with /Users/kevinmaikjablonka/Downloads/5104873/applications/2003/20030213-SUPP.xml: 'reaction'\n"
     ]
    },
    {
     "name": "stderr",
     "output_type": "stream",
     "text": [
      " 87%|████████▋ | 1190/1364 [11:28<00:39,  4.45it/s]"
     ]
    },
    {
     "name": "stdout",
     "output_type": "stream",
     "text": [
      "Error with /Users/kevinmaikjablonka/Downloads/5104873/applications/2003/20030116-SUPP.xml: 'reaction'\n"
     ]
    },
    {
     "name": "stderr",
     "output_type": "stream",
     "text": [
      " 87%|████████▋ | 1192/1364 [11:28<00:34,  4.94it/s]"
     ]
    },
    {
     "name": "stdout",
     "output_type": "stream",
     "text": [
      "Error with /Users/kevinmaikjablonka/Downloads/5104873/applications/2003/20031023-SUPP.xml: 'reaction'\n",
      "Error with /Users/kevinmaikjablonka/Downloads/5104873/applications/2003/20030306-SUPP.xml: 'reaction'\n"
     ]
    },
    {
     "name": "stderr",
     "output_type": "stream",
     "text": [
      " 88%|████████▊ | 1197/1364 [11:30<00:42,  3.94it/s]"
     ]
    },
    {
     "name": "stdout",
     "output_type": "stream",
     "text": [
      "Error with /Users/kevinmaikjablonka/Downloads/5104873/applications/2003/20031120-SUPP.xml: 'reaction'\n",
      "Error with /Users/kevinmaikjablonka/Downloads/5104873/applications/2003/20030508-SUPP.xml: 'reaction'\n",
      "Error with /Users/kevinmaikjablonka/Downloads/5104873/applications/2003/20030123-SUPP.xml: 'reaction'\n",
      "Error with /Users/kevinmaikjablonka/Downloads/5104873/applications/2003/20031016-SUPP.xml: 'reaction'\n"
     ]
    },
    {
     "name": "stderr",
     "output_type": "stream",
     "text": [
      " 88%|████████▊ | 1204/1364 [11:30<00:24,  6.60it/s]"
     ]
    },
    {
     "name": "stdout",
     "output_type": "stream",
     "text": [
      "Error with /Users/kevinmaikjablonka/Downloads/5104873/applications/2003/20030320-SUPP.xml: 'reaction'\n",
      "Error with /Users/kevinmaikjablonka/Downloads/5104873/applications/2003/20030918-SUPP.xml: 'reaction'\n"
     ]
    },
    {
     "name": "stderr",
     "output_type": "stream",
     "text": [
      " 89%|████████▊ | 1210/1364 [11:32<00:40,  3.83it/s]"
     ]
    },
    {
     "name": "stdout",
     "output_type": "stream",
     "text": [
      "Error with /Users/kevinmaikjablonka/Downloads/5104873/applications/2003/20030130-SUPP.xml: 'reaction'\n",
      "Error with /Users/kevinmaikjablonka/Downloads/5104873/applications/2003/20031030-SUPP.xml: 'reaction'\n"
     ]
    },
    {
     "name": "stderr",
     "output_type": "stream",
     "text": [
      " 89%|████████▉ | 1214/1364 [11:33<00:37,  4.02it/s]"
     ]
    },
    {
     "name": "stdout",
     "output_type": "stream",
     "text": [
      "Error with /Users/kevinmaikjablonka/Downloads/5104873/applications/2003/20031106-SUPP.xml: 'reaction'\n"
     ]
    },
    {
     "name": "stderr",
     "output_type": "stream",
     "text": [
      " 89%|████████▉ | 1220/1364 [11:36<00:50,  2.84it/s]"
     ]
    },
    {
     "name": "stdout",
     "output_type": "stream",
     "text": [
      "Error with /Users/kevinmaikjablonka/Downloads/5104873/applications/2003/20030807-SUPP.xml: 'reaction'\n"
     ]
    },
    {
     "name": "stderr",
     "output_type": "stream",
     "text": [
      " 90%|████████▉ | 1224/1364 [11:37<00:45,  3.10it/s]"
     ]
    },
    {
     "name": "stdout",
     "output_type": "stream",
     "text": [
      "Error with /Users/kevinmaikjablonka/Downloads/5104873/applications/2003/20030717-SUPP.xml: 'reaction'\n",
      "Error with /Users/kevinmaikjablonka/Downloads/5104873/applications/2003/20030724-SUPP.xml: 'reaction'\n",
      "Error with /Users/kevinmaikjablonka/Downloads/5104873/applications/2003/20030403-SUPP.xml: 'reaction'\n",
      "Error with /Users/kevinmaikjablonka/Downloads/5104873/applications/2003/20031204-SUPP.xml: 'reaction'\n"
     ]
    },
    {
     "name": "stderr",
     "output_type": "stream",
     "text": [
      " 90%|█████████ | 1229/1364 [11:37<00:24,  5.51it/s]"
     ]
    },
    {
     "name": "stdout",
     "output_type": "stream",
     "text": [
      "Error with /Users/kevinmaikjablonka/Downloads/5104873/applications/2003/20030612-SUPP.xml: 'reaction'\n",
      "Error with /Users/kevinmaikjablonka/Downloads/5104873/applications/2003/20030206-SUPP.xml: 'reaction'\n"
     ]
    },
    {
     "name": "stderr",
     "output_type": "stream",
     "text": [
      " 90%|█████████ | 1234/1364 [11:38<00:27,  4.80it/s]"
     ]
    },
    {
     "name": "stdout",
     "output_type": "stream",
     "text": [
      "Error with /Users/kevinmaikjablonka/Downloads/5104873/applications/2003/20030501-SUPP.xml: 'reaction'\n",
      "Error with /Users/kevinmaikjablonka/Downloads/5104873/applications/2003/20030626-SUPP.xml: 'reaction'\n",
      "Error with /Users/kevinmaikjablonka/Downloads/5104873/applications/2003/20030925B-SUPP.xml: 'reaction'\n"
     ]
    },
    {
     "name": "stderr",
     "output_type": "stream",
     "text": [
      " 91%|█████████ | 1239/1364 [11:39<00:17,  7.28it/s]"
     ]
    },
    {
     "name": "stdout",
     "output_type": "stream",
     "text": [
      "Error with /Users/kevinmaikjablonka/Downloads/5104873/applications/2003/20030904B-SUPP.xml: 'reaction'\n",
      "Error with /Users/kevinmaikjablonka/Downloads/5104873/applications/2003/20030619-SUPP.xml: 'reaction'\n",
      "Error with /Users/kevinmaikjablonka/Downloads/5104873/applications/2003/20030710-SUPP.xml: 'reaction'\n",
      "Error with /Users/kevinmaikjablonka/Downloads/5104873/applications/2003/20030327-SUPP.xml: 'reaction'\n"
     ]
    },
    {
     "name": "stderr",
     "output_type": "stream",
     "text": [
      " 91%|█████████▏| 1246/1364 [11:39<00:15,  7.39it/s]"
     ]
    },
    {
     "name": "stdout",
     "output_type": "stream",
     "text": [
      "Error with /Users/kevinmaikjablonka/Downloads/5104873/applications/2003/20030109-SUPP.xml: 'reaction'\n",
      "Error with /Users/kevinmaikjablonka/Downloads/5104873/applications/2003/20030828-SUPP.xml: 'reaction'\n",
      "Error with /Users/kevinmaikjablonka/Downloads/5104873/applications/2003/20030522-SUPP.xml: 'reaction'\n",
      "Error with /Users/kevinmaikjablonka/Downloads/5104873/applications/2003/20031002-SUPP.xml: 'reaction'\n"
     ]
    },
    {
     "name": "stderr",
     "output_type": "stream",
     "text": [
      " 92%|█████████▏| 1250/1364 [11:40<00:16,  7.06it/s]"
     ]
    },
    {
     "name": "stdout",
     "output_type": "stream",
     "text": [
      "Error with /Users/kevinmaikjablonka/Downloads/5104873/applications/2003/20030605-SUPP.xml: 'reaction'\n"
     ]
    },
    {
     "name": "stderr",
     "output_type": "stream",
     "text": [
      " 92%|█████████▏| 1252/1364 [11:41<00:19,  5.82it/s]"
     ]
    },
    {
     "name": "stdout",
     "output_type": "stream",
     "text": [
      "Error with /Users/kevinmaikjablonka/Downloads/5104873/applications/2003/20030102-SUPP.xml: 'reaction'\n",
      "Error with /Users/kevinmaikjablonka/Downloads/5104873/applications/2003/20031218-SUPP.xml: 'reaction'\n"
     ]
    },
    {
     "name": "stderr",
     "output_type": "stream",
     "text": [
      " 92%|█████████▏| 1256/1364 [11:41<00:15,  7.15it/s]"
     ]
    },
    {
     "name": "stdout",
     "output_type": "stream",
     "text": [
      "Error with /Users/kevinmaikjablonka/Downloads/5104873/applications/2003/20031009-SUPP.xml: 'reaction'\n",
      "Error with /Users/kevinmaikjablonka/Downloads/5104873/applications/2003/20030529-SUPP.xml: 'reaction'\n"
     ]
    },
    {
     "name": "stderr",
     "output_type": "stream",
     "text": [
      " 92%|█████████▏| 1259/1364 [11:42<00:16,  6.52it/s]"
     ]
    },
    {
     "name": "stdout",
     "output_type": "stream",
     "text": [
      "Error with /Users/kevinmaikjablonka/Downloads/5104873/applications/2003/20030313-SUPP.xml: 'reaction'\n"
     ]
    },
    {
     "name": "stderr",
     "output_type": "stream",
     "text": [
      " 93%|█████████▎| 1264/1364 [11:45<00:41,  2.38it/s]"
     ]
    },
    {
     "name": "stdout",
     "output_type": "stream",
     "text": [
      "Error with /Users/kevinmaikjablonka/Downloads/5104873/applications/2004/20040715-SUPP.xml: 'reaction'\n",
      "Error with /Users/kevinmaikjablonka/Downloads/5104873/applications/2004/20041118-SUPP.xml: 'reaction'\n"
     ]
    },
    {
     "name": "stderr",
     "output_type": "stream",
     "text": [
      " 93%|█████████▎| 1267/1364 [11:45<00:31,  3.08it/s]"
     ]
    },
    {
     "name": "stdout",
     "output_type": "stream",
     "text": [
      "Error with /Users/kevinmaikjablonka/Downloads/5104873/applications/2004/20040617-SUPP.xml: 'reaction'\n"
     ]
    },
    {
     "name": "stderr",
     "output_type": "stream",
     "text": [
      " 93%|█████████▎| 1274/1364 [11:49<00:45,  1.97it/s]"
     ]
    },
    {
     "name": "stdout",
     "output_type": "stream",
     "text": [
      "Error with /Users/kevinmaikjablonka/Downloads/5104873/applications/2004/20040513-SUPP.xml: 'reaction'\n",
      "Error with /Users/kevinmaikjablonka/Downloads/5104873/applications/2004/20040819-SUPP.xml: 'reaction'\n",
      "Error with /Users/kevinmaikjablonka/Downloads/5104873/applications/2004/20041104-SUPP.xml: 'reaction'\n",
      "Error with /Users/kevinmaikjablonka/Downloads/5104873/applications/2004/20040826-SUPP.xml: 'reaction'\n",
      "Error with /Users/kevinmaikjablonka/Downloads/5104873/applications/2004/20041223-SUPP.xml: 'reaction'\n",
      "Error with /Users/kevinmaikjablonka/Downloads/5104873/applications/2004/20041216-SUPP.xml: 'reaction'\n",
      "Error with /Users/kevinmaikjablonka/Downloads/5104873/applications/2004/20040812-SUPP.xml: 'reaction'\n"
     ]
    },
    {
     "name": "stderr",
     "output_type": "stream",
     "text": [
      " 94%|█████████▍| 1284/1364 [11:51<00:23,  3.36it/s]"
     ]
    },
    {
     "name": "stdout",
     "output_type": "stream",
     "text": [
      "Error with /Users/kevinmaikjablonka/Downloads/5104873/applications/2004/20040527-SUPP.xml: 'reaction'\n",
      "Error with /Users/kevinmaikjablonka/Downloads/5104873/applications/2004/20041007-SUPP.xml: 'reaction'\n"
     ]
    },
    {
     "name": "stderr",
     "output_type": "stream",
     "text": [
      " 94%|█████████▍| 1287/1364 [11:51<00:20,  3.74it/s]"
     ]
    },
    {
     "name": "stdout",
     "output_type": "stream",
     "text": [
      "Error with /Users/kevinmaikjablonka/Downloads/5104873/applications/2004/20040708-SUPP.xml: 'reaction'\n",
      "Error with /Users/kevinmaikjablonka/Downloads/5104873/applications/2004/20040101-SUPP.xml: 'reaction'\n"
     ]
    },
    {
     "name": "stderr",
     "output_type": "stream",
     "text": [
      " 95%|█████████▍| 1290/1364 [11:52<00:17,  4.28it/s]"
     ]
    },
    {
     "name": "stdout",
     "output_type": "stream",
     "text": [
      "Error with /Users/kevinmaikjablonka/Downloads/5104873/applications/2004/20040916-SUPP.xml: 'reaction'\n",
      "Error with /Users/kevinmaikjablonka/Downloads/5104873/applications/2004/20040226-SUPP.xml: 'reaction'\n"
     ]
    },
    {
     "name": "stderr",
     "output_type": "stream",
     "text": [
      " 95%|█████████▍| 1294/1364 [11:53<00:17,  3.99it/s]"
     ]
    },
    {
     "name": "stdout",
     "output_type": "stream",
     "text": [
      "Error with /Users/kevinmaikjablonka/Downloads/5104873/applications/2004/20040311-SUPP.xml: 'reaction'\n"
     ]
    },
    {
     "name": "stderr",
     "output_type": "stream",
     "text": [
      " 95%|█████████▌| 1296/1364 [11:54<00:17,  3.91it/s]"
     ]
    },
    {
     "name": "stdout",
     "output_type": "stream",
     "text": [
      "Error with /Users/kevinmaikjablonka/Downloads/5104873/applications/2004/20040422-SUPP.xml: 'reaction'\n"
     ]
    },
    {
     "name": "stderr",
     "output_type": "stream",
     "text": [
      " 95%|█████████▌| 1298/1364 [11:54<00:15,  4.30it/s]"
     ]
    },
    {
     "name": "stdout",
     "output_type": "stream",
     "text": [
      "Error with /Users/kevinmaikjablonka/Downloads/5104873/applications/2004/20040219-SUPP.xml: 'reaction'\n"
     ]
    },
    {
     "name": "stderr",
     "output_type": "stream",
     "text": [
      " 95%|█████████▌| 1300/1364 [11:55<00:19,  3.27it/s]"
     ]
    },
    {
     "name": "stdout",
     "output_type": "stream",
     "text": [
      "Error with /Users/kevinmaikjablonka/Downloads/5104873/applications/2004/20040325-SUPP.xml: 'reaction'\n",
      "Error with /Users/kevinmaikjablonka/Downloads/5104873/applications/2004/20040520-SUPP.xml: 'reaction'\n",
      "Error with /Users/kevinmaikjablonka/Downloads/5104873/applications/2004/20040212-SUPP.xml: 'reaction'\n",
      "Error with /Users/kevinmaikjablonka/Downloads/5104873/applications/2004/20040429-SUPP.xml: 'reaction'\n"
     ]
    },
    {
     "name": "stderr",
     "output_type": "stream",
     "text": [
      " 96%|█████████▌| 1306/1364 [11:56<00:16,  3.56it/s]"
     ]
    },
    {
     "name": "stdout",
     "output_type": "stream",
     "text": [
      "Error with /Users/kevinmaikjablonka/Downloads/5104873/applications/2004/20040624-SUPP.xml: 'reaction'\n"
     ]
    },
    {
     "name": "stderr",
     "output_type": "stream",
     "text": [
      " 96%|█████████▌| 1308/1364 [11:57<00:17,  3.16it/s]"
     ]
    },
    {
     "name": "stdout",
     "output_type": "stream",
     "text": [
      "Error with /Users/kevinmaikjablonka/Downloads/5104873/applications/2004/20040129-SUPP.xml: 'reaction'\n",
      "Error with /Users/kevinmaikjablonka/Downloads/5104873/applications/2004/20041028-SUPP.xml: 'reaction'\n",
      "Error with /Users/kevinmaikjablonka/Downloads/5104873/applications/2004/20040401-SUPP.xml: 'reaction'\n",
      "Error with /Users/kevinmaikjablonka/Downloads/5104873/applications/2004/20040122-SUPP.xml: 'reaction'\n",
      "Error with /Users/kevinmaikjablonka/Downloads/5104873/applications/2004/20040610-SUPP.xml: 'reaction'\n",
      "Error with /Users/kevinmaikjablonka/Downloads/5104873/applications/2004/20040205-SUPP.xml: 'reaction'\n"
     ]
    },
    {
     "name": "stderr",
     "output_type": "stream",
     "text": [
      " 97%|█████████▋| 1318/1364 [11:59<00:14,  3.08it/s]"
     ]
    },
    {
     "name": "stdout",
     "output_type": "stream",
     "text": [
      "Error with /Users/kevinmaikjablonka/Downloads/5104873/applications/2004/20040603-SUPP.xml: 'reaction'\n"
     ]
    },
    {
     "name": "stderr",
     "output_type": "stream",
     "text": [
      " 97%|█████████▋| 1326/1364 [12:04<00:24,  1.58it/s]"
     ]
    },
    {
     "name": "stdout",
     "output_type": "stream",
     "text": [
      "Error with /Users/kevinmaikjablonka/Downloads/5104873/applications/2004/20040701-SUPP.xml: 'reaction'\n"
     ]
    },
    {
     "name": "stderr",
     "output_type": "stream",
     "text": [
      " 97%|█████████▋| 1328/1364 [12:05<00:18,  1.99it/s]"
     ]
    },
    {
     "name": "stdout",
     "output_type": "stream",
     "text": [
      "Error with /Users/kevinmaikjablonka/Downloads/5104873/applications/2004/20041125-SUPP.xml: 'reaction'\n",
      "Error with /Users/kevinmaikjablonka/Downloads/5104873/applications/2004/20040722-SUPP.xml: 'reaction'\n",
      "Error with /Users/kevinmaikjablonka/Downloads/5104873/applications/2004/20041202-SUPP.xml: 'reaction'\n",
      "Error with /Users/kevinmaikjablonka/Downloads/5104873/applications/2004/20040930-SUPP.xml: 'reaction'\n",
      "Error with /Users/kevinmaikjablonka/Downloads/5104873/applications/2004/20041209-SUPP.xml: 'reaction'\n",
      "Error with /Users/kevinmaikjablonka/Downloads/5104873/applications/2004/20040506-SUPP.xml: 'reaction'\n",
      "Error with /Users/kevinmaikjablonka/Downloads/5104873/applications/2004/20040729-SUPP.xml: 'reaction'\n",
      "Error with /Users/kevinmaikjablonka/Downloads/5104873/applications/2004/20041111-SUPP.xml: 'reaction'\n"
     ]
    },
    {
     "name": "stderr",
     "output_type": "stream",
     "text": [
      " 98%|█████████▊| 1337/1364 [12:05<00:04,  5.72it/s]"
     ]
    },
    {
     "name": "stdout",
     "output_type": "stream",
     "text": [
      "Error with /Users/kevinmaikjablonka/Downloads/5104873/applications/2004/20040909-SUPP.xml: 'reaction'\n"
     ]
    },
    {
     "name": "stderr",
     "output_type": "stream",
     "text": [
      " 98%|█████████▊| 1341/1364 [12:08<00:08,  2.81it/s]"
     ]
    },
    {
     "name": "stdout",
     "output_type": "stream",
     "text": [
      "Error with /Users/kevinmaikjablonka/Downloads/5104873/applications/2004/20041014-SUPP.xml: 'reaction'\n"
     ]
    },
    {
     "name": "stderr",
     "output_type": "stream",
     "text": [
      " 99%|█████████▊| 1344/1364 [12:09<00:07,  2.83it/s]"
     ]
    },
    {
     "name": "stdout",
     "output_type": "stream",
     "text": [
      "Error with /Users/kevinmaikjablonka/Downloads/5104873/applications/2004/20040902-SUPP.xml: 'reaction'\n",
      "Error with /Users/kevinmaikjablonka/Downloads/5104873/applications/2004/20040408-SUPP.xml: 'reaction'\n",
      "Error with /Users/kevinmaikjablonka/Downloads/5104873/applications/2004/20041021-SUPP.xml: 'reaction'\n",
      "Error with /Users/kevinmaikjablonka/Downloads/5104873/applications/2004/20040115-SUPP.xml: 'reaction'\n"
     ]
    },
    {
     "name": "stderr",
     "output_type": "stream",
     "text": [
      " 99%|█████████▉| 1349/1364 [12:09<00:03,  4.34it/s]"
     ]
    },
    {
     "name": "stdout",
     "output_type": "stream",
     "text": [
      "Error with /Users/kevinmaikjablonka/Downloads/5104873/applications/2004/20041230-SUPP.xml: 'reaction'\n",
      "Error with /Users/kevinmaikjablonka/Downloads/5104873/applications/2004/20040304-SUPP.xml: 'reaction'\n"
     ]
    },
    {
     "name": "stderr",
     "output_type": "stream",
     "text": [
      " 99%|█████████▉| 1356/1364 [12:13<00:04,  1.94it/s]"
     ]
    },
    {
     "name": "stdout",
     "output_type": "stream",
     "text": [
      "Error with /Users/kevinmaikjablonka/Downloads/5104873/applications/2004/20040415-SUPP.xml: 'reaction'\n",
      "Error with /Users/kevinmaikjablonka/Downloads/5104873/applications/2004/20040108-SUPP.xml: 'reaction'\n"
     ]
    },
    {
     "name": "stderr",
     "output_type": "stream",
     "text": [
      "100%|█████████▉| 1359/1364 [12:13<00:01,  2.85it/s]"
     ]
    },
    {
     "name": "stdout",
     "output_type": "stream",
     "text": [
      "Error with /Users/kevinmaikjablonka/Downloads/5104873/applications/2004/20040318-SUPP.xml: 'reaction'\n"
     ]
    },
    {
     "name": "stderr",
     "output_type": "stream",
     "text": [
      "100%|██████████| 1364/1364 [12:16<00:00,  1.85it/s]\n"
     ]
    }
   ],
   "source": [
    "all_reactions = []\n",
    "\n",
    "for xml in tqdm(all_xmls):\n",
    "    with open(xml, 'r') as f:\n",
    "        xml_dict = xmltodict.parse(f.read())\n",
    "    try:\n",
    "        reactions = get_reaction_list(xml_dict)\n",
    "    except Exception as e:\n",
    "        print(f'Error with {xml}: {e}')\n",
    "    reactions_with_yield = [x for x in reactions if has_product_yield(x) and has_product_amount(x) and has_two_elements_in_product_list(x)]\n",
    "    all_reactions.extend(reactions_with_yield)"
   ]
  },
  {
   "cell_type": "code",
   "execution_count": 106,
   "metadata": {},
   "outputs": [
    {
     "data": {
      "text/plain": [
       "1638"
      ]
     },
     "execution_count": 106,
     "metadata": {},
     "output_type": "execute_result"
    }
   ],
   "source": [
    "len(all_reactions)"
   ]
  },
  {
   "cell_type": "markdown",
   "metadata": {},
   "source": [
    "This seems too little ..."
   ]
  },
  {
   "cell_type": "code",
   "execution_count": 108,
   "metadata": {},
   "outputs": [],
   "source": [
    "save_pickle('all_reactions.pkl', all_reactions)"
   ]
  },
  {
   "cell_type": "code",
   "execution_count": 109,
   "metadata": {},
   "outputs": [
    {
     "name": "stderr",
     "output_type": "stream",
     "text": [
      "100%|██████████| 1638/1638 [00:00<00:00, 80408.58it/s]"
     ]
    },
    {
     "name": "stdout",
     "output_type": "stream",
     "text": [
      "Error with {'dl:source': {'dl:documentId': 'US20130150362A1', 'dl:paragraphNum': '0735', 'dl:paragraphText': 'To a solution of ethyl 1,4-dioxaspiro[4.5]decane-8-carboxylate (7.89 g, 36.8 mmol) in THF (120 mL) was added LDA (1.5 eq) at −78° C. and stirred for 30 min. Then, benzyl chloromethyl ether (10.7 mL, 92.1 mmol) was added dropwise. The resulting mixture was slowly warmed to rt and stirred overnight. The reaction was quenched with H2O and combined with ammonium chloride. All the volatiles were removed. The residue was diluted with EtOAc, washed with H2O and brine, dried over Na2SO4, and concentrated. The resulting brownish oil was dissolved in CH3CN (150 mL) and a solution of CAN (2.02 g 3.68 mmol) in H2O (150 mL) was added. The resulting mixture was heated at 70° C. for 6 h. Organic solvent was removed under reduced pressure. The aqueous residue was extracted with EtOAc (*3) and the combined organic layers were washed brine, dried over Na2SO4 and concentrated. The crude product was purified by two SiO2 columns (firstly 0-30% EtOAc/Hexanes, then 50-100% DCM/Hexanes, Rf=0.2 in 20% EtOAc) to afford ethyl 1-(benzyloxymethyl)-4-oxocyclohexanecarboxylate as a pale yellow oil (5.72 g). HPLC-MS TR=2.08 min (UV 254 nm, 5 min method); mass calculated for formula C17H22O4 290.2, observed LCMS m/z 291.1 (M+H).'}, 'dl:reactionSmiles': '[O:1]1[C:5]2([CH2:10][CH2:9][CH:8]([C:11]([O:13][CH2:14][CH3:15])=[O:12])[CH2:7][CH2:6]2)OCC1.[Li+].CC([N-][CH:21]([CH3:23])[CH3:22])C.Cl[CH2:25][O:26][CH2:27]C1C=CC=CC=1.O=[N+]([O-])[O-].[O-][N+](=O)[O-].[O-][N+](=O)[O-].[O-][N+](=O)[O-].[O-][N+](=O)[O-].[O-][N+](=O)[O-].[Ce+4].[NH4+].[NH4+].[CH2:61]1[CH2:65]OC[CH2:62]1>O>[CH2:25]([O:26][CH2:27][C:8]1([C:11]([O:13][CH2:14][CH3:15])=[O:12])[CH2:7][CH2:6][C:5](=[O:1])[CH2:10][CH2:9]1)[C:22]1[CH:21]=[CH:23][CH:65]=[CH:61][CH:62]=1 |f:1.2,4.5.6.7.8.9.10.11.12|', 'productList': {'product': [{'@role': 'product', 'molecule': {'@id': 'm0', 'name': {'@dictRef': 'nameDict:unknown', '#text': 'DCM Hexanes'}}, 'amount': {'@dl:propertyType': 'PERCENTYIELD', '@dl:normalizedValue': '50 to 100', '#text': '50-100%'}, 'dl:entityType': 'chemicalClass'}, {'@role': 'product', 'molecule': {'@id': 'm1', 'name': {'@dictRef': 'nameDict:unknown', '#text': 'ethyl 1-(benzyloxymethyl)-4-oxocyclohexanecarboxylate'}}, 'amount': {'@dl:propertyType': 'MASS', '@dl:normalizedValue': '5.72', '#text': '5.72 g'}, 'identifier': [{'@dictRef': 'cml:smiles', '@value': 'C(C1=CC=CC=C1)OCC1(CCC(CC1)=O)C(=O)OCC'}, {'@dictRef': 'cml:inchi', '@value': 'InChI=1S/C17H22O4/c1-2-21-16(19)17(10-8-15(18)9-11-17)13-20-12-14-6-4-3-5-7-14/h3-7H,2,8-13H2,1H3'}], 'dl:entityType': 'exact', 'dl:appearance': 'pale yellow', 'dl:state': 'oil'}]}, 'reactantList': {'reactant': [{'@role': 'reactant', '@count': '1', 'molecule': {'@id': 'm2', 'name': {'@dictRef': 'nameDict:unknown', '#text': 'ethyl 1,4-dioxaspiro[4.5]decane-8-carboxylate'}}, 'amount': [{'@dl:propertyType': 'AMOUNT', '@dl:normalizedValue': '0.0368', '#text': '36.8 mmol'}, {'@dl:propertyType': 'MASS', '@dl:normalizedValue': '7.89', '#text': '7.89 g'}], 'identifier': [{'@dictRef': 'cml:smiles', '@value': 'O1CCOC12CCC(CC2)C(=O)OCC'}, {'@dictRef': 'cml:inchi', '@value': 'InChI=1S/C11H18O4/c1-2-13-10(12)9-3-5-11(6-4-9)14-7-8-15-11/h9H,2-8H2,1H3'}], 'dl:entityType': 'exact'}, {'@role': 'reactant', '@count': '1', 'molecule': {'@id': 'm3', 'name': {'@dictRef': 'nameDict:unknown', '#text': 'LDA'}}, 'amount': {'@dl:propertyType': 'EQUIVALENTS', '@dl:normalizedValue': '1.5', '#text': '1.5 eq'}, 'identifier': [{'@dictRef': 'cml:smiles', '@value': '[Li+].CC(C)[N-]C(C)C'}, {'@dictRef': 'cml:inchi', '@value': 'InChI=1S/C6H14N.Li/c1-5(2)7-6(3)4;/h5-6H,1-4H3;/q-1;+1'}], 'dl:entityType': 'exact'}, {'@role': 'reactant', '@count': '1', 'molecule': {'@id': 'm4', 'name': {'@dictRef': 'nameDict:unknown', '#text': 'benzyl chloromethyl ether'}}, 'amount': [{'@dl:propertyType': 'AMOUNT', '@dl:normalizedValue': '0.0921', '#text': '92.1 mmol'}, {'@dl:propertyType': 'VOLUME', '@dl:normalizedValue': '0.0107', '#text': '10.7 mL'}], 'identifier': [{'@dictRef': 'cml:smiles', '@value': 'ClCOCC1=CC=CC=C1'}, {'@dictRef': 'cml:inchi', '@value': 'InChI=1S/C8H9ClO/c9-7-10-6-8-4-2-1-3-5-8/h1-5H,6-7H2'}], 'dl:entityType': 'exact'}, {'@role': 'reactant', 'molecule': {'@id': 'm5', 'name': {'@dictRef': 'nameDict:unknown', '#text': 'CAN'}}, 'amount': [{'@dl:propertyType': 'AMOUNT', '@dl:normalizedValue': '0.00368', '#text': '3.68 mmol'}, {'@dl:propertyType': 'MASS', '@dl:normalizedValue': '2.02', '#text': '2.02 g'}], 'identifier': [{'@dictRef': 'cml:smiles', '@value': 'O=[N+]([O-])[O-].[O-][N+]([O-])=O.[O-][N+]([O-])=O.[O-][N+]([O-])=O.[O-][N+]([O-])=O.[O-][N+]([O-])=O.[Ce+4].[NH4+].[NH4+]'}, {'@dictRef': 'cml:inchi', '@value': 'InChI=1S/Ce.6NO3.2H3N/c;6*2-1(3)4;;/h;;;;;;;2*1H3/q+4;6*-1;;/p+2'}], 'dl:entityType': 'exact'}, {'@role': 'reactant', '@count': '1', 'molecule': {'@id': 'm6', 'name': {'@dictRef': 'nameDict:unknown', '#text': 'THF'}}, 'amount': {'@dl:propertyType': 'VOLUME', '@dl:normalizedValue': '0.120', '#text': '120 mL'}, 'identifier': [{'@dictRef': 'cml:smiles', '@value': 'C1CCOC1'}, {'@dictRef': 'cml:inchi', '@value': 'InChI=1S/C4H8O/c1-2-4-5-3-1/h1-4H2'}], 'dl:entityType': 'exact'}]}, 'spectatorList': {'spectator': {'@role': 'solvent', 'molecule': {'@id': 'm7', 'name': {'@dictRef': 'nameDict:unknown', '#text': 'H2O'}}, 'amount': {'@dl:propertyType': 'VOLUME', '@dl:normalizedValue': '0.150', '#text': '150 mL'}, 'identifier': [{'@dictRef': 'cml:smiles', '@value': 'O'}, {'@dictRef': 'cml:inchi', '@value': 'InChI=1S/H2O/h1H2'}], 'dl:entityType': 'exact'}}, 'dl:reactionActionList': {'dl:reactionAction': [{'@action': 'Add', 'dl:phraseText': 'To a solution of ethyl 1,4-dioxaspiro[4.5]decane-8-carboxylate (7.89 g, 36.8 mmol) in THF (120 mL) was added LDA (1.5 eq) at −78° C.', 'dl:chemical': [{'@ref': 'm2'}, {'@ref': 'm6'}, {'@ref': 'm3'}], 'dl:parameter': {'@propertyType': 'Temperature', '@normalizedValue': '-78', '#text': '−78° C.'}}, {'@action': 'Stir', 'dl:phraseText': 'stirred for 30 min', 'dl:parameter': {'@propertyType': 'Time', '@normalizedValue': '1800', '#text': '30 min'}}, {'@action': 'Add', 'dl:phraseText': 'Then, benzyl chloromethyl ether (10.7 mL, 92.1 mmol) was added dropwise', 'dl:chemical': {'@ref': 'm4'}}, {'@action': 'Heat', 'dl:phraseText': 'The resulting mixture was slowly warmed to rt', 'dl:parameter': {'@propertyType': 'Temperature', '@normalizedValue': 'room temperature', '#text': 'rt'}}, {'@action': 'Stir', 'dl:phraseText': 'stirred overnight', 'dl:parameter': {'@propertyType': 'Time', '@normalizedValue': 'overnight', '#text': 'overnight'}}, {'@action': 'Quench', 'dl:phraseText': 'The reaction was quenched with H2O', 'chemical': {'molecule': {'@id': 'm8', 'name': {'@dictRef': 'nameDict:unknown', '#text': 'H2O'}}, 'identifier': [{'@dictRef': 'cml:smiles', '@value': 'O'}, {'@dictRef': 'cml:inchi', '@value': 'InChI=1S/H2O/h1H2'}], 'dl:entityType': 'exact'}}, {'@action': 'Remove', 'dl:phraseText': 'All the volatiles were removed'}, {'@action': 'Add', 'dl:phraseText': 'The residue was diluted with EtOAc', 'chemical': {'molecule': {'@id': 'm9', 'name': {'@dictRef': 'nameDict:unknown', '#text': 'EtOAc'}}, 'identifier': [{'@dictRef': 'cml:smiles', '@value': 'CCOC(=O)C'}, {'@dictRef': 'cml:inchi', '@value': 'InChI=1S/C4H8O2/c1-3-6-4(2)5/h3H2,1-2H3'}], 'dl:entityType': 'exact'}}, {'@action': 'Wash', 'dl:phraseText': 'washed with H2O and brine', 'chemical': [{'molecule': {'@id': 'm10', 'name': {'@dictRef': 'nameDict:unknown', '#text': 'H2O'}}, 'identifier': [{'@dictRef': 'cml:smiles', '@value': 'O'}, {'@dictRef': 'cml:inchi', '@value': 'InChI=1S/H2O/h1H2'}], 'dl:entityType': 'exact'}, {'molecule': {'@id': 'm11', 'name': {'@dictRef': 'nameDict:unknown', '#text': 'brine'}}, 'identifier': [{'@dictRef': 'cml:smiles', '@value': '[Cl-].[Na+].O'}, {'@dictRef': 'cml:inchi', '@value': 'InChI=1S/ClH.Na.H2O/h1H;;1H2/q;+1;/p-1'}], 'dl:entityType': 'exact'}]}, {'@action': 'Dry', 'dl:phraseText': 'dried over Na2SO4', 'chemical': {'molecule': {'@id': 'm12', 'name': {'@dictRef': 'nameDict:unknown', '#text': 'Na2SO4'}}, 'identifier': [{'@dictRef': 'cml:smiles', '@value': '[O-]S(=O)(=O)[O-].[Na+].[Na+]'}, {'@dictRef': 'cml:inchi', '@value': 'InChI=1S/2Na.H2O4S/c;;1-5(2,3)4/h;;(H2,1,2,3,4)/q2*+1;/p-2'}], 'dl:entityType': 'exact'}}, {'@action': 'Concentrate', 'dl:phraseText': 'concentrated'}, {'@action': 'Dissolve', 'dl:phraseText': 'The resulting brownish oil was dissolved in CH3CN (150 mL)', 'chemical': {'molecule': {'@id': 'm13', 'name': {'@dictRef': 'nameDict:unknown', '#text': 'CH3CN'}}, 'amount': {'@dl:propertyType': 'VOLUME', '@dl:normalizedValue': '0.150', '#text': '150 mL'}, 'identifier': [{'@dictRef': 'cml:smiles', '@value': 'CC#N'}, {'@dictRef': 'cml:inchi', '@value': 'InChI=1S/C2H3N/c1-2-3/h1H3'}], 'dl:entityType': 'exact'}}, {'@action': 'Add', 'dl:phraseText': 'a solution of CAN (2.02 g 3.68 mmol) in H2O (150 mL) was added', 'dl:chemical': [{'@ref': 'm5'}, {'@ref': 'm7'}]}, {'@action': 'Heat', 'dl:phraseText': 'The resulting mixture was heated at 70° C. for 6 h', 'dl:parameter': [{'@propertyType': 'Time', '@normalizedValue': '21600', '#text': '6 h'}, {'@propertyType': 'Temperature', '@normalizedValue': '70', '#text': '70° C.'}]}, {'@action': 'Remove', 'dl:phraseText': 'Organic solvent was removed under reduced pressure', 'dl:parameter': {'@propertyType': 'Pressure', '@normalizedValue': 'reduced pressure', '#text': 'reduced pressure'}}, {'@action': 'Extract', 'dl:phraseText': 'The aqueous residue was extracted with EtOAc (*3)', 'chemical': {'molecule': {'@id': 'm14', 'name': {'@dictRef': 'nameDict:unknown', '#text': 'EtOAc'}}, 'identifier': [{'@dictRef': 'cml:smiles', '@value': 'CCOC(=O)C'}, {'@dictRef': 'cml:inchi', '@value': 'InChI=1S/C4H8O2/c1-3-6-4(2)5/h3H2,1-2H3'}], 'dl:entityType': 'exact'}}, {'@action': 'Wash', 'dl:phraseText': 'the combined organic layers were washed brine', 'chemical': {'molecule': {'@id': 'm15', 'name': {'@dictRef': 'nameDict:unknown', '#text': 'brine'}}, 'identifier': [{'@dictRef': 'cml:smiles', '@value': '[Cl-].[Na+].O'}, {'@dictRef': 'cml:inchi', '@value': 'InChI=1S/ClH.Na.H2O/h1H;;1H2/q;+1;/p-1'}], 'dl:entityType': 'exact'}}, {'@action': 'Dry', 'dl:phraseText': 'dried over Na2SO4', 'chemical': {'molecule': {'@id': 'm16', 'name': {'@dictRef': 'nameDict:unknown', '#text': 'Na2SO4'}}, 'identifier': [{'@dictRef': 'cml:smiles', '@value': '[O-]S(=O)(=O)[O-].[Na+].[Na+]'}, {'@dictRef': 'cml:inchi', '@value': 'InChI=1S/2Na.H2O4S/c;;1-5(2,3)4/h;;(H2,1,2,3,4)/q2*+1;/p-2'}], 'dl:entityType': 'exact'}}, {'@action': 'Concentrate', 'dl:phraseText': 'concentrated'}, {'@action': 'Purify', 'dl:phraseText': 'The crude product was purified by two SiO2 columns (firstly 0-30% EtOAc/Hexanes', 'chemical': [{'molecule': {'@id': 'm17', 'name': {'@dictRef': 'nameDict:unknown', '#text': 'crude product'}}, 'dl:entityType': 'definiteReference'}, {'molecule': {'@id': 'm18', 'name': {'@dictRef': 'nameDict:unknown', '#text': 'SiO2'}}, 'dl:entityType': 'falsePositive'}, {'molecule': {'@id': 'm19', 'name': {'@dictRef': 'nameDict:unknown', '#text': 'EtOAc Hexanes'}}, 'dl:entityType': 'chemicalClass'}]}, {'@action': 'Yield', 'dl:phraseText': '50-100% DCM/Hexanes, Rf=0.2 in 20% EtOAc) to afford ethyl 1-(benzyloxymethyl)-4-oxocyclohexanecarboxylate as a pale yellow oil (5.72 g)', 'dl:chemical': [{'@ref': 'm0'}, {'@ref': 'm1'}], 'chemical': {'molecule': {'@id': 'm20', 'name': {'@dictRef': 'nameDict:unknown', '#text': 'EtOAc'}}, 'identifier': [{'@dictRef': 'cml:smiles', '@value': 'CCOC(=O)C'}, {'@dictRef': 'cml:inchi', '@value': 'InChI=1S/C4H8O2/c1-3-6-4(2)5/h3H2,1-2H3'}], 'dl:entityType': 'exact'}}]}}: could not convert string to float: '50 to 100'\n",
      "Error with {'dl:source': {'dl:documentId': 'US20140038937A1', 'dl:paragraphNum': '0769', 'dl:paragraphText': 'Bis(triphenylphosphine) palladium(II) chloride (0.448 g, 0.63 mmol) was added in one portion to a stirred slurry of (R)-methyl 8-bromo-2-(2-methylmorpholino)-4-oxo-4H-chromene-6-carboxylate (10.06 g, 25 mmol), 1-(tert-butoxycarbonyl)-1H-pyrrol-2-ylboronic acid (6.46 g, 30.00 mmol) and sodium carbonate (7.95 g, 75.00 mmol) in DME (140 mL) and water (28 mL). The mixture was degassed with argon for 15 mins then heated at 80° C. for 6 h. The solvent was evaporated, water was added to the residue and the mixture was extracted with DCM. The combined organic phases were washed with water, brine, dried over MgSO4 and concentrated to give crude (R)-tert-butyl 2-(6-(methoxycarbonyl)-2-(2-methylmorpholino)-4-oxo-4H-chromen-8-yl)-1H-pyrrole-1-carboxylate containing ˜20% of starting material (13.98 g). Mass Spectrum: m/z [M+H]+=469.'}, 'dl:reactionSmiles': 'Br[C:2]1[CH:3]=[C:4]([C:20]([O:22][CH3:23])=[O:21])[CH:5]=[C:6]2[C:11]=1[O:10][C:9]([N:12]1[CH2:17][CH2:16][O:15][C@H:14]([CH3:18])[CH2:13]1)=[CH:8][C:7]2=[O:19].[C:24]([O:28][C:29]([N:31]1[CH:35]=[CH:34][CH:33]=[C:32]1B(O)O)=[O:30])([CH3:27])([CH3:26])[CH3:25].C(=O)([O-])[O-].[Na+].[Na+]>COCCOC.O.[Pd](Cl)Cl.C1(P(C2C=CC=CC=2)C2C=CC=CC=2)C=CC=CC=1.C1(P(C2C=CC=CC=2)C2C=CC=CC=2)C=CC=CC=1>[CH3:23][O:22][C:20]([C:4]1[CH:5]=[C:6]2[C:11](=[C:2]([C:32]3[N:31]([C:29]([O:28][C:24]([CH3:27])([CH3:26])[CH3:25])=[O:30])[CH:35]=[CH:34][CH:33]=3)[CH:3]=1)[O:10][C:9]([N:12]1[CH2:17][CH2:16][O:15][C@H:14]([CH3:18])[CH2:13]1)=[CH:8][C:7]2=[O:19])=[O:21] |f:2.3.4,7.8.9|', 'productList': {'product': [{'@role': 'product', 'molecule': {'@id': 'm0', 'name': {'@dictRef': 'nameDict:unknown', '#text': '(R)-tert-butyl 2-(6-(methoxycarbonyl)-2-(2-methylmorpholino)-4-oxo-4H-chromen-8-yl)-1H-pyrrole-1-carboxylate'}}, 'amount': {'@dl:propertyType': 'PERCENTYIELD', '@dl:normalizedValue': '~20', '#text': '~20%'}, 'identifier': [{'@dictRef': 'cml:smiles', '@value': 'COC(=O)C=1C=C2C(C=C(OC2=C(C1)C=1N(C=CC1)C(=O)OC(C)(C)C)N1C[C@H](OCC1)C)=O'}, {'@dictRef': 'cml:inchi', '@value': 'InChI=1S/C25H28N2O7/c1-15-14-26(9-10-32-15)21-13-20(28)18-12-16(23(29)31-5)11-17(22(18)33-21)19-7-6-8-27(19)24(30)34-25(2,3)4/h6-8,11-13,15H,9-10,14H2,1-5H3/t15-/m1/s1'}], 'dl:entityType': 'exact'}, {'@role': 'product', 'molecule': {'@id': 'm1', 'name': {'@dictRef': 'nameDict:unknown', '#text': 'material'}}, 'amount': {'@dl:propertyType': 'MASS', '@dl:normalizedValue': '13.98', '#text': '13.98 g'}, 'dl:entityType': 'exact'}]}, 'reactantList': {'reactant': [{'@role': 'reactant', '@count': '1', 'molecule': {'@id': 'm2', 'name': {'@dictRef': 'nameDict:unknown', '#text': '(R)-methyl 8-bromo-2-(2-methylmorpholino)-4-oxo-4H-chromene-6-carboxylate'}}, 'amount': [{'@dl:propertyType': 'AMOUNT', '@dl:normalizedValue': '0.025', '#text': '25 mmol'}, {'@dl:propertyType': 'MASS', '@dl:normalizedValue': '10.06', '#text': '10.06 g'}], 'identifier': [{'@dictRef': 'cml:smiles', '@value': 'BrC=1C=C(C=C2C(C=C(OC12)N1C[C@H](OCC1)C)=O)C(=O)OC'}, {'@dictRef': 'cml:inchi', '@value': 'InChI=1S/C16H16BrNO5/c1-9-8-18(3-4-22-9)14-7-13(19)11-5-10(16(20)21-2)6-12(17)15(11)23-14/h5-7,9H,3-4,8H2,1-2H3/t9-/m1/s1'}], 'dl:entityType': 'exact'}, {'@role': 'reactant', '@count': '1', 'molecule': {'@id': 'm3', 'name': {'@dictRef': 'nameDict:unknown', '#text': '1-(tert-butoxycarbonyl)-1H-pyrrol-2-ylboronic acid'}}, 'amount': [{'@dl:propertyType': 'AMOUNT', '@dl:normalizedValue': '0.03000', '#text': '30.00 mmol'}, {'@dl:propertyType': 'MASS', '@dl:normalizedValue': '6.46', '#text': '6.46 g'}], 'identifier': [{'@dictRef': 'cml:smiles', '@value': 'C(C)(C)(C)OC(=O)N1C(=CC=C1)B(O)O'}, {'@dictRef': 'cml:inchi', '@value': 'InChI=1S/C9H14BNO4/c1-9(2,3)15-8(12)11-6-4-5-7(11)10(13)14/h4-6,13-14H,1-3H3'}], 'dl:entityType': 'exact'}, {'@role': 'reactant', 'molecule': {'@id': 'm4', 'name': {'@dictRef': 'nameDict:unknown', '#text': 'sodium carbonate'}}, 'amount': [{'@dl:propertyType': 'AMOUNT', '@dl:normalizedValue': '0.07500', '#text': '75.00 mmol'}, {'@dl:propertyType': 'MASS', '@dl:normalizedValue': '7.95', '#text': '7.95 g'}], 'identifier': [{'@dictRef': 'cml:smiles', '@value': 'C([O-])([O-])=O.[Na+].[Na+]'}, {'@dictRef': 'cml:inchi', '@value': 'InChI=1S/CH2O3.2Na/c2-1(3)4;;/h(H2,2,3,4);;/q;2*+1/p-2'}], 'dl:entityType': 'exact'}]}, 'spectatorList': {'spectator': [{'@role': 'solvent', 'molecule': {'@id': 'm5', 'name': {'@dictRef': 'nameDict:unknown', '#text': 'DME'}}, 'amount': {'@dl:propertyType': 'VOLUME', '@dl:normalizedValue': '0.140', '#text': '140 mL'}, 'identifier': [{'@dictRef': 'cml:smiles', '@value': 'COCCOC'}, {'@dictRef': 'cml:inchi', '@value': 'InChI=1S/C4H10O2/c1-5-3-4-6-2/h3-4H2,1-2H3'}], 'dl:entityType': 'exact'}, {'@role': 'solvent', 'molecule': {'@id': 'm6', 'name': {'@dictRef': 'nameDict:unknown', '#text': 'water'}}, 'amount': {'@dl:propertyType': 'VOLUME', '@dl:normalizedValue': '0.028', '#text': '28 mL'}, 'identifier': [{'@dictRef': 'cml:smiles', '@value': 'O'}, {'@dictRef': 'cml:inchi', '@value': 'InChI=1S/H2O/h1H2'}], 'dl:entityType': 'exact'}, {'@role': 'catalyst', 'molecule': {'@id': 'm7', 'name': {'@dictRef': 'nameDict:unknown', '#text': 'Bis(triphenylphosphine) palladium(II) chloride'}}, 'amount': [{'@dl:propertyType': 'AMOUNT', '@dl:normalizedValue': '0.00063', '#text': '0.63 mmol'}, {'@dl:propertyType': 'MASS', '@dl:normalizedValue': '0.448', '#text': '0.448 g'}], 'identifier': [{'@dictRef': 'cml:smiles', '@value': '[Pd](Cl)Cl.C1(=CC=CC=C1)P(C1=CC=CC=C1)C1=CC=CC=C1.C1(=CC=CC=C1)P(C1=CC=CC=C1)C1=CC=CC=C1'}, {'@dictRef': 'cml:inchi', '@value': 'InChI=1S/2C18H15P.2ClH.Pd/c2*1-4-10-16(11-5-1)19(17-12-6-2-7-13-17)18-14-8-3-9-15-18;;;/h2*1-15H;2*1H;/q;;;;+2/p-2'}], 'dl:entityType': 'exact'}]}, 'dl:reactionActionList': {'dl:reactionAction': [{'@action': 'Add', 'dl:phraseText': 'Bis(triphenylphosphine) palladium(II) chloride (0.448 g, 0.63 mmol) was added in one portion to a stirred slurry of (R)-methyl 8-bromo-2-(2-methylmorpholino)-4-oxo-4H-chromene-6-carboxylate (10.06 g, 25 mmol), 1-(tert-butoxycarbonyl)-1H-pyrrol-2-ylboronic acid (6.46 g, 30.00 mmol) and sodium carbonate (7.95 g, 75.00 mmol) in DME (140 mL) and water (28 mL)', 'dl:chemical': [{'@ref': 'm7'}, {'@ref': 'm2'}, {'@ref': 'm3'}, {'@ref': 'm4'}, {'@ref': 'm5'}, {'@ref': 'm6'}]}, {'@action': 'Degass', 'dl:phraseText': 'The mixture was degassed with argon for 15 mins', 'chemical': {'molecule': {'@id': 'm8', 'name': {'@dictRef': 'nameDict:unknown', '#text': 'argon'}}, 'identifier': [{'@dictRef': 'cml:smiles', '@value': '[Ar]'}, {'@dictRef': 'cml:inchi', '@value': 'InChI=1S/Ar'}], 'dl:entityType': 'falsePositive'}, 'dl:parameter': {'@propertyType': 'Time', '@normalizedValue': '900', '#text': '15 mins'}}, {'@action': 'Heat', 'dl:phraseText': 'then heated at 80° C. for 6 h', 'dl:parameter': [{'@propertyType': 'Time', '@normalizedValue': '21600', '#text': '6 h'}, {'@propertyType': 'Temperature', '@normalizedValue': '80', '#text': '80° C.'}]}, {'@action': 'Remove', 'dl:phraseText': 'The solvent was evaporated'}, {'@action': 'Add', 'dl:phraseText': 'water was added to the residue', 'chemical': {'molecule': {'@id': 'm9', 'name': {'@dictRef': 'nameDict:unknown', '#text': 'water'}}, 'identifier': [{'@dictRef': 'cml:smiles', '@value': 'O'}, {'@dictRef': 'cml:inchi', '@value': 'InChI=1S/H2O/h1H2'}], 'dl:entityType': 'exact'}}, {'@action': 'Extract', 'dl:phraseText': 'the mixture was extracted with DCM', 'chemical': {'molecule': {'@id': 'm10', 'name': {'@dictRef': 'nameDict:unknown', '#text': 'DCM'}}, 'identifier': [{'@dictRef': 'cml:smiles', '@value': 'C(Cl)Cl'}, {'@dictRef': 'cml:inchi', '@value': 'InChI=1S/CH2Cl2/c2-1-3/h1H2'}], 'dl:entityType': 'exact'}}, {'@action': 'Wash', 'dl:phraseText': 'The combined organic phases were washed with water, brine', 'chemical': [{'molecule': {'@id': 'm11', 'name': {'@dictRef': 'nameDict:unknown', '#text': 'water'}}, 'identifier': [{'@dictRef': 'cml:smiles', '@value': 'O'}, {'@dictRef': 'cml:inchi', '@value': 'InChI=1S/H2O/h1H2'}], 'dl:entityType': 'exact'}, {'molecule': {'@id': 'm12', 'name': {'@dictRef': 'nameDict:unknown', '#text': 'brine'}}, 'identifier': [{'@dictRef': 'cml:smiles', '@value': '[Cl-].[Na+].O'}, {'@dictRef': 'cml:inchi', '@value': 'InChI=1S/ClH.Na.H2O/h1H;;1H2/q;+1;/p-1'}], 'dl:entityType': 'exact'}]}, {'@action': 'Dry', 'dl:phraseText': 'dried over MgSO4', 'chemical': {'molecule': {'@id': 'm13', 'name': {'@dictRef': 'nameDict:unknown', '#text': 'MgSO4'}}, 'identifier': [{'@dictRef': 'cml:smiles', '@value': '[O-]S(=O)(=O)[O-].[Mg+2]'}, {'@dictRef': 'cml:inchi', '@value': 'InChI=1S/Mg.H2O4S/c;1-5(2,3)4/h;(H2,1,2,3,4)/q+2;/p-2'}], 'dl:entityType': 'exact'}}, {'@action': 'Concentrate', 'dl:phraseText': 'concentrated'}, {'@action': 'Yield', 'dl:phraseText': 'to give crude (R)-tert-butyl 2-(6-(methoxycarbonyl)-2-(2-methylmorpholino)-4-oxo-4H-chromen-8-yl)-1H-pyrrole-1-carboxylate containing ˜20% of starting material (13.98 g)', 'dl:chemical': [{'@ref': 'm0'}, {'@ref': 'm1'}]}]}}: could not convert string to float: '~20'\n",
      "Error with {'dl:source': {'dl:documentId': 'US20140309218A1', 'dl:headingText': 'Preparation H: rac-(4aR*,8aR*)-3-(4-(4-methoxybenzyl)-3-oxo-3,4-dihydro-2H-pyrido[3,2-b][1,4]oxazin-6-yl)octahydro-2H-pyrido[4,3-e][1,3]oxazin-2-one', 'dl:paragraphNum': '0275', 'dl:paragraphText': 'Starting from 6-bromo-4-(4-methoxybenzyl)-2H-pyrido[3,2-b][1,4]oxazin-3(4H)-one (prepared as described in WO 2010/041194, 0.35 g, 1 mmol) and rac-(4aR*,8aR*)-tert-butyl 2-oxohexahydro-2H-pyrido[4,3-e][1,3]oxazine-7(3H)-carboxylate (Preparation A, 0.308 g, 1.2 mmol, 1.2 eq.), the title compound was obtained as an orange foam (0.255 g) using the procedures described in Preparation D, steps D.i and D.ii (Buchwald coupling: 95% yield, Boc deprotection: 63% yield).'}, 'dl:reactionSmiles': 'Br[C:2]1[CH:3]=[CH:4][C:5]2[O:6][CH2:7][C:8](=[O:21])[N:9]([CH2:12][C:13]3[CH:18]=[CH:17][C:16]([O:19][CH3:20])=[CH:15][CH:14]=3)[C:10]=2[N:11]=1.[O:22]=[C:23]1[NH:28][CH2:27][CH:26]2[CH2:29][CH2:30][N:31](C(OC(C)(C)C)=O)[CH2:32][CH:25]2[O:24]1>>[CH3:20][O:19][C:16]1[CH:17]=[CH:18][C:13]([CH2:12][N:9]2[C:8](=[O:21])[CH2:7][O:6][C:5]3[CH:4]=[CH:3][C:2]([N:28]4[CH2:27][CH:26]5[CH2:29][CH2:30][NH:31][CH2:32][CH:25]5[O:24][C:23]4=[O:22])=[N:11][C:10]2=3)=[CH:14][CH:15]=1', 'productList': {'product': [{'@role': 'product', 'molecule': {'@id': 'm0', 'name': {'@dictRef': 'nameDict:unknown', '#text': 'title compound'}, 'dl:nameResolved': 'rac-(4aR*,8aR*)-3-(4-(4-methoxybenzyl)-3-oxo-3,4-dihydro-2H-pyrido[3,2-b][1,4]oxazin-6-yl)octahydro-2H-pyrido[4,3-e][1,3]oxazin-2-one'}, 'amount': {'@dl:propertyType': 'PERCENTYIELD', '@dl:normalizedValue': '95', '#text': '95% yield'}, 'identifier': [{'@dictRef': 'cml:smiles', '@value': 'COC1=CC=C(CN2C3=C(OCC2=O)C=CC(=N3)N3C(OC2C(C3)CCNC2)=O)C=C1'}, {'@dictRef': 'cml:inchi', '@value': 'InChI=1S/C22H24N4O5/c1-29-16-4-2-14(3-5-16)11-26-20(27)13-30-17-6-7-19(24-21(17)26)25-12-15-8-9-23-10-18(15)31-22(25)28/h2-7,15,18,23H,8-13H2,1H3'}], 'dl:entityType': 'definiteReference'}, {'@role': 'product', 'molecule': {'@id': 'm1', 'name': {'@dictRef': 'nameDict:unknown', '#text': 'foam'}}, 'amount': {'@dl:propertyType': 'MASS', '@dl:normalizedValue': '0.255', '#text': '0.255 g'}, 'dl:entityType': 'chemicalClass', 'dl:state': 'foam'}]}, 'reactantList': {'reactant': [{'@role': 'reactant', '@count': '1', 'molecule': {'@id': 'm2', 'name': {'@dictRef': 'nameDict:unknown', '#text': '6-bromo-4-(4-methoxybenzyl)-2H-pyrido[3,2-b][1,4]oxazin-3(4H)-one'}}, 'amount': [{'@dl:propertyType': 'AMOUNT', '@dl:normalizedValue': '0.001', '#text': '1 mmol'}, {'@dl:propertyType': 'MASS', '@dl:normalizedValue': '0.35', '#text': '0.35 g'}], 'identifier': [{'@dictRef': 'cml:smiles', '@value': 'BrC=1C=CC=2OCC(N(C2N1)CC1=CC=C(C=C1)OC)=O'}, {'@dictRef': 'cml:inchi', '@value': 'InChI=1S/C15H13BrN2O3/c1-20-11-4-2-10(3-5-11)8-18-14(19)9-21-12-6-7-13(16)17-15(12)18/h2-7H,8-9H2,1H3'}], 'dl:entityType': 'exact'}, {'@role': 'reactant', '@count': '1', 'molecule': {'@id': 'm3', 'name': {'@dictRef': 'nameDict:unknown', '#text': 'rac-(4aR*,8aR*)-tert-butyl 2-oxohexahydro-2H-pyrido[4,3-e][1,3]oxazine-7(3H)-carboxylate'}}, 'amount': [{'@dl:propertyType': 'AMOUNT', '@dl:normalizedValue': '0.0012', '#text': '1.2 mmol'}, {'@dl:propertyType': 'MASS', '@dl:normalizedValue': '0.308', '#text': '0.308 g'}, {'@dl:propertyType': 'EQUIVALENTS', '@dl:normalizedValue': '1.2', '#text': '1.2 eq.'}], 'identifier': [{'@dictRef': 'cml:smiles', '@value': 'O=C1OC2C(CN1)CCN(C2)C(=O)OC(C)(C)C'}, {'@dictRef': 'cml:inchi', '@value': 'InChI=1S/C12H20N2O4/c1-12(2,3)18-11(16)14-5-4-8-6-13-10(15)17-9(8)7-14/h8-9H,4-7H2,1-3H3,(H,13,15)'}], 'dl:entityType': 'exact'}]}, 'spectatorList': None, 'dl:reactionActionList': {'dl:reactionAction': {'@action': 'Yield', 'dl:phraseText': 'the title compound was obtained as an orange foam (0.255 g)', 'dl:chemical': [{'@ref': 'm0'}, {'@ref': 'm1'}]}}}: string indices must be integers\n",
      "Error with {'dl:source': {'dl:documentId': 'US20150225373A1', 'dl:headingText': '(ii) 4-((4-Aminonaphthalen-1-yl)oxy)-N-(6-(2-(2-(2-methoxyethoxyl)ethoxy)ethoxy)pyridin-2-yl)pyrimidin-2-amine', 'dl:paragraphNum': '0458', 'dl:paragraphText': 'To a microwave vial was added the product of step (i) above (379 mg, 1.479 mmol), tert-butyl (4-((2-chloropyrimidin-4-yl)oxy)naphthalen-1-yl)carbamate (see, for example, Ito, K. et al., WO 2010/067130, 17 Jun. 2010; 500 mg, 1.345 mmol), caesium carbonate (657 mg, 2.017 mmol), palladium(II) acetate (7.55 mg, 0.034 mmol), BINAP (41.9 mg, 0.067 mmol) and dioxane (8 mL). The reaction mixture was purged with N2 for 10 min and then irradiated at 100° C. for 15 mins. Reaction was filtered through Celite, the solids washed with MeOH and the filtrate concentrated in vacuo. The crude product was purified by chromatography on silica gel (40 g column, DCM:MeOH; 1-10% to afford a clear brown oil, 0.80 g. The residue was then taken up in DCM (20 mL) and TFA (5180 μL, 67.2 mmol) was added dropwise and left to stir under N2 at rt for 1 h. Reaction was concentrated in vacuo leaving a brown oil. The crude product was loaded onto a column of SCX (20 g) in MeOH. The column was washed with MeOH and then the product was eluted with 0.7 M ammonia in MeOH. The resultant mixture was concentrated in vacuo to afford a light brown oil. The crude product required further purification by chromatography on silica gel (40 g column) using DCM:MeOH:NH3 (1%-5%) to afford the sub-title compound (360 mg) as a light brown oil which was used crude in the next step.'}, 'dl:reactionSmiles': '[NH3:1].Cl[C:3]1[N:8]=[C:7]([O:9][C:10]2[C:19]3[C:14](=[CH:15][CH:16]=[CH:17][CH:18]=3)[C:13]([NH:20]C(=O)OC(C)(C)C)=[CH:12][CH:11]=2)[CH:6]=[CH:5][N:4]=1.[C:28](=[O:31])([O-])[O-].[Cs+].[Cs+].[C:34]([OH:40])([C:36](F)(F)F)=O.[CH3:41][OH:42]>C(Cl)Cl.C([O-])(=O)C.[Pd+2].C([O-])(=O)C.C1C=CC(P(C2C(C3C(P(C4C=CC=CC=4)C4C=CC=CC=4)=CC=C4C=3C=CC=C4)=C3C(C=CC=C3)=CC=2)C2C=CC=CC=2)=CC=1.O1CCOCC1>[NH3:4].[NH2:20][C:13]1[C:14]2[C:19](=[CH:18][CH:17]=[CH:16][CH:15]=2)[C:10]([O:9][C:7]2[CH:6]=[CH:5][N:4]=[C:3]([NH:1][C:13]3[CH:14]=[CH:15][CH:16]=[C:41]([O:42][CH2:6][CH2:7][O:9][CH2:10][CH2:11][O:40][CH2:34][CH2:36][O:31][CH3:28])[N:20]=3)[N:8]=2)=[CH:11][CH:12]=1 |f:2.3.4,8.9.10|', 'productList': {'product': [{'@role': 'product', 'molecule': {'@id': 'm0', 'name': {'@dictRef': 'nameDict:unknown', '#text': 'NH3'}}, 'amount': {'@dl:propertyType': 'PERCENTYIELD', '@dl:normalizedValue': '1 to 5', '#text': '1%-5%'}, 'identifier': [{'@dictRef': 'cml:smiles', '@value': 'N'}, {'@dictRef': 'cml:inchi', '@value': 'InChI=1S/H3N/h1H3'}], 'dl:entityType': 'exact'}, {'@role': 'product', 'molecule': {'@id': 'm1', 'name': {'@dictRef': 'nameDict:unknown', '#text': 'sub-title compound'}, 'dl:nameResolved': '4-((4-Aminonaphthalen-1-yl)oxy)-N-(6-(2-(2-(2-methoxyethoxyl)ethoxy)ethoxy)pyridin-2-yl)pyrimidin-2-amine'}, 'amount': {'@dl:propertyType': 'MASS', '@dl:normalizedValue': '0.360', '#text': '360 mg'}, 'identifier': [{'@dictRef': 'cml:smiles', '@value': 'NC1=CC=C(C2=CC=CC=C12)OC1=NC(=NC=C1)NC1=NC(=CC=C1)OCCOCCOCCOC'}, {'@dictRef': 'cml:inchi', '@value': 'InChI=1S/C26H29N5O5/c1-32-13-14-33-15-16-34-17-18-35-24-8-4-7-23(29-24)30-26-28-12-11-25(31-26)36-22-10-9-21(27)19-5-2-3-6-20(19)22/h2-12H,13-18,27H2,1H3,(H,28,29,30,31)'}], 'dl:entityType': 'definiteReference', 'dl:appearance': 'light brown', 'dl:state': 'oil'}]}, 'reactantList': {'reactant': [{'@role': 'reactant', '@count': '1', 'molecule': {'@id': 'm2', 'name': {'@dictRef': 'nameDict:unknown', '#text': 'product'}, 'dl:nameResolved': 'NH3'}, 'identifier': [{'@dictRef': 'cml:smiles', '@value': 'N'}, {'@dictRef': 'cml:inchi', '@value': 'InChI=1S/H3N/h1H3'}], 'dl:entityType': 'definiteReference'}, {'@role': 'reactant', '@count': '2', 'molecule': {'@id': 'm3', 'name': {'@dictRef': 'nameDict:unknown', '#text': 'tert-butyl (4-((2-chloropyrimidin-4-yl)oxy)naphthalen-1-yl)carbamate'}}, 'amount': [{'@dl:propertyType': 'AMOUNT', '@dl:normalizedValue': '0.001345', '#text': '1.345 mmol'}, {'@dl:propertyType': 'MASS', '@dl:normalizedValue': '0.500', '#text': '500 mg'}], 'identifier': [{'@dictRef': 'cml:smiles', '@value': 'ClC1=NC=CC(=N1)OC1=CC=C(C2=CC=CC=C12)NC(OC(C)(C)C)=O'}, {'@dictRef': 'cml:inchi', '@value': 'InChI=1S/C19H18ClN3O3/c1-19(2,3)26-18(24)22-14-8-9-15(13-7-5-4-6-12(13)14)25-16-10-11-21-17(20)23-16/h4-11H,1-3H3,(H,22,24)'}], 'dl:entityType': 'exact'}, {'@role': 'reactant', '@count': '1', 'molecule': {'@id': 'm4', 'name': {'@dictRef': 'nameDict:unknown', '#text': 'caesium carbonate'}}, 'amount': [{'@dl:propertyType': 'AMOUNT', '@dl:normalizedValue': '0.002017', '#text': '2.017 mmol'}, {'@dl:propertyType': 'MASS', '@dl:normalizedValue': '0.657', '#text': '657 mg'}], 'identifier': [{'@dictRef': 'cml:smiles', '@value': 'C([O-])([O-])=O.[Cs+].[Cs+]'}, {'@dictRef': 'cml:inchi', '@value': 'InChI=1S/CH2O3.2Cs/c2-1(3)4;;/h(H2,2,3,4);;/q;2*+1/p-2'}], 'dl:entityType': 'exact'}, {'@role': 'reactant', '@count': '1', 'molecule': {'@id': 'm5', 'name': {'@dictRef': 'nameDict:unknown', '#text': 'TFA'}}, 'amount': [{'@dl:propertyType': 'AMOUNT', '@dl:normalizedValue': '0.0672', '#text': '67.2 mmol'}, {'@dl:propertyType': 'VOLUME', '@dl:normalizedValue': '0.005180', '#text': '5180 μL'}], 'identifier': [{'@dictRef': 'cml:smiles', '@value': 'C(=O)(C(F)(F)F)O'}, {'@dictRef': 'cml:inchi', '@value': 'InChI=1S/C2HF3O2/c3-2(4,5)1(6)7/h(H,6,7)'}], 'dl:entityType': 'exact'}, {'@role': 'reactant', 'molecule': {'@id': 'm6', 'name': {'@dictRef': 'nameDict:unknown', '#text': 'crude product'}}, 'dl:entityType': 'definiteReference'}, {'@role': 'reactant', 'molecule': {'@id': 'm7', 'name': {'@dictRef': 'nameDict:unknown', '#text': 'crude product'}}, 'dl:entityType': 'definiteReference'}, {'@role': 'reactant', '@count': '1', 'molecule': {'@id': 'm8', 'name': {'@dictRef': 'nameDict:unknown', '#text': 'MeOH'}}, 'identifier': [{'@dictRef': 'cml:smiles', '@value': 'CO'}, {'@dictRef': 'cml:inchi', '@value': 'InChI=1S/CH4O/c1-2/h2H,1H3'}], 'dl:entityType': 'exact'}]}, 'spectatorList': {'spectator': [{'@role': 'solvent', 'molecule': {'@id': 'm9', 'name': {'@dictRef': 'nameDict:unknown', '#text': 'DCM'}}, 'amount': {'@dl:propertyType': 'VOLUME', '@dl:normalizedValue': '0.020', '#text': '20 mL'}, 'identifier': [{'@dictRef': 'cml:smiles', '@value': 'C(Cl)Cl'}, {'@dictRef': 'cml:inchi', '@value': 'InChI=1S/CH2Cl2/c2-1-3/h1H2'}], 'dl:entityType': 'exact'}, {'@role': 'catalyst', 'molecule': {'@id': 'm10', 'name': {'@dictRef': 'nameDict:unknown', '#text': 'palladium(II) acetate'}}, 'amount': [{'@dl:propertyType': 'AMOUNT', '@dl:normalizedValue': '0.000034', '#text': '0.034 mmol'}, {'@dl:propertyType': 'MASS', '@dl:normalizedValue': '0.00755', '#text': '7.55 mg'}], 'identifier': [{'@dictRef': 'cml:smiles', '@value': 'C(C)(=O)[O-].[Pd+2].C(C)(=O)[O-]'}, {'@dictRef': 'cml:inchi', '@value': 'InChI=1S/2C2H4O2.Pd/c2*1-2(3)4;/h2*1H3,(H,3,4);/q;;+2/p-2'}], 'dl:entityType': 'exact'}, {'@role': 'catalyst', 'molecule': {'@id': 'm11', 'name': {'@dictRef': 'nameDict:unknown', '#text': 'BINAP'}}, 'amount': [{'@dl:propertyType': 'AMOUNT', '@dl:normalizedValue': '0.000067', '#text': '0.067 mmol'}, {'@dl:propertyType': 'MASS', '@dl:normalizedValue': '0.0419', '#text': '41.9 mg'}], 'identifier': [{'@dictRef': 'cml:smiles', '@value': 'C=1C=CC(=CC1)P(C=2C=CC=CC2)C3=CC=C4C=CC=CC4=C3C5=C6C=CC=CC6=CC=C5P(C=7C=CC=CC7)C=8C=CC=CC8'}, {'@dictRef': 'cml:inchi', '@value': 'InChI=1S/C44H32P2/c1-5-19-35(20-6-1)45(36-21-7-2-8-22-36)41-31-29-33-17-13-15-27-39(33)43(41)44-40-28-16-14-18-34(40)30-32-42(44)46(37-23-9-3-10-24-37)38-25-11-4-12-26-38/h1-32H'}], 'dl:entityType': 'exact'}, {'@role': 'solvent', 'molecule': {'@id': 'm12', 'name': {'@dictRef': 'nameDict:unknown', '#text': 'dioxane'}}, 'amount': {'@dl:propertyType': 'VOLUME', '@dl:normalizedValue': '0.008', '#text': '8 mL'}, 'identifier': [{'@dictRef': 'cml:smiles', '@value': 'O1CCOCC1'}, {'@dictRef': 'cml:inchi', '@value': 'InChI=1S/C4H8O2/c1-2-6-4-3-5-1/h1-4H2'}], 'dl:entityType': 'exact'}]}, 'dl:reactionActionList': {'dl:reactionAction': [{'@action': 'Add', 'dl:phraseText': 'To a microwave vial was added the product of step (i) above (379 mg, 1.479 mmol), tert-butyl (4-((2-chloropyrimidin-4-yl)oxy)naphthalen-1-yl)carbamate (see, for example, Ito, K. et al., WO 2010/067130, 17 Jun. 2010; 500 mg, 1.345 mmol), caesium carbonate (657 mg, 2.017 mmol), palladium(II) acetate (7.55 mg, 0.034 mmol), BINAP (41.9 mg, 0.067 mmol) and dioxane (8 mL)', 'dl:chemical': [{'@ref': 'm2'}, {'@ref': 'm3'}, {'@ref': 'm4'}, {'@ref': 'm10'}, {'@ref': 'm11'}, {'@ref': 'm12'}]}, {'@action': 'Degass', 'dl:phraseText': 'The reaction mixture was purged with N2 for 10 min', 'chemical': {'molecule': {'@id': 'm13', 'name': {'@dictRef': 'nameDict:unknown', '#text': 'N2'}}, 'identifier': [{'@dictRef': 'cml:smiles', '@value': 'N#N'}, {'@dictRef': 'cml:inchi', '@value': 'InChI=1S/N2/c1-2'}], 'dl:entityType': 'exact'}, 'dl:parameter': {'@propertyType': 'Time', '@normalizedValue': '600', '#text': '10 min'}}, {'@action': 'Irradiate', 'dl:phraseText': 'irradiated at 100° C. for 15 mins', 'dl:parameter': [{'@propertyType': 'Time', '@normalizedValue': '900', '#text': '15 mins'}, {'@propertyType': 'Temperature', '@normalizedValue': '100', '#text': '100° C.'}]}, {'@action': 'Synthesize', 'dl:phraseText': 'Reaction'}, {'@action': 'Filter', 'dl:phraseText': 'was filtered through Celite'}, {'@action': 'Wash', 'dl:phraseText': 'the solids washed with MeOH', 'chemical': {'molecule': {'@id': 'm14', 'name': {'@dictRef': 'nameDict:unknown', '#text': 'MeOH'}}, 'identifier': [{'@dictRef': 'cml:smiles', '@value': 'CO'}, {'@dictRef': 'cml:inchi', '@value': 'InChI=1S/CH4O/c1-2/h2H,1H3'}], 'dl:entityType': 'exact'}}, {'@action': 'Concentrate', 'dl:phraseText': 'the filtrate concentrated in vacuo'}, {'@action': 'Purify', 'dl:phraseText': 'The crude product was purified by chromatography on silica gel (40 g column, DCM', 'chemical': [{'molecule': {'@id': 'm15', 'name': {'@dictRef': 'nameDict:unknown', '#text': 'crude product'}}, 'dl:entityType': 'definiteReference'}, {'molecule': {'@id': 'm16', 'name': {'@dictRef': 'nameDict:unknown', '#text': 'silica gel'}}, 'dl:entityType': 'falsePositive'}, {'molecule': {'@id': 'm17', 'name': {'@dictRef': 'nameDict:unknown', '#text': 'DCM'}}, 'identifier': [{'@dictRef': 'cml:smiles', '@value': 'C(Cl)Cl'}, {'@dictRef': 'cml:inchi', '@value': 'InChI=1S/CH2Cl2/c2-1-3/h1H2'}], 'dl:entityType': 'exact'}]}, {'@action': 'Yield', 'dl:phraseText': '1-10% to afford a clear brown oil, 0.80 g'}, {'@action': 'Add', 'dl:phraseText': 'TFA (5180 μL, 67.2 mmol) was added dropwise', 'dl:chemical': {'@ref': 'm5'}}, {'@action': 'Wait', 'dl:phraseText': 'left'}, {'@action': 'Stir', 'dl:phraseText': 'to stir under N2 at rt for 1 h', 'dl:atmosphere': {'chemical': {'molecule': {'@id': 'm18', 'name': {'@dictRef': 'nameDict:unknown', '#text': 'N2'}}, 'identifier': [{'@dictRef': 'cml:smiles', '@value': 'N#N'}, {'@dictRef': 'cml:inchi', '@value': 'InChI=1S/N2/c1-2'}], 'dl:entityType': 'falsePositive'}}, 'dl:parameter': [{'@propertyType': 'Time', '@normalizedValue': '3600', '#text': '1 h'}, {'@propertyType': 'Temperature', '@normalizedValue': 'room temperature', '#text': 'rt'}]}, {'@action': 'Synthesize', 'dl:phraseText': 'Reaction'}, {'@action': 'Concentrate', 'dl:phraseText': 'was concentrated in vacuo'}, {'@action': 'Yield', 'dl:phraseText': 'leaving a brown oil'}, {'@action': 'Wash', 'dl:phraseText': 'The column was washed with MeOH', 'chemical': {'molecule': {'@id': 'm19', 'name': {'@dictRef': 'nameDict:unknown', '#text': 'MeOH'}}, 'identifier': [{'@dictRef': 'cml:smiles', '@value': 'CO'}, {'@dictRef': 'cml:inchi', '@value': 'InChI=1S/CH4O/c1-2/h2H,1H3'}], 'dl:entityType': 'exact'}}, {'@action': 'Wash', 'dl:phraseText': 'the product was eluted with 0.7 M ammonia in MeOH', 'chemical': [{'molecule': {'@id': 'm20', 'name': {'@dictRef': 'nameDict:unknown', '#text': 'ammonia'}}, 'amount': {'@dl:propertyType': 'MOLARITY', '@dl:normalizedValue': '0.7', '#text': '0.7 M'}, 'identifier': [{'@dictRef': 'cml:smiles', '@value': 'N'}, {'@dictRef': 'cml:inchi', '@value': 'InChI=1S/H3N/h1H3'}], 'dl:entityType': 'exact'}, {'molecule': {'@id': 'm21', 'name': {'@dictRef': 'nameDict:unknown', '#text': 'MeOH'}}, 'identifier': [{'@dictRef': 'cml:smiles', '@value': 'CO'}, {'@dictRef': 'cml:inchi', '@value': 'InChI=1S/CH4O/c1-2/h2H,1H3'}], 'dl:entityType': 'exact'}]}, {'@action': 'Concentrate', 'dl:phraseText': 'The resultant mixture was concentrated in vacuo', 'chemical': {'molecule': {'@id': 'm22', 'name': {'@dictRef': 'nameDict:unknown', '#text': 'resultant mixture'}}, 'dl:entityType': 'definiteReference'}}, {'@action': 'Yield', 'dl:phraseText': 'to afford a light brown oil'}, {'@action': 'Purify', 'dl:phraseText': 'purification by chromatography on silica gel (40 g column)', 'chemical': {'molecule': {'@id': 'm23', 'name': {'@dictRef': 'nameDict:unknown', '#text': 'silica gel'}}, 'amount': {'@dl:propertyType': 'MASS', '@dl:normalizedValue': '40', '#text': '40 g'}, 'dl:entityType': 'falsePositive'}}, {'@action': 'Yield', 'dl:phraseText': 'MeOH:NH3 (1%-5%) to afford the sub-title compound (360 mg) as a light brown oil which', 'chemical': {'molecule': {'@id': 'm24', 'name': {'@dictRef': 'nameDict:unknown', '#text': 'MeOH'}}, 'identifier': [{'@dictRef': 'cml:smiles', '@value': 'CO'}, {'@dictRef': 'cml:inchi', '@value': 'InChI=1S/CH4O/c1-2/h2H,1H3'}], 'dl:entityType': 'exact'}, 'dl:chemical': [{'@ref': 'm0'}, {'@ref': 'm1'}]}]}}: could not convert string to float: '1 to 5'\n",
      "Error with {'dl:source': {'dl:documentId': 'US20120302790A1', 'dl:paragraphNum': '0084', 'dl:paragraphText': 'A solution of 5-Methoxy-2-tetralone (X1) (150 g) in toluene (1000 mL) was prepared in a 2 L jacketed vessel equipped with a Dean-Stark condenser. To this solution was added propylamide (Y1) (150 g) and para-toluenesulfonic acid monohydrate (15 g). The mixture was refluxed for 24 hrs and reaction completion evaluated by hplc. The solution was cooled to 60° C. and 1% w/w Na2CO3 added (450 mL). In order to prevent product precipitation a further 300 mL of toluene was added. The phases were separated and the organic layer washed with water (450 mL). The organic layer was then cooled to 50° C. and aged to allow the product to crystallise. After crystallisation the slurry was further cooled to 5-10° C. and filtered. The filter cake was washed with toluene (2×150 mL), petroleum ether (150 mL) and the white crystalline needles were dried under vacuum at 25° C. to a constant weight of 124.4 g corresponding to compound (A2) (63.2% yield).'}, 'dl:reactionSmiles': '[CH2:1]([NH-])[CH2:2][CH3:3].[OH2:5].[C:6]1([CH3:16])[CH:11]=[CH:10][C:9](S(O)(=O)=O)=[CH:8][CH:7]=1.[C:17]([O-])([O-])=[O:18].[Na+].[Na+]>C1(C)C=CC=CC=1>[CH3:17][O:18][C:2]1[CH:1]=[CH:11][CH:10]=[C:9]2[C:3]=1[CH2:16][CH2:6][C:7](=[O:5])[CH2:8]2 |f:1.2,3.4.5|', 'productList': {'product': [{'@role': 'product', 'molecule': {'@id': 'm0', 'name': {'@dictRef': 'nameDict:unknown', '#text': '5-Methoxy-2-tetralone'}}, 'amount': {'@dl:propertyType': 'MASS', '@dl:normalizedValue': '150', '#text': '150 g'}, 'identifier': [{'@dictRef': 'cml:smiles', '@value': 'COC1=C2CCC(CC2=CC=C1)=O'}, {'@dictRef': 'cml:inchi', '@value': 'InChI=1S/C11H12O2/c1-13-11-4-2-3-8-7-9(12)5-6-10(8)11/h2-4H,5-7H2,1H3'}], 'dl:entityType': 'exact'}, {'@role': 'product', 'molecule': {'@id': 'm1', 'name': {'@dictRef': 'nameDict:unknown', '#text': 'compound ( A2 )'}}, 'amount': {'@dl:propertyType': 'PERCENTYIELD', '@dl:normalizedValue': '63.2', '#text': '63.2% yield'}, 'dl:entityType': 'definiteReference'}]}, 'reactantList': {'reactant': [{'@role': 'reactant', '@count': '1', 'molecule': {'@id': 'm2', 'name': {'@dictRef': 'nameDict:unknown', '#text': 'propylamide'}}, 'amount': {'@dl:propertyType': 'MASS', '@dl:normalizedValue': '150', '#text': '150 g'}, 'identifier': [{'@dictRef': 'cml:smiles', '@value': 'C(CC)[NH-]'}, {'@dictRef': 'cml:inchi', '@value': 'InChI=1S/C3H8N/c1-2-3-4/h4H,2-3H2,1H3/q-1'}], 'dl:entityType': 'exact'}, {'@role': 'reactant', '@count': '1', 'molecule': {'@id': 'm3', 'name': {'@dictRef': 'nameDict:unknown', '#text': 'para-toluenesulfonic acid monohydrate'}}, 'amount': {'@dl:propertyType': 'MASS', '@dl:normalizedValue': '15', '#text': '15 g'}, 'identifier': [{'@dictRef': 'cml:smiles', '@value': 'O.C1(=CC=C(C=C1)S(=O)(=O)O)C'}, {'@dictRef': 'cml:inchi', '@value': 'InChI=1S/C7H8O3S.H2O/c1-6-2-4-7(5-3-6)11(8,9)10;/h2-5H,1H3,(H,8,9,10);1H2'}], 'dl:entityType': 'exact'}, {'@role': 'reactant', '@count': '1', 'molecule': {'@id': 'm4', 'name': {'@dictRef': 'nameDict:unknown', '#text': 'Na2CO3'}}, 'identifier': [{'@dictRef': 'cml:smiles', '@value': 'C(=O)([O-])[O-].[Na+].[Na+]'}, {'@dictRef': 'cml:inchi', '@value': 'InChI=1S/CH2O3.2Na/c2-1(3)4;;/h(H2,2,3,4);;/q;2*+1/p-2'}], 'dl:entityType': 'exact'}]}, 'spectatorList': {'spectator': {'@role': 'solvent', 'molecule': {'@id': 'm5', 'name': {'@dictRef': 'nameDict:unknown', '#text': 'toluene'}}, 'amount': {'@dl:propertyType': 'VOLUME', '@dl:normalizedValue': '1.000', '#text': '1000 mL'}, 'identifier': [{'@dictRef': 'cml:smiles', '@value': 'C1(=CC=CC=C1)C'}, {'@dictRef': 'cml:inchi', '@value': 'InChI=1S/C7H8/c1-7-5-3-2-4-6-7/h2-6H,1H3'}], 'dl:entityType': 'exact'}}, 'dl:reactionActionList': {'dl:reactionAction': [{'@action': 'Synthesize', 'dl:phraseText': 'A solution of 5-Methoxy-2-tetralone (X1) (150 g) in toluene (1000 mL) was prepared in a 2 L', 'dl:chemical': [{'@ref': 'm0'}, {'@ref': 'm5'}]}, {'@action': 'ApparatusAction', 'dl:phraseText': 'equipped with a Dean-Stark condenser'}, {'@action': 'Add', 'dl:phraseText': 'To this solution was added propylamide (Y1) (150 g) and para-toluenesulfonic acid monohydrate (15 g)', 'dl:chemical': [{'@ref': 'm2'}, {'@ref': 'm3'}]}, {'@action': 'Heat', 'dl:phraseText': 'The mixture was refluxed for 24 hrs', 'dl:parameter': {'@propertyType': 'Time', '@normalizedValue': '86400', '#text': '24 hrs'}}, {'@action': 'Synthesize', 'dl:phraseText': 'reaction completion'}, {'@action': 'Cool', 'dl:phraseText': 'The solution was cooled to 60° C.', 'dl:parameter': {'@propertyType': 'Temperature', '@normalizedValue': '60', '#text': '60° C.'}}, {'@action': 'Add', 'dl:phraseText': '1% w/w Na2CO3 added (450 mL)', 'dl:chemical': {'@ref': 'm4'}}, {'@action': 'Precipitate', 'dl:phraseText': 'product precipitation a further 300 mL of toluene', 'chemical': {'molecule': {'@id': 'm6', 'name': {'@dictRef': 'nameDict:unknown', '#text': 'toluene'}}, 'amount': {'@dl:propertyType': 'VOLUME', '@dl:normalizedValue': '0.300', '#text': '300 mL'}, 'identifier': [{'@dictRef': 'cml:smiles', '@value': 'C1(=CC=CC=C1)C'}, {'@dictRef': 'cml:inchi', '@value': 'InChI=1S/C7H8/c1-7-5-3-2-4-6-7/h2-6H,1H3'}], 'dl:entityType': 'exact'}}, {'@action': 'Add', 'dl:phraseText': 'was added'}, {'@action': 'Partition', 'dl:phraseText': 'The phases were separated'}, {'@action': 'Wash', 'dl:phraseText': 'the organic layer washed with water (450 mL)', 'chemical': {'molecule': {'@id': 'm7', 'name': {'@dictRef': 'nameDict:unknown', '#text': 'water'}}, 'amount': {'@dl:propertyType': 'VOLUME', '@dl:normalizedValue': '0.450', '#text': '450 mL'}, 'identifier': [{'@dictRef': 'cml:smiles', '@value': 'O'}, {'@dictRef': 'cml:inchi', '@value': 'InChI=1S/H2O/h1H2'}], 'dl:entityType': 'exact'}}, {'@action': 'Cool', 'dl:phraseText': 'The organic layer was then cooled to 50° C.', 'dl:parameter': {'@propertyType': 'Temperature', '@normalizedValue': '50', '#text': '50° C.'}}, {'@action': 'Precipitate', 'dl:phraseText': 'to crystallise'}, {'@action': 'Precipitate', 'dl:phraseText': 'After crystallisation the slurry'}, {'@action': 'Cool', 'dl:phraseText': 'was further cooled to 5-10° C.', 'dl:parameter': {'@propertyType': 'Temperature', '@normalizedValue': '5 to 10', '#text': '5-10° C.'}}, {'@action': 'Filter', 'dl:phraseText': 'filtered'}, {'@action': 'Wash', 'dl:phraseText': 'The filter cake was washed with toluene (2×150 mL), petroleum ether (150 mL)', 'chemical': [{'molecule': {'@id': 'm8', 'name': {'@dictRef': 'nameDict:unknown', '#text': 'toluene'}}, 'amount': {'@dl:propertyType': 'VOLUME', '@dl:normalizedValue': '0.150', '#text': '150 mL'}, 'identifier': [{'@dictRef': 'cml:smiles', '@value': 'C1(=CC=CC=C1)C'}, {'@dictRef': 'cml:inchi', '@value': 'InChI=1S/C7H8/c1-7-5-3-2-4-6-7/h2-6H,1H3'}], 'dl:entityType': 'exact'}, {'molecule': {'@id': 'm9', 'name': {'@dictRef': 'nameDict:unknown', '#text': 'petroleum ether'}}, 'amount': {'@dl:propertyType': 'VOLUME', '@dl:normalizedValue': '0.150', '#text': '150 mL'}, 'dl:entityType': 'chemicalClass'}]}, {'@action': 'Dry', 'dl:phraseText': 'the white crystalline needles were dried under vacuum at 25° C. to a constant weight of 124.4 g corresponding to compound (A2) (63.2% yield)', 'dl:chemical': {'@ref': 'm1'}, 'dl:parameter': {'@propertyType': 'Temperature', '@normalizedValue': '25', '#text': '25° C.'}}]}}: list index out of range\n",
      "Error with {'dl:source': {'dl:documentId': 'US20120264731A1', 'dl:paragraphNum': '0823', 'dl:paragraphText': 'Bis(triphenylphosphine) palladium(II) chloride (0.448 g, 0.63 mmol) was added in one portion to a stirred slurry of (R)-methyl 8-bromo-2-(2-methylmorpholino)-4-oxo-4H-chromene-6-carboxylate (10.06 g, 25 mmol), 1-(tert-butoxycarbonyl)-1H-pyrrol-2-ylboronic acid (6.46 g, 30.00 mmol) and sodium carbonate (7.95 g, 75.00 mmol) in DME (140 mL) and water (28 mL). The mixture was degassed with argon for 15 mins then heated at 80° C. for 6 h. The solvent was evaporated, water was added to the residue and the mixture was extracted with DCM. The combined organic phases were washed with water, brine, dried over MgSO4 and concentrated to give crude (R)-tert-butyl 2-(6-(methoxycarbonyl)-2-(2-methylmorpholino)-4-oxo-4H-chromen-8-yl)-1H-pyrrole-1-carboxylate containing ˜20% of starting material (13.98 g). Mass Spectrum: m/z [M+H]+=469.'}, 'dl:reactionSmiles': 'Br[C:2]1[CH:3]=[C:4]([C:20]([O:22][CH3:23])=[O:21])[CH:5]=[C:6]2[C:11]=1[O:10][C:9]([N:12]1[CH2:17][CH2:16][O:15][C@H:14]([CH3:18])[CH2:13]1)=[CH:8][C:7]2=[O:19].[C:24]([O:28][C:29]([N:31]1[CH:35]=[CH:34][CH:33]=[C:32]1B(O)O)=[O:30])([CH3:27])([CH3:26])[CH3:25].C(=O)([O-])[O-].[Na+].[Na+]>COCCOC.O.[Pd](Cl)Cl.C1(P(C2C=CC=CC=2)C2C=CC=CC=2)C=CC=CC=1.C1(P(C2C=CC=CC=2)C2C=CC=CC=2)C=CC=CC=1>[CH3:23][O:22][C:20]([C:4]1[CH:5]=[C:6]2[C:11](=[C:2]([C:32]3[N:31]([C:29]([O:28][C:24]([CH3:27])([CH3:26])[CH3:25])=[O:30])[CH:35]=[CH:34][CH:33]=3)[CH:3]=1)[O:10][C:9]([N:12]1[CH2:17][CH2:16][O:15][C@H:14]([CH3:18])[CH2:13]1)=[CH:8][C:7]2=[O:19])=[O:21] |f:2.3.4,7.8.9|', 'productList': {'product': [{'@role': 'product', 'molecule': {'@id': 'm0', 'name': {'@dictRef': 'nameDict:unknown', '#text': '(R)-tert-butyl 2-(6-(methoxycarbonyl)-2-(2-methylmorpholino)-4-oxo-4H-chromen-8-yl)-1H-pyrrole-1-carboxylate'}}, 'amount': {'@dl:propertyType': 'PERCENTYIELD', '@dl:normalizedValue': '~20', '#text': '~20%'}, 'identifier': [{'@dictRef': 'cml:smiles', '@value': 'COC(=O)C=1C=C2C(C=C(OC2=C(C1)C=1N(C=CC1)C(=O)OC(C)(C)C)N1C[C@H](OCC1)C)=O'}, {'@dictRef': 'cml:inchi', '@value': 'InChI=1S/C25H28N2O7/c1-15-14-26(9-10-32-15)21-13-20(28)18-12-16(23(29)31-5)11-17(22(18)33-21)19-7-6-8-27(19)24(30)34-25(2,3)4/h6-8,11-13,15H,9-10,14H2,1-5H3/t15-/m1/s1'}], 'dl:entityType': 'exact'}, {'@role': 'product', 'molecule': {'@id': 'm1', 'name': {'@dictRef': 'nameDict:unknown', '#text': 'material'}}, 'amount': {'@dl:propertyType': 'MASS', '@dl:normalizedValue': '13.98', '#text': '13.98 g'}, 'dl:entityType': 'exact'}]}, 'reactantList': {'reactant': [{'@role': 'reactant', '@count': '1', 'molecule': {'@id': 'm2', 'name': {'@dictRef': 'nameDict:unknown', '#text': '(R)-methyl 8-bromo-2-(2-methylmorpholino)-4-oxo-4H-chromene-6-carboxylate'}}, 'amount': [{'@dl:propertyType': 'AMOUNT', '@dl:normalizedValue': '0.025', '#text': '25 mmol'}, {'@dl:propertyType': 'MASS', '@dl:normalizedValue': '10.06', '#text': '10.06 g'}], 'identifier': [{'@dictRef': 'cml:smiles', '@value': 'BrC=1C=C(C=C2C(C=C(OC12)N1C[C@H](OCC1)C)=O)C(=O)OC'}, {'@dictRef': 'cml:inchi', '@value': 'InChI=1S/C16H16BrNO5/c1-9-8-18(3-4-22-9)14-7-13(19)11-5-10(16(20)21-2)6-12(17)15(11)23-14/h5-7,9H,3-4,8H2,1-2H3/t9-/m1/s1'}], 'dl:entityType': 'exact'}, {'@role': 'reactant', '@count': '1', 'molecule': {'@id': 'm3', 'name': {'@dictRef': 'nameDict:unknown', '#text': '1-(tert-butoxycarbonyl)-1H-pyrrol-2-ylboronic acid'}}, 'amount': [{'@dl:propertyType': 'AMOUNT', '@dl:normalizedValue': '0.03000', '#text': '30.00 mmol'}, {'@dl:propertyType': 'MASS', '@dl:normalizedValue': '6.46', '#text': '6.46 g'}], 'identifier': [{'@dictRef': 'cml:smiles', '@value': 'C(C)(C)(C)OC(=O)N1C(=CC=C1)B(O)O'}, {'@dictRef': 'cml:inchi', '@value': 'InChI=1S/C9H14BNO4/c1-9(2,3)15-8(12)11-6-4-5-7(11)10(13)14/h4-6,13-14H,1-3H3'}], 'dl:entityType': 'exact'}, {'@role': 'reactant', 'molecule': {'@id': 'm4', 'name': {'@dictRef': 'nameDict:unknown', '#text': 'sodium carbonate'}}, 'amount': [{'@dl:propertyType': 'AMOUNT', '@dl:normalizedValue': '0.07500', '#text': '75.00 mmol'}, {'@dl:propertyType': 'MASS', '@dl:normalizedValue': '7.95', '#text': '7.95 g'}], 'identifier': [{'@dictRef': 'cml:smiles', '@value': 'C([O-])([O-])=O.[Na+].[Na+]'}, {'@dictRef': 'cml:inchi', '@value': 'InChI=1S/CH2O3.2Na/c2-1(3)4;;/h(H2,2,3,4);;/q;2*+1/p-2'}], 'dl:entityType': 'exact'}]}, 'spectatorList': {'spectator': [{'@role': 'solvent', 'molecule': {'@id': 'm5', 'name': {'@dictRef': 'nameDict:unknown', '#text': 'DME'}}, 'amount': {'@dl:propertyType': 'VOLUME', '@dl:normalizedValue': '0.140', '#text': '140 mL'}, 'identifier': [{'@dictRef': 'cml:smiles', '@value': 'COCCOC'}, {'@dictRef': 'cml:inchi', '@value': 'InChI=1S/C4H10O2/c1-5-3-4-6-2/h3-4H2,1-2H3'}], 'dl:entityType': 'exact'}, {'@role': 'solvent', 'molecule': {'@id': 'm6', 'name': {'@dictRef': 'nameDict:unknown', '#text': 'water'}}, 'amount': {'@dl:propertyType': 'VOLUME', '@dl:normalizedValue': '0.028', '#text': '28 mL'}, 'identifier': [{'@dictRef': 'cml:smiles', '@value': 'O'}, {'@dictRef': 'cml:inchi', '@value': 'InChI=1S/H2O/h1H2'}], 'dl:entityType': 'exact'}, {'@role': 'catalyst', 'molecule': {'@id': 'm7', 'name': {'@dictRef': 'nameDict:unknown', '#text': 'Bis(triphenylphosphine) palladium(II) chloride'}}, 'amount': [{'@dl:propertyType': 'AMOUNT', '@dl:normalizedValue': '0.00063', '#text': '0.63 mmol'}, {'@dl:propertyType': 'MASS', '@dl:normalizedValue': '0.448', '#text': '0.448 g'}], 'identifier': [{'@dictRef': 'cml:smiles', '@value': '[Pd](Cl)Cl.C1(=CC=CC=C1)P(C1=CC=CC=C1)C1=CC=CC=C1.C1(=CC=CC=C1)P(C1=CC=CC=C1)C1=CC=CC=C1'}, {'@dictRef': 'cml:inchi', '@value': 'InChI=1S/2C18H15P.2ClH.Pd/c2*1-4-10-16(11-5-1)19(17-12-6-2-7-13-17)18-14-8-3-9-15-18;;;/h2*1-15H;2*1H;/q;;;;+2/p-2'}], 'dl:entityType': 'exact'}]}, 'dl:reactionActionList': {'dl:reactionAction': [{'@action': 'Add', 'dl:phraseText': 'Bis(triphenylphosphine) palladium(II) chloride (0.448 g, 0.63 mmol) was added in one portion to a stirred slurry of (R)-methyl 8-bromo-2-(2-methylmorpholino)-4-oxo-4H-chromene-6-carboxylate (10.06 g, 25 mmol), 1-(tert-butoxycarbonyl)-1H-pyrrol-2-ylboronic acid (6.46 g, 30.00 mmol) and sodium carbonate (7.95 g, 75.00 mmol) in DME (140 mL) and water (28 mL)', 'dl:chemical': [{'@ref': 'm7'}, {'@ref': 'm2'}, {'@ref': 'm3'}, {'@ref': 'm4'}, {'@ref': 'm5'}, {'@ref': 'm6'}]}, {'@action': 'Degass', 'dl:phraseText': 'The mixture was degassed with argon for 15 mins', 'chemical': {'molecule': {'@id': 'm8', 'name': {'@dictRef': 'nameDict:unknown', '#text': 'argon'}}, 'identifier': [{'@dictRef': 'cml:smiles', '@value': '[Ar]'}, {'@dictRef': 'cml:inchi', '@value': 'InChI=1S/Ar'}], 'dl:entityType': 'falsePositive'}, 'dl:parameter': {'@propertyType': 'Time', '@normalizedValue': '900', '#text': '15 mins'}}, {'@action': 'Heat', 'dl:phraseText': 'then heated at 80° C. for 6 h', 'dl:parameter': [{'@propertyType': 'Time', '@normalizedValue': '21600', '#text': '6 h'}, {'@propertyType': 'Temperature', '@normalizedValue': '80', '#text': '80° C.'}]}, {'@action': 'Remove', 'dl:phraseText': 'The solvent was evaporated'}, {'@action': 'Add', 'dl:phraseText': 'water was added to the residue', 'chemical': {'molecule': {'@id': 'm9', 'name': {'@dictRef': 'nameDict:unknown', '#text': 'water'}}, 'identifier': [{'@dictRef': 'cml:smiles', '@value': 'O'}, {'@dictRef': 'cml:inchi', '@value': 'InChI=1S/H2O/h1H2'}], 'dl:entityType': 'exact'}}, {'@action': 'Extract', 'dl:phraseText': 'the mixture was extracted with DCM', 'chemical': {'molecule': {'@id': 'm10', 'name': {'@dictRef': 'nameDict:unknown', '#text': 'DCM'}}, 'identifier': [{'@dictRef': 'cml:smiles', '@value': 'C(Cl)Cl'}, {'@dictRef': 'cml:inchi', '@value': 'InChI=1S/CH2Cl2/c2-1-3/h1H2'}], 'dl:entityType': 'exact'}}, {'@action': 'Wash', 'dl:phraseText': 'The combined organic phases were washed with water, brine', 'chemical': [{'molecule': {'@id': 'm11', 'name': {'@dictRef': 'nameDict:unknown', '#text': 'water'}}, 'identifier': [{'@dictRef': 'cml:smiles', '@value': 'O'}, {'@dictRef': 'cml:inchi', '@value': 'InChI=1S/H2O/h1H2'}], 'dl:entityType': 'exact'}, {'molecule': {'@id': 'm12', 'name': {'@dictRef': 'nameDict:unknown', '#text': 'brine'}}, 'identifier': [{'@dictRef': 'cml:smiles', '@value': '[Cl-].[Na+].O'}, {'@dictRef': 'cml:inchi', '@value': 'InChI=1S/ClH.Na.H2O/h1H;;1H2/q;+1;/p-1'}], 'dl:entityType': 'exact'}]}, {'@action': 'Dry', 'dl:phraseText': 'dried over MgSO4', 'chemical': {'molecule': {'@id': 'm13', 'name': {'@dictRef': 'nameDict:unknown', '#text': 'MgSO4'}}, 'identifier': [{'@dictRef': 'cml:smiles', '@value': '[O-]S(=O)(=O)[O-].[Mg+2]'}, {'@dictRef': 'cml:inchi', '@value': 'InChI=1S/Mg.H2O4S/c;1-5(2,3)4/h;(H2,1,2,3,4)/q+2;/p-2'}], 'dl:entityType': 'exact'}}, {'@action': 'Concentrate', 'dl:phraseText': 'concentrated'}, {'@action': 'Yield', 'dl:phraseText': 'to give crude (R)-tert-butyl 2-(6-(methoxycarbonyl)-2-(2-methylmorpholino)-4-oxo-4H-chromen-8-yl)-1H-pyrrole-1-carboxylate containing ˜20% of starting material (13.98 g)', 'dl:chemical': [{'@ref': 'm0'}, {'@ref': 'm1'}]}]}}: could not convert string to float: '~20'\n",
      "Error with {'dl:source': {'dl:documentId': 'US20120264799A1', 'dl:headingText': '6-(1-Ethyl-3,4-dimethyl-1H-pyrazol-5-yl)-N,N-dimethyl-2,3-dihydro-1H-inden-1-amine', 'dl:paragraphNum': '0158', 'dl:paragraphText': 'Example compound 7 was prepared following the experimental procedure described for example compound 5, using: 1-ethyl-3,4-dimethyl-1H-pyrazol-5-yl trifluoromethanesulfonate (1.22 mmol) in toluene:ethanol (1:1, 10 mL), 2,3-dihydro-N,N-dimethyl-6-(4,4,5,5-tetramethyl-1,3,2-dioxaborolan-2-yl)-1H-inden-1-amine (1.22 mmol) in toluene (5 mL), Pd(PPh3)4 (0.21 mmol) and Na2CO3 (4.14 mmol). After flash chromatography (SiO2/NEt3 2.5% v/v, CH2Cl2/MeOH), 94 mg of pure title compound were obtained (26% yield). The compound was converted into its corresponding hydrochloride.'}, 'dl:reactionSmiles': '[CH3:1][N:2]([CH3:22])[CH:3]1[C:11]2[C:6](=[CH:7][CH:8]=[C:9]([C:12]3[N:13]([CH3:21])[N:14]=[C:15]4[C:20]=3[CH2:19]CC[CH2:16]4)[CH:10]=2)[CH2:5][CH2:4]1.F[C:24](F)(F)S(OC1N(CC)N=C(C)C=1C)(=O)=O.CN(C)C1C2C(=CC=C(B3OC(C)(C)C(C)(C)O3)C=2)CC1.C([O-])([O-])=O.[Na+].[Na+]>C1(C)C=CC=CC=1.C(O)C.C1(C)C=CC=CC=1.C1C=CC([P]([Pd]([P](C2C=CC=CC=2)(C2C=CC=CC=2)C2C=CC=CC=2)([P](C2C=CC=CC=2)(C2C=CC=CC=2)C2C=CC=CC=2)[P](C2C=CC=CC=2)(C2C=CC=CC=2)C2C=CC=CC=2)(C2C=CC=CC=2)C2C=CC=CC=2)=CC=1.C(Cl)Cl.CO>[CH2:21]([N:13]1[C:12]([C:9]2[CH:10]=[C:11]3[C:6]([CH2:5][CH2:4][CH:3]3[N:2]([CH3:1])[CH3:22])=[CH:7][CH:8]=2)=[C:20]([CH3:19])[C:15]([CH3:16])=[N:14]1)[CH3:24] |f:3.4.5,6.7,10.11,^1:87,89,108,127|', 'productList': {'product': [{'@role': 'product', 'molecule': {'@id': 'm0', 'name': {'@dictRef': 'nameDict:unknown', '#text': 'SiO2 NEt3'}}, 'amount': {'@dl:propertyType': 'PERCENTYIELD', '@dl:normalizedValue': '2.5', '#text': '2.5%'}, 'dl:entityType': 'exact'}, {'@role': 'product', 'molecule': {'@id': 'm1', 'name': {'@dictRef': 'nameDict:unknown', '#text': 'pure title compound'}, 'dl:nameResolved': '6-(1-Ethyl-3,4-dimethyl-1H-pyrazol-5-yl)-N,N-dimethyl-2,3-dihydro-1H-inden-1-amine'}, 'amount': {'@dl:propertyType': 'MASS', '@dl:normalizedValue': '0.094', '#text': '94 mg'}, 'identifier': [{'@dictRef': 'cml:smiles', '@value': 'C(C)N1N=C(C(=C1C1=CC=C2CCC(C2=C1)N(C)C)C)C'}, {'@dictRef': 'cml:inchi', '@value': 'InChI=1S/C18H25N3/c1-6-21-18(12(2)13(3)19-21)15-8-7-14-9-10-17(20(4)5)16(14)11-15/h7-8,11,17H,6,9-10H2,1-5H3'}], 'dl:entityType': 'definiteReference'}]}, 'reactantList': {'reactant': [{'@role': 'reactant', '@count': '1', 'molecule': {'@id': 'm2', 'name': {'@dictRef': 'nameDict:unknown', '#text': 'compound 5'}, 'dl:nameResolved': 'N,N-dimethyl-6-(2-methyl-4,5,6,7-tetrahydro-2H-indazol-3-yl)-2,3-dihydro-1H-inden-1-amine'}, 'identifier': [{'@dictRef': 'cml:smiles', '@value': 'CN(C1CCC2=CC=C(C=C12)C=1N(N=C2CCCCC12)C)C'}, {'@dictRef': 'cml:inchi', '@value': 'InChI=1S/C19H25N3/c1-21(2)18-11-10-13-8-9-14(12-16(13)18)19-15-6-4-5-7-17(15)20-22(19)3/h8-9,12,18H,4-7,10-11H2,1-3H3'}], 'dl:entityType': 'definiteReference'}, {'@role': 'reactant', '@count': '1', 'molecule': {'@id': 'm3', 'name': {'@dictRef': 'nameDict:unknown', '#text': '1-ethyl-3,4-dimethyl-1H-pyrazol-5-yl trifluoromethanesulfonate'}}, 'amount': {'@dl:propertyType': 'AMOUNT', '@dl:normalizedValue': '0.00122', '#text': '1.22 mmol'}, 'identifier': [{'@dictRef': 'cml:smiles', '@value': 'FC(S(=O)(=O)OC1=C(C(=NN1CC)C)C)(F)F'}, {'@dictRef': 'cml:inchi', '@value': 'InChI=1S/C8H11F3N2O3S/c1-4-13-7(5(2)6(3)12-13)16-17(14,15)8(9,10)11/h4H2,1-3H3'}], 'dl:entityType': 'exact'}, {'@role': 'reactant', 'molecule': {'@id': 'm4', 'name': {'@dictRef': 'nameDict:unknown', '#text': '2,3-dihydro-N,N-dimethyl-6-(4,4,5,5-tetramethyl-1,3,2-dioxaborolan-2-yl)-1H-inden-1-amine'}}, 'amount': {'@dl:propertyType': 'AMOUNT', '@dl:normalizedValue': '0.00122', '#text': '1.22 mmol'}, 'identifier': [{'@dictRef': 'cml:smiles', '@value': 'CN(C1CCC2=CC=C(C=C12)B1OC(C(O1)(C)C)(C)C)C'}, {'@dictRef': 'cml:inchi', '@value': 'InChI=1S/C17H26BNO2/c1-16(2)17(3,4)21-18(20-16)13-9-7-12-8-10-15(19(5)6)14(12)11-13/h7,9,11,15H,8,10H2,1-6H3'}], 'dl:entityType': 'exact'}, {'@role': 'reactant', 'molecule': {'@id': 'm5', 'name': {'@dictRef': 'nameDict:unknown', '#text': 'Na2CO3'}}, 'amount': {'@dl:propertyType': 'AMOUNT', '@dl:normalizedValue': '0.00414', '#text': '4.14 mmol'}, 'identifier': [{'@dictRef': 'cml:smiles', '@value': 'C(=O)([O-])[O-].[Na+].[Na+]'}, {'@dictRef': 'cml:inchi', '@value': 'InChI=1S/CH2O3.2Na/c2-1(3)4;;/h(H2,2,3,4);;/q;2*+1/p-2'}], 'dl:entityType': 'exact'}]}, 'spectatorList': {'spectator': [{'@role': 'solvent', 'molecule': {'@id': 'm6', 'name': {'@dictRef': 'nameDict:unknown', '#text': 'toluene ethanol'}}, 'amount': {'@dl:propertyType': 'VOLUME', '@dl:normalizedValue': '0.010', '#text': '10 mL'}, 'identifier': [{'@dictRef': 'cml:smiles', '@value': 'C1(=CC=CC=C1)C.C(C)O'}, {'@dictRef': 'cml:inchi', '@value': 'InChI=1S/C7H8.C2H6O/c1-7-5-3-2-4-6-7;1-2-3/h2-6H,1H3;3H,2H2,1H3'}], 'dl:entityType': 'exact'}, {'@role': 'solvent', 'molecule': {'@id': 'm7', 'name': {'@dictRef': 'nameDict:unknown', '#text': 'toluene'}}, 'amount': {'@dl:propertyType': 'VOLUME', '@dl:normalizedValue': '0.005', '#text': '5 mL'}, 'identifier': [{'@dictRef': 'cml:smiles', '@value': 'C1(=CC=CC=C1)C'}, {'@dictRef': 'cml:inchi', '@value': 'InChI=1S/C7H8/c1-7-5-3-2-4-6-7/h2-6H,1H3'}], 'dl:entityType': 'exact'}, {'@role': 'catalyst', 'molecule': {'@id': 'm8', 'name': {'@dictRef': 'nameDict:unknown', '#text': 'Pd(PPh3)4'}}, 'amount': {'@dl:propertyType': 'AMOUNT', '@dl:normalizedValue': '0.00021', '#text': '0.21 mmol'}, 'identifier': [{'@dictRef': 'cml:smiles', '@value': 'C=1C=CC(=CC1)[P](C=2C=CC=CC2)(C=3C=CC=CC3)[Pd]([P](C=4C=CC=CC4)(C=5C=CC=CC5)C=6C=CC=CC6)([P](C=7C=CC=CC7)(C=8C=CC=CC8)C=9C=CC=CC9)[P](C=1C=CC=CC1)(C=1C=CC=CC1)C=1C=CC=CC1'}, {'@dictRef': 'cml:inchi', '@value': 'InChI=1S/4C18H15P.Pd/c4*1-4-10-16(11-5-1)19(17-12-6-2-7-13-17)18-14-8-3-9-15-18;/h4*1-15H;'}], 'dl:entityType': 'exact'}, {'@role': 'solvent', 'molecule': {'@id': 'm9', 'name': {'@dictRef': 'nameDict:unknown', '#text': 'CH2Cl2 MeOH'}}, 'identifier': [{'@dictRef': 'cml:smiles', '@value': 'C(Cl)Cl.CO'}, {'@dictRef': 'cml:inchi', '@value': 'InChI=1S/CH2Cl2.CH4O/c2-1-3;1-2/h1H2;2H,1H3'}], 'dl:entityType': 'exact'}]}, 'dl:reactionActionList': {'dl:reactionAction': {'@action': 'Yield', 'dl:phraseText': 'After flash chromatography (SiO2/NEt3 2.5% v/v, CH2Cl2/MeOH), 94 mg of pure title compound were obtained (26% yield)', 'dl:chemical': [{'@ref': 'm0'}, {'@ref': 'm9'}, {'@ref': 'm1'}]}}}: string indices must be integers\n",
      "Error with {'dl:source': {'dl:documentId': 'US20120264799A1', 'dl:headingText': '6-(1-lsopropyl-3,4-dimethyl-1H-pyrazol-5-yl)-N,N-dimethyl-2,3-dihydro-1H-inden-1-amine', 'dl:paragraphNum': '0162', 'dl:paragraphText': 'Example compound 9 was prepared following the experimental procedure described for example compound 5, using: 1-isopropyl-3,4-dimethyl-1H-pyrazol-5-yl trifluoromethanesulfonate (0.99 mmol) in toluene:ethanol (1:1, 5 mL), 2,3-dihydro-N,N-dimethyl-6-(4,4,5,5-tetramethyl-1,3,2-dioxaborolan-2-yl)-1H-inden-1-amine (0.99 mmol) in toluene (5 mL), Pd(PPh3)4 (0.17 mmol) and Na2CO3 (3.37 mmol). After flash chromatography (SiO2, CH2Cl2/MeOH), 88 mg of the title compound were obtained (30% yield). The compound was converted into its corresponding hydrochloride.'}, 'dl:reactionSmiles': '[CH3:1][N:2]([CH3:22])[CH:3]1[C:11]2[C:6](=[CH:7][CH:8]=[C:9]([C:12]3[N:13](C)[N:14]=[C:15]4[C:20]=3[CH2:19]CC[CH2:16]4)[CH:10]=2)[CH2:5][CH2:4]1.FC(F)(F)S(O[C:29]1N(C(C)C)N=[C:31](C)[C:30]=1C)(=O)=O.CN(C)C1C2C(=CC=C(B3OC(C)(C)C(C)(C)O3)C=2)CC1.C([O-])([O-])=O.[Na+].[Na+]>C1(C)C=CC=CC=1.C(O)C.C1(C)C=CC=CC=1.C1C=CC([P]([Pd]([P](C2C=CC=CC=2)(C2C=CC=CC=2)C2C=CC=CC=2)([P](C2C=CC=CC=2)(C2C=CC=CC=2)C2C=CC=CC=2)[P](C2C=CC=CC=2)(C2C=CC=CC=2)C2C=CC=CC=2)(C2C=CC=CC=2)C2C=CC=CC=2)=CC=1.C(Cl)Cl.CO>[CH:30]([N:13]1[C:12]([C:9]2[CH:10]=[C:11]3[C:6]([CH2:5][CH2:4][CH:3]3[N:2]([CH3:22])[CH3:1])=[CH:7][CH:8]=2)=[C:20]([CH3:19])[C:15]([CH3:16])=[N:14]1)([CH3:31])[CH3:29] |f:3.4.5,6.7,10.11,^1:88,90,109,128|', 'productList': {'product': [{'@role': 'product', 'molecule': {'@id': 'm0', 'name': {'@dictRef': 'nameDict:unknown', '#text': 'compound 9'}, 'dl:nameResolved': '6-(1-isopropyl-3,4-dimethyl-1H-pyrazol-5-yl)-N,N-dimethyl-2,3-dihydro-1H-inden-1-amine'}, 'amount': {'@dl:propertyType': 'PERCENTYIELD', '@dl:normalizedValue': '30', '#text': '30% yield'}, 'identifier': [{'@dictRef': 'cml:smiles', '@value': 'C(C)(C)N1N=C(C(=C1C1=CC=C2CCC(C2=C1)N(C)C)C)C'}, {'@dictRef': 'cml:inchi', '@value': 'InChI=1S/C19H27N3/c1-12(2)22-19(13(3)14(4)20-22)16-8-7-15-9-10-18(21(5)6)17(15)11-16/h7-8,11-12,18H,9-10H2,1-6H3'}], 'dl:entityType': 'definiteReference'}, {'@role': 'product', 'molecule': {'@id': 'm1', 'name': {'@dictRef': 'nameDict:unknown', '#text': 'title compound'}}, 'amount': {'@dl:propertyType': 'MASS', '@dl:normalizedValue': '0.088', '#text': '88 mg'}, 'dl:entityType': 'definiteReference'}]}, 'reactantList': {'reactant': [{'@role': 'reactant', '@count': '1', 'molecule': {'@id': 'm2', 'name': {'@dictRef': 'nameDict:unknown', '#text': 'compound 5'}, 'dl:nameResolved': 'N,N-dimethyl-6-(2-methyl-4,5,6,7-tetrahydro-2H-indazol-3-yl)-2,3-dihydro-1H-inden-1-amine'}, 'identifier': [{'@dictRef': 'cml:smiles', '@value': 'CN(C1CCC2=CC=C(C=C12)C=1N(N=C2CCCCC12)C)C'}, {'@dictRef': 'cml:inchi', '@value': 'InChI=1S/C19H25N3/c1-21(2)18-11-10-13-8-9-14(12-16(13)18)19-15-6-4-5-7-17(15)20-22(19)3/h8-9,12,18H,4-7,10-11H2,1-3H3'}], 'dl:entityType': 'definiteReference'}, {'@role': 'reactant', '@count': '1', 'molecule': {'@id': 'm3', 'name': {'@dictRef': 'nameDict:unknown', '#text': '1-isopropyl-3,4-dimethyl-1H-pyrazol-5-yl trifluoromethanesulfonate'}}, 'amount': {'@dl:propertyType': 'AMOUNT', '@dl:normalizedValue': '0.00099', '#text': '0.99 mmol'}, 'identifier': [{'@dictRef': 'cml:smiles', '@value': 'FC(S(=O)(=O)OC1=C(C(=NN1C(C)C)C)C)(F)F'}, {'@dictRef': 'cml:inchi', '@value': 'InChI=1S/C9H13F3N2O3S/c1-5(2)14-8(6(3)7(4)13-14)17-18(15,16)9(10,11)12/h5H,1-4H3'}], 'dl:entityType': 'exact'}, {'@role': 'reactant', 'molecule': {'@id': 'm4', 'name': {'@dictRef': 'nameDict:unknown', '#text': '2,3-dihydro-N,N-dimethyl-6-(4,4,5,5-tetramethyl-1,3,2-dioxaborolan-2-yl)-1H-inden-1-amine'}}, 'amount': {'@dl:propertyType': 'AMOUNT', '@dl:normalizedValue': '0.00099', '#text': '0.99 mmol'}, 'identifier': [{'@dictRef': 'cml:smiles', '@value': 'CN(C1CCC2=CC=C(C=C12)B1OC(C(O1)(C)C)(C)C)C'}, {'@dictRef': 'cml:inchi', '@value': 'InChI=1S/C17H26BNO2/c1-16(2)17(3,4)21-18(20-16)13-9-7-12-8-10-15(19(5)6)14(12)11-13/h7,9,11,15H,8,10H2,1-6H3'}], 'dl:entityType': 'exact'}, {'@role': 'reactant', 'molecule': {'@id': 'm5', 'name': {'@dictRef': 'nameDict:unknown', '#text': 'Na2CO3'}}, 'amount': {'@dl:propertyType': 'AMOUNT', '@dl:normalizedValue': '0.00337', '#text': '3.37 mmol'}, 'identifier': [{'@dictRef': 'cml:smiles', '@value': 'C(=O)([O-])[O-].[Na+].[Na+]'}, {'@dictRef': 'cml:inchi', '@value': 'InChI=1S/CH2O3.2Na/c2-1(3)4;;/h(H2,2,3,4);;/q;2*+1/p-2'}], 'dl:entityType': 'exact'}]}, 'spectatorList': {'spectator': [{'@role': 'solvent', 'molecule': {'@id': 'm6', 'name': {'@dictRef': 'nameDict:unknown', '#text': 'toluene ethanol'}}, 'amount': {'@dl:propertyType': 'VOLUME', '@dl:normalizedValue': '0.005', '#text': '5 mL'}, 'identifier': [{'@dictRef': 'cml:smiles', '@value': 'C1(=CC=CC=C1)C.C(C)O'}, {'@dictRef': 'cml:inchi', '@value': 'InChI=1S/C7H8.C2H6O/c1-7-5-3-2-4-6-7;1-2-3/h2-6H,1H3;3H,2H2,1H3'}], 'dl:entityType': 'exact'}, {'@role': 'solvent', 'molecule': {'@id': 'm7', 'name': {'@dictRef': 'nameDict:unknown', '#text': 'toluene'}}, 'amount': {'@dl:propertyType': 'VOLUME', '@dl:normalizedValue': '0.005', '#text': '5 mL'}, 'identifier': [{'@dictRef': 'cml:smiles', '@value': 'C1(=CC=CC=C1)C'}, {'@dictRef': 'cml:inchi', '@value': 'InChI=1S/C7H8/c1-7-5-3-2-4-6-7/h2-6H,1H3'}], 'dl:entityType': 'exact'}, {'@role': 'catalyst', 'molecule': {'@id': 'm8', 'name': {'@dictRef': 'nameDict:unknown', '#text': 'Pd(PPh3)4'}}, 'amount': {'@dl:propertyType': 'AMOUNT', '@dl:normalizedValue': '0.00017', '#text': '0.17 mmol'}, 'identifier': [{'@dictRef': 'cml:smiles', '@value': 'C=1C=CC(=CC1)[P](C=2C=CC=CC2)(C=3C=CC=CC3)[Pd]([P](C=4C=CC=CC4)(C=5C=CC=CC5)C=6C=CC=CC6)([P](C=7C=CC=CC7)(C=8C=CC=CC8)C=9C=CC=CC9)[P](C=1C=CC=CC1)(C=1C=CC=CC1)C=1C=CC=CC1'}, {'@dictRef': 'cml:inchi', '@value': 'InChI=1S/4C18H15P.Pd/c4*1-4-10-16(11-5-1)19(17-12-6-2-7-13-17)18-14-8-3-9-15-18;/h4*1-15H;'}], 'dl:entityType': 'exact'}, {'@role': 'solvent', 'molecule': {'@id': 'm9', 'name': {'@dictRef': 'nameDict:unknown', '#text': 'CH2Cl2 MeOH'}}, 'identifier': [{'@dictRef': 'cml:smiles', '@value': 'C(Cl)Cl.CO'}, {'@dictRef': 'cml:inchi', '@value': 'InChI=1S/CH2Cl2.CH4O/c2-1-3;1-2/h1H2;2H,1H3'}], 'dl:entityType': 'exact'}]}, 'dl:reactionActionList': {'dl:reactionAction': {'@action': 'Yield', 'dl:phraseText': 'After flash chromatography (SiO2, CH2Cl2/MeOH), 88 mg of the title compound were obtained (30% yield)', 'chemical': {'molecule': {'@id': 'm10', 'name': {'@dictRef': 'nameDict:unknown', '#text': 'SiO2'}}, 'dl:entityType': 'falsePositive'}, 'dl:chemical': [{'@ref': 'm9'}, {'@ref': 'm1'}]}}}: string indices must be integers\n",
      "Error with {'dl:source': {'dl:documentId': 'US20120322791A1', 'dl:headingText': 'Step A—Synthesis of 2-(5-bromo-3-fluoropyridin-2-yl)propan-2-ol', 'dl:paragraphNum': '1487', 'dl:paragraphText': 'To 2,5-dibromo-3-fluoropyridine in toluene at −78° C. was added n-butyllithium drop wise. The resulting solution was stirred at −78° C. for 1.5 hours. Then at −78° C., added acetone drop wise to the reaction mixture and continue to stir reaction at −78° C. for 2 hours at which point LC-MS and TLC indicated the reaction was complete. The reaction was warmed to 0° C. and quenched with saturated ammonium chloride solution (aq.) and then diluted with water (50 mL) and extracted with ethyl acetate (2×100 mL). The organic layer was dried (Na2SO4) and concentrated in vacuo to afford crude product. Gradient column chromatography on silica eluting with 0 to 30% EtOAc/hexanes gave the desired product (1.04 g).'}, 'dl:reactionSmiles': 'Br[C:2]1[C:7]([F:8])=[CH:6][C:5]([Br:9])=[CH:4][N:3]=1.C([Li])CCC.[CH3:15][C:16]([CH3:18])=[O:17]>C1(C)C=CC=CC=1>[Br:9][C:5]1[CH:6]=[C:7]([F:8])[C:2]([C:16]([OH:17])([CH3:18])[CH3:15])=[N:3][CH:4]=1', 'productList': {'product': [{'@role': 'product', 'molecule': {'@id': 'm0', 'name': {'@dictRef': 'nameDict:unknown', '#text': 'EtOAc hexanes'}}, 'amount': {'@dl:propertyType': 'PERCENTYIELD', '@dl:normalizedValue': '0 to 30', '#text': '0 to 30%'}, 'dl:entityType': 'chemicalClass'}, {'@role': 'product', 'molecule': {'@id': 'm1', 'name': {'@dictRef': 'nameDict:unknown', '#text': 'desired product'}, 'dl:nameResolved': '2-(5-bromo-3-fluoropyridin-2-yl)propan-2-ol'}, 'amount': {'@dl:propertyType': 'MASS', '@dl:normalizedValue': '1.04', '#text': '1.04 g'}, 'identifier': [{'@dictRef': 'cml:smiles', '@value': 'BrC=1C=C(C(=NC1)C(C)(C)O)F'}, {'@dictRef': 'cml:inchi', '@value': 'InChI=1S/C8H9BrFNO/c1-8(2,12)7-6(10)3-5(9)4-11-7/h3-4,12H,1-2H3'}], 'dl:entityType': 'definiteReference'}]}, 'reactantList': {'reactant': [{'@role': 'reactant', '@count': '1', 'molecule': {'@id': 'm2', 'name': {'@dictRef': 'nameDict:unknown', '#text': '2,5-dibromo-3-fluoropyridine'}}, 'identifier': [{'@dictRef': 'cml:smiles', '@value': 'BrC1=NC=C(C=C1F)Br'}, {'@dictRef': 'cml:inchi', '@value': 'InChI=1S/C5H2Br2FN/c6-3-1-4(8)5(7)9-2-3/h1-2H'}], 'dl:entityType': 'exact'}, {'@role': 'reactant', 'molecule': {'@id': 'm3', 'name': {'@dictRef': 'nameDict:unknown', '#text': 'n-butyllithium'}}, 'identifier': [{'@dictRef': 'cml:smiles', '@value': 'C(CCC)[Li]'}, {'@dictRef': 'cml:inchi', '@value': 'InChI=1S/C4H9.Li/c1-3-4-2;/h1,3-4H2,2H3;'}], 'dl:entityType': 'exact'}, {'@role': 'reactant', '@count': '1', 'molecule': {'@id': 'm4', 'name': {'@dictRef': 'nameDict:unknown', '#text': 'acetone'}}, 'identifier': [{'@dictRef': 'cml:smiles', '@value': 'CC(=O)C'}, {'@dictRef': 'cml:inchi', '@value': 'InChI=1S/C3H6O/c1-3(2)4/h1-2H3'}], 'dl:entityType': 'exact'}]}, 'spectatorList': {'spectator': {'@role': 'solvent', 'molecule': {'@id': 'm5', 'name': {'@dictRef': 'nameDict:unknown', '#text': 'toluene'}}, 'identifier': [{'@dictRef': 'cml:smiles', '@value': 'C1(=CC=CC=C1)C'}, {'@dictRef': 'cml:inchi', '@value': 'InChI=1S/C7H8/c1-7-5-3-2-4-6-7/h2-6H,1H3'}], 'dl:entityType': 'exact'}}, 'dl:reactionActionList': {'dl:reactionAction': [{'@action': 'Add', 'dl:phraseText': 'To 2,5-dibromo-3-fluoropyridine in toluene at −78° C. was added n-butyllithium drop wise', 'dl:chemical': [{'@ref': 'm2'}, {'@ref': 'm5'}, {'@ref': 'm3'}], 'dl:parameter': {'@propertyType': 'Temperature', '@normalizedValue': '-78', '#text': '−78° C.'}}, {'@action': 'Stir', 'dl:phraseText': 'The resulting solution was stirred at −78° C. for 1.5 hours', 'dl:parameter': [{'@propertyType': 'Time', '@normalizedValue': '5400', '#text': '1.5 hours'}, {'@propertyType': 'Temperature', '@normalizedValue': '-78', '#text': '−78° C.'}]}, {'@action': 'Add', 'dl:phraseText': 'Then at −78° C., added acetone', 'dl:chemical': {'@ref': 'm4'}, 'dl:parameter': {'@propertyType': 'Temperature', '@normalizedValue': '-78', '#text': '−78° C.'}}, {'@action': 'Stir', 'dl:phraseText': 'to stir'}, {'@action': 'Synthesize', 'dl:phraseText': 'reaction at −78° C. for 2 hours at which point LC-MS and TLC', 'dl:parameter': [{'@propertyType': 'Time', '@normalizedValue': '7200', '#text': '2 hours'}, {'@propertyType': 'Temperature', '@normalizedValue': '-78', '#text': '−78° C.'}]}, {'@action': 'Heat', 'dl:phraseText': 'The reaction was warmed to 0° C.', 'dl:parameter': {'@propertyType': 'Temperature', '@normalizedValue': '0', '#text': '0° C.'}}, {'@action': 'Quench', 'dl:phraseText': 'quenched with saturated ammonium chloride solution (aq.)', 'chemical': {'molecule': {'@id': 'm6', 'name': {'@dictRef': 'nameDict:unknown', '#text': 'ammonium chloride'}}, 'identifier': [{'@dictRef': 'cml:smiles', '@value': '[Cl-].[NH4+]'}, {'@dictRef': 'cml:inchi', '@value': 'InChI=1S/ClH.H3N/h1H;1H3'}], 'dl:entityType': 'exact'}}, {'@action': 'Add', 'dl:phraseText': 'diluted with water (50 mL)', 'chemical': {'molecule': {'@id': 'm7', 'name': {'@dictRef': 'nameDict:unknown', '#text': 'water'}}, 'amount': {'@dl:propertyType': 'VOLUME', '@dl:normalizedValue': '0.050', '#text': '50 mL'}, 'identifier': [{'@dictRef': 'cml:smiles', '@value': 'O'}, {'@dictRef': 'cml:inchi', '@value': 'InChI=1S/H2O/h1H2'}], 'dl:entityType': 'exact'}}, {'@action': 'Extract', 'dl:phraseText': 'extracted with ethyl acetate (2×100 mL)', 'chemical': {'molecule': {'@id': 'm8', 'name': {'@dictRef': 'nameDict:unknown', '#text': 'ethyl acetate'}}, 'amount': {'@dl:propertyType': 'VOLUME', '@dl:normalizedValue': '0.100', '#text': '100 mL'}, 'identifier': [{'@dictRef': 'cml:smiles', '@value': 'C(C)(=O)OCC'}, {'@dictRef': 'cml:inchi', '@value': 'InChI=1S/C4H8O2/c1-3-6-4(2)5/h3H2,1-2H3'}], 'dl:entityType': 'exact'}}, {'@action': 'Dry', 'dl:phraseText': 'The organic layer was dried (Na2SO4)', 'chemical': {'molecule': {'@id': 'm9', 'name': {'@dictRef': 'nameDict:unknown', '#text': 'Na2SO4'}}, 'identifier': [{'@dictRef': 'cml:smiles', '@value': '[O-]S(=O)(=O)[O-].[Na+].[Na+]'}, {'@dictRef': 'cml:inchi', '@value': 'InChI=1S/2Na.H2O4S/c;;1-5(2,3)4/h;;(H2,1,2,3,4)/q2*+1;/p-2'}], 'dl:entityType': 'exact'}}, {'@action': 'Concentrate', 'dl:phraseText': 'concentrated in vacuo'}, {'@action': 'Yield', 'dl:phraseText': 'to afford crude product', 'chemical': {'molecule': {'@id': 'm10', 'name': {'@dictRef': 'nameDict:unknown', '#text': 'crude product'}}, 'dl:entityType': 'falsePositive'}}, {'@action': 'Yield', 'dl:phraseText': 'Gradient column chromatography on silica eluting with 0 to 30% EtOAc/hexanes gave the desired product (1.04 g)', 'chemical': {'molecule': {'@id': 'm11', 'name': {'@dictRef': 'nameDict:unknown', '#text': 'silica'}}, 'dl:entityType': 'falsePositive'}, 'dl:chemical': [{'@ref': 'm0'}, {'@ref': 'm1'}]}]}}: could not convert string to float: '0 to 30'\n",
      "Error with {'dl:source': {'dl:documentId': 'US20080119496A1', 'dl:headingText': '2-Chloro-N-(cis-3-methyl-tetrahydro-2H-pyran-4-yl)-5-nitropyrimidin-4-amine.', 'dl:paragraphNum': '0180', 'dl:paragraphText': 'To a suspension of 0.24 g of the hydrochloride salt of cis-3-methyl-tetrahydro-2H-pyran-4-amine (WO 2004/041161) and DIEA (1.5 mL) in THF (10 mL) at −78° C. was added 2,4-dichloro-5-nitropyrimidine (0.72 g). The mixture was allowed to slowly reach room temperature and stirred for 16 hours. The mixture was diluted with EtOAc and washed 3 times with brine. The organic layer was separated, dried over sodium sulfate, and concentrated in vacuo. Column chromatography (20-40% EtOAc/hexanes) provided 289 mg of the title compound.'}, 'dl:reactionSmiles': '[CH3:1][C@H:2]1[C@@H:7]([NH2:8])[CH2:6][CH2:5][O:4][CH2:3]1.CCN(C(C)C)C(C)C.[Cl:18][C:19]1[N:24]=[C:23](Cl)[C:22]([N+:26]([O-:28])=[O:27])=[CH:21][N:20]=1>C1COCC1.CCOC(C)=O>[Cl:18][C:19]1[N:24]=[C:23]([NH:8][C@H:7]2[CH2:6][CH2:5][O:4][CH2:3][C@H:2]2[CH3:1])[C:22]([N+:26]([O-:28])=[O:27])=[CH:21][N:20]=1', 'productList': {'product': [{'@role': 'product', 'molecule': {'@id': 'm0', 'name': {'@dictRef': 'nameDict:unknown', '#text': 'EtOAc hexanes'}}, 'amount': {'@dl:propertyType': 'PERCENTYIELD', '@dl:normalizedValue': '20 to 40', '#text': '20-40%'}, 'dl:entityType': 'chemicalClass'}, {'@role': 'product', 'molecule': {'@id': 'm1', 'name': {'@dictRef': 'nameDict:unknown', '#text': 'title compound'}, 'dl:nameResolved': '2-Chloro-N-(cis-3-methyl-tetrahydro-2H-pyran-4-yl)-5-nitropyrimidin-4-amine'}, 'amount': {'@dl:propertyType': 'MASS', '@dl:normalizedValue': '0.289', '#text': '289 mg'}, 'identifier': [{'@dictRef': 'cml:smiles', '@value': 'ClC1=NC=C(C(=N1)N[C@@H]1[C@@H](COCC1)C)[N+](=O)[O-]'}, {'@dictRef': 'cml:inchi', '@value': 'InChI=1S/C10H13ClN4O3/c1-6-5-18-3-2-7(6)13-9-8(15(16)17)4-12-10(11)14-9/h4,6-7H,2-3,5H2,1H3,(H,12,13,14)/t6-,7+/m1/s1'}], 'dl:entityType': 'definiteReference'}]}, 'reactantList': {'reactant': [{'@role': 'reactant', 'molecule': {'@id': 'm2', 'name': {'@dictRef': 'nameDict:unknown', '#text': 'hydrochloride salt'}}, 'amount': {'@dl:propertyType': 'MASS', '@dl:normalizedValue': '0.24', '#text': '0.24 g'}, 'dl:entityType': 'definiteReference'}, {'@role': 'reactant', '@count': '1', 'molecule': {'@id': 'm3', 'name': {'@dictRef': 'nameDict:unknown', '#text': 'cis-3-methyl-tetrahydro-2H-pyran-4-amine'}}, 'identifier': [{'@dictRef': 'cml:smiles', '@value': 'C[C@@H]1COCC[C@@H]1N'}, {'@dictRef': 'cml:inchi', '@value': 'InChI=1S/C6H13NO/c1-5-4-8-3-2-6(5)7/h5-6H,2-4,7H2,1H3/t5-,6+/m1/s1'}], 'dl:entityType': 'exact'}, {'@role': 'reactant', 'molecule': {'@id': 'm4', 'name': {'@dictRef': 'nameDict:unknown', '#text': 'DIEA'}}, 'amount': {'@dl:propertyType': 'VOLUME', '@dl:normalizedValue': '0.0015', '#text': '1.5 mL'}, 'identifier': [{'@dictRef': 'cml:smiles', '@value': 'CCN(C(C)C)C(C)C'}, {'@dictRef': 'cml:inchi', '@value': 'InChI=1S/C8H19N/c1-6-9(7(2)3)8(4)5/h7-8H,6H2,1-5H3'}], 'dl:entityType': 'exact'}, {'@role': 'reactant', '@count': '1', 'molecule': {'@id': 'm5', 'name': {'@dictRef': 'nameDict:unknown', '#text': '2,4-dichloro-5-nitropyrimidine'}}, 'amount': {'@dl:propertyType': 'MASS', '@dl:normalizedValue': '0.72', '#text': '0.72 g'}, 'identifier': [{'@dictRef': 'cml:smiles', '@value': 'ClC1=NC=C(C(=N1)Cl)[N+](=O)[O-]'}, {'@dictRef': 'cml:inchi', '@value': 'InChI=1S/C4HCl2N3O2/c5-3-2(9(10)11)1-7-4(6)8-3/h1H'}], 'dl:entityType': 'exact'}]}, 'spectatorList': {'spectator': [{'@role': 'solvent', 'molecule': {'@id': 'm6', 'name': {'@dictRef': 'nameDict:unknown', '#text': 'THF'}}, 'amount': {'@dl:propertyType': 'VOLUME', '@dl:normalizedValue': '0.010', '#text': '10 mL'}, 'identifier': [{'@dictRef': 'cml:smiles', '@value': 'C1CCOC1'}, {'@dictRef': 'cml:inchi', '@value': 'InChI=1S/C4H8O/c1-2-4-5-3-1/h1-4H2'}], 'dl:entityType': 'exact'}, {'@role': 'solvent', 'molecule': {'@id': 'm7', 'name': {'@dictRef': 'nameDict:unknown', '#text': 'EtOAc'}}, 'identifier': [{'@dictRef': 'cml:smiles', '@value': 'CCOC(=O)C'}, {'@dictRef': 'cml:inchi', '@value': 'InChI=1S/C4H8O2/c1-3-6-4(2)5/h3H2,1-2H3'}], 'dl:entityType': 'exact'}]}, 'dl:reactionActionList': {'dl:reactionAction': [{'@action': 'Add', 'dl:phraseText': 'To a suspension of 0.24 g of the hydrochloride salt of cis-3-methyl-tetrahydro-2H-pyran-4-amine (WO 2004/041161) and DIEA (1.5 mL) in THF (10 mL) at −78° C.', 'dl:chemical': [{'@ref': 'm2'}, {'@ref': 'm3'}, {'@ref': 'm4'}, {'@ref': 'm6'}], 'dl:parameter': {'@propertyType': 'Temperature', '@normalizedValue': '-78', '#text': '−78° C.'}}, {'@action': 'Add', 'dl:phraseText': 'was added 2,4-dichloro-5-nitropyrimidine (0.72 g)', 'dl:chemical': {'@ref': 'm5'}}, {'@action': 'Unknown', 'dl:phraseText': 'was allowed to slowly reach room temperature', 'dl:parameter': {'@propertyType': 'Temperature', '@normalizedValue': 'room temperature', '#text': 'room temperature'}}, {'@action': 'Stir', 'dl:phraseText': 'stirred for 16 hours', 'dl:parameter': {'@propertyType': 'Time', '@normalizedValue': '57600', '#text': '16 hours'}}, {'@action': 'Add', 'dl:phraseText': 'The mixture was diluted with EtOAc', 'dl:chemical': {'@ref': 'm7'}}, {'@action': 'Wash', 'dl:phraseText': 'washed 3 times with brine', 'chemical': {'molecule': {'@id': 'm8', 'name': {'@dictRef': 'nameDict:unknown', '#text': 'brine'}}, 'identifier': [{'@dictRef': 'cml:smiles', '@value': '[Cl-].[Na+].O'}, {'@dictRef': 'cml:inchi', '@value': 'InChI=1S/ClH.Na.H2O/h1H;;1H2/q;+1;/p-1'}], 'dl:entityType': 'exact'}}, {'@action': 'Partition', 'dl:phraseText': 'The organic layer was separated'}, {'@action': 'Dry', 'dl:phraseText': 'dried over sodium sulfate', 'chemical': {'molecule': {'@id': 'm9', 'name': {'@dictRef': 'nameDict:unknown', '#text': 'sodium sulfate'}}, 'identifier': [{'@dictRef': 'cml:smiles', '@value': 'S(=O)(=O)([O-])[O-].[Na+].[Na+]'}, {'@dictRef': 'cml:inchi', '@value': 'InChI=1S/2Na.H2O4S/c;;1-5(2,3)4/h;;(H2,1,2,3,4)/q2*+1;/p-2'}], 'dl:entityType': 'exact'}}, {'@action': 'Concentrate', 'dl:phraseText': 'concentrated in vacuo'}, {'@action': 'Yield', 'dl:phraseText': 'Column chromatography (20-40% EtOAc/hexanes) provided 289 mg of the title compound', 'dl:chemical': [{'@ref': 'm0'}, {'@ref': 'm1'}]}]}}: could not convert string to float: '20 to 40'\n",
      "Error with {'dl:source': {'dl:documentId': 'US20080119496A1', 'dl:headingText': '2-Chloro-N-(cis-3-methyl-tetrahydro-2H-pyran-4-yl)-5-nitropyrimidin-4-amine.', 'dl:paragraphNum': '0180', 'dl:paragraphText': 'To a suspension of 0.24 g of the hydrochloride salt of cis-3-methyl-tetrahydro-2H-pyran-4-amine (WO 2004/041161) and DIEA (1.5 mL) in THF (10 mL) at −78° C. was added 2,4-dichloro-5-nitropyrimidine (0.72 g). The mixture was allowed to slowly reach room temperature and stirred for 16 hours. The mixture was diluted with EtOAc and washed 3 times with brine. The organic layer was separated, dried over sodium sulfate, and concentrated in vacuo. Column chromatography (20-40% EtOAc/hexanes) provided 289 mg of the title compound.'}, 'dl:reactionSmiles': '[CH3:1][C@H:2]1[C@@H:7]([NH2:8])[CH2:6][CH2:5][O:4][CH2:3]1.CCN(C(C)C)C(C)C.[Cl:18][C:19]1[N:24]=[C:23](Cl)[C:22]([N+:26]([O-:28])=[O:27])=[CH:21][N:20]=1>C1COCC1.CCOC(C)=O>[Cl:18][C:19]1[N:24]=[C:23]([NH:8][C@H:7]2[CH2:6][CH2:5][O:4][CH2:3][C@H:2]2[CH3:1])[C:22]([N+:26]([O-:28])=[O:27])=[CH:21][N:20]=1', 'productList': {'product': [{'@role': 'product', 'molecule': {'@id': 'm0', 'name': {'@dictRef': 'nameDict:unknown', '#text': 'EtOAc hexanes'}}, 'amount': {'@dl:propertyType': 'PERCENTYIELD', '@dl:normalizedValue': '20 to 40', '#text': '20-40%'}, 'dl:entityType': 'chemicalClass'}, {'@role': 'product', 'molecule': {'@id': 'm1', 'name': {'@dictRef': 'nameDict:unknown', '#text': 'title compound'}, 'dl:nameResolved': '2-Chloro-N-(cis-3-methyl-tetrahydro-2H-pyran-4-yl)-5-nitropyrimidin-4-amine'}, 'amount': {'@dl:propertyType': 'MASS', '@dl:normalizedValue': '0.289', '#text': '289 mg'}, 'identifier': [{'@dictRef': 'cml:smiles', '@value': 'ClC1=NC=C(C(=N1)N[C@@H]1[C@@H](COCC1)C)[N+](=O)[O-]'}, {'@dictRef': 'cml:inchi', '@value': 'InChI=1S/C10H13ClN4O3/c1-6-5-18-3-2-7(6)13-9-8(15(16)17)4-12-10(11)14-9/h4,6-7H,2-3,5H2,1H3,(H,12,13,14)/t6-,7+/m1/s1'}], 'dl:entityType': 'definiteReference'}]}, 'reactantList': {'reactant': [{'@role': 'reactant', 'molecule': {'@id': 'm2', 'name': {'@dictRef': 'nameDict:unknown', '#text': 'hydrochloride salt'}}, 'amount': {'@dl:propertyType': 'MASS', '@dl:normalizedValue': '0.24', '#text': '0.24 g'}, 'dl:entityType': 'definiteReference'}, {'@role': 'reactant', '@count': '1', 'molecule': {'@id': 'm3', 'name': {'@dictRef': 'nameDict:unknown', '#text': 'cis-3-methyl-tetrahydro-2H-pyran-4-amine'}}, 'identifier': [{'@dictRef': 'cml:smiles', '@value': 'C[C@@H]1COCC[C@@H]1N'}, {'@dictRef': 'cml:inchi', '@value': 'InChI=1S/C6H13NO/c1-5-4-8-3-2-6(5)7/h5-6H,2-4,7H2,1H3/t5-,6+/m1/s1'}], 'dl:entityType': 'exact'}, {'@role': 'reactant', 'molecule': {'@id': 'm4', 'name': {'@dictRef': 'nameDict:unknown', '#text': 'DIEA'}}, 'amount': {'@dl:propertyType': 'VOLUME', '@dl:normalizedValue': '0.0015', '#text': '1.5 mL'}, 'identifier': [{'@dictRef': 'cml:smiles', '@value': 'CCN(C(C)C)C(C)C'}, {'@dictRef': 'cml:inchi', '@value': 'InChI=1S/C8H19N/c1-6-9(7(2)3)8(4)5/h7-8H,6H2,1-5H3'}], 'dl:entityType': 'exact'}, {'@role': 'reactant', '@count': '1', 'molecule': {'@id': 'm5', 'name': {'@dictRef': 'nameDict:unknown', '#text': '2,4-dichloro-5-nitropyrimidine'}}, 'amount': {'@dl:propertyType': 'MASS', '@dl:normalizedValue': '0.72', '#text': '0.72 g'}, 'identifier': [{'@dictRef': 'cml:smiles', '@value': 'ClC1=NC=C(C(=N1)Cl)[N+](=O)[O-]'}, {'@dictRef': 'cml:inchi', '@value': 'InChI=1S/C4HCl2N3O2/c5-3-2(9(10)11)1-7-4(6)8-3/h1H'}], 'dl:entityType': 'exact'}]}, 'spectatorList': {'spectator': [{'@role': 'solvent', 'molecule': {'@id': 'm6', 'name': {'@dictRef': 'nameDict:unknown', '#text': 'THF'}}, 'amount': {'@dl:propertyType': 'VOLUME', '@dl:normalizedValue': '0.010', '#text': '10 mL'}, 'identifier': [{'@dictRef': 'cml:smiles', '@value': 'C1CCOC1'}, {'@dictRef': 'cml:inchi', '@value': 'InChI=1S/C4H8O/c1-2-4-5-3-1/h1-4H2'}], 'dl:entityType': 'exact'}, {'@role': 'solvent', 'molecule': {'@id': 'm7', 'name': {'@dictRef': 'nameDict:unknown', '#text': 'EtOAc'}}, 'identifier': [{'@dictRef': 'cml:smiles', '@value': 'CCOC(=O)C'}, {'@dictRef': 'cml:inchi', '@value': 'InChI=1S/C4H8O2/c1-3-6-4(2)5/h3H2,1-2H3'}], 'dl:entityType': 'exact'}]}, 'dl:reactionActionList': {'dl:reactionAction': [{'@action': 'Add', 'dl:phraseText': 'To a suspension of 0.24 g of the hydrochloride salt of cis-3-methyl-tetrahydro-2H-pyran-4-amine (WO 2004/041161) and DIEA (1.5 mL) in THF (10 mL) at −78° C.', 'dl:chemical': [{'@ref': 'm2'}, {'@ref': 'm3'}, {'@ref': 'm4'}, {'@ref': 'm6'}], 'dl:parameter': {'@propertyType': 'Temperature', '@normalizedValue': '-78', '#text': '−78° C.'}}, {'@action': 'Add', 'dl:phraseText': 'was added 2,4-dichloro-5-nitropyrimidine (0.72 g)', 'dl:chemical': {'@ref': 'm5'}}, {'@action': 'Unknown', 'dl:phraseText': 'was allowed to slowly reach room temperature', 'dl:parameter': {'@propertyType': 'Temperature', '@normalizedValue': 'room temperature', '#text': 'room temperature'}}, {'@action': 'Stir', 'dl:phraseText': 'stirred for 16 hours', 'dl:parameter': {'@propertyType': 'Time', '@normalizedValue': '57600', '#text': '16 hours'}}, {'@action': 'Add', 'dl:phraseText': 'The mixture was diluted with EtOAc', 'dl:chemical': {'@ref': 'm7'}}, {'@action': 'Wash', 'dl:phraseText': 'washed 3 times with brine', 'chemical': {'molecule': {'@id': 'm8', 'name': {'@dictRef': 'nameDict:unknown', '#text': 'brine'}}, 'identifier': [{'@dictRef': 'cml:smiles', '@value': '[Cl-].[Na+].O'}, {'@dictRef': 'cml:inchi', '@value': 'InChI=1S/ClH.Na.H2O/h1H;;1H2/q;+1;/p-1'}], 'dl:entityType': 'exact'}}, {'@action': 'Partition', 'dl:phraseText': 'The organic layer was separated'}, {'@action': 'Dry', 'dl:phraseText': 'dried over sodium sulfate', 'chemical': {'molecule': {'@id': 'm9', 'name': {'@dictRef': 'nameDict:unknown', '#text': 'sodium sulfate'}}, 'identifier': [{'@dictRef': 'cml:smiles', '@value': 'S(=O)(=O)([O-])[O-].[Na+].[Na+]'}, {'@dictRef': 'cml:inchi', '@value': 'InChI=1S/2Na.H2O4S/c;;1-5(2,3)4/h;;(H2,1,2,3,4)/q2*+1;/p-2'}], 'dl:entityType': 'exact'}}, {'@action': 'Concentrate', 'dl:phraseText': 'concentrated in vacuo'}, {'@action': 'Yield', 'dl:phraseText': 'Column chromatography (20-40% EtOAc/hexanes) provided 289 mg of the title compound', 'dl:chemical': [{'@ref': 'm0'}, {'@ref': 'm1'}]}]}}: could not convert string to float: '20 to 40'\n",
      "Error with {'dl:source': {'dl:documentId': 'US20080312209A1', 'dl:headingText': '4-[2-(1,4-Dioxaspiro[4.5]dec-8-ylsulfonyl)-3-pyridinyl]-2-fluorobenzaldehyde (D40)', 'dl:paragraphNum': '0213', 'dl:paragraphText': 'A degassed mixture of D39 (4.6 g, 11.16 mmol), 3-fluoro-4-formylphenylboronic acid (2.25 g, 13.4 mmol), tetrakis(triphenylphosphine)palladium(0) (258 mg, 0.223 mmol) and sodium carbonate (22.3 ml, 2M solution in water, 44.7 mmol) in 1,2-dimethoxyethane (100 ml) was heated at reflux under argon for 18 h. After cooling the mixture was diluted with EtOAc (200 ml) and washed with water (200 ml). The organic layer was dried (Na2SO4) and concentrated. Chromatography on silica eluting with a 30-50% EtOAc/petroleum ether gradient afforded the title compound as a light brown solid (4.48 g). δH (CDCl3, 250 MHz) 1.81 (4H, m), 3.64 (4H, m), 3.99 (4H, s), 7.37 (2H, m), 7.54 (1H, dd), 7.73 (1H, dd), 7.94 91H, m), 8.67 (1H, d), 10.41 (1H, s).'}, 'dl:reactionSmiles': 'I[C:2]1[C:3]([S:8](N2CCC3(OCCO3)CC2)(=[O:10])=[O:9])=[N:4][CH:5]=[CH:6][CH:7]=1.[F:21][C:22]1[CH:23]=[C:24](B(O)O)[CH:25]=[CH:26][C:27]=1[CH:28]=[O:29].C(=O)([O-])[O-].[Na+].[Na+].C[O:40][CH2:41][CH2:42][O:43][CH3:44]>CCOC(C)=O.C1C=CC([P]([Pd]([P](C2C=CC=CC=2)(C2C=CC=CC=2)C2C=CC=CC=2)([P](C2C=CC=CC=2)(C2C=CC=CC=2)C2C=CC=CC=2)[P](C2C=CC=CC=2)(C2C=CC=CC=2)C2C=CC=CC=2)(C2C=CC=CC=2)C2C=CC=CC=2)=CC=1>[O:43]1[C:44]2([CH2:5][CH2:6][CH:7]([S:8]([C:3]3[C:2]([C:24]4[CH:25]=[CH:26][C:27]([CH:28]=[O:29])=[C:22]([F:21])[CH:23]=4)=[CH:7][CH:6]=[CH:5][N:4]=3)(=[O:9])=[O:10])[CH2:2][CH2:3]2)[O:40][CH2:41][CH2:42]1 |f:2.3.4,^1:54,56,75,94|', 'productList': {'product': [{'@role': 'product', 'molecule': {'@id': 'm0', 'name': {'@dictRef': 'nameDict:unknown', '#text': 'EtOAc petroleum ether'}}, 'amount': {'@dl:propertyType': 'PERCENTYIELD', '@dl:normalizedValue': '30 to 50', '#text': '30-50%'}, 'dl:entityType': 'chemicalClass'}, {'@role': 'product', 'molecule': {'@id': 'm1', 'name': {'@dictRef': 'nameDict:unknown', '#text': 'title compound'}, 'dl:nameResolved': '4-[2-(1,4-Dioxaspiro[4.5]dec-8-ylsulfonyl)-3-pyridinyl]-2-fluorobenzaldehyde'}, 'amount': {'@dl:propertyType': 'MASS', '@dl:normalizedValue': '4.48', '#text': '4.48 g'}, 'identifier': [{'@dictRef': 'cml:smiles', '@value': 'O1CCOC12CCC(CC2)S(=O)(=O)C2=NC=CC=C2C2=CC(=C(C=O)C=C2)F'}, {'@dictRef': 'cml:inchi', '@value': 'InChI=1S/C20H20FNO5S/c21-18-12-14(3-4-15(18)13-23)17-2-1-9-22-19(17)28(24,25)16-5-7-20(8-6-16)26-10-11-27-20/h1-4,9,12-13,16H,5-8,10-11H2'}], 'dl:entityType': 'definiteReference', 'dl:appearance': 'light brown', 'dl:state': 'solid'}]}, 'reactantList': {'reactant': [{'@role': 'reactant', '@count': '2', 'molecule': {'@id': 'm2', 'name': {'@dictRef': 'nameDict:unknown', '#text': 'D39'}, 'dl:nameResolved': '8-[(3-Iodo-2-pyridinyl)sulfonyl]-1,4-dioxa-8-azaspiro[4.5]decane'}, 'amount': [{'@dl:propertyType': 'AMOUNT', '@dl:normalizedValue': '0.01116', '#text': '11.16 mmol'}, {'@dl:propertyType': 'MASS', '@dl:normalizedValue': '4.6', '#text': '4.6 g'}], 'identifier': [{'@dictRef': 'cml:smiles', '@value': 'IC=1C(=NC=CC1)S(=O)(=O)N1CCC2(OCCO2)CC1'}, {'@dictRef': 'cml:inchi', '@value': 'InChI=1S/C12H15IN2O4S/c13-10-2-1-5-14-11(10)20(16,17)15-6-3-12(4-7-15)18-8-9-19-12/h1-2,5H,3-4,6-9H2'}], 'dl:entityType': 'definiteReference'}, {'@role': 'reactant', '@count': '1', 'molecule': {'@id': 'm3', 'name': {'@dictRef': 'nameDict:unknown', '#text': '3-fluoro-4-formylphenylboronic acid'}}, 'amount': [{'@dl:propertyType': 'AMOUNT', '@dl:normalizedValue': '0.0134', '#text': '13.4 mmol'}, {'@dl:propertyType': 'MASS', '@dl:normalizedValue': '2.25', '#text': '2.25 g'}], 'identifier': [{'@dictRef': 'cml:smiles', '@value': 'FC=1C=C(C=CC1C=O)B(O)O'}, {'@dictRef': 'cml:inchi', '@value': 'InChI=1S/C7H6BFO3/c9-7-3-6(8(11)12)2-1-5(7)4-10/h1-4,11-12H'}], 'dl:entityType': 'exact'}, {'@role': 'reactant', 'molecule': {'@id': 'm4', 'name': {'@dictRef': 'nameDict:unknown', '#text': 'sodium carbonate'}}, 'amount': [{'@dl:propertyType': 'AMOUNT', '@dl:normalizedValue': '0.0447', '#text': '44.7 mmol'}, {'@dl:propertyType': 'MOLARITY', '@dl:normalizedValue': '2', '#text': '2M'}, {'@dl:propertyType': 'VOLUME', '@dl:normalizedValue': '0.0223', '#text': '22.3 ml'}], 'identifier': [{'@dictRef': 'cml:smiles', '@value': 'C([O-])([O-])=O.[Na+].[Na+]'}, {'@dictRef': 'cml:inchi', '@value': 'InChI=1S/CH2O3.2Na/c2-1(3)4;;/h(H2,2,3,4);;/q;2*+1/p-2'}], 'dl:entityType': 'exact'}, {'@role': 'reactant', '@count': '1', 'molecule': {'@id': 'm5', 'name': {'@dictRef': 'nameDict:unknown', '#text': '1,2-dimethoxyethane'}}, 'amount': {'@dl:propertyType': 'VOLUME', '@dl:normalizedValue': '0.100', '#text': '100 ml'}, 'identifier': [{'@dictRef': 'cml:smiles', '@value': 'COCCOC'}, {'@dictRef': 'cml:inchi', '@value': 'InChI=1S/C4H10O2/c1-5-3-4-6-2/h3-4H2,1-2H3'}], 'dl:entityType': 'exact'}]}, 'spectatorList': {'spectator': [{'@role': 'solvent', 'molecule': {'@id': 'm6', 'name': {'@dictRef': 'nameDict:unknown', '#text': 'EtOAc'}}, 'amount': {'@dl:propertyType': 'VOLUME', '@dl:normalizedValue': '0.200', '#text': '200 ml'}, 'identifier': [{'@dictRef': 'cml:smiles', '@value': 'CCOC(=O)C'}, {'@dictRef': 'cml:inchi', '@value': 'InChI=1S/C4H8O2/c1-3-6-4(2)5/h3H2,1-2H3'}], 'dl:entityType': 'exact'}, {'@role': 'catalyst', 'molecule': {'@id': 'm7', 'name': {'@dictRef': 'nameDict:unknown', '#text': 'tetrakis(triphenylphosphine)palladium(0)'}}, 'amount': [{'@dl:propertyType': 'AMOUNT', '@dl:normalizedValue': '0.000223', '#text': '0.223 mmol'}, {'@dl:propertyType': 'MASS', '@dl:normalizedValue': '0.258', '#text': '258 mg'}], 'identifier': [{'@dictRef': 'cml:smiles', '@value': 'C=1C=CC(=CC1)[P](C=2C=CC=CC2)(C=3C=CC=CC3)[Pd]([P](C=4C=CC=CC4)(C=5C=CC=CC5)C=6C=CC=CC6)([P](C=7C=CC=CC7)(C=8C=CC=CC8)C=9C=CC=CC9)[P](C=1C=CC=CC1)(C=1C=CC=CC1)C=1C=CC=CC1'}, {'@dictRef': 'cml:inchi', '@value': 'InChI=1S/4C18H15P.Pd/c4*1-4-10-16(11-5-1)19(17-12-6-2-7-13-17)18-14-8-3-9-15-18;/h4*1-15H;'}], 'dl:entityType': 'exact'}]}, 'dl:reactionActionList': {'dl:reactionAction': [{'@action': 'Add', 'dl:phraseText': 'A degassed mixture of D39 (4.6 g, 11.16 mmol), 3-fluoro-4-formylphenylboronic acid (2.25 g, 13.4 mmol), tetrakis(triphenylphosphine)palladium(0) (258 mg, 0.223 mmol) and sodium carbonate (22.3 ml, 2M solution in water, 44.7 mmol) in 1,2-dimethoxyethane (100 ml)', 'dl:chemical': [{'@ref': 'm2'}, {'@ref': 'm3'}, {'@ref': 'm7'}, {'@ref': 'm4'}, {'@ref': 'm5'}]}, {'@action': 'Heat', 'dl:phraseText': 'was heated'}, {'@action': 'Heat', 'dl:phraseText': 'at reflux under argon for 18 h', 'dl:atmosphere': {'chemical': {'molecule': {'@id': 'm8', 'name': {'@dictRef': 'nameDict:unknown', '#text': 'argon'}}, 'identifier': [{'@dictRef': 'cml:smiles', '@value': '[Ar]'}, {'@dictRef': 'cml:inchi', '@value': 'InChI=1S/Ar'}], 'dl:entityType': 'falsePositive'}}, 'dl:parameter': {'@propertyType': 'Time', '@normalizedValue': '64800', '#text': '18 h'}}, {'@action': 'Cool', 'dl:phraseText': 'After cooling the mixture'}, {'@action': 'Add', 'dl:phraseText': 'was diluted with EtOAc (200 ml)', 'dl:chemical': {'@ref': 'm6'}}, {'@action': 'Wash', 'dl:phraseText': 'washed with water (200 ml)', 'chemical': {'molecule': {'@id': 'm9', 'name': {'@dictRef': 'nameDict:unknown', '#text': 'water'}}, 'amount': {'@dl:propertyType': 'VOLUME', '@dl:normalizedValue': '0.200', '#text': '200 ml'}, 'identifier': [{'@dictRef': 'cml:smiles', '@value': 'O'}, {'@dictRef': 'cml:inchi', '@value': 'InChI=1S/H2O/h1H2'}], 'dl:entityType': 'exact'}}, {'@action': 'Dry', 'dl:phraseText': 'The organic layer was dried (Na2SO4)', 'chemical': {'molecule': {'@id': 'm10', 'name': {'@dictRef': 'nameDict:unknown', '#text': 'Na2SO4'}}, 'identifier': [{'@dictRef': 'cml:smiles', '@value': '[O-]S(=O)(=O)[O-].[Na+].[Na+]'}, {'@dictRef': 'cml:inchi', '@value': 'InChI=1S/2Na.H2O4S/c;;1-5(2,3)4/h;;(H2,1,2,3,4)/q2*+1;/p-2'}], 'dl:entityType': 'exact'}}, {'@action': 'Concentrate', 'dl:phraseText': 'concentrated'}, {'@action': 'Yield', 'dl:phraseText': 'Chromatography on silica eluting with a 30-50% EtOAc/petroleum ether gradient afforded the title compound as a light brown solid (4.48 g)', 'chemical': {'molecule': {'@id': 'm11', 'name': {'@dictRef': 'nameDict:unknown', '#text': 'silica'}}, 'dl:entityType': 'falsePositive'}, 'dl:chemical': [{'@ref': 'm0'}, {'@ref': 'm1'}]}]}}: could not convert string to float: '30 to 50'\n",
      "Error with {'dl:source': {'dl:documentId': 'US20080312209A1', 'dl:headingText': '4-[2-(1,4-Dioxaspiro[4.5]dec-8-ylsulfonyl)-3-pyridinyl]-2-fluorobenzaldehyde (D40)', 'dl:paragraphNum': '0213', 'dl:paragraphText': 'A degassed mixture of D39 (4.6 g, 11.16 mmol), 3-fluoro-4-formylphenylboronic acid (2.25 g, 13.4 mmol), tetrakis(triphenylphosphine)palladium(0) (258 mg, 0.223 mmol) and sodium carbonate (22.3 ml, 2M solution in water, 44.7 mmol) in 1,2-dimethoxyethane (100 ml) was heated at reflux under argon for 18 h. After cooling the mixture was diluted with EtOAc (200 ml) and washed with water (200 ml). The organic layer was dried (Na2SO4) and concentrated. Chromatography on silica eluting with a 30-50% EtOAc/petroleum ether gradient afforded the title compound as a light brown solid (4.48 g). δH (CDCl3, 250 MHz) 1.81 (4H, m), 3.64 (4H, m), 3.99 (4H, s), 7.37 (2H, m), 7.54 (1H, dd), 7.73 (1H, dd), 7.94 91H, m), 8.67 (1H, d), 10.41 (1H, s).'}, 'dl:reactionSmiles': 'I[C:2]1[C:3]([S:8](N2CCC3(OCCO3)CC2)(=[O:10])=[O:9])=[N:4][CH:5]=[CH:6][CH:7]=1.[F:21][C:22]1[CH:23]=[C:24](B(O)O)[CH:25]=[CH:26][C:27]=1[CH:28]=[O:29].C(=O)([O-])[O-].[Na+].[Na+].C[O:40][CH2:41][CH2:42][O:43][CH3:44]>CCOC(C)=O.C1C=CC([P]([Pd]([P](C2C=CC=CC=2)(C2C=CC=CC=2)C2C=CC=CC=2)([P](C2C=CC=CC=2)(C2C=CC=CC=2)C2C=CC=CC=2)[P](C2C=CC=CC=2)(C2C=CC=CC=2)C2C=CC=CC=2)(C2C=CC=CC=2)C2C=CC=CC=2)=CC=1>[O:43]1[C:44]2([CH2:5][CH2:6][CH:7]([S:8]([C:3]3[C:2]([C:24]4[CH:25]=[CH:26][C:27]([CH:28]=[O:29])=[C:22]([F:21])[CH:23]=4)=[CH:7][CH:6]=[CH:5][N:4]=3)(=[O:9])=[O:10])[CH2:2][CH2:3]2)[O:40][CH2:41][CH2:42]1 |f:2.3.4,^1:54,56,75,94|', 'productList': {'product': [{'@role': 'product', 'molecule': {'@id': 'm0', 'name': {'@dictRef': 'nameDict:unknown', '#text': 'EtOAc petroleum ether'}}, 'amount': {'@dl:propertyType': 'PERCENTYIELD', '@dl:normalizedValue': '30 to 50', '#text': '30-50%'}, 'dl:entityType': 'chemicalClass'}, {'@role': 'product', 'molecule': {'@id': 'm1', 'name': {'@dictRef': 'nameDict:unknown', '#text': 'title compound'}, 'dl:nameResolved': '4-[2-(1,4-Dioxaspiro[4.5]dec-8-ylsulfonyl)-3-pyridinyl]-2-fluorobenzaldehyde'}, 'amount': {'@dl:propertyType': 'MASS', '@dl:normalizedValue': '4.48', '#text': '4.48 g'}, 'identifier': [{'@dictRef': 'cml:smiles', '@value': 'O1CCOC12CCC(CC2)S(=O)(=O)C2=NC=CC=C2C2=CC(=C(C=O)C=C2)F'}, {'@dictRef': 'cml:inchi', '@value': 'InChI=1S/C20H20FNO5S/c21-18-12-14(3-4-15(18)13-23)17-2-1-9-22-19(17)28(24,25)16-5-7-20(8-6-16)26-10-11-27-20/h1-4,9,12-13,16H,5-8,10-11H2'}], 'dl:entityType': 'definiteReference', 'dl:appearance': 'light brown', 'dl:state': 'solid'}]}, 'reactantList': {'reactant': [{'@role': 'reactant', '@count': '2', 'molecule': {'@id': 'm2', 'name': {'@dictRef': 'nameDict:unknown', '#text': 'D39'}, 'dl:nameResolved': '8-[(3-Iodo-2-pyridinyl)sulfonyl]-1,4-dioxa-8-azaspiro[4.5]decane'}, 'amount': [{'@dl:propertyType': 'AMOUNT', '@dl:normalizedValue': '0.01116', '#text': '11.16 mmol'}, {'@dl:propertyType': 'MASS', '@dl:normalizedValue': '4.6', '#text': '4.6 g'}], 'identifier': [{'@dictRef': 'cml:smiles', '@value': 'IC=1C(=NC=CC1)S(=O)(=O)N1CCC2(OCCO2)CC1'}, {'@dictRef': 'cml:inchi', '@value': 'InChI=1S/C12H15IN2O4S/c13-10-2-1-5-14-11(10)20(16,17)15-6-3-12(4-7-15)18-8-9-19-12/h1-2,5H,3-4,6-9H2'}], 'dl:entityType': 'definiteReference'}, {'@role': 'reactant', '@count': '1', 'molecule': {'@id': 'm3', 'name': {'@dictRef': 'nameDict:unknown', '#text': '3-fluoro-4-formylphenylboronic acid'}}, 'amount': [{'@dl:propertyType': 'AMOUNT', '@dl:normalizedValue': '0.0134', '#text': '13.4 mmol'}, {'@dl:propertyType': 'MASS', '@dl:normalizedValue': '2.25', '#text': '2.25 g'}], 'identifier': [{'@dictRef': 'cml:smiles', '@value': 'FC=1C=C(C=CC1C=O)B(O)O'}, {'@dictRef': 'cml:inchi', '@value': 'InChI=1S/C7H6BFO3/c9-7-3-6(8(11)12)2-1-5(7)4-10/h1-4,11-12H'}], 'dl:entityType': 'exact'}, {'@role': 'reactant', 'molecule': {'@id': 'm4', 'name': {'@dictRef': 'nameDict:unknown', '#text': 'sodium carbonate'}}, 'amount': [{'@dl:propertyType': 'AMOUNT', '@dl:normalizedValue': '0.0447', '#text': '44.7 mmol'}, {'@dl:propertyType': 'MOLARITY', '@dl:normalizedValue': '2', '#text': '2M'}, {'@dl:propertyType': 'VOLUME', '@dl:normalizedValue': '0.0223', '#text': '22.3 ml'}], 'identifier': [{'@dictRef': 'cml:smiles', '@value': 'C([O-])([O-])=O.[Na+].[Na+]'}, {'@dictRef': 'cml:inchi', '@value': 'InChI=1S/CH2O3.2Na/c2-1(3)4;;/h(H2,2,3,4);;/q;2*+1/p-2'}], 'dl:entityType': 'exact'}, {'@role': 'reactant', '@count': '1', 'molecule': {'@id': 'm5', 'name': {'@dictRef': 'nameDict:unknown', '#text': '1,2-dimethoxyethane'}}, 'amount': {'@dl:propertyType': 'VOLUME', '@dl:normalizedValue': '0.100', '#text': '100 ml'}, 'identifier': [{'@dictRef': 'cml:smiles', '@value': 'COCCOC'}, {'@dictRef': 'cml:inchi', '@value': 'InChI=1S/C4H10O2/c1-5-3-4-6-2/h3-4H2,1-2H3'}], 'dl:entityType': 'exact'}]}, 'spectatorList': {'spectator': [{'@role': 'solvent', 'molecule': {'@id': 'm6', 'name': {'@dictRef': 'nameDict:unknown', '#text': 'EtOAc'}}, 'amount': {'@dl:propertyType': 'VOLUME', '@dl:normalizedValue': '0.200', '#text': '200 ml'}, 'identifier': [{'@dictRef': 'cml:smiles', '@value': 'CCOC(=O)C'}, {'@dictRef': 'cml:inchi', '@value': 'InChI=1S/C4H8O2/c1-3-6-4(2)5/h3H2,1-2H3'}], 'dl:entityType': 'exact'}, {'@role': 'catalyst', 'molecule': {'@id': 'm7', 'name': {'@dictRef': 'nameDict:unknown', '#text': 'tetrakis(triphenylphosphine)palladium(0)'}}, 'amount': [{'@dl:propertyType': 'AMOUNT', '@dl:normalizedValue': '0.000223', '#text': '0.223 mmol'}, {'@dl:propertyType': 'MASS', '@dl:normalizedValue': '0.258', '#text': '258 mg'}], 'identifier': [{'@dictRef': 'cml:smiles', '@value': 'C=1C=CC(=CC1)[P](C=2C=CC=CC2)(C=3C=CC=CC3)[Pd]([P](C=4C=CC=CC4)(C=5C=CC=CC5)C=6C=CC=CC6)([P](C=7C=CC=CC7)(C=8C=CC=CC8)C=9C=CC=CC9)[P](C=1C=CC=CC1)(C=1C=CC=CC1)C=1C=CC=CC1'}, {'@dictRef': 'cml:inchi', '@value': 'InChI=1S/4C18H15P.Pd/c4*1-4-10-16(11-5-1)19(17-12-6-2-7-13-17)18-14-8-3-9-15-18;/h4*1-15H;'}], 'dl:entityType': 'exact'}]}, 'dl:reactionActionList': {'dl:reactionAction': [{'@action': 'Add', 'dl:phraseText': 'A degassed mixture of D39 (4.6 g, 11.16 mmol), 3-fluoro-4-formylphenylboronic acid (2.25 g, 13.4 mmol), tetrakis(triphenylphosphine)palladium(0) (258 mg, 0.223 mmol) and sodium carbonate (22.3 ml, 2M solution in water, 44.7 mmol) in 1,2-dimethoxyethane (100 ml)', 'dl:chemical': [{'@ref': 'm2'}, {'@ref': 'm3'}, {'@ref': 'm7'}, {'@ref': 'm4'}, {'@ref': 'm5'}]}, {'@action': 'Heat', 'dl:phraseText': 'was heated'}, {'@action': 'Heat', 'dl:phraseText': 'at reflux under argon for 18 h', 'dl:atmosphere': {'chemical': {'molecule': {'@id': 'm8', 'name': {'@dictRef': 'nameDict:unknown', '#text': 'argon'}}, 'identifier': [{'@dictRef': 'cml:smiles', '@value': '[Ar]'}, {'@dictRef': 'cml:inchi', '@value': 'InChI=1S/Ar'}], 'dl:entityType': 'falsePositive'}}, 'dl:parameter': {'@propertyType': 'Time', '@normalizedValue': '64800', '#text': '18 h'}}, {'@action': 'Cool', 'dl:phraseText': 'After cooling the mixture'}, {'@action': 'Add', 'dl:phraseText': 'was diluted with EtOAc (200 ml)', 'dl:chemical': {'@ref': 'm6'}}, {'@action': 'Wash', 'dl:phraseText': 'washed with water (200 ml)', 'chemical': {'molecule': {'@id': 'm9', 'name': {'@dictRef': 'nameDict:unknown', '#text': 'water'}}, 'amount': {'@dl:propertyType': 'VOLUME', '@dl:normalizedValue': '0.200', '#text': '200 ml'}, 'identifier': [{'@dictRef': 'cml:smiles', '@value': 'O'}, {'@dictRef': 'cml:inchi', '@value': 'InChI=1S/H2O/h1H2'}], 'dl:entityType': 'exact'}}, {'@action': 'Dry', 'dl:phraseText': 'The organic layer was dried (Na2SO4)', 'chemical': {'molecule': {'@id': 'm10', 'name': {'@dictRef': 'nameDict:unknown', '#text': 'Na2SO4'}}, 'identifier': [{'@dictRef': 'cml:smiles', '@value': '[O-]S(=O)(=O)[O-].[Na+].[Na+]'}, {'@dictRef': 'cml:inchi', '@value': 'InChI=1S/2Na.H2O4S/c;;1-5(2,3)4/h;;(H2,1,2,3,4)/q2*+1;/p-2'}], 'dl:entityType': 'exact'}}, {'@action': 'Concentrate', 'dl:phraseText': 'concentrated'}, {'@action': 'Yield', 'dl:phraseText': 'Chromatography on silica eluting with a 30-50% EtOAc/petroleum ether gradient afforded the title compound as a light brown solid (4.48 g)', 'chemical': {'molecule': {'@id': 'm11', 'name': {'@dictRef': 'nameDict:unknown', '#text': 'silica'}}, 'dl:entityType': 'falsePositive'}, 'dl:chemical': [{'@ref': 'm0'}, {'@ref': 'm1'}]}]}}: could not convert string to float: '30 to 50'\n",
      "Error with {'dl:source': {'dl:documentId': 'US20080312209A1', 'dl:headingText': '4-[2-(1,4-Dioxaspiro[4.5]dec-8-ylsulfonyl)-3-pyridinyl]-2-fluorobenzaldehyde (D40)', 'dl:paragraphNum': '0213', 'dl:paragraphText': 'A degassed mixture of D39 (4.6 g, 11.16 mmol), 3-fluoro-4-formylphenylboronic acid (2.25 g, 13.4 mmol), tetrakis(triphenylphosphine)palladium(0) (258 mg, 0.223 mmol) and sodium carbonate (22.3 ml, 2M solution in water, 44.7 mmol) in 1,2-dimethoxyethane (100 ml) was heated at reflux under argon for 18 h. After cooling the mixture was diluted with EtOAc (200 ml) and washed with water (200 ml). The organic layer was dried (Na2SO4) and concentrated. Chromatography on silica eluting with a 30-50% EtOAc/petroleum ether gradient afforded the title compound as a light brown solid (4.48 g). δH (CDCl3, 250 MHz) 1.81 (4H, m), 3.64 (4H, m), 3.99 (4H, s), 7.37 (2H, m), 7.54 (1H, dd), 7.73 (1H, dd), 7.94 91H, m), 8.67 (1H, d), 10.41 (1H, s).'}, 'dl:reactionSmiles': 'I[C:2]1[C:3]([S:8](N2CCC3(OCCO3)CC2)(=[O:10])=[O:9])=[N:4][CH:5]=[CH:6][CH:7]=1.[F:21][C:22]1[CH:23]=[C:24](B(O)O)[CH:25]=[CH:26][C:27]=1[CH:28]=[O:29].C(=O)([O-])[O-].[Na+].[Na+].C[O:40][CH2:41][CH2:42][O:43][CH3:44]>CCOC(C)=O.C1C=CC([P]([Pd]([P](C2C=CC=CC=2)(C2C=CC=CC=2)C2C=CC=CC=2)([P](C2C=CC=CC=2)(C2C=CC=CC=2)C2C=CC=CC=2)[P](C2C=CC=CC=2)(C2C=CC=CC=2)C2C=CC=CC=2)(C2C=CC=CC=2)C2C=CC=CC=2)=CC=1>[O:43]1[C:44]2([CH2:5][CH2:6][CH:7]([S:8]([C:3]3[C:2]([C:24]4[CH:25]=[CH:26][C:27]([CH:28]=[O:29])=[C:22]([F:21])[CH:23]=4)=[CH:7][CH:6]=[CH:5][N:4]=3)(=[O:9])=[O:10])[CH2:2][CH2:3]2)[O:40][CH2:41][CH2:42]1 |f:2.3.4,^1:54,56,75,94|', 'productList': {'product': [{'@role': 'product', 'molecule': {'@id': 'm0', 'name': {'@dictRef': 'nameDict:unknown', '#text': 'EtOAc petroleum ether'}}, 'amount': {'@dl:propertyType': 'PERCENTYIELD', '@dl:normalizedValue': '30 to 50', '#text': '30-50%'}, 'dl:entityType': 'chemicalClass'}, {'@role': 'product', 'molecule': {'@id': 'm1', 'name': {'@dictRef': 'nameDict:unknown', '#text': 'title compound'}, 'dl:nameResolved': '4-[2-(1,4-Dioxaspiro[4.5]dec-8-ylsulfonyl)-3-pyridinyl]-2-fluorobenzaldehyde'}, 'amount': {'@dl:propertyType': 'MASS', '@dl:normalizedValue': '4.48', '#text': '4.48 g'}, 'identifier': [{'@dictRef': 'cml:smiles', '@value': 'O1CCOC12CCC(CC2)S(=O)(=O)C2=NC=CC=C2C2=CC(=C(C=O)C=C2)F'}, {'@dictRef': 'cml:inchi', '@value': 'InChI=1S/C20H20FNO5S/c21-18-12-14(3-4-15(18)13-23)17-2-1-9-22-19(17)28(24,25)16-5-7-20(8-6-16)26-10-11-27-20/h1-4,9,12-13,16H,5-8,10-11H2'}], 'dl:entityType': 'definiteReference', 'dl:appearance': 'light brown', 'dl:state': 'solid'}]}, 'reactantList': {'reactant': [{'@role': 'reactant', '@count': '2', 'molecule': {'@id': 'm2', 'name': {'@dictRef': 'nameDict:unknown', '#text': 'D39'}, 'dl:nameResolved': '8-[(3-Iodo-2-pyridinyl)sulfonyl]-1,4-dioxa-8-azaspiro[4.5]decane'}, 'amount': [{'@dl:propertyType': 'AMOUNT', '@dl:normalizedValue': '0.01116', '#text': '11.16 mmol'}, {'@dl:propertyType': 'MASS', '@dl:normalizedValue': '4.6', '#text': '4.6 g'}], 'identifier': [{'@dictRef': 'cml:smiles', '@value': 'IC=1C(=NC=CC1)S(=O)(=O)N1CCC2(OCCO2)CC1'}, {'@dictRef': 'cml:inchi', '@value': 'InChI=1S/C12H15IN2O4S/c13-10-2-1-5-14-11(10)20(16,17)15-6-3-12(4-7-15)18-8-9-19-12/h1-2,5H,3-4,6-9H2'}], 'dl:entityType': 'definiteReference'}, {'@role': 'reactant', '@count': '1', 'molecule': {'@id': 'm3', 'name': {'@dictRef': 'nameDict:unknown', '#text': '3-fluoro-4-formylphenylboronic acid'}}, 'amount': [{'@dl:propertyType': 'AMOUNT', '@dl:normalizedValue': '0.0134', '#text': '13.4 mmol'}, {'@dl:propertyType': 'MASS', '@dl:normalizedValue': '2.25', '#text': '2.25 g'}], 'identifier': [{'@dictRef': 'cml:smiles', '@value': 'FC=1C=C(C=CC1C=O)B(O)O'}, {'@dictRef': 'cml:inchi', '@value': 'InChI=1S/C7H6BFO3/c9-7-3-6(8(11)12)2-1-5(7)4-10/h1-4,11-12H'}], 'dl:entityType': 'exact'}, {'@role': 'reactant', 'molecule': {'@id': 'm4', 'name': {'@dictRef': 'nameDict:unknown', '#text': 'sodium carbonate'}}, 'amount': [{'@dl:propertyType': 'AMOUNT', '@dl:normalizedValue': '0.0447', '#text': '44.7 mmol'}, {'@dl:propertyType': 'MOLARITY', '@dl:normalizedValue': '2', '#text': '2M'}, {'@dl:propertyType': 'VOLUME', '@dl:normalizedValue': '0.0223', '#text': '22.3 ml'}], 'identifier': [{'@dictRef': 'cml:smiles', '@value': 'C([O-])([O-])=O.[Na+].[Na+]'}, {'@dictRef': 'cml:inchi', '@value': 'InChI=1S/CH2O3.2Na/c2-1(3)4;;/h(H2,2,3,4);;/q;2*+1/p-2'}], 'dl:entityType': 'exact'}, {'@role': 'reactant', '@count': '1', 'molecule': {'@id': 'm5', 'name': {'@dictRef': 'nameDict:unknown', '#text': '1,2-dimethoxyethane'}}, 'amount': {'@dl:propertyType': 'VOLUME', '@dl:normalizedValue': '0.100', '#text': '100 ml'}, 'identifier': [{'@dictRef': 'cml:smiles', '@value': 'COCCOC'}, {'@dictRef': 'cml:inchi', '@value': 'InChI=1S/C4H10O2/c1-5-3-4-6-2/h3-4H2,1-2H3'}], 'dl:entityType': 'exact'}]}, 'spectatorList': {'spectator': [{'@role': 'solvent', 'molecule': {'@id': 'm6', 'name': {'@dictRef': 'nameDict:unknown', '#text': 'EtOAc'}}, 'amount': {'@dl:propertyType': 'VOLUME', '@dl:normalizedValue': '0.200', '#text': '200 ml'}, 'identifier': [{'@dictRef': 'cml:smiles', '@value': 'CCOC(=O)C'}, {'@dictRef': 'cml:inchi', '@value': 'InChI=1S/C4H8O2/c1-3-6-4(2)5/h3H2,1-2H3'}], 'dl:entityType': 'exact'}, {'@role': 'catalyst', 'molecule': {'@id': 'm7', 'name': {'@dictRef': 'nameDict:unknown', '#text': 'tetrakis(triphenylphosphine)palladium(0)'}}, 'amount': [{'@dl:propertyType': 'AMOUNT', '@dl:normalizedValue': '0.000223', '#text': '0.223 mmol'}, {'@dl:propertyType': 'MASS', '@dl:normalizedValue': '0.258', '#text': '258 mg'}], 'identifier': [{'@dictRef': 'cml:smiles', '@value': 'C=1C=CC(=CC1)[P](C=2C=CC=CC2)(C=3C=CC=CC3)[Pd]([P](C=4C=CC=CC4)(C=5C=CC=CC5)C=6C=CC=CC6)([P](C=7C=CC=CC7)(C=8C=CC=CC8)C=9C=CC=CC9)[P](C=1C=CC=CC1)(C=1C=CC=CC1)C=1C=CC=CC1'}, {'@dictRef': 'cml:inchi', '@value': 'InChI=1S/4C18H15P.Pd/c4*1-4-10-16(11-5-1)19(17-12-6-2-7-13-17)18-14-8-3-9-15-18;/h4*1-15H;'}], 'dl:entityType': 'exact'}]}, 'dl:reactionActionList': {'dl:reactionAction': [{'@action': 'Add', 'dl:phraseText': 'A degassed mixture of D39 (4.6 g, 11.16 mmol), 3-fluoro-4-formylphenylboronic acid (2.25 g, 13.4 mmol), tetrakis(triphenylphosphine)palladium(0) (258 mg, 0.223 mmol) and sodium carbonate (22.3 ml, 2M solution in water, 44.7 mmol) in 1,2-dimethoxyethane (100 ml)', 'dl:chemical': [{'@ref': 'm2'}, {'@ref': 'm3'}, {'@ref': 'm7'}, {'@ref': 'm4'}, {'@ref': 'm5'}]}, {'@action': 'Heat', 'dl:phraseText': 'was heated'}, {'@action': 'Heat', 'dl:phraseText': 'at reflux under argon for 18 h', 'dl:atmosphere': {'chemical': {'molecule': {'@id': 'm8', 'name': {'@dictRef': 'nameDict:unknown', '#text': 'argon'}}, 'identifier': [{'@dictRef': 'cml:smiles', '@value': '[Ar]'}, {'@dictRef': 'cml:inchi', '@value': 'InChI=1S/Ar'}], 'dl:entityType': 'falsePositive'}}, 'dl:parameter': {'@propertyType': 'Time', '@normalizedValue': '64800', '#text': '18 h'}}, {'@action': 'Cool', 'dl:phraseText': 'After cooling the mixture'}, {'@action': 'Add', 'dl:phraseText': 'was diluted with EtOAc (200 ml)', 'dl:chemical': {'@ref': 'm6'}}, {'@action': 'Wash', 'dl:phraseText': 'washed with water (200 ml)', 'chemical': {'molecule': {'@id': 'm9', 'name': {'@dictRef': 'nameDict:unknown', '#text': 'water'}}, 'amount': {'@dl:propertyType': 'VOLUME', '@dl:normalizedValue': '0.200', '#text': '200 ml'}, 'identifier': [{'@dictRef': 'cml:smiles', '@value': 'O'}, {'@dictRef': 'cml:inchi', '@value': 'InChI=1S/H2O/h1H2'}], 'dl:entityType': 'exact'}}, {'@action': 'Dry', 'dl:phraseText': 'The organic layer was dried (Na2SO4)', 'chemical': {'molecule': {'@id': 'm10', 'name': {'@dictRef': 'nameDict:unknown', '#text': 'Na2SO4'}}, 'identifier': [{'@dictRef': 'cml:smiles', '@value': '[O-]S(=O)(=O)[O-].[Na+].[Na+]'}, {'@dictRef': 'cml:inchi', '@value': 'InChI=1S/2Na.H2O4S/c;;1-5(2,3)4/h;;(H2,1,2,3,4)/q2*+1;/p-2'}], 'dl:entityType': 'exact'}}, {'@action': 'Concentrate', 'dl:phraseText': 'concentrated'}, {'@action': 'Yield', 'dl:phraseText': 'Chromatography on silica eluting with a 30-50% EtOAc/petroleum ether gradient afforded the title compound as a light brown solid (4.48 g)', 'chemical': {'molecule': {'@id': 'm11', 'name': {'@dictRef': 'nameDict:unknown', '#text': 'silica'}}, 'dl:entityType': 'falsePositive'}, 'dl:chemical': [{'@ref': 'm0'}, {'@ref': 'm1'}]}]}}: could not convert string to float: '30 to 50'\n",
      "Error with {'dl:source': {'dl:documentId': 'US20080312209A1', 'dl:headingText': '4-[2-(1,4-Dioxaspiro[4.5]dec-8-ylsulfonyl)-3-pyridinyl]-2-fluorobenzaldehyde (D40)', 'dl:paragraphNum': '0213', 'dl:paragraphText': 'A degassed mixture of D39 (4.6 g, 11.16 mmol), 3-fluoro-4-formylphenylboronic acid (2.25 g, 13.4 mmol), tetrakis(triphenylphosphine)palladium(0) (258 mg, 0.223 mmol) and sodium carbonate (22.3 ml, 2M solution in water, 44.7 mmol) in 1,2-dimethoxyethane (100 ml) was heated at reflux under argon for 18 h. After cooling the mixture was diluted with EtOAc (200 ml) and washed with water (200 ml). The organic layer was dried (Na2SO4) and concentrated. Chromatography on silica eluting with a 30-50% EtOAc/petroleum ether gradient afforded the title compound as a light brown solid (4.48 g). δH (CDCl3, 250 MHz) 1.81 (4H, m), 3.64 (4H, m), 3.99 (4H, s), 7.37 (2H, m), 7.54 (1H, dd), 7.73 (1H, dd), 7.94 91H, m), 8.67 (1H, d), 10.41 (1H, s).'}, 'dl:reactionSmiles': 'I[C:2]1[C:3]([S:8](N2CCC3(OCCO3)CC2)(=[O:10])=[O:9])=[N:4][CH:5]=[CH:6][CH:7]=1.[F:21][C:22]1[CH:23]=[C:24](B(O)O)[CH:25]=[CH:26][C:27]=1[CH:28]=[O:29].C(=O)([O-])[O-].[Na+].[Na+].C[O:40][CH2:41][CH2:42][O:43][CH3:44]>CCOC(C)=O.C1C=CC([P]([Pd]([P](C2C=CC=CC=2)(C2C=CC=CC=2)C2C=CC=CC=2)([P](C2C=CC=CC=2)(C2C=CC=CC=2)C2C=CC=CC=2)[P](C2C=CC=CC=2)(C2C=CC=CC=2)C2C=CC=CC=2)(C2C=CC=CC=2)C2C=CC=CC=2)=CC=1>[O:43]1[C:44]2([CH2:5][CH2:6][CH:7]([S:8]([C:3]3[C:2]([C:24]4[CH:25]=[CH:26][C:27]([CH:28]=[O:29])=[C:22]([F:21])[CH:23]=4)=[CH:7][CH:6]=[CH:5][N:4]=3)(=[O:9])=[O:10])[CH2:2][CH2:3]2)[O:40][CH2:41][CH2:42]1 |f:2.3.4,^1:54,56,75,94|', 'productList': {'product': [{'@role': 'product', 'molecule': {'@id': 'm0', 'name': {'@dictRef': 'nameDict:unknown', '#text': 'EtOAc petroleum ether'}}, 'amount': {'@dl:propertyType': 'PERCENTYIELD', '@dl:normalizedValue': '30 to 50', '#text': '30-50%'}, 'dl:entityType': 'chemicalClass'}, {'@role': 'product', 'molecule': {'@id': 'm1', 'name': {'@dictRef': 'nameDict:unknown', '#text': 'title compound'}, 'dl:nameResolved': '4-[2-(1,4-Dioxaspiro[4.5]dec-8-ylsulfonyl)-3-pyridinyl]-2-fluorobenzaldehyde'}, 'amount': {'@dl:propertyType': 'MASS', '@dl:normalizedValue': '4.48', '#text': '4.48 g'}, 'identifier': [{'@dictRef': 'cml:smiles', '@value': 'O1CCOC12CCC(CC2)S(=O)(=O)C2=NC=CC=C2C2=CC(=C(C=O)C=C2)F'}, {'@dictRef': 'cml:inchi', '@value': 'InChI=1S/C20H20FNO5S/c21-18-12-14(3-4-15(18)13-23)17-2-1-9-22-19(17)28(24,25)16-5-7-20(8-6-16)26-10-11-27-20/h1-4,9,12-13,16H,5-8,10-11H2'}], 'dl:entityType': 'definiteReference', 'dl:appearance': 'light brown', 'dl:state': 'solid'}]}, 'reactantList': {'reactant': [{'@role': 'reactant', '@count': '2', 'molecule': {'@id': 'm2', 'name': {'@dictRef': 'nameDict:unknown', '#text': 'D39'}, 'dl:nameResolved': '8-[(3-Iodo-2-pyridinyl)sulfonyl]-1,4-dioxa-8-azaspiro[4.5]decane'}, 'amount': [{'@dl:propertyType': 'AMOUNT', '@dl:normalizedValue': '0.01116', '#text': '11.16 mmol'}, {'@dl:propertyType': 'MASS', '@dl:normalizedValue': '4.6', '#text': '4.6 g'}], 'identifier': [{'@dictRef': 'cml:smiles', '@value': 'IC=1C(=NC=CC1)S(=O)(=O)N1CCC2(OCCO2)CC1'}, {'@dictRef': 'cml:inchi', '@value': 'InChI=1S/C12H15IN2O4S/c13-10-2-1-5-14-11(10)20(16,17)15-6-3-12(4-7-15)18-8-9-19-12/h1-2,5H,3-4,6-9H2'}], 'dl:entityType': 'definiteReference'}, {'@role': 'reactant', '@count': '1', 'molecule': {'@id': 'm3', 'name': {'@dictRef': 'nameDict:unknown', '#text': '3-fluoro-4-formylphenylboronic acid'}}, 'amount': [{'@dl:propertyType': 'AMOUNT', '@dl:normalizedValue': '0.0134', '#text': '13.4 mmol'}, {'@dl:propertyType': 'MASS', '@dl:normalizedValue': '2.25', '#text': '2.25 g'}], 'identifier': [{'@dictRef': 'cml:smiles', '@value': 'FC=1C=C(C=CC1C=O)B(O)O'}, {'@dictRef': 'cml:inchi', '@value': 'InChI=1S/C7H6BFO3/c9-7-3-6(8(11)12)2-1-5(7)4-10/h1-4,11-12H'}], 'dl:entityType': 'exact'}, {'@role': 'reactant', 'molecule': {'@id': 'm4', 'name': {'@dictRef': 'nameDict:unknown', '#text': 'sodium carbonate'}}, 'amount': [{'@dl:propertyType': 'AMOUNT', '@dl:normalizedValue': '0.0447', '#text': '44.7 mmol'}, {'@dl:propertyType': 'MOLARITY', '@dl:normalizedValue': '2', '#text': '2M'}, {'@dl:propertyType': 'VOLUME', '@dl:normalizedValue': '0.0223', '#text': '22.3 ml'}], 'identifier': [{'@dictRef': 'cml:smiles', '@value': 'C([O-])([O-])=O.[Na+].[Na+]'}, {'@dictRef': 'cml:inchi', '@value': 'InChI=1S/CH2O3.2Na/c2-1(3)4;;/h(H2,2,3,4);;/q;2*+1/p-2'}], 'dl:entityType': 'exact'}, {'@role': 'reactant', '@count': '1', 'molecule': {'@id': 'm5', 'name': {'@dictRef': 'nameDict:unknown', '#text': '1,2-dimethoxyethane'}}, 'amount': {'@dl:propertyType': 'VOLUME', '@dl:normalizedValue': '0.100', '#text': '100 ml'}, 'identifier': [{'@dictRef': 'cml:smiles', '@value': 'COCCOC'}, {'@dictRef': 'cml:inchi', '@value': 'InChI=1S/C4H10O2/c1-5-3-4-6-2/h3-4H2,1-2H3'}], 'dl:entityType': 'exact'}]}, 'spectatorList': {'spectator': [{'@role': 'solvent', 'molecule': {'@id': 'm6', 'name': {'@dictRef': 'nameDict:unknown', '#text': 'EtOAc'}}, 'amount': {'@dl:propertyType': 'VOLUME', '@dl:normalizedValue': '0.200', '#text': '200 ml'}, 'identifier': [{'@dictRef': 'cml:smiles', '@value': 'CCOC(=O)C'}, {'@dictRef': 'cml:inchi', '@value': 'InChI=1S/C4H8O2/c1-3-6-4(2)5/h3H2,1-2H3'}], 'dl:entityType': 'exact'}, {'@role': 'catalyst', 'molecule': {'@id': 'm7', 'name': {'@dictRef': 'nameDict:unknown', '#text': 'tetrakis(triphenylphosphine)palladium(0)'}}, 'amount': [{'@dl:propertyType': 'AMOUNT', '@dl:normalizedValue': '0.000223', '#text': '0.223 mmol'}, {'@dl:propertyType': 'MASS', '@dl:normalizedValue': '0.258', '#text': '258 mg'}], 'identifier': [{'@dictRef': 'cml:smiles', '@value': 'C=1C=CC(=CC1)[P](C=2C=CC=CC2)(C=3C=CC=CC3)[Pd]([P](C=4C=CC=CC4)(C=5C=CC=CC5)C=6C=CC=CC6)([P](C=7C=CC=CC7)(C=8C=CC=CC8)C=9C=CC=CC9)[P](C=1C=CC=CC1)(C=1C=CC=CC1)C=1C=CC=CC1'}, {'@dictRef': 'cml:inchi', '@value': 'InChI=1S/4C18H15P.Pd/c4*1-4-10-16(11-5-1)19(17-12-6-2-7-13-17)18-14-8-3-9-15-18;/h4*1-15H;'}], 'dl:entityType': 'exact'}]}, 'dl:reactionActionList': {'dl:reactionAction': [{'@action': 'Add', 'dl:phraseText': 'A degassed mixture of D39 (4.6 g, 11.16 mmol), 3-fluoro-4-formylphenylboronic acid (2.25 g, 13.4 mmol), tetrakis(triphenylphosphine)palladium(0) (258 mg, 0.223 mmol) and sodium carbonate (22.3 ml, 2M solution in water, 44.7 mmol) in 1,2-dimethoxyethane (100 ml)', 'dl:chemical': [{'@ref': 'm2'}, {'@ref': 'm3'}, {'@ref': 'm7'}, {'@ref': 'm4'}, {'@ref': 'm5'}]}, {'@action': 'Heat', 'dl:phraseText': 'was heated'}, {'@action': 'Heat', 'dl:phraseText': 'at reflux under argon for 18 h', 'dl:atmosphere': {'chemical': {'molecule': {'@id': 'm8', 'name': {'@dictRef': 'nameDict:unknown', '#text': 'argon'}}, 'identifier': [{'@dictRef': 'cml:smiles', '@value': '[Ar]'}, {'@dictRef': 'cml:inchi', '@value': 'InChI=1S/Ar'}], 'dl:entityType': 'falsePositive'}}, 'dl:parameter': {'@propertyType': 'Time', '@normalizedValue': '64800', '#text': '18 h'}}, {'@action': 'Cool', 'dl:phraseText': 'After cooling the mixture'}, {'@action': 'Add', 'dl:phraseText': 'was diluted with EtOAc (200 ml)', 'dl:chemical': {'@ref': 'm6'}}, {'@action': 'Wash', 'dl:phraseText': 'washed with water (200 ml)', 'chemical': {'molecule': {'@id': 'm9', 'name': {'@dictRef': 'nameDict:unknown', '#text': 'water'}}, 'amount': {'@dl:propertyType': 'VOLUME', '@dl:normalizedValue': '0.200', '#text': '200 ml'}, 'identifier': [{'@dictRef': 'cml:smiles', '@value': 'O'}, {'@dictRef': 'cml:inchi', '@value': 'InChI=1S/H2O/h1H2'}], 'dl:entityType': 'exact'}}, {'@action': 'Dry', 'dl:phraseText': 'The organic layer was dried (Na2SO4)', 'chemical': {'molecule': {'@id': 'm10', 'name': {'@dictRef': 'nameDict:unknown', '#text': 'Na2SO4'}}, 'identifier': [{'@dictRef': 'cml:smiles', '@value': '[O-]S(=O)(=O)[O-].[Na+].[Na+]'}, {'@dictRef': 'cml:inchi', '@value': 'InChI=1S/2Na.H2O4S/c;;1-5(2,3)4/h;;(H2,1,2,3,4)/q2*+1;/p-2'}], 'dl:entityType': 'exact'}}, {'@action': 'Concentrate', 'dl:phraseText': 'concentrated'}, {'@action': 'Yield', 'dl:phraseText': 'Chromatography on silica eluting with a 30-50% EtOAc/petroleum ether gradient afforded the title compound as a light brown solid (4.48 g)', 'chemical': {'molecule': {'@id': 'm11', 'name': {'@dictRef': 'nameDict:unknown', '#text': 'silica'}}, 'dl:entityType': 'falsePositive'}, 'dl:chemical': [{'@ref': 'm0'}, {'@ref': 'm1'}]}]}}: could not convert string to float: '30 to 50'\n",
      "Error with {'dl:source': {'dl:documentId': 'US20080269192A1', 'dl:paragraphNum': '0852', 'dl:paragraphText': 'N-[(1S)-1-({[tert-Butyl(dimethyl)silyl]oxy}methyl)-2-methylpropyl]quinoline-3,4-diamine (5.05 g, 14.0 mmol) was dissolved in 140 mL of dry 1,2-dichloroethane and the solution was stirred under N2. Ethyl 2-chloroethanimidoate hydrochloride (3.33 g, 21.1 mmol) was then added and the reaction mixture was heated to 70° C. After stirring for 2 days, the reaction mixture was cooled and treated with 70 mL of CHCl3 and 100 mL of saturated sodium bicarbonate (NaHCO3) solution. The layers were separated and the organic portion was washed with H2O and brine. The organic portion was then dried over Na2SO4, filtered and concentrated under reduced pressure. Chromatography (SiO2, 33%-50% ethyl acetate/hexanes) gave 1-[(1S)-1-({[tert-butyl(dimethyl)silyl]oxy}methyl)-2-methylpropyl]-2-(chloromethyl)-1H-imidazo[4,5-c]quinoline (4.85 g) as a dull yellow solid.'}, 'dl:reactionSmiles': '[Si:1]([O:8][CH2:9][C@@H:10]([NH:14][C:15]1C=NC2C(C=1N)=CC=CC=2)[CH:11]([CH3:13])[CH3:12])([C:4]([CH3:7])([CH3:6])[CH3:5])([CH3:3])[CH3:2].Cl.Cl[CH2:28][C:29](=[NH:33])OCC.[CH:34]([Cl:37])(Cl)Cl.C(=O)(O)[O-].[Na+].Cl[CH2:44][CH2:45]Cl>>[Si:1]([O:8][CH2:9][C@@H:10]([N:14]1[C:45]2[C:44]3[CH:6]=[CH:4][CH:5]=[CH:28][C:29]=3[N:33]=[CH:9][C:10]=2[N:14]=[C:15]1[CH2:34][Cl:37])[CH:11]([CH3:12])[CH3:13])([C:4]([CH3:5])([CH3:6])[CH3:7])([CH3:2])[CH3:3] |f:1.2,4.5|', 'productList': {'product': [{'@role': 'product', 'molecule': {'@id': 'm0', 'name': {'@dictRef': 'nameDict:unknown', '#text': 'ethyl acetate hexanes'}}, 'amount': {'@dl:propertyType': 'PERCENTYIELD', '@dl:normalizedValue': '33 to 50', '#text': '33%-50%'}, 'dl:entityType': 'chemicalClass'}, {'@role': 'product', 'molecule': {'@id': 'm1', 'name': {'@dictRef': 'nameDict:unknown', '#text': '1-[(1S)-1-({[tert-butyl(dimethyl)silyl]oxy}methyl)-2-methylpropyl]-2-(chloromethyl)-1H-imidazo[4,5-c]quinoline'}}, 'amount': {'@dl:propertyType': 'MASS', '@dl:normalizedValue': '4.85', '#text': '4.85 g'}, 'identifier': [{'@dictRef': 'cml:smiles', '@value': '[Si](C)(C)(C(C)(C)C)OC[C@H](C(C)C)N1C(=NC=2C=NC=3C=CC=CC3C21)CCl'}, {'@dictRef': 'cml:inchi', '@value': 'InChI=1S/C22H32ClN3OSi/c1-15(2)19(14-27-28(6,7)22(3,4)5)26-20(12-23)25-18-13-24-17-11-9-8-10-16(17)21(18)26/h8-11,13,15,19H,12,14H2,1-7H3/t19-/m1/s1'}], 'dl:entityType': 'exact', 'dl:appearance': 'dull yellow', 'dl:state': 'solid'}]}, 'reactantList': {'reactant': [{'@role': 'reactant', '@count': '2', 'molecule': {'@id': 'm2', 'name': {'@dictRef': 'nameDict:unknown', '#text': 'N-[(1S)-1-({[tert-Butyl(dimethyl)silyl]oxy}methyl)-2-methylpropyl]quinoline-3,4-diamine'}}, 'amount': [{'@dl:propertyType': 'AMOUNT', '@dl:normalizedValue': '0.0140', '#text': '14.0 mmol'}, {'@dl:propertyType': 'MASS', '@dl:normalizedValue': '5.05', '#text': '5.05 g'}], 'identifier': [{'@dictRef': 'cml:smiles', '@value': '[Si](C)(C)(C(C)(C)C)OC[C@H](C(C)C)NC=1C=NC2=CC=CC=C2C1N'}, {'@dictRef': 'cml:inchi', '@value': 'InChI=1S/C20H33N3OSi/c1-14(2)18(13-24-25(6,7)20(3,4)5)23-17-12-22-16-11-9-8-10-15(16)19(17)21/h8-12,14,18,23H,13H2,1-7H3,(H2,21,22)/t18-/m1/s1'}], 'dl:entityType': 'exact'}, {'@role': 'reactant', '@count': '1', 'molecule': {'@id': 'm3', 'name': {'@dictRef': 'nameDict:unknown', '#text': 'Ethyl 2-chloroethanimidoate hydrochloride'}}, 'amount': [{'@dl:propertyType': 'AMOUNT', '@dl:normalizedValue': '0.0211', '#text': '21.1 mmol'}, {'@dl:propertyType': 'MASS', '@dl:normalizedValue': '3.33', '#text': '3.33 g'}], 'identifier': [{'@dictRef': 'cml:smiles', '@value': 'Cl.ClCC(OCC)=N'}, {'@dictRef': 'cml:inchi', '@value': 'InChI=1S/C4H8ClNO.ClH/c1-2-7-4(6)3-5;/h6H,2-3H2,1H3;1H'}], 'dl:entityType': 'exact'}, {'@role': 'reactant', '@count': '1', 'molecule': {'@id': 'm4', 'name': {'@dictRef': 'nameDict:unknown', '#text': 'CHCl3'}}, 'amount': {'@dl:propertyType': 'VOLUME', '@dl:normalizedValue': '0.070', '#text': '70 mL'}, 'identifier': [{'@dictRef': 'cml:smiles', '@value': 'C(Cl)(Cl)Cl'}, {'@dictRef': 'cml:inchi', '@value': 'InChI=1S/CHCl3/c2-1(3)4/h1H'}], 'dl:entityType': 'exact'}, {'@role': 'reactant', 'molecule': {'@id': 'm5', 'name': {'@dictRef': 'nameDict:unknown', '#text': 'sodium bicarbonate'}}, 'amount': {'@dl:propertyType': 'VOLUME', '@dl:normalizedValue': '0.100', '#text': '100 mL'}, 'identifier': [{'@dictRef': 'cml:smiles', '@value': 'C([O-])(O)=O.[Na+]'}, {'@dictRef': 'cml:inchi', '@value': 'InChI=1S/CH2O3.Na/c2-1(3)4;/h(H2,2,3,4);/q;+1/p-1'}], 'dl:entityType': 'exact'}, {'@role': 'reactant', '@count': '1', 'molecule': {'@id': 'm6', 'name': {'@dictRef': 'nameDict:unknown', '#text': '1,2-dichloroethane'}}, 'amount': {'@dl:propertyType': 'VOLUME', '@dl:normalizedValue': '0.140', '#text': '140 mL'}, 'identifier': [{'@dictRef': 'cml:smiles', '@value': 'ClCCCl'}, {'@dictRef': 'cml:inchi', '@value': 'InChI=1S/C2H4Cl2/c3-1-2-4/h1-2H2'}], 'dl:entityType': 'exact'}]}, 'spectatorList': None, 'dl:reactionActionList': {'dl:reactionAction': [{'@action': 'Dissolve', 'dl:phraseText': 'N-[(1S)-1-({[tert-Butyl(dimethyl)silyl]oxy}methyl)-2-methylpropyl]quinoline-3,4-diamine (5.05 g, 14.0 mmol) was dissolved in 140 mL of dry 1,2-dichloroethane', 'dl:chemical': [{'@ref': 'm2'}, {'@ref': 'm6'}]}, {'@action': 'Stir', 'dl:phraseText': 'the solution was stirred under N2', 'dl:atmosphere': {'chemical': {'molecule': {'@id': 'm7', 'name': {'@dictRef': 'nameDict:unknown', '#text': 'N2'}}, 'identifier': [{'@dictRef': 'cml:smiles', '@value': 'N#N'}, {'@dictRef': 'cml:inchi', '@value': 'InChI=1S/N2/c1-2'}], 'dl:entityType': 'falsePositive'}}}, {'@action': 'Add', 'dl:phraseText': 'Ethyl 2-chloroethanimidoate hydrochloride (3.33 g, 21.1 mmol) was then added', 'dl:chemical': {'@ref': 'm3'}}, {'@action': 'Heat', 'dl:phraseText': 'the reaction mixture was heated to 70° C', 'dl:parameter': {'@propertyType': 'Temperature', '@normalizedValue': '70', '#text': '70° C'}}, {'@action': 'Stir', 'dl:phraseText': 'After stirring for 2 days', 'dl:parameter': {'@propertyType': 'Time', '@normalizedValue': '172800', '#text': '2 days'}}, {'@action': 'Cool', 'dl:phraseText': 'the reaction mixture was cooled'}, {'@action': 'Add', 'dl:phraseText': 'treated with 70 mL of CHCl3 and 100 mL of saturated sodium bicarbonate (NaHCO3) solution', 'dl:chemical': [{'@ref': 'm4'}, {'@ref': 'm5'}]}, {'@action': 'Partition', 'dl:phraseText': 'The layers were separated'}, {'@action': 'Wash', 'dl:phraseText': 'the organic portion was washed with H2O and brine', 'chemical': [{'molecule': {'@id': 'm8', 'name': {'@dictRef': 'nameDict:unknown', '#text': 'H2O'}}, 'identifier': [{'@dictRef': 'cml:smiles', '@value': 'O'}, {'@dictRef': 'cml:inchi', '@value': 'InChI=1S/H2O/h1H2'}], 'dl:entityType': 'exact'}, {'molecule': {'@id': 'm9', 'name': {'@dictRef': 'nameDict:unknown', '#text': 'brine'}}, 'identifier': [{'@dictRef': 'cml:smiles', '@value': '[Cl-].[Na+].O'}, {'@dictRef': 'cml:inchi', '@value': 'InChI=1S/ClH.Na.H2O/h1H;;1H2/q;+1;/p-1'}], 'dl:entityType': 'exact'}]}, {'@action': 'Dry', 'dl:phraseText': 'The organic portion was then dried over Na2SO4', 'chemical': {'molecule': {'@id': 'm10', 'name': {'@dictRef': 'nameDict:unknown', '#text': 'Na2SO4'}}, 'identifier': [{'@dictRef': 'cml:smiles', '@value': '[O-]S(=O)(=O)[O-].[Na+].[Na+]'}, {'@dictRef': 'cml:inchi', '@value': 'InChI=1S/2Na.H2O4S/c;;1-5(2,3)4/h;;(H2,1,2,3,4)/q2*+1;/p-2'}], 'dl:entityType': 'exact'}}, {'@action': 'Filter', 'dl:phraseText': 'filtered'}, {'@action': 'Concentrate', 'dl:phraseText': 'concentrated under reduced pressure', 'dl:parameter': {'@propertyType': 'Pressure', '@normalizedValue': 'reduced pressure', '#text': 'reduced pressure'}}, {'@action': 'Yield', 'dl:phraseText': 'Chromatography (SiO2, 33%-50% ethyl acetate/hexanes) gave 1-[(1S)-1-({[tert-butyl(dimethyl)silyl]oxy}methyl)-2-methylpropyl]-2-(chloromethyl)-1H-imidazo[4,5-c]quinoline (4.85 g) as a dull yellow solid', 'chemical': {'molecule': {'@id': 'm11', 'name': {'@dictRef': 'nameDict:unknown', '#text': 'SiO2'}}, 'dl:entityType': 'falsePositive'}, 'dl:chemical': [{'@ref': 'm0'}, {'@ref': 'm1'}]}]}}: could not convert string to float: '33 to 50'\n",
      "Error with {'dl:source': {'dl:documentId': 'US20080171737A1', 'dl:paragraphNum': '1041', 'dl:paragraphText': 'A solution of 3-(2-bromoethyl)-1-phenyl-3,4-dihydro-1H-2,1-benzothiazine 2,2-dioxide (example 23, step 2) (100 mg) in dichloromethane (1 mL) and ethanol (1 mL) was treated with N-Boc-piperazine (76 mg)) and i-Pr2NEt (70 mL) and heated in a capped vial at 80° C. for 16 hours. The reaction mixture was cooled to room temperature, diluted with dichloromethane, washed with H2O, dried (Na2SO4), and evaporated. Flash chromatography (SiO2, 0-100% ethyl acetate/hexanes) provided tert-butyl 4-[2-(2,2-dioxido-1-phenyl-1H-4,2,1-benzoxathiazin-3-yl)ethyl]piperazine-1-carboxylate (144 mg) as a yellow oil.'}, 'dl:reactionSmiles': 'Br[CH2:2][CH2:3][CH:4]1C[C:8]2[CH:10]=[CH:11][CH:12]=[CH:13][C:7]=2[N:6]([C:14]2[CH:19]=[CH:18][CH:17]=[CH:16][CH:15]=2)[S:5]1(=[O:21])=[O:20].[C:22]([N:29]1[CH2:34][CH2:33][NH:32][CH2:31][CH2:30]1)([O:24][C:25]([CH3:28])([CH3:27])[CH3:26])=[O:23].CCN(C(C)C)C(C)C.C([OH:46])C>ClCCl>[O:20]=[S:5]1(=[O:21])[CH:4]([CH2:3][CH2:2][N:32]2[CH2:31][CH2:30][N:29]([C:22]([O:24][C:25]([CH3:28])([CH3:27])[CH3:26])=[O:23])[CH2:34][CH2:33]2)[O:46][C:8]2[CH:10]=[CH:11][CH:12]=[CH:13][C:7]=2[N:6]1[C:14]1[CH:19]=[CH:18][CH:17]=[CH:16][CH:15]=1', 'productList': {'product': [{'@role': 'product', 'molecule': {'@id': 'm0', 'name': {'@dictRef': 'nameDict:unknown', '#text': 'ethyl acetate hexanes'}}, 'amount': {'@dl:propertyType': 'PERCENTYIELD', '@dl:normalizedValue': '0 to 100', '#text': '0-100%'}, 'dl:entityType': 'chemicalClass'}, {'@role': 'product', 'molecule': {'@id': 'm1', 'name': {'@dictRef': 'nameDict:unknown', '#text': 'tert-butyl 4-[2-(2,2-dioxido-1-phenyl-1H-4,2,1-benzoxathiazin-3-yl)ethyl]piperazine-1-carboxylate'}}, 'amount': {'@dl:propertyType': 'MASS', '@dl:normalizedValue': '0.144', '#text': '144 mg'}, 'identifier': [{'@dictRef': 'cml:smiles', '@value': 'O=S1(N(C2=C(OC1CCN1CCN(CC1)C(=O)OC(C)(C)C)C=CC=C2)C2=CC=CC=C2)=O'}, {'@dictRef': 'cml:inchi', '@value': 'InChI=1S/C24H31N3O5S/c1-24(2,3)32-23(28)26-17-15-25(16-18-26)14-13-22-31-21-12-8-7-11-20(21)27(33(22,29)30)19-9-5-4-6-10-19/h4-12,22H,13-18H2,1-3H3'}], 'dl:entityType': 'exact', 'dl:appearance': 'yellow', 'dl:state': 'oil'}]}, 'reactantList': {'reactant': [{'@role': 'reactant', '@count': '1', 'molecule': {'@id': 'm2', 'name': {'@dictRef': 'nameDict:unknown', '#text': '3-(2-bromoethyl)-1-phenyl-3,4-dihydro-1H-2,1-benzothiazine 2,2-dioxide'}}, 'amount': {'@dl:propertyType': 'MASS', '@dl:normalizedValue': '0.100', '#text': '100 mg'}, 'identifier': [{'@dictRef': 'cml:smiles', '@value': 'BrCCC1S(N(C2=C(C1)C=CC=C2)C2=CC=CC=C2)(=O)=O'}, {'@dictRef': 'cml:inchi', '@value': 'InChI=1S/C16H16BrNO2S/c17-11-10-15-12-13-6-4-5-9-16(13)18(21(15,19)20)14-7-2-1-3-8-14/h1-9,15H,10-12H2'}], 'dl:entityType': 'definiteReference'}, {'@role': 'reactant', '@count': '1', 'molecule': {'@id': 'm3', 'name': {'@dictRef': 'nameDict:unknown', '#text': 'N-Boc-piperazine'}}, 'amount': {'@dl:propertyType': 'MASS', '@dl:normalizedValue': '0.076', '#text': '76 mg'}, 'identifier': [{'@dictRef': 'cml:smiles', '@value': 'C(=O)(OC(C)(C)C)N1CCNCC1'}, {'@dictRef': 'cml:inchi', '@value': 'InChI=1S/C9H18N2O2/c1-9(2,3)13-8(12)11-6-4-10-5-7-11/h10H,4-7H2,1-3H3'}], 'dl:entityType': 'exact'}, {'@role': 'reactant', 'molecule': {'@id': 'm4', 'name': {'@dictRef': 'nameDict:unknown', '#text': 'i-Pr2NEt'}}, 'amount': {'@dl:propertyType': 'VOLUME', '@dl:normalizedValue': '0.070', '#text': '70 mL'}, 'identifier': [{'@dictRef': 'cml:smiles', '@value': 'CCN(C(C)C)C(C)C'}, {'@dictRef': 'cml:inchi', '@value': 'InChI=1S/C8H19N/c1-6-9(7(2)3)8(4)5/h7-8H,6H2,1-5H3'}], 'dl:entityType': 'exact'}, {'@role': 'reactant', '@count': '1', 'molecule': {'@id': 'm5', 'name': {'@dictRef': 'nameDict:unknown', '#text': 'ethanol'}}, 'amount': {'@dl:propertyType': 'VOLUME', '@dl:normalizedValue': '0.001', '#text': '1 mL'}, 'identifier': [{'@dictRef': 'cml:smiles', '@value': 'C(C)O'}, {'@dictRef': 'cml:inchi', '@value': 'InChI=1S/C2H6O/c1-2-3/h3H,2H2,1H3'}], 'dl:entityType': 'exact'}]}, 'spectatorList': {'spectator': [{'@role': 'solvent', 'molecule': {'@id': 'm6', 'name': {'@dictRef': 'nameDict:unknown', '#text': 'dichloromethane'}}, 'amount': {'@dl:propertyType': 'VOLUME', '@dl:normalizedValue': '0.001', '#text': '1 mL'}, 'identifier': [{'@dictRef': 'cml:smiles', '@value': 'ClCCl'}, {'@dictRef': 'cml:inchi', '@value': 'InChI=1S/CH2Cl2/c2-1-3/h1H2'}], 'dl:entityType': 'exact'}, {'@role': 'solvent', 'molecule': {'@id': 'm7', 'name': {'@dictRef': 'nameDict:unknown', '#text': 'dichloromethane'}}, 'identifier': [{'@dictRef': 'cml:smiles', '@value': 'ClCCl'}, {'@dictRef': 'cml:inchi', '@value': 'InChI=1S/CH2Cl2/c2-1-3/h1H2'}], 'dl:entityType': 'exact'}]}, 'dl:reactionActionList': {'dl:reactionAction': [{'@action': 'Add', 'dl:phraseText': 'A solution of 3-(2-bromoethyl)-1-phenyl-3,4-dihydro-1H-2,1-benzothiazine 2,2-dioxide (example 23, step 2) (100 mg) in dichloromethane (1 mL) and ethanol (1 mL) was treated with N-Boc-piperazine (76 mg)) and i-Pr2NEt (70 mL)', 'dl:chemical': [{'@ref': 'm2'}, {'@ref': 'm6'}, {'@ref': 'm5'}, {'@ref': 'm3'}, {'@ref': 'm4'}]}, {'@action': 'Heat', 'dl:phraseText': 'heated in a capped vial at 80° C. for 16 hours', 'dl:parameter': [{'@propertyType': 'Time', '@normalizedValue': '57600', '#text': '16 hours'}, {'@propertyType': 'Temperature', '@normalizedValue': '80', '#text': '80° C.'}]}, {'@action': 'Cool', 'dl:phraseText': 'The reaction mixture was cooled to room temperature', 'dl:parameter': {'@propertyType': 'Temperature', '@normalizedValue': 'room temperature', '#text': 'room temperature'}}, {'@action': 'Add', 'dl:phraseText': 'diluted with dichloromethane', 'dl:chemical': {'@ref': 'm7'}}, {'@action': 'Wash', 'dl:phraseText': 'washed with H2O', 'chemical': {'molecule': {'@id': 'm8', 'name': {'@dictRef': 'nameDict:unknown', '#text': 'H2O'}}, 'identifier': [{'@dictRef': 'cml:smiles', '@value': 'O'}, {'@dictRef': 'cml:inchi', '@value': 'InChI=1S/H2O/h1H2'}], 'dl:entityType': 'exact'}}, {'@action': 'Dry', 'dl:phraseText': 'dried (Na2SO4)', 'chemical': {'molecule': {'@id': 'm9', 'name': {'@dictRef': 'nameDict:unknown', '#text': 'Na2SO4'}}, 'identifier': [{'@dictRef': 'cml:smiles', '@value': '[O-]S(=O)(=O)[O-].[Na+].[Na+]'}, {'@dictRef': 'cml:inchi', '@value': 'InChI=1S/2Na.H2O4S/c;;1-5(2,3)4/h;;(H2,1,2,3,4)/q2*+1;/p-2'}], 'dl:entityType': 'exact'}}, {'@action': 'Remove', 'dl:phraseText': 'evaporated'}, {'@action': 'Yield', 'dl:phraseText': 'Flash chromatography (SiO2, 0-100% ethyl acetate/hexanes) provided tert-butyl 4-[2-(2,2-dioxido-1-phenyl-1H-4,2,1-benzoxathiazin-3-yl)ethyl]piperazine-1-carboxylate (144 mg) as a yellow oil', 'chemical': {'molecule': {'@id': 'm10', 'name': {'@dictRef': 'nameDict:unknown', '#text': 'SiO2'}}, 'dl:entityType': 'falsePositive'}, 'dl:chemical': [{'@ref': 'm0'}, {'@ref': 'm1'}]}]}}: could not convert string to float: '0 to 100'\n",
      "Error with {'dl:source': {'dl:documentId': 'US20080171737A1', 'dl:paragraphNum': '1046', 'dl:paragraphText': 'A solution of 3-(2-bromoethyl)-1-phenyl-3,4-dihydro-1H-2,1-benzothiazine 2,2-dioxide (example 23, step 2) (100 mg) in dimethylformamide (1 mL) was treated with N-Boc-homopiperazine (0.106 mL) and i-Pr2NEt (0.90 mL) and heated in a capped vial at 80° C. for 16 hours. The reaction mixture was cooled to room temperature, diluted with dichloromethane, washed with H2O, dried (Na2SO4), and evaporated. Flash chromatography (SiO2, 0-100% ethyl acetate/hexanes) provided tert-butyl 4-[2-(2,2-dioxido-1-phenyl-1H-4,2,1-benzoxathiazin-3-yl)ethyl]-1,4-diazepane-1-carboxylate (175 mg) as a yellow oil:'}, 'dl:reactionSmiles': 'Br[CH2:2][CH2:3][CH:4]1C[C:8]2[CH:10]=[CH:11][CH:12]=[CH:13][C:7]=2[N:6]([C:14]2[CH:19]=[CH:18][CH:17]=[CH:16][CH:15]=2)[S:5]1(=[O:21])=[O:20].[C:22]([N:29]1[CH2:35][CH2:34][CH2:33][NH:32][CH2:31][CH2:30]1)([O:24][C:25]([CH3:28])([CH3:27])[CH3:26])=[O:23].CCN(C(C)C)C(C)C.CN(C)C=[O:48]>ClCCl>[O:20]=[S:5]1(=[O:21])[CH:4]([CH2:3][CH2:2][N:32]2[CH2:33][CH2:34][CH2:35][N:29]([C:22]([O:24][C:25]([CH3:28])([CH3:27])[CH3:26])=[O:23])[CH2:30][CH2:31]2)[O:48][C:8]2[CH:10]=[CH:11][CH:12]=[CH:13][C:7]=2[N:6]1[C:14]1[CH:19]=[CH:18][CH:17]=[CH:16][CH:15]=1', 'productList': {'product': [{'@role': 'product', 'molecule': {'@id': 'm0', 'name': {'@dictRef': 'nameDict:unknown', '#text': 'ethyl acetate hexanes'}}, 'amount': {'@dl:propertyType': 'PERCENTYIELD', '@dl:normalizedValue': '0 to 100', '#text': '0-100%'}, 'dl:entityType': 'chemicalClass'}, {'@role': 'product', 'molecule': {'@id': 'm1', 'name': {'@dictRef': 'nameDict:unknown', '#text': 'tert-butyl 4-[2-(2,2-dioxido-1-phenyl-1H-4,2,1-benzoxathiazin-3-yl)ethyl]-1,4-diazepane-1-carboxylate'}}, 'amount': {'@dl:propertyType': 'MASS', '@dl:normalizedValue': '0.175', '#text': '175 mg'}, 'identifier': [{'@dictRef': 'cml:smiles', '@value': 'O=S1(N(C2=C(OC1CCN1CCN(CCC1)C(=O)OC(C)(C)C)C=CC=C2)C2=CC=CC=C2)=O'}, {'@dictRef': 'cml:inchi', '@value': 'InChI=1S/C25H33N3O5S/c1-25(2,3)33-24(29)27-16-9-15-26(18-19-27)17-14-23-32-22-13-8-7-12-21(22)28(34(23,30)31)20-10-5-4-6-11-20/h4-8,10-13,23H,9,14-19H2,1-3H3'}], 'dl:entityType': 'exact', 'dl:appearance': 'yellow', 'dl:state': 'oil'}]}, 'reactantList': {'reactant': [{'@role': 'reactant', '@count': '1', 'molecule': {'@id': 'm2', 'name': {'@dictRef': 'nameDict:unknown', '#text': '3-(2-bromoethyl)-1-phenyl-3,4-dihydro-1H-2,1-benzothiazine 2,2-dioxide'}}, 'amount': {'@dl:propertyType': 'MASS', '@dl:normalizedValue': '0.100', '#text': '100 mg'}, 'identifier': [{'@dictRef': 'cml:smiles', '@value': 'BrCCC1S(N(C2=C(C1)C=CC=C2)C2=CC=CC=C2)(=O)=O'}, {'@dictRef': 'cml:inchi', '@value': 'InChI=1S/C16H16BrNO2S/c17-11-10-15-12-13-6-4-5-9-16(13)18(21(15,19)20)14-7-2-1-3-8-14/h1-9,15H,10-12H2'}], 'dl:entityType': 'definiteReference'}, {'@role': 'reactant', '@count': '1', 'molecule': {'@id': 'm3', 'name': {'@dictRef': 'nameDict:unknown', '#text': 'N-Boc-homopiperazine'}}, 'amount': {'@dl:propertyType': 'VOLUME', '@dl:normalizedValue': '0.000106', '#text': '0.106 mL'}, 'identifier': [{'@dictRef': 'cml:smiles', '@value': 'C(=O)(OC(C)(C)C)N1CCNCCC1'}, {'@dictRef': 'cml:inchi', '@value': 'InChI=1S/C10H20N2O2/c1-10(2,3)14-9(13)12-7-4-5-11-6-8-12/h11H,4-8H2,1-3H3'}], 'dl:entityType': 'exact'}, {'@role': 'reactant', 'molecule': {'@id': 'm4', 'name': {'@dictRef': 'nameDict:unknown', '#text': 'i-Pr2NEt'}}, 'amount': {'@dl:propertyType': 'VOLUME', '@dl:normalizedValue': '0.00090', '#text': '0.90 mL'}, 'identifier': [{'@dictRef': 'cml:smiles', '@value': 'CCN(C(C)C)C(C)C'}, {'@dictRef': 'cml:inchi', '@value': 'InChI=1S/C8H19N/c1-6-9(7(2)3)8(4)5/h7-8H,6H2,1-5H3'}], 'dl:entityType': 'exact'}, {'@role': 'reactant', '@count': '1', 'molecule': {'@id': 'm5', 'name': {'@dictRef': 'nameDict:unknown', '#text': 'dimethylformamide'}}, 'amount': {'@dl:propertyType': 'VOLUME', '@dl:normalizedValue': '0.001', '#text': '1 mL'}, 'identifier': [{'@dictRef': 'cml:smiles', '@value': 'CN(C=O)C'}, {'@dictRef': 'cml:inchi', '@value': 'InChI=1S/C3H7NO/c1-4(2)3-5/h3H,1-2H3'}], 'dl:entityType': 'exact'}]}, 'spectatorList': {'spectator': {'@role': 'solvent', 'molecule': {'@id': 'm6', 'name': {'@dictRef': 'nameDict:unknown', '#text': 'dichloromethane'}}, 'identifier': [{'@dictRef': 'cml:smiles', '@value': 'ClCCl'}, {'@dictRef': 'cml:inchi', '@value': 'InChI=1S/CH2Cl2/c2-1-3/h1H2'}], 'dl:entityType': 'exact'}}, 'dl:reactionActionList': {'dl:reactionAction': [{'@action': 'Add', 'dl:phraseText': 'A solution of 3-(2-bromoethyl)-1-phenyl-3,4-dihydro-1H-2,1-benzothiazine 2,2-dioxide (example 23, step 2) (100 mg) in dimethylformamide (1 mL) was treated with N-Boc-homopiperazine (0.106 mL) and i-Pr2NEt (0.90 mL)', 'dl:chemical': [{'@ref': 'm2'}, {'@ref': 'm5'}, {'@ref': 'm3'}, {'@ref': 'm4'}]}, {'@action': 'Heat', 'dl:phraseText': 'heated in a capped vial at 80° C. for 16 hours', 'dl:parameter': [{'@propertyType': 'Time', '@normalizedValue': '57600', '#text': '16 hours'}, {'@propertyType': 'Temperature', '@normalizedValue': '80', '#text': '80° C.'}]}, {'@action': 'Cool', 'dl:phraseText': 'The reaction mixture was cooled to room temperature', 'dl:parameter': {'@propertyType': 'Temperature', '@normalizedValue': 'room temperature', '#text': 'room temperature'}}, {'@action': 'Add', 'dl:phraseText': 'diluted with dichloromethane', 'dl:chemical': {'@ref': 'm6'}}, {'@action': 'Wash', 'dl:phraseText': 'washed with H2O', 'chemical': {'molecule': {'@id': 'm7', 'name': {'@dictRef': 'nameDict:unknown', '#text': 'H2O'}}, 'identifier': [{'@dictRef': 'cml:smiles', '@value': 'O'}, {'@dictRef': 'cml:inchi', '@value': 'InChI=1S/H2O/h1H2'}], 'dl:entityType': 'exact'}}, {'@action': 'Dry', 'dl:phraseText': 'dried (Na2SO4)', 'chemical': {'molecule': {'@id': 'm8', 'name': {'@dictRef': 'nameDict:unknown', '#text': 'Na2SO4'}}, 'identifier': [{'@dictRef': 'cml:smiles', '@value': '[O-]S(=O)(=O)[O-].[Na+].[Na+]'}, {'@dictRef': 'cml:inchi', '@value': 'InChI=1S/2Na.H2O4S/c;;1-5(2,3)4/h;;(H2,1,2,3,4)/q2*+1;/p-2'}], 'dl:entityType': 'exact'}}, {'@action': 'Remove', 'dl:phraseText': 'evaporated'}, {'@action': 'Yield', 'dl:phraseText': 'Flash chromatography (SiO2, 0-100% ethyl acetate/hexanes) provided tert-butyl 4-[2-(2,2-dioxido-1-phenyl-1H-4,2,1-benzoxathiazin-3-yl)ethyl]-1,4-diazepane-1-carboxylate (175 mg) as a yellow oil', 'chemical': {'molecule': {'@id': 'm9', 'name': {'@dictRef': 'nameDict:unknown', '#text': 'SiO2'}}, 'dl:entityType': 'falsePositive'}, 'dl:chemical': [{'@ref': 'm0'}, {'@ref': 'm1'}]}]}}: could not convert string to float: '0 to 100'\n",
      "Error with {'dl:source': {'dl:documentId': 'US20060269931A1', 'dl:paragraphNum': '0055', 'dl:paragraphText': 'A pressure tube, equipped with a magnetic stirring bar, was charged with Compound 2 (0.54 g, 3 mmole) and 1,3-diiodopropane (2.66 g, 9 mmole). The mixture was heated to ˜120° C. for 3 hours. The residue was extensively washed with ethyl acetate and diethyl ether and dried under vacuum to give 0.4 g of yellow solid Compound 3 (yield ˜28%).'}, 'dl:reactionSmiles': '[CH3:1][N:2]1[C:10]2[C:6]([N:7]=[CH:8][N:9]=2)=[C:5]([S:11][CH3:12])[N:4]=[CH:3]1.[I:13][CH2:14][CH2:15][CH2:16]I>>[I-:13].[I:13][CH2:14][CH2:15][CH2:16][N:7]1[C:6]2[C:5]([S:11][CH3:12])=[NH+:4][CH2:3][N:2]([CH3:1])[C:10]=2[N:9]=[CH:8]1 |f:2.3|', 'productList': {'product': [{'@role': 'product', 'molecule': {'@id': 'm0', 'name': {'@dictRef': 'nameDict:unknown', '#text': 'yellow solid'}}, 'amount': {'@dl:propertyType': 'MASS', '@dl:normalizedValue': '0.4', '#text': '0.4 g'}, 'dl:entityType': 'chemicalClass', 'dl:appearance': 'yellow', 'dl:state': 'solid'}, {'@role': 'product', 'molecule': {'@id': 'm1', 'name': {'@dictRef': 'nameDict:unknown', '#text': 'Compound 3'}, 'dl:nameResolved': '7-(Iodopropyl)-3-methyl-6-(methylthio)purinium iodide'}, 'amount': {'@dl:propertyType': 'PERCENTYIELD', '@dl:normalizedValue': '~28', '#text': 'yield ˜28%'}, 'identifier': [{'@dictRef': 'cml:smiles', '@value': '[I-].ICCCN1C=NC=2N(C[NH+]=C(C12)SC)C'}, {'@dictRef': 'cml:inchi', '@value': 'InChI=1S/C10H15IN4S.HI/c1-14-6-13-10(16-2)8-9(14)12-7-15(8)5-3-4-11;/h7H,3-6H2,1-2H3;1H'}], 'dl:entityType': 'definiteReference'}]}, 'reactantList': {'reactant': [{'@role': 'reactant', '@count': '1', 'molecule': {'@id': 'm2', 'name': {'@dictRef': 'nameDict:unknown', '#text': 'Compound 2'}, 'dl:nameResolved': '3-Methyl-6-(methylthio)purine'}, 'amount': [{'@dl:propertyType': 'AMOUNT', '@dl:normalizedValue': '0.003', '#text': '3 mmole'}, {'@dl:propertyType': 'MASS', '@dl:normalizedValue': '0.54', '#text': '0.54 g'}], 'identifier': [{'@dictRef': 'cml:smiles', '@value': 'CN1C=NC(=C2N=CN=C12)SC'}, {'@dictRef': 'cml:inchi', '@value': 'InChI=1S/C7H8N4S/c1-11-4-10-7(12-2)5-6(11)9-3-8-5/h3-4H,1-2H3'}], 'dl:entityType': 'definiteReference'}, {'@role': 'reactant', '@count': '2', 'molecule': {'@id': 'm3', 'name': {'@dictRef': 'nameDict:unknown', '#text': '1,3-diiodopropane'}}, 'amount': [{'@dl:propertyType': 'AMOUNT', '@dl:normalizedValue': '0.009', '#text': '9 mmole'}, {'@dl:propertyType': 'MASS', '@dl:normalizedValue': '2.66', '#text': '2.66 g'}], 'identifier': [{'@dictRef': 'cml:smiles', '@value': 'ICCCI'}, {'@dictRef': 'cml:inchi', '@value': 'InChI=1S/C3H6I2/c4-2-1-3-5/h1-3H2'}], 'dl:entityType': 'exact'}]}, 'spectatorList': None, 'dl:reactionActionList': {'dl:reactionAction': [{'@action': 'ApparatusAction', 'dl:phraseText': 'A pressure tube, equipped with a magnetic stirring bar'}, {'@action': 'Add', 'dl:phraseText': 'was charged with Compound 2 (0.54 g, 3 mmole) and 1,3-diiodopropane (2.66 g, 9 mmole)', 'dl:chemical': [{'@ref': 'm2'}, {'@ref': 'm3'}]}, {'@action': 'Heat', 'dl:phraseText': 'The mixture was heated to ˜120° C. for 3 hours', 'dl:parameter': [{'@propertyType': 'Time', '@normalizedValue': '10800', '#text': '3 hours'}, {'@propertyType': 'Temperature', '@normalizedValue': '~120', '#text': '˜120° C.'}]}, {'@action': 'Wash', 'dl:phraseText': 'The residue was extensively washed with ethyl acetate and diethyl ether', 'chemical': [{'molecule': {'@id': 'm4', 'name': {'@dictRef': 'nameDict:unknown', '#text': 'ethyl acetate'}}, 'identifier': [{'@dictRef': 'cml:smiles', '@value': 'C(C)(=O)OCC'}, {'@dictRef': 'cml:inchi', '@value': 'InChI=1S/C4H8O2/c1-3-6-4(2)5/h3H2,1-2H3'}], 'dl:entityType': 'exact'}, {'molecule': {'@id': 'm5', 'name': {'@dictRef': 'nameDict:unknown', '#text': 'diethyl ether'}}, 'identifier': [{'@dictRef': 'cml:smiles', '@value': 'C(C)OCC'}, {'@dictRef': 'cml:inchi', '@value': 'InChI=1S/C4H10O/c1-3-5-4-2/h3-4H2,1-2H3'}], 'dl:entityType': 'exact'}]}, {'@action': 'Dry', 'dl:phraseText': 'dried under vacuum'}, {'@action': 'Yield', 'dl:phraseText': 'to give 0.4 g of yellow solid Compound 3 (yield ˜28%)', 'dl:chemical': [{'@ref': 'm0'}, {'@ref': 'm1'}]}]}}: could not convert string to float: '~28'\n",
      "Error with {'dl:source': {'dl:documentId': 'US20060269931A1', 'dl:paragraphNum': '0055', 'dl:paragraphText': 'A pressure tube, equipped with a magnetic stirring bar, was charged with Compound 2 (0.54 g, 3 mmole) and 1,3-diiodopropane (2.66 g, 9 mmole). The mixture was heated to ˜120° C. for 3 hours. The residue was extensively washed with ethyl acetate and diethyl ether and dried under vacuum to give 0.4 g of yellow solid Compound 3 (yield ˜28%).'}, 'dl:reactionSmiles': '[CH3:1][N:2]1[C:10]2[C:6]([N:7]=[CH:8][N:9]=2)=[C:5]([S:11][CH3:12])[N:4]=[CH:3]1.[I:13][CH2:14][CH2:15][CH2:16]I>>[I-:13].[I:13][CH2:14][CH2:15][CH2:16][N:7]1[C:6]2[C:5]([S:11][CH3:12])=[NH+:4][CH2:3][N:2]([CH3:1])[C:10]=2[N:9]=[CH:8]1 |f:2.3|', 'productList': {'product': [{'@role': 'product', 'molecule': {'@id': 'm0', 'name': {'@dictRef': 'nameDict:unknown', '#text': 'yellow solid'}}, 'amount': {'@dl:propertyType': 'MASS', '@dl:normalizedValue': '0.4', '#text': '0.4 g'}, 'dl:entityType': 'chemicalClass', 'dl:appearance': 'yellow', 'dl:state': 'solid'}, {'@role': 'product', 'molecule': {'@id': 'm1', 'name': {'@dictRef': 'nameDict:unknown', '#text': 'Compound 3'}, 'dl:nameResolved': '7-(Iodopropyl)-3-methyl-6-(methylthio)purinium iodide'}, 'amount': {'@dl:propertyType': 'PERCENTYIELD', '@dl:normalizedValue': '~28', '#text': 'yield ˜28%'}, 'identifier': [{'@dictRef': 'cml:smiles', '@value': '[I-].ICCCN1C=NC=2N(C[NH+]=C(C12)SC)C'}, {'@dictRef': 'cml:inchi', '@value': 'InChI=1S/C10H15IN4S.HI/c1-14-6-13-10(16-2)8-9(14)12-7-15(8)5-3-4-11;/h7H,3-6H2,1-2H3;1H'}], 'dl:entityType': 'definiteReference'}]}, 'reactantList': {'reactant': [{'@role': 'reactant', '@count': '1', 'molecule': {'@id': 'm2', 'name': {'@dictRef': 'nameDict:unknown', '#text': 'Compound 2'}, 'dl:nameResolved': '3-Methyl-6-(methylthio)purine'}, 'amount': [{'@dl:propertyType': 'AMOUNT', '@dl:normalizedValue': '0.003', '#text': '3 mmole'}, {'@dl:propertyType': 'MASS', '@dl:normalizedValue': '0.54', '#text': '0.54 g'}], 'identifier': [{'@dictRef': 'cml:smiles', '@value': 'CN1C=NC(=C2N=CN=C12)SC'}, {'@dictRef': 'cml:inchi', '@value': 'InChI=1S/C7H8N4S/c1-11-4-10-7(12-2)5-6(11)9-3-8-5/h3-4H,1-2H3'}], 'dl:entityType': 'definiteReference'}, {'@role': 'reactant', '@count': '2', 'molecule': {'@id': 'm3', 'name': {'@dictRef': 'nameDict:unknown', '#text': '1,3-diiodopropane'}}, 'amount': [{'@dl:propertyType': 'AMOUNT', '@dl:normalizedValue': '0.009', '#text': '9 mmole'}, {'@dl:propertyType': 'MASS', '@dl:normalizedValue': '2.66', '#text': '2.66 g'}], 'identifier': [{'@dictRef': 'cml:smiles', '@value': 'ICCCI'}, {'@dictRef': 'cml:inchi', '@value': 'InChI=1S/C3H6I2/c4-2-1-3-5/h1-3H2'}], 'dl:entityType': 'exact'}]}, 'spectatorList': None, 'dl:reactionActionList': {'dl:reactionAction': [{'@action': 'ApparatusAction', 'dl:phraseText': 'A pressure tube, equipped with a magnetic stirring bar'}, {'@action': 'Add', 'dl:phraseText': 'was charged with Compound 2 (0.54 g, 3 mmole) and 1,3-diiodopropane (2.66 g, 9 mmole)', 'dl:chemical': [{'@ref': 'm2'}, {'@ref': 'm3'}]}, {'@action': 'Heat', 'dl:phraseText': 'The mixture was heated to ˜120° C. for 3 hours', 'dl:parameter': [{'@propertyType': 'Time', '@normalizedValue': '10800', '#text': '3 hours'}, {'@propertyType': 'Temperature', '@normalizedValue': '~120', '#text': '˜120° C.'}]}, {'@action': 'Wash', 'dl:phraseText': 'The residue was extensively washed with ethyl acetate and diethyl ether', 'chemical': [{'molecule': {'@id': 'm4', 'name': {'@dictRef': 'nameDict:unknown', '#text': 'ethyl acetate'}}, 'identifier': [{'@dictRef': 'cml:smiles', '@value': 'C(C)(=O)OCC'}, {'@dictRef': 'cml:inchi', '@value': 'InChI=1S/C4H8O2/c1-3-6-4(2)5/h3H2,1-2H3'}], 'dl:entityType': 'exact'}, {'molecule': {'@id': 'm5', 'name': {'@dictRef': 'nameDict:unknown', '#text': 'diethyl ether'}}, 'identifier': [{'@dictRef': 'cml:smiles', '@value': 'C(C)OCC'}, {'@dictRef': 'cml:inchi', '@value': 'InChI=1S/C4H10O/c1-3-5-4-2/h3-4H2,1-2H3'}], 'dl:entityType': 'exact'}]}, {'@action': 'Dry', 'dl:phraseText': 'dried under vacuum'}, {'@action': 'Yield', 'dl:phraseText': 'to give 0.4 g of yellow solid Compound 3 (yield ˜28%)', 'dl:chemical': [{'@ref': 'm0'}, {'@ref': 'm1'}]}]}}: could not convert string to float: '~28'\n",
      "Error with {'dl:source': {'dl:documentId': 'US20060269931A1', 'dl:paragraphNum': '0055', 'dl:paragraphText': 'A pressure tube, equipped with a magnetic stirring bar, was charged with Compound 2 (0.54 g, 3 mmole) and 1,3-diiodopropane (2.66 g, 9 mmole). The mixture was heated to ˜120° C. for 3 hours. The residue was extensively washed with ethyl acetate and diethyl ether and dried under vacuum to give 0.4 g of yellow solid Compound 3 (yield ˜28%).'}, 'dl:reactionSmiles': '[CH3:1][N:2]1[C:10]2[C:6]([N:7]=[CH:8][N:9]=2)=[C:5]([S:11][CH3:12])[N:4]=[CH:3]1.[I:13][CH2:14][CH2:15][CH2:16]I>>[I-:13].[I:13][CH2:14][CH2:15][CH2:16][N:7]1[C:6]2[C:5]([S:11][CH3:12])=[NH+:4][CH2:3][N:2]([CH3:1])[C:10]=2[N:9]=[CH:8]1 |f:2.3|', 'productList': {'product': [{'@role': 'product', 'molecule': {'@id': 'm0', 'name': {'@dictRef': 'nameDict:unknown', '#text': 'yellow solid'}}, 'amount': {'@dl:propertyType': 'MASS', '@dl:normalizedValue': '0.4', '#text': '0.4 g'}, 'dl:entityType': 'chemicalClass', 'dl:appearance': 'yellow', 'dl:state': 'solid'}, {'@role': 'product', 'molecule': {'@id': 'm1', 'name': {'@dictRef': 'nameDict:unknown', '#text': 'Compound 3'}, 'dl:nameResolved': '7-(Iodopropyl)-3-methyl-6-(methylthio)purinium iodide'}, 'amount': {'@dl:propertyType': 'PERCENTYIELD', '@dl:normalizedValue': '~28', '#text': 'yield ˜28%'}, 'identifier': [{'@dictRef': 'cml:smiles', '@value': '[I-].ICCCN1C=NC=2N(C[NH+]=C(C12)SC)C'}, {'@dictRef': 'cml:inchi', '@value': 'InChI=1S/C10H15IN4S.HI/c1-14-6-13-10(16-2)8-9(14)12-7-15(8)5-3-4-11;/h7H,3-6H2,1-2H3;1H'}], 'dl:entityType': 'definiteReference'}]}, 'reactantList': {'reactant': [{'@role': 'reactant', '@count': '1', 'molecule': {'@id': 'm2', 'name': {'@dictRef': 'nameDict:unknown', '#text': 'Compound 2'}, 'dl:nameResolved': '3-Methyl-6-(methylthio)purine'}, 'amount': [{'@dl:propertyType': 'AMOUNT', '@dl:normalizedValue': '0.003', '#text': '3 mmole'}, {'@dl:propertyType': 'MASS', '@dl:normalizedValue': '0.54', '#text': '0.54 g'}], 'identifier': [{'@dictRef': 'cml:smiles', '@value': 'CN1C=NC(=C2N=CN=C12)SC'}, {'@dictRef': 'cml:inchi', '@value': 'InChI=1S/C7H8N4S/c1-11-4-10-7(12-2)5-6(11)9-3-8-5/h3-4H,1-2H3'}], 'dl:entityType': 'definiteReference'}, {'@role': 'reactant', '@count': '2', 'molecule': {'@id': 'm3', 'name': {'@dictRef': 'nameDict:unknown', '#text': '1,3-diiodopropane'}}, 'amount': [{'@dl:propertyType': 'AMOUNT', '@dl:normalizedValue': '0.009', '#text': '9 mmole'}, {'@dl:propertyType': 'MASS', '@dl:normalizedValue': '2.66', '#text': '2.66 g'}], 'identifier': [{'@dictRef': 'cml:smiles', '@value': 'ICCCI'}, {'@dictRef': 'cml:inchi', '@value': 'InChI=1S/C3H6I2/c4-2-1-3-5/h1-3H2'}], 'dl:entityType': 'exact'}]}, 'spectatorList': None, 'dl:reactionActionList': {'dl:reactionAction': [{'@action': 'ApparatusAction', 'dl:phraseText': 'A pressure tube, equipped with a magnetic stirring bar'}, {'@action': 'Add', 'dl:phraseText': 'was charged with Compound 2 (0.54 g, 3 mmole) and 1,3-diiodopropane (2.66 g, 9 mmole)', 'dl:chemical': [{'@ref': 'm2'}, {'@ref': 'm3'}]}, {'@action': 'Heat', 'dl:phraseText': 'The mixture was heated to ˜120° C. for 3 hours', 'dl:parameter': [{'@propertyType': 'Time', '@normalizedValue': '10800', '#text': '3 hours'}, {'@propertyType': 'Temperature', '@normalizedValue': '~120', '#text': '˜120° C.'}]}, {'@action': 'Wash', 'dl:phraseText': 'The residue was extensively washed with ethyl acetate and diethyl ether', 'chemical': [{'molecule': {'@id': 'm4', 'name': {'@dictRef': 'nameDict:unknown', '#text': 'ethyl acetate'}}, 'identifier': [{'@dictRef': 'cml:smiles', '@value': 'C(C)(=O)OCC'}, {'@dictRef': 'cml:inchi', '@value': 'InChI=1S/C4H8O2/c1-3-6-4(2)5/h3H2,1-2H3'}], 'dl:entityType': 'exact'}, {'molecule': {'@id': 'm5', 'name': {'@dictRef': 'nameDict:unknown', '#text': 'diethyl ether'}}, 'identifier': [{'@dictRef': 'cml:smiles', '@value': 'C(C)OCC'}, {'@dictRef': 'cml:inchi', '@value': 'InChI=1S/C4H10O/c1-3-5-4-2/h3-4H2,1-2H3'}], 'dl:entityType': 'exact'}]}, {'@action': 'Dry', 'dl:phraseText': 'dried under vacuum'}, {'@action': 'Yield', 'dl:phraseText': 'to give 0.4 g of yellow solid Compound 3 (yield ˜28%)', 'dl:chemical': [{'@ref': 'm0'}, {'@ref': 'm1'}]}]}}: could not convert string to float: '~28'\n",
      "Error with {'dl:source': {'dl:documentId': 'US20060046092A1', 'dl:headingText': 'Synthesis of phenylboronic acid pinacol ester 1a', 'dl:paragraphNum': '0088', 'dl:paragraphText': 'Phenyl boronic acid (100 g, 0.82 mol, 1 equiv.) and pinacol (96.92 g, 0.82 mol, 1 equiv.) were dissolved in toluene (500 mL) at room temperature. The cloudy solution was then placed on to a rotary evaporator and stirred for 2 hours at 60° C. After this period the solid had dissolved, concurrent with the formation of water (ca. 29.5 mL) as a second layer. The water was then removed in a separating funnel and the crude reaction filtered through Celite. Evaporation of the solvent yielded a clear pale yellow oil which solidified on cooling in a refrigerator to give the title compound in a near-quantitative yield as a white solid (ca. 167 g).'}, 'dl:reactionSmiles': '[C:1]1([B:7]([OH:9])[OH:8])[CH:6]=[CH:5][CH:4]=[CH:3][CH:2]=1.O[C:11]([C:14](O)([CH3:16])[CH3:15])([CH3:13])[CH3:12]>C1(C)C=CC=CC=1>[C:1]1([B:7]2[O:9][C:14]([CH3:16])([CH3:15])[C:11]([CH3:13])([CH3:12])[O:8]2)[CH:6]=[CH:5][CH:4]=[CH:3][CH:2]=1', 'productList': {'product': [{'@role': 'product', 'molecule': {'@id': 'm0', 'name': {'@dictRef': 'nameDict:unknown', '#text': 'title compound'}, 'dl:nameResolved': 'phenylboronic acid pinacol ester'}, 'amount': {'@dl:propertyType': 'PERCENTYIELD', '@dl:normalizedValue': '100', '#text': 'quantitative yield'}, 'identifier': [{'@dictRef': 'cml:smiles', '@value': 'C1(=CC=CC=C1)B1OC(C)(C)C(C)(C)O1'}, {'@dictRef': 'cml:inchi', '@value': 'InChI=1S/C12H17BO2/c1-11(2)12(3,4)15-13(14-11)10-8-6-5-7-9-10/h5-9H,1-4H3'}], 'dl:entityType': 'definiteReference'}, {'@role': 'product', 'molecule': {'@id': 'm1', 'name': {'@dictRef': 'nameDict:unknown', '#text': 'solid'}}, 'amount': {'@dl:propertyType': 'MASS', '@dl:normalizedValue': '~167', '#text': 'ca. 167 g'}, 'dl:entityType': 'chemicalClass', 'dl:state': 'solid'}]}, 'reactantList': {'reactant': [{'@role': 'reactant', '@count': '1', 'molecule': {'@id': 'm2', 'name': {'@dictRef': 'nameDict:unknown', '#text': 'Phenyl boronic acid'}}, 'amount': [{'@dl:propertyType': 'AMOUNT', '@dl:normalizedValue': '0.82', '#text': '0.82 mol'}, {'@dl:propertyType': 'MASS', '@dl:normalizedValue': '100', '#text': '100 g'}, {'@dl:propertyType': 'EQUIVALENTS', '@dl:normalizedValue': '1', '#text': '1 equiv.'}], 'identifier': [{'@dictRef': 'cml:smiles', '@value': 'C1(=CC=CC=C1)B(O)O'}, {'@dictRef': 'cml:inchi', '@value': 'InChI=1S/C6H7BO2/c8-7(9)6-4-2-1-3-5-6/h1-5,8-9H'}], 'dl:entityType': 'exact'}, {'@role': 'reactant', '@count': '1', 'molecule': {'@id': 'm3', 'name': {'@dictRef': 'nameDict:unknown', '#text': 'pinacol'}}, 'amount': [{'@dl:propertyType': 'AMOUNT', '@dl:normalizedValue': '0.82', '#text': '0.82 mol'}, {'@dl:propertyType': 'MASS', '@dl:normalizedValue': '96.92', '#text': '96.92 g'}, {'@dl:propertyType': 'EQUIVALENTS', '@dl:normalizedValue': '1', '#text': '1 equiv.'}], 'identifier': [{'@dictRef': 'cml:smiles', '@value': 'OC(C)(C)C(C)(C)O'}, {'@dictRef': 'cml:inchi', '@value': 'InChI=1S/C6H14O2/c1-5(2,7)6(3,4)8/h7-8H,1-4H3'}], 'dl:entityType': 'exact'}]}, 'spectatorList': {'spectator': {'@role': 'solvent', 'molecule': {'@id': 'm4', 'name': {'@dictRef': 'nameDict:unknown', '#text': 'toluene'}}, 'amount': {'@dl:propertyType': 'VOLUME', '@dl:normalizedValue': '0.500', '#text': '500 mL'}, 'identifier': [{'@dictRef': 'cml:smiles', '@value': 'C1(=CC=CC=C1)C'}, {'@dictRef': 'cml:inchi', '@value': 'InChI=1S/C7H8/c1-7-5-3-2-4-6-7/h2-6H,1H3'}], 'dl:entityType': 'exact'}}, 'dl:reactionActionList': {'dl:reactionAction': [{'@action': 'Dissolve', 'dl:phraseText': 'Phenyl boronic acid (100 g, 0.82 mol, 1 equiv.) and pinacol (96.92 g, 0.82 mol, 1 equiv.) were dissolved in toluene (500 mL) at room temperature', 'dl:chemical': [{'@ref': 'm2'}, {'@ref': 'm3'}, {'@ref': 'm4'}], 'dl:parameter': {'@propertyType': 'Temperature', '@normalizedValue': 'room temperature', '#text': 'room temperature'}}, {'@action': 'Remove', 'dl:phraseText': 'The cloudy solution was then placed on to a rotary evaporator'}, {'@action': 'Stir', 'dl:phraseText': 'stirred for 2 hours at 60° C', 'dl:parameter': [{'@propertyType': 'Time', '@normalizedValue': '7200', '#text': '2 hours'}, {'@propertyType': 'Temperature', '@normalizedValue': '60', '#text': '60° C'}]}, {'@action': 'Dissolve', 'dl:phraseText': 'After this period the solid had dissolved, concurrent with the formation of water (ca. 29.5 mL) as a second layer', 'chemical': {'molecule': {'@id': 'm5', 'name': {'@dictRef': 'nameDict:unknown', '#text': 'water'}}, 'amount': {'@dl:propertyType': 'VOLUME', '@dl:normalizedValue': '~0.0295', '#text': 'ca. 29.5 mL'}, 'identifier': [{'@dictRef': 'cml:smiles', '@value': 'O'}, {'@dictRef': 'cml:inchi', '@value': 'InChI=1S/H2O/h1H2'}], 'dl:entityType': 'exact'}}, {'@action': 'Remove', 'dl:phraseText': 'The water was then removed in a separating funnel', 'chemical': {'molecule': {'@id': 'm6', 'name': {'@dictRef': 'nameDict:unknown', '#text': 'water'}}, 'identifier': [{'@dictRef': 'cml:smiles', '@value': 'O'}, {'@dictRef': 'cml:inchi', '@value': 'InChI=1S/H2O/h1H2'}], 'dl:entityType': 'definiteReference'}}, {'@action': 'Synthesize', 'dl:phraseText': 'the crude reaction'}, {'@action': 'Filter', 'dl:phraseText': 'filtered through Celite'}, {'@action': 'Remove', 'dl:phraseText': 'Evaporation of the solvent'}, {'@action': 'Yield', 'dl:phraseText': 'yielded a clear pale yellow oil which'}, {'@action': 'Cool', 'dl:phraseText': 'on cooling in a refrigerator'}, {'@action': 'Yield', 'dl:phraseText': 'to give the title compound in a near-quantitative yield as a white solid (ca. 167 g)', 'dl:chemical': [{'@ref': 'm0'}, {'@ref': 'm1'}]}]}}: could not convert string to float: '~167'\n",
      "Error with {'dl:source': {'dl:documentId': 'US20060211720A1', 'dl:paragraphNum': '0878', 'dl:paragraphText': 'According to the procedure for the preparation of Intermediate 206.4, Intermediate 213.1 (1.02 g, 1.74 mmol) was converted to the chloro intermediate, which was displaced with di-tert-butyl (6-aminoisoquinolin-1-yl)imidodicarbonate (688 mg, 1.91 mmol) to afford after flash chromatography (0 to 60% EtOAc/hexanes gradient) 1.47 g of Intermediate 213.2 as a pale yellow solid.'}, 'dl:reactionSmiles': '[Br:1][C:2]1[N:3]=[C:4]([CH:26]([NH:38][C:39]2[CH:40]=[C:41]3[C:46](=[CH:47][CH:48]=2)[C:45]([N:49]([C:57]([O:59][C:60]([CH3:63])([CH3:62])[CH3:61])=[O:58])[C:50]([O:52][C:53]([CH3:56])([CH3:55])[CH3:54])=[O:51])=[N:44][CH:43]=[CH:42]3)[C:27]2[CH:32]=[C:31]([CH2:33][CH3:34])[CH:30]=[C:29]([O:35][CH3:36])[C:28]=2[F:37])[N:5]([C:7]([C:20]2[CH:25]=[CH:24][CH:23]=[CH:22][CH:21]=2)([C:14]2[CH:19]=[CH:18][CH:17]=[CH:16][CH:15]=2)[C:8]2[CH:13]=[CH:12][CH:11]=[CH:10][CH:9]=2)[CH:6]=1.Br[C:65]1N=C(C(C2C=C(CC)C=C(OCC)C=2F)O)N(C(C2C=CC=CC=2)(C2C=CC=CC=2)C2C=CC=CC=2)C=1.BrC1N=C(C(Cl)C2C=C(CC)C=C(OC)C=2F)N(C(C2C=CC=CC=2)(C2C=CC=CC=2)C2C=CC=CC=2)C=1.NC1C=C2C(=CC=1)C(N(C(OC(C)(C)C)=O)C(OC(C)(C)C)=O)=NC=C2>>[Br:1][C:2]1[N:3]=[C:4]([CH:26]([NH:38][C:39]2[CH:40]=[C:41]3[C:46](=[CH:47][CH:48]=2)[C:45]([N:49]([C:50]([O:52][C:53]([CH3:55])([CH3:56])[CH3:54])=[O:51])[C:57]([O:59][C:60]([CH3:62])([CH3:61])[CH3:63])=[O:58])=[N:44][CH:43]=[CH:42]3)[C:27]2[CH:32]=[C:31]([CH2:33][CH3:34])[CH:30]=[C:29]([O:35][CH2:36][CH3:65])[C:28]=2[F:37])[N:5]([C:7]([C:20]2[CH:21]=[CH:22][CH:23]=[CH:24][CH:25]=2)([C:8]2[CH:13]=[CH:12][CH:11]=[CH:10][CH:9]=2)[C:14]2[CH:15]=[CH:16][CH:17]=[CH:18][CH:19]=2)[CH:6]=1', 'productList': {'product': [{'@role': 'product', 'molecule': {'@id': 'm0', 'name': {'@dictRef': 'nameDict:unknown', '#text': 'EtOAc hexanes'}}, 'amount': {'@dl:propertyType': 'PERCENTYIELD', '@dl:normalizedValue': '0 to 60', '#text': '0 to 60%'}, 'dl:entityType': 'chemicalClass'}, {'@role': 'product', 'molecule': {'@id': 'm1', 'name': {'@dictRef': 'nameDict:unknown', '#text': 'Intermediate 213.2'}, 'dl:nameResolved': 'di-tert-butyl (6-{[(4-bromo-1-trityl-1H-imidazol-2-yl)(3-ethoxy-5-ethyl-2-fluoro-phenyl)methyl]amino}isoquinolin-1-yl)imidodicarbonate'}, 'amount': {'@dl:propertyType': 'MASS', '@dl:normalizedValue': '1.47', '#text': '1.47 g'}, 'identifier': [{'@dictRef': 'cml:smiles', '@value': 'BrC=1N=C(N(C1)C(C1=CC=CC=C1)(C1=CC=CC=C1)C1=CC=CC=C1)C(C1=C(C(=CC(=C1)CC)OCC)F)NC=1C=C2C=CN=C(C2=CC1)N(C(=O)OC(C)(C)C)C(=O)OC(C)(C)C'}, {'@dictRef': 'cml:inchi', '@value': 'InChI=1S/C52H53BrFN5O5/c1-9-34-30-41(44(54)42(31-34)62-10-2)45(56-39-26-27-40-35(32-39)28-29-55-46(40)59(48(60)63-50(3,4)5)49(61)64-51(6,7)8)47-57-43(53)33-58(47)52(36-20-14-11-15-21-36,37-22-16-12-17-23-37)38-24-18-13-19-25-38/h11-33,45,56H,9-10H2,1-8H3'}], 'dl:entityType': 'definiteReference', 'dl:appearance': 'pale yellow', 'dl:state': 'solid'}]}, 'reactantList': {'reactant': [{'@role': 'reactant', '@count': '1', 'molecule': {'@id': 'm2', 'name': {'@dictRef': 'nameDict:unknown', '#text': 'Intermediate 206.4'}, 'dl:nameResolved': 'di-tert-butyl (6-{[(4-bromo-1-trityl-1H-imidazol-2-yl)(5-ethyl-2-fluoro-3-methoxyphenyl)methyl]amino}isoquinolin-1-yl)imidodicarbonate'}, 'identifier': [{'@dictRef': 'cml:smiles', '@value': 'BrC=1N=C(N(C1)C(C1=CC=CC=C1)(C1=CC=CC=C1)C1=CC=CC=C1)C(C1=C(C(=CC(=C1)CC)OC)F)NC=1C=C2C=CN=C(C2=CC1)N(C(=O)OC(C)(C)C)C(=O)OC(C)(C)C'}, {'@dictRef': 'cml:inchi', '@value': 'InChI=1S/C51H51BrFN5O5/c1-9-33-29-40(43(53)41(30-33)61-8)44(55-38-25-26-39-34(31-38)27-28-54-45(39)58(47(59)62-49(2,3)4)48(60)63-50(5,6)7)46-56-42(52)32-57(46)51(35-19-13-10-14-20-35,36-21-15-11-16-22-36)37-23-17-12-18-24-37/h10-32,44,55H,9H2,1-8H3'}], 'dl:entityType': 'definiteReference'}, {'@role': 'reactant', '@count': '1', 'molecule': {'@id': 'm3', 'name': {'@dictRef': 'nameDict:unknown', '#text': 'Intermediate 213.1'}, 'dl:nameResolved': '(4-bromo-1-trityl-1H-imidazol-2-yl)(3-ethoxy-5-ethyl-2-fluorophenyl)methanol'}, 'amount': [{'@dl:propertyType': 'AMOUNT', '@dl:normalizedValue': '0.00174', '#text': '1.74 mmol'}, {'@dl:propertyType': 'MASS', '@dl:normalizedValue': '1.02', '#text': '1.02 g'}], 'identifier': [{'@dictRef': 'cml:smiles', '@value': 'BrC=1N=C(N(C1)C(C1=CC=CC=C1)(C1=CC=CC=C1)C1=CC=CC=C1)C(O)C1=C(C(=CC(=C1)CC)OCC)F'}, {'@dictRef': 'cml:inchi', '@value': 'InChI=1S/C33H30BrFN2O2/c1-3-23-20-27(30(35)28(21-23)39-4-2)31(38)32-36-29(34)22-37(32)33(24-14-8-5-9-15-24,25-16-10-6-11-17-25)26-18-12-7-13-19-26/h5-22,31,38H,3-4H2,1-2H3'}], 'dl:entityType': 'definiteReference'}, {'@role': 'reactant', 'molecule': {'@id': 'm4', 'name': {'@dictRef': 'nameDict:unknown', '#text': 'chloro'}, 'dl:nameResolved': '4-bromo-2-(chloro(5-ethyl-2-fluoro-3-methoxyphenyl)methyl)-1-trityl-1H-imidazole'}, 'identifier': [{'@dictRef': 'cml:smiles', '@value': 'BrC=1N=C(N(C1)C(C1=CC=CC=C1)(C1=CC=CC=C1)C1=CC=CC=C1)C(C1=C(C(=CC(=C1)CC)OC)F)Cl'}, {'@dictRef': 'cml:inchi', '@value': 'InChI=1S/C32H27BrClFN2O/c1-3-22-19-26(30(35)27(20-22)38-2)29(34)31-36-28(33)21-37(31)32(23-13-7-4-8-14-23,24-15-9-5-10-16-24)25-17-11-6-12-18-25/h4-21,29H,3H2,1-2H3'}], 'dl:entityType': 'exact'}, {'@role': 'reactant', 'molecule': {'@id': 'm5', 'name': {'@dictRef': 'nameDict:unknown', '#text': 'di-tert-butyl (6-aminoisoquinolin-1-yl)imidodicarbonate'}}, 'amount': [{'@dl:propertyType': 'AMOUNT', '@dl:normalizedValue': '0.00191', '#text': '1.91 mmol'}, {'@dl:propertyType': 'MASS', '@dl:normalizedValue': '0.688', '#text': '688 mg'}], 'identifier': [{'@dictRef': 'cml:smiles', '@value': 'NC=1C=C2C=CN=C(C2=CC1)N(C(=O)OC(C)(C)C)C(=O)OC(C)(C)C'}, {'@dictRef': 'cml:inchi', '@value': 'InChI=1S/C19H25N3O4/c1-18(2,3)25-16(23)22(17(24)26-19(4,5)6)15-14-8-7-13(20)11-12(14)9-10-21-15/h7-11H,20H2,1-6H3'}], 'dl:entityType': 'exact'}]}, 'spectatorList': None, 'dl:reactionActionList': {'dl:reactionAction': [{'@action': 'Synthesize', 'dl:phraseText': 'According to the procedure for the preparation of Intermediate 206.4, Intermediate 213.1 (1.02 g, 1.74 mmol)', 'dl:chemical': [{'@ref': 'm2'}, {'@ref': 'm3'}]}, {'@action': 'Yield', 'dl:phraseText': 'to afford after flash chromatography (0 to 60% EtOAc/hexanes gradient) 1.47 g of Intermediate 213.2 as a pale yellow solid', 'dl:chemical': [{'@ref': 'm0'}, {'@ref': 'm1'}]}]}}: could not convert string to float: '0 to 60'\n",
      "Error with {'dl:source': {'dl:documentId': 'US20060211720A1', 'dl:paragraphNum': '0893', 'dl:paragraphText': 'According to the procedure for the preparation of Intermediate 206.4, Intermediate 217.3 (424 mg, 0.641 mmol) was converted to the chloro intermediate, then displaced with di-tert-butyl (6-aminoisoquinolin-1-yl)imidodicarbonate to afford after flash chromatography (0 to 60% EtOAc/hexanes gradient) 615 mg of intermediate 217.4 as a pale yellow solid.'}, 'dl:reactionSmiles': 'BrC1N=C(C([NH:38][C:39]2[CH:40]=[C:41]3[C:46](=[CH:47][CH:48]=2)[C:45]([N:49]([C:57]([O:59][C:60]([CH3:63])([CH3:62])[CH3:61])=[O:58])[C:50]([O:52][C:53]([CH3:56])([CH3:55])[CH3:54])=[O:51])=[N:44][CH:43]=[CH:42]3)C2C=C(CC)C=C(OC)C=2F)N(C(C2C=CC=CC=2)(C2C=CC=CC=2)C2C=CC=CC=2)C=1.[Br:64][C:65]1[CH:70]=[CH:69][CH:68]=[CH:67][C:66]=1[C:71]1[N:72]=[C:73]([CH:95]([C:97]2[CH:102]=[C:101]([CH2:103][CH3:104])[CH:100]=[C:99]([O:105][CH2:106][CH3:107])[C:98]=2[F:108])O)[N:74]([C:76]([C:89]2[CH:94]=[CH:93][CH:92]=[CH:91][CH:90]=2)([C:83]2[CH:88]=[CH:87][CH:86]=[CH:85][CH:84]=2)[C:77]2[CH:82]=[CH:81][CH:80]=[CH:79][CH:78]=2)[CH:75]=1.BrC1N=C(C(Cl)C2C=C(CC)C=C(OC)C=2F)N(C(C2C=CC=CC=2)(C2C=CC=CC=2)C2C=CC=CC=2)C=1.NC1C=C2C(=CC=1)C(N(C(OC(C)(C)C)=O)C(OC(C)(C)C)=O)=NC=C2>>[Br:64][C:65]1[CH:70]=[CH:69][CH:68]=[CH:67][C:66]=1[C:71]1[N:72]=[C:73]([CH:95]([NH:38][C:39]2[CH:40]=[C:41]3[C:46](=[CH:47][CH:48]=2)[C:45]([N:49]([C:50]([O:52][C:53]([CH3:56])([CH3:55])[CH3:54])=[O:51])[C:57]([O:59][C:60]([CH3:61])([CH3:62])[CH3:63])=[O:58])=[N:44][CH:43]=[CH:42]3)[C:97]2[CH:102]=[C:101]([CH2:103][CH3:104])[CH:100]=[C:99]([O:105][CH2:106][CH3:107])[C:98]=2[F:108])[N:74]([C:76]([C:83]2[CH:88]=[CH:87][CH:86]=[CH:85][CH:84]=2)([C:77]2[CH:82]=[CH:81][CH:80]=[CH:79][CH:78]=2)[C:89]2[CH:90]=[CH:91][CH:92]=[CH:93][CH:94]=2)[CH:75]=1', 'productList': {'product': [{'@role': 'product', 'molecule': {'@id': 'm0', 'name': {'@dictRef': 'nameDict:unknown', '#text': 'EtOAc hexanes'}}, 'amount': {'@dl:propertyType': 'PERCENTYIELD', '@dl:normalizedValue': '0 to 60', '#text': '0 to 60%'}, 'dl:entityType': 'chemicalClass'}, {'@role': 'product', 'molecule': {'@id': 'm1', 'name': {'@dictRef': 'nameDict:unknown', '#text': 'intermediate 217.4'}, 'dl:nameResolved': 'di-tert-butyl (6-{[(4-(2-bromophenyl)-1-trityl-1H-imidazol-2-yl)(3-ethoxy-5-ethyl-2-fluorophenyl)methyl]amino}isoquinolin-1-yl)imidodicarbonate'}, 'amount': {'@dl:propertyType': 'MASS', '@dl:normalizedValue': '0.615', '#text': '615 mg'}, 'identifier': [{'@dictRef': 'cml:smiles', '@value': 'BrC1=C(C=CC=C1)C=1N=C(N(C1)C(C1=CC=CC=C1)(C1=CC=CC=C1)C1=CC=CC=C1)C(C1=C(C(=CC(=C1)CC)OCC)F)NC=1C=C2C=CN=C(C2=CC1)N(C(=O)OC(C)(C)C)C(=O)OC(C)(C)C'}, {'@dictRef': 'cml:inchi', '@value': 'InChI=1S/C58H57BrFN5O5/c1-9-38-34-46(50(60)49(35-38)68-10-2)51(62-43-30-31-44-39(36-43)32-33-61-52(44)65(54(66)69-56(3,4)5)55(67)70-57(6,7)8)53-63-48(45-28-20-21-29-47(45)59)37-64(53)58(40-22-14-11-15-23-40,41-24-16-12-17-25-41)42-26-18-13-19-27-42/h11-37,51,62H,9-10H2,1-8H3'}], 'dl:entityType': 'definiteReference', 'dl:appearance': 'pale yellow', 'dl:state': 'solid'}]}, 'reactantList': {'reactant': [{'@role': 'reactant', '@count': '1', 'molecule': {'@id': 'm2', 'name': {'@dictRef': 'nameDict:unknown', '#text': 'Intermediate 206.4'}, 'dl:nameResolved': 'di-tert-butyl (6-{[(4-bromo-1-trityl-1H-imidazol-2-yl)(5-ethyl-2-fluoro-3-methoxyphenyl)methyl]amino}isoquinolin-1-yl)imidodicarbonate'}, 'identifier': [{'@dictRef': 'cml:smiles', '@value': 'BrC=1N=C(N(C1)C(C1=CC=CC=C1)(C1=CC=CC=C1)C1=CC=CC=C1)C(C1=C(C(=CC(=C1)CC)OC)F)NC=1C=C2C=CN=C(C2=CC1)N(C(=O)OC(C)(C)C)C(=O)OC(C)(C)C'}, {'@dictRef': 'cml:inchi', '@value': 'InChI=1S/C51H51BrFN5O5/c1-9-33-29-40(43(53)41(30-33)61-8)44(55-38-25-26-39-34(31-38)27-28-54-45(39)58(47(59)62-49(2,3)4)48(60)63-50(5,6)7)46-56-42(52)32-57(46)51(35-19-13-10-14-20-35,36-21-15-11-16-22-36)37-23-17-12-18-24-37/h10-32,44,55H,9H2,1-8H3'}], 'dl:entityType': 'definiteReference'}, {'@role': 'reactant', '@count': '1', 'molecule': {'@id': 'm3', 'name': {'@dictRef': 'nameDict:unknown', '#text': 'Intermediate 217.3'}, 'dl:nameResolved': '(4-(2-bromophenyl)-1-trityl-1H-imidazol-2-yl)(3-ethoxy-5-ethyl-2-fluorophenyl)methanol'}, 'amount': [{'@dl:propertyType': 'AMOUNT', '@dl:normalizedValue': '0.000641', '#text': '0.641 mmol'}, {'@dl:propertyType': 'MASS', '@dl:normalizedValue': '0.424', '#text': '424 mg'}], 'identifier': [{'@dictRef': 'cml:smiles', '@value': 'BrC1=C(C=CC=C1)C=1N=C(N(C1)C(C1=CC=CC=C1)(C1=CC=CC=C1)C1=CC=CC=C1)C(O)C1=C(C(=CC(=C1)CC)OCC)F'}, {'@dictRef': 'cml:inchi', '@value': 'InChI=1S/C39H34BrFN2O2/c1-3-27-24-32(36(41)35(25-27)45-4-2)37(44)38-42-34(31-22-14-15-23-33(31)40)26-43(38)39(28-16-8-5-9-17-28,29-18-10-6-11-19-29)30-20-12-7-13-21-30/h5-26,37,44H,3-4H2,1-2H3'}], 'dl:entityType': 'definiteReference'}, {'@role': 'reactant', 'molecule': {'@id': 'm4', 'name': {'@dictRef': 'nameDict:unknown', '#text': 'chloro'}, 'dl:nameResolved': '4-bromo-2-(chloro(5-ethyl-2-fluoro-3-methoxyphenyl)methyl)-1-trityl-1H-imidazole'}, 'identifier': [{'@dictRef': 'cml:smiles', '@value': 'BrC=1N=C(N(C1)C(C1=CC=CC=C1)(C1=CC=CC=C1)C1=CC=CC=C1)C(C1=C(C(=CC(=C1)CC)OC)F)Cl'}, {'@dictRef': 'cml:inchi', '@value': 'InChI=1S/C32H27BrClFN2O/c1-3-22-19-26(30(35)27(20-22)38-2)29(34)31-36-28(33)21-37(31)32(23-13-7-4-8-14-23,24-15-9-5-10-16-24)25-17-11-6-12-18-25/h4-21,29H,3H2,1-2H3'}], 'dl:entityType': 'exact'}, {'@role': 'reactant', 'molecule': {'@id': 'm5', 'name': {'@dictRef': 'nameDict:unknown', '#text': 'di-tert-butyl (6-aminoisoquinolin-1-yl)imidodicarbonate'}}, 'identifier': [{'@dictRef': 'cml:smiles', '@value': 'NC=1C=C2C=CN=C(C2=CC1)N(C(=O)OC(C)(C)C)C(=O)OC(C)(C)C'}, {'@dictRef': 'cml:inchi', '@value': 'InChI=1S/C19H25N3O4/c1-18(2,3)25-16(23)22(17(24)26-19(4,5)6)15-14-8-7-13(20)11-12(14)9-10-21-15/h7-11H,20H2,1-6H3'}], 'dl:entityType': 'exact'}]}, 'spectatorList': None, 'dl:reactionActionList': {'dl:reactionAction': [{'@action': 'Synthesize', 'dl:phraseText': 'According to the procedure for the preparation of Intermediate 206.4, Intermediate 217.3 (424 mg, 0.641 mmol)', 'dl:chemical': [{'@ref': 'm2'}, {'@ref': 'm3'}]}, {'@action': 'Yield', 'dl:phraseText': 'to afford after flash chromatography (0 to 60% EtOAc/hexanes gradient) 615 mg of intermediate 217.4 as a pale yellow solid', 'dl:chemical': [{'@ref': 'm0'}, {'@ref': 'm1'}]}]}}: could not convert string to float: '0 to 60'\n",
      "Error with {'dl:source': {'dl:documentId': 'US20060211720A1', 'dl:paragraphNum': '1409', 'dl:paragraphText': 'According to the procedure for the preparation of Intermediate 206.4, Intermediate 398.3 (65 mg, 0.104 mmol) was converted to the chloro intermediate, then displaced with di-tert-butyl (6-aminoisoquinolin-1-yl)imidodicarbonate (rt for 14 h) to afford after flash chromatography (0 to 100% EtOAc/hexanes gradient) 53.3 mg of Intermediate 398.4 as a colorless solid. LCMS (2 min gradient) RT=2.14 min, 723.1 (M+(H-Tr)+H)+.'}, 'dl:reactionSmiles': '[Br:1][C:2]1[N:3]=[C:4]([CH:26]([NH:38][C:39]2[CH:40]=[C:41]3[C:46](=[CH:47][CH:48]=2)[C:45]([N:49]([C:57]([O:59][C:60]([CH3:63])([CH3:62])[CH3:61])=[O:58])[C:50]([O:52][C:53]([CH3:56])([CH3:55])[CH3:54])=[O:51])=[N:44][CH:43]=[CH:42]3)[C:27]2[CH:32]=[C:31]([CH2:33][CH3:34])[CH:30]=[C:29](OC)[C:28]=2[F:37])[N:5]([C:7]([C:20]2[CH:25]=[CH:24][CH:23]=[CH:22][CH:21]=2)([C:14]2[CH:19]=[CH:18][CH:17]=[CH:16][CH:15]=2)[C:8]2[CH:13]=[CH:12][CH:11]=[CH:10][CH:9]=2)[CH:6]=1.BrC1N=C(C(O)C2C(F)=C([N:98]3[CH2:102][CH2:101][CH2:100][C:99]3=[O:103])C=C(CC)C=2)N(C(C2C=CC=CC=2)(C2C=CC=CC=2)C2C=CC=CC=2)C=1.BrC1N=C(C(Cl)C2C=C(CC)C=C(OC)C=2F)N(C(C2C=CC=CC=2)(C2C=CC=CC=2)C2C=CC=CC=2)C=1.NC1C=C2C(=CC=1)C(N(C(OC(C)(C)C)=O)C(OC(C)(C)C)=O)=NC=C2>>[Br:1][C:2]1[N:3]=[C:4]([CH:26]([NH:38][C:39]2[CH:40]=[C:41]3[C:46](=[CH:47][CH:48]=2)[C:45]([N:49]([C:50]([O:52][C:53]([CH3:56])([CH3:55])[CH3:54])=[O:51])[C:57]([O:59][C:60]([CH3:62])([CH3:63])[CH3:61])=[O:58])=[N:44][CH:43]=[CH:42]3)[C:27]2[CH:32]=[C:31]([CH2:33][CH3:34])[CH:30]=[C:29]([N:98]3[CH2:102][CH2:101][CH2:100][C:99]3=[O:103])[C:28]=2[F:37])[N:5]([C:7]([C:8]2[CH:13]=[CH:12][CH:11]=[CH:10][CH:9]=2)([C:20]2[CH:21]=[CH:22][CH:23]=[CH:24][CH:25]=2)[C:14]2[CH:19]=[CH:18][CH:17]=[CH:16][CH:15]=2)[CH:6]=1', 'productList': {'product': [{'@role': 'product', 'molecule': {'@id': 'm0', 'name': {'@dictRef': 'nameDict:unknown', '#text': 'EtOAc hexanes'}}, 'amount': {'@dl:propertyType': 'PERCENTYIELD', '@dl:normalizedValue': '0 to 100', '#text': '0 to 100%'}, 'dl:entityType': 'chemicalClass'}, {'@role': 'product', 'molecule': {'@id': 'm1', 'name': {'@dictRef': 'nameDict:unknown', '#text': 'Intermediate 398.4'}, 'dl:nameResolved': 'di-tert-butyl (6-{[(4-bromo-1-trityl-1H-imidazol-2-yl) (5-ethyl-2-fluoro-3-(2-oxopyrrolidin-1-yl)phenyl)methyl]amino}isoquinolin-1-yl)imidodicarbonate'}, 'amount': {'@dl:propertyType': 'MASS', '@dl:normalizedValue': '0.0533', '#text': '53.3 mg'}, 'identifier': [{'@dictRef': 'cml:smiles', '@value': 'BrC=1N=C(N(C1)C(C1=CC=CC=C1)(C1=CC=CC=C1)C1=CC=CC=C1)C(C1=C(C(=CC(=C1)CC)N1C(CCC1)=O)F)NC=1C=C2C=CN=C(C2=CC1)N(C(=O)OC(C)(C)C)C(=O)OC(C)(C)C'}, {'@dictRef': 'cml:inchi', '@value': 'InChI=1S/C54H54BrFN6O5/c1-8-35-31-42(46(56)43(32-35)60-30-18-25-45(60)63)47(58-40-26-27-41-36(33-40)28-29-57-48(41)62(50(64)66-52(2,3)4)51(65)67-53(5,6)7)49-59-44(55)34-61(49)54(37-19-12-9-13-20-37,38-21-14-10-15-22-38)39-23-16-11-17-24-39/h9-17,19-24,26-29,31-34,47,58H,8,18,25,30H2,1-7H3'}], 'dl:entityType': 'definiteReference', 'dl:appearance': 'colorless', 'dl:state': 'solid'}]}, 'reactantList': {'reactant': [{'@role': 'reactant', '@count': '1', 'molecule': {'@id': 'm2', 'name': {'@dictRef': 'nameDict:unknown', '#text': 'Intermediate 206.4'}, 'dl:nameResolved': 'di-tert-butyl (6-{[(4-bromo-1-trityl-1H-imidazol-2-yl)(5-ethyl-2-fluoro-3-methoxyphenyl)methyl]amino}isoquinolin-1-yl)imidodicarbonate'}, 'identifier': [{'@dictRef': 'cml:smiles', '@value': 'BrC=1N=C(N(C1)C(C1=CC=CC=C1)(C1=CC=CC=C1)C1=CC=CC=C1)C(C1=C(C(=CC(=C1)CC)OC)F)NC=1C=C2C=CN=C(C2=CC1)N(C(=O)OC(C)(C)C)C(=O)OC(C)(C)C'}, {'@dictRef': 'cml:inchi', '@value': 'InChI=1S/C51H51BrFN5O5/c1-9-33-29-40(43(53)41(30-33)61-8)44(55-38-25-26-39-34(31-38)27-28-54-45(39)58(47(59)62-49(2,3)4)48(60)63-50(5,6)7)46-56-42(52)32-57(46)51(35-19-13-10-14-20-35,36-21-15-11-16-22-36)37-23-17-12-18-24-37/h10-32,44,55H,9H2,1-8H3'}], 'dl:entityType': 'definiteReference'}, {'@role': 'reactant', '@count': '1', 'molecule': {'@id': 'm3', 'name': {'@dictRef': 'nameDict:unknown', '#text': 'Intermediate 398.3'}, 'dl:nameResolved': '1-(3-((4-bromo-1-trityl-1H-imidazol-2-yl)(hydroxy)methyl)-5-ethyl-2-fluorophenyl)pyrrolidin-2-one'}, 'amount': [{'@dl:propertyType': 'AMOUNT', '@dl:normalizedValue': '0.000104', '#text': '0.104 mmol'}, {'@dl:propertyType': 'MASS', '@dl:normalizedValue': '0.065', '#text': '65 mg'}], 'identifier': [{'@dictRef': 'cml:smiles', '@value': 'BrC=1N=C(N(C1)C(C1=CC=CC=C1)(C1=CC=CC=C1)C1=CC=CC=C1)C(C=1C(=C(C=C(C1)CC)N1C(CCC1)=O)F)O'}, {'@dictRef': 'cml:inchi', '@value': 'InChI=1S/C35H31BrFN3O2/c1-2-24-21-28(32(37)29(22-24)39-20-12-19-31(39)41)33(42)34-38-30(36)23-40(34)35(25-13-6-3-7-14-25,26-15-8-4-9-16-26)27-17-10-5-11-18-27/h3-11,13-18,21-23,33,42H,2,12,19-20H2,1H3'}], 'dl:entityType': 'definiteReference'}, {'@role': 'reactant', 'molecule': {'@id': 'm4', 'name': {'@dictRef': 'nameDict:unknown', '#text': 'chloro'}, 'dl:nameResolved': '4-bromo-2-(chloro(5-ethyl-2-fluoro-3-methoxyphenyl)methyl)-1-trityl-1H-imidazole'}, 'identifier': [{'@dictRef': 'cml:smiles', '@value': 'BrC=1N=C(N(C1)C(C1=CC=CC=C1)(C1=CC=CC=C1)C1=CC=CC=C1)C(C1=C(C(=CC(=C1)CC)OC)F)Cl'}, {'@dictRef': 'cml:inchi', '@value': 'InChI=1S/C32H27BrClFN2O/c1-3-22-19-26(30(35)27(20-22)38-2)29(34)31-36-28(33)21-37(31)32(23-13-7-4-8-14-23,24-15-9-5-10-16-24)25-17-11-6-12-18-25/h4-21,29H,3H2,1-2H3'}], 'dl:entityType': 'exact'}, {'@role': 'reactant', 'molecule': {'@id': 'm5', 'name': {'@dictRef': 'nameDict:unknown', '#text': 'di-tert-butyl (6-aminoisoquinolin-1-yl)imidodicarbonate'}}, 'identifier': [{'@dictRef': 'cml:smiles', '@value': 'NC=1C=C2C=CN=C(C2=CC1)N(C(=O)OC(C)(C)C)C(=O)OC(C)(C)C'}, {'@dictRef': 'cml:inchi', '@value': 'InChI=1S/C19H25N3O4/c1-18(2,3)25-16(23)22(17(24)26-19(4,5)6)15-14-8-7-13(20)11-12(14)9-10-21-15/h7-11H,20H2,1-6H3'}], 'dl:entityType': 'exact'}]}, 'spectatorList': None, 'dl:reactionActionList': {'dl:reactionAction': [{'@action': 'Synthesize', 'dl:phraseText': 'According to the procedure for the preparation of Intermediate 206.4, Intermediate 398.3 (65 mg, 0.104 mmol)', 'dl:chemical': [{'@ref': 'm2'}, {'@ref': 'm3'}]}, {'@action': 'Unknown', 'dl:phraseText': 'displaced with di-tert-butyl (6-aminoisoquinolin-1-yl)imidodicarbonate (rt for 14 h)', 'dl:chemical': {'@ref': 'm5'}, 'dl:parameter': [{'@propertyType': 'Time', '@normalizedValue': '50400', '#text': '14 h'}, {'@propertyType': 'Temperature', '@normalizedValue': 'room temperature', '#text': 'rt'}]}, {'@action': 'Yield', 'dl:phraseText': 'to afford after flash chromatography (0 to 100% EtOAc/hexanes gradient) 53.3 mg of Intermediate 398.4 as a colorless solid', 'dl:chemical': [{'@ref': 'm0'}, {'@ref': 'm1'}]}]}}: could not convert string to float: '0 to 100'\n",
      "Error with {'dl:source': {'dl:documentId': 'US20070197526A1', 'dl:headingText': '2-Acetyl-7-methoxy-3,4-dihydro-2H-naphthalen-1-one.', 'dl:paragraphNum': '0174', 'dl:paragraphText': 'Boron trifluoride etherate (0.53 mL) was added dropwise to a stirred mixture of 7-methoxytetralone (176 mg, 1 mmol) in acetic anhydride (1.8 mL). The reaction was stirred at room temperature for 2 hours, then poured into ice-water and stirred for 1 hour. The mixture was extracted with ether, and the ether extracts were evaporated. The residue was diluted with methanol (12 mL) and saturated sodium acetate (8 mL) and stirred at reflux for 4 hours. After cooling to room temperature, the solution was extracted with dichloromethane. The organic extracts were washed with brine, dried over MgSO4, and concentrated. SiO2 chromatography with 5-20% ethyl acetate/hexanes gave 72.5 mg of the desired product. LC-MS (C13H14O3 calculated 218) m/z 217 (M−H).'}, 'dl:reactionSmiles': 'B(F)(F)F.[CH3:5][CH2:6][O:7]CC.[CH3:10][O:11][C:12]1[CH:21]=[C:20]2[C:15]([CH2:16][CH2:17][CH2:18][C:19]2=[O:22])=[CH:14][CH:13]=1>C(OC(=O)C)(=O)C>[C:6]([CH:18]1[CH2:17][CH2:16][C:15]2[C:20](=[CH:21][C:12]([O:11][CH3:10])=[CH:13][CH:14]=2)[C:19]1=[O:22])(=[O:7])[CH3:5] |f:0.1|', 'productList': {'product': [{'@role': 'product', 'molecule': {'@id': 'm0', 'name': {'@dictRef': 'nameDict:unknown', '#text': 'ethyl acetate hexanes'}}, 'amount': {'@dl:propertyType': 'PERCENTYIELD', '@dl:normalizedValue': '5 to 20', '#text': '5-20%'}, 'dl:entityType': 'chemicalClass'}, {'@role': 'product', 'molecule': {'@id': 'm1', 'name': {'@dictRef': 'nameDict:unknown', '#text': 'desired product'}, 'dl:nameResolved': '2-Acetyl-7-methoxy-3,4-dihydro-2H-naphthalen-1-one'}, 'amount': {'@dl:propertyType': 'MASS', '@dl:normalizedValue': '0.0725', '#text': '72.5 mg'}, 'identifier': [{'@dictRef': 'cml:smiles', '@value': 'C(C)(=O)C1C(C2=CC(=CC=C2CC1)OC)=O'}, {'@dictRef': 'cml:inchi', '@value': 'InChI=1S/C13H14O3/c1-8(14)11-6-4-9-3-5-10(16-2)7-12(9)13(11)15/h3,5,7,11H,4,6H2,1-2H3'}], 'dl:entityType': 'definiteReference'}]}, 'reactantList': {'reactant': [{'@role': 'reactant', '@count': '1', 'molecule': {'@id': 'm2', 'name': {'@dictRef': 'nameDict:unknown', '#text': 'Boron trifluoride etherate'}}, 'amount': {'@dl:propertyType': 'VOLUME', '@dl:normalizedValue': '0.00053', '#text': '0.53 mL'}, 'identifier': [{'@dictRef': 'cml:smiles', '@value': 'B(F)(F)F.CCOCC'}, {'@dictRef': 'cml:inchi', '@value': 'InChI=1S/C4H10O.BF3/c1-3-5-4-2;2-1(3)4/h3-4H2,1-2H3;'}], 'dl:entityType': 'exact'}, {'@role': 'reactant', '@count': '1', 'molecule': {'@id': 'm3', 'name': {'@dictRef': 'nameDict:unknown', '#text': '7-methoxytetralone'}}, 'amount': [{'@dl:propertyType': 'AMOUNT', '@dl:normalizedValue': '0.001', '#text': '1 mmol'}, {'@dl:propertyType': 'MASS', '@dl:normalizedValue': '0.176', '#text': '176 mg'}], 'identifier': [{'@dictRef': 'cml:smiles', '@value': 'COC1=CC=C2CCCC(C2=C1)=O'}, {'@dictRef': 'cml:inchi', '@value': 'InChI=1S/C11H12O2/c1-13-9-6-5-8-3-2-4-11(12)10(8)7-9/h5-7H,2-4H2,1H3'}], 'dl:entityType': 'exact'}, {'@role': 'reactant', 'molecule': {'@id': 'm4', 'name': {'@dictRef': 'nameDict:unknown', '#text': 'ice water'}}, 'dl:entityType': 'exact'}]}, 'spectatorList': {'spectator': {'@role': 'solvent', 'molecule': {'@id': 'm5', 'name': {'@dictRef': 'nameDict:unknown', '#text': 'acetic anhydride'}}, 'amount': {'@dl:propertyType': 'VOLUME', '@dl:normalizedValue': '0.0018', '#text': '1.8 mL'}, 'identifier': [{'@dictRef': 'cml:smiles', '@value': 'C(C)(=O)OC(C)=O'}, {'@dictRef': 'cml:inchi', '@value': 'InChI=1S/C4H6O3/c1-3(5)7-4(2)6/h1-2H3'}], 'dl:entityType': 'exact'}}, 'dl:reactionActionList': {'dl:reactionAction': [{'@action': 'Add', 'dl:phraseText': 'Boron trifluoride etherate (0.53 mL) was added dropwise to a stirred mixture of 7-methoxytetralone (176 mg, 1 mmol) in acetic anhydride (1.8 mL)', 'dl:chemical': [{'@ref': 'm2'}, {'@ref': 'm3'}, {'@ref': 'm5'}]}, {'@action': 'Stir', 'dl:phraseText': 'The reaction was stirred at room temperature for 2 hours', 'dl:parameter': [{'@propertyType': 'Time', '@normalizedValue': '7200', '#text': '2 hours'}, {'@propertyType': 'Temperature', '@normalizedValue': 'room temperature', '#text': 'room temperature'}]}, {'@action': 'Add', 'dl:phraseText': 'poured into ice-water', 'dl:chemical': {'@ref': 'm4'}}, {'@action': 'Stir', 'dl:phraseText': 'stirred for 1 hour', 'dl:parameter': {'@propertyType': 'Time', '@normalizedValue': '3600', '#text': '1 hour'}}, {'@action': 'Extract', 'dl:phraseText': 'The mixture was extracted with ether', 'chemical': {'molecule': {'@id': 'm6', 'name': {'@dictRef': 'nameDict:unknown', '#text': 'ether'}}, 'identifier': [{'@dictRef': 'cml:smiles', '@value': 'CCOCC'}, {'@dictRef': 'cml:inchi', '@value': 'InChI=1S/C4H10O/c1-3-5-4-2/h3-4H2,1-2H3'}], 'dl:entityType': 'exact'}}, {'@action': 'Remove', 'dl:phraseText': 'the ether extracts were evaporated', 'chemical': {'molecule': {'@id': 'm7', 'name': {'@dictRef': 'nameDict:unknown', '#text': 'ether'}}, 'identifier': [{'@dictRef': 'cml:smiles', '@value': 'CCOCC'}, {'@dictRef': 'cml:inchi', '@value': 'InChI=1S/C4H10O/c1-3-5-4-2/h3-4H2,1-2H3'}], 'dl:entityType': 'definiteReference'}}, {'@action': 'Add', 'dl:phraseText': 'The residue was diluted with methanol (12 mL) and saturated sodium acetate (8 mL)', 'chemical': [{'molecule': {'@id': 'm8', 'name': {'@dictRef': 'nameDict:unknown', '#text': 'methanol'}}, 'amount': {'@dl:propertyType': 'VOLUME', '@dl:normalizedValue': '0.012', '#text': '12 mL'}, 'identifier': [{'@dictRef': 'cml:smiles', '@value': 'CO'}, {'@dictRef': 'cml:inchi', '@value': 'InChI=1S/CH4O/c1-2/h2H,1H3'}], 'dl:entityType': 'exact'}, {'molecule': {'@id': 'm9', 'name': {'@dictRef': 'nameDict:unknown', '#text': 'sodium acetate'}}, 'amount': {'@dl:propertyType': 'VOLUME', '@dl:normalizedValue': '0.008', '#text': '8 mL'}, 'identifier': [{'@dictRef': 'cml:smiles', '@value': 'C(C)(=O)[O-].[Na+]'}, {'@dictRef': 'cml:inchi', '@value': 'InChI=1S/C2H4O2.Na/c1-2(3)4;/h1H3,(H,3,4);/q;+1/p-1'}], 'dl:entityType': 'exact'}]}, {'@action': 'Stir', 'dl:phraseText': 'stirred'}, {'@action': 'Heat', 'dl:phraseText': 'at reflux for 4 hours', 'dl:parameter': {'@propertyType': 'Time', '@normalizedValue': '14400', '#text': '4 hours'}}, {'@action': 'Cool', 'dl:phraseText': 'After cooling to room temperature', 'dl:parameter': {'@propertyType': 'Temperature', '@normalizedValue': 'room temperature', '#text': 'room temperature'}}, {'@action': 'Extract', 'dl:phraseText': 'the solution was extracted with dichloromethane', 'chemical': {'molecule': {'@id': 'm10', 'name': {'@dictRef': 'nameDict:unknown', '#text': 'dichloromethane'}}, 'identifier': [{'@dictRef': 'cml:smiles', '@value': 'ClCCl'}, {'@dictRef': 'cml:inchi', '@value': 'InChI=1S/CH2Cl2/c2-1-3/h1H2'}], 'dl:entityType': 'exact'}}, {'@action': 'Wash', 'dl:phraseText': 'The organic extracts were washed with brine', 'chemical': {'molecule': {'@id': 'm11', 'name': {'@dictRef': 'nameDict:unknown', '#text': 'brine'}}, 'identifier': [{'@dictRef': 'cml:smiles', '@value': '[Cl-].[Na+].O'}, {'@dictRef': 'cml:inchi', '@value': 'InChI=1S/ClH.Na.H2O/h1H;;1H2/q;+1;/p-1'}], 'dl:entityType': 'exact'}}, {'@action': 'Dry', 'dl:phraseText': 'dried over MgSO4', 'chemical': {'molecule': {'@id': 'm12', 'name': {'@dictRef': 'nameDict:unknown', '#text': 'MgSO4'}}, 'identifier': [{'@dictRef': 'cml:smiles', '@value': '[O-]S(=O)(=O)[O-].[Mg+2]'}, {'@dictRef': 'cml:inchi', '@value': 'InChI=1S/Mg.H2O4S/c;1-5(2,3)4/h;(H2,1,2,3,4)/q+2;/p-2'}], 'dl:entityType': 'exact'}}, {'@action': 'Concentrate', 'dl:phraseText': 'concentrated'}, {'@action': 'Yield', 'dl:phraseText': 'SiO2 chromatography with 5-20% ethyl acetate/hexanes gave 72.5 mg of the desired product', 'chemical': {'molecule': {'@id': 'm13', 'name': {'@dictRef': 'nameDict:unknown', '#text': 'SiO2'}}, 'dl:entityType': 'falsePositive'}, 'dl:chemical': [{'@ref': 'm0'}, {'@ref': 'm1'}]}]}}: could not convert string to float: '5 to 20'\n",
      "Error with {'dl:source': {'dl:documentId': 'US20070004741A1', 'dl:headingText': '5-Chloro-3-(4-fluoro-phenyl)-[1,2,4]thiadiazole', 'dl:paragraphNum': '0169', 'dl:paragraphText': 'To a suspension of 4-fluorobenzamidine hydrochloride (0.385 g) in DCM (5 mL) was added perchloromethyl mercaptan (0.219 mL). The resulting mixture was cooled to 0° C., treated with 6 N NaOH (2 mL) and stirred for 30 min. The resulting mixture was diluted with water (10 mL) and extracted with DCM (20 mL). The organic layer was dried (MgSO4) and concentrated. Chromatography of the residue (0-20% EtOAc-hexanes) gave the title compound as a yellow-orange solid (0.43 g).'}, 'dl:reactionSmiles': 'Cl.[F:2][C:3]1[CH:11]=[CH:10][C:6]([C:7]([NH2:9])=[NH:8])=[CH:5][CH:4]=1.[Cl:12][C:13]([SH:16])(Cl)Cl.[OH-].[Na+]>C(Cl)Cl.O>[Cl:12][C:13]1[S:16][N:9]=[C:7]([C:6]2[CH:10]=[CH:11][C:3]([F:2])=[CH:4][CH:5]=2)[N:8]=1 |f:0.1,3.4|', 'productList': {'product': [{'@role': 'product', 'molecule': {'@id': 'm0', 'name': {'@dictRef': 'nameDict:unknown', '#text': 'EtOAc-hexanes'}}, 'amount': {'@dl:propertyType': 'PERCENTYIELD', '@dl:normalizedValue': '0 to 20', '#text': '0-20%'}, 'dl:entityType': 'exact'}, {'@role': 'product', 'molecule': {'@id': 'm1', 'name': {'@dictRef': 'nameDict:unknown', '#text': 'title compound'}, 'dl:nameResolved': '5-Chloro-3-(4-fluoro-phenyl)-[1,2,4]thiadiazole'}, 'amount': {'@dl:propertyType': 'MASS', '@dl:normalizedValue': '0.43', '#text': '0.43 g'}, 'identifier': [{'@dictRef': 'cml:smiles', '@value': 'ClC1=NC(=NS1)C1=CC=C(C=C1)F'}, {'@dictRef': 'cml:inchi', '@value': 'InChI=1S/C8H4ClFN2S/c9-8-11-7(12-13-8)5-1-3-6(10)4-2-5/h1-4H'}], 'dl:entityType': 'definiteReference', 'dl:appearance': 'yellow-orange', 'dl:state': 'solid'}]}, 'reactantList': {'reactant': [{'@role': 'reactant', '@count': '1', 'molecule': {'@id': 'm2', 'name': {'@dictRef': 'nameDict:unknown', '#text': '4-fluorobenzamidine hydrochloride'}}, 'amount': {'@dl:propertyType': 'MASS', '@dl:normalizedValue': '0.385', '#text': '0.385 g'}, 'identifier': [{'@dictRef': 'cml:smiles', '@value': 'Cl.FC1=CC=C(C(=N)N)C=C1'}, {'@dictRef': 'cml:inchi', '@value': 'InChI=1S/C7H7FN2.ClH/c8-6-3-1-5(2-4-6)7(9)10;/h1-4H,(H3,9,10);1H'}], 'dl:entityType': 'exact'}, {'@role': 'reactant', '@count': '1', 'molecule': {'@id': 'm3', 'name': {'@dictRef': 'nameDict:unknown', '#text': 'perchloromethyl mercaptan'}}, 'amount': {'@dl:propertyType': 'VOLUME', '@dl:normalizedValue': '0.000219', '#text': '0.219 mL'}, 'identifier': [{'@dictRef': 'cml:smiles', '@value': 'ClC(Cl)(Cl)S'}, {'@dictRef': 'cml:inchi', '@value': 'InChI=1S/CHCl3S/c2-1(3,4)5/h5H'}], 'dl:entityType': 'exact'}, {'@role': 'reactant', 'molecule': {'@id': 'm4', 'name': {'@dictRef': 'nameDict:unknown', '#text': 'NaOH'}}, 'amount': [{'@dl:propertyType': 'MOLARITY', '@dl:normalizedValue': '6', '#text': '6 N'}, {'@dl:propertyType': 'VOLUME', '@dl:normalizedValue': '0.002', '#text': '2 mL'}], 'identifier': [{'@dictRef': 'cml:smiles', '@value': '[OH-].[Na+]'}, {'@dictRef': 'cml:inchi', '@value': 'InChI=1S/Na.H2O/h;1H2/q+1;/p-1'}], 'dl:entityType': 'exact'}]}, 'spectatorList': {'spectator': [{'@role': 'solvent', 'molecule': {'@id': 'm5', 'name': {'@dictRef': 'nameDict:unknown', '#text': 'DCM'}}, 'amount': {'@dl:propertyType': 'VOLUME', '@dl:normalizedValue': '0.005', '#text': '5 mL'}, 'identifier': [{'@dictRef': 'cml:smiles', '@value': 'C(Cl)Cl'}, {'@dictRef': 'cml:inchi', '@value': 'InChI=1S/CH2Cl2/c2-1-3/h1H2'}], 'dl:entityType': 'exact'}, {'@role': 'solvent', 'molecule': {'@id': 'm6', 'name': {'@dictRef': 'nameDict:unknown', '#text': 'water'}}, 'amount': {'@dl:propertyType': 'VOLUME', '@dl:normalizedValue': '0.010', '#text': '10 mL'}, 'identifier': [{'@dictRef': 'cml:smiles', '@value': 'O'}, {'@dictRef': 'cml:inchi', '@value': 'InChI=1S/H2O/h1H2'}], 'dl:entityType': 'exact'}]}, 'dl:reactionActionList': {'dl:reactionAction': [{'@action': 'Add', 'dl:phraseText': 'To a suspension of 4-fluorobenzamidine hydrochloride (0.385 g) in DCM (5 mL)', 'dl:chemical': [{'@ref': 'm2'}, {'@ref': 'm5'}]}, {'@action': 'Add', 'dl:phraseText': 'was added perchloromethyl mercaptan (0.219 mL)', 'dl:chemical': {'@ref': 'm3'}}, {'@action': 'Cool', 'dl:phraseText': 'The resulting mixture was cooled to 0° C.', 'dl:parameter': {'@propertyType': 'Temperature', '@normalizedValue': '0', '#text': '0° C.'}}, {'@action': 'Add', 'dl:phraseText': 'treated with 6 N NaOH (2 mL)', 'dl:chemical': {'@ref': 'm4'}}, {'@action': 'Stir', 'dl:phraseText': 'stirred for 30 min', 'dl:parameter': {'@propertyType': 'Time', '@normalizedValue': '1800', '#text': '30 min'}}, {'@action': 'Add', 'dl:phraseText': 'The resulting mixture was diluted with water (10 mL)', 'dl:chemical': {'@ref': 'm6'}}, {'@action': 'Extract', 'dl:phraseText': 'extracted with DCM (20 mL)', 'chemical': {'molecule': {'@id': 'm7', 'name': {'@dictRef': 'nameDict:unknown', '#text': 'DCM'}}, 'amount': {'@dl:propertyType': 'VOLUME', '@dl:normalizedValue': '0.020', '#text': '20 mL'}, 'identifier': [{'@dictRef': 'cml:smiles', '@value': 'C(Cl)Cl'}, {'@dictRef': 'cml:inchi', '@value': 'InChI=1S/CH2Cl2/c2-1-3/h1H2'}], 'dl:entityType': 'exact'}}, {'@action': 'Dry', 'dl:phraseText': 'The organic layer was dried (MgSO4)', 'chemical': {'molecule': {'@id': 'm8', 'name': {'@dictRef': 'nameDict:unknown', '#text': 'MgSO4'}}, 'identifier': [{'@dictRef': 'cml:smiles', '@value': '[O-]S(=O)(=O)[O-].[Mg+2]'}, {'@dictRef': 'cml:inchi', '@value': 'InChI=1S/Mg.H2O4S/c;1-5(2,3)4/h;(H2,1,2,3,4)/q+2;/p-2'}], 'dl:entityType': 'exact'}}, {'@action': 'Concentrate', 'dl:phraseText': 'concentrated'}, {'@action': 'Yield', 'dl:phraseText': 'Chromatography of the residue (0-20% EtOAc-hexanes) gave the title compound as a yellow-orange solid (0.43 g)', 'dl:chemical': [{'@ref': 'm0'}, {'@ref': 'm1'}]}]}}: could not convert string to float: '0 to 20'\n",
      "Error with {'dl:source': {'dl:documentId': 'US20070004741A1', 'dl:headingText': '5-Chloro-3-(4-fluoro-phenyl)-[1,2,4]thiadiazole', 'dl:paragraphNum': '0169', 'dl:paragraphText': 'To a suspension of 4-fluorobenzamidine hydrochloride (0.385 g) in DCM (5 mL) was added perchloromethyl mercaptan (0.219 mL). The resulting mixture was cooled to 0° C., treated with 6 N NaOH (2 mL) and stirred for 30 min. The resulting mixture was diluted with water (10 mL) and extracted with DCM (20 mL). The organic layer was dried (MgSO4) and concentrated. Chromatography of the residue (0-20% EtOAc-hexanes) gave the title compound as a yellow-orange solid (0.43 g).'}, 'dl:reactionSmiles': 'Cl.[F:2][C:3]1[CH:11]=[CH:10][C:6]([C:7]([NH2:9])=[NH:8])=[CH:5][CH:4]=1.[Cl:12][C:13]([SH:16])(Cl)Cl.[OH-].[Na+]>C(Cl)Cl.O>[Cl:12][C:13]1[S:16][N:9]=[C:7]([C:6]2[CH:10]=[CH:11][C:3]([F:2])=[CH:4][CH:5]=2)[N:8]=1 |f:0.1,3.4|', 'productList': {'product': [{'@role': 'product', 'molecule': {'@id': 'm0', 'name': {'@dictRef': 'nameDict:unknown', '#text': 'EtOAc-hexanes'}}, 'amount': {'@dl:propertyType': 'PERCENTYIELD', '@dl:normalizedValue': '0 to 20', '#text': '0-20%'}, 'dl:entityType': 'exact'}, {'@role': 'product', 'molecule': {'@id': 'm1', 'name': {'@dictRef': 'nameDict:unknown', '#text': 'title compound'}, 'dl:nameResolved': '5-Chloro-3-(4-fluoro-phenyl)-[1,2,4]thiadiazole'}, 'amount': {'@dl:propertyType': 'MASS', '@dl:normalizedValue': '0.43', '#text': '0.43 g'}, 'identifier': [{'@dictRef': 'cml:smiles', '@value': 'ClC1=NC(=NS1)C1=CC=C(C=C1)F'}, {'@dictRef': 'cml:inchi', '@value': 'InChI=1S/C8H4ClFN2S/c9-8-11-7(12-13-8)5-1-3-6(10)4-2-5/h1-4H'}], 'dl:entityType': 'definiteReference', 'dl:appearance': 'yellow-orange', 'dl:state': 'solid'}]}, 'reactantList': {'reactant': [{'@role': 'reactant', '@count': '1', 'molecule': {'@id': 'm2', 'name': {'@dictRef': 'nameDict:unknown', '#text': '4-fluorobenzamidine hydrochloride'}}, 'amount': {'@dl:propertyType': 'MASS', '@dl:normalizedValue': '0.385', '#text': '0.385 g'}, 'identifier': [{'@dictRef': 'cml:smiles', '@value': 'Cl.FC1=CC=C(C(=N)N)C=C1'}, {'@dictRef': 'cml:inchi', '@value': 'InChI=1S/C7H7FN2.ClH/c8-6-3-1-5(2-4-6)7(9)10;/h1-4H,(H3,9,10);1H'}], 'dl:entityType': 'exact'}, {'@role': 'reactant', '@count': '1', 'molecule': {'@id': 'm3', 'name': {'@dictRef': 'nameDict:unknown', '#text': 'perchloromethyl mercaptan'}}, 'amount': {'@dl:propertyType': 'VOLUME', '@dl:normalizedValue': '0.000219', '#text': '0.219 mL'}, 'identifier': [{'@dictRef': 'cml:smiles', '@value': 'ClC(Cl)(Cl)S'}, {'@dictRef': 'cml:inchi', '@value': 'InChI=1S/CHCl3S/c2-1(3,4)5/h5H'}], 'dl:entityType': 'exact'}, {'@role': 'reactant', 'molecule': {'@id': 'm4', 'name': {'@dictRef': 'nameDict:unknown', '#text': 'NaOH'}}, 'amount': [{'@dl:propertyType': 'MOLARITY', '@dl:normalizedValue': '6', '#text': '6 N'}, {'@dl:propertyType': 'VOLUME', '@dl:normalizedValue': '0.002', '#text': '2 mL'}], 'identifier': [{'@dictRef': 'cml:smiles', '@value': '[OH-].[Na+]'}, {'@dictRef': 'cml:inchi', '@value': 'InChI=1S/Na.H2O/h;1H2/q+1;/p-1'}], 'dl:entityType': 'exact'}]}, 'spectatorList': {'spectator': [{'@role': 'solvent', 'molecule': {'@id': 'm5', 'name': {'@dictRef': 'nameDict:unknown', '#text': 'DCM'}}, 'amount': {'@dl:propertyType': 'VOLUME', '@dl:normalizedValue': '0.005', '#text': '5 mL'}, 'identifier': [{'@dictRef': 'cml:smiles', '@value': 'C(Cl)Cl'}, {'@dictRef': 'cml:inchi', '@value': 'InChI=1S/CH2Cl2/c2-1-3/h1H2'}], 'dl:entityType': 'exact'}, {'@role': 'solvent', 'molecule': {'@id': 'm6', 'name': {'@dictRef': 'nameDict:unknown', '#text': 'water'}}, 'amount': {'@dl:propertyType': 'VOLUME', '@dl:normalizedValue': '0.010', '#text': '10 mL'}, 'identifier': [{'@dictRef': 'cml:smiles', '@value': 'O'}, {'@dictRef': 'cml:inchi', '@value': 'InChI=1S/H2O/h1H2'}], 'dl:entityType': 'exact'}]}, 'dl:reactionActionList': {'dl:reactionAction': [{'@action': 'Add', 'dl:phraseText': 'To a suspension of 4-fluorobenzamidine hydrochloride (0.385 g) in DCM (5 mL)', 'dl:chemical': [{'@ref': 'm2'}, {'@ref': 'm5'}]}, {'@action': 'Add', 'dl:phraseText': 'was added perchloromethyl mercaptan (0.219 mL)', 'dl:chemical': {'@ref': 'm3'}}, {'@action': 'Cool', 'dl:phraseText': 'The resulting mixture was cooled to 0° C.', 'dl:parameter': {'@propertyType': 'Temperature', '@normalizedValue': '0', '#text': '0° C.'}}, {'@action': 'Add', 'dl:phraseText': 'treated with 6 N NaOH (2 mL)', 'dl:chemical': {'@ref': 'm4'}}, {'@action': 'Stir', 'dl:phraseText': 'stirred for 30 min', 'dl:parameter': {'@propertyType': 'Time', '@normalizedValue': '1800', '#text': '30 min'}}, {'@action': 'Add', 'dl:phraseText': 'The resulting mixture was diluted with water (10 mL)', 'dl:chemical': {'@ref': 'm6'}}, {'@action': 'Extract', 'dl:phraseText': 'extracted with DCM (20 mL)', 'chemical': {'molecule': {'@id': 'm7', 'name': {'@dictRef': 'nameDict:unknown', '#text': 'DCM'}}, 'amount': {'@dl:propertyType': 'VOLUME', '@dl:normalizedValue': '0.020', '#text': '20 mL'}, 'identifier': [{'@dictRef': 'cml:smiles', '@value': 'C(Cl)Cl'}, {'@dictRef': 'cml:inchi', '@value': 'InChI=1S/CH2Cl2/c2-1-3/h1H2'}], 'dl:entityType': 'exact'}}, {'@action': 'Dry', 'dl:phraseText': 'The organic layer was dried (MgSO4)', 'chemical': {'molecule': {'@id': 'm8', 'name': {'@dictRef': 'nameDict:unknown', '#text': 'MgSO4'}}, 'identifier': [{'@dictRef': 'cml:smiles', '@value': '[O-]S(=O)(=O)[O-].[Mg+2]'}, {'@dictRef': 'cml:inchi', '@value': 'InChI=1S/Mg.H2O4S/c;1-5(2,3)4/h;(H2,1,2,3,4)/q+2;/p-2'}], 'dl:entityType': 'exact'}}, {'@action': 'Concentrate', 'dl:phraseText': 'concentrated'}, {'@action': 'Yield', 'dl:phraseText': 'Chromatography of the residue (0-20% EtOAc-hexanes) gave the title compound as a yellow-orange solid (0.43 g)', 'dl:chemical': [{'@ref': 'm0'}, {'@ref': 'm1'}]}]}}: could not convert string to float: '0 to 20'\n",
      "Error with {'dl:source': {'dl:documentId': 'US20090004185A1', 'dl:paragraphNum': '0482', 'dl:paragraphText': 'Starting from 2,4-dichloro-7-iodoquinazoline (648 mg, 2 mmol) and N-[4-(aminomethyl)phenyl]-6-chloronicotinamide (522 mg, 2 mmol) by following the same procedure as Example 87 (step 5), 6-chloro-N-(4-{[(2-chloro-7-iodoquinazolin-4-yl)amino]methyl}phenyl)nicotinamide was isolated as off-white solid (936 mg) in 85% yield; Mp: 315° C.; MS (ESI) m/z 550.1.'}, 'dl:reactionSmiles': '[Cl:1][C:2]1[N:11]=[C:10](Cl)[C:9]2[C:4](=[CH:5][C:6]([I:13])=[CH:7][CH:8]=2)[N:3]=1.[NH2:14][CH2:15][C:16]1[CH:21]=[CH:20][C:19]([NH:22][C:23](=[O:31])[C:24]2[CH:29]=[CH:28][C:27]([Cl:30])=[N:26][CH:25]=2)=[CH:18][CH:17]=1>>[Cl:30][C:27]1[CH:28]=[CH:29][C:24]([C:23]([NH:22][C:19]2[CH:20]=[CH:21][C:16]([CH2:15][NH:14][C:10]3[C:9]4[C:4](=[CH:5][C:6]([I:13])=[CH:7][CH:8]=4)[N:3]=[C:2]([Cl:1])[N:11]=3)=[CH:17][CH:18]=2)=[O:31])=[CH:25][N:26]=1', 'productList': {'product': [{'@role': 'product', 'molecule': {'@id': 'm0', 'name': {'@dictRef': 'nameDict:unknown', '#text': '6-chloro-N-(4-{[(2-chloro-7-iodoquinazolin-4-yl)amino]methyl}phenyl)nicotinamide'}}, 'amount': {'@dl:propertyType': 'PERCENTYIELD', '@dl:normalizedValue': '85', '#text': '85% yield'}, 'identifier': [{'@dictRef': 'cml:smiles', '@value': 'ClC1=NC=C(C(=O)NC2=CC=C(C=C2)CNC2=NC(=NC3=CC(=CC=C23)I)Cl)C=C1'}, {'@dictRef': 'cml:inchi', '@value': 'InChI=1S/C21H14Cl2IN5O/c22-18-8-3-13(11-25-18)20(30)27-15-5-1-12(2-6-15)10-26-19-16-7-4-14(24)9-17(16)28-21(23)29-19/h1-9,11H,10H2,(H,27,30)(H,26,28,29)'}], 'dl:entityType': 'exact'}, {'@role': 'product', 'molecule': {'@id': 'm1', 'name': {'@dictRef': 'nameDict:unknown', '#text': 'solid'}}, 'amount': {'@dl:propertyType': 'MASS', '@dl:normalizedValue': '0.936', '#text': '936 mg'}, 'dl:entityType': 'exact', 'dl:state': 'solid'}]}, 'reactantList': {'reactant': [{'@role': 'reactant', '@count': '1', 'molecule': {'@id': 'm2', 'name': {'@dictRef': 'nameDict:unknown', '#text': '2,4-dichloro-7-iodoquinazoline'}}, 'amount': [{'@dl:propertyType': 'AMOUNT', '@dl:normalizedValue': '0.002', '#text': '2 mmol'}, {'@dl:propertyType': 'MASS', '@dl:normalizedValue': '0.648', '#text': '648 mg'}], 'identifier': [{'@dictRef': 'cml:smiles', '@value': 'ClC1=NC2=CC(=CC=C2C(=N1)Cl)I'}, {'@dictRef': 'cml:inchi', '@value': 'InChI=1S/C8H3Cl2IN2/c9-7-5-2-1-4(11)3-6(5)12-8(10)13-7/h1-3H'}], 'dl:entityType': 'exact'}, {'@role': 'reactant', '@count': '1', 'molecule': {'@id': 'm3', 'name': {'@dictRef': 'nameDict:unknown', '#text': 'N-[4-(aminomethyl)phenyl]-6-chloronicotinamide'}}, 'amount': [{'@dl:propertyType': 'AMOUNT', '@dl:normalizedValue': '0.002', '#text': '2 mmol'}, {'@dl:propertyType': 'MASS', '@dl:normalizedValue': '0.522', '#text': '522 mg'}], 'identifier': [{'@dictRef': 'cml:smiles', '@value': 'NCC1=CC=C(C=C1)NC(C1=CN=C(C=C1)Cl)=O'}, {'@dictRef': 'cml:inchi', '@value': 'InChI=1S/C13H12ClN3O/c14-12-6-3-10(8-16-12)13(18)17-11-4-1-9(7-15)2-5-11/h1-6,8H,7,15H2,(H,17,18)'}], 'dl:entityType': 'exact'}]}, 'spectatorList': None, 'dl:reactionActionList': {'dl:reactionAction': {'@action': 'Yield', 'dl:phraseText': '6-chloro-N-(4-{[(2-chloro-7-iodoquinazolin-4-yl)amino]methyl}phenyl)nicotinamide was isolated as off-white solid (936 mg) in 85% yield', 'dl:chemical': [{'@ref': 'm0'}, {'@ref': 'm1'}]}}}: string indices must be integers\n",
      "Error with {'dl:source': {'dl:documentId': 'US20100075994A1', 'dl:paragraphNum': '1306', 'dl:paragraphText': 'An oven dried 500 ml RBF was charged with NaH (60% in mineral oil) (1.41 g, 35.3 mmol) and suspended in DMF (100 mL). The mixture was cooled to 0° C. and 4-(tetrahydro-pyran-2-yloxy)-but-2-yn-1-ol (prepared in accordance with the procedures of Tamaru et al., Bull. Chem. Soc. Jpn., 1995, 1689-1705) (6.0 g, 35.3 mmol) was added. The reaction mixture was allowed to reach room temperature and stirred for one hour. To the mixture was added iodoethane (20.8 g, 133 mmol). The reaction mixture was stirred for 3.5 hours at room temperature before being quenched with ice/H2O and extracted with MeOAc. The organic phase was washed with brine, dried (Na2SO4) and concentrated. Silica gel chromatography (1-20% MeOAc/hexane) provided 4.71 g of 2-(4-ethoxy-but-2-ynyloxy)-tetrahydro-pyran as a clear oil.'}, 'dl:reactionSmiles': '[H-].[Na+].[O:3]1[CH2:8][CH2:7][CH2:6][CH2:5][CH:4]1[O:9][CH2:10][C:11]#[C:12][CH2:13][OH:14].I[CH2:16][CH3:17]>CN(C=O)C>[CH3:8][O:3][C:4]([CH3:5])=[O:9].[CH3:4][CH2:5][CH2:6][CH2:7][CH2:16][CH3:17].[CH2:16]([O:14][CH2:13][C:12]#[C:11][CH2:10][O:9][CH:4]1[CH2:5][CH2:6][CH2:7][CH2:8][O:3]1)[CH3:17] |f:0.1,5.6|', 'productList': {'product': [{'@role': 'product', 'molecule': {'@id': 'm0', 'name': {'@dictRef': 'nameDict:unknown', '#text': 'MeOAc hexane'}}, 'amount': {'@dl:propertyType': 'PERCENTYIELD', '@dl:normalizedValue': '1 to 20', '#text': '1-20%'}, 'identifier': [{'@dictRef': 'cml:smiles', '@value': 'COC(=O)C.CCCCCC'}, {'@dictRef': 'cml:inchi', '@value': 'InChI=1S/C6H14.C3H6O2/c1-3-5-6-4-2;1-3(4)5-2/h3-6H2,1-2H3;1-2H3'}], 'dl:entityType': 'exact'}, {'@role': 'product', 'molecule': {'@id': 'm1', 'name': {'@dictRef': 'nameDict:unknown', '#text': '2-(4-ethoxy-but-2-ynyloxy)-tetrahydro-pyran'}}, 'amount': {'@dl:propertyType': 'MASS', '@dl:normalizedValue': '4.71', '#text': '4.71 g'}, 'identifier': [{'@dictRef': 'cml:smiles', '@value': 'C(C)OCC#CCOC1OCCCC1'}, {'@dictRef': 'cml:inchi', '@value': 'InChI=1S/C11H18O3/c1-2-12-8-5-6-10-14-11-7-3-4-9-13-11/h11H,2-4,7-10H2,1H3'}], 'dl:entityType': 'exact', 'dl:appearance': 'clear', 'dl:state': 'oil'}]}, 'reactantList': {'reactant': [{'@role': 'reactant', 'molecule': {'@id': 'm2', 'name': {'@dictRef': 'nameDict:unknown', '#text': 'NaH'}}, 'amount': [{'@dl:propertyType': 'AMOUNT', '@dl:normalizedValue': '0.0353', '#text': '35.3 mmol'}, {'@dl:propertyType': 'MASS', '@dl:normalizedValue': '1.41', '#text': '1.41 g'}], 'identifier': [{'@dictRef': 'cml:smiles', '@value': '[H-].[Na+]'}, {'@dictRef': 'cml:inchi', '@value': 'InChI=1S/Na.H/q+1;-1'}], 'dl:entityType': 'exact', 'dl:appearance': 'mineral', 'dl:state': 'oil'}, {'@role': 'reactant', '@count': '3', 'molecule': {'@id': 'm3', 'name': {'@dictRef': 'nameDict:unknown', '#text': '4-(tetrahydro-pyran-2-yloxy)-but-2-yn-1-ol'}}, 'identifier': [{'@dictRef': 'cml:smiles', '@value': 'O1C(CCCC1)OCC#CCO'}, {'@dictRef': 'cml:inchi', '@value': 'InChI=1S/C9H14O3/c10-6-2-4-8-12-9-5-1-3-7-11-9/h9-10H,1,3,5-8H2'}], 'dl:entityType': 'exact'}, {'@role': 'reactant', '@count': '2', 'molecule': {'@id': 'm4', 'name': {'@dictRef': 'nameDict:unknown', '#text': 'iodoethane'}}, 'amount': [{'@dl:propertyType': 'AMOUNT', '@dl:normalizedValue': '0.133', '#text': '133 mmol'}, {'@dl:propertyType': 'MASS', '@dl:normalizedValue': '20.8', '#text': '20.8 g'}], 'identifier': [{'@dictRef': 'cml:smiles', '@value': 'ICC'}, {'@dictRef': 'cml:inchi', '@value': 'InChI=1S/C2H5I/c1-2-3/h2H2,1H3'}], 'dl:entityType': 'exact'}]}, 'spectatorList': {'spectator': {'@role': 'solvent', 'molecule': {'@id': 'm5', 'name': {'@dictRef': 'nameDict:unknown', '#text': 'DMF'}}, 'amount': {'@dl:propertyType': 'VOLUME', '@dl:normalizedValue': '0.100', '#text': '100 mL'}, 'identifier': [{'@dictRef': 'cml:smiles', '@value': 'CN(C)C=O'}, {'@dictRef': 'cml:inchi', '@value': 'InChI=1S/C3H7NO/c1-4(2)3-5/h3H,1-2H3'}], 'dl:entityType': 'exact'}}, 'dl:reactionActionList': {'dl:reactionAction': [{'@action': 'Dry', 'dl:phraseText': 'An oven dried 500 ml RBF'}, {'@action': 'Add', 'dl:phraseText': 'was charged with NaH (60% in mineral oil) (1.41 g, 35.3 mmol)', 'dl:chemical': {'@ref': 'm2'}}, {'@action': 'Cool', 'dl:phraseText': 'The mixture was cooled to 0° C.', 'dl:parameter': {'@propertyType': 'Temperature', '@normalizedValue': '0', '#text': '0° C.'}}, {'@action': 'Synthesize', 'dl:phraseText': '4-(tetrahydro-pyran-2-yloxy)-but-2-yn-1-ol (prepared in accordance with the procedures of Tamaru et al., Bull', 'dl:chemical': {'@ref': 'm3'}}, {'@action': 'Add', 'dl:phraseText': ', 1995, 1689-1705) (6.0 g, 35.3 mmol) was added'}, {'@action': 'Unknown', 'dl:phraseText': 'to reach room temperature', 'dl:parameter': {'@propertyType': 'Temperature', '@normalizedValue': 'room temperature', '#text': 'room temperature'}}, {'@action': 'Stir', 'dl:phraseText': 'stirred for one hour', 'dl:parameter': {'@propertyType': 'Time', '@normalizedValue': '3600', '#text': 'one hour'}}, {'@action': 'Add', 'dl:phraseText': 'To the mixture was added iodoethane (20.8 g, 133 mmol)', 'dl:chemical': {'@ref': 'm4'}}, {'@action': 'Stir', 'dl:phraseText': 'The reaction mixture was stirred for 3.5 hours at room temperature', 'dl:parameter': [{'@propertyType': 'Time', '@normalizedValue': '12600', '#text': '3.5 hours'}, {'@propertyType': 'Temperature', '@normalizedValue': 'room temperature', '#text': 'room temperature'}]}, {'@action': 'Quench', 'dl:phraseText': 'before being quenched with ice/H2O', 'chemical': {'molecule': {'@id': 'm6', 'name': {'@dictRef': 'nameDict:unknown', '#text': 'ice H2O'}}, 'dl:entityType': 'exact'}}, {'@action': 'Extract', 'dl:phraseText': 'extracted with MeOAc', 'chemical': {'molecule': {'@id': 'm7', 'name': {'@dictRef': 'nameDict:unknown', '#text': 'MeOAc'}}, 'identifier': [{'@dictRef': 'cml:smiles', '@value': 'COC(=O)C'}, {'@dictRef': 'cml:inchi', '@value': 'InChI=1S/C3H6O2/c1-3(4)5-2/h1-2H3'}], 'dl:entityType': 'exact'}}, {'@action': 'Wash', 'dl:phraseText': 'The organic phase was washed with brine', 'chemical': {'molecule': {'@id': 'm8', 'name': {'@dictRef': 'nameDict:unknown', '#text': 'brine'}}, 'identifier': [{'@dictRef': 'cml:smiles', '@value': '[Cl-].[Na+].O'}, {'@dictRef': 'cml:inchi', '@value': 'InChI=1S/ClH.Na.H2O/h1H;;1H2/q;+1;/p-1'}], 'dl:entityType': 'exact'}}, {'@action': 'Dry', 'dl:phraseText': 'dried (Na2SO4)', 'chemical': {'molecule': {'@id': 'm9', 'name': {'@dictRef': 'nameDict:unknown', '#text': 'Na2SO4'}}, 'identifier': [{'@dictRef': 'cml:smiles', '@value': '[O-]S(=O)(=O)[O-].[Na+].[Na+]'}, {'@dictRef': 'cml:inchi', '@value': 'InChI=1S/2Na.H2O4S/c;;1-5(2,3)4/h;;(H2,1,2,3,4)/q2*+1;/p-2'}], 'dl:entityType': 'exact'}}, {'@action': 'Concentrate', 'dl:phraseText': 'concentrated'}, {'@action': 'Yield', 'dl:phraseText': 'Silica gel chromatography (1-20% MeOAc/hexane) provided 4.71 g of 2-(4-ethoxy-but-2-ynyloxy)-tetrahydro-pyran as a clear oil', 'chemical': {'molecule': {'@id': 'm10', 'name': {'@dictRef': 'nameDict:unknown', '#text': 'Silica gel'}}, 'dl:entityType': 'falsePositive'}, 'dl:chemical': [{'@ref': 'm0'}, {'@ref': 'm1'}]}]}}: could not convert string to float: '1 to 20'\n",
      "Error with {'dl:source': {'dl:documentId': 'US20100311930A1', 'dl:paragraphNum': '0085', 'dl:paragraphText': 'Using 2-Aminophenol and 5-(2-(trifluoromethyl)phenyl)furan-2-carbaldehyde, 3.53 g of 2-{[5-(2-(trifluoromethyl)phenyl)furan-2-yl]methyleneamino}phenol were obtained as a yellow powder (yield 89%).'}, 'dl:reactionSmiles': '[NH2:1][C:2]1[CH:7]=[CH:6][CH:5]=[CH:4][C:3]=1[OH:8].[F:9][C:10]([F:25])([F:24])[C:11]1[CH:16]=[CH:15][CH:14]=[CH:13][C:12]=1[C:17]1[O:21][C:20]([CH:22]=O)=[CH:19][CH:18]=1>>[F:25][C:10]([F:9])([F:24])[C:11]1[CH:16]=[CH:15][CH:14]=[CH:13][C:12]=1[C:17]1[O:21][C:20]([CH:22]=[N:1][C:2]2[CH:7]=[CH:6][CH:5]=[CH:4][C:3]=2[OH:8])=[CH:19][CH:18]=1', 'productList': {'product': [{'@role': 'product', 'molecule': {'@id': 'm0', 'name': {'@dictRef': 'nameDict:unknown', '#text': '2-{[5-(2-(trifluoromethyl)phenyl)furan-2-yl]methyleneamino}phenol'}}, 'amount': {'@dl:propertyType': 'MASS', '@dl:normalizedValue': '3.53', '#text': '3.53 g'}, 'identifier': [{'@dictRef': 'cml:smiles', '@value': 'FC(C1=C(C=CC=C1)C1=CC=C(O1)C=NC1=C(C=CC=C1)O)(F)F'}, {'@dictRef': 'cml:inchi', '@value': 'InChI=1S/C18H12F3NO2/c19-18(20,21)14-6-2-1-5-13(14)17-10-9-12(24-17)11-22-15-7-3-4-8-16(15)23/h1-11,23H'}], 'dl:entityType': 'exact'}, {'@role': 'product', 'molecule': {'@id': 'm1', 'name': {'@dictRef': 'nameDict:unknown', '#text': 'powder'}}, 'amount': {'@dl:propertyType': 'PERCENTYIELD', '@dl:normalizedValue': '89', '#text': 'yield 89%'}, 'dl:entityType': 'chemicalClass', 'dl:state': 'powder'}]}, 'reactantList': {'reactant': [{'@role': 'reactant', '@count': '1', 'molecule': {'@id': 'm2', 'name': {'@dictRef': 'nameDict:unknown', '#text': '2-Aminophenol'}}, 'identifier': [{'@dictRef': 'cml:smiles', '@value': 'NC1=C(C=CC=C1)O'}, {'@dictRef': 'cml:inchi', '@value': 'InChI=1S/C6H7NO/c7-5-3-1-2-4-6(5)8/h1-4,8H,7H2'}], 'dl:entityType': 'exact'}, {'@role': 'reactant', '@count': '1', 'molecule': {'@id': 'm3', 'name': {'@dictRef': 'nameDict:unknown', '#text': '5-(2-(trifluoromethyl)phenyl)furan-2-carbaldehyde'}}, 'identifier': [{'@dictRef': 'cml:smiles', '@value': 'FC(C1=C(C=CC=C1)C1=CC=C(O1)C=O)(F)F'}, {'@dictRef': 'cml:inchi', '@value': 'InChI=1S/C12H7F3O2/c13-12(14,15)10-4-2-1-3-9(10)11-6-5-8(7-16)17-11/h1-7H'}], 'dl:entityType': 'exact'}]}, 'spectatorList': None, 'dl:reactionActionList': {'dl:reactionAction': {'@action': 'Yield', 'dl:phraseText': '3.53 g of 2-{[5-(2-(trifluoromethyl)phenyl)furan-2-yl]methyleneamino}phenol were obtained as a yellow powder (yield 89%)', 'dl:chemical': [{'@ref': 'm0'}, {'@ref': 'm1'}]}}}: string indices must be integers\n",
      "Error with {'dl:source': {'dl:documentId': 'US20100311930A1', 'dl:paragraphNum': '0087', 'dl:paragraphText': 'Using 2-amino-4-methylphenol and 5-(2-(trifluoromethyl)phenyl)furan-2-carbaldehyde, 3.82 g of 4-methyl-2-{[5-(2-(trifluoromethyl)phenyl)furan-2-yl]methyleneamino}phenol were obtained as a yellow powder (yield 92%).'}, 'dl:reactionSmiles': '[NH2:1][C:2]1[CH:7]=[C:6]([CH3:8])[CH:5]=[CH:4][C:3]=1[OH:9].[F:10][C:11]([F:26])([F:25])[C:12]1[CH:17]=[CH:16][CH:15]=[CH:14][C:13]=1[C:18]1[O:22][C:21]([CH:23]=O)=[CH:20][CH:19]=1>>[CH3:8][C:6]1[CH:5]=[CH:4][C:3]([OH:9])=[C:2]([N:1]=[CH:23][C:21]2[O:22][C:18]([C:13]3[CH:14]=[CH:15][CH:16]=[CH:17][C:12]=3[C:11]([F:25])([F:10])[F:26])=[CH:19][CH:20]=2)[CH:7]=1', 'productList': {'product': [{'@role': 'product', 'molecule': {'@id': 'm0', 'name': {'@dictRef': 'nameDict:unknown', '#text': '4-methyl-2-{[5-(2-(trifluoromethyl)phenyl)furan-2-yl]methyleneamino}phenol'}}, 'amount': {'@dl:propertyType': 'MASS', '@dl:normalizedValue': '3.82', '#text': '3.82 g'}, 'identifier': [{'@dictRef': 'cml:smiles', '@value': 'CC1=CC(=C(C=C1)O)N=CC=1OC(=CC1)C1=C(C=CC=C1)C(F)(F)F'}, {'@dictRef': 'cml:inchi', '@value': 'InChI=1S/C19H14F3NO2/c1-12-6-8-17(24)16(10-12)23-11-13-7-9-18(25-13)14-4-2-3-5-15(14)19(20,21)22/h2-11,24H,1H3'}], 'dl:entityType': 'exact'}, {'@role': 'product', 'molecule': {'@id': 'm1', 'name': {'@dictRef': 'nameDict:unknown', '#text': 'powder'}}, 'amount': {'@dl:propertyType': 'PERCENTYIELD', '@dl:normalizedValue': '92', '#text': 'yield 92%'}, 'dl:entityType': 'chemicalClass', 'dl:state': 'powder'}]}, 'reactantList': {'reactant': [{'@role': 'reactant', '@count': '1', 'molecule': {'@id': 'm2', 'name': {'@dictRef': 'nameDict:unknown', '#text': '2-amino-4-methylphenol'}}, 'identifier': [{'@dictRef': 'cml:smiles', '@value': 'NC1=C(C=CC(=C1)C)O'}, {'@dictRef': 'cml:inchi', '@value': 'InChI=1S/C7H9NO/c1-5-2-3-7(9)6(8)4-5/h2-4,9H,8H2,1H3'}], 'dl:entityType': 'exact'}, {'@role': 'reactant', '@count': '1', 'molecule': {'@id': 'm3', 'name': {'@dictRef': 'nameDict:unknown', '#text': '5-(2-(trifluoromethyl)phenyl)furan-2-carbaldehyde'}}, 'identifier': [{'@dictRef': 'cml:smiles', '@value': 'FC(C1=C(C=CC=C1)C1=CC=C(O1)C=O)(F)F'}, {'@dictRef': 'cml:inchi', '@value': 'InChI=1S/C12H7F3O2/c13-12(14,15)10-4-2-1-3-9(10)11-6-5-8(7-16)17-11/h1-7H'}], 'dl:entityType': 'exact'}]}, 'spectatorList': None, 'dl:reactionActionList': {'dl:reactionAction': {'@action': 'Yield', 'dl:phraseText': '3.82 g of 4-methyl-2-{[5-(2-(trifluoromethyl)phenyl)furan-2-yl]methyleneamino}phenol were obtained as a yellow powder (yield 92%)', 'dl:chemical': [{'@ref': 'm0'}, {'@ref': 'm1'}]}}}: string indices must be integers\n",
      "Error with {'dl:source': {'dl:documentId': 'US20100311930A1', 'dl:paragraphNum': '0089', 'dl:paragraphText': 'Using 2-amino-4-tert-butylphenol and 5-(2-(trifluoromethyl)phenyl)furan-2-carbaldehyde, 4.25 g of 4-tert-butyl-2-{[5-(2-(trifluoromethyl)phenyl)furan-2-yl]methyleneamino}phenol were obtained as a yellow powder (yield 91%).'}, 'dl:reactionSmiles': '[NH2:1][C:2]1[CH:7]=[C:6]([C:8]([CH3:11])([CH3:10])[CH3:9])[CH:5]=[CH:4][C:3]=1[OH:12].[F:13][C:14]([F:29])([F:28])[C:15]1[CH:20]=[CH:19][CH:18]=[CH:17][C:16]=1[C:21]1[O:25][C:24]([CH:26]=O)=[CH:23][CH:22]=1>>[C:8]([C:6]1[CH:5]=[CH:4][C:3]([OH:12])=[C:2]([N:1]=[CH:26][C:24]2[O:25][C:21]([C:16]3[CH:17]=[CH:18][CH:19]=[CH:20][C:15]=3[C:14]([F:28])([F:13])[F:29])=[CH:22][CH:23]=2)[CH:7]=1)([CH3:9])([CH3:11])[CH3:10]', 'productList': {'product': [{'@role': 'product', 'molecule': {'@id': 'm0', 'name': {'@dictRef': 'nameDict:unknown', '#text': '4-tert-butyl-2-{[5-(2-(trifluoromethyl)phenyl)furan-2-yl]methyleneamino}phenol'}}, 'amount': {'@dl:propertyType': 'MASS', '@dl:normalizedValue': '4.25', '#text': '4.25 g'}, 'identifier': [{'@dictRef': 'cml:smiles', '@value': 'C(C)(C)(C)C1=CC(=C(C=C1)O)N=CC=1OC(=CC1)C1=C(C=CC=C1)C(F)(F)F'}, {'@dictRef': 'cml:inchi', '@value': 'InChI=1S/C22H20F3NO2/c1-21(2,3)14-8-10-19(27)18(12-14)26-13-15-9-11-20(28-15)16-6-4-5-7-17(16)22(23,24)25/h4-13,27H,1-3H3'}], 'dl:entityType': 'exact'}, {'@role': 'product', 'molecule': {'@id': 'm1', 'name': {'@dictRef': 'nameDict:unknown', '#text': 'powder'}}, 'amount': {'@dl:propertyType': 'PERCENTYIELD', '@dl:normalizedValue': '91', '#text': 'yield 91%'}, 'dl:entityType': 'chemicalClass', 'dl:state': 'powder'}]}, 'reactantList': {'reactant': [{'@role': 'reactant', '@count': '1', 'molecule': {'@id': 'm2', 'name': {'@dictRef': 'nameDict:unknown', '#text': '2-amino-4-tert-butylphenol'}}, 'identifier': [{'@dictRef': 'cml:smiles', '@value': 'NC1=C(C=CC(=C1)C(C)(C)C)O'}, {'@dictRef': 'cml:inchi', '@value': 'InChI=1S/C10H15NO/c1-10(2,3)7-4-5-9(12)8(11)6-7/h4-6,12H,11H2,1-3H3'}], 'dl:entityType': 'exact'}, {'@role': 'reactant', '@count': '1', 'molecule': {'@id': 'm3', 'name': {'@dictRef': 'nameDict:unknown', '#text': '5-(2-(trifluoromethyl)phenyl)furan-2-carbaldehyde'}}, 'identifier': [{'@dictRef': 'cml:smiles', '@value': 'FC(C1=C(C=CC=C1)C1=CC=C(O1)C=O)(F)F'}, {'@dictRef': 'cml:inchi', '@value': 'InChI=1S/C12H7F3O2/c13-12(14,15)10-4-2-1-3-9(10)11-6-5-8(7-16)17-11/h1-7H'}], 'dl:entityType': 'exact'}]}, 'spectatorList': None, 'dl:reactionActionList': {'dl:reactionAction': {'@action': 'Yield', 'dl:phraseText': '4.25 g of 4-tert-butyl-2-{[5-(2-(trifluoromethyl)phenyl)furan-2-yl]methyleneamino}phenol were obtained as a yellow powder (yield 91%)', 'dl:chemical': [{'@ref': 'm0'}, {'@ref': 'm1'}]}}}: string indices must be integers\n",
      "Error with {'dl:source': {'dl:documentId': 'US20100311930A1', 'dl:paragraphNum': '0091', 'dl:paragraphText': 'Using 3-aminobiphenyl-4-ol and 5-(2-(trifluoromethyl)phenyl)furan-2-carbaldehyde, 1.64 g of 3-{[5-(2-(trifluoromethyl)phenyl)furan-2-yl]methyleneamino}biphenyl-4-ol was obtained as an orange powder (yield 34%).'}, 'dl:reactionSmiles': '[NH2:1][C:2]1[CH:3]=[C:4]([C:9]2[CH:14]=[CH:13][CH:12]=[CH:11][CH:10]=2)[CH:5]=[CH:6][C:7]=1[OH:8].[F:15][C:16]([F:31])([F:30])[C:17]1[CH:22]=[CH:21][CH:20]=[CH:19][C:18]=1[C:23]1[O:27][C:26]([CH:28]=O)=[CH:25][CH:24]=1>>[F:31][C:16]([F:15])([F:30])[C:17]1[CH:22]=[CH:21][CH:20]=[CH:19][C:18]=1[C:23]1[O:27][C:26]([CH:28]=[N:1][C:2]2[CH:3]=[C:4]([C:9]3[CH:14]=[CH:13][CH:12]=[CH:11][CH:10]=3)[CH:5]=[CH:6][C:7]=2[OH:8])=[CH:25][CH:24]=1', 'productList': {'product': [{'@role': 'product', 'molecule': {'@id': 'm0', 'name': {'@dictRef': 'nameDict:unknown', '#text': '3-{[5-(2-(trifluoromethyl)phenyl)furan-2-yl]methyleneamino}biphenyl-4-ol'}}, 'amount': {'@dl:propertyType': 'MASS', '@dl:normalizedValue': '1.64', '#text': '1.64 g'}, 'identifier': [{'@dictRef': 'cml:smiles', '@value': 'FC(C1=C(C=CC=C1)C1=CC=C(O1)C=NC=1C=C(C=CC1O)C1=CC=CC=C1)(F)F'}, {'@dictRef': 'cml:inchi', '@value': 'InChI=1S/C24H16F3NO2/c25-24(26,27)20-9-5-4-8-19(20)23-13-11-18(30-23)15-28-21-14-17(10-12-22(21)29)16-6-2-1-3-7-16/h1-15,29H'}], 'dl:entityType': 'exact'}, {'@role': 'product', 'molecule': {'@id': 'm1', 'name': {'@dictRef': 'nameDict:unknown', '#text': 'powder'}}, 'amount': {'@dl:propertyType': 'PERCENTYIELD', '@dl:normalizedValue': '34', '#text': 'yield 34%'}, 'dl:entityType': 'chemicalClass', 'dl:state': 'powder'}]}, 'reactantList': {'reactant': [{'@role': 'reactant', '@count': '1', 'molecule': {'@id': 'm2', 'name': {'@dictRef': 'nameDict:unknown', '#text': '3-aminobiphenyl-4-ol'}}, 'identifier': [{'@dictRef': 'cml:smiles', '@value': 'NC=1C=C(C=CC1O)C1=CC=CC=C1'}, {'@dictRef': 'cml:inchi', '@value': 'InChI=1S/C12H11NO/c13-11-8-10(6-7-12(11)14)9-4-2-1-3-5-9/h1-8,14H,13H2'}], 'dl:entityType': 'exact'}, {'@role': 'reactant', '@count': '1', 'molecule': {'@id': 'm3', 'name': {'@dictRef': 'nameDict:unknown', '#text': '5-(2-(trifluoromethyl)phenyl)furan-2-carbaldehyde'}}, 'identifier': [{'@dictRef': 'cml:smiles', '@value': 'FC(C1=C(C=CC=C1)C1=CC=C(O1)C=O)(F)F'}, {'@dictRef': 'cml:inchi', '@value': 'InChI=1S/C12H7F3O2/c13-12(14,15)10-4-2-1-3-9(10)11-6-5-8(7-16)17-11/h1-7H'}], 'dl:entityType': 'exact'}]}, 'spectatorList': None, 'dl:reactionActionList': {'dl:reactionAction': {'@action': 'Yield', 'dl:phraseText': '1.64 g of 3-{[5-(2-(trifluoromethyl)phenyl)furan-2-yl]methyleneamino}biphenyl-4-ol was obtained as an orange powder (yield 34%)', 'dl:chemical': [{'@ref': 'm0'}, {'@ref': 'm1'}]}}}: string indices must be integers\n",
      "Error with {'dl:source': {'dl:documentId': 'US20100311930A1', 'dl:paragraphNum': '0093', 'dl:paragraphText': 'Using 2-amino-4-chlorophenol and 5-(2-(trifluoromethyl)phenyl)furan-2-carbaldehyde, 3.76 g of 4-chloro-2-{[5-(2-(trifluoromethyl)phenyl)furan-2-yl]methyleneamino}phenol were obtained as a yellow powder (yield 86%).'}, 'dl:reactionSmiles': '[NH2:1][C:2]1[CH:7]=[C:6]([Cl:8])[CH:5]=[CH:4][C:3]=1[OH:9].[F:10][C:11]([F:26])([F:25])[C:12]1[CH:17]=[CH:16][CH:15]=[CH:14][C:13]=1[C:18]1[O:22][C:21]([CH:23]=O)=[CH:20][CH:19]=1>>[Cl:8][C:6]1[CH:5]=[CH:4][C:3]([OH:9])=[C:2]([N:1]=[CH:23][C:21]2[O:22][C:18]([C:13]3[CH:14]=[CH:15][CH:16]=[CH:17][C:12]=3[C:11]([F:25])([F:10])[F:26])=[CH:19][CH:20]=2)[CH:7]=1', 'productList': {'product': [{'@role': 'product', 'molecule': {'@id': 'm0', 'name': {'@dictRef': 'nameDict:unknown', '#text': '4-chloro-2-{[5-(2-(trifluoromethyl)phenyl)furan-2-yl]methyleneamino}phenol'}}, 'amount': {'@dl:propertyType': 'MASS', '@dl:normalizedValue': '3.76', '#text': '3.76 g'}, 'identifier': [{'@dictRef': 'cml:smiles', '@value': 'ClC1=CC(=C(C=C1)O)N=CC=1OC(=CC1)C1=C(C=CC=C1)C(F)(F)F'}, {'@dictRef': 'cml:inchi', '@value': 'InChI=1S/C18H11ClF3NO2/c19-11-5-7-16(24)15(9-11)23-10-12-6-8-17(25-12)13-3-1-2-4-14(13)18(20,21)22/h1-10,24H'}], 'dl:entityType': 'exact'}, {'@role': 'product', 'molecule': {'@id': 'm1', 'name': {'@dictRef': 'nameDict:unknown', '#text': 'powder'}}, 'amount': {'@dl:propertyType': 'PERCENTYIELD', '@dl:normalizedValue': '86', '#text': 'yield 86%'}, 'dl:entityType': 'chemicalClass', 'dl:state': 'powder'}]}, 'reactantList': {'reactant': [{'@role': 'reactant', '@count': '1', 'molecule': {'@id': 'm2', 'name': {'@dictRef': 'nameDict:unknown', '#text': '2-amino-4-chlorophenol'}}, 'identifier': [{'@dictRef': 'cml:smiles', '@value': 'NC1=C(C=CC(=C1)Cl)O'}, {'@dictRef': 'cml:inchi', '@value': 'InChI=1S/C6H6ClNO/c7-4-1-2-6(9)5(8)3-4/h1-3,9H,8H2'}], 'dl:entityType': 'exact'}, {'@role': 'reactant', '@count': '1', 'molecule': {'@id': 'm3', 'name': {'@dictRef': 'nameDict:unknown', '#text': '5-(2-(trifluoromethyl)phenyl)furan-2-carbaldehyde'}}, 'identifier': [{'@dictRef': 'cml:smiles', '@value': 'FC(C1=C(C=CC=C1)C1=CC=C(O1)C=O)(F)F'}, {'@dictRef': 'cml:inchi', '@value': 'InChI=1S/C12H7F3O2/c13-12(14,15)10-4-2-1-3-9(10)11-6-5-8(7-16)17-11/h1-7H'}], 'dl:entityType': 'exact'}]}, 'spectatorList': None, 'dl:reactionActionList': {'dl:reactionAction': {'@action': 'Yield', 'dl:phraseText': '3.76 g of 4-chloro-2-{[5-(2-(trifluoromethyl)phenyl)furan-2-yl]methyleneamino}phenol were obtained as a yellow powder (yield 86%)', 'dl:chemical': [{'@ref': 'm0'}, {'@ref': 'm1'}]}}}: string indices must be integers\n",
      "Error with {'dl:source': {'dl:documentId': 'US20100311930A1', 'dl:paragraphNum': '0095', 'dl:paragraphText': 'Using 2-Aminophenol and 5-(3-(trifluoromethyl)phenyl)furan-2-carbaldehyde, 3.44 g of 2-{[5-(3-(trifluoromethyl)phenyl)furan-2-yl]methyleneamino}phenol were obtained as a yellow powder (yield 86%).'}, 'dl:reactionSmiles': '[NH2:1][C:2]1[CH:7]=[CH:6][CH:5]=[CH:4][C:3]=1[OH:8].[F:9][C:10]([F:25])([F:24])[C:11]1[CH:12]=[C:13]([C:17]2[O:21][C:20]([CH:22]=O)=[CH:19][CH:18]=2)[CH:14]=[CH:15][CH:16]=1>>[F:25][C:10]([F:9])([F:24])[C:11]1[CH:12]=[C:13]([C:17]2[O:21][C:20]([CH:22]=[N:1][C:2]3[CH:7]=[CH:6][CH:5]=[CH:4][C:3]=3[OH:8])=[CH:19][CH:18]=2)[CH:14]=[CH:15][CH:16]=1', 'productList': {'product': [{'@role': 'product', 'molecule': {'@id': 'm0', 'name': {'@dictRef': 'nameDict:unknown', '#text': '2-{[5-(3-(trifluoromethyl)phenyl)furan-2-yl]methyleneamino}phenol'}}, 'amount': {'@dl:propertyType': 'MASS', '@dl:normalizedValue': '3.44', '#text': '3.44 g'}, 'identifier': [{'@dictRef': 'cml:smiles', '@value': 'FC(C=1C=C(C=CC1)C1=CC=C(O1)C=NC1=C(C=CC=C1)O)(F)F'}, {'@dictRef': 'cml:inchi', '@value': 'InChI=1S/C18H12F3NO2/c19-18(20,21)13-5-3-4-12(10-13)17-9-8-14(24-17)11-22-15-6-1-2-7-16(15)23/h1-11,23H'}], 'dl:entityType': 'exact'}, {'@role': 'product', 'molecule': {'@id': 'm1', 'name': {'@dictRef': 'nameDict:unknown', '#text': 'powder'}}, 'amount': {'@dl:propertyType': 'PERCENTYIELD', '@dl:normalizedValue': '86', '#text': 'yield 86%'}, 'dl:entityType': 'chemicalClass', 'dl:state': 'powder'}]}, 'reactantList': {'reactant': [{'@role': 'reactant', '@count': '1', 'molecule': {'@id': 'm2', 'name': {'@dictRef': 'nameDict:unknown', '#text': '2-Aminophenol'}}, 'identifier': [{'@dictRef': 'cml:smiles', '@value': 'NC1=C(C=CC=C1)O'}, {'@dictRef': 'cml:inchi', '@value': 'InChI=1S/C6H7NO/c7-5-3-1-2-4-6(5)8/h1-4,8H,7H2'}], 'dl:entityType': 'exact'}, {'@role': 'reactant', '@count': '1', 'molecule': {'@id': 'm3', 'name': {'@dictRef': 'nameDict:unknown', '#text': '5-(3-(trifluoromethyl)phenyl)furan-2-carbaldehyde'}}, 'identifier': [{'@dictRef': 'cml:smiles', '@value': 'FC(C=1C=C(C=CC1)C1=CC=C(O1)C=O)(F)F'}, {'@dictRef': 'cml:inchi', '@value': 'InChI=1S/C12H7F3O2/c13-12(14,15)9-3-1-2-8(6-9)11-5-4-10(7-16)17-11/h1-7H'}], 'dl:entityType': 'exact'}]}, 'spectatorList': None, 'dl:reactionActionList': {'dl:reactionAction': {'@action': 'Yield', 'dl:phraseText': '3.44 g of 2-{[5-(3-(trifluoromethyl)phenyl)furan-2-yl]methyleneamino}phenol were obtained as a yellow powder (yield 86%)', 'dl:chemical': [{'@ref': 'm0'}, {'@ref': 'm1'}]}}}: string indices must be integers\n",
      "Error with {'dl:source': {'dl:documentId': 'US20100311930A1', 'dl:paragraphNum': '0097', 'dl:paragraphText': 'Using 2-amino-4-nitrophenol and 5-(4-nitrophenyl)furan-2-carbaldehyde, 4.10 g of 4-nitro-2-{[5-(4-nitrophenyl)furan-2-yl]methyleneamino}phenol were obtained as a yellow powder (yield 97%).'}, 'dl:reactionSmiles': '[NH2:1][C:2]1[CH:7]=[C:6]([N+:8]([O-:10])=[O:9])[CH:5]=[CH:4][C:3]=1[OH:11].[N+:12]([C:15]1[CH:20]=[CH:19][C:18]([C:21]2[O:25][C:24]([CH:26]=O)=[CH:23][CH:22]=2)=[CH:17][CH:16]=1)([O-:14])=[O:13]>>[N+:8]([C:6]1[CH:5]=[CH:4][C:3]([OH:11])=[C:2]([N:1]=[CH:26][C:24]2[O:25][C:21]([C:18]3[CH:19]=[CH:20][C:15]([N+:12]([O-:14])=[O:13])=[CH:16][CH:17]=3)=[CH:22][CH:23]=2)[CH:7]=1)([O-:10])=[O:9]', 'productList': {'product': [{'@role': 'product', 'molecule': {'@id': 'm0', 'name': {'@dictRef': 'nameDict:unknown', '#text': '4-nitro-2-{[5-(4-nitrophenyl)furan-2-yl]methyleneamino}phenol'}}, 'amount': {'@dl:propertyType': 'MASS', '@dl:normalizedValue': '4.10', '#text': '4.10 g'}, 'identifier': [{'@dictRef': 'cml:smiles', '@value': '[N+](=O)([O-])C1=CC(=C(C=C1)O)N=CC=1OC(=CC1)C1=CC=C(C=C1)[N+](=O)[O-]'}, {'@dictRef': 'cml:inchi', '@value': 'InChI=1S/C17H11N3O6/c21-16-7-5-13(20(24)25)9-15(16)18-10-14-6-8-17(26-14)11-1-3-12(4-2-11)19(22)23/h1-10,21H'}], 'dl:entityType': 'exact'}, {'@role': 'product', 'molecule': {'@id': 'm1', 'name': {'@dictRef': 'nameDict:unknown', '#text': 'powder'}}, 'amount': {'@dl:propertyType': 'PERCENTYIELD', '@dl:normalizedValue': '97', '#text': 'yield 97%'}, 'dl:entityType': 'chemicalClass', 'dl:state': 'powder'}]}, 'reactantList': {'reactant': [{'@role': 'reactant', '@count': '1', 'molecule': {'@id': 'm2', 'name': {'@dictRef': 'nameDict:unknown', '#text': '2-amino-4-nitrophenol'}}, 'identifier': [{'@dictRef': 'cml:smiles', '@value': 'NC1=C(C=CC(=C1)[N+](=O)[O-])O'}, {'@dictRef': 'cml:inchi', '@value': 'InChI=1S/C6H6N2O3/c7-5-3-4(8(10)11)1-2-6(5)9/h1-3,9H,7H2'}], 'dl:entityType': 'exact'}, {'@role': 'reactant', '@count': '1', 'molecule': {'@id': 'm3', 'name': {'@dictRef': 'nameDict:unknown', '#text': '5-(4-nitrophenyl)furan-2-carbaldehyde'}}, 'identifier': [{'@dictRef': 'cml:smiles', '@value': '[N+](=O)([O-])C1=CC=C(C=C1)C1=CC=C(O1)C=O'}, {'@dictRef': 'cml:inchi', '@value': 'InChI=1S/C11H7NO4/c13-7-10-5-6-11(16-10)8-1-3-9(4-2-8)12(14)15/h1-7H'}], 'dl:entityType': 'exact'}]}, 'spectatorList': None, 'dl:reactionActionList': {'dl:reactionAction': {'@action': 'Yield', 'dl:phraseText': '4.10 g of 4-nitro-2-{[5-(4-nitrophenyl)furan-2-yl]methyleneamino}phenol were obtained as a yellow powder (yield 97%)', 'dl:chemical': [{'@ref': 'm0'}, {'@ref': 'm1'}]}}}: string indices must be integers\n",
      "Error with {'dl:source': {'dl:documentId': 'US20100311930A1', 'dl:paragraphNum': '0099', 'dl:paragraphText': 'Using 2-aminophenol and 5-(4-nitrophenyl)furan-2-carbaldehyde, 3.62 g of 2-{[5-(4-nitrophenyl)furan-2-yl]methyleneamino}phenol were obtained as a yellow powder (yield 98%).'}, 'dl:reactionSmiles': '[NH2:1][C:2]1[CH:7]=[CH:6][CH:5]=[CH:4][C:3]=1[OH:8].[N+:9]([C:12]1[CH:17]=[CH:16][C:15]([C:18]2[O:22][C:21]([CH:23]=O)=[CH:20][CH:19]=2)=[CH:14][CH:13]=1)([O-:11])=[O:10]>>[N+:9]([C:12]1[CH:13]=[CH:14][C:15]([C:18]2[O:22][C:21]([CH:23]=[N:1][C:2]3[CH:7]=[CH:6][CH:5]=[CH:4][C:3]=3[OH:8])=[CH:20][CH:19]=2)=[CH:16][CH:17]=1)([O-:11])=[O:10]', 'productList': {'product': [{'@role': 'product', 'molecule': {'@id': 'm0', 'name': {'@dictRef': 'nameDict:unknown', '#text': '2-{[5-(4-nitrophenyl)furan-2-yl]methyleneamino}phenol'}}, 'amount': {'@dl:propertyType': 'MASS', '@dl:normalizedValue': '3.62', '#text': '3.62 g'}, 'identifier': [{'@dictRef': 'cml:smiles', '@value': '[N+](=O)([O-])C1=CC=C(C=C1)C1=CC=C(O1)C=NC1=C(C=CC=C1)O'}, {'@dictRef': 'cml:inchi', '@value': 'InChI=1S/C17H12N2O4/c20-16-4-2-1-3-15(16)18-11-14-9-10-17(23-14)12-5-7-13(8-6-12)19(21)22/h1-11,20H'}], 'dl:entityType': 'exact'}, {'@role': 'product', 'molecule': {'@id': 'm1', 'name': {'@dictRef': 'nameDict:unknown', '#text': 'powder'}}, 'amount': {'@dl:propertyType': 'PERCENTYIELD', '@dl:normalizedValue': '98', '#text': 'yield 98%'}, 'dl:entityType': 'chemicalClass', 'dl:state': 'powder'}]}, 'reactantList': {'reactant': [{'@role': 'reactant', '@count': '1', 'molecule': {'@id': 'm2', 'name': {'@dictRef': 'nameDict:unknown', '#text': '2-aminophenol'}}, 'identifier': [{'@dictRef': 'cml:smiles', '@value': 'NC1=C(C=CC=C1)O'}, {'@dictRef': 'cml:inchi', '@value': 'InChI=1S/C6H7NO/c7-5-3-1-2-4-6(5)8/h1-4,8H,7H2'}], 'dl:entityType': 'exact'}, {'@role': 'reactant', '@count': '1', 'molecule': {'@id': 'm3', 'name': {'@dictRef': 'nameDict:unknown', '#text': '5-(4-nitrophenyl)furan-2-carbaldehyde'}}, 'identifier': [{'@dictRef': 'cml:smiles', '@value': '[N+](=O)([O-])C1=CC=C(C=C1)C1=CC=C(O1)C=O'}, {'@dictRef': 'cml:inchi', '@value': 'InChI=1S/C11H7NO4/c13-7-10-5-6-11(16-10)8-1-3-9(4-2-8)12(14)15/h1-7H'}], 'dl:entityType': 'exact'}]}, 'spectatorList': None, 'dl:reactionActionList': {'dl:reactionAction': {'@action': 'Yield', 'dl:phraseText': '3.62 g of 2-{[5-(4-nitrophenyl)furan-2-yl]methyleneamino}phenol were obtained as a yellow powder (yield 98%)', 'dl:chemical': [{'@ref': 'm0'}, {'@ref': 'm1'}]}}}: string indices must be integers\n",
      "Error with {'dl:source': {'dl:documentId': 'US20100311930A1', 'dl:paragraphNum': '0101', 'dl:paragraphText': 'Using 2-aminophenol and 5-(3-nitrophenyl)furan-2-carbaldehyde, 3.51 g of 2-{[5-(3-nitrophenyl)furan-2-yl]methyleneamino}phenol were obtained as a yellow powder (yield 95%).'}, 'dl:reactionSmiles': '[NH2:1][C:2]1[CH:7]=[CH:6][CH:5]=[CH:4][C:3]=1[OH:8].[N+:9]([C:12]1[CH:13]=[C:14]([C:18]2[O:22][C:21]([CH:23]=O)=[CH:20][CH:19]=2)[CH:15]=[CH:16][CH:17]=1)([O-:11])=[O:10]>>[N+:9]([C:12]1[CH:13]=[C:14]([C:18]2[O:22][C:21]([CH:23]=[N:1][C:2]3[CH:7]=[CH:6][CH:5]=[CH:4][C:3]=3[OH:8])=[CH:20][CH:19]=2)[CH:15]=[CH:16][CH:17]=1)([O-:11])=[O:10]', 'productList': {'product': [{'@role': 'product', 'molecule': {'@id': 'm0', 'name': {'@dictRef': 'nameDict:unknown', '#text': '2-{[5-(3-nitrophenyl)furan-2-yl]methyleneamino}phenol'}}, 'amount': {'@dl:propertyType': 'MASS', '@dl:normalizedValue': '3.51', '#text': '3.51 g'}, 'identifier': [{'@dictRef': 'cml:smiles', '@value': '[N+](=O)([O-])C=1C=C(C=CC1)C1=CC=C(O1)C=NC1=C(C=CC=C1)O'}, {'@dictRef': 'cml:inchi', '@value': 'InChI=1S/C17H12N2O4/c20-16-7-2-1-6-15(16)18-11-14-8-9-17(23-14)12-4-3-5-13(10-12)19(21)22/h1-11,20H'}], 'dl:entityType': 'exact'}, {'@role': 'product', 'molecule': {'@id': 'm1', 'name': {'@dictRef': 'nameDict:unknown', '#text': 'powder'}}, 'amount': {'@dl:propertyType': 'PERCENTYIELD', '@dl:normalizedValue': '95', '#text': 'yield 95%'}, 'dl:entityType': 'chemicalClass', 'dl:state': 'powder'}]}, 'reactantList': {'reactant': [{'@role': 'reactant', '@count': '1', 'molecule': {'@id': 'm2', 'name': {'@dictRef': 'nameDict:unknown', '#text': '2-aminophenol'}}, 'identifier': [{'@dictRef': 'cml:smiles', '@value': 'NC1=C(C=CC=C1)O'}, {'@dictRef': 'cml:inchi', '@value': 'InChI=1S/C6H7NO/c7-5-3-1-2-4-6(5)8/h1-4,8H,7H2'}], 'dl:entityType': 'exact'}, {'@role': 'reactant', '@count': '1', 'molecule': {'@id': 'm3', 'name': {'@dictRef': 'nameDict:unknown', '#text': '5-(3-nitrophenyl)furan-2-carbaldehyde'}}, 'identifier': [{'@dictRef': 'cml:smiles', '@value': '[N+](=O)([O-])C=1C=C(C=CC1)C1=CC=C(O1)C=O'}, {'@dictRef': 'cml:inchi', '@value': 'InChI=1S/C11H7NO4/c13-7-10-4-5-11(16-10)8-2-1-3-9(6-8)12(14)15/h1-7H'}], 'dl:entityType': 'exact'}]}, 'spectatorList': None, 'dl:reactionActionList': {'dl:reactionAction': {'@action': 'Yield', 'dl:phraseText': '3.51 g of 2-{[5-(3-nitrophenyl)furan-2-yl]methyleneamino}phenol were obtained as a yellow powder (yield 95%)', 'dl:chemical': [{'@ref': 'm0'}, {'@ref': 'm1'}]}}}: string indices must be integers\n",
      "Error with {'dl:source': {'dl:documentId': 'US20100311930A1', 'dl:paragraphNum': '0103', 'dl:paragraphText': 'Using 2-aminophenol and 5-(3-chlorophenyl)furan-2-carbaldehyde, 2.94 g of 2-{[5-(3-chlorophenyl)furan-2-yl]methyleneamino}phenol were obtained as a yellow powder (yield 82%).'}, 'dl:reactionSmiles': '[NH2:1][C:2]1[CH:7]=[CH:6][CH:5]=[CH:4][C:3]=1[OH:8].[Cl:9][C:10]1[CH:11]=[C:12]([C:16]2[O:20][C:19]([CH:21]=O)=[CH:18][CH:17]=2)[CH:13]=[CH:14][CH:15]=1>>[Cl:9][C:10]1[CH:11]=[C:12]([C:16]2[O:20][C:19]([CH:21]=[N:1][C:2]3[CH:7]=[CH:6][CH:5]=[CH:4][C:3]=3[OH:8])=[CH:18][CH:17]=2)[CH:13]=[CH:14][CH:15]=1', 'productList': {'product': [{'@role': 'product', 'molecule': {'@id': 'm0', 'name': {'@dictRef': 'nameDict:unknown', '#text': '2-{[5-(3-chlorophenyl)furan-2-yl]methyleneamino}phenol'}}, 'amount': {'@dl:propertyType': 'MASS', '@dl:normalizedValue': '2.94', '#text': '2.94 g'}, 'identifier': [{'@dictRef': 'cml:smiles', '@value': 'ClC=1C=C(C=CC1)C1=CC=C(O1)C=NC1=C(C=CC=C1)O'}, {'@dictRef': 'cml:inchi', '@value': 'InChI=1S/C17H12ClNO2/c18-13-5-3-4-12(10-13)17-9-8-14(21-17)11-19-15-6-1-2-7-16(15)20/h1-11,20H'}], 'dl:entityType': 'exact'}, {'@role': 'product', 'molecule': {'@id': 'm1', 'name': {'@dictRef': 'nameDict:unknown', '#text': 'powder'}}, 'amount': {'@dl:propertyType': 'PERCENTYIELD', '@dl:normalizedValue': '82', '#text': 'yield 82%'}, 'dl:entityType': 'chemicalClass', 'dl:state': 'powder'}]}, 'reactantList': {'reactant': [{'@role': 'reactant', '@count': '1', 'molecule': {'@id': 'm2', 'name': {'@dictRef': 'nameDict:unknown', '#text': '2-aminophenol'}}, 'identifier': [{'@dictRef': 'cml:smiles', '@value': 'NC1=C(C=CC=C1)O'}, {'@dictRef': 'cml:inchi', '@value': 'InChI=1S/C6H7NO/c7-5-3-1-2-4-6(5)8/h1-4,8H,7H2'}], 'dl:entityType': 'exact'}, {'@role': 'reactant', '@count': '1', 'molecule': {'@id': 'm3', 'name': {'@dictRef': 'nameDict:unknown', '#text': '5-(3-chlorophenyl)furan-2-carbaldehyde'}}, 'identifier': [{'@dictRef': 'cml:smiles', '@value': 'ClC=1C=C(C=CC1)C1=CC=C(O1)C=O'}, {'@dictRef': 'cml:inchi', '@value': 'InChI=1S/C11H7ClO2/c12-9-3-1-2-8(6-9)11-5-4-10(7-13)14-11/h1-7H'}], 'dl:entityType': 'exact'}]}, 'spectatorList': None, 'dl:reactionActionList': {'dl:reactionAction': {'@action': 'Yield', 'dl:phraseText': '2.94 g of 2-{[5-(3-chlorophenyl)furan-2-yl]methyleneamino}phenol were obtained as a yellow powder (yield 82%)', 'dl:chemical': [{'@ref': 'm0'}, {'@ref': 'm1'}]}}}: string indices must be integers\n",
      "Error with {'dl:source': {'dl:documentId': 'US20100311930A1', 'dl:paragraphNum': '0105', 'dl:paragraphText': 'Using 2-aminophenol and 5-(2-chlorophenyl)furan-2-carbaldehyde, 2.69 g of 2-{[5-(2-chlorophenyl)furan-2-yl]methyleneamino}phenol were obtained as a yellow powder (yield 75%).'}, 'dl:reactionSmiles': '[NH2:1][C:2]1[CH:7]=[CH:6][CH:5]=[CH:4][C:3]=1[OH:8].[Cl:9][C:10]1[CH:15]=[CH:14][CH:13]=[CH:12][C:11]=1[C:16]1[O:20][C:19]([CH:21]=O)=[CH:18][CH:17]=1>>[Cl:9][C:10]1[CH:15]=[CH:14][CH:13]=[CH:12][C:11]=1[C:16]1[O:20][C:19]([CH:21]=[N:1][C:2]2[CH:7]=[CH:6][CH:5]=[CH:4][C:3]=2[OH:8])=[CH:18][CH:17]=1', 'productList': {'product': [{'@role': 'product', 'molecule': {'@id': 'm0', 'name': {'@dictRef': 'nameDict:unknown', '#text': '2-{[5-(2-chlorophenyl)furan-2-yl]methyleneamino}phenol'}}, 'amount': {'@dl:propertyType': 'MASS', '@dl:normalizedValue': '2.69', '#text': '2.69 g'}, 'identifier': [{'@dictRef': 'cml:smiles', '@value': 'ClC1=C(C=CC=C1)C1=CC=C(O1)C=NC1=C(C=CC=C1)O'}, {'@dictRef': 'cml:inchi', '@value': 'InChI=1S/C17H12ClNO2/c18-14-6-2-1-5-13(14)17-10-9-12(21-17)11-19-15-7-3-4-8-16(15)20/h1-11,20H'}], 'dl:entityType': 'exact'}, {'@role': 'product', 'molecule': {'@id': 'm1', 'name': {'@dictRef': 'nameDict:unknown', '#text': 'powder'}}, 'amount': {'@dl:propertyType': 'PERCENTYIELD', '@dl:normalizedValue': '75', '#text': 'yield 75%'}, 'dl:entityType': 'chemicalClass', 'dl:state': 'powder'}]}, 'reactantList': {'reactant': [{'@role': 'reactant', '@count': '1', 'molecule': {'@id': 'm2', 'name': {'@dictRef': 'nameDict:unknown', '#text': '2-aminophenol'}}, 'identifier': [{'@dictRef': 'cml:smiles', '@value': 'NC1=C(C=CC=C1)O'}, {'@dictRef': 'cml:inchi', '@value': 'InChI=1S/C6H7NO/c7-5-3-1-2-4-6(5)8/h1-4,8H,7H2'}], 'dl:entityType': 'exact'}, {'@role': 'reactant', '@count': '1', 'molecule': {'@id': 'm3', 'name': {'@dictRef': 'nameDict:unknown', '#text': '5-(2-chlorophenyl)furan-2-carbaldehyde'}}, 'identifier': [{'@dictRef': 'cml:smiles', '@value': 'ClC1=C(C=CC=C1)C1=CC=C(O1)C=O'}, {'@dictRef': 'cml:inchi', '@value': 'InChI=1S/C11H7ClO2/c12-10-4-2-1-3-9(10)11-6-5-8(7-13)14-11/h1-7H'}], 'dl:entityType': 'exact'}]}, 'spectatorList': None, 'dl:reactionActionList': {'dl:reactionAction': {'@action': 'Yield', 'dl:phraseText': '2.69 g of 2-{[5-(2-chlorophenyl)furan-2-yl]methyleneamino}phenol were obtained as a yellow powder (yield 75%)', 'dl:chemical': [{'@ref': 'm0'}, {'@ref': 'm1'}]}}}: string indices must be integers\n",
      "Error with {'dl:source': {'dl:documentId': 'US20100311930A1', 'dl:paragraphNum': '0107', 'dl:paragraphText': 'Using 2-aminophenol and 5-(4-chlorophenyl)furan-2-carbaldehyde, 3.18 g of 2-{[5-(4-chlorophenyl)furan-2-yl]methyleneamino}phenol were obtained as a yellow powder (yield 89%).'}, 'dl:reactionSmiles': '[NH2:1][C:2]1[CH:7]=[CH:6][CH:5]=[CH:4][C:3]=1[OH:8].[Cl:9][C:10]1[CH:15]=[CH:14][C:13]([C:16]2[O:20][C:19]([CH:21]=O)=[CH:18][CH:17]=2)=[CH:12][CH:11]=1>>[Cl:9][C:10]1[CH:11]=[CH:12][C:13]([C:16]2[O:20][C:19]([CH:21]=[N:1][C:2]3[CH:7]=[CH:6][CH:5]=[CH:4][C:3]=3[OH:8])=[CH:18][CH:17]=2)=[CH:14][CH:15]=1', 'productList': {'product': [{'@role': 'product', 'molecule': {'@id': 'm0', 'name': {'@dictRef': 'nameDict:unknown', '#text': '2-{[5-(4-chlorophenyl)furan-2-yl]methyleneamino}phenol'}}, 'amount': {'@dl:propertyType': 'MASS', '@dl:normalizedValue': '3.18', '#text': '3.18 g'}, 'identifier': [{'@dictRef': 'cml:smiles', '@value': 'ClC1=CC=C(C=C1)C1=CC=C(O1)C=NC1=C(C=CC=C1)O'}, {'@dictRef': 'cml:inchi', '@value': 'InChI=1S/C17H12ClNO2/c18-13-7-5-12(6-8-13)17-10-9-14(21-17)11-19-15-3-1-2-4-16(15)20/h1-11,20H'}], 'dl:entityType': 'exact'}, {'@role': 'product', 'molecule': {'@id': 'm1', 'name': {'@dictRef': 'nameDict:unknown', '#text': 'powder'}}, 'amount': {'@dl:propertyType': 'PERCENTYIELD', '@dl:normalizedValue': '89', '#text': 'yield 89%'}, 'dl:entityType': 'chemicalClass', 'dl:state': 'powder'}]}, 'reactantList': {'reactant': [{'@role': 'reactant', '@count': '1', 'molecule': {'@id': 'm2', 'name': {'@dictRef': 'nameDict:unknown', '#text': '2-aminophenol'}}, 'identifier': [{'@dictRef': 'cml:smiles', '@value': 'NC1=C(C=CC=C1)O'}, {'@dictRef': 'cml:inchi', '@value': 'InChI=1S/C6H7NO/c7-5-3-1-2-4-6(5)8/h1-4,8H,7H2'}], 'dl:entityType': 'exact'}, {'@role': 'reactant', '@count': '1', 'molecule': {'@id': 'm3', 'name': {'@dictRef': 'nameDict:unknown', '#text': '5-(4-chlorophenyl)furan-2-carbaldehyde'}}, 'identifier': [{'@dictRef': 'cml:smiles', '@value': 'ClC1=CC=C(C=C1)C1=CC=C(O1)C=O'}, {'@dictRef': 'cml:inchi', '@value': 'InChI=1S/C11H7ClO2/c12-9-3-1-8(2-4-9)11-6-5-10(7-13)14-11/h1-7H'}], 'dl:entityType': 'exact'}]}, 'spectatorList': None, 'dl:reactionActionList': {'dl:reactionAction': {'@action': 'Yield', 'dl:phraseText': '3.18 g of 2-{[5-(4-chlorophenyl)furan-2-yl]methyleneamino}phenol were obtained as a yellow powder (yield 89%)', 'dl:chemical': [{'@ref': 'm0'}, {'@ref': 'm1'}]}}}: string indices must be integers\n",
      "Error with {'dl:source': {'dl:documentId': 'US20100311930A1', 'dl:paragraphNum': '0109', 'dl:paragraphText': 'Using 2-amino-4-chlorophenol and 5-(4-chlorophenyl)furan-2-carbaldehyde, 3.18 g of 4-chloro-2-{[5-(4-chlorophenyl)furan-2-yl]methyleneamino}phenol were obtained as a yellow powder (yield 95%).'}, 'dl:reactionSmiles': '[NH2:1][C:2]1[CH:7]=[C:6]([Cl:8])[CH:5]=[CH:4][C:3]=1[OH:9].[Cl:10][C:11]1[CH:16]=[CH:15][C:14]([C:17]2[O:21][C:20]([CH:22]=O)=[CH:19][CH:18]=2)=[CH:13][CH:12]=1>>[Cl:8][C:6]1[CH:5]=[CH:4][C:3]([OH:9])=[C:2]([N:1]=[CH:22][C:20]2[O:21][C:17]([C:14]3[CH:15]=[CH:16][C:11]([Cl:10])=[CH:12][CH:13]=3)=[CH:18][CH:19]=2)[CH:7]=1', 'productList': {'product': [{'@role': 'product', 'molecule': {'@id': 'm0', 'name': {'@dictRef': 'nameDict:unknown', '#text': '4-chloro-2-{[5-(4-chlorophenyl)furan-2-yl]methyleneamino}phenol'}}, 'amount': {'@dl:propertyType': 'MASS', '@dl:normalizedValue': '3.18', '#text': '3.18 g'}, 'identifier': [{'@dictRef': 'cml:smiles', '@value': 'ClC1=CC(=C(C=C1)O)N=CC=1OC(=CC1)C1=CC=C(C=C1)Cl'}, {'@dictRef': 'cml:inchi', '@value': 'InChI=1S/C17H11Cl2NO2/c18-12-3-1-11(2-4-12)17-8-6-14(22-17)10-20-15-9-13(19)5-7-16(15)21/h1-10,21H'}], 'dl:entityType': 'exact'}, {'@role': 'product', 'molecule': {'@id': 'm1', 'name': {'@dictRef': 'nameDict:unknown', '#text': 'powder'}}, 'amount': {'@dl:propertyType': 'PERCENTYIELD', '@dl:normalizedValue': '95', '#text': 'yield 95%'}, 'dl:entityType': 'chemicalClass', 'dl:state': 'powder'}]}, 'reactantList': {'reactant': [{'@role': 'reactant', '@count': '1', 'molecule': {'@id': 'm2', 'name': {'@dictRef': 'nameDict:unknown', '#text': '2-amino-4-chlorophenol'}}, 'identifier': [{'@dictRef': 'cml:smiles', '@value': 'NC1=C(C=CC(=C1)Cl)O'}, {'@dictRef': 'cml:inchi', '@value': 'InChI=1S/C6H6ClNO/c7-4-1-2-6(9)5(8)3-4/h1-3,9H,8H2'}], 'dl:entityType': 'exact'}, {'@role': 'reactant', '@count': '1', 'molecule': {'@id': 'm3', 'name': {'@dictRef': 'nameDict:unknown', '#text': '5-(4-chlorophenyl)furan-2-carbaldehyde'}}, 'identifier': [{'@dictRef': 'cml:smiles', '@value': 'ClC1=CC=C(C=C1)C1=CC=C(O1)C=O'}, {'@dictRef': 'cml:inchi', '@value': 'InChI=1S/C11H7ClO2/c12-9-3-1-8(2-4-9)11-6-5-10(7-13)14-11/h1-7H'}], 'dl:entityType': 'exact'}]}, 'spectatorList': None, 'dl:reactionActionList': {'dl:reactionAction': {'@action': 'Yield', 'dl:phraseText': '3.18 g of 4-chloro-2-{[5-(4-chlorophenyl)furan-2-yl]methyleneamino}phenol were obtained as a yellow powder (yield 95%)', 'dl:chemical': [{'@ref': 'm0'}, {'@ref': 'm1'}]}}}: string indices must be integers\n",
      "Error with {'dl:source': {'dl:documentId': 'US20110319611A1', 'dl:headingText': '8-chloro-2-(2′-bromophenyl)-4H-benzo[d][1,3]oxazin-4-one (compound CE3)', 'dl:paragraphNum': '0080', 'dl:paragraphText': 'The steps for preparing the title compound CE3 in Comparative Example 3 were similar to those of Comparative Example 1. The differences reside in that the amount of 2-amino-3-chlorobenzoic acid was 120 mg, and 177 mg of 2-fluorobenzoyl chloride was replaced by 224 mg of 2-bromobenzoyl chloride. 165 mg of a light yellow powder (i.e., the title compound CE3) was obtained (yield 50%).'}, 'dl:reactionSmiles': '[NH2:1][C:2]1[C:10]([Cl:11])=[CH:9][CH:8]=[CH:7][C:3]=1[C:4]([OH:6])=[O:5].FC1C=CC=CC=1C(Cl)=O.[Br:22][C:23]1[CH:31]=[CH:30][CH:29]=[CH:28][C:24]=1[C:25](Cl)=O>>[Cl:11][C:10]1[C:2]2[N:1]=[C:25]([C:24]3[CH:28]=[CH:29][CH:30]=[CH:31][C:23]=3[Br:22])[O:5][C:4](=[O:6])[C:3]=2[CH:7]=[CH:8][CH:9]=1', 'productList': {'product': [{'@role': 'product', 'molecule': {'@id': 'm0', 'name': {'@dictRef': 'nameDict:unknown', '#text': 'light yellow powder'}}, 'amount': {'@dl:propertyType': 'MASS', '@dl:normalizedValue': '0.165', '#text': '165 mg'}, 'dl:entityType': 'exact', 'dl:appearance': 'light yellow', 'dl:state': 'powder'}, {'@role': 'product', 'molecule': {'@id': 'm1', 'name': {'@dictRef': 'nameDict:unknown', '#text': 'title compound'}, 'dl:nameResolved': '8-chloro-2-(2′-bromophenyl)-4H-benzo[d][1,3]oxazin-4-one'}, 'amount': {'@dl:propertyType': 'PERCENTYIELD', '@dl:normalizedValue': '50', '#text': 'yield 50%'}, 'identifier': [{'@dictRef': 'cml:smiles', '@value': 'ClC1=CC=CC2=C1N=C(OC2=O)C2=C(C=CC=C2)Br'}, {'@dictRef': 'cml:inchi', '@value': 'InChI=1S/C14H7BrClNO2/c15-10-6-2-1-4-8(10)13-17-12-9(14(18)19-13)5-3-7-11(12)16/h1-7H'}], 'dl:entityType': 'definiteReference'}]}, 'reactantList': {'reactant': [{'@role': 'reactant', '@count': '1', 'molecule': {'@id': 'm2', 'name': {'@dictRef': 'nameDict:unknown', '#text': '2-amino-3-chlorobenzoic acid'}}, 'identifier': [{'@dictRef': 'cml:smiles', '@value': 'NC1=C(C(=O)O)C=CC=C1Cl'}, {'@dictRef': 'cml:inchi', '@value': 'InChI=1S/C7H6ClNO2/c8-5-3-1-2-4(6(5)9)7(10)11/h1-3H,9H2,(H,10,11)'}], 'dl:entityType': 'exact'}, {'@role': 'reactant', 'molecule': {'@id': 'm3', 'name': {'@dictRef': 'nameDict:unknown', '#text': '2-fluorobenzoyl chloride'}}, 'amount': {'@dl:propertyType': 'MASS', '@dl:normalizedValue': '0.177', '#text': '177 mg'}, 'identifier': [{'@dictRef': 'cml:smiles', '@value': 'FC1=C(C(=O)Cl)C=CC=C1'}, {'@dictRef': 'cml:inchi', '@value': 'InChI=1S/C7H4ClFO/c8-7(10)5-3-1-2-4-6(5)9/h1-4H'}], 'dl:entityType': 'exact'}, {'@role': 'reactant', '@count': '1', 'molecule': {'@id': 'm4', 'name': {'@dictRef': 'nameDict:unknown', '#text': '2-bromobenzoyl chloride'}}, 'amount': {'@dl:propertyType': 'MASS', '@dl:normalizedValue': '0.224', '#text': '224 mg'}, 'identifier': [{'@dictRef': 'cml:smiles', '@value': 'BrC1=C(C(=O)Cl)C=CC=C1'}, {'@dictRef': 'cml:inchi', '@value': 'InChI=1S/C7H4BrClO/c8-6-4-2-1-3-5(6)7(9)10/h1-4H'}], 'dl:entityType': 'exact'}]}, 'spectatorList': None, 'dl:reactionActionList': {'dl:reactionAction': {'@action': 'Yield', 'dl:phraseText': '165 mg of a light yellow powder (i.e., the title compound CE3) was obtained (yield 50%)', 'dl:chemical': [{'@ref': 'm0'}, {'@ref': 'm1'}]}}}: string indices must be integers\n",
      "Error with {'dl:source': {'dl:documentId': 'US20110319611A1', 'dl:headingText': '8-chloro-2-(2′-methylphenyl)-4H-benzo[d][1,3]oxazin-4-one (compound CE4)', 'dl:paragraphNum': '0082', 'dl:paragraphText': 'The steps for preparing the title compound CE4 in Comparative Example 4 were similar to those of Comparative Example 1. The differences reside in that the amount of 2-amino-3-chlorobenzoic acid was 175 mg, and 177 mg of 2-fluorobenzoyl chloride was replaced by 214 mg of 2-methylbenzoyl chloride. 110 mg of a light yellow powder (i.e., the title compound CE4) was obtained (yield 41%).'}, 'dl:reactionSmiles': '[NH2:1][C:2]1[C:10]([Cl:11])=[CH:9][CH:8]=[CH:7][C:3]=1[C:4]([OH:6])=[O:5].FC1C=CC=CC=1C(Cl)=O.[CH3:22][C:23]1[CH:31]=[CH:30][CH:29]=[CH:28][C:24]=1[C:25](Cl)=O>>[Cl:11][C:10]1[C:2]2[N:1]=[C:22]([C:23]3[CH:31]=[CH:30][CH:29]=[CH:28][C:24]=3[CH3:25])[O:5][C:4](=[O:6])[C:3]=2[CH:7]=[CH:8][CH:9]=1', 'productList': {'product': [{'@role': 'product', 'molecule': {'@id': 'm0', 'name': {'@dictRef': 'nameDict:unknown', '#text': 'light yellow powder'}}, 'amount': {'@dl:propertyType': 'MASS', '@dl:normalizedValue': '0.110', '#text': '110 mg'}, 'dl:entityType': 'exact', 'dl:appearance': 'light yellow', 'dl:state': 'powder'}, {'@role': 'product', 'molecule': {'@id': 'm1', 'name': {'@dictRef': 'nameDict:unknown', '#text': 'title compound'}, 'dl:nameResolved': '8-chloro-2-(2′-methylphenyl)-4H-benzo[d][1,3]oxazin-4-one'}, 'amount': {'@dl:propertyType': 'PERCENTYIELD', '@dl:normalizedValue': '41', '#text': 'yield 41%'}, 'identifier': [{'@dictRef': 'cml:smiles', '@value': 'ClC1=CC=CC2=C1N=C(OC2=O)C2=C(C=CC=C2)C'}, {'@dictRef': 'cml:inchi', '@value': 'InChI=1S/C15H10ClNO2/c1-9-5-2-3-6-10(9)14-17-13-11(15(18)19-14)7-4-8-12(13)16/h2-8H,1H3'}], 'dl:entityType': 'definiteReference'}]}, 'reactantList': {'reactant': [{'@role': 'reactant', '@count': '1', 'molecule': {'@id': 'm2', 'name': {'@dictRef': 'nameDict:unknown', '#text': '2-amino-3-chlorobenzoic acid'}}, 'identifier': [{'@dictRef': 'cml:smiles', '@value': 'NC1=C(C(=O)O)C=CC=C1Cl'}, {'@dictRef': 'cml:inchi', '@value': 'InChI=1S/C7H6ClNO2/c8-5-3-1-2-4(6(5)9)7(10)11/h1-3H,9H2,(H,10,11)'}], 'dl:entityType': 'exact'}, {'@role': 'reactant', 'molecule': {'@id': 'm3', 'name': {'@dictRef': 'nameDict:unknown', '#text': '2-fluorobenzoyl chloride'}}, 'amount': {'@dl:propertyType': 'MASS', '@dl:normalizedValue': '0.177', '#text': '177 mg'}, 'identifier': [{'@dictRef': 'cml:smiles', '@value': 'FC1=C(C(=O)Cl)C=CC=C1'}, {'@dictRef': 'cml:inchi', '@value': 'InChI=1S/C7H4ClFO/c8-7(10)5-3-1-2-4-6(5)9/h1-4H'}], 'dl:entityType': 'exact'}, {'@role': 'reactant', '@count': '1', 'molecule': {'@id': 'm4', 'name': {'@dictRef': 'nameDict:unknown', '#text': '2-methylbenzoyl chloride'}}, 'amount': {'@dl:propertyType': 'MASS', '@dl:normalizedValue': '0.214', '#text': '214 mg'}, 'identifier': [{'@dictRef': 'cml:smiles', '@value': 'CC1=C(C(=O)Cl)C=CC=C1'}, {'@dictRef': 'cml:inchi', '@value': 'InChI=1S/C8H7ClO/c1-6-4-2-3-5-7(6)8(9)10/h2-5H,1H3'}], 'dl:entityType': 'exact'}]}, 'spectatorList': None, 'dl:reactionActionList': {'dl:reactionAction': {'@action': 'Yield', 'dl:phraseText': '110 mg of a light yellow powder (i.e., the title compound CE4) was obtained (yield 41%)', 'dl:chemical': [{'@ref': 'm0'}, {'@ref': 'm1'}]}}}: string indices must be integers\n",
      "Error with {'dl:source': {'dl:documentId': 'US20110319611A1', 'dl:headingText': '8-chloro-2-(2′-methoxylphenyl)-4H-benzo[d][1,3]oxazin-4-one (compound CE5)', 'dl:paragraphNum': '0084', 'dl:paragraphText': 'The steps for preparing the title compound CE5 in Comparative Example 5 were similar to those of Comparative Example 1. The differences reside in that the amount of 2-amino-3-chlorobenzoic acid was 167 mg, and 177 mg of 2-fluorobenzoyl chloride was replaced by 220 mg of 2-methoxybenzoyl chloride. 146 mg of a light yellow powder (i.e., the title compound CE5) was obtained (yield 51%).'}, 'dl:reactionSmiles': '[NH2:1][C:2]1[C:10]([Cl:11])=[CH:9][CH:8]=[CH:7][C:3]=1[C:4]([OH:6])=[O:5].FC1C=CC=CC=1C(Cl)=O.[CH3:22][O:23][C:24]1[CH:32]=[CH:31][CH:30]=[CH:29][C:25]=1[C:26](Cl)=O>>[Cl:11][C:10]1[C:2]2[N:1]=[C:26]([C:25]3[CH:29]=[CH:30][CH:31]=[CH:32][C:24]=3[O:23][CH3:22])[O:5][C:4](=[O:6])[C:3]=2[CH:7]=[CH:8][CH:9]=1', 'productList': {'product': [{'@role': 'product', 'molecule': {'@id': 'm0', 'name': {'@dictRef': 'nameDict:unknown', '#text': 'light yellow powder'}}, 'amount': {'@dl:propertyType': 'MASS', '@dl:normalizedValue': '0.146', '#text': '146 mg'}, 'dl:entityType': 'exact', 'dl:appearance': 'light yellow', 'dl:state': 'powder'}, {'@role': 'product', 'molecule': {'@id': 'm1', 'name': {'@dictRef': 'nameDict:unknown', '#text': 'title compound'}, 'dl:nameResolved': '8-chloro-2-(2′-methoxylphenyl)-4H-benzo[d][1,3]oxazin-4-one'}, 'amount': {'@dl:propertyType': 'PERCENTYIELD', '@dl:normalizedValue': '51', '#text': 'yield 51%'}, 'identifier': [{'@dictRef': 'cml:smiles', '@value': 'ClC1=CC=CC2=C1N=C(OC2=O)C2=C(C=CC=C2)OC'}, {'@dictRef': 'cml:inchi', '@value': 'InChI=1S/C15H10ClNO3/c1-19-12-8-3-2-5-9(12)14-17-13-10(15(18)20-14)6-4-7-11(13)16/h2-8H,1H3'}], 'dl:entityType': 'definiteReference'}]}, 'reactantList': {'reactant': [{'@role': 'reactant', '@count': '1', 'molecule': {'@id': 'm2', 'name': {'@dictRef': 'nameDict:unknown', '#text': '2-amino-3-chlorobenzoic acid'}}, 'identifier': [{'@dictRef': 'cml:smiles', '@value': 'NC1=C(C(=O)O)C=CC=C1Cl'}, {'@dictRef': 'cml:inchi', '@value': 'InChI=1S/C7H6ClNO2/c8-5-3-1-2-4(6(5)9)7(10)11/h1-3H,9H2,(H,10,11)'}], 'dl:entityType': 'exact'}, {'@role': 'reactant', 'molecule': {'@id': 'm3', 'name': {'@dictRef': 'nameDict:unknown', '#text': '2-fluorobenzoyl chloride'}}, 'amount': {'@dl:propertyType': 'MASS', '@dl:normalizedValue': '0.177', '#text': '177 mg'}, 'identifier': [{'@dictRef': 'cml:smiles', '@value': 'FC1=C(C(=O)Cl)C=CC=C1'}, {'@dictRef': 'cml:inchi', '@value': 'InChI=1S/C7H4ClFO/c8-7(10)5-3-1-2-4-6(5)9/h1-4H'}], 'dl:entityType': 'exact'}, {'@role': 'reactant', '@count': '1', 'molecule': {'@id': 'm4', 'name': {'@dictRef': 'nameDict:unknown', '#text': '2-methoxybenzoyl chloride'}}, 'amount': {'@dl:propertyType': 'MASS', '@dl:normalizedValue': '0.220', '#text': '220 mg'}, 'identifier': [{'@dictRef': 'cml:smiles', '@value': 'COC1=C(C(=O)Cl)C=CC=C1'}, {'@dictRef': 'cml:inchi', '@value': 'InChI=1S/C8H7ClO2/c1-11-7-5-3-2-4-6(7)8(9)10/h2-5H,1H3'}], 'dl:entityType': 'exact'}]}, 'spectatorList': None, 'dl:reactionActionList': {'dl:reactionAction': {'@action': 'Yield', 'dl:phraseText': '146 mg of a light yellow powder (i.e., the title compound CE5) was obtained (yield 51%)', 'dl:chemical': [{'@ref': 'm0'}, {'@ref': 'm1'}]}}}: string indices must be integers\n",
      "Error with {'dl:source': {'dl:documentId': 'US20110319611A1', 'dl:headingText': '8-chloro-2-(2′-bromophenyl)-4H-benzo[d][1,3]oxazin-4-one (compound CE3)', 'dl:paragraphNum': '0080', 'dl:paragraphText': 'The steps for preparing the title compound CE3 in Comparative Example 3 were similar to those of Comparative Example 1. The differences reside in that the amount of 2-amino-3-chlorobenzoic acid was 120 mg, and 177 mg of 2-fluorobenzoyl chloride was replaced by 224 mg of 2-bromobenzoyl chloride. 165 mg of a light yellow powder (i.e., the title compound CE3) was obtained (yield 50%).'}, 'dl:reactionSmiles': '[NH2:1][C:2]1[C:10]([Cl:11])=[CH:9][CH:8]=[CH:7][C:3]=1[C:4]([OH:6])=[O:5].FC1C=CC=CC=1C(Cl)=O.[Br:22][C:23]1[CH:31]=[CH:30][CH:29]=[CH:28][C:24]=1[C:25](Cl)=O>>[Cl:11][C:10]1[C:2]2[N:1]=[C:25]([C:24]3[CH:28]=[CH:29][CH:30]=[CH:31][C:23]=3[Br:22])[O:5][C:4](=[O:6])[C:3]=2[CH:7]=[CH:8][CH:9]=1', 'productList': {'product': [{'@role': 'product', 'molecule': {'@id': 'm0', 'name': {'@dictRef': 'nameDict:unknown', '#text': 'light yellow powder'}}, 'amount': {'@dl:propertyType': 'MASS', '@dl:normalizedValue': '0.165', '#text': '165 mg'}, 'dl:entityType': 'exact', 'dl:appearance': 'light yellow', 'dl:state': 'powder'}, {'@role': 'product', 'molecule': {'@id': 'm1', 'name': {'@dictRef': 'nameDict:unknown', '#text': 'title compound'}, 'dl:nameResolved': '8-chloro-2-(2′-bromophenyl)-4H-benzo[d][1,3]oxazin-4-one'}, 'amount': {'@dl:propertyType': 'PERCENTYIELD', '@dl:normalizedValue': '50', '#text': 'yield 50%'}, 'identifier': [{'@dictRef': 'cml:smiles', '@value': 'ClC1=CC=CC2=C1N=C(OC2=O)C2=C(C=CC=C2)Br'}, {'@dictRef': 'cml:inchi', '@value': 'InChI=1S/C14H7BrClNO2/c15-10-6-2-1-4-8(10)13-17-12-9(14(18)19-13)5-3-7-11(12)16/h1-7H'}], 'dl:entityType': 'definiteReference'}]}, 'reactantList': {'reactant': [{'@role': 'reactant', '@count': '1', 'molecule': {'@id': 'm2', 'name': {'@dictRef': 'nameDict:unknown', '#text': '2-amino-3-chlorobenzoic acid'}}, 'identifier': [{'@dictRef': 'cml:smiles', '@value': 'NC1=C(C(=O)O)C=CC=C1Cl'}, {'@dictRef': 'cml:inchi', '@value': 'InChI=1S/C7H6ClNO2/c8-5-3-1-2-4(6(5)9)7(10)11/h1-3H,9H2,(H,10,11)'}], 'dl:entityType': 'exact'}, {'@role': 'reactant', 'molecule': {'@id': 'm3', 'name': {'@dictRef': 'nameDict:unknown', '#text': '2-fluorobenzoyl chloride'}}, 'amount': {'@dl:propertyType': 'MASS', '@dl:normalizedValue': '0.177', '#text': '177 mg'}, 'identifier': [{'@dictRef': 'cml:smiles', '@value': 'FC1=C(C(=O)Cl)C=CC=C1'}, {'@dictRef': 'cml:inchi', '@value': 'InChI=1S/C7H4ClFO/c8-7(10)5-3-1-2-4-6(5)9/h1-4H'}], 'dl:entityType': 'exact'}, {'@role': 'reactant', '@count': '1', 'molecule': {'@id': 'm4', 'name': {'@dictRef': 'nameDict:unknown', '#text': '2-bromobenzoyl chloride'}}, 'amount': {'@dl:propertyType': 'MASS', '@dl:normalizedValue': '0.224', '#text': '224 mg'}, 'identifier': [{'@dictRef': 'cml:smiles', '@value': 'BrC1=C(C(=O)Cl)C=CC=C1'}, {'@dictRef': 'cml:inchi', '@value': 'InChI=1S/C7H4BrClO/c8-6-4-2-1-3-5(6)7(9)10/h1-4H'}], 'dl:entityType': 'exact'}]}, 'spectatorList': None, 'dl:reactionActionList': {'dl:reactionAction': {'@action': 'Yield', 'dl:phraseText': '165 mg of a light yellow powder (i.e., the title compound CE3) was obtained (yield 50%)', 'dl:chemical': [{'@ref': 'm0'}, {'@ref': 'm1'}]}}}: string indices must be integers\n",
      "Error with {'dl:source': {'dl:documentId': 'US20110319611A1', 'dl:headingText': '8-chloro-2-(2′-methylphenyl)-4H-benzo[d][1,3]oxazin-4-one (compound CE4)', 'dl:paragraphNum': '0082', 'dl:paragraphText': 'The steps for preparing the title compound CE4 in Comparative Example 4 were similar to those of Comparative Example 1. The differences reside in that the amount of 2-amino-3-chlorobenzoic acid was 175 mg, and 177 mg of 2-fluorobenzoyl chloride was replaced by 214 mg of 2-methylbenzoyl chloride. 110 mg of a light yellow powder (i.e., the title compound CE4) was obtained (yield 41%).'}, 'dl:reactionSmiles': '[NH2:1][C:2]1[C:10]([Cl:11])=[CH:9][CH:8]=[CH:7][C:3]=1[C:4]([OH:6])=[O:5].FC1C=CC=CC=1C(Cl)=O.[CH3:22][C:23]1[CH:31]=[CH:30][CH:29]=[CH:28][C:24]=1[C:25](Cl)=O>>[Cl:11][C:10]1[C:2]2[N:1]=[C:22]([C:23]3[CH:31]=[CH:30][CH:29]=[CH:28][C:24]=3[CH3:25])[O:5][C:4](=[O:6])[C:3]=2[CH:7]=[CH:8][CH:9]=1', 'productList': {'product': [{'@role': 'product', 'molecule': {'@id': 'm0', 'name': {'@dictRef': 'nameDict:unknown', '#text': 'light yellow powder'}}, 'amount': {'@dl:propertyType': 'MASS', '@dl:normalizedValue': '0.110', '#text': '110 mg'}, 'dl:entityType': 'exact', 'dl:appearance': 'light yellow', 'dl:state': 'powder'}, {'@role': 'product', 'molecule': {'@id': 'm1', 'name': {'@dictRef': 'nameDict:unknown', '#text': 'title compound'}, 'dl:nameResolved': '8-chloro-2-(2′-methylphenyl)-4H-benzo[d][1,3]oxazin-4-one'}, 'amount': {'@dl:propertyType': 'PERCENTYIELD', '@dl:normalizedValue': '41', '#text': 'yield 41%'}, 'identifier': [{'@dictRef': 'cml:smiles', '@value': 'ClC1=CC=CC2=C1N=C(OC2=O)C2=C(C=CC=C2)C'}, {'@dictRef': 'cml:inchi', '@value': 'InChI=1S/C15H10ClNO2/c1-9-5-2-3-6-10(9)14-17-13-11(15(18)19-14)7-4-8-12(13)16/h2-8H,1H3'}], 'dl:entityType': 'definiteReference'}]}, 'reactantList': {'reactant': [{'@role': 'reactant', '@count': '1', 'molecule': {'@id': 'm2', 'name': {'@dictRef': 'nameDict:unknown', '#text': '2-amino-3-chlorobenzoic acid'}}, 'identifier': [{'@dictRef': 'cml:smiles', '@value': 'NC1=C(C(=O)O)C=CC=C1Cl'}, {'@dictRef': 'cml:inchi', '@value': 'InChI=1S/C7H6ClNO2/c8-5-3-1-2-4(6(5)9)7(10)11/h1-3H,9H2,(H,10,11)'}], 'dl:entityType': 'exact'}, {'@role': 'reactant', 'molecule': {'@id': 'm3', 'name': {'@dictRef': 'nameDict:unknown', '#text': '2-fluorobenzoyl chloride'}}, 'amount': {'@dl:propertyType': 'MASS', '@dl:normalizedValue': '0.177', '#text': '177 mg'}, 'identifier': [{'@dictRef': 'cml:smiles', '@value': 'FC1=C(C(=O)Cl)C=CC=C1'}, {'@dictRef': 'cml:inchi', '@value': 'InChI=1S/C7H4ClFO/c8-7(10)5-3-1-2-4-6(5)9/h1-4H'}], 'dl:entityType': 'exact'}, {'@role': 'reactant', '@count': '1', 'molecule': {'@id': 'm4', 'name': {'@dictRef': 'nameDict:unknown', '#text': '2-methylbenzoyl chloride'}}, 'amount': {'@dl:propertyType': 'MASS', '@dl:normalizedValue': '0.214', '#text': '214 mg'}, 'identifier': [{'@dictRef': 'cml:smiles', '@value': 'CC1=C(C(=O)Cl)C=CC=C1'}, {'@dictRef': 'cml:inchi', '@value': 'InChI=1S/C8H7ClO/c1-6-4-2-3-5-7(6)8(9)10/h2-5H,1H3'}], 'dl:entityType': 'exact'}]}, 'spectatorList': None, 'dl:reactionActionList': {'dl:reactionAction': {'@action': 'Yield', 'dl:phraseText': '110 mg of a light yellow powder (i.e., the title compound CE4) was obtained (yield 41%)', 'dl:chemical': [{'@ref': 'm0'}, {'@ref': 'm1'}]}}}: string indices must be integers\n",
      "Error with {'dl:source': {'dl:documentId': 'US20110319611A1', 'dl:headingText': '8-chloro-2-(2′-methoxylphenyl)-4H-benzo[d][1,3]oxazin-4-one (compound CE5)', 'dl:paragraphNum': '0084', 'dl:paragraphText': 'The steps for preparing the title compound CE5 in Comparative Example 5 were similar to those of Comparative Example 1. The differences reside in that the amount of 2-amino-3-chlorobenzoic acid was 167 mg, and 177 mg of 2-fluorobenzoyl chloride was replaced by 220 mg of 2-methoxybenzoyl chloride. 146 mg of a light yellow powder (i.e., the title compound CE5) was obtained (yield 51%).'}, 'dl:reactionSmiles': '[NH2:1][C:2]1[C:10]([Cl:11])=[CH:9][CH:8]=[CH:7][C:3]=1[C:4]([OH:6])=[O:5].FC1C=CC=CC=1C(Cl)=O.[CH3:22][O:23][C:24]1[CH:32]=[CH:31][CH:30]=[CH:29][C:25]=1[C:26](Cl)=O>>[Cl:11][C:10]1[C:2]2[N:1]=[C:26]([C:25]3[CH:29]=[CH:30][CH:31]=[CH:32][C:24]=3[O:23][CH3:22])[O:5][C:4](=[O:6])[C:3]=2[CH:7]=[CH:8][CH:9]=1', 'productList': {'product': [{'@role': 'product', 'molecule': {'@id': 'm0', 'name': {'@dictRef': 'nameDict:unknown', '#text': 'light yellow powder'}}, 'amount': {'@dl:propertyType': 'MASS', '@dl:normalizedValue': '0.146', '#text': '146 mg'}, 'dl:entityType': 'exact', 'dl:appearance': 'light yellow', 'dl:state': 'powder'}, {'@role': 'product', 'molecule': {'@id': 'm1', 'name': {'@dictRef': 'nameDict:unknown', '#text': 'title compound'}, 'dl:nameResolved': '8-chloro-2-(2′-methoxylphenyl)-4H-benzo[d][1,3]oxazin-4-one'}, 'amount': {'@dl:propertyType': 'PERCENTYIELD', '@dl:normalizedValue': '51', '#text': 'yield 51%'}, 'identifier': [{'@dictRef': 'cml:smiles', '@value': 'ClC1=CC=CC2=C1N=C(OC2=O)C2=C(C=CC=C2)OC'}, {'@dictRef': 'cml:inchi', '@value': 'InChI=1S/C15H10ClNO3/c1-19-12-8-3-2-5-9(12)14-17-13-10(15(18)20-14)6-4-7-11(13)16/h2-8H,1H3'}], 'dl:entityType': 'definiteReference'}]}, 'reactantList': {'reactant': [{'@role': 'reactant', '@count': '1', 'molecule': {'@id': 'm2', 'name': {'@dictRef': 'nameDict:unknown', '#text': '2-amino-3-chlorobenzoic acid'}}, 'identifier': [{'@dictRef': 'cml:smiles', '@value': 'NC1=C(C(=O)O)C=CC=C1Cl'}, {'@dictRef': 'cml:inchi', '@value': 'InChI=1S/C7H6ClNO2/c8-5-3-1-2-4(6(5)9)7(10)11/h1-3H,9H2,(H,10,11)'}], 'dl:entityType': 'exact'}, {'@role': 'reactant', 'molecule': {'@id': 'm3', 'name': {'@dictRef': 'nameDict:unknown', '#text': '2-fluorobenzoyl chloride'}}, 'amount': {'@dl:propertyType': 'MASS', '@dl:normalizedValue': '0.177', '#text': '177 mg'}, 'identifier': [{'@dictRef': 'cml:smiles', '@value': 'FC1=C(C(=O)Cl)C=CC=C1'}, {'@dictRef': 'cml:inchi', '@value': 'InChI=1S/C7H4ClFO/c8-7(10)5-3-1-2-4-6(5)9/h1-4H'}], 'dl:entityType': 'exact'}, {'@role': 'reactant', '@count': '1', 'molecule': {'@id': 'm4', 'name': {'@dictRef': 'nameDict:unknown', '#text': '2-methoxybenzoyl chloride'}}, 'amount': {'@dl:propertyType': 'MASS', '@dl:normalizedValue': '0.220', '#text': '220 mg'}, 'identifier': [{'@dictRef': 'cml:smiles', '@value': 'COC1=C(C(=O)Cl)C=CC=C1'}, {'@dictRef': 'cml:inchi', '@value': 'InChI=1S/C8H7ClO2/c1-11-7-5-3-2-4-6(7)8(9)10/h2-5H,1H3'}], 'dl:entityType': 'exact'}]}, 'spectatorList': None, 'dl:reactionActionList': {'dl:reactionAction': {'@action': 'Yield', 'dl:phraseText': '146 mg of a light yellow powder (i.e., the title compound CE5) was obtained (yield 51%)', 'dl:chemical': [{'@ref': 'm0'}, {'@ref': 'm1'}]}}}: string indices must be integers\n",
      "Error with {'dl:source': {'dl:documentId': 'US20110319611A1', 'dl:headingText': '8-chloro-2-(2′-bromophenyl)-4H-benzo[d][1,3]oxazin-4-one (compound CE3)', 'dl:paragraphNum': '0080', 'dl:paragraphText': 'The steps for preparing the title compound CE3 in Comparative Example 3 were similar to those of Comparative Example 1. The differences reside in that the amount of 2-amino-3-chlorobenzoic acid was 120 mg, and 177 mg of 2-fluorobenzoyl chloride was replaced by 224 mg of 2-bromobenzoyl chloride. 165 mg of a light yellow powder (i.e., the title compound CE3) was obtained (yield 50%).'}, 'dl:reactionSmiles': '[NH2:1][C:2]1[C:10]([Cl:11])=[CH:9][CH:8]=[CH:7][C:3]=1[C:4]([OH:6])=[O:5].FC1C=CC=CC=1C(Cl)=O.[Br:22][C:23]1[CH:31]=[CH:30][CH:29]=[CH:28][C:24]=1[C:25](Cl)=O>>[Cl:11][C:10]1[C:2]2[N:1]=[C:25]([C:24]3[CH:28]=[CH:29][CH:30]=[CH:31][C:23]=3[Br:22])[O:5][C:4](=[O:6])[C:3]=2[CH:7]=[CH:8][CH:9]=1', 'productList': {'product': [{'@role': 'product', 'molecule': {'@id': 'm0', 'name': {'@dictRef': 'nameDict:unknown', '#text': 'light yellow powder'}}, 'amount': {'@dl:propertyType': 'MASS', '@dl:normalizedValue': '0.165', '#text': '165 mg'}, 'dl:entityType': 'exact', 'dl:appearance': 'light yellow', 'dl:state': 'powder'}, {'@role': 'product', 'molecule': {'@id': 'm1', 'name': {'@dictRef': 'nameDict:unknown', '#text': 'title compound'}, 'dl:nameResolved': '8-chloro-2-(2′-bromophenyl)-4H-benzo[d][1,3]oxazin-4-one'}, 'amount': {'@dl:propertyType': 'PERCENTYIELD', '@dl:normalizedValue': '50', '#text': 'yield 50%'}, 'identifier': [{'@dictRef': 'cml:smiles', '@value': 'ClC1=CC=CC2=C1N=C(OC2=O)C2=C(C=CC=C2)Br'}, {'@dictRef': 'cml:inchi', '@value': 'InChI=1S/C14H7BrClNO2/c15-10-6-2-1-4-8(10)13-17-12-9(14(18)19-13)5-3-7-11(12)16/h1-7H'}], 'dl:entityType': 'definiteReference'}]}, 'reactantList': {'reactant': [{'@role': 'reactant', '@count': '1', 'molecule': {'@id': 'm2', 'name': {'@dictRef': 'nameDict:unknown', '#text': '2-amino-3-chlorobenzoic acid'}}, 'identifier': [{'@dictRef': 'cml:smiles', '@value': 'NC1=C(C(=O)O)C=CC=C1Cl'}, {'@dictRef': 'cml:inchi', '@value': 'InChI=1S/C7H6ClNO2/c8-5-3-1-2-4(6(5)9)7(10)11/h1-3H,9H2,(H,10,11)'}], 'dl:entityType': 'exact'}, {'@role': 'reactant', 'molecule': {'@id': 'm3', 'name': {'@dictRef': 'nameDict:unknown', '#text': '2-fluorobenzoyl chloride'}}, 'amount': {'@dl:propertyType': 'MASS', '@dl:normalizedValue': '0.177', '#text': '177 mg'}, 'identifier': [{'@dictRef': 'cml:smiles', '@value': 'FC1=C(C(=O)Cl)C=CC=C1'}, {'@dictRef': 'cml:inchi', '@value': 'InChI=1S/C7H4ClFO/c8-7(10)5-3-1-2-4-6(5)9/h1-4H'}], 'dl:entityType': 'exact'}, {'@role': 'reactant', '@count': '1', 'molecule': {'@id': 'm4', 'name': {'@dictRef': 'nameDict:unknown', '#text': '2-bromobenzoyl chloride'}}, 'amount': {'@dl:propertyType': 'MASS', '@dl:normalizedValue': '0.224', '#text': '224 mg'}, 'identifier': [{'@dictRef': 'cml:smiles', '@value': 'BrC1=C(C(=O)Cl)C=CC=C1'}, {'@dictRef': 'cml:inchi', '@value': 'InChI=1S/C7H4BrClO/c8-6-4-2-1-3-5(6)7(9)10/h1-4H'}], 'dl:entityType': 'exact'}]}, 'spectatorList': None, 'dl:reactionActionList': {'dl:reactionAction': {'@action': 'Yield', 'dl:phraseText': '165 mg of a light yellow powder (i.e., the title compound CE3) was obtained (yield 50%)', 'dl:chemical': [{'@ref': 'm0'}, {'@ref': 'm1'}]}}}: string indices must be integers\n",
      "Error with {'dl:source': {'dl:documentId': 'US20110319611A1', 'dl:headingText': '8-chloro-2-(2′-methylphenyl)-4H-benzo[d][1,3]oxazin-4-one (compound CE4)', 'dl:paragraphNum': '0082', 'dl:paragraphText': 'The steps for preparing the title compound CE4 in Comparative Example 4 were similar to those of Comparative Example 1. The differences reside in that the amount of 2-amino-3-chlorobenzoic acid was 175 mg, and 177 mg of 2-fluorobenzoyl chloride was replaced by 214 mg of 2-methylbenzoyl chloride. 110 mg of a light yellow powder (i.e., the title compound CE4) was obtained (yield 41%).'}, 'dl:reactionSmiles': '[NH2:1][C:2]1[C:10]([Cl:11])=[CH:9][CH:8]=[CH:7][C:3]=1[C:4]([OH:6])=[O:5].FC1C=CC=CC=1C(Cl)=O.[CH3:22][C:23]1[CH:31]=[CH:30][CH:29]=[CH:28][C:24]=1[C:25](Cl)=O>>[Cl:11][C:10]1[C:2]2[N:1]=[C:22]([C:23]3[CH:31]=[CH:30][CH:29]=[CH:28][C:24]=3[CH3:25])[O:5][C:4](=[O:6])[C:3]=2[CH:7]=[CH:8][CH:9]=1', 'productList': {'product': [{'@role': 'product', 'molecule': {'@id': 'm0', 'name': {'@dictRef': 'nameDict:unknown', '#text': 'light yellow powder'}}, 'amount': {'@dl:propertyType': 'MASS', '@dl:normalizedValue': '0.110', '#text': '110 mg'}, 'dl:entityType': 'exact', 'dl:appearance': 'light yellow', 'dl:state': 'powder'}, {'@role': 'product', 'molecule': {'@id': 'm1', 'name': {'@dictRef': 'nameDict:unknown', '#text': 'title compound'}, 'dl:nameResolved': '8-chloro-2-(2′-methylphenyl)-4H-benzo[d][1,3]oxazin-4-one'}, 'amount': {'@dl:propertyType': 'PERCENTYIELD', '@dl:normalizedValue': '41', '#text': 'yield 41%'}, 'identifier': [{'@dictRef': 'cml:smiles', '@value': 'ClC1=CC=CC2=C1N=C(OC2=O)C2=C(C=CC=C2)C'}, {'@dictRef': 'cml:inchi', '@value': 'InChI=1S/C15H10ClNO2/c1-9-5-2-3-6-10(9)14-17-13-11(15(18)19-14)7-4-8-12(13)16/h2-8H,1H3'}], 'dl:entityType': 'definiteReference'}]}, 'reactantList': {'reactant': [{'@role': 'reactant', '@count': '1', 'molecule': {'@id': 'm2', 'name': {'@dictRef': 'nameDict:unknown', '#text': '2-amino-3-chlorobenzoic acid'}}, 'identifier': [{'@dictRef': 'cml:smiles', '@value': 'NC1=C(C(=O)O)C=CC=C1Cl'}, {'@dictRef': 'cml:inchi', '@value': 'InChI=1S/C7H6ClNO2/c8-5-3-1-2-4(6(5)9)7(10)11/h1-3H,9H2,(H,10,11)'}], 'dl:entityType': 'exact'}, {'@role': 'reactant', 'molecule': {'@id': 'm3', 'name': {'@dictRef': 'nameDict:unknown', '#text': '2-fluorobenzoyl chloride'}}, 'amount': {'@dl:propertyType': 'MASS', '@dl:normalizedValue': '0.177', '#text': '177 mg'}, 'identifier': [{'@dictRef': 'cml:smiles', '@value': 'FC1=C(C(=O)Cl)C=CC=C1'}, {'@dictRef': 'cml:inchi', '@value': 'InChI=1S/C7H4ClFO/c8-7(10)5-3-1-2-4-6(5)9/h1-4H'}], 'dl:entityType': 'exact'}, {'@role': 'reactant', '@count': '1', 'molecule': {'@id': 'm4', 'name': {'@dictRef': 'nameDict:unknown', '#text': '2-methylbenzoyl chloride'}}, 'amount': {'@dl:propertyType': 'MASS', '@dl:normalizedValue': '0.214', '#text': '214 mg'}, 'identifier': [{'@dictRef': 'cml:smiles', '@value': 'CC1=C(C(=O)Cl)C=CC=C1'}, {'@dictRef': 'cml:inchi', '@value': 'InChI=1S/C8H7ClO/c1-6-4-2-3-5-7(6)8(9)10/h2-5H,1H3'}], 'dl:entityType': 'exact'}]}, 'spectatorList': None, 'dl:reactionActionList': {'dl:reactionAction': {'@action': 'Yield', 'dl:phraseText': '110 mg of a light yellow powder (i.e., the title compound CE4) was obtained (yield 41%)', 'dl:chemical': [{'@ref': 'm0'}, {'@ref': 'm1'}]}}}: string indices must be integers\n",
      "Error with {'dl:source': {'dl:documentId': 'US20110319611A1', 'dl:headingText': '8-chloro-2-(2′-methoxylphenyl)-4H-benzo[d][1,3]oxazin-4-one (compound CE5)', 'dl:paragraphNum': '0084', 'dl:paragraphText': 'The steps for preparing the title compound CE5 in Comparative Example 5 were similar to those of Comparative Example 1. The differences reside in that the amount of 2-amino-3-chlorobenzoic acid was 167 mg, and 177 mg of 2-fluorobenzoyl chloride was replaced by 220 mg of 2-methoxybenzoyl chloride. 146 mg of a light yellow powder (i.e., the title compound CE5) was obtained (yield 51%).'}, 'dl:reactionSmiles': '[NH2:1][C:2]1[C:10]([Cl:11])=[CH:9][CH:8]=[CH:7][C:3]=1[C:4]([OH:6])=[O:5].FC1C=CC=CC=1C(Cl)=O.[CH3:22][O:23][C:24]1[CH:32]=[CH:31][CH:30]=[CH:29][C:25]=1[C:26](Cl)=O>>[Cl:11][C:10]1[C:2]2[N:1]=[C:26]([C:25]3[CH:29]=[CH:30][CH:31]=[CH:32][C:24]=3[O:23][CH3:22])[O:5][C:4](=[O:6])[C:3]=2[CH:7]=[CH:8][CH:9]=1', 'productList': {'product': [{'@role': 'product', 'molecule': {'@id': 'm0', 'name': {'@dictRef': 'nameDict:unknown', '#text': 'light yellow powder'}}, 'amount': {'@dl:propertyType': 'MASS', '@dl:normalizedValue': '0.146', '#text': '146 mg'}, 'dl:entityType': 'exact', 'dl:appearance': 'light yellow', 'dl:state': 'powder'}, {'@role': 'product', 'molecule': {'@id': 'm1', 'name': {'@dictRef': 'nameDict:unknown', '#text': 'title compound'}, 'dl:nameResolved': '8-chloro-2-(2′-methoxylphenyl)-4H-benzo[d][1,3]oxazin-4-one'}, 'amount': {'@dl:propertyType': 'PERCENTYIELD', '@dl:normalizedValue': '51', '#text': 'yield 51%'}, 'identifier': [{'@dictRef': 'cml:smiles', '@value': 'ClC1=CC=CC2=C1N=C(OC2=O)C2=C(C=CC=C2)OC'}, {'@dictRef': 'cml:inchi', '@value': 'InChI=1S/C15H10ClNO3/c1-19-12-8-3-2-5-9(12)14-17-13-10(15(18)20-14)6-4-7-11(13)16/h2-8H,1H3'}], 'dl:entityType': 'definiteReference'}]}, 'reactantList': {'reactant': [{'@role': 'reactant', '@count': '1', 'molecule': {'@id': 'm2', 'name': {'@dictRef': 'nameDict:unknown', '#text': '2-amino-3-chlorobenzoic acid'}}, 'identifier': [{'@dictRef': 'cml:smiles', '@value': 'NC1=C(C(=O)O)C=CC=C1Cl'}, {'@dictRef': 'cml:inchi', '@value': 'InChI=1S/C7H6ClNO2/c8-5-3-1-2-4(6(5)9)7(10)11/h1-3H,9H2,(H,10,11)'}], 'dl:entityType': 'exact'}, {'@role': 'reactant', 'molecule': {'@id': 'm3', 'name': {'@dictRef': 'nameDict:unknown', '#text': '2-fluorobenzoyl chloride'}}, 'amount': {'@dl:propertyType': 'MASS', '@dl:normalizedValue': '0.177', '#text': '177 mg'}, 'identifier': [{'@dictRef': 'cml:smiles', '@value': 'FC1=C(C(=O)Cl)C=CC=C1'}, {'@dictRef': 'cml:inchi', '@value': 'InChI=1S/C7H4ClFO/c8-7(10)5-3-1-2-4-6(5)9/h1-4H'}], 'dl:entityType': 'exact'}, {'@role': 'reactant', '@count': '1', 'molecule': {'@id': 'm4', 'name': {'@dictRef': 'nameDict:unknown', '#text': '2-methoxybenzoyl chloride'}}, 'amount': {'@dl:propertyType': 'MASS', '@dl:normalizedValue': '0.220', '#text': '220 mg'}, 'identifier': [{'@dictRef': 'cml:smiles', '@value': 'COC1=C(C(=O)Cl)C=CC=C1'}, {'@dictRef': 'cml:inchi', '@value': 'InChI=1S/C8H7ClO2/c1-11-7-5-3-2-4-6(7)8(9)10/h2-5H,1H3'}], 'dl:entityType': 'exact'}]}, 'spectatorList': None, 'dl:reactionActionList': {'dl:reactionAction': {'@action': 'Yield', 'dl:phraseText': '146 mg of a light yellow powder (i.e., the title compound CE5) was obtained (yield 51%)', 'dl:chemical': [{'@ref': 'm0'}, {'@ref': 'm1'}]}}}: string indices must be integers\n",
      "Error with {'dl:source': {'dl:documentId': 'US20110319611A1', 'dl:headingText': '8-chloro-2-(2′-bromophenyl)-4H-benzo[d][1,3]oxazin-4-one (compound CE3)', 'dl:paragraphNum': '0080', 'dl:paragraphText': 'The steps for preparing the title compound CE3 in Comparative Example 3 were similar to those of Comparative Example 1. The differences reside in that the amount of 2-amino-3-chlorobenzoic acid was 120 mg, and 177 mg of 2-fluorobenzoyl chloride was replaced by 224 mg of 2-bromobenzoyl chloride. 165 mg of a light yellow powder (i.e., the title compound CE3) was obtained (yield 50%).'}, 'dl:reactionSmiles': '[NH2:1][C:2]1[C:10]([Cl:11])=[CH:9][CH:8]=[CH:7][C:3]=1[C:4]([OH:6])=[O:5].FC1C=CC=CC=1C(Cl)=O.[Br:22][C:23]1[CH:31]=[CH:30][CH:29]=[CH:28][C:24]=1[C:25](Cl)=O>>[Cl:11][C:10]1[C:2]2[N:1]=[C:25]([C:24]3[CH:28]=[CH:29][CH:30]=[CH:31][C:23]=3[Br:22])[O:5][C:4](=[O:6])[C:3]=2[CH:7]=[CH:8][CH:9]=1', 'productList': {'product': [{'@role': 'product', 'molecule': {'@id': 'm0', 'name': {'@dictRef': 'nameDict:unknown', '#text': 'light yellow powder'}}, 'amount': {'@dl:propertyType': 'MASS', '@dl:normalizedValue': '0.165', '#text': '165 mg'}, 'dl:entityType': 'exact', 'dl:appearance': 'light yellow', 'dl:state': 'powder'}, {'@role': 'product', 'molecule': {'@id': 'm1', 'name': {'@dictRef': 'nameDict:unknown', '#text': 'title compound'}, 'dl:nameResolved': '8-chloro-2-(2′-bromophenyl)-4H-benzo[d][1,3]oxazin-4-one'}, 'amount': {'@dl:propertyType': 'PERCENTYIELD', '@dl:normalizedValue': '50', '#text': 'yield 50%'}, 'identifier': [{'@dictRef': 'cml:smiles', '@value': 'ClC1=CC=CC2=C1N=C(OC2=O)C2=C(C=CC=C2)Br'}, {'@dictRef': 'cml:inchi', '@value': 'InChI=1S/C14H7BrClNO2/c15-10-6-2-1-4-8(10)13-17-12-9(14(18)19-13)5-3-7-11(12)16/h1-7H'}], 'dl:entityType': 'definiteReference'}]}, 'reactantList': {'reactant': [{'@role': 'reactant', '@count': '1', 'molecule': {'@id': 'm2', 'name': {'@dictRef': 'nameDict:unknown', '#text': '2-amino-3-chlorobenzoic acid'}}, 'identifier': [{'@dictRef': 'cml:smiles', '@value': 'NC1=C(C(=O)O)C=CC=C1Cl'}, {'@dictRef': 'cml:inchi', '@value': 'InChI=1S/C7H6ClNO2/c8-5-3-1-2-4(6(5)9)7(10)11/h1-3H,9H2,(H,10,11)'}], 'dl:entityType': 'exact'}, {'@role': 'reactant', 'molecule': {'@id': 'm3', 'name': {'@dictRef': 'nameDict:unknown', '#text': '2-fluorobenzoyl chloride'}}, 'amount': {'@dl:propertyType': 'MASS', '@dl:normalizedValue': '0.177', '#text': '177 mg'}, 'identifier': [{'@dictRef': 'cml:smiles', '@value': 'FC1=C(C(=O)Cl)C=CC=C1'}, {'@dictRef': 'cml:inchi', '@value': 'InChI=1S/C7H4ClFO/c8-7(10)5-3-1-2-4-6(5)9/h1-4H'}], 'dl:entityType': 'exact'}, {'@role': 'reactant', '@count': '1', 'molecule': {'@id': 'm4', 'name': {'@dictRef': 'nameDict:unknown', '#text': '2-bromobenzoyl chloride'}}, 'amount': {'@dl:propertyType': 'MASS', '@dl:normalizedValue': '0.224', '#text': '224 mg'}, 'identifier': [{'@dictRef': 'cml:smiles', '@value': 'BrC1=C(C(=O)Cl)C=CC=C1'}, {'@dictRef': 'cml:inchi', '@value': 'InChI=1S/C7H4BrClO/c8-6-4-2-1-3-5(6)7(9)10/h1-4H'}], 'dl:entityType': 'exact'}]}, 'spectatorList': None, 'dl:reactionActionList': {'dl:reactionAction': {'@action': 'Yield', 'dl:phraseText': '165 mg of a light yellow powder (i.e., the title compound CE3) was obtained (yield 50%)', 'dl:chemical': [{'@ref': 'm0'}, {'@ref': 'm1'}]}}}: string indices must be integers\n",
      "Error with {'dl:source': {'dl:documentId': 'US20110319611A1', 'dl:headingText': '8-chloro-2-(2′-methylphenyl)-4H-benzo[d][1,3]oxazin-4-one (compound CE4)', 'dl:paragraphNum': '0082', 'dl:paragraphText': 'The steps for preparing the title compound CE4 in Comparative Example 4 were similar to those of Comparative Example 1. The differences reside in that the amount of 2-amino-3-chlorobenzoic acid was 175 mg, and 177 mg of 2-fluorobenzoyl chloride was replaced by 214 mg of 2-methylbenzoyl chloride. 110 mg of a light yellow powder (i.e., the title compound CE4) was obtained (yield 41%).'}, 'dl:reactionSmiles': '[NH2:1][C:2]1[C:10]([Cl:11])=[CH:9][CH:8]=[CH:7][C:3]=1[C:4]([OH:6])=[O:5].FC1C=CC=CC=1C(Cl)=O.[CH3:22][C:23]1[CH:31]=[CH:30][CH:29]=[CH:28][C:24]=1[C:25](Cl)=O>>[Cl:11][C:10]1[C:2]2[N:1]=[C:22]([C:23]3[CH:31]=[CH:30][CH:29]=[CH:28][C:24]=3[CH3:25])[O:5][C:4](=[O:6])[C:3]=2[CH:7]=[CH:8][CH:9]=1', 'productList': {'product': [{'@role': 'product', 'molecule': {'@id': 'm0', 'name': {'@dictRef': 'nameDict:unknown', '#text': 'light yellow powder'}}, 'amount': {'@dl:propertyType': 'MASS', '@dl:normalizedValue': '0.110', '#text': '110 mg'}, 'dl:entityType': 'exact', 'dl:appearance': 'light yellow', 'dl:state': 'powder'}, {'@role': 'product', 'molecule': {'@id': 'm1', 'name': {'@dictRef': 'nameDict:unknown', '#text': 'title compound'}, 'dl:nameResolved': '8-chloro-2-(2′-methylphenyl)-4H-benzo[d][1,3]oxazin-4-one'}, 'amount': {'@dl:propertyType': 'PERCENTYIELD', '@dl:normalizedValue': '41', '#text': 'yield 41%'}, 'identifier': [{'@dictRef': 'cml:smiles', '@value': 'ClC1=CC=CC2=C1N=C(OC2=O)C2=C(C=CC=C2)C'}, {'@dictRef': 'cml:inchi', '@value': 'InChI=1S/C15H10ClNO2/c1-9-5-2-3-6-10(9)14-17-13-11(15(18)19-14)7-4-8-12(13)16/h2-8H,1H3'}], 'dl:entityType': 'definiteReference'}]}, 'reactantList': {'reactant': [{'@role': 'reactant', '@count': '1', 'molecule': {'@id': 'm2', 'name': {'@dictRef': 'nameDict:unknown', '#text': '2-amino-3-chlorobenzoic acid'}}, 'identifier': [{'@dictRef': 'cml:smiles', '@value': 'NC1=C(C(=O)O)C=CC=C1Cl'}, {'@dictRef': 'cml:inchi', '@value': 'InChI=1S/C7H6ClNO2/c8-5-3-1-2-4(6(5)9)7(10)11/h1-3H,9H2,(H,10,11)'}], 'dl:entityType': 'exact'}, {'@role': 'reactant', 'molecule': {'@id': 'm3', 'name': {'@dictRef': 'nameDict:unknown', '#text': '2-fluorobenzoyl chloride'}}, 'amount': {'@dl:propertyType': 'MASS', '@dl:normalizedValue': '0.177', '#text': '177 mg'}, 'identifier': [{'@dictRef': 'cml:smiles', '@value': 'FC1=C(C(=O)Cl)C=CC=C1'}, {'@dictRef': 'cml:inchi', '@value': 'InChI=1S/C7H4ClFO/c8-7(10)5-3-1-2-4-6(5)9/h1-4H'}], 'dl:entityType': 'exact'}, {'@role': 'reactant', '@count': '1', 'molecule': {'@id': 'm4', 'name': {'@dictRef': 'nameDict:unknown', '#text': '2-methylbenzoyl chloride'}}, 'amount': {'@dl:propertyType': 'MASS', '@dl:normalizedValue': '0.214', '#text': '214 mg'}, 'identifier': [{'@dictRef': 'cml:smiles', '@value': 'CC1=C(C(=O)Cl)C=CC=C1'}, {'@dictRef': 'cml:inchi', '@value': 'InChI=1S/C8H7ClO/c1-6-4-2-3-5-7(6)8(9)10/h2-5H,1H3'}], 'dl:entityType': 'exact'}]}, 'spectatorList': None, 'dl:reactionActionList': {'dl:reactionAction': {'@action': 'Yield', 'dl:phraseText': '110 mg of a light yellow powder (i.e., the title compound CE4) was obtained (yield 41%)', 'dl:chemical': [{'@ref': 'm0'}, {'@ref': 'm1'}]}}}: string indices must be integers\n",
      "Error with {'dl:source': {'dl:documentId': 'US20110319611A1', 'dl:headingText': '8-chloro-2-(2′-methoxylphenyl)-4H-benzo[d][1,3]oxazin-4-one (compound CE5)', 'dl:paragraphNum': '0084', 'dl:paragraphText': 'The steps for preparing the title compound CE5 in Comparative Example 5 were similar to those of Comparative Example 1. The differences reside in that the amount of 2-amino-3-chlorobenzoic acid was 167 mg, and 177 mg of 2-fluorobenzoyl chloride was replaced by 220 mg of 2-methoxybenzoyl chloride. 146 mg of a light yellow powder (i.e., the title compound CE5) was obtained (yield 51%).'}, 'dl:reactionSmiles': '[NH2:1][C:2]1[C:10]([Cl:11])=[CH:9][CH:8]=[CH:7][C:3]=1[C:4]([OH:6])=[O:5].FC1C=CC=CC=1C(Cl)=O.[CH3:22][O:23][C:24]1[CH:32]=[CH:31][CH:30]=[CH:29][C:25]=1[C:26](Cl)=O>>[Cl:11][C:10]1[C:2]2[N:1]=[C:26]([C:25]3[CH:29]=[CH:30][CH:31]=[CH:32][C:24]=3[O:23][CH3:22])[O:5][C:4](=[O:6])[C:3]=2[CH:7]=[CH:8][CH:9]=1', 'productList': {'product': [{'@role': 'product', 'molecule': {'@id': 'm0', 'name': {'@dictRef': 'nameDict:unknown', '#text': 'light yellow powder'}}, 'amount': {'@dl:propertyType': 'MASS', '@dl:normalizedValue': '0.146', '#text': '146 mg'}, 'dl:entityType': 'exact', 'dl:appearance': 'light yellow', 'dl:state': 'powder'}, {'@role': 'product', 'molecule': {'@id': 'm1', 'name': {'@dictRef': 'nameDict:unknown', '#text': 'title compound'}, 'dl:nameResolved': '8-chloro-2-(2′-methoxylphenyl)-4H-benzo[d][1,3]oxazin-4-one'}, 'amount': {'@dl:propertyType': 'PERCENTYIELD', '@dl:normalizedValue': '51', '#text': 'yield 51%'}, 'identifier': [{'@dictRef': 'cml:smiles', '@value': 'ClC1=CC=CC2=C1N=C(OC2=O)C2=C(C=CC=C2)OC'}, {'@dictRef': 'cml:inchi', '@value': 'InChI=1S/C15H10ClNO3/c1-19-12-8-3-2-5-9(12)14-17-13-10(15(18)20-14)6-4-7-11(13)16/h2-8H,1H3'}], 'dl:entityType': 'definiteReference'}]}, 'reactantList': {'reactant': [{'@role': 'reactant', '@count': '1', 'molecule': {'@id': 'm2', 'name': {'@dictRef': 'nameDict:unknown', '#text': '2-amino-3-chlorobenzoic acid'}}, 'identifier': [{'@dictRef': 'cml:smiles', '@value': 'NC1=C(C(=O)O)C=CC=C1Cl'}, {'@dictRef': 'cml:inchi', '@value': 'InChI=1S/C7H6ClNO2/c8-5-3-1-2-4(6(5)9)7(10)11/h1-3H,9H2,(H,10,11)'}], 'dl:entityType': 'exact'}, {'@role': 'reactant', 'molecule': {'@id': 'm3', 'name': {'@dictRef': 'nameDict:unknown', '#text': '2-fluorobenzoyl chloride'}}, 'amount': {'@dl:propertyType': 'MASS', '@dl:normalizedValue': '0.177', '#text': '177 mg'}, 'identifier': [{'@dictRef': 'cml:smiles', '@value': 'FC1=C(C(=O)Cl)C=CC=C1'}, {'@dictRef': 'cml:inchi', '@value': 'InChI=1S/C7H4ClFO/c8-7(10)5-3-1-2-4-6(5)9/h1-4H'}], 'dl:entityType': 'exact'}, {'@role': 'reactant', '@count': '1', 'molecule': {'@id': 'm4', 'name': {'@dictRef': 'nameDict:unknown', '#text': '2-methoxybenzoyl chloride'}}, 'amount': {'@dl:propertyType': 'MASS', '@dl:normalizedValue': '0.220', '#text': '220 mg'}, 'identifier': [{'@dictRef': 'cml:smiles', '@value': 'COC1=C(C(=O)Cl)C=CC=C1'}, {'@dictRef': 'cml:inchi', '@value': 'InChI=1S/C8H7ClO2/c1-11-7-5-3-2-4-6(7)8(9)10/h2-5H,1H3'}], 'dl:entityType': 'exact'}]}, 'spectatorList': None, 'dl:reactionActionList': {'dl:reactionAction': {'@action': 'Yield', 'dl:phraseText': '146 mg of a light yellow powder (i.e., the title compound CE5) was obtained (yield 51%)', 'dl:chemical': [{'@ref': 'm0'}, {'@ref': 'm1'}]}}}: string indices must be integers\n",
      "Error with {'dl:source': {'dl:documentId': 'US20110207725A1', 'dl:paragraphNum': '0849', 'dl:paragraphText': 'N-[(1S)-1-({[tert-Butyl(dimethyl)silyl]oxy}methyl)-2-methylpropyl]quinoline-3,4-diamine (5.05 g, 14.0 mmol) was dissolved in 140 mL of dry 1,2-dichloroethane and the solution was stirred under N2. Ethyl 2-chloroethanimidoate hydrochloride (3.33 g, 21.1 mmol) was then added and the reaction mixture was heated to 70° C. After stirring for 2 days, the reaction mixture was cooled and treated with 70 mL of CHCl3 and 100 mL of saturated sodium bicarbonate (NaHCO3) solution. The layers were separated and the organic portion was washed with H2O and brine. The organic portion was then dried over Na2SO4, filtered and concentrated under reduced pressure. Chromatography (SiO2, 33%-50% ethyl acetate/hexanes) gave 1-[(1S)-1-({[tert-butyl(dimethyl)silyl]oxy}methyl)-2-methylpropyl]-2-(chloromethyl)-1H-imidazo[4,5-c]quinoline (4.85 g) as a dull yellow solid.'}, 'dl:reactionSmiles': '[Si:1]([O:8][CH2:9][C@@H:10]([NH:14][C:15]1C=NC2C(C=1N)=CC=CC=2)[CH:11]([CH3:13])[CH3:12])([C:4]([CH3:7])([CH3:6])[CH3:5])([CH3:3])[CH3:2].Cl.Cl[CH2:28][C:29](=[NH:33])OCC.[CH:34]([Cl:37])(Cl)Cl.C(=O)(O)[O-].[Na+].Cl[CH2:44][CH2:45]Cl>>[Si:1]([O:8][CH2:9][C@@H:10]([N:14]1[C:45]2[C:44]3[CH:6]=[CH:4][CH:5]=[CH:28][C:29]=3[N:33]=[CH:9][C:10]=2[N:14]=[C:15]1[CH2:34][Cl:37])[CH:11]([CH3:12])[CH3:13])([C:4]([CH3:5])([CH3:6])[CH3:7])([CH3:2])[CH3:3] |f:1.2,4.5|', 'productList': {'product': [{'@role': 'product', 'molecule': {'@id': 'm0', 'name': {'@dictRef': 'nameDict:unknown', '#text': 'ethyl acetate hexanes'}}, 'amount': {'@dl:propertyType': 'PERCENTYIELD', '@dl:normalizedValue': '33 to 50', '#text': '33%-50%'}, 'dl:entityType': 'chemicalClass'}, {'@role': 'product', 'molecule': {'@id': 'm1', 'name': {'@dictRef': 'nameDict:unknown', '#text': '1-[(1S)-1-({[tert-butyl(dimethyl)silyl]oxy}methyl)-2-methylpropyl]-2-(chloromethyl)-1H-imidazo[4,5-c]quinoline'}}, 'amount': {'@dl:propertyType': 'MASS', '@dl:normalizedValue': '4.85', '#text': '4.85 g'}, 'identifier': [{'@dictRef': 'cml:smiles', '@value': '[Si](C)(C)(C(C)(C)C)OC[C@H](C(C)C)N1C(=NC=2C=NC=3C=CC=CC3C21)CCl'}, {'@dictRef': 'cml:inchi', '@value': 'InChI=1S/C22H32ClN3OSi/c1-15(2)19(14-27-28(6,7)22(3,4)5)26-20(12-23)25-18-13-24-17-11-9-8-10-16(17)21(18)26/h8-11,13,15,19H,12,14H2,1-7H3/t19-/m1/s1'}], 'dl:entityType': 'exact', 'dl:appearance': 'dull yellow', 'dl:state': 'solid'}]}, 'reactantList': {'reactant': [{'@role': 'reactant', '@count': '2', 'molecule': {'@id': 'm2', 'name': {'@dictRef': 'nameDict:unknown', '#text': 'N-[(1S)-1-({[tert-Butyl(dimethyl)silyl]oxy}methyl)-2-methylpropyl]quinoline-3,4-diamine'}}, 'amount': [{'@dl:propertyType': 'AMOUNT', '@dl:normalizedValue': '0.0140', '#text': '14.0 mmol'}, {'@dl:propertyType': 'MASS', '@dl:normalizedValue': '5.05', '#text': '5.05 g'}], 'identifier': [{'@dictRef': 'cml:smiles', '@value': '[Si](C)(C)(C(C)(C)C)OC[C@H](C(C)C)NC=1C=NC2=CC=CC=C2C1N'}, {'@dictRef': 'cml:inchi', '@value': 'InChI=1S/C20H33N3OSi/c1-14(2)18(13-24-25(6,7)20(3,4)5)23-17-12-22-16-11-9-8-10-15(16)19(17)21/h8-12,14,18,23H,13H2,1-7H3,(H2,21,22)/t18-/m1/s1'}], 'dl:entityType': 'exact'}, {'@role': 'reactant', '@count': '1', 'molecule': {'@id': 'm3', 'name': {'@dictRef': 'nameDict:unknown', '#text': 'Ethyl 2-chloroethanimidoate hydrochloride'}}, 'amount': [{'@dl:propertyType': 'AMOUNT', '@dl:normalizedValue': '0.0211', '#text': '21.1 mmol'}, {'@dl:propertyType': 'MASS', '@dl:normalizedValue': '3.33', '#text': '3.33 g'}], 'identifier': [{'@dictRef': 'cml:smiles', '@value': 'Cl.ClCC(OCC)=N'}, {'@dictRef': 'cml:inchi', '@value': 'InChI=1S/C4H8ClNO.ClH/c1-2-7-4(6)3-5;/h6H,2-3H2,1H3;1H'}], 'dl:entityType': 'exact'}, {'@role': 'reactant', '@count': '1', 'molecule': {'@id': 'm4', 'name': {'@dictRef': 'nameDict:unknown', '#text': 'CHCl3'}}, 'amount': {'@dl:propertyType': 'VOLUME', '@dl:normalizedValue': '0.070', '#text': '70 mL'}, 'identifier': [{'@dictRef': 'cml:smiles', '@value': 'C(Cl)(Cl)Cl'}, {'@dictRef': 'cml:inchi', '@value': 'InChI=1S/CHCl3/c2-1(3)4/h1H'}], 'dl:entityType': 'exact'}, {'@role': 'reactant', 'molecule': {'@id': 'm5', 'name': {'@dictRef': 'nameDict:unknown', '#text': 'sodium bicarbonate'}}, 'amount': {'@dl:propertyType': 'VOLUME', '@dl:normalizedValue': '0.100', '#text': '100 mL'}, 'identifier': [{'@dictRef': 'cml:smiles', '@value': 'C([O-])(O)=O.[Na+]'}, {'@dictRef': 'cml:inchi', '@value': 'InChI=1S/CH2O3.Na/c2-1(3)4;/h(H2,2,3,4);/q;+1/p-1'}], 'dl:entityType': 'exact'}, {'@role': 'reactant', '@count': '1', 'molecule': {'@id': 'm6', 'name': {'@dictRef': 'nameDict:unknown', '#text': '1,2-dichloroethane'}}, 'amount': {'@dl:propertyType': 'VOLUME', '@dl:normalizedValue': '0.140', '#text': '140 mL'}, 'identifier': [{'@dictRef': 'cml:smiles', '@value': 'ClCCCl'}, {'@dictRef': 'cml:inchi', '@value': 'InChI=1S/C2H4Cl2/c3-1-2-4/h1-2H2'}], 'dl:entityType': 'exact'}]}, 'spectatorList': None, 'dl:reactionActionList': {'dl:reactionAction': [{'@action': 'Dissolve', 'dl:phraseText': 'N-[(1S)-1-({[tert-Butyl(dimethyl)silyl]oxy}methyl)-2-methylpropyl]quinoline-3,4-diamine (5.05 g, 14.0 mmol) was dissolved in 140 mL of dry 1,2-dichloroethane', 'dl:chemical': [{'@ref': 'm2'}, {'@ref': 'm6'}]}, {'@action': 'Stir', 'dl:phraseText': 'the solution was stirred under N2', 'dl:atmosphere': {'chemical': {'molecule': {'@id': 'm7', 'name': {'@dictRef': 'nameDict:unknown', '#text': 'N2'}}, 'identifier': [{'@dictRef': 'cml:smiles', '@value': 'N#N'}, {'@dictRef': 'cml:inchi', '@value': 'InChI=1S/N2/c1-2'}], 'dl:entityType': 'falsePositive'}}}, {'@action': 'Add', 'dl:phraseText': 'Ethyl 2-chloroethanimidoate hydrochloride (3.33 g, 21.1 mmol) was then added', 'dl:chemical': {'@ref': 'm3'}}, {'@action': 'Heat', 'dl:phraseText': 'the reaction mixture was heated to 70° C', 'dl:parameter': {'@propertyType': 'Temperature', '@normalizedValue': '70', '#text': '70° C'}}, {'@action': 'Stir', 'dl:phraseText': 'After stirring for 2 days', 'dl:parameter': {'@propertyType': 'Time', '@normalizedValue': '172800', '#text': '2 days'}}, {'@action': 'Cool', 'dl:phraseText': 'the reaction mixture was cooled'}, {'@action': 'Add', 'dl:phraseText': 'treated with 70 mL of CHCl3 and 100 mL of saturated sodium bicarbonate (NaHCO3) solution', 'dl:chemical': [{'@ref': 'm4'}, {'@ref': 'm5'}]}, {'@action': 'Partition', 'dl:phraseText': 'The layers were separated'}, {'@action': 'Wash', 'dl:phraseText': 'the organic portion was washed with H2O and brine', 'chemical': [{'molecule': {'@id': 'm8', 'name': {'@dictRef': 'nameDict:unknown', '#text': 'H2O'}}, 'identifier': [{'@dictRef': 'cml:smiles', '@value': 'O'}, {'@dictRef': 'cml:inchi', '@value': 'InChI=1S/H2O/h1H2'}], 'dl:entityType': 'exact'}, {'molecule': {'@id': 'm9', 'name': {'@dictRef': 'nameDict:unknown', '#text': 'brine'}}, 'identifier': [{'@dictRef': 'cml:smiles', '@value': '[Cl-].[Na+].O'}, {'@dictRef': 'cml:inchi', '@value': 'InChI=1S/ClH.Na.H2O/h1H;;1H2/q;+1;/p-1'}], 'dl:entityType': 'exact'}]}, {'@action': 'Dry', 'dl:phraseText': 'The organic portion was then dried over Na2SO4', 'chemical': {'molecule': {'@id': 'm10', 'name': {'@dictRef': 'nameDict:unknown', '#text': 'Na2SO4'}}, 'identifier': [{'@dictRef': 'cml:smiles', '@value': '[O-]S(=O)(=O)[O-].[Na+].[Na+]'}, {'@dictRef': 'cml:inchi', '@value': 'InChI=1S/2Na.H2O4S/c;;1-5(2,3)4/h;;(H2,1,2,3,4)/q2*+1;/p-2'}], 'dl:entityType': 'exact'}}, {'@action': 'Filter', 'dl:phraseText': 'filtered'}, {'@action': 'Concentrate', 'dl:phraseText': 'concentrated under reduced pressure', 'dl:parameter': {'@propertyType': 'Pressure', '@normalizedValue': 'reduced pressure', '#text': 'reduced pressure'}}, {'@action': 'Yield', 'dl:phraseText': 'Chromatography (SiO2, 33%-50% ethyl acetate/hexanes) gave 1-[(1S)-1-({[tert-butyl(dimethyl)silyl]oxy}methyl)-2-methylpropyl]-2-(chloromethyl)-1H-imidazo[4,5-c]quinoline (4.85 g) as a dull yellow solid', 'chemical': {'molecule': {'@id': 'm11', 'name': {'@dictRef': 'nameDict:unknown', '#text': 'SiO2'}}, 'dl:entityType': 'falsePositive'}, 'dl:chemical': [{'@ref': 'm0'}, {'@ref': 'm1'}]}]}}: could not convert string to float: '33 to 50'\n",
      "Error with {'dl:source': {'dl:documentId': 'US20110207725A1', 'dl:paragraphNum': '0849', 'dl:paragraphText': 'N-[(1S)-1-({[tert-Butyl(dimethyl)silyl]oxy}methyl)-2-methylpropyl]quinoline-3,4-diamine (5.05 g, 14.0 mmol) was dissolved in 140 mL of dry 1,2-dichloroethane and the solution was stirred under N2. Ethyl 2-chloroethanimidoate hydrochloride (3.33 g, 21.1 mmol) was then added and the reaction mixture was heated to 70° C. After stirring for 2 days, the reaction mixture was cooled and treated with 70 mL of CHCl3 and 100 mL of saturated sodium bicarbonate (NaHCO3) solution. The layers were separated and the organic portion was washed with H2O and brine. The organic portion was then dried over Na2SO4, filtered and concentrated under reduced pressure. Chromatography (SiO2, 33%-50% ethyl acetate/hexanes) gave 1-[(1S)-1-({[tert-butyl(dimethyl)silyl]oxy}methyl)-2-methylpropyl]-2-(chloromethyl)-1H-imidazo[4,5-c]quinoline (4.85 g) as a dull yellow solid.'}, 'dl:reactionSmiles': '[Si:1]([O:8][CH2:9][C@@H:10]([NH:14][C:15]1C=NC2C(C=1N)=CC=CC=2)[CH:11]([CH3:13])[CH3:12])([C:4]([CH3:7])([CH3:6])[CH3:5])([CH3:3])[CH3:2].Cl.Cl[CH2:28][C:29](=[NH:33])OCC.[CH:34]([Cl:37])(Cl)Cl.C(=O)(O)[O-].[Na+].Cl[CH2:44][CH2:45]Cl>>[Si:1]([O:8][CH2:9][C@@H:10]([N:14]1[C:45]2[C:44]3[CH:6]=[CH:4][CH:5]=[CH:28][C:29]=3[N:33]=[CH:9][C:10]=2[N:14]=[C:15]1[CH2:34][Cl:37])[CH:11]([CH3:12])[CH3:13])([C:4]([CH3:5])([CH3:6])[CH3:7])([CH3:2])[CH3:3] |f:1.2,4.5|', 'productList': {'product': [{'@role': 'product', 'molecule': {'@id': 'm0', 'name': {'@dictRef': 'nameDict:unknown', '#text': 'ethyl acetate hexanes'}}, 'amount': {'@dl:propertyType': 'PERCENTYIELD', '@dl:normalizedValue': '33 to 50', '#text': '33%-50%'}, 'dl:entityType': 'chemicalClass'}, {'@role': 'product', 'molecule': {'@id': 'm1', 'name': {'@dictRef': 'nameDict:unknown', '#text': '1-[(1S)-1-({[tert-butyl(dimethyl)silyl]oxy}methyl)-2-methylpropyl]-2-(chloromethyl)-1H-imidazo[4,5-c]quinoline'}}, 'amount': {'@dl:propertyType': 'MASS', '@dl:normalizedValue': '4.85', '#text': '4.85 g'}, 'identifier': [{'@dictRef': 'cml:smiles', '@value': '[Si](C)(C)(C(C)(C)C)OC[C@H](C(C)C)N1C(=NC=2C=NC=3C=CC=CC3C21)CCl'}, {'@dictRef': 'cml:inchi', '@value': 'InChI=1S/C22H32ClN3OSi/c1-15(2)19(14-27-28(6,7)22(3,4)5)26-20(12-23)25-18-13-24-17-11-9-8-10-16(17)21(18)26/h8-11,13,15,19H,12,14H2,1-7H3/t19-/m1/s1'}], 'dl:entityType': 'exact', 'dl:appearance': 'dull yellow', 'dl:state': 'solid'}]}, 'reactantList': {'reactant': [{'@role': 'reactant', '@count': '2', 'molecule': {'@id': 'm2', 'name': {'@dictRef': 'nameDict:unknown', '#text': 'N-[(1S)-1-({[tert-Butyl(dimethyl)silyl]oxy}methyl)-2-methylpropyl]quinoline-3,4-diamine'}}, 'amount': [{'@dl:propertyType': 'AMOUNT', '@dl:normalizedValue': '0.0140', '#text': '14.0 mmol'}, {'@dl:propertyType': 'MASS', '@dl:normalizedValue': '5.05', '#text': '5.05 g'}], 'identifier': [{'@dictRef': 'cml:smiles', '@value': '[Si](C)(C)(C(C)(C)C)OC[C@H](C(C)C)NC=1C=NC2=CC=CC=C2C1N'}, {'@dictRef': 'cml:inchi', '@value': 'InChI=1S/C20H33N3OSi/c1-14(2)18(13-24-25(6,7)20(3,4)5)23-17-12-22-16-11-9-8-10-15(16)19(17)21/h8-12,14,18,23H,13H2,1-7H3,(H2,21,22)/t18-/m1/s1'}], 'dl:entityType': 'exact'}, {'@role': 'reactant', '@count': '1', 'molecule': {'@id': 'm3', 'name': {'@dictRef': 'nameDict:unknown', '#text': 'Ethyl 2-chloroethanimidoate hydrochloride'}}, 'amount': [{'@dl:propertyType': 'AMOUNT', '@dl:normalizedValue': '0.0211', '#text': '21.1 mmol'}, {'@dl:propertyType': 'MASS', '@dl:normalizedValue': '3.33', '#text': '3.33 g'}], 'identifier': [{'@dictRef': 'cml:smiles', '@value': 'Cl.ClCC(OCC)=N'}, {'@dictRef': 'cml:inchi', '@value': 'InChI=1S/C4H8ClNO.ClH/c1-2-7-4(6)3-5;/h6H,2-3H2,1H3;1H'}], 'dl:entityType': 'exact'}, {'@role': 'reactant', '@count': '1', 'molecule': {'@id': 'm4', 'name': {'@dictRef': 'nameDict:unknown', '#text': 'CHCl3'}}, 'amount': {'@dl:propertyType': 'VOLUME', '@dl:normalizedValue': '0.070', '#text': '70 mL'}, 'identifier': [{'@dictRef': 'cml:smiles', '@value': 'C(Cl)(Cl)Cl'}, {'@dictRef': 'cml:inchi', '@value': 'InChI=1S/CHCl3/c2-1(3)4/h1H'}], 'dl:entityType': 'exact'}, {'@role': 'reactant', 'molecule': {'@id': 'm5', 'name': {'@dictRef': 'nameDict:unknown', '#text': 'sodium bicarbonate'}}, 'amount': {'@dl:propertyType': 'VOLUME', '@dl:normalizedValue': '0.100', '#text': '100 mL'}, 'identifier': [{'@dictRef': 'cml:smiles', '@value': 'C([O-])(O)=O.[Na+]'}, {'@dictRef': 'cml:inchi', '@value': 'InChI=1S/CH2O3.Na/c2-1(3)4;/h(H2,2,3,4);/q;+1/p-1'}], 'dl:entityType': 'exact'}, {'@role': 'reactant', '@count': '1', 'molecule': {'@id': 'm6', 'name': {'@dictRef': 'nameDict:unknown', '#text': '1,2-dichloroethane'}}, 'amount': {'@dl:propertyType': 'VOLUME', '@dl:normalizedValue': '0.140', '#text': '140 mL'}, 'identifier': [{'@dictRef': 'cml:smiles', '@value': 'ClCCCl'}, {'@dictRef': 'cml:inchi', '@value': 'InChI=1S/C2H4Cl2/c3-1-2-4/h1-2H2'}], 'dl:entityType': 'exact'}]}, 'spectatorList': None, 'dl:reactionActionList': {'dl:reactionAction': [{'@action': 'Dissolve', 'dl:phraseText': 'N-[(1S)-1-({[tert-Butyl(dimethyl)silyl]oxy}methyl)-2-methylpropyl]quinoline-3,4-diamine (5.05 g, 14.0 mmol) was dissolved in 140 mL of dry 1,2-dichloroethane', 'dl:chemical': [{'@ref': 'm2'}, {'@ref': 'm6'}]}, {'@action': 'Stir', 'dl:phraseText': 'the solution was stirred under N2', 'dl:atmosphere': {'chemical': {'molecule': {'@id': 'm7', 'name': {'@dictRef': 'nameDict:unknown', '#text': 'N2'}}, 'identifier': [{'@dictRef': 'cml:smiles', '@value': 'N#N'}, {'@dictRef': 'cml:inchi', '@value': 'InChI=1S/N2/c1-2'}], 'dl:entityType': 'falsePositive'}}}, {'@action': 'Add', 'dl:phraseText': 'Ethyl 2-chloroethanimidoate hydrochloride (3.33 g, 21.1 mmol) was then added', 'dl:chemical': {'@ref': 'm3'}}, {'@action': 'Heat', 'dl:phraseText': 'the reaction mixture was heated to 70° C', 'dl:parameter': {'@propertyType': 'Temperature', '@normalizedValue': '70', '#text': '70° C'}}, {'@action': 'Stir', 'dl:phraseText': 'After stirring for 2 days', 'dl:parameter': {'@propertyType': 'Time', '@normalizedValue': '172800', '#text': '2 days'}}, {'@action': 'Cool', 'dl:phraseText': 'the reaction mixture was cooled'}, {'@action': 'Add', 'dl:phraseText': 'treated with 70 mL of CHCl3 and 100 mL of saturated sodium bicarbonate (NaHCO3) solution', 'dl:chemical': [{'@ref': 'm4'}, {'@ref': 'm5'}]}, {'@action': 'Partition', 'dl:phraseText': 'The layers were separated'}, {'@action': 'Wash', 'dl:phraseText': 'the organic portion was washed with H2O and brine', 'chemical': [{'molecule': {'@id': 'm8', 'name': {'@dictRef': 'nameDict:unknown', '#text': 'H2O'}}, 'identifier': [{'@dictRef': 'cml:smiles', '@value': 'O'}, {'@dictRef': 'cml:inchi', '@value': 'InChI=1S/H2O/h1H2'}], 'dl:entityType': 'exact'}, {'molecule': {'@id': 'm9', 'name': {'@dictRef': 'nameDict:unknown', '#text': 'brine'}}, 'identifier': [{'@dictRef': 'cml:smiles', '@value': '[Cl-].[Na+].O'}, {'@dictRef': 'cml:inchi', '@value': 'InChI=1S/ClH.Na.H2O/h1H;;1H2/q;+1;/p-1'}], 'dl:entityType': 'exact'}]}, {'@action': 'Dry', 'dl:phraseText': 'The organic portion was then dried over Na2SO4', 'chemical': {'molecule': {'@id': 'm10', 'name': {'@dictRef': 'nameDict:unknown', '#text': 'Na2SO4'}}, 'identifier': [{'@dictRef': 'cml:smiles', '@value': '[O-]S(=O)(=O)[O-].[Na+].[Na+]'}, {'@dictRef': 'cml:inchi', '@value': 'InChI=1S/2Na.H2O4S/c;;1-5(2,3)4/h;;(H2,1,2,3,4)/q2*+1;/p-2'}], 'dl:entityType': 'exact'}}, {'@action': 'Filter', 'dl:phraseText': 'filtered'}, {'@action': 'Concentrate', 'dl:phraseText': 'concentrated under reduced pressure', 'dl:parameter': {'@propertyType': 'Pressure', '@normalizedValue': 'reduced pressure', '#text': 'reduced pressure'}}, {'@action': 'Yield', 'dl:phraseText': 'Chromatography (SiO2, 33%-50% ethyl acetate/hexanes) gave 1-[(1S)-1-({[tert-butyl(dimethyl)silyl]oxy}methyl)-2-methylpropyl]-2-(chloromethyl)-1H-imidazo[4,5-c]quinoline (4.85 g) as a dull yellow solid', 'chemical': {'molecule': {'@id': 'm11', 'name': {'@dictRef': 'nameDict:unknown', '#text': 'SiO2'}}, 'dl:entityType': 'falsePositive'}, 'dl:chemical': [{'@ref': 'm0'}, {'@ref': 'm1'}]}]}}: could not convert string to float: '33 to 50'\n",
      "Error with {'dl:source': {'dl:documentId': 'US20110207725A1', 'dl:paragraphNum': '0849', 'dl:paragraphText': 'N-[(1S)-1-({[tert-Butyl(dimethyl)silyl]oxy}methyl)-2-methylpropyl]quinoline-3,4-diamine (5.05 g, 14.0 mmol) was dissolved in 140 mL of dry 1,2-dichloroethane and the solution was stirred under N2. Ethyl 2-chloroethanimidoate hydrochloride (3.33 g, 21.1 mmol) was then added and the reaction mixture was heated to 70° C. After stirring for 2 days, the reaction mixture was cooled and treated with 70 mL of CHCl3 and 100 mL of saturated sodium bicarbonate (NaHCO3) solution. The layers were separated and the organic portion was washed with H2O and brine. The organic portion was then dried over Na2SO4, filtered and concentrated under reduced pressure. Chromatography (SiO2, 33%-50% ethyl acetate/hexanes) gave 1-[(1S)-1-({[tert-butyl(dimethyl)silyl]oxy}methyl)-2-methylpropyl]-2-(chloromethyl)-1H-imidazo[4,5-c]quinoline (4.85 g) as a dull yellow solid.'}, 'dl:reactionSmiles': '[Si:1]([O:8][CH2:9][C@@H:10]([NH:14][C:15]1C=NC2C(C=1N)=CC=CC=2)[CH:11]([CH3:13])[CH3:12])([C:4]([CH3:7])([CH3:6])[CH3:5])([CH3:3])[CH3:2].Cl.Cl[CH2:28][C:29](=[NH:33])OCC.[CH:34]([Cl:37])(Cl)Cl.C(=O)(O)[O-].[Na+].Cl[CH2:44][CH2:45]Cl>>[Si:1]([O:8][CH2:9][C@@H:10]([N:14]1[C:45]2[C:44]3[CH:6]=[CH:4][CH:5]=[CH:28][C:29]=3[N:33]=[CH:9][C:10]=2[N:14]=[C:15]1[CH2:34][Cl:37])[CH:11]([CH3:12])[CH3:13])([C:4]([CH3:5])([CH3:6])[CH3:7])([CH3:2])[CH3:3] |f:1.2,4.5|', 'productList': {'product': [{'@role': 'product', 'molecule': {'@id': 'm0', 'name': {'@dictRef': 'nameDict:unknown', '#text': 'ethyl acetate hexanes'}}, 'amount': {'@dl:propertyType': 'PERCENTYIELD', '@dl:normalizedValue': '33 to 50', '#text': '33%-50%'}, 'dl:entityType': 'chemicalClass'}, {'@role': 'product', 'molecule': {'@id': 'm1', 'name': {'@dictRef': 'nameDict:unknown', '#text': '1-[(1S)-1-({[tert-butyl(dimethyl)silyl]oxy}methyl)-2-methylpropyl]-2-(chloromethyl)-1H-imidazo[4,5-c]quinoline'}}, 'amount': {'@dl:propertyType': 'MASS', '@dl:normalizedValue': '4.85', '#text': '4.85 g'}, 'identifier': [{'@dictRef': 'cml:smiles', '@value': '[Si](C)(C)(C(C)(C)C)OC[C@H](C(C)C)N1C(=NC=2C=NC=3C=CC=CC3C21)CCl'}, {'@dictRef': 'cml:inchi', '@value': 'InChI=1S/C22H32ClN3OSi/c1-15(2)19(14-27-28(6,7)22(3,4)5)26-20(12-23)25-18-13-24-17-11-9-8-10-16(17)21(18)26/h8-11,13,15,19H,12,14H2,1-7H3/t19-/m1/s1'}], 'dl:entityType': 'exact', 'dl:appearance': 'dull yellow', 'dl:state': 'solid'}]}, 'reactantList': {'reactant': [{'@role': 'reactant', '@count': '2', 'molecule': {'@id': 'm2', 'name': {'@dictRef': 'nameDict:unknown', '#text': 'N-[(1S)-1-({[tert-Butyl(dimethyl)silyl]oxy}methyl)-2-methylpropyl]quinoline-3,4-diamine'}}, 'amount': [{'@dl:propertyType': 'AMOUNT', '@dl:normalizedValue': '0.0140', '#text': '14.0 mmol'}, {'@dl:propertyType': 'MASS', '@dl:normalizedValue': '5.05', '#text': '5.05 g'}], 'identifier': [{'@dictRef': 'cml:smiles', '@value': '[Si](C)(C)(C(C)(C)C)OC[C@H](C(C)C)NC=1C=NC2=CC=CC=C2C1N'}, {'@dictRef': 'cml:inchi', '@value': 'InChI=1S/C20H33N3OSi/c1-14(2)18(13-24-25(6,7)20(3,4)5)23-17-12-22-16-11-9-8-10-15(16)19(17)21/h8-12,14,18,23H,13H2,1-7H3,(H2,21,22)/t18-/m1/s1'}], 'dl:entityType': 'exact'}, {'@role': 'reactant', '@count': '1', 'molecule': {'@id': 'm3', 'name': {'@dictRef': 'nameDict:unknown', '#text': 'Ethyl 2-chloroethanimidoate hydrochloride'}}, 'amount': [{'@dl:propertyType': 'AMOUNT', '@dl:normalizedValue': '0.0211', '#text': '21.1 mmol'}, {'@dl:propertyType': 'MASS', '@dl:normalizedValue': '3.33', '#text': '3.33 g'}], 'identifier': [{'@dictRef': 'cml:smiles', '@value': 'Cl.ClCC(OCC)=N'}, {'@dictRef': 'cml:inchi', '@value': 'InChI=1S/C4H8ClNO.ClH/c1-2-7-4(6)3-5;/h6H,2-3H2,1H3;1H'}], 'dl:entityType': 'exact'}, {'@role': 'reactant', '@count': '1', 'molecule': {'@id': 'm4', 'name': {'@dictRef': 'nameDict:unknown', '#text': 'CHCl3'}}, 'amount': {'@dl:propertyType': 'VOLUME', '@dl:normalizedValue': '0.070', '#text': '70 mL'}, 'identifier': [{'@dictRef': 'cml:smiles', '@value': 'C(Cl)(Cl)Cl'}, {'@dictRef': 'cml:inchi', '@value': 'InChI=1S/CHCl3/c2-1(3)4/h1H'}], 'dl:entityType': 'exact'}, {'@role': 'reactant', 'molecule': {'@id': 'm5', 'name': {'@dictRef': 'nameDict:unknown', '#text': 'sodium bicarbonate'}}, 'amount': {'@dl:propertyType': 'VOLUME', '@dl:normalizedValue': '0.100', '#text': '100 mL'}, 'identifier': [{'@dictRef': 'cml:smiles', '@value': 'C([O-])(O)=O.[Na+]'}, {'@dictRef': 'cml:inchi', '@value': 'InChI=1S/CH2O3.Na/c2-1(3)4;/h(H2,2,3,4);/q;+1/p-1'}], 'dl:entityType': 'exact'}, {'@role': 'reactant', '@count': '1', 'molecule': {'@id': 'm6', 'name': {'@dictRef': 'nameDict:unknown', '#text': '1,2-dichloroethane'}}, 'amount': {'@dl:propertyType': 'VOLUME', '@dl:normalizedValue': '0.140', '#text': '140 mL'}, 'identifier': [{'@dictRef': 'cml:smiles', '@value': 'ClCCCl'}, {'@dictRef': 'cml:inchi', '@value': 'InChI=1S/C2H4Cl2/c3-1-2-4/h1-2H2'}], 'dl:entityType': 'exact'}]}, 'spectatorList': None, 'dl:reactionActionList': {'dl:reactionAction': [{'@action': 'Dissolve', 'dl:phraseText': 'N-[(1S)-1-({[tert-Butyl(dimethyl)silyl]oxy}methyl)-2-methylpropyl]quinoline-3,4-diamine (5.05 g, 14.0 mmol) was dissolved in 140 mL of dry 1,2-dichloroethane', 'dl:chemical': [{'@ref': 'm2'}, {'@ref': 'm6'}]}, {'@action': 'Stir', 'dl:phraseText': 'the solution was stirred under N2', 'dl:atmosphere': {'chemical': {'molecule': {'@id': 'm7', 'name': {'@dictRef': 'nameDict:unknown', '#text': 'N2'}}, 'identifier': [{'@dictRef': 'cml:smiles', '@value': 'N#N'}, {'@dictRef': 'cml:inchi', '@value': 'InChI=1S/N2/c1-2'}], 'dl:entityType': 'falsePositive'}}}, {'@action': 'Add', 'dl:phraseText': 'Ethyl 2-chloroethanimidoate hydrochloride (3.33 g, 21.1 mmol) was then added', 'dl:chemical': {'@ref': 'm3'}}, {'@action': 'Heat', 'dl:phraseText': 'the reaction mixture was heated to 70° C', 'dl:parameter': {'@propertyType': 'Temperature', '@normalizedValue': '70', '#text': '70° C'}}, {'@action': 'Stir', 'dl:phraseText': 'After stirring for 2 days', 'dl:parameter': {'@propertyType': 'Time', '@normalizedValue': '172800', '#text': '2 days'}}, {'@action': 'Cool', 'dl:phraseText': 'the reaction mixture was cooled'}, {'@action': 'Add', 'dl:phraseText': 'treated with 70 mL of CHCl3 and 100 mL of saturated sodium bicarbonate (NaHCO3) solution', 'dl:chemical': [{'@ref': 'm4'}, {'@ref': 'm5'}]}, {'@action': 'Partition', 'dl:phraseText': 'The layers were separated'}, {'@action': 'Wash', 'dl:phraseText': 'the organic portion was washed with H2O and brine', 'chemical': [{'molecule': {'@id': 'm8', 'name': {'@dictRef': 'nameDict:unknown', '#text': 'H2O'}}, 'identifier': [{'@dictRef': 'cml:smiles', '@value': 'O'}, {'@dictRef': 'cml:inchi', '@value': 'InChI=1S/H2O/h1H2'}], 'dl:entityType': 'exact'}, {'molecule': {'@id': 'm9', 'name': {'@dictRef': 'nameDict:unknown', '#text': 'brine'}}, 'identifier': [{'@dictRef': 'cml:smiles', '@value': '[Cl-].[Na+].O'}, {'@dictRef': 'cml:inchi', '@value': 'InChI=1S/ClH.Na.H2O/h1H;;1H2/q;+1;/p-1'}], 'dl:entityType': 'exact'}]}, {'@action': 'Dry', 'dl:phraseText': 'The organic portion was then dried over Na2SO4', 'chemical': {'molecule': {'@id': 'm10', 'name': {'@dictRef': 'nameDict:unknown', '#text': 'Na2SO4'}}, 'identifier': [{'@dictRef': 'cml:smiles', '@value': '[O-]S(=O)(=O)[O-].[Na+].[Na+]'}, {'@dictRef': 'cml:inchi', '@value': 'InChI=1S/2Na.H2O4S/c;;1-5(2,3)4/h;;(H2,1,2,3,4)/q2*+1;/p-2'}], 'dl:entityType': 'exact'}}, {'@action': 'Filter', 'dl:phraseText': 'filtered'}, {'@action': 'Concentrate', 'dl:phraseText': 'concentrated under reduced pressure', 'dl:parameter': {'@propertyType': 'Pressure', '@normalizedValue': 'reduced pressure', '#text': 'reduced pressure'}}, {'@action': 'Yield', 'dl:phraseText': 'Chromatography (SiO2, 33%-50% ethyl acetate/hexanes) gave 1-[(1S)-1-({[tert-butyl(dimethyl)silyl]oxy}methyl)-2-methylpropyl]-2-(chloromethyl)-1H-imidazo[4,5-c]quinoline (4.85 g) as a dull yellow solid', 'chemical': {'molecule': {'@id': 'm11', 'name': {'@dictRef': 'nameDict:unknown', '#text': 'SiO2'}}, 'dl:entityType': 'falsePositive'}, 'dl:chemical': [{'@ref': 'm0'}, {'@ref': 'm1'}]}]}}: could not convert string to float: '33 to 50'\n",
      "Error with {'dl:source': {'dl:documentId': 'US20110112088A1', 'dl:headingText': '2-Acetyl-7-methoxy-3,4-dihydro-2H-naphthalen-1-one.', 'dl:paragraphNum': '0175', 'dl:paragraphText': 'Boron trifluoride etherate (0.53 mL) was added dropwise to a stirred mixture of 7-methoxytetralone (176 mg, 1 mmol) in acetic anhydride (1.8 mL). The reaction was stirred at room temperature for 2 hours, then poured into ice-water and stirred for 1 hour. The mixture was extracted with ether, and the ether extracts were evaporated. The residue was diluted with methanol (12 mL) and saturated sodium acetate (8 mL) and stirred at reflux for 4 hours. After cooling to room temperature, the solution was extracted with dichloromethane. The organic extracts were washed with brine, dried over MgSO4, and concentrated. SiO2 chromatography with 5-20% ethyl acetate/hexanes gave 72.5 mg of the desired product. LC-MS (C13H14O3 calculated 218) m/z 217 (M−H).'}, 'dl:reactionSmiles': 'B(F)(F)F.[CH3:5][CH2:6][O:7]CC.[CH3:10][O:11][C:12]1[CH:21]=[C:20]2[C:15]([CH2:16][CH2:17][CH2:18][C:19]2=[O:22])=[CH:14][CH:13]=1>C(OC(=O)C)(=O)C>[C:6]([CH:18]1[CH2:17][CH2:16][C:15]2[C:20](=[CH:21][C:12]([O:11][CH3:10])=[CH:13][CH:14]=2)[C:19]1=[O:22])(=[O:7])[CH3:5] |f:0.1|', 'productList': {'product': [{'@role': 'product', 'molecule': {'@id': 'm0', 'name': {'@dictRef': 'nameDict:unknown', '#text': 'ethyl acetate hexanes'}}, 'amount': {'@dl:propertyType': 'PERCENTYIELD', '@dl:normalizedValue': '5 to 20', '#text': '5-20%'}, 'dl:entityType': 'chemicalClass'}, {'@role': 'product', 'molecule': {'@id': 'm1', 'name': {'@dictRef': 'nameDict:unknown', '#text': 'desired product'}, 'dl:nameResolved': '2-Acetyl-7-methoxy-3,4-dihydro-2H-naphthalen-1-one'}, 'amount': {'@dl:propertyType': 'MASS', '@dl:normalizedValue': '0.0725', '#text': '72.5 mg'}, 'identifier': [{'@dictRef': 'cml:smiles', '@value': 'C(C)(=O)C1C(C2=CC(=CC=C2CC1)OC)=O'}, {'@dictRef': 'cml:inchi', '@value': 'InChI=1S/C13H14O3/c1-8(14)11-6-4-9-3-5-10(16-2)7-12(9)13(11)15/h3,5,7,11H,4,6H2,1-2H3'}], 'dl:entityType': 'definiteReference'}]}, 'reactantList': {'reactant': [{'@role': 'reactant', '@count': '1', 'molecule': {'@id': 'm2', 'name': {'@dictRef': 'nameDict:unknown', '#text': 'Boron trifluoride etherate'}}, 'amount': {'@dl:propertyType': 'VOLUME', '@dl:normalizedValue': '0.00053', '#text': '0.53 mL'}, 'identifier': [{'@dictRef': 'cml:smiles', '@value': 'B(F)(F)F.CCOCC'}, {'@dictRef': 'cml:inchi', '@value': 'InChI=1S/C4H10O.BF3/c1-3-5-4-2;2-1(3)4/h3-4H2,1-2H3;'}], 'dl:entityType': 'exact'}, {'@role': 'reactant', '@count': '1', 'molecule': {'@id': 'm3', 'name': {'@dictRef': 'nameDict:unknown', '#text': '7-methoxytetralone'}}, 'amount': [{'@dl:propertyType': 'AMOUNT', '@dl:normalizedValue': '0.001', '#text': '1 mmol'}, {'@dl:propertyType': 'MASS', '@dl:normalizedValue': '0.176', '#text': '176 mg'}], 'identifier': [{'@dictRef': 'cml:smiles', '@value': 'COC1=CC=C2CCCC(C2=C1)=O'}, {'@dictRef': 'cml:inchi', '@value': 'InChI=1S/C11H12O2/c1-13-9-6-5-8-3-2-4-11(12)10(8)7-9/h5-7H,2-4H2,1H3'}], 'dl:entityType': 'exact'}, {'@role': 'reactant', 'molecule': {'@id': 'm4', 'name': {'@dictRef': 'nameDict:unknown', '#text': 'ice water'}}, 'dl:entityType': 'exact'}]}, 'spectatorList': {'spectator': {'@role': 'solvent', 'molecule': {'@id': 'm5', 'name': {'@dictRef': 'nameDict:unknown', '#text': 'acetic anhydride'}}, 'amount': {'@dl:propertyType': 'VOLUME', '@dl:normalizedValue': '0.0018', '#text': '1.8 mL'}, 'identifier': [{'@dictRef': 'cml:smiles', '@value': 'C(C)(=O)OC(C)=O'}, {'@dictRef': 'cml:inchi', '@value': 'InChI=1S/C4H6O3/c1-3(5)7-4(2)6/h1-2H3'}], 'dl:entityType': 'exact'}}, 'dl:reactionActionList': {'dl:reactionAction': [{'@action': 'Add', 'dl:phraseText': 'Boron trifluoride etherate (0.53 mL) was added dropwise to a stirred mixture of 7-methoxytetralone (176 mg, 1 mmol) in acetic anhydride (1.8 mL)', 'dl:chemical': [{'@ref': 'm2'}, {'@ref': 'm3'}, {'@ref': 'm5'}]}, {'@action': 'Stir', 'dl:phraseText': 'The reaction was stirred at room temperature for 2 hours', 'dl:parameter': [{'@propertyType': 'Time', '@normalizedValue': '7200', '#text': '2 hours'}, {'@propertyType': 'Temperature', '@normalizedValue': 'room temperature', '#text': 'room temperature'}]}, {'@action': 'Add', 'dl:phraseText': 'poured into ice-water', 'dl:chemical': {'@ref': 'm4'}}, {'@action': 'Stir', 'dl:phraseText': 'stirred for 1 hour', 'dl:parameter': {'@propertyType': 'Time', '@normalizedValue': '3600', '#text': '1 hour'}}, {'@action': 'Extract', 'dl:phraseText': 'The mixture was extracted with ether', 'chemical': {'molecule': {'@id': 'm6', 'name': {'@dictRef': 'nameDict:unknown', '#text': 'ether'}}, 'identifier': [{'@dictRef': 'cml:smiles', '@value': 'CCOCC'}, {'@dictRef': 'cml:inchi', '@value': 'InChI=1S/C4H10O/c1-3-5-4-2/h3-4H2,1-2H3'}], 'dl:entityType': 'exact'}}, {'@action': 'Remove', 'dl:phraseText': 'the ether extracts were evaporated', 'chemical': {'molecule': {'@id': 'm7', 'name': {'@dictRef': 'nameDict:unknown', '#text': 'ether'}}, 'identifier': [{'@dictRef': 'cml:smiles', '@value': 'CCOCC'}, {'@dictRef': 'cml:inchi', '@value': 'InChI=1S/C4H10O/c1-3-5-4-2/h3-4H2,1-2H3'}], 'dl:entityType': 'definiteReference'}}, {'@action': 'Add', 'dl:phraseText': 'The residue was diluted with methanol (12 mL) and saturated sodium acetate (8 mL)', 'chemical': [{'molecule': {'@id': 'm8', 'name': {'@dictRef': 'nameDict:unknown', '#text': 'methanol'}}, 'amount': {'@dl:propertyType': 'VOLUME', '@dl:normalizedValue': '0.012', '#text': '12 mL'}, 'identifier': [{'@dictRef': 'cml:smiles', '@value': 'CO'}, {'@dictRef': 'cml:inchi', '@value': 'InChI=1S/CH4O/c1-2/h2H,1H3'}], 'dl:entityType': 'exact'}, {'molecule': {'@id': 'm9', 'name': {'@dictRef': 'nameDict:unknown', '#text': 'sodium acetate'}}, 'amount': {'@dl:propertyType': 'VOLUME', '@dl:normalizedValue': '0.008', '#text': '8 mL'}, 'identifier': [{'@dictRef': 'cml:smiles', '@value': 'C(C)(=O)[O-].[Na+]'}, {'@dictRef': 'cml:inchi', '@value': 'InChI=1S/C2H4O2.Na/c1-2(3)4;/h1H3,(H,3,4);/q;+1/p-1'}], 'dl:entityType': 'exact'}]}, {'@action': 'Stir', 'dl:phraseText': 'stirred'}, {'@action': 'Heat', 'dl:phraseText': 'at reflux for 4 hours', 'dl:parameter': {'@propertyType': 'Time', '@normalizedValue': '14400', '#text': '4 hours'}}, {'@action': 'Cool', 'dl:phraseText': 'After cooling to room temperature', 'dl:parameter': {'@propertyType': 'Temperature', '@normalizedValue': 'room temperature', '#text': 'room temperature'}}, {'@action': 'Extract', 'dl:phraseText': 'the solution was extracted with dichloromethane', 'chemical': {'molecule': {'@id': 'm10', 'name': {'@dictRef': 'nameDict:unknown', '#text': 'dichloromethane'}}, 'identifier': [{'@dictRef': 'cml:smiles', '@value': 'ClCCl'}, {'@dictRef': 'cml:inchi', '@value': 'InChI=1S/CH2Cl2/c2-1-3/h1H2'}], 'dl:entityType': 'exact'}}, {'@action': 'Wash', 'dl:phraseText': 'The organic extracts were washed with brine', 'chemical': {'molecule': {'@id': 'm11', 'name': {'@dictRef': 'nameDict:unknown', '#text': 'brine'}}, 'identifier': [{'@dictRef': 'cml:smiles', '@value': '[Cl-].[Na+].O'}, {'@dictRef': 'cml:inchi', '@value': 'InChI=1S/ClH.Na.H2O/h1H;;1H2/q;+1;/p-1'}], 'dl:entityType': 'exact'}}, {'@action': 'Dry', 'dl:phraseText': 'dried over MgSO4', 'chemical': {'molecule': {'@id': 'm12', 'name': {'@dictRef': 'nameDict:unknown', '#text': 'MgSO4'}}, 'identifier': [{'@dictRef': 'cml:smiles', '@value': '[O-]S(=O)(=O)[O-].[Mg+2]'}, {'@dictRef': 'cml:inchi', '@value': 'InChI=1S/Mg.H2O4S/c;1-5(2,3)4/h;(H2,1,2,3,4)/q+2;/p-2'}], 'dl:entityType': 'exact'}}, {'@action': 'Concentrate', 'dl:phraseText': 'concentrated'}, {'@action': 'Yield', 'dl:phraseText': 'SiO2 chromatography with 5-20% ethyl acetate/hexanes gave 72.5 mg of the desired product', 'chemical': {'molecule': {'@id': 'm13', 'name': {'@dictRef': 'nameDict:unknown', '#text': 'SiO2'}}, 'dl:entityType': 'falsePositive'}, 'dl:chemical': [{'@ref': 'm0'}, {'@ref': 'm1'}]}]}}: could not convert string to float: '5 to 20'\n",
      "Error with {'dl:source': {'dl:documentId': 'US20110112088A1', 'dl:headingText': '2-Acetyl-7-methoxy-3,4-dihydro-2H-naphthalen-1-one.', 'dl:paragraphNum': '0175', 'dl:paragraphText': 'Boron trifluoride etherate (0.53 mL) was added dropwise to a stirred mixture of 7-methoxytetralone (176 mg, 1 mmol) in acetic anhydride (1.8 mL). The reaction was stirred at room temperature for 2 hours, then poured into ice-water and stirred for 1 hour. The mixture was extracted with ether, and the ether extracts were evaporated. The residue was diluted with methanol (12 mL) and saturated sodium acetate (8 mL) and stirred at reflux for 4 hours. After cooling to room temperature, the solution was extracted with dichloromethane. The organic extracts were washed with brine, dried over MgSO4, and concentrated. SiO2 chromatography with 5-20% ethyl acetate/hexanes gave 72.5 mg of the desired product. LC-MS (C13H14O3 calculated 218) m/z 217 (M−H).'}, 'dl:reactionSmiles': 'B(F)(F)F.[CH3:5][CH2:6][O:7]CC.[CH3:10][O:11][C:12]1[CH:21]=[C:20]2[C:15]([CH2:16][CH2:17][CH2:18][C:19]2=[O:22])=[CH:14][CH:13]=1>C(OC(=O)C)(=O)C>[C:6]([CH:18]1[CH2:17][CH2:16][C:15]2[C:20](=[CH:21][C:12]([O:11][CH3:10])=[CH:13][CH:14]=2)[C:19]1=[O:22])(=[O:7])[CH3:5] |f:0.1|', 'productList': {'product': [{'@role': 'product', 'molecule': {'@id': 'm0', 'name': {'@dictRef': 'nameDict:unknown', '#text': 'ethyl acetate hexanes'}}, 'amount': {'@dl:propertyType': 'PERCENTYIELD', '@dl:normalizedValue': '5 to 20', '#text': '5-20%'}, 'dl:entityType': 'chemicalClass'}, {'@role': 'product', 'molecule': {'@id': 'm1', 'name': {'@dictRef': 'nameDict:unknown', '#text': 'desired product'}, 'dl:nameResolved': '2-Acetyl-7-methoxy-3,4-dihydro-2H-naphthalen-1-one'}, 'amount': {'@dl:propertyType': 'MASS', '@dl:normalizedValue': '0.0725', '#text': '72.5 mg'}, 'identifier': [{'@dictRef': 'cml:smiles', '@value': 'C(C)(=O)C1C(C2=CC(=CC=C2CC1)OC)=O'}, {'@dictRef': 'cml:inchi', '@value': 'InChI=1S/C13H14O3/c1-8(14)11-6-4-9-3-5-10(16-2)7-12(9)13(11)15/h3,5,7,11H,4,6H2,1-2H3'}], 'dl:entityType': 'definiteReference'}]}, 'reactantList': {'reactant': [{'@role': 'reactant', '@count': '1', 'molecule': {'@id': 'm2', 'name': {'@dictRef': 'nameDict:unknown', '#text': 'Boron trifluoride etherate'}}, 'amount': {'@dl:propertyType': 'VOLUME', '@dl:normalizedValue': '0.00053', '#text': '0.53 mL'}, 'identifier': [{'@dictRef': 'cml:smiles', '@value': 'B(F)(F)F.CCOCC'}, {'@dictRef': 'cml:inchi', '@value': 'InChI=1S/C4H10O.BF3/c1-3-5-4-2;2-1(3)4/h3-4H2,1-2H3;'}], 'dl:entityType': 'exact'}, {'@role': 'reactant', '@count': '1', 'molecule': {'@id': 'm3', 'name': {'@dictRef': 'nameDict:unknown', '#text': '7-methoxytetralone'}}, 'amount': [{'@dl:propertyType': 'AMOUNT', '@dl:normalizedValue': '0.001', '#text': '1 mmol'}, {'@dl:propertyType': 'MASS', '@dl:normalizedValue': '0.176', '#text': '176 mg'}], 'identifier': [{'@dictRef': 'cml:smiles', '@value': 'COC1=CC=C2CCCC(C2=C1)=O'}, {'@dictRef': 'cml:inchi', '@value': 'InChI=1S/C11H12O2/c1-13-9-6-5-8-3-2-4-11(12)10(8)7-9/h5-7H,2-4H2,1H3'}], 'dl:entityType': 'exact'}, {'@role': 'reactant', 'molecule': {'@id': 'm4', 'name': {'@dictRef': 'nameDict:unknown', '#text': 'ice water'}}, 'dl:entityType': 'exact'}]}, 'spectatorList': {'spectator': {'@role': 'solvent', 'molecule': {'@id': 'm5', 'name': {'@dictRef': 'nameDict:unknown', '#text': 'acetic anhydride'}}, 'amount': {'@dl:propertyType': 'VOLUME', '@dl:normalizedValue': '0.0018', '#text': '1.8 mL'}, 'identifier': [{'@dictRef': 'cml:smiles', '@value': 'C(C)(=O)OC(C)=O'}, {'@dictRef': 'cml:inchi', '@value': 'InChI=1S/C4H6O3/c1-3(5)7-4(2)6/h1-2H3'}], 'dl:entityType': 'exact'}}, 'dl:reactionActionList': {'dl:reactionAction': [{'@action': 'Add', 'dl:phraseText': 'Boron trifluoride etherate (0.53 mL) was added dropwise to a stirred mixture of 7-methoxytetralone (176 mg, 1 mmol) in acetic anhydride (1.8 mL)', 'dl:chemical': [{'@ref': 'm2'}, {'@ref': 'm3'}, {'@ref': 'm5'}]}, {'@action': 'Stir', 'dl:phraseText': 'The reaction was stirred at room temperature for 2 hours', 'dl:parameter': [{'@propertyType': 'Time', '@normalizedValue': '7200', '#text': '2 hours'}, {'@propertyType': 'Temperature', '@normalizedValue': 'room temperature', '#text': 'room temperature'}]}, {'@action': 'Add', 'dl:phraseText': 'poured into ice-water', 'dl:chemical': {'@ref': 'm4'}}, {'@action': 'Stir', 'dl:phraseText': 'stirred for 1 hour', 'dl:parameter': {'@propertyType': 'Time', '@normalizedValue': '3600', '#text': '1 hour'}}, {'@action': 'Extract', 'dl:phraseText': 'The mixture was extracted with ether', 'chemical': {'molecule': {'@id': 'm6', 'name': {'@dictRef': 'nameDict:unknown', '#text': 'ether'}}, 'identifier': [{'@dictRef': 'cml:smiles', '@value': 'CCOCC'}, {'@dictRef': 'cml:inchi', '@value': 'InChI=1S/C4H10O/c1-3-5-4-2/h3-4H2,1-2H3'}], 'dl:entityType': 'exact'}}, {'@action': 'Remove', 'dl:phraseText': 'the ether extracts were evaporated', 'chemical': {'molecule': {'@id': 'm7', 'name': {'@dictRef': 'nameDict:unknown', '#text': 'ether'}}, 'identifier': [{'@dictRef': 'cml:smiles', '@value': 'CCOCC'}, {'@dictRef': 'cml:inchi', '@value': 'InChI=1S/C4H10O/c1-3-5-4-2/h3-4H2,1-2H3'}], 'dl:entityType': 'definiteReference'}}, {'@action': 'Add', 'dl:phraseText': 'The residue was diluted with methanol (12 mL) and saturated sodium acetate (8 mL)', 'chemical': [{'molecule': {'@id': 'm8', 'name': {'@dictRef': 'nameDict:unknown', '#text': 'methanol'}}, 'amount': {'@dl:propertyType': 'VOLUME', '@dl:normalizedValue': '0.012', '#text': '12 mL'}, 'identifier': [{'@dictRef': 'cml:smiles', '@value': 'CO'}, {'@dictRef': 'cml:inchi', '@value': 'InChI=1S/CH4O/c1-2/h2H,1H3'}], 'dl:entityType': 'exact'}, {'molecule': {'@id': 'm9', 'name': {'@dictRef': 'nameDict:unknown', '#text': 'sodium acetate'}}, 'amount': {'@dl:propertyType': 'VOLUME', '@dl:normalizedValue': '0.008', '#text': '8 mL'}, 'identifier': [{'@dictRef': 'cml:smiles', '@value': 'C(C)(=O)[O-].[Na+]'}, {'@dictRef': 'cml:inchi', '@value': 'InChI=1S/C2H4O2.Na/c1-2(3)4;/h1H3,(H,3,4);/q;+1/p-1'}], 'dl:entityType': 'exact'}]}, {'@action': 'Stir', 'dl:phraseText': 'stirred'}, {'@action': 'Heat', 'dl:phraseText': 'at reflux for 4 hours', 'dl:parameter': {'@propertyType': 'Time', '@normalizedValue': '14400', '#text': '4 hours'}}, {'@action': 'Cool', 'dl:phraseText': 'After cooling to room temperature', 'dl:parameter': {'@propertyType': 'Temperature', '@normalizedValue': 'room temperature', '#text': 'room temperature'}}, {'@action': 'Extract', 'dl:phraseText': 'the solution was extracted with dichloromethane', 'chemical': {'molecule': {'@id': 'm10', 'name': {'@dictRef': 'nameDict:unknown', '#text': 'dichloromethane'}}, 'identifier': [{'@dictRef': 'cml:smiles', '@value': 'ClCCl'}, {'@dictRef': 'cml:inchi', '@value': 'InChI=1S/CH2Cl2/c2-1-3/h1H2'}], 'dl:entityType': 'exact'}}, {'@action': 'Wash', 'dl:phraseText': 'The organic extracts were washed with brine', 'chemical': {'molecule': {'@id': 'm11', 'name': {'@dictRef': 'nameDict:unknown', '#text': 'brine'}}, 'identifier': [{'@dictRef': 'cml:smiles', '@value': '[Cl-].[Na+].O'}, {'@dictRef': 'cml:inchi', '@value': 'InChI=1S/ClH.Na.H2O/h1H;;1H2/q;+1;/p-1'}], 'dl:entityType': 'exact'}}, {'@action': 'Dry', 'dl:phraseText': 'dried over MgSO4', 'chemical': {'molecule': {'@id': 'm12', 'name': {'@dictRef': 'nameDict:unknown', '#text': 'MgSO4'}}, 'identifier': [{'@dictRef': 'cml:smiles', '@value': '[O-]S(=O)(=O)[O-].[Mg+2]'}, {'@dictRef': 'cml:inchi', '@value': 'InChI=1S/Mg.H2O4S/c;1-5(2,3)4/h;(H2,1,2,3,4)/q+2;/p-2'}], 'dl:entityType': 'exact'}}, {'@action': 'Concentrate', 'dl:phraseText': 'concentrated'}, {'@action': 'Yield', 'dl:phraseText': 'SiO2 chromatography with 5-20% ethyl acetate/hexanes gave 72.5 mg of the desired product', 'chemical': {'molecule': {'@id': 'm13', 'name': {'@dictRef': 'nameDict:unknown', '#text': 'SiO2'}}, 'dl:entityType': 'falsePositive'}, 'dl:chemical': [{'@ref': 'm0'}, {'@ref': 'm1'}]}]}}: could not convert string to float: '5 to 20'\n",
      "Error with {'dl:source': {'dl:documentId': 'US20110112088A1', 'dl:headingText': '2-Acetyl-7-methoxy-3,4-dihydro-2H-naphthalen-1-one.', 'dl:paragraphNum': '0175', 'dl:paragraphText': 'Boron trifluoride etherate (0.53 mL) was added dropwise to a stirred mixture of 7-methoxytetralone (176 mg, 1 mmol) in acetic anhydride (1.8 mL). The reaction was stirred at room temperature for 2 hours, then poured into ice-water and stirred for 1 hour. The mixture was extracted with ether, and the ether extracts were evaporated. The residue was diluted with methanol (12 mL) and saturated sodium acetate (8 mL) and stirred at reflux for 4 hours. After cooling to room temperature, the solution was extracted with dichloromethane. The organic extracts were washed with brine, dried over MgSO4, and concentrated. SiO2 chromatography with 5-20% ethyl acetate/hexanes gave 72.5 mg of the desired product. LC-MS (C13H14O3 calculated 218) m/z 217 (M−H).'}, 'dl:reactionSmiles': 'B(F)(F)F.[CH3:5][CH2:6][O:7]CC.[CH3:10][O:11][C:12]1[CH:21]=[C:20]2[C:15]([CH2:16][CH2:17][CH2:18][C:19]2=[O:22])=[CH:14][CH:13]=1>C(OC(=O)C)(=O)C>[C:6]([CH:18]1[CH2:17][CH2:16][C:15]2[C:20](=[CH:21][C:12]([O:11][CH3:10])=[CH:13][CH:14]=2)[C:19]1=[O:22])(=[O:7])[CH3:5] |f:0.1|', 'productList': {'product': [{'@role': 'product', 'molecule': {'@id': 'm0', 'name': {'@dictRef': 'nameDict:unknown', '#text': 'ethyl acetate hexanes'}}, 'amount': {'@dl:propertyType': 'PERCENTYIELD', '@dl:normalizedValue': '5 to 20', '#text': '5-20%'}, 'dl:entityType': 'chemicalClass'}, {'@role': 'product', 'molecule': {'@id': 'm1', 'name': {'@dictRef': 'nameDict:unknown', '#text': 'desired product'}, 'dl:nameResolved': '2-Acetyl-7-methoxy-3,4-dihydro-2H-naphthalen-1-one'}, 'amount': {'@dl:propertyType': 'MASS', '@dl:normalizedValue': '0.0725', '#text': '72.5 mg'}, 'identifier': [{'@dictRef': 'cml:smiles', '@value': 'C(C)(=O)C1C(C2=CC(=CC=C2CC1)OC)=O'}, {'@dictRef': 'cml:inchi', '@value': 'InChI=1S/C13H14O3/c1-8(14)11-6-4-9-3-5-10(16-2)7-12(9)13(11)15/h3,5,7,11H,4,6H2,1-2H3'}], 'dl:entityType': 'definiteReference'}]}, 'reactantList': {'reactant': [{'@role': 'reactant', '@count': '1', 'molecule': {'@id': 'm2', 'name': {'@dictRef': 'nameDict:unknown', '#text': 'Boron trifluoride etherate'}}, 'amount': {'@dl:propertyType': 'VOLUME', '@dl:normalizedValue': '0.00053', '#text': '0.53 mL'}, 'identifier': [{'@dictRef': 'cml:smiles', '@value': 'B(F)(F)F.CCOCC'}, {'@dictRef': 'cml:inchi', '@value': 'InChI=1S/C4H10O.BF3/c1-3-5-4-2;2-1(3)4/h3-4H2,1-2H3;'}], 'dl:entityType': 'exact'}, {'@role': 'reactant', '@count': '1', 'molecule': {'@id': 'm3', 'name': {'@dictRef': 'nameDict:unknown', '#text': '7-methoxytetralone'}}, 'amount': [{'@dl:propertyType': 'AMOUNT', '@dl:normalizedValue': '0.001', '#text': '1 mmol'}, {'@dl:propertyType': 'MASS', '@dl:normalizedValue': '0.176', '#text': '176 mg'}], 'identifier': [{'@dictRef': 'cml:smiles', '@value': 'COC1=CC=C2CCCC(C2=C1)=O'}, {'@dictRef': 'cml:inchi', '@value': 'InChI=1S/C11H12O2/c1-13-9-6-5-8-3-2-4-11(12)10(8)7-9/h5-7H,2-4H2,1H3'}], 'dl:entityType': 'exact'}, {'@role': 'reactant', 'molecule': {'@id': 'm4', 'name': {'@dictRef': 'nameDict:unknown', '#text': 'ice water'}}, 'dl:entityType': 'exact'}]}, 'spectatorList': {'spectator': {'@role': 'solvent', 'molecule': {'@id': 'm5', 'name': {'@dictRef': 'nameDict:unknown', '#text': 'acetic anhydride'}}, 'amount': {'@dl:propertyType': 'VOLUME', '@dl:normalizedValue': '0.0018', '#text': '1.8 mL'}, 'identifier': [{'@dictRef': 'cml:smiles', '@value': 'C(C)(=O)OC(C)=O'}, {'@dictRef': 'cml:inchi', '@value': 'InChI=1S/C4H6O3/c1-3(5)7-4(2)6/h1-2H3'}], 'dl:entityType': 'exact'}}, 'dl:reactionActionList': {'dl:reactionAction': [{'@action': 'Add', 'dl:phraseText': 'Boron trifluoride etherate (0.53 mL) was added dropwise to a stirred mixture of 7-methoxytetralone (176 mg, 1 mmol) in acetic anhydride (1.8 mL)', 'dl:chemical': [{'@ref': 'm2'}, {'@ref': 'm3'}, {'@ref': 'm5'}]}, {'@action': 'Stir', 'dl:phraseText': 'The reaction was stirred at room temperature for 2 hours', 'dl:parameter': [{'@propertyType': 'Time', '@normalizedValue': '7200', '#text': '2 hours'}, {'@propertyType': 'Temperature', '@normalizedValue': 'room temperature', '#text': 'room temperature'}]}, {'@action': 'Add', 'dl:phraseText': 'poured into ice-water', 'dl:chemical': {'@ref': 'm4'}}, {'@action': 'Stir', 'dl:phraseText': 'stirred for 1 hour', 'dl:parameter': {'@propertyType': 'Time', '@normalizedValue': '3600', '#text': '1 hour'}}, {'@action': 'Extract', 'dl:phraseText': 'The mixture was extracted with ether', 'chemical': {'molecule': {'@id': 'm6', 'name': {'@dictRef': 'nameDict:unknown', '#text': 'ether'}}, 'identifier': [{'@dictRef': 'cml:smiles', '@value': 'CCOCC'}, {'@dictRef': 'cml:inchi', '@value': 'InChI=1S/C4H10O/c1-3-5-4-2/h3-4H2,1-2H3'}], 'dl:entityType': 'exact'}}, {'@action': 'Remove', 'dl:phraseText': 'the ether extracts were evaporated', 'chemical': {'molecule': {'@id': 'm7', 'name': {'@dictRef': 'nameDict:unknown', '#text': 'ether'}}, 'identifier': [{'@dictRef': 'cml:smiles', '@value': 'CCOCC'}, {'@dictRef': 'cml:inchi', '@value': 'InChI=1S/C4H10O/c1-3-5-4-2/h3-4H2,1-2H3'}], 'dl:entityType': 'definiteReference'}}, {'@action': 'Add', 'dl:phraseText': 'The residue was diluted with methanol (12 mL) and saturated sodium acetate (8 mL)', 'chemical': [{'molecule': {'@id': 'm8', 'name': {'@dictRef': 'nameDict:unknown', '#text': 'methanol'}}, 'amount': {'@dl:propertyType': 'VOLUME', '@dl:normalizedValue': '0.012', '#text': '12 mL'}, 'identifier': [{'@dictRef': 'cml:smiles', '@value': 'CO'}, {'@dictRef': 'cml:inchi', '@value': 'InChI=1S/CH4O/c1-2/h2H,1H3'}], 'dl:entityType': 'exact'}, {'molecule': {'@id': 'm9', 'name': {'@dictRef': 'nameDict:unknown', '#text': 'sodium acetate'}}, 'amount': {'@dl:propertyType': 'VOLUME', '@dl:normalizedValue': '0.008', '#text': '8 mL'}, 'identifier': [{'@dictRef': 'cml:smiles', '@value': 'C(C)(=O)[O-].[Na+]'}, {'@dictRef': 'cml:inchi', '@value': 'InChI=1S/C2H4O2.Na/c1-2(3)4;/h1H3,(H,3,4);/q;+1/p-1'}], 'dl:entityType': 'exact'}]}, {'@action': 'Stir', 'dl:phraseText': 'stirred'}, {'@action': 'Heat', 'dl:phraseText': 'at reflux for 4 hours', 'dl:parameter': {'@propertyType': 'Time', '@normalizedValue': '14400', '#text': '4 hours'}}, {'@action': 'Cool', 'dl:phraseText': 'After cooling to room temperature', 'dl:parameter': {'@propertyType': 'Temperature', '@normalizedValue': 'room temperature', '#text': 'room temperature'}}, {'@action': 'Extract', 'dl:phraseText': 'the solution was extracted with dichloromethane', 'chemical': {'molecule': {'@id': 'm10', 'name': {'@dictRef': 'nameDict:unknown', '#text': 'dichloromethane'}}, 'identifier': [{'@dictRef': 'cml:smiles', '@value': 'ClCCl'}, {'@dictRef': 'cml:inchi', '@value': 'InChI=1S/CH2Cl2/c2-1-3/h1H2'}], 'dl:entityType': 'exact'}}, {'@action': 'Wash', 'dl:phraseText': 'The organic extracts were washed with brine', 'chemical': {'molecule': {'@id': 'm11', 'name': {'@dictRef': 'nameDict:unknown', '#text': 'brine'}}, 'identifier': [{'@dictRef': 'cml:smiles', '@value': '[Cl-].[Na+].O'}, {'@dictRef': 'cml:inchi', '@value': 'InChI=1S/ClH.Na.H2O/h1H;;1H2/q;+1;/p-1'}], 'dl:entityType': 'exact'}}, {'@action': 'Dry', 'dl:phraseText': 'dried over MgSO4', 'chemical': {'molecule': {'@id': 'm12', 'name': {'@dictRef': 'nameDict:unknown', '#text': 'MgSO4'}}, 'identifier': [{'@dictRef': 'cml:smiles', '@value': '[O-]S(=O)(=O)[O-].[Mg+2]'}, {'@dictRef': 'cml:inchi', '@value': 'InChI=1S/Mg.H2O4S/c;1-5(2,3)4/h;(H2,1,2,3,4)/q+2;/p-2'}], 'dl:entityType': 'exact'}}, {'@action': 'Concentrate', 'dl:phraseText': 'concentrated'}, {'@action': 'Yield', 'dl:phraseText': 'SiO2 chromatography with 5-20% ethyl acetate/hexanes gave 72.5 mg of the desired product', 'chemical': {'molecule': {'@id': 'm13', 'name': {'@dictRef': 'nameDict:unknown', '#text': 'SiO2'}}, 'dl:entityType': 'falsePositive'}, 'dl:chemical': [{'@ref': 'm0'}, {'@ref': 'm1'}]}]}}: could not convert string to float: '5 to 20'\n",
      "Error with {'dl:source': {'dl:documentId': 'US20160102045A1', 'dl:paragraphNum': '0341', 'dl:paragraphText': 'Under an argon atmosphere, to a suspension of a nickel (II) complex having an L-allylglycine moiety (107.6 mg, 0.149 mmol) in methanol (3.3 mL), 1 N hydrochloric acid (0.75 mL, 0.75 mmol) was added, and the mixture was stirred at 40° C. for 2 hours. After the end of the reaction, the reaction mixture was concentrated, and the residue was subjected to phase separation with dichloromethane (10 mL) and water (10 mL). The aqueous layer was separated, and the solvent was removed by evaporation. The obtained solid was dissolved in 4% aqueous ammonia (3 mL). The solution was passed through a cation exchange resin column [SK-1B, 18 mL, eluent: water and subsequently 2 to 4% aqueous ammonia] to give quantitatively L-allylglycine (18.9 mg, 96.9% ee).'}, 'dl:reactionSmiles': '[CH2:1]=[CH:2][CH2:3][C@H:4]([NH2:8])[C:5]([OH:7])=[O:6].Cl>CO>[NH3:8].[CH2:1]=[CH:2][CH2:3][C@H:4]([NH2:8])[C:5]([OH:7])=[O:6]', 'productList': {'product': [{'@role': 'product', 'molecule': {'@id': 'm0', 'name': {'@dictRef': 'nameDict:unknown', '#text': 'ammonia'}}, 'amount': {'@dl:propertyType': 'PERCENTYIELD', '@dl:normalizedValue': '2 to 4', '#text': '2 to 4%'}, 'identifier': [{'@dictRef': 'cml:smiles', '@value': 'N'}, {'@dictRef': 'cml:inchi', '@value': 'InChI=1S/H3N/h1H3'}], 'dl:entityType': 'exact'}, {'@role': 'product', 'molecule': {'@id': 'm1', 'name': {'@dictRef': 'nameDict:unknown', '#text': 'L-allylglycine'}}, 'amount': {'@dl:propertyType': 'MASS', '@dl:normalizedValue': '0.0189', '#text': '18.9 mg'}, 'identifier': [{'@dictRef': 'cml:smiles', '@value': 'C=CC[C@@H](C(=O)O)N'}, {'@dictRef': 'cml:inchi', '@value': 'InChI=1S/C5H9NO2/c1-2-3-4(6)5(7)8/h2,4H,1,3,6H2,(H,7,8)/t4-/m0/s1'}], 'dl:entityType': 'exact'}]}, 'reactantList': {'reactant': [{'@role': 'reactant', '@count': '2', 'molecule': {'@id': 'm2', 'name': {'@dictRef': 'nameDict:unknown', '#text': 'L-allylglycine'}}, 'identifier': [{'@dictRef': 'cml:smiles', '@value': 'C=CC[C@@H](C(=O)O)N'}, {'@dictRef': 'cml:inchi', '@value': 'InChI=1S/C5H9NO2/c1-2-3-4(6)5(7)8/h2,4H,1,3,6H2,(H,7,8)/t4-/m0/s1'}], 'dl:entityType': 'chemicalClass'}, {'@role': 'reactant', 'molecule': {'@id': 'm3', 'name': {'@dictRef': 'nameDict:unknown', '#text': 'hydrochloric acid'}}, 'amount': [{'@dl:propertyType': 'AMOUNT', '@dl:normalizedValue': '0.00075', '#text': '0.75 mmol'}, {'@dl:propertyType': 'MOLARITY', '@dl:normalizedValue': '1', '#text': '1 N'}, {'@dl:propertyType': 'VOLUME', '@dl:normalizedValue': '0.00075', '#text': '0.75 mL'}], 'identifier': [{'@dictRef': 'cml:smiles', '@value': 'Cl'}, {'@dictRef': 'cml:inchi', '@value': 'InChI=1S/ClH/h1H'}], 'dl:entityType': 'exact'}]}, 'spectatorList': {'spectator': {'@role': 'solvent', 'molecule': {'@id': 'm4', 'name': {'@dictRef': 'nameDict:unknown', '#text': 'methanol'}}, 'amount': {'@dl:propertyType': 'VOLUME', '@dl:normalizedValue': '0.0033', '#text': '3.3 mL'}, 'identifier': [{'@dictRef': 'cml:smiles', '@value': 'CO'}, {'@dictRef': 'cml:inchi', '@value': 'InChI=1S/CH4O/c1-2/h2H,1H3'}], 'dl:entityType': 'exact'}}, 'dl:reactionActionList': {'dl:reactionAction': [{'@action': 'Add', 'dl:phraseText': 'Under an argon atmosphere, to a suspension of a nickel (II) complex', 'chemical': {'molecule': {'@id': 'm5', 'name': {'@dictRef': 'nameDict:unknown', '#text': 'nickel (II)'}}, 'identifier': [{'@dictRef': 'cml:smiles', '@value': '[Ni+2]'}, {'@dictRef': 'cml:inchi', '@value': 'InChI=1S/Ni/q+2'}], 'dl:entityType': 'fragment'}, 'dl:atmosphere': {'chemical': {'molecule': {'@id': 'm6', 'name': {'@dictRef': 'nameDict:unknown', '#text': 'argon'}}, 'identifier': [{'@dictRef': 'cml:smiles', '@value': '[Ar]'}, {'@dictRef': 'cml:inchi', '@value': 'InChI=1S/Ar'}], 'dl:entityType': 'falsePositive'}}}, {'@action': 'Add', 'dl:phraseText': '1 N hydrochloric acid (0.75 mL, 0.75 mmol) was added', 'dl:chemical': {'@ref': 'm3'}}, {'@action': 'Stir', 'dl:phraseText': 'the mixture was stirred at 40° C. for 2 hours', 'dl:parameter': [{'@propertyType': 'Time', '@normalizedValue': '7200', '#text': '2 hours'}, {'@propertyType': 'Temperature', '@normalizedValue': '40', '#text': '40° C.'}]}, {'@action': 'Synthesize', 'dl:phraseText': 'After the end of the reaction'}, {'@action': 'Concentrate', 'dl:phraseText': 'the reaction mixture was concentrated'}, {'@action': 'Partition', 'dl:phraseText': 'the residue was subjected to phase separation with dichloromethane (10 mL) and water (10 mL)', 'chemical': [{'molecule': {'@id': 'm7', 'name': {'@dictRef': 'nameDict:unknown', '#text': 'dichloromethane'}}, 'amount': {'@dl:propertyType': 'VOLUME', '@dl:normalizedValue': '0.010', '#text': '10 mL'}, 'identifier': [{'@dictRef': 'cml:smiles', '@value': 'ClCCl'}, {'@dictRef': 'cml:inchi', '@value': 'InChI=1S/CH2Cl2/c2-1-3/h1H2'}], 'dl:entityType': 'exact'}, {'molecule': {'@id': 'm8', 'name': {'@dictRef': 'nameDict:unknown', '#text': 'water'}}, 'amount': {'@dl:propertyType': 'VOLUME', '@dl:normalizedValue': '0.010', '#text': '10 mL'}, 'identifier': [{'@dictRef': 'cml:smiles', '@value': 'O'}, {'@dictRef': 'cml:inchi', '@value': 'InChI=1S/H2O/h1H2'}], 'dl:entityType': 'exact'}]}, {'@action': 'Partition', 'dl:phraseText': 'The aqueous layer was separated'}, {'@action': 'Remove', 'dl:phraseText': 'the solvent was removed by evaporation'}, {'@action': 'Dissolve', 'dl:phraseText': 'The obtained solid was dissolved in 4% aqueous ammonia (3 mL)', 'chemical': {'molecule': {'@id': 'm9', 'name': {'@dictRef': 'nameDict:unknown', '#text': 'ammonia'}}, 'amount': {'@dl:propertyType': 'VOLUME', '@dl:normalizedValue': '0.003', '#text': '3 mL'}, 'identifier': [{'@dictRef': 'cml:smiles', '@value': 'N'}, {'@dictRef': 'cml:inchi', '@value': 'InChI=1S/H3N/h1H3'}], 'dl:entityType': 'exact'}}, {'@action': 'Yield', 'dl:phraseText': 'water and subsequently 2 to 4% aqueous ammonia] to give quantitatively L-allylglycine (18.9 mg, 96.9% ee)', 'chemical': {'molecule': {'@id': 'm10', 'name': {'@dictRef': 'nameDict:unknown', '#text': 'water'}}, 'identifier': [{'@dictRef': 'cml:smiles', '@value': 'O'}, {'@dictRef': 'cml:inchi', '@value': 'InChI=1S/H2O/h1H2'}], 'dl:entityType': 'exact'}, 'dl:chemical': [{'@ref': 'm0'}, {'@ref': 'm1'}]}]}}: could not convert string to float: '2 to 4'\n",
      "Error with {'dl:source': {'dl:documentId': 'US20160068515A1', 'dl:headingText': '(S)-tert-butyl 4-(3-cyano-5-(3-fluoro-4-(5-oxo-1-propyl-1H-1,2,4-triazol-4(5H)-yl)phenyl)pyridin-2-yl)-3-methylpiperazin-1-carboxylate', 'dl:paragraphNum': '0262', 'dl:paragraphText': 'The intermediate (4.0 g) was prepared in accordance with the same procedures as in Steps 1 and 2 of Example 1, using 5-bromo-2-chloronicotinonitrile (10.0 g) instead of 5-bromo-2-chloropyrimidine. The titled compound was prepared in accordance with the same procedures as in Step 3 of Example 1, using the intermediate and 4-(4-bromo-2-fluorophenyl)-1-propyl-1H-1,2,4-triazol-5(4H)-one (67.4 mg) prepared in Preparation 2 instead of (S)-tert-butyl 3-methyl-4-[5-(4,4,5,5-tetramethyl-1,3,2-dioxaborolan-2-yl)pyrimidin-2-yl]piperazin-1-carboxylate and 4-(4-bromo-2-fluorophenyl)-1-methyl-1H-1,2,4-triazol-5(4H)-one, respectively.'}, 'dl:reactionSmiles': 'Br[C:2]1[CH:3]=[N:4][C:5](Cl)=[C:6]([CH:9]=1)[C:7]#[N:8].Br[C:12]1[CH:17]=[CH:16][C:15]([N:18]2[C:22](=[O:23])[N:21]([CH2:24][CH2:25][CH3:26])[N:20]=[CH:19]2)=[C:14]([F:27])[CH:13]=1.[CH3:28][C@@H:29]1[N:34](C2N=CC(B3OC(C)(C)C(C)(C)O3)=CN=2)[CH2:33][CH2:32][N:31]([C:50]([O:52][C:53]([CH3:56])([CH3:55])[CH3:54])=[O:51])[CH2:30]1.BrC1C=CC(N2C(=O)N(C)N=C2)=C(F)C=1>>[C:7]([C:6]1[C:5]([N:34]2[CH2:33][CH2:32][N:31]([C:50]([O:52][C:53]([CH3:56])([CH3:55])[CH3:54])=[O:51])[CH2:30][C@@H:29]2[CH3:28])=[N:4][CH:3]=[C:2]([C:12]2[CH:17]=[CH:16][C:15]([N:18]3[C:22](=[O:23])[N:21]([CH2:24][CH2:25][CH3:26])[N:20]=[CH:19]3)=[C:14]([F:27])[CH:13]=2)[CH:9]=1)#[N:8]', 'productList': {'product': [{'@role': 'product', 'molecule': {'@id': 'm0', 'name': {'@dictRef': 'nameDict:unknown', '#text': 'intermediate'}}, 'amount': {'@dl:propertyType': 'MASS', '@dl:normalizedValue': '4.0', '#text': '4.0 g'}, 'dl:entityType': 'definiteReference'}, {'@role': 'product', 'molecule': {'@id': 'm1', 'name': {'@dictRef': 'nameDict:unknown', '#text': 'titled compound'}, 'dl:nameResolved': '(S)-tert-butyl 4-(3-cyano-5-(3-fluoro-4-(5-oxo-1-propyl-1H-1,2,4-triazol-4(5H)-yl)phenyl)pyridin-2-yl)-3-methylpiperazin-1-carboxylate'}, 'amount': {'@dl:propertyType': 'PERCENTYIELD', '@dl:normalizedValue': '42.1', '#text': 'Yield: 42.1%'}, 'identifier': [{'@dictRef': 'cml:smiles', '@value': 'C(#N)C=1C(=NC=C(C1)C1=CC(=C(C=C1)N1C=NN(C1=O)CCC)F)N1[C@H](CN(CC1)C(=O)OC(C)(C)C)C'}, {'@dictRef': 'cml:inchi', '@value': 'InChI=1S/C27H32FN7O3/c1-6-9-35-25(36)34(17-31-35)23-8-7-19(13-22(23)28)21-12-20(14-29)24(30-15-21)33-11-10-32(16-18(33)2)26(37)38-27(3,4)5/h7-8,12-13,15,17-18H,6,9-11,16H2,1-5H3/t18-/m0/s1'}], 'dl:entityType': 'definiteReference'}]}, 'reactantList': {'reactant': [{'@role': 'reactant', '@count': '1', 'molecule': {'@id': 'm2', 'name': {'@dictRef': 'nameDict:unknown', '#text': '5-bromo-2-chloronicotinonitrile'}}, 'amount': {'@dl:propertyType': 'MASS', '@dl:normalizedValue': '10.0', '#text': '10.0 g'}, 'identifier': [{'@dictRef': 'cml:smiles', '@value': 'BrC=1C=NC(=C(C#N)C1)Cl'}, {'@dictRef': 'cml:inchi', '@value': 'InChI=1S/C6H2BrClN2/c7-5-1-4(2-9)6(8)10-3-5/h1,3H'}], 'dl:entityType': 'exact'}, {'@role': 'reactant', '@count': '1', 'molecule': {'@id': 'm3', 'name': {'@dictRef': 'nameDict:unknown', '#text': '4-(4-bromo-2-fluorophenyl)-1-propyl-1H-1,2,4-triazol-5(4H)-one'}}, 'amount': {'@dl:propertyType': 'MASS', '@dl:normalizedValue': '0.0674', '#text': '67.4 mg'}, 'identifier': [{'@dictRef': 'cml:smiles', '@value': 'BrC1=CC(=C(C=C1)N1C=NN(C1=O)CCC)F'}, {'@dictRef': 'cml:inchi', '@value': 'InChI=1S/C11H11BrFN3O/c1-2-5-16-11(17)15(7-14-16)10-4-3-8(12)6-9(10)13/h3-4,6-7H,2,5H2,1H3'}], 'dl:entityType': 'exact'}, {'@role': 'reactant', '@count': '1', 'molecule': {'@id': 'm4', 'name': {'@dictRef': 'nameDict:unknown', '#text': '(S)-tert-butyl 3-methyl-4-[5-(4,4,5,5-tetramethyl-1,3,2-dioxaborolan-2-yl)pyrimidin-2-yl]piperazin-1-carboxylate'}}, 'identifier': [{'@dictRef': 'cml:smiles', '@value': 'C[C@H]1CN(CCN1C1=NC=C(C=N1)B1OC(C(O1)(C)C)(C)C)C(=O)OC(C)(C)C'}, {'@dictRef': 'cml:inchi', '@value': 'InChI=1S/C20H33BN4O4/c1-14-13-24(17(26)27-18(2,3)4)9-10-25(14)16-22-11-15(12-23-16)21-28-19(5,6)20(7,8)29-21/h11-12,14H,9-10,13H2,1-8H3/t14-/m0/s1'}], 'dl:entityType': 'exact'}, {'@role': 'reactant', 'molecule': {'@id': 'm5', 'name': {'@dictRef': 'nameDict:unknown', '#text': '4-(4-bromo-2-fluorophenyl)-1-methyl-1H-1,2,4-triazol-5(4H)-one'}}, 'identifier': [{'@dictRef': 'cml:smiles', '@value': 'BrC1=CC(=C(C=C1)N1C=NN(C1=O)C)F'}, {'@dictRef': 'cml:inchi', '@value': 'InChI=1S/C9H7BrFN3O/c1-13-9(15)14(5-12-13)8-3-2-6(10)4-7(8)11/h2-5H,1H3'}], 'dl:entityType': 'exact'}]}, 'spectatorList': None, 'dl:reactionActionList': {'dl:reactionAction': [{'@action': 'Synthesize', 'dl:phraseText': 'The intermediate (4.0 g) was prepared in accordance with the same procedures as in Steps 1 and 2 of Example 1', 'dl:chemical': {'@ref': 'm0'}}, {'@action': 'Synthesize', 'dl:phraseText': 'The titled compound was prepared in accordance with the same procedures as in Step 3 of Example 1', 'dl:chemical': {'@ref': 'm1'}}, {'@action': 'Synthesize', 'dl:phraseText': 'prepared in Preparation 2 instead of (S)-tert-butyl 3-methyl-4-[5-(4,4,5,5-tetramethyl-1,3,2-dioxaborolan-2-yl)pyrimidin-2-yl]piperazin-1-carboxylate and 4-(4-bromo-2-fluorophenyl)-1-methyl-1H-1,2,4-triazol-5(4H)-one', 'dl:chemical': [{'@ref': 'm4'}, {'@ref': 'm5'}]}]}}: list index out of range\n",
      "Error with {'dl:source': {'dl:documentId': 'US20160068515A1', 'dl:headingText': '(S)-tert-butyl 4-(5-(3-fluoro-4-(5-oxo-1-propyl-1H-1,2,4-triazol-4(5H)-yl)phenyl)-3-(trifluoromethyl)pyridin-2-yl)-3-methylpiperazin-1-carboxylate', 'dl:paragraphNum': '0265', 'dl:paragraphText': 'The intermediate (2.4 g) was prepared in accordance with the same procedures as in Steps 1 and 2 of Example 1, using 5-bromo-2-chloro-3-(trifluoromethyl)-pyridine (3.1 g) instead of 5-bromo-2-chloropyrimidine. The titled compound was prepared in accordance with the same procedures as in Step 3 of Example 1, using the intermediate and 4-(4-bromo-2-fluorophenyl)-1-propyl-1H-1,2,4-triazol-5(4H)-one (35.8 mg) prepared in Preparation 2 instead of (S)-tert-butyl 3-methyl-4-[5-(4,4,5,5-tetramethyl-1,3,2-dioxaborolan-2-yl)pyrimidin-2-yl]piperazin-1-carboxylate and 4-(4-bromo-2-fluorophenyl)-1-methyl-1H-1,2,4-triazol-5(4H)-one, respectively.'}, 'dl:reactionSmiles': 'Br[C:2]1[CH:3]=[C:4]([C:9]([F:12])([F:11])[F:10])[C:5](Cl)=[N:6][CH:7]=1.Br[C:14]1[CH:19]=[CH:18][C:17]([N:20]2[C:24](=[O:25])[N:23]([CH2:26][CH2:27][CH3:28])[N:22]=[CH:21]2)=[C:16]([F:29])[CH:15]=1.[CH3:30][C@@H:31]1[N:36](C2N=CC(B3OC(C)(C)C(C)(C)O3)=CN=2)[CH2:35][CH2:34][N:33]([C:52]([O:54][C:55]([CH3:58])([CH3:57])[CH3:56])=[O:53])[CH2:32]1.BrC1C=CC(N2C(=O)N(C)N=C2)=C(F)C=1>>[F:29][C:16]1[CH:15]=[C:14]([C:2]2[CH:3]=[C:4]([C:9]([F:12])([F:11])[F:10])[C:5]([N:36]3[CH2:35][CH2:34][N:33]([C:52]([O:54][C:55]([CH3:58])([CH3:57])[CH3:56])=[O:53])[CH2:32][C@@H:31]3[CH3:30])=[N:6][CH:7]=2)[CH:19]=[CH:18][C:17]=1[N:20]1[C:24](=[O:25])[N:23]([CH2:26][CH2:27][CH3:28])[N:22]=[CH:21]1', 'productList': {'product': [{'@role': 'product', 'molecule': {'@id': 'm0', 'name': {'@dictRef': 'nameDict:unknown', '#text': 'intermediate'}}, 'amount': {'@dl:propertyType': 'MASS', '@dl:normalizedValue': '2.4', '#text': '2.4 g'}, 'dl:entityType': 'definiteReference'}, {'@role': 'product', 'molecule': {'@id': 'm1', 'name': {'@dictRef': 'nameDict:unknown', '#text': 'titled compound'}, 'dl:nameResolved': '(S)-tert-butyl 4-(5-(3-fluoro-4-(5-oxo-1-propyl-1H-1,2,4-triazol-4(5H)-yl)phenyl)-3-(trifluoromethyl)pyridin-2-yl)-3-methylpiperazin-1-carboxylate'}, 'amount': {'@dl:propertyType': 'PERCENTYIELD', '@dl:normalizedValue': '89.0', '#text': 'Yield: 89.0%'}, 'identifier': [{'@dictRef': 'cml:smiles', '@value': 'FC=1C=C(C=CC1N1C=NN(C1=O)CCC)C=1C=C(C(=NC1)N1[C@H](CN(CC1)C(=O)OC(C)(C)C)C)C(F)(F)F'}, {'@dictRef': 'cml:inchi', '@value': 'InChI=1S/C27H32F4N6O3/c1-6-9-37-24(38)36(16-33-37)22-8-7-18(13-21(22)28)19-12-20(27(29,30)31)23(32-14-19)35-11-10-34(15-17(35)2)25(39)40-26(3,4)5/h7-8,12-14,16-17H,6,9-11,15H2,1-5H3/t17-/m0/s1'}], 'dl:entityType': 'definiteReference'}]}, 'reactantList': {'reactant': [{'@role': 'reactant', '@count': '1', 'molecule': {'@id': 'm2', 'name': {'@dictRef': 'nameDict:unknown', '#text': '5-bromo-2-chloro-3-(trifluoromethyl)-pyridine'}}, 'amount': {'@dl:propertyType': 'MASS', '@dl:normalizedValue': '3.1', '#text': '3.1 g'}, 'identifier': [{'@dictRef': 'cml:smiles', '@value': 'BrC=1C=C(C(=NC1)Cl)C(F)(F)F'}, {'@dictRef': 'cml:inchi', '@value': 'InChI=1S/C6H2BrClF3N/c7-3-1-4(6(9,10)11)5(8)12-2-3/h1-2H'}], 'dl:entityType': 'exact'}, {'@role': 'reactant', '@count': '1', 'molecule': {'@id': 'm3', 'name': {'@dictRef': 'nameDict:unknown', '#text': '4-(4-bromo-2-fluorophenyl)-1-propyl-1H-1,2,4-triazol-5(4H)-one'}}, 'amount': {'@dl:propertyType': 'MASS', '@dl:normalizedValue': '0.0358', '#text': '35.8 mg'}, 'identifier': [{'@dictRef': 'cml:smiles', '@value': 'BrC1=CC(=C(C=C1)N1C=NN(C1=O)CCC)F'}, {'@dictRef': 'cml:inchi', '@value': 'InChI=1S/C11H11BrFN3O/c1-2-5-16-11(17)15(7-14-16)10-4-3-8(12)6-9(10)13/h3-4,6-7H,2,5H2,1H3'}], 'dl:entityType': 'exact'}, {'@role': 'reactant', '@count': '1', 'molecule': {'@id': 'm4', 'name': {'@dictRef': 'nameDict:unknown', '#text': '(S)-tert-butyl 3-methyl-4-[5-(4,4,5,5-tetramethyl-1,3,2-dioxaborolan-2-yl)pyrimidin-2-yl]piperazin-1-carboxylate'}}, 'identifier': [{'@dictRef': 'cml:smiles', '@value': 'C[C@H]1CN(CCN1C1=NC=C(C=N1)B1OC(C(O1)(C)C)(C)C)C(=O)OC(C)(C)C'}, {'@dictRef': 'cml:inchi', '@value': 'InChI=1S/C20H33BN4O4/c1-14-13-24(17(26)27-18(2,3)4)9-10-25(14)16-22-11-15(12-23-16)21-28-19(5,6)20(7,8)29-21/h11-12,14H,9-10,13H2,1-8H3/t14-/m0/s1'}], 'dl:entityType': 'exact'}, {'@role': 'reactant', 'molecule': {'@id': 'm5', 'name': {'@dictRef': 'nameDict:unknown', '#text': '4-(4-bromo-2-fluorophenyl)-1-methyl-1H-1,2,4-triazol-5(4H)-one'}}, 'identifier': [{'@dictRef': 'cml:smiles', '@value': 'BrC1=CC(=C(C=C1)N1C=NN(C1=O)C)F'}, {'@dictRef': 'cml:inchi', '@value': 'InChI=1S/C9H7BrFN3O/c1-13-9(15)14(5-12-13)8-3-2-6(10)4-7(8)11/h2-5H,1H3'}], 'dl:entityType': 'exact'}]}, 'spectatorList': None, 'dl:reactionActionList': {'dl:reactionAction': [{'@action': 'Synthesize', 'dl:phraseText': 'The intermediate (2.4 g) was prepared in accordance with the same procedures as in Steps 1 and 2 of Example 1', 'dl:chemical': {'@ref': 'm0'}}, {'@action': 'Synthesize', 'dl:phraseText': 'The titled compound was prepared in accordance with the same procedures as in Step 3 of Example 1', 'dl:chemical': {'@ref': 'm1'}}, {'@action': 'Synthesize', 'dl:phraseText': 'prepared in Preparation 2 instead of (S)-tert-butyl 3-methyl-4-[5-(4,4,5,5-tetramethyl-1,3,2-dioxaborolan-2-yl)pyrimidin-2-yl]piperazin-1-carboxylate and 4-(4-bromo-2-fluorophenyl)-1-methyl-1H-1,2,4-triazol-5(4H)-one', 'dl:chemical': [{'@ref': 'm4'}, {'@ref': 'm5'}]}]}}: list index out of range\n",
      "Error with {'dl:source': {'dl:documentId': 'US20160068515A1', 'dl:headingText': '(S)-4-(4-(2-(4-(5-ethylpyrimidin-2-yl)-2-methylpiperazin-1-yl)pyrimidin-5-yl)-2-fluorophenyl)-1-methyl-1H-1,2,4-triazol-5(4H)-one', 'dl:paragraphNum': '0268', 'dl:paragraphText': 'The intermediate (850.0 mg) was prepared in accordance with the same procedures as in Steps 1 and 2 of Example 1, using (S)-5-ethyl-2-(3-methylpiperazin-1-yl)pyrimidine (1.0 g) instead of (S)-4-N—BOC-2-methylpiperazine. The titled compound was prepared in accordance with the same procedures as in Step 3 of Example 1, using the intermediate instead of (S)-tert-butyl 3-methyl-4-[5-(4,4,5,5-tetramethyl-1,3,2-dioxaborolan-2-yl)pyrimidin-2-yl]piperazin-1-carboxylate; and 4-(4-bromo-2-fluorophenyl)-1-methyl-1H-1,2,4-triazol-5(4H)-one (63.0 mg) prepared in Preparation 1.'}, 'dl:reactionSmiles': '[CH2:1]([C:3]1[CH:4]=[N:5][C:6]([N:9]2[CH2:14][CH2:13][NH:12][C@@H:11]([CH3:15])[CH2:10]2)=[N:7][CH:8]=1)[CH3:2].C[C@@H]1N([C:23]2[N:28]=[CH:27][C:26](B3OC(C)(C)C(C)(C)O3)=[CH:25][N:24]=2)CCN(C(OC(C)(C)C)=O)C1.Br[C:46]1[CH:51]=[CH:50][C:49]([N:52]2[C:56](=[O:57])[N:55]([CH3:58])[N:54]=[CH:53]2)=[C:48]([F:59])[CH:47]=1>>[CH2:1]([C:3]1[CH:4]=[N:5][C:6]([N:9]2[CH2:14][CH2:13][N:12]([C:23]3[N:24]=[CH:25][C:26]([C:46]4[CH:51]=[CH:50][C:49]([N:52]5[C:56](=[O:57])[N:55]([CH3:58])[N:54]=[CH:53]5)=[C:48]([F:59])[CH:47]=4)=[CH:27][N:28]=3)[C@@H:11]([CH3:15])[CH2:10]2)=[N:7][CH:8]=1)[CH3:2]', 'productList': {'product': [{'@role': 'product', 'molecule': {'@id': 'm0', 'name': {'@dictRef': 'nameDict:unknown', '#text': 'intermediate'}}, 'amount': {'@dl:propertyType': 'MASS', '@dl:normalizedValue': '0.8500', '#text': '850.0 mg'}, 'dl:entityType': 'definiteReference'}, {'@role': 'product', 'molecule': {'@id': 'm1', 'name': {'@dictRef': 'nameDict:unknown', '#text': 'titled compound'}, 'dl:nameResolved': '(S)-4-(4-(2-(4-(5-ethylpyrimidin-2-yl)-2-methylpiperazin-1-yl)pyrimidin-5-yl)-2-fluorophenyl)-1-methyl-1H-1,2,4-triazol-5(4H)-one'}, 'amount': {'@dl:propertyType': 'PERCENTYIELD', '@dl:normalizedValue': '17.1', '#text': 'Yield: 17.1%'}, 'identifier': [{'@dictRef': 'cml:smiles', '@value': 'C(C)C=1C=NC(=NC1)N1C[C@@H](N(CC1)C1=NC=C(C=N1)C1=CC(=C(C=C1)N1C=NN(C1=O)C)F)C'}, {'@dictRef': 'cml:inchi', '@value': 'InChI=1S/C24H26FN9O/c1-4-17-10-26-22(27-11-17)32-7-8-33(16(2)14-32)23-28-12-19(13-29-23)18-5-6-21(20(25)9-18)34-15-30-31(3)24(34)35/h5-6,9-13,15-16H,4,7-8,14H2,1-3H3/t16-/m0/s1'}], 'dl:entityType': 'definiteReference'}]}, 'reactantList': {'reactant': [{'@role': 'reactant', '@count': '1', 'molecule': {'@id': 'm2', 'name': {'@dictRef': 'nameDict:unknown', '#text': '(S)-5-ethyl-2-(3-methylpiperazin-1-yl)pyrimidine'}}, 'amount': {'@dl:propertyType': 'MASS', '@dl:normalizedValue': '1.0', '#text': '1.0 g'}, 'identifier': [{'@dictRef': 'cml:smiles', '@value': 'C(C)C=1C=NC(=NC1)N1C[C@@H](NCC1)C'}, {'@dictRef': 'cml:inchi', '@value': 'InChI=1S/C11H18N4/c1-3-10-6-13-11(14-7-10)15-5-4-12-9(2)8-15/h6-7,9,12H,3-5,8H2,1-2H3/t9-/m0/s1'}], 'dl:entityType': 'exact'}, {'@role': 'reactant', '@count': '1', 'molecule': {'@id': 'm3', 'name': {'@dictRef': 'nameDict:unknown', '#text': '(S)-tert-butyl 3-methyl-4-[5-(4,4,5,5-tetramethyl-1,3,2-dioxaborolan-2-yl)pyrimidin-2-yl]piperazin-1-carboxylate'}}, 'identifier': [{'@dictRef': 'cml:smiles', '@value': 'C[C@H]1CN(CCN1C1=NC=C(C=N1)B1OC(C(O1)(C)C)(C)C)C(=O)OC(C)(C)C'}, {'@dictRef': 'cml:inchi', '@value': 'InChI=1S/C20H33BN4O4/c1-14-13-24(17(26)27-18(2,3)4)9-10-25(14)16-22-11-15(12-23-16)21-28-19(5,6)20(7,8)29-21/h11-12,14H,9-10,13H2,1-8H3/t14-/m0/s1'}], 'dl:entityType': 'exact'}, {'@role': 'reactant', '@count': '1', 'molecule': {'@id': 'm4', 'name': {'@dictRef': 'nameDict:unknown', '#text': '4-(4-bromo-2-fluorophenyl)-1-methyl-1H-1,2,4-triazol-5(4H)-one'}}, 'amount': {'@dl:propertyType': 'MASS', '@dl:normalizedValue': '0.0630', '#text': '63.0 mg'}, 'identifier': [{'@dictRef': 'cml:smiles', '@value': 'BrC1=CC(=C(C=C1)N1C=NN(C1=O)C)F'}, {'@dictRef': 'cml:inchi', '@value': 'InChI=1S/C9H7BrFN3O/c1-13-9(15)14(5-12-13)8-3-2-6(10)4-7(8)11/h2-5H,1H3'}], 'dl:entityType': 'exact'}]}, 'spectatorList': None, 'dl:reactionActionList': {'dl:reactionAction': [{'@action': 'Synthesize', 'dl:phraseText': 'The intermediate (850.0 mg) was prepared in accordance with the same procedures as in Steps 1 and 2 of Example 1', 'dl:chemical': {'@ref': 'm0'}}, {'@action': 'Synthesize', 'dl:phraseText': 'The titled compound was prepared in accordance with the same procedures as in Step 3 of Example 1', 'dl:chemical': {'@ref': 'm1'}}, {'@action': 'Synthesize', 'dl:phraseText': 'and 4-(4-bromo-2-fluorophenyl)-1-methyl-1H-1,2,4-triazol-5(4H)-one (63.0 mg) prepared in Preparation 1', 'dl:chemical': {'@ref': 'm4'}}]}}: list index out of range\n",
      "Error with {'dl:source': {'dl:documentId': 'US20160068515A1', 'dl:headingText': '(S)-4-(2-fluoro-4-(2-(2-methyl-4-(5-(trifluoromethyl)pyridin-2-yl)piperazin-1-yl)pyrimidin-5-yl)phenyl)-1-methyl-1H-1,2,4-triazol-5(4H)-one', 'dl:paragraphNum': '0271', 'dl:paragraphText': 'The intermediate (760.0 mg) was prepared in accordance with the same procedures as in Steps 1 and 2 of Example 1, using (S)-3-methyl-1-(5-(trifluoromethyl)pyridin-2-yl)piperazine (1.0 g) instead of (S)-4-N—BOC-2-methylpiperazine. The titled compound was prepared in accordance with the same procedures as in Step 3 of Example 1, using the intermediate instead of (S)-tert-butyl 3-methyl-4-[5-(4,4,5,5-tetramethyl-1,3,2-dioxaborolan-2-yl)pyrimidin-2-yl]piperazin-1-carboxylate; and 4-(4-bromo-2-fluorophenyl)-1-methyl-1H-1,2,4-triazol-5(4H)-one (63.0 mg) prepared in Preparation 1.'}, 'dl:reactionSmiles': '[CH3:1][C@@H:2]1[NH:7][CH2:6][CH2:5][N:4]([C:8]2[CH:13]=[CH:12][C:11]([C:14]([F:17])([F:16])[F:15])=[CH:10][N:9]=2)[CH2:3]1.C[C@@H]1N([C:25]2[N:30]=[CH:29][C:28](B3OC(C)(C)C(C)(C)O3)=[CH:27][N:26]=2)CCN(C(OC(C)(C)C)=O)C1.Br[C:48]1[CH:53]=[CH:52][C:51]([N:54]2[C:58](=[O:59])[N:57]([CH3:60])[N:56]=[CH:55]2)=[C:50]([F:61])[CH:49]=1>>[F:61][C:50]1[CH:49]=[C:48]([C:28]2[CH:29]=[N:30][C:25]([N:7]3[CH2:6][CH2:5][N:4]([C:8]4[CH:13]=[CH:12][C:11]([C:14]([F:17])([F:15])[F:16])=[CH:10][N:9]=4)[CH2:3][C@@H:2]3[CH3:1])=[N:26][CH:27]=2)[CH:53]=[CH:52][C:51]=1[N:54]1[C:58](=[O:59])[N:57]([CH3:60])[N:56]=[CH:55]1', 'productList': {'product': [{'@role': 'product', 'molecule': {'@id': 'm0', 'name': {'@dictRef': 'nameDict:unknown', '#text': 'intermediate'}}, 'amount': {'@dl:propertyType': 'MASS', '@dl:normalizedValue': '0.7600', '#text': '760.0 mg'}, 'dl:entityType': 'definiteReference'}, {'@role': 'product', 'molecule': {'@id': 'm1', 'name': {'@dictRef': 'nameDict:unknown', '#text': 'titled compound'}, 'dl:nameResolved': '(S)-4-(2-fluoro-4-(2-(2-methyl-4-(5-(trifluoromethyl)pyridin-2-yl)piperazin-1-yl)pyrimidin-5-yl)phenyl)-1-methyl-1H-1,2,4-triazol-5(4H)-one'}, 'amount': {'@dl:propertyType': 'PERCENTYIELD', '@dl:normalizedValue': '28.8', '#text': 'Yield: 28.8%'}, 'identifier': [{'@dictRef': 'cml:smiles', '@value': 'FC1=C(C=CC(=C1)C=1C=NC(=NC1)N1[C@H](CN(CC1)C1=NC=C(C=C1)C(F)(F)F)C)N1C=NN(C1=O)C'}, {'@dictRef': 'cml:inchi', '@value': 'InChI=1S/C24H22F4N8O/c1-15-13-34(21-6-4-18(12-29-21)24(26,27)28)7-8-35(15)22-30-10-17(11-31-22)16-3-5-20(19(25)9-16)36-14-32-33(2)23(36)37/h3-6,9-12,14-15H,7-8,13H2,1-2H3/t15-/m0/s1'}], 'dl:entityType': 'definiteReference'}]}, 'reactantList': {'reactant': [{'@role': 'reactant', '@count': '1', 'molecule': {'@id': 'm2', 'name': {'@dictRef': 'nameDict:unknown', '#text': '(S)-3-methyl-1-(5-(trifluoromethyl)pyridin-2-yl)piperazine'}}, 'amount': {'@dl:propertyType': 'MASS', '@dl:normalizedValue': '1.0', '#text': '1.0 g'}, 'identifier': [{'@dictRef': 'cml:smiles', '@value': 'C[C@H]1CN(CCN1)C1=NC=C(C=C1)C(F)(F)F'}, {'@dictRef': 'cml:inchi', '@value': 'InChI=1S/C11H14F3N3/c1-8-7-17(5-4-15-8)10-3-2-9(6-16-10)11(12,13)14/h2-3,6,8,15H,4-5,7H2,1H3/t8-/m0/s1'}], 'dl:entityType': 'exact'}, {'@role': 'reactant', '@count': '1', 'molecule': {'@id': 'm3', 'name': {'@dictRef': 'nameDict:unknown', '#text': '(S)-tert-butyl 3-methyl-4-[5-(4,4,5,5-tetramethyl-1,3,2-dioxaborolan-2-yl)pyrimidin-2-yl]piperazin-1-carboxylate'}}, 'identifier': [{'@dictRef': 'cml:smiles', '@value': 'C[C@H]1CN(CCN1C1=NC=C(C=N1)B1OC(C(O1)(C)C)(C)C)C(=O)OC(C)(C)C'}, {'@dictRef': 'cml:inchi', '@value': 'InChI=1S/C20H33BN4O4/c1-14-13-24(17(26)27-18(2,3)4)9-10-25(14)16-22-11-15(12-23-16)21-28-19(5,6)20(7,8)29-21/h11-12,14H,9-10,13H2,1-8H3/t14-/m0/s1'}], 'dl:entityType': 'exact'}, {'@role': 'reactant', '@count': '1', 'molecule': {'@id': 'm4', 'name': {'@dictRef': 'nameDict:unknown', '#text': '4-(4-bromo-2-fluorophenyl)-1-methyl-1H-1,2,4-triazol-5(4H)-one'}}, 'amount': {'@dl:propertyType': 'MASS', '@dl:normalizedValue': '0.0630', '#text': '63.0 mg'}, 'identifier': [{'@dictRef': 'cml:smiles', '@value': 'BrC1=CC(=C(C=C1)N1C=NN(C1=O)C)F'}, {'@dictRef': 'cml:inchi', '@value': 'InChI=1S/C9H7BrFN3O/c1-13-9(15)14(5-12-13)8-3-2-6(10)4-7(8)11/h2-5H,1H3'}], 'dl:entityType': 'exact'}]}, 'spectatorList': None, 'dl:reactionActionList': {'dl:reactionAction': [{'@action': 'Synthesize', 'dl:phraseText': 'The intermediate (760.0 mg) was prepared in accordance with the same procedures as in Steps 1 and 2 of Example 1', 'dl:chemical': {'@ref': 'm0'}}, {'@action': 'Synthesize', 'dl:phraseText': 'The titled compound was prepared in accordance with the same procedures as in Step 3 of Example 1', 'dl:chemical': {'@ref': 'm1'}}, {'@action': 'Synthesize', 'dl:phraseText': 'and 4-(4-bromo-2-fluorophenyl)-1-methyl-1H-1,2,4-triazol-5(4H)-one (63.0 mg) prepared in Preparation 1', 'dl:chemical': {'@ref': 'm4'}}]}}: list index out of range\n",
      "Error with {'dl:source': {'dl:documentId': 'US20160068515A1', 'dl:headingText': '4-(2-fluoro-4-(6-(2-(trifluoromethyl)-4-(5-(trifluoromethyl)pyridin-2-yl)piperazin-1-yl)pyridin-3-yl)phenyl)-1-propyl-1H-1,2,4-triazol-5(4H)-one', 'dl:paragraphNum': '0424', 'dl:paragraphText': 'The intermediate (650.0 mg) was prepared in accordance with the same procedures as in Steps 2 and 3 of Example 50, using 3-(trifluoromethyl)-1-(5-(trifluoromethyl)pyridin-2-yl)piperazine (1.0 g) instead of tert-butyl 3-(trifluoromethyl)piperazin-1-carboxylate. The titled compound was prepared in accordance with the same procedures as in Step 4 of Example 50, using the intermediate instead of tert-butyl 4-(5-(4,4,5,5-tetramethyl-1,3,2-dioxaborolan-2-yl)pyridin-2-yl)-3-(trifluoromethyl)piperazin-1-carboxylate; and 4-(4-bromo-2-fluorophenyl)-1-propyl-1H-1,2,4-triazol-5(4H)-one (40.0 mg) prepared in Preparation 2.'}, 'dl:reactionSmiles': '[F:1][C:2]([F:20])([F:19])[CH:3]1[NH:8][CH2:7][CH2:6][N:5]([C:9]2[CH:14]=[CH:13][C:12]([C:15]([F:18])([F:17])[F:16])=[CH:11][N:10]=2)[CH2:4]1.CC1(C)C(C)(C)OB([C:29]2[CH:30]=[CH:31][C:32](N3CCN(C(OC(C)(C)C)=O)CC3C(F)(F)F)=[N:33][CH:34]=2)O1.Br[C:54]1[CH:59]=[CH:58][C:57]([N:60]2[C:64](=[O:65])[N:63]([CH2:66][CH2:67][CH3:68])[N:62]=[CH:61]2)=[C:56]([F:69])[CH:55]=1>>[F:69][C:56]1[CH:55]=[C:54]([C:29]2[CH:34]=[N:33][C:32]([N:8]3[CH2:7][CH2:6][N:5]([C:9]4[CH:14]=[CH:13][C:12]([C:15]([F:17])([F:18])[F:16])=[CH:11][N:10]=4)[CH2:4][CH:3]3[C:2]([F:1])([F:19])[F:20])=[CH:31][CH:30]=2)[CH:59]=[CH:58][C:57]=1[N:60]1[C:64](=[O:65])[N:63]([CH2:66][CH2:67][CH3:68])[N:62]=[CH:61]1', 'productList': {'product': [{'@role': 'product', 'molecule': {'@id': 'm0', 'name': {'@dictRef': 'nameDict:unknown', '#text': 'intermediate'}}, 'amount': {'@dl:propertyType': 'MASS', '@dl:normalizedValue': '0.6500', '#text': '650.0 mg'}, 'dl:entityType': 'definiteReference'}, {'@role': 'product', 'molecule': {'@id': 'm1', 'name': {'@dictRef': 'nameDict:unknown', '#text': 'titled compound'}, 'dl:nameResolved': '4-(2-fluoro-4-(6-(2-(trifluoromethyl)-4-(5-(trifluoromethyl)pyridin-2-yl)piperazin-1-yl)pyridin-3-yl)phenyl)-1-propyl-1H-1,2,4-triazol-5(4H)-one'}, 'amount': {'@dl:propertyType': 'PERCENTYIELD', '@dl:normalizedValue': '7.5', '#text': 'Yield: 7.5%'}, 'identifier': [{'@dictRef': 'cml:smiles', '@value': 'FC1=C(C=CC(=C1)C=1C=NC(=CC1)N1C(CN(CC1)C1=NC=C(C=C1)C(F)(F)F)C(F)(F)F)N1C=NN(C1=O)CCC'}, {'@dictRef': 'cml:inchi', '@value': 'InChI=1S/C27H24F7N7O/c1-2-9-41-25(42)40(16-37-41)21-6-3-17(12-20(21)28)18-4-7-24(35-13-18)39-11-10-38(15-22(39)27(32,33)34)23-8-5-19(14-36-23)26(29,30)31/h3-8,12-14,16,22H,2,9-11,15H2,1H3'}], 'dl:entityType': 'definiteReference'}]}, 'reactantList': {'reactant': [{'@role': 'reactant', '@count': '1', 'molecule': {'@id': 'm2', 'name': {'@dictRef': 'nameDict:unknown', '#text': '3-(trifluoromethyl)-1-(5-(trifluoromethyl)pyridin-2-yl)piperazine'}}, 'amount': {'@dl:propertyType': 'MASS', '@dl:normalizedValue': '1.0', '#text': '1.0 g'}, 'identifier': [{'@dictRef': 'cml:smiles', '@value': 'FC(C1CN(CCN1)C1=NC=C(C=C1)C(F)(F)F)(F)F'}, {'@dictRef': 'cml:inchi', '@value': 'InChI=1S/C11H11F6N3/c12-10(13,14)7-1-2-9(19-5-7)20-4-3-18-8(6-20)11(15,16)17/h1-2,5,8,18H,3-4,6H2'}], 'dl:entityType': 'exact'}, {'@role': 'reactant', '@count': '1', 'molecule': {'@id': 'm3', 'name': {'@dictRef': 'nameDict:unknown', '#text': 'tert-butyl 4-(5-(4,4,5,5-tetramethyl-1,3,2-dioxaborolan-2-yl)pyridin-2-yl)-3-(trifluoromethyl)piperazin-1-carboxylate'}}, 'identifier': [{'@dictRef': 'cml:smiles', '@value': 'CC1(OB(OC1(C)C)C=1C=CC(=NC1)N1C(CN(CC1)C(=O)OC(C)(C)C)C(F)(F)F)C'}, {'@dictRef': 'cml:inchi', '@value': 'InChI=1S/C21H31BF3N3O4/c1-18(2,3)30-17(29)27-10-11-28(15(13-27)21(23,24)25)16-9-8-14(12-26-16)22-31-19(4,5)20(6,7)32-22/h8-9,12,15H,10-11,13H2,1-7H3'}], 'dl:entityType': 'exact'}, {'@role': 'reactant', '@count': '1', 'molecule': {'@id': 'm4', 'name': {'@dictRef': 'nameDict:unknown', '#text': '4-(4-bromo-2-fluorophenyl)-1-propyl-1H-1,2,4-triazol-5(4H)-one'}}, 'amount': {'@dl:propertyType': 'MASS', '@dl:normalizedValue': '0.0400', '#text': '40.0 mg'}, 'identifier': [{'@dictRef': 'cml:smiles', '@value': 'BrC1=CC(=C(C=C1)N1C=NN(C1=O)CCC)F'}, {'@dictRef': 'cml:inchi', '@value': 'InChI=1S/C11H11BrFN3O/c1-2-5-16-11(17)15(7-14-16)10-4-3-8(12)6-9(10)13/h3-4,6-7H,2,5H2,1H3'}], 'dl:entityType': 'exact'}]}, 'spectatorList': None, 'dl:reactionActionList': {'dl:reactionAction': [{'@action': 'Synthesize', 'dl:phraseText': 'The intermediate (650.0 mg) was prepared in accordance with the same procedures as in Steps 2 and 3 of Example 50', 'dl:chemical': {'@ref': 'm0'}}, {'@action': 'Synthesize', 'dl:phraseText': 'The titled compound was prepared in accordance with the same procedures as in Step 4 of Example 50', 'dl:chemical': {'@ref': 'm1'}}, {'@action': 'Synthesize', 'dl:phraseText': 'and 4-(4-bromo-2-fluorophenyl)-1-propyl-1H-1,2,4-triazol-5(4H)-one (40.0 mg) prepared in Preparation 2', 'dl:chemical': {'@ref': 'm4'}}]}}: list index out of range\n",
      "Error with {'dl:source': {'dl:documentId': 'US20160068515A1', 'dl:headingText': '4-(4-(6-(4-(5-ethylpyrimidin-2-yl)-2-(trifluoromethyl)piperazin-1-yl)pyridin-3-yl)-2-fluorophenyl)-1-propyl-1H-1,2,4-triazol-5(4H)-one', 'dl:paragraphNum': '0427', 'dl:paragraphText': 'The intermediate (720.0 mg) was prepared in accordance with the same procedures as in Steps 2 and 3 of Example 50, using 5-ethyl-2-(3-(trifluoromethyl)piperazin-1-yl)pyrimidine (1.0 g) instead of tert-butyl 3-(trifluoromethyl)piperazin-1-carboxylate. The titled compound was prepared in accordance with the same procedures as in Step 4 of Example 50, using the intermediate instead of tert-butyl 4-(5-(4,4,5,5-tetramethyl-1,3,2-dioxaborolan-2-yl)pyridin-2-yl)-3-(trifluoromethyl)piperazin-1-carboxylate; and 4-(4-bromo-2-fluorophenyl)-1-propyl-1H-1,2,4-triazol-5(4H)-one (40.0 mg) prepared in Preparation 2.'}, 'dl:reactionSmiles': '[CH2:1]([C:3]1[CH:4]=[N:5][C:6]([N:9]2[CH2:14][CH2:13][NH:12][CH:11]([C:15]([F:18])([F:17])[F:16])[CH2:10]2)=[N:7][CH:8]=1)[CH3:2].CC1(C)C(C)(C)OB([C:27]2[CH:28]=[CH:29][C:30](N3CCN(C(OC(C)(C)C)=O)CC3C(F)(F)F)=[N:31][CH:32]=2)O1.Br[C:52]1[CH:57]=[CH:56][C:55]([N:58]2[C:62](=[O:63])[N:61]([CH2:64][CH2:65][CH3:66])[N:60]=[CH:59]2)=[C:54]([F:67])[CH:53]=1>>[CH2:1]([C:3]1[CH:4]=[N:5][C:6]([N:9]2[CH2:14][CH2:13][N:12]([C:30]3[N:31]=[CH:32][C:27]([C:52]4[CH:57]=[CH:56][C:55]([N:58]5[C:62](=[O:63])[N:61]([CH2:64][CH2:65][CH3:66])[N:60]=[CH:59]5)=[C:54]([F:67])[CH:53]=4)=[CH:28][CH:29]=3)[CH:11]([C:15]([F:18])([F:17])[F:16])[CH2:10]2)=[N:7][CH:8]=1)[CH3:2]', 'productList': {'product': [{'@role': 'product', 'molecule': {'@id': 'm0', 'name': {'@dictRef': 'nameDict:unknown', '#text': 'intermediate'}}, 'amount': {'@dl:propertyType': 'MASS', '@dl:normalizedValue': '0.7200', '#text': '720.0 mg'}, 'dl:entityType': 'definiteReference'}, {'@role': 'product', 'molecule': {'@id': 'm1', 'name': {'@dictRef': 'nameDict:unknown', '#text': 'titled compound'}, 'dl:nameResolved': '4-(4-(6-(4-(5-ethylpyrimidin-2-yl)-2-(trifluoromethyl)piperazin-1-yl)pyridin-3-yl)-2-fluorophenyl)-1-propyl-1H-1,2,4-triazol-5(4H)-one'}, 'amount': {'@dl:propertyType': 'PERCENTYIELD', '@dl:normalizedValue': '26.3', '#text': 'Yield: 26.3%'}, 'identifier': [{'@dictRef': 'cml:smiles', '@value': 'C(C)C=1C=NC(=NC1)N1CC(N(CC1)C1=CC=C(C=N1)C1=CC(=C(C=C1)N1C=NN(C1=O)CCC)F)C(F)(F)F'}, {'@dictRef': 'cml:inchi', '@value': 'InChI=1S/C27H28F4N8O/c1-3-9-39-26(40)38(17-35-39)22-7-5-19(12-21(22)28)20-6-8-24(32-15-20)37-11-10-36(16-23(37)27(29,30)31)25-33-13-18(4-2)14-34-25/h5-8,12-15,17,23H,3-4,9-11,16H2,1-2H3'}], 'dl:entityType': 'definiteReference'}]}, 'reactantList': {'reactant': [{'@role': 'reactant', '@count': '1', 'molecule': {'@id': 'm2', 'name': {'@dictRef': 'nameDict:unknown', '#text': '5-ethyl-2-(3-(trifluoromethyl)piperazin-1-yl)pyrimidine'}}, 'amount': {'@dl:propertyType': 'MASS', '@dl:normalizedValue': '1.0', '#text': '1.0 g'}, 'identifier': [{'@dictRef': 'cml:smiles', '@value': 'C(C)C=1C=NC(=NC1)N1CC(NCC1)C(F)(F)F'}, {'@dictRef': 'cml:inchi', '@value': 'InChI=1S/C11H15F3N4/c1-2-8-5-16-10(17-6-8)18-4-3-15-9(7-18)11(12,13)14/h5-6,9,15H,2-4,7H2,1H3'}], 'dl:entityType': 'exact'}, {'@role': 'reactant', '@count': '1', 'molecule': {'@id': 'm3', 'name': {'@dictRef': 'nameDict:unknown', '#text': 'tert-butyl 4-(5-(4,4,5,5-tetramethyl-1,3,2-dioxaborolan-2-yl)pyridin-2-yl)-3-(trifluoromethyl)piperazin-1-carboxylate'}}, 'identifier': [{'@dictRef': 'cml:smiles', '@value': 'CC1(OB(OC1(C)C)C=1C=CC(=NC1)N1C(CN(CC1)C(=O)OC(C)(C)C)C(F)(F)F)C'}, {'@dictRef': 'cml:inchi', '@value': 'InChI=1S/C21H31BF3N3O4/c1-18(2,3)30-17(29)27-10-11-28(15(13-27)21(23,24)25)16-9-8-14(12-26-16)22-31-19(4,5)20(6,7)32-22/h8-9,12,15H,10-11,13H2,1-7H3'}], 'dl:entityType': 'exact'}, {'@role': 'reactant', '@count': '1', 'molecule': {'@id': 'm4', 'name': {'@dictRef': 'nameDict:unknown', '#text': '4-(4-bromo-2-fluorophenyl)-1-propyl-1H-1,2,4-triazol-5(4H)-one'}}, 'amount': {'@dl:propertyType': 'MASS', '@dl:normalizedValue': '0.0400', '#text': '40.0 mg'}, 'identifier': [{'@dictRef': 'cml:smiles', '@value': 'BrC1=CC(=C(C=C1)N1C=NN(C1=O)CCC)F'}, {'@dictRef': 'cml:inchi', '@value': 'InChI=1S/C11H11BrFN3O/c1-2-5-16-11(17)15(7-14-16)10-4-3-8(12)6-9(10)13/h3-4,6-7H,2,5H2,1H3'}], 'dl:entityType': 'exact'}]}, 'spectatorList': None, 'dl:reactionActionList': {'dl:reactionAction': [{'@action': 'Synthesize', 'dl:phraseText': 'The intermediate (720.0 mg) was prepared in accordance with the same procedures as in Steps 2 and 3 of Example 50', 'dl:chemical': {'@ref': 'm0'}}, {'@action': 'Synthesize', 'dl:phraseText': 'The titled compound was prepared in accordance with the same procedures as in Step 4 of Example 50', 'dl:chemical': {'@ref': 'm1'}}, {'@action': 'Synthesize', 'dl:phraseText': 'and 4-(4-bromo-2-fluorophenyl)-1-propyl-1H-1,2,4-triazol-5(4H)-one (40.0 mg) prepared in Preparation 2', 'dl:chemical': {'@ref': 'm4'}}]}}: list index out of range\n",
      "Error with {'dl:source': {'dl:documentId': 'US20160068515A1', 'dl:headingText': 'tert-butyl ethyl(1-(5-(3-fluoro-4-(5-oxo-1-propyl-1H-1,2,4-triazol-4(5H)-yl)phenyl)pyrimidin-2-yl)piperidin-4-yl)carbamate', 'dl:paragraphNum': '0440', 'dl:paragraphText': 'The intermediate (500.0 mg) was prepared in accordance with the same procedures as in Steps 2 and 3 of Example 54, using tert-butyl 1-(5-bromopyrimidin-2-yl)piperidin-4-ylcarbamate (1.0 g) Prepared in Step 1 of Example 54; and iodoethane (50.0 mL) instead of iodomethane. The titled compound was prepared in accordance with the same procedures as in Step 4 of Example 54, using the intermediate instead of tert-butyl methyl(1-(5-(4,4,5,5-tetramethyl-1,3,2-dioxaborolan-2-yl)pyrimidin-2-yl)piperidin-4-yl)carbamate; and 4-(4-bromo-2-fluorophenyl)-1-propyl-1H-1,2,4-triazol-5(4H)-one (50.0 mg) prepared in Preparation 2.'}, 'dl:reactionSmiles': 'Br[C:2]1[CH:3]=[N:4][C:5]([N:8]2[CH2:13][CH2:12][CH:11]([NH:14][C:15](=[O:21])[O:16][C:17]([CH3:20])([CH3:19])[CH3:18])[CH2:10][CH2:9]2)=[N:6][CH:7]=1.I[CH2:23][CH3:24].CN(C1CCN(C2N=CC(B3OC(C)(C)C(C)(C)O3)=CN=2)CC1)C(=O)OC(C)(C)C.Br[C:56]1[CH:61]=[CH:60][C:59]([N:62]2[C:66](=[O:67])[N:65]([CH2:68][CH2:69][CH3:70])[N:64]=[CH:63]2)=[C:58]([F:71])[CH:57]=1>>[CH2:23]([N:14]([CH:11]1[CH2:12][CH2:13][N:8]([C:5]2[N:4]=[CH:3][C:2]([C:56]3[CH:61]=[CH:60][C:59]([N:62]4[C:66](=[O:67])[N:65]([CH2:68][CH2:69][CH3:70])[N:64]=[CH:63]4)=[C:58]([F:71])[CH:57]=3)=[CH:7][N:6]=2)[CH2:9][CH2:10]1)[C:15](=[O:21])[O:16][C:17]([CH3:20])([CH3:19])[CH3:18])[CH3:24]', 'productList': {'product': [{'@role': 'product', 'molecule': {'@id': 'm0', 'name': {'@dictRef': 'nameDict:unknown', '#text': 'intermediate'}}, 'amount': {'@dl:propertyType': 'MASS', '@dl:normalizedValue': '0.5000', '#text': '500.0 mg'}, 'dl:entityType': 'definiteReference'}, {'@role': 'product', 'molecule': {'@id': 'm1', 'name': {'@dictRef': 'nameDict:unknown', '#text': 'titled compound'}, 'dl:nameResolved': 'tert-butyl ethyl(1-(5-(3-fluoro-4-(5-oxo-1-propyl-1H-1,2,4-triazol-4(5H)-yl)phenyl)pyrimidin-2-yl)piperidin-4-yl)carbamate'}, 'amount': {'@dl:propertyType': 'PERCENTYIELD', '@dl:normalizedValue': '16.2', '#text': 'Yield: 16.2%'}, 'identifier': [{'@dictRef': 'cml:smiles', '@value': 'C(C)N(C(OC(C)(C)C)=O)C1CCN(CC1)C1=NC=C(C=N1)C1=CC(=C(C=C1)N1C=NN(C1=O)CCC)F'}, {'@dictRef': 'cml:inchi', '@value': 'InChI=1S/C27H36FN7O3/c1-6-12-35-25(36)34(18-31-35)23-9-8-19(15-22(23)28)20-16-29-24(30-17-20)32-13-10-21(11-14-32)33(7-2)26(37)38-27(3,4)5/h8-9,15-18,21H,6-7,10-14H2,1-5H3'}], 'dl:entityType': 'definiteReference'}]}, 'reactantList': {'reactant': [{'@role': 'reactant', '@count': '1', 'molecule': {'@id': 'm2', 'name': {'@dictRef': 'nameDict:unknown', '#text': 'tert-butyl 1-(5-bromopyrimidin-2-yl)piperidin-4-ylcarbamate'}}, 'amount': {'@dl:propertyType': 'MASS', '@dl:normalizedValue': '1.0', '#text': '1.0 g'}, 'identifier': [{'@dictRef': 'cml:smiles', '@value': 'BrC=1C=NC(=NC1)N1CCC(CC1)NC(OC(C)(C)C)=O'}, {'@dictRef': 'cml:inchi', '@value': 'InChI=1S/C14H21BrN4O2/c1-14(2,3)21-13(20)18-11-4-6-19(7-5-11)12-16-8-10(15)9-17-12/h8-9,11H,4-7H2,1-3H3,(H,18,20)'}], 'dl:entityType': 'definiteReference'}, {'@role': 'reactant', '@count': '1', 'molecule': {'@id': 'm3', 'name': {'@dictRef': 'nameDict:unknown', '#text': 'iodoethane'}}, 'amount': {'@dl:propertyType': 'VOLUME', '@dl:normalizedValue': '0.0500', '#text': '50.0 mL'}, 'identifier': [{'@dictRef': 'cml:smiles', '@value': 'ICC'}, {'@dictRef': 'cml:inchi', '@value': 'InChI=1S/C2H5I/c1-2-3/h2H2,1H3'}], 'dl:entityType': 'exact'}, {'@role': 'reactant', 'molecule': {'@id': 'm4', 'name': {'@dictRef': 'nameDict:unknown', '#text': 'tert-butyl methyl(1-(5-(4,4,5,5-tetramethyl-1,3,2-dioxaborolan-2-yl)pyrimidin-2-yl)piperidin-4-yl)carbamate'}}, 'identifier': [{'@dictRef': 'cml:smiles', '@value': 'CN(C(OC(C)(C)C)=O)C1CCN(CC1)C1=NC=C(C=N1)B1OC(C(O1)(C)C)(C)C'}, {'@dictRef': 'cml:inchi', '@value': 'InChI=1S/C21H35BN4O4/c1-19(2,3)28-18(27)25(8)16-9-11-26(12-10-16)17-23-13-15(14-24-17)22-29-20(4,5)21(6,7)30-22/h13-14,16H,9-12H2,1-8H3'}], 'dl:entityType': 'exact'}, {'@role': 'reactant', '@count': '1', 'molecule': {'@id': 'm5', 'name': {'@dictRef': 'nameDict:unknown', '#text': '4-(4-bromo-2-fluorophenyl)-1-propyl-1H-1,2,4-triazol-5(4H)-one'}}, 'amount': {'@dl:propertyType': 'MASS', '@dl:normalizedValue': '0.0500', '#text': '50.0 mg'}, 'identifier': [{'@dictRef': 'cml:smiles', '@value': 'BrC1=CC(=C(C=C1)N1C=NN(C1=O)CCC)F'}, {'@dictRef': 'cml:inchi', '@value': 'InChI=1S/C11H11BrFN3O/c1-2-5-16-11(17)15(7-14-16)10-4-3-8(12)6-9(10)13/h3-4,6-7H,2,5H2,1H3'}], 'dl:entityType': 'exact'}]}, 'spectatorList': None, 'dl:reactionActionList': {'dl:reactionAction': [{'@action': 'Synthesize', 'dl:phraseText': 'The intermediate (500.0 mg) was prepared in accordance with the same procedures as in Steps 2 and 3 of Example 54', 'dl:chemical': {'@ref': 'm0'}}, {'@action': 'Synthesize', 'dl:phraseText': 'The titled compound was prepared in accordance with the same procedures as in Step 4 of Example 54', 'dl:chemical': {'@ref': 'm1'}}, {'@action': 'Synthesize', 'dl:phraseText': 'and 4-(4-bromo-2-fluorophenyl)-1-propyl-1H-1,2,4-triazol-5(4H)-one (50.0 mg) prepared in Preparation 2', 'dl:chemical': {'@ref': 'm5'}}]}}: list index out of range\n",
      "Error with {'dl:source': {'dl:documentId': 'US20160068515A1', 'dl:headingText': 'tert-butyl 1-(3-fluoro-5-(3-fluoro-4-(5-oxo-1-propyl-1H-1,2,4-triazol-4(5H)-yl)phenyl)pyridin-2-yl)piperidin-4-yl(methyl)carbamate', 'dl:paragraphNum': '0443', 'dl:paragraphText': 'The intermediate (5.0 g) was prepared in accordance with the same procedures as in Steps 1 to 3 of Example 54, using 5-bromo-2,3-difluoropyridine (10.0 g) instead of 5-bromo-2-chloropyrimidine. The titled compound was prepared in accordance with the same procedures as in Step 4 of Example 54, using the intermediate instead of tert-butyl methyl(1-(5-(4,4,5,5-tetramethyl-1,3,2-dioxaborolan-2-yl)pyrimidin-2-yl)piperidin-4-yl)carbamate; and 4-(4-bromo-2-fluorophenyl)-1-propyl-1H-1,2,4-triazol-5(4H)-one (50.0 mg) prepared in Preparation 2.'}, 'dl:reactionSmiles': 'Br[C:2]1[CH:3]=[C:4]([F:9])[C:5](F)=[N:6][CH:7]=1.[CH3:10][N:11]([CH:19]1[CH2:24][CH2:23][N:22](C2N=CC(B3OC(C)(C)C(C)(C)O3)=CN=2)[CH2:21][CH2:20]1)[C:12](=[O:18])[O:13][C:14]([CH3:17])([CH3:16])[CH3:15].Br[C:41]1[CH:46]=[CH:45][C:44]([N:47]2[C:51](=[O:52])[N:50]([CH2:53][CH2:54][CH3:55])[N:49]=[CH:48]2)=[C:43]([F:56])[CH:42]=1>>[F:9][C:4]1[C:5]([N:22]2[CH2:21][CH2:20][CH:19]([N:11]([CH3:10])[C:12](=[O:18])[O:13][C:14]([CH3:15])([CH3:16])[CH3:17])[CH2:24][CH2:23]2)=[N:6][CH:7]=[C:2]([C:41]2[CH:46]=[CH:45][C:44]([N:47]3[C:51](=[O:52])[N:50]([CH2:53][CH2:54][CH3:55])[N:49]=[CH:48]3)=[C:43]([F:56])[CH:42]=2)[CH:3]=1', 'productList': {'product': [{'@role': 'product', 'molecule': {'@id': 'm0', 'name': {'@dictRef': 'nameDict:unknown', '#text': 'intermediate'}}, 'amount': {'@dl:propertyType': 'MASS', '@dl:normalizedValue': '5.0', '#text': '5.0 g'}, 'dl:entityType': 'definiteReference'}, {'@role': 'product', 'molecule': {'@id': 'm1', 'name': {'@dictRef': 'nameDict:unknown', '#text': 'titled compound'}, 'dl:nameResolved': 'tert-butyl 1-(3-fluoro-5-(3-fluoro-4-(5-oxo-1-propyl-1H-1,2,4-triazol-4(5H)-yl)phenyl)pyridin-2-yl)piperidin-4-yl(methyl)carbamate'}, 'amount': {'@dl:propertyType': 'PERCENTYIELD', '@dl:normalizedValue': '40.5', '#text': 'Yield: 40.5%'}, 'identifier': [{'@dictRef': 'cml:smiles', '@value': 'FC=1C(=NC=C(C1)C1=CC(=C(C=C1)N1C=NN(C1=O)CCC)F)N1CCC(CC1)N(C(OC(C)(C)C)=O)C'}, {'@dictRef': 'cml:inchi', '@value': 'InChI=1S/C27H34F2N6O3/c1-6-11-35-25(36)34(17-31-35)23-8-7-18(14-21(23)28)19-15-22(29)24(30-16-19)33-12-9-20(10-13-33)32(5)26(37)38-27(2,3)4/h7-8,14-17,20H,6,9-13H2,1-5H3'}], 'dl:entityType': 'definiteReference'}]}, 'reactantList': {'reactant': [{'@role': 'reactant', '@count': '1', 'molecule': {'@id': 'm2', 'name': {'@dictRef': 'nameDict:unknown', '#text': '5-bromo-2,3-difluoropyridine'}}, 'amount': {'@dl:propertyType': 'MASS', '@dl:normalizedValue': '10.0', '#text': '10.0 g'}, 'identifier': [{'@dictRef': 'cml:smiles', '@value': 'BrC=1C=C(C(=NC1)F)F'}, {'@dictRef': 'cml:inchi', '@value': 'InChI=1S/C5H2BrF2N/c6-3-1-4(7)5(8)9-2-3/h1-2H'}], 'dl:entityType': 'exact'}, {'@role': 'reactant', '@count': '1', 'molecule': {'@id': 'm3', 'name': {'@dictRef': 'nameDict:unknown', '#text': 'tert-butyl methyl(1-(5-(4,4,5,5-tetramethyl-1,3,2-dioxaborolan-2-yl)pyrimidin-2-yl)piperidin-4-yl)carbamate'}}, 'identifier': [{'@dictRef': 'cml:smiles', '@value': 'CN(C(OC(C)(C)C)=O)C1CCN(CC1)C1=NC=C(C=N1)B1OC(C(O1)(C)C)(C)C'}, {'@dictRef': 'cml:inchi', '@value': 'InChI=1S/C21H35BN4O4/c1-19(2,3)28-18(27)25(8)16-9-11-26(12-10-16)17-23-13-15(14-24-17)22-29-20(4,5)21(6,7)30-22/h13-14,16H,9-12H2,1-8H3'}], 'dl:entityType': 'exact'}, {'@role': 'reactant', '@count': '1', 'molecule': {'@id': 'm4', 'name': {'@dictRef': 'nameDict:unknown', '#text': '4-(4-bromo-2-fluorophenyl)-1-propyl-1H-1,2,4-triazol-5(4H)-one'}}, 'amount': {'@dl:propertyType': 'MASS', '@dl:normalizedValue': '0.0500', '#text': '50.0 mg'}, 'identifier': [{'@dictRef': 'cml:smiles', '@value': 'BrC1=CC(=C(C=C1)N1C=NN(C1=O)CCC)F'}, {'@dictRef': 'cml:inchi', '@value': 'InChI=1S/C11H11BrFN3O/c1-2-5-16-11(17)15(7-14-16)10-4-3-8(12)6-9(10)13/h3-4,6-7H,2,5H2,1H3'}], 'dl:entityType': 'exact'}]}, 'spectatorList': None, 'dl:reactionActionList': {'dl:reactionAction': [{'@action': 'Synthesize', 'dl:phraseText': 'The intermediate (5.0 g) was prepared in accordance with the same procedures as in Steps 1 to 3 of Example 54', 'dl:chemical': {'@ref': 'm0'}}, {'@action': 'Synthesize', 'dl:phraseText': 'The titled compound was prepared in accordance with the same procedures as in Step 4 of Example 54', 'dl:chemical': {'@ref': 'm1'}}, {'@action': 'Synthesize', 'dl:phraseText': 'and 4-(4-bromo-2-fluorophenyl)-1-propyl-1H-1,2,4-triazol-5(4H)-one (50.0 mg) prepared in Preparation 2', 'dl:chemical': {'@ref': 'm4'}}]}}: list index out of range\n",
      "Error with {'dl:source': {'dl:documentId': 'US20160068515A1', 'dl:headingText': 'tert-butyl 1-(3-cyano-5-(3-fluoro-4-(1-isopropyl-5-oxo-1H-1,2,4-triazol-4(5H)-yl)phenyl)pyridin-2-yl)piperidin-4-yl(methyl)carbamate', 'dl:paragraphNum': '0446', 'dl:paragraphText': 'The intermediate (5.0 g) was prepared in accordance with the same procedures as in Steps 1 to 3 of Example 54, using 5-bromo-2-chloronicotinonitrile (10.0 g) instead of 5-bromo-2-chloropyrimidine. The titled compound was prepared in accordance with the same procedures as in Step 4 of Example 54, using the intermediate instead of tert-butyl methyl(1-(5-(4,4,5,5-tetramethyl-1,3,2-dioxaborolan-2-yl)pyrimidin-2-yl)piperidin-4-yl)carbamate; and 4-(4-bromo-2-fluorophenyl)-1-isopropyl-1H-1,2,4-triazol-5(4H)-one (50.0 mg) prepared in Preparation 3 instead of 4-(4-bromo-2-fluorophenyl)-1-propyl-1H-1,2,4-triazol-5(4H)-one.'}, 'dl:reactionSmiles': 'Br[C:2]1[CH:3]=[N:4][C:5](Cl)=[C:6]([CH:9]=1)[C:7]#[N:8].[CH3:11][N:12]([CH:20]1[CH2:25][CH2:24][N:23](C2N=CC(B3OC(C)(C)C(C)(C)O3)=CN=2)[CH2:22][CH2:21]1)[C:13](=[O:19])[O:14][C:15]([CH3:18])([CH3:17])[CH3:16].Br[C:42]1[CH:47]=[CH:46][C:45]([N:48]2[C:52](=[O:53])[N:51]([CH:54]([CH3:56])[CH3:55])[N:50]=[CH:49]2)=[C:44]([F:57])[CH:43]=1.BrC1C=CC(N2C(=O)N(CCC)N=C2)=C(F)C=1>>[C:7]([C:6]1[C:5]([N:23]2[CH2:22][CH2:21][CH:20]([N:12]([CH3:11])[C:13](=[O:19])[O:14][C:15]([CH3:16])([CH3:17])[CH3:18])[CH2:25][CH2:24]2)=[N:4][CH:3]=[C:2]([C:42]2[CH:47]=[CH:46][C:45]([N:48]3[C:52](=[O:53])[N:51]([CH:54]([CH3:55])[CH3:56])[N:50]=[CH:49]3)=[C:44]([F:57])[CH:43]=2)[CH:9]=1)#[N:8]', 'productList': {'product': [{'@role': 'product', 'molecule': {'@id': 'm0', 'name': {'@dictRef': 'nameDict:unknown', '#text': 'intermediate'}}, 'amount': {'@dl:propertyType': 'MASS', '@dl:normalizedValue': '5.0', '#text': '5.0 g'}, 'dl:entityType': 'definiteReference'}, {'@role': 'product', 'molecule': {'@id': 'm1', 'name': {'@dictRef': 'nameDict:unknown', '#text': 'titled compound'}, 'dl:nameResolved': 'tert-butyl 1-(3-cyano-5-(3-fluoro-4-(1-isopropyl-5-oxo-1H-1,2,4-triazol-4(5H)-yl)phenyl)pyridin-2-yl)piperidin-4-yl(methyl)carbamate'}, 'amount': {'@dl:propertyType': 'PERCENTYIELD', '@dl:normalizedValue': '6.1', '#text': 'Yield: 6.1%'}, 'identifier': [{'@dictRef': 'cml:smiles', '@value': 'C(#N)C=1C(=NC=C(C1)C1=CC(=C(C=C1)N1C=NN(C1=O)C(C)C)F)N1CCC(CC1)N(C(OC(C)(C)C)=O)C'}, {'@dictRef': 'cml:inchi', '@value': 'InChI=1S/C28H34FN7O3/c1-18(2)36-26(37)35(17-32-36)24-8-7-19(14-23(24)29)21-13-20(15-30)25(31-16-21)34-11-9-22(10-12-34)33(6)27(38)39-28(3,4)5/h7-8,13-14,16-18,22H,9-12H2,1-6H3'}], 'dl:entityType': 'definiteReference'}]}, 'reactantList': {'reactant': [{'@role': 'reactant', '@count': '1', 'molecule': {'@id': 'm2', 'name': {'@dictRef': 'nameDict:unknown', '#text': '5-bromo-2-chloronicotinonitrile'}}, 'amount': {'@dl:propertyType': 'MASS', '@dl:normalizedValue': '10.0', '#text': '10.0 g'}, 'identifier': [{'@dictRef': 'cml:smiles', '@value': 'BrC=1C=NC(=C(C#N)C1)Cl'}, {'@dictRef': 'cml:inchi', '@value': 'InChI=1S/C6H2BrClN2/c7-5-1-4(2-9)6(8)10-3-5/h1,3H'}], 'dl:entityType': 'exact'}, {'@role': 'reactant', '@count': '1', 'molecule': {'@id': 'm3', 'name': {'@dictRef': 'nameDict:unknown', '#text': 'tert-butyl methyl(1-(5-(4,4,5,5-tetramethyl-1,3,2-dioxaborolan-2-yl)pyrimidin-2-yl)piperidin-4-yl)carbamate'}}, 'identifier': [{'@dictRef': 'cml:smiles', '@value': 'CN(C(OC(C)(C)C)=O)C1CCN(CC1)C1=NC=C(C=N1)B1OC(C(O1)(C)C)(C)C'}, {'@dictRef': 'cml:inchi', '@value': 'InChI=1S/C21H35BN4O4/c1-19(2,3)28-18(27)25(8)16-9-11-26(12-10-16)17-23-13-15(14-24-17)22-29-20(4,5)21(6,7)30-22/h13-14,16H,9-12H2,1-8H3'}], 'dl:entityType': 'exact'}, {'@role': 'reactant', '@count': '1', 'molecule': {'@id': 'm4', 'name': {'@dictRef': 'nameDict:unknown', '#text': '4-(4-bromo-2-fluorophenyl)-1-isopropyl-1H-1,2,4-triazol-5(4H)-one'}}, 'amount': {'@dl:propertyType': 'MASS', '@dl:normalizedValue': '0.0500', '#text': '50.0 mg'}, 'identifier': [{'@dictRef': 'cml:smiles', '@value': 'BrC1=CC(=C(C=C1)N1C=NN(C1=O)C(C)C)F'}, {'@dictRef': 'cml:inchi', '@value': 'InChI=1S/C11H11BrFN3O/c1-7(2)16-11(17)15(6-14-16)10-4-3-8(12)5-9(10)13/h3-7H,1-2H3'}], 'dl:entityType': 'exact'}, {'@role': 'reactant', 'molecule': {'@id': 'm5', 'name': {'@dictRef': 'nameDict:unknown', '#text': '4-(4-bromo-2-fluorophenyl)-1-propyl-1H-1,2,4-triazol-5(4H)-one'}}, 'identifier': [{'@dictRef': 'cml:smiles', '@value': 'BrC1=CC(=C(C=C1)N1C=NN(C1=O)CCC)F'}, {'@dictRef': 'cml:inchi', '@value': 'InChI=1S/C11H11BrFN3O/c1-2-5-16-11(17)15(7-14-16)10-4-3-8(12)6-9(10)13/h3-4,6-7H,2,5H2,1H3'}], 'dl:entityType': 'exact'}]}, 'spectatorList': None, 'dl:reactionActionList': {'dl:reactionAction': [{'@action': 'Synthesize', 'dl:phraseText': 'The intermediate (5.0 g) was prepared in accordance with the same procedures as in Steps 1 to 3 of Example 54', 'dl:chemical': {'@ref': 'm0'}}, {'@action': 'Synthesize', 'dl:phraseText': 'The titled compound was prepared in accordance with the same procedures as in Step 4 of Example 54', 'dl:chemical': {'@ref': 'm1'}}, {'@action': 'Synthesize', 'dl:phraseText': 'and 4-(4-bromo-2-fluorophenyl)-1-isopropyl-1H-1,2,4-triazol-5(4H)-one (50.0 mg) prepared in Preparation 3 instead of 4-(4-bromo-2-fluorophenyl)-1-propyl-1H-1,2,4-triazol-5(4H)-one', 'dl:chemical': [{'@ref': 'm4'}, {'@ref': 'm5'}]}]}}: list index out of range\n",
      "Error with {'dl:source': {'dl:documentId': 'US20160200666A1', 'dl:paragraphNum': '0113', 'dl:paragraphText': 'Step 2, IBCF Method C: 3-Chloro-4-formamidobenzoic acid and o-toluidine were coupled according to the procedure of Example 04-13; 5.0 mmol scale yielded 1.0 g of 3-chloro-4-formamido-N-(o-tolyl)benzamide from precipitate (69% yield). LCMS t=5.1 min, m/z Calcd for C15H14ClN2O2; C15H13ClN2NaO2; C30H27Cl2N4O4; C30H26Cl2N4NaO4 289.07; 311.06; 577.14; 599.12 [M+H]+; [M+Na]+; [2M+H]+; [2M+Na]+. Found 289.07; 311.05; 577.14; 599.12.'}, 'dl:reactionSmiles': '[Cl:1][C:2]1[CH:3]=[C:4]([CH:8]=[CH:9][C:10]=1[NH:11][CH:12]=[O:13])[C:5]([OH:7])=O.[NH2:14][C:15]1[C:16]([CH3:21])=[CH:17][CH:18]=[CH:19][CH:20]=1>>[Cl:1][C:2]1[CH:3]=[C:4]([CH:8]=[CH:9][C:10]=1[NH:11][CH:12]=[O:13])[C:5]([NH:14][C:15]1[CH:20]=[CH:19][CH:18]=[CH:17][C:16]=1[CH3:21])=[O:7]', 'productList': {'product': [{'@role': 'product', 'molecule': {'@id': 'm0', 'name': {'@dictRef': 'nameDict:unknown', '#text': '3-chloro-4-formamido-N-(o-tolyl)benzamide'}}, 'amount': {'@dl:propertyType': 'MASS', '@dl:normalizedValue': '1.0', '#text': '1.0 g'}, 'identifier': [{'@dictRef': 'cml:smiles', '@value': 'ClC=1C=C(C(=O)NC2=C(C=CC=C2)C)C=CC1NC=O'}, {'@dictRef': 'cml:inchi', '@value': 'InChI=1S/C15H13ClN2O2/c1-10-4-2-3-5-13(10)18-15(20)11-6-7-14(17-9-19)12(16)8-11/h2-9H,1H3,(H,17,19)(H,18,20)'}], 'dl:entityType': 'exact'}, {'@role': 'product', 'molecule': {'@id': 'm1', 'name': {'@dictRef': 'nameDict:unknown', '#text': 'precipitate'}}, 'amount': {'@dl:propertyType': 'PERCENTYIELD', '@dl:normalizedValue': '69', '#text': '69% yield'}, 'dl:entityType': 'exact'}]}, 'reactantList': {'reactant': [{'@role': 'reactant', '@count': '1', 'molecule': {'@id': 'm2', 'name': {'@dictRef': 'nameDict:unknown', '#text': '3-Chloro-4-formamidobenzoic acid'}}, 'identifier': [{'@dictRef': 'cml:smiles', '@value': 'ClC=1C=C(C(=O)O)C=CC1NC=O'}, {'@dictRef': 'cml:inchi', '@value': 'InChI=1S/C8H6ClNO3/c9-6-3-5(8(12)13)1-2-7(6)10-4-11/h1-4H,(H,10,11)(H,12,13)'}], 'dl:entityType': 'exact'}, {'@role': 'reactant', '@count': '1', 'molecule': {'@id': 'm3', 'name': {'@dictRef': 'nameDict:unknown', '#text': 'o-toluidine'}}, 'identifier': [{'@dictRef': 'cml:smiles', '@value': 'NC=1C(=CC=CC1)C'}, {'@dictRef': 'cml:inchi', '@value': 'InChI=1S/C7H9N/c1-6-4-2-3-5-7(6)8/h2-5H,8H2,1H3'}], 'dl:entityType': 'exact'}]}, 'spectatorList': None, 'dl:reactionActionList': {'dl:reactionAction': {'@action': 'Yield', 'dl:phraseText': '5.0 mmol scale yielded 1.0 g of 3-chloro-4-formamido-N-(o-tolyl)benzamide from precipitate (69% yield)', 'dl:chemical': [{'@ref': 'm0'}, {'@ref': 'm1'}]}}}: string indices must be integers\n",
      "Error with {'dl:source': {'dl:documentId': 'US20160200666A1', 'dl:paragraphNum': '0116', 'dl:paragraphText': 'Step 2, IBCF Method C: 3-Fluoro-4-formamidobenzoic acid and p-anisidine were coupled according to the procedure of Example 04-13; 5.0 mmol scale yielded 1.0 g of 3-fluoro-4-formamido-N-(4-methoxyphenyl)benzamide from precipitate (69% yield). LCMS t=4.8 min, m/z Calcd for C15H14FN2O3; C30H27F2N4O6; C30H26F2N4NaO6 289.10; 577.19; 599.17 [M+H]+; [2M+H]+; [2M+Na]+. Found 289.10; 577.19; 599.17.'}, 'dl:reactionSmiles': '[F:1][C:2]1[CH:3]=[C:4]([CH:8]=[CH:9][C:10]=1[NH:11][CH:12]=[O:13])[C:5]([OH:7])=O.[CH3:14][O:15][C:16]1[CH:21]=[CH:20][C:19]([NH2:22])=[CH:18][CH:17]=1>>[F:1][C:2]1[CH:3]=[C:4]([CH:8]=[CH:9][C:10]=1[NH:11][CH:12]=[O:13])[C:5]([NH:22][C:19]1[CH:20]=[CH:21][C:16]([O:15][CH3:14])=[CH:17][CH:18]=1)=[O:7]', 'productList': {'product': [{'@role': 'product', 'molecule': {'@id': 'm0', 'name': {'@dictRef': 'nameDict:unknown', '#text': '3-fluoro-4-formamido-N-(4-methoxyphenyl)benzamide'}}, 'amount': {'@dl:propertyType': 'MASS', '@dl:normalizedValue': '1.0', '#text': '1.0 g'}, 'identifier': [{'@dictRef': 'cml:smiles', '@value': 'FC=1C=C(C(=O)NC2=CC=C(C=C2)OC)C=CC1NC=O'}, {'@dictRef': 'cml:inchi', '@value': 'InChI=1S/C15H13FN2O3/c1-21-12-5-3-11(4-6-12)18-15(20)10-2-7-14(17-9-19)13(16)8-10/h2-9H,1H3,(H,17,19)(H,18,20)'}], 'dl:entityType': 'exact'}, {'@role': 'product', 'molecule': {'@id': 'm1', 'name': {'@dictRef': 'nameDict:unknown', '#text': 'precipitate'}}, 'amount': {'@dl:propertyType': 'PERCENTYIELD', '@dl:normalizedValue': '69', '#text': '69% yield'}, 'dl:entityType': 'exact'}]}, 'reactantList': {'reactant': [{'@role': 'reactant', '@count': '1', 'molecule': {'@id': 'm2', 'name': {'@dictRef': 'nameDict:unknown', '#text': '3-Fluoro-4-formamidobenzoic acid'}}, 'identifier': [{'@dictRef': 'cml:smiles', '@value': 'FC=1C=C(C(=O)O)C=CC1NC=O'}, {'@dictRef': 'cml:inchi', '@value': 'InChI=1S/C8H6FNO3/c9-6-3-5(8(12)13)1-2-7(6)10-4-11/h1-4H,(H,10,11)(H,12,13)'}], 'dl:entityType': 'exact'}, {'@role': 'reactant', '@count': '1', 'molecule': {'@id': 'm3', 'name': {'@dictRef': 'nameDict:unknown', '#text': 'p-anisidine'}}, 'identifier': [{'@dictRef': 'cml:smiles', '@value': 'COC1=CC=C(C=C1)N'}, {'@dictRef': 'cml:inchi', '@value': 'InChI=1S/C7H9NO/c1-9-7-4-2-6(8)3-5-7/h2-5H,8H2,1H3'}], 'dl:entityType': 'exact'}]}, 'spectatorList': None, 'dl:reactionActionList': {'dl:reactionAction': {'@action': 'Yield', 'dl:phraseText': '5.0 mmol scale yielded 1.0 g of 3-fluoro-4-formamido-N-(4-methoxyphenyl)benzamide from precipitate (69% yield)', 'dl:chemical': [{'@ref': 'm0'}, {'@ref': 'm1'}]}}}: string indices must be integers\n",
      "Error with {'dl:source': {'dl:documentId': 'US20160200666A1', 'dl:paragraphNum': '0119', 'dl:paragraphText': 'Step 2, IBCF Method C: 3-Bromo-4-formamidobenzoic acid and p-anisidine were coupled according to the procedure of Example 04-13; 5.0 mmol scale (exothermic) yielded 0.27 g of 3-bromo-4-formamido-N-(4-methoxyphenyl)benzamide from precipitate (15% yield). LCMS t=5.0 min, m/z Calcd for C15H14BrN2O3; C15H13BrN2NaO3; C30H27Br2N4O6; C30H26Br2N4NaO6 349.02, 351.02; 371.00, 372.10; 699.03; 721.01 [M+H]+; [M+Na]+; [2M+H]+; [2M+Na]+. Found 349.01, 351.01; 370.99, 372.99; 699.01; 720.99.'}, 'dl:reactionSmiles': '[Br:1][C:2]1[CH:3]=[C:4]([CH:8]=[CH:9][C:10]=1[NH:11][CH:12]=[O:13])[C:5]([OH:7])=O.[CH3:14][O:15][C:16]1[CH:21]=[CH:20][C:19]([NH2:22])=[CH:18][CH:17]=1>>[Br:1][C:2]1[CH:3]=[C:4]([CH:8]=[CH:9][C:10]=1[NH:11][CH:12]=[O:13])[C:5]([NH:22][C:19]1[CH:20]=[CH:21][C:16]([O:15][CH3:14])=[CH:17][CH:18]=1)=[O:7]', 'productList': {'product': [{'@role': 'product', 'molecule': {'@id': 'm0', 'name': {'@dictRef': 'nameDict:unknown', '#text': '3-bromo-4-formamido-N-(4-methoxyphenyl)benzamide'}}, 'amount': {'@dl:propertyType': 'MASS', '@dl:normalizedValue': '0.27', '#text': '0.27 g'}, 'identifier': [{'@dictRef': 'cml:smiles', '@value': 'BrC=1C=C(C(=O)NC2=CC=C(C=C2)OC)C=CC1NC=O'}, {'@dictRef': 'cml:inchi', '@value': 'InChI=1S/C15H13BrN2O3/c1-21-12-5-3-11(4-6-12)18-15(20)10-2-7-14(17-9-19)13(16)8-10/h2-9H,1H3,(H,17,19)(H,18,20)'}], 'dl:entityType': 'exact'}, {'@role': 'product', 'molecule': {'@id': 'm1', 'name': {'@dictRef': 'nameDict:unknown', '#text': 'precipitate'}}, 'amount': {'@dl:propertyType': 'PERCENTYIELD', '@dl:normalizedValue': '15', '#text': '15% yield'}, 'dl:entityType': 'exact'}]}, 'reactantList': {'reactant': [{'@role': 'reactant', '@count': '1', 'molecule': {'@id': 'm2', 'name': {'@dictRef': 'nameDict:unknown', '#text': '3-Bromo-4-formamidobenzoic acid'}}, 'identifier': [{'@dictRef': 'cml:smiles', '@value': 'BrC=1C=C(C(=O)O)C=CC1NC=O'}, {'@dictRef': 'cml:inchi', '@value': 'InChI=1S/C8H6BrNO3/c9-6-3-5(8(12)13)1-2-7(6)10-4-11/h1-4H,(H,10,11)(H,12,13)'}], 'dl:entityType': 'exact'}, {'@role': 'reactant', '@count': '1', 'molecule': {'@id': 'm3', 'name': {'@dictRef': 'nameDict:unknown', '#text': 'p-anisidine'}}, 'identifier': [{'@dictRef': 'cml:smiles', '@value': 'COC1=CC=C(C=C1)N'}, {'@dictRef': 'cml:inchi', '@value': 'InChI=1S/C7H9NO/c1-9-7-4-2-6(8)3-5-7/h2-5H,8H2,1H3'}], 'dl:entityType': 'exact'}]}, 'spectatorList': None, 'dl:reactionActionList': {'dl:reactionAction': {'@action': 'Yield', 'dl:phraseText': '5.0 mmol scale (exothermic) yielded 0.27 g of 3-bromo-4-formamido-N-(4-methoxyphenyl)benzamide from precipitate (15% yield)', 'dl:chemical': [{'@ref': 'm0'}, {'@ref': 'm1'}]}}}: string indices must be integers\n",
      "Error with {'dl:source': {'dl:documentId': 'US20160185690A1', 'dl:paragraphNum': '0092', 'dl:paragraphText': 'The reaction was carried out in the same manner as in Example 1 except that 7.88 g of a mixture of 2-methylene-4-chlorobutyl acetate and 2-methylene-4-bromobutyl acetate (chloride of 34.1% GC, bromide of 61.9% GC) was used in place of 2-bromomethyl-4-chloro-1-butene to produce 8.95 g of a mixture of 7-methyl-3-methylene-7-octenyl chloride and 7-methyl-3-methylene-7-octenyl bromide (chloride of 28.6% GC, bromide of 51.4% GC, yield 95%). The product was a mixture of the product in Example 1 and the product in Example 3.'}, 'dl:reactionSmiles': 'C(O[CH2:5][C:6](=[CH2:10])[CH2:7][CH2:8]Cl)(=O)C.C(O[CH2:15][C:16](=[CH2:20])[CH2:17][CH2:18][Br:19])(=O)C.CC(=C)CCCC(=C)CCCl>>[CH3:5][C:6](=[CH2:10])[CH2:7][CH2:8][CH2:20][C:16](=[CH2:15])[CH2:17][CH2:18][Br:19]', 'productList': {'product': [{'@role': 'product', 'molecule': {'@id': 'm0', 'name': {'@dictRef': 'nameDict:unknown', '#text': 'mixture'}}, 'amount': {'@dl:propertyType': 'MASS', '@dl:normalizedValue': '8.95', '#text': '8.95 g'}, 'dl:entityType': 'exact'}, {'@role': 'product', 'molecule': {'@id': 'm1', 'name': {'@dictRef': 'nameDict:unknown', '#text': '7-methyl-3-methylene-7-octenyl bromide'}}, 'amount': {'@dl:propertyType': 'PERCENTYIELD', '@dl:normalizedValue': '95', '#text': 'yield 95%'}, 'identifier': [{'@dictRef': 'cml:smiles', '@value': 'CC(CCCC(CCBr)=C)=C'}, {'@dictRef': 'cml:inchi', '@value': 'InChI=1S/C10H17Br/c1-9(2)5-4-6-10(3)7-8-11/h1,3-8H2,2H3'}], 'dl:entityType': 'exact'}]}, 'reactantList': {'reactant': [{'@role': 'reactant', 'molecule': {'@id': 'm2', 'name': {'@dictRef': 'nameDict:unknown', '#text': 'mixture'}}, 'amount': {'@dl:propertyType': 'MASS', '@dl:normalizedValue': '7.88', '#text': '7.88 g'}, 'dl:entityType': 'exact'}, {'@role': 'reactant', '@count': '1', 'molecule': {'@id': 'm3', 'name': {'@dictRef': 'nameDict:unknown', '#text': '2-methylene-4-chlorobutyl acetate'}}, 'identifier': [{'@dictRef': 'cml:smiles', '@value': 'C(C)(=O)OCC(CCCl)=C'}, {'@dictRef': 'cml:inchi', '@value': 'InChI=1S/C7H11ClO2/c1-6(3-4-8)5-10-7(2)9/h1,3-5H2,2H3'}], 'dl:entityType': 'exact'}, {'@role': 'reactant', '@count': '1', 'molecule': {'@id': 'm4', 'name': {'@dictRef': 'nameDict:unknown', '#text': '2-methylene-4-bromobutyl acetate'}}, 'identifier': [{'@dictRef': 'cml:smiles', '@value': 'C(C)(=O)OCC(CCBr)=C'}, {'@dictRef': 'cml:inchi', '@value': 'InChI=1S/C7H11BrO2/c1-6(3-4-8)5-10-7(2)9/h1,3-5H2,2H3'}], 'dl:entityType': 'exact'}, {'@role': 'reactant', 'molecule': {'@id': 'm5', 'name': {'@dictRef': 'nameDict:unknown', '#text': '7-methyl-3-methylene-7-octenyl chloride'}}, 'identifier': [{'@dictRef': 'cml:smiles', '@value': 'CC(CCCC(CCCl)=C)=C'}, {'@dictRef': 'cml:inchi', '@value': 'InChI=1S/C10H17Cl/c1-9(2)5-4-6-10(3)7-8-11/h1,3-8H2,2H3'}], 'dl:entityType': 'exact'}]}, 'spectatorList': None, 'dl:reactionActionList': {'dl:reactionAction': {'@action': 'Yield', 'dl:phraseText': 'to produce 8.95 g of a mixture of 7-methyl-3-methylene-7-octenyl chloride and 7-methyl-3-methylene-7-octenyl bromide (chloride of 28.6% GC, bromide of 51.4% GC, yield 95%)', 'dl:chemical': [{'@ref': 'm0'}, {'@ref': 'm5'}, {'@ref': 'm1'}]}}}: string indices must be integers\n",
      "Error with {'dl:source': {'dl:documentId': 'US20160185690A1', 'dl:paragraphNum': '0092', 'dl:paragraphText': 'The reaction was carried out in the same manner as in Example 1 except that 7.88 g of a mixture of 2-methylene-4-chlorobutyl acetate and 2-methylene-4-bromobutyl acetate (chloride of 34.1% GC, bromide of 61.9% GC) was used in place of 2-bromomethyl-4-chloro-1-butene to produce 8.95 g of a mixture of 7-methyl-3-methylene-7-octenyl chloride and 7-methyl-3-methylene-7-octenyl bromide (chloride of 28.6% GC, bromide of 51.4% GC, yield 95%). The product was a mixture of the product in Example 1 and the product in Example 3.'}, 'dl:reactionSmiles': 'C(O[CH2:5][C:6](=[CH2:10])[CH2:7][CH2:8]Cl)(=O)C.C(O[CH2:15][C:16](=[CH2:20])[CH2:17][CH2:18][Br:19])(=O)C.CC(=C)CCCC(=C)CCCl>>[CH3:5][C:6](=[CH2:10])[CH2:7][CH2:8][CH2:20][C:16](=[CH2:15])[CH2:17][CH2:18][Br:19]', 'productList': {'product': [{'@role': 'product', 'molecule': {'@id': 'm0', 'name': {'@dictRef': 'nameDict:unknown', '#text': 'mixture'}}, 'amount': {'@dl:propertyType': 'MASS', '@dl:normalizedValue': '8.95', '#text': '8.95 g'}, 'dl:entityType': 'exact'}, {'@role': 'product', 'molecule': {'@id': 'm1', 'name': {'@dictRef': 'nameDict:unknown', '#text': '7-methyl-3-methylene-7-octenyl bromide'}}, 'amount': {'@dl:propertyType': 'PERCENTYIELD', '@dl:normalizedValue': '95', '#text': 'yield 95%'}, 'identifier': [{'@dictRef': 'cml:smiles', '@value': 'CC(CCCC(CCBr)=C)=C'}, {'@dictRef': 'cml:inchi', '@value': 'InChI=1S/C10H17Br/c1-9(2)5-4-6-10(3)7-8-11/h1,3-8H2,2H3'}], 'dl:entityType': 'exact'}]}, 'reactantList': {'reactant': [{'@role': 'reactant', 'molecule': {'@id': 'm2', 'name': {'@dictRef': 'nameDict:unknown', '#text': 'mixture'}}, 'amount': {'@dl:propertyType': 'MASS', '@dl:normalizedValue': '7.88', '#text': '7.88 g'}, 'dl:entityType': 'exact'}, {'@role': 'reactant', '@count': '1', 'molecule': {'@id': 'm3', 'name': {'@dictRef': 'nameDict:unknown', '#text': '2-methylene-4-chlorobutyl acetate'}}, 'identifier': [{'@dictRef': 'cml:smiles', '@value': 'C(C)(=O)OCC(CCCl)=C'}, {'@dictRef': 'cml:inchi', '@value': 'InChI=1S/C7H11ClO2/c1-6(3-4-8)5-10-7(2)9/h1,3-5H2,2H3'}], 'dl:entityType': 'exact'}, {'@role': 'reactant', '@count': '1', 'molecule': {'@id': 'm4', 'name': {'@dictRef': 'nameDict:unknown', '#text': '2-methylene-4-bromobutyl acetate'}}, 'identifier': [{'@dictRef': 'cml:smiles', '@value': 'C(C)(=O)OCC(CCBr)=C'}, {'@dictRef': 'cml:inchi', '@value': 'InChI=1S/C7H11BrO2/c1-6(3-4-8)5-10-7(2)9/h1,3-5H2,2H3'}], 'dl:entityType': 'exact'}, {'@role': 'reactant', 'molecule': {'@id': 'm5', 'name': {'@dictRef': 'nameDict:unknown', '#text': '7-methyl-3-methylene-7-octenyl chloride'}}, 'identifier': [{'@dictRef': 'cml:smiles', '@value': 'CC(CCCC(CCCl)=C)=C'}, {'@dictRef': 'cml:inchi', '@value': 'InChI=1S/C10H17Cl/c1-9(2)5-4-6-10(3)7-8-11/h1,3-8H2,2H3'}], 'dl:entityType': 'exact'}]}, 'spectatorList': None, 'dl:reactionActionList': {'dl:reactionAction': {'@action': 'Yield', 'dl:phraseText': 'to produce 8.95 g of a mixture of 7-methyl-3-methylene-7-octenyl chloride and 7-methyl-3-methylene-7-octenyl bromide (chloride of 28.6% GC, bromide of 51.4% GC, yield 95%)', 'dl:chemical': [{'@ref': 'm0'}, {'@ref': 'm5'}, {'@ref': 'm1'}]}}}: string indices must be integers\n",
      "Error with {'dl:source': {'dl:documentId': 'US20160185690A1', 'dl:paragraphNum': '0092', 'dl:paragraphText': 'The reaction was carried out in the same manner as in Example 1 except that 7.88 g of a mixture of 2-methylene-4-chlorobutyl acetate and 2-methylene-4-bromobutyl acetate (chloride of 34.1% GC, bromide of 61.9% GC) was used in place of 2-bromomethyl-4-chloro-1-butene to produce 8.95 g of a mixture of 7-methyl-3-methylene-7-octenyl chloride and 7-methyl-3-methylene-7-octenyl bromide (chloride of 28.6% GC, bromide of 51.4% GC, yield 95%). The product was a mixture of the product in Example 1 and the product in Example 3.'}, 'dl:reactionSmiles': 'C(O[CH2:5][C:6](=[CH2:10])[CH2:7][CH2:8]Cl)(=O)C.C(O[CH2:15][C:16](=[CH2:20])[CH2:17][CH2:18][Br:19])(=O)C.CC(=C)CCCC(=C)CCCl>>[CH3:5][C:6](=[CH2:10])[CH2:7][CH2:8][CH2:20][C:16](=[CH2:15])[CH2:17][CH2:18][Br:19]', 'productList': {'product': [{'@role': 'product', 'molecule': {'@id': 'm0', 'name': {'@dictRef': 'nameDict:unknown', '#text': 'mixture'}}, 'amount': {'@dl:propertyType': 'MASS', '@dl:normalizedValue': '8.95', '#text': '8.95 g'}, 'dl:entityType': 'exact'}, {'@role': 'product', 'molecule': {'@id': 'm1', 'name': {'@dictRef': 'nameDict:unknown', '#text': '7-methyl-3-methylene-7-octenyl bromide'}}, 'amount': {'@dl:propertyType': 'PERCENTYIELD', '@dl:normalizedValue': '95', '#text': 'yield 95%'}, 'identifier': [{'@dictRef': 'cml:smiles', '@value': 'CC(CCCC(CCBr)=C)=C'}, {'@dictRef': 'cml:inchi', '@value': 'InChI=1S/C10H17Br/c1-9(2)5-4-6-10(3)7-8-11/h1,3-8H2,2H3'}], 'dl:entityType': 'exact'}]}, 'reactantList': {'reactant': [{'@role': 'reactant', 'molecule': {'@id': 'm2', 'name': {'@dictRef': 'nameDict:unknown', '#text': 'mixture'}}, 'amount': {'@dl:propertyType': 'MASS', '@dl:normalizedValue': '7.88', '#text': '7.88 g'}, 'dl:entityType': 'exact'}, {'@role': 'reactant', '@count': '1', 'molecule': {'@id': 'm3', 'name': {'@dictRef': 'nameDict:unknown', '#text': '2-methylene-4-chlorobutyl acetate'}}, 'identifier': [{'@dictRef': 'cml:smiles', '@value': 'C(C)(=O)OCC(CCCl)=C'}, {'@dictRef': 'cml:inchi', '@value': 'InChI=1S/C7H11ClO2/c1-6(3-4-8)5-10-7(2)9/h1,3-5H2,2H3'}], 'dl:entityType': 'exact'}, {'@role': 'reactant', '@count': '1', 'molecule': {'@id': 'm4', 'name': {'@dictRef': 'nameDict:unknown', '#text': '2-methylene-4-bromobutyl acetate'}}, 'identifier': [{'@dictRef': 'cml:smiles', '@value': 'C(C)(=O)OCC(CCBr)=C'}, {'@dictRef': 'cml:inchi', '@value': 'InChI=1S/C7H11BrO2/c1-6(3-4-8)5-10-7(2)9/h1,3-5H2,2H3'}], 'dl:entityType': 'exact'}, {'@role': 'reactant', 'molecule': {'@id': 'm5', 'name': {'@dictRef': 'nameDict:unknown', '#text': '7-methyl-3-methylene-7-octenyl chloride'}}, 'identifier': [{'@dictRef': 'cml:smiles', '@value': 'CC(CCCC(CCCl)=C)=C'}, {'@dictRef': 'cml:inchi', '@value': 'InChI=1S/C10H17Cl/c1-9(2)5-4-6-10(3)7-8-11/h1,3-8H2,2H3'}], 'dl:entityType': 'exact'}]}, 'spectatorList': None, 'dl:reactionActionList': {'dl:reactionAction': {'@action': 'Yield', 'dl:phraseText': 'to produce 8.95 g of a mixture of 7-methyl-3-methylene-7-octenyl chloride and 7-methyl-3-methylene-7-octenyl bromide (chloride of 28.6% GC, bromide of 51.4% GC, yield 95%)', 'dl:chemical': [{'@ref': 'm0'}, {'@ref': 'm5'}, {'@ref': 'm1'}]}}}: string indices must be integers\n",
      "Error with {'dl:source': {'dl:documentId': 'US20160185690A1', 'dl:paragraphNum': '0092', 'dl:paragraphText': 'The reaction was carried out in the same manner as in Example 1 except that 7.88 g of a mixture of 2-methylene-4-chlorobutyl acetate and 2-methylene-4-bromobutyl acetate (chloride of 34.1% GC, bromide of 61.9% GC) was used in place of 2-bromomethyl-4-chloro-1-butene to produce 8.95 g of a mixture of 7-methyl-3-methylene-7-octenyl chloride and 7-methyl-3-methylene-7-octenyl bromide (chloride of 28.6% GC, bromide of 51.4% GC, yield 95%). The product was a mixture of the product in Example 1 and the product in Example 3.'}, 'dl:reactionSmiles': 'C(O[CH2:5][C:6](=[CH2:10])[CH2:7][CH2:8]Cl)(=O)C.C(O[CH2:15][C:16](=[CH2:20])[CH2:17][CH2:18][Br:19])(=O)C.CC(=C)CCCC(=C)CCCl>>[CH3:5][C:6](=[CH2:10])[CH2:7][CH2:8][CH2:20][C:16](=[CH2:15])[CH2:17][CH2:18][Br:19]', 'productList': {'product': [{'@role': 'product', 'molecule': {'@id': 'm0', 'name': {'@dictRef': 'nameDict:unknown', '#text': 'mixture'}}, 'amount': {'@dl:propertyType': 'MASS', '@dl:normalizedValue': '8.95', '#text': '8.95 g'}, 'dl:entityType': 'exact'}, {'@role': 'product', 'molecule': {'@id': 'm1', 'name': {'@dictRef': 'nameDict:unknown', '#text': '7-methyl-3-methylene-7-octenyl bromide'}}, 'amount': {'@dl:propertyType': 'PERCENTYIELD', '@dl:normalizedValue': '95', '#text': 'yield 95%'}, 'identifier': [{'@dictRef': 'cml:smiles', '@value': 'CC(CCCC(CCBr)=C)=C'}, {'@dictRef': 'cml:inchi', '@value': 'InChI=1S/C10H17Br/c1-9(2)5-4-6-10(3)7-8-11/h1,3-8H2,2H3'}], 'dl:entityType': 'exact'}]}, 'reactantList': {'reactant': [{'@role': 'reactant', 'molecule': {'@id': 'm2', 'name': {'@dictRef': 'nameDict:unknown', '#text': 'mixture'}}, 'amount': {'@dl:propertyType': 'MASS', '@dl:normalizedValue': '7.88', '#text': '7.88 g'}, 'dl:entityType': 'exact'}, {'@role': 'reactant', '@count': '1', 'molecule': {'@id': 'm3', 'name': {'@dictRef': 'nameDict:unknown', '#text': '2-methylene-4-chlorobutyl acetate'}}, 'identifier': [{'@dictRef': 'cml:smiles', '@value': 'C(C)(=O)OCC(CCCl)=C'}, {'@dictRef': 'cml:inchi', '@value': 'InChI=1S/C7H11ClO2/c1-6(3-4-8)5-10-7(2)9/h1,3-5H2,2H3'}], 'dl:entityType': 'exact'}, {'@role': 'reactant', '@count': '1', 'molecule': {'@id': 'm4', 'name': {'@dictRef': 'nameDict:unknown', '#text': '2-methylene-4-bromobutyl acetate'}}, 'identifier': [{'@dictRef': 'cml:smiles', '@value': 'C(C)(=O)OCC(CCBr)=C'}, {'@dictRef': 'cml:inchi', '@value': 'InChI=1S/C7H11BrO2/c1-6(3-4-8)5-10-7(2)9/h1,3-5H2,2H3'}], 'dl:entityType': 'exact'}, {'@role': 'reactant', 'molecule': {'@id': 'm5', 'name': {'@dictRef': 'nameDict:unknown', '#text': '7-methyl-3-methylene-7-octenyl chloride'}}, 'identifier': [{'@dictRef': 'cml:smiles', '@value': 'CC(CCCC(CCCl)=C)=C'}, {'@dictRef': 'cml:inchi', '@value': 'InChI=1S/C10H17Cl/c1-9(2)5-4-6-10(3)7-8-11/h1,3-8H2,2H3'}], 'dl:entityType': 'exact'}]}, 'spectatorList': None, 'dl:reactionActionList': {'dl:reactionAction': {'@action': 'Yield', 'dl:phraseText': 'to produce 8.95 g of a mixture of 7-methyl-3-methylene-7-octenyl chloride and 7-methyl-3-methylene-7-octenyl bromide (chloride of 28.6% GC, bromide of 51.4% GC, yield 95%)', 'dl:chemical': [{'@ref': 'm0'}, {'@ref': 'm5'}, {'@ref': 'm1'}]}}}: string indices must be integers\n",
      "Error with {'dl:source': {'dl:documentId': 'US20160185690A1', 'dl:paragraphNum': '0092', 'dl:paragraphText': 'The reaction was carried out in the same manner as in Example 1 except that 7.88 g of a mixture of 2-methylene-4-chlorobutyl acetate and 2-methylene-4-bromobutyl acetate (chloride of 34.1% GC, bromide of 61.9% GC) was used in place of 2-bromomethyl-4-chloro-1-butene to produce 8.95 g of a mixture of 7-methyl-3-methylene-7-octenyl chloride and 7-methyl-3-methylene-7-octenyl bromide (chloride of 28.6% GC, bromide of 51.4% GC, yield 95%). The product was a mixture of the product in Example 1 and the product in Example 3.'}, 'dl:reactionSmiles': 'C(O[CH2:5][C:6](=[CH2:10])[CH2:7][CH2:8]Cl)(=O)C.C(O[CH2:15][C:16](=[CH2:20])[CH2:17][CH2:18][Br:19])(=O)C.CC(=C)CCCC(=C)CCCl>>[CH3:5][C:6](=[CH2:10])[CH2:7][CH2:8][CH2:20][C:16](=[CH2:15])[CH2:17][CH2:18][Br:19]', 'productList': {'product': [{'@role': 'product', 'molecule': {'@id': 'm0', 'name': {'@dictRef': 'nameDict:unknown', '#text': 'mixture'}}, 'amount': {'@dl:propertyType': 'MASS', '@dl:normalizedValue': '8.95', '#text': '8.95 g'}, 'dl:entityType': 'exact'}, {'@role': 'product', 'molecule': {'@id': 'm1', 'name': {'@dictRef': 'nameDict:unknown', '#text': '7-methyl-3-methylene-7-octenyl bromide'}}, 'amount': {'@dl:propertyType': 'PERCENTYIELD', '@dl:normalizedValue': '95', '#text': 'yield 95%'}, 'identifier': [{'@dictRef': 'cml:smiles', '@value': 'CC(CCCC(CCBr)=C)=C'}, {'@dictRef': 'cml:inchi', '@value': 'InChI=1S/C10H17Br/c1-9(2)5-4-6-10(3)7-8-11/h1,3-8H2,2H3'}], 'dl:entityType': 'exact'}]}, 'reactantList': {'reactant': [{'@role': 'reactant', 'molecule': {'@id': 'm2', 'name': {'@dictRef': 'nameDict:unknown', '#text': 'mixture'}}, 'amount': {'@dl:propertyType': 'MASS', '@dl:normalizedValue': '7.88', '#text': '7.88 g'}, 'dl:entityType': 'exact'}, {'@role': 'reactant', '@count': '1', 'molecule': {'@id': 'm3', 'name': {'@dictRef': 'nameDict:unknown', '#text': '2-methylene-4-chlorobutyl acetate'}}, 'identifier': [{'@dictRef': 'cml:smiles', '@value': 'C(C)(=O)OCC(CCCl)=C'}, {'@dictRef': 'cml:inchi', '@value': 'InChI=1S/C7H11ClO2/c1-6(3-4-8)5-10-7(2)9/h1,3-5H2,2H3'}], 'dl:entityType': 'exact'}, {'@role': 'reactant', '@count': '1', 'molecule': {'@id': 'm4', 'name': {'@dictRef': 'nameDict:unknown', '#text': '2-methylene-4-bromobutyl acetate'}}, 'identifier': [{'@dictRef': 'cml:smiles', '@value': 'C(C)(=O)OCC(CCBr)=C'}, {'@dictRef': 'cml:inchi', '@value': 'InChI=1S/C7H11BrO2/c1-6(3-4-8)5-10-7(2)9/h1,3-5H2,2H3'}], 'dl:entityType': 'exact'}, {'@role': 'reactant', 'molecule': {'@id': 'm5', 'name': {'@dictRef': 'nameDict:unknown', '#text': '7-methyl-3-methylene-7-octenyl chloride'}}, 'identifier': [{'@dictRef': 'cml:smiles', '@value': 'CC(CCCC(CCCl)=C)=C'}, {'@dictRef': 'cml:inchi', '@value': 'InChI=1S/C10H17Cl/c1-9(2)5-4-6-10(3)7-8-11/h1,3-8H2,2H3'}], 'dl:entityType': 'exact'}]}, 'spectatorList': None, 'dl:reactionActionList': {'dl:reactionAction': {'@action': 'Yield', 'dl:phraseText': 'to produce 8.95 g of a mixture of 7-methyl-3-methylene-7-octenyl chloride and 7-methyl-3-methylene-7-octenyl bromide (chloride of 28.6% GC, bromide of 51.4% GC, yield 95%)', 'dl:chemical': [{'@ref': 'm0'}, {'@ref': 'm5'}, {'@ref': 'm1'}]}}}: string indices must be integers\n",
      "Error with {'dl:source': {'dl:documentId': 'US20160185690A1', 'dl:paragraphNum': '0092', 'dl:paragraphText': 'The reaction was carried out in the same manner as in Example 1 except that 7.88 g of a mixture of 2-methylene-4-chlorobutyl acetate and 2-methylene-4-bromobutyl acetate (chloride of 34.1% GC, bromide of 61.9% GC) was used in place of 2-bromomethyl-4-chloro-1-butene to produce 8.95 g of a mixture of 7-methyl-3-methylene-7-octenyl chloride and 7-methyl-3-methylene-7-octenyl bromide (chloride of 28.6% GC, bromide of 51.4% GC, yield 95%). The product was a mixture of the product in Example 1 and the product in Example 3.'}, 'dl:reactionSmiles': 'C(O[CH2:5][C:6](=[CH2:10])[CH2:7][CH2:8]Cl)(=O)C.C(O[CH2:15][C:16](=[CH2:20])[CH2:17][CH2:18][Br:19])(=O)C.CC(=C)CCCC(=C)CCCl>>[CH3:5][C:6](=[CH2:10])[CH2:7][CH2:8][CH2:20][C:16](=[CH2:15])[CH2:17][CH2:18][Br:19]', 'productList': {'product': [{'@role': 'product', 'molecule': {'@id': 'm0', 'name': {'@dictRef': 'nameDict:unknown', '#text': 'mixture'}}, 'amount': {'@dl:propertyType': 'MASS', '@dl:normalizedValue': '8.95', '#text': '8.95 g'}, 'dl:entityType': 'exact'}, {'@role': 'product', 'molecule': {'@id': 'm1', 'name': {'@dictRef': 'nameDict:unknown', '#text': '7-methyl-3-methylene-7-octenyl bromide'}}, 'amount': {'@dl:propertyType': 'PERCENTYIELD', '@dl:normalizedValue': '95', '#text': 'yield 95%'}, 'identifier': [{'@dictRef': 'cml:smiles', '@value': 'CC(CCCC(CCBr)=C)=C'}, {'@dictRef': 'cml:inchi', '@value': 'InChI=1S/C10H17Br/c1-9(2)5-4-6-10(3)7-8-11/h1,3-8H2,2H3'}], 'dl:entityType': 'exact'}]}, 'reactantList': {'reactant': [{'@role': 'reactant', 'molecule': {'@id': 'm2', 'name': {'@dictRef': 'nameDict:unknown', '#text': 'mixture'}}, 'amount': {'@dl:propertyType': 'MASS', '@dl:normalizedValue': '7.88', '#text': '7.88 g'}, 'dl:entityType': 'exact'}, {'@role': 'reactant', '@count': '1', 'molecule': {'@id': 'm3', 'name': {'@dictRef': 'nameDict:unknown', '#text': '2-methylene-4-chlorobutyl acetate'}}, 'identifier': [{'@dictRef': 'cml:smiles', '@value': 'C(C)(=O)OCC(CCCl)=C'}, {'@dictRef': 'cml:inchi', '@value': 'InChI=1S/C7H11ClO2/c1-6(3-4-8)5-10-7(2)9/h1,3-5H2,2H3'}], 'dl:entityType': 'exact'}, {'@role': 'reactant', '@count': '1', 'molecule': {'@id': 'm4', 'name': {'@dictRef': 'nameDict:unknown', '#text': '2-methylene-4-bromobutyl acetate'}}, 'identifier': [{'@dictRef': 'cml:smiles', '@value': 'C(C)(=O)OCC(CCBr)=C'}, {'@dictRef': 'cml:inchi', '@value': 'InChI=1S/C7H11BrO2/c1-6(3-4-8)5-10-7(2)9/h1,3-5H2,2H3'}], 'dl:entityType': 'exact'}, {'@role': 'reactant', 'molecule': {'@id': 'm5', 'name': {'@dictRef': 'nameDict:unknown', '#text': '7-methyl-3-methylene-7-octenyl chloride'}}, 'identifier': [{'@dictRef': 'cml:smiles', '@value': 'CC(CCCC(CCCl)=C)=C'}, {'@dictRef': 'cml:inchi', '@value': 'InChI=1S/C10H17Cl/c1-9(2)5-4-6-10(3)7-8-11/h1,3-8H2,2H3'}], 'dl:entityType': 'exact'}]}, 'spectatorList': None, 'dl:reactionActionList': {'dl:reactionAction': {'@action': 'Yield', 'dl:phraseText': 'to produce 8.95 g of a mixture of 7-methyl-3-methylene-7-octenyl chloride and 7-methyl-3-methylene-7-octenyl bromide (chloride of 28.6% GC, bromide of 51.4% GC, yield 95%)', 'dl:chemical': [{'@ref': 'm0'}, {'@ref': 'm5'}, {'@ref': 'm1'}]}}}: string indices must be integers\n",
      "Error with {'dl:source': {'dl:documentId': 'US20050101595A1', 'dl:headingText': '(4-Amino-2-{1-[2-(bis-cyclopropylmethyl-amino)-ethanesulfonyl]-piperidin-4-ylamino}-thiazol-5-yl)-(2,6-difluoro-phenyl)-methanone', 'dl:paragraphNum': '0978', 'dl:paragraphText': 'The title compound was prepared in a manner analogous to Example K25. [4-Amino-2-(1-ethenesulfonyl-piperidin-4-ylamino)-thiazol-5-yl]-(2,6-difluoro-phenyl)-methanone (Example F55; 250 mg, 0.74 mmol) and bis-cyclopropylmethylamine (278 mg, 2.22 mmol, see A. Donetti, et al; J. Org. Chem., Vol. 37, pp 3352-3353 (1972)) gave 235 mg of white powder in 57% yield.'}, 'dl:reactionSmiles': '[NH2:1][C:2]1[N:3]=[C:4]([NH:17][CH:18]2[CH2:23][CH2:22][N:21]([S:24]([CH:27]=[CH2:28])(=[O:26])=[O:25])[CH2:20][CH2:19]2)[S:5][C:6]=1[C:7]([C:9]1[C:14]([F:15])=[CH:13][CH:12]=[CH:11][C:10]=1[F:16])=[O:8].[CH:29]1([CH2:32][NH:33][CH2:34][CH:35]2[CH2:37][CH2:36]2)[CH2:31][CH2:30]1>>[NH2:1][C:2]1[N:3]=[C:4]([NH:17][CH:18]2[CH2:19][CH2:20][N:21]([S:24]([CH2:27][CH2:28][N:33]([CH2:34][CH:35]3[CH2:37][CH2:36]3)[CH2:32][CH:29]3[CH2:31][CH2:30]3)(=[O:25])=[O:26])[CH2:22][CH2:23]2)[S:5][C:6]=1[C:7]([C:9]1[C:14]([F:15])=[CH:13][CH:12]=[CH:11][C:10]=1[F:16])=[O:8]', 'productList': {'product': [{'@role': 'product', 'molecule': {'@id': 'm0', 'name': {'@dictRef': 'nameDict:unknown', '#text': 'title compound'}, 'dl:nameResolved': '(4-Amino-2-{1-[2-(bis-cyclopropylmethyl-amino)-ethanesulfonyl]-piperidin-4-ylamino}-thiazol-5-yl)-(2,6-difluoro-phenyl)-methanone'}, 'amount': {'@dl:propertyType': 'PERCENTYIELD', '@dl:normalizedValue': '57', '#text': '57% yield'}, 'identifier': [{'@dictRef': 'cml:smiles', '@value': 'NC=1N=C(SC1C(=O)C1=C(C=CC=C1F)F)NC1CCN(CC1)S(=O)(=O)CCN(CC1CC1)CC1CC1'}, {'@dictRef': 'cml:inchi', '@value': 'InChI=1S/C25H33F2N5O3S2/c26-19-2-1-3-20(27)21(19)22(33)23-24(28)30-25(36-23)29-18-8-10-32(11-9-18)37(34,35)13-12-31(14-16-4-5-16)15-17-6-7-17/h1-3,16-18H,4-15,28H2,(H,29,30)'}], 'dl:entityType': 'definiteReference'}, {'@role': 'product', 'molecule': {'@id': 'm1', 'name': {'@dictRef': 'nameDict:unknown', '#text': 'white powder'}}, 'amount': {'@dl:propertyType': 'MASS', '@dl:normalizedValue': '0.235', '#text': '235 mg'}, 'dl:entityType': 'exact', 'dl:appearance': 'white', 'dl:state': 'powder'}]}, 'reactantList': {'reactant': [{'@role': 'reactant', '@count': '1', 'molecule': {'@id': 'm2', 'name': {'@dictRef': 'nameDict:unknown', '#text': '[4-Amino-2-(1-ethenesulfonyl-piperidin-4-ylamino)-thiazol-5-yl]-(2,6-difluoro-phenyl)-methanone'}}, 'amount': [{'@dl:propertyType': 'AMOUNT', '@dl:normalizedValue': '0.00074', '#text': '0.74 mmol'}, {'@dl:propertyType': 'MASS', '@dl:normalizedValue': '0.250', '#text': '250 mg'}], 'identifier': [{'@dictRef': 'cml:smiles', '@value': 'NC=1N=C(SC1C(=O)C1=C(C=CC=C1F)F)NC1CCN(CC1)S(=O)(=O)C=C'}, {'@dictRef': 'cml:inchi', '@value': 'InChI=1S/C17H18F2N4O3S2/c1-2-28(25,26)23-8-6-10(7-9-23)21-17-22-16(20)15(27-17)14(24)13-11(18)4-3-5-12(13)19/h2-5,10H,1,6-9,20H2,(H,21,22)'}], 'dl:entityType': 'definiteReference'}, {'@role': 'reactant', '@count': '1', 'molecule': {'@id': 'm3', 'name': {'@dictRef': 'nameDict:unknown', '#text': 'bis-cyclopropylmethylamine'}}, 'identifier': [{'@dictRef': 'cml:smiles', '@value': 'C1(CC1)CNCC1CC1'}, {'@dictRef': 'cml:inchi', '@value': 'InChI=1S/C8H15N/c1-2-7(1)5-9-6-8-3-4-8/h7-9H,1-6H2'}], 'dl:entityType': 'exact'}]}, 'spectatorList': None, 'dl:reactionActionList': {'dl:reactionAction': {'@action': 'Yield', 'dl:phraseText': ', Vol. 37, pp 3352-3353 (1972)) gave 235 mg of white powder in 57% yield', 'dl:chemical': {'@ref': 'm1'}}}}: string indices must be integers\n",
      "Error with {'dl:source': {'dl:documentId': 'US20040048909A1', 'dl:paragraphNum': '0176', 'dl:paragraphText': 'Using 2,4,6-trifluorobenzoic acid (0.27 g), diphenylphosphoryl azide (0.44 g), triethylamine (0.17 g) and N-[[2′-[(t-butylamino)sulfonyl]-1,1′-biphenyl-4-yl]methyl]-N-heptylamine (0.43 g), N′-[[2′-[(t-butylamino)sulfonyl]-1,1′-biphenyl-4-yl]methyl]-N′-heptyl-N-(2,4,6-trifluorophenyl)urea was afforded as colorless crystals (0.49 g) by a similar procedure as in Example 4. Yield: 81%.'}, 'dl:reactionSmiles': '[F:1][C:2]1[CH:10]=[C:9]([F:11])[CH:8]=[C:7]([F:12])[C:3]=1C(O)=O.C1(P(N=[N+]=[N-])(C2C=CC=CC=2)=[O:20])C=CC=CC=1.[C:30]([NH:34][S:35]([C:38]1[CH:43]=[CH:42][CH:41]=[CH:40][C:39]=1[C:44]1[CH:49]=[CH:48][C:47]([CH2:50][NH:51][CH2:52][CH2:53][CH2:54][CH2:55][CH2:56][CH2:57][CH3:58])=[CH:46][CH:45]=1)(=[O:37])=[O:36])([CH3:33])([CH3:32])[CH3:31].C([N:61]([CH2:64]C)CC)C>>[C:30]([NH:34][S:35]([C:38]1[CH:43]=[CH:42][CH:41]=[CH:40][C:39]=1[C:44]1[CH:49]=[CH:48][C:47]([CH2:50][N:51]([CH2:52][CH2:53][CH2:54][CH2:55][CH2:56][CH2:57][CH3:58])[C:64](=[O:20])[NH:61][C:3]2[C:7]([F:12])=[CH:8][C:9]([F:11])=[CH:10][C:2]=2[F:1])=[CH:46][CH:45]=1)(=[O:37])=[O:36])([CH3:33])([CH3:32])[CH3:31]', 'productList': {'product': [{'@role': 'product', 'molecule': {'@id': 'm0', 'name': {'@dictRef': 'nameDict:unknown', '#text': 'N′-[[2′-[(t-butylamino)sulfonyl]-1,1′-biphenyl-4-yl]methyl]-N′-heptyl-N-(2,4,6-trifluorophenyl)urea'}}, 'amount': {'@dl:propertyType': 'PERCENTYIELD', '@dl:normalizedValue': '81', '#text': 'Yield: 81%'}, 'identifier': [{'@dictRef': 'cml:smiles', '@value': 'C(C)(C)(C)NS(=O)(=O)C1=C(C=CC=C1)C1=CC=C(C=C1)CN(C(NC1=C(C=C(C=C1F)F)F)=O)CCCCCCC'}, {'@dictRef': 'cml:inchi', '@value': 'InChI=1S/C31H38F3N3O3S/c1-5-6-7-8-11-18-37(30(38)35-29-26(33)19-24(32)20-27(29)34)21-22-14-16-23(17-15-22)25-12-9-10-13-28(25)41(39,40)36-31(2,3)4/h9-10,12-17,19-20,36H,5-8,11,18,21H2,1-4H3,(H,35,38)'}], 'dl:entityType': 'exact'}, {'@role': 'product', 'molecule': {'@id': 'm1', 'name': {'@dictRef': 'nameDict:unknown', '#text': 'crystals'}}, 'amount': {'@dl:propertyType': 'MASS', '@dl:normalizedValue': '0.49', '#text': '0.49 g'}, 'dl:entityType': 'exact', 'dl:state': 'crystals'}]}, 'reactantList': {'reactant': [{'@role': 'reactant', '@count': '1', 'molecule': {'@id': 'm2', 'name': {'@dictRef': 'nameDict:unknown', '#text': '2,4,6-trifluorobenzoic acid'}}, 'amount': {'@dl:propertyType': 'MASS', '@dl:normalizedValue': '0.27', '#text': '0.27 g'}, 'identifier': [{'@dictRef': 'cml:smiles', '@value': 'FC1=C(C(=O)O)C(=CC(=C1)F)F'}, {'@dictRef': 'cml:inchi', '@value': 'InChI=1S/C7H3F3O2/c8-3-1-4(9)6(7(11)12)5(10)2-3/h1-2H,(H,11,12)'}], 'dl:entityType': 'exact'}, {'@role': 'reactant', '@count': '1', 'molecule': {'@id': 'm3', 'name': {'@dictRef': 'nameDict:unknown', '#text': 'diphenylphosphoryl azide'}}, 'amount': {'@dl:propertyType': 'MASS', '@dl:normalizedValue': '0.44', '#text': '0.44 g'}, 'identifier': [{'@dictRef': 'cml:smiles', '@value': 'C1(=CC=CC=C1)P(=O)(C1=CC=CC=C1)N=[N+]=[N-]'}, {'@dictRef': 'cml:inchi', '@value': 'InChI=1S/C12H10N3OP/c13-14-15-17(16,11-7-3-1-4-8-11)12-9-5-2-6-10-12/h1-10H'}], 'dl:entityType': 'exact'}, {'@role': 'reactant', '@count': '1', 'molecule': {'@id': 'm4', 'name': {'@dictRef': 'nameDict:unknown', '#text': 'N-[[2′-[(t-butylamino)sulfonyl]-1,1′-biphenyl-4-yl]methyl]-N-heptylamine'}}, 'amount': {'@dl:propertyType': 'MASS', '@dl:normalizedValue': '0.43', '#text': '0.43 g'}, 'identifier': [{'@dictRef': 'cml:smiles', '@value': 'C(C)(C)(C)NS(=O)(=O)C1=C(C=CC=C1)C1=CC=C(C=C1)CNCCCCCCC'}, {'@dictRef': 'cml:inchi', '@value': 'InChI=1S/C24H36N2O2S/c1-5-6-7-8-11-18-25-19-20-14-16-21(17-15-20)22-12-9-10-13-23(22)29(27,28)26-24(2,3)4/h9-10,12-17,25-26H,5-8,11,18-19H2,1-4H3'}], 'dl:entityType': 'exact'}, {'@role': 'reactant', '@count': '1', 'molecule': {'@id': 'm5', 'name': {'@dictRef': 'nameDict:unknown', '#text': 'triethylamine'}}, 'amount': {'@dl:propertyType': 'MASS', '@dl:normalizedValue': '0.17', '#text': '0.17 g'}, 'identifier': [{'@dictRef': 'cml:smiles', '@value': 'C(C)N(CC)CC'}, {'@dictRef': 'cml:inchi', '@value': 'InChI=1S/C6H15N/c1-4-7(5-2)6-3/h4-6H2,1-3H3'}], 'dl:entityType': 'exact'}]}, 'spectatorList': None, 'dl:reactionActionList': {'dl:reactionAction': {'@action': 'Yield', 'dl:phraseText': 'N′-[[2′-[(t-butylamino)sulfonyl]-1,1′-biphenyl-4-yl]methyl]-N′-heptyl-N-(2,4,6-trifluorophenyl)urea was afforded as colorless crystals (0.49 g) by a similar procedure as in Example 4', 'dl:chemical': [{'@ref': 'm0'}, {'@ref': 'm1'}]}}}: string indices must be integers\n",
      "Error with {'dl:source': {'dl:documentId': 'US20040048909A1', 'dl:paragraphNum': '0176', 'dl:paragraphText': 'Using 2,4,6-trifluorobenzoic acid (0.27 g), diphenylphosphoryl azide (0.44 g), triethylamine (0.17 g) and N-[[2′-[(t-butylamino)sulfonyl]-1,1′-biphenyl-4-yl]methyl]-N-heptylamine (0.43 g), N′-[[2′-[(t-butylamino)sulfonyl]-1,1′-biphenyl-4-yl]methyl]-N′-heptyl-N-(2,4,6-trifluorophenyl)urea was afforded as colorless crystals (0.49 g) by a similar procedure as in Example 4. Yield: 81%.'}, 'dl:reactionSmiles': '[F:1][C:2]1[CH:10]=[C:9]([F:11])[CH:8]=[C:7]([F:12])[C:3]=1C(O)=O.C1(P(N=[N+]=[N-])(C2C=CC=CC=2)=[O:20])C=CC=CC=1.[C:30]([NH:34][S:35]([C:38]1[CH:43]=[CH:42][CH:41]=[CH:40][C:39]=1[C:44]1[CH:49]=[CH:48][C:47]([CH2:50][NH:51][CH2:52][CH2:53][CH2:54][CH2:55][CH2:56][CH2:57][CH3:58])=[CH:46][CH:45]=1)(=[O:37])=[O:36])([CH3:33])([CH3:32])[CH3:31].C([N:61]([CH2:64]C)CC)C>>[C:30]([NH:34][S:35]([C:38]1[CH:43]=[CH:42][CH:41]=[CH:40][C:39]=1[C:44]1[CH:49]=[CH:48][C:47]([CH2:50][N:51]([CH2:52][CH2:53][CH2:54][CH2:55][CH2:56][CH2:57][CH3:58])[C:64](=[O:20])[NH:61][C:3]2[C:7]([F:12])=[CH:8][C:9]([F:11])=[CH:10][C:2]=2[F:1])=[CH:46][CH:45]=1)(=[O:37])=[O:36])([CH3:33])([CH3:32])[CH3:31]', 'productList': {'product': [{'@role': 'product', 'molecule': {'@id': 'm0', 'name': {'@dictRef': 'nameDict:unknown', '#text': 'N′-[[2′-[(t-butylamino)sulfonyl]-1,1′-biphenyl-4-yl]methyl]-N′-heptyl-N-(2,4,6-trifluorophenyl)urea'}}, 'amount': {'@dl:propertyType': 'PERCENTYIELD', '@dl:normalizedValue': '81', '#text': 'Yield: 81%'}, 'identifier': [{'@dictRef': 'cml:smiles', '@value': 'C(C)(C)(C)NS(=O)(=O)C1=C(C=CC=C1)C1=CC=C(C=C1)CN(C(NC1=C(C=C(C=C1F)F)F)=O)CCCCCCC'}, {'@dictRef': 'cml:inchi', '@value': 'InChI=1S/C31H38F3N3O3S/c1-5-6-7-8-11-18-37(30(38)35-29-26(33)19-24(32)20-27(29)34)21-22-14-16-23(17-15-22)25-12-9-10-13-28(25)41(39,40)36-31(2,3)4/h9-10,12-17,19-20,36H,5-8,11,18,21H2,1-4H3,(H,35,38)'}], 'dl:entityType': 'exact'}, {'@role': 'product', 'molecule': {'@id': 'm1', 'name': {'@dictRef': 'nameDict:unknown', '#text': 'crystals'}}, 'amount': {'@dl:propertyType': 'MASS', '@dl:normalizedValue': '0.49', '#text': '0.49 g'}, 'dl:entityType': 'exact', 'dl:state': 'crystals'}]}, 'reactantList': {'reactant': [{'@role': 'reactant', '@count': '1', 'molecule': {'@id': 'm2', 'name': {'@dictRef': 'nameDict:unknown', '#text': '2,4,6-trifluorobenzoic acid'}}, 'amount': {'@dl:propertyType': 'MASS', '@dl:normalizedValue': '0.27', '#text': '0.27 g'}, 'identifier': [{'@dictRef': 'cml:smiles', '@value': 'FC1=C(C(=O)O)C(=CC(=C1)F)F'}, {'@dictRef': 'cml:inchi', '@value': 'InChI=1S/C7H3F3O2/c8-3-1-4(9)6(7(11)12)5(10)2-3/h1-2H,(H,11,12)'}], 'dl:entityType': 'exact'}, {'@role': 'reactant', '@count': '1', 'molecule': {'@id': 'm3', 'name': {'@dictRef': 'nameDict:unknown', '#text': 'diphenylphosphoryl azide'}}, 'amount': {'@dl:propertyType': 'MASS', '@dl:normalizedValue': '0.44', '#text': '0.44 g'}, 'identifier': [{'@dictRef': 'cml:smiles', '@value': 'C1(=CC=CC=C1)P(=O)(C1=CC=CC=C1)N=[N+]=[N-]'}, {'@dictRef': 'cml:inchi', '@value': 'InChI=1S/C12H10N3OP/c13-14-15-17(16,11-7-3-1-4-8-11)12-9-5-2-6-10-12/h1-10H'}], 'dl:entityType': 'exact'}, {'@role': 'reactant', '@count': '1', 'molecule': {'@id': 'm4', 'name': {'@dictRef': 'nameDict:unknown', '#text': 'N-[[2′-[(t-butylamino)sulfonyl]-1,1′-biphenyl-4-yl]methyl]-N-heptylamine'}}, 'amount': {'@dl:propertyType': 'MASS', '@dl:normalizedValue': '0.43', '#text': '0.43 g'}, 'identifier': [{'@dictRef': 'cml:smiles', '@value': 'C(C)(C)(C)NS(=O)(=O)C1=C(C=CC=C1)C1=CC=C(C=C1)CNCCCCCCC'}, {'@dictRef': 'cml:inchi', '@value': 'InChI=1S/C24H36N2O2S/c1-5-6-7-8-11-18-25-19-20-14-16-21(17-15-20)22-12-9-10-13-23(22)29(27,28)26-24(2,3)4/h9-10,12-17,25-26H,5-8,11,18-19H2,1-4H3'}], 'dl:entityType': 'exact'}, {'@role': 'reactant', '@count': '1', 'molecule': {'@id': 'm5', 'name': {'@dictRef': 'nameDict:unknown', '#text': 'triethylamine'}}, 'amount': {'@dl:propertyType': 'MASS', '@dl:normalizedValue': '0.17', '#text': '0.17 g'}, 'identifier': [{'@dictRef': 'cml:smiles', '@value': 'C(C)N(CC)CC'}, {'@dictRef': 'cml:inchi', '@value': 'InChI=1S/C6H15N/c1-4-7(5-2)6-3/h4-6H2,1-3H3'}], 'dl:entityType': 'exact'}]}, 'spectatorList': None, 'dl:reactionActionList': {'dl:reactionAction': {'@action': 'Yield', 'dl:phraseText': 'N′-[[2′-[(t-butylamino)sulfonyl]-1,1′-biphenyl-4-yl]methyl]-N′-heptyl-N-(2,4,6-trifluorophenyl)urea was afforded as colorless crystals (0.49 g) by a similar procedure as in Example 4', 'dl:chemical': [{'@ref': 'm0'}, {'@ref': 'm1'}]}}}: string indices must be integers\n"
     ]
    },
    {
     "name": "stderr",
     "output_type": "stream",
     "text": [
      "\n"
     ]
    }
   ],
   "source": [
    "all_reaction_data = []\n",
    "\n",
    "for reaction in tqdm(all_reactions):\n",
    "    try:\n",
    "        all_reaction_data.append(extract_data_from_reaction(reaction))\n",
    "    except Exception as e:\n",
    "        print(f'Error with {reaction}: {e}')"
   ]
  },
  {
   "cell_type": "code",
   "execution_count": 110,
   "metadata": {},
   "outputs": [
    {
     "data": {
      "text/plain": [
       "1555"
      ]
     },
     "execution_count": 110,
     "metadata": {},
     "output_type": "execute_result"
    }
   ],
   "source": [
    "len(all_reaction_data)"
   ]
  },
  {
   "cell_type": "code",
   "execution_count": 111,
   "metadata": {},
   "outputs": [],
   "source": [
    "save_pickle('all_reaction_data.pkl', all_reaction_data)"
   ]
  },
  {
   "cell_type": "code",
   "execution_count": 114,
   "metadata": {},
   "outputs": [],
   "source": [
    "df = pd.DataFrame(all_reaction_data)"
   ]
  },
  {
   "cell_type": "code",
   "execution_count": 116,
   "metadata": {},
   "outputs": [
    {
     "data": {
      "text/plain": [
       "'The diol 26 (8.17 g, 78.44 mmol) in 12 ml dry toluene is initially introduced into a 50 ml round-bottomed flask equipped with an argon balloon flask and reflux condenser. The solution is stirred and sodium hydride (60% suspension in mineral oil) (1.53 g, 38.25 mmol) is added thereto in portions over a period of 45 min. The suspension is heated under reflux for 3 h under an argon blanketing gas atmosphere. 4-Methoxy-benzyl chloride (5.2 ml, 38.31 mmol) is then added over a period of 30 min and the mixture is boiled under reflux for 18 h. At the end of this period the reaction mixture is cooled to room temperature and poured into 50 ml water. The phases are separated and the aqueous phase is extracted with dichloromethane (3×50 ml). The combined organic phases are dried over Na2SO4 and concentrated under vacuum'"
      ]
     },
     "execution_count": 116,
     "metadata": {},
     "output_type": "execute_result"
    }
   ],
   "source": [
    "df.iloc[1553][\"paragraph_without_yield_and_charac\"]"
   ]
  },
  {
   "cell_type": "code",
   "execution_count": 118,
   "metadata": {},
   "outputs": [
    {
     "data": {
      "text/plain": [
       "40.0"
      ]
     },
     "execution_count": 118,
     "metadata": {},
     "output_type": "execute_result"
    }
   ],
   "source": [
    "df.iloc[1553][\"yield\"]"
   ]
  },
  {
   "cell_type": "code",
   "execution_count": 117,
   "metadata": {},
   "outputs": [],
   "source": [
    "df.to_csv('../data/USTPO_yields.csv', index=False)"
   ]
  },
  {
   "cell_type": "code",
   "execution_count": null,
   "metadata": {},
   "outputs": [],
   "source": []
  }
 ],
 "metadata": {
  "kernelspec": {
   "display_name": "Python 3.9.13 ('gpt3')",
   "language": "python",
   "name": "python3"
  },
  "language_info": {
   "codemirror_mode": {
    "name": "ipython",
    "version": 3
   },
   "file_extension": ".py",
   "mimetype": "text/x-python",
   "name": "python",
   "nbconvert_exporter": "python",
   "pygments_lexer": "ipython3",
   "version": "3.9.13"
  },
  "orig_nbformat": 4,
  "vscode": {
   "interpreter": {
    "hash": "9a4fa60962de90e73b5da8d67a44b01d2de04630d82b94b8db1f727a73d31e61"
   }
  }
 },
 "nbformat": 4,
 "nbformat_minor": 2
}
