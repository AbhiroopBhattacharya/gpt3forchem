{
 "cells": [
  {
   "cell_type": "markdown",
   "metadata": {},
   "source": [
    "# Forward predictions of polymer adsorption energies\n"
   ]
  },
  {
   "cell_type": "code",
   "execution_count": 23,
   "metadata": {},
   "outputs": [],
   "source": [
    "import time\n",
    "\n",
    "from sklearn.model_selection import train_test_split\n",
    "\n",
    "from gpt3forchem.data import get_polymer_data\n",
    "from gpt3forchem.input import create_single_property_forward_prompts\n",
    "from gpt3forchem.api_wrappers import fine_tune, query_gpt3, extract_prediction\n",
    "\n",
    "from pycm import ConfusionMatrix"
   ]
  },
  {
   "cell_type": "markdown",
   "metadata": {},
   "source": [
    "Let's run one fine-tuning and inference for sanity check and then do it a coule of times for statistics.\n"
   ]
  },
  {
   "cell_type": "markdown",
   "metadata": {},
   "source": [
    "## Sanity check\n"
   ]
  },
  {
   "cell_type": "code",
   "execution_count": 26,
   "metadata": {},
   "outputs": [],
   "source": [
    "df = get_polymer_data()\n"
   ]
  },
  {
   "cell_type": "code",
   "execution_count": 27,
   "metadata": {},
   "outputs": [],
   "source": [
    "df_train, df_test = train_test_split(df, train_size=200, random_state=42)\n"
   ]
  },
  {
   "cell_type": "code",
   "execution_count": 28,
   "metadata": {},
   "outputs": [],
   "source": [
    "train_prompts = create_single_property_forward_prompts(\n",
    "    df_train, \"deltaGmin_cat\", {\"deltaGmin_cat\": \"adsorption energy\"}\n",
    ")\n",
    "\n",
    "test_prompts = create_single_property_forward_prompts(\n",
    "    df_test, \"deltaGmin_cat\", {\"deltaGmin_cat\": \"adsorption energy\"}\n",
    ")\n"
   ]
  },
  {
   "cell_type": "code",
   "execution_count": 29,
   "metadata": {},
   "outputs": [],
   "source": [
    "train_size  = len(train_prompts)\n",
    "test_size = len(test_prompts)\n",
    "\n",
    "filename_base = time.strftime(\"%Y-%m-%d-%H-%M-%S\", time.localtime())\n",
    "train_filename = f\"run_files/{filename_base}_train_prompts_polymers_{train_size}.jsonl\"\n",
    "valid_filename = f\"run_files/{filename_base}_valid_prompts_polymers_{test_size}.jsonl\"\n",
    "\n",
    "train_prompts.to_json(train_filename, orient=\"records\", lines=True)\n",
    "test_prompts.to_json(valid_filename, orient=\"records\", lines=True)\n"
   ]
  },
  {
   "cell_type": "code",
   "execution_count": 30,
   "metadata": {},
   "outputs": [
    {
     "name": "stderr",
     "output_type": "stream",
     "text": [
      "wandb: Currently logged in as: kjappelbaum. Use `wandb login --relogin` to force relogin\n",
      "wandb: Tracking run with wandb version 0.13.1\n",
      "wandb: Run data is saved locally in /Users/kevinmaikjablonka/git/kjappelbaum/gpt3forchem/experiments/wandb/run-20220817_204432-ft-9PrAvlxyrCPMzgOBrXZI5Clc\n",
      "wandb: Run `wandb offline` to turn off syncing.\n",
      "wandb: Syncing run ft-9PrAvlxyrCPMzgOBrXZI5Clc\n",
      "wandb: ⭐️ View project at https://wandb.ai/kjappelbaum/GPT-3\n",
      "wandb: 🚀 View run at https://wandb.ai/kjappelbaum/GPT-3/runs/ft-9PrAvlxyrCPMzgOBrXZI5Clc\n",
      "wandb: Waiting for W&B process to finish... (success).\n",
      "wandb:                                                                                \n",
      "wandb: \n",
      "wandb: Run history:\n",
      "wandb:             elapsed_examples ▁▁▁▁▂▂▂▂▂▃▃▃▃▃▃▄▄▄▄▄▅▅▅▅▅▅▆▆▆▆▆▇▇▇▇▇▇███\n",
      "wandb:               elapsed_tokens ▁▁▁▁▂▂▂▂▂▃▃▃▃▃▃▄▄▄▄▄▅▅▅▅▅▅▆▆▆▆▆▇▇▇▇▇▇███\n",
      "wandb:                training_loss █▅▄▅▄▃▄▃▃▄▃▃▃▃▃▅▃▃▂▃▃▃▃▂▃▂▁▁▁▃▂▂▂▁▂▃▁▁▂▁\n",
      "wandb:   training_sequence_accuracy █▁▁▁▁█▁▁▁▁▁█▁██▁▁▁█▁▁█▁█▁████▁█████▁██▁█\n",
      "wandb:      training_token_accuracy █▁▁▁▁█▁▁▁▁▁█▁██▁▁▁█▁▁█▁█▁████▁█████▁██▁█\n",
      "wandb:              validation_loss █▂▁▂▂▁▁▁▂▁▁▁▁▁▂▁▁▁▁▂▂▁▁▁▂▁▁▁▂▁▁▁▁▁▁▂▁▁▁▁\n",
      "wandb: validation_sequence_accuracy ▁▁▁▁▁█▁█▁▁▁██▁▁▁▁▁█▁▁▁██▁██▁▁██▁███▁█▁▁█\n",
      "wandb:    validation_token_accuracy ▁▆▆▆▆█▆█▆▆▆██▆▆▆▆▆█▆▆▆██▆██▆▆██▆███▆█▆▆█\n",
      "wandb: \n",
      "wandb: Run summary:\n",
      "wandb:             elapsed_examples 802.0\n",
      "wandb:               elapsed_tokens 62858.0\n",
      "wandb:             fine_tuned_model ada:ft-lsmoepfl-2022...\n",
      "wandb:                       status succeeded\n",
      "wandb:                training_loss 0.06899\n",
      "wandb:   training_sequence_accuracy 1.0\n",
      "wandb:      training_token_accuracy 1.0\n",
      "wandb:              validation_loss 0.06232\n",
      "wandb: validation_sequence_accuracy 1.0\n",
      "wandb:    validation_token_accuracy 1.0\n",
      "wandb: \n",
      "wandb: Synced ft-9PrAvlxyrCPMzgOBrXZI5Clc: https://wandb.ai/kjappelbaum/GPT-3/runs/ft-9PrAvlxyrCPMzgOBrXZI5Clc\n",
      "wandb: Synced 6 W&B file(s), 0 media file(s), 5 artifact file(s) and 0 other file(s)\n",
      "wandb: Find logs at: ./wandb/run-20220817_204432-ft-9PrAvlxyrCPMzgOBrXZI5Clc/logs\n"
     ]
    },
    {
     "name": "stdout",
     "output_type": "stream",
     "text": [
      "🎉 wandb sync completed successfully\n"
     ]
    }
   ],
   "source": [
    "modelname = fine_tune(train_filename, valid_filename)"
   ]
  },
  {
   "cell_type": "code",
   "execution_count": 32,
   "metadata": {},
   "outputs": [],
   "source": [
    "test_prompt_subset = test_prompts\n",
    "completions = query_gpt3(modelname, test_prompt_subset)"
   ]
  },
  {
   "cell_type": "code",
   "execution_count": null,
   "metadata": {},
   "outputs": [],
   "source": [
    "predictions = [extract_prediction(completion) for completion in completions]\n",
    "true = [t.split('@')[0] for t in test_prompt_subset['completion']]"
   ]
  },
  {
   "cell_type": "code",
   "execution_count": null,
   "metadata": {},
   "outputs": [],
   "source": [
    "cm = ConfusionMatrix(true, predictions)"
   ]
  },
  {
   "cell_type": "code",
   "execution_count": null,
   "metadata": {},
   "outputs": [
    {
     "name": "stdout",
     "output_type": "stream",
     "text": [
      "Predict   0        2        3        4       3        \n",
      "Actual\n",
      " 0       0        0        0        0        4        \n",
      "\n",
      " 2       0        0        0        0        1        \n",
      "\n",
      " 3       0        0        0        0        1        \n",
      "\n",
      " 4       0        0        0        0        4        \n",
      "\n",
      "3        0        0        0        0        0        \n",
      "\n",
      "\n",
      "\n",
      "\n",
      "\n",
      "Overall Statistics : \n",
      "\n",
      "95% CI                                                            (0.0,0.0)\n",
      "ACC Macro                                                         0.6\n",
      "ARI                                                               0.0\n",
      "AUNP                                                              None\n",
      "AUNU                                                              None\n",
      "Bangdiwala B                                                      None\n",
      "Bennett S                                                         -0.25\n",
      "CBA                                                               0.0\n",
      "CSI                                                               None\n",
      "Chi-Squared                                                       None\n",
      "Chi-Squared DF                                                    16\n",
      "Conditional Entropy                                               -0.0\n",
      "Cramer V                                                          None\n",
      "Cross Entropy                                                     0\n",
      "F1 Macro                                                          0.0\n",
      "F1 Micro                                                          0.0\n",
      "FNR Macro                                                         None\n",
      "FNR Micro                                                         1.0\n",
      "FPR Macro                                                         0.2\n",
      "FPR Micro                                                         0.25\n",
      "Gwet AC1                                                          -0.1994\n",
      "Hamming Loss                                                      1.0\n",
      "Joint Entropy                                                     1.72193\n",
      "KL Divergence                                                     None\n",
      "Kappa                                                             0.0\n",
      "Kappa 95% CI                                                      (0.0,0.0)\n",
      "Kappa No Prevalence                                               -1.0\n",
      "Kappa Standard Error                                              0.0\n",
      "Kappa Unbiased                                                    -0.50376\n",
      "Krippendorff Alpha                                                -0.42857\n",
      "Lambda A                                                          0.0\n",
      "Lambda B                                                          None\n",
      "Mutual Information                                                0.0\n",
      "NIR                                                               0.4\n",
      "Overall ACC                                                       0.0\n",
      "Overall CEN                                                       0.28699\n",
      "Overall J                                                         (0.0,0.0)\n",
      "Overall MCC                                                       None\n",
      "Overall MCEN                                                      0.28699\n",
      "Overall RACC                                                      0.0\n",
      "Overall RACCU                                                     0.335\n",
      "P-Value                                                           1\n",
      "PPV Macro                                                         None\n",
      "PPV Micro                                                         0.0\n",
      "Pearson C                                                         None\n",
      "Phi-Squared                                                       None\n",
      "RCI                                                               0.0\n",
      "RR                                                                2.0\n",
      "Reference Entropy                                                 1.72193\n",
      "Response Entropy                                                  -0.0\n",
      "SOA1(Landis & Koch)                                               Slight\n",
      "SOA2(Fleiss)                                                      Poor\n",
      "SOA3(Altman)                                                      Poor\n",
      "SOA4(Cicchetti)                                                   Poor\n",
      "SOA5(Cramer)                                                      None\n",
      "SOA6(Matthews)                                                    None\n",
      "Scott PI                                                          -0.50376\n",
      "Standard Error                                                    0.0\n",
      "TNR Macro                                                         0.8\n",
      "TNR Micro                                                         0.75\n",
      "TPR Macro                                                         None\n",
      "TPR Micro                                                         0.0\n",
      "Zero-one Loss                                                     10\n",
      "\n",
      "Class Statistics :\n",
      "\n",
      "Classes                                                            0             2             3             4            3             \n",
      "ACC(Accuracy)                                                     0.6           0.9           0.9           0.6           0.0           \n",
      "AGF(Adjusted F-score)                                             0.0           0.0           0.0           0.0           0.0           \n",
      "AGM(Adjusted geometric mean)                                      0             0             0             0             None          \n",
      "AM(Difference between automatic and manual classification)        -4            -1            -1            -4            10            \n",
      "AUC(Area under the ROC curve)                                     0.5           0.5           0.5           0.5           None          \n",
      "AUCI(AUC value interpretation)                                    Poor          Poor          Poor          Poor          None          \n",
      "AUPR(Area under the PR curve)                                     None          None          None          None          None          \n",
      "BCD(Bray-Curtis dissimilarity)                                    0.2           0.05          0.05          0.2           0.5           \n",
      "BM(Informedness or bookmaker informedness)                        0.0           0.0           0.0           0.0           None          \n",
      "CEN(Confusion entropy)                                            0.0           0.0           0.0           0.0           0.57398       \n",
      "DOR(Diagnostic odds ratio)                                        None          None          None          None          None          \n",
      "DP(Discriminant power)                                            None          None          None          None          None          \n",
      "DPI(Discriminant power interpretation)                            None          None          None          None          None          \n",
      "ERR(Error rate)                                                   0.4           0.1           0.1           0.4           1.0           \n",
      "F0.5(F0.5 score)                                                  0.0           0.0           0.0           0.0           0.0           \n",
      "F1(F1 score - harmonic mean of precision and sensitivity)         0.0           0.0           0.0           0.0           0.0           \n",
      "F2(F2 score)                                                      0.0           0.0           0.0           0.0           0.0           \n",
      "FDR(False discovery rate)                                         None          None          None          None          1.0           \n",
      "FN(False negative/miss/type 2 error)                              4             1             1             4             0             \n",
      "FNR(Miss rate or false negative rate)                             1.0           1.0           1.0           1.0           None          \n",
      "FOR(False omission rate)                                          0.4           0.1           0.1           0.4           None          \n",
      "FP(False positive/type 1 error/false alarm)                       0             0             0             0             10            \n",
      "FPR(Fall-out or false positive rate)                              0.0           0.0           0.0           0.0           1.0           \n",
      "G(G-measure geometric mean of precision and sensitivity)          None          None          None          None          None          \n",
      "GI(Gini index)                                                    0.0           0.0           0.0           0.0           None          \n",
      "GM(G-mean geometric mean of specificity and sensitivity)          0.0           0.0           0.0           0.0           None          \n",
      "IBA(Index of balanced accuracy)                                   0.0           0.0           0.0           0.0           None          \n",
      "ICSI(Individual classification success index)                     None          None          None          None          None          \n",
      "IS(Information score)                                             None          None          None          None          None          \n",
      "J(Jaccard index)                                                  0.0           0.0           0.0           0.0           0.0           \n",
      "LS(Lift score)                                                    None          None          None          None          None          \n",
      "MCC(Matthews correlation coefficient)                             None          None          None          None          None          \n",
      "MCCI(Matthews correlation coefficient interpretation)             None          None          None          None          None          \n",
      "MCEN(Modified confusion entropy)                                  0.0           0.0           0.0           0.0           0.57398       \n",
      "MK(Markedness)                                                    None          None          None          None          None          \n",
      "N(Condition negative)                                             6             9             9             6             10            \n",
      "NLR(Negative likelihood ratio)                                    1.0           1.0           1.0           1.0           None          \n",
      "NLRI(Negative likelihood ratio interpretation)                    Negligible    Negligible    Negligible    Negligible    None          \n",
      "NPV(Negative predictive value)                                    0.6           0.9           0.9           0.6           None          \n",
      "OC(Overlap coefficient)                                           None          None          None          None          None          \n",
      "OOC(Otsuka-Ochiai coefficient)                                    None          None          None          None          None          \n",
      "OP(Optimized precision)                                           -0.4          -0.1          -0.1          -0.4          None          \n",
      "P(Condition positive or support)                                  4             1             1             4             0             \n",
      "PLR(Positive likelihood ratio)                                    None          None          None          None          None          \n",
      "PLRI(Positive likelihood ratio interpretation)                    None          None          None          None          None          \n",
      "POP(Population)                                                   10            10            10            10            10            \n",
      "PPV(Precision or positive predictive value)                       None          None          None          None          0.0           \n",
      "PRE(Prevalence)                                                   0.4           0.1           0.1           0.4           0.0           \n",
      "Q(Yule Q - coefficient of colligation)                            None          None          None          None          None          \n",
      "QI(Yule Q interpretation)                                         None          None          None          None          None          \n",
      "RACC(Random accuracy)                                             0.0           0.0           0.0           0.0           0.0           \n",
      "RACCU(Random accuracy unbiased)                                   0.04          0.0025        0.0025        0.04          0.25          \n",
      "TN(True negative/correct rejection)                               6             9             9             6             0             \n",
      "TNR(Specificity or true negative rate)                            1.0           1.0           1.0           1.0           0.0           \n",
      "TON(Test outcome negative)                                        10            10            10            10            0             \n",
      "TOP(Test outcome positive)                                        0             0             0             0             10            \n",
      "TP(True positive/hit)                                             0             0             0             0             0             \n",
      "TPR(Sensitivity, recall, hit rate, or true positive rate)         0.0           0.0           0.0           0.0           None          \n",
      "Y(Youden index)                                                   0.0           0.0           0.0           0.0           None          \n",
      "dInd(Distance index)                                              1.0           1.0           1.0           1.0           None          \n",
      "sInd(Similarity index)                                            0.29289       0.29289       0.29289       0.29289       None          \n",
      "\n"
     ]
    }
   ],
   "source": [
    "print(cm)"
   ]
  },
  {
   "cell_type": "code",
   "execution_count": null,
   "metadata": {},
   "outputs": [],
   "source": []
  }
 ],
 "metadata": {
  "kernelspec": {
   "display_name": "Python 3.8.13 ('gpt3')",
   "language": "python",
   "name": "python3"
  },
  "language_info": {
   "codemirror_mode": {
    "name": "ipython",
    "version": 3
   },
   "file_extension": ".py",
   "mimetype": "text/x-python",
   "name": "python",
   "nbconvert_exporter": "python",
   "pygments_lexer": "ipython3",
   "version": "3.9.12"
  },
  "orig_nbformat": 4,
  "vscode": {
   "interpreter": {
    "hash": "9a4fa60962de90e73b5da8d67a44b01d2de04630d82b94b8db1f727a73d31e61"
   }
  }
 },
 "nbformat": 4,
 "nbformat_minor": 2
}
