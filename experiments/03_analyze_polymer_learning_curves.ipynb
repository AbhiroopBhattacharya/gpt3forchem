{
 "cells": [
  {
   "cell_type": "code",
   "execution_count": 68,
   "metadata": {},
   "outputs": [],
   "source": [
    "import pandas as pd\n",
    "from fastcore.utils import load_pickle\n",
    "import matplotlib.pyplot as plt\n",
    "from glob import glob\n",
    "\n",
    "plt.style.use([\"science\", \"nature\"])\n",
    "\n",
    "colors = [\"#0C5DA5\", \"#00B945\", \"#FF9500\", \"#FF2C00\", \"#845B97\", \"#474747\", \"#9e9e9e\"]\n"
   ]
  },
  {
   "cell_type": "code",
   "execution_count": 8,
   "metadata": {},
   "outputs": [],
   "source": [
    "all_runs = glob(\"results/*polymers*.pkl\")\n"
   ]
  },
  {
   "cell_type": "code",
   "execution_count": 17,
   "metadata": {},
   "outputs": [],
   "source": [
    "def compile_data(file):\n",
    "    res = load_pickle(file)\n",
    "    model_type = res[\"model_type\"]\n",
    "    train_size = res[\"train_size\"]\n",
    "    prefix = res[\"prefix\"]\n",
    "    acc = res[\"cm\"].ACC_Macro\n",
    "    f1_macro = res[\"cm\"].F1_Macro\n",
    "    f1_micro = res[\"cm\"].F1_Micro\n",
    "\n",
    "    return {\n",
    "        \"model_type\": model_type,\n",
    "        \"train_size\": train_size,\n",
    "        \"prefix\": prefix,\n",
    "        \"acc\": acc,\n",
    "        \"f1_macro\": f1_macro,\n",
    "        \"f1_micro\": f1_micro,\n",
    "    }\n"
   ]
  },
  {
   "cell_type": "code",
   "execution_count": 19,
   "metadata": {},
   "outputs": [],
   "source": [
    "all_results = [compile_data(run) for run in all_runs]\n"
   ]
  },
  {
   "cell_type": "code",
   "execution_count": 20,
   "metadata": {},
   "outputs": [],
   "source": [
    "all_results = pd.DataFrame(all_results)\n"
   ]
  },
  {
   "cell_type": "code",
   "execution_count": 28,
   "metadata": {},
   "outputs": [],
   "source": [
    "aggregated = all_results.groupby([\"model_type\", \"prefix\", \"train_size\"]).agg(\n",
    "    [\"mean\", \"std\"]\n",
    ")\n"
   ]
  },
  {
   "cell_type": "code",
   "execution_count": 48,
   "metadata": {},
   "outputs": [
    {
     "data": {
      "text/plain": [
       "array(['', \"I'm an expert polymer chemist \"], dtype=object)"
      ]
     },
     "execution_count": 48,
     "metadata": {},
     "output_type": "execute_result"
    }
   ],
   "source": [
    "all_results[\"prefix\"].unique()\n"
   ]
  },
  {
   "cell_type": "code",
   "execution_count": 53,
   "metadata": {},
   "outputs": [
    {
     "data": {
      "text/plain": [
       "Int64Index([10, 50, 100, 200, 500, 1000, 2000], dtype='int64', name='train_size')"
      ]
     },
     "execution_count": 53,
     "metadata": {},
     "output_type": "execute_result"
    }
   ],
   "source": [
    "aggregated.loc[\"ada\"].loc[\"\"].index\n"
   ]
  },
  {
   "cell_type": "code",
   "execution_count": 99,
   "metadata": {},
   "outputs": [
    {
     "data": {
      "image/png": "[encoded data removed]",
      "text/plain": [
       "<Figure size 237.6x180 with 3 Axes>"
      ]
     },
     "metadata": {
      "needs_background": "light"
     },
     "output_type": "display_data"
    }
   ],
   "source": [
    "fig, ax = plt.subplots(1, 3, sharex=\"all\")\n",
    "\n",
    "\n",
    "ada_no_prefix = aggregated.loc[\"ada\"].loc[\"\"]\n",
    "ada_prefix = aggregated.loc[\"ada\"].loc[\"I'm an expert polymer chemist \"]\n",
    "\n",
    "davinci_no_prefix = aggregated.loc[\"davinci\"].loc[\"\"]\n",
    "davinci_prefix = aggregated.loc[\"davinci\"].loc[\"I'm an expert polymer chemist \"]\n",
    "\n",
    "alpha=.4\n",
    "\n",
    "for i, metric in enumerate([\"acc\", \"f1_micro\", \"f1_macro\"]):\n",
    "    ax[i].scatter(\n",
    "        ada_no_prefix.index,\n",
    "        ada_no_prefix[metric][\"mean\"],\n",
    "        label=\"ada, w/o prefix\" if i == 0 else None,\n",
    "        c=colors[0],\n",
    "    )\n",
    "    ax[i].scatter(\n",
    "        ada_prefix.index,\n",
    "        ada_no_prefix[metric][\"mean\"],\n",
    "        label=\"ada, w/ prefix\" if i == 0 else None,\n",
    "        c=colors[1],\n",
    "    )\n",
    "    ax[i].scatter(\n",
    "        davinci_no_prefix.index,\n",
    "        davinci_no_prefix[metric][\"mean\"],\n",
    "        label=\"davinci, w/o prefix\" if i == 0 else None,\n",
    "        c=colors[2],\n",
    "    )\n",
    "    ax[i].scatter(\n",
    "        davinci_prefix.index,\n",
    "        davinci_prefix[metric][\"mean\"],\n",
    "        label=\"davinci, w/ prefix\" if i == 0 else None,\n",
    "        c=colors[3],\n",
    "    )\n",
    "\n",
    "    ax[i].fill_between(\n",
    "        ada_no_prefix.index,\n",
    "        ada_no_prefix[metric][\"mean\"] - ada_no_prefix[metric][\"std\"],\n",
    "        ada_no_prefix[metric][\"mean\"] + ada_no_prefix[metric][\"std\"],\n",
    "        color=colors[0],\n",
    "        alpha=alpha,\n",
    "    )\n",
    "    ax[i].fill_between(\n",
    "        ada_prefix.index,\n",
    "        ada_no_prefix[metric][\"mean\"] - ada_no_prefix[metric][\"std\"],\n",
    "        ada_no_prefix[metric][\"mean\"] + ada_no_prefix[metric][\"std\"],\n",
    "        color=colors[1],\n",
    "        alpha=alpha,\n",
    "    )\n",
    "    ax[i].fill_between(\n",
    "        davinci_no_prefix.index,\n",
    "        davinci_no_prefix[metric][\"mean\"] - davinci_no_prefix[metric][\"std\"],\n",
    "        davinci_no_prefix[metric][\"mean\"] + davinci_no_prefix[metric][\"std\"],\n",
    "        color=colors[2],\n",
    "        alpha=alpha,\n",
    "    )\n",
    "    ax[i].fill_between(\n",
    "        davinci_prefix.index,\n",
    "        davinci_prefix[metric][\"mean\"] - davinci_prefix[metric][\"std\"],\n",
    "        davinci_prefix[metric][\"mean\"] + davinci_prefix[metric][\"std\"],\n",
    "        color=colors[3],\n",
    "        alpha=alpha,\n",
    "    )\n",
    "\n",
    "\n",
    "\n",
    "ax[0].set_ylabel('accuracy macro')\n",
    "ax[1].set_ylabel(r'F$_1$ micro')\n",
    "ax[2].set_ylabel(r'F$_1$ macro')\n",
    "\n",
    "fig.legend(bbox_to_anchor=(0.7,1.1), ncol=2, handletextpad=0, labelspacing=0, columnspacing=0)\n",
    "ax[0].set_xscale(\"log\")\n",
    "fig.tight_layout()\n",
    "fig.savefig('polymer_learning_curve.pdf', bbox_inches=False)"
   ]
  },
  {
   "cell_type": "code",
   "execution_count": null,
   "metadata": {},
   "outputs": [],
   "source": []
  }
 ],
 "metadata": {
  "kernelspec": {
   "display_name": "Python 3.9.12 ('gpt3')",
   "language": "python",
   "name": "python3"
  },
  "language_info": {
   "codemirror_mode": {
    "name": "ipython",
    "version": 3
   },
   "file_extension": ".py",
   "mimetype": "text/x-python",
   "name": "python",
   "nbconvert_exporter": "python",
   "pygments_lexer": "ipython3",
   "version": "3.9.13"
  },
  "orig_nbformat": 4,
  "vscode": {
   "interpreter": {
    "hash": "9a4fa60962de90e73b5da8d67a44b01d2de04630d82b94b8db1f727a73d31e61"
   }
  }
 },
 "nbformat": 4,
 "nbformat_minor": 2
}
