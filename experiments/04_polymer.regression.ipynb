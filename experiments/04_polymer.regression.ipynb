{
 "cells": [
  {
   "cell_type": "markdown",
   "metadata": {},
   "source": [
    "# Try to do regression using GPT-3"
   ]
  },
  {
   "cell_type": "code",
   "execution_count": 2,
   "metadata": {},
   "outputs": [],
   "source": [
    "import time\n",
    "\n",
    "from fastcore.utils import save_pickle\n",
    "from sklearn.model_selection import train_test_split\n",
    "\n",
    "from gpt3forchem.api_wrappers import extract_prediction, fine_tune, query_gpt3\n",
    "from gpt3forchem.data import get_polymer_data\n",
    "from gpt3forchem.input import create_single_property_forward_prompts"
   ]
  },
  {
   "cell_type": "code",
   "execution_count": 3,
   "metadata": {},
   "outputs": [],
   "source": [
    "df = get_polymer_data()\n",
    "df_train, df_test = train_test_split(df, train_size=200, random_state=42)\n"
   ]
  },
  {
   "cell_type": "code",
   "execution_count": 4,
   "metadata": {},
   "outputs": [],
   "source": [
    "train_prompts = create_single_property_forward_prompts(\n",
    "    df_train, \"deltaGmin_cat\", {\"deltaGmin_cat\": \"adsorption energy\"}, encode_value=False\n",
    ")\n",
    "\n",
    "test_prompts = create_single_property_forward_prompts(\n",
    "    df_test, \"deltaGmin_cat\", {\"deltaGmin_cat\": \"adsorption energy\"}, encode_value=False\n",
    ")\n"
   ]
  },
  {
   "cell_type": "code",
   "execution_count": 5,
   "metadata": {},
   "outputs": [
    {
     "data": {
      "text/html": [
       "<div>\n",
       "<style scoped>\n",
       "    .dataframe tbody tr th:only-of-type {\n",
       "        vertical-align: middle;\n",
       "    }\n",
       "\n",
       "    .dataframe tbody tr th {\n",
       "        vertical-align: top;\n",
       "    }\n",
       "\n",
       "    .dataframe thead th {\n",
       "        text-align: right;\n",
       "    }\n",
       "</style>\n",
       "<table border=\"1\" class=\"dataframe\">\n",
       "  <thead>\n",
       "    <tr style=\"text-align: right;\">\n",
       "      <th></th>\n",
       "      <th>prompt</th>\n",
       "      <th>completion</th>\n",
       "    </tr>\n",
       "  </thead>\n",
       "  <tbody>\n",
       "    <tr>\n",
       "      <th>0</th>\n",
       "      <td>what is the adsorption energy of B-R-B-B-R-R-R...</td>\n",
       "      <td>medium@@@</td>\n",
       "    </tr>\n",
       "    <tr>\n",
       "      <th>1</th>\n",
       "      <td>what is the adsorption energy of R-A-R-B-R-W-W...</td>\n",
       "      <td>large@@@</td>\n",
       "    </tr>\n",
       "    <tr>\n",
       "      <th>2</th>\n",
       "      <td>what is the adsorption energy of W-R-W-R-B-A-W...</td>\n",
       "      <td>small@@@</td>\n",
       "    </tr>\n",
       "    <tr>\n",
       "      <th>3</th>\n",
       "      <td>what is the adsorption energy of W-R-W-B-W-A-A...</td>\n",
       "      <td>large@@@</td>\n",
       "    </tr>\n",
       "    <tr>\n",
       "      <th>4</th>\n",
       "      <td>what is the adsorption energy of A-A-W-R-R-B-R...</td>\n",
       "      <td>large@@@</td>\n",
       "    </tr>\n",
       "    <tr>\n",
       "      <th>...</th>\n",
       "      <td>...</td>\n",
       "      <td>...</td>\n",
       "    </tr>\n",
       "    <tr>\n",
       "      <th>195</th>\n",
       "      <td>what is the adsorption energy of R-R-B-B-W-R-W...</td>\n",
       "      <td>very small@@@</td>\n",
       "    </tr>\n",
       "    <tr>\n",
       "      <th>196</th>\n",
       "      <td>what is the adsorption energy of A-B-A-W-W-B-W...</td>\n",
       "      <td>medium@@@</td>\n",
       "    </tr>\n",
       "    <tr>\n",
       "      <th>197</th>\n",
       "      <td>what is the adsorption energy of R-W-R-B-B-R-B...</td>\n",
       "      <td>very large@@@</td>\n",
       "    </tr>\n",
       "    <tr>\n",
       "      <th>198</th>\n",
       "      <td>what is the adsorption energy of R-W-W-A-W-R-B...</td>\n",
       "      <td>large@@@</td>\n",
       "    </tr>\n",
       "    <tr>\n",
       "      <th>199</th>\n",
       "      <td>what is the adsorption energy of A-A-B-A-A-B-A...</td>\n",
       "      <td>small@@@</td>\n",
       "    </tr>\n",
       "  </tbody>\n",
       "</table>\n",
       "<p>200 rows × 2 columns</p>\n",
       "</div>"
      ],
      "text/plain": [
       "                                                prompt      completion\n",
       "0    what is the adsorption energy of B-R-B-B-R-R-R...       medium@@@\n",
       "1    what is the adsorption energy of R-A-R-B-R-W-W...        large@@@\n",
       "2    what is the adsorption energy of W-R-W-R-B-A-W...        small@@@\n",
       "3    what is the adsorption energy of W-R-W-B-W-A-A...        large@@@\n",
       "4    what is the adsorption energy of A-A-W-R-R-B-R...        large@@@\n",
       "..                                                 ...             ...\n",
       "195  what is the adsorption energy of R-R-B-B-W-R-W...   very small@@@\n",
       "196  what is the adsorption energy of A-B-A-W-W-B-W...       medium@@@\n",
       "197  what is the adsorption energy of R-W-R-B-B-R-B...   very large@@@\n",
       "198  what is the adsorption energy of R-W-W-A-W-R-B...        large@@@\n",
       "199  what is the adsorption energy of A-A-B-A-A-B-A...        small@@@\n",
       "\n",
       "[200 rows x 2 columns]"
      ]
     },
     "execution_count": 5,
     "metadata": {},
     "output_type": "execute_result"
    }
   ],
   "source": [
    "train_prompts"
   ]
  },
  {
   "cell_type": "code",
   "execution_count": null,
   "metadata": {},
   "outputs": [],
   "source": []
  }
 ],
 "metadata": {
  "kernelspec": {
   "display_name": "Python 3.9.12 ('gpt3')",
   "language": "python",
   "name": "python3"
  },
  "language_info": {
   "codemirror_mode": {
    "name": "ipython",
    "version": 3
   },
   "file_extension": ".py",
   "mimetype": "text/x-python",
   "name": "python",
   "nbconvert_exporter": "python",
   "pygments_lexer": "ipython3",
   "version": "3.9.13"
  },
  "orig_nbformat": 4,
  "vscode": {
   "interpreter": {
    "hash": "9a4fa60962de90e73b5da8d67a44b01d2de04630d82b94b8db1f727a73d31e61"
   }
  }
 },
 "nbformat": 4,
 "nbformat_minor": 2
}
