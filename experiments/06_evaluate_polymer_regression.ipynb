{
 "cells": [
  {
   "cell_type": "markdown",
   "metadata": {},
   "source": [
    "# Analyze the polymer regression learning curves\n"
   ]
  },
  {
   "cell_type": "code",
   "execution_count": 1,
   "metadata": {},
   "outputs": [],
   "source": [
    "import matplotlib.pyplot as plt\n",
    "from fastcore.utils import load_pickle\n",
    "from glob import glob\n",
    "import pandas as pd\n",
    "\n",
    "plt.style.use([\"science\", \"nature\"])\n",
    "colors = [\"#0C5DA5\", \"#00B945\", \"#FF9500\", \"#FF2C00\", \"#845B97\", \"#474747\", \"#9e9e9e\"]\n"
   ]
  },
  {
   "cell_type": "code",
   "execution_count": 2,
   "metadata": {},
   "outputs": [],
   "source": [
    "all_res = glob(\n",
    "    \"/Users/kevinmaikjablonka/git/kjappelbaum/gpt3forchem/experiments/results/polymer_regression/*.pkl\"\n",
    ")\n"
   ]
  },
  {
   "cell_type": "code",
   "execution_count": 3,
   "metadata": {},
   "outputs": [
    {
     "data": {
      "text/plain": [
       "62"
      ]
     },
     "execution_count": 3,
     "metadata": {},
     "output_type": "execute_result"
    }
   ],
   "source": [
    "len(all_res)\n"
   ]
  },
  {
   "cell_type": "code",
   "execution_count": 4,
   "metadata": {},
   "outputs": [],
   "source": [
    "def compile_data(file):\n",
    "    res = load_pickle(file)\n",
    "    model_type = res[\"model_type\"]\n",
    "    train_size = res[\"train_size\"]\n",
    "    prefix = res[\"prefix\"]\n",
    "    r2 = res[\"r2\"]\n",
    "    max_error = res[\"max_error\"]\n",
    "    mse = res[\"mean_squared_error\"]\n",
    "    mae = res[\"mean_absolute_error\"]\n",
    "\n",
    "    return {\n",
    "        \"model_type\": model_type,\n",
    "        \"train_size\": train_size,\n",
    "        \"prefix\": prefix,\n",
    "        \"r2\": r2,\n",
    "        \"max_error\": max_error,\n",
    "        \"mse\": mse,\n",
    "        \"mae\": mae,\n",
    "    }\n"
   ]
  },
  {
   "cell_type": "code",
   "execution_count": 5,
   "metadata": {},
   "outputs": [
    {
     "data": {
      "text/plain": [
       "{'model_type': 'ada',\n",
       " 'train_size': 500,\n",
       " 'prefix': '',\n",
       " 'r2': 0.8973229646961669,\n",
       " 'max_error': 1.5999999999999996,\n",
       " 'mse': 0.9324999999999993,\n",
       " 'mae': 0.7749999999999995}"
      ]
     },
     "execution_count": 5,
     "metadata": {},
     "output_type": "execute_result"
    }
   ],
   "source": [
    "compile_data(all_res[0])\n"
   ]
  },
  {
   "cell_type": "code",
   "execution_count": 6,
   "metadata": {},
   "outputs": [],
   "source": [
    "all_results = [compile_data(run) for run in all_res]\n",
    "all_results = pd.DataFrame(all_results)\n",
    "aggregated = all_results.groupby([\"model_type\", \"prefix\", \"train_size\"]).agg(\n",
    "    [\"mean\", \"std\"]\n",
    ")\n"
   ]
  },
  {
   "cell_type": "code",
   "execution_count": 7,
   "metadata": {},
   "outputs": [
    {
     "data": {
      "image/png": "[encoded data removed]",
      "text/plain": [
       "<Figure size 237.6x180 with 3 Axes>"
      ]
     },
     "metadata": {
      "needs_background": "light"
     },
     "output_type": "display_data"
    }
   ],
   "source": [
    "fig, ax = plt.subplots(1, 3, sharex=\"all\")\n",
    "\n",
    "\n",
    "ada_no_prefix = aggregated.loc[\"ada\"].loc[\"\"]\n",
    "# ada_prefix = aggregated.loc[\"ada\"].loc[\"I'm an expert polymer chemist \"]\n",
    "\n",
    "# davinci_no_prefix = aggregated.loc[\"davinci\"].loc[\"\"]\n",
    "# davinci_prefix = aggregated.loc[\"davinci\"].loc[\"I'm an expert polymer chemist \"]\n",
    "\n",
    "alpha = 0.4\n",
    "\n",
    "for i, metric in enumerate([\"r2\", \"mae\", \"mse\"]):\n",
    "    ax[i].scatter(\n",
    "        ada_no_prefix.index,\n",
    "        ada_no_prefix[metric][\"mean\"],\n",
    "        label=\"ada, w/o prefix\" if i == 0 else None,\n",
    "        c=colors[0],\n",
    "    )\n",
    "    # ax[i].scatter(\n",
    "    #     ada_prefix.index,\n",
    "    #     ada_no_prefix[metric][\"mean\"],\n",
    "    #     label=\"ada, w/ prefix\" if i == 0 else None,\n",
    "    #     c=colors[1],\n",
    "    # )\n",
    "    # ax[i].scatter(\n",
    "    #     davinci_no_prefix.index,\n",
    "    #     davinci_no_prefix[metric][\"mean\"],\n",
    "    #     label=\"davinci, w/o prefix\" if i == 0 else None,\n",
    "    #     c=colors[2],\n",
    "    # )\n",
    "    # ax[i].scatter(\n",
    "    #     davinci_prefix.index,\n",
    "    #     davinci_prefix[metric][\"mean\"],\n",
    "    #     label=\"davinci, w/ prefix\" if i == 0 else None,\n",
    "    #     c=colors[3],\n",
    "    # )\n",
    "\n",
    "    ax[i].fill_between(\n",
    "        ada_no_prefix.index,\n",
    "        ada_no_prefix[metric][\"mean\"] - ada_no_prefix[metric][\"std\"],\n",
    "        ada_no_prefix[metric][\"mean\"] + ada_no_prefix[metric][\"std\"],\n",
    "        color=colors[0],\n",
    "        alpha=alpha,\n",
    "        interpolate=True,\n",
    "    )\n",
    "    # ax[i].fill_between(\n",
    "    #     ada_prefix.index,\n",
    "    #     ada_no_prefix[metric][\"mean\"] - ada_no_prefix[metric][\"std\"],\n",
    "    #     ada_no_prefix[metric][\"mean\"] + ada_no_prefix[metric][\"std\"],\n",
    "    #     color=colors[1],\n",
    "    #     alpha=alpha,\n",
    "    #     interpolate=True,\n",
    "    # )\n",
    "    # ax[i].fill_between(\n",
    "    #     davinci_no_prefix.index,\n",
    "    #     davinci_no_prefix[metric][\"mean\"] - davinci_no_prefix[metric][\"std\"],\n",
    "    #     davinci_no_prefix[metric][\"mean\"] + davinci_no_prefix[metric][\"std\"],\n",
    "    #     color=colors[2],\n",
    "    #     alpha=alpha,\n",
    "    #     interpolate=True,\n",
    "    # )\n",
    "    # ax[i].fill_between(\n",
    "    #     davinci_prefix.index,\n",
    "    #     davinci_prefix[metric][\"mean\"] - davinci_prefix[metric][\"std\"],\n",
    "    #     davinci_prefix[metric][\"mean\"] + davinci_prefix[metric][\"std\"],\n",
    "    #     color=colors[3],\n",
    "    #     alpha=alpha,\n",
    "    #     interpolate=True,\n",
    "    # )\n",
    "\n",
    "\n",
    "ax[0].set_ylabel(r\"$r^2$ score\")\n",
    "ax[1].set_ylabel(r\"mean absolute error\")\n",
    "ax[2].set_ylabel(r\"mean squared error\")\n",
    "\n",
    "# fig.legend(\n",
    "#     bbox_to_anchor=(0.7, 1.1), ncol=2, handletextpad=0, labelspacing=0, columnspacing=0\n",
    "# )\n",
    "ax[0].set_xscale(\"log\")\n",
    "fig.tight_layout()\n",
    "fig.savefig(\"polymer_regression_learning_curve.pdf\", bbox_inches=False)\n"
   ]
  },
  {
   "cell_type": "markdown",
   "metadata": {},
   "source": [
    "### Analyze error cases"
   ]
  },
  {
   "cell_type": "markdown",
   "metadata": {},
   "source": [
    "Philippe highlighted plateaus in our scatter plots (https://github.com/kjappelbaum/gpt3forchem/issues/5). Let's look into those in some more detail. For this, we'll make interactive plots such that we can hoover."
   ]
  },
  {
   "cell_type": "code",
   "execution_count": 18,
   "metadata": {},
   "outputs": [],
   "source": [
    "import holoviews as hv\n",
    "import pandas as pd "
   ]
  },
  {
   "cell_type": "code",
   "execution_count": 17,
   "metadata": {},
   "outputs": [
    {
     "data": {
      "text/plain": [
       "'run_files/2022-08-23-22-28-20_valid_prompts_polymers_regression_2125.jsonl'"
      ]
     },
     "execution_count": 17,
     "metadata": {},
     "output_type": "execute_result"
    }
   ],
   "source": [
    "load_pickle(all_res[1])['valid_filename']"
   ]
  },
  {
   "cell_type": "code",
   "execution_count": 21,
   "metadata": {},
   "outputs": [],
   "source": [
    "test_prompts = pd.read_json('run_files/2022-08-23-22-28-20_valid_prompts_polymers_regression_2125.jsonl', orient=\"records\", lines=True)"
   ]
  },
  {
   "cell_type": "code",
   "execution_count": 14,
   "metadata": {},
   "outputs": [],
   "source": [
    "completions = load_pickle(all_res[1])['completions']"
   ]
  },
  {
   "cell_type": "code",
   "execution_count": 13,
   "metadata": {},
   "outputs": [],
   "source": [
    "from gpt3forchem.api_wrappers import extract_regression_prediction"
   ]
  },
  {
   "cell_type": "code",
   "execution_count": 15,
   "metadata": {},
   "outputs": [],
   "source": [
    "predictions = [\n",
    "    extract_regression_prediction(completions, i)\n",
    "    for i, completion in enumerate(completions[\"choices\"][0])\n",
    "]\n"
   ]
  },
  {
   "cell_type": "code",
   "execution_count": 23,
   "metadata": {},
   "outputs": [],
   "source": [
    "true = [\n",
    "    float(test_prompts.iloc[i][\"completion\"].split(\"@\")[0])\n",
    "    for i in range(len(predictions))\n",
    "]"
   ]
  },
  {
   "cell_type": "code",
   "execution_count": 24,
   "metadata": {},
   "outputs": [
    {
     "data": {
      "text/plain": [
       "<matplotlib.collections.PathCollection at 0x177025940>"
      ]
     },
     "execution_count": 24,
     "metadata": {},
     "output_type": "execute_result"
    },
    {
     "data": {
      "image/png": "[encoded data removed]",
      "text/plain": [
       "<Figure size 237.6x180 with 1 Axes>"
      ]
     },
     "metadata": {
      "needs_background": "light"
     },
     "output_type": "display_data"
    }
   ],
   "source": [
    "plt.scatter(true, predictions)"
   ]
  },
  {
   "cell_type": "code",
   "execution_count": null,
   "metadata": {},
   "outputs": [],
   "source": []
  }
 ],
 "metadata": {
  "kernelspec": {
   "display_name": "Python 3.9.13 ('gpt3')",
   "language": "python",
   "name": "python3"
  },
  "language_info": {
   "codemirror_mode": {
    "name": "ipython",
    "version": 3
   },
   "file_extension": ".py",
   "mimetype": "text/x-python",
   "name": "python",
   "nbconvert_exporter": "python",
   "pygments_lexer": "ipython3",
   "version": "3.9.13"
  },
  "orig_nbformat": 4,
  "vscode": {
   "interpreter": {
    "hash": "9a4fa60962de90e73b5da8d67a44b01d2de04630d82b94b8db1f727a73d31e61"
   }
  }
 },
 "nbformat": 4,
 "nbformat_minor": 2
}
