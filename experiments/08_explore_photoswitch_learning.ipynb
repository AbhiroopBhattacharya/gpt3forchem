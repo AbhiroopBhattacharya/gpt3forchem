{
 "cells": [
  {
   "cell_type": "markdown",
   "metadata": {},
   "source": [
    "# Initial tests for classification on the photoswitch dataset\n"
   ]
  },
  {
   "cell_type": "code",
   "execution_count": 40,
   "metadata": {},
   "outputs": [],
   "source": [
    "%load_ext autoreload\n",
    "\n",
    "%autoreload 2"
   ]
  },
  {
   "cell_type": "code",
   "execution_count": 32,
   "metadata": {},
   "outputs": [],
   "source": [
    "from gpt3forchem.data import get_photoswitch_data\n",
    "from gpt3forchem.input import create_single_property_forward_prompts\n",
    "from sklearn.model_selection import train_test_split\n",
    "from gpt3forchem.api_wrappers import fine_tune, query_gpt3, extract_prediction\n",
    "import time\n",
    "from pycm import ConfusionMatrix\n"
   ]
  },
  {
   "cell_type": "code",
   "execution_count": 2,
   "metadata": {},
   "outputs": [],
   "source": [
    "data = get_photoswitch_data()\n"
   ]
  },
  {
   "cell_type": "code",
   "execution_count": 7,
   "metadata": {},
   "outputs": [],
   "source": [
    "prompts = create_single_property_forward_prompts(\n",
    "    data,\n",
    "    \"wavelength_cat\",\n",
    "    {\"wavelength_cat\": \"transition wavelength\"},\n",
    "    representation_col=\"SMILES\",\n",
    ")\n"
   ]
  },
  {
   "cell_type": "code",
   "execution_count": 8,
   "metadata": {},
   "outputs": [],
   "source": [
    "train_prompts, test_prompts = train_test_split(\n",
    "    prompts, test_size=0.2, random_state=None\n",
    ")\n"
   ]
  },
  {
   "cell_type": "code",
   "execution_count": 10,
   "metadata": {},
   "outputs": [
    {
     "data": {
      "text/html": [
       "<div>\n",
       "<style scoped>\n",
       "    .dataframe tbody tr th:only-of-type {\n",
       "        vertical-align: middle;\n",
       "    }\n",
       "\n",
       "    .dataframe tbody tr th {\n",
       "        vertical-align: top;\n",
       "    }\n",
       "\n",
       "    .dataframe thead th {\n",
       "        text-align: right;\n",
       "    }\n",
       "</style>\n",
       "<table border=\"1\" class=\"dataframe\">\n",
       "  <thead>\n",
       "    <tr style=\"text-align: right;\">\n",
       "      <th></th>\n",
       "      <th>prompt</th>\n",
       "      <th>completion</th>\n",
       "    </tr>\n",
       "  </thead>\n",
       "  <tbody>\n",
       "    <tr>\n",
       "      <th>3</th>\n",
       "      <td>what is the transition wavelength of C[N]1C=C(...</td>\n",
       "      <td>0@@@</td>\n",
       "    </tr>\n",
       "    <tr>\n",
       "      <th>332</th>\n",
       "      <td>what is the transition wavelength of Cc1[nH]c2...</td>\n",
       "      <td>1@@@</td>\n",
       "    </tr>\n",
       "    <tr>\n",
       "      <th>289</th>\n",
       "      <td>what is the transition wavelength of OCCN(CCO)...</td>\n",
       "      <td>1@@@</td>\n",
       "    </tr>\n",
       "    <tr>\n",
       "      <th>363</th>\n",
       "      <td>what is the transition wavelength of COC(C=C4)...</td>\n",
       "      <td>1@@@</td>\n",
       "    </tr>\n",
       "    <tr>\n",
       "      <th>247</th>\n",
       "      <td>what is the transition wavelength of CC(C=C(N(...</td>\n",
       "      <td>2@@@</td>\n",
       "    </tr>\n",
       "    <tr>\n",
       "      <th>...</th>\n",
       "      <td>...</td>\n",
       "      <td>...</td>\n",
       "    </tr>\n",
       "    <tr>\n",
       "      <th>135</th>\n",
       "      <td>what is the transition wavelength of CC1=CC=CC...</td>\n",
       "      <td>0@@@</td>\n",
       "    </tr>\n",
       "    <tr>\n",
       "      <th>50</th>\n",
       "      <td>what is the transition wavelength of O=C(COC1=...</td>\n",
       "      <td>0@@@</td>\n",
       "    </tr>\n",
       "    <tr>\n",
       "      <th>219</th>\n",
       "      <td>what is the transition wavelength of [H]C1=CC(...</td>\n",
       "      <td>3@@@</td>\n",
       "    </tr>\n",
       "    <tr>\n",
       "      <th>281</th>\n",
       "      <td>what is the transition wavelength of CC(O)C1=C...</td>\n",
       "      <td>1@@@</td>\n",
       "    </tr>\n",
       "    <tr>\n",
       "      <th>249</th>\n",
       "      <td>what is the transition wavelength of CC(C=C(N(...</td>\n",
       "      <td>2@@@</td>\n",
       "    </tr>\n",
       "  </tbody>\n",
       "</table>\n",
       "<p>313 rows × 2 columns</p>\n",
       "</div>"
      ],
      "text/plain": [
       "                                                prompt completion\n",
       "3    what is the transition wavelength of C[N]1C=C(...       0@@@\n",
       "332  what is the transition wavelength of Cc1[nH]c2...       1@@@\n",
       "289  what is the transition wavelength of OCCN(CCO)...       1@@@\n",
       "363  what is the transition wavelength of COC(C=C4)...       1@@@\n",
       "247  what is the transition wavelength of CC(C=C(N(...       2@@@\n",
       "..                                                 ...        ...\n",
       "135  what is the transition wavelength of CC1=CC=CC...       0@@@\n",
       "50   what is the transition wavelength of O=C(COC1=...       0@@@\n",
       "219  what is the transition wavelength of [H]C1=CC(...       3@@@\n",
       "281  what is the transition wavelength of CC(O)C1=C...       1@@@\n",
       "249  what is the transition wavelength of CC(C=C(N(...       2@@@\n",
       "\n",
       "[313 rows x 2 columns]"
      ]
     },
     "execution_count": 10,
     "metadata": {},
     "output_type": "execute_result"
    }
   ],
   "source": [
    "train_prompts\n"
   ]
  },
  {
   "cell_type": "code",
   "execution_count": 13,
   "metadata": {},
   "outputs": [],
   "source": [
    "train_size = len(train_prompts)\n",
    "test_size = len(test_prompts)\n",
    "\n",
    "filename_base = time.strftime(\"%Y-%m-%d-%H-%M-%S\", time.localtime())\n",
    "train_filename = f\"run_files/{filename_base}_train_prompts_polymers_{train_size}.jsonl\"\n",
    "valid_filename = f\"run_files/{filename_base}_valid_prompts_polymers_{test_size}.jsonl\"\n",
    "\n",
    "train_prompts.to_json(train_filename, orient=\"records\", lines=True)\n",
    "test_prompts.to_json(valid_filename, orient=\"records\", lines=True)\n"
   ]
  },
  {
   "cell_type": "code",
   "execution_count": 14,
   "metadata": {},
   "outputs": [
    {
     "name": "stderr",
     "output_type": "stream",
     "text": [
      "wandb: Currently logged in as: kjappelbaum. Use `wandb login --relogin` to force relogin\n",
      "wandb: wandb version 0.13.2 is available!  To upgrade, please run:\n",
      "wandb:  $ pip install wandb --upgrade\n",
      "wandb: Tracking run with wandb version 0.13.1\n",
      "wandb: Run data is saved locally in /Users/kevinmaikjablonka/git/kjappelbaum/gpt3forchem/experiments/wandb/run-20220831_112133-ft-ZTxafJhLHFoI8mc5JUlWiiWo\n",
      "wandb: Run `wandb offline` to turn off syncing.\n",
      "wandb: Syncing run ft-ZTxafJhLHFoI8mc5JUlWiiWo\n",
      "wandb: ⭐️ View project at https://wandb.ai/kjappelbaum/GPT-3\n",
      "wandb: 🚀 View run at https://wandb.ai/kjappelbaum/GPT-3/runs/ft-ZTxafJhLHFoI8mc5JUlWiiWo\n",
      "wandb: Waiting for W&B process to finish... (success).\n",
      "wandb:                                                                                \n",
      "wandb: \n",
      "wandb: Run history:\n",
      "wandb:             elapsed_examples ▁▁▁▁▂▂▂▂▂▃▃▃▃▃▃▄▄▄▄▄▅▅▅▅▅▅▆▆▆▆▆▇▇▇▇▇▇███\n",
      "wandb:               elapsed_tokens ▁▁▁▁▂▂▂▂▂▃▃▃▃▃▃▄▄▄▄▄▅▅▅▅▅▅▆▆▆▆▆▇▇▇▇▇▇███\n",
      "wandb:                training_loss █▆▅▄▃▃▄▄▂▃▃▁▄▂▄▃▄▂▂▂▂▂▃▂▂▄▂▂▁▂▁▁▁▁▁▂▁▁▂▁\n",
      "wandb:   training_sequence_accuracy ▁▁▁▁█▁▁▁█▁██▁██▁███▁██▁██▁█████████▁██▁█\n",
      "wandb:      training_token_accuracy ▁▁▁▁█▁▁▁█▁██▁██▁███▁██▁██▁█████████▁██▁█\n",
      "wandb:              validation_loss █▇▃▄▂▂▂▅▁▃▂▁▄▂▃▄▂▁▂▁▁▄▁▂▁▁▁▂▃▁▁▂▁▂▁▁▃▁▁▂\n",
      "wandb: validation_sequence_accuracy ▁▁█████▁█▁███▁▁▁▁██▁████████▁████▁██▁███\n",
      "wandb:    validation_token_accuracy ▁▁█████▁█▁███▁▁▁▁██▁████████▁████▁██▁███\n",
      "wandb: \n",
      "wandb: Run summary:\n",
      "wandb:             elapsed_examples 1254.0\n",
      "wandb:               elapsed_tokens 62854.0\n",
      "wandb:             fine_tuned_model ada:ft-lsmoepfl-2022...\n",
      "wandb:                       status succeeded\n",
      "wandb:                training_loss 0.01121\n",
      "wandb:   training_sequence_accuracy 1.0\n",
      "wandb:      training_token_accuracy 1.0\n",
      "wandb:              validation_loss 0.01725\n",
      "wandb: validation_sequence_accuracy 1.0\n",
      "wandb:    validation_token_accuracy 1.0\n",
      "wandb: \n",
      "wandb: Synced ft-ZTxafJhLHFoI8mc5JUlWiiWo: https://wandb.ai/kjappelbaum/GPT-3/runs/ft-ZTxafJhLHFoI8mc5JUlWiiWo\n",
      "wandb: Synced 6 W&B file(s), 0 media file(s), 5 artifact file(s) and 0 other file(s)\n",
      "wandb: Find logs at: ./wandb/run-20220831_112133-ft-ZTxafJhLHFoI8mc5JUlWiiWo/logs\n"
     ]
    },
    {
     "name": "stdout",
     "output_type": "stream",
     "text": [
      "🎉 wandb sync completed successfully\n"
     ]
    },
    {
     "data": {
      "text/plain": [
       "'ada:ft-lsmoepfl-2022-08-31-09-21-23'"
      ]
     },
     "execution_count": 14,
     "metadata": {},
     "output_type": "execute_result"
    }
   ],
   "source": [
    "fine_tune(train_filename, valid_filename, \"ada\")\n"
   ]
  },
  {
   "cell_type": "code",
   "execution_count": 16,
   "metadata": {},
   "outputs": [],
   "source": [
    "completions = query_gpt3(\"ada:ft-lsmoepfl-2022-08-31-09-21-23\", test_prompts)\n"
   ]
  },
  {
   "cell_type": "code",
   "execution_count": 31,
   "metadata": {},
   "outputs": [],
   "source": [
    "predictions = [\n",
    "    int(extract_prediction(completions, i)) for i in range(len(completions[\"choices\"]))\n",
    "]\n"
   ]
  },
  {
   "cell_type": "code",
   "execution_count": 35,
   "metadata": {},
   "outputs": [],
   "source": [
    "true = [int(e.split(\"@\")[0]) for e in test_prompts['completion']]"
   ]
  },
  {
   "cell_type": "code",
   "execution_count": 38,
   "metadata": {},
   "outputs": [],
   "source": [
    "cm = ConfusionMatrix(true, predictions)"
   ]
  },
  {
   "cell_type": "code",
   "execution_count": 39,
   "metadata": {},
   "outputs": [
    {
     "name": "stdout",
     "output_type": "stream",
     "text": [
      "Predict  0        1        2        3        4        \n",
      "Actual\n",
      "0        21       5        0        0        0        \n",
      "\n",
      "1        4        15       3        0        0        \n",
      "\n",
      "2        0        3        20       0        0        \n",
      "\n",
      "3        0        0        1        4        2        \n",
      "\n",
      "4        0        0        0        1        0        \n",
      "\n",
      "\n",
      "\n",
      "\n",
      "\n",
      "Overall Statistics : \n",
      "\n",
      "95% CI                                                            (0.66525,0.85374)\n",
      "ACC Macro                                                         0.9038\n",
      "ARI                                                               0.50551\n",
      "AUNP                                                              0.83661\n",
      "AUNU                                                              0.76037\n",
      "Bangdiwala B                                                      0.62006\n",
      "Bennett S                                                         0.69937\n",
      "CBA                                                               0.57293\n",
      "CSI                                                               0.2112\n",
      "Chi-Squared                                                       150.22074\n",
      "Chi-Squared DF                                                    16\n",
      "Conditional Entropy                                               0.85585\n",
      "Cramer V                                                          0.68948\n",
      "Cross Entropy                                                     1.96244\n",
      "F1 Macro                                                          0.60159\n",
      "F1 Micro                                                          0.75949\n",
      "FNR Macro                                                         0.4139\n",
      "FNR Micro                                                         0.24051\n",
      "FPR Macro                                                         0.06536\n",
      "FPR Micro                                                         0.06013\n",
      "Gwet AC1                                                          0.70669\n",
      "Hamming Loss                                                      0.24051\n",
      "Joint Entropy                                                     2.80505\n",
      "KL Divergence                                                     0.01324\n",
      "Kappa                                                             0.66615\n",
      "Kappa 95% CI                                                      (0.53532,0.79697)\n",
      "Kappa No Prevalence                                               0.51899\n",
      "Kappa Standard Error                                              0.06675\n",
      "Kappa Unbiased                                                    0.666\n",
      "Krippendorff Alpha                                                0.66811\n",
      "Lambda A                                                          0.67925\n",
      "Lambda B                                                          0.66667\n",
      "Mutual Information                                                1.09619\n",
      "NIR                                                               0.32911\n",
      "Overall ACC                                                       0.75949\n",
      "Overall CEN                                                       0.27251\n",
      "Overall J                                                         (2.44074,0.48815)\n",
      "Overall MCC                                                       0.66674\n",
      "Overall MCEN                                                      0.35907\n",
      "Overall RACC                                                      0.2796\n",
      "Overall RACCU                                                     0.27992\n",
      "P-Value                                                           0.0\n",
      "PPV Macro                                                         0.6251\n",
      "PPV Micro                                                         0.75949\n",
      "Pearson C                                                         0.80954\n",
      "Phi-Squared                                                       1.90153\n",
      "RCI                                                               0.56238\n",
      "RR                                                                15.8\n",
      "Reference Entropy                                                 1.94919\n",
      "Response Entropy                                                  1.95205\n",
      "SOA1(Landis & Koch)                                               Substantial\n",
      "SOA2(Fleiss)                                                      Intermediate to Good\n",
      "SOA3(Altman)                                                      Good\n",
      "SOA4(Cicchetti)                                                   Good\n",
      "SOA5(Cramer)                                                      Strong\n",
      "SOA6(Matthews)                                                    Moderate\n",
      "Scott PI                                                          0.666\n",
      "Standard Error                                                    0.04809\n",
      "TNR Macro                                                         0.93464\n",
      "TNR Micro                                                         0.93987\n",
      "TPR Macro                                                         0.5861\n",
      "TPR Micro                                                         0.75949\n",
      "Zero-one Loss                                                     19\n",
      "\n",
      "Class Statistics :\n",
      "\n",
      "Classes                                                           0             1             2             3             4             \n",
      "ACC(Accuracy)                                                     0.88608       0.81013       0.91139       0.94937       0.96203       \n",
      "AGF(Adjusted F-score)                                             0.86101       0.76754       0.90116       0.76462       0.0           \n",
      "AGM(Adjusted geometric mean)                                      0.88839       0.80501       0.91102       0.86293       0             \n",
      "AM(Difference between automatic and manual classification)        -1            1             1             -2            1             \n",
      "AUC(Area under the ROC curve)                                     0.86611       0.77073       0.89907       0.77877       0.48718       \n",
      "AUCI(AUC value interpretation)                                    Very Good     Good          Very Good     Good          Poor          \n",
      "AUPR(Area under the PR curve)                                     0.82385       0.667         0.85145       0.68571       0.0           \n",
      "BCD(Bray-Curtis dissimilarity)                                    0.00633       0.00633       0.00633       0.01266       0.00633       \n",
      "BM(Informedness or bookmaker informedness)                        0.73222       0.54147       0.79814       0.55754       -0.02564      \n",
      "CEN(Confusion entropy)                                            0.2055        0.39451       0.20831       0.34277       0.3061        \n",
      "DOR(Diagnostic odds ratio)                                        51.45         13.125        86.66667      94.66667      0.0           \n",
      "DP(Discriminant power)                                            0.94354       0.61644       1.06839       1.08953       None          \n",
      "DPI(Discriminant power interpretation)                            Poor          Poor          Limited       Limited       None          \n",
      "ERR(Error rate)                                                   0.11392       0.18987       0.08861       0.05063       0.03797       \n",
      "F0.5(F0.5 score)                                                  0.83333       0.65789       0.84034       0.74074       0.0           \n",
      "F1(F1 score - harmonic mean of precision and sensitivity)         0.82353       0.66667       0.85106       0.66667       0.0           \n",
      "F2(F2 score)                                                      0.81395       0.67568       0.86207       0.60606       0.0           \n",
      "FDR(False discovery rate)                                         0.16          0.34783       0.16667       0.2           1.0           \n",
      "FN(False negative/miss/type 2 error)                              5             7             3             3             1             \n",
      "FNR(Miss rate or false negative rate)                             0.19231       0.31818       0.13043       0.42857       1.0           \n",
      "FOR(False omission rate)                                          0.09259       0.125         0.05455       0.04054       0.01299       \n",
      "FP(False positive/type 1 error/false alarm)                       4             8             4             1             2             \n",
      "FPR(Fall-out or false positive rate)                              0.07547       0.14035       0.07143       0.01389       0.02564       \n",
      "G(G-measure geometric mean of precision and sensitivity)          0.82369       0.66683       0.85126       0.67612       0.0           \n",
      "GI(Gini index)                                                    0.73222       0.54147       0.79814       0.55754       -0.02564      \n",
      "GM(G-mean geometric mean of specificity and sensitivity)          0.86414       0.76559       0.89858       0.75066       0.0           \n",
      "IBA(Index of balanced accuracy)                                   0.65949       0.48189       0.75981       0.32982       0.0           \n",
      "ICSI(Individual classification success index)                     0.64769       0.33399       0.7029        0.37143       -1.0          \n",
      "IS(Information score)                                             1.3518        1.22768       1.51718       3.1745        None          \n",
      "J(Jaccard index)                                                  0.7           0.5           0.74074       0.5           0.0           \n",
      "LS(Lift score)                                                    2.55231       2.3419        2.86232       9.02857       0.0           \n",
      "MCC(Matthews correlation coefficient)                             0.73978       0.53427       0.7884        0.65071       -0.01825      \n",
      "MCCI(Matthews correlation coefficient interpretation)             Strong        Moderate      Strong        Moderate      Negligible    \n",
      "MCEN(Modified confusion entropy)                                  0.2728        0.49427       0.29351       0.41667       0.3061        \n",
      "MK(Markedness)                                                    0.74741       0.52717       0.77879       0.75946       -0.01299      \n",
      "N(Condition negative)                                             53            57            56            72            78            \n",
      "NLR(Negative likelihood ratio)                                    0.20801       0.37013       0.14047       0.43461       1.02632       \n",
      "NLRI(Negative likelihood ratio interpretation)                    Poor          Poor          Fair          Poor          Negligible    \n",
      "NPV(Negative predictive value)                                    0.90741       0.875         0.94545       0.95946       0.98701       \n",
      "OC(Overlap coefficient)                                           0.84          0.68182       0.86957       0.8           0.0           \n",
      "OOC(Otsuka-Ochiai coefficient)                                    0.82369       0.66683       0.85126       0.67612       0.0           \n",
      "OP(Optimized precision)                                           0.81863       0.69476       0.87858       0.68313       -0.03797      \n",
      "P(Condition positive or support)                                  26            22            23            7             1             \n",
      "PLR(Positive likelihood ratio)                                    10.70192      4.85795       12.17391      41.14286      0.0           \n",
      "PLRI(Positive likelihood ratio interpretation)                    Good          Poor          Good          Good          Negligible    \n",
      "POP(Population)                                                   79            79            79            79            79            \n",
      "PPV(Precision or positive predictive value)                       0.84          0.65217       0.83333       0.8           0.0           \n",
      "PRE(Prevalence)                                                   0.32911       0.27848       0.29114       0.08861       0.01266       \n",
      "Q(Yule Q - coefficient of colligation)                            0.96187       0.85841       0.97719       0.97909       -1.0          \n",
      "QI(Yule Q interpretation)                                         Strong        Strong        Strong        Strong        Negligible    \n",
      "RACC(Random accuracy)                                             0.10415       0.08108       0.08845       0.00561       0.00032       \n",
      "RACCU(Random accuracy unbiased)                                   0.10419       0.08112       0.08849       0.00577       0.00036       \n",
      "TN(True negative/correct rejection)                               49            49            52            71            76            \n",
      "TNR(Specificity or true negative rate)                            0.92453       0.85965       0.92857       0.98611       0.97436       \n",
      "TON(Test outcome negative)                                        54            56            55            74            77            \n",
      "TOP(Test outcome positive)                                        25            23            24            5             2             \n",
      "TP(True positive/hit)                                             21            15            20            4             0             \n",
      "TPR(Sensitivity, recall, hit rate, or true positive rate)         0.80769       0.68182       0.86957       0.57143       0.0           \n",
      "Y(Youden index)                                                   0.73222       0.54147       0.79814       0.55754       -0.02564      \n",
      "dInd(Distance index)                                              0.20659       0.34776       0.14871       0.4288        1.00033       \n",
      "sInd(Similarity index)                                            0.85392       0.7541        0.89484       0.6968        0.29266       \n",
      "\n"
     ]
    }
   ],
   "source": [
    "print(cm)"
   ]
  },
  {
   "cell_type": "code",
   "execution_count": null,
   "metadata": {},
   "outputs": [],
   "source": []
  }
 ],
 "metadata": {
  "kernelspec": {
   "display_name": "Python 3.9.13 ('gpt3')",
   "language": "python",
   "name": "python3"
  },
  "language_info": {
   "codemirror_mode": {
    "name": "ipython",
    "version": 3
   },
   "file_extension": ".py",
   "mimetype": "text/x-python",
   "name": "python",
   "nbconvert_exporter": "python",
   "pygments_lexer": "ipython3",
   "version": "3.9.13"
  },
  "orig_nbformat": 4,
  "vscode": {
   "interpreter": {
    "hash": "9a4fa60962de90e73b5da8d67a44b01d2de04630d82b94b8db1f727a73d31e61"
   }
  }
 },
 "nbformat": 4,
 "nbformat_minor": 2
}
