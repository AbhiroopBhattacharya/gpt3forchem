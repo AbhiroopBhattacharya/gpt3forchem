{
 "cells": [
  {
   "cell_type": "markdown",
   "metadata": {},
   "source": [
    "# Try inverse design of photoswitches"
   ]
  },
  {
   "cell_type": "markdown",
   "metadata": {},
   "source": [
    "Let's still use the five bins we had for the forward task and then see if we ca generate valid SMILES."
   ]
  },
  {
   "cell_type": "code",
   "execution_count": 1,
   "metadata": {},
   "outputs": [
    {
     "name": "stderr",
     "output_type": "stream",
     "text": [
      "/Users/kevinmaikjablonka/miniconda3/envs/gpt3/lib/python3.9/site-packages/gpflow/experimental/utils.py:42: UserWarning: You're calling gpflow.experimental.check_shapes.decorator.check_shapes which is considered *experimental*. Expect: breaking changes, poor documentation, and bugs.\n",
      "  warn(\n",
      "/Users/kevinmaikjablonka/miniconda3/envs/gpt3/lib/python3.9/site-packages/gpflow/experimental/utils.py:42: UserWarning: You're calling gpflow.experimental.check_shapes.inheritance.inherit_check_shapes which is considered *experimental*. Expect: breaking changes, poor documentation, and bugs.\n",
      "  warn(\n",
      "/Users/kevinmaikjablonka/miniconda3/envs/gpt3/lib/python3.9/site-packages/tqdm/auto.py:22: TqdmWarning: IProgress not found. Please update jupyter and ipywidgets. See https://ipywidgets.readthedocs.io/en/stable/user_install.html\n",
      "  from .autonotebook import tqdm as notebook_tqdm\n"
     ]
    }
   ],
   "source": [
    "from gpt3forchem.data import get_photoswitch_data\n",
    "from gpt3forchem.input import create_single_property_forward_prompts\n",
    "from sklearn.model_selection import train_test_split\n",
    "from gpt3forchem.api_wrappers import fine_tune, query_gpt3, extract_prediction, ensemble_fine_tune, multiple_query_gpt3\n",
    "import time\n",
    "from pycm import ConfusionMatrix\n",
    "from gpt3forchem.baselines import GPRBaseline, compute_fragprints\n",
    "import pandas as pd\n",
    "import numpy as np\n",
    "\n",
    "\n",
    "import matplotlib.pyplot as plt\n",
    "\n",
    "plt.style.use([\"science\", \"nature\"])\n"
   ]
  },
  {
   "cell_type": "code",
   "execution_count": 2,
   "metadata": {},
   "outputs": [],
   "source": [
    "data = get_photoswitch_data()"
   ]
  },
  {
   "cell_type": "markdown",
   "metadata": {},
   "source": [
    "We will also need to get the composition of the molecule to avoid that it doesn't only remember the wavelength"
   ]
  },
  {
   "cell_type": "code",
   "execution_count": 3,
   "metadata": {},
   "outputs": [],
   "source": [
    "from rdkit import Chem\n",
    "mol = Chem.AddHs(Chem.MolFromSmiles('C(=O)O'))\n",
    "from collections import Counter\n",
    "c = Counter(atom.GetSymbol() for atom in mol.GetAtoms())"
   ]
  },
  {
   "cell_type": "code",
   "execution_count": 4,
   "metadata": {},
   "outputs": [
    {
     "data": {
      "text/plain": [
       "0                           C[N]1N=NC(=N1)N=NC2=CC=CC=C2\n",
       "1                           C[N]1C=NC(=N1)N=NC2=CC=CC=C2\n",
       "2                           C[N]1C=CC(=N1)N=NC2=CC=CC=C2\n",
       "3                        C[N]1C=C(C)C(=N1)N=NC2=CC=CC=C2\n",
       "4                           C[N]1C=C(C=N1)N=NC2=CC=CC=C2\n",
       "                             ...                        \n",
       "387    OC%38=C%39N=CC=CC%39=C(/N=N/C%40=NC%41=CC(C)=C...\n",
       "388    OC%42=C%43N=CC=CC%43=C(/N=N/C%44=NC%45=CC=CC=C...\n",
       "389    N#CC1C(SC(/N=N/C2=NC(C=CC([N+]([O-])=O)=C3)=C3...\n",
       "390    N#Cc5c(c6ccc(Cl)cc6)c(/N=N/C7=NC(C=CC([N+]([O-...\n",
       "391    N#CC9C(SC(/N=N/C%10=NC(C=CC([N+]([O-])=O)=C%11...\n",
       "Name: SMILES, Length: 392, dtype: object"
      ]
     },
     "execution_count": 4,
     "metadata": {},
     "output_type": "execute_result"
    }
   ],
   "source": [
    "data['SMILES']"
   ]
  },
  {
   "cell_type": "markdown",
   "metadata": {},
   "source": [
    "Perhaps the best case for \"inverse\" design is to use the $\\pi$-$\\pi^*$ transition and the $n$-$\\pi^*$ transition. \n",
    "We simply will train on both and see if it can then answer a corresponding prompt."
   ]
  },
  {
   "cell_type": "code",
   "execution_count": 5,
   "metadata": {},
   "outputs": [],
   "source": [
    "PROMPT_TEMPLATE_w_n_pistar = \"What is a molecule with a pi-pi* transition wavelength of {} nm and n-pi* transition wavelength of {} nm###\""
   ]
  },
  {
   "cell_type": "code",
   "execution_count": 6,
   "metadata": {},
   "outputs": [],
   "source": [
    "PROMPT_TEMPLATE = \"What is a molecule with a pi-pi* transition wavelength of {} nm###\""
   ]
  },
  {
   "cell_type": "code",
   "execution_count": 7,
   "metadata": {},
   "outputs": [],
   "source": [
    "COMPLETION_TEMPLATE = \"{}@@@\""
   ]
  },
  {
   "cell_type": "code",
   "execution_count": 8,
   "metadata": {},
   "outputs": [],
   "source": [
    "prompts =[]\n",
    "completions = []\n",
    "\n",
    "for i, row in data.iterrows():\n",
    "    if np.isnan(row['E isomer n-pi* wavelength in nm']):\n",
    "        prompt = PROMPT_TEMPLATE.format(row['E isomer pi-pi* wavelength in nm'])\n",
    "    else:\n",
    "        prompt = PROMPT_TEMPLATE_w_n_pistar.format(row['E isomer pi-pi* wavelength in nm'], row['E isomer n-pi* wavelength in nm'])\n",
    "    \n",
    "    completion = COMPLETION_TEMPLATE.format(row['SMILES'])\n",
    "    prompts.append(prompt)\n",
    "    completions.append(completion)"
   ]
  },
  {
   "cell_type": "code",
   "execution_count": 9,
   "metadata": {},
   "outputs": [],
   "source": [
    "prompts = pd.DataFrame({'prompt': prompts, 'completion': completions})"
   ]
  },
  {
   "cell_type": "code",
   "execution_count": 14,
   "metadata": {},
   "outputs": [],
   "source": [
    "train_prompts, test_prompts = train_test_split(prompts, test_size=0.05, random_state=42)"
   ]
  },
  {
   "cell_type": "code",
   "execution_count": 15,
   "metadata": {},
   "outputs": [],
   "source": [
    "train_size = len(train_prompts)\n",
    "\n",
    "filename_base = time.strftime(\"%Y-%m-%d-%H-%M-%S\", time.localtime())\n",
    "train_filename = (\n",
    "    f\"run_files/{filename_base}_train_prompts_photoswitch_inverse_{train_size}.jsonl\"\n",
    ")\n",
    "test_filename = (\n",
    "    f\"run_files/{filename_base}_test_prompts_photoswitch_inverse_{train_size}.jsonl\"\n",
    ")\n",
    "\n",
    "\n",
    "\n",
    "train_prompts.to_json(train_filename, orient=\"records\", lines=True)\n",
    "test_prompts.to_json(test_filename, orient=\"records\", lines=True)"
   ]
  },
  {
   "cell_type": "code",
   "execution_count": 16,
   "metadata": {},
   "outputs": [
    {
     "name": "stdout",
     "output_type": "stream",
     "text": [
      "Uploaded file from run_files/2022-09-01-22-40-59_train_prompts_photoswitch_inverse_372.jsonl: file-14E8ycJFulEto46gTf4pP61K\n",
      "Uploaded file from run_files/2022-09-01-22-40-59_test_prompts_photoswitch_inverse_372.jsonl: file-ac3IcG3mrSZAOO2V7cHsJLC2\n",
      "Created fine-tune: ft-ZH0U9kB3bF3ktLgCbn6xI51Y\n",
      "Streaming events until fine-tuning is complete...\n",
      "\n",
      "(Ctrl-C will interrupt the stream, but not cancel the fine-tune)\n",
      "[2022-09-01 22:41:15] Created fine-tune: ft-ZH0U9kB3bF3ktLgCbn6xI51Y\n",
      "\n",
      "Stream interrupted (client disconnected).\n",
      "To resume the stream, run:\n",
      "\n",
      "  openai api fine_tunes.follow -i ft-ZH0U9kB3bF3ktLgCbn6xI51Y\n",
      "\n",
      " \n",
      "Upload progress:   0%|          | 0.00/57.8k [00:00<?, ?it/s]\n",
      "Upload progress: 100%|██████████| 57.8k/57.8k [00:00<00:00, 29.1Mit/s]\n",
      "\n",
      "Upload progress:   0%|          | 0.00/3.13k [00:00<?, ?it/s]\n",
      "Upload progress: 100%|██████████| 3.13k/3.13k [00:00<00:00, 4.66Mit/s]\n",
      "\n"
     ]
    }
   ],
   "source": [
    "fine_tune(train_filename, valid_file=test_filename)"
   ]
  },
  {
   "cell_type": "code",
   "execution_count": 32,
   "metadata": {},
   "outputs": [],
   "source": [
    "completions_1 = query_gpt3('ada:ft-lsmoepfl-2022-09-01-21-01-50', test_prompts, max_tokens=80, temperature=1.0)"
   ]
  },
  {
   "cell_type": "code",
   "execution_count": 42,
   "metadata": {},
   "outputs": [
    {
     "data": {
      "text/plain": [
       "'What is a molecule pi-pi* transition wavelength of 321.0 nm and n-pi* transition wavelength of 424.0 nm###'"
      ]
     },
     "execution_count": 42,
     "metadata": {},
     "output_type": "execute_result"
    }
   ],
   "source": [
    "test_prompts.iloc[0]['prompt']"
   ]
  },
  {
   "cell_type": "code",
   "execution_count": 22,
   "metadata": {},
   "outputs": [],
   "source": [
    "completions_argmax = completions"
   ]
  },
  {
   "cell_type": "code",
   "execution_count": 70,
   "metadata": {},
   "outputs": [
    {
     "data": {
      "text/html": [
       "<div>\n",
       "<style scoped>\n",
       "    .dataframe tbody tr th:only-of-type {\n",
       "        vertical-align: middle;\n",
       "    }\n",
       "\n",
       "    .dataframe tbody tr th {\n",
       "        vertical-align: top;\n",
       "    }\n",
       "\n",
       "    .dataframe thead th {\n",
       "        text-align: right;\n",
       "    }\n",
       "</style>\n",
       "<table border=\"1\" class=\"dataframe\">\n",
       "  <thead>\n",
       "    <tr style=\"text-align: right;\">\n",
       "      <th></th>\n",
       "      <th>index</th>\n",
       "      <th>SMILES</th>\n",
       "      <th>rate of thermal isomerisation from Z-E in s-1</th>\n",
       "      <th>Solvent used for thermal isomerisation rates</th>\n",
       "      <th>Z PhotoStationaryState</th>\n",
       "      <th>E PhotoStationaryState</th>\n",
       "      <th>E isomer pi-pi* wavelength in nm</th>\n",
       "      <th>Extinction</th>\n",
       "      <th>E isomer n-pi* wavelength in nm</th>\n",
       "      <th>Extinction coefficient in M-1 cm-1</th>\n",
       "      <th>...</th>\n",
       "      <th>CAM-B3LYP/6-31G** DFT E isomer n-pi* wavelength in nm</th>\n",
       "      <th>CAM-B3LYP/6-31G** DFT Z isomer pi-pi* wavelength in nm</th>\n",
       "      <th>CAM-B3LYP/6-31G** DFT Z isomer n-pi* wavelength in nm</th>\n",
       "      <th>BHLYP/6-31G* DFT E isomer pi-pi* wavelength in nm</th>\n",
       "      <th>BHLYP/6-31G* DFT E isomer n-pi* wavelength in nm</th>\n",
       "      <th>BHLYP/6-31G* Z isomer pi-pi* wavelength in nm</th>\n",
       "      <th>BHLYP/6-31G* DFT Z isomer n-pi* wavelength in nm</th>\n",
       "      <th>name</th>\n",
       "      <th>selfies</th>\n",
       "      <th>wavelength_cat</th>\n",
       "    </tr>\n",
       "  </thead>\n",
       "  <tbody>\n",
       "  </tbody>\n",
       "</table>\n",
       "<p>0 rows × 37 columns</p>\n",
       "</div>"
      ],
      "text/plain": [
       "Empty DataFrame\n",
       "Columns: [index, SMILES, rate of thermal isomerisation from Z-E in s-1, Solvent used for thermal isomerisation rates, Z PhotoStationaryState, E PhotoStationaryState, E isomer pi-pi* wavelength in nm, Extinction, E isomer n-pi* wavelength in nm, Extinction coefficient in M-1 cm-1, Z isomer pi-pi* wavelength in nm, Extinction.1, Z isomer n-pi* wavelength in nm, Extinction coefficient in M-1 cm-1.1, Wiberg index, E-Z irradiation wavelength in nm, Z-E irradiation wavelength, Irradiation solvent, PBE0 DFT E isomer pi-pi* wavelength in nm, PBE0 DFT E isomer n-pi* wavelength in nm, PBE0 DFT Z isomer pi-pi* wavelength in nm, PBE0 DFT Z isomer n-pi* wavelength in nm, TPSSh/6-31G** DFT E isomer pi-pi* wavelength in nm, TPSSh/6-31G** DFT E isomer n-pi* wavelength in nm, TPSSh/6-31G** DFT Z isomer pi-pi* wavelength in nm, TPSSh/6-31G** DFT Z isomer n-pi* wavelength in nm, CAM-B3LYP/6-31G** DFT E isomer pi-pi* wavelength in nm, CAM-B3LYP/6-31G** DFT E isomer n-pi* wavelength in nm, CAM-B3LYP/6-31G** DFT Z isomer pi-pi* wavelength in nm, CAM-B3LYP/6-31G** DFT Z isomer n-pi* wavelength in nm, BHLYP/6-31G* DFT E isomer pi-pi* wavelength in nm, BHLYP/6-31G* DFT E isomer n-pi* wavelength in nm, BHLYP/6-31G* Z isomer pi-pi* wavelength in nm, BHLYP/6-31G* DFT Z isomer n-pi* wavelength in nm, name, selfies, wavelength_cat]\n",
       "Index: []\n",
       "\n",
       "[0 rows x 37 columns]"
      ]
     },
     "execution_count": 70,
     "metadata": {},
     "output_type": "execute_result"
    }
   ],
   "source": [
    "data[data['SMILES'] == 'C1=CC=C(/N=N/C2=CC=C(NCCC#N)C=C2)C=C1']"
   ]
  },
  {
   "cell_type": "code",
   "execution_count": 33,
   "metadata": {},
   "outputs": [
    {
     "data": {
      "text/plain": [
       "{'choices': [<OpenAIObject at 0x2a1eb1180> JSON: {\n",
       "    \"finish_reason\": \"length\",\n",
       "    \"index\": 0,\n",
       "    \"logprobs\": null,\n",
       "    \"text\": \"CC1=C(/N=N/C2=CC(F)=CC=C2)C(C)=NO1@@@@@@@@@@@@@@@@@@@@@@@@@@@@@@@@@@@@@@@@@@@@@@@@@@@@@@@@@@@@@@@@@@@@@@@@@@@@@@\"\n",
       "  },\n",
       "  <OpenAIObject at 0x2a1ea7d60> JSON: {\n",
       "    \"finish_reason\": \"length\",\n",
       "    \"index\": 1,\n",
       "    \"logprobs\": null,\n",
       "    \"text\": \"[H]C6=CC=C(N=C(N=NC7=CC=CC=C7S8S9)T8)C8=C6@@@N#N=C7@@@N#C[H]C=C8@@@C8@@@C@@@C9@@@C@@@C@@@C@@@\"\n",
       "  },\n",
       "  <OpenAIObject at 0x2a1ea7a90> JSON: {\n",
       "    \"finish_reason\": \"length\",\n",
       "    \"index\": 2,\n",
       "    \"logprobs\": null,\n",
       "    \"text\": \"CCN(CCC#N)C(C=C%22)=CC=C%22/N=N/C%23=CC(OC)=CC=C%23@@@@@@@@@@@@@@@@@@@@@@@@@@@@@@@@@@@@@@@@@@@@@@@@@@@@@@@@@@@@@@@\"\n",
       "  },\n",
       "  <OpenAIObject at 0x2a1ea75e0> JSON: {\n",
       "    \"finish_reason\": \"length\",\n",
       "    \"index\": 3,\n",
       "    \"logprobs\": null,\n",
       "    \"text\": \"FC1=CC=CC(F)=C1/N=N/C2=CC=CC=C2@@@@@@@@@@@@@@@@@@@@@@@@@@@@@@@@@@@@@@@@@@@@@@@@@@@@@@@@@@@@@@@@@@@@@@@@@@@@@@@@@@@@@\"\n",
       "  },\n",
       "  <OpenAIObject at 0x2a1e42f40> JSON: {\n",
       "    \"finish_reason\": \"length\",\n",
       "    \"index\": 4,\n",
       "    \"logprobs\": null,\n",
       "    \"text\": \"CC(C=C(N(CCC#N)CCO)C=C1)=C1/N=N/C2=CC=CC=C2[N+]([O-])=O@@@@@@@@@@@@@@@@@@@@@@@@@@@@@@@@@@@@@@@@@@@@@@@@@@@\"\n",
       "  },\n",
       "  <OpenAIObject at 0x2a1e8dcc0> JSON: {\n",
       "    \"finish_reason\": \"length\",\n",
       "    \"index\": 5,\n",
       "    \"logprobs\": null,\n",
       "    \"text\": \"BrC1=CC(/N=N/C2=CC=C(NCCC#N)C=C2)=CC=C1@@@N0C=CC(C)=C1@@@N0C=C(Cl)C=C1@@@OCC@@@N0O@@@C(C=C1)=O@@@O\"\n",
       "  },\n",
       "  <OpenAIObject at 0x2a1e8d130> JSON: {\n",
       "    \"finish_reason\": \"length\",\n",
       "    \"index\": 6,\n",
       "    \"logprobs\": null,\n",
       "    \"text\": \"CC1=C(C(C)=NN1)/N=N/C2=CC(C(F)(F)F)=CC=C2@@@@@@@@@@@@@@@@@@@@@@@@@@@@@@@@@@@@@@@@@@@@@@@@@@@@@@@@@@@@@@@@@@@@@@@\"\n",
       "  },\n",
       "  <OpenAIObject at 0x2a1e8d040> JSON: {\n",
       "    \"finish_reason\": \"length\",\n",
       "    \"index\": 7,\n",
       "    \"logprobs\": null,\n",
       "    \"text\": \"CC(N(CCC#N)CCC#N)=CC=C/N=N/C%11=CC=C(C(F)(F)F)C=C%11@@@@@@CC=C([N+]([O-])=O)C=C%11@@@@@@@@@@@@@@@@@@@@@@@@\"\n",
       "  },\n",
       "  <OpenAIObject at 0x2a1e47220> JSON: {\n",
       "    \"finish_reason\": \"length\",\n",
       "    \"index\": 8,\n",
       "    \"logprobs\": null,\n",
       "    \"text\": \"CC1=NOC(C)=C1/N=N/C2=CC=C(Cl)C=C2@@@@@@@@@@@@@@@@@@@@@@@@@@@@@@@@@@@@@@@@@@@@@@@@@@@@@@@@@@@@@@@@@@@@@@@@@@@@@@\"\n",
       "  },\n",
       "  <OpenAIObject at 0x2a1e47090> JSON: {\n",
       "    \"finish_reason\": \"length\",\n",
       "    \"index\": 9,\n",
       "    \"logprobs\": null,\n",
       "    \"text\": \"FC1=CC=CC=C1/N=N/C2=CC=CC=C2@@@@@@@@@@@@@@@@@@@@@@@@@@@@@@@@@@@@@@@@@@@@@@@@@@@@@@@@@@@@@@@@@@@@@@@@@@@@@@@\\n\\n@@@@@\"\n",
       "  },\n",
       "  <OpenAIObject at 0x2a1e8e360> JSON: {\n",
       "    \"finish_reason\": \"length\",\n",
       "    \"index\": 10,\n",
       "    \"logprobs\": null,\n",
       "    \"text\": \"CC1=CC=C(/N=N/C2=CC=C(C)C=C2)C=C1@@@@@@@@@@@@@@@@@@@@@@@@@@@@@@@@@@@@@@@@@@@@@@@@@@@@@@@@@@@@@@@@@@@@@@@@@@@\"\n",
       "  },\n",
       "  <OpenAIObject at 0x2a1e8e450> JSON: {\n",
       "    \"finish_reason\": \"length\",\n",
       "    \"index\": 11,\n",
       "    \"logprobs\": null,\n",
       "    \"text\": \"CC(C=C1)=CC=C1/N=N/C2=CC=C(C#N)C=C2@@@@@@[N+]([O-])=O@@@@@@@@@@@@@@@@@@@@@@@@@@@@@@@@@@@@@@@@@@@@@@@@@@@@@\"\n",
       "  },\n",
       "  <OpenAIObject at 0x2a1e8e540> JSON: {\n",
       "    \"finish_reason\": \"length\",\n",
       "    \"index\": 12,\n",
       "    \"logprobs\": null,\n",
       "    \"text\": \"[H]C%11=CC([N+]([O-])=O)=CC(C#N)=C%11/N=N/C%12=CC([H])=C(C=C%12OC)N(CC)CC@@@@@@@@@@@@@@@@@@@@@@@@@@@@@@@C%13\"\n",
       "  },\n",
       "  <OpenAIObject at 0x2a1e8e5e0> JSON: {\n",
       "    \"finish_reason\": \"length\",\n",
       "    \"index\": 13,\n",
       "    \"logprobs\": null,\n",
       "    \"text\": \"CC(C=C(N(CCC#N)CCC#N)C=C1)=C1/N=N/C2=CC(K)=CC=C2Cl@@@@@@@@@@@@@@@@@@@@@@@@@@@@@@@@@@@@@@@@@@@@@@@@@@@@@@@@@@@@\"\n",
       "  },\n",
       "  <OpenAIObject at 0x2a1e8e680> JSON: {\n",
       "    \"finish_reason\": \"length\",\n",
       "    \"index\": 14,\n",
       "    \"logprobs\": null,\n",
       "    \"text\": \"R`C(C=C1)=CC=C1N=NC2=NNC=C2@@@@@@N#O=OC@@@@@@N#S@@@@@CC=CC=C2@@@@@@C9[N+]([O-])=O@@@@@@C9@@@@@CC@@@@@@C\"\n",
       "  },\n",
       "  <OpenAIObject at 0x2a1e8e950> JSON: {\n",
       "    \"finish_reason\": \"length\",\n",
       "    \"index\": 15,\n",
       "    \"logprobs\": null,\n",
       "    \"text\": \"NC(C=C1)=CC=C1N=NC2=NNC=C2@@@@@@N#N#N##C=C1.#N#C=C1@@@@@@C#N#C=CC=C1@@@@@@C#N#C=C1@@@@@@C#N#C=C1\"\n",
       "  },\n",
       "  <OpenAIObject at 0x2a1e8ecc0> JSON: {\n",
       "    \"finish_reason\": \"length\",\n",
       "    \"index\": 16,\n",
       "    \"logprobs\": null,\n",
       "    \"text\": \"Clc1nnc(n1)N=Nc1c([nH]c2c1cccc2)c1ccccc1@@@@@@Nc1ccnnc1@@@@@@Clc1ccccc1@@@@@@@@@@@@@@@@@@@@@@@@@@@@@@@@@@@@@@\"\n",
       "  },\n",
       "  <OpenAIObject at 0x2a1e8ee00> JSON: {\n",
       "    \"finish_reason\": \"length\",\n",
       "    \"index\": 17,\n",
       "    \"logprobs\": null,\n",
       "    \"text\": \"1N#CC([N+]([O-])=O)=CC(C#N)=C1/N=N/C2=CC([H])=C(C=C2[H])N(CC)CC@@@@@@C1=C2@@@C=C(C=C1)N(CC)CC@@@@@@C\"\n",
       "  },\n",
       "  <OpenAIObject at 0x2a1e8eea0> JSON: {\n",
       "    \"finish_reason\": \"length\",\n",
       "    \"index\": 18,\n",
       "    \"logprobs\": null,\n",
       "    \"text\": \"NC1=CC=C(/N=N/C2=CC=C(NCCC#N)C=C2)C=C1@@@N@@@N@@@C@C(C#N)=C1@@@C@@@@@@C#N@@@CC@@@C#N@@@C@C@@@@@@C#\"\n",
       "  },\n",
       "  <OpenAIObject at 0x2a1e8ef40> JSON: {\n",
       "    \"finish_reason\": \"length\",\n",
       "    \"index\": 19,\n",
       "    \"logprobs\": null,\n",
       "    \"text\": \"CSc1nnc(s1)N=Nc1c(C)n(c2c1cccc2)C@@@C(C=C1)N(cc1)CC@@@C@@@C@@@C@@@C@@@C@@@C@@@C@@@C@@@C@@@C@@@C@@@C\"\n",
       "  }]}"
      ]
     },
     "execution_count": 33,
     "metadata": {},
     "output_type": "execute_result"
    }
   ],
   "source": [
    "completions_1"
   ]
  },
  {
   "cell_type": "markdown",
   "metadata": {},
   "source": [
    "## Let's train models that can predict the wavelengths."
   ]
  },
  {
   "cell_type": "code",
   "execution_count": 43,
   "metadata": {},
   "outputs": [],
   "source": [
    "fragprints = compute_fragprints(data['SMILES'].values)"
   ]
  },
  {
   "cell_type": "code",
   "execution_count": 45,
   "metadata": {},
   "outputs": [
    {
     "name": "stderr",
     "output_type": "stream",
     "text": [
      "/Users/kevinmaikjablonka/miniconda3/envs/gpt3/lib/python3.9/site-packages/gpflow/experimental/utils.py:42: UserWarning: You're calling gpflow.experimental.check_shapes.checker.ShapeChecker.__init__ which is considered *experimental*. Expect: breaking changes, poor documentation, and bugs.\n",
      "  warn(\n",
      "2022-09-02 07:56:44.010873: W tensorflow/core/platform/profile_utils/cpu_utils.cc:128] Failed to get CPU frequency: 0 Hz\n"
     ]
    },
    {
     "name": "stdout",
     "output_type": "stream",
     "text": [
      "╒═════════════════════════╤═══════════╤══════════════════╤═════════╤═════════════╤═════════╤═════════╤══════════╕\n",
      "│ name                    │ class     │ transform        │ prior   │ trainable   │ shape   │ dtype   │    value │\n",
      "╞═════════════════════════╪═══════════╪══════════════════╪═════════╪═════════════╪═════════╪═════════╪══════════╡\n",
      "│ GPR.mean_function.c     │ Parameter │ Identity         │         │ True        │ ()      │ float64 │ -0.03669 │\n",
      "├─────────────────────────┼───────────┼──────────────────┼─────────┼─────────────┼─────────┼─────────┼──────────┤\n",
      "│ GPR.kernel.variance     │ Parameter │ Softplus         │         │ True        │ ()      │ float64 │ 39.794   │\n",
      "├─────────────────────────┼───────────┼──────────────────┼─────────┼─────────────┼─────────┼─────────┼──────────┤\n",
      "│ GPR.likelihood.variance │ Parameter │ Softplus + Shift │         │ True        │ ()      │ float64 │  0.02808 │\n",
      "╘═════════════════════════╧═══════════╧══════════════════╧═════════╧═════════════╧═════════╧═════════╧══════════╛\n"
     ]
    }
   ],
   "source": [
    "pi_pi_star_model = GPRBaseline()\n",
    "pi_pi_star_model.fit(fragprints, data['E isomer pi-pi* wavelength in nm'].values)"
   ]
  },
  {
   "cell_type": "code",
   "execution_count": 52,
   "metadata": {},
   "outputs": [
    {
     "name": "stdout",
     "output_type": "stream",
     "text": [
      "╒═════════════════════════╤═══════════╤══════════════════╤═════════╤═════════════╤═════════╤═════════╤══════════╕\n",
      "│ name                    │ class     │ transform        │ prior   │ trainable   │ shape   │ dtype   │    value │\n",
      "╞═════════════════════════╪═══════════╪══════════════════╪═════════╪═════════════╪═════════╪═════════╪══════════╡\n",
      "│ GPR.mean_function.c     │ Parameter │ Identity         │         │ True        │ ()      │ float64 │  1.87032 │\n",
      "├─────────────────────────┼───────────┼──────────────────┼─────────┼─────────────┼─────────┼─────────┼──────────┤\n",
      "│ GPR.kernel.variance     │ Parameter │ Softplus         │         │ True        │ ()      │ float64 │ 35.2361  │\n",
      "├─────────────────────────┼───────────┼──────────────────┼─────────┼─────────────┼─────────┼─────────┼──────────┤\n",
      "│ GPR.likelihood.variance │ Parameter │ Softplus + Shift │         │ True        │ ()      │ float64 │  0.11178 │\n",
      "╘═════════════════════════╧═══════════╧══════════════════╧═════════╧═════════════╧═════════╧═════════╧══════════╛\n"
     ]
    }
   ],
   "source": [
    "n_pi_star_model = GPRBaseline()\n",
    "n_pi_star_model.fit(fragprints[data[~data['E isomer n-pi* wavelength in nm'].isna()].index.values], data['E isomer n-pi* wavelength in nm'].values[data[~data['E isomer n-pi* wavelength in nm'].isna()].index.values])"
   ]
  },
  {
   "cell_type": "code",
   "execution_count": 54,
   "metadata": {},
   "outputs": [],
   "source": [
    "def predict(smiles): \n",
    "    fragprints = compute_fragprints([smiles])\n",
    "    return pi_pi_star_model.predict(fragprints)[0], n_pi_star_model.predict(fragprints)[0]"
   ]
  },
  {
   "cell_type": "code",
   "execution_count": 71,
   "metadata": {},
   "outputs": [
    {
     "data": {
      "text/plain": [
       "(array([390.91004025]), array([446.54990223]))"
      ]
     },
     "execution_count": 71,
     "metadata": {},
     "output_type": "execute_result"
    }
   ],
   "source": [
    "predict('C1=CC=C(/N=N/C2=CC=C(NCCC#N)C=C2)C=C1')"
   ]
  },
  {
   "cell_type": "code",
   "execution_count": 72,
   "metadata": {},
   "outputs": [
    {
     "data": {
      "text/plain": [
       "'What is a molecule pi-pi* transition wavelength of 404.0 nm###'"
      ]
     },
     "execution_count": 72,
     "metadata": {},
     "output_type": "execute_result"
    }
   ],
   "source": [
    "test_prompts['prompt'].values[-2]"
   ]
  },
  {
   "cell_type": "code",
   "execution_count": null,
   "metadata": {},
   "outputs": [],
   "source": []
  }
 ],
 "metadata": {
  "kernelspec": {
   "display_name": "Python 3.9.13 ('gpt3')",
   "language": "python",
   "name": "python3"
  },
  "language_info": {
   "codemirror_mode": {
    "name": "ipython",
    "version": 3
   },
   "file_extension": ".py",
   "mimetype": "text/x-python",
   "name": "python",
   "nbconvert_exporter": "python",
   "pygments_lexer": "ipython3",
   "version": "3.9.13"
  },
  "orig_nbformat": 4,
  "vscode": {
   "interpreter": {
    "hash": "9a4fa60962de90e73b5da8d67a44b01d2de04630d82b94b8db1f727a73d31e61"
   }
  }
 },
 "nbformat": 4,
 "nbformat_minor": 2
}
