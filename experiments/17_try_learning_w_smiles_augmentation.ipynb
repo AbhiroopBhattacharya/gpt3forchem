{
 "cells": [
  {
   "cell_type": "code",
   "execution_count": 29,
   "metadata": {},
   "outputs": [],
   "source": [
    "%load_ext autoreload \n",
    "%autoreload 2"
   ]
  },
  {
   "cell_type": "code",
   "execution_count": 20,
   "metadata": {},
   "outputs": [],
   "source": [
    "from gpt3forchem.data import get_photoswitch_data\n",
    "from gpt3forchem.input import create_single_property_forward_prompts\n",
    "from gpt3forchem.api_wrappers import fine_tune, query_gpt3, extract_prediction\n",
    "\n",
    "from sklearn.model_selection import train_test_split\n",
    "import time\n",
    "\n",
    "from pycm import ConfusionMatrix"
   ]
  },
  {
   "cell_type": "code",
   "execution_count": 3,
   "metadata": {},
   "outputs": [],
   "source": [
    "data = get_photoswitch_data()"
   ]
  },
  {
   "cell_type": "code",
   "execution_count": 6,
   "metadata": {},
   "outputs": [],
   "source": [
    "train_data, test_data = train_test_split(data, train_size=0.8, random_state=None, stratify=data[\"wavelength_cat\"])"
   ]
  },
  {
   "cell_type": "code",
   "execution_count": 7,
   "metadata": {},
   "outputs": [],
   "source": [
    "train_prompts = create_single_property_forward_prompts(\n",
    "    train_data,\n",
    "    \"wavelength_cat\",\n",
    "    {\"wavelength_cat\": \"transition wavelength\"},\n",
    "    representation_col=\"SMILES\",\n",
    "    smiles_augmentation=True,\n",
    ")\n"
   ]
  },
  {
   "cell_type": "code",
   "execution_count": 8,
   "metadata": {},
   "outputs": [],
   "source": [
    "test_prompts = create_single_property_forward_prompts(\n",
    "    test_data,\n",
    "    \"wavelength_cat\",\n",
    "    {\"wavelength_cat\": \"transition wavelength\"},\n",
    "    representation_col=\"SMILES\",\n",
    "    smiles_augmentation=True,\n",
    ")"
   ]
  },
  {
   "cell_type": "code",
   "execution_count": 23,
   "metadata": {},
   "outputs": [],
   "source": [
    "test_prompts_unaugmented = create_single_property_forward_prompts(\n",
    "    test_data,\n",
    "    \"wavelength_cat\",\n",
    "    {\"wavelength_cat\": \"transition wavelength\"},\n",
    "    representation_col=\"SMILES\",\n",
    "    smiles_augmentation=False,\n",
    ")"
   ]
  },
  {
   "cell_type": "code",
   "execution_count": 10,
   "metadata": {},
   "outputs": [],
   "source": [
    "train_size = len(train_prompts)\n",
    "test_size = len(test_prompts)\n",
    "\n",
    "filename_base = time.strftime(\"%Y-%m-%d-%H-%M-%S\", time.localtime())\n",
    "train_filename = (\n",
    "    f\"run_files/{filename_base}_train_prompts_photoswitch_augmented_{train_size}.jsonl\"\n",
    ")\n",
    "valid_filename = (\n",
    "    f\"run_files/{filename_base}_valid_prompts_photoswitch_augmented_{test_size}.jsonl\"\n",
    ")\n",
    "\n",
    "train_prompts.to_json(train_filename, orient=\"records\", lines=True)\n",
    "test_prompts.to_json(valid_filename, orient=\"records\", lines=True)"
   ]
  },
  {
   "cell_type": "code",
   "execution_count": 12,
   "metadata": {},
   "outputs": [
    {
     "name": "stdout",
     "output_type": "stream",
     "text": [
      "Fine-tune ft-3oU8P4lxLqhlKnFnU3HpvPah has the status \"running\" and will not be logged\n",
      "🎉 wandb sync completed successfully\n"
     ]
    },
    {
     "data": {
      "text/plain": [
       "'ada:ft-lsmoepfl-2022-09-05-15-28-54'"
      ]
     },
     "execution_count": 12,
     "metadata": {},
     "output_type": "execute_result"
    }
   ],
   "source": [
    "fine_tune(train_filename, valid_filename, \"ada\")"
   ]
  },
  {
   "cell_type": "code",
   "execution_count": 13,
   "metadata": {},
   "outputs": [],
   "source": [
    "completions = query_gpt3('ada:ft-lsmoepfl-2022-09-05-15-28-54', test_prompts)"
   ]
  },
  {
   "cell_type": "code",
   "execution_count": 24,
   "metadata": {},
   "outputs": [],
   "source": [
    "completions_unaugmented = query_gpt3('ada:ft-lsmoepfl-2022-09-05-15-28-54', test_prompts_unaugmented)"
   ]
  },
  {
   "cell_type": "code",
   "execution_count": 17,
   "metadata": {},
   "outputs": [],
   "source": [
    "predictions_augmented = [\n",
    "    int(extract_prediction(completions, i)) for i in range(len(completions[\"choices\"]))\n",
    "]\n"
   ]
  },
  {
   "cell_type": "code",
   "execution_count": 18,
   "metadata": {},
   "outputs": [],
   "source": [
    "true_augmented = [int(e.split(\"@\")[0]) for e in test_prompts[\"completion\"]]\n"
   ]
  },
  {
   "cell_type": "code",
   "execution_count": 25,
   "metadata": {},
   "outputs": [],
   "source": [
    "predictions_unaugmented = [\n",
    "    int(extract_prediction(completions, i)) for i in range(len(completions_unaugmented[\"choices\"]))\n",
    "]\n",
    "true_unaugmented = [int(e.split(\"@\")[0]) for e in test_prompts_unaugmented[\"completion\"]]\n"
   ]
  },
  {
   "cell_type": "code",
   "execution_count": 26,
   "metadata": {},
   "outputs": [],
   "source": [
    "cm_unaugmented = ConfusionMatrix(actual_vector=true_unaugmented, predict_vector=predictions_unaugmented)"
   ]
  },
  {
   "cell_type": "code",
   "execution_count": 27,
   "metadata": {},
   "outputs": [
    {
     "name": "stdout",
     "output_type": "stream",
     "text": [
      "Predict  0        1        2        3        4        \n",
      "Actual\n",
      "0        11       5        10       1        0        \n",
      "\n",
      "1        11       2        8        2        0        \n",
      "\n",
      "2        5        6        8        1        0        \n",
      "\n",
      "3        1        1        2        1        1        \n",
      "\n",
      "4        1        1        0        0        0        \n",
      "\n",
      "\n",
      "\n",
      "\n",
      "\n",
      "Overall Statistics : \n",
      "\n",
      "95% CI                                                            (0.18218,0.38192)\n",
      "ACC Macro                                                         0.71282\n",
      "ARI                                                               0.01064\n",
      "AUNP                                                              0.49858\n",
      "AUNU                                                              0.50582\n",
      "Bangdiwala B                                                      0.11047\n",
      "Bennett S                                                         0.10256\n",
      "CBA                                                               0.18373\n",
      "CSI                                                               -0.58812\n",
      "Chi-Squared                                                       20.41583\n",
      "Chi-Squared DF                                                    16\n",
      "Conditional Entropy                                               1.72201\n",
      "Cramer V                                                          0.2558\n",
      "Cross Entropy                                                     2.0405\n",
      "F1 Macro                                                          0.20265\n",
      "F1 Micro                                                          0.28205\n",
      "FNR Macro                                                         0.78779\n",
      "FNR Micro                                                         0.71795\n",
      "FPR Macro                                                         0.20057\n",
      "FPR Micro                                                         0.17949\n",
      "Gwet AC1                                                          0.12664\n",
      "Hamming Loss                                                      0.71795\n",
      "Joint Entropy                                                     3.69494\n",
      "KL Divergence                                                     0.06756\n",
      "Kappa                                                             -0.00092\n",
      "Kappa 95% CI                                                      (-0.14014,0.13831)\n",
      "Kappa No Prevalence                                               -0.4359\n",
      "Kappa Standard Error                                              0.07103\n",
      "Kappa Unbiased                                                    -0.00866\n",
      "Krippendorff Alpha                                                -0.00219\n",
      "Lambda A                                                          0.05882\n",
      "Lambda B                                                          0.08163\n",
      "Mutual Information                                                0.13134\n",
      "NIR                                                               0.34615\n",
      "Overall ACC                                                       0.28205\n",
      "Overall CEN                                                       0.67197\n",
      "Overall J                                                         (0.6,0.12)\n",
      "Overall MCC                                                       -0.00093\n",
      "Overall MCEN                                                      0.725\n",
      "Overall RACC                                                      0.28271\n",
      "Overall RACCU                                                     0.28821\n",
      "P-Value                                                           0.90649\n",
      "PPV Macro                                                         0.19967\n",
      "PPV Micro                                                         0.28205\n",
      "Pearson C                                                         0.45546\n",
      "Phi-Squared                                                       0.26174\n",
      "RCI                                                               0.06657\n",
      "RR                                                                15.6\n",
      "Reference Entropy                                                 1.97294\n",
      "Response Entropy                                                  1.85335\n",
      "SOA1(Landis & Koch)                                               Poor\n",
      "SOA2(Fleiss)                                                      Poor\n",
      "SOA3(Altman)                                                      Poor\n",
      "SOA4(Cicchetti)                                                   Poor\n",
      "SOA5(Cramer)                                                      Moderate\n",
      "SOA6(Matthews)                                                    Negligible\n",
      "Scott PI                                                          -0.00866\n",
      "Standard Error                                                    0.05095\n",
      "TNR Macro                                                         0.79943\n",
      "TNR Micro                                                         0.82051\n",
      "TPR Macro                                                         0.21221\n",
      "TPR Micro                                                         0.28205\n",
      "Zero-one Loss                                                     56\n",
      "\n",
      "Class Statistics :\n",
      "\n",
      "Classes                                                           0             1             2             3             4             \n",
      "ACC(Accuracy)                                                     0.5641        0.5641        0.58974       0.88462       0.96154       \n",
      "AGF(Adjusted F-score)                                             0.51786       0.25284       0.52226       0.40131       0.0           \n",
      "AGM(Adjusted geometric mean)                                      0.56626       0.46691       0.57302       0.65964       0             \n",
      "AM(Difference between automatic and manual classification)        2             -8            8             -1            -1            \n",
      "AUC(Area under the ROC curve)                                     0.52723       0.4253        0.52759       0.55556       0.49342       \n",
      "AUCI(AUC value interpretation)                                    Poor          Poor          Poor          Poor          Poor          \n",
      "AUPR(Area under the PR curve)                                     0.39336       0.11014       0.34286       0.18333       0.0           \n",
      "BCD(Bray-Curtis dissimilarity)                                    0.01282       0.05128       0.05128       0.00641       0.00641       \n",
      "BM(Informedness or bookmaker informedness)                        0.05447       -0.14941      0.05517       0.11111       -0.01316      \n",
      "CEN(Confusion entropy)                                            0.61284       0.76541       0.64153       0.82227       0.52832       \n",
      "DOR(Diagnostic odds ratio)                                        1.26042       0.30769       1.26667       3.4           0.0           \n",
      "DP(Discriminant power)                                            0.05542       -0.28222      0.0566        0.29302       None          \n",
      "DPI(Discriminant power interpretation)                            Poor          Poor          Poor          Poor          None          \n",
      "ERR(Error rate)                                                   0.4359        0.4359        0.41026       0.11538       0.03846       \n",
      "F0.5(F0.5 score)                                                  0.38462       0.12048       0.30303       0.19231       0.0           \n",
      "F1(F1 score - harmonic mean of precision and sensitivity)         0.39286       0.10526       0.33333       0.18182       0.0           \n",
      "F2(F2 score)                                                      0.40146       0.09346       0.37037       0.17241       0.0           \n",
      "FDR(False discovery rate)                                         0.62069       0.86667       0.71429       0.8           1.0           \n",
      "FN(False negative/miss/type 2 error)                              16            21            12            5             2             \n",
      "FNR(Miss rate or false negative rate)                             0.59259       0.91304       0.6           0.83333       1.0           \n",
      "FOR(False omission rate)                                          0.32653       0.33333       0.24          0.06849       0.02597       \n",
      "FP(False positive/type 1 error/false alarm)                       18            13            20            4             1             \n",
      "FPR(Fall-out or false positive rate)                              0.35294       0.23636       0.34483       0.05556       0.01316       \n",
      "G(G-measure geometric mean of precision and sensitivity)          0.39311       0.10768       0.33806       0.18257       0.0           \n",
      "GI(Gini index)                                                    0.05447       -0.14941      0.05517       0.11111       -0.01316      \n",
      "GM(G-mean geometric mean of specificity and sensitivity)          0.51344       0.25769       0.51193       0.39675       0.0           \n",
      "IBA(Index of balanced accuracy)                                   0.20044       0.02147       0.1952        0.03498       0.0           \n",
      "ICSI(Individual classification success index)                     -0.21328      -0.77971      -0.31429      -0.63333      -1.0          \n",
      "IS(Information score)                                             0.13197       -1.14505      0.15612       1.37851       None          \n",
      "J(Jaccard index)                                                  0.24444       0.05556       0.2           0.1           0.0           \n",
      "LS(Lift score)                                                    1.09579       0.45217       1.11429       2.6           0.0           \n",
      "MCC(Matthews correlation coefficient)                             0.05362       -0.17286      0.05022       0.12088       -0.01849      \n",
      "MCCI(Matthews correlation coefficient interpretation)             Negligible    Negligible    Negligible    Negligible    Negligible    \n",
      "MCEN(Modified confusion entropy)                                  0.68319       0.78337       0.69969       0.86325       0.52832       \n",
      "MK(Markedness)                                                    0.05278       -0.2          0.04571       0.13151       -0.02597      \n",
      "N(Condition negative)                                             51            55            58            72            76            \n",
      "NLR(Negative likelihood ratio)                                    0.91582       1.19565       0.91579       0.88235       1.01333       \n",
      "NLRI(Negative likelihood ratio interpretation)                    Negligible    Negligible    Negligible    Negligible    Negligible    \n",
      "NPV(Negative predictive value)                                    0.67347       0.66667       0.76          0.93151       0.97403       \n",
      "OC(Overlap coefficient)                                           0.40741       0.13333       0.4           0.2           0.0           \n",
      "OOC(Otsuka-Ochiai coefficient)                                    0.39311       0.10768       0.33806       0.18257       0.0           \n",
      "OP(Optimized precision)                                           0.33683       -0.23144      0.34791       0.18462       -0.03846      \n",
      "P(Condition positive or support)                                  27            23            20            6             2             \n",
      "PLR(Positive likelihood ratio)                                    1.15432       0.36789       1.16          3.0           0.0           \n",
      "PLRI(Positive likelihood ratio interpretation)                    Poor          Negligible    Poor          Poor          Negligible    \n",
      "POP(Population)                                                   78            78            78            78            78            \n",
      "PPV(Precision or positive predictive value)                       0.37931       0.13333       0.28571       0.2           0.0           \n",
      "PRE(Prevalence)                                                   0.34615       0.29487       0.25641       0.07692       0.02564       \n",
      "Q(Yule Q - coefficient of colligation)                            0.11521       -0.52941      0.11765       0.54545       -1.0          \n",
      "QI(Yule Q interpretation)                                         Negligible    Negligible    Negligible    Moderate      Negligible    \n",
      "RACC(Random accuracy)                                             0.1287        0.05671       0.09204       0.00493       0.00033       \n",
      "RACCU(Random accuracy unbiased)                                   0.12886       0.05934       0.09467       0.00497       0.00037       \n",
      "TN(True negative/correct rejection)                               33            42            38            68            75            \n",
      "TNR(Specificity or true negative rate)                            0.64706       0.76364       0.65517       0.94444       0.98684       \n",
      "TON(Test outcome negative)                                        49            63            50            73            77            \n",
      "TOP(Test outcome positive)                                        29            15            28            5             1             \n",
      "TP(True positive/hit)                                             11            2             8             1             0             \n",
      "TPR(Sensitivity, recall, hit rate, or true positive rate)         0.40741       0.08696       0.4           0.16667       0.0           \n",
      "Y(Youden index)                                                   0.05447       -0.14941      0.05517       0.11111       -0.01316      \n",
      "dInd(Distance index)                                              0.68973       0.94314       0.69203       0.83518       1.00009       \n",
      "sInd(Similarity index)                                            0.51228       0.3331        0.51066       0.40944       0.29283       \n",
      "\n"
     ]
    }
   ],
   "source": [
    "print(cm_unaugmented)"
   ]
  },
  {
   "cell_type": "code",
   "execution_count": 21,
   "metadata": {},
   "outputs": [],
   "source": [
    "cm = ConfusionMatrix(true_augmented, predictions_augmented)\n"
   ]
  },
  {
   "cell_type": "code",
   "execution_count": 22,
   "metadata": {},
   "outputs": [
    {
     "name": "stdout",
     "output_type": "stream",
     "text": [
      "Predict   0         1         2         3         4         \n",
      "Actual\n",
      "0         237       24        9         0         0         \n",
      "\n",
      "1         27        148       51        4         0         \n",
      "\n",
      "2         0         11        176       13        0         \n",
      "\n",
      "3         0         0         18        42        0         \n",
      "\n",
      "4         0         0         0         1         19        \n",
      "\n",
      "\n",
      "\n",
      "\n",
      "\n",
      "Overall Statistics : \n",
      "\n",
      "95% CI                                                            (0.76923,0.82564)\n",
      "ACC Macro                                                         0.91897\n",
      "ARI                                                               0.55122\n",
      "AUNP                                                              0.86197\n",
      "AUNU                                                              0.87752\n",
      "Bangdiwala B                                                      0.66116\n",
      "Bennett S                                                         0.74679\n",
      "CBA                                                               0.77283\n",
      "CSI                                                               0.63013\n",
      "Chi-Squared                                                       1925.18542\n",
      "Chi-Squared DF                                                    16\n",
      "Conditional Entropy                                               0.86242\n",
      "Cramer V                                                          0.78552\n",
      "Cross Entropy                                                     1.99489\n",
      "F1 Macro                                                          0.81081\n",
      "F1 Micro                                                          0.79744\n",
      "FNR Macro                                                         0.18975\n",
      "FNR Micro                                                         0.20256\n",
      "FPR Macro                                                         0.05521\n",
      "FPR Micro                                                         0.05064\n",
      "Gwet AC1                                                          0.75286\n",
      "Hamming Loss                                                      0.20256\n",
      "Joint Entropy                                                     2.83535\n",
      "KL Divergence                                                     0.02195\n",
      "Kappa                                                             0.72007\n",
      "Kappa 95% CI                                                      (0.68109,0.75905)\n",
      "Kappa No Prevalence                                               0.59487\n",
      "Kappa Standard Error                                              0.01989\n",
      "Kappa Unbiased                                                    0.71925\n",
      "Krippendorff Alpha                                                0.71943\n",
      "Lambda A                                                          0.6902\n",
      "Lambda B                                                          0.6938\n",
      "Mutual Information                                                1.0996\n",
      "NIR                                                               0.34615\n",
      "Overall ACC                                                       0.79744\n",
      "Overall CEN                                                       0.27002\n",
      "Overall J                                                         (3.47803,0.69561)\n",
      "Overall MCC                                                       0.72432\n",
      "Overall MCEN                                                      0.37047\n",
      "Overall RACC                                                      0.27638\n",
      "Overall RACCU                                                     0.2785\n",
      "P-Value                                                           0.0\n",
      "PPV Macro                                                         0.81988\n",
      "PPV Micro                                                         0.79744\n",
      "Pearson C                                                         0.8436\n",
      "Phi-Squared                                                       2.46819\n",
      "RCI                                                               0.55734\n",
      "RR                                                                156.0\n",
      "Reference Entropy                                                 1.97294\n",
      "Response Entropy                                                  1.96202\n",
      "SOA1(Landis & Koch)                                               Substantial\n",
      "SOA2(Fleiss)                                                      Intermediate to Good\n",
      "SOA3(Altman)                                                      Good\n",
      "SOA4(Cicchetti)                                                   Good\n",
      "SOA5(Cramer)                                                      Strong\n",
      "SOA6(Matthews)                                                    Strong\n",
      "Scott PI                                                          0.71925\n",
      "Standard Error                                                    0.01439\n",
      "TNR Macro                                                         0.94479\n",
      "TNR Micro                                                         0.94936\n",
      "TPR Macro                                                         0.81025\n",
      "TPR Micro                                                         0.79744\n",
      "Zero-one Loss                                                     158\n",
      "\n",
      "Class Statistics :\n",
      "\n",
      "Classes                                                           0             1             2             3             4             \n",
      "ACC(Accuracy)                                                     0.92308       0.85          0.86923       0.95385       0.99872       \n",
      "AGF(Adjusted F-score)                                             0.90952       0.76682       0.88362       0.82614       0.97907       \n",
      "AGM(Adjusted geometric mean)                                      0.92572       0.84245       0.86965       0.89759       0.98718       \n",
      "AM(Difference between automatic and manual classification)        -6            -47           54            0             -1            \n",
      "AUC(Area under the ROC curve)                                     0.91242       0.78992       0.87276       0.8375        0.975         \n",
      "AUCI(AUC value interpretation)                                    Excellent     Good          Very Good     Very Good     Excellent     \n",
      "AUPR(Area under the PR curve)                                     0.88775       0.72611       0.78646       0.7           0.975         \n",
      "BCD(Bray-Curtis dissimilarity)                                    0.00385       0.03013       0.03462       0.0           0.00064       \n",
      "BM(Informedness or bookmaker informedness)                        0.82484       0.57984       0.74552       0.675         0.95          \n",
      "CEN(Confusion entropy)                                            0.17272       0.35752       0.3093        0.32634       0.04517       \n",
      "DOR(Diagnostic odds ratio)                                        128.47475     26.55749      47.19658      91.0          None          \n",
      "DP(Discriminant power)                                            1.16265       0.7852        0.92288       1.08008       None          \n",
      "DPI(Discriminant power interpretation)                            Limited       Poor          Poor          Limited       None          \n",
      "ERR(Error rate)                                                   0.07692       0.15          0.13077       0.04615       0.00128       \n",
      "F0.5(F0.5 score)                                                  0.89367       0.76923       0.72368       0.7           0.98958       \n",
      "F1(F1 score - harmonic mean of precision and sensitivity)         0.88764       0.71671       0.77533       0.7           0.97436       \n",
      "F2(F2 score)                                                      0.8817        0.6709        0.83491       0.7           0.9596        \n",
      "FDR(False discovery rate)                                         0.10227       0.19126       0.30709       0.3           0.0           \n",
      "FN(False negative/miss/type 2 error)                              33            82            24            18            1             \n",
      "FNR(Miss rate or false negative rate)                             0.12222       0.35652       0.12          0.3           0.05          \n",
      "FOR(False omission rate)                                          0.06395       0.13735       0.04563       0.025         0.00131       \n",
      "FP(False positive/type 1 error/false alarm)                       27            35            78            18            0             \n",
      "FPR(Fall-out or false positive rate)                              0.05294       0.06364       0.13448       0.025         0.0           \n",
      "G(G-measure geometric mean of precision and sensitivity)          0.8877        0.72139       0.78087       0.7           0.97468       \n",
      "GI(Gini index)                                                    0.82484       0.57984       0.74552       0.675         0.95          \n",
      "GM(G-mean geometric mean of specificity and sensitivity)          0.91176       0.77623       0.87273       0.82614       0.97468       \n",
      "IBA(Index of balanced accuracy)                                   0.77371       0.42606       0.77269       0.49481       0.9025        \n",
      "ICSI(Individual classification success index)                     0.77551       0.45222       0.57291       0.4           0.95          \n",
      "IS(Information score)                                             1.37486       1.45559       1.43422       3.18587       5.2854        \n",
      "J(Jaccard index)                                                  0.79798       0.55849       0.63309       0.53846       0.95          \n",
      "LS(Lift score)                                                    2.59343       2.74269       2.70236       9.1           39.0          \n",
      "MCC(Matthews correlation coefficient)                             0.82929       0.62394       0.69467       0.675         0.97404       \n",
      "MCCI(Matthews correlation coefficient interpretation)             Strong        Moderate      Moderate      Moderate      Very Strong   \n",
      "MCEN(Modified confusion entropy)                                  0.25355       0.46297       0.41857       0.40645       0.07203       \n",
      "MK(Markedness)                                                    0.83377       0.67139       0.64729       0.675         0.99869       \n",
      "N(Condition negative)                                             510           550           580           720           760           \n",
      "NLR(Negative likelihood ratio)                                    0.12905       0.38075       0.13865       0.30769       0.05          \n",
      "NLRI(Negative likelihood ratio interpretation)                    Fair          Poor          Fair          Poor          Good          \n",
      "NPV(Negative predictive value)                                    0.93605       0.86265       0.95437       0.975         0.99869       \n",
      "OC(Overlap coefficient)                                           0.89773       0.80874       0.88          0.7           1.0           \n",
      "OOC(Otsuka-Ochiai coefficient)                                    0.8877        0.72139       0.78087       0.7           0.97468       \n",
      "OP(Optimized precision)                                           0.88511       0.66461       0.86093       0.78967       0.97308       \n",
      "P(Condition positive or support)                                  270           230           200           60            20            \n",
      "PLR(Positive likelihood ratio)                                    16.58025      10.1118       6.54359       28.0          None          \n",
      "PLRI(Positive likelihood ratio interpretation)                    Good          Good          Fair          Good          None          \n",
      "POP(Population)                                                   780           780           780           780           780           \n",
      "PPV(Precision or positive predictive value)                       0.89773       0.80874       0.69291       0.7           1.0           \n",
      "PRE(Prevalence)                                                   0.34615       0.29487       0.25641       0.07692       0.02564       \n",
      "Q(Yule Q - coefficient of colligation)                            0.98455       0.92742       0.9585        0.97826       None          \n",
      "QI(Yule Q interpretation)                                         Strong        Strong        Strong        Strong        None          \n",
      "RACC(Random accuracy)                                             0.11716       0.06918       0.0835        0.00592       0.00062       \n",
      "RACCU(Random accuracy unbiased)                                   0.11717       0.07009       0.0847        0.00592       0.00063       \n",
      "TN(True negative/correct rejection)                               483           515           502           702           760           \n",
      "TNR(Specificity or true negative rate)                            0.94706       0.93636       0.86552       0.975         1.0           \n",
      "TON(Test outcome negative)                                        516           597           526           720           761           \n",
      "TOP(Test outcome positive)                                        264           183           254           60            19            \n",
      "TP(True positive/hit)                                             237           148           176           42            19            \n",
      "TPR(Sensitivity, recall, hit rate, or true positive rate)         0.87778       0.64348       0.88          0.7           0.95          \n",
      "Y(Youden index)                                                   0.82484       0.57984       0.74552       0.675         0.95          \n",
      "dInd(Distance index)                                              0.1332        0.36216       0.18024       0.30104       0.05          \n",
      "sInd(Similarity index)                                            0.90582       0.74392       0.87255       0.78713       0.96464       \n",
      "\n"
     ]
    }
   ],
   "source": [
    "print(cm)"
   ]
  },
  {
   "cell_type": "code",
   "execution_count": null,
   "metadata": {},
   "outputs": [],
   "source": []
  }
 ],
 "metadata": {
  "kernelspec": {
   "display_name": "Python 3.9.13 ('gpt3')",
   "language": "python",
   "name": "python3"
  },
  "language_info": {
   "codemirror_mode": {
    "name": "ipython",
    "version": 3
   },
   "file_extension": ".py",
   "mimetype": "text/x-python",
   "name": "python",
   "nbconvert_exporter": "python",
   "pygments_lexer": "ipython3",
   "version": "3.9.13"
  },
  "orig_nbformat": 4,
  "vscode": {
   "interpreter": {
    "hash": "9a4fa60962de90e73b5da8d67a44b01d2de04630d82b94b8db1f727a73d31e61"
   }
  }
 },
 "nbformat": 4,
 "nbformat_minor": 2
}
