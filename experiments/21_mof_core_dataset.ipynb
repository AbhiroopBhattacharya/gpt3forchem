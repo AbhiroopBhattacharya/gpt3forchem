{
 "cells": [
  {
   "cell_type": "markdown",
   "metadata": {},
   "source": [
    "# Use the CoRE dataset for the GCMC case study"
   ]
  },
  {
   "cell_type": "markdown",
   "metadata": {},
   "source": [
    "The current QMOF dataset does not have a lot of data for the gas adsorption properties. Let's switch to CoRE for this."
   ]
  },
  {
   "cell_type": "code",
   "execution_count": null,
   "metadata": {},
   "outputs": [],
   "source": [
    "%load_ext autoreload \n",
    "%autoreload 2"
   ]
  },
  {
   "cell_type": "code",
   "execution_count": null,
   "metadata": {},
   "outputs": [],
   "source": [
    "from gpt3forchem.data import get_core_mof_data, discretize\n",
    "from gpt3forchem.baselines import XGBClassificationBaseline\n",
    "from gpt3forchem.api_wrappers import query_gpt3, fine_tune, extract_prediction\n",
    "from sklearn.model_selection import train_test_split\n",
    "\n",
    "from gpt3forchem.input import create_single_property_forward_prompts\n",
    "\n",
    "from pycm import ConfusionMatrix\n",
    "\n",
    "import time"
   ]
  },
  {
   "cell_type": "code",
   "execution_count": null,
   "metadata": {},
   "outputs": [],
   "source": [
    "data = get_core_mof_data()"
   ]
  },
  {
   "cell_type": "code",
   "execution_count": null,
   "metadata": {},
   "outputs": [],
   "source": [
    "FEATURES = [\n",
    "        f for f in data.columns if f.startswith('features')\n",
    "]"
   ]
  },
  {
   "cell_type": "code",
   "execution_count": null,
   "metadata": {},
   "outputs": [],
   "source": [
    "outputs = [\n",
    "    f for f in data.columns if f.startswith('outputs')\n",
    "]"
   ]
  },
  {
   "cell_type": "code",
   "execution_count": null,
   "metadata": {},
   "outputs": [
    {
     "data": {
      "text/plain": [
       "['outputs.pure_CO2_kH',\n",
       " 'outputs.pure_CO2_widomHOA',\n",
       " 'outputs.pure_methane_kH',\n",
       " 'outputs.pure_methane_widomHOA',\n",
       " 'outputs.pure_uptake_CO2_298.00_15000',\n",
       " 'outputs.pure_uptake_CO2_298.00_1600000',\n",
       " 'outputs.pure_uptake_methane_298.00_580000',\n",
       " 'outputs.pure_uptake_methane_298.00_6500000',\n",
       " 'outputs.logKH_CO2',\n",
       " 'outputs.logKH_CH4',\n",
       " 'outputs.CH4DC',\n",
       " 'outputs.CH4HPSTP',\n",
       " 'outputs.CH4LPSTP']"
      ]
     },
     "execution_count": null,
     "metadata": {},
     "output_type": "execute_result"
    }
   ],
   "source": [
    "outputs"
   ]
  },
  {
   "cell_type": "code",
   "execution_count": null,
   "metadata": {},
   "outputs": [],
   "source": [
    "discretize(data, 'outputs.logKH_CO2')"
   ]
  },
  {
   "cell_type": "code",
   "execution_count": null,
   "metadata": {},
   "outputs": [],
   "source": [
    "train, test = train_test_split(data, train_size=0.8, stratify=data['outputs.logKH_CO2_cat'])"
   ]
  },
  {
   "cell_type": "code",
   "execution_count": null,
   "metadata": {},
   "outputs": [],
   "source": [
    "baseline = XGBClassificationBaseline(None)\n",
    "baseline.fit(train[FEATURES], train['outputs.logKH_CO2_cat'])"
   ]
  },
  {
   "cell_type": "code",
   "execution_count": null,
   "metadata": {},
   "outputs": [],
   "source": [
    "predictions_baseline = baseline.predict(test[FEATURES])"
   ]
  },
  {
   "cell_type": "code",
   "execution_count": null,
   "metadata": {},
   "outputs": [],
   "source": [
    "cm = ConfusionMatrix(test['outputs.logKH_CO2_cat'].to_list(), predictions_baseline)"
   ]
  },
  {
   "cell_type": "code",
   "execution_count": null,
   "metadata": {},
   "outputs": [
    {
     "name": "stdout",
     "output_type": "stream",
     "text": [
      "Predict          large            medium           small            very large       very small       \n",
      "Actual\n",
      "large            20               35               6                2                0                \n",
      "\n",
      "medium           13               124              32               0                0                \n",
      "\n",
      "small            0                56               73               1                0                \n",
      "\n",
      "very large       4                8                3                5                0                \n",
      "\n",
      "very small       0                0                2                0                2                \n",
      "\n",
      "\n",
      "\n",
      "\n",
      "\n",
      "Overall Statistics : \n",
      "\n",
      "95% CI                                                            (0.53108,0.62954)\n",
      "ACC Macro                                                         0.83212\n",
      "ARI                                                               0.14258\n",
      "AUNP                                                              0.65749\n",
      "AUNU                                                              0.66777\n",
      "Bangdiwala B                                                      0.38241\n",
      "Bennett S                                                         0.47539\n",
      "CBA                                                               0.43701\n",
      "CSI                                                               0.14273\n",
      "Chi-Squared                                                       357.49434\n",
      "Chi-Squared DF                                                    16\n",
      "Conditional Entropy                                               1.16925\n",
      "Cramer V                                                          0.48118\n",
      "Cross Entropy                                                     1.8513\n",
      "F1 Macro                                                          0.52999\n",
      "F1 Micro                                                          0.58031\n",
      "FNR Macro                                                         0.52745\n",
      "FNR Micro                                                         0.41969\n",
      "FPR Macro                                                         0.137\n",
      "FPR Micro                                                         0.10492\n",
      "Gwet AC1                                                          0.50296\n",
      "Hamming Loss                                                      0.41969\n",
      "Joint Entropy                                                     2.93615\n",
      "KL Divergence                                                     0.0844\n",
      "Kappa                                                             0.33285\n",
      "Kappa 95% CI                                                      (0.25459,0.41111)\n",
      "Kappa No Prevalence                                               0.16062\n",
      "Kappa Standard Error                                              0.03993\n",
      "Kappa Unbiased                                                    0.32577\n",
      "Krippendorff Alpha                                                0.32664\n",
      "Lambda A                                                          0.25346\n",
      "Lambda B                                                          0.11656\n",
      "Mutual Information                                                0.28881\n",
      "NIR                                                               0.43782\n",
      "Overall ACC                                                       0.58031\n",
      "Overall CEN                                                       0.42612\n",
      "Overall J                                                         (1.85204,0.37041)\n",
      "Overall MCC                                                       0.3411\n",
      "Overall MCEN                                                      0.50578\n",
      "Overall RACC                                                      0.37092\n",
      "Overall RACCU                                                     0.37753\n",
      "P-Value                                                           0.0\n",
      "PPV Macro                                                         0.67018\n",
      "PPV Micro                                                         0.58031\n",
      "Pearson C                                                         0.69342\n",
      "Phi-Squared                                                       0.92615\n",
      "RCI                                                               0.16346\n",
      "RR                                                                77.2\n",
      "Reference Entropy                                                 1.7669\n",
      "Response Entropy                                                  1.45806\n",
      "SOA1(Landis & Koch)                                               Fair\n",
      "SOA2(Fleiss)                                                      Poor\n",
      "SOA3(Altman)                                                      Fair\n",
      "SOA4(Cicchetti)                                                   Poor\n",
      "SOA5(Cramer)                                                      Relatively Strong\n",
      "SOA6(Matthews)                                                    Weak\n",
      "Scott PI                                                          0.32577\n",
      "Standard Error                                                    0.02512\n",
      "TNR Macro                                                         0.863\n",
      "TNR Micro                                                         0.89508\n",
      "TPR Macro                                                         0.47255\n",
      "TPR Micro                                                         0.58031\n",
      "Zero-one Loss                                                     162\n",
      "\n",
      "Class Statistics :\n",
      "\n",
      "Classes                                                           large          medium         small          very large     very small     \n",
      "ACC(Accuracy)                                                     0.84456        0.62694        0.74093        0.95337        0.99482        \n",
      "AGF(Adjusted F-score)                                             0.55496        0.68428        0.67638        0.52399        0.7438         \n",
      "AGM(Adjusted geometric mean)                                      0.73016        0.60003        0.74275        0.73831        0.85279        \n",
      "AM(Difference between automatic and manual classification)        -26            54             -14            -12            -2             \n",
      "AUC(Area under the ROC curve)                                     0.63241        0.63875        0.69678        0.6209         0.75           \n",
      "AUCI(AUC value interpretation)                                    Fair           Fair           Fair           Fair           Good           \n",
      "AUPR(Area under the PR curve)                                     0.429          0.64489        0.59542        0.4375         0.75           \n",
      "BCD(Bray-Curtis dissimilarity)                                    0.03368        0.06995        0.01813        0.01554        0.00259        \n",
      "BM(Informedness or bookmaker informedness)                        0.26483        0.27751        0.39357        0.2418         0.5            \n",
      "CEN(Confusion entropy)                                            0.48497        0.4283         0.38858        0.56878        0.17611        \n",
      "DOR(Diagnostic odds ratio)                                        8.37209        3.2844         6.34394        40.33333       None           \n",
      "DP(Discriminant power)                                            0.50879        0.28474        0.44236        0.88525        None           \n",
      "DPI(Discriminant power interpretation)                            Poor           Poor           Poor           Poor           None           \n",
      "ERR(Error rate)                                                   0.15544        0.37306        0.25907        0.04663        0.00518        \n",
      "F0.5(F0.5 score)                                                  0.47393        0.58435        0.61448        0.48077        0.83333        \n",
      "F1(F1 score - harmonic mean of precision and sensitivity)         0.4            0.63265        0.5935         0.35714        0.66667        \n",
      "F2(F2 score)                                                      0.34602        0.68966        0.5739         0.28409        0.55556        \n",
      "FDR(False discovery rate)                                         0.45946        0.44395        0.37069        0.375          0.0            \n",
      "FN(False negative/miss/type 2 error)                              43             45             57             15             2              \n",
      "FNR(Miss rate or false negative rate)                             0.68254        0.26627        0.43846        0.75           0.5            \n",
      "FOR(False omission rate)                                          0.12321        0.27607        0.21111        0.03968        0.00521        \n",
      "FP(False positive/type 1 error/false alarm)                       17             99             43             3              0              \n",
      "FPR(Fall-out or false positive rate)                              0.05263        0.45622        0.16797        0.0082         0.0            \n",
      "G(G-measure geometric mean of precision and sensitivity)          0.41425        0.63874        0.59446        0.39528        0.70711        \n",
      "GI(Gini index)                                                    0.26483        0.27751        0.39357        0.2418         0.5            \n",
      "GM(G-mean geometric mean of specificity and sensitivity)          0.54841        0.63165        0.68353        0.49795        0.70711        \n",
      "IBA(Index of balanced accuracy)                                   0.11131        0.47477        0.34084        0.06402        0.25           \n",
      "ICSI(Individual classification success index)                     -0.142         0.28978        0.19085        -0.125         0.5            \n",
      "IS(Information score)                                             1.72765        0.34487        0.90193        3.59246        6.59246        \n",
      "J(Jaccard index)                                                  0.25           0.46269        0.42197        0.21739        0.5            \n",
      "LS(Lift score)                                                    3.31188        1.27004        1.86857        12.0625        96.5           \n",
      "MCC(Matthews correlation coefficient)                             0.33245        0.27874        0.4057         0.37621        0.70526        \n",
      "MCCI(Matthews correlation coefficient interpretation)             Weak           Negligible     Weak           Weak           Strong         \n",
      "MCEN(Modified confusion entropy)                                  0.52573        0.5282         0.45469        0.61839        0.16667        \n",
      "MK(Markedness)                                                    0.41733        0.27998        0.4182         0.58532        0.99479        \n",
      "N(Condition negative)                                             323            217            256            366            382            \n",
      "NLR(Negative likelihood ratio)                                    0.72046        0.48967        0.52698        0.7562         0.5            \n",
      "NLRI(Negative likelihood ratio interpretation)                    Negligible     Poor           Negligible     Negligible     Negligible     \n",
      "NPV(Negative predictive value)                                    0.87679        0.72393        0.78889        0.96032        0.99479        \n",
      "OC(Overlap coefficient)                                           0.54054        0.73373        0.62931        0.625          1.0            \n",
      "OOC(Otsuka-Ochiai coefficient)                                    0.41425        0.63874        0.59446        0.39528        0.70711        \n",
      "OP(Optimized precision)                                           0.34654        0.47826        0.54683        0.35601        0.66149        \n",
      "P(Condition positive or support)                                  63             169            130            20             4              \n",
      "PLR(Positive likelihood ratio)                                    6.03175        1.60827        3.34311        30.5           None           \n",
      "PLRI(Positive likelihood ratio interpretation)                    Fair           Poor           Poor           Good           None           \n",
      "POP(Population)                                                   386            386            386            386            386            \n",
      "PPV(Precision or positive predictive value)                       0.54054        0.55605        0.62931        0.625          1.0            \n",
      "PRE(Prevalence)                                                   0.16321        0.43782        0.33679        0.05181        0.01036        \n",
      "Q(Yule Q - coefficient of colligation)                            0.7866         0.53319        0.72767        0.95161        None           \n",
      "QI(Yule Q interpretation)                                         Strong         Moderate       Moderate       Strong         None           \n",
      "RACC(Random accuracy)                                             0.01564        0.25294        0.10121        0.00107        5e-05          \n",
      "RACCU(Random accuracy unbiased)                                   0.01678        0.25783        0.10154        0.00132        6e-05          \n",
      "TN(True negative/correct rejection)                               306            118            213            363            382            \n",
      "TNR(Specificity or true negative rate)                            0.94737        0.54378        0.83203        0.9918         1.0            \n",
      "TON(Test outcome negative)                                        349            163            270            378            384            \n",
      "TOP(Test outcome positive)                                        37             223            116            8              2              \n",
      "TP(True positive/hit)                                             20             124            73             5              2              \n",
      "TPR(Sensitivity, recall, hit rate, or true positive rate)         0.31746        0.73373        0.56154        0.25           0.5            \n",
      "Y(Youden index)                                                   0.26483        0.27751        0.39357        0.2418         0.5            \n",
      "dInd(Distance index)                                              0.68457        0.52824        0.46953        0.75004        0.5            \n",
      "sInd(Similarity index)                                            0.51594        0.62648        0.66799        0.46964        0.64645        \n",
      "\n"
     ]
    }
   ],
   "source": [
    "print(cm)"
   ]
  },
  {
   "cell_type": "markdown",
   "metadata": {},
   "source": [
    "### GPT-3"
   ]
  },
  {
   "cell_type": "code",
   "execution_count": null,
   "metadata": {},
   "outputs": [],
   "source": [
    "train_prompts = create_single_property_forward_prompts(train, 'outputs.logKH_CO2_cat', \n",
    "                                                       {'outputs.logKH_CO2_cat': 'Henry coefficient'},\n",
    "                                                       representation_col='clean_mofid'\n",
    "                                                      )\n",
    "                                                       "
   ]
  },
  {
   "cell_type": "code",
   "execution_count": null,
   "metadata": {},
   "outputs": [],
   "source": [
    "test_prompts = create_single_property_forward_prompts(test, 'outputs.logKH_CO2_cat', \n",
    "                                                       {'outputs.logKH_CO2_cat': 'Henry coefficient'},\n",
    "                                                       representation_col='clean_mofid'\n",
    "                                                      )\n",
    "                                                       "
   ]
  },
  {
   "cell_type": "code",
   "execution_count": null,
   "metadata": {},
   "outputs": [],
   "source": [
    "train_size = len(train_prompts)\n",
    "\n",
    "filename_base = time.strftime(\"%Y-%m-%d-%H-%M-%S\", time.localtime())\n",
    "train_filename = (\n",
    "    f\"run_files/{filename_base}_train_prompts_mof_kh_{train_size}.jsonl\"\n",
    ")\n",
    "test_filename = (\n",
    "    f\"run_files/{filename_base}_test_prompts__mof_kh_{train_size}.jsonl\"\n",
    ")\n",
    "\n",
    "\n",
    "train_prompts.to_json(train_filename, orient=\"records\", lines=True)\n",
    "test_prompts.to_json(test_filename, orient=\"records\", lines=True)\n"
   ]
  },
  {
   "cell_type": "code",
   "execution_count": null,
   "metadata": {},
   "outputs": [
    {
     "name": "stdout",
     "output_type": "stream",
     "text": [
      "Fine-tune ft-Q4wHLn1KA8ytEslLVvdmn4l5 has the status \"running\" and will not be logged\n",
      "🎉 wandb sync completed successfully\n"
     ]
    },
    {
     "data": {
      "text/plain": [
       "'ada:ft-lsmoepfl-2022-09-12-15-33-35'"
      ]
     },
     "execution_count": null,
     "metadata": {},
     "output_type": "execute_result"
    }
   ],
   "source": [
    "fine_tune(train_filename, test_filename)"
   ]
  },
  {
   "cell_type": "code",
   "execution_count": null,
   "metadata": {},
   "outputs": [],
   "source": [
    "completion = query_gpt3('ada:ft-lsmoepfl-2022-09-12-15-33-35', test_prompts)"
   ]
  },
  {
   "cell_type": "code",
   "execution_count": null,
   "metadata": {},
   "outputs": [],
   "source": [
    "predictions = [int(extract_prediction(completion, i)) for i in range(len(completion['choices']))]"
   ]
  },
  {
   "cell_type": "code",
   "execution_count": null,
   "metadata": {},
   "outputs": [],
   "source": [
    "true = test_prompts['completion'].apply(lambda x: int(x.split(\"@\")[0])).values"
   ]
  },
  {
   "cell_type": "code",
   "execution_count": null,
   "metadata": {},
   "outputs": [],
   "source": [
    "cm = ConfusionMatrix(true, predictions)"
   ]
  },
  {
   "cell_type": "code",
   "execution_count": null,
   "metadata": {},
   "outputs": [
    {
     "name": "stdout",
     "output_type": "stream",
     "text": [
      "Predict   0         1         2         3         4         \n",
      "Actual\n",
      "0         1         3         0         0         0         \n",
      "\n",
      "1         0         76        50        4         0         \n",
      "\n",
      "2         0         40        108       20        1         \n",
      "\n",
      "3         0         6         38        17        2         \n",
      "\n",
      "4         0         1         8         6         5         \n",
      "\n",
      "\n",
      "\n",
      "\n",
      "\n",
      "Overall Statistics : \n",
      "\n",
      "95% CI                                                            (0.48652,0.58602)\n",
      "ACC Macro                                                         0.81451\n",
      "ARI                                                               0.10726\n",
      "AUNP                                                              0.63061\n",
      "AUNU                                                              0.62547\n",
      "Bangdiwala B                                                      0.32891\n",
      "Bennett S                                                         0.42034\n",
      "CBA                                                               0.37677\n",
      "CSI                                                               0.02256\n",
      "Chi-Squared                                                       237.38597\n",
      "Chi-Squared DF                                                    16\n",
      "Conditional Entropy                                               1.29143\n",
      "Cramer V                                                          0.39211\n",
      "Cross Entropy                                                     1.82141\n",
      "F1 Macro                                                          0.44781\n",
      "F1 Micro                                                          0.53627\n",
      "FNR Macro                                                         0.6013\n",
      "FNR Micro                                                         0.46373\n",
      "FPR Macro                                                         0.14776\n",
      "FPR Micro                                                         0.11593\n",
      "Gwet AC1                                                          0.44877\n",
      "Hamming Loss                                                      0.46373\n",
      "Joint Entropy                                                     3.05834\n",
      "KL Divergence                                                     0.0545\n",
      "Kappa                                                             0.27281\n",
      "Kappa 95% CI                                                      (0.1948,0.35082)\n",
      "Kappa No Prevalence                                               0.07254\n",
      "Kappa Standard Error                                              0.0398\n",
      "Kappa Unbiased                                                    0.26964\n",
      "Krippendorff Alpha                                                0.27058\n",
      "Lambda A                                                          0.18894\n",
      "Lambda B                                                          0.15934\n",
      "Mutual Information                                                0.2301\n",
      "NIR                                                               0.43782\n",
      "Overall ACC                                                       0.53627\n",
      "Overall CEN                                                       0.46664\n",
      "Overall J                                                         (1.47996,0.29599)\n",
      "Overall MCC                                                       0.27558\n",
      "Overall MCEN                                                      0.5463\n",
      "Overall RACC                                                      0.3623\n",
      "Overall RACCU                                                     0.36507\n",
      "P-Value                                                           6e-05\n",
      "PPV Macro                                                         0.62386\n",
      "PPV Micro                                                         0.53627\n",
      "Pearson C                                                         0.61709\n",
      "Phi-Squared                                                       0.61499\n",
      "RCI                                                               0.13023\n",
      "RR                                                                77.2\n",
      "Reference Entropy                                                 1.7669\n",
      "Response Entropy                                                  1.52153\n",
      "SOA1(Landis & Koch)                                               Fair\n",
      "SOA2(Fleiss)                                                      Poor\n",
      "SOA3(Altman)                                                      Fair\n",
      "SOA4(Cicchetti)                                                   Poor\n",
      "SOA5(Cramer)                                                      Moderate\n",
      "SOA6(Matthews)                                                    Negligible\n",
      "Scott PI                                                          0.26964\n",
      "Standard Error                                                    0.02538\n",
      "TNR Macro                                                         0.85224\n",
      "TNR Micro                                                         0.88407\n",
      "TPR Macro                                                         0.3987\n",
      "TPR Micro                                                         0.53627\n",
      "Zero-one Loss                                                     179\n",
      "\n",
      "Class Statistics :\n",
      "\n",
      "Classes                                                           0             1             2             3             4             \n",
      "ACC(Accuracy)                                                     0.99223       0.73057       0.59326       0.80311       0.95337       \n",
      "AGF(Adjusted F-score)                                             0.54063       0.68374       0.62678       0.49804       0.52399       \n",
      "AGM(Adjusted geometric mean)                                      0.7487        0.73326       0.58278       0.68261       0.73831       \n",
      "AM(Difference between automatic and manual classification)        -3            -4            35            -16           -12           \n",
      "AUC(Area under the ROC curve)                                     0.625         0.69465       0.59833       0.58848       0.6209        \n",
      "AUCI(AUC value interpretation)                                    Fair          Fair          Poor          Poor          Fair          \n",
      "AUPR(Area under the PR curve)                                     0.625         0.59389       0.58423       0.31577       0.4375        \n",
      "BCD(Bray-Curtis dissimilarity)                                    0.00389       0.00518       0.04534       0.02073       0.01554       \n",
      "BM(Informedness or bookmaker informedness)                        0.25          0.3893        0.19666       0.17696       0.2418        \n",
      "CEN(Confusion entropy)                                            0.14739       0.40191       0.47929       0.57122       0.53598       \n",
      "DOR(Diagnostic odds ratio)                                        None          5.79852       2.23156       3.60942       40.33333      \n",
      "DP(Discriminant power)                                            None          0.42084       0.1922        0.30733       0.88525       \n",
      "DPI(Discriminant power interpretation)                            None          Poor          Poor          Poor          Poor          \n",
      "ERR(Error rate)                                                   0.00777       0.26943       0.40674       0.19689       0.04663       \n",
      "F0.5(F0.5 score)                                                  0.625         0.59937       0.54822       0.33865       0.48077       \n",
      "F1(F1 score - harmonic mean of precision and sensitivity)         0.4           0.59375       0.57909       0.30909       0.35714       \n",
      "F2(F2 score)                                                      0.29412       0.58824       0.61364       0.28428       0.28409       \n",
      "FDR(False discovery rate)                                         0.0           0.39683       0.47059       0.6383        0.375         \n",
      "FN(False negative/miss/type 2 error)                              3             54            61            46            15            \n",
      "FNR(Miss rate or false negative rate)                             0.75          0.41538       0.36095       0.73016       0.75          \n",
      "FOR(False omission rate)                                          0.00779       0.20769       0.33516       0.13569       0.03968       \n",
      "FP(False positive/type 1 error/false alarm)                       0             50            96            30            3             \n",
      "FPR(Fall-out or false positive rate)                              0.0           0.19531       0.4424        0.09288       0.0082        \n",
      "G(G-measure geometric mean of precision and sensitivity)          0.5           0.59382       0.58165       0.31241       0.39528       \n",
      "GI(Gini index)                                                    0.25          0.3893        0.19666       0.17696       0.2418        \n",
      "GM(G-mean geometric mean of specificity and sensitivity)          0.5           0.68588       0.59694       0.49475       0.49795       \n",
      "IBA(Index of balanced accuracy)                                   0.0625        0.3669        0.38536       0.08879       0.06402       \n",
      "ICSI(Individual classification success index)                     0.25          0.18779       0.16847       -0.36846      -0.125        \n",
      "IS(Information score)                                             6.59246       0.84074       0.27404       1.14805       3.59246       \n",
      "J(Jaccard index)                                                  0.25          0.42222       0.40755       0.1828        0.21739       \n",
      "LS(Lift score)                                                    96.5          1.79096       1.20919       2.21614       12.0625       \n",
      "MCC(Matthews correlation coefficient)                             0.49805       0.39238       0.19545       0.19999       0.37621       \n",
      "MCCI(Matthews correlation coefficient interpretation)             Weak          Weak          Negligible    Negligible    Weak          \n",
      "MCEN(Modified confusion entropy)                                  0.10376       0.47374       0.57723       0.60967       0.57847       \n",
      "MK(Markedness)                                                    0.99221       0.39548       0.19425       0.22601       0.58532       \n",
      "N(Condition negative)                                             382           256           217           323           366           \n",
      "NLR(Negative likelihood ratio)                                    0.75          0.51621       0.64732       0.80492       0.7562        \n",
      "NLRI(Negative likelihood ratio interpretation)                    Negligible    Negligible    Negligible    Negligible    Negligible    \n",
      "NPV(Negative predictive value)                                    0.99221       0.79231       0.66484       0.86431       0.96032       \n",
      "OC(Overlap coefficient)                                           1.0           0.60317       0.63905       0.3617        0.625         \n",
      "OOC(Otsuka-Ochiai coefficient)                                    0.5           0.59382       0.58165       0.31241       0.39528       \n",
      "OP(Optimized precision)                                           0.39223       0.57217       0.5252        0.26165       0.35601       \n",
      "P(Condition positive or support)                                  4             130           169           63            20            \n",
      "PLR(Positive likelihood ratio)                                    None          2.99323       1.44453       2.90529       30.5          \n",
      "PLRI(Positive likelihood ratio interpretation)                    None          Poor          Poor          Poor          Good          \n",
      "POP(Population)                                                   386           386           386           386           386           \n",
      "PPV(Precision or positive predictive value)                       1.0           0.60317       0.52941       0.3617        0.625         \n",
      "PRE(Prevalence)                                                   0.01036       0.33679       0.43782       0.16321       0.05181       \n",
      "Q(Yule Q - coefficient of colligation)                            None          0.70582       0.3811        0.56611       0.95161       \n",
      "QI(Yule Q interpretation)                                         None          Moderate      Weak          Moderate      Strong        \n",
      "RACC(Random accuracy)                                             3e-05         0.10994       0.23139       0.01987       0.00107       \n",
      "RACCU(Random accuracy unbiased)                                   4e-05         0.10996       0.23344       0.0203        0.00132       \n",
      "TN(True negative/correct rejection)                               382           206           121           293           363           \n",
      "TNR(Specificity or true negative rate)                            1.0           0.80469       0.5576        0.90712       0.9918        \n",
      "TON(Test outcome negative)                                        385           260           182           339           378           \n",
      "TOP(Test outcome positive)                                        1             126           204           47            8             \n",
      "TP(True positive/hit)                                             1             76            108           17            5             \n",
      "TPR(Sensitivity, recall, hit rate, or true positive rate)         0.25          0.58462       0.63905       0.26984       0.25          \n",
      "Y(Youden index)                                                   0.25          0.3893        0.19666       0.17696       0.2418        \n",
      "dInd(Distance index)                                              0.75          0.45901       0.57096       0.73604       0.75004       \n",
      "sInd(Similarity index)                                            0.46967       0.67543       0.59627       0.47954       0.46964       \n",
      "\n"
     ]
    }
   ],
   "source": [
    "print(cm)"
   ]
  },
  {
   "cell_type": "code",
   "execution_count": null,
   "metadata": {},
   "outputs": [],
   "source": []
  }
 ],
 "metadata": {
  "kernelspec": {
   "display_name": "Python [conda env:gpt3] *",
   "language": "python",
   "name": "conda-env-gpt3-py"
  }
 },
 "nbformat": 4,
 "nbformat_minor": 4
}
