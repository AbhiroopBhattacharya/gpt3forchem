{
 "cells": [
  {
   "cell_type": "code",
   "execution_count": 70,
   "metadata": {},
   "outputs": [
    {
     "name": "stdout",
     "output_type": "stream",
     "text": [
      "The autoreload extension is already loaded. To reload it, use:\n",
      "  %reload_ext autoreload\n"
     ]
    }
   ],
   "source": [
    "%load_ext autoreload \n",
    "%autoreload 2"
   ]
  },
  {
   "cell_type": "markdown",
   "metadata": {},
   "source": [
    "We can add context in two ways to help improve the model performance:\n",
    "\n",
    "1. Train on multiple small datasets at the same time (e.g. Xe, Kr, CH4, N2, H2O Henry coefficients) instead of trainin only on one dataset.\n",
    "\n",
    "2. Train with additional information about the gases and test if this can be used by the model to \"extrapolate\" to unseen guests\n",
    "\n",
    "All available outputs are\n",
    "\n",
    "- \"outputs.pbe.bandgap\",\n",
    "- \"outputs.Xe-henry_coefficient-mol--kg--Pa\",\n",
    "- \"outputs.Kr-henry_coefficient-mol--kg--Pa\",\n",
    "- \"outputs.H2O-henry_coefficient-mol--kg--Pa\",\n",
    "- \"outputs.H2S-henry_coefficient-mol--kg--Pa\",\n",
    "- \"outputs.CO2-henry_coefficient-mol--kg--Pa\",\n",
    "- \"outputs.CH4-henry_coefficient-mol--kg--Pa\",\n",
    "- \"outputs.O2-henry_coefficient-mol--kg--Pa\",\n"
   ]
  },
  {
   "cell_type": "code",
   "execution_count": 71,
   "metadata": {},
   "outputs": [],
   "source": [
    "from gpt3forchem.data import get_mof_data, discretize\n",
    "from sklearn.model_selection import train_test_split\n",
    "from gpt3forchem.input import (\n",
    "    create_single_property_forward_prompts,\n",
    "    create_single_property_forward_prompts_multiple_targets,\n",
    ")\n",
    "from gpt3forchem.api_wrappers import extract_prediction, fine_tune, query_gpt3\n",
    "from collections import Counter\n",
    "import numpy as np \n",
    "from pycm import ConfusionMatrix\n",
    "import time"
   ]
  },
  {
   "cell_type": "code",
   "execution_count": 3,
   "metadata": {},
   "outputs": [
    {
     "name": "stderr",
     "output_type": "stream",
     "text": [
      "/Users/kevinmaikjablonka/git/kjappelbaum/gpt3forchem/gpt3forchem/data.py:76: DtypeWarning: Columns (23,24,25,26,27,35,36,37,38,39,47,48,49,50,51) have mixed types. Specify dtype option on import or set low_memory=False.\n",
      "  return HashableDataFrame(pd.read_csv(os.path.join(datadir, \"mof.csv\")))\n"
     ]
    }
   ],
   "source": [
    "df = get_mof_data()\n"
   ]
  },
  {
   "cell_type": "code",
   "execution_count": 25,
   "metadata": {},
   "outputs": [],
   "source": [
    "df = df.dropna(subset=[\"outputs.H2O-henry_coefficient-mol--kg--Pa\"])\n"
   ]
  },
  {
   "cell_type": "markdown",
   "metadata": {},
   "source": [
    "Let's get the logs of the Henry coefficients.\n"
   ]
  },
  {
   "cell_type": "code",
   "execution_count": 30,
   "metadata": {},
   "outputs": [],
   "source": [
    "features = [\n",
    "    \"outputs.Xe-henry_coefficient-mol--kg--Pa\",\n",
    "    \"outputs.Kr-henry_coefficient-mol--kg--Pa\",\n",
    "    \"outputs.H2O-henry_coefficient-mol--kg--Pa\",\n",
    "    \"outputs.H2S-henry_coefficient-mol--kg--Pa\",\n",
    "    \"outputs.CO2-henry_coefficient-mol--kg--Pa\",\n",
    "    \"outputs.CH4-henry_coefficient-mol--kg--Pa\",\n",
    "    \"outputs.O2-henry_coefficient-mol--kg--Pa\",\n",
    "]\n"
   ]
  },
  {
   "cell_type": "code",
   "execution_count": 36,
   "metadata": {},
   "outputs": [],
   "source": [
    "for feature in features:\n",
    "    df[feature + '_log'] = np.log10(df[feature] + 1e-40)"
   ]
  },
  {
   "cell_type": "markdown",
   "metadata": {},
   "source": [
    "Since the datasets are relatively small, we will only work with three bins."
   ]
  },
  {
   "cell_type": "code",
   "execution_count": 69,
   "metadata": {},
   "outputs": [],
   "source": [
    "for feature in features:\n",
    "\n",
    "    discretize(\n",
    "        df, f\"{feature}_log\", n_bins=3, labels=[\"low\", \"medium\", \"high\"]\n",
    "    )\n"
   ]
  },
  {
   "cell_type": "code",
   "execution_count": 42,
   "metadata": {},
   "outputs": [
    {
     "data": {
      "text/plain": [
       "Counter({'medium': 47, 'low': 99, 'high': 7})"
      ]
     },
     "execution_count": 42,
     "metadata": {},
     "output_type": "execute_result"
    }
   ],
   "source": [
    "Counter(df[\"outputs.H2O-henry_coefficient-mol--kg--Pa_log_cat\"])\n"
   ]
  },
  {
   "cell_type": "code",
   "execution_count": 73,
   "metadata": {},
   "outputs": [],
   "source": [
    "train_df, test_df = train_test_split(\n",
    "    df, train_size=0.8, stratify=df[\"outputs.H2O-henry_coefficient-mol--kg--Pa_log_cat\"]\n",
    ")\n"
   ]
  },
  {
   "cell_type": "markdown",
   "metadata": {},
   "source": [
    "# 1. Train on multiple small datasets at the same time\n"
   ]
  },
  {
   "cell_type": "markdown",
   "metadata": {},
   "source": [
    "Let's take H2O Henry coefficient as our target. We first train a model just on it and then train a model on it and a bunch of Henry coefficients of other molecules (but we still only test on H2O).\n"
   ]
  },
  {
   "cell_type": "code",
   "execution_count": 74,
   "metadata": {},
   "outputs": [],
   "source": [
    "train_prompts = create_single_property_forward_prompts(train_df, \"outputs.H2O-henry_coefficient-mol--kg--Pa_log_cat\", {'outputs.H2O-henry_coefficient-mol--kg--Pa_log_cat': 'H2O Henry coefficient'}, representation_col=\"info.mofid.mofid_clean\", encode_value=False)"
   ]
  },
  {
   "cell_type": "code",
   "execution_count": 75,
   "metadata": {},
   "outputs": [],
   "source": [
    "test_prompts = create_single_property_forward_prompts(\n",
    "    test_df,\n",
    "    \"outputs.H2O-henry_coefficient-mol--kg--Pa_log_cat\",\n",
    "    {\"outputs.H2O-henry_coefficient-mol--kg--Pa_log_cat\": \"H2O Henry coefficient\"},\n",
    "    representation_col=\"info.mofid.mofid_clean\",\n",
    "    encode_value=False,\n",
    ")\n"
   ]
  },
  {
   "cell_type": "code",
   "execution_count": 76,
   "metadata": {},
   "outputs": [],
   "source": [
    "filename_base = time.strftime(\"%Y-%m-%d-%H-%M-%S\", time.localtime())\n",
    "train_filename = f\"run_files/{filename_base}_train_prompts_mof_h2o.jsonl\"\n",
    "valid_filename = f\"run_files/{filename_base}_valid_prompts_mof_h2o.jsonl\"\n",
    "\n",
    "train_prompts.to_json(train_filename, orient=\"records\", lines=True)\n",
    "test_prompts.to_json(valid_filename, orient=\"records\", lines=True)"
   ]
  },
  {
   "cell_type": "code",
   "execution_count": 78,
   "metadata": {},
   "outputs": [
    {
     "name": "stderr",
     "output_type": "stream",
     "text": [
      "Traceback (most recent call last):\n",
      "  File \"/Users/kevinmaikjablonka/miniconda3/envs/gpt3/bin/openai\", line 8, in <module>\n",
      "    sys.exit(main())\n",
      "  File \"/Users/kevinmaikjablonka/miniconda3/envs/gpt3/lib/python3.9/site-packages/openai/_openai_scripts.py\", line 63, in main\n",
      "    args.func(args)\n",
      "  File \"/Users/kevinmaikjablonka/miniconda3/envs/gpt3/lib/python3.9/site-packages/openai/cli.py\", line 545, in sync\n",
      "    resp = openai.wandb_logger.WandbLogger.sync(\n",
      "  File \"/Users/kevinmaikjablonka/miniconda3/envs/gpt3/lib/python3.9/site-packages/openai/wandb_logger.py\", line 74, in sync\n",
      "    fine_tune_logged = [\n",
      "  File \"/Users/kevinmaikjablonka/miniconda3/envs/gpt3/lib/python3.9/site-packages/openai/wandb_logger.py\", line 75, in <listcomp>\n",
      "    cls._log_fine_tune(\n",
      "  File \"/Users/kevinmaikjablonka/miniconda3/envs/gpt3/lib/python3.9/site-packages/openai/wandb_logger.py\", line 125, in _log_fine_tune\n",
      "    wandb_run = cls._get_wandb_run(run_path)\n",
      "  File \"/Users/kevinmaikjablonka/miniconda3/envs/gpt3/lib/python3.9/site-packages/openai/wandb_logger.py\", line 190, in _get_wandb_run\n",
      "    cls._ensure_logged_in()\n",
      "  File \"/Users/kevinmaikjablonka/miniconda3/envs/gpt3/lib/python3.9/site-packages/openai/wandb_logger.py\", line 186, in _ensure_logged_in\n",
      "    raise Exception(\"You need to log in to wandb\")\n",
      "Exception: You need to log in to wandb\n"
     ]
    },
    {
     "data": {
      "text/plain": [
       "'ada:ft-lsmoepfl-2022-09-13-20-55-28'"
      ]
     },
     "execution_count": 78,
     "metadata": {},
     "output_type": "execute_result"
    }
   ],
   "source": [
    "fine_tune(train_filename, valid_filename)"
   ]
  },
  {
   "cell_type": "code",
   "execution_count": 79,
   "metadata": {},
   "outputs": [],
   "source": [
    "completions = query_gpt3('ada:ft-lsmoepfl-2022-09-13-20-55-28', test_prompts)"
   ]
  },
  {
   "cell_type": "code",
   "execution_count": 80,
   "metadata": {},
   "outputs": [],
   "source": [
    "predictions = [\n",
    "    extract_prediction(completions, i) for i in range(len(completions['choices']))\n",
    "]"
   ]
  },
  {
   "cell_type": "code",
   "execution_count": 81,
   "metadata": {},
   "outputs": [],
   "source": [
    "true = test_prompts['completion'].apply(lambda x: x.split('@')[0].strip())"
   ]
  },
  {
   "cell_type": "code",
   "execution_count": 82,
   "metadata": {},
   "outputs": [],
   "source": [
    "cm = ConfusionMatrix(actual_vector=true.to_list(), predict_vector=predictions)"
   ]
  },
  {
   "cell_type": "code",
   "execution_count": 84,
   "metadata": {},
   "outputs": [
    {
     "name": "stdout",
     "output_type": "stream",
     "text": [
      "Predict      high         low          medium       \n",
      "Actual\n",
      "high         0            0            1            \n",
      "\n",
      "low          0            19           1            \n",
      "\n",
      "medium       0            9            1            \n",
      "\n",
      "\n",
      "\n",
      "\n",
      "\n",
      "Overall Statistics : \n",
      "\n",
      "95% CI                                                            (0.47673,0.81359)\n",
      "ACC Macro                                                         0.76344\n",
      "ARI                                                               0.12517\n",
      "AUNP                                                              0.54329\n",
      "AUNU                                                              0.52276\n",
      "Bangdiwala B                                                      0.61356\n",
      "Bennett S                                                         0.46774\n",
      "CBA                                                               0.25952\n",
      "CSI                                                               None\n",
      "Chi-Squared                                                       None\n",
      "Chi-Squared DF                                                    4\n",
      "Conditional Entropy                                               0.33606\n",
      "Cramer V                                                          None\n",
      "Cross Entropy                                                     1.18159\n",
      "F1 Macro                                                          0.31517\n",
      "F1 Micro                                                          0.64516\n",
      "FNR Macro                                                         0.65\n",
      "FNR Micro                                                         0.35484\n",
      "FPR Macro                                                         0.30447\n",
      "FPR Micro                                                         0.17742\n",
      "Gwet AC1                                                          0.56822\n",
      "Hamming Loss                                                      0.35484\n",
      "Joint Entropy                                                     1.43033\n",
      "KL Divergence                                                     None\n",
      "Kappa                                                             0.08086\n",
      "Kappa 95% CI                                                      (-0.35543,0.51715)\n",
      "Kappa No Prevalence                                               0.29032\n",
      "Kappa Standard Error                                              0.2226\n",
      "Kappa Unbiased                                                    0.00438\n",
      "Krippendorff Alpha                                                0.02044\n",
      "Lambda A                                                          0.0\n",
      "Lambda B                                                          0.33333\n",
      "Mutual Information                                                0.12262\n",
      "NIR                                                               0.64516\n",
      "Overall ACC                                                       0.64516\n",
      "Overall CEN                                                       0.31851\n",
      "Overall J                                                         (0.73851,0.24617)\n",
      "Overall MCC                                                       0.10792\n",
      "Overall MCEN                                                      0.36852\n",
      "Overall RACC                                                      0.61394\n",
      "Overall RACCU                                                     0.6436\n",
      "P-Value                                                           0.58119\n",
      "PPV Macro                                                         None\n",
      "PPV Micro                                                         0.64516\n",
      "Pearson C                                                         None\n",
      "Phi-Squared                                                       None\n",
      "RCI                                                               0.11206\n",
      "RR                                                                10.33333\n",
      "Reference Entropy                                                 1.09427\n",
      "Response Entropy                                                  0.45869\n",
      "SOA1(Landis & Koch)                                               Slight\n",
      "SOA2(Fleiss)                                                      Poor\n",
      "SOA3(Altman)                                                      Poor\n",
      "SOA4(Cicchetti)                                                   Poor\n",
      "SOA5(Cramer)                                                      None\n",
      "SOA6(Matthews)                                                    Negligible\n",
      "Scott PI                                                          0.00438\n",
      "Standard Error                                                    0.08593\n",
      "TNR Macro                                                         0.69553\n",
      "TNR Micro                                                         0.82258\n",
      "TPR Macro                                                         0.35\n",
      "TPR Micro                                                         0.64516\n",
      "Zero-one Loss                                                     11\n",
      "\n",
      "Class Statistics :\n",
      "\n",
      "Classes                                                           high          low           medium        \n",
      "ACC(Accuracy)                                                     0.96774       0.67742       0.64516       \n",
      "AGF(Adjusted F-score)                                             0.0           0.61842       0.2882        \n",
      "AGM(Adjusted geometric mean)                                      0             0.35437       0.5447        \n",
      "AM(Difference between automatic and manual classification)        -1            8             -7            \n",
      "AUC(Area under the ROC curve)                                     0.5           0.56591       0.50238       \n",
      "AUCI(AUC value interpretation)                                    Poor          Poor          Poor          \n",
      "AUPR(Area under the PR curve)                                     None          0.81429       0.21667       \n",
      "BCD(Bray-Curtis dissimilarity)                                    0.01613       0.12903       0.1129        \n",
      "BM(Informedness or bookmaker informedness)                        0.0           0.13182       0.00476       \n",
      "CEN(Confusion entropy)                                            0.0           0.28459       0.46829       \n",
      "DOR(Diagnostic odds ratio)                                        None          4.22222       1.05556       \n",
      "DP(Discriminant power)                                            None          0.34488       0.01295       \n",
      "DPI(Discriminant power interpretation)                            None          Poor          Poor          \n",
      "ERR(Error rate)                                                   0.03226       0.32258       0.35484       \n",
      "F0.5(F0.5 score)                                                  0.0           0.7197        0.22727       \n",
      "F1(F1 score - harmonic mean of precision and sensitivity)         0.0           0.79167       0.15385       \n",
      "F2(F2 score)                                                      0.0           0.87963       0.11628       \n",
      "FDR(False discovery rate)                                         None          0.32143       0.66667       \n",
      "FN(False negative/miss/type 2 error)                              1             1             9             \n",
      "FNR(Miss rate or false negative rate)                             1.0           0.05          0.9           \n",
      "FOR(False omission rate)                                          0.03226       0.33333       0.32143       \n",
      "FP(False positive/type 1 error/false alarm)                       0             9             2             \n",
      "FPR(Fall-out or false positive rate)                              0.0           0.81818       0.09524       \n",
      "G(G-measure geometric mean of precision and sensitivity)          None          0.8029        0.18257       \n",
      "GI(Gini index)                                                    0.0           0.13182       0.00476       \n",
      "GM(G-mean geometric mean of specificity and sensitivity)          0.0           0.4156        0.30079       \n",
      "IBA(Index of balanced accuracy)                                   0.0           0.30541       0.01766       \n",
      "ICSI(Individual classification success index)                     None          0.62857       -0.56667      \n",
      "IS(Information score)                                             None          0.07284       0.04731       \n",
      "J(Jaccard index)                                                  0.0           0.65517       0.08333       \n",
      "LS(Lift score)                                                    None          1.05179       1.03333       \n",
      "MCC(Matthews correlation coefficient)                             None          0.21333       0.00753       \n",
      "MCCI(Matthews correlation coefficient interpretation)             None          Negligible    Negligible    \n",
      "MCEN(Modified confusion entropy)                                  0.0           0.3457        0.45439       \n",
      "MK(Markedness)                                                    None          0.34524       0.0119        \n",
      "N(Condition negative)                                             30            11            21            \n",
      "NLR(Negative likelihood ratio)                                    1.0           0.275         0.99474       \n",
      "NLRI(Negative likelihood ratio interpretation)                    Negligible    Poor          Negligible    \n",
      "NPV(Negative predictive value)                                    0.96774       0.66667       0.67857       \n",
      "OC(Overlap coefficient)                                           None          0.95          0.33333       \n",
      "OOC(Otsuka-Ochiai coefficient)                                    None          0.8029        0.18257       \n",
      "OP(Optimized precision)                                           -0.03226      -0.0013       -0.15579      \n",
      "P(Condition positive or support)                                  1             20            10            \n",
      "PLR(Positive likelihood ratio)                                    None          1.16111       1.05          \n",
      "PLRI(Positive likelihood ratio interpretation)                    None          Poor          Poor          \n",
      "POP(Population)                                                   31            31            31            \n",
      "PPV(Precision or positive predictive value)                       None          0.67857       0.33333       \n",
      "PRE(Prevalence)                                                   0.03226       0.64516       0.32258       \n",
      "Q(Yule Q - coefficient of colligation)                            None          0.61702       0.02703       \n",
      "QI(Yule Q interpretation)                                         None          Moderate      Negligible    \n",
      "RACC(Random accuracy)                                             0.0           0.58273       0.03122       \n",
      "RACCU(Random accuracy unbiased)                                   0.00026       0.59938       0.04396       \n",
      "TN(True negative/correct rejection)                               30            2             19            \n",
      "TNR(Specificity or true negative rate)                            1.0           0.18182       0.90476       \n",
      "TON(Test outcome negative)                                        31            3             28            \n",
      "TOP(Test outcome positive)                                        0             28            3             \n",
      "TP(True positive/hit)                                             0             19            1             \n",
      "TPR(Sensitivity, recall, hit rate, or true positive rate)         0.0           0.95          0.1           \n",
      "Y(Youden index)                                                   0.0           0.13182       0.00476       \n",
      "dInd(Distance index)                                              1.0           0.81971       0.90503       \n",
      "sInd(Similarity index)                                            0.29289       0.42038       0.36005       \n",
      "\n"
     ]
    }
   ],
   "source": [
    "print(cm)"
   ]
  },
  {
   "cell_type": "markdown",
   "metadata": {},
   "source": [
    "Now, let's use the same train/test split - but add additional outputs."
   ]
  },
  {
   "cell_type": "code",
   "execution_count": 85,
   "metadata": {},
   "outputs": [],
   "source": [
    "train_prompts_aug = create_single_property_forward_prompts_multiple_targets(\n",
    "    train_df,\n",
    "    [\n",
    "        \"outputs.Xe-henry_coefficient-mol--kg--Pa_log_cat\",\n",
    "        \"outputs.Kr-henry_coefficient-mol--kg--Pa_log_cat\",\n",
    "        \"outputs.H2S-henry_coefficient-mol--kg--Pa_log_cat\",\n",
    "        \"outputs.CO2-henry_coefficient-mol--kg--Pa_log_cat\",\n",
    "        \"outputs.CH4-henry_coefficient-mol--kg--Pa_log_cat\",\n",
    "        \"outputs.O2-henry_coefficient-mol--kg--Pa_log_cat\",\n",
    "    ],\n",
    "    {\n",
    "        \"outputs.Xe-henry_coefficient-mol--kg--Pa_log_cat\": \"Xe Henry coefficient\",\n",
    "        \"outputs.Kr-henry_coefficient-mol--kg--Pa_log_cat\": \"Kr Henry coefficient\",\n",
    "        \"outputs.H2S-henry_coefficient-mol--kg--Pa_log_cat\": \"H2S Henry coefficient\",\n",
    "        \"outputs.CO2-henry_coefficient-mol--kg--Pa_log_cat\": \"CO2 Henry coefficient\",\n",
    "        \"outputs.CH4-henry_coefficient-mol--kg--Pa_log_cat\": \"CH4 Henry coefficient\",\n",
    "        \"outputs.O2-henry_coefficient-mol--kg--Pa_log_cat\": \"O2 Henry coefficient\",\n",
    "    },\n",
    "    representation_col=\"info.mofid.mofid_clean\",\n",
    "    encode_value=False,\n",
    ")\n"
   ]
  },
  {
   "cell_type": "code",
   "execution_count": 97,
   "metadata": {},
   "outputs": [],
   "source": [
    "import pandas as pd"
   ]
  },
  {
   "cell_type": "code",
   "execution_count": 98,
   "metadata": {},
   "outputs": [],
   "source": [
    "train_prompts_aug_ = []\n",
    "\n",
    "for i, row in train_prompts_aug.iterrows():\n",
    "    if not 'nan' in  row['completion']:\n",
    "        train_prompts_aug_.append(row)\n",
    "\n",
    "train_prompts_aug = pd.DataFrame(train_prompts_aug_)"
   ]
  },
  {
   "cell_type": "code",
   "execution_count": 99,
   "metadata": {},
   "outputs": [],
   "source": [
    "train_augment_filename = f\"run_files/{filename_base}_train_prompts_mof_aug.jsonl\"\n",
    "\n",
    "train_prompts_aug.to_json(train_augment_filename, orient=\"records\", lines=True)"
   ]
  },
  {
   "cell_type": "code",
   "execution_count": 100,
   "metadata": {},
   "outputs": [
    {
     "name": "stdout",
     "output_type": "stream",
     "text": [
      "Fine-tune ft-lOtEpqD3BeNqeZo71xdB83n6 has the status \"pending\" and will not be logged\n",
      "🎉 wandb sync completed successfully\n"
     ]
    },
    {
     "data": {
      "text/plain": [
       "'ada:ft-lsmoepfl-2022-09-13-21-17-29'"
      ]
     },
     "execution_count": 100,
     "metadata": {},
     "output_type": "execute_result"
    }
   ],
   "source": [
    "fine_tune(train_augment_filename, valid_filename)"
   ]
  },
  {
   "cell_type": "code",
   "execution_count": 101,
   "metadata": {},
   "outputs": [],
   "source": [
    "completions_aug = query_gpt3('ada:ft-lsmoepfl-2022-09-13-21-17-29', test_prompts)"
   ]
  },
  {
   "cell_type": "code",
   "execution_count": 102,
   "metadata": {},
   "outputs": [],
   "source": [
    "predictions_aug = [\n",
    "    extract_prediction(completions_aug, i) for i in range(len(completions_aug['choices']))\n",
    "]"
   ]
  },
  {
   "cell_type": "code",
   "execution_count": 103,
   "metadata": {},
   "outputs": [],
   "source": [
    "true = test_prompts['completion'].apply(lambda x: x.split('@')[0].strip())"
   ]
  },
  {
   "cell_type": "code",
   "execution_count": 104,
   "metadata": {},
   "outputs": [],
   "source": [
    "cm_aug = ConfusionMatrix(actual_vector=true.to_list(), predict_vector=predictions_aug)"
   ]
  },
  {
   "cell_type": "code",
   "execution_count": 106,
   "metadata": {},
   "outputs": [
    {
     "name": "stdout",
     "output_type": "stream",
     "text": [
      "Predict      high         low          medium       \n",
      "Actual\n",
      "high         0            0            1            \n",
      "\n",
      "low          3            2            15           \n",
      "\n",
      "medium       0            0            10           \n",
      "\n",
      "\n",
      "\n",
      "\n",
      "\n",
      "Overall Statistics : \n",
      "\n",
      "95% CI                                                            (0.21563,0.55856)\n",
      "ACC Macro                                                         0.5914\n",
      "ARI                                                               -0.10601\n",
      "AUNP                                                              0.56905\n",
      "AUNU                                                              0.53968\n",
      "Bangdiwala B                                                      0.34323\n",
      "Bennett S                                                         0.08065\n",
      "CBA                                                               0.16154\n",
      "CSI                                                               -0.17179\n",
      "Chi-Squared                                                       3.27885\n",
      "Chi-Squared DF                                                    4\n",
      "Conditional Entropy                                               0.68001\n",
      "Cramer V                                                          0.22997\n",
      "Cross Entropy                                                     2.74164\n",
      "F1 Macro                                                          0.24579\n",
      "F1 Micro                                                          0.3871\n",
      "FNR Macro                                                         0.63333\n",
      "FNR Micro                                                         0.6129\n",
      "FPR Macro                                                         0.2873\n",
      "FPR Micro                                                         0.30645\n",
      "Gwet AC1                                                          0.16454\n",
      "Hamming Loss                                                      0.6129\n",
      "Joint Entropy                                                     1.77428\n",
      "KL Divergence                                                     1.64737\n",
      "Kappa                                                             0.10486\n",
      "Kappa 95% CI                                                      (-0.14556,0.35529)\n",
      "Kappa No Prevalence                                               -0.22581\n",
      "Kappa Standard Error                                              0.12777\n",
      "Kappa Unbiased                                                    -0.15039\n",
      "Krippendorff Alpha                                                -0.13184\n",
      "Lambda A                                                          0.0\n",
      "Lambda B                                                          0.0\n",
      "Mutual Information                                                0.11398\n",
      "NIR                                                               0.64516\n",
      "Overall ACC                                                       0.3871\n",
      "Overall CEN                                                       0.35703\n",
      "Overall J                                                         (0.48462,0.16154)\n",
      "Overall MCC                                                       0.19507\n",
      "Overall MCEN                                                      0.34285\n",
      "Overall RACC                                                      0.3153\n",
      "Overall RACCU                                                     0.46722\n",
      "P-Value                                                           0.99906\n",
      "PPV Macro                                                         0.46154\n",
      "PPV Micro                                                         0.3871\n",
      "Pearson C                                                         0.30928\n",
      "Phi-Squared                                                       0.10577\n",
      "RCI                                                               0.10416\n",
      "RR                                                                10.33333\n",
      "Reference Entropy                                                 1.09427\n",
      "Response Entropy                                                  0.79399\n",
      "SOA1(Landis & Koch)                                               Slight\n",
      "SOA2(Fleiss)                                                      Poor\n",
      "SOA3(Altman)                                                      Poor\n",
      "SOA4(Cicchetti)                                                   Poor\n",
      "SOA5(Cramer)                                                      Moderate\n",
      "SOA6(Matthews)                                                    Negligible\n",
      "Scott PI                                                          -0.15039\n",
      "Standard Error                                                    0.08748\n",
      "TNR Macro                                                         0.7127\n",
      "TNR Micro                                                         0.69355\n",
      "TPR Macro                                                         0.36667\n",
      "TPR Micro                                                         0.3871\n",
      "Zero-one Loss                                                     19\n",
      "\n",
      "Class Statistics :\n",
      "\n",
      "Classes                                                           high          low           medium        \n",
      "ACC(Accuracy)                                                     0.87097       0.41935       0.48387       \n",
      "AGF(Adjusted F-score)                                             0.0           0.22981       0.67966       \n",
      "AGM(Adjusted geometric mean)                                      0             0.49531       0.38705       \n",
      "AM(Difference between automatic and manual classification)        2             -18           16            \n",
      "AUC(Area under the ROC curve)                                     0.45          0.55          0.61905       \n",
      "AUCI(AUC value interpretation)                                    Poor          Poor          Fair          \n",
      "AUPR(Area under the PR curve)                                     0.0           0.55          0.69231       \n",
      "BCD(Bray-Curtis dissimilarity)                                    0.03226       0.29032       0.25806       \n",
      "BM(Informedness or bookmaker informedness)                        -0.1          0.1           0.2381        \n",
      "CEN(Confusion entropy)                                            0.40564       0.38435       0.33494       \n",
      "DOR(Diagnostic odds ratio)                                        0.0           None          None          \n",
      "DP(Discriminant power)                                            None          None          None          \n",
      "DPI(Discriminant power interpretation)                            None          None          None          \n",
      "ERR(Error rate)                                                   0.12903       0.58065       0.51613       \n",
      "F0.5(F0.5 score)                                                  0.0           0.35714       0.4386        \n",
      "F1(F1 score - harmonic mean of precision and sensitivity)         0.0           0.18182       0.55556       \n",
      "F2(F2 score)                                                      0.0           0.12195       0.75758       \n",
      "FDR(False discovery rate)                                         1.0           0.0           0.61538       \n",
      "FN(False negative/miss/type 2 error)                              1             18            0             \n",
      "FNR(Miss rate or false negative rate)                             1.0           0.9           0.0           \n",
      "FOR(False omission rate)                                          0.03571       0.62069       0.0           \n",
      "FP(False positive/type 1 error/false alarm)                       3             0             16            \n",
      "FPR(Fall-out or false positive rate)                              0.1           0.0           0.7619        \n",
      "G(G-measure geometric mean of precision and sensitivity)          0.0           0.31623       0.62017       \n",
      "GI(Gini index)                                                    -0.1          0.1           0.2381        \n",
      "GM(G-mean geometric mean of specificity and sensitivity)          0.0           0.31623       0.48795       \n",
      "IBA(Index of balanced accuracy)                                   0.0           0.01          0.4195        \n",
      "ICSI(Individual classification success index)                     -1.0          0.1           0.38462       \n",
      "IS(Information score)                                             None          0.63227       0.25376       \n",
      "J(Jaccard index)                                                  0.0           0.1           0.38462       \n",
      "LS(Lift score)                                                    0.0           1.55          1.19231       \n",
      "MCC(Matthews correlation coefficient)                             -0.05976      0.19476       0.30261       \n",
      "MCCI(Matthews correlation coefficient interpretation)             Negligible    Negligible    Weak          \n",
      "MCEN(Modified confusion entropy)                                  0.40564       0.36091       0.3193        \n",
      "MK(Markedness)                                                    -0.03571      0.37931       0.38462       \n",
      "N(Condition negative)                                             30            11            21            \n",
      "NLR(Negative likelihood ratio)                                    1.11111       0.9           0.0           \n",
      "NLRI(Negative likelihood ratio interpretation)                    Negligible    Negligible    Good          \n",
      "NPV(Negative predictive value)                                    0.96429       0.37931       1.0           \n",
      "OC(Overlap coefficient)                                           0.0           1.0           1.0           \n",
      "OOC(Otsuka-Ochiai coefficient)                                    0.0           0.31623       0.62017       \n",
      "OP(Optimized precision)                                           -0.12903      -0.39883      -0.13151      \n",
      "P(Condition positive or support)                                  1             20            10            \n",
      "PLR(Positive likelihood ratio)                                    0.0           None          1.3125        \n",
      "PLRI(Positive likelihood ratio interpretation)                    Negligible    None          Poor          \n",
      "POP(Population)                                                   31            31            31            \n",
      "PPV(Precision or positive predictive value)                       0.0           1.0           0.38462       \n",
      "PRE(Prevalence)                                                   0.03226       0.64516       0.32258       \n",
      "Q(Yule Q - coefficient of colligation)                            -1.0          None          None          \n",
      "QI(Yule Q interpretation)                                         Negligible    None          None          \n",
      "RACC(Random accuracy)                                             0.00312       0.04162       0.27055       \n",
      "RACCU(Random accuracy unbiased)                                   0.00416       0.12591       0.33715       \n",
      "TN(True negative/correct rejection)                               27            11            5             \n",
      "TNR(Specificity or true negative rate)                            0.9           1.0           0.2381        \n",
      "TON(Test outcome negative)                                        28            29            5             \n",
      "TOP(Test outcome positive)                                        3             2             26            \n",
      "TP(True positive/hit)                                             0             2             10            \n",
      "TPR(Sensitivity, recall, hit rate, or true positive rate)         0.0           0.1           1.0           \n",
      "Y(Youden index)                                                   -0.1          0.1           0.2381        \n",
      "dInd(Distance index)                                              1.00499       0.9           0.7619        \n",
      "sInd(Similarity index)                                            0.28937       0.3636        0.46125       \n",
      "\n"
     ]
    }
   ],
   "source": [
    "print(cm_aug)"
   ]
  },
  {
   "cell_type": "markdown",
   "metadata": {},
   "source": [
    "Actually, I was stupid - I didn't even include the water data in the training set."
   ]
  },
  {
   "cell_type": "code",
   "execution_count": 107,
   "metadata": {},
   "outputs": [],
   "source": [
    "train_prompts_aug_full = pd.concat([train_prompts_aug, train_prompts])"
   ]
  },
  {
   "cell_type": "code",
   "execution_count": 108,
   "metadata": {},
   "outputs": [],
   "source": [
    "train_augment_full_filename = f\"run_files/{filename_base}_train_prompts_mof_aug_full.jsonl\"\n",
    "\n",
    "train_prompts_aug_full.to_json(train_augment_full_filename, orient=\"records\", lines=True)"
   ]
  },
  {
   "cell_type": "code",
   "execution_count": 109,
   "metadata": {},
   "outputs": [
    {
     "name": "stderr",
     "output_type": "stream",
     "text": [
      "Traceback (most recent call last):\n",
      "  File \"/Users/kevinmaikjablonka/miniconda3/envs/gpt3/bin/openai\", line 8, in <module>\n",
      "    sys.exit(main())\n",
      "  File \"/Users/kevinmaikjablonka/miniconda3/envs/gpt3/lib/python3.9/site-packages/openai/_openai_scripts.py\", line 63, in main\n",
      "    args.func(args)\n",
      "  File \"/Users/kevinmaikjablonka/miniconda3/envs/gpt3/lib/python3.9/site-packages/openai/cli.py\", line 545, in sync\n",
      "    resp = openai.wandb_logger.WandbLogger.sync(\n",
      "  File \"/Users/kevinmaikjablonka/miniconda3/envs/gpt3/lib/python3.9/site-packages/openai/wandb_logger.py\", line 74, in sync\n",
      "    fine_tune_logged = [\n",
      "  File \"/Users/kevinmaikjablonka/miniconda3/envs/gpt3/lib/python3.9/site-packages/openai/wandb_logger.py\", line 75, in <listcomp>\n",
      "    cls._log_fine_tune(\n",
      "  File \"/Users/kevinmaikjablonka/miniconda3/envs/gpt3/lib/python3.9/site-packages/openai/wandb_logger.py\", line 125, in _log_fine_tune\n",
      "    wandb_run = cls._get_wandb_run(run_path)\n",
      "  File \"/Users/kevinmaikjablonka/miniconda3/envs/gpt3/lib/python3.9/site-packages/openai/wandb_logger.py\", line 190, in _get_wandb_run\n",
      "    cls._ensure_logged_in()\n",
      "  File \"/Users/kevinmaikjablonka/miniconda3/envs/gpt3/lib/python3.9/site-packages/openai/wandb_logger.py\", line 186, in _ensure_logged_in\n",
      "    raise Exception(\"You need to log in to wandb\")\n",
      "Exception: You need to log in to wandb\n"
     ]
    },
    {
     "data": {
      "text/plain": [
       "'ada:ft-lsmoepfl-2022-09-14-06-15-26'"
      ]
     },
     "execution_count": 109,
     "metadata": {},
     "output_type": "execute_result"
    }
   ],
   "source": [
    "fine_tune(train_augment_full_filename, valid_filename)"
   ]
  },
  {
   "cell_type": "code",
   "execution_count": 110,
   "metadata": {},
   "outputs": [],
   "source": [
    "completions = query_gpt3('ada:ft-lsmoepfl-2022-09-14-06-15-26', test_prompts)"
   ]
  },
  {
   "cell_type": "code",
   "execution_count": 111,
   "metadata": {},
   "outputs": [],
   "source": [
    "predictions = [extract_prediction(completions, i) for i in range(len(completions['choices']))]"
   ]
  },
  {
   "cell_type": "code",
   "execution_count": 112,
   "metadata": {},
   "outputs": [],
   "source": [
    "cm = ConfusionMatrix(actual_vector=true.to_list(), predict_vector=predictions)"
   ]
  },
  {
   "cell_type": "code",
   "execution_count": 113,
   "metadata": {},
   "outputs": [
    {
     "name": "stdout",
     "output_type": "stream",
     "text": [
      "Predict      high         low          medium       \n",
      "Actual\n",
      "high         0            1            0            \n",
      "\n",
      "low          0            19           1            \n",
      "\n",
      "medium       0            8            2            \n",
      "\n",
      "\n",
      "\n",
      "\n",
      "\n",
      "Overall Statistics : \n",
      "\n",
      "95% CI                                                            (0.51286,0.84198)\n",
      "ACC Macro                                                         0.78495\n",
      "ARI                                                               0.06454\n",
      "AUNP                                                              0.5671\n",
      "AUNU                                                              0.54737\n",
      "Bangdiwala B                                                      0.61864\n",
      "Bennett S                                                         0.51613\n",
      "CBA                                                               0.29286\n",
      "CSI                                                               None\n",
      "Chi-Squared                                                       None\n",
      "Chi-Squared DF                                                    4\n",
      "Conditional Entropy                                               0.41765\n",
      "Cramer V                                                          None\n",
      "Cross Entropy                                                     1.18159\n",
      "F1 Macro                                                          0.36645\n",
      "F1 Micro                                                          0.67742\n",
      "FNR Macro                                                         0.61667\n",
      "FNR Micro                                                         0.32258\n",
      "FPR Macro                                                         0.2886\n",
      "FPR Micro                                                         0.16129\n",
      "Gwet AC1                                                          0.60747\n",
      "Hamming Loss                                                      0.32258\n",
      "Joint Entropy                                                     1.51192\n",
      "KL Divergence                                                     None\n",
      "Kappa                                                             0.16442\n",
      "Kappa 95% CI                                                      (-0.26184,0.59068)\n",
      "Kappa No Prevalence                                               0.35484\n",
      "Kappa Standard Error                                              0.21748\n",
      "Kappa Unbiased                                                    0.09489\n",
      "Krippendorff Alpha                                                0.10949\n",
      "Lambda A                                                          0.09091\n",
      "Lambda B                                                          0.0\n",
      "Mutual Information                                                0.04103\n",
      "NIR                                                               0.64516\n",
      "Overall ACC                                                       0.67742\n",
      "Overall CEN                                                       0.33188\n",
      "Overall J                                                         (0.83699,0.279)\n",
      "Overall MCC                                                       0.21943\n",
      "Overall MCEN                                                      0.38676\n",
      "Overall RACC                                                      0.61394\n",
      "Overall RACCU                                                     0.6436\n",
      "P-Value                                                           0.43278\n",
      "PPV Macro                                                         None\n",
      "PPV Micro                                                         0.67742\n",
      "Pearson C                                                         None\n",
      "Phi-Squared                                                       None\n",
      "RCI                                                               0.0375\n",
      "RR                                                                10.33333\n",
      "Reference Entropy                                                 1.09427\n",
      "Response Entropy                                                  0.45869\n",
      "SOA1(Landis & Koch)                                               Slight\n",
      "SOA2(Fleiss)                                                      Poor\n",
      "SOA3(Altman)                                                      Poor\n",
      "SOA4(Cicchetti)                                                   Poor\n",
      "SOA5(Cramer)                                                      None\n",
      "SOA6(Matthews)                                                    Negligible\n",
      "Scott PI                                                          0.09489\n",
      "Standard Error                                                    0.08396\n",
      "TNR Macro                                                         0.7114\n",
      "TNR Micro                                                         0.83871\n",
      "TPR Macro                                                         0.38333\n",
      "TPR Micro                                                         0.67742\n",
      "Zero-one Loss                                                     10\n",
      "\n",
      "Class Statistics :\n",
      "\n",
      "Classes                                                           high          low           medium        \n",
      "ACC(Accuracy)                                                     0.96774       0.67742       0.70968       \n",
      "AGF(Adjusted F-score)                                             0.0           0.61842       0.41816       \n",
      "AGM(Adjusted geometric mean)                                      0             0.35437       0.6448        \n",
      "AM(Difference between automatic and manual classification)        -1            8             -7            \n",
      "AUC(Area under the ROC curve)                                     0.5           0.56591       0.57619       \n",
      "AUCI(AUC value interpretation)                                    Poor          Poor          Poor          \n",
      "AUPR(Area under the PR curve)                                     None          0.81429       0.43333       \n",
      "BCD(Bray-Curtis dissimilarity)                                    0.01613       0.12903       0.1129        \n",
      "BM(Informedness or bookmaker informedness)                        0.0           0.13182       0.15238       \n",
      "CEN(Confusion entropy)                                            0.0           0.33177       0.35784       \n",
      "DOR(Diagnostic odds ratio)                                        None          4.22222       5.0           \n",
      "DP(Discriminant power)                                            None          0.34488       0.38536       \n",
      "DPI(Discriminant power interpretation)                            None          Poor          Poor          \n",
      "ERR(Error rate)                                                   0.03226       0.32258       0.29032       \n",
      "F0.5(F0.5 score)                                                  0.0           0.7197        0.45455       \n",
      "F1(F1 score - harmonic mean of precision and sensitivity)         0.0           0.79167       0.30769       \n",
      "F2(F2 score)                                                      0.0           0.87963       0.23256       \n",
      "FDR(False discovery rate)                                         None          0.32143       0.33333       \n",
      "FN(False negative/miss/type 2 error)                              1             1             8             \n",
      "FNR(Miss rate or false negative rate)                             1.0           0.05          0.8           \n",
      "FOR(False omission rate)                                          0.03226       0.33333       0.28571       \n",
      "FP(False positive/type 1 error/false alarm)                       0             9             1             \n",
      "FPR(Fall-out or false positive rate)                              0.0           0.81818       0.04762       \n",
      "G(G-measure geometric mean of precision and sensitivity)          None          0.8029        0.36515       \n",
      "GI(Gini index)                                                    0.0           0.13182       0.15238       \n",
      "GM(G-mean geometric mean of specificity and sensitivity)          0.0           0.4156        0.43644       \n",
      "IBA(Index of balanced accuracy)                                   0.0           0.30541       0.04717       \n",
      "ICSI(Individual classification success index)                     None          0.62857       -0.13333      \n",
      "IS(Information score)                                             None          0.07284       1.04731       \n",
      "J(Jaccard index)                                                  0.0           0.65517       0.18182       \n",
      "LS(Lift score)                                                    None          1.05179       2.06667       \n",
      "MCC(Matthews correlation coefficient)                             None          0.21333       0.24094       \n",
      "MCCI(Matthews correlation coefficient interpretation)             None          Negligible    Negligible    \n",
      "MCEN(Modified confusion entropy)                                  0.0           0.42379       0.32431       \n",
      "MK(Markedness)                                                    None          0.34524       0.38095       \n",
      "N(Condition negative)                                             30            11            21            \n",
      "NLR(Negative likelihood ratio)                                    1.0           0.275         0.84          \n",
      "NLRI(Negative likelihood ratio interpretation)                    Negligible    Poor          Negligible    \n",
      "NPV(Negative predictive value)                                    0.96774       0.66667       0.71429       \n",
      "OC(Overlap coefficient)                                           None          0.95          0.66667       \n",
      "OOC(Otsuka-Ochiai coefficient)                                    None          0.8029        0.36515       \n",
      "OP(Optimized precision)                                           -0.03226      -0.0013       0.05678       \n",
      "P(Condition positive or support)                                  1             20            10            \n",
      "PLR(Positive likelihood ratio)                                    None          1.16111       4.2           \n",
      "PLRI(Positive likelihood ratio interpretation)                    None          Poor          Poor          \n",
      "POP(Population)                                                   31            31            31            \n",
      "PPV(Precision or positive predictive value)                       None          0.67857       0.66667       \n",
      "PRE(Prevalence)                                                   0.03226       0.64516       0.32258       \n",
      "Q(Yule Q - coefficient of colligation)                            None          0.61702       0.66667       \n",
      "QI(Yule Q interpretation)                                         None          Moderate      Moderate      \n",
      "RACC(Random accuracy)                                             0.0           0.58273       0.03122       \n",
      "RACCU(Random accuracy unbiased)                                   0.00026       0.59938       0.04396       \n",
      "TN(True negative/correct rejection)                               30            2             20            \n",
      "TNR(Specificity or true negative rate)                            1.0           0.18182       0.95238       \n",
      "TON(Test outcome negative)                                        31            3             28            \n",
      "TOP(Test outcome positive)                                        0             28            3             \n",
      "TP(True positive/hit)                                             0             19            2             \n",
      "TPR(Sensitivity, recall, hit rate, or true positive rate)         0.0           0.95          0.2           \n",
      "Y(Youden index)                                                   0.0           0.13182       0.15238       \n",
      "dInd(Distance index)                                              1.0           0.81971       0.80142       \n",
      "sInd(Similarity index)                                            0.29289       0.42038       0.43331       \n",
      "\n"
     ]
    }
   ],
   "source": [
    "print(cm)"
   ]
  },
  {
   "cell_type": "markdown",
   "metadata": {},
   "source": [
    "Ok, at least this gave a small performance boost."
   ]
  },
  {
   "cell_type": "markdown",
   "metadata": {},
   "source": [
    "# 2. Train w/ additional information about the gases\n"
   ]
  },
  {
   "cell_type": "markdown",
   "metadata": {},
   "source": [
    "### Using only the chemical name of the molecules as context\n"
   ]
  },
  {
   "cell_type": "markdown",
   "metadata": {},
   "source": [
    "We train one a range of gases and then test on one it has not seen before. \n",
    "\n",
    "Not sure what the right baseline for this is. The easiest is perhaps to use a dummy model. "
   ]
  },
  {
   "cell_type": "code",
   "execution_count": 115,
   "metadata": {},
   "outputs": [],
   "source": [
    "from sklearn.dummy import DummyClassifier"
   ]
  },
  {
   "cell_type": "code",
   "execution_count": 116,
   "metadata": {},
   "outputs": [],
   "source": [
    "dummy_stratified = DummyClassifier(strategy=\"stratified\")"
   ]
  },
  {
   "cell_type": "code",
   "execution_count": 117,
   "metadata": {},
   "outputs": [],
   "source": [
    "train_true = train_prompts['completion'].apply(lambda x: x.split('@')[0].strip())"
   ]
  },
  {
   "cell_type": "code",
   "execution_count": 118,
   "metadata": {},
   "outputs": [
    {
     "data": {
      "text/html": [
       "<style>#sk-container-id-1 {color: black;background-color: white;}#sk-container-id-1 pre{padding: 0;}#sk-container-id-1 div.sk-toggleable {background-color: white;}#sk-container-id-1 label.sk-toggleable__label {cursor: pointer;display: block;width: 100%;margin-bottom: 0;padding: 0.3em;box-sizing: border-box;text-align: center;}#sk-container-id-1 label.sk-toggleable__label-arrow:before {content: \"▸\";float: left;margin-right: 0.25em;color: #696969;}#sk-container-id-1 label.sk-toggleable__label-arrow:hover:before {color: black;}#sk-container-id-1 div.sk-estimator:hover label.sk-toggleable__label-arrow:before {color: black;}#sk-container-id-1 div.sk-toggleable__content {max-height: 0;max-width: 0;overflow: hidden;text-align: left;background-color: #f0f8ff;}#sk-container-id-1 div.sk-toggleable__content pre {margin: 0.2em;color: black;border-radius: 0.25em;background-color: #f0f8ff;}#sk-container-id-1 input.sk-toggleable__control:checked~div.sk-toggleable__content {max-height: 200px;max-width: 100%;overflow: auto;}#sk-container-id-1 input.sk-toggleable__control:checked~label.sk-toggleable__label-arrow:before {content: \"▾\";}#sk-container-id-1 div.sk-estimator input.sk-toggleable__control:checked~label.sk-toggleable__label {background-color: #d4ebff;}#sk-container-id-1 div.sk-label input.sk-toggleable__control:checked~label.sk-toggleable__label {background-color: #d4ebff;}#sk-container-id-1 input.sk-hidden--visually {border: 0;clip: rect(1px 1px 1px 1px);clip: rect(1px, 1px, 1px, 1px);height: 1px;margin: -1px;overflow: hidden;padding: 0;position: absolute;width: 1px;}#sk-container-id-1 div.sk-estimator {font-family: monospace;background-color: #f0f8ff;border: 1px dotted black;border-radius: 0.25em;box-sizing: border-box;margin-bottom: 0.5em;}#sk-container-id-1 div.sk-estimator:hover {background-color: #d4ebff;}#sk-container-id-1 div.sk-parallel-item::after {content: \"\";width: 100%;border-bottom: 1px solid gray;flex-grow: 1;}#sk-container-id-1 div.sk-label:hover label.sk-toggleable__label {background-color: #d4ebff;}#sk-container-id-1 div.sk-serial::before {content: \"\";position: absolute;border-left: 1px solid gray;box-sizing: border-box;top: 0;bottom: 0;left: 50%;z-index: 0;}#sk-container-id-1 div.sk-serial {display: flex;flex-direction: column;align-items: center;background-color: white;padding-right: 0.2em;padding-left: 0.2em;position: relative;}#sk-container-id-1 div.sk-item {position: relative;z-index: 1;}#sk-container-id-1 div.sk-parallel {display: flex;align-items: stretch;justify-content: center;background-color: white;position: relative;}#sk-container-id-1 div.sk-item::before, #sk-container-id-1 div.sk-parallel-item::before {content: \"\";position: absolute;border-left: 1px solid gray;box-sizing: border-box;top: 0;bottom: 0;left: 50%;z-index: -1;}#sk-container-id-1 div.sk-parallel-item {display: flex;flex-direction: column;z-index: 1;position: relative;background-color: white;}#sk-container-id-1 div.sk-parallel-item:first-child::after {align-self: flex-end;width: 50%;}#sk-container-id-1 div.sk-parallel-item:last-child::after {align-self: flex-start;width: 50%;}#sk-container-id-1 div.sk-parallel-item:only-child::after {width: 0;}#sk-container-id-1 div.sk-dashed-wrapped {border: 1px dashed gray;margin: 0 0.4em 0.5em 0.4em;box-sizing: border-box;padding-bottom: 0.4em;background-color: white;}#sk-container-id-1 div.sk-label label {font-family: monospace;font-weight: bold;display: inline-block;line-height: 1.2em;}#sk-container-id-1 div.sk-label-container {text-align: center;}#sk-container-id-1 div.sk-container {/* jupyter's `normalize.less` sets `[hidden] { display: none; }` but bootstrap.min.css set `[hidden] { display: none !important; }` so we also need the `!important` here to be able to override the default hidden behavior on the sphinx rendered scikit-learn.org. See: https://github.com/scikit-learn/scikit-learn/issues/21755 */display: inline-block !important;position: relative;}#sk-container-id-1 div.sk-text-repr-fallback {display: none;}</style><div id=\"sk-container-id-1\" class=\"sk-top-container\"><div class=\"sk-text-repr-fallback\"><pre>DummyClassifier(strategy=&#x27;stratified&#x27;)</pre><b>In a Jupyter environment, please rerun this cell to show the HTML representation or trust the notebook. <br />On GitHub, the HTML representation is unable to render, please try loading this page with nbviewer.org.</b></div><div class=\"sk-container\" hidden><div class=\"sk-item\"><div class=\"sk-estimator sk-toggleable\"><input class=\"sk-toggleable__control sk-hidden--visually\" id=\"sk-estimator-id-1\" type=\"checkbox\" checked><label for=\"sk-estimator-id-1\" class=\"sk-toggleable__label sk-toggleable__label-arrow\">DummyClassifier</label><div class=\"sk-toggleable__content\"><pre>DummyClassifier(strategy=&#x27;stratified&#x27;)</pre></div></div></div></div></div>"
      ],
      "text/plain": [
       "DummyClassifier(strategy='stratified')"
      ]
     },
     "execution_count": 118,
     "metadata": {},
     "output_type": "execute_result"
    }
   ],
   "source": [
    "dummy_stratified.fit(train_true, train_true)"
   ]
  },
  {
   "cell_type": "code",
   "execution_count": 119,
   "metadata": {},
   "outputs": [],
   "source": [
    "dummy_predictions = dummy_stratified.predict(true)"
   ]
  },
  {
   "cell_type": "code",
   "execution_count": 120,
   "metadata": {},
   "outputs": [],
   "source": [
    "cm_dummy = ConfusionMatrix(actual_vector=true.to_list(), predict_vector=dummy_predictions)"
   ]
  },
  {
   "cell_type": "code",
   "execution_count": 121,
   "metadata": {},
   "outputs": [
    {
     "name": "stdout",
     "output_type": "stream",
     "text": [
      "Predict      high         low          medium       \n",
      "Actual\n",
      "high         0            1            0            \n",
      "\n",
      "low          0            11           9            \n",
      "\n",
      "medium       0            6            4            \n",
      "\n",
      "\n",
      "\n",
      "\n",
      "\n",
      "Overall Statistics : \n",
      "\n",
      "95% CI                                                            (0.30795,0.65979)\n",
      "ACC Macro                                                         0.65591\n",
      "ARI                                                               -0.04079\n",
      "AUNP                                                              0.46753\n",
      "AUNU                                                              0.48084\n",
      "Bangdiwala B                                                      0.27959\n",
      "Bennett S                                                         0.22581\n",
      "CBA                                                               0.2859\n",
      "CSI                                                               None\n",
      "Chi-Squared                                                       None\n",
      "Chi-Squared DF                                                    4\n",
      "Conditional Entropy                                               0.95371\n",
      "Cramer V                                                          None\n",
      "Cross Entropy                                                     0.91042\n",
      "F1 Macro                                                          0.30892\n",
      "F1 Micro                                                          0.48387\n",
      "FNR Macro                                                         0.68333\n",
      "FNR Micro                                                         0.51613\n",
      "FPR Macro                                                         0.35498\n",
      "FPR Micro                                                         0.25806\n",
      "Gwet AC1                                                          0.31798\n",
      "Hamming Loss                                                      0.51613\n",
      "Joint Entropy                                                     2.04798\n",
      "KL Divergence                                                     None\n",
      "Kappa                                                             -0.05308\n",
      "Kappa 95% CI                                                      (-0.41202,0.30586)\n",
      "Kappa No Prevalence                                               -0.03226\n",
      "Kappa Standard Error                                              0.18313\n",
      "Kappa Unbiased                                                    -0.06096\n",
      "Krippendorff Alpha                                                -0.04385\n",
      "Lambda A                                                          0.0\n",
      "Lambda B                                                          0.0\n",
      "Mutual Information                                                0.02744\n",
      "NIR                                                               0.64516\n",
      "Overall ACC                                                       0.48387\n",
      "Overall CEN                                                       0.51405\n",
      "Overall J                                                         (0.61793,0.20598)\n",
      "Overall MCC                                                       -0.05388\n",
      "Overall MCEN                                                      0.5502\n",
      "Overall RACC                                                      0.50989\n",
      "Overall RACCU                                                     0.51353\n",
      "P-Value                                                           0.97862\n",
      "PPV Macro                                                         None\n",
      "PPV Micro                                                         0.48387\n",
      "Pearson C                                                         None\n",
      "Phi-Squared                                                       None\n",
      "RCI                                                               0.02508\n",
      "RR                                                                10.33333\n",
      "Reference Entropy                                                 1.09427\n",
      "Response Entropy                                                  0.98115\n",
      "SOA1(Landis & Koch)                                               Poor\n",
      "SOA2(Fleiss)                                                      Poor\n",
      "SOA3(Altman)                                                      Poor\n",
      "SOA4(Cicchetti)                                                   Poor\n",
      "SOA5(Cramer)                                                      None\n",
      "SOA6(Matthews)                                                    Negligible\n",
      "Scott PI                                                          -0.06096\n",
      "Standard Error                                                    0.08976\n",
      "TNR Macro                                                         0.64502\n",
      "TNR Micro                                                         0.74194\n",
      "TPR Macro                                                         0.31667\n",
      "TPR Micro                                                         0.48387\n",
      "Zero-one Loss                                                     16\n",
      "\n",
      "Class Statistics :\n",
      "\n",
      "Classes                                                           high          low           medium        \n",
      "ACC(Accuracy)                                                     0.96774       0.48387       0.51613       \n",
      "AGF(Adjusted F-score)                                             0.0           0.4221        0.49341       \n",
      "AGM(Adjusted geometric mean)                                      0             0.42532       0.51579       \n",
      "AM(Difference between automatic and manual classification)        -1            -2            3             \n",
      "AUC(Area under the ROC curve)                                     0.5           0.45682       0.48571       \n",
      "AUCI(AUC value interpretation)                                    Poor          Poor          Poor          \n",
      "AUPR(Area under the PR curve)                                     None          0.58056       0.35385       \n",
      "BCD(Bray-Curtis dissimilarity)                                    0.01613       0.03226       0.04839       \n",
      "BM(Informedness or bookmaker informedness)                        0.0           -0.08636      -0.02857      \n",
      "CEN(Confusion entropy)                                            0.0           0.52537       0.5177        \n",
      "DOR(Diagnostic odds ratio)                                        None          0.69841       0.88889       \n",
      "DP(Discriminant power)                                            None          -0.08595      -0.0282       \n",
      "DPI(Discriminant power interpretation)                            None          Poor          Poor          \n",
      "ERR(Error rate)                                                   0.03226       0.51613       0.48387       \n",
      "F0.5(F0.5 score)                                                  0.0           0.59783       0.32258       \n",
      "F1(F1 score - harmonic mean of precision and sensitivity)         0.0           0.57895       0.34783       \n",
      "F2(F2 score)                                                      0.0           0.56122       0.37736       \n",
      "FDR(False discovery rate)                                         None          0.38889       0.69231       \n",
      "FN(False negative/miss/type 2 error)                              1             9             6             \n",
      "FNR(Miss rate or false negative rate)                             1.0           0.45          0.6           \n",
      "FOR(False omission rate)                                          0.03226       0.69231       0.33333       \n",
      "FP(False positive/type 1 error/false alarm)                       0             7             9             \n",
      "FPR(Fall-out or false positive rate)                              0.0           0.63636       0.42857       \n",
      "G(G-measure geometric mean of precision and sensitivity)          None          0.57975       0.35082       \n",
      "GI(Gini index)                                                    0.0           -0.08636      -0.02857      \n",
      "GM(G-mean geometric mean of specificity and sensitivity)          0.0           0.44721       0.47809       \n",
      "IBA(Index of balanced accuracy)                                   0.0           0.23727       0.18939       \n",
      "ICSI(Individual classification success index)                     None          0.16111       -0.29231      \n",
      "IS(Information score)                                             None          -0.07823      -0.06817      \n",
      "J(Jaccard index)                                                  0.0           0.40741       0.21053       \n",
      "LS(Lift score)                                                    None          0.94722       0.95385       \n",
      "MCC(Matthews correlation coefficient)                             None          -0.08374      -0.02707      \n",
      "MCCI(Matthews correlation coefficient interpretation)             None          Negligible    Negligible    \n",
      "MCEN(Modified confusion entropy)                                  0.0           0.59332       0.51789       \n",
      "MK(Markedness)                                                    None          -0.0812       -0.02564      \n",
      "N(Condition negative)                                             30            11            21            \n",
      "NLR(Negative likelihood ratio)                                    1.0           1.2375        1.05          \n",
      "NLRI(Negative likelihood ratio interpretation)                    Negligible    Negligible    Negligible    \n",
      "NPV(Negative predictive value)                                    0.96774       0.30769       0.66667       \n",
      "OC(Overlap coefficient)                                           None          0.61111       0.4           \n",
      "OOC(Otsuka-Ochiai coefficient)                                    None          0.57975       0.35082       \n",
      "OP(Optimized precision)                                           -0.03226      0.27989       0.33966       \n",
      "P(Condition positive or support)                                  1             20            10            \n",
      "PLR(Positive likelihood ratio)                                    None          0.86429       0.93333       \n",
      "PLRI(Positive likelihood ratio interpretation)                    None          Negligible    Negligible    \n",
      "POP(Population)                                                   31            31            31            \n",
      "PPV(Precision or positive predictive value)                       None          0.61111       0.30769       \n",
      "PRE(Prevalence)                                                   0.03226       0.64516       0.32258       \n",
      "Q(Yule Q - coefficient of colligation)                            None          -0.17757      -0.05882      \n",
      "QI(Yule Q interpretation)                                         None          Negligible    Negligible    \n",
      "RACC(Random accuracy)                                             0.0           0.37461       0.13528       \n",
      "RACCU(Random accuracy unbiased)                                   0.00026       0.37565       0.13762       \n",
      "TN(True negative/correct rejection)                               30            4             12            \n",
      "TNR(Specificity or true negative rate)                            1.0           0.36364       0.57143       \n",
      "TON(Test outcome negative)                                        31            13            18            \n",
      "TOP(Test outcome positive)                                        0             18            13            \n",
      "TP(True positive/hit)                                             0             11            4             \n",
      "TPR(Sensitivity, recall, hit rate, or true positive rate)         0.0           0.55          0.4           \n",
      "Y(Youden index)                                                   0.0           -0.08636      -0.02857      \n",
      "dInd(Distance index)                                              1.0           0.7794        0.73734       \n",
      "sInd(Similarity index)                                            0.29289       0.44888       0.47862       \n",
      "\n"
     ]
    }
   ],
   "source": [
    "print(cm_dummy)"
   ]
  },
  {
   "cell_type": "markdown",
   "metadata": {},
   "source": [
    "Ok, adding no water training data leads to a worse performance than the dummy case ... :("
   ]
  },
  {
   "cell_type": "markdown",
   "metadata": {},
   "source": [
    "But, perhaps, GPT-3 can easier use this information about the molecule if we also provide it with the name"
   ]
  },
  {
   "cell_type": "code",
   "execution_count": 122,
   "metadata": {},
   "outputs": [],
   "source": [
    "train_prompts_aug_w_name = create_single_property_forward_prompts_multiple_targets(\n",
    "    train_df,\n",
    "    [\n",
    "        \"outputs.Xe-henry_coefficient-mol--kg--Pa_log_cat\",\n",
    "        \"outputs.Kr-henry_coefficient-mol--kg--Pa_log_cat\",\n",
    "        \"outputs.H2S-henry_coefficient-mol--kg--Pa_log_cat\",\n",
    "        \"outputs.CO2-henry_coefficient-mol--kg--Pa_log_cat\",\n",
    "        \"outputs.CH4-henry_coefficient-mol--kg--Pa_log_cat\",\n",
    "        \"outputs.O2-henry_coefficient-mol--kg--Pa_log_cat\",\n",
    "    ],\n",
    "    {\n",
    "        \"outputs.Xe-henry_coefficient-mol--kg--Pa_log_cat\": \"Xenon (Xe) Henry coefficient\",\n",
    "        \"outputs.Kr-henry_coefficient-mol--kg--Pa_log_cat\": \"Krypton (Kr) Henry coefficient\",\n",
    "        \"outputs.H2S-henry_coefficient-mol--kg--Pa_log_cat\": \"hydrogen disulfide (H2S) Henry coefficient\",\n",
    "        \"outputs.CO2-henry_coefficient-mol--kg--Pa_log_cat\": \"carbon dioxide (CO2) Henry coefficient\",\n",
    "        \"outputs.CH4-henry_coefficient-mol--kg--Pa_log_cat\": \"methane (CH4) Henry coefficient\",\n",
    "        \"outputs.O2-henry_coefficient-mol--kg--Pa_log_cat\": \"oxygen (O2) Henry coefficient\",\n",
    "    },\n",
    "    representation_col=\"info.mofid.mofid_clean\",\n",
    "    encode_value=False,\n",
    ")\n",
    "\n",
    "train_prompts_aug_w_name_h2o = create_single_property_forward_prompts_multiple_targets(\n",
    "    train_df,\n",
    "    [\n",
    "        \"outputs.H2O-henry_coefficient-mol--kg--Pa_log_cat\",\n",
    "    ],\n",
    "    {\n",
    "        \"outputs.H2O-henry_coefficient-mol--kg--Pa_log_cat\": \"water (H2O) Henry coefficient\",\n",
    "    },\n",
    "    representation_col=\"info.mofid.mofid_clean\",\n",
    "    encode_value=False,\n",
    ")\n",
    "\n",
    "test_prompts_aug_w_name = create_single_property_forward_prompts_multiple_targets(\n",
    "    test_df,\n",
    "    [\n",
    "        \"outputs.H2O-henry_coefficient-mol--kg--Pa_log_cat\",\n",
    "    ],\n",
    "    {\n",
    "        \"outputs.H2O-henry_coefficient-mol--kg--Pa_log_cat\": \"water (H2O) Henry coefficient\",\n",
    "    },\n",
    "    representation_col=\"info.mofid.mofid_clean\",\n",
    "    encode_value=False,\n",
    ")"
   ]
  },
  {
   "cell_type": "code",
   "execution_count": 123,
   "metadata": {},
   "outputs": [],
   "source": [
    "filename_base = time.strftime(\"%Y-%m-%d-%H-%M-%S\", time.localtime())\n",
    "train_prompts_aug_w_name_filename = f\"run_files/{filename_base}_train_prompts_mof_no_h2o.jsonl\"\n",
    "valid_filename = f\"run_files/{filename_base}_valid_prompts_mof_h2o.jsonl\"\n",
    "\n",
    "train_prompts_aug_w_name.to_json(train_prompts_aug_w_name_filename, orient=\"records\", lines=True)\n",
    "test_prompts_aug_w_name.to_json(valid_filename, orient=\"records\", lines=True)"
   ]
  },
  {
   "cell_type": "code",
   "execution_count": 124,
   "metadata": {},
   "outputs": [
    {
     "name": "stdout",
     "output_type": "stream",
     "text": [
      "Fine-tune ft-zyt0bJQNVG30gv5q43Yx4gAE has the status \"pending\" and will not be logged\n",
      "🎉 wandb sync completed successfully\n"
     ]
    },
    {
     "data": {
      "text/plain": [
       "'ada:ft-lsmoepfl-2022-09-14-07-20-41'"
      ]
     },
     "execution_count": 124,
     "metadata": {},
     "output_type": "execute_result"
    }
   ],
   "source": [
    "fine_tune(train_prompts_aug_w_name_filename, valid_filename)"
   ]
  },
  {
   "cell_type": "code",
   "execution_count": 125,
   "metadata": {},
   "outputs": [],
   "source": [
    "predictions_w_name_no_h2o = query_gpt3('ada:ft-lsmoepfl-2022-09-14-07-20-41', test_prompts_aug_w_name)"
   ]
  },
  {
   "cell_type": "code",
   "execution_count": 127,
   "metadata": {},
   "outputs": [],
   "source": [
    "predictions_w_name_no_h2o_ = [extract_prediction(predictions_w_name_no_h2o, i) for i in range(len(predictions_w_name_no_h2o['choices']))]"
   ]
  },
  {
   "cell_type": "code",
   "execution_count": 129,
   "metadata": {},
   "outputs": [
    {
     "name": "stdout",
     "output_type": "stream",
     "text": [
      "Predict      high         low          medium       \n",
      "Actual\n",
      "high         0            1            0            \n",
      "\n",
      "low          0            16           4            \n",
      "\n",
      "medium       0            8            2            \n",
      "\n",
      "\n",
      "\n",
      "\n",
      "\n",
      "Overall Statistics : \n",
      "\n",
      "95% CI                                                            (0.40694,0.75435)\n",
      "ACC Macro                                                         0.72043\n",
      "ARI                                                               -0.03621\n",
      "AUNP                                                              0.49567\n",
      "AUNU                                                              0.49856\n",
      "Bangdiwala B                                                      0.46429\n",
      "Bennett S                                                         0.37097\n",
      "CBA                                                               0.28\n",
      "CSI                                                               None\n",
      "Chi-Squared                                                       None\n",
      "Chi-Squared DF                                                    4\n",
      "Conditional Entropy                                               0.69864\n",
      "Cramer V                                                          None\n",
      "Cross Entropy                                                     0.96449\n",
      "F1 Macro                                                          0.32037\n",
      "F1 Micro                                                          0.58065\n",
      "FNR Macro                                                         0.66667\n",
      "FNR Micro                                                         0.41935\n",
      "FPR Macro                                                         0.33622\n",
      "FPR Micro                                                         0.20968\n",
      "Gwet AC1                                                          0.47372\n",
      "Hamming Loss                                                      0.41935\n",
      "Joint Entropy                                                     1.79291\n",
      "KL Divergence                                                     None\n",
      "Kappa                                                             -0.00499\n",
      "Kappa 95% CI                                                      (-0.42128,0.41131)\n",
      "Kappa No Prevalence                                               0.16129\n",
      "Kappa Standard Error                                              0.2124\n",
      "Kappa Unbiased                                                    -0.03201\n",
      "Krippendorff Alpha                                                -0.01536\n",
      "Lambda A                                                          0.0\n",
      "Lambda B                                                          0.0\n",
      "Mutual Information                                                0.0102\n",
      "NIR                                                               0.64516\n",
      "Overall ACC                                                       0.58065\n",
      "Overall CEN                                                       0.44673\n",
      "Overall J                                                         (0.69458,0.23153)\n",
      "Overall MCC                                                       -0.00538\n",
      "Overall MCEN                                                      0.50957\n",
      "Overall RACC                                                      0.58273\n",
      "Overall RACCU                                                     0.59365\n",
      "P-Value                                                           0.82658\n",
      "PPV Macro                                                         None\n",
      "PPV Micro                                                         0.58065\n",
      "Pearson C                                                         None\n",
      "Phi-Squared                                                       None\n",
      "RCI                                                               0.00932\n",
      "RR                                                                10.33333\n",
      "Reference Entropy                                                 1.09427\n",
      "Response Entropy                                                  0.70884\n",
      "SOA1(Landis & Koch)                                               Poor\n",
      "SOA2(Fleiss)                                                      Poor\n",
      "SOA3(Altman)                                                      Poor\n",
      "SOA4(Cicchetti)                                                   Poor\n",
      "SOA5(Cramer)                                                      None\n",
      "SOA6(Matthews)                                                    Negligible\n",
      "Scott PI                                                          -0.03201\n",
      "Standard Error                                                    0.08863\n",
      "TNR Macro                                                         0.66378\n",
      "TNR Micro                                                         0.79032\n",
      "TPR Macro                                                         0.33333\n",
      "TPR Micro                                                         0.58065\n",
      "Zero-one Loss                                                     13\n",
      "\n",
      "Class Statistics :\n",
      "\n",
      "Classes                                                           high          low           medium        \n",
      "ACC(Accuracy)                                                     0.96774       0.58065       0.6129        \n",
      "AGF(Adjusted F-score)                                             0.0           0.46657       0.39078       \n",
      "AGM(Adjusted geometric mean)                                      0             0.32912       0.5668        \n",
      "AM(Difference between automatic and manual classification)        -1            5             -4            \n",
      "AUC(Area under the ROC curve)                                     0.5           0.49091       0.50476       \n",
      "AUCI(AUC value interpretation)                                    Poor          Poor          Poor          \n",
      "AUPR(Area under the PR curve)                                     None          0.72          0.26667       \n",
      "BCD(Bray-Curtis dissimilarity)                                    0.01613       0.08065       0.06452       \n",
      "BM(Informedness or bookmaker informedness)                        0.0           -0.01818      0.00952       \n",
      "CEN(Confusion entropy)                                            0.0           0.43771       0.5           \n",
      "DOR(Diagnostic odds ratio)                                        None          0.88889       1.0625        \n",
      "DP(Discriminant power)                                            None          -0.0282       0.01452       \n",
      "DPI(Discriminant power interpretation)                            None          Poor          Poor          \n",
      "ERR(Error rate)                                                   0.03226       0.41935       0.3871        \n",
      "F0.5(F0.5 score)                                                  0.0           0.66667       0.29412       \n",
      "F1(F1 score - harmonic mean of precision and sensitivity)         0.0           0.71111       0.25          \n",
      "F2(F2 score)                                                      0.0           0.7619        0.21739       \n",
      "FDR(False discovery rate)                                         None          0.36          0.66667       \n",
      "FN(False negative/miss/type 2 error)                              1             4             8             \n",
      "FNR(Miss rate or false negative rate)                             1.0           0.2           0.8           \n",
      "FOR(False omission rate)                                          0.03226       0.66667       0.32          \n",
      "FP(False positive/type 1 error/false alarm)                       0             9             4             \n",
      "FPR(Fall-out or false positive rate)                              0.0           0.81818       0.19048       \n",
      "G(G-measure geometric mean of precision and sensitivity)          None          0.71554       0.2582        \n",
      "GI(Gini index)                                                    0.0           -0.01818      0.00952       \n",
      "GM(G-mean geometric mean of specificity and sensitivity)          0.0           0.38139       0.40237       \n",
      "IBA(Index of balanced accuracy)                                   0.0           0.23537       0.06322       \n",
      "ICSI(Individual classification success index)                     None          0.44          -0.46667      \n",
      "IS(Information score)                                             None          -0.01159      0.04731       \n",
      "J(Jaccard index)                                                  0.0           0.55172       0.14286       \n",
      "LS(Lift score)                                                    None          0.992         1.03333       \n",
      "MCC(Matthews correlation coefficient)                             None          -0.02202      0.01127       \n",
      "MCCI(Matthews correlation coefficient interpretation)             None          Negligible    Negligible    \n",
      "MCEN(Modified confusion entropy)                                  0.0           0.53713       0.48887       \n",
      "MK(Markedness)                                                    None          -0.02667      0.01333       \n",
      "N(Condition negative)                                             30            11            21            \n",
      "NLR(Negative likelihood ratio)                                    1.0           1.1           0.98824       \n",
      "NLRI(Negative likelihood ratio interpretation)                    Negligible    Negligible    Negligible    \n",
      "NPV(Negative predictive value)                                    0.96774       0.33333       0.68          \n",
      "OC(Overlap coefficient)                                           None          0.8           0.33333       \n",
      "OOC(Otsuka-Ochiai coefficient)                                    None          0.71554       0.2582        \n",
      "OP(Optimized precision)                                           -0.03226      -0.04898      0.00913       \n",
      "P(Condition positive or support)                                  1             20            10            \n",
      "PLR(Positive likelihood ratio)                                    None          0.97778       1.05          \n",
      "PLRI(Positive likelihood ratio interpretation)                    None          Negligible    Poor          \n",
      "POP(Population)                                                   31            31            31            \n",
      "PPV(Precision or positive predictive value)                       None          0.64          0.33333       \n",
      "PRE(Prevalence)                                                   0.03226       0.64516       0.32258       \n",
      "Q(Yule Q - coefficient of colligation)                            None          -0.05882      0.0303        \n",
      "QI(Yule Q interpretation)                                         None          Negligible    Negligible    \n",
      "RACC(Random accuracy)                                             0.0           0.52029       0.06243       \n",
      "RACCU(Random accuracy unbiased)                                   0.00026       0.5268        0.0666        \n",
      "TN(True negative/correct rejection)                               30            2             17            \n",
      "TNR(Specificity or true negative rate)                            1.0           0.18182       0.80952       \n",
      "TON(Test outcome negative)                                        31            6             25            \n",
      "TOP(Test outcome positive)                                        0             25            6             \n",
      "TP(True positive/hit)                                             0             16            2             \n",
      "TPR(Sensitivity, recall, hit rate, or true positive rate)         0.0           0.8           0.2           \n",
      "Y(Youden index)                                                   0.0           -0.01818      0.00952       \n",
      "dInd(Distance index)                                              1.0           0.84227       0.82236       \n",
      "sInd(Similarity index)                                            0.29289       0.40442       0.4185        \n",
      "\n"
     ]
    }
   ],
   "source": [
    "print(ConfusionMatrix(actual_vector=true.to_list(), predict_vector=predictions_w_name_no_h2o_))"
   ]
  },
  {
   "cell_type": "markdown",
   "metadata": {},
   "source": [
    "Now, let's try adding even more context to the prompts (data taken from our simulation inputs, https://github.com/lsmo-epfl/aiida-lsmo/blob/develop/aiida_lsmo/calcfunctions/ff_data.yaml)"
   ]
  },
  {
   "cell_type": "code",
   "execution_count": 130,
   "metadata": {},
   "outputs": [],
   "source": [
    "train_prompts_aug_w_name_and_molinfo = create_single_property_forward_prompts_multiple_targets(\n",
    "    train_df,\n",
    "    [\n",
    "        \"outputs.Xe-henry_coefficient-mol--kg--Pa_log_cat\",\n",
    "        \"outputs.Kr-henry_coefficient-mol--kg--Pa_log_cat\",\n",
    "        \"outputs.H2S-henry_coefficient-mol--kg--Pa_log_cat\",\n",
    "        \"outputs.CO2-henry_coefficient-mol--kg--Pa_log_cat\",\n",
    "        \"outputs.CH4-henry_coefficient-mol--kg--Pa_log_cat\",\n",
    "        \"outputs.O2-henry_coefficient-mol--kg--Pa_log_cat\",\n",
    "    ],\n",
    "    {\n",
    "        \"outputs.Xe-henry_coefficient-mol--kg--Pa_log_cat\": \"Xenon (Xe, critical temperature 289.74 K, critial pressure 5840000 Pa, radius 1.985 A) Henry coefficient\",\n",
    "        \"outputs.Kr-henry_coefficient-mol--kg--Pa_log_cat\": \"Krypton (Kr, critical temperature 209.35 K, critial pressure 5502000 Pa, radius 1.83 A) Henry coefficient\",\n",
    "        \"outputs.H2S-henry_coefficient-mol--kg--Pa_log_cat\": \"hydrogen disulfide (H2S, critical temperature 373.53 K, critial pressure 8963000 Pa, radius 1.74 A) Henry coefficient\",\n",
    "        \"outputs.CO2-henry_coefficient-mol--kg--Pa_log_cat\": \"carbon dioxide (CO2, critical temperature 304.19 K, critial pressure 7382000 Pa, radius 1.525 A) Henry coefficient\",\n",
    "        \"outputs.CH4-henry_coefficient-mol--kg--Pa_log_cat\": \"methane (CH4, critical temperature 190.56 K, critial pressure 4599000 Pa, radius 1.865 A) Henry coefficient\",\n",
    "        \"outputs.O2-henry_coefficient-mol--kg--Pa_log_cat\": \"oxygen (O2, critical temperature 154.58 K, critial pressure 5043000 Pa, radius 1.51 A) Henry coefficient\",\n",
    "    },\n",
    "    representation_col=\"info.mofid.mofid_clean\",\n",
    "    encode_value=False,\n",
    ")\n",
    "\n",
    "train_prompts_aug_w_name_h2o_and_molinfo = create_single_property_forward_prompts_multiple_targets(\n",
    "    train_df,\n",
    "    [\n",
    "        \"outputs.H2O-henry_coefficient-mol--kg--Pa_log_cat\",\n",
    "    ],\n",
    "    {\n",
    "        \"outputs.H2O-henry_coefficient-mol--kg--Pa_log_cat\": \"water (H2O, critical temperature 647.16 K, critial pressure 22055000 Pa, radius 1.58 A) Henry coefficient\",\n",
    "    },\n",
    "    representation_col=\"info.mofid.mofid_clean\",\n",
    "    encode_value=False,\n",
    ")\n",
    "\n",
    "test_prompts_aug_w_name_and_molinfo = create_single_property_forward_prompts_multiple_targets(\n",
    "    test_df,\n",
    "    [\n",
    "        \"outputs.H2O-henry_coefficient-mol--kg--Pa_log_cat\",\n",
    "    ],\n",
    "    {\n",
    "        \"outputs.H2O-henry_coefficient-mol--kg--Pa_log_cat\": \"water (H2O, critical temperature 647.16 K, critial pressure 22055000 Pa, radius 1.58 A) Henry coefficient\",\n",
    "    },\n",
    "    representation_col=\"info.mofid.mofid_clean\",\n",
    "    encode_value=False,\n",
    ")"
   ]
  },
  {
   "cell_type": "code",
   "execution_count": null,
   "metadata": {},
   "outputs": [],
   "source": []
  },
  {
   "cell_type": "code",
   "execution_count": 131,
   "metadata": {},
   "outputs": [],
   "source": [
    "filename_base = time.strftime(\"%Y-%m-%d-%H-%M-%S\", time.localtime())\n",
    "train_prompts_aug_w_name_w_molinfo_filename = f\"run_files/{filename_base}_train_prompts_mof_no_h2o_w_molinfo.jsonl\"\n",
    "valid_filename_w_molinfo = f\"run_files/{filename_base}_valid_prompts_mof_h2o_w_molinfo.jsonl\"\n",
    "\n",
    "train_prompts_aug_w_name_and_molinfo.to_json(train_prompts_aug_w_name_w_molinfo_filename, orient=\"records\", lines=True)\n",
    "test_prompts_aug_w_name_and_molinfo.to_json(valid_filename_w_molinfo, orient=\"records\", lines=True)"
   ]
  },
  {
   "cell_type": "code",
   "execution_count": 139,
   "metadata": {},
   "outputs": [],
   "source": [
    "train_prompts_aug_w_name_and_molinfo_ = []\n",
    "for i, row in train_prompts_aug_w_name_and_molinfo.iterrows(): \n",
    "    if not 'nan' in row['completion']:\n",
    "        train_prompts_aug_w_name_and_molinfo_.append(row)\n",
    "\n",
    "train_prompts_aug_w_name_and_molinfo = pd.DataFrame(train_prompts_aug_w_name_and_molinfo_)\n",
    "\n",
    "test_prompts_aug_w_name_and_molinfo_ = []\n",
    "for i, row in test_prompts_aug_w_name_and_molinfo.iterrows(): \n",
    "    if not 'nan' in row['completion']:\n",
    "        test_prompts_aug_w_name_and_molinfo_.append(row)\n",
    "\n",
    "test_prompts_aug_w_name_and_molinfo = pd.DataFrame(test_prompts_aug_w_name_and_molinfo_)\n",
    "\n",
    "train_prompts_aug_w_name_and_molinfo.to_json(train_prompts_aug_w_name_w_molinfo_filename, orient=\"records\", lines=True)\n",
    "test_prompts_aug_w_name_and_molinfo.to_json(valid_filename_w_molinfo, orient=\"records\", lines=True)"
   ]
  },
  {
   "cell_type": "code",
   "execution_count": 140,
   "metadata": {},
   "outputs": [
    {
     "name": "stdout",
     "output_type": "stream",
     "text": [
      "Fine-tune ft-kZLGUysgsbz5j94f9PFzCBDQ has the status \"pending\" and will not be logged\n",
      "🎉 wandb sync completed successfully\n"
     ]
    },
    {
     "data": {
      "text/plain": [
       "'ada:ft-lsmoepfl-2022-09-14-09-07-33'"
      ]
     },
     "execution_count": 140,
     "metadata": {},
     "output_type": "execute_result"
    }
   ],
   "source": [
    "fine_tune(train_prompts_aug_w_name_w_molinfo_filename, valid_filename_w_molinfo)"
   ]
  },
  {
   "cell_type": "code",
   "execution_count": 141,
   "metadata": {},
   "outputs": [],
   "source": [
    "completions_w_molinfo = query_gpt3('ada:ft-lsmoepfl-2022-09-14-09-07-33', test_prompts_aug_w_name_and_molinfo)"
   ]
  },
  {
   "cell_type": "code",
   "execution_count": 142,
   "metadata": {},
   "outputs": [],
   "source": [
    "predictions_w_molinfo = [extract_prediction(completions_w_molinfo, i) for i in range(len(completions_w_molinfo['choices']))]"
   ]
  },
  {
   "cell_type": "code",
   "execution_count": 143,
   "metadata": {},
   "outputs": [
    {
     "name": "stdout",
     "output_type": "stream",
     "text": [
      "Predict      high         low          medium       \n",
      "Actual\n",
      "high         0            0            1            \n",
      "\n",
      "low          1            2            17           \n",
      "\n",
      "medium       2            1            7            \n",
      "\n",
      "\n",
      "\n",
      "\n",
      "\n",
      "Overall Statistics : \n",
      "\n",
      "95% CI                                                            (0.13053,0.45011)\n",
      "ACC Macro                                                         0.52688\n",
      "ARI                                                               0.03759\n",
      "AUNP                                                              0.47597\n",
      "AUNU                                                              0.45866\n",
      "Bangdiwala B                                                      0.16933\n",
      "Bennett S                                                         -0.06452\n",
      "CBA                                                               0.12667\n",
      "CSI                                                               -0.41778\n",
      "Chi-Squared                                                       1.984\n",
      "Chi-Squared DF                                                    4\n",
      "Conditional Entropy                                               0.85547\n",
      "Cramer V                                                          0.17889\n",
      "Cross Entropy                                                     2.38249\n",
      "F1 Macro                                                          0.1913\n",
      "F1 Micro                                                          0.29032\n",
      "FNR Macro                                                         0.73333\n",
      "FNR Micro                                                         0.70968\n",
      "FPR Macro                                                         0.34935\n",
      "FPR Micro                                                         0.35484\n",
      "Gwet AC1                                                          0.02814\n",
      "Hamming Loss                                                      0.70968\n",
      "Joint Entropy                                                     1.94973\n",
      "KL Divergence                                                     1.28823\n",
      "Kappa                                                             -0.05247\n",
      "Kappa 95% CI                                                      (-0.28944,0.1845)\n",
      "Kappa No Prevalence                                               -0.41935\n",
      "Kappa Standard Error                                              0.1209\n",
      "Kappa Unbiased                                                    -0.31533\n",
      "Krippendorff Alpha                                                -0.29412\n",
      "Lambda A                                                          0.09091\n",
      "Lambda B                                                          0.0\n",
      "Mutual Information                                                0.04692\n",
      "NIR                                                               0.64516\n",
      "Overall ACC                                                       0.29032\n",
      "Overall CEN                                                       0.4733\n",
      "Overall J                                                         (0.34524,0.11508)\n",
      "Overall MCC                                                       -0.0889\n",
      "Overall MCEN                                                      0.46637\n",
      "Overall RACC                                                      0.3257\n",
      "Overall RACCU                                                     0.46046\n",
      "P-Value                                                           0.99999\n",
      "PPV Macro                                                         0.31556\n",
      "PPV Micro                                                         0.29032\n",
      "Pearson C                                                         0.24526\n",
      "Phi-Squared                                                       0.064\n",
      "RCI                                                               0.04287\n",
      "RR                                                                10.33333\n",
      "Reference Entropy                                                 1.09427\n",
      "Response Entropy                                                  0.90238\n",
      "SOA1(Landis & Koch)                                               Poor\n",
      "SOA2(Fleiss)                                                      Poor\n",
      "SOA3(Altman)                                                      Poor\n",
      "SOA4(Cicchetti)                                                   Poor\n",
      "SOA5(Cramer)                                                      Weak\n",
      "SOA6(Matthews)                                                    Negligible\n",
      "Scott PI                                                          -0.31533\n",
      "Standard Error                                                    0.08152\n",
      "TNR Macro                                                         0.65065\n",
      "TNR Micro                                                         0.64516\n",
      "TPR Macro                                                         0.26667\n",
      "TPR Micro                                                         0.29032\n",
      "Zero-one Loss                                                     22\n",
      "\n",
      "Class Statistics :\n",
      "\n",
      "Classes                                                           high          low           medium        \n",
      "ACC(Accuracy)                                                     0.87097       0.3871        0.32258       \n",
      "AGF(Adjusted F-score)                                             0.0           0.22131       0.42366       \n",
      "AGM(Adjusted geometric mean)                                      0             0.46064       0.24621       \n",
      "AM(Difference between automatic and manual classification)        2             -17           15            \n",
      "AUC(Area under the ROC curve)                                     0.45          0.50455       0.42143       \n",
      "AUCI(AUC value interpretation)                                    Poor          Poor          Poor          \n",
      "AUPR(Area under the PR curve)                                     0.0           0.38333       0.49          \n",
      "BCD(Bray-Curtis dissimilarity)                                    0.03226       0.27419       0.24194       \n",
      "BM(Informedness or bookmaker informedness)                        -0.1          0.00909       -0.15714      \n",
      "CEN(Confusion entropy)                                            0.75          0.35784       0.51754       \n",
      "DOR(Diagnostic odds ratio)                                        0.0           1.11111       0.38889       \n",
      "DP(Discriminant power)                                            None          0.02523       -0.22614      \n",
      "DPI(Discriminant power interpretation)                            None          Poor          Poor          \n",
      "ERR(Error rate)                                                   0.12903       0.6129        0.67742       \n",
      "F0.5(F0.5 score)                                                  0.0           0.3125        0.31818       \n",
      "F1(F1 score - harmonic mean of precision and sensitivity)         0.0           0.17391       0.4           \n",
      "F2(F2 score)                                                      0.0           0.12048       0.53846       \n",
      "FDR(False discovery rate)                                         1.0           0.33333       0.72          \n",
      "FN(False negative/miss/type 2 error)                              1             18            3             \n",
      "FNR(Miss rate or false negative rate)                             1.0           0.9           0.3           \n",
      "FOR(False omission rate)                                          0.03571       0.64286       0.5           \n",
      "FP(False positive/type 1 error/false alarm)                       3             1             18            \n",
      "FPR(Fall-out or false positive rate)                              0.1           0.09091       0.85714       \n",
      "G(G-measure geometric mean of precision and sensitivity)          0.0           0.2582        0.44272       \n",
      "GI(Gini index)                                                    -0.1          0.00909       -0.15714      \n",
      "GM(G-mean geometric mean of specificity and sensitivity)          0.0           0.30151       0.31623       \n",
      "IBA(Index of balanced accuracy)                                   0.0           0.01736       0.15571       \n",
      "ICSI(Individual classification success index)                     -1.0          -0.23333      -0.02         \n",
      "IS(Information score)                                             None          0.04731       -0.20423      \n",
      "J(Jaccard index)                                                  0.0           0.09524       0.25          \n",
      "LS(Lift score)                                                    0.0           1.03333       0.868         \n",
      "MCC(Matthews correlation coefficient)                             -0.05976      0.01471       -0.18593      \n",
      "MCCI(Matthews correlation coefficient interpretation)             Negligible    Negligible    Negligible    \n",
      "MCEN(Modified confusion entropy)                                  0.75          0.33255       0.52621       \n",
      "MK(Markedness)                                                    -0.03571      0.02381       -0.22         \n",
      "N(Condition negative)                                             30            11            21            \n",
      "NLR(Negative likelihood ratio)                                    1.11111       0.99          2.1           \n",
      "NLRI(Negative likelihood ratio interpretation)                    Negligible    Negligible    Negligible    \n",
      "NPV(Negative predictive value)                                    0.96429       0.35714       0.5           \n",
      "OC(Overlap coefficient)                                           0.0           0.66667       0.7           \n",
      "OOC(Otsuka-Ochiai coefficient)                                    0.0           0.2582        0.44272       \n",
      "OP(Optimized precision)                                           -0.12903      -0.41471      -0.33844      \n",
      "P(Condition positive or support)                                  1             20            10            \n",
      "PLR(Positive likelihood ratio)                                    0.0           1.1           0.81667       \n",
      "PLRI(Positive likelihood ratio interpretation)                    Negligible    Poor          Negligible    \n",
      "POP(Population)                                                   31            31            31            \n",
      "PPV(Precision or positive predictive value)                       0.0           0.66667       0.28          \n",
      "PRE(Prevalence)                                                   0.03226       0.64516       0.32258       \n",
      "Q(Yule Q - coefficient of colligation)                            -1.0          0.05263       -0.44         \n",
      "QI(Yule Q interpretation)                                         Negligible    Negligible    Negligible    \n",
      "RACC(Random accuracy)                                             0.00312       0.06243       0.26015       \n",
      "RACCU(Random accuracy unbiased)                                   0.00416       0.13762       0.31868       \n",
      "TN(True negative/correct rejection)                               27            10            3             \n",
      "TNR(Specificity or true negative rate)                            0.9           0.90909       0.14286       \n",
      "TON(Test outcome negative)                                        28            28            6             \n",
      "TOP(Test outcome positive)                                        3             3             25            \n",
      "TP(True positive/hit)                                             0             2             7             \n",
      "TPR(Sensitivity, recall, hit rate, or true positive rate)         0.0           0.1           0.7           \n",
      "Y(Youden index)                                                   -0.1          0.00909       -0.15714      \n",
      "dInd(Distance index)                                              1.00499       0.90458       0.90813       \n",
      "sInd(Similarity index)                                            0.28937       0.36037       0.35786       \n",
      "\n"
     ]
    }
   ],
   "source": [
    "print(ConfusionMatrix(actual_vector=true.to_list(), predict_vector=predictions_w_molinfo))"
   ]
  },
  {
   "cell_type": "markdown",
   "metadata": {},
   "source": [
    "Interestingly, adding more info makes things worse..."
   ]
  },
  {
   "cell_type": "markdown",
   "metadata": {},
   "source": []
  }
 ],
 "metadata": {
  "kernelspec": {
   "display_name": "Python 3.9.13 ('gpt3')",
   "language": "python",
   "name": "python3"
  },
  "language_info": {
   "codemirror_mode": {
    "name": "ipython",
    "version": 3
   },
   "file_extension": ".py",
   "mimetype": "text/x-python",
   "name": "python",
   "nbconvert_exporter": "python",
   "pygments_lexer": "ipython3",
   "version": "3.9.13"
  },
  "orig_nbformat": 4,
  "vscode": {
   "interpreter": {
    "hash": "9a4fa60962de90e73b5da8d67a44b01d2de04630d82b94b8db1f727a73d31e61"
   }
  }
 },
 "nbformat": 4,
 "nbformat_minor": 2
}
