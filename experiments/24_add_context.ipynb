{
 "cells": [
  {
   "cell_type": "code",
   "execution_count": 70,
   "metadata": {},
   "outputs": [
    {
     "name": "stdout",
     "output_type": "stream",
     "text": [
      "The autoreload extension is already loaded. To reload it, use:\n",
      "  %reload_ext autoreload\n"
     ]
    }
   ],
   "source": [
    "%load_ext autoreload \n",
    "%autoreload 2"
   ]
  },
  {
   "cell_type": "markdown",
   "metadata": {},
   "source": [
    "We can add context in two ways to help improve the model performance:\n",
    "\n",
    "1. Train on multiple small datasets at the same time (e.g. Xe, Kr, CH4, N2, H2O Henry coefficients) instead of trainin only on one dataset.\n",
    "\n",
    "2. Train with additional information about the gases and test if this can be used by the model to \"extrapolate\" to unseen guests\n",
    "\n",
    "All available outputs are\n",
    "\n",
    "- \"outputs.pbe.bandgap\",\n",
    "- \"outputs.Xe-henry_coefficient-mol--kg--Pa\",\n",
    "- \"outputs.Kr-henry_coefficient-mol--kg--Pa\",\n",
    "- \"outputs.H2O-henry_coefficient-mol--kg--Pa\",\n",
    "- \"outputs.H2S-henry_coefficient-mol--kg--Pa\",\n",
    "- \"outputs.CO2-henry_coefficient-mol--kg--Pa\",\n",
    "- \"outputs.CH4-henry_coefficient-mol--kg--Pa\",\n",
    "- \"outputs.O2-henry_coefficient-mol--kg--Pa\",\n"
   ]
  },
  {
   "cell_type": "code",
   "execution_count": 71,
   "metadata": {},
   "outputs": [],
   "source": [
    "from gpt3forchem.data import get_mof_data, discretize\n",
    "from sklearn.model_selection import train_test_split\n",
    "from gpt3forchem.input import (\n",
    "    create_single_property_forward_prompts,\n",
    "    create_single_property_forward_prompts_multiple_targets,\n",
    ")\n",
    "from gpt3forchem.api_wrappers import extract_prediction, fine_tune, query_gpt3\n",
    "from collections import Counter\n",
    "import numpy as np \n",
    "from pycm import ConfusionMatrix\n",
    "import time"
   ]
  },
  {
   "cell_type": "code",
   "execution_count": 3,
   "metadata": {},
   "outputs": [
    {
     "name": "stderr",
     "output_type": "stream",
     "text": [
      "/Users/kevinmaikjablonka/git/kjappelbaum/gpt3forchem/gpt3forchem/data.py:76: DtypeWarning: Columns (23,24,25,26,27,35,36,37,38,39,47,48,49,50,51) have mixed types. Specify dtype option on import or set low_memory=False.\n",
      "  return HashableDataFrame(pd.read_csv(os.path.join(datadir, \"mof.csv\")))\n"
     ]
    }
   ],
   "source": [
    "df = get_mof_data()\n"
   ]
  },
  {
   "cell_type": "code",
   "execution_count": 25,
   "metadata": {},
   "outputs": [],
   "source": [
    "df = df.dropna(subset=[\"outputs.H2O-henry_coefficient-mol--kg--Pa\"])\n"
   ]
  },
  {
   "cell_type": "markdown",
   "metadata": {},
   "source": [
    "Let's get the logs of the Henry coefficients.\n"
   ]
  },
  {
   "cell_type": "code",
   "execution_count": 30,
   "metadata": {},
   "outputs": [],
   "source": [
    "features = [\n",
    "    \"outputs.Xe-henry_coefficient-mol--kg--Pa\",\n",
    "    \"outputs.Kr-henry_coefficient-mol--kg--Pa\",\n",
    "    \"outputs.H2O-henry_coefficient-mol--kg--Pa\",\n",
    "    \"outputs.H2S-henry_coefficient-mol--kg--Pa\",\n",
    "    \"outputs.CO2-henry_coefficient-mol--kg--Pa\",\n",
    "    \"outputs.CH4-henry_coefficient-mol--kg--Pa\",\n",
    "    \"outputs.O2-henry_coefficient-mol--kg--Pa\",\n",
    "]\n"
   ]
  },
  {
   "cell_type": "code",
   "execution_count": 36,
   "metadata": {},
   "outputs": [],
   "source": [
    "for feature in features:\n",
    "    df[feature + '_log'] = np.log10(df[feature] + 1e-40)"
   ]
  },
  {
   "cell_type": "markdown",
   "metadata": {},
   "source": [
    "Since the datasets are relatively small, we will only work with three bins."
   ]
  },
  {
   "cell_type": "code",
   "execution_count": 69,
   "metadata": {},
   "outputs": [],
   "source": [
    "for feature in features:\n",
    "\n",
    "    discretize(\n",
    "        df, f\"{feature}_log\", n_bins=3, labels=[\"low\", \"medium\", \"high\"]\n",
    "    )\n"
   ]
  },
  {
   "cell_type": "code",
   "execution_count": 42,
   "metadata": {},
   "outputs": [
    {
     "data": {
      "text/plain": [
       "Counter({'medium': 47, 'low': 99, 'high': 7})"
      ]
     },
     "execution_count": 42,
     "metadata": {},
     "output_type": "execute_result"
    }
   ],
   "source": [
    "Counter(df[\"outputs.H2O-henry_coefficient-mol--kg--Pa_log_cat\"])\n"
   ]
  },
  {
   "cell_type": "code",
   "execution_count": 73,
   "metadata": {},
   "outputs": [],
   "source": [
    "train_df, test_df = train_test_split(\n",
    "    df, train_size=0.8, stratify=df[\"outputs.H2O-henry_coefficient-mol--kg--Pa_log_cat\"]\n",
    ")\n"
   ]
  },
  {
   "cell_type": "markdown",
   "metadata": {},
   "source": [
    "# 1. Train on multiple small datasets at the same time\n"
   ]
  },
  {
   "cell_type": "markdown",
   "metadata": {},
   "source": [
    "Let's take H2O Henry coefficient as our target. We first train a model just on it and then train a model on it and a bunch of Henry coefficients of other molecules (but we still only test on H2O).\n"
   ]
  },
  {
   "cell_type": "code",
   "execution_count": 74,
   "metadata": {},
   "outputs": [],
   "source": [
    "train_prompts = create_single_property_forward_prompts(train_df, \"outputs.H2O-henry_coefficient-mol--kg--Pa_log_cat\", {'outputs.H2O-henry_coefficient-mol--kg--Pa_log_cat': 'H2O Henry coefficient'}, representation_col=\"info.mofid.mofid_clean\", encode_value=False)"
   ]
  },
  {
   "cell_type": "code",
   "execution_count": 75,
   "metadata": {},
   "outputs": [],
   "source": [
    "test_prompts = create_single_property_forward_prompts(\n",
    "    test_df,\n",
    "    \"outputs.H2O-henry_coefficient-mol--kg--Pa_log_cat\",\n",
    "    {\"outputs.H2O-henry_coefficient-mol--kg--Pa_log_cat\": \"H2O Henry coefficient\"},\n",
    "    representation_col=\"info.mofid.mofid_clean\",\n",
    "    encode_value=False,\n",
    ")\n"
   ]
  },
  {
   "cell_type": "code",
   "execution_count": 76,
   "metadata": {},
   "outputs": [],
   "source": [
    "filename_base = time.strftime(\"%Y-%m-%d-%H-%M-%S\", time.localtime())\n",
    "train_filename = f\"run_files/{filename_base}_train_prompts_mof_h2o.jsonl\"\n",
    "valid_filename = f\"run_files/{filename_base}_valid_prompts_mof_h2o.jsonl\"\n",
    "\n",
    "train_prompts.to_json(train_filename, orient=\"records\", lines=True)\n",
    "test_prompts.to_json(valid_filename, orient=\"records\", lines=True)"
   ]
  },
  {
   "cell_type": "code",
   "execution_count": 78,
   "metadata": {},
   "outputs": [
    {
     "name": "stderr",
     "output_type": "stream",
     "text": [
      "Traceback (most recent call last):\n",
      "  File \"/Users/kevinmaikjablonka/miniconda3/envs/gpt3/bin/openai\", line 8, in <module>\n",
      "    sys.exit(main())\n",
      "  File \"/Users/kevinmaikjablonka/miniconda3/envs/gpt3/lib/python3.9/site-packages/openai/_openai_scripts.py\", line 63, in main\n",
      "    args.func(args)\n",
      "  File \"/Users/kevinmaikjablonka/miniconda3/envs/gpt3/lib/python3.9/site-packages/openai/cli.py\", line 545, in sync\n",
      "    resp = openai.wandb_logger.WandbLogger.sync(\n",
      "  File \"/Users/kevinmaikjablonka/miniconda3/envs/gpt3/lib/python3.9/site-packages/openai/wandb_logger.py\", line 74, in sync\n",
      "    fine_tune_logged = [\n",
      "  File \"/Users/kevinmaikjablonka/miniconda3/envs/gpt3/lib/python3.9/site-packages/openai/wandb_logger.py\", line 75, in <listcomp>\n",
      "    cls._log_fine_tune(\n",
      "  File \"/Users/kevinmaikjablonka/miniconda3/envs/gpt3/lib/python3.9/site-packages/openai/wandb_logger.py\", line 125, in _log_fine_tune\n",
      "    wandb_run = cls._get_wandb_run(run_path)\n",
      "  File \"/Users/kevinmaikjablonka/miniconda3/envs/gpt3/lib/python3.9/site-packages/openai/wandb_logger.py\", line 190, in _get_wandb_run\n",
      "    cls._ensure_logged_in()\n",
      "  File \"/Users/kevinmaikjablonka/miniconda3/envs/gpt3/lib/python3.9/site-packages/openai/wandb_logger.py\", line 186, in _ensure_logged_in\n",
      "    raise Exception(\"You need to log in to wandb\")\n",
      "Exception: You need to log in to wandb\n"
     ]
    },
    {
     "data": {
      "text/plain": [
       "'ada:ft-lsmoepfl-2022-09-13-20-55-28'"
      ]
     },
     "execution_count": 78,
     "metadata": {},
     "output_type": "execute_result"
    }
   ],
   "source": [
    "fine_tune(train_filename, valid_filename)"
   ]
  },
  {
   "cell_type": "code",
   "execution_count": 79,
   "metadata": {},
   "outputs": [],
   "source": [
    "completions = query_gpt3('ada:ft-lsmoepfl-2022-09-13-20-55-28', test_prompts)"
   ]
  },
  {
   "cell_type": "code",
   "execution_count": 80,
   "metadata": {},
   "outputs": [],
   "source": [
    "predictions = [\n",
    "    extract_prediction(completions, i) for i in range(len(completions['choices']))\n",
    "]"
   ]
  },
  {
   "cell_type": "code",
   "execution_count": 81,
   "metadata": {},
   "outputs": [],
   "source": [
    "true = test_prompts['completion'].apply(lambda x: x.split('@')[0].strip())"
   ]
  },
  {
   "cell_type": "code",
   "execution_count": 82,
   "metadata": {},
   "outputs": [],
   "source": [
    "cm = ConfusionMatrix(actual_vector=true.to_list(), predict_vector=predictions)"
   ]
  },
  {
   "cell_type": "code",
   "execution_count": 84,
   "metadata": {},
   "outputs": [
    {
     "name": "stdout",
     "output_type": "stream",
     "text": [
      "Predict      high         low          medium       \n",
      "Actual\n",
      "high         0            0            1            \n",
      "\n",
      "low          0            19           1            \n",
      "\n",
      "medium       0            9            1            \n",
      "\n",
      "\n",
      "\n",
      "\n",
      "\n",
      "Overall Statistics : \n",
      "\n",
      "95% CI                                                            (0.47673,0.81359)\n",
      "ACC Macro                                                         0.76344\n",
      "ARI                                                               0.12517\n",
      "AUNP                                                              0.54329\n",
      "AUNU                                                              0.52276\n",
      "Bangdiwala B                                                      0.61356\n",
      "Bennett S                                                         0.46774\n",
      "CBA                                                               0.25952\n",
      "CSI                                                               None\n",
      "Chi-Squared                                                       None\n",
      "Chi-Squared DF                                                    4\n",
      "Conditional Entropy                                               0.33606\n",
      "Cramer V                                                          None\n",
      "Cross Entropy                                                     1.18159\n",
      "F1 Macro                                                          0.31517\n",
      "F1 Micro                                                          0.64516\n",
      "FNR Macro                                                         0.65\n",
      "FNR Micro                                                         0.35484\n",
      "FPR Macro                                                         0.30447\n",
      "FPR Micro                                                         0.17742\n",
      "Gwet AC1                                                          0.56822\n",
      "Hamming Loss                                                      0.35484\n",
      "Joint Entropy                                                     1.43033\n",
      "KL Divergence                                                     None\n",
      "Kappa                                                             0.08086\n",
      "Kappa 95% CI                                                      (-0.35543,0.51715)\n",
      "Kappa No Prevalence                                               0.29032\n",
      "Kappa Standard Error                                              0.2226\n",
      "Kappa Unbiased                                                    0.00438\n",
      "Krippendorff Alpha                                                0.02044\n",
      "Lambda A                                                          0.0\n",
      "Lambda B                                                          0.33333\n",
      "Mutual Information                                                0.12262\n",
      "NIR                                                               0.64516\n",
      "Overall ACC                                                       0.64516\n",
      "Overall CEN                                                       0.31851\n",
      "Overall J                                                         (0.73851,0.24617)\n",
      "Overall MCC                                                       0.10792\n",
      "Overall MCEN                                                      0.36852\n",
      "Overall RACC                                                      0.61394\n",
      "Overall RACCU                                                     0.6436\n",
      "P-Value                                                           0.58119\n",
      "PPV Macro                                                         None\n",
      "PPV Micro                                                         0.64516\n",
      "Pearson C                                                         None\n",
      "Phi-Squared                                                       None\n",
      "RCI                                                               0.11206\n",
      "RR                                                                10.33333\n",
      "Reference Entropy                                                 1.09427\n",
      "Response Entropy                                                  0.45869\n",
      "SOA1(Landis & Koch)                                               Slight\n",
      "SOA2(Fleiss)                                                      Poor\n",
      "SOA3(Altman)                                                      Poor\n",
      "SOA4(Cicchetti)                                                   Poor\n",
      "SOA5(Cramer)                                                      None\n",
      "SOA6(Matthews)                                                    Negligible\n",
      "Scott PI                                                          0.00438\n",
      "Standard Error                                                    0.08593\n",
      "TNR Macro                                                         0.69553\n",
      "TNR Micro                                                         0.82258\n",
      "TPR Macro                                                         0.35\n",
      "TPR Micro                                                         0.64516\n",
      "Zero-one Loss                                                     11\n",
      "\n",
      "Class Statistics :\n",
      "\n",
      "Classes                                                           high          low           medium        \n",
      "ACC(Accuracy)                                                     0.96774       0.67742       0.64516       \n",
      "AGF(Adjusted F-score)                                             0.0           0.61842       0.2882        \n",
      "AGM(Adjusted geometric mean)                                      0             0.35437       0.5447        \n",
      "AM(Difference between automatic and manual classification)        -1            8             -7            \n",
      "AUC(Area under the ROC curve)                                     0.5           0.56591       0.50238       \n",
      "AUCI(AUC value interpretation)                                    Poor          Poor          Poor          \n",
      "AUPR(Area under the PR curve)                                     None          0.81429       0.21667       \n",
      "BCD(Bray-Curtis dissimilarity)                                    0.01613       0.12903       0.1129        \n",
      "BM(Informedness or bookmaker informedness)                        0.0           0.13182       0.00476       \n",
      "CEN(Confusion entropy)                                            0.0           0.28459       0.46829       \n",
      "DOR(Diagnostic odds ratio)                                        None          4.22222       1.05556       \n",
      "DP(Discriminant power)                                            None          0.34488       0.01295       \n",
      "DPI(Discriminant power interpretation)                            None          Poor          Poor          \n",
      "ERR(Error rate)                                                   0.03226       0.32258       0.35484       \n",
      "F0.5(F0.5 score)                                                  0.0           0.7197        0.22727       \n",
      "F1(F1 score - harmonic mean of precision and sensitivity)         0.0           0.79167       0.15385       \n",
      "F2(F2 score)                                                      0.0           0.87963       0.11628       \n",
      "FDR(False discovery rate)                                         None          0.32143       0.66667       \n",
      "FN(False negative/miss/type 2 error)                              1             1             9             \n",
      "FNR(Miss rate or false negative rate)                             1.0           0.05          0.9           \n",
      "FOR(False omission rate)                                          0.03226       0.33333       0.32143       \n",
      "FP(False positive/type 1 error/false alarm)                       0             9             2             \n",
      "FPR(Fall-out or false positive rate)                              0.0           0.81818       0.09524       \n",
      "G(G-measure geometric mean of precision and sensitivity)          None          0.8029        0.18257       \n",
      "GI(Gini index)                                                    0.0           0.13182       0.00476       \n",
      "GM(G-mean geometric mean of specificity and sensitivity)          0.0           0.4156        0.30079       \n",
      "IBA(Index of balanced accuracy)                                   0.0           0.30541       0.01766       \n",
      "ICSI(Individual classification success index)                     None          0.62857       -0.56667      \n",
      "IS(Information score)                                             None          0.07284       0.04731       \n",
      "J(Jaccard index)                                                  0.0           0.65517       0.08333       \n",
      "LS(Lift score)                                                    None          1.05179       1.03333       \n",
      "MCC(Matthews correlation coefficient)                             None          0.21333       0.00753       \n",
      "MCCI(Matthews correlation coefficient interpretation)             None          Negligible    Negligible    \n",
      "MCEN(Modified confusion entropy)                                  0.0           0.3457        0.45439       \n",
      "MK(Markedness)                                                    None          0.34524       0.0119        \n",
      "N(Condition negative)                                             30            11            21            \n",
      "NLR(Negative likelihood ratio)                                    1.0           0.275         0.99474       \n",
      "NLRI(Negative likelihood ratio interpretation)                    Negligible    Poor          Negligible    \n",
      "NPV(Negative predictive value)                                    0.96774       0.66667       0.67857       \n",
      "OC(Overlap coefficient)                                           None          0.95          0.33333       \n",
      "OOC(Otsuka-Ochiai coefficient)                                    None          0.8029        0.18257       \n",
      "OP(Optimized precision)                                           -0.03226      -0.0013       -0.15579      \n",
      "P(Condition positive or support)                                  1             20            10            \n",
      "PLR(Positive likelihood ratio)                                    None          1.16111       1.05          \n",
      "PLRI(Positive likelihood ratio interpretation)                    None          Poor          Poor          \n",
      "POP(Population)                                                   31            31            31            \n",
      "PPV(Precision or positive predictive value)                       None          0.67857       0.33333       \n",
      "PRE(Prevalence)                                                   0.03226       0.64516       0.32258       \n",
      "Q(Yule Q - coefficient of colligation)                            None          0.61702       0.02703       \n",
      "QI(Yule Q interpretation)                                         None          Moderate      Negligible    \n",
      "RACC(Random accuracy)                                             0.0           0.58273       0.03122       \n",
      "RACCU(Random accuracy unbiased)                                   0.00026       0.59938       0.04396       \n",
      "TN(True negative/correct rejection)                               30            2             19            \n",
      "TNR(Specificity or true negative rate)                            1.0           0.18182       0.90476       \n",
      "TON(Test outcome negative)                                        31            3             28            \n",
      "TOP(Test outcome positive)                                        0             28            3             \n",
      "TP(True positive/hit)                                             0             19            1             \n",
      "TPR(Sensitivity, recall, hit rate, or true positive rate)         0.0           0.95          0.1           \n",
      "Y(Youden index)                                                   0.0           0.13182       0.00476       \n",
      "dInd(Distance index)                                              1.0           0.81971       0.90503       \n",
      "sInd(Similarity index)                                            0.29289       0.42038       0.36005       \n",
      "\n"
     ]
    }
   ],
   "source": [
    "print(cm)"
   ]
  },
  {
   "cell_type": "markdown",
   "metadata": {},
   "source": [
    "Now, let's use the same train/test split - but add additional outputs."
   ]
  },
  {
   "cell_type": "code",
   "execution_count": 85,
   "metadata": {},
   "outputs": [],
   "source": [
    "train_prompts_aug = create_single_property_forward_prompts_multiple_targets(\n",
    "    train_df,\n",
    "    [\n",
    "        \"outputs.Xe-henry_coefficient-mol--kg--Pa_log_cat\",\n",
    "        \"outputs.Kr-henry_coefficient-mol--kg--Pa_log_cat\",\n",
    "        \"outputs.H2S-henry_coefficient-mol--kg--Pa_log_cat\",\n",
    "        \"outputs.CO2-henry_coefficient-mol--kg--Pa_log_cat\",\n",
    "        \"outputs.CH4-henry_coefficient-mol--kg--Pa_log_cat\",\n",
    "        \"outputs.O2-henry_coefficient-mol--kg--Pa_log_cat\",\n",
    "    ],\n",
    "    {\n",
    "        \"outputs.Xe-henry_coefficient-mol--kg--Pa_log_cat\": \"Xe Henry coefficient\",\n",
    "        \"outputs.Kr-henry_coefficient-mol--kg--Pa_log_cat\": \"Kr Henry coefficient\",\n",
    "        \"outputs.H2S-henry_coefficient-mol--kg--Pa_log_cat\": \"H2S Henry coefficient\",\n",
    "        \"outputs.CO2-henry_coefficient-mol--kg--Pa_log_cat\": \"CO2 Henry coefficient\",\n",
    "        \"outputs.CH4-henry_coefficient-mol--kg--Pa_log_cat\": \"CH4 Henry coefficient\",\n",
    "        \"outputs.O2-henry_coefficient-mol--kg--Pa_log_cat\": \"O2 Henry coefficient\",\n",
    "    },\n",
    "    representation_col=\"info.mofid.mofid_clean\",\n",
    "    encode_value=False,\n",
    ")\n"
   ]
  },
  {
   "cell_type": "code",
   "execution_count": 97,
   "metadata": {},
   "outputs": [],
   "source": [
    "import pandas as pd"
   ]
  },
  {
   "cell_type": "code",
   "execution_count": 98,
   "metadata": {},
   "outputs": [],
   "source": [
    "train_prompts_aug_ = []\n",
    "\n",
    "for i, row in train_prompts_aug.iterrows():\n",
    "    if not 'nan' in  row['completion']:\n",
    "        train_prompts_aug_.append(row)\n",
    "\n",
    "train_prompts_aug = pd.DataFrame(train_prompts_aug_)"
   ]
  },
  {
   "cell_type": "code",
   "execution_count": 99,
   "metadata": {},
   "outputs": [],
   "source": [
    "train_augment_filename = f\"run_files/{filename_base}_train_prompts_mof_aug.jsonl\"\n",
    "\n",
    "train_prompts_aug.to_json(train_augment_filename, orient=\"records\", lines=True)"
   ]
  },
  {
   "cell_type": "code",
   "execution_count": 100,
   "metadata": {},
   "outputs": [
    {
     "name": "stdout",
     "output_type": "stream",
     "text": [
      "Fine-tune ft-lOtEpqD3BeNqeZo71xdB83n6 has the status \"pending\" and will not be logged\n",
      "🎉 wandb sync completed successfully\n"
     ]
    },
    {
     "data": {
      "text/plain": [
       "'ada:ft-lsmoepfl-2022-09-13-21-17-29'"
      ]
     },
     "execution_count": 100,
     "metadata": {},
     "output_type": "execute_result"
    }
   ],
   "source": [
    "fine_tune(train_augment_filename, valid_filename)"
   ]
  },
  {
   "cell_type": "code",
   "execution_count": 101,
   "metadata": {},
   "outputs": [],
   "source": [
    "completions_aug = query_gpt3('ada:ft-lsmoepfl-2022-09-13-21-17-29', test_prompts)"
   ]
  },
  {
   "cell_type": "code",
   "execution_count": 102,
   "metadata": {},
   "outputs": [],
   "source": [
    "predictions_aug = [\n",
    "    extract_prediction(completions_aug, i) for i in range(len(completions_aug['choices']))\n",
    "]"
   ]
  },
  {
   "cell_type": "code",
   "execution_count": 103,
   "metadata": {},
   "outputs": [],
   "source": [
    "true = test_prompts['completion'].apply(lambda x: x.split('@')[0].strip())"
   ]
  },
  {
   "cell_type": "code",
   "execution_count": 104,
   "metadata": {},
   "outputs": [],
   "source": [
    "cm_aug = ConfusionMatrix(actual_vector=true.to_list(), predict_vector=predictions_aug)"
   ]
  },
  {
   "cell_type": "code",
   "execution_count": 106,
   "metadata": {},
   "outputs": [
    {
     "name": "stdout",
     "output_type": "stream",
     "text": [
      "Predict      high         low          medium       \n",
      "Actual\n",
      "high         0            0            1            \n",
      "\n",
      "low          3            2            15           \n",
      "\n",
      "medium       0            0            10           \n",
      "\n",
      "\n",
      "\n",
      "\n",
      "\n",
      "Overall Statistics : \n",
      "\n",
      "95% CI                                                            (0.21563,0.55856)\n",
      "ACC Macro                                                         0.5914\n",
      "ARI                                                               -0.10601\n",
      "AUNP                                                              0.56905\n",
      "AUNU                                                              0.53968\n",
      "Bangdiwala B                                                      0.34323\n",
      "Bennett S                                                         0.08065\n",
      "CBA                                                               0.16154\n",
      "CSI                                                               -0.17179\n",
      "Chi-Squared                                                       3.27885\n",
      "Chi-Squared DF                                                    4\n",
      "Conditional Entropy                                               0.68001\n",
      "Cramer V                                                          0.22997\n",
      "Cross Entropy                                                     2.74164\n",
      "F1 Macro                                                          0.24579\n",
      "F1 Micro                                                          0.3871\n",
      "FNR Macro                                                         0.63333\n",
      "FNR Micro                                                         0.6129\n",
      "FPR Macro                                                         0.2873\n",
      "FPR Micro                                                         0.30645\n",
      "Gwet AC1                                                          0.16454\n",
      "Hamming Loss                                                      0.6129\n",
      "Joint Entropy                                                     1.77428\n",
      "KL Divergence                                                     1.64737\n",
      "Kappa                                                             0.10486\n",
      "Kappa 95% CI                                                      (-0.14556,0.35529)\n",
      "Kappa No Prevalence                                               -0.22581\n",
      "Kappa Standard Error                                              0.12777\n",
      "Kappa Unbiased                                                    -0.15039\n",
      "Krippendorff Alpha                                                -0.13184\n",
      "Lambda A                                                          0.0\n",
      "Lambda B                                                          0.0\n",
      "Mutual Information                                                0.11398\n",
      "NIR                                                               0.64516\n",
      "Overall ACC                                                       0.3871\n",
      "Overall CEN                                                       0.35703\n",
      "Overall J                                                         (0.48462,0.16154)\n",
      "Overall MCC                                                       0.19507\n",
      "Overall MCEN                                                      0.34285\n",
      "Overall RACC                                                      0.3153\n",
      "Overall RACCU                                                     0.46722\n",
      "P-Value                                                           0.99906\n",
      "PPV Macro                                                         0.46154\n",
      "PPV Micro                                                         0.3871\n",
      "Pearson C                                                         0.30928\n",
      "Phi-Squared                                                       0.10577\n",
      "RCI                                                               0.10416\n",
      "RR                                                                10.33333\n",
      "Reference Entropy                                                 1.09427\n",
      "Response Entropy                                                  0.79399\n",
      "SOA1(Landis & Koch)                                               Slight\n",
      "SOA2(Fleiss)                                                      Poor\n",
      "SOA3(Altman)                                                      Poor\n",
      "SOA4(Cicchetti)                                                   Poor\n",
      "SOA5(Cramer)                                                      Moderate\n",
      "SOA6(Matthews)                                                    Negligible\n",
      "Scott PI                                                          -0.15039\n",
      "Standard Error                                                    0.08748\n",
      "TNR Macro                                                         0.7127\n",
      "TNR Micro                                                         0.69355\n",
      "TPR Macro                                                         0.36667\n",
      "TPR Micro                                                         0.3871\n",
      "Zero-one Loss                                                     19\n",
      "\n",
      "Class Statistics :\n",
      "\n",
      "Classes                                                           high          low           medium        \n",
      "ACC(Accuracy)                                                     0.87097       0.41935       0.48387       \n",
      "AGF(Adjusted F-score)                                             0.0           0.22981       0.67966       \n",
      "AGM(Adjusted geometric mean)                                      0             0.49531       0.38705       \n",
      "AM(Difference between automatic and manual classification)        2             -18           16            \n",
      "AUC(Area under the ROC curve)                                     0.45          0.55          0.61905       \n",
      "AUCI(AUC value interpretation)                                    Poor          Poor          Fair          \n",
      "AUPR(Area under the PR curve)                                     0.0           0.55          0.69231       \n",
      "BCD(Bray-Curtis dissimilarity)                                    0.03226       0.29032       0.25806       \n",
      "BM(Informedness or bookmaker informedness)                        -0.1          0.1           0.2381        \n",
      "CEN(Confusion entropy)                                            0.40564       0.38435       0.33494       \n",
      "DOR(Diagnostic odds ratio)                                        0.0           None          None          \n",
      "DP(Discriminant power)                                            None          None          None          \n",
      "DPI(Discriminant power interpretation)                            None          None          None          \n",
      "ERR(Error rate)                                                   0.12903       0.58065       0.51613       \n",
      "F0.5(F0.5 score)                                                  0.0           0.35714       0.4386        \n",
      "F1(F1 score - harmonic mean of precision and sensitivity)         0.0           0.18182       0.55556       \n",
      "F2(F2 score)                                                      0.0           0.12195       0.75758       \n",
      "FDR(False discovery rate)                                         1.0           0.0           0.61538       \n",
      "FN(False negative/miss/type 2 error)                              1             18            0             \n",
      "FNR(Miss rate or false negative rate)                             1.0           0.9           0.0           \n",
      "FOR(False omission rate)                                          0.03571       0.62069       0.0           \n",
      "FP(False positive/type 1 error/false alarm)                       3             0             16            \n",
      "FPR(Fall-out or false positive rate)                              0.1           0.0           0.7619        \n",
      "G(G-measure geometric mean of precision and sensitivity)          0.0           0.31623       0.62017       \n",
      "GI(Gini index)                                                    -0.1          0.1           0.2381        \n",
      "GM(G-mean geometric mean of specificity and sensitivity)          0.0           0.31623       0.48795       \n",
      "IBA(Index of balanced accuracy)                                   0.0           0.01          0.4195        \n",
      "ICSI(Individual classification success index)                     -1.0          0.1           0.38462       \n",
      "IS(Information score)                                             None          0.63227       0.25376       \n",
      "J(Jaccard index)                                                  0.0           0.1           0.38462       \n",
      "LS(Lift score)                                                    0.0           1.55          1.19231       \n",
      "MCC(Matthews correlation coefficient)                             -0.05976      0.19476       0.30261       \n",
      "MCCI(Matthews correlation coefficient interpretation)             Negligible    Negligible    Weak          \n",
      "MCEN(Modified confusion entropy)                                  0.40564       0.36091       0.3193        \n",
      "MK(Markedness)                                                    -0.03571      0.37931       0.38462       \n",
      "N(Condition negative)                                             30            11            21            \n",
      "NLR(Negative likelihood ratio)                                    1.11111       0.9           0.0           \n",
      "NLRI(Negative likelihood ratio interpretation)                    Negligible    Negligible    Good          \n",
      "NPV(Negative predictive value)                                    0.96429       0.37931       1.0           \n",
      "OC(Overlap coefficient)                                           0.0           1.0           1.0           \n",
      "OOC(Otsuka-Ochiai coefficient)                                    0.0           0.31623       0.62017       \n",
      "OP(Optimized precision)                                           -0.12903      -0.39883      -0.13151      \n",
      "P(Condition positive or support)                                  1             20            10            \n",
      "PLR(Positive likelihood ratio)                                    0.0           None          1.3125        \n",
      "PLRI(Positive likelihood ratio interpretation)                    Negligible    None          Poor          \n",
      "POP(Population)                                                   31            31            31            \n",
      "PPV(Precision or positive predictive value)                       0.0           1.0           0.38462       \n",
      "PRE(Prevalence)                                                   0.03226       0.64516       0.32258       \n",
      "Q(Yule Q - coefficient of colligation)                            -1.0          None          None          \n",
      "QI(Yule Q interpretation)                                         Negligible    None          None          \n",
      "RACC(Random accuracy)                                             0.00312       0.04162       0.27055       \n",
      "RACCU(Random accuracy unbiased)                                   0.00416       0.12591       0.33715       \n",
      "TN(True negative/correct rejection)                               27            11            5             \n",
      "TNR(Specificity or true negative rate)                            0.9           1.0           0.2381        \n",
      "TON(Test outcome negative)                                        28            29            5             \n",
      "TOP(Test outcome positive)                                        3             2             26            \n",
      "TP(True positive/hit)                                             0             2             10            \n",
      "TPR(Sensitivity, recall, hit rate, or true positive rate)         0.0           0.1           1.0           \n",
      "Y(Youden index)                                                   -0.1          0.1           0.2381        \n",
      "dInd(Distance index)                                              1.00499       0.9           0.7619        \n",
      "sInd(Similarity index)                                            0.28937       0.3636        0.46125       \n",
      "\n"
     ]
    }
   ],
   "source": [
    "print(cm_aug)"
   ]
  },
  {
   "cell_type": "markdown",
   "metadata": {},
   "source": [
    "Ok, so just adding more objectives to the training actually makes the performance worse."
   ]
  },
  {
   "cell_type": "markdown",
   "metadata": {},
   "source": [
    "# 2. Train w/ additional information about the gases\n"
   ]
  },
  {
   "cell_type": "code",
   "execution_count": null,
   "metadata": {},
   "outputs": [],
   "source": []
  },
  {
   "cell_type": "markdown",
   "metadata": {},
   "source": [
    "### Using only the chemical name of the molecules as context\n"
   ]
  },
  {
   "cell_type": "markdown",
   "metadata": {},
   "source": [
    "### Numerically encoding the molecular properties\n"
   ]
  },
  {
   "cell_type": "markdown",
   "metadata": {},
   "source": []
  }
 ],
 "metadata": {
  "kernelspec": {
   "display_name": "Python 3.9.13 ('gpt3')",
   "language": "python",
   "name": "python3"
  },
  "language_info": {
   "codemirror_mode": {
    "name": "ipython",
    "version": 3
   },
   "file_extension": ".py",
   "mimetype": "text/x-python",
   "name": "python",
   "nbconvert_exporter": "python",
   "pygments_lexer": "ipython3",
   "version": "3.9.13"
  },
  "orig_nbformat": 4,
  "vscode": {
   "interpreter": {
    "hash": "9a4fa60962de90e73b5da8d67a44b01d2de04630d82b94b8db1f727a73d31e61"
   }
  }
 },
 "nbformat": 4,
 "nbformat_minor": 2
}
