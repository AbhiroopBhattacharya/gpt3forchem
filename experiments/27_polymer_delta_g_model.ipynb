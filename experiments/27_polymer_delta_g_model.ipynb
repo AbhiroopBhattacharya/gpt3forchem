{
 "cells": [
  {
   "cell_type": "markdown",
   "metadata": {},
   "source": [
    "# Model for prediction of the polymer adsorption energies"
   ]
  },
  {
   "cell_type": "code",
   "execution_count": 12,
   "metadata": {},
   "outputs": [],
   "source": [
    "from gpt3forchem.data import get_polymer_data, POLYMER_FEATURES\n",
    "from gpt3forchem.baselines import XGBRegressionBaseline\n",
    "from gpt3forchem.output import get_regression_metrics\n",
    "import joblib\n",
    "from IPython.utils import io\n",
    "from sklearn.model_selection import train_test_split\n",
    "import matplotlib.pyplot as plt \n",
    "plt.style.use(['science', 'nature'])"
   ]
  },
  {
   "cell_type": "code",
   "execution_count": 2,
   "metadata": {},
   "outputs": [],
   "source": [
    "df = get_polymer_data()"
   ]
  },
  {
   "cell_type": "code",
   "execution_count": null,
   "metadata": {},
   "outputs": [],
   "source": []
  },
  {
   "cell_type": "code",
   "execution_count": 4,
   "metadata": {},
   "outputs": [],
   "source": [
    "X = df[POLYMER_FEATURES]\n",
    "y = df[\"deltaGmin\"]"
   ]
  },
  {
   "cell_type": "code",
   "execution_count": 8,
   "metadata": {},
   "outputs": [],
   "source": [
    "X_train, X_test, y_train, y_test = train_test_split(X, y, train_size=0.8)"
   ]
  },
  {
   "cell_type": "code",
   "execution_count": 9,
   "metadata": {},
   "outputs": [],
   "source": [
    "model = XGBRegressionBaseline(524524)"
   ]
  },
  {
   "cell_type": "code",
   "execution_count": 10,
   "metadata": {},
   "outputs": [
    {
     "name": "stderr",
     "output_type": "stream",
     "text": [
      "\u001b[32m[I 2022-09-15 11:32:13,916]\u001b[0m A new study created in memory with name: no-name-8a42e378-7471-41f8-9b46-718062ad17de\u001b[0m\n",
      "\u001b[32m[I 2022-09-15 11:43:00,244]\u001b[0m Trial 0 finished with value: 0.35889966765486897 and parameters: {'max_depth': 4, 'learning_rate': 0.027215111861196635, 'colsample_bytree': 0.2814842333513658, 'subsample': 0.7202263236703039, 'alpha': 1.2367036045195612, 'lambda': 0.00011112374444674256, 'gamma': 3.510707440556462e-07, 'min_child_weight': 192.46617509188758}. Best is trial 0 with value: 0.35889966765486897.\u001b[0m\n",
      "\u001b[32m[I 2022-09-15 12:06:17,119]\u001b[0m Trial 1 finished with value: 0.3694140762921749 and parameters: {'max_depth': 10, 'learning_rate': 0.0055371071961001685, 'colsample_bytree': 0.553742444156134, 'subsample': 0.49829309779991837, 'alpha': 0.4163596736458092, 'lambda': 0.24714493021949627, 'gamma': 4.829899501504059e-07, 'min_child_weight': 203.65782749283758}. Best is trial 0 with value: 0.35889966765486897.\u001b[0m\n",
      "\u001b[32m[I 2022-09-15 12:08:45,220]\u001b[0m Trial 2 finished with value: 10.964732089791289 and parameters: {'max_depth': 9, 'learning_rate': 0.005680886884861318, 'colsample_bytree': 0.20297519581134146, 'subsample': 0.442423035772501, 'alpha': 2.060014984649993, 'lambda': 5.251329104091051, 'gamma': 8.488263362758566e-07, 'min_child_weight': 679.8589421571318}. Best is trial 0 with value: 0.35889966765486897.\u001b[0m\n",
      "\u001b[32m[I 2022-09-15 12:09:16,650]\u001b[0m Trial 3 finished with value: 10.964366629090168 and parameters: {'max_depth': 10, 'learning_rate': 0.01965914705581171, 'colsample_bytree': 0.22870327056425177, 'subsample': 0.7910148695064776, 'alpha': 0.15072425032537778, 'lambda': 2.362052220106518e-08, 'gamma': 0.004254611828386811, 'min_child_weight': 932.6581376087721}. Best is trial 0 with value: 0.35889966765486897.\u001b[0m\n",
      "\u001b[32m[I 2022-09-15 12:23:45,076]\u001b[0m Trial 4 finished with value: 1.2853724360110972 and parameters: {'max_depth': 6, 'learning_rate': 0.013530091443000346, 'colsample_bytree': 0.2119010320839804, 'subsample': 0.7611259019112419, 'alpha': 1.8451111798167517, 'lambda': 2.2494645904063507e-08, 'gamma': 4.583588512383228, 'min_child_weight': 477.8314605176558}. Best is trial 0 with value: 0.35889966765486897.\u001b[0m\n",
      "\u001b[32m[I 2022-09-15 12:23:45,113]\u001b[0m Trial 5 pruned. Trial was pruned at iteration 0.\u001b[0m\n",
      "\u001b[32m[I 2022-09-15 12:23:45,160]\u001b[0m Trial 6 pruned. Trial was pruned at iteration 0.\u001b[0m\n",
      "\u001b[32m[I 2022-09-15 12:23:45,198]\u001b[0m Trial 7 pruned. Trial was pruned at iteration 0.\u001b[0m\n",
      "\u001b[32m[I 2022-09-15 12:38:54,069]\u001b[0m Trial 8 finished with value: 0.363114308074928 and parameters: {'max_depth': 6, 'learning_rate': 0.018179899971503315, 'colsample_bytree': 0.3028565389640491, 'subsample': 0.6119162351855013, 'alpha': 7.986104196836908, 'lambda': 0.0017147691953231646, 'gamma': 6.780490803939054e-08, 'min_child_weight': 61.966460272161676}. Best is trial 0 with value: 0.35889966765486897.\u001b[0m\n",
      "\u001b[32m[I 2022-09-15 12:38:54,107]\u001b[0m Trial 9 pruned. Trial was pruned at iteration 0.\u001b[0m\n",
      "\u001b[32m[I 2022-09-15 12:41:33,472]\u001b[0m Trial 10 finished with value: 0.3696469093287136 and parameters: {'max_depth': 4, 'learning_rate': 0.038427257089036035, 'colsample_bytree': 0.4238843993282189, 'subsample': 0.6778277663780495, 'alpha': 1.1859928710263385, 'lambda': 5.782882547799921e-06, 'gamma': 2.4573256160311895e-05, 'min_child_weight': 21.74424055101388}. Best is trial 0 with value: 0.35889966765486897.\u001b[0m\n",
      "\u001b[32m[I 2022-09-15 12:49:58,590]\u001b[0m Trial 11 finished with value: 0.3613318694040691 and parameters: {'max_depth': 4, 'learning_rate': 0.02487883264592821, 'colsample_bytree': 0.35239872881330014, 'subsample': 0.6503264606705993, 'alpha': 8.714382543555343, 'lambda': 0.003709395148669487, 'gamma': 1.3826339083511683e-08, 'min_child_weight': 61.18645450711828}. Best is trial 0 with value: 0.35889966765486897.\u001b[0m\n",
      "\u001b[32m[I 2022-09-15 12:55:56,367]\u001b[0m Trial 12 finished with value: 0.35925144086612 and parameters: {'max_depth': 4, 'learning_rate': 0.031270480332517586, 'colsample_bytree': 0.39451345990388487, 'subsample': 0.6905872460416025, 'alpha': 9.188696492981105, 'lambda': 0.002106515711103314, 'gamma': 3.60157165986449e-05, 'min_child_weight': 25.80400491102504}. Best is trial 0 with value: 0.35889966765486897.\u001b[0m\n",
      "\u001b[32m[I 2022-09-15 12:59:02,384]\u001b[0m Trial 13 finished with value: 0.374390457740429 and parameters: {'max_depth': 5, 'learning_rate': 0.04842605988316582, 'colsample_bytree': 0.41462262179467985, 'subsample': 0.6932504160034574, 'alpha': 4.9342128334864785, 'lambda': 3.745059859787535e-05, 'gamma': 1.3784877419322108e-05, 'min_child_weight': 12.832298318087586}. Best is trial 0 with value: 0.35889966765486897.\u001b[0m\n",
      "\u001b[32m[I 2022-09-15 13:02:51,609]\u001b[0m Trial 14 finished with value: 0.36514460036598434 and parameters: {'max_depth': 4, 'learning_rate': 0.029446769668693813, 'colsample_bytree': 0.45002834510348966, 'subsample': 0.724921584406009, 'alpha': 0.7001967890306664, 'lambda': 0.01065036762843249, 'gamma': 2.2543034766831003e-05, 'min_child_weight': 27.283598484547067}. Best is trial 0 with value: 0.35889966765486897.\u001b[0m\n",
      "\u001b[32m[I 2022-09-15 13:07:22,968]\u001b[0m Trial 15 finished with value: 0.3623427102524868 and parameters: {'max_depth': 6, 'learning_rate': 0.03242908271034893, 'colsample_bytree': 0.48633835587438945, 'subsample': 0.6087656969318079, 'alpha': 3.7504020301174013, 'lambda': 0.0004744829623941779, 'gamma': 4.96291293996916e-06, 'min_child_weight': 110.24867437256326}. Best is trial 0 with value: 0.35889966765486897.\u001b[0m\n",
      "\u001b[32m[I 2022-09-15 13:07:23,012]\u001b[0m Trial 16 pruned. Trial was pruned at iteration 0.\u001b[0m\n",
      "\u001b[32m[I 2022-09-15 13:10:37,450]\u001b[0m Trial 17 finished with value: 0.36527598160874886 and parameters: {'max_depth': 5, 'learning_rate': 0.044874743930207885, 'colsample_bytree': 0.299584888801938, 'subsample': 0.5554420930895987, 'alpha': 0.7147588382885821, 'lambda': 9.293913778333873e-07, 'gamma': 0.26098412312998215, 'min_child_weight': 110.66988921949591}. Best is trial 0 with value: 0.35889966765486897.\u001b[0m\n",
      "\u001b[32m[I 2022-09-15 13:12:33,649]\u001b[0m Trial 18 finished with value: 0.386462600245317 and parameters: {'max_depth': 7, 'learning_rate': 0.03156103386849006, 'colsample_bytree': 0.5993240364519508, 'subsample': 0.6405571958729495, 'alpha': 0.0701488299058895, 'lambda': 0.4848295588452282, 'gamma': 0.00025754444422825, 'min_child_weight': 12.836755842348005}. Best is trial 0 with value: 0.35889966765486897.\u001b[0m\n",
      "\u001b[32m[I 2022-09-15 13:12:33,689]\u001b[0m Trial 19 pruned. Trial was pruned at iteration 0.\u001b[0m\n",
      "\u001b[32m[I 2022-09-15 13:12:33,713]\u001b[0m Trial 20 pruned. Trial was pruned at iteration 0.\u001b[0m\n",
      "\u001b[32m[I 2022-09-15 13:12:33,749]\u001b[0m Trial 21 pruned. Trial was pruned at iteration 0.\u001b[0m\n",
      "\u001b[32m[I 2022-09-15 13:12:33,793]\u001b[0m Trial 22 pruned. Trial was pruned at iteration 0.\u001b[0m\n",
      "\u001b[32m[I 2022-09-15 13:20:24,039]\u001b[0m Trial 23 finished with value: 0.36004200676647746 and parameters: {'max_depth': 4, 'learning_rate': 0.03365438361829513, 'colsample_bytree': 0.3912394924869231, 'subsample': 0.7078679582316718, 'alpha': 9.324552951307297, 'lambda': 0.0017640507266105387, 'gamma': 6.758715393884111e-05, 'min_child_weight': 80.22390300120804}. Best is trial 0 with value: 0.35889966765486897.\u001b[0m\n",
      "\u001b[32m[I 2022-09-15 13:23:01,236]\u001b[0m Trial 24 finished with value: 0.35980391074513446 and parameters: {'max_depth': 5, 'learning_rate': 0.03659753632624806, 'colsample_bytree': 0.4648321266889572, 'subsample': 0.7388252196792074, 'alpha': 2.3565702541598417, 'lambda': 6.026326987852709e-05, 'gamma': 7.962841714855447e-05, 'min_child_weight': 120.00629958392868}. Best is trial 0 with value: 0.35889966765486897.\u001b[0m\n",
      "\u001b[32m[I 2022-09-15 13:25:42,911]\u001b[0m Trial 25 finished with value: 0.3656795620949125 and parameters: {'max_depth': 7, 'learning_rate': 0.03753252612765334, 'colsample_bytree': 0.4740378799313438, 'subsample': 0.754754012433408, 'alpha': 2.692061117755215, 'lambda': 6.813794960483761e-05, 'gamma': 0.0031734790720235723, 'min_child_weight': 142.33633717358865}. Best is trial 0 with value: 0.35889966765486897.\u001b[0m\n",
      "\u001b[32m[I 2022-09-15 13:25:57,480]\u001b[0m Trial 26 pruned. Trial was pruned at iteration 578.\u001b[0m\n",
      "\u001b[32m[I 2022-09-15 13:25:57,608]\u001b[0m Trial 27 pruned. Trial was pruned at iteration 0.\u001b[0m\n",
      "\u001b[32m[I 2022-09-15 13:31:00,024]\u001b[0m Trial 28 finished with value: 0.3645934388606946 and parameters: {'max_depth': 5, 'learning_rate': 0.049288822399182496, 'colsample_bytree': 0.39455130665591465, 'subsample': 0.6872685063673395, 'alpha': 3.6926558742793665, 'lambda': 0.0007669508265673885, 'gamma': 1.5875437840061692e-06, 'min_child_weight': 135.16040212312302}. Best is trial 0 with value: 0.35889966765486897.\u001b[0m\n",
      "\u001b[32m[I 2022-09-15 13:31:01,450]\u001b[0m Trial 29 pruned. Trial was pruned at iteration 56.\u001b[0m\n",
      "\u001b[32m[I 2022-09-15 13:31:01,543]\u001b[0m Trial 30 pruned. Trial was pruned at iteration 0.\u001b[0m\n",
      "\u001b[32m[I 2022-09-15 13:31:01,597]\u001b[0m Trial 31 pruned. Trial was pruned at iteration 0.\u001b[0m\n",
      "\u001b[32m[I 2022-09-15 13:33:33,009]\u001b[0m Trial 32 finished with value: 0.3616367031849303 and parameters: {'max_depth': 4, 'learning_rate': 0.03460852926171539, 'colsample_bytree': 0.45796669503188536, 'subsample': 0.7079651049557527, 'alpha': 2.741311236279658, 'lambda': 0.05568911018258458, 'gamma': 6.534772677038327e-07, 'min_child_weight': 85.72190481589263}. Best is trial 0 with value: 0.35889966765486897.\u001b[0m\n",
      "\u001b[32m[I 2022-09-15 13:33:41,705]\u001b[0m Trial 33 pruned. Trial was pruned at iteration 486.\u001b[0m\n",
      "\u001b[32m[I 2022-09-15 13:33:41,758]\u001b[0m Trial 34 pruned. Trial was pruned at iteration 0.\u001b[0m\n",
      "\u001b[32m[I 2022-09-15 13:33:41,807]\u001b[0m Trial 35 pruned. Trial was pruned at iteration 0.\u001b[0m\n",
      "\u001b[32m[I 2022-09-15 13:33:41,884]\u001b[0m Trial 36 pruned. Trial was pruned at iteration 0.\u001b[0m\n",
      "\u001b[32m[I 2022-09-15 13:33:41,941]\u001b[0m Trial 37 pruned. Trial was pruned at iteration 0.\u001b[0m\n",
      "\u001b[32m[I 2022-09-15 13:33:42,034]\u001b[0m Trial 38 pruned. Trial was pruned at iteration 0.\u001b[0m\n",
      "\u001b[32m[I 2022-09-15 13:33:45,025]\u001b[0m Trial 39 pruned. Trial was pruned at iteration 95.\u001b[0m\n",
      "\u001b[32m[I 2022-09-15 13:33:45,975]\u001b[0m Trial 40 pruned. Trial was pruned at iteration 59.\u001b[0m\n",
      "\u001b[32m[I 2022-09-15 13:33:46,034]\u001b[0m Trial 41 pruned. Trial was pruned at iteration 0.\u001b[0m\n",
      "\u001b[32m[I 2022-09-15 13:33:46,068]\u001b[0m Trial 42 pruned. Trial was pruned at iteration 0.\u001b[0m\n",
      "\u001b[32m[I 2022-09-15 13:33:46,108]\u001b[0m Trial 43 pruned. Trial was pruned at iteration 0.\u001b[0m\n",
      "\u001b[32m[I 2022-09-15 13:33:46,149]\u001b[0m Trial 44 pruned. Trial was pruned at iteration 0.\u001b[0m\n",
      "\u001b[32m[I 2022-09-15 13:33:46,189]\u001b[0m Trial 45 pruned. Trial was pruned at iteration 0.\u001b[0m\n",
      "\u001b[32m[I 2022-09-15 13:33:46,222]\u001b[0m Trial 46 pruned. Trial was pruned at iteration 0.\u001b[0m\n",
      "\u001b[32m[I 2022-09-15 13:33:46,283]\u001b[0m Trial 47 pruned. Trial was pruned at iteration 0.\u001b[0m\n",
      "\u001b[32m[I 2022-09-15 13:35:58,475]\u001b[0m Trial 48 finished with value: 0.3651187273894839 and parameters: {'max_depth': 6, 'learning_rate': 0.03789107776377938, 'colsample_bytree': 0.4612201202734566, 'subsample': 0.7277059949828879, 'alpha': 0.029399424529725805, 'lambda': 0.017319147237697112, 'gamma': 0.7624885967332717, 'min_child_weight': 77.3067502090597}. Best is trial 0 with value: 0.35889966765486897.\u001b[0m\n",
      "\u001b[32m[I 2022-09-15 13:36:00,238]\u001b[0m Trial 49 pruned. Trial was pruned at iteration 82.\u001b[0m\n",
      "\u001b[32m[I 2022-09-15 13:36:00,271]\u001b[0m Trial 50 pruned. Trial was pruned at iteration 0.\u001b[0m\n",
      "\u001b[32m[I 2022-09-15 13:38:03,640]\u001b[0m Trial 51 finished with value: 0.36131258478572637 and parameters: {'max_depth': 4, 'learning_rate': 0.033903408272161664, 'colsample_bytree': 0.46327696456401923, 'subsample': 0.7191677763072001, 'alpha': 1.5022931264143902, 'lambda': 0.040186733472923855, 'gamma': 5.866580976053944e-07, 'min_child_weight': 83.11967572114156}. Best is trial 0 with value: 0.35889966765486897.\u001b[0m\n",
      "\u001b[32m[I 2022-09-15 13:40:29,299]\u001b[0m Trial 52 finished with value: 0.356965446236455 and parameters: {'max_depth': 4, 'learning_rate': 0.034248904668861074, 'colsample_bytree': 0.501082163026872, 'subsample': 0.7201505382434412, 'alpha': 1.608106562449477, 'lambda': 0.08871866133977438, 'gamma': 3.2765951948650885e-06, 'min_child_weight': 125.55878728202347}. Best is trial 52 with value: 0.356965446236455.\u001b[0m\n",
      "\u001b[32m[I 2022-09-15 13:41:50,313]\u001b[0m Trial 53 finished with value: 0.3570312238957113 and parameters: {'max_depth': 4, 'learning_rate': 0.03580727098667393, 'colsample_bytree': 0.508305236194226, 'subsample': 0.7198954997165954, 'alpha': 1.475672745470807, 'lambda': 1.8109614523425304, 'gamma': 3.7046932551183352e-06, 'min_child_weight': 122.22667638629395}. Best is trial 52 with value: 0.356965446236455.\u001b[0m\n",
      "\u001b[32m[I 2022-09-15 13:43:51,972]\u001b[0m Trial 54 finished with value: 0.36484859253477114 and parameters: {'max_depth': 5, 'learning_rate': 0.04457048819309216, 'colsample_bytree': 0.5070428552047666, 'subsample': 0.7414420924461259, 'alpha': 0.5097560665503622, 'lambda': 2.4013277200657392, 'gamma': 4.6458356928304615e-06, 'min_child_weight': 182.73283428826355}. Best is trial 52 with value: 0.356965446236455.\u001b[0m\n",
      "\u001b[32m[I 2022-09-15 13:46:44,552]\u001b[0m Trial 55 finished with value: 0.36062121850324774 and parameters: {'max_depth': 4, 'learning_rate': 0.0374744537915759, 'colsample_bytree': 0.5427757267649083, 'subsample': 0.6732425968567395, 'alpha': 0.9068766853852313, 'lambda': 1.1992260690959342, 'gamma': 4.7408135289543685e-05, 'min_child_weight': 130.98413538124115}. Best is trial 52 with value: 0.356965446236455.\u001b[0m\n",
      "\u001b[32m[I 2022-09-15 13:46:44,598]\u001b[0m Trial 56 pruned. Trial was pruned at iteration 0.\u001b[0m\n",
      "\u001b[32m[I 2022-09-15 13:49:45,448]\u001b[0m Trial 57 finished with value: 0.35969089594214915 and parameters: {'max_depth': 5, 'learning_rate': 0.03904771367767848, 'colsample_bytree': 0.49525003144597557, 'subsample': 0.7192017447649353, 'alpha': 0.27711497153032266, 'lambda': 0.23432349630698862, 'gamma': 0.0002944971909815703, 'min_child_weight': 114.85455495029757}. Best is trial 52 with value: 0.356965446236455.\u001b[0m\n",
      "\u001b[32m[I 2022-09-15 13:52:33,251]\u001b[0m Trial 58 finished with value: 0.3551526842201474 and parameters: {'max_depth': 5, 'learning_rate': 0.0400823307583462, 'colsample_bytree': 0.5816515625484834, 'subsample': 0.7248087530053295, 'alpha': 0.2709105566789286, 'lambda': 0.19954167513647497, 'gamma': 0.0003283285385776787, 'min_child_weight': 114.75132796500601}. Best is trial 58 with value: 0.3551526842201474.\u001b[0m\n",
      "\u001b[32m[I 2022-09-15 13:55:46,190]\u001b[0m Trial 59 finished with value: 0.3661274415482748 and parameters: {'max_depth': 6, 'learning_rate': 0.04041778449063221, 'colsample_bytree': 0.5808106991071542, 'subsample': 0.7223817069000428, 'alpha': 0.2509465737553597, 'lambda': 0.23629910951314984, 'gamma': 0.00036324599491560384, 'min_child_weight': 157.3912055796486}. Best is trial 58 with value: 0.3551526842201474.\u001b[0m\n",
      "\u001b[32m[I 2022-09-15 13:56:03,585]\u001b[0m Trial 60 pruned. Trial was pruned at iteration 461.\u001b[0m\n",
      "\u001b[32m[I 2022-09-15 14:00:35,362]\u001b[0m Trial 61 finished with value: 0.3604455218974348 and parameters: {'max_depth': 5, 'learning_rate': 0.03789892801125716, 'colsample_bytree': 0.4907695160636523, 'subsample': 0.7542497089701203, 'alpha': 0.3390709194706869, 'lambda': 0.16738077685807937, 'gamma': 0.0002241980367089277, 'min_child_weight': 129.51936890534637}. Best is trial 58 with value: 0.3551526842201474.\u001b[0m\n",
      "\u001b[32m[I 2022-09-15 14:05:59,479]\u001b[0m Trial 62 finished with value: 0.3575920512907743 and parameters: {'max_depth': 5, 'learning_rate': 0.04920879087851615, 'colsample_bytree': 0.5279226488976889, 'subsample': 0.7361099693009283, 'alpha': 0.10883579815661652, 'lambda': 0.6454714387856375, 'gamma': 2.6215447584907138e-05, 'min_child_weight': 116.57470899223273}. Best is trial 58 with value: 0.3551526842201474.\u001b[0m\n",
      "\u001b[32m[I 2022-09-15 14:06:12,347]\u001b[0m Trial 63 pruned. Trial was pruned at iteration 191.\u001b[0m\n",
      "\u001b[32m[I 2022-09-15 14:06:40,719]\u001b[0m Trial 64 pruned. Trial was pruned at iteration 413.\u001b[0m\n",
      "\u001b[32m[I 2022-09-15 14:06:43,523]\u001b[0m Trial 65 pruned. Trial was pruned at iteration 67.\u001b[0m\n",
      "\u001b[32m[I 2022-09-15 14:10:58,940]\u001b[0m Trial 66 finished with value: 0.36483515505172726 and parameters: {'max_depth': 7, 'learning_rate': 0.0396669217561807, 'colsample_bytree': 0.498052353548909, 'subsample': 0.7935856058958057, 'alpha': 0.04783187432319066, 'lambda': 0.3802384199858052, 'gamma': 1.4908380001663e-06, 'min_child_weight': 96.80841639683028}. Best is trial 58 with value: 0.3551526842201474.\u001b[0m\n",
      "\u001b[32m[I 2022-09-15 14:10:58,981]\u001b[0m Trial 67 pruned. Trial was pruned at iteration 0.\u001b[0m\n",
      "\u001b[32m[I 2022-09-15 14:10:59,082]\u001b[0m Trial 68 pruned. Trial was pruned at iteration 0.\u001b[0m\n",
      "\u001b[32m[I 2022-09-15 14:11:31,396]\u001b[0m Trial 69 pruned. Trial was pruned at iteration 479.\u001b[0m\n",
      "\u001b[32m[I 2022-09-15 14:14:02,664]\u001b[0m Trial 70 finished with value: 0.362133225160135 and parameters: {'max_depth': 4, 'learning_rate': 0.045611576133654276, 'colsample_bytree': 0.5422427433085774, 'subsample': 0.7047287541706194, 'alpha': 0.4203477474995249, 'lambda': 7.182972841149924, 'gamma': 0.00013129638038120343, 'min_child_weight': 186.86115388128897}. Best is trial 58 with value: 0.3551526842201474.\u001b[0m\n",
      "\u001b[32m[I 2022-09-15 14:14:02,742]\u001b[0m Trial 71 pruned. Trial was pruned at iteration 0.\u001b[0m\n",
      "\u001b[32m[I 2022-09-15 14:14:02,800]\u001b[0m Trial 72 pruned. Trial was pruned at iteration 0.\u001b[0m\n",
      "\u001b[32m[I 2022-09-15 14:16:26,023]\u001b[0m Trial 73 finished with value: 0.36631605548803825 and parameters: {'max_depth': 6, 'learning_rate': 0.039750684442621295, 'colsample_bytree': 0.47667932301410887, 'subsample': 0.7777924179031099, 'alpha': 0.1757457980109308, 'lambda': 1.8234458773172153e-05, 'gamma': 1.4606843030822953e-05, 'min_child_weight': 94.29706406171731}. Best is trial 58 with value: 0.3551526842201474.\u001b[0m\n",
      "\u001b[32m[I 2022-09-15 14:16:26,087]\u001b[0m Trial 74 pruned. Trial was pruned at iteration 0.\u001b[0m\n",
      "\u001b[32m[I 2022-09-15 14:18:47,929]\u001b[0m Trial 75 finished with value: 0.359525955893612 and parameters: {'max_depth': 4, 'learning_rate': 0.043466704164900234, 'colsample_bytree': 0.44356953208924355, 'subsample': 0.7560594038908681, 'alpha': 0.09825992798980931, 'lambda': 5.003185996336774e-05, 'gamma': 0.00010392787311722561, 'min_child_weight': 110.54538878125878}. Best is trial 58 with value: 0.3551526842201474.\u001b[0m\n",
      "\u001b[32m[I 2022-09-15 14:21:01,496]\u001b[0m Trial 76 finished with value: 0.35864528606118473 and parameters: {'max_depth': 4, 'learning_rate': 0.04229015751376539, 'colsample_bytree': 0.4495760018632654, 'subsample': 0.7536614156471171, 'alpha': 0.05643082735354387, 'lambda': 0.08477103816860407, 'gamma': 0.0011591182442432827, 'min_child_weight': 107.41382357822424}. Best is trial 58 with value: 0.3551526842201474.\u001b[0m\n",
      "\u001b[32m[I 2022-09-15 14:23:05,118]\u001b[0m Trial 77 finished with value: 0.36149589185532005 and parameters: {'max_depth': 4, 'learning_rate': 0.043323175725950826, 'colsample_bytree': 0.4211108894898171, 'subsample': 0.7877268205412915, 'alpha': 0.03709207847527454, 'lambda': 0.06266045532116489, 'gamma': 0.0011005503848754848, 'min_child_weight': 104.27498890002511}. Best is trial 58 with value: 0.3551526842201474.\u001b[0m\n",
      "\u001b[32m[I 2022-09-15 14:23:05,162]\u001b[0m Trial 78 pruned. Trial was pruned at iteration 0.\u001b[0m\n",
      "\u001b[32m[I 2022-09-15 14:24:47,525]\u001b[0m Trial 79 finished with value: 0.3591196515017905 and parameters: {'max_depth': 4, 'learning_rate': 0.04755692000837064, 'colsample_bytree': 0.4491930588984905, 'subsample': 0.7518424660878257, 'alpha': 0.06033445461771357, 'lambda': 3.655309224711346, 'gamma': 0.009413703233823028, 'min_child_weight': 71.46533270485091}. Best is trial 58 with value: 0.3551526842201474.\u001b[0m\n",
      "\u001b[32m[I 2022-09-15 14:26:31,093]\u001b[0m Trial 80 finished with value: 0.3540053935499049 and parameters: {'max_depth': 4, 'learning_rate': 0.04652198438719989, 'colsample_bytree': 0.5614861161851836, 'subsample': 0.5393130103675753, 'alpha': 0.06331102786869455, 'lambda': 4.589245205016207, 'gamma': 0.04190260747560043, 'min_child_weight': 73.00615943330128}. Best is trial 80 with value: 0.3540053935499049.\u001b[0m\n",
      "\u001b[32m[I 2022-09-15 14:27:54,042]\u001b[0m Trial 81 finished with value: 0.3528688549282756 and parameters: {'max_depth': 4, 'learning_rate': 0.047245891087539856, 'colsample_bytree': 0.5563389533271087, 'subsample': 0.5675817607278553, 'alpha': 0.05646824067109591, 'lambda': 4.5653669168270525, 'gamma': 0.058796015806829784, 'min_child_weight': 54.241402961606}. Best is trial 81 with value: 0.3528688549282756.\u001b[0m\n",
      "\u001b[32m[I 2022-09-15 14:29:23,377]\u001b[0m Trial 82 finished with value: 0.35280848851127694 and parameters: {'max_depth': 4, 'learning_rate': 0.048028255503702086, 'colsample_bytree': 0.5590650978509282, 'subsample': 0.5596274042025083, 'alpha': 0.05924345910557454, 'lambda': 6.272780026175094, 'gamma': 0.04382040544326757, 'min_child_weight': 60.20190233642207}. Best is trial 82 with value: 0.35280848851127694.\u001b[0m\n",
      "\u001b[32m[I 2022-09-15 14:30:52,914]\u001b[0m Trial 83 finished with value: 0.3519671612555744 and parameters: {'max_depth': 4, 'learning_rate': 0.04751712623390943, 'colsample_bytree': 0.5638543332668052, 'subsample': 0.538312897337077, 'alpha': 0.019223018567961284, 'lambda': 9.873515663513123, 'gamma': 0.11235966838845056, 'min_child_weight': 59.68761644585797}. Best is trial 83 with value: 0.3519671612555744.\u001b[0m\n",
      "\u001b[32m[I 2022-09-15 14:32:33,894]\u001b[0m Trial 84 finished with value: 0.3503625857474578 and parameters: {'max_depth': 4, 'learning_rate': 0.04655182326397947, 'colsample_bytree': 0.5617773646434691, 'subsample': 0.5418323115731305, 'alpha': 0.02572369173232965, 'lambda': 3.5948634704055595, 'gamma': 0.04884591373230569, 'min_child_weight': 55.58766314272731}. Best is trial 84 with value: 0.3503625857474578.\u001b[0m\n",
      "\u001b[32m[I 2022-09-15 14:34:14,851]\u001b[0m Trial 85 finished with value: 0.35508632156898845 and parameters: {'max_depth': 4, 'learning_rate': 0.04685673912320033, 'colsample_bytree': 0.5629897390754528, 'subsample': 0.5436694530068212, 'alpha': 0.018451497637910676, 'lambda': 3.823662649576275, 'gamma': 0.05307068964013503, 'min_child_weight': 36.52854111956385}. Best is trial 84 with value: 0.3503625857474578.\u001b[0m\n",
      "\u001b[32m[I 2022-09-15 14:36:06,683]\u001b[0m Trial 86 finished with value: 0.35000381443742523 and parameters: {'max_depth': 4, 'learning_rate': 0.04715241619882014, 'colsample_bytree': 0.5621992497533154, 'subsample': 0.5360732094180188, 'alpha': 0.021602512911154864, 'lambda': 9.746500292450055, 'gamma': 0.056240943965465244, 'min_child_weight': 36.12724563187688}. Best is trial 86 with value: 0.35000381443742523.\u001b[0m\n",
      "\u001b[32m[I 2022-09-15 14:37:52,698]\u001b[0m Trial 87 finished with value: 0.35098319115012916 and parameters: {'max_depth': 4, 'learning_rate': 0.047210990631191156, 'colsample_bytree': 0.5568681033683657, 'subsample': 0.5382275020600574, 'alpha': 0.01864885035229076, 'lambda': 9.442174704370075, 'gamma': 0.051161779411830616, 'min_child_weight': 35.09628989168259}. Best is trial 86 with value: 0.35000381443742523.\u001b[0m\n",
      "\u001b[32m[I 2022-09-15 14:40:23,999]\u001b[0m Trial 88 finished with value: 0.35912841793913475 and parameters: {'max_depth': 10, 'learning_rate': 0.046998626938965817, 'colsample_bytree': 0.5607078843259509, 'subsample': 0.5466777782485189, 'alpha': 0.019083944347586045, 'lambda': 8.187085054429938, 'gamma': 0.05606541734990668, 'min_child_weight': 36.2372655756141}. Best is trial 86 with value: 0.35000381443742523.\u001b[0m\n",
      "\u001b[32m[I 2022-09-15 14:42:29,256]\u001b[0m Trial 89 finished with value: 0.3581882731832914 and parameters: {'max_depth': 8, 'learning_rate': 0.04993394355279565, 'colsample_bytree': 0.590037054459764, 'subsample': 0.5196201176550181, 'alpha': 0.011395830002218185, 'lambda': 3.961027894735023, 'gamma': 0.10957450565185439, 'min_child_weight': 45.35212690939316}. Best is trial 86 with value: 0.35000381443742523.\u001b[0m\n",
      "\u001b[32m[I 2022-09-15 14:44:04,208]\u001b[0m Trial 90 finished with value: 0.35462232921277553 and parameters: {'max_depth': 4, 'learning_rate': 0.04688881855528664, 'colsample_bytree': 0.5671449488955831, 'subsample': 0.5539915990959777, 'alpha': 0.023725150947160815, 'lambda': 2.707610298602368, 'gamma': 0.4289284551691937, 'min_child_weight': 37.477798316829734}. Best is trial 86 with value: 0.35000381443742523.\u001b[0m\n",
      "\u001b[32m[I 2022-09-15 14:47:01,325]\u001b[0m Trial 91 finished with value: 0.3552707034431647 and parameters: {'max_depth': 4, 'learning_rate': 0.04658378485832223, 'colsample_bytree': 0.5684277642871931, 'subsample': 0.5537319128462299, 'alpha': 0.021423834310907504, 'lambda': 9.83641623351768, 'gamma': 0.37391410976642636, 'min_child_weight': 37.39522038138415}. Best is trial 86 with value: 0.35000381443742523.\u001b[0m\n",
      "\u001b[32m[I 2022-09-15 14:50:37,486]\u001b[0m Trial 92 finished with value: 0.3540066657858796 and parameters: {'max_depth': 4, 'learning_rate': 0.04620707417130898, 'colsample_bytree': 0.5513993680121391, 'subsample': 0.5335045136698338, 'alpha': 0.02530391690569821, 'lambda': 5.103203897482906, 'gamma': 0.032442574537054736, 'min_child_weight': 56.14167961191316}. Best is trial 86 with value: 0.35000381443742523.\u001b[0m\n",
      "\u001b[32m[I 2022-09-15 14:54:27,118]\u001b[0m Trial 93 finished with value: 0.3539760172974892 and parameters: {'max_depth': 4, 'learning_rate': 0.04633850174582717, 'colsample_bytree': 0.5497814776594692, 'subsample': 0.5342356539816051, 'alpha': 0.029209714871431168, 'lambda': 5.815577347246159, 'gamma': 0.030744718569484204, 'min_child_weight': 51.363381371269234}. Best is trial 86 with value: 0.35000381443742523.\u001b[0m\n",
      "\u001b[32m[I 2022-09-15 14:58:18,202]\u001b[0m Trial 94 finished with value: 0.3509684964915193 and parameters: {'max_depth': 4, 'learning_rate': 0.04337926164795356, 'colsample_bytree': 0.5486082265994843, 'subsample': 0.5255115985066712, 'alpha': 0.028399522705140488, 'lambda': 5.781723615715839, 'gamma': 1.3740240545776041, 'min_child_weight': 52.50508732316594}. Best is trial 86 with value: 0.35000381443742523.\u001b[0m\n",
      "\u001b[32m[I 2022-09-15 15:01:08,957]\u001b[0m Trial 95 finished with value: 0.3532092118523046 and parameters: {'max_depth': 4, 'learning_rate': 0.042822693916697865, 'colsample_bytree': 0.5471042901584257, 'subsample': 0.526413743537649, 'alpha': 0.03132886008597026, 'lambda': 5.6477949605712, 'gamma': 0.030754838383673287, 'min_child_weight': 55.27970106186229}. Best is trial 86 with value: 0.35000381443742523.\u001b[0m\n",
      "\u001b[32m[I 2022-09-15 15:01:10,848]\u001b[0m Trial 96 pruned. Trial was pruned at iteration 54.\u001b[0m\n",
      "\u001b[32m[I 2022-09-15 15:01:33,373]\u001b[0m Trial 97 pruned. Trial was pruned at iteration 613.\u001b[0m\n",
      "\u001b[32m[I 2022-09-15 15:05:20,106]\u001b[0m Trial 98 finished with value: 0.3554579369669969 and parameters: {'max_depth': 4, 'learning_rate': 0.04153621877192015, 'colsample_bytree': 0.532351052819475, 'subsample': 0.5019619984199568, 'alpha': 0.04633473631252323, 'lambda': 2.2066131396712287, 'gamma': 0.006684935012642234, 'min_child_weight': 29.200436521307385}. Best is trial 86 with value: 0.35000381443742523.\u001b[0m\n",
      "\u001b[32m[I 2022-09-15 15:05:22,527]\u001b[0m Trial 99 pruned. Trial was pruned at iteration 40.\u001b[0m\n"
     ]
    }
   ],
   "source": [
    "from IPython.utils import io\n",
    "\n",
    "with io.capture_output() as captured:\n",
    "    model.tune(X_train, y_train);"
   ]
  },
  {
   "cell_type": "code",
   "execution_count": 14,
   "metadata": {},
   "outputs": [],
   "source": [
    "model.fit(X_train, y_train)"
   ]
  },
  {
   "cell_type": "code",
   "execution_count": 15,
   "metadata": {},
   "outputs": [],
   "source": [
    "test_predictions = model.predict(X_test)"
   ]
  },
  {
   "cell_type": "code",
   "execution_count": 16,
   "metadata": {},
   "outputs": [
    {
     "data": {
      "text/plain": [
       "<matplotlib.collections.PathCollection at 0x2b9e4e8b0>"
      ]
     },
     "execution_count": 16,
     "metadata": {},
     "output_type": "execute_result"
    },
    {
     "data": {
      "image/png": "[encoded data removed]",
      "text/plain": [
       "<Figure size 237.6x180 with 1 Axes>"
      ]
     },
     "metadata": {
      "needs_background": "light"
     },
     "output_type": "display_data"
    }
   ],
   "source": [
    "plt.scatter(test_predictions, y_test)"
   ]
  },
  {
   "cell_type": "code",
   "execution_count": 17,
   "metadata": {},
   "outputs": [
    {
     "data": {
      "text/plain": [
       "{'r2': 0.9404574618463781,\n",
       " 'max_error': 2.460967379324014,\n",
       " 'mean_absolute_error': 0.6409836593059829,\n",
       " 'mean_squared_error': 0.6282261449125899}"
      ]
     },
     "execution_count": 17,
     "metadata": {},
     "output_type": "execute_result"
    }
   ],
   "source": [
    "get_regression_metrics(y_test, test_predictions)"
   ]
  },
  {
   "cell_type": "code",
   "execution_count": 19,
   "metadata": {},
   "outputs": [
    {
     "data": {
      "text/plain": [
       "['../models/delta_g_model.joblib']"
      ]
     },
     "execution_count": 19,
     "metadata": {},
     "output_type": "execute_result"
    }
   ],
   "source": [
    "model.fit(X, y)\n",
    "joblib.dump(model, '../models/delta_g_model.joblib')"
   ]
  },
  {
   "cell_type": "code",
   "execution_count": null,
   "metadata": {},
   "outputs": [],
   "source": []
  }
 ],
 "metadata": {
  "kernelspec": {
   "display_name": "Python 3.9.13 ('gpt3')",
   "language": "python",
   "name": "python3"
  },
  "language_info": {
   "codemirror_mode": {
    "name": "ipython",
    "version": 3
   },
   "file_extension": ".py",
   "mimetype": "text/x-python",
   "name": "python",
   "nbconvert_exporter": "python",
   "pygments_lexer": "ipython3",
   "version": "3.9.13"
  },
  "orig_nbformat": 4,
  "vscode": {
   "interpreter": {
    "hash": "9a4fa60962de90e73b5da8d67a44b01d2de04630d82b94b8db1f727a73d31e61"
   }
  }
 },
 "nbformat": 4,
 "nbformat_minor": 2
}
