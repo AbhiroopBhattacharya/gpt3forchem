{
 "cells": [
  {
   "cell_type": "code",
   "execution_count": 65,
   "metadata": {},
   "outputs": [],
   "source": [
    "from glob import glob \n",
    "from fastcore.helpers import load_pickle\n",
    "import pandas as pd \n",
    "import numpy as np\n",
    "import random "
   ]
  },
  {
   "cell_type": "code",
   "execution_count": 41,
   "metadata": {},
   "outputs": [],
   "source": [
    "all_res = glob('results/inverse_photoswitch/*pkl')"
   ]
  },
  {
   "cell_type": "code",
   "execution_count": 42,
   "metadata": {},
   "outputs": [
    {
     "data": {
      "text/plain": [
       "['results/inverse_photoswitch/2022-09-02-20-00-50_metrics.pkl',\n",
       " 'results/inverse_photoswitch/2022-09-02-19-35-07_metrics.pkl',\n",
       " 'results/inverse_photoswitch/2022-09-02-19-54-20_metrics.pkl',\n",
       " 'results/inverse_photoswitch/2022-09-02-19-28-36_metrics.pkl',\n",
       " 'results/inverse_photoswitch/2022-09-02-20-13-53_metrics.pkl',\n",
       " 'results/inverse_photoswitch/2022-09-02-19-48-00_metrics.pkl',\n",
       " 'results/inverse_photoswitch/2022-09-02-20-20-26_metrics.pkl',\n",
       " 'results/inverse_photoswitch/2022-09-02-19-41-24_metrics.pkl',\n",
       " 'results/inverse_photoswitch/2022-09-02-20-27-07_metrics.pkl',\n",
       " 'results/inverse_photoswitch/2022-09-02-20-07-19_metrics.pkl']"
      ]
     },
     "execution_count": 42,
     "metadata": {},
     "output_type": "execute_result"
    }
   ],
   "source": [
    "all_res"
   ]
  },
  {
   "cell_type": "code",
   "execution_count": 50,
   "metadata": {},
   "outputs": [],
   "source": [
    "d = load_pickle(all_res[0])"
   ]
  },
  {
   "cell_type": "code",
   "execution_count": 44,
   "metadata": {},
   "outputs": [],
   "source": [
    "results = []\n",
    "\n",
    "for file in all_res: \n",
    "    res = load_pickle(file)\n",
    "\n",
    "    for d in res: \n",
    "        compiled_res = {\n",
    "            'temperature': d['meta']['temperature'],\n",
    "            'frac_valid_smiles': d['fractions_smiles_in_train'],\n",
    "            'fractions_smiles_in_train': d['fractions_smiles_in_train'],\n",
    "            'n_pi_star_mae': d['n_pi_star_metrics']['mean_absolute_error'], \n",
    "            'pi_pi_star_mae': d['pi_pi_star_metrics']['mean_absolute_error'],\n",
    "            'mol_similarity_metrics_mean': d['mol_similarity_metrics_mean']['mean'],\n",
    "        }\n",
    "        results.append(compiled_res)"
   ]
  },
  {
   "cell_type": "code",
   "execution_count": 45,
   "metadata": {},
   "outputs": [],
   "source": [
    "results = pd.DataFrame(results)"
   ]
  },
  {
   "cell_type": "code",
   "execution_count": 46,
   "metadata": {},
   "outputs": [],
   "source": [
    "aggregated_results = results.groupby('temperature').agg(['mean', 'std'])"
   ]
  },
  {
   "cell_type": "code",
   "execution_count": 47,
   "metadata": {},
   "outputs": [
    {
     "ename": "SyntaxError",
     "evalue": "invalid syntax (190243001.py, line 1)",
     "output_type": "error",
     "traceback": [
      "\u001b[0;36m  Input \u001b[0;32mIn [47]\u001b[0;36m\u001b[0m\n\u001b[0;31m    emperature  & fraction valid & fraction in training set & mean similarity & $\\pi-\\pi^*$ MAE / nm & $n-\\pi^*$ MAE / nm \\\\\u001b[0m\n\u001b[0m                           ^\u001b[0m\n\u001b[0;31mSyntaxError\u001b[0m\u001b[0;31m:\u001b[0m invalid syntax\n"
     ]
    }
   ],
   "source": [
    "emperature  & fraction valid & fraction in training set & mean similarity & $\\pi-\\pi^*$ MAE / nm & $n-\\pi^*$ MAE / nm \\\\\n"
   ]
  },
  {
   "cell_type": "code",
   "execution_count": null,
   "metadata": {},
   "outputs": [
    {
     "data": {
      "text/plain": [
       "'\\\\SI{1.00}\\\\pm{frac_valid_smiles_std:.2f}'"
      ]
     },
     "execution_count": 29,
     "metadata": {},
     "output_type": "execute_result"
    }
   ],
   "source": [
    "\"\\SI{{{frac_valid_smiles:.2f}}}\\pm{{frac_valid_smiles_std:.2f}}\".format(frac_valid_smiles=1, frac_valid_smiles_std=2)"
   ]
  },
  {
   "cell_type": "code",
   "execution_count": null,
   "metadata": {},
   "outputs": [],
   "source": [
    "ROW_TEMPLATE = \"{temperature} & \\SI{{{frac_valid_smiles:.2f}}}\\pm{{{frac_valid_smiles_std:.2f}}} & \\SI{{{frac_smiles_on_train:.2f}}}\\pm{{{frac_smiles_in_train_std:.2f}}} & \\SI{{{mol_similarity:.2f}}}\\pm{{{mol_similarity_std:.2f}}} & \\SI{{{pi_pi_star_mae:.2f}}}\\pm{{{pi_pi_star_mae_std:.2f}}} & \\SI{{{n_pi_star_mae:.2f}}}\\pm{{{n_pi_star_mae_std:.2f}}} \\\\\\\\\""
   ]
  },
  {
   "cell_type": "code",
   "execution_count": null,
   "metadata": {},
   "outputs": [],
   "source": [
    "rows = [    ]\n",
    "for i, row in aggregated_results.iterrows():\n",
    "\n",
    "    rows.append(ROW_TEMPLATE.format(\n",
    "        temperature=i,\n",
    "        frac_valid_smiles=row['frac_valid_smiles']['mean'],\n",
    "        frac_valid_smiles_std=row['frac_valid_smiles']['std'],\n",
    "        frac_smiles_on_train=row['fractions_smiles_in_train']['mean'],\n",
    "        frac_smiles_in_train_std=row['fractions_smiles_in_train']['std'],\n",
    "        mol_similarity=row['mol_similarity_metrics_mean']['mean'],\n",
    "        mol_similarity_std=row['mol_similarity_metrics_mean']['std'],\n",
    "        pi_pi_star_mae=row['pi_pi_star_mae']['mean'],\n",
    "        pi_pi_star_mae_std=row['pi_pi_star_mae']['std'],\n",
    "        n_pi_star_mae=row['n_pi_star_mae']['mean'],\n",
    "        n_pi_star_mae_std=row['n_pi_star_mae']['std'],\n",
    "    ))"
   ]
  },
  {
   "cell_type": "code",
   "execution_count": null,
   "metadata": {},
   "outputs": [
    {
     "name": "stdout",
     "output_type": "stream",
     "text": [
      "0.0 & \\num{0.81\\pm 0.32} & \\num{0.81\\pm 0.32} & \\num{0.33\\pm 0.01} & \\num{32.61\\pm 4.71} & \\num{21.76\\pm 4.39} \\\\\n",
      "0.25 & \\num{0.80\\pm 0.19} & \\num{0.80\\pm 0.19} & \\num{0.32\\pm 0.01} & \\num{36.20\\pm 4.67} & \\num{20.44\\pm 3.68} \\\\\n",
      "0.5 & \\num{0.65\\pm 0.11} & \\num{0.65\\pm 0.11} & \\num{0.31\\pm 0.01} & \\num{41.76\\pm 5.10} & \\num{19.98\\pm 3.41} \\\\\n",
      "0.75 & \\num{0.55\\pm 0.06} & \\num{0.55\\pm 0.06} & \\num{0.30\\pm 0.01} & \\num{44.67\\pm 6.52} & \\num{20.05\\pm 3.80} \\\\\n",
      "1.0 & \\num{0.44\\pm 0.08} & \\num{0.44\\pm 0.08} & \\num{0.28\\pm 0.01} & \\num{46.38\\pm 9.58} & \\num{20.21\\pm 4.47} \\\\\n",
      "1.25 & \\num{0.32\\pm 0.11} & \\num{0.32\\pm 0.11} & \\num{0.28\\pm 0.01} & \\num{45.69\\pm 13.76} & \\num{18.66\\pm 4.14} \\\\\n",
      "1.5 & \\num{0.20\\pm 0.14} & \\num{0.20\\pm 0.14} & \\num{0.22\\pm 0.04} & \\num{45.43\\pm 17.47} & \\num{18.29\\pm 10.16} \\\\\n"
     ]
    }
   ],
   "source": [
    "print(\"\\n\".join(rows).replace('}\\pm{', '\\pm ').replace('SI', 'num'))"
   ]
  },
  {
   "cell_type": "markdown",
   "metadata": {},
   "source": [
    "## Now sample a couple of molecules for validation with TDDFT"
   ]
  },
  {
   "cell_type": "markdown",
   "metadata": {},
   "source": [
    "Let's do it now with one file"
   ]
  },
  {
   "cell_type": "code",
   "execution_count": 49,
   "metadata": {},
   "outputs": [
    {
     "data": {
      "text/plain": [
       "'results/inverse_photoswitch/2022-09-02-20-00-50_metrics.pkl'"
      ]
     },
     "execution_count": 49,
     "metadata": {},
     "output_type": "execute_result"
    }
   ],
   "source": [
    "all_res[0]"
   ]
  },
  {
   "cell_type": "code",
   "execution_count": null,
   "metadata": {},
   "outputs": [],
   "source": [
    "Which comes from "
   ]
  },
  {
   "cell_type": "code",
   "execution_count": 51,
   "metadata": {},
   "outputs": [],
   "source": [
    "d  = load_pickle(all_res[0])"
   ]
  },
  {
   "cell_type": "code",
   "execution_count": 53,
   "metadata": {},
   "outputs": [
    {
     "data": {
      "text/plain": [
       "'ada:ft-lsmoepfl-2022-09-02-18-05-09'"
      ]
     },
     "execution_count": 53,
     "metadata": {},
     "output_type": "execute_result"
    }
   ],
   "source": [
    "d[0]['meta']['model']"
   ]
  },
  {
   "cell_type": "code",
   "execution_count": 63,
   "metadata": {},
   "outputs": [],
   "source": [
    "smiles_to_sample_from = {}\n",
    "\n",
    "for subd in d:\n",
    "    smiles= subd['predictions'][subd['valid_smiles']][~np.array(subd['smiles_in_train'])]\n",
    "    smiles_to_sample_from[subd['meta']['temperature']] = smiles"
   ]
  },
  {
   "cell_type": "code",
   "execution_count": 67,
   "metadata": {},
   "outputs": [],
   "source": [
    "sampled_smiles = {}\n",
    "\n",
    "for t, smiles in smiles_to_sample_from.items():\n",
    "    try:\n",
    "        sampled_smiles[t] = random.sample(list(smiles), 3)\n",
    "    except Exception:\n",
    "        pass"
   ]
  },
  {
   "cell_type": "code",
   "execution_count": 69,
   "metadata": {},
   "outputs": [
    {
     "name": "stdout",
     "output_type": "stream",
     "text": [
      "CN(C)C1=CC=C(/N=N/C2=CC=C(N(C)C)C=C2)C=C1\n",
      "O=[N+]([O-])C1=CC=C(/N=N/C2=CC=C(N(C)C)C=C2)C=C1\n",
      "CC1=C(C(C)=NN1)/N=N/C2=CC=CC=C2\n",
      "O=C(O)C1=CC=C(/N=N/C2=CC=CC=C2)C=C1\n",
      "OC%28=C(N=CC=C%29)C%29=C(/N=N/C%30=CC=C(C(C)=O)C=C%30)C=C%28\n",
      "CCN(CC)C(C=C1)=CC=C1/N=N/C2=CC=C(N(CC)CC)C=C2\n",
      "NC1=CC=CC=C1/N=N/C2=CC=CC=C2\n",
      "CC1=C(/N=N/C2=C(C)C=CC=C2C#N)C(C)=NO1\n",
      "OC%23=C(N=CC=C%24)C%24=C(/N=N/C%25=CC=CC=C%25)C=C%23\n",
      "OC1=C(/N=N/C2=CC=CC=C2)C=CC=C1\n",
      "CC1=NOC(C)=C1/N=N/C2=CC=C(C(O)=O)C=C2\n",
      "BrC1=CC=CC(/N=N/C2=CC=C(NCCC#N)C=C2)=CC=C1\n",
      "CN(C=C1C)C=C1/N=N/C2=C(Br)C=CC=C2Br\n",
      "[H]C7=CC(N(CCO)CCC#N)=CC=C7/N=N/C8=CC=C([N+]([O-])=O)C=C8\n",
      "[H]N(C)C1=CC=C(/N=N/C2=CC=CN=C2)C=C1\n",
      "CN(OB)C1=CC(NC(C)=O)=CC=C1/N=N/C2=CC=C([N+]([O-])=O)C=C2\n",
      "CC(C=C(N(CCC#N)CCO)C=C1)=C1/N=N/C2=C(OC)C=C(OC)C=C2\n",
      "FC%21=CC(S)=CC(F)=C%21/N=N/C%22=CC=CC=C%22\n"
     ]
    }
   ],
   "source": [
    "sampled_smiles_all = []\n",
    "for _, s in sampled_smiles.items():\n",
    "    sampled_smiles_all.extend(s)\n",
    "\n",
    "for s in sampled_smiles_all:\n",
    "    print(s)"
   ]
  },
  {
   "cell_type": "code",
   "execution_count": null,
   "metadata": {},
   "outputs": [],
   "source": []
  }
 ],
 "metadata": {
  "kernelspec": {
   "display_name": "Python 3.9.13 ('gpt3')",
   "language": "python",
   "name": "python3"
  },
  "language_info": {
   "codemirror_mode": {
    "name": "ipython",
    "version": 3
   },
   "file_extension": ".py",
   "mimetype": "text/x-python",
   "name": "python",
   "nbconvert_exporter": "python",
   "pygments_lexer": "ipython3",
   "version": "3.9.13"
  },
  "orig_nbformat": 4,
  "vscode": {
   "interpreter": {
    "hash": "9a4fa60962de90e73b5da8d67a44b01d2de04630d82b94b8db1f727a73d31e61"
   }
  }
 },
 "nbformat": 4,
 "nbformat_minor": 2
}
