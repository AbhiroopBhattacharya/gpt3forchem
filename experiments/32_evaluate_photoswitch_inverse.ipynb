{
 "cells": [
  {
   "cell_type": "code",
   "execution_count": 1,
   "metadata": {},
   "outputs": [],
   "source": [
    "from glob import glob \n",
    "from fastcore.helpers import load_pickle\n",
    "import pandas as pd "
   ]
  },
  {
   "cell_type": "code",
   "execution_count": 2,
   "metadata": {},
   "outputs": [],
   "source": [
    "all_res = glob('results/inverse_photoswitch/*pkl')"
   ]
  },
  {
   "cell_type": "code",
   "execution_count": 3,
   "metadata": {},
   "outputs": [
    {
     "data": {
      "text/plain": [
       "['results/inverse_photoswitch/2022-09-02-20-00-50_metrics.pkl',\n",
       " 'results/inverse_photoswitch/2022-09-02-19-35-07_metrics.pkl',\n",
       " 'results/inverse_photoswitch/2022-09-02-19-54-20_metrics.pkl',\n",
       " 'results/inverse_photoswitch/2022-09-02-19-28-36_metrics.pkl',\n",
       " 'results/inverse_photoswitch/2022-09-02-20-13-53_metrics.pkl',\n",
       " 'results/inverse_photoswitch/2022-09-02-19-48-00_metrics.pkl',\n",
       " 'results/inverse_photoswitch/2022-09-02-20-20-26_metrics.pkl',\n",
       " 'results/inverse_photoswitch/2022-09-02-19-41-24_metrics.pkl',\n",
       " 'results/inverse_photoswitch/2022-09-02-20-27-07_metrics.pkl',\n",
       " 'results/inverse_photoswitch/2022-09-02-20-07-19_metrics.pkl']"
      ]
     },
     "execution_count": 3,
     "metadata": {},
     "output_type": "execute_result"
    }
   ],
   "source": [
    "all_res"
   ]
  },
  {
   "cell_type": "code",
   "execution_count": 14,
   "metadata": {},
   "outputs": [],
   "source": [
    "d = load_pickle(all_res[0])"
   ]
  },
  {
   "cell_type": "code",
   "execution_count": 16,
   "metadata": {},
   "outputs": [],
   "source": [
    "results = []\n",
    "\n",
    "for file in all_res: \n",
    "    res = load_pickle(file)\n",
    "\n",
    "    for d in res: \n",
    "        compiled_res = {\n",
    "            'temperature': d['meta']['temperature'],\n",
    "            'frac_valid_smiles': d['fractions_smiles_in_train'],\n",
    "            'fractions_smiles_in_train': d['fractions_smiles_in_train'],\n",
    "            'n_pi_star_mae': d['n_pi_star_metrics']['mean_absolute_error'], \n",
    "            'pi_pi_star_mae': d['pi_pi_star_metrics']['mean_absolute_error'],\n",
    "            'mol_similarity_metrics_mean': d['mol_similarity_metrics_mean']['mean'],\n",
    "        }\n",
    "        results.append(compiled_res)"
   ]
  },
  {
   "cell_type": "code",
   "execution_count": 18,
   "metadata": {},
   "outputs": [],
   "source": [
    "results = pd.DataFrame(results)"
   ]
  },
  {
   "cell_type": "code",
   "execution_count": 21,
   "metadata": {},
   "outputs": [],
   "source": [
    "aggregated_results = results.groupby('temperature').agg(['mean', 'std'])"
   ]
  },
  {
   "cell_type": "code",
   "execution_count": null,
   "metadata": {},
   "outputs": [],
   "source": [
    "emperature  & fraction valid & fraction in training set & mean similarity & $\\pi-\\pi^*$ MAE / nm & $n-\\pi^*$ MAE / nm \\\\\n"
   ]
  },
  {
   "cell_type": "code",
   "execution_count": 29,
   "metadata": {},
   "outputs": [
    {
     "data": {
      "text/plain": [
       "'\\\\SI{1.00}\\\\pm{frac_valid_smiles_std:.2f}'"
      ]
     },
     "execution_count": 29,
     "metadata": {},
     "output_type": "execute_result"
    }
   ],
   "source": [
    "\"\\SI{{{frac_valid_smiles:.2f}}}\\pm{{frac_valid_smiles_std:.2f}}\".format(frac_valid_smiles=1, frac_valid_smiles_std=2)"
   ]
  },
  {
   "cell_type": "code",
   "execution_count": 34,
   "metadata": {},
   "outputs": [],
   "source": [
    "ROW_TEMPLATE = \"{temperature} & \\SI{{{frac_valid_smiles:.2f}}}\\pm{{{frac_valid_smiles_std:.2f}}} & \\SI{{{frac_smiles_on_train:.2f}}}\\pm{{{frac_smiles_in_train_std:.2f}}} & \\SI{{{mol_similarity:.2f}}}\\pm{{{mol_similarity_std:.2f}}} & \\SI{{{pi_pi_star_mae:.2f}}}\\pm{{{pi_pi_star_mae_std:.2f}}} & \\SI{{{n_pi_star_mae:.2f}}}\\pm{{{n_pi_star_mae_std:.2f}}} \\\\\\\\\""
   ]
  },
  {
   "cell_type": "code",
   "execution_count": 35,
   "metadata": {},
   "outputs": [],
   "source": [
    "rows = [    ]\n",
    "for i, row in aggregated_results.iterrows():\n",
    "\n",
    "    rows.append(ROW_TEMPLATE.format(\n",
    "        temperature=i,\n",
    "        frac_valid_smiles=row['frac_valid_smiles']['mean'],\n",
    "        frac_valid_smiles_std=row['frac_valid_smiles']['std'],\n",
    "        frac_smiles_on_train=row['fractions_smiles_in_train']['mean'],\n",
    "        frac_smiles_in_train_std=row['fractions_smiles_in_train']['std'],\n",
    "        mol_similarity=row['mol_similarity_metrics_mean']['mean'],\n",
    "        mol_similarity_std=row['mol_similarity_metrics_mean']['std'],\n",
    "        pi_pi_star_mae=row['pi_pi_star_mae']['mean'],\n",
    "        pi_pi_star_mae_std=row['pi_pi_star_mae']['std'],\n",
    "        n_pi_star_mae=row['n_pi_star_mae']['mean'],\n",
    "        n_pi_star_mae_std=row['n_pi_star_mae']['std'],\n",
    "    ))"
   ]
  },
  {
   "cell_type": "code",
   "execution_count": 39,
   "metadata": {},
   "outputs": [
    {
     "name": "stdout",
     "output_type": "stream",
     "text": [
      "0.0 & \\num{0.81\\pm 0.32} & \\num{0.81\\pm 0.32} & \\num{0.33\\pm 0.01} & \\num{32.61\\pm 4.71} & \\num{21.76\\pm 4.39} \\\\\n",
      "0.25 & \\num{0.80\\pm 0.19} & \\num{0.80\\pm 0.19} & \\num{0.32\\pm 0.01} & \\num{36.20\\pm 4.67} & \\num{20.44\\pm 3.68} \\\\\n",
      "0.5 & \\num{0.65\\pm 0.11} & \\num{0.65\\pm 0.11} & \\num{0.31\\pm 0.01} & \\num{41.76\\pm 5.10} & \\num{19.98\\pm 3.41} \\\\\n",
      "0.75 & \\num{0.55\\pm 0.06} & \\num{0.55\\pm 0.06} & \\num{0.30\\pm 0.01} & \\num{44.67\\pm 6.52} & \\num{20.05\\pm 3.80} \\\\\n",
      "1.0 & \\num{0.44\\pm 0.08} & \\num{0.44\\pm 0.08} & \\num{0.28\\pm 0.01} & \\num{46.38\\pm 9.58} & \\num{20.21\\pm 4.47} \\\\\n",
      "1.25 & \\num{0.32\\pm 0.11} & \\num{0.32\\pm 0.11} & \\num{0.28\\pm 0.01} & \\num{45.69\\pm 13.76} & \\num{18.66\\pm 4.14} \\\\\n",
      "1.5 & \\num{0.20\\pm 0.14} & \\num{0.20\\pm 0.14} & \\num{0.22\\pm 0.04} & \\num{45.43\\pm 17.47} & \\num{18.29\\pm 10.16} \\\\\n"
     ]
    }
   ],
   "source": [
    "print(\"\\n\".join(rows).replace('}\\pm{', '\\pm ').replace('SI', 'num'))"
   ]
  },
  {
   "cell_type": "code",
   "execution_count": null,
   "metadata": {},
   "outputs": [],
   "source": []
  }
 ],
 "metadata": {
  "kernelspec": {
   "display_name": "Python 3.9.13 ('gpt3')",
   "language": "python",
   "name": "python3"
  },
  "language_info": {
   "codemirror_mode": {
    "name": "ipython",
    "version": 3
   },
   "file_extension": ".py",
   "mimetype": "text/x-python",
   "name": "python",
   "nbconvert_exporter": "python",
   "pygments_lexer": "ipython3",
   "version": "3.9.13"
  },
  "orig_nbformat": 4,
  "vscode": {
   "interpreter": {
    "hash": "9a4fa60962de90e73b5da8d67a44b01d2de04630d82b94b8db1f727a73d31e61"
   }
  }
 },
 "nbformat": 4,
 "nbformat_minor": 2
}
