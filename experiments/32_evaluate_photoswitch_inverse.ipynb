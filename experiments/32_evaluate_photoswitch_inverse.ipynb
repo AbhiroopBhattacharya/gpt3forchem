{
 "cells": [
  {
   "cell_type": "code",
   "execution_count": 1,
   "metadata": {},
   "outputs": [],
   "source": [
    "from glob import glob \n",
    "from fastcore.helpers import load_pickle\n",
    "import pandas as pd \n",
    "import numpy as np\n",
    "import random "
   ]
  },
  {
   "cell_type": "code",
   "execution_count": 2,
   "metadata": {},
   "outputs": [],
   "source": [
    "all_res = glob('results/inverse_photoswitch/*pkl')"
   ]
  },
  {
   "cell_type": "code",
   "execution_count": 3,
   "metadata": {},
   "outputs": [
    {
     "data": {
      "text/plain": [
       "['results/inverse_photoswitch/2022-09-02-20-00-50_metrics.pkl',\n",
       " 'results/inverse_photoswitch/2022-09-02-19-35-07_metrics.pkl',\n",
       " 'results/inverse_photoswitch/2022-09-02-19-54-20_metrics.pkl',\n",
       " 'results/inverse_photoswitch/2022-09-02-19-28-36_metrics.pkl',\n",
       " 'results/inverse_photoswitch/2022-09-02-20-13-53_metrics.pkl',\n",
       " 'results/inverse_photoswitch/2022-09-02-19-48-00_metrics.pkl',\n",
       " 'results/inverse_photoswitch/2022-09-02-20-20-26_metrics.pkl',\n",
       " 'results/inverse_photoswitch/2022-09-02-19-41-24_metrics.pkl',\n",
       " 'results/inverse_photoswitch/2022-09-02-20-27-07_metrics.pkl',\n",
       " 'results/inverse_photoswitch/2022-09-02-20-07-19_metrics.pkl']"
      ]
     },
     "execution_count": 3,
     "metadata": {},
     "output_type": "execute_result"
    }
   ],
   "source": [
    "all_res"
   ]
  },
  {
   "cell_type": "code",
   "execution_count": 4,
   "metadata": {},
   "outputs": [],
   "source": [
    "d = load_pickle(all_res[0])"
   ]
  },
  {
   "cell_type": "code",
   "execution_count": 13,
   "metadata": {},
   "outputs": [
    {
     "data": {
      "text/plain": [
       "{'meta': {'temperature': 1.5,\n",
       "  'max_tokens': 80,\n",
       "  'model': 'ada:ft-lsmoepfl-2022-09-02-18-11-44'},\n",
       " 'predictions': array(['CC1=NOC(C)=C1/N=N/C2=C(C)C(C)C2',\n",
       "        'CCN(CCC#N)C(C=C%21C)=CC=C%21/N=N/C%22=CC=CC=C%22',\n",
       "        'CCN(CCC#N)C%16=CC=C(OC)35=C%16/N=N/C%17=CC=C(NACC#N)C=C%17OC%32',\n",
       "        'CC%11=CC(#N)=CC=C%11/N=N/C%12=CC([N+]([O-])=O)C=C%12',\n",
       "        'FC1=CC=CC(/N=N/C2=CC=C(TA=C2)F3G3D4', 'Am[N]C9=CC([S?',\n",
       "        '17Occc1f(O)c(/N=N/C2=CC(O)=NT2)=CC(F)=C1',\n",
       "        'OCNVKnight:/C=CSR(/N=N/C', 'CCc1nncntt01*nnnn*,C(C=C1C)N=NC2NC',\n",
       "        'CC(C=CC=C1C)=C1/N=N/C2=C(NC(C)=O)C=CC=C2',\n",
       "        'Car2=CC1=CC=C(/N=N/C2=CC=CC=C2)C=C1', 'C', 'ClC1=NOC(C)=N',\n",
       "        'CCN(CC)C(C=C1)=CC=C1/N=N/C2=CC(CCC#ani', 'CC',\n",
       "        'CN-C(C=C%19)=CC=C%19/N=', 'ClC(cnC1ncs1',\n",
       "        'OISSRSC(C=C8)=CC=C8/N=N/C9=CC=CC=C9',\n",
       "        'N#CCCN()C[O-iliated]C%13=C(N=C(N=NC%14=CS%15=CC=C([N+]([C',\n",
       "        'ASC=', 'oc%21=N=CC_(N=C(',\n",
       "        'Samsung0197HNF0181CC(NC)N=N-C02=CC(N=CC=C2)=C([N+]([O-])=O)-C=C\\\\N1',\n",
       "        '++CN(CCC#N)C(C=C%13)=CC=C%13/N=N/C%14=CC=E([N+]([O-])=O)C=C%14',\n",
       "        'FC1=CC(C)=CC(C)=C1/N=N/C2=CC=C(F)C=C2',\n",
       "        'CC1C(/N=N/C2C=CC=C(NC3=CC=C3)O)NC4=C1', 'O=[H$]([O', 'FS1=NC(C)',\n",
       "        'CC', 'CC1=C6(CYY)C=C(/N=N/C', 'O=C(OC)C(', 'OCCC1=CC=C(N=C2)C=C1',\n",
       "        'CCN(CCC#N)C1=CC=C(/N=N/C2=CC=CS2)O=[NO+led',\n",
       "        'CN(SORentyNC(C=C3)=CC=C3/N=N/C4=NC5=NC6=CC=CC=C6OC=C4@@----P---',\n",
       "        'OCCNYDD', 'Ob18nc(czelnedhieldsي)C1=CC(/N',\n",
       "        'CLC1=CC=CCET1=C2/N=N/C2=CC=C(NCCC1C2)C=C2C', 'OCCC',\n",
       "        'CCO[N232]C1=CC=[N', 'FC1=CC=CC=C1/N=N/C2=CC=CC=C2NC=C1'],\n",
       "       dtype='<U66'),\n",
       " 'valid_smiles': [True,\n",
       "  True,\n",
       "  False,\n",
       "  False,\n",
       "  False,\n",
       "  False,\n",
       "  False,\n",
       "  False,\n",
       "  False,\n",
       "  True,\n",
       "  False,\n",
       "  True,\n",
       "  False,\n",
       "  False,\n",
       "  True,\n",
       "  False,\n",
       "  False,\n",
       "  False,\n",
       "  False,\n",
       "  False,\n",
       "  False,\n",
       "  False,\n",
       "  False,\n",
       "  True,\n",
       "  False,\n",
       "  False,\n",
       "  False,\n",
       "  True,\n",
       "  False,\n",
       "  False,\n",
       "  False,\n",
       "  False,\n",
       "  False,\n",
       "  False,\n",
       "  False,\n",
       "  False,\n",
       "  True,\n",
       "  False,\n",
       "  False],\n",
       " 'smiles_in_train': [False, True, False, False, False, False, False, False],\n",
       " 'predicted_pi_pi_star': array([346.02649716, 405.85464342, 304.67809956, 386.84935918,\n",
       "        389.64397992, 330.56134693, 389.64397992, 381.07849432]),\n",
       " 'predicted_n_pi_star': array([414.04111422, 463.29978433, 462.8873517 , 463.12627161,\n",
       "        463.70511558, 443.46881381, 463.70511558, 461.887397  ]),\n",
       " 'expected_pi_pi_star': array([323., 388., 478., 321., 332., 437., 330., 411., 313., 335., 315.,\n",
       "        317., 363., 412., 387., 362., 315., 437., 421., 403., 518., 417.,\n",
       "        411., 320., 396., 346., 310., 330., 297., 320., 328., 385., 321.,\n",
       "        378., 332., 438., 406., 311., 317.]),\n",
       " 'expected_n_pi_star': array([423.0, None, None, None, 431.0, None, 419.0, None, 454.0, 416.0,\n",
       "        425.0, 452.0, 410.0, None, None, 439.0, 373.0, None, None, None,\n",
       "        None, None, None, 460.0, None, None, 453.0, 424.0, 429.0, 435.0,\n",
       "        None, None, 416.0, None, None, None, None, 414.0, 463.0],\n",
       "       dtype=object),\n",
       " 'fractions_valid_smiles': 0.20512820512820512,\n",
       " 'fractions_smiles_in_train': 0.125,\n",
       " 'pi_pi_star_metrics': {'r2': -0.17839859499157162,\n",
       "  'max_error': 69.84935917726091,\n",
       "  'mean_absolute_error': 29.85290157934851,\n",
       "  'mean_squared_error': 1368.0471188730276},\n",
       " 'n_pi_star_metrics': {'r2': -1.7612049499826137,\n",
       "  'max_error': 46.88735169531088,\n",
       "  'mean_absolute_error': 24.641762168670812,\n",
       "  'mean_squared_error': 850.4511245946451},\n",
       " 'examples': {'min_error_pi_pi_star': 'CC',\n",
       "  'max_error_pi_pi_star': 'C',\n",
       "  'min_error_n_pi_star': 'CC1=NOC(C)=C1/N=N/C2=C(C)C(C)C2',\n",
       "  'max_error_n_pi_star': 'CC(C=CC=C1C)=C1/N=N/C2=C(NC(C)=O)C=CC=C2',\n",
       "  'min_total_error_pi_pi_star': 'FC1=CC(C)=CC(C)=C1/N=N/C2=CC=C(F)C=C2',\n",
       "  'max_total_error_pi_pi_star': 'CC'},\n",
       " 'mol_similarity_metrics':         min       max      mean       std\n",
       " 0  0.066202  0.440895  0.162942  0.076632\n",
       " 1  0.098790  1.000000  0.364770  0.184097\n",
       " 2  0.112871  0.519305  0.290926  0.077512\n",
       " 3  0.000000  0.000000  0.000000  0.000000\n",
       " 4  0.000000  0.011976  0.002224  0.002866\n",
       " 5  0.119670  0.597297  0.273437  0.080676\n",
       " 6  0.000000  0.011976  0.002224  0.002866\n",
       " 7  0.000000  0.031746  0.007267  0.006811,\n",
       " 'mol_similarity_metrics_mean': min     0.049692\n",
       " max     0.326649\n",
       " mean    0.137974\n",
       " std     0.053932\n",
       " dtype: float64,\n",
       " 'mol_similarity_metrics_std': min     0.055355\n",
       " max     0.371969\n",
       " mean    0.154357\n",
       " std     0.064447\n",
       " dtype: float64,\n",
       " 'train_filename': 'run_files/2022-09-02-20-07-19_train_prompts_photoswitch_inverse_351.jsonl',\n",
       " 'valid_filename': 'run_files/2022-09-02-20-07-19_valid_prompts_photoswitch_inverse_39.jsonl'}"
      ]
     },
     "execution_count": 13,
     "metadata": {},
     "output_type": "execute_result"
    }
   ],
   "source": [
    "d"
   ]
  },
  {
   "cell_type": "code",
   "execution_count": 14,
   "metadata": {},
   "outputs": [],
   "source": [
    "results = []\n",
    "\n",
    "for file in all_res: \n",
    "    res = load_pickle(file)\n",
    "\n",
    "    for d in res: \n",
    "        compiled_res = {\n",
    "            'temperature': d['meta']['temperature'],\n",
    "            'frac_valid_smiles': d['fractions_valid_smiles'],\n",
    "            'fractions_smiles_in_train': d['fractions_smiles_in_train'],\n",
    "            'n_pi_star_mae': d['n_pi_star_metrics']['mean_absolute_error'], \n",
    "            'pi_pi_star_mae': d['pi_pi_star_metrics']['mean_absolute_error'],\n",
    "            'mol_similarity_metrics_mean': d['mol_similarity_metrics_mean']['mean'],\n",
    "        }\n",
    "        results.append(compiled_res)"
   ]
  },
  {
   "cell_type": "code",
   "execution_count": 15,
   "metadata": {},
   "outputs": [],
   "source": [
    "results = pd.DataFrame(results)"
   ]
  },
  {
   "cell_type": "code",
   "execution_count": 16,
   "metadata": {},
   "outputs": [],
   "source": [
    "aggregated_results = results.groupby('temperature').agg(['mean', 'std'])"
   ]
  },
  {
   "cell_type": "code",
   "execution_count": 17,
   "metadata": {},
   "outputs": [
    {
     "data": {
      "text/plain": [
       "'\\\\SI{1.00}\\\\pm{frac_valid_smiles_std:.2f}'"
      ]
     },
     "execution_count": 17,
     "metadata": {},
     "output_type": "execute_result"
    }
   ],
   "source": [
    "\"\\SI{{{frac_valid_smiles:.2f}}}\\pm{{frac_valid_smiles_std:.2f}}\".format(frac_valid_smiles=1, frac_valid_smiles_std=2)"
   ]
  },
  {
   "cell_type": "code",
   "execution_count": 18,
   "metadata": {},
   "outputs": [],
   "source": [
    "ROW_TEMPLATE = \"{temperature} & \\SI{{{frac_valid_smiles:.2f}}}\\pm{{{frac_valid_smiles_std:.2f}}} & \\SI{{{frac_smiles_on_train:.2f}}}\\pm{{{frac_smiles_in_train_std:.2f}}} & \\SI{{{mol_similarity:.2f}}}\\pm{{{mol_similarity_std:.2f}}} & \\SI{{{pi_pi_star_mae:.2f}}}\\pm{{{pi_pi_star_mae_std:.2f}}} & \\SI{{{n_pi_star_mae:.2f}}}\\pm{{{n_pi_star_mae_std:.2f}}} \\\\\\\\\""
   ]
  },
  {
   "cell_type": "code",
   "execution_count": 22,
   "metadata": {},
   "outputs": [],
   "source": [
    "rows = [    ]\n",
    "for i, row in aggregated_results.iterrows():\n",
    "    row = row.round(2)\n",
    "    rows.append(ROW_TEMPLATE.format(\n",
    "        temperature=i,\n",
    "        frac_valid_smiles=row['frac_valid_smiles']['mean'],\n",
    "        frac_valid_smiles_std=row['frac_valid_smiles']['std'],\n",
    "        frac_smiles_on_train=row['fractions_smiles_in_train']['mean'],\n",
    "        frac_smiles_in_train_std=row['fractions_smiles_in_train']['std'],\n",
    "        mol_similarity=row['mol_similarity_metrics_mean']['mean'],\n",
    "        mol_similarity_std=row['mol_similarity_metrics_mean']['std'],\n",
    "        pi_pi_star_mae=row['pi_pi_star_mae']['mean'],\n",
    "        pi_pi_star_mae_std=row['pi_pi_star_mae']['std'],\n",
    "        n_pi_star_mae=row['n_pi_star_mae']['mean'],\n",
    "        n_pi_star_mae_std=row['n_pi_star_mae']['std'],\n",
    "    ))"
   ]
  },
  {
   "cell_type": "code",
   "execution_count": 23,
   "metadata": {},
   "outputs": [
    {
     "name": "stdout",
     "output_type": "stream",
     "text": [
      "0.0 & \\num{1.00\\pm 0.00} & \\num{0.81\\pm 0.32} & \\num{0.33\\pm 0.01} & \\num{32.61\\pm 4.71} & \\num{21.76\\pm 4.39} \\\\\n",
      "0.25 & \\num{1.00\\pm 0.01} & \\num{0.80\\pm 0.19} & \\num{0.32\\pm 0.01} & \\num{36.20\\pm 4.67} & \\num{20.44\\pm 3.68} \\\\\n",
      "0.5 & \\num{0.99\\pm 0.02} & \\num{0.65\\pm 0.11} & \\num{0.31\\pm 0.01} & \\num{41.76\\pm 5.10} & \\num{19.98\\pm 3.41} \\\\\n",
      "0.75 & \\num{0.97\\pm 0.03} & \\num{0.55\\pm 0.06} & \\num{0.30\\pm 0.01} & \\num{44.67\\pm 6.52} & \\num{20.05\\pm 3.80} \\\\\n",
      "1.0 & \\num{0.79\\pm 0.07} & \\num{0.44\\pm 0.08} & \\num{0.28\\pm 0.01} & \\num{46.38\\pm 9.58} & \\num{20.21\\pm 4.47} \\\\\n",
      "1.25 & \\num{0.49\\pm 0.07} & \\num{0.32\\pm 0.11} & \\num{0.28\\pm 0.01} & \\num{45.69\\pm 13.76} & \\num{18.66\\pm 4.14} \\\\\n",
      "1.5 & \\num{0.18\\pm 0.05} & \\num{0.20\\pm 0.14} & \\num{0.22\\pm 0.04} & \\num{45.43\\pm 17.47} & \\num{18.29\\pm 10.16} \\\\\n"
     ]
    }
   ],
   "source": [
    "print(\"\\n\".join(rows).replace('}\\pm{', '\\pm ').replace('SI', 'num'))"
   ]
  },
  {
   "cell_type": "markdown",
   "metadata": {},
   "source": [
    "## Now sample a couple of molecules for validation with TDDFT"
   ]
  },
  {
   "cell_type": "markdown",
   "metadata": {},
   "source": [
    "Let's do it now with one file"
   ]
  },
  {
   "cell_type": "code",
   "execution_count": 49,
   "metadata": {},
   "outputs": [
    {
     "data": {
      "text/plain": [
       "'results/inverse_photoswitch/2022-09-02-20-00-50_metrics.pkl'"
      ]
     },
     "execution_count": 49,
     "metadata": {},
     "output_type": "execute_result"
    }
   ],
   "source": [
    "all_res[0]"
   ]
  },
  {
   "cell_type": "code",
   "execution_count": null,
   "metadata": {},
   "outputs": [],
   "source": [
    "Which comes from "
   ]
  },
  {
   "cell_type": "code",
   "execution_count": 51,
   "metadata": {},
   "outputs": [],
   "source": [
    "d  = load_pickle(all_res[0])"
   ]
  },
  {
   "cell_type": "code",
   "execution_count": 53,
   "metadata": {},
   "outputs": [
    {
     "data": {
      "text/plain": [
       "'ada:ft-lsmoepfl-2022-09-02-18-05-09'"
      ]
     },
     "execution_count": 53,
     "metadata": {},
     "output_type": "execute_result"
    }
   ],
   "source": [
    "d[0]['meta']['model']"
   ]
  },
  {
   "cell_type": "code",
   "execution_count": 63,
   "metadata": {},
   "outputs": [],
   "source": [
    "smiles_to_sample_from = {}\n",
    "\n",
    "for subd in d:\n",
    "    smiles= subd['predictions'][subd['valid_smiles']][~np.array(subd['smiles_in_train'])]\n",
    "    smiles_to_sample_from[subd['meta']['temperature']] = smiles"
   ]
  },
  {
   "cell_type": "code",
   "execution_count": 67,
   "metadata": {},
   "outputs": [],
   "source": [
    "sampled_smiles = {}\n",
    "\n",
    "for t, smiles in smiles_to_sample_from.items():\n",
    "    try:\n",
    "        sampled_smiles[t] = random.sample(list(smiles), 3)\n",
    "    except Exception:\n",
    "        pass"
   ]
  },
  {
   "cell_type": "code",
   "execution_count": 69,
   "metadata": {},
   "outputs": [
    {
     "name": "stdout",
     "output_type": "stream",
     "text": [
      "CN(C)C1=CC=C(/N=N/C2=CC=C(N(C)C)C=C2)C=C1\n",
      "O=[N+]([O-])C1=CC=C(/N=N/C2=CC=C(N(C)C)C=C2)C=C1\n",
      "CC1=C(C(C)=NN1)/N=N/C2=CC=CC=C2\n",
      "O=C(O)C1=CC=C(/N=N/C2=CC=CC=C2)C=C1\n",
      "OC%28=C(N=CC=C%29)C%29=C(/N=N/C%30=CC=C(C(C)=O)C=C%30)C=C%28\n",
      "CCN(CC)C(C=C1)=CC=C1/N=N/C2=CC=C(N(CC)CC)C=C2\n",
      "NC1=CC=CC=C1/N=N/C2=CC=CC=C2\n",
      "CC1=C(/N=N/C2=C(C)C=CC=C2C#N)C(C)=NO1\n",
      "OC%23=C(N=CC=C%24)C%24=C(/N=N/C%25=CC=CC=C%25)C=C%23\n",
      "OC1=C(/N=N/C2=CC=CC=C2)C=CC=C1\n",
      "CC1=NOC(C)=C1/N=N/C2=CC=C(C(O)=O)C=C2\n",
      "BrC1=CC=CC(/N=N/C2=CC=C(NCCC#N)C=C2)=CC=C1\n",
      "CN(C=C1C)C=C1/N=N/C2=C(Br)C=CC=C2Br\n",
      "[H]C7=CC(N(CCO)CCC#N)=CC=C7/N=N/C8=CC=C([N+]([O-])=O)C=C8\n",
      "[H]N(C)C1=CC=C(/N=N/C2=CC=CN=C2)C=C1\n",
      "CN(OB)C1=CC(NC(C)=O)=CC=C1/N=N/C2=CC=C([N+]([O-])=O)C=C2\n",
      "CC(C=C(N(CCC#N)CCO)C=C1)=C1/N=N/C2=C(OC)C=C(OC)C=C2\n",
      "FC%21=CC(S)=CC(F)=C%21/N=N/C%22=CC=CC=C%22\n"
     ]
    }
   ],
   "source": [
    "sampled_smiles_all = []\n",
    "for _, s in sampled_smiles.items():\n",
    "    sampled_smiles_all.extend(s)\n",
    "\n",
    "for s in sampled_smiles_all:\n",
    "    print(s)"
   ]
  },
  {
   "cell_type": "code",
   "execution_count": null,
   "metadata": {},
   "outputs": [],
   "source": []
  }
 ],
 "metadata": {
  "kernelspec": {
   "display_name": "Python 3.9.13 ('gpt3')",
   "language": "python",
   "name": "python3"
  },
  "language_info": {
   "codemirror_mode": {
    "name": "ipython",
    "version": 3
   },
   "file_extension": ".py",
   "mimetype": "text/x-python",
   "name": "python",
   "nbconvert_exporter": "python",
   "pygments_lexer": "ipython3",
   "version": "3.9.13"
  },
  "orig_nbformat": 4,
  "vscode": {
   "interpreter": {
    "hash": "9a4fa60962de90e73b5da8d67a44b01d2de04630d82b94b8db1f727a73d31e61"
   }
  }
 },
 "nbformat": 4,
 "nbformat_minor": 2
}
