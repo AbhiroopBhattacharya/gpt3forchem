{
 "cells": [
  {
   "cell_type": "code",
   "execution_count": null,
   "metadata": {},
   "outputs": [],
   "source": [
    "from glob import glob \n",
    "from fastcore.helpers import load_pickle\n",
    "import pandas as pd \n",
    "import matplotlib.pyplot as plt \n",
    "import numpy as np \n",
    "plt.style.use(['science', 'nature'])"
   ]
  },
  {
   "cell_type": "code",
   "execution_count": null,
   "metadata": {},
   "outputs": [],
   "source": [
    "all_results = glob('results/20220919_polymer_inverse/*.pkl')"
   ]
  },
  {
   "cell_type": "code",
   "execution_count": null,
   "metadata": {},
   "outputs": [
    {
     "data": {
      "text/plain": [
       "['results/20220919_polymer_inverse/2022-09-19-17-29-13_results.pkl',\n",
       " 'results/20220919_polymer_inverse/2022-09-19-17-01-14_results.pkl']"
      ]
     },
     "execution_count": null,
     "metadata": {},
     "output_type": "execute_result"
    }
   ],
   "source": [
    "all_results"
   ]
  },
  {
   "cell_type": "code",
   "execution_count": null,
   "metadata": {},
   "outputs": [],
   "source": [
    "d = load_pickle(all_results[0])"
   ]
  },
  {
   "cell_type": "code",
   "execution_count": null,
   "metadata": {},
   "outputs": [
    {
     "data": {
      "text/plain": [
       "Index(['distances', 'min', 'max', 'mean', 'expected_len', 'found_len',\n",
       "       'monomer_squence', 'composition', 'smiles', 'prediction',\n",
       "       'Levenshtein_min', 'Levenshtein_max', 'Levenshtein_mean',\n",
       "       'Levenshtein_std', 'NormalizedLevenshtein_min',\n",
       "       'NormalizedLevenshtein_max', 'NormalizedLevenshtein_mean',\n",
       "       'NormalizedLevenshtein_std', 'LongestCommonSubsequence_min',\n",
       "       'LongestCommonSubsequence_max', 'LongestCommonSubsequence_mean',\n",
       "       'LongestCommonSubsequence_std', 'loss'],\n",
       "      dtype='object')"
      ]
     },
     "execution_count": null,
     "metadata": {},
     "output_type": "execute_result"
    }
   ],
   "source": [
    "d['metrics'][0][1].columns"
   ]
  },
  {
   "cell_type": "code",
   "execution_count": null,
   "metadata": {},
   "outputs": [],
   "source": [
    "def summarize_at_temperature(subd): \n",
    "    mean_loss = np.mean(subd[0])\n",
    "    mean_composition_mismatch = subd[1]['mean'].mean()\n",
    "    mean_min_norm_lev = subd[1]['NormalizedLevenshtein_min'].min()\n",
    "    mean_mean_norm_lev = subd[1]['NormalizedLevenshtein_mean'].mean()\n",
    "    longest_common_subs_max_mean = subd[1]['LongestCommonSubsequence_max'].mean()\n",
    "    longest_common_subs_mean_mean = subd[1]['LongestCommonSubsequence_mean'].mean()\n",
    "    \n",
    "    return {\n",
    "        'mean_loss': mean_loss, \n",
    "        'mean_composition_mismatch': mean_composition_mismatch, \n",
    "        'mean_min_norm_lev': mean_min_norm_lev,\n",
    "        'mean_mean_norm_lev': mean_mean_norm_lev, \n",
    "        'longest_common_subs_max_mean': longest_common_subs_max_mean\n",
    "    }"
   ]
  },
  {
   "cell_type": "code",
   "execution_count": null,
   "metadata": {},
   "outputs": [],
   "source": [
    "combined_results = []\n",
    "optimal_results = []\n",
    "for res in all_results: \n",
    "    try:\n",
    "        d = load_pickle(res) \n",
    "        for t, td in d['metrics'].items():\n",
    "            td_sum = summarize_at_temperature(td)\n",
    "            td_sum['temperature'] = t\n",
    "\n",
    "            combined_results.append(td_sum)\n",
    "\n",
    "\n",
    "        td_sum = summarize_at_temperature(d['optimal_metrics'])\n",
    "\n",
    "        optimal_results.append(td_sum)\n",
    "    except Exception:\n",
    "        pass"
   ]
  },
  {
   "cell_type": "code",
   "execution_count": null,
   "metadata": {},
   "outputs": [],
   "source": [
    "combined_results = pd.DataFrame(combined_results)"
   ]
  },
  {
   "cell_type": "code",
   "execution_count": null,
   "metadata": {},
   "outputs": [],
   "source": [
    "temperature & maximum common subsequence & composition mismatch & MAE "
   ]
  },
  {
   "cell_type": "code",
   "execution_count": null,
   "metadata": {},
   "outputs": [
    {
     "data": {
      "text/html": [
       "<div>\n",
       "<style scoped>\n",
       "    .dataframe tbody tr th:only-of-type {\n",
       "        vertical-align: middle;\n",
       "    }\n",
       "\n",
       "    .dataframe tbody tr th {\n",
       "        vertical-align: top;\n",
       "    }\n",
       "\n",
       "    .dataframe thead th {\n",
       "        text-align: right;\n",
       "    }\n",
       "</style>\n",
       "<table border=\"1\" class=\"dataframe\">\n",
       "  <thead>\n",
       "    <tr style=\"text-align: right;\">\n",
       "      <th></th>\n",
       "      <th>temperature</th>\n",
       "      <th>longest_common_subs_max_mean</th>\n",
       "      <th>mean_composition_mismatch</th>\n",
       "      <th>mean_loss</th>\n",
       "    </tr>\n",
       "  </thead>\n",
       "  <tbody>\n",
       "    <tr>\n",
       "      <th>0</th>\n",
       "      <td>0.00</td>\n",
       "      <td>58.55</td>\n",
       "      <td>4.26</td>\n",
       "      <td>3.07</td>\n",
       "    </tr>\n",
       "    <tr>\n",
       "      <th>1</th>\n",
       "      <td>0.25</td>\n",
       "      <td>59.63</td>\n",
       "      <td>4.26</td>\n",
       "      <td>3.10</td>\n",
       "    </tr>\n",
       "    <tr>\n",
       "      <th>2</th>\n",
       "      <td>0.50</td>\n",
       "      <td>60.26</td>\n",
       "      <td>4.26</td>\n",
       "      <td>3.04</td>\n",
       "    </tr>\n",
       "    <tr>\n",
       "      <th>3</th>\n",
       "      <td>0.75</td>\n",
       "      <td>60.91</td>\n",
       "      <td>4.26</td>\n",
       "      <td>3.06</td>\n",
       "    </tr>\n",
       "    <tr>\n",
       "      <th>4</th>\n",
       "      <td>1.00</td>\n",
       "      <td>61.24</td>\n",
       "      <td>4.28</td>\n",
       "      <td>3.09</td>\n",
       "    </tr>\n",
       "    <tr>\n",
       "      <th>5</th>\n",
       "      <td>1.25</td>\n",
       "      <td>62.09</td>\n",
       "      <td>4.29</td>\n",
       "      <td>3.08</td>\n",
       "    </tr>\n",
       "    <tr>\n",
       "      <th>6</th>\n",
       "      <td>1.50</td>\n",
       "      <td>65.87</td>\n",
       "      <td>3.85</td>\n",
       "      <td>3.01</td>\n",
       "    </tr>\n",
       "  </tbody>\n",
       "</table>\n",
       "</div>"
      ],
      "text/plain": [
       "   temperature  longest_common_subs_max_mean  mean_composition_mismatch  \\\n",
       "0         0.00                         58.55                       4.26   \n",
       "1         0.25                         59.63                       4.26   \n",
       "2         0.50                         60.26                       4.26   \n",
       "3         0.75                         60.91                       4.26   \n",
       "4         1.00                         61.24                       4.28   \n",
       "5         1.25                         62.09                       4.29   \n",
       "6         1.50                         65.87                       3.85   \n",
       "\n",
       "   mean_loss  \n",
       "0       3.07  \n",
       "1       3.10  \n",
       "2       3.04  \n",
       "3       3.06  \n",
       "4       3.09  \n",
       "5       3.08  \n",
       "6       3.01  "
      ]
     },
     "execution_count": null,
     "metadata": {},
     "output_type": "execute_result"
    }
   ],
   "source": [
    "combined_results[['temperature', 'longest_common_subs_max_mean', 'mean_composition_mismatch', 'mean_loss']].round(2)"
   ]
  },
  {
   "cell_type": "code",
   "execution_count": null,
   "metadata": {},
   "outputs": [],
   "source": [
    "round"
   ]
  }
 ],
 "metadata": {
  "kernelspec": {
   "display_name": "Python [conda env:gpt3] *",
   "language": "python",
   "name": "conda-env-gpt3-py"
  }
 },
 "nbformat": 4,
 "nbformat_minor": 4
}
