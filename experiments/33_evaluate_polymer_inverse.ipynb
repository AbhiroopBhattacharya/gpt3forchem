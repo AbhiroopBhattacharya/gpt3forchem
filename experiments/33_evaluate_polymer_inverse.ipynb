{
 "cells": [
  {
   "cell_type": "code",
   "execution_count": 104,
   "metadata": {},
   "outputs": [
    {
     "name": "stderr",
     "output_type": "stream",
     "text": [
      "/Users/kevinmaikjablonka/miniconda3/envs/gpt3/lib/python3.9/site-packages/gpflow/experimental/utils.py:42: UserWarning: You're calling gpflow.experimental.check_shapes.decorator.check_shapes which is considered *experimental*. Expect: breaking changes, poor documentation, and bugs.\n",
      "  warn(\n",
      "/Users/kevinmaikjablonka/miniconda3/envs/gpt3/lib/python3.9/site-packages/gpflow/experimental/utils.py:42: UserWarning: You're calling gpflow.experimental.check_shapes.inheritance.inherit_check_shapes which is considered *experimental*. Expect: breaking changes, poor documentation, and bugs.\n",
      "  warn(\n",
      "/Users/kevinmaikjablonka/miniconda3/envs/gpt3/lib/python3.9/site-packages/tqdm/auto.py:22: TqdmWarning: IProgress not found. Please update jupyter and ipywidgets. See https://ipywidgets.readthedocs.io/en/stable/user_install.html\n",
      "  from .autonotebook import tqdm as notebook_tqdm\n"
     ]
    }
   ],
   "source": [
    "from glob import glob \n",
    "from fastcore.helpers import load_pickle\n",
    "import pandas as pd \n",
    "import matplotlib.pyplot as plt \n",
    "import numpy as np \n",
    "from gpt3forchem.output import get_polymer_prompt_data\n",
    "plt.style.use(['science', 'nature'])"
   ]
  },
  {
   "cell_type": "code",
   "execution_count": 2,
   "metadata": {},
   "outputs": [],
   "source": [
    "all_results = glob('results/20220919_polymer_inverse/*.pkl')"
   ]
  },
  {
   "cell_type": "code",
   "execution_count": 3,
   "metadata": {},
   "outputs": [
    {
     "data": {
      "text/plain": [
       "['results/20220919_polymer_inverse/2022-09-20-16-33-10_results.pkl',\n",
       " 'results/20220919_polymer_inverse/2022-09-19-17-29-13_results.pkl',\n",
       " 'results/20220919_polymer_inverse/2022-09-19-17-01-14_results.pkl',\n",
       " 'results/20220919_polymer_inverse/2022-09-20-16-57-08_results.pkl']"
      ]
     },
     "execution_count": 3,
     "metadata": {},
     "output_type": "execute_result"
    }
   ],
   "source": [
    "all_results"
   ]
  },
  {
   "cell_type": "code",
   "execution_count": 84,
   "metadata": {},
   "outputs": [],
   "source": [
    "d = load_pickle(all_results[0])"
   ]
  },
  {
   "cell_type": "code",
   "execution_count": 109,
   "metadata": {},
   "outputs": [
    {
     "data": {
      "text/plain": [
       "'what is a polymer with large adsorption energy and 4 A, 4 B, 12 W, and 12 R?###'"
      ]
     },
     "execution_count": 109,
     "metadata": {},
     "output_type": "execute_result"
    }
   ],
   "source": [
    "pd.read_json(d['valid_file'], lines=True, orient='records')['prompt'].iloc[0]"
   ]
  },
  {
   "cell_type": "code",
   "execution_count": 106,
   "metadata": {},
   "outputs": [
    {
     "data": {
      "text/plain": [
       "0      {'R': 2, 'W': 2, 'A': 4, 'B': 4}\n",
       "1      {'R': 8, 'W': 8, 'A': 6, 'B': 8}\n",
       "2      {'R': 8, 'W': 2, 'A': 2, 'B': 8}\n",
       "3      {'R': 2, 'W': 6, 'A': 8, 'B': 2}\n",
       "4      {'R': 0, 'W': 8, 'A': 0, 'B': 0}\n",
       "                     ...               \n",
       "308    {'R': 6, 'W': 0, 'A': 0, 'B': 2}\n",
       "309    {'R': 4, 'W': 2, 'A': 0, 'B': 8}\n",
       "310    {'R': 0, 'W': 4, 'A': 4, 'B': 8}\n",
       "311    {'R': 0, 'W': 0, 'A': 4, 'B': 8}\n",
       "312    {'R': 0, 'W': 4, 'A': 8, 'B': 6}\n",
       "Name: prompt, Length: 313, dtype: object"
      ]
     },
     "execution_count": 106,
     "metadata": {},
     "output_type": "execute_result"
    }
   ],
   "source": [
    "pd.read_json(d['valid_file'], lines=True, orient='records')['prompt'].apply(lambda x: get_polymer_prompt_data(x)[0])"
   ]
  },
  {
   "cell_type": "code",
   "execution_count": 49,
   "metadata": {},
   "outputs": [],
   "source": [
    "def summarize_at_temperature(subd, t, d): \n",
    "    val_data = pd.read_json(d['valid_file'], lines=True, orient='records')\n",
    "    \n",
    "    mean_loss = np.mean(subd[0])\n",
    "    mean_composition_mismatch = subd[1]['mean'].mean()\n",
    "    mean_min_norm_lev = subd[1]['NormalizedLevenshtein_min'].min()\n",
    "    mean_mean_norm_lev = subd[1]['NormalizedLevenshtein_mean'].mean()\n",
    "    longest_common_subs_max_mean = (subd[1]['LongestCommonSubsequence_max']/subd[1]['smiles'].apply(lambda x: len(x))).mean()\n",
    "    longest_common_subs_mean_mean = (subd[1]['LongestCommonSubsequence_mean']/subd[1]['smiles'].apply(lambda x: len(x))).mean()\n",
    "    frac_valid = len(subd[1])/len(d['predictions'][t])\n",
    "    return {\n",
    "        'mean_loss': mean_loss, \n",
    "        'mean_composition_mismatch': mean_composition_mismatch, \n",
    "        'mean_min_norm_lev': mean_min_norm_lev,\n",
    "        'mean_mean_norm_lev': mean_mean_norm_lev, \n",
    "        'longest_common_subs_max_mean': longest_common_subs_max_mean,\n",
    "        'frac_valid': frac_valid\n",
    "    }"
   ]
  },
  {
   "cell_type": "code",
   "execution_count": 68,
   "metadata": {},
   "outputs": [],
   "source": [
    "combined_results = []\n",
    "optimal_results = []\n",
    "for res in all_results: \n",
    "    try:\n",
    "        d = load_pickle(res) \n",
    "        for t, td in d['metrics'].items():\n",
    "            td_sum = summarize_at_temperature(td, t, d)\n",
    "            td_sum['temperature'] = t\n",
    "\n",
    "            combined_results.append(td_sum)\n",
    "\n",
    "\n",
    "        td_sum = summarize_at_temperature(d['optimal_metrics'], t, d)\n",
    "\n",
    "        optimal_results.append(td_sum)\n",
    "    except Exception:\n",
    "        pass"
   ]
  },
  {
   "cell_type": "code",
   "execution_count": 69,
   "metadata": {},
   "outputs": [
    {
     "data": {
      "text/plain": [
       "[{'mean_loss': 3.093990835092083,\n",
       "  'mean_composition_mismatch': 3.9536741214057507,\n",
       "  'mean_min_norm_lev': 0.14545454545454545,\n",
       "  'mean_mean_norm_lev': 0.39870773944352805,\n",
       "  'longest_common_subs_max_mean': 0.550439674267297,\n",
       "  'frac_valid': 1.0},\n",
       " {'mean_loss': 3.0630722756851894,\n",
       "  'mean_composition_mismatch': 4.0095846645367414,\n",
       "  'mean_min_norm_lev': 0.19607843137254902,\n",
       "  'mean_mean_norm_lev': 0.3964039276245443,\n",
       "  'longest_common_subs_max_mean': 0.5483179366169209,\n",
       "  'frac_valid': 1.0},\n",
       " {'mean_loss': 3.1088144975065295,\n",
       "  'mean_composition_mismatch': 4.017571884984026,\n",
       "  'mean_min_norm_lev': 0.2033898305084746,\n",
       "  'mean_mean_norm_lev': 0.3999965845012095,\n",
       "  'longest_common_subs_max_mean': 0.5558546254085541,\n",
       "  'frac_valid': 1.0}]"
      ]
     },
     "execution_count": 69,
     "metadata": {},
     "output_type": "execute_result"
    }
   ],
   "source": [
    "optimal_results"
   ]
  },
  {
   "cell_type": "code",
   "execution_count": 51,
   "metadata": {},
   "outputs": [],
   "source": [
    "combined_results = pd.DataFrame(combined_results)"
   ]
  },
  {
   "cell_type": "code",
   "execution_count": 70,
   "metadata": {},
   "outputs": [],
   "source": [
    "optimal_results = pd.DataFrame(optimal_results)"
   ]
  },
  {
   "cell_type": "code",
   "execution_count": 72,
   "metadata": {},
   "outputs": [
    {
     "data": {
      "text/html": [
       "<div>\n",
       "<style scoped>\n",
       "    .dataframe tbody tr th:only-of-type {\n",
       "        vertical-align: middle;\n",
       "    }\n",
       "\n",
       "    .dataframe tbody tr th {\n",
       "        vertical-align: top;\n",
       "    }\n",
       "\n",
       "    .dataframe thead th {\n",
       "        text-align: right;\n",
       "    }\n",
       "</style>\n",
       "<table border=\"1\" class=\"dataframe\">\n",
       "  <thead>\n",
       "    <tr style=\"text-align: right;\">\n",
       "      <th></th>\n",
       "      <th>mean_loss</th>\n",
       "      <th>mean_composition_mismatch</th>\n",
       "      <th>mean_min_norm_lev</th>\n",
       "      <th>mean_mean_norm_lev</th>\n",
       "      <th>longest_common_subs_max_mean</th>\n",
       "      <th>frac_valid</th>\n",
       "    </tr>\n",
       "  </thead>\n",
       "  <tbody>\n",
       "    <tr>\n",
       "      <th>mean</th>\n",
       "      <td>3.088626</td>\n",
       "      <td>3.993610</td>\n",
       "      <td>0.181641</td>\n",
       "      <td>0.398369</td>\n",
       "      <td>0.551537</td>\n",
       "      <td>1.0</td>\n",
       "    </tr>\n",
       "    <tr>\n",
       "      <th>std</th>\n",
       "      <td>0.023338</td>\n",
       "      <td>0.034815</td>\n",
       "      <td>0.031551</td>\n",
       "      <td>0.001820</td>\n",
       "      <td>0.003886</td>\n",
       "      <td>0.0</td>\n",
       "    </tr>\n",
       "  </tbody>\n",
       "</table>\n",
       "</div>"
      ],
      "text/plain": [
       "      mean_loss  mean_composition_mismatch  mean_min_norm_lev  \\\n",
       "mean   3.088626                   3.993610           0.181641   \n",
       "std    0.023338                   0.034815           0.031551   \n",
       "\n",
       "      mean_mean_norm_lev  longest_common_subs_max_mean  frac_valid  \n",
       "mean            0.398369                      0.551537         1.0  \n",
       "std             0.001820                      0.003886         0.0  "
      ]
     },
     "execution_count": 72,
     "metadata": {},
     "output_type": "execute_result"
    }
   ],
   "source": [
    "optimal_results.agg(['mean', 'std'])"
   ]
  },
  {
   "cell_type": "code",
   "execution_count": 57,
   "metadata": {},
   "outputs": [
    {
     "data": {
      "text/html": [
       "<div>\n",
       "<style scoped>\n",
       "    .dataframe tbody tr th:only-of-type {\n",
       "        vertical-align: middle;\n",
       "    }\n",
       "\n",
       "    .dataframe tbody tr th {\n",
       "        vertical-align: top;\n",
       "    }\n",
       "\n",
       "    .dataframe thead tr th {\n",
       "        text-align: left;\n",
       "    }\n",
       "\n",
       "    .dataframe thead tr:last-of-type th {\n",
       "        text-align: right;\n",
       "    }\n",
       "</style>\n",
       "<table border=\"1\" class=\"dataframe\">\n",
       "  <thead>\n",
       "    <tr>\n",
       "      <th></th>\n",
       "      <th colspan=\"3\" halign=\"left\">longest_common_subs_max_mean</th>\n",
       "      <th colspan=\"3\" halign=\"left\">mean_composition_mismatch</th>\n",
       "      <th colspan=\"3\" halign=\"left\">mean_loss</th>\n",
       "      <th colspan=\"3\" halign=\"left\">frac_valid</th>\n",
       "    </tr>\n",
       "    <tr>\n",
       "      <th></th>\n",
       "      <th>mean</th>\n",
       "      <th>std</th>\n",
       "      <th>count</th>\n",
       "      <th>mean</th>\n",
       "      <th>std</th>\n",
       "      <th>count</th>\n",
       "      <th>mean</th>\n",
       "      <th>std</th>\n",
       "      <th>count</th>\n",
       "      <th>mean</th>\n",
       "      <th>std</th>\n",
       "      <th>count</th>\n",
       "    </tr>\n",
       "    <tr>\n",
       "      <th>temperature</th>\n",
       "      <th></th>\n",
       "      <th></th>\n",
       "      <th></th>\n",
       "      <th></th>\n",
       "      <th></th>\n",
       "      <th></th>\n",
       "      <th></th>\n",
       "      <th></th>\n",
       "      <th></th>\n",
       "      <th></th>\n",
       "      <th></th>\n",
       "      <th></th>\n",
       "    </tr>\n",
       "  </thead>\n",
       "  <tbody>\n",
       "    <tr>\n",
       "      <th>0.00</th>\n",
       "      <td>0.523333</td>\n",
       "      <td>0.005774</td>\n",
       "      <td>3</td>\n",
       "      <td>4.240000</td>\n",
       "      <td>0.043589</td>\n",
       "      <td>3</td>\n",
       "      <td>3.096667</td>\n",
       "      <td>0.030551</td>\n",
       "      <td>3</td>\n",
       "      <td>1.000000</td>\n",
       "      <td>0.000000</td>\n",
       "      <td>3</td>\n",
       "    </tr>\n",
       "    <tr>\n",
       "      <th>0.25</th>\n",
       "      <td>0.533333</td>\n",
       "      <td>0.005774</td>\n",
       "      <td>3</td>\n",
       "      <td>4.240000</td>\n",
       "      <td>0.043589</td>\n",
       "      <td>3</td>\n",
       "      <td>3.086667</td>\n",
       "      <td>0.011547</td>\n",
       "      <td>3</td>\n",
       "      <td>1.000000</td>\n",
       "      <td>0.000000</td>\n",
       "      <td>3</td>\n",
       "    </tr>\n",
       "    <tr>\n",
       "      <th>0.50</th>\n",
       "      <td>0.540000</td>\n",
       "      <td>0.000000</td>\n",
       "      <td>3</td>\n",
       "      <td>4.240000</td>\n",
       "      <td>0.043589</td>\n",
       "      <td>3</td>\n",
       "      <td>3.060000</td>\n",
       "      <td>0.020000</td>\n",
       "      <td>3</td>\n",
       "      <td>1.000000</td>\n",
       "      <td>0.000000</td>\n",
       "      <td>3</td>\n",
       "    </tr>\n",
       "    <tr>\n",
       "      <th>0.75</th>\n",
       "      <td>0.546667</td>\n",
       "      <td>0.005774</td>\n",
       "      <td>3</td>\n",
       "      <td>4.243333</td>\n",
       "      <td>0.037859</td>\n",
       "      <td>3</td>\n",
       "      <td>3.073333</td>\n",
       "      <td>0.015275</td>\n",
       "      <td>3</td>\n",
       "      <td>1.000000</td>\n",
       "      <td>0.000000</td>\n",
       "      <td>3</td>\n",
       "    </tr>\n",
       "    <tr>\n",
       "      <th>1.00</th>\n",
       "      <td>0.550000</td>\n",
       "      <td>0.000000</td>\n",
       "      <td>3</td>\n",
       "      <td>4.266667</td>\n",
       "      <td>0.032146</td>\n",
       "      <td>3</td>\n",
       "      <td>3.066667</td>\n",
       "      <td>0.025166</td>\n",
       "      <td>3</td>\n",
       "      <td>1.000000</td>\n",
       "      <td>0.000000</td>\n",
       "      <td>3</td>\n",
       "    </tr>\n",
       "    <tr>\n",
       "      <th>1.25</th>\n",
       "      <td>0.553333</td>\n",
       "      <td>0.005774</td>\n",
       "      <td>3</td>\n",
       "      <td>4.200000</td>\n",
       "      <td>0.079373</td>\n",
       "      <td>3</td>\n",
       "      <td>3.096667</td>\n",
       "      <td>0.015275</td>\n",
       "      <td>3</td>\n",
       "      <td>0.996667</td>\n",
       "      <td>0.005774</td>\n",
       "      <td>3</td>\n",
       "    </tr>\n",
       "    <tr>\n",
       "      <th>1.50</th>\n",
       "      <td>0.580000</td>\n",
       "      <td>0.000000</td>\n",
       "      <td>3</td>\n",
       "      <td>3.976667</td>\n",
       "      <td>0.120554</td>\n",
       "      <td>3</td>\n",
       "      <td>3.083333</td>\n",
       "      <td>0.063509</td>\n",
       "      <td>3</td>\n",
       "      <td>0.963333</td>\n",
       "      <td>0.005774</td>\n",
       "      <td>3</td>\n",
       "    </tr>\n",
       "  </tbody>\n",
       "</table>\n",
       "</div>"
      ],
      "text/plain": [
       "            longest_common_subs_max_mean                  \\\n",
       "                                    mean       std count   \n",
       "temperature                                                \n",
       "0.00                            0.523333  0.005774     3   \n",
       "0.25                            0.533333  0.005774     3   \n",
       "0.50                            0.540000  0.000000     3   \n",
       "0.75                            0.546667  0.005774     3   \n",
       "1.00                            0.550000  0.000000     3   \n",
       "1.25                            0.553333  0.005774     3   \n",
       "1.50                            0.580000  0.000000     3   \n",
       "\n",
       "            mean_composition_mismatch                 mean_loss            \\\n",
       "                                 mean       std count      mean       std   \n",
       "temperature                                                                 \n",
       "0.00                         4.240000  0.043589     3  3.096667  0.030551   \n",
       "0.25                         4.240000  0.043589     3  3.086667  0.011547   \n",
       "0.50                         4.240000  0.043589     3  3.060000  0.020000   \n",
       "0.75                         4.243333  0.037859     3  3.073333  0.015275   \n",
       "1.00                         4.266667  0.032146     3  3.066667  0.025166   \n",
       "1.25                         4.200000  0.079373     3  3.096667  0.015275   \n",
       "1.50                         3.976667  0.120554     3  3.083333  0.063509   \n",
       "\n",
       "                  frac_valid                  \n",
       "            count       mean       std count  \n",
       "temperature                                   \n",
       "0.00            3   1.000000  0.000000     3  \n",
       "0.25            3   1.000000  0.000000     3  \n",
       "0.50            3   1.000000  0.000000     3  \n",
       "0.75            3   1.000000  0.000000     3  \n",
       "1.00            3   1.000000  0.000000     3  \n",
       "1.25            3   0.996667  0.005774     3  \n",
       "1.50            3   0.963333  0.005774     3  "
      ]
     },
     "execution_count": 57,
     "metadata": {},
     "output_type": "execute_result"
    }
   ],
   "source": [
    "agg_frame = combined_results[['temperature', 'longest_common_subs_max_mean', 'mean_composition_mismatch', 'mean_loss', 'frac_valid']].round(2).groupby('temperature').agg(['mean', 'std', 'count'])\n",
    "agg_frame"
   ]
  },
  {
   "cell_type": "code",
   "execution_count": null,
   "metadata": {},
   "outputs": [],
   "source": [
    "temperature & fraction valid & maximum common subsequence & composition mismatch & MAE \\\\"
   ]
  },
  {
   "cell_type": "code",
   "execution_count": 56,
   "metadata": {},
   "outputs": [],
   "source": [
    "def create_classification_performance_table(df):\n",
    "    rows = []\n",
    "    row_template = \"{temperature} & \\\\num⁍ {frac_valid} \\\\pm {frac_valid_std} ⁌ &  \\\\num⁍ {longest_common_subs_max_mean} \\\\pm {longest_common_subs_max_mean_std}  ⁌ & \\\\num⁍ {mean_composition_mismatch} \\\\pm {mean_composition_mismatch_std} ⁌  & \\\\num⁍ {mean_loss} \\\\pm {mean_loss_std} ⁌ \\\\\\\\\"\n",
    "    for i, row in df.round(2).iterrows():\n",
    "        row_dict = {\n",
    "            \"temperature\": row.name,\n",
    "            \"frac_valid\": row[\"frac_valid\"][\"mean\"],\n",
    "            \"frac_valid_std\": row[\"frac_valid\"][\"std\"],\n",
    "            \"longest_common_subs_max_mean\": row[\"longest_common_subs_max_mean\"][\"mean\"],\n",
    "            \"longest_common_subs_max_mean_std\": row[\"longest_common_subs_max_mean\"][\"std\"],\n",
    "            \"mean_composition_mismatch\": row[\"mean_composition_mismatch\"][\"mean\"],\n",
    "            \"mean_composition_mismatch_std\": row[\"mean_composition_mismatch\"][\"std\"],\n",
    "            \"mean_loss\": row[\"mean_loss\"][\"mean\"],\n",
    "            \"mean_loss_std\": row[\"mean_loss\"][\"std\"],\n",
    "        }\n",
    "        rows.append(row_template.format(**row_dict).replace(\"⁍\", \"{\").replace(\"⁌\", \"}\"))\n",
    "    return rows"
   ]
  },
  {
   "cell_type": "code",
   "execution_count": 60,
   "metadata": {},
   "outputs": [
    {
     "name": "stdout",
     "output_type": "stream",
     "text": [
      "0.0 & \\num{ 1.0 \\pm 0.0 } &  \\num{ 0.52 \\pm 0.01  } & \\num{ 4.24 \\pm 0.04 }  & \\num{ 3.1 \\pm 0.03 } \\\\\n",
      "0.25 & \\num{ 1.0 \\pm 0.0 } &  \\num{ 0.53 \\pm 0.01  } & \\num{ 4.24 \\pm 0.04 }  & \\num{ 3.09 \\pm 0.01 } \\\\\n",
      "0.5 & \\num{ 1.0 \\pm 0.0 } &  \\num{ 0.54 \\pm 0.0  } & \\num{ 4.24 \\pm 0.04 }  & \\num{ 3.06 \\pm 0.02 } \\\\\n",
      "0.75 & \\num{ 1.0 \\pm 0.0 } &  \\num{ 0.55 \\pm 0.01  } & \\num{ 4.24 \\pm 0.04 }  & \\num{ 3.07 \\pm 0.02 } \\\\\n",
      "1.0 & \\num{ 1.0 \\pm 0.0 } &  \\num{ 0.55 \\pm 0.0  } & \\num{ 4.27 \\pm 0.03 }  & \\num{ 3.07 \\pm 0.03 } \\\\\n",
      "1.25 & \\num{ 1.0 \\pm 0.01 } &  \\num{ 0.55 \\pm 0.01  } & \\num{ 4.2 \\pm 0.08 }  & \\num{ 3.1 \\pm 0.02 } \\\\\n",
      "1.5 & \\num{ 0.96 \\pm 0.01 } &  \\num{ 0.58 \\pm 0.0  } & \\num{ 3.98 \\pm 0.12 }  & \\num{ 3.08 \\pm 0.06 } \\\\\n"
     ]
    }
   ],
   "source": [
    "print('\\n'.join(create_classification_performance_table(agg_frame)))"
   ]
  },
  {
   "cell_type": "code",
   "execution_count": null,
   "metadata": {},
   "outputs": [],
   "source": []
  }
 ],
 "metadata": {
  "kernelspec": {
   "display_name": "Python 3.9.13 ('gpt3')",
   "language": "python",
   "name": "python3"
  },
  "language_info": {
   "codemirror_mode": {
    "name": "ipython",
    "version": 3
   },
   "file_extension": ".py",
   "mimetype": "text/x-python",
   "name": "python",
   "nbconvert_exporter": "python",
   "pygments_lexer": "ipython3",
   "version": "3.9.13"
  },
  "vscode": {
   "interpreter": {
    "hash": "9a4fa60962de90e73b5da8d67a44b01d2de04630d82b94b8db1f727a73d31e61"
   }
  }
 },
 "nbformat": 4,
 "nbformat_minor": 4
}
