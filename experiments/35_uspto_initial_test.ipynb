{
 "cells": [
  {
   "cell_type": "code",
   "execution_count": null,
   "id": "82e63652-32f6-424b-8310-7c8e2db3b3dd",
   "metadata": {},
   "outputs": [],
   "source": [
    "from gpt3forchem.data import get_uspto_yield_data\n",
    "from gpt3forchem.api_wrappers import fine_tune, query_gpt3, extract_regression_prediction\n",
    "from gpt3forchem.input import create_reaction_yield_prompts\n",
    "\n",
    "from sklearn.model_selection import train_test_split\n",
    "from sklearn.metrics import r2_score\n",
    "import pandas as pd\n",
    "import matplotlib.pyplot as plt\n",
    "import numpy as np\n",
    "\n",
    "import time"
   ]
  },
  {
   "cell_type": "code",
   "execution_count": null,
   "id": "06825c70-c519-45aa-98a4-1f2052ab2699",
   "metadata": {},
   "outputs": [],
   "source": [
    "data = get_uspto_yield_data()"
   ]
  },
  {
   "cell_type": "code",
   "execution_count": null,
   "id": "75a334d1-02a3-4e8d-b9fb-7cb883a43ac2",
   "metadata": {},
   "outputs": [
    {
     "data": {
      "text/html": [
       "<div>\n",
       "<style scoped>\n",
       "    .dataframe tbody tr th:only-of-type {\n",
       "        vertical-align: middle;\n",
       "    }\n",
       "\n",
       "    .dataframe tbody tr th {\n",
       "        vertical-align: top;\n",
       "    }\n",
       "\n",
       "    .dataframe thead th {\n",
       "        text-align: right;\n",
       "    }\n",
       "</style>\n",
       "<table border=\"1\" class=\"dataframe\">\n",
       "  <thead>\n",
       "    <tr style=\"text-align: right;\">\n",
       "      <th></th>\n",
       "      <th>reaction_smiles</th>\n",
       "      <th>yield</th>\n",
       "      <th>mass</th>\n",
       "      <th>yield_text</th>\n",
       "      <th>dl:documentId</th>\n",
       "      <th>dl:paragraphNum</th>\n",
       "      <th>dl:paragraphText</th>\n",
       "      <th>paragraph_without_yield</th>\n",
       "      <th>paragraph_without_yield_and_charac</th>\n",
       "      <th>dl:headingText</th>\n",
       "    </tr>\n",
       "  </thead>\n",
       "  <tbody>\n",
       "    <tr>\n",
       "      <th>0</th>\n",
       "      <td>[C:1]([O:5][C:6](=[O:19])[NH:7][C:8]1[C:13]([F...</td>\n",
       "      <td>86.0</td>\n",
       "      <td>0.00076</td>\n",
       "      <td>refining by means of column chromatography, 0....</td>\n",
       "      <td>US20130317023A1</td>\n",
       "      <td>151</td>\n",
       "      <td>After dissolving the tert-butyl-2,6-difluoro-3...</td>\n",
       "      <td>After dissolving the tert-butyl-2,6-difluoro-3...</td>\n",
       "      <td>After dissolving the tert-butyl-2,6-difluoro-3...</td>\n",
       "      <td>NaN</td>\n",
       "    </tr>\n",
       "    <tr>\n",
       "      <th>1</th>\n",
       "      <td>[NH3:1].CO.C([O:6][C:7]([C:9]1[CH:14]=[C:13]([...</td>\n",
       "      <td>65.0</td>\n",
       "      <td>0.26700</td>\n",
       "      <td>to provide 0.267 g of 4-chloro-6-[3-(4-fluoro-...</td>\n",
       "      <td>US20130303526A1</td>\n",
       "      <td>926</td>\n",
       "      <td>In a 50-ml vial with a screw-top septum, 4-chl...</td>\n",
       "      <td>In a 50-ml vial with a screw-top septum, 4-chl...</td>\n",
       "      <td>In a 50-ml vial with a screw-top septum, 4-chl...</td>\n",
       "      <td>NaN</td>\n",
       "    </tr>\n",
       "    <tr>\n",
       "      <th>2</th>\n",
       "      <td>[CH2:1]([C:7]1([CH2:24][CH2:25][CH2:26][CH2:27...</td>\n",
       "      <td>88.9</td>\n",
       "      <td>48.00000</td>\n",
       "      <td>to thereby obtain 48 g of a mixture of N-tert-...</td>\n",
       "      <td>US20130225834A1</td>\n",
       "      <td>85</td>\n",
       "      <td>In a 500 mL round flask, 9,9-dihexyl-2-methyl-...</td>\n",
       "      <td>In a 500 mL round flask, 9,9-dihexyl-2-methyl-...</td>\n",
       "      <td>In a 500 mL round flask, 9,9-dihexyl-2-methyl-...</td>\n",
       "      <td>NaN</td>\n",
       "    </tr>\n",
       "    <tr>\n",
       "      <th>3</th>\n",
       "      <td>[CH3:1][C:2]1[CH2:3][C:4]2[C:5]([CH:19]=1)=[CH...</td>\n",
       "      <td>91.8</td>\n",
       "      <td>21.00000</td>\n",
       "      <td>to thereby obtain 21.0 g of a mixture of N-ter...</td>\n",
       "      <td>US20130225834A1</td>\n",
       "      <td>96</td>\n",
       "      <td>In a 500 mL round flask, 2,9,9-trimethyl-3,9-d...</td>\n",
       "      <td>In a 500 mL round flask, 2,9,9-trimethyl-3,9-d...</td>\n",
       "      <td>In a 500 mL round flask, 2,9,9-trimethyl-3,9-d...</td>\n",
       "      <td>NaN</td>\n",
       "    </tr>\n",
       "    <tr>\n",
       "      <th>4</th>\n",
       "      <td>[CH3:1][C:2]1[CH2:3][C:4]2[C:5]([CH:45]=1)=[CH...</td>\n",
       "      <td>92.7</td>\n",
       "      <td>5.50000</td>\n",
       "      <td>to thereby obtain 5.5 g of a mixture of N-tert...</td>\n",
       "      <td>US20130225834A1</td>\n",
       "      <td>111</td>\n",
       "      <td>In a 250 mL round flask, 2-methyl-9.9-ditetrad...</td>\n",
       "      <td>In a 250 mL round flask, 2-methyl-9.9-ditetrad...</td>\n",
       "      <td>In a 250 mL round flask, 2-methyl-9.9-ditetrad...</td>\n",
       "      <td>NaN</td>\n",
       "    </tr>\n",
       "    <tr>\n",
       "      <th>...</th>\n",
       "      <td>...</td>\n",
       "      <td>...</td>\n",
       "      <td>...</td>\n",
       "      <td>...</td>\n",
       "      <td>...</td>\n",
       "      <td>...</td>\n",
       "      <td>...</td>\n",
       "      <td>...</td>\n",
       "      <td>...</td>\n",
       "      <td>...</td>\n",
       "    </tr>\n",
       "    <tr>\n",
       "      <th>1550</th>\n",
       "      <td>[CH3:1][O:2][C:3]1[CH:8]=[CH:7][C:6]([CH2:9][C...</td>\n",
       "      <td>89.0</td>\n",
       "      <td>74.00000</td>\n",
       "      <td>the precipitate produced</td>\n",
       "      <td>US20040186310A1</td>\n",
       "      <td>43</td>\n",
       "      <td>50 g (0.34 mole) of p-methoxyphenylacetonitril...</td>\n",
       "      <td>50 g (0.34 mole) of p-methoxyphenylacetonitril...</td>\n",
       "      <td>50 g (0.34 mole) of p-methoxyphenylacetonitril...</td>\n",
       "      <td>NaN</td>\n",
       "    </tr>\n",
       "    <tr>\n",
       "      <th>1551</th>\n",
       "      <td>[CH3:1][O:2][C:3]1[CH:8]=[CH:7][C:6]([CH2:9][C...</td>\n",
       "      <td>72.0</td>\n",
       "      <td>30.00000</td>\n",
       "      <td>the precipitate produced</td>\n",
       "      <td>US20040186310A1</td>\n",
       "      <td>44</td>\n",
       "      <td>25 g (0.17 mole) p-methoxyphenylacetonitrile, ...</td>\n",
       "      <td>25 g (0.17 mole) p-methoxyphenylacetonitrile, ...</td>\n",
       "      <td>25 g (0.17 mole) p-methoxyphenylacetonitrile, ...</td>\n",
       "      <td>NaN</td>\n",
       "    </tr>\n",
       "    <tr>\n",
       "      <th>1552</th>\n",
       "      <td>[CH3:1][O:2][C:3]1[CH:8]=[CH:7][C:6]([CH2:9][C...</td>\n",
       "      <td>34.2</td>\n",
       "      <td>25.20000</td>\n",
       "      <td>to yield 25.2 g of the target compound, 1-[cya...</td>\n",
       "      <td>US20040186310A1</td>\n",
       "      <td>45</td>\n",
       "      <td>50 g (0.34 mole) of p-methoxyphenylacetonitril...</td>\n",
       "      <td>50 g (0.34 mole) of p-methoxyphenylacetonitril...</td>\n",
       "      <td>50 g (0.34 mole) of p-methoxyphenylacetonitril...</td>\n",
       "      <td>NaN</td>\n",
       "    </tr>\n",
       "    <tr>\n",
       "      <th>1553</th>\n",
       "      <td>[H-].[Na+].[CH3:3][O:4][C:5]1[CH:12]=[CH:11][C...</td>\n",
       "      <td>40.0</td>\n",
       "      <td>3.46900</td>\n",
       "      <td>5-(4-methoxy-benzyloxy)-pentan-1-ol (3.469 g) ...</td>\n",
       "      <td>US20040092581A1</td>\n",
       "      <td>135</td>\n",
       "      <td>The diol 26 (8.17 g, 78.44 mmol) in 12 ml dry ...</td>\n",
       "      <td>The diol 26 (8.17 g, 78.44 mmol) in 12 ml dry ...</td>\n",
       "      <td>The diol 26 (8.17 g, 78.44 mmol) in 12 ml dry ...</td>\n",
       "      <td>NaN</td>\n",
       "    </tr>\n",
       "    <tr>\n",
       "      <th>1554</th>\n",
       "      <td>C/C=C/[C:4]1[CH:9]=[CH:8][CH:7]=[CH:6][CH:5]=1...</td>\n",
       "      <td>85.0</td>\n",
       "      <td>0.07060</td>\n",
       "      <td>the filtrate obtained</td>\n",
       "      <td>US20040092779A1</td>\n",
       "      <td>107</td>\n",
       "      <td>To 3.5 ml of a water-acetone (1:1) solvent wer...</td>\n",
       "      <td>To 3.5 ml of a water-acetone (1:1) solvent wer...</td>\n",
       "      <td>To 3.5 ml of a water-acetone (1:1) solvent wer...</td>\n",
       "      <td>NaN</td>\n",
       "    </tr>\n",
       "  </tbody>\n",
       "</table>\n",
       "<p>1555 rows × 10 columns</p>\n",
       "</div>"
      ],
      "text/plain": [
       "                                        reaction_smiles  ...  dl:headingText\n",
       "0     [C:1]([O:5][C:6](=[O:19])[NH:7][C:8]1[C:13]([F...  ...             NaN\n",
       "1     [NH3:1].CO.C([O:6][C:7]([C:9]1[CH:14]=[C:13]([...  ...             NaN\n",
       "2     [CH2:1]([C:7]1([CH2:24][CH2:25][CH2:26][CH2:27...  ...             NaN\n",
       "3     [CH3:1][C:2]1[CH2:3][C:4]2[C:5]([CH:19]=1)=[CH...  ...             NaN\n",
       "4     [CH3:1][C:2]1[CH2:3][C:4]2[C:5]([CH:45]=1)=[CH...  ...             NaN\n",
       "...                                                 ...  ...             ...\n",
       "1550  [CH3:1][O:2][C:3]1[CH:8]=[CH:7][C:6]([CH2:9][C...  ...             NaN\n",
       "1551  [CH3:1][O:2][C:3]1[CH:8]=[CH:7][C:6]([CH2:9][C...  ...             NaN\n",
       "1552  [CH3:1][O:2][C:3]1[CH:8]=[CH:7][C:6]([CH2:9][C...  ...             NaN\n",
       "1553  [H-].[Na+].[CH3:3][O:4][C:5]1[CH:12]=[CH:11][C...  ...             NaN\n",
       "1554  C/C=C/[C:4]1[CH:9]=[CH:8][CH:7]=[CH:6][CH:5]=1...  ...             NaN\n",
       "\n",
       "[1555 rows x 10 columns]"
      ]
     },
     "execution_count": null,
     "metadata": {},
     "output_type": "execute_result"
    }
   ],
   "source": [
    "data"
   ]
  },
  {
   "cell_type": "code",
   "execution_count": null,
   "id": "a6f5da9d-8200-46d6-bb5e-3f595a96f6ea",
   "metadata": {},
   "outputs": [],
   "source": [
    "prompts = create_reaction_yield_prompts(data)"
   ]
  },
  {
   "cell_type": "code",
   "execution_count": null,
   "id": "cd8ca602-f2f6-4110-8679-c991400bade0",
   "metadata": {},
   "outputs": [],
   "source": [
    "train_prompts, test_prompts = train_test_split(prompts, test_size=0.2)"
   ]
  },
  {
   "cell_type": "code",
   "execution_count": null,
   "id": "a489262c-056e-4adf-9699-53e50622465b",
   "metadata": {},
   "outputs": [],
   "source": [
    "train_size  = len(train_prompts)\n",
    "test_size = len(test_prompts)\n",
    "\n",
    "filename_base = time.strftime(\"%Y-%m-%d-%H-%M-%S\", time.localtime())\n",
    "train_filename = f\"run_files/{filename_base}_train_prompts_uspto_yield_regression_{train_size}.jsonl\"\n",
    "valid_filename = f\"run_files/{filename_base}_valid_prompts_uspto_yield_regression_{test_size}.jsonl\"\n",
    "\n",
    "train_prompts.to_json(train_filename, orient=\"records\", lines=True)\n",
    "test_prompts.to_json(valid_filename, orient=\"records\", lines=True)\n"
   ]
  },
  {
   "cell_type": "code",
   "execution_count": null,
   "id": "87e62504-42e6-4ba5-8f82-5222a21dc34d",
   "metadata": {},
   "outputs": [
    {
     "name": "stderr",
     "output_type": "stream",
     "text": [
      "Traceback (most recent call last):\n",
      "  File \"/Users/kevinmaikjablonka/miniconda3/envs/gpt3/bin/openai\", line 8, in <module>\n",
      "    sys.exit(main())\n",
      "  File \"/Users/kevinmaikjablonka/miniconda3/envs/gpt3/lib/python3.9/site-packages/openai/_openai_scripts.py\", line 63, in main\n",
      "    args.func(args)\n",
      "  File \"/Users/kevinmaikjablonka/miniconda3/envs/gpt3/lib/python3.9/site-packages/openai/cli.py\", line 545, in sync\n",
      "    resp = openai.wandb_logger.WandbLogger.sync(\n",
      "  File \"/Users/kevinmaikjablonka/miniconda3/envs/gpt3/lib/python3.9/site-packages/openai/wandb_logger.py\", line 74, in sync\n",
      "    fine_tune_logged = [\n",
      "  File \"/Users/kevinmaikjablonka/miniconda3/envs/gpt3/lib/python3.9/site-packages/openai/wandb_logger.py\", line 75, in <listcomp>\n",
      "    cls._log_fine_tune(\n",
      "  File \"/Users/kevinmaikjablonka/miniconda3/envs/gpt3/lib/python3.9/site-packages/openai/wandb_logger.py\", line 125, in _log_fine_tune\n",
      "    wandb_run = cls._get_wandb_run(run_path)\n",
      "  File \"/Users/kevinmaikjablonka/miniconda3/envs/gpt3/lib/python3.9/site-packages/openai/wandb_logger.py\", line 190, in _get_wandb_run\n",
      "    cls._ensure_logged_in()\n",
      "  File \"/Users/kevinmaikjablonka/miniconda3/envs/gpt3/lib/python3.9/site-packages/openai/wandb_logger.py\", line 186, in _ensure_logged_in\n",
      "    raise Exception(\"You need to log in to wandb\")\n",
      "Exception: You need to log in to wandb\n"
     ]
    },
    {
     "data": {
      "text/plain": [
       "'ada:ft-lsmoepfl-2022-10-13-11-49-26'"
      ]
     },
     "execution_count": null,
     "metadata": {},
     "output_type": "execute_result"
    }
   ],
   "source": [
    "fine_tune(train_filename, valid_filename)"
   ]
  },
  {
   "cell_type": "code",
   "execution_count": null,
   "id": "51250544-4f06-4b32-b372-58e202d26acb",
   "metadata": {},
   "outputs": [],
   "source": [
    "completions = query_gpt3('ada:ft-lsmoepfl-2022-10-13-11-49-26', test_prompts)"
   ]
  },
  {
   "cell_type": "code",
   "execution_count": null,
   "id": "a51cc016-c786-4509-a27b-be10cde1183e",
   "metadata": {},
   "outputs": [],
   "source": [
    "predictions = [extract_regression_prediction(completions, i) for i, completion in enumerate(completions[\"choices\"])]"
   ]
  },
  {
   "cell_type": "code",
   "execution_count": null,
   "id": "0c90017e-1c72-4ae6-aca9-0dd49a3945e3",
   "metadata": {},
   "outputs": [],
   "source": [
    "true = test_prompts['completion'].apply(lambda x: int(x.split('@@@')[0])).values"
   ]
  },
  {
   "cell_type": "code",
   "execution_count": null,
   "id": "67b6e661-65e2-4a27-a0a8-6570662e6990",
   "metadata": {},
   "outputs": [
    {
     "data": {
      "text/plain": [
       "<matplotlib.collections.PathCollection>"
      ]
     },
     "execution_count": null,
     "metadata": {},
     "output_type": "execute_result"
    },
    {
     "data": {
      "image/png": "[encoded data removed]",
      "text/plain": [
       "<Figure size 432x288 with 1 Axes>"
      ]
     },
     "metadata": {
      "needs_background": "light"
     },
     "output_type": "display_data"
    }
   ],
   "source": [
    "plt.scatter(true, predictions)"
   ]
  },
  {
   "cell_type": "code",
   "execution_count": null,
   "id": "fa1af5f1-4c63-4746-9713-e64aa3a0c6a4",
   "metadata": {},
   "outputs": [
    {
     "data": {
      "text/plain": [
       "0.6838949660776262"
      ]
     },
     "execution_count": null,
     "metadata": {},
     "output_type": "execute_result"
    }
   ],
   "source": [
    "r2_score(true, predictions)"
   ]
  },
  {
   "cell_type": "markdown",
   "id": "251e3379-2bf5-4b62-ab06-807cc764bf27",
   "metadata": {},
   "source": [
    "### can this be data leakage?"
   ]
  },
  {
   "cell_type": "markdown",
   "id": "3182c378-f04a-4e53-8f79-68f30bee4b9b",
   "metadata": {},
   "source": [
    "First, check if there are duplicated reaction SMILES."
   ]
  },
  {
   "cell_type": "code",
   "execution_count": null,
   "id": "f854349d-4bb5-477d-9e1e-4553b7f22718",
   "metadata": {},
   "outputs": [
    {
     "data": {
      "text/plain": [
       "846"
      ]
     },
     "execution_count": null,
     "metadata": {},
     "output_type": "execute_result"
    }
   ],
   "source": [
    "len(data) - len(data['reaction_smiles'].unique())"
   ]
  },
  {
   "cell_type": "markdown",
   "id": "e8c7a04d-fdb5-4436-b096-d8b95ed07e04",
   "metadata": {},
   "source": [
    "ok, there are several duplicates"
   ]
  },
  {
   "cell_type": "markdown",
   "id": "7b99ec46-1c0f-484d-b112-4cdbb2fb4439",
   "metadata": {},
   "source": [
    "now, let's try to be more careful here and just split the reaction SMILES into train and test sets."
   ]
  },
  {
   "cell_type": "code",
   "execution_count": null,
   "id": "7e0f9c18-b737-46dd-9795-de75dfcd679a",
   "metadata": {},
   "outputs": [],
   "source": [
    "train_reaction_smiles, test_reaction_smiles = train_test_split(data['reaction_smiles'].unique(), train_size=0.8)"
   ]
  },
  {
   "cell_type": "code",
   "execution_count": null,
   "id": "1cd28e98-4f41-4183-8ef8-0c1d9eccf768",
   "metadata": {},
   "outputs": [],
   "source": [
    "train_data = data[data['reaction_smiles'].isin(train_reaction_smiles)]\n",
    "test_data = data[data['reaction_smiles'].isin(test_reaction_smiles)]"
   ]
  },
  {
   "cell_type": "code",
   "execution_count": null,
   "id": "b8f16572-78f5-4d10-8fa4-58d4d1a8848b",
   "metadata": {},
   "outputs": [],
   "source": [
    "train_prompts = create_reaction_yield_prompts(train_data) \n",
    "test_prompts = create_reaction_yield_prompts(test_data)"
   ]
  },
  {
   "cell_type": "code",
   "execution_count": null,
   "id": "7cd383b6-9a17-43e5-8222-d9e18dec0991",
   "metadata": {},
   "outputs": [],
   "source": [
    "train_size  = len(train_prompts)\n",
    "test_size = len(test_prompts)\n",
    "\n",
    "filename_base = time.strftime(\"%Y-%m-%d-%H-%M-%S\", time.localtime())\n",
    "train_filename = f\"run_files/{filename_base}_train_prompts_uspto_yield_regression_{train_size}.jsonl\"\n",
    "valid_filename = f\"run_files/{filename_base}_valid_prompts_uspto_yield_regression_{test_size}.jsonl\"\n",
    "\n",
    "train_prompts.to_json(train_filename, orient=\"records\", lines=True)\n",
    "test_prompts.to_json(valid_filename, orient=\"records\", lines=True)\n"
   ]
  },
  {
   "cell_type": "code",
   "execution_count": null,
   "id": "a9d7e1f5-5ad8-4c91-a37b-bf6ed5676393",
   "metadata": {},
   "outputs": [
    {
     "name": "stderr",
     "output_type": "stream",
     "text": [
      "Traceback (most recent call last):\n",
      "  File \"/Users/kevinmaikjablonka/miniconda3/envs/gpt3/bin/openai\", line 8, in <module>\n",
      "    sys.exit(main())\n",
      "  File \"/Users/kevinmaikjablonka/miniconda3/envs/gpt3/lib/python3.9/site-packages/openai/_openai_scripts.py\", line 63, in main\n",
      "    args.func(args)\n",
      "  File \"/Users/kevinmaikjablonka/miniconda3/envs/gpt3/lib/python3.9/site-packages/openai/cli.py\", line 545, in sync\n",
      "    resp = openai.wandb_logger.WandbLogger.sync(\n",
      "  File \"/Users/kevinmaikjablonka/miniconda3/envs/gpt3/lib/python3.9/site-packages/openai/wandb_logger.py\", line 74, in sync\n",
      "    fine_tune_logged = [\n",
      "  File \"/Users/kevinmaikjablonka/miniconda3/envs/gpt3/lib/python3.9/site-packages/openai/wandb_logger.py\", line 75, in <listcomp>\n",
      "    cls._log_fine_tune(\n",
      "  File \"/Users/kevinmaikjablonka/miniconda3/envs/gpt3/lib/python3.9/site-packages/openai/wandb_logger.py\", line 125, in _log_fine_tune\n",
      "    wandb_run = cls._get_wandb_run(run_path)\n",
      "  File \"/Users/kevinmaikjablonka/miniconda3/envs/gpt3/lib/python3.9/site-packages/openai/wandb_logger.py\", line 190, in _get_wandb_run\n",
      "    cls._ensure_logged_in()\n",
      "  File \"/Users/kevinmaikjablonka/miniconda3/envs/gpt3/lib/python3.9/site-packages/openai/wandb_logger.py\", line 186, in _ensure_logged_in\n",
      "    raise Exception(\"You need to log in to wandb\")\n",
      "Exception: You need to log in to wandb\n"
     ]
    },
    {
     "data": {
      "text/plain": [
       "'ada:ft-lsmoepfl-2022-10-13-13-19-56'"
      ]
     },
     "execution_count": null,
     "metadata": {},
     "output_type": "execute_result"
    }
   ],
   "source": [
    "fine_tune(train_filename, valid_filename)"
   ]
  },
  {
   "cell_type": "code",
   "execution_count": null,
   "id": "ef65c165-04af-4aec-8cf1-74f1470ece28",
   "metadata": {},
   "outputs": [],
   "source": [
    "completions = query_gpt3('ada:ft-lsmoepfl-2022-10-13-13-19-56', test_prompts)"
   ]
  },
  {
   "cell_type": "code",
   "execution_count": null,
   "id": "aea46a6f-af3d-42f0-8562-69512bdd1f67",
   "metadata": {},
   "outputs": [],
   "source": [
    "predictions = np.array([extract_regression_prediction(completions, i) for i, completion in enumerate(completions[\"choices\"])])\n",
    "true = test_prompts['completion'].apply(lambda x: int(x.split('@@@')[0])).values"
   ]
  },
  {
   "cell_type": "code",
   "execution_count": null,
   "id": "31f42f77-25bc-4637-8e5f-dc56739d455d",
   "metadata": {},
   "outputs": [
    {
     "data": {
      "text/plain": [
       "<matplotlib.collections.PathCollection>"
      ]
     },
     "execution_count": null,
     "metadata": {},
     "output_type": "execute_result"
    },
    {
     "data": {
      "image/png": "[encoded data removed]",
      "text/plain": [
       "<Figure size 432x288 with 1 Axes>"
      ]
     },
     "metadata": {
      "needs_background": "light"
     },
     "output_type": "display_data"
    }
   ],
   "source": [
    "plt.scatter(true, predictions)"
   ]
  },
  {
   "cell_type": "code",
   "execution_count": null,
   "id": "2d98769e-faea-4bf0-b2c8-20c683606de2",
   "metadata": {},
   "outputs": [],
   "source": [
    "not_nan = ~pd.isna(predictions)"
   ]
  },
  {
   "cell_type": "code",
   "execution_count": null,
   "id": "36558b52-71bd-48d3-afbf-1bc9df8d878b",
   "metadata": {},
   "outputs": [
    {
     "data": {
      "text/plain": [
       "0.19808815914679423"
      ]
     },
     "execution_count": null,
     "metadata": {},
     "output_type": "execute_result"
    }
   ],
   "source": [
    "r2_score(true[not_nan], predictions[not_nan])"
   ]
  },
  {
   "cell_type": "code",
   "execution_count": null,
   "id": "ba86ec84-1a61-4e2d-a13e-bd66a10382f9",
   "metadata": {},
   "outputs": [
    {
     "data": {
      "text/plain": [
       "1218"
      ]
     },
     "execution_count": null,
     "metadata": {},
     "output_type": "execute_result"
    }
   ],
   "source": [
    "len(train_data)"
   ]
  },
  {
   "cell_type": "markdown",
   "id": "ac1e9480-dcc7-4511-878b-57da9b685e72",
   "metadata": {},
   "source": [
    "### Now, add reaction SMILES"
   ]
  },
  {
   "cell_type": "code",
   "execution_count": null,
   "id": "4daf4a18-74e6-4274-beae-70df70f45a18",
   "metadata": {},
   "outputs": [],
   "source": [
    "train_prompts = create_reaction_yield_prompts(train_data, include_reaction_smiles=True) \n",
    "test_prompts = create_reaction_yield_prompts(test_data, include_reaction_smiles=True)"
   ]
  },
  {
   "cell_type": "code",
   "execution_count": null,
   "id": "a84d5335-40a6-488b-ae4b-260d8fa1febe",
   "metadata": {},
   "outputs": [],
   "source": [
    "train_size  = len(train_prompts)\n",
    "test_size = len(test_prompts)\n",
    "\n",
    "filename_base = time.strftime(\"%Y-%m-%d-%H-%M-%S\", time.localtime())\n",
    "train_filename = f\"run_files/{filename_base}_train_prompts_uspto_yield_regression_{train_size}.jsonl\"\n",
    "valid_filename = f\"run_files/{filename_base}_valid_prompts_uspto_yield_regression_{test_size}.jsonl\"\n",
    "\n",
    "train_prompts.to_json(train_filename, orient=\"records\", lines=True)\n",
    "test_prompts.to_json(valid_filename, orient=\"records\", lines=True)\n"
   ]
  },
  {
   "cell_type": "code",
   "execution_count": null,
   "id": "bea3ed7a-c23d-461c-bd51-093d7b05061b",
   "metadata": {},
   "outputs": [
    {
     "name": "stderr",
     "output_type": "stream",
     "text": [
      "Traceback (most recent call last):\n",
      "  File \"/Users/kevinmaikjablonka/miniconda3/envs/gpt3/bin/openai\", line 8, in <module>\n",
      "    sys.exit(main())\n",
      "  File \"/Users/kevinmaikjablonka/miniconda3/envs/gpt3/lib/python3.9/site-packages/openai/_openai_scripts.py\", line 63, in main\n",
      "    args.func(args)\n",
      "  File \"/Users/kevinmaikjablonka/miniconda3/envs/gpt3/lib/python3.9/site-packages/openai/cli.py\", line 545, in sync\n",
      "    resp = openai.wandb_logger.WandbLogger.sync(\n",
      "  File \"/Users/kevinmaikjablonka/miniconda3/envs/gpt3/lib/python3.9/site-packages/openai/wandb_logger.py\", line 74, in sync\n",
      "    fine_tune_logged = [\n",
      "  File \"/Users/kevinmaikjablonka/miniconda3/envs/gpt3/lib/python3.9/site-packages/openai/wandb_logger.py\", line 75, in <listcomp>\n",
      "    cls._log_fine_tune(\n",
      "  File \"/Users/kevinmaikjablonka/miniconda3/envs/gpt3/lib/python3.9/site-packages/openai/wandb_logger.py\", line 125, in _log_fine_tune\n",
      "    wandb_run = cls._get_wandb_run(run_path)\n",
      "  File \"/Users/kevinmaikjablonka/miniconda3/envs/gpt3/lib/python3.9/site-packages/openai/wandb_logger.py\", line 190, in _get_wandb_run\n",
      "    cls._ensure_logged_in()\n",
      "  File \"/Users/kevinmaikjablonka/miniconda3/envs/gpt3/lib/python3.9/site-packages/openai/wandb_logger.py\", line 186, in _ensure_logged_in\n",
      "    raise Exception(\"You need to log in to wandb\")\n",
      "Exception: You need to log in to wandb\n"
     ]
    },
    {
     "data": {
      "text/plain": [
       "'ada:ft-lsmoepfl-2022-10-13-13-43-43'"
      ]
     },
     "execution_count": null,
     "metadata": {},
     "output_type": "execute_result"
    }
   ],
   "source": [
    "fine_tune(train_filename, valid_filename)"
   ]
  },
  {
   "cell_type": "code",
   "execution_count": null,
   "id": "30cdab0f-cd52-4bb2-86ac-8f1e8626c287",
   "metadata": {},
   "outputs": [],
   "source": [
    "completions = query_gpt3('ada:ft-lsmoepfl-2022-10-13-13-43-43', test_prompts)"
   ]
  },
  {
   "cell_type": "code",
   "execution_count": null,
   "id": "eea055c7-790f-44b2-a55d-6ae1877b211a",
   "metadata": {},
   "outputs": [],
   "source": [
    "predictions = np.array([extract_regression_prediction(completions, i) for i, completion in enumerate(completions[\"choices\"])])\n",
    "true = test_prompts['completion'].apply(lambda x: int(x.split('@@@')[0])).values"
   ]
  },
  {
   "cell_type": "code",
   "execution_count": null,
   "id": "98e86b2f-4006-4107-b89e-bb7743d2f13b",
   "metadata": {},
   "outputs": [
    {
     "data": {
      "text/plain": [
       "<matplotlib.collections.PathCollection>"
      ]
     },
     "execution_count": null,
     "metadata": {},
     "output_type": "execute_result"
    },
    {
     "data": {
      "image/png": "[encoded data removed]",
      "text/plain": [
       "<Figure size 432x288 with 1 Axes>"
      ]
     },
     "metadata": {
      "needs_background": "light"
     },
     "output_type": "display_data"
    }
   ],
   "source": [
    "plt.scatter(true, predictions)"
   ]
  },
  {
   "cell_type": "code",
   "execution_count": null,
   "id": "b626f1af-b5c7-4da7-b502-f759ddcf6a4d",
   "metadata": {},
   "outputs": [],
   "source": [
    "not_nan = ~pd.isna(predictions)"
   ]
  },
  {
   "cell_type": "code",
   "execution_count": null,
   "id": "c239b3d6-ad8f-4d71-a0a7-3e0e8a52c19c",
   "metadata": {},
   "outputs": [
    {
     "data": {
      "text/plain": [
       "0.10309063282769448"
      ]
     },
     "execution_count": null,
     "metadata": {},
     "output_type": "execute_result"
    }
   ],
   "source": [
    "r2_score(true[not_nan], predictions[not_nan])"
   ]
  },
  {
   "cell_type": "code",
   "execution_count": null,
   "id": "afc95d54-e106-4773-a6f1-672afef37e3f",
   "metadata": {},
   "outputs": [
    {
     "data": {
      "text/plain": [
       "1218"
      ]
     },
     "execution_count": null,
     "metadata": {},
     "output_type": "execute_result"
    }
   ],
   "source": [
    "len(train_data)"
   ]
  },
  {
   "cell_type": "code",
   "execution_count": null,
   "id": "4634ea2b-43ec-4887-9575-f494580e9f01",
   "metadata": {},
   "outputs": [],
   "source": []
  }
 ],
 "metadata": {
  "kernelspec": {
   "display_name": "Python [conda env:gpt3] *",
   "language": "python",
   "name": "conda-env-gpt3-py"
  }
 },
 "nbformat": 4,
 "nbformat_minor": 5
}
