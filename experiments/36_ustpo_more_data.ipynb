{
 "cells": [
  {
   "cell_type": "code",
   "execution_count": 1,
   "id": "220805f5-55cb-4f96-a7b6-3b464c5dfcaf",
   "metadata": {},
   "outputs": [],
   "source": [
    "%reload_ext autoreload\n",
    "%autoreload 2"
   ]
  },
  {
   "cell_type": "code",
   "execution_count": 2,
   "id": "82e63652-32f6-424b-8310-7c8e2db3b3dd",
   "metadata": {},
   "outputs": [],
   "source": [
    "from gpt3forchem.data import get_uspto_yield_data\n",
    "from gpt3forchem.api_wrappers import fine_tune, query_gpt3, extract_regression_prediction\n",
    "from gpt3forchem.input import create_reaction_yield_prompts\n",
    "\n",
    "from sklearn.model_selection import train_test_split\n",
    "from sklearn.metrics import r2_score\n",
    "import pandas as pd\n",
    "import matplotlib.pyplot as plt\n",
    "import numpy as np\n",
    "\n",
    "import time"
   ]
  },
  {
   "cell_type": "code",
   "execution_count": 3,
   "id": "06825c70-c519-45aa-98a4-1f2052ab2699",
   "metadata": {},
   "outputs": [
    {
     "name": "stderr",
     "output_type": "stream",
     "text": [
      "/Users/kevinmaikjablonka/git/kjappelbaum/gpt3forchem/gpt3forchem/data.py:226: DtypeWarning: Columns (5) have mixed types. Specify dtype option on import or set low_memory=False.\n",
      "  df = pd.read_csv(os.path.join(datadir, \"USTPO_yields.csv\"))\n"
     ]
    }
   ],
   "source": [
    "data = get_uspto_yield_data()"
   ]
  },
  {
   "cell_type": "code",
   "execution_count": 4,
   "id": "75a334d1-02a3-4e8d-b9fb-7cb883a43ac2",
   "metadata": {},
   "outputs": [
    {
     "data": {
      "text/html": [
       "<div>\n",
       "<style scoped>\n",
       "    .dataframe tbody tr th:only-of-type {\n",
       "        vertical-align: middle;\n",
       "    }\n",
       "\n",
       "    .dataframe tbody tr th {\n",
       "        vertical-align: top;\n",
       "    }\n",
       "\n",
       "    .dataframe thead th {\n",
       "        text-align: right;\n",
       "    }\n",
       "</style>\n",
       "<table border=\"1\" class=\"dataframe\">\n",
       "  <thead>\n",
       "    <tr style=\"text-align: right;\">\n",
       "      <th></th>\n",
       "      <th>reaction_smiles</th>\n",
       "      <th>yield</th>\n",
       "      <th>mass</th>\n",
       "      <th>yield_text</th>\n",
       "      <th>dl:documentId</th>\n",
       "      <th>dl:paragraphNum</th>\n",
       "      <th>dl:paragraphText</th>\n",
       "      <th>paragraph_without_yield</th>\n",
       "      <th>paragraph_without_yield_and_charac</th>\n",
       "      <th>dl:headingText</th>\n",
       "    </tr>\n",
       "  </thead>\n",
       "  <tbody>\n",
       "    <tr>\n",
       "      <th>0</th>\n",
       "      <td>[CH2:1]([O:3][C:4](=[O:11])[C@@H:5]1[CH2:9][CH...</td>\n",
       "      <td>98.9</td>\n",
       "      <td>323.00</td>\n",
       "      <td>to give 323 g (100%) of N-Boc- L-pyroglutamic ...</td>\n",
       "      <td>USRE044186E1</td>\n",
       "      <td>214</td>\n",
       "      <td>L-pyroglutamic acid ethyl ester (200 g, 1.27 m...</td>\n",
       "      <td>L-pyroglutamic acid ethyl ester (200 g, 1.27 m...</td>\n",
       "      <td>L-pyroglutamic acid ethyl ester (200 g, 1.27 m...</td>\n",
       "      <td>NaN</td>\n",
       "    </tr>\n",
       "    <tr>\n",
       "      <th>1</th>\n",
       "      <td>[C:1]([O:6][CH2:7][CH2:8][O:9][C:10]1[CH:15]=[...</td>\n",
       "      <td>162.8</td>\n",
       "      <td>96.50</td>\n",
       "      <td>to obtain 96.5 g of a phenoxyethyl methacrylat...</td>\n",
       "      <td>US08430493B2</td>\n",
       "      <td>315</td>\n",
       "      <td>88 g of methyl ethyl ketone was added to a 100...</td>\n",
       "      <td>88 g of methyl ethyl ketone was added to a 100...</td>\n",
       "      <td>88 g of methyl ethyl ketone was added to a 100...</td>\n",
       "      <td>NaN</td>\n",
       "    </tr>\n",
       "    <tr>\n",
       "      <th>2</th>\n",
       "      <td>[N:1]1[C:5]2[CH:6]=[CH:7][CH:8]=[CH:9][C:4]=2[...</td>\n",
       "      <td>88.4</td>\n",
       "      <td>109.40</td>\n",
       "      <td>leaving an orange oil, which</td>\n",
       "      <td>US08431045B2</td>\n",
       "      <td>445</td>\n",
       "      <td>To a flask were added 100 g benzimidazole, 44 ...</td>\n",
       "      <td>To a flask were added 100 g benzimidazole, 44 ...</td>\n",
       "      <td>To a flask were added 100 g benzimidazole, 44 ...</td>\n",
       "      <td>Lq=1-Ethyl-1H-benzimidazole</td>\n",
       "    </tr>\n",
       "    <tr>\n",
       "      <th>3</th>\n",
       "      <td>[CH2:1]([C:11]1[NH:15][C:14]2[CH:16]=[CH:17][C...</td>\n",
       "      <td>151.0</td>\n",
       "      <td>0.90</td>\n",
       "      <td>resulted in an oil which</td>\n",
       "      <td>US08431045B2</td>\n",
       "      <td>452</td>\n",
       "      <td>To a flask were added 0.79 g 2,2′-methylenebis...</td>\n",
       "      <td>To a flask were added 0.79 g 2,2′-methylenebis...</td>\n",
       "      <td>To a flask were added 0.79 g 2,2′-methylenebis...</td>\n",
       "      <td>2,2′-butane-1,1-diylbis(1-propyl-1H-benzimidaz...</td>\n",
       "    </tr>\n",
       "    <tr>\n",
       "      <th>4</th>\n",
       "      <td>[N:1]1[CH:6]=[CH:5][CH:4]=[CH:3][C:2]=1[C:7]1[...</td>\n",
       "      <td>82.1</td>\n",
       "      <td>2.40</td>\n",
       "      <td>resulting in 2.4 g of off-white solid</td>\n",
       "      <td>US08431045B2</td>\n",
       "      <td>459</td>\n",
       "      <td>To a flask were added 2.0 g 2-(2-pyridyl)benzi...</td>\n",
       "      <td>To a flask were added 2.0 g 2-(2-pyridyl)benzi...</td>\n",
       "      <td>To a flask were added 2.0 g 2-(2-pyridyl)benzi...</td>\n",
       "      <td>Had=1-Benzyl-2-pyridin-2-yl-1H-benzimidazole</td>\n",
       "    </tr>\n",
       "    <tr>\n",
       "      <th>...</th>\n",
       "      <td>...</td>\n",
       "      <td>...</td>\n",
       "      <td>...</td>\n",
       "      <td>...</td>\n",
       "      <td>...</td>\n",
       "      <td>...</td>\n",
       "      <td>...</td>\n",
       "      <td>...</td>\n",
       "      <td>...</td>\n",
       "      <td>...</td>\n",
       "    </tr>\n",
       "    <tr>\n",
       "      <th>855372</th>\n",
       "      <td>[Cl:1][CH2:2][CH2:3][CH2:4][CH2:5][CH2:6][CH2:...</td>\n",
       "      <td>47.5</td>\n",
       "      <td>2.20</td>\n",
       "      <td>yielded 2.2 g (48%) of (E)-3-[4-[3-[(6-chloroh...</td>\n",
       "      <td>US06833421B1</td>\n",
       "      <td>NaN</td>\n",
       "      <td>2.7 g (10 mmol) [3-[(6-chlorohexyl)oxy]-5-[hyd...</td>\n",
       "      <td>2.7 g (10 mmol) [3-[(6-chlorohexyl)oxy]-5-[hyd...</td>\n",
       "      <td>2.7 g (10 mmol) [3-[(6-chlorohexyl)oxy]-5-[hyd...</td>\n",
       "      <td>NaN</td>\n",
       "    </tr>\n",
       "    <tr>\n",
       "      <th>855373</th>\n",
       "      <td>N1CCCCC1.O=[CH:8][C:9]1[CH:17]=[CH:16][C:14]([...</td>\n",
       "      <td>92.9</td>\n",
       "      <td>6.50</td>\n",
       "      <td>to give 6.5 g (93%) of 2-cyano-(E)-3-(4-hydrox...</td>\n",
       "      <td>US06833421B1</td>\n",
       "      <td>NaN</td>\n",
       "      <td>0.2 ml of piperidine were added carefully to a...</td>\n",
       "      <td>0.2 ml of piperidine were added carefully to a...</td>\n",
       "      <td>0.2 ml of piperidine were added carefully to a...</td>\n",
       "      <td>NaN</td>\n",
       "    </tr>\n",
       "    <tr>\n",
       "      <th>855374</th>\n",
       "      <td>[CH3:1][O:2][C:3](=[O:32])/[CH:4]=[CH:5]/[C:6]...</td>\n",
       "      <td>73.7</td>\n",
       "      <td>1.10</td>\n",
       "      <td>to give 1.1 g (79%) of (E)-3-[4-[[3-[(6-Chloro...</td>\n",
       "      <td>US06833421B1</td>\n",
       "      <td>NaN</td>\n",
       "      <td>1 g (2.2 mmol) (E)-3-[4-[3-[(6-chlorohexyl)oxy...</td>\n",
       "      <td>1 g (2.2 mmol) (E)-3-[4-[3-[(6-chlorohexyl)oxy...</td>\n",
       "      <td>1 g (2.2 mmol) (E)-3-[4-[3-[(6-chlorohexyl)oxy...</td>\n",
       "      <td>NaN</td>\n",
       "    </tr>\n",
       "    <tr>\n",
       "      <th>855375</th>\n",
       "      <td>[CH3:1][C:2](=[CH2:6])[C:3]([OH:5])=[O:4].[CH3...</td>\n",
       "      <td>30.1</td>\n",
       "      <td>0.35</td>\n",
       "      <td>to yield 0.35 g (30%) of 2-methylacrylic acid ...</td>\n",
       "      <td>US06833421B1</td>\n",
       "      <td>NaN</td>\n",
       "      <td>0.32 ml (2 mmol) 1,8-diazabicyclo[5.4.0]undec-...</td>\n",
       "      <td>0.32 ml (2 mmol) 1,8-diazabicyclo[5.4.0]undec-...</td>\n",
       "      <td>0.32 ml (2 mmol) 1,8-diazabicyclo[5.4.0]undec-...</td>\n",
       "      <td>NaN</td>\n",
       "    </tr>\n",
       "    <tr>\n",
       "      <th>855376</th>\n",
       "      <td>[CH3:1][C:2](=[CH2:6])[C:3]([OH:5])=[O:4].[CH3...</td>\n",
       "      <td>94.1</td>\n",
       "      <td>2.60</td>\n",
       "      <td>yielded 2.6 g (92%) of 2-methylacrylic acid 6-...</td>\n",
       "      <td>US06833421B1</td>\n",
       "      <td>NaN</td>\n",
       "      <td>786 mg (5.16 mmol) 1,8-diazabicyclo[5.4.0]unde...</td>\n",
       "      <td>786 mg (5.16 mmol) 1,8-diazabicyclo[5.4.0]unde...</td>\n",
       "      <td>786 mg (5.16 mmol) 1,8-diazabicyclo[5.4.0]unde...</td>\n",
       "      <td>NaN</td>\n",
       "    </tr>\n",
       "  </tbody>\n",
       "</table>\n",
       "<p>855377 rows × 10 columns</p>\n",
       "</div>"
      ],
      "text/plain": [
       "                                          reaction_smiles  yield    mass  \\\n",
       "0       [CH2:1]([O:3][C:4](=[O:11])[C@@H:5]1[CH2:9][CH...   98.9  323.00   \n",
       "1       [C:1]([O:6][CH2:7][CH2:8][O:9][C:10]1[CH:15]=[...  162.8   96.50   \n",
       "2       [N:1]1[C:5]2[CH:6]=[CH:7][CH:8]=[CH:9][C:4]=2[...   88.4  109.40   \n",
       "3       [CH2:1]([C:11]1[NH:15][C:14]2[CH:16]=[CH:17][C...  151.0    0.90   \n",
       "4       [N:1]1[CH:6]=[CH:5][CH:4]=[CH:3][C:2]=1[C:7]1[...   82.1    2.40   \n",
       "...                                                   ...    ...     ...   \n",
       "855372  [Cl:1][CH2:2][CH2:3][CH2:4][CH2:5][CH2:6][CH2:...   47.5    2.20   \n",
       "855373  N1CCCCC1.O=[CH:8][C:9]1[CH:17]=[CH:16][C:14]([...   92.9    6.50   \n",
       "855374  [CH3:1][O:2][C:3](=[O:32])/[CH:4]=[CH:5]/[C:6]...   73.7    1.10   \n",
       "855375  [CH3:1][C:2](=[CH2:6])[C:3]([OH:5])=[O:4].[CH3...   30.1    0.35   \n",
       "855376  [CH3:1][C:2](=[CH2:6])[C:3]([OH:5])=[O:4].[CH3...   94.1    2.60   \n",
       "\n",
       "                                               yield_text dl:documentId  \\\n",
       "0       to give 323 g (100%) of N-Boc- L-pyroglutamic ...  USRE044186E1   \n",
       "1       to obtain 96.5 g of a phenoxyethyl methacrylat...  US08430493B2   \n",
       "2                            leaving an orange oil, which  US08431045B2   \n",
       "3                                resulted in an oil which  US08431045B2   \n",
       "4                   resulting in 2.4 g of off-white solid  US08431045B2   \n",
       "...                                                   ...           ...   \n",
       "855372  yielded 2.2 g (48%) of (E)-3-[4-[3-[(6-chloroh...  US06833421B1   \n",
       "855373  to give 6.5 g (93%) of 2-cyano-(E)-3-(4-hydrox...  US06833421B1   \n",
       "855374  to give 1.1 g (79%) of (E)-3-[4-[[3-[(6-Chloro...  US06833421B1   \n",
       "855375  to yield 0.35 g (30%) of 2-methylacrylic acid ...  US06833421B1   \n",
       "855376  yielded 2.6 g (92%) of 2-methylacrylic acid 6-...  US06833421B1   \n",
       "\n",
       "       dl:paragraphNum                                   dl:paragraphText  \\\n",
       "0                  214  L-pyroglutamic acid ethyl ester (200 g, 1.27 m...   \n",
       "1                  315  88 g of methyl ethyl ketone was added to a 100...   \n",
       "2                  445  To a flask were added 100 g benzimidazole, 44 ...   \n",
       "3                  452  To a flask were added 0.79 g 2,2′-methylenebis...   \n",
       "4                  459  To a flask were added 2.0 g 2-(2-pyridyl)benzi...   \n",
       "...                ...                                                ...   \n",
       "855372             NaN  2.7 g (10 mmol) [3-[(6-chlorohexyl)oxy]-5-[hyd...   \n",
       "855373             NaN  0.2 ml of piperidine were added carefully to a...   \n",
       "855374             NaN  1 g (2.2 mmol) (E)-3-[4-[3-[(6-chlorohexyl)oxy...   \n",
       "855375             NaN  0.32 ml (2 mmol) 1,8-diazabicyclo[5.4.0]undec-...   \n",
       "855376             NaN  786 mg (5.16 mmol) 1,8-diazabicyclo[5.4.0]unde...   \n",
       "\n",
       "                                  paragraph_without_yield  \\\n",
       "0       L-pyroglutamic acid ethyl ester (200 g, 1.27 m...   \n",
       "1       88 g of methyl ethyl ketone was added to a 100...   \n",
       "2       To a flask were added 100 g benzimidazole, 44 ...   \n",
       "3       To a flask were added 0.79 g 2,2′-methylenebis...   \n",
       "4       To a flask were added 2.0 g 2-(2-pyridyl)benzi...   \n",
       "...                                                   ...   \n",
       "855372  2.7 g (10 mmol) [3-[(6-chlorohexyl)oxy]-5-[hyd...   \n",
       "855373  0.2 ml of piperidine were added carefully to a...   \n",
       "855374  1 g (2.2 mmol) (E)-3-[4-[3-[(6-chlorohexyl)oxy...   \n",
       "855375  0.32 ml (2 mmol) 1,8-diazabicyclo[5.4.0]undec-...   \n",
       "855376  786 mg (5.16 mmol) 1,8-diazabicyclo[5.4.0]unde...   \n",
       "\n",
       "                       paragraph_without_yield_and_charac  \\\n",
       "0       L-pyroglutamic acid ethyl ester (200 g, 1.27 m...   \n",
       "1       88 g of methyl ethyl ketone was added to a 100...   \n",
       "2       To a flask were added 100 g benzimidazole, 44 ...   \n",
       "3       To a flask were added 0.79 g 2,2′-methylenebis...   \n",
       "4       To a flask were added 2.0 g 2-(2-pyridyl)benzi...   \n",
       "...                                                   ...   \n",
       "855372  2.7 g (10 mmol) [3-[(6-chlorohexyl)oxy]-5-[hyd...   \n",
       "855373  0.2 ml of piperidine were added carefully to a...   \n",
       "855374  1 g (2.2 mmol) (E)-3-[4-[3-[(6-chlorohexyl)oxy...   \n",
       "855375  0.32 ml (2 mmol) 1,8-diazabicyclo[5.4.0]undec-...   \n",
       "855376  786 mg (5.16 mmol) 1,8-diazabicyclo[5.4.0]unde...   \n",
       "\n",
       "                                           dl:headingText  \n",
       "0                                                     NaN  \n",
       "1                                                     NaN  \n",
       "2                             Lq=1-Ethyl-1H-benzimidazole  \n",
       "3       2,2′-butane-1,1-diylbis(1-propyl-1H-benzimidaz...  \n",
       "4            Had=1-Benzyl-2-pyridin-2-yl-1H-benzimidazole  \n",
       "...                                                   ...  \n",
       "855372                                                NaN  \n",
       "855373                                                NaN  \n",
       "855374                                                NaN  \n",
       "855375                                                NaN  \n",
       "855376                                                NaN  \n",
       "\n",
       "[855377 rows x 10 columns]"
      ]
     },
     "execution_count": 4,
     "metadata": {},
     "output_type": "execute_result"
    }
   ],
   "source": [
    "data"
   ]
  },
  {
   "cell_type": "code",
   "execution_count": 6,
   "id": "a6f5da9d-8200-46d6-bb5e-3f595a96f6ea",
   "metadata": {},
   "outputs": [],
   "source": [
    "prompts = create_reaction_yield_prompts(data.sample(50_000))"
   ]
  },
  {
   "cell_type": "code",
   "execution_count": 7,
   "id": "cd8ca602-f2f6-4110-8679-c991400bade0",
   "metadata": {},
   "outputs": [],
   "source": [
    "train_prompts, test_prompts = train_test_split(prompts, test_size=0.2)"
   ]
  },
  {
   "cell_type": "code",
   "execution_count": 8,
   "id": "a489262c-056e-4adf-9699-53e50622465b",
   "metadata": {},
   "outputs": [],
   "source": [
    "train_size  = len(train_prompts)\n",
    "test_size = len(test_prompts)\n",
    "\n",
    "filename_base = time.strftime(\"%Y-%m-%d-%H-%M-%S\", time.localtime())\n",
    "train_filename = f\"run_files/{filename_base}_train_prompts_uspto_yield_regression_{train_size}.jsonl\"\n",
    "valid_filename = f\"run_files/{filename_base}_valid_prompts_uspto_yield_regression_{test_size}.jsonl\"\n",
    "\n",
    "train_prompts.to_json(train_filename, orient=\"records\", lines=True)\n",
    "test_prompts.to_json(valid_filename, orient=\"records\", lines=True)\n"
   ]
  },
  {
   "cell_type": "code",
   "execution_count": 9,
   "id": "87e62504-42e6-4ba5-8f82-5222a21dc34d",
   "metadata": {},
   "outputs": [
    {
     "name": "stderr",
     "output_type": "stream",
     "text": [
      "Traceback (most recent call last):\n",
      "  File \"/Users/kevinmaikjablonka/miniconda3/envs/gpt3/bin/openai\", line 8, in <module>\n",
      "    sys.exit(main())\n",
      "  File \"/Users/kevinmaikjablonka/miniconda3/envs/gpt3/lib/python3.9/site-packages/openai/_openai_scripts.py\", line 63, in main\n",
      "    args.func(args)\n",
      "  File \"/Users/kevinmaikjablonka/miniconda3/envs/gpt3/lib/python3.9/site-packages/openai/cli.py\", line 545, in sync\n",
      "    resp = openai.wandb_logger.WandbLogger.sync(\n",
      "  File \"/Users/kevinmaikjablonka/miniconda3/envs/gpt3/lib/python3.9/site-packages/openai/wandb_logger.py\", line 74, in sync\n",
      "    fine_tune_logged = [\n",
      "  File \"/Users/kevinmaikjablonka/miniconda3/envs/gpt3/lib/python3.9/site-packages/openai/wandb_logger.py\", line 75, in <listcomp>\n",
      "    cls._log_fine_tune(\n",
      "  File \"/Users/kevinmaikjablonka/miniconda3/envs/gpt3/lib/python3.9/site-packages/openai/wandb_logger.py\", line 125, in _log_fine_tune\n",
      "    wandb_run = cls._get_wandb_run(run_path)\n",
      "  File \"/Users/kevinmaikjablonka/miniconda3/envs/gpt3/lib/python3.9/site-packages/openai/wandb_logger.py\", line 190, in _get_wandb_run\n",
      "    cls._ensure_logged_in()\n",
      "  File \"/Users/kevinmaikjablonka/miniconda3/envs/gpt3/lib/python3.9/site-packages/openai/wandb_logger.py\", line 186, in _ensure_logged_in\n",
      "    raise Exception(\"You need to log in to wandb\")\n",
      "Exception: You need to log in to wandb\n"
     ]
    },
    {
     "data": {
      "text/plain": [
       "'ada:ft-lsmoepfl-2022-11-08-15-00-47'"
      ]
     },
     "execution_count": 9,
     "metadata": {},
     "output_type": "execute_result"
    }
   ],
   "source": [
    "fine_tune(train_filename, valid_filename)"
   ]
  },
  {
   "cell_type": "code",
   "execution_count": 10,
   "id": "51250544-4f06-4b32-b372-58e202d26acb",
   "metadata": {},
   "outputs": [
    {
     "ename": "KeyboardInterrupt",
     "evalue": "",
     "output_type": "error",
     "traceback": [
      "\u001b[0;31m---------------------------------------------------------------------------\u001b[0m",
      "\u001b[0;31mKeyboardInterrupt\u001b[0m                         Traceback (most recent call last)",
      "\u001b[1;32m/Users/kevinmaikjablonka/git/kjappelbaum/gpt3forchem/experiments/36_ustpo_more_data.ipynb Cell 9\u001b[0m in \u001b[0;36m<cell line: 1>\u001b[0;34m()\u001b[0m\n\u001b[0;32m----> <a href='vscode-notebook-cell:/Users/kevinmaikjablonka/git/kjappelbaum/gpt3forchem/experiments/36_ustpo_more_data.ipynb#X11sZmlsZQ%3D%3D?line=0'>1</a>\u001b[0m completions \u001b[39m=\u001b[39m query_gpt3(\u001b[39m'\u001b[39;49m\u001b[39mada:ft-lsmoepfl-2022-11-08-15-00-47\u001b[39;49m\u001b[39m'\u001b[39;49m, test_prompts)\n",
      "File \u001b[0;32m~/git/kjappelbaum/gpt3forchem/gpt3forchem/api_wrappers.py:120\u001b[0m, in \u001b[0;36mquery_gpt3\u001b[0;34m(model, df, temperature, max_tokens, sleep, one_by_one, parallel_max)\u001b[0m\n\u001b[1;32m    113\u001b[0m         completions_ \u001b[39m=\u001b[39m openai\u001b[39m.\u001b[39mCompletion\u001b[39m.\u001b[39mcreate(\n\u001b[1;32m    114\u001b[0m             model\u001b[39m=\u001b[39mmodel,\n\u001b[1;32m    115\u001b[0m             prompt\u001b[39m=\u001b[39mchunk,\n\u001b[1;32m    116\u001b[0m             temperature\u001b[39m=\u001b[39mtemperature,\n\u001b[1;32m    117\u001b[0m             max_tokens\u001b[39m=\u001b[39mmax_tokens,\n\u001b[1;32m    118\u001b[0m         )\n\u001b[1;32m    119\u001b[0m         completions\u001b[39m.\u001b[39mappend(completions_)\n\u001b[0;32m--> 120\u001b[0m         time\u001b[39m.\u001b[39;49msleep(sleep)\n\u001b[1;32m    122\u001b[0m     completions \u001b[39m=\u001b[39m {\n\u001b[1;32m    123\u001b[0m         \u001b[39m\"\u001b[39m\u001b[39mchoices\u001b[39m\u001b[39m\"\u001b[39m: [choice \u001b[39mfor\u001b[39;00m c \u001b[39min\u001b[39;00m completions \u001b[39mfor\u001b[39;00m choice \u001b[39min\u001b[39;00m c[\u001b[39m\"\u001b[39m\u001b[39mchoices\u001b[39m\u001b[39m\"\u001b[39m]],\n\u001b[1;32m    124\u001b[0m     }\n\u001b[1;32m    126\u001b[0m \u001b[39mreturn\u001b[39;00m completions\n",
      "\u001b[0;31mKeyboardInterrupt\u001b[0m: "
     ]
    }
   ],
   "source": [
    "completions = query_gpt3('ada:ft-lsmoepfl-2022-11-08-15-00-47', test_prompts)"
   ]
  },
  {
   "cell_type": "code",
   "execution_count": 11,
   "id": "94af44de",
   "metadata": {},
   "outputs": [
    {
     "ename": "NameError",
     "evalue": "name 'completions' is not defined",
     "output_type": "error",
     "traceback": [
      "\u001b[0;31m---------------------------------------------------------------------------\u001b[0m",
      "\u001b[0;31mNameError\u001b[0m                                 Traceback (most recent call last)",
      "\u001b[1;32m/Users/kevinmaikjablonka/git/kjappelbaum/gpt3forchem/experiments/36_ustpo_more_data.ipynb Cell 10\u001b[0m in \u001b[0;36m<cell line: 1>\u001b[0;34m()\u001b[0m\n\u001b[0;32m----> <a href='vscode-notebook-cell:/Users/kevinmaikjablonka/git/kjappelbaum/gpt3forchem/experiments/36_ustpo_more_data.ipynb#Y116sZmlsZQ%3D%3D?line=0'>1</a>\u001b[0m completions\n",
      "\u001b[0;31mNameError\u001b[0m: name 'completions' is not defined"
     ]
    }
   ],
   "source": [
    "completions"
   ]
  },
  {
   "cell_type": "code",
   "execution_count": null,
   "id": "a51cc016-c786-4509-a27b-be10cde1183e",
   "metadata": {},
   "outputs": [],
   "source": [
    "predictions = [extract_regression_prediction(completions, i) for i, completion in enumerate(completions[\"choices\"])]"
   ]
  },
  {
   "cell_type": "code",
   "execution_count": null,
   "id": "0c90017e-1c72-4ae6-aca9-0dd49a3945e3",
   "metadata": {},
   "outputs": [],
   "source": [
    "true = test_prompts['completion'].apply(lambda x: int(x.split('@@@')[0])).values"
   ]
  },
  {
   "cell_type": "code",
   "execution_count": null,
   "id": "67b6e661-65e2-4a27-a0a8-6570662e6990",
   "metadata": {},
   "outputs": [
    {
     "data": {
      "text/plain": [
       "<matplotlib.collections.PathCollection>"
      ]
     },
     "execution_count": null,
     "metadata": {},
     "output_type": "execute_result"
    },
    {
     "data": {
      "image/png": "[encoded data removed]",
      "text/plain": [
       "<Figure size 432x288 with 1 Axes>"
      ]
     },
     "metadata": {
      "needs_background": "light"
     },
     "output_type": "display_data"
    }
   ],
   "source": [
    "plt.scatter(true, predictions)"
   ]
  },
  {
   "cell_type": "code",
   "execution_count": null,
   "id": "fa1af5f1-4c63-4746-9713-e64aa3a0c6a4",
   "metadata": {},
   "outputs": [
    {
     "data": {
      "text/plain": [
       "0.6838949660776262"
      ]
     },
     "execution_count": null,
     "metadata": {},
     "output_type": "execute_result"
    }
   ],
   "source": [
    "r2_score(true, predictions)"
   ]
  },
  {
   "cell_type": "markdown",
   "id": "251e3379-2bf5-4b62-ab06-807cc764bf27",
   "metadata": {},
   "source": [
    "### can this be data leakage?"
   ]
  },
  {
   "cell_type": "markdown",
   "id": "3182c378-f04a-4e53-8f79-68f30bee4b9b",
   "metadata": {},
   "source": [
    "First, check if there are duplicated reaction SMILES."
   ]
  },
  {
   "cell_type": "code",
   "execution_count": null,
   "id": "f854349d-4bb5-477d-9e1e-4553b7f22718",
   "metadata": {},
   "outputs": [
    {
     "data": {
      "text/plain": [
       "846"
      ]
     },
     "execution_count": null,
     "metadata": {},
     "output_type": "execute_result"
    }
   ],
   "source": [
    "len(data) - len(data['reaction_smiles'].unique())"
   ]
  },
  {
   "cell_type": "markdown",
   "id": "e8c7a04d-fdb5-4436-b096-d8b95ed07e04",
   "metadata": {},
   "source": [
    "ok, there are several duplicates"
   ]
  },
  {
   "cell_type": "markdown",
   "id": "7b99ec46-1c0f-484d-b112-4cdbb2fb4439",
   "metadata": {},
   "source": [
    "now, let's try to be more careful here and just split the reaction SMILES into train and test sets."
   ]
  },
  {
   "cell_type": "code",
   "execution_count": null,
   "id": "7e0f9c18-b737-46dd-9795-de75dfcd679a",
   "metadata": {},
   "outputs": [],
   "source": [
    "train_reaction_smiles, test_reaction_smiles = train_test_split(data['reaction_smiles'].unique(), train_size=0.8)"
   ]
  },
  {
   "cell_type": "code",
   "execution_count": null,
   "id": "1cd28e98-4f41-4183-8ef8-0c1d9eccf768",
   "metadata": {},
   "outputs": [],
   "source": [
    "train_data = data[data['reaction_smiles'].isin(train_reaction_smiles)]\n",
    "test_data = data[data['reaction_smiles'].isin(test_reaction_smiles)]"
   ]
  },
  {
   "cell_type": "code",
   "execution_count": null,
   "id": "b8f16572-78f5-4d10-8fa4-58d4d1a8848b",
   "metadata": {},
   "outputs": [],
   "source": [
    "train_prompts = create_reaction_yield_prompts(train_data) \n",
    "test_prompts = create_reaction_yield_prompts(test_data)"
   ]
  },
  {
   "cell_type": "code",
   "execution_count": null,
   "id": "7cd383b6-9a17-43e5-8222-d9e18dec0991",
   "metadata": {},
   "outputs": [],
   "source": [
    "train_size  = len(train_prompts)\n",
    "test_size = len(test_prompts)\n",
    "\n",
    "filename_base = time.strftime(\"%Y-%m-%d-%H-%M-%S\", time.localtime())\n",
    "train_filename = f\"run_files/{filename_base}_train_prompts_uspto_yield_regression_{train_size}.jsonl\"\n",
    "valid_filename = f\"run_files/{filename_base}_valid_prompts_uspto_yield_regression_{test_size}.jsonl\"\n",
    "\n",
    "train_prompts.to_json(train_filename, orient=\"records\", lines=True)\n",
    "test_prompts.to_json(valid_filename, orient=\"records\", lines=True)\n"
   ]
  },
  {
   "cell_type": "code",
   "execution_count": null,
   "id": "a9d7e1f5-5ad8-4c91-a37b-bf6ed5676393",
   "metadata": {},
   "outputs": [
    {
     "name": "stderr",
     "output_type": "stream",
     "text": [
      "Traceback (most recent call last):\n",
      "  File \"/Users/kevinmaikjablonka/miniconda3/envs/gpt3/bin/openai\", line 8, in <module>\n",
      "    sys.exit(main())\n",
      "  File \"/Users/kevinmaikjablonka/miniconda3/envs/gpt3/lib/python3.9/site-packages/openai/_openai_scripts.py\", line 63, in main\n",
      "    args.func(args)\n",
      "  File \"/Users/kevinmaikjablonka/miniconda3/envs/gpt3/lib/python3.9/site-packages/openai/cli.py\", line 545, in sync\n",
      "    resp = openai.wandb_logger.WandbLogger.sync(\n",
      "  File \"/Users/kevinmaikjablonka/miniconda3/envs/gpt3/lib/python3.9/site-packages/openai/wandb_logger.py\", line 74, in sync\n",
      "    fine_tune_logged = [\n",
      "  File \"/Users/kevinmaikjablonka/miniconda3/envs/gpt3/lib/python3.9/site-packages/openai/wandb_logger.py\", line 75, in <listcomp>\n",
      "    cls._log_fine_tune(\n",
      "  File \"/Users/kevinmaikjablonka/miniconda3/envs/gpt3/lib/python3.9/site-packages/openai/wandb_logger.py\", line 125, in _log_fine_tune\n",
      "    wandb_run = cls._get_wandb_run(run_path)\n",
      "  File \"/Users/kevinmaikjablonka/miniconda3/envs/gpt3/lib/python3.9/site-packages/openai/wandb_logger.py\", line 190, in _get_wandb_run\n",
      "    cls._ensure_logged_in()\n",
      "  File \"/Users/kevinmaikjablonka/miniconda3/envs/gpt3/lib/python3.9/site-packages/openai/wandb_logger.py\", line 186, in _ensure_logged_in\n",
      "    raise Exception(\"You need to log in to wandb\")\n",
      "Exception: You need to log in to wandb\n"
     ]
    },
    {
     "data": {
      "text/plain": [
       "'ada:ft-lsmoepfl-2022-10-13-13-19-56'"
      ]
     },
     "execution_count": null,
     "metadata": {},
     "output_type": "execute_result"
    }
   ],
   "source": [
    "fine_tune(train_filename, valid_filename)"
   ]
  },
  {
   "cell_type": "code",
   "execution_count": null,
   "id": "ef65c165-04af-4aec-8cf1-74f1470ece28",
   "metadata": {},
   "outputs": [],
   "source": [
    "completions = query_gpt3('ada:ft-lsmoepfl-2022-10-13-13-19-56', test_prompts)"
   ]
  },
  {
   "cell_type": "code",
   "execution_count": null,
   "id": "aea46a6f-af3d-42f0-8562-69512bdd1f67",
   "metadata": {},
   "outputs": [],
   "source": [
    "predictions = np.array([extract_regression_prediction(completions, i) for i, completion in enumerate(completions[\"choices\"])])\n",
    "true = test_prompts['completion'].apply(lambda x: int(x.split('@@@')[0])).values"
   ]
  },
  {
   "cell_type": "code",
   "execution_count": null,
   "id": "31f42f77-25bc-4637-8e5f-dc56739d455d",
   "metadata": {},
   "outputs": [
    {
     "data": {
      "text/plain": [
       "<matplotlib.collections.PathCollection>"
      ]
     },
     "execution_count": null,
     "metadata": {},
     "output_type": "execute_result"
    },
    {
     "data": {
      "image/png": "[encoded data removed]",
      "text/plain": [
       "<Figure size 432x288 with 1 Axes>"
      ]
     },
     "metadata": {
      "needs_background": "light"
     },
     "output_type": "display_data"
    }
   ],
   "source": [
    "plt.scatter(true, predictions)"
   ]
  },
  {
   "cell_type": "code",
   "execution_count": null,
   "id": "2d98769e-faea-4bf0-b2c8-20c683606de2",
   "metadata": {},
   "outputs": [],
   "source": [
    "not_nan = ~pd.isna(predictions)"
   ]
  },
  {
   "cell_type": "code",
   "execution_count": null,
   "id": "36558b52-71bd-48d3-afbf-1bc9df8d878b",
   "metadata": {},
   "outputs": [
    {
     "data": {
      "text/plain": [
       "0.19808815914679423"
      ]
     },
     "execution_count": null,
     "metadata": {},
     "output_type": "execute_result"
    }
   ],
   "source": [
    "r2_score(true[not_nan], predictions[not_nan])"
   ]
  },
  {
   "cell_type": "code",
   "execution_count": null,
   "id": "ba86ec84-1a61-4e2d-a13e-bd66a10382f9",
   "metadata": {},
   "outputs": [
    {
     "data": {
      "text/plain": [
       "1218"
      ]
     },
     "execution_count": null,
     "metadata": {},
     "output_type": "execute_result"
    }
   ],
   "source": [
    "len(train_data)"
   ]
  },
  {
   "cell_type": "markdown",
   "id": "ac1e9480-dcc7-4511-878b-57da9b685e72",
   "metadata": {},
   "source": [
    "### Now, add reaction SMILES"
   ]
  },
  {
   "cell_type": "code",
   "execution_count": null,
   "id": "4daf4a18-74e6-4274-beae-70df70f45a18",
   "metadata": {},
   "outputs": [],
   "source": [
    "train_prompts = create_reaction_yield_prompts(train_data, include_reaction_smiles=True) \n",
    "test_prompts = create_reaction_yield_prompts(test_data, include_reaction_smiles=True)"
   ]
  },
  {
   "cell_type": "code",
   "execution_count": null,
   "id": "a84d5335-40a6-488b-ae4b-260d8fa1febe",
   "metadata": {},
   "outputs": [],
   "source": [
    "train_size  = len(train_prompts)\n",
    "test_size = len(test_prompts)\n",
    "\n",
    "filename_base = time.strftime(\"%Y-%m-%d-%H-%M-%S\", time.localtime())\n",
    "train_filename = f\"run_files/{filename_base}_train_prompts_uspto_yield_regression_{train_size}.jsonl\"\n",
    "valid_filename = f\"run_files/{filename_base}_valid_prompts_uspto_yield_regression_{test_size}.jsonl\"\n",
    "\n",
    "train_prompts.to_json(train_filename, orient=\"records\", lines=True)\n",
    "test_prompts.to_json(valid_filename, orient=\"records\", lines=True)\n"
   ]
  },
  {
   "cell_type": "code",
   "execution_count": null,
   "id": "bea3ed7a-c23d-461c-bd51-093d7b05061b",
   "metadata": {},
   "outputs": [
    {
     "name": "stderr",
     "output_type": "stream",
     "text": [
      "Traceback (most recent call last):\n",
      "  File \"/Users/kevinmaikjablonka/miniconda3/envs/gpt3/bin/openai\", line 8, in <module>\n",
      "    sys.exit(main())\n",
      "  File \"/Users/kevinmaikjablonka/miniconda3/envs/gpt3/lib/python3.9/site-packages/openai/_openai_scripts.py\", line 63, in main\n",
      "    args.func(args)\n",
      "  File \"/Users/kevinmaikjablonka/miniconda3/envs/gpt3/lib/python3.9/site-packages/openai/cli.py\", line 545, in sync\n",
      "    resp = openai.wandb_logger.WandbLogger.sync(\n",
      "  File \"/Users/kevinmaikjablonka/miniconda3/envs/gpt3/lib/python3.9/site-packages/openai/wandb_logger.py\", line 74, in sync\n",
      "    fine_tune_logged = [\n",
      "  File \"/Users/kevinmaikjablonka/miniconda3/envs/gpt3/lib/python3.9/site-packages/openai/wandb_logger.py\", line 75, in <listcomp>\n",
      "    cls._log_fine_tune(\n",
      "  File \"/Users/kevinmaikjablonka/miniconda3/envs/gpt3/lib/python3.9/site-packages/openai/wandb_logger.py\", line 125, in _log_fine_tune\n",
      "    wandb_run = cls._get_wandb_run(run_path)\n",
      "  File \"/Users/kevinmaikjablonka/miniconda3/envs/gpt3/lib/python3.9/site-packages/openai/wandb_logger.py\", line 190, in _get_wandb_run\n",
      "    cls._ensure_logged_in()\n",
      "  File \"/Users/kevinmaikjablonka/miniconda3/envs/gpt3/lib/python3.9/site-packages/openai/wandb_logger.py\", line 186, in _ensure_logged_in\n",
      "    raise Exception(\"You need to log in to wandb\")\n",
      "Exception: You need to log in to wandb\n"
     ]
    },
    {
     "data": {
      "text/plain": [
       "'ada:ft-lsmoepfl-2022-10-13-13-43-43'"
      ]
     },
     "execution_count": null,
     "metadata": {},
     "output_type": "execute_result"
    }
   ],
   "source": [
    "fine_tune(train_filename, valid_filename)"
   ]
  },
  {
   "cell_type": "code",
   "execution_count": null,
   "id": "30cdab0f-cd52-4bb2-86ac-8f1e8626c287",
   "metadata": {},
   "outputs": [],
   "source": [
    "completions = query_gpt3('ada:ft-lsmoepfl-2022-10-13-13-43-43', test_prompts)"
   ]
  },
  {
   "cell_type": "code",
   "execution_count": null,
   "id": "eea055c7-790f-44b2-a55d-6ae1877b211a",
   "metadata": {},
   "outputs": [],
   "source": [
    "predictions = np.array([extract_regression_prediction(completions, i) for i, completion in enumerate(completions[\"choices\"])])\n",
    "true = test_prompts['completion'].apply(lambda x: int(x.split('@@@')[0])).values"
   ]
  },
  {
   "cell_type": "code",
   "execution_count": null,
   "id": "98e86b2f-4006-4107-b89e-bb7743d2f13b",
   "metadata": {},
   "outputs": [
    {
     "data": {
      "text/plain": [
       "<matplotlib.collections.PathCollection>"
      ]
     },
     "execution_count": null,
     "metadata": {},
     "output_type": "execute_result"
    },
    {
     "data": {
      "image/png": "[encoded data removed]",
      "text/plain": [
       "<Figure size 432x288 with 1 Axes>"
      ]
     },
     "metadata": {
      "needs_background": "light"
     },
     "output_type": "display_data"
    }
   ],
   "source": [
    "plt.scatter(true, predictions)"
   ]
  },
  {
   "cell_type": "code",
   "execution_count": null,
   "id": "b626f1af-b5c7-4da7-b502-f759ddcf6a4d",
   "metadata": {},
   "outputs": [],
   "source": [
    "not_nan = ~pd.isna(predictions)"
   ]
  },
  {
   "cell_type": "code",
   "execution_count": null,
   "id": "c239b3d6-ad8f-4d71-a0a7-3e0e8a52c19c",
   "metadata": {},
   "outputs": [
    {
     "data": {
      "text/plain": [
       "0.10309063282769448"
      ]
     },
     "execution_count": null,
     "metadata": {},
     "output_type": "execute_result"
    }
   ],
   "source": [
    "r2_score(true[not_nan], predictions[not_nan])"
   ]
  },
  {
   "cell_type": "code",
   "execution_count": null,
   "id": "afc95d54-e106-4773-a6f1-672afef37e3f",
   "metadata": {},
   "outputs": [
    {
     "data": {
      "text/plain": [
       "1218"
      ]
     },
     "execution_count": null,
     "metadata": {},
     "output_type": "execute_result"
    }
   ],
   "source": [
    "len(train_data)"
   ]
  },
  {
   "cell_type": "markdown",
   "id": "3ad8d64e-be4e-45f6-8667-c2f16fc0458f",
   "metadata": {},
   "source": [
    "## Now only reaction SMILES"
   ]
  },
  {
   "cell_type": "code",
   "execution_count": null,
   "id": "c5a3f1db-d61d-4dd9-ae74-efab1edff6a4",
   "metadata": {},
   "outputs": [],
   "source": [
    "train_prompts = create_reaction_yield_prompts(train_data, only_reaction_smiles=True) \n",
    "test_prompts = create_reaction_yield_prompts(test_data, only_reaction_smiles=True)"
   ]
  },
  {
   "cell_type": "code",
   "execution_count": null,
   "id": "25e411fb-9732-4c39-bbb1-35ff5bc8a988",
   "metadata": {},
   "outputs": [],
   "source": [
    "train_size  = len(train_prompts)\n",
    "test_size = len(test_prompts)\n",
    "\n",
    "filename_base = time.strftime(\"%Y-%m-%d-%H-%M-%S\", time.localtime())\n",
    "train_filename = f\"run_files/{filename_base}_train_prompts_uspto_yield_regression_{train_size}.jsonl\"\n",
    "valid_filename = f\"run_files/{filename_base}_valid_prompts_uspto_yield_regression_{test_size}.jsonl\"\n",
    "\n",
    "train_prompts.to_json(train_filename, orient=\"records\", lines=True)\n",
    "test_prompts.to_json(valid_filename, orient=\"records\", lines=True)\n"
   ]
  },
  {
   "cell_type": "code",
   "execution_count": null,
   "id": "03687221-aef4-4d60-a3f8-363846b35627",
   "metadata": {},
   "outputs": [
    {
     "name": "stderr",
     "output_type": "stream",
     "text": [
      "Traceback (most recent call last):\n",
      "  File \"/Users/kevinmaikjablonka/miniconda3/envs/gpt3/bin/openai\", line 8, in <module>\n",
      "    sys.exit(main())\n",
      "  File \"/Users/kevinmaikjablonka/miniconda3/envs/gpt3/lib/python3.9/site-packages/openai/_openai_scripts.py\", line 63, in main\n",
      "    args.func(args)\n",
      "  File \"/Users/kevinmaikjablonka/miniconda3/envs/gpt3/lib/python3.9/site-packages/openai/cli.py\", line 545, in sync\n",
      "    resp = openai.wandb_logger.WandbLogger.sync(\n",
      "  File \"/Users/kevinmaikjablonka/miniconda3/envs/gpt3/lib/python3.9/site-packages/openai/wandb_logger.py\", line 74, in sync\n",
      "    fine_tune_logged = [\n",
      "  File \"/Users/kevinmaikjablonka/miniconda3/envs/gpt3/lib/python3.9/site-packages/openai/wandb_logger.py\", line 75, in <listcomp>\n",
      "    cls._log_fine_tune(\n",
      "  File \"/Users/kevinmaikjablonka/miniconda3/envs/gpt3/lib/python3.9/site-packages/openai/wandb_logger.py\", line 125, in _log_fine_tune\n",
      "    wandb_run = cls._get_wandb_run(run_path)\n",
      "  File \"/Users/kevinmaikjablonka/miniconda3/envs/gpt3/lib/python3.9/site-packages/openai/wandb_logger.py\", line 190, in _get_wandb_run\n",
      "    cls._ensure_logged_in()\n",
      "  File \"/Users/kevinmaikjablonka/miniconda3/envs/gpt3/lib/python3.9/site-packages/openai/wandb_logger.py\", line 186, in _ensure_logged_in\n",
      "    raise Exception(\"You need to log in to wandb\")\n",
      "Exception: You need to log in to wandb\n"
     ]
    },
    {
     "data": {
      "text/plain": [
       "'ada:ft-lsmoepfl-2022-10-13-14-29-08'"
      ]
     },
     "execution_count": null,
     "metadata": {},
     "output_type": "execute_result"
    }
   ],
   "source": [
    "fine_tune(train_filename, valid_filename)"
   ]
  },
  {
   "cell_type": "code",
   "execution_count": null,
   "id": "ba921eef-f3c4-49bc-b571-8aa6a761fd9a",
   "metadata": {},
   "outputs": [],
   "source": [
    "completions = query_gpt3('ada:ft-lsmoepfl-2022-10-13-14-29-08', test_prompts)"
   ]
  },
  {
   "cell_type": "code",
   "execution_count": null,
   "id": "fcb6db62-c627-46f5-97ef-4b0ae16c71cc",
   "metadata": {},
   "outputs": [],
   "source": [
    "predictions = np.array([extract_regression_prediction(completions, i) for i, completion in enumerate(completions[\"choices\"])])\n",
    "true = test_prompts['completion'].apply(lambda x: int(x.split('@@@')[0])).values"
   ]
  },
  {
   "cell_type": "code",
   "execution_count": null,
   "id": "26f7a302-8da1-4b56-b533-ff6b64ec15cc",
   "metadata": {},
   "outputs": [
    {
     "data": {
      "text/plain": [
       "<matplotlib.collections.PathCollection>"
      ]
     },
     "execution_count": null,
     "metadata": {},
     "output_type": "execute_result"
    },
    {
     "data": {
      "image/png": "[encoded data removed]",
      "text/plain": [
       "<Figure size 432x288 with 1 Axes>"
      ]
     },
     "metadata": {
      "needs_background": "light"
     },
     "output_type": "display_data"
    }
   ],
   "source": [
    "plt.scatter(true, predictions)"
   ]
  },
  {
   "cell_type": "code",
   "execution_count": null,
   "id": "76b915e8-4ab5-4608-aa3e-79e18448d497",
   "metadata": {},
   "outputs": [],
   "source": [
    "not_nan = ~pd.isna(predictions)"
   ]
  },
  {
   "cell_type": "code",
   "execution_count": null,
   "id": "46d6f69f-fe16-403b-954c-1c14df6c0225",
   "metadata": {},
   "outputs": [
    {
     "data": {
      "text/plain": [
       "-0.06202642117909174"
      ]
     },
     "execution_count": null,
     "metadata": {},
     "output_type": "execute_result"
    }
   ],
   "source": [
    "r2_score(true[not_nan], predictions[not_nan])"
   ]
  },
  {
   "cell_type": "markdown",
   "id": "2484f43c-e80a-41a9-b1d0-f3c41a7ba0b2",
   "metadata": {},
   "source": [
    "### Do one last experiment where we look at the scale of the reaction "
   ]
  },
  {
   "cell_type": "code",
   "execution_count": null,
   "id": "100036fe-9510-46a9-a745-a14d1b2f74fd",
   "metadata": {},
   "outputs": [
    {
     "data": {
      "text/plain": [
       "(array([  5.,  57., 305., 378., 353., 257., 137.,  56.,   5.,   2.]),\n",
       " array([-7.18219212, -5.51914748, -3.85610284, -2.1930582 , -0.53001355,\n",
       "         1.13303109,  2.79607573,  4.45912037,  6.12216502,  7.78520966,\n",
       "         9.4482543 ]),\n",
       " <BarContainer object of 10 artists>)"
      ]
     },
     "execution_count": null,
     "metadata": {},
     "output_type": "execute_result"
    },
    {
     "data": {
      "image/png": "[encoded data removed]",
      "text/plain": [
       "<Figure size 432x288 with 1 Axes>"
      ]
     },
     "metadata": {
      "needs_background": "light"
     },
     "output_type": "display_data"
    }
   ],
   "source": [
    "plt.hist(np.log(data['mass']))"
   ]
  },
  {
   "cell_type": "code",
   "execution_count": null,
   "id": "6a6f44cb-09c4-45ff-b6bf-c1df83b9bd1a",
   "metadata": {},
   "outputs": [],
   "source": [
    "small_scale_reactions = data[data['mass'] <1]"
   ]
  },
  {
   "cell_type": "code",
   "execution_count": null,
   "id": "8522bf6b-85c3-4029-8b07-d8dae13bf34d",
   "metadata": {},
   "outputs": [],
   "source": [
    "train_reaction_smiles_small_scale_reactions, test_reaction_smiles_small_scale_reactions = train_test_split(small_scale_reactions['reaction_smiles'].unique(), train_size=0.8)"
   ]
  },
  {
   "cell_type": "code",
   "execution_count": null,
   "id": "b5dd5d4a-6c97-4907-8e5a-e8cb7b2ca482",
   "metadata": {},
   "outputs": [],
   "source": [
    "train_data_small_scale_reactions = small_scale_reactions[small_scale_reactions['reaction_smiles'].isin(train_reaction_smiles_small_scale_reactions)]\n",
    "test_data_small_scale_reactions = small_scale_reactions[small_scale_reactions['reaction_smiles'].isin(test_reaction_smiles_small_scale_reactions)]"
   ]
  },
  {
   "cell_type": "code",
   "execution_count": null,
   "id": "42cfcf67-8a00-447e-829d-9e53eb97d0f6",
   "metadata": {},
   "outputs": [],
   "source": [
    "train_prompts_small_scale_reactions = create_reaction_yield_prompts(train_data_small_scale_reactions, include_reaction_smiles=False) \n",
    "test_prompts_small_scale_reactions = create_reaction_yield_prompts(test_data_small_scale_reactions, include_reaction_smiles=False)"
   ]
  },
  {
   "cell_type": "code",
   "execution_count": null,
   "id": "8ec07244-e851-4682-b741-41b587e7b60b",
   "metadata": {},
   "outputs": [],
   "source": [
    "train_size  = len(train_prompts)\n",
    "test_size = len(test_prompts)\n",
    "\n",
    "filename_base = time.strftime(\"%Y-%m-%d-%H-%M-%S\", time.localtime())\n",
    "train_filename_small_scale_reactions = f\"run_files/{filename_base}_train_prompts_uspto_yield_small_scale_regression_{train_size}.jsonl\"\n",
    "valid_filename_small_scale_reactions = f\"run_files/{filename_base}_valid_prompts_uspto_yield_small_scale_regression_{test_size}.jsonl\"\n",
    "\n",
    "train_prompts_small_scale_reactions.to_json(train_filename_small_scale_reactions, orient=\"records\", lines=True)\n",
    "test_prompts_small_scale_reactions.to_json(valid_filename_small_scale_reactions, orient=\"records\", lines=True)\n"
   ]
  },
  {
   "cell_type": "code",
   "execution_count": null,
   "id": "544b259b-4b84-450b-b9c5-d3dc937a945c",
   "metadata": {},
   "outputs": [
    {
     "name": "stderr",
     "output_type": "stream",
     "text": [
      "Traceback (most recent call last):\n",
      "  File \"/Users/kevinmaikjablonka/miniconda3/envs/gpt3/bin/openai\", line 8, in <module>\n",
      "    sys.exit(main())\n",
      "  File \"/Users/kevinmaikjablonka/miniconda3/envs/gpt3/lib/python3.9/site-packages/openai/_openai_scripts.py\", line 63, in main\n",
      "    args.func(args)\n",
      "  File \"/Users/kevinmaikjablonka/miniconda3/envs/gpt3/lib/python3.9/site-packages/openai/cli.py\", line 545, in sync\n",
      "    resp = openai.wandb_logger.WandbLogger.sync(\n",
      "  File \"/Users/kevinmaikjablonka/miniconda3/envs/gpt3/lib/python3.9/site-packages/openai/wandb_logger.py\", line 74, in sync\n",
      "    fine_tune_logged = [\n",
      "  File \"/Users/kevinmaikjablonka/miniconda3/envs/gpt3/lib/python3.9/site-packages/openai/wandb_logger.py\", line 75, in <listcomp>\n",
      "    cls._log_fine_tune(\n",
      "  File \"/Users/kevinmaikjablonka/miniconda3/envs/gpt3/lib/python3.9/site-packages/openai/wandb_logger.py\", line 125, in _log_fine_tune\n",
      "    wandb_run = cls._get_wandb_run(run_path)\n",
      "  File \"/Users/kevinmaikjablonka/miniconda3/envs/gpt3/lib/python3.9/site-packages/openai/wandb_logger.py\", line 190, in _get_wandb_run\n",
      "    cls._ensure_logged_in()\n",
      "  File \"/Users/kevinmaikjablonka/miniconda3/envs/gpt3/lib/python3.9/site-packages/openai/wandb_logger.py\", line 186, in _ensure_logged_in\n",
      "    raise Exception(\"You need to log in to wandb\")\n",
      "Exception: You need to log in to wandb\n"
     ]
    },
    {
     "data": {
      "text/plain": [
       "'ada:ft-lsmoepfl-2022-10-13-14-54-19'"
      ]
     },
     "execution_count": null,
     "metadata": {},
     "output_type": "execute_result"
    }
   ],
   "source": [
    "fine_tune(train_filename_small_scale_reactions, valid_filename_small_scale_reactions)"
   ]
  },
  {
   "cell_type": "code",
   "execution_count": null,
   "id": "60cc762e-484e-4ed0-a5e9-8a306f4e59a7",
   "metadata": {},
   "outputs": [],
   "source": [
    "completions = query_gpt3('ada:ft-lsmoepfl-2022-10-13-14-54-19', test_prompts_small_scale_reactions)"
   ]
  },
  {
   "cell_type": "code",
   "execution_count": null,
   "id": "52e2d82a-32ff-4deb-9ca5-11ec267cfea0",
   "metadata": {},
   "outputs": [],
   "source": [
    "predictions = np.array([extract_regression_prediction(completions, i) for i, completion in enumerate(completions[\"choices\"])])\n",
    "true = test_prompts_small_scale_reactions['completion'].apply(lambda x: int(x.split('@@@')[0])).values"
   ]
  },
  {
   "cell_type": "code",
   "execution_count": null,
   "id": "5a4199ae-44fa-4f5a-824b-ef927eb0ce9b",
   "metadata": {},
   "outputs": [
    {
     "data": {
      "text/plain": [
       "<matplotlib.collections.PathCollection>"
      ]
     },
     "execution_count": null,
     "metadata": {},
     "output_type": "execute_result"
    },
    {
     "data": {
      "image/png": "[encoded data removed]",
      "text/plain": [
       "<Figure size 432x288 with 1 Axes>"
      ]
     },
     "metadata": {
      "needs_background": "light"
     },
     "output_type": "display_data"
    }
   ],
   "source": [
    "plt.scatter(true, predictions)"
   ]
  },
  {
   "cell_type": "code",
   "execution_count": null,
   "id": "2675a820-d07f-4003-944e-b70281e9443c",
   "metadata": {},
   "outputs": [],
   "source": [
    "not_nan = ~pd.isna(predictions)"
   ]
  },
  {
   "cell_type": "code",
   "execution_count": null,
   "id": "6c89c810-1055-4dc7-94cb-00468148bd05",
   "metadata": {},
   "outputs": [
    {
     "data": {
      "text/plain": [
       "-0.3055075575835864"
      ]
     },
     "execution_count": null,
     "metadata": {},
     "output_type": "execute_result"
    }
   ],
   "source": [
    "r2_score(true[not_nan], predictions[not_nan])"
   ]
  },
  {
   "cell_type": "code",
   "execution_count": null,
   "id": "f8902491-d5b2-4ac3-8478-55b7bd712641",
   "metadata": {},
   "outputs": [],
   "source": []
  }
 ],
 "metadata": {
  "kernelspec": {
   "display_name": "Python 3.9.13 ('gpt3')",
   "language": "python",
   "name": "python3"
  },
  "language_info": {
   "codemirror_mode": {
    "name": "ipython",
    "version": 3
   },
   "file_extension": ".py",
   "mimetype": "text/x-python",
   "name": "python",
   "nbconvert_exporter": "python",
   "pygments_lexer": "ipython3",
   "version": "3.9.13"
  },
  "vscode": {
   "interpreter": {
    "hash": "9a4fa60962de90e73b5da8d67a44b01d2de04630d82b94b8db1f727a73d31e61"
   }
  }
 },
 "nbformat": 4,
 "nbformat_minor": 5
}
