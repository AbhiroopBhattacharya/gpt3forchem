{
 "cells": [
  {
   "cell_type": "code",
   "execution_count": 1,
   "metadata": {},
   "outputs": [
    {
     "name": "stderr",
     "output_type": "stream",
     "text": [
      "/Users/kevinmaikjablonka/miniconda3/envs/gpt3/lib/python3.9/site-packages/tqdm/auto.py:22: TqdmWarning: IProgress not found. Please update jupyter and ipywidgets. See https://ipywidgets.readthedocs.io/en/stable/user_install.html\n",
      "  from .autonotebook import tqdm as notebook_tqdm\n"
     ]
    }
   ],
   "source": [
    "from fastcore.xtras import load_pickle, save_pickle\n",
    "\n",
    "from rxnfp.transformer_fingerprints import (\n",
    "    RXNBERTFingerprintGenerator, get_default_model_and_tokenizer, generate_fingerprints\n",
    ")\n",
    "import numpy as np\n",
    "from gpt3forchem.api_wrappers import fine_tune, query_gpt3, extract_regression_prediction\n",
    "\n",
    "model, tokenizer = get_default_model_and_tokenizer()\n",
    "\n",
    "rxnfp_generator = RXNBERTFingerprintGenerator(model, tokenizer)"
   ]
  },
  {
   "cell_type": "code",
   "execution_count": 2,
   "metadata": {},
   "outputs": [],
   "source": [
    "completions, test_prompts_filtered_frame = load_pickle('run_files/ada:ft-lsmoepfl-2022-11-08-18-02-20_completions.pkl')"
   ]
  },
  {
   "cell_type": "code",
   "execution_count": 3,
   "metadata": {},
   "outputs": [],
   "source": [
    "predictions = np.array([extract_regression_prediction(completions, i) for i, completion in enumerate(completions[\"choices\"])])"
   ]
  },
  {
   "cell_type": "code",
   "execution_count": 4,
   "metadata": {},
   "outputs": [],
   "source": [
    "true = test_prompts_filtered_frame['completion'].apply(lambda x: int(x.split('@@@')[0])).values"
   ]
  },
  {
   "cell_type": "code",
   "execution_count": 5,
   "metadata": {},
   "outputs": [
    {
     "data": {
      "text/html": [
       "<div>\n",
       "<style scoped>\n",
       "    .dataframe tbody tr th:only-of-type {\n",
       "        vertical-align: middle;\n",
       "    }\n",
       "\n",
       "    .dataframe tbody tr th {\n",
       "        vertical-align: top;\n",
       "    }\n",
       "\n",
       "    .dataframe thead th {\n",
       "        text-align: right;\n",
       "    }\n",
       "</style>\n",
       "<table border=\"1\" class=\"dataframe\">\n",
       "  <thead>\n",
       "    <tr style=\"text-align: right;\">\n",
       "      <th></th>\n",
       "      <th>prompt</th>\n",
       "      <th>completion</th>\n",
       "      <th>repr</th>\n",
       "    </tr>\n",
       "  </thead>\n",
       "  <tbody>\n",
       "    <tr>\n",
       "      <th>0</th>\n",
       "      <td>What is the yield of the reaction with the fol...</td>\n",
       "      <td>98@@@</td>\n",
       "      <td>[CH3:1][O:2][C:3]1[CH:4]=[C:5]2[CH2:14][CH:13]...</td>\n",
       "    </tr>\n",
       "    <tr>\n",
       "      <th>1</th>\n",
       "      <td>What is the yield of the reaction with the fol...</td>\n",
       "      <td>86@@@</td>\n",
       "      <td>[H-].[Na+].[CH2:3]([OH:7])[C:4]#[C:5][CH3:6].C...</td>\n",
       "    </tr>\n",
       "    <tr>\n",
       "      <th>2</th>\n",
       "      <td>What is the yield of the reaction with the fol...</td>\n",
       "      <td>73@@@</td>\n",
       "      <td>[CH2:1]([C:5]1([CH2:30][CH2:31][CH2:32][CH3:33...</td>\n",
       "    </tr>\n",
       "    <tr>\n",
       "      <th>3</th>\n",
       "      <td>What is the yield of the reaction with the fol...</td>\n",
       "      <td>97@@@</td>\n",
       "      <td>[CH2:1]([N:3]1[C:11]([CH:12]2[CH2:17][CH2:16][...</td>\n",
       "    </tr>\n",
       "    <tr>\n",
       "      <th>4</th>\n",
       "      <td>What is the yield of the reaction with the fol...</td>\n",
       "      <td>64@@@</td>\n",
       "      <td>[Cl:1][C:2]1[CH:31]=[CH:30][C:5]([CH2:6][NH:7]...</td>\n",
       "    </tr>\n",
       "    <tr>\n",
       "      <th>...</th>\n",
       "      <td>...</td>\n",
       "      <td>...</td>\n",
       "      <td>...</td>\n",
       "    </tr>\n",
       "    <tr>\n",
       "      <th>4994</th>\n",
       "      <td>What is the yield of the reaction with the fol...</td>\n",
       "      <td>53@@@</td>\n",
       "      <td>[CH3:1][O:2][C:3]1[CH:8]=[CH:7][C:6]([N:9]2[C:...</td>\n",
       "    </tr>\n",
       "    <tr>\n",
       "      <th>4996</th>\n",
       "      <td>What is the yield of the reaction with the fol...</td>\n",
       "      <td>90@@@</td>\n",
       "      <td>[Br:1][C:2]1[CH:3]=[CH:4][C:5]2[C:11](=O)/[C:1...</td>\n",
       "    </tr>\n",
       "    <tr>\n",
       "      <th>4997</th>\n",
       "      <td>What is the yield of the reaction with the fol...</td>\n",
       "      <td>113@@@</td>\n",
       "      <td>[CH3:1][O:2][C:3](=[O:20])[C:4]1[CH:9]=[C:8]([...</td>\n",
       "    </tr>\n",
       "    <tr>\n",
       "      <th>4998</th>\n",
       "      <td>What is the yield of the reaction with the fol...</td>\n",
       "      <td>61@@@</td>\n",
       "      <td>[Cl:1][C:2]1[CH:19]=[CH:18][C:5]([O:6][CH2:7][...</td>\n",
       "    </tr>\n",
       "    <tr>\n",
       "      <th>4999</th>\n",
       "      <td>What is the yield of the reaction with the fol...</td>\n",
       "      <td>89@@@</td>\n",
       "      <td>CON(C)[C:4]([C:6]1[C:10]([CH3:11])=[C:9]([CH3:...</td>\n",
       "    </tr>\n",
       "  </tbody>\n",
       "</table>\n",
       "<p>4465 rows × 3 columns</p>\n",
       "</div>"
      ],
      "text/plain": [
       "                                                 prompt completion  \\\n",
       "0     What is the yield of the reaction with the fol...      98@@@   \n",
       "1     What is the yield of the reaction with the fol...      86@@@   \n",
       "2     What is the yield of the reaction with the fol...      73@@@   \n",
       "3     What is the yield of the reaction with the fol...      97@@@   \n",
       "4     What is the yield of the reaction with the fol...      64@@@   \n",
       "...                                                 ...        ...   \n",
       "4994  What is the yield of the reaction with the fol...      53@@@   \n",
       "4996  What is the yield of the reaction with the fol...      90@@@   \n",
       "4997  What is the yield of the reaction with the fol...     113@@@   \n",
       "4998  What is the yield of the reaction with the fol...      61@@@   \n",
       "4999  What is the yield of the reaction with the fol...      89@@@   \n",
       "\n",
       "                                                   repr  \n",
       "0     [CH3:1][O:2][C:3]1[CH:4]=[C:5]2[CH2:14][CH:13]...  \n",
       "1     [H-].[Na+].[CH2:3]([OH:7])[C:4]#[C:5][CH3:6].C...  \n",
       "2     [CH2:1]([C:5]1([CH2:30][CH2:31][CH2:32][CH3:33...  \n",
       "3     [CH2:1]([N:3]1[C:11]([CH:12]2[CH2:17][CH2:16][...  \n",
       "4     [Cl:1][C:2]1[CH:31]=[CH:30][C:5]([CH2:6][NH:7]...  \n",
       "...                                                 ...  \n",
       "4994  [CH3:1][O:2][C:3]1[CH:8]=[CH:7][C:6]([N:9]2[C:...  \n",
       "4996  [Br:1][C:2]1[CH:3]=[CH:4][C:5]2[C:11](=O)/[C:1...  \n",
       "4997  [CH3:1][O:2][C:3](=[O:20])[C:4]1[CH:9]=[C:8]([...  \n",
       "4998  [Cl:1][C:2]1[CH:19]=[CH:18][C:5]([O:6][CH2:7][...  \n",
       "4999  CON(C)[C:4]([C:6]1[C:10]([CH3:11])=[C:9]([CH3:...  \n",
       "\n",
       "[4465 rows x 3 columns]"
      ]
     },
     "execution_count": 5,
     "metadata": {},
     "output_type": "execute_result"
    }
   ],
   "source": [
    "test_prompts_filtered_frame"
   ]
  },
  {
   "cell_type": "code",
   "execution_count": 6,
   "metadata": {},
   "outputs": [],
   "source": [
    "fps = [rxnfp_generator.convert(row['repr']) for _, row in test_prompts_filtered_frame.iterrows()]"
   ]
  },
  {
   "cell_type": "code",
   "execution_count": 7,
   "metadata": {},
   "outputs": [],
   "source": [
    "errors = np.clip(np.abs(predictions - true), 0, 100)"
   ]
  },
  {
   "cell_type": "code",
   "execution_count": 8,
   "metadata": {},
   "outputs": [
    {
     "data": {
      "text/plain": [
       "array([98.,  2.,  4., ..., 58., 24.,  1.])"
      ]
     },
     "execution_count": 8,
     "metadata": {},
     "output_type": "execute_result"
    }
   ],
   "source": [
    "errors"
   ]
  },
  {
   "cell_type": "code",
   "execution_count": 9,
   "metadata": {},
   "outputs": [],
   "source": [
    "save_pickle('for_tmap.pkl', (fps, errors, test_prompts_filtered_frame['repr']))"
   ]
  },
  {
   "cell_type": "code",
   "execution_count": 10,
   "metadata": {},
   "outputs": [],
   "source": [
    "import tmap as tm\n",
    "from tqdm import tqdm \n",
    "from faerun import Faerun\n",
    "\n",
    "lf = tm.LSHForest(256, 128)\n",
    "mh_encoder = tm.Minhash()"
   ]
  },
  {
   "cell_type": "code",
   "execution_count": 11,
   "metadata": {},
   "outputs": [
    {
     "name": "stderr",
     "output_type": "stream",
     "text": [
      "100%|██████████| 4465/4465 [00:01<00:00, 3769.44it/s]\n"
     ]
    }
   ],
   "source": [
    "mhfps = [mh_encoder.from_weight_array(fp, method=\"I2CWS\") for fp in tqdm(fps)]"
   ]
  },
  {
   "cell_type": "code",
   "execution_count": 12,
   "metadata": {},
   "outputs": [],
   "source": [
    "# slow\n",
    "lf.batch_add(mhfps)\n",
    "lf.index()\n",
    "\n",
    "# Layout\n",
    "cfg = tm.LayoutConfiguration()\n",
    "cfg.k = 50\n",
    "cfg.kc = 50\n",
    "cfg.sl_scaling_min = 1.0\n",
    "cfg.sl_scaling_max = 1.0\n",
    "cfg.sl_repeats = 1\n",
    "cfg.sl_extra_scaling_steps = 2\n",
    "cfg.placer = tm.Placer.Barycenter\n",
    "cfg.merger = tm.Merger.LocalBiconnected\n",
    "cfg.merger_factor = 2.0\n",
    "cfg.merger_adjustment = 0\n",
    "cfg.fme_iterations = 1000\n",
    "cfg.sl_scaling_type = tm.ScalingType.RelativeToDesiredLength\n",
    "cfg.node_size = 1 / 37\n",
    "cfg.mmm_repeats = 1\n",
    "\n",
    "\n",
    "\n",
    "# Get tree coordinates\n",
    "x, y, s, t, _ = tm.layout_from_lsh_forest(lf, config=cfg)"
   ]
  },
  {
   "cell_type": "code",
   "execution_count": 13,
   "metadata": {},
   "outputs": [],
   "source": [
    "# slow\n",
    "f = Faerun(clear_color=\"#222222\", coords=False, view=\"front\",)\n",
    "    \n",
    "f.add_scatter(\n",
    "\"ReactionAtlas\",\n",
    "{\n",
    "    \"x\": x, \"y\": y, \n",
    "    \"c\": [\n",
    "        errors\n",
    "    ], \n",
    "    \"labels\": test_prompts_filtered_frame['repr']\n",
    "},\n",
    "shader=\"smoothCircle\",\n",
    "point_scale=2.0,\n",
    "categorical=[\n",
    "    False\n",
    "],\n",
    "has_legend=True,\n",
    "\n",
    "series_title=[\n",
    "    \"Prediction error\", \n",
    "],\n",
    "\n",
    "title_index=2,\n",
    "legend_title=\"\",\n",
    ")\n",
    "\n",
    "f.add_tree(\"reactiontree\", {\"from\": s, \"to\": t}, point_helper=\"ReactionAtlas\")"
   ]
  },
  {
   "cell_type": "code",
   "execution_count": 14,
   "metadata": {},
   "outputs": [
    {
     "data": {
      "text/html": [
       "\n",
       "        <iframe\n",
       "            width=\"100%\"\n",
       "            height=\"500\"\n",
       "            src=\"./reaction_smiles.html\"\n",
       "            frameborder=\"0\"\n",
       "            allowfullscreen\n",
       "            \n",
       "        ></iframe>\n",
       "        "
      ],
      "text/plain": [
       "<IPython.lib.display.IFrame at 0x2d93835b0>"
      ]
     },
     "metadata": {},
     "output_type": "display_data"
    },
    {
     "data": {
      "text/html": [
       "<a href='./reaction_smiles.html' target='_blank'>./reaction_smiles.html</a><br>"
      ],
      "text/plain": [
       "/Users/kevinmaikjablonka/git/kjappelbaum/gpt3forchem/experiments/reaction_smiles.html"
      ]
     },
     "metadata": {},
     "output_type": "display_data"
    }
   ],
   "source": [
    "plot = f.plot(\"reaction_smiles\", template=\"reaction_smiles\")"
   ]
  },
  {
   "cell_type": "code",
   "execution_count": null,
   "metadata": {},
   "outputs": [],
   "source": []
  }
 ],
 "metadata": {
  "kernelspec": {
   "display_name": "Python 3.9.13 ('gpt3')",
   "language": "python",
   "name": "python3"
  },
  "language_info": {
   "codemirror_mode": {
    "name": "ipython",
    "version": 3
   },
   "file_extension": ".py",
   "mimetype": "text/x-python",
   "name": "python",
   "nbconvert_exporter": "python",
   "pygments_lexer": "ipython3",
   "version": "3.9.13"
  },
  "orig_nbformat": 4,
  "vscode": {
   "interpreter": {
    "hash": "9a4fa60962de90e73b5da8d67a44b01d2de04630d82b94b8db1f727a73d31e61"
   }
  }
 },
 "nbformat": 4,
 "nbformat_minor": 2
}
