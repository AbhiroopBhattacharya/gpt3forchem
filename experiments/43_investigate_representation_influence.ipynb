{
 "cells": [
  {
   "cell_type": "markdown",
   "metadata": {},
   "source": [
    "# Investigate the influence of the representation on the performance of the model"
   ]
  },
  {
   "cell_type": "markdown",
   "metadata": {},
   "source": [
    "One dataset for which we have common names as well as IUPAC names and SMILES is the solubility dataset."
   ]
  },
  {
   "cell_type": "code",
   "execution_count": 1,
   "metadata": {},
   "outputs": [],
   "source": [
    "%load_ext autoreload\n",
    "%autoreload 2"
   ]
  },
  {
   "cell_type": "code",
   "execution_count": 52,
   "metadata": {},
   "outputs": [],
   "source": [
    "from gpt3forchem.data import get_solubility_data, get_photoswitch_data\n",
    "from typing import Iterable, List\n",
    "from gpt3forchem.helpers import get_num_token_dist, get_representation_length_dist, get_token_counts\n",
    "import seaborn as sns\n",
    "import matplotlib.pyplot as plt \n",
    "import numpy as np\n",
    "import pandas as pd\n",
    "plt.style.use(['science', 'nature'])"
   ]
  },
  {
   "cell_type": "code",
   "execution_count": 3,
   "metadata": {},
   "outputs": [],
   "source": [
    "def get_num_token_and_len_dist_and_token_counts(representations): \n",
    "    return get_num_token_dist(representations), get_representation_length_dist(representations), get_token_counts(representations)"
   ]
  },
  {
   "cell_type": "markdown",
   "metadata": {},
   "source": [
    "## Solubility data"
   ]
  },
  {
   "cell_type": "code",
   "execution_count": 26,
   "metadata": {},
   "outputs": [],
   "source": [
    "data = get_solubility_data()"
   ]
  },
  {
   "cell_type": "code",
   "execution_count": 27,
   "metadata": {},
   "outputs": [],
   "source": [
    "smiles_num_tokens_sol, smiles_len_sol, smiles_token_counts_sol = get_num_token_and_len_dist_and_token_counts(data['SMILES'])"
   ]
  },
  {
   "cell_type": "code",
   "execution_count": 28,
   "metadata": {},
   "outputs": [],
   "source": [
    "inchi_num_tokens_sol, inchi_len_sol, inchi_token_counts_sol = get_num_token_and_len_dist_and_token_counts(data['InChI'])"
   ]
  },
  {
   "cell_type": "code",
   "execution_count": 29,
   "metadata": {},
   "outputs": [],
   "source": [
    "selfies_num_tokens_sol, selfies_len_sol, selfies_token_counts_sol = get_num_token_and_len_dist_and_token_counts(data['selfies'])"
   ]
  },
  {
   "cell_type": "code",
   "execution_count": 30,
   "metadata": {},
   "outputs": [],
   "source": [
    "iupac_name_num_tokens_sol, iupac_name_len_sol, iupac_token_counts_sol = get_num_token_and_len_dist_and_token_counts(data['iupac_names'])"
   ]
  },
  {
   "cell_type": "code",
   "execution_count": 31,
   "metadata": {},
   "outputs": [],
   "source": [
    "common_name_num_tokens_sol, common_name_len_sol, common_name_token_counts_sol = get_num_token_and_len_dist_and_token_counts(data['Name'])"
   ]
  },
  {
   "cell_type": "code",
   "execution_count": 32,
   "metadata": {},
   "outputs": [
    {
     "name": "stderr",
     "output_type": "stream",
     "text": [
      "/Users/kevinmaikjablonka/miniconda3/envs/gpt3/lib/python3.9/site-packages/seaborn/distributions.py:2619: FutureWarning: `distplot` is a deprecated function and will be removed in a future version. Please adapt your code to use either `displot` (a figure-level function with similar flexibility) or `histplot` (an axes-level function for histograms).\n",
      "  warnings.warn(msg, FutureWarning)\n",
      "/Users/kevinmaikjablonka/miniconda3/envs/gpt3/lib/python3.9/site-packages/seaborn/distributions.py:2619: FutureWarning: `distplot` is a deprecated function and will be removed in a future version. Please adapt your code to use either `displot` (a figure-level function with similar flexibility) or `histplot` (an axes-level function for histograms).\n",
      "  warnings.warn(msg, FutureWarning)\n",
      "/Users/kevinmaikjablonka/miniconda3/envs/gpt3/lib/python3.9/site-packages/seaborn/distributions.py:2619: FutureWarning: `distplot` is a deprecated function and will be removed in a future version. Please adapt your code to use either `displot` (a figure-level function with similar flexibility) or `histplot` (an axes-level function for histograms).\n",
      "  warnings.warn(msg, FutureWarning)\n",
      "/Users/kevinmaikjablonka/miniconda3/envs/gpt3/lib/python3.9/site-packages/seaborn/distributions.py:2619: FutureWarning: `distplot` is a deprecated function and will be removed in a future version. Please adapt your code to use either `displot` (a figure-level function with similar flexibility) or `histplot` (an axes-level function for histograms).\n",
      "  warnings.warn(msg, FutureWarning)\n",
      "/Users/kevinmaikjablonka/miniconda3/envs/gpt3/lib/python3.9/site-packages/seaborn/distributions.py:2619: FutureWarning: `distplot` is a deprecated function and will be removed in a future version. Please adapt your code to use either `displot` (a figure-level function with similar flexibility) or `histplot` (an axes-level function for histograms).\n",
      "  warnings.warn(msg, FutureWarning)\n"
     ]
    },
    {
     "data": {
      "image/png": "[encoded data removed]",
      "text/plain": [
       "<Figure size 216x144 with 1 Axes>"
      ]
     },
     "metadata": {
      "needs_background": "light"
     },
     "output_type": "display_data"
    }
   ],
   "source": [
    "fig, ax = plt.subplots(1, 1, figsize=(3, 2))\n",
    "sns.distplot(smiles_num_tokens_sol, label='SMILES', ax=ax)\n",
    "sns.distplot(selfies_num_tokens_sol, label='SELFIES', ax=ax)\n",
    "sns.distplot(iupac_name_num_tokens_sol, label='IUPAC name', ax=ax)\n",
    "sns.distplot(inchi_num_tokens_sol, label='InChI', ax=ax)\n",
    "sns.distplot(common_name_num_tokens_sol, label='Common name', ax=ax)\n",
    "\n",
    "ax.set_xlabel('number of tokens')\n",
    "ax.set_ylabel('density')\n",
    "ax.legend()\n",
    "fig.tight_layout()\n",
    "fig.savefig('num_token_dist_solubility.pdf', bbox_inches='tight')"
   ]
  },
  {
   "cell_type": "code",
   "execution_count": 34,
   "metadata": {},
   "outputs": [
    {
     "name": "stderr",
     "output_type": "stream",
     "text": [
      "/Users/kevinmaikjablonka/miniconda3/envs/gpt3/lib/python3.9/site-packages/seaborn/distributions.py:2619: FutureWarning: `distplot` is a deprecated function and will be removed in a future version. Please adapt your code to use either `displot` (a figure-level function with similar flexibility) or `histplot` (an axes-level function for histograms).\n",
      "  warnings.warn(msg, FutureWarning)\n",
      "/Users/kevinmaikjablonka/miniconda3/envs/gpt3/lib/python3.9/site-packages/seaborn/distributions.py:2619: FutureWarning: `distplot` is a deprecated function and will be removed in a future version. Please adapt your code to use either `displot` (a figure-level function with similar flexibility) or `histplot` (an axes-level function for histograms).\n",
      "  warnings.warn(msg, FutureWarning)\n",
      "/Users/kevinmaikjablonka/miniconda3/envs/gpt3/lib/python3.9/site-packages/seaborn/distributions.py:2619: FutureWarning: `distplot` is a deprecated function and will be removed in a future version. Please adapt your code to use either `displot` (a figure-level function with similar flexibility) or `histplot` (an axes-level function for histograms).\n",
      "  warnings.warn(msg, FutureWarning)\n",
      "/Users/kevinmaikjablonka/miniconda3/envs/gpt3/lib/python3.9/site-packages/seaborn/distributions.py:2619: FutureWarning: `distplot` is a deprecated function and will be removed in a future version. Please adapt your code to use either `displot` (a figure-level function with similar flexibility) or `histplot` (an axes-level function for histograms).\n",
      "  warnings.warn(msg, FutureWarning)\n",
      "/Users/kevinmaikjablonka/miniconda3/envs/gpt3/lib/python3.9/site-packages/seaborn/distributions.py:2619: FutureWarning: `distplot` is a deprecated function and will be removed in a future version. Please adapt your code to use either `displot` (a figure-level function with similar flexibility) or `histplot` (an axes-level function for histograms).\n",
      "  warnings.warn(msg, FutureWarning)\n"
     ]
    },
    {
     "data": {
      "image/png": "[encoded data removed]",
      "text/plain": [
       "<Figure size 216x144 with 1 Axes>"
      ]
     },
     "metadata": {
      "needs_background": "light"
     },
     "output_type": "display_data"
    }
   ],
   "source": [
    "fig, ax = plt.subplots(1, 1, figsize=(3, 2))\n",
    "sns.distplot(smiles_len_sol, label='SMILES', ax=ax)\n",
    "sns.distplot(selfies_len_sol, label='SELFIES', ax=ax)\n",
    "sns.distplot(iupac_name_len_sol, label='IUPAC name', ax=ax)\n",
    "sns.distplot(inchi_len_sol, label='InChI', ax=ax)\n",
    "sns.distplot(common_name_len_sol, label='Common name', ax=ax)\n",
    "\n",
    "\n",
    "ax.set_xlabel('number of characters')\n",
    "ax.set_ylabel('density')\n",
    "ax.legend()\n",
    "fig.tight_layout()\n",
    "fig.savefig('len_repr_dist.pdf', bbox_inches='tight')"
   ]
  },
  {
   "cell_type": "code",
   "execution_count": 35,
   "metadata": {},
   "outputs": [
    {
     "name": "stdout",
     "output_type": "stream",
     "text": [
      "SMILES  & \\num{ 24.87 \\pm   18.18 } & \\num{ 31.54 \\pm   22.36 }  \\\\\n",
      "SELFIES  & \\num{ 72.53 \\pm   50.75 } & \\num{ 122.82 \\pm   89.02 }  \\\\\n",
      "IUPAC name  & \\num{ 23.76 \\pm   19.65 } & \\num{ 46.75 \\pm   34.8 }  \\\\\n",
      "INChI  & \\num{ 69.89 \\pm   30.92 } & \\num{ 84.77 \\pm   44.52 }  \\\\\n",
      "common name  & \\num{ 17.3 \\pm   16.98 } & \\num{ 35.61 \\pm   30.52 }  \\\\\n"
     ]
    }
   ],
   "source": [
    "for name, tokens, lengths in zip(['SMILES', 'SELFIES', 'IUPAC name', 'INChI', 'common name'], [smiles_num_tokens_sol, selfies_num_tokens_sol, iupac_name_num_tokens_sol, inchi_num_tokens_sol, common_name_num_tokens_sol ], [smiles_len_sol, selfies_len_sol, iupac_name_len_sol, inchi_len_sol, common_name_len_sol]): \n",
    "    #print(f'{name} has {len(tokens)} unique tokens and {len(lengths)} unique lengths')\n",
    "\n",
    "    print(f\"{name}  & \\\\num# {np.round(np.mean(tokens),2)} \\\\pm   {np.round(np.std(tokens),2)} $ & \\\\num# {np.round(np.mean(lengths),2)} \\\\pm   {np.round(np.std(lengths),2)} $  \\\\\\\\\".replace('#', '{').replace('$', '}'))"
   ]
  },
  {
   "cell_type": "code",
   "execution_count": 117,
   "metadata": {},
   "outputs": [],
   "source": [
    "low_data_performance_solubility = {\n",
    "    'SMILES': 0.803086,\n",
    "    'SELFIES': 0.802838,\n",
    "    'IUPAC name': 0.760933,\n",
    "    'InChI': 0.786629,\n",
    "    'Name': 0.757311\n",
    "}"
   ]
  },
  {
   "cell_type": "markdown",
   "metadata": {},
   "source": [
    "## Photoswitch data"
   ]
  },
  {
   "cell_type": "code",
   "execution_count": 118,
   "metadata": {},
   "outputs": [],
   "source": [
    "data = get_photoswitch_data()"
   ]
  },
  {
   "cell_type": "code",
   "execution_count": 119,
   "metadata": {},
   "outputs": [],
   "source": [
    "data.dropna(subset=['name'], inplace=True)"
   ]
  },
  {
   "cell_type": "code",
   "execution_count": 120,
   "metadata": {},
   "outputs": [
    {
     "data": {
      "text/html": [
       "<div>\n",
       "<style scoped>\n",
       "    .dataframe tbody tr th:only-of-type {\n",
       "        vertical-align: middle;\n",
       "    }\n",
       "\n",
       "    .dataframe tbody tr th {\n",
       "        vertical-align: top;\n",
       "    }\n",
       "\n",
       "    .dataframe thead th {\n",
       "        text-align: right;\n",
       "    }\n",
       "</style>\n",
       "<table border=\"1\" class=\"dataframe\">\n",
       "  <thead>\n",
       "    <tr style=\"text-align: right;\">\n",
       "      <th></th>\n",
       "      <th>index</th>\n",
       "      <th>SMILES</th>\n",
       "      <th>rate of thermal isomerisation from Z-E in s-1</th>\n",
       "      <th>Solvent used for thermal isomerisation rates</th>\n",
       "      <th>Z PhotoStationaryState</th>\n",
       "      <th>E PhotoStationaryState</th>\n",
       "      <th>E isomer pi-pi* wavelength in nm</th>\n",
       "      <th>Extinction</th>\n",
       "      <th>E isomer n-pi* wavelength in nm</th>\n",
       "      <th>Extinction coefficient in M-1 cm-1</th>\n",
       "      <th>...</th>\n",
       "      <th>CAM-B3LYP/6-31G** DFT Z isomer pi-pi* wavelength in nm</th>\n",
       "      <th>CAM-B3LYP/6-31G** DFT Z isomer n-pi* wavelength in nm</th>\n",
       "      <th>BHLYP/6-31G* DFT E isomer pi-pi* wavelength in nm</th>\n",
       "      <th>BHLYP/6-31G* DFT E isomer n-pi* wavelength in nm</th>\n",
       "      <th>BHLYP/6-31G* Z isomer pi-pi* wavelength in nm</th>\n",
       "      <th>BHLYP/6-31G* DFT Z isomer n-pi* wavelength in nm</th>\n",
       "      <th>name</th>\n",
       "      <th>selfies</th>\n",
       "      <th>wavelength_cat</th>\n",
       "      <th>inchi</th>\n",
       "    </tr>\n",
       "  </thead>\n",
       "  <tbody>\n",
       "    <tr>\n",
       "      <th>4</th>\n",
       "      <td>5</td>\n",
       "      <td>C[N]1N=C(C)C(=C1C)N=NC2=CC=CC=C2</td>\n",
       "      <td>7.700000e-07</td>\n",
       "      <td>MeCN</td>\n",
       "      <td>98.0</td>\n",
       "      <td>98.0</td>\n",
       "      <td>335.0</td>\n",
       "      <td>2.27</td>\n",
       "      <td>425.0</td>\n",
       "      <td>0.0963</td>\n",
       "      <td>...</td>\n",
       "      <td>279.0</td>\n",
       "      <td>449.0</td>\n",
       "      <td>NaN</td>\n",
       "      <td>NaN</td>\n",
       "      <td>NaN</td>\n",
       "      <td>NaN</td>\n",
       "      <td>phenyl-(1,3,5-trimethylpyrazol-4-yl)diazene</td>\n",
       "      <td>[C][NH0][N][=C][Branch1][C][C][C][=Branch1][Br...</td>\n",
       "      <td>very small</td>\n",
       "      <td>InChI=1S/C12H14N4/c1-9-12(10(2)16(3)15-9)14-13...</td>\n",
       "    </tr>\n",
       "    <tr>\n",
       "      <th>11</th>\n",
       "      <td>12</td>\n",
       "      <td>CN1C(/N=N/C2=CC=CC=C2)=NC=C1</td>\n",
       "      <td>2.200000e-05</td>\n",
       "      <td>MeCN</td>\n",
       "      <td>98.0</td>\n",
       "      <td>NaN</td>\n",
       "      <td>363.0</td>\n",
       "      <td>1.70</td>\n",
       "      <td>417.0</td>\n",
       "      <td>0.1260</td>\n",
       "      <td>...</td>\n",
       "      <td>NaN</td>\n",
       "      <td>NaN</td>\n",
       "      <td>NaN</td>\n",
       "      <td>NaN</td>\n",
       "      <td>NaN</td>\n",
       "      <td>NaN</td>\n",
       "      <td>(1-methylimidazol-2-yl)-phenyldiazene</td>\n",
       "      <td>[C][N][C][Branch1][O][/N][=N][/C][=C][C][=C][C...</td>\n",
       "      <td>small</td>\n",
       "      <td>InChI=1S/C10H10N4/c1-14-8-7-11-10(14)13-12-9-5...</td>\n",
       "    </tr>\n",
       "    <tr>\n",
       "      <th>29</th>\n",
       "      <td>30</td>\n",
       "      <td>FC1=CC=CC=C1/N=N/C2=C(F)C=CC=C2</td>\n",
       "      <td>1.750370e-05</td>\n",
       "      <td>MeCN at 60C</td>\n",
       "      <td>66.0</td>\n",
       "      <td>82.0</td>\n",
       "      <td>325.0</td>\n",
       "      <td>20000.00</td>\n",
       "      <td>448.0</td>\n",
       "      <td>700.0000</td>\n",
       "      <td>...</td>\n",
       "      <td>322.0</td>\n",
       "      <td>466.0</td>\n",
       "      <td>NaN</td>\n",
       "      <td>NaN</td>\n",
       "      <td>NaN</td>\n",
       "      <td>NaN</td>\n",
       "      <td>bis(2-fluorophenyl)diazene</td>\n",
       "      <td>[F][C][=C][C][=C][C][=C][Ring1][=Branch1][/N][...</td>\n",
       "      <td>very small</td>\n",
       "      <td>InChI=1S/C12H8F2N2/c13-9-5-1-3-7-11(9)15-16-12...</td>\n",
       "    </tr>\n",
       "    <tr>\n",
       "      <th>32</th>\n",
       "      <td>33</td>\n",
       "      <td>FC1=CC(F)=CC(F)=C1/N=N/C(C(F)=C2)=C(F)C=C2F</td>\n",
       "      <td>9.600000e-06</td>\n",
       "      <td>MeCN at 60C</td>\n",
       "      <td>94.0</td>\n",
       "      <td>91.0</td>\n",
       "      <td>309.0</td>\n",
       "      <td>20000.00</td>\n",
       "      <td>450.0</td>\n",
       "      <td>900.0000</td>\n",
       "      <td>...</td>\n",
       "      <td>310.0</td>\n",
       "      <td>453.0</td>\n",
       "      <td>NaN</td>\n",
       "      <td>NaN</td>\n",
       "      <td>NaN</td>\n",
       "      <td>NaN</td>\n",
       "      <td>bis(2,4,6-trifluorophenyl)diazene</td>\n",
       "      <td>[F][C][=C][C][Branch1][C][F][=C][C][Branch1][C...</td>\n",
       "      <td>very small</td>\n",
       "      <td>InChI=1S/C12H4F6N2/c13-5-1-7(15)11(8(16)2-5)19...</td>\n",
       "    </tr>\n",
       "    <tr>\n",
       "      <th>33</th>\n",
       "      <td>34</td>\n",
       "      <td>FC1=C(F)C=C(F)C(F)=C1/N=N/C2=C(F)C(F)=CC(F)=C2F</td>\n",
       "      <td>7.131140e-06</td>\n",
       "      <td>MeCN at 60C</td>\n",
       "      <td>92.0</td>\n",
       "      <td>92.0</td>\n",
       "      <td>303.0</td>\n",
       "      <td>16000.00</td>\n",
       "      <td>456.0</td>\n",
       "      <td>700.0000</td>\n",
       "      <td>...</td>\n",
       "      <td>363.0</td>\n",
       "      <td>439.0</td>\n",
       "      <td>NaN</td>\n",
       "      <td>NaN</td>\n",
       "      <td>NaN</td>\n",
       "      <td>NaN</td>\n",
       "      <td>bis(2,3,5,6-tetrafluorophenyl)diazene</td>\n",
       "      <td>[F][C][=C][Branch1][C][F][C][=C][Branch1][C][F...</td>\n",
       "      <td>very small</td>\n",
       "      <td>InChI=1S/C12H2F8N2/c13-3-1-4(14)8(18)11(7(3)17...</td>\n",
       "    </tr>\n",
       "  </tbody>\n",
       "</table>\n",
       "<p>5 rows × 38 columns</p>\n",
       "</div>"
      ],
      "text/plain": [
       "    index                                           SMILES  \\\n",
       "4       5                 C[N]1N=C(C)C(=C1C)N=NC2=CC=CC=C2   \n",
       "11     12                     CN1C(/N=N/C2=CC=CC=C2)=NC=C1   \n",
       "29     30                  FC1=CC=CC=C1/N=N/C2=C(F)C=CC=C2   \n",
       "32     33      FC1=CC(F)=CC(F)=C1/N=N/C(C(F)=C2)=C(F)C=C2F   \n",
       "33     34  FC1=C(F)C=C(F)C(F)=C1/N=N/C2=C(F)C(F)=CC(F)=C2F   \n",
       "\n",
       "    rate of thermal isomerisation from Z-E in s-1  \\\n",
       "4                                    7.700000e-07   \n",
       "11                                   2.200000e-05   \n",
       "29                                   1.750370e-05   \n",
       "32                                   9.600000e-06   \n",
       "33                                   7.131140e-06   \n",
       "\n",
       "   Solvent used for thermal isomerisation rates  Z PhotoStationaryState  \\\n",
       "4                                          MeCN                    98.0   \n",
       "11                                         MeCN                    98.0   \n",
       "29                                  MeCN at 60C                    66.0   \n",
       "32                                  MeCN at 60C                    94.0   \n",
       "33                                  MeCN at 60C                    92.0   \n",
       "\n",
       "    E PhotoStationaryState  E isomer pi-pi* wavelength in nm  Extinction  \\\n",
       "4                     98.0                             335.0        2.27   \n",
       "11                     NaN                             363.0        1.70   \n",
       "29                    82.0                             325.0    20000.00   \n",
       "32                    91.0                             309.0    20000.00   \n",
       "33                    92.0                             303.0    16000.00   \n",
       "\n",
       "    E isomer n-pi* wavelength in nm  Extinction coefficient in M-1 cm-1  ...  \\\n",
       "4                             425.0                              0.0963  ...   \n",
       "11                            417.0                              0.1260  ...   \n",
       "29                            448.0                            700.0000  ...   \n",
       "32                            450.0                            900.0000  ...   \n",
       "33                            456.0                            700.0000  ...   \n",
       "\n",
       "    CAM-B3LYP/6-31G** DFT Z isomer pi-pi* wavelength in nm  \\\n",
       "4                                               279.0        \n",
       "11                                                NaN        \n",
       "29                                              322.0        \n",
       "32                                              310.0        \n",
       "33                                              363.0        \n",
       "\n",
       "    CAM-B3LYP/6-31G** DFT Z isomer n-pi* wavelength in nm  \\\n",
       "4                                               449.0       \n",
       "11                                                NaN       \n",
       "29                                              466.0       \n",
       "32                                              453.0       \n",
       "33                                              439.0       \n",
       "\n",
       "    BHLYP/6-31G* DFT E isomer pi-pi* wavelength in nm  \\\n",
       "4                                                 NaN   \n",
       "11                                                NaN   \n",
       "29                                                NaN   \n",
       "32                                                NaN   \n",
       "33                                                NaN   \n",
       "\n",
       "    BHLYP/6-31G* DFT E isomer n-pi* wavelength in nm  \\\n",
       "4                                                NaN   \n",
       "11                                               NaN   \n",
       "29                                               NaN   \n",
       "32                                               NaN   \n",
       "33                                               NaN   \n",
       "\n",
       "    BHLYP/6-31G* Z isomer pi-pi* wavelength in nm  \\\n",
       "4                                             NaN   \n",
       "11                                            NaN   \n",
       "29                                            NaN   \n",
       "32                                            NaN   \n",
       "33                                            NaN   \n",
       "\n",
       "   BHLYP/6-31G* DFT Z isomer n-pi* wavelength in nm  \\\n",
       "4                                               NaN   \n",
       "11                                              NaN   \n",
       "29                                              NaN   \n",
       "32                                              NaN   \n",
       "33                                              NaN   \n",
       "\n",
       "                                           name  \\\n",
       "4   phenyl-(1,3,5-trimethylpyrazol-4-yl)diazene   \n",
       "11        (1-methylimidazol-2-yl)-phenyldiazene   \n",
       "29                   bis(2-fluorophenyl)diazene   \n",
       "32            bis(2,4,6-trifluorophenyl)diazene   \n",
       "33        bis(2,3,5,6-tetrafluorophenyl)diazene   \n",
       "\n",
       "                                              selfies  wavelength_cat  \\\n",
       "4   [C][NH0][N][=C][Branch1][C][C][C][=Branch1][Br...      very small   \n",
       "11  [C][N][C][Branch1][O][/N][=N][/C][=C][C][=C][C...           small   \n",
       "29  [F][C][=C][C][=C][C][=C][Ring1][=Branch1][/N][...      very small   \n",
       "32  [F][C][=C][C][Branch1][C][F][=C][C][Branch1][C...      very small   \n",
       "33  [F][C][=C][Branch1][C][F][C][=C][Branch1][C][F...      very small   \n",
       "\n",
       "                                                inchi  \n",
       "4   InChI=1S/C12H14N4/c1-9-12(10(2)16(3)15-9)14-13...  \n",
       "11  InChI=1S/C10H10N4/c1-14-8-7-11-10(14)13-12-9-5...  \n",
       "29  InChI=1S/C12H8F2N2/c13-9-5-1-3-7-11(9)15-16-12...  \n",
       "32  InChI=1S/C12H4F6N2/c13-5-1-7(15)11(8(16)2-5)19...  \n",
       "33  InChI=1S/C12H2F8N2/c13-3-1-4(14)8(18)11(7(3)17...  \n",
       "\n",
       "[5 rows x 38 columns]"
      ]
     },
     "execution_count": 120,
     "metadata": {},
     "output_type": "execute_result"
    }
   ],
   "source": [
    "data.head()"
   ]
  },
  {
   "cell_type": "code",
   "execution_count": 121,
   "metadata": {},
   "outputs": [],
   "source": [
    "smiles_num_tokens_ps, smiles_len_ps, smiles_token_counts_ps = get_num_token_and_len_dist_and_token_counts(data['SMILES'])"
   ]
  },
  {
   "cell_type": "code",
   "execution_count": 122,
   "metadata": {},
   "outputs": [],
   "source": [
    "selfies_num_tokens_ps, selfies_len_ps, selfies_token_counts_ps = get_num_token_and_len_dist_and_token_counts(data['selfies'])"
   ]
  },
  {
   "cell_type": "code",
   "execution_count": 123,
   "metadata": {},
   "outputs": [],
   "source": [
    "iupac_name_num_tokens_ps, iupac_name_len_ps, iupac_token_counts_ps = get_num_token_and_len_dist_and_token_counts(data['name'])"
   ]
  },
  {
   "cell_type": "code",
   "execution_count": 124,
   "metadata": {},
   "outputs": [],
   "source": [
    "inchi_num_tokens_ps, inchi_len_ps, inchi_token_counts_ps = get_num_token_and_len_dist_and_token_counts(data['inchi'])"
   ]
  },
  {
   "cell_type": "code",
   "execution_count": 125,
   "metadata": {},
   "outputs": [
    {
     "name": "stderr",
     "output_type": "stream",
     "text": [
      "/Users/kevinmaikjablonka/miniconda3/envs/gpt3/lib/python3.9/site-packages/seaborn/distributions.py:2619: FutureWarning: `distplot` is a deprecated function and will be removed in a future version. Please adapt your code to use either `displot` (a figure-level function with similar flexibility) or `histplot` (an axes-level function for histograms).\n",
      "  warnings.warn(msg, FutureWarning)\n",
      "/Users/kevinmaikjablonka/miniconda3/envs/gpt3/lib/python3.9/site-packages/seaborn/distributions.py:2619: FutureWarning: `distplot` is a deprecated function and will be removed in a future version. Please adapt your code to use either `displot` (a figure-level function with similar flexibility) or `histplot` (an axes-level function for histograms).\n",
      "  warnings.warn(msg, FutureWarning)\n",
      "/Users/kevinmaikjablonka/miniconda3/envs/gpt3/lib/python3.9/site-packages/seaborn/distributions.py:2619: FutureWarning: `distplot` is a deprecated function and will be removed in a future version. Please adapt your code to use either `displot` (a figure-level function with similar flexibility) or `histplot` (an axes-level function for histograms).\n",
      "  warnings.warn(msg, FutureWarning)\n"
     ]
    },
    {
     "data": {
      "image/png": "[encoded data removed]",
      "text/plain": [
       "<Figure size 216x144 with 1 Axes>"
      ]
     },
     "metadata": {
      "needs_background": "light"
     },
     "output_type": "display_data"
    }
   ],
   "source": [
    "fig, ax = plt.subplots(1, 1, figsize=(3, 2))\n",
    "sns.distplot(smiles_num_tokens_ps, label='SMILES', ax=ax)\n",
    "\n",
    "sns.distplot(selfies_num_tokens_ps, label='SELFIES', ax=ax)\n",
    "sns.distplot(iupac_name_num_tokens_ps, label='IUPAC name', ax=ax)\n",
    "\n",
    "ax.set_xlabel('number of tokens')\n",
    "ax.set_ylabel('density')\n",
    "ax.legend()\n",
    "fig.tight_layout()\n",
    "fig.savefig('num_token_dist_photoswitch.pdf', bbox_inches='tight')"
   ]
  },
  {
   "cell_type": "code",
   "execution_count": 126,
   "metadata": {},
   "outputs": [],
   "source": [
    "low_data_performance_ps = {\n",
    "    'SMILES': 0.747544,\n",
    "    'SELFIES': 0.755975,\n",
    "    'IUPAC name': 0.822344,\n",
    "    'InChI': 0.746316,\n",
    "}"
   ]
  },
  {
   "cell_type": "code",
   "execution_count": 166,
   "metadata": {},
   "outputs": [],
   "source": [
    "ps_results = {\n",
    "    'accuracy': [low_data_performance_ps['SMILES'], low_data_performance_ps['SELFIES'], low_data_performance_ps['IUPAC name'], low_data_performance_ps['InChI']],\n",
    "    'representation': ['SMILES', 'SELFIES', 'IUPAC name', 'InChI'],\n",
    "    'num_tokens': [np.median(smiles_num_tokens_ps), np.median(selfies_num_tokens_ps), np.median(iupac_name_num_tokens_ps), np.median(inchi_num_tokens_ps)],\n",
    "    'unique_tokens': [len(smiles_token_counts_ps), len(selfies_token_counts_ps), len(iupac_token_counts_ps), len(inchi_token_counts_ps)],\n",
    "}"
   ]
  },
  {
   "cell_type": "code",
   "execution_count": 167,
   "metadata": {},
   "outputs": [],
   "source": [
    "sol_results = {\n",
    "    'accuracy': [low_data_performance_solubility['SMILES'], low_data_performance_solubility['SELFIES'], low_data_performance_solubility['IUPAC name'], low_data_performance_solubility['InChI']],\n",
    "    'representation': ['SMILES', 'SELFIES', 'IUPAC name', 'InChI'],\n",
    "    'num_tokens': [np.median(smiles_num_tokens_sol), np.median(selfies_num_tokens_sol), np.median(iupac_name_num_tokens_sol), np.median(inchi_num_tokens_sol)],\n",
    "    'unique_tokens': [len(smiles_token_counts_sol), len(selfies_token_counts_sol), len(iupac_token_counts_sol), len(inchi_token_counts_sol)],\n",
    "    \n",
    "}"
   ]
  },
  {
   "cell_type": "code",
   "execution_count": 168,
   "metadata": {},
   "outputs": [],
   "source": [
    "ps_results = pd.DataFrame(ps_results)\n",
    "sol_results = pd.DataFrame(sol_results)"
   ]
  },
  {
   "cell_type": "code",
   "execution_count": 169,
   "metadata": {},
   "outputs": [
    {
     "data": {
      "text/html": [
       "<div>\n",
       "<style scoped>\n",
       "    .dataframe tbody tr th:only-of-type {\n",
       "        vertical-align: middle;\n",
       "    }\n",
       "\n",
       "    .dataframe tbody tr th {\n",
       "        vertical-align: top;\n",
       "    }\n",
       "\n",
       "    .dataframe thead th {\n",
       "        text-align: right;\n",
       "    }\n",
       "</style>\n",
       "<table border=\"1\" class=\"dataframe\">\n",
       "  <thead>\n",
       "    <tr style=\"text-align: right;\">\n",
       "      <th></th>\n",
       "      <th>accuracy</th>\n",
       "      <th>representation</th>\n",
       "      <th>num_tokens</th>\n",
       "      <th>unique_tokens</th>\n",
       "    </tr>\n",
       "  </thead>\n",
       "  <tbody>\n",
       "    <tr>\n",
       "      <th>0</th>\n",
       "      <td>0.747544</td>\n",
       "      <td>SMILES</td>\n",
       "      <td>33.0</td>\n",
       "      <td>36</td>\n",
       "    </tr>\n",
       "    <tr>\n",
       "      <th>1</th>\n",
       "      <td>0.755975</td>\n",
       "      <td>SELFIES</td>\n",
       "      <td>75.5</td>\n",
       "      <td>24</td>\n",
       "    </tr>\n",
       "    <tr>\n",
       "      <th>2</th>\n",
       "      <td>0.822344</td>\n",
       "      <td>IUPAC name</td>\n",
       "      <td>19.0</td>\n",
       "      <td>109</td>\n",
       "    </tr>\n",
       "    <tr>\n",
       "      <th>3</th>\n",
       "      <td>0.746316</td>\n",
       "      <td>InChI</td>\n",
       "      <td>72.0</td>\n",
       "      <td>49</td>\n",
       "    </tr>\n",
       "  </tbody>\n",
       "</table>\n",
       "</div>"
      ],
      "text/plain": [
       "   accuracy representation  num_tokens  unique_tokens\n",
       "0  0.747544         SMILES        33.0             36\n",
       "1  0.755975        SELFIES        75.5             24\n",
       "2  0.822344     IUPAC name        19.0            109\n",
       "3  0.746316          InChI        72.0             49"
      ]
     },
     "execution_count": 169,
     "metadata": {},
     "output_type": "execute_result"
    }
   ],
   "source": [
    "ps_results"
   ]
  },
  {
   "cell_type": "code",
   "execution_count": 171,
   "metadata": {},
   "outputs": [
    {
     "data": {
      "image/png": "[encoded data removed]",
      "text/plain": [
       "<Figure size 432x288 with 4 Axes>"
      ]
     },
     "metadata": {
      "needs_background": "light"
     },
     "output_type": "display_data"
    }
   ],
   "source": [
    "fig, ax = plt.subplots(2, 2, figsize=(6, 4), sharey='row')\n",
    "for i, row  in ps_results.iterrows():\n",
    "    ax[0][0].plot(row['unique_tokens'], row['accuracy'], 'o', label=row['representation'])\n",
    "\n",
    "    ax[0][1].plot(row['num_tokens'], row['accuracy'], 'o', label=row['representation'])\n",
    "\n",
    "for i, row  in sol_results.iterrows():\n",
    "    ax[1][0].plot(row['unique_tokens'], row['accuracy'], 'o', label=row['representation'])\n",
    "\n",
    "    ax[1][1].plot(row['num_tokens'], row['accuracy'], 'o', label=row['representation'])\n",
    "\n",
    "\n",
    "ax[1][0].set_xlabel('number of unique tokens')\n",
    "ax[1][1].set_xlabel('median number of tokens')\n",
    "ax[0][0].set_ylabel('photoswitch accuracy')\n",
    "ax[1][0].set_ylabel('solubility accuracy')\n",
    "ax[0][0].legend()\n",
    "\n",
    "fig.tight_layout()"
   ]
  },
  {
   "cell_type": "code",
   "execution_count": 162,
   "metadata": {},
   "outputs": [
    {
     "data": {
      "text/plain": [
       "[<matplotlib.lines.Line2D at 0x2bd9a6bb0>]"
      ]
     },
     "execution_count": 162,
     "metadata": {},
     "output_type": "execute_result"
    },
    {
     "data": {
      "image/png": "[encoded data removed]",
      "text/plain": [
       "<Figure size 237.6x180 with 1 Axes>"
      ]
     },
     "metadata": {
      "needs_background": "light"
     },
     "output_type": "display_data"
    }
   ],
   "source": [
    "plt.plot(sol_results['num_tokens']/sol_results['num_tokens'].max() * sol_results['unique_tokens']/sol_results['unique_tokens'].max(), sol_results['accuracy'], 'o')"
   ]
  },
  {
   "cell_type": "code",
   "execution_count": 150,
   "metadata": {},
   "outputs": [
    {
     "data": {
      "text/plain": [
       "[<matplotlib.lines.Line2D at 0x2bc9006a0>]"
      ]
     },
     "execution_count": 150,
     "metadata": {},
     "output_type": "execute_result"
    },
    {
     "data": {
      "image/png": "[encoded data removed]",
      "text/plain": [
       "<Figure size 237.6x180 with 1 Axes>"
      ]
     },
     "metadata": {
      "needs_background": "light"
     },
     "output_type": "display_data"
    }
   ],
   "source": [
    "plt.plot(ps_results['num_tokens']/ps_results['num_tokens'].max() * ps_results['unique_tokens']/ps_results['unique_tokens'].max(), ps_results['accuracy'], 'o')"
   ]
  },
  {
   "cell_type": "code",
   "execution_count": null,
   "metadata": {},
   "outputs": [],
   "source": []
  }
 ],
 "metadata": {
  "kernelspec": {
   "display_name": "Python 3.9.13 ('gpt3')",
   "language": "python",
   "name": "python3"
  },
  "language_info": {
   "codemirror_mode": {
    "name": "ipython",
    "version": 3
   },
   "file_extension": ".py",
   "mimetype": "text/x-python",
   "name": "python",
   "nbconvert_exporter": "python",
   "pygments_lexer": "ipython3",
   "version": "3.9.13"
  },
  "orig_nbformat": 4,
  "vscode": {
   "interpreter": {
    "hash": "9a4fa60962de90e73b5da8d67a44b01d2de04630d82b94b8db1f727a73d31e61"
   }
  }
 },
 "nbformat": 4,
 "nbformat_minor": 2
}
