{
 "cells": [
  {
   "cell_type": "markdown",
   "metadata": {},
   "source": [
    "# Investigate the influence of the representation on the performance of the model"
   ]
  },
  {
   "cell_type": "markdown",
   "metadata": {},
   "source": [
    "One dataset for which we have common names as well as IUPAC names and SMILES is the solubility dataset."
   ]
  },
  {
   "cell_type": "code",
   "execution_count": 6,
   "metadata": {},
   "outputs": [],
   "source": [
    "%load_ext autoreload\n",
    "%autoreload 2"
   ]
  },
  {
   "cell_type": "code",
   "execution_count": 62,
   "metadata": {},
   "outputs": [],
   "source": [
    "from gpt3forchem.data import get_solubility_data, get_photoswitch_data\n",
    "from typing import Iterable, List\n",
    "from gpt3forchem.helpers import get_num_token_dist, get_representation_length_dist, get_token_counts\n",
    "import seaborn as sns\n",
    "import matplotlib.pyplot as plt \n",
    "import numpy as np\n",
    "plt.style.use(['science', 'nature'])"
   ]
  },
  {
   "cell_type": "code",
   "execution_count": 39,
   "metadata": {},
   "outputs": [],
   "source": [
    "def get_num_token_and_len_dist_and_token_counts(representations): \n",
    "    return get_num_token_dist(representations), get_representation_length_dist(representations), get_token_counts(representations)"
   ]
  },
  {
   "cell_type": "markdown",
   "metadata": {},
   "source": [
    "## Solubility data"
   ]
  },
  {
   "cell_type": "code",
   "execution_count": 87,
   "metadata": {},
   "outputs": [],
   "source": [
    "data = get_solubility_data()"
   ]
  },
  {
   "cell_type": "code",
   "execution_count": 88,
   "metadata": {},
   "outputs": [],
   "source": [
    "smiles_num_tokens, smiles_len, smiles_token_counts = get_num_token_and_len_dist_and_token_counts(data['SMILES'])"
   ]
  },
  {
   "cell_type": "code",
   "execution_count": 89,
   "metadata": {},
   "outputs": [],
   "source": [
    "inchi_num_tokens, inchi_len, inchi_token_counts = get_num_token_and_len_dist_and_token_counts(data['InChI'])"
   ]
  },
  {
   "cell_type": "code",
   "execution_count": 90,
   "metadata": {},
   "outputs": [],
   "source": [
    "selfies_num_tokens, selfies_len, selfies_token_counts = get_num_token_and_len_dist_and_token_counts(data['selfies'])"
   ]
  },
  {
   "cell_type": "code",
   "execution_count": 91,
   "metadata": {},
   "outputs": [],
   "source": [
    "iupac_name_num_tokens, iupac_name_len, iupac_token_counts = get_num_token_and_len_dist_and_token_counts(data['iupac_names'])"
   ]
  },
  {
   "cell_type": "code",
   "execution_count": 92,
   "metadata": {},
   "outputs": [],
   "source": [
    "common_name_num_tokens, common_name_len, common_name_token_counts = get_num_token_and_len_dist_and_token_counts(data['Name'])"
   ]
  },
  {
   "cell_type": "code",
   "execution_count": 95,
   "metadata": {},
   "outputs": [
    {
     "name": "stderr",
     "output_type": "stream",
     "text": [
      "/Users/kevinmaikjablonka/miniconda3/envs/gpt3/lib/python3.9/site-packages/seaborn/distributions.py:2619: FutureWarning: `distplot` is a deprecated function and will be removed in a future version. Please adapt your code to use either `displot` (a figure-level function with similar flexibility) or `histplot` (an axes-level function for histograms).\n",
      "  warnings.warn(msg, FutureWarning)\n",
      "/Users/kevinmaikjablonka/miniconda3/envs/gpt3/lib/python3.9/site-packages/seaborn/distributions.py:2619: FutureWarning: `distplot` is a deprecated function and will be removed in a future version. Please adapt your code to use either `displot` (a figure-level function with similar flexibility) or `histplot` (an axes-level function for histograms).\n",
      "  warnings.warn(msg, FutureWarning)\n",
      "/Users/kevinmaikjablonka/miniconda3/envs/gpt3/lib/python3.9/site-packages/seaborn/distributions.py:2619: FutureWarning: `distplot` is a deprecated function and will be removed in a future version. Please adapt your code to use either `displot` (a figure-level function with similar flexibility) or `histplot` (an axes-level function for histograms).\n",
      "  warnings.warn(msg, FutureWarning)\n",
      "/Users/kevinmaikjablonka/miniconda3/envs/gpt3/lib/python3.9/site-packages/seaborn/distributions.py:2619: FutureWarning: `distplot` is a deprecated function and will be removed in a future version. Please adapt your code to use either `displot` (a figure-level function with similar flexibility) or `histplot` (an axes-level function for histograms).\n",
      "  warnings.warn(msg, FutureWarning)\n",
      "/Users/kevinmaikjablonka/miniconda3/envs/gpt3/lib/python3.9/site-packages/seaborn/distributions.py:2619: FutureWarning: `distplot` is a deprecated function and will be removed in a future version. Please adapt your code to use either `displot` (a figure-level function with similar flexibility) or `histplot` (an axes-level function for histograms).\n",
      "  warnings.warn(msg, FutureWarning)\n"
     ]
    },
    {
     "data": {
      "image/png": "[encoded data removed]",
      "text/plain": [
       "<Figure size 216x144 with 1 Axes>"
      ]
     },
     "metadata": {
      "needs_background": "light"
     },
     "output_type": "display_data"
    }
   ],
   "source": [
    "fig, ax = plt.subplots(1, 1, figsize=(3, 2))\n",
    "sns.distplot(smiles_num_tokens, label='SMILES', ax=ax)\n",
    "sns.distplot(selfies_num_tokens, label='SELFIES', ax=ax)\n",
    "sns.distplot(iupac_name_num_tokens, label='IUPAC name', ax=ax)\n",
    "sns.distplot(inchi_num_tokens, label='InChI', ax=ax)\n",
    "sns.distplot(common_name_num_tokens, label='Common name', ax=ax)\n",
    "\n",
    "ax.set_xlabel('number of tokens')\n",
    "ax.set_ylabel('density')\n",
    "ax.legend()\n",
    "fig.tight_layout()\n",
    "fig.savefig('num_token_dist_solubility.pdf', bbox_inches='tight')"
   ]
  },
  {
   "cell_type": "code",
   "execution_count": 96,
   "metadata": {},
   "outputs": [
    {
     "name": "stderr",
     "output_type": "stream",
     "text": [
      "/Users/kevinmaikjablonka/miniconda3/envs/gpt3/lib/python3.9/site-packages/seaborn/distributions.py:2619: FutureWarning: `distplot` is a deprecated function and will be removed in a future version. Please adapt your code to use either `displot` (a figure-level function with similar flexibility) or `histplot` (an axes-level function for histograms).\n",
      "  warnings.warn(msg, FutureWarning)\n",
      "/Users/kevinmaikjablonka/miniconda3/envs/gpt3/lib/python3.9/site-packages/seaborn/distributions.py:2619: FutureWarning: `distplot` is a deprecated function and will be removed in a future version. Please adapt your code to use either `displot` (a figure-level function with similar flexibility) or `histplot` (an axes-level function for histograms).\n",
      "  warnings.warn(msg, FutureWarning)\n",
      "/Users/kevinmaikjablonka/miniconda3/envs/gpt3/lib/python3.9/site-packages/seaborn/distributions.py:2619: FutureWarning: `distplot` is a deprecated function and will be removed in a future version. Please adapt your code to use either `displot` (a figure-level function with similar flexibility) or `histplot` (an axes-level function for histograms).\n",
      "  warnings.warn(msg, FutureWarning)\n",
      "/Users/kevinmaikjablonka/miniconda3/envs/gpt3/lib/python3.9/site-packages/seaborn/distributions.py:2619: FutureWarning: `distplot` is a deprecated function and will be removed in a future version. Please adapt your code to use either `displot` (a figure-level function with similar flexibility) or `histplot` (an axes-level function for histograms).\n",
      "  warnings.warn(msg, FutureWarning)\n",
      "/Users/kevinmaikjablonka/miniconda3/envs/gpt3/lib/python3.9/site-packages/seaborn/distributions.py:2619: FutureWarning: `distplot` is a deprecated function and will be removed in a future version. Please adapt your code to use either `displot` (a figure-level function with similar flexibility) or `histplot` (an axes-level function for histograms).\n",
      "  warnings.warn(msg, FutureWarning)\n"
     ]
    },
    {
     "data": {
      "image/png": "[encoded data removed]",
      "text/plain": [
       "<Figure size 216x144 with 1 Axes>"
      ]
     },
     "metadata": {
      "needs_background": "light"
     },
     "output_type": "display_data"
    }
   ],
   "source": [
    "fig, ax = plt.subplots(1, 1, figsize=(3, 2))\n",
    "sns.distplot(smiles_len, label='SMILES', ax=ax)\n",
    "sns.distplot(selfies_len, label='SELFIES', ax=ax)\n",
    "sns.distplot(iupac_name_len, label='IUPAC name', ax=ax)\n",
    "sns.distplot(common_name_len, label='Common name', ax=ax)\n",
    "sns.distplot(inchi_len, label='InChI', ax=ax)\n",
    "\n",
    "ax.set_xlabel('number of characters')\n",
    "ax.set_ylabel('density')\n",
    "ax.legend()\n",
    "fig.tight_layout()\n",
    "fig.savefig('len_repr_dist.pdf', bbox_inches='tight')"
   ]
  },
  {
   "cell_type": "code",
   "execution_count": 44,
   "metadata": {},
   "outputs": [
    {
     "data": {
      "text/plain": [
       "873"
      ]
     },
     "execution_count": 44,
     "metadata": {},
     "output_type": "execute_result"
    }
   ],
   "source": [
    "len(iupac_token_counts)"
   ]
  },
  {
   "cell_type": "code",
   "execution_count": 45,
   "metadata": {},
   "outputs": [
    {
     "data": {
      "text/plain": [
       "169"
      ]
     },
     "execution_count": 45,
     "metadata": {},
     "output_type": "execute_result"
    }
   ],
   "source": [
    "len(smiles_token_counts)"
   ]
  },
  {
   "cell_type": "code",
   "execution_count": 47,
   "metadata": {},
   "outputs": [
    {
     "data": {
      "text/plain": [
       "90"
      ]
     },
     "execution_count": 47,
     "metadata": {},
     "output_type": "execute_result"
    }
   ],
   "source": [
    "len(selfies_token_counts)"
   ]
  },
  {
   "cell_type": "code",
   "execution_count": 48,
   "metadata": {},
   "outputs": [
    {
     "data": {
      "text/plain": [
       "217"
      ]
     },
     "execution_count": 48,
     "metadata": {},
     "output_type": "execute_result"
    }
   ],
   "source": [
    "len(inchi_token_counts)"
   ]
  },
  {
   "cell_type": "code",
   "execution_count": 52,
   "metadata": {},
   "outputs": [
    {
     "data": {
      "text/plain": [
       "8449"
      ]
     },
     "execution_count": 52,
     "metadata": {},
     "output_type": "execute_result"
    }
   ],
   "source": [
    "len(common_name_num_tokens)"
   ]
  },
  {
   "cell_type": "code",
   "execution_count": 61,
   "metadata": {},
   "outputs": [
    {
     "name": "stdout",
     "output_type": "stream",
     "text": [
      "SMILES  & \\num{ 24.87 \\pm   18.18 } & \\num{ 31.54 \\pm   22.36 }  \\\\\n",
      "SELFIES  & \\num{ 72.53 \\pm   50.75 } & \\num{ 122.82 \\pm   89.02 }  \\\\\n",
      "IUPAC name  & \\num{ 23.76 \\pm   19.65 } & \\num{ 46.75 \\pm   34.8 }  \\\\\n",
      "INChI  & \\num{ 69.89 \\pm   30.92 } & \\num{ 84.77 \\pm   44.52 }  \\\\\n",
      "common name  & \\num{ 17.3 \\pm   16.98 } & \\num{ 35.61 \\pm   30.52 }  \\\\\n"
     ]
    }
   ],
   "source": [
    "for name, tokens, lengths in zip(['SMILES', 'SELFIES', 'IUPAC name', 'INChI', 'common name'], [smiles_num_tokens, selfies_num_tokens, iupac_name_num_tokens, inchi_num_tokens, common_name_num_tokens ], [smiles_len, selfies_len, iupac_name_len, inchi_len, common_name_len]): \n",
    "    #print(f'{name} has {len(tokens)} unique tokens and {len(lengths)} unique lengths')\n",
    "\n",
    "    print(f\"{name}  & \\\\num# {np.round(np.mean(tokens),2)} \\\\pm   {np.round(np.std(tokens),2)} $ & \\\\num# {np.round(np.mean(lengths),2)} \\\\pm   {np.round(np.std(lengths),2)} $  \\\\\\\\\".replace('#', '{').replace('$', '}'))"
   ]
  },
  {
   "cell_type": "markdown",
   "metadata": {},
   "source": [
    "## Photoswitch data"
   ]
  },
  {
   "cell_type": "code",
   "execution_count": 97,
   "metadata": {},
   "outputs": [],
   "source": [
    "data = get_photoswitch_data()"
   ]
  },
  {
   "cell_type": "code",
   "execution_count": 98,
   "metadata": {},
   "outputs": [],
   "source": [
    "data.dropna(subset=['name'], inplace=True)"
   ]
  },
  {
   "cell_type": "code",
   "execution_count": 99,
   "metadata": {},
   "outputs": [
    {
     "data": {
      "text/html": [
       "<div>\n",
       "<style scoped>\n",
       "    .dataframe tbody tr th:only-of-type {\n",
       "        vertical-align: middle;\n",
       "    }\n",
       "\n",
       "    .dataframe tbody tr th {\n",
       "        vertical-align: top;\n",
       "    }\n",
       "\n",
       "    .dataframe thead th {\n",
       "        text-align: right;\n",
       "    }\n",
       "</style>\n",
       "<table border=\"1\" class=\"dataframe\">\n",
       "  <thead>\n",
       "    <tr style=\"text-align: right;\">\n",
       "      <th></th>\n",
       "      <th>index</th>\n",
       "      <th>SMILES</th>\n",
       "      <th>rate of thermal isomerisation from Z-E in s-1</th>\n",
       "      <th>Solvent used for thermal isomerisation rates</th>\n",
       "      <th>Z PhotoStationaryState</th>\n",
       "      <th>E PhotoStationaryState</th>\n",
       "      <th>E isomer pi-pi* wavelength in nm</th>\n",
       "      <th>Extinction</th>\n",
       "      <th>E isomer n-pi* wavelength in nm</th>\n",
       "      <th>Extinction coefficient in M-1 cm-1</th>\n",
       "      <th>...</th>\n",
       "      <th>CAM-B3LYP/6-31G** DFT E isomer n-pi* wavelength in nm</th>\n",
       "      <th>CAM-B3LYP/6-31G** DFT Z isomer pi-pi* wavelength in nm</th>\n",
       "      <th>CAM-B3LYP/6-31G** DFT Z isomer n-pi* wavelength in nm</th>\n",
       "      <th>BHLYP/6-31G* DFT E isomer pi-pi* wavelength in nm</th>\n",
       "      <th>BHLYP/6-31G* DFT E isomer n-pi* wavelength in nm</th>\n",
       "      <th>BHLYP/6-31G* Z isomer pi-pi* wavelength in nm</th>\n",
       "      <th>BHLYP/6-31G* DFT Z isomer n-pi* wavelength in nm</th>\n",
       "      <th>name</th>\n",
       "      <th>selfies</th>\n",
       "      <th>wavelength_cat</th>\n",
       "    </tr>\n",
       "  </thead>\n",
       "  <tbody>\n",
       "    <tr>\n",
       "      <th>4</th>\n",
       "      <td>5</td>\n",
       "      <td>C[N]1N=C(C)C(=C1C)N=NC2=CC=CC=C2</td>\n",
       "      <td>7.700000e-07</td>\n",
       "      <td>MeCN</td>\n",
       "      <td>98.0</td>\n",
       "      <td>98.0</td>\n",
       "      <td>335.0</td>\n",
       "      <td>2.27</td>\n",
       "      <td>425.0</td>\n",
       "      <td>0.0963</td>\n",
       "      <td>...</td>\n",
       "      <td>422.0</td>\n",
       "      <td>279.0</td>\n",
       "      <td>449.0</td>\n",
       "      <td>NaN</td>\n",
       "      <td>NaN</td>\n",
       "      <td>NaN</td>\n",
       "      <td>NaN</td>\n",
       "      <td>phenyl-(1,3,5-trimethylpyrazol-4-yl)diazene</td>\n",
       "      <td>[C][NH0][N][=C][Branch1][C][C][C][=Branch1][Br...</td>\n",
       "      <td>very small</td>\n",
       "    </tr>\n",
       "    <tr>\n",
       "      <th>11</th>\n",
       "      <td>12</td>\n",
       "      <td>CN1C(/N=N/C2=CC=CC=C2)=NC=C1</td>\n",
       "      <td>2.200000e-05</td>\n",
       "      <td>MeCN</td>\n",
       "      <td>98.0</td>\n",
       "      <td>NaN</td>\n",
       "      <td>363.0</td>\n",
       "      <td>1.70</td>\n",
       "      <td>417.0</td>\n",
       "      <td>0.1260</td>\n",
       "      <td>...</td>\n",
       "      <td>NaN</td>\n",
       "      <td>NaN</td>\n",
       "      <td>NaN</td>\n",
       "      <td>NaN</td>\n",
       "      <td>NaN</td>\n",
       "      <td>NaN</td>\n",
       "      <td>NaN</td>\n",
       "      <td>(1-methylimidazol-2-yl)-phenyldiazene</td>\n",
       "      <td>[C][N][C][Branch1][O][/N][=N][/C][=C][C][=C][C...</td>\n",
       "      <td>small</td>\n",
       "    </tr>\n",
       "    <tr>\n",
       "      <th>29</th>\n",
       "      <td>30</td>\n",
       "      <td>FC1=CC=CC=C1/N=N/C2=C(F)C=CC=C2</td>\n",
       "      <td>1.750370e-05</td>\n",
       "      <td>MeCN at 60C</td>\n",
       "      <td>66.0</td>\n",
       "      <td>82.0</td>\n",
       "      <td>325.0</td>\n",
       "      <td>20000.00</td>\n",
       "      <td>448.0</td>\n",
       "      <td>700.0000</td>\n",
       "      <td>...</td>\n",
       "      <td>500.0</td>\n",
       "      <td>322.0</td>\n",
       "      <td>466.0</td>\n",
       "      <td>NaN</td>\n",
       "      <td>NaN</td>\n",
       "      <td>NaN</td>\n",
       "      <td>NaN</td>\n",
       "      <td>bis(2-fluorophenyl)diazene</td>\n",
       "      <td>[F][C][=C][C][=C][C][=C][Ring1][=Branch1][/N][...</td>\n",
       "      <td>very small</td>\n",
       "    </tr>\n",
       "    <tr>\n",
       "      <th>32</th>\n",
       "      <td>33</td>\n",
       "      <td>FC1=CC(F)=CC(F)=C1/N=N/C(C(F)=C2)=C(F)C=C2F</td>\n",
       "      <td>9.600000e-06</td>\n",
       "      <td>MeCN at 60C</td>\n",
       "      <td>94.0</td>\n",
       "      <td>91.0</td>\n",
       "      <td>309.0</td>\n",
       "      <td>20000.00</td>\n",
       "      <td>450.0</td>\n",
       "      <td>900.0000</td>\n",
       "      <td>...</td>\n",
       "      <td>510.0</td>\n",
       "      <td>310.0</td>\n",
       "      <td>453.0</td>\n",
       "      <td>NaN</td>\n",
       "      <td>NaN</td>\n",
       "      <td>NaN</td>\n",
       "      <td>NaN</td>\n",
       "      <td>bis(2,4,6-trifluorophenyl)diazene</td>\n",
       "      <td>[F][C][=C][C][Branch1][C][F][=C][C][Branch1][C...</td>\n",
       "      <td>very small</td>\n",
       "    </tr>\n",
       "    <tr>\n",
       "      <th>33</th>\n",
       "      <td>34</td>\n",
       "      <td>FC1=C(F)C=C(F)C(F)=C1/N=N/C2=C(F)C(F)=CC(F)=C2F</td>\n",
       "      <td>7.131140e-06</td>\n",
       "      <td>MeCN at 60C</td>\n",
       "      <td>92.0</td>\n",
       "      <td>92.0</td>\n",
       "      <td>303.0</td>\n",
       "      <td>16000.00</td>\n",
       "      <td>456.0</td>\n",
       "      <td>700.0000</td>\n",
       "      <td>...</td>\n",
       "      <td>531.0</td>\n",
       "      <td>363.0</td>\n",
       "      <td>439.0</td>\n",
       "      <td>NaN</td>\n",
       "      <td>NaN</td>\n",
       "      <td>NaN</td>\n",
       "      <td>NaN</td>\n",
       "      <td>bis(2,3,5,6-tetrafluorophenyl)diazene</td>\n",
       "      <td>[F][C][=C][Branch1][C][F][C][=C][Branch1][C][F...</td>\n",
       "      <td>very small</td>\n",
       "    </tr>\n",
       "  </tbody>\n",
       "</table>\n",
       "<p>5 rows × 37 columns</p>\n",
       "</div>"
      ],
      "text/plain": [
       "    index                                           SMILES  \\\n",
       "4       5                 C[N]1N=C(C)C(=C1C)N=NC2=CC=CC=C2   \n",
       "11     12                     CN1C(/N=N/C2=CC=CC=C2)=NC=C1   \n",
       "29     30                  FC1=CC=CC=C1/N=N/C2=C(F)C=CC=C2   \n",
       "32     33      FC1=CC(F)=CC(F)=C1/N=N/C(C(F)=C2)=C(F)C=C2F   \n",
       "33     34  FC1=C(F)C=C(F)C(F)=C1/N=N/C2=C(F)C(F)=CC(F)=C2F   \n",
       "\n",
       "    rate of thermal isomerisation from Z-E in s-1  \\\n",
       "4                                    7.700000e-07   \n",
       "11                                   2.200000e-05   \n",
       "29                                   1.750370e-05   \n",
       "32                                   9.600000e-06   \n",
       "33                                   7.131140e-06   \n",
       "\n",
       "   Solvent used for thermal isomerisation rates  Z PhotoStationaryState  \\\n",
       "4                                          MeCN                    98.0   \n",
       "11                                         MeCN                    98.0   \n",
       "29                                  MeCN at 60C                    66.0   \n",
       "32                                  MeCN at 60C                    94.0   \n",
       "33                                  MeCN at 60C                    92.0   \n",
       "\n",
       "    E PhotoStationaryState  E isomer pi-pi* wavelength in nm  Extinction  \\\n",
       "4                     98.0                             335.0        2.27   \n",
       "11                     NaN                             363.0        1.70   \n",
       "29                    82.0                             325.0    20000.00   \n",
       "32                    91.0                             309.0    20000.00   \n",
       "33                    92.0                             303.0    16000.00   \n",
       "\n",
       "    E isomer n-pi* wavelength in nm  Extinction coefficient in M-1 cm-1  ...  \\\n",
       "4                             425.0                              0.0963  ...   \n",
       "11                            417.0                              0.1260  ...   \n",
       "29                            448.0                            700.0000  ...   \n",
       "32                            450.0                            900.0000  ...   \n",
       "33                            456.0                            700.0000  ...   \n",
       "\n",
       "    CAM-B3LYP/6-31G** DFT E isomer n-pi* wavelength in nm  \\\n",
       "4                                               422.0       \n",
       "11                                                NaN       \n",
       "29                                              500.0       \n",
       "32                                              510.0       \n",
       "33                                              531.0       \n",
       "\n",
       "    CAM-B3LYP/6-31G** DFT Z isomer pi-pi* wavelength in nm  \\\n",
       "4                                               279.0        \n",
       "11                                                NaN        \n",
       "29                                              322.0        \n",
       "32                                              310.0        \n",
       "33                                              363.0        \n",
       "\n",
       "    CAM-B3LYP/6-31G** DFT Z isomer n-pi* wavelength in nm  \\\n",
       "4                                               449.0       \n",
       "11                                                NaN       \n",
       "29                                              466.0       \n",
       "32                                              453.0       \n",
       "33                                              439.0       \n",
       "\n",
       "    BHLYP/6-31G* DFT E isomer pi-pi* wavelength in nm  \\\n",
       "4                                                 NaN   \n",
       "11                                                NaN   \n",
       "29                                                NaN   \n",
       "32                                                NaN   \n",
       "33                                                NaN   \n",
       "\n",
       "    BHLYP/6-31G* DFT E isomer n-pi* wavelength in nm  \\\n",
       "4                                                NaN   \n",
       "11                                               NaN   \n",
       "29                                               NaN   \n",
       "32                                               NaN   \n",
       "33                                               NaN   \n",
       "\n",
       "   BHLYP/6-31G* Z isomer pi-pi* wavelength in nm  \\\n",
       "4                                            NaN   \n",
       "11                                           NaN   \n",
       "29                                           NaN   \n",
       "32                                           NaN   \n",
       "33                                           NaN   \n",
       "\n",
       "   BHLYP/6-31G* DFT Z isomer n-pi* wavelength in nm  \\\n",
       "4                                               NaN   \n",
       "11                                              NaN   \n",
       "29                                              NaN   \n",
       "32                                              NaN   \n",
       "33                                              NaN   \n",
       "\n",
       "                                           name  \\\n",
       "4   phenyl-(1,3,5-trimethylpyrazol-4-yl)diazene   \n",
       "11        (1-methylimidazol-2-yl)-phenyldiazene   \n",
       "29                   bis(2-fluorophenyl)diazene   \n",
       "32            bis(2,4,6-trifluorophenyl)diazene   \n",
       "33        bis(2,3,5,6-tetrafluorophenyl)diazene   \n",
       "\n",
       "                                              selfies  wavelength_cat  \n",
       "4   [C][NH0][N][=C][Branch1][C][C][C][=Branch1][Br...      very small  \n",
       "11  [C][N][C][Branch1][O][/N][=N][/C][=C][C][=C][C...           small  \n",
       "29  [F][C][=C][C][=C][C][=C][Ring1][=Branch1][/N][...      very small  \n",
       "32  [F][C][=C][C][Branch1][C][F][=C][C][Branch1][C...      very small  \n",
       "33  [F][C][=C][Branch1][C][F][C][=C][Branch1][C][F...      very small  \n",
       "\n",
       "[5 rows x 37 columns]"
      ]
     },
     "execution_count": 99,
     "metadata": {},
     "output_type": "execute_result"
    }
   ],
   "source": [
    "data.head()"
   ]
  },
  {
   "cell_type": "code",
   "execution_count": 100,
   "metadata": {},
   "outputs": [],
   "source": [
    "smiles_num_tokens, smiles_len, smiles_token_counts = get_num_token_and_len_dist_and_token_counts(data['SMILES'])"
   ]
  },
  {
   "cell_type": "code",
   "execution_count": 101,
   "metadata": {},
   "outputs": [],
   "source": [
    "selfies_num_tokens, selfies_len, selfies_token_counts = get_num_token_and_len_dist_and_token_counts(data['selfies'])"
   ]
  },
  {
   "cell_type": "code",
   "execution_count": 102,
   "metadata": {},
   "outputs": [],
   "source": [
    "iupac_name_num_tokens, iupac_name_len, iupac_token_counts = get_num_token_and_len_dist_and_token_counts(data['name'])"
   ]
  },
  {
   "cell_type": "code",
   "execution_count": 103,
   "metadata": {},
   "outputs": [
    {
     "name": "stderr",
     "output_type": "stream",
     "text": [
      "/Users/kevinmaikjablonka/miniconda3/envs/gpt3/lib/python3.9/site-packages/seaborn/distributions.py:2619: FutureWarning: `distplot` is a deprecated function and will be removed in a future version. Please adapt your code to use either `displot` (a figure-level function with similar flexibility) or `histplot` (an axes-level function for histograms).\n",
      "  warnings.warn(msg, FutureWarning)\n",
      "/Users/kevinmaikjablonka/miniconda3/envs/gpt3/lib/python3.9/site-packages/seaborn/distributions.py:2619: FutureWarning: `distplot` is a deprecated function and will be removed in a future version. Please adapt your code to use either `displot` (a figure-level function with similar flexibility) or `histplot` (an axes-level function for histograms).\n",
      "  warnings.warn(msg, FutureWarning)\n",
      "/Users/kevinmaikjablonka/miniconda3/envs/gpt3/lib/python3.9/site-packages/seaborn/distributions.py:2619: FutureWarning: `distplot` is a deprecated function and will be removed in a future version. Please adapt your code to use either `displot` (a figure-level function with similar flexibility) or `histplot` (an axes-level function for histograms).\n",
      "  warnings.warn(msg, FutureWarning)\n"
     ]
    },
    {
     "data": {
      "image/png": "[encoded data removed]",
      "text/plain": [
       "<Figure size 216x144 with 1 Axes>"
      ]
     },
     "metadata": {
      "needs_background": "light"
     },
     "output_type": "display_data"
    }
   ],
   "source": [
    "fig, ax = plt.subplots(1, 1, figsize=(3, 2))\n",
    "sns.distplot(smiles_num_tokens, label='SMILES', ax=ax)\n",
    "\n",
    "sns.distplot(selfies_num_tokens, label='SELFIES', ax=ax)\n",
    "sns.distplot(iupac_name_num_tokens, label='IUPAC name', ax=ax)\n",
    "\n",
    "ax.set_xlabel('number of tokens')\n",
    "ax.set_ylabel('density')\n",
    "ax.legend()\n",
    "fig.tight_layout()\n",
    "fig.savefig('num_token_dist_photoswitch.pdf', bbox_inches='tight')"
   ]
  },
  {
   "cell_type": "code",
   "execution_count": 129,
   "metadata": {},
   "outputs": [],
   "source": [
    "import EFGs\n",
    "from rdkit import Chem"
   ]
  },
  {
   "cell_type": "code",
   "execution_count": 126,
   "metadata": {},
   "outputs": [],
   "source": [
    "from gpt3forchem.data import get_photoswitch_data"
   ]
  },
  {
   "cell_type": "code",
   "execution_count": 127,
   "metadata": {},
   "outputs": [],
   "source": [
    "data = get_photoswitch_data()"
   ]
  },
  {
   "cell_type": "code",
   "execution_count": 130,
   "metadata": {},
   "outputs": [],
   "source": [
    "frags = []\n",
    "for s in data['SMILES']: \n",
    "    frags.extend(EFGs.mol2frag(Chem.MolFromSmiles(s))[0])"
   ]
  },
  {
   "cell_type": "code",
   "execution_count": 131,
   "metadata": {},
   "outputs": [
    {
     "data": {
      "text/plain": [
       "36"
      ]
     },
     "execution_count": 131,
     "metadata": {},
     "output_type": "execute_result"
    }
   ],
   "source": [
    "len(set(frags))"
   ]
  },
  {
   "cell_type": "code",
   "execution_count": 133,
   "metadata": {},
   "outputs": [
    {
     "data": {
      "text/plain": [
       "['S',\n",
       " 'I',\n",
       " 'F',\n",
       " 'N',\n",
       " 'O',\n",
       " 'Cl',\n",
       " 'Br',\n",
       " 'C=N',\n",
       " 'N=N',\n",
       " 'OCS',\n",
       " 'C=O',\n",
       " 'C#N',\n",
       " 'NC=O',\n",
       " 'O=CO',\n",
       " 'O=S=O',\n",
       " 'c1cnoc1',\n",
       " 'c1ccsc1',\n",
       " 'c1nncs1',\n",
       " 'c1cscn1',\n",
       " 'c1ccccc1',\n",
       " 'c1ccncc1',\n",
       " 'O=S(=O)O',\n",
       " 'N=N/CSCN',\n",
       " 'c1c[nH]cn1',\n",
       " 'O=[N+][O-]',\n",
       " 'c1nc[nH]n1',\n",
       " 'c1cc[nH]c1',\n",
       " 'c1cn[nH]c1',\n",
       " 'c1ccc2scnc2c1',\n",
       " 'c1ccc2ocnc2c1',\n",
       " 'c1ccc2ccccc2c1',\n",
       " 'O=C1C=CC(=O)N1',\n",
       " 'c1ccc2ncccc2c1',\n",
       " 'c1ccc2[nH]ccc2c1',\n",
       " 'c1ccc2[nH]cnc2c1',\n",
       " 'O=c1cc[nH]c(=O)[nH]1']"
      ]
     },
     "execution_count": 133,
     "metadata": {},
     "output_type": "execute_result"
    }
   ],
   "source": [
    "sorted(list(set(frags)), key = lambda x: len(x))"
   ]
  },
  {
   "cell_type": "code",
   "execution_count": null,
   "metadata": {},
   "outputs": [],
   "source": []
  }
 ],
 "metadata": {
  "kernelspec": {
   "display_name": "Python 3.9.13 ('gpt3')",
   "language": "python",
   "name": "python3"
  },
  "language_info": {
   "codemirror_mode": {
    "name": "ipython",
    "version": 3
   },
   "file_extension": ".py",
   "mimetype": "text/x-python",
   "name": "python",
   "nbconvert_exporter": "python",
   "pygments_lexer": "ipython3",
   "version": "3.9.13"
  },
  "orig_nbformat": 4,
  "vscode": {
   "interpreter": {
    "hash": "9a4fa60962de90e73b5da8d67a44b01d2de04630d82b94b8db1f727a73d31e61"
   }
  }
 },
 "nbformat": 4,
 "nbformat_minor": 2
}
