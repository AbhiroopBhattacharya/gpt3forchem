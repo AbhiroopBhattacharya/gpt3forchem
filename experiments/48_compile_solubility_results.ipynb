{
 "cells": [
  {
   "cell_type": "code",
   "execution_count": 148,
   "metadata": {},
   "outputs": [],
   "source": [
    "from glob import glob \n",
    "from fastcore.helpers import load_pickle\n",
    "\n",
    "import pandas as pd "
   ]
  },
  {
   "cell_type": "code",
   "execution_count": 149,
   "metadata": {},
   "outputs": [],
   "source": [
    "all_res = glob('results/20221117_solubility/*')"
   ]
  },
  {
   "cell_type": "code",
   "execution_count": 150,
   "metadata": {},
   "outputs": [
    {
     "data": {
      "text/plain": [
       "115"
      ]
     },
     "execution_count": 150,
     "metadata": {},
     "output_type": "execute_result"
    }
   ],
   "source": [
    "len(all_res)"
   ]
  },
  {
   "cell_type": "code",
   "execution_count": 151,
   "metadata": {},
   "outputs": [
    {
     "data": {
      "text/plain": [
       "dict_keys(['num_train_points', 'baseline_cm', 'baseline_y_eval', 'modelname', 'predictions', 'completions', 'true', 'cm', 'representation'])"
      ]
     },
     "execution_count": 151,
     "metadata": {},
     "output_type": "execute_result"
    }
   ],
   "source": [
    "load_pickle(all_res[0]).keys()"
   ]
  },
  {
   "cell_type": "code",
   "execution_count": 152,
   "metadata": {},
   "outputs": [],
   "source": [
    "compiled_res = []\n",
    "baseline_res = []\n",
    "\n",
    "for res in all_res:\n",
    "    loaded_res = load_pickle(res)\n",
    "    if 'representation' in loaded_res: \n",
    "        this_res = {\n",
    "            'representation': loaded_res['representation'],\n",
    "            'train_set_size': loaded_res['num_train_points'],\n",
    "            'f1_macro': loaded_res['cm'].F1_Macro,\n",
    "            'f1_micro': loaded_res['cm'].F1_Micro,\n",
    "            'acc': loaded_res['cm'].ACC_Macro,\n",
    "        }\n",
    "        compiled_res.append(this_res)\n",
    "\n",
    "        try:\n",
    "            baseline_res.append({\n",
    "                'representation': loaded_res['representation'],\n",
    "                'train_set_size': loaded_res['num_train_points'],\n",
    "                'f1_macro': loaded_res['baseline_cm'].F1_Macro,\n",
    "                'f1_micro': loaded_res['baseline_cm'].F1_Micro,\n",
    "                'acc': loaded_res['baseline_cm'].ACC_Macro,\n",
    "            })\n",
    "        except:\n",
    "            pass"
   ]
  },
  {
   "cell_type": "code",
   "execution_count": 153,
   "metadata": {},
   "outputs": [],
   "source": [
    "compiled_res = pd.DataFrame(compiled_res)\n",
    "baseline_res = pd.DataFrame(baseline_res)"
   ]
  },
  {
   "cell_type": "code",
   "execution_count": 159,
   "metadata": {},
   "outputs": [],
   "source": [
    "compiled_res_grouped = compiled_res.groupby(['representation', 'train_set_size']).agg(['mean', 'std'])"
   ]
  },
  {
   "cell_type": "code",
   "execution_count": 160,
   "metadata": {},
   "outputs": [
    {
     "data": {
      "text/html": [
       "<div>\n",
       "<style scoped>\n",
       "    .dataframe tbody tr th:only-of-type {\n",
       "        vertical-align: middle;\n",
       "    }\n",
       "\n",
       "    .dataframe tbody tr th {\n",
       "        vertical-align: top;\n",
       "    }\n",
       "\n",
       "    .dataframe thead tr th {\n",
       "        text-align: left;\n",
       "    }\n",
       "\n",
       "    .dataframe thead tr:last-of-type th {\n",
       "        text-align: right;\n",
       "    }\n",
       "</style>\n",
       "<table border=\"1\" class=\"dataframe\">\n",
       "  <thead>\n",
       "    <tr>\n",
       "      <th></th>\n",
       "      <th></th>\n",
       "      <th colspan=\"2\" halign=\"left\">f1_macro</th>\n",
       "      <th colspan=\"2\" halign=\"left\">f1_micro</th>\n",
       "      <th colspan=\"2\" halign=\"left\">acc</th>\n",
       "    </tr>\n",
       "    <tr>\n",
       "      <th></th>\n",
       "      <th></th>\n",
       "      <th>mean</th>\n",
       "      <th>std</th>\n",
       "      <th>mean</th>\n",
       "      <th>std</th>\n",
       "      <th>mean</th>\n",
       "      <th>std</th>\n",
       "    </tr>\n",
       "    <tr>\n",
       "      <th>representation</th>\n",
       "      <th>train_set_size</th>\n",
       "      <th></th>\n",
       "      <th></th>\n",
       "      <th></th>\n",
       "      <th></th>\n",
       "      <th></th>\n",
       "      <th></th>\n",
       "    </tr>\n",
       "  </thead>\n",
       "  <tbody>\n",
       "    <tr>\n",
       "      <th rowspan=\"3\" valign=\"top\">InChI</th>\n",
       "      <th>10</th>\n",
       "      <td>0.122754</td>\n",
       "      <td>0.041445</td>\n",
       "      <td>0.195111</td>\n",
       "      <td>0.026002</td>\n",
       "      <td>0.683807</td>\n",
       "      <td>0.023378</td>\n",
       "    </tr>\n",
       "    <tr>\n",
       "      <th>50</th>\n",
       "      <td>0.245372</td>\n",
       "      <td>0.052206</td>\n",
       "      <td>0.308857</td>\n",
       "      <td>0.038347</td>\n",
       "      <td>0.723543</td>\n",
       "      <td>0.015339</td>\n",
       "    </tr>\n",
       "    <tr>\n",
       "      <th>500</th>\n",
       "      <td>0.449038</td>\n",
       "      <td>0.037351</td>\n",
       "      <td>0.466571</td>\n",
       "      <td>0.037269</td>\n",
       "      <td>0.786629</td>\n",
       "      <td>0.014907</td>\n",
       "    </tr>\n",
       "    <tr>\n",
       "      <th rowspan=\"3\" valign=\"top\">Name</th>\n",
       "      <th>10</th>\n",
       "      <td>0.146918</td>\n",
       "      <td>0.027312</td>\n",
       "      <td>0.210000</td>\n",
       "      <td>0.022142</td>\n",
       "      <td>0.697233</td>\n",
       "      <td>0.025081</td>\n",
       "    </tr>\n",
       "    <tr>\n",
       "      <th>50</th>\n",
       "      <td>0.158902</td>\n",
       "      <td>0.056365</td>\n",
       "      <td>0.221143</td>\n",
       "      <td>0.032575</td>\n",
       "      <td>0.688457</td>\n",
       "      <td>0.013030</td>\n",
       "    </tr>\n",
       "    <tr>\n",
       "      <th>500</th>\n",
       "      <td>0.361255</td>\n",
       "      <td>0.030149</td>\n",
       "      <td>0.376667</td>\n",
       "      <td>0.031078</td>\n",
       "      <td>0.757311</td>\n",
       "      <td>0.024104</td>\n",
       "    </tr>\n",
       "    <tr>\n",
       "      <th rowspan=\"3\" valign=\"top\">SMILES</th>\n",
       "      <th>10</th>\n",
       "      <td>0.153161</td>\n",
       "      <td>0.057292</td>\n",
       "      <td>0.208667</td>\n",
       "      <td>0.040841</td>\n",
       "      <td>0.711107</td>\n",
       "      <td>0.037611</td>\n",
       "    </tr>\n",
       "    <tr>\n",
       "      <th>50</th>\n",
       "      <td>0.247786</td>\n",
       "      <td>0.031101</td>\n",
       "      <td>0.300000</td>\n",
       "      <td>0.022065</td>\n",
       "      <td>0.720000</td>\n",
       "      <td>0.008826</td>\n",
       "    </tr>\n",
       "    <tr>\n",
       "      <th>500</th>\n",
       "      <td>0.498951</td>\n",
       "      <td>0.009942</td>\n",
       "      <td>0.507714</td>\n",
       "      <td>0.010029</td>\n",
       "      <td>0.803086</td>\n",
       "      <td>0.004011</td>\n",
       "    </tr>\n",
       "    <tr>\n",
       "      <th rowspan=\"3\" valign=\"top\">iupac_names</th>\n",
       "      <th>10</th>\n",
       "      <td>0.103033</td>\n",
       "      <td>0.023959</td>\n",
       "      <td>0.199000</td>\n",
       "      <td>0.017664</td>\n",
       "      <td>0.679600</td>\n",
       "      <td>0.007065</td>\n",
       "    </tr>\n",
       "    <tr>\n",
       "      <th>50</th>\n",
       "      <td>0.174663</td>\n",
       "      <td>0.042504</td>\n",
       "      <td>0.233429</td>\n",
       "      <td>0.040128</td>\n",
       "      <td>0.693371</td>\n",
       "      <td>0.016051</td>\n",
       "    </tr>\n",
       "    <tr>\n",
       "      <th>500</th>\n",
       "      <td>0.397276</td>\n",
       "      <td>0.034305</td>\n",
       "      <td>0.402333</td>\n",
       "      <td>0.029296</td>\n",
       "      <td>0.760933</td>\n",
       "      <td>0.011718</td>\n",
       "    </tr>\n",
       "    <tr>\n",
       "      <th rowspan=\"3\" valign=\"top\">selfies</th>\n",
       "      <th>10</th>\n",
       "      <td>0.123725</td>\n",
       "      <td>0.042860</td>\n",
       "      <td>0.206889</td>\n",
       "      <td>0.035876</td>\n",
       "      <td>0.706400</td>\n",
       "      <td>0.029182</td>\n",
       "    </tr>\n",
       "    <tr>\n",
       "      <th>50</th>\n",
       "      <td>0.200697</td>\n",
       "      <td>0.044704</td>\n",
       "      <td>0.275714</td>\n",
       "      <td>0.053459</td>\n",
       "      <td>0.710286</td>\n",
       "      <td>0.021384</td>\n",
       "    </tr>\n",
       "    <tr>\n",
       "      <th>500</th>\n",
       "      <td>0.446615</td>\n",
       "      <td>0.043775</td>\n",
       "      <td>0.482286</td>\n",
       "      <td>0.026918</td>\n",
       "      <td>0.802838</td>\n",
       "      <td>0.018948</td>\n",
       "    </tr>\n",
       "  </tbody>\n",
       "</table>\n",
       "</div>"
      ],
      "text/plain": [
       "                               f1_macro            f1_micro            \\\n",
       "                                   mean       std      mean       std   \n",
       "representation train_set_size                                           \n",
       "InChI          10              0.122754  0.041445  0.195111  0.026002   \n",
       "               50              0.245372  0.052206  0.308857  0.038347   \n",
       "               500             0.449038  0.037351  0.466571  0.037269   \n",
       "Name           10              0.146918  0.027312  0.210000  0.022142   \n",
       "               50              0.158902  0.056365  0.221143  0.032575   \n",
       "               500             0.361255  0.030149  0.376667  0.031078   \n",
       "SMILES         10              0.153161  0.057292  0.208667  0.040841   \n",
       "               50              0.247786  0.031101  0.300000  0.022065   \n",
       "               500             0.498951  0.009942  0.507714  0.010029   \n",
       "iupac_names    10              0.103033  0.023959  0.199000  0.017664   \n",
       "               50              0.174663  0.042504  0.233429  0.040128   \n",
       "               500             0.397276  0.034305  0.402333  0.029296   \n",
       "selfies        10              0.123725  0.042860  0.206889  0.035876   \n",
       "               50              0.200697  0.044704  0.275714  0.053459   \n",
       "               500             0.446615  0.043775  0.482286  0.026918   \n",
       "\n",
       "                                    acc            \n",
       "                                   mean       std  \n",
       "representation train_set_size                      \n",
       "InChI          10              0.683807  0.023378  \n",
       "               50              0.723543  0.015339  \n",
       "               500             0.786629  0.014907  \n",
       "Name           10              0.697233  0.025081  \n",
       "               50              0.688457  0.013030  \n",
       "               500             0.757311  0.024104  \n",
       "SMILES         10              0.711107  0.037611  \n",
       "               50              0.720000  0.008826  \n",
       "               500             0.803086  0.004011  \n",
       "iupac_names    10              0.679600  0.007065  \n",
       "               50              0.693371  0.016051  \n",
       "               500             0.760933  0.011718  \n",
       "selfies        10              0.706400  0.029182  \n",
       "               50              0.710286  0.021384  \n",
       "               500             0.802838  0.018948  "
      ]
     },
     "execution_count": 160,
     "metadata": {},
     "output_type": "execute_result"
    }
   ],
   "source": [
    "compiled_res_grouped"
   ]
  },
  {
   "cell_type": "code",
   "execution_count": 166,
   "metadata": {},
   "outputs": [],
   "source": [
    "def compile_table_row(row):\n",
    "    template =  \"\\\\num⁍ {accuracy} \\\\pm {accuracy_std} ⁌ &  \\\\num⁍ {f1_micro} \\\\pm {f1_micro_std}  ⁌ & \\\\num⁍ {f1_macro} \\\\pm {f1_macro_std} ⁌\\\\\\\\\"\n",
    "    row = row.round(2)\n",
    "    string = template.format(\n",
    "        accuracy=row['acc']['mean'],\n",
    "        accuracy_std=row['acc']['std'],\n",
    "        f1_micro=row['f1_micro']['mean'],\n",
    "        f1_micro_std=row['f1_micro']['std'],\n",
    "        f1_macro=row['f1_macro']['mean'],\n",
    "        f1_macro_std=row['f1_macro']['std']\n",
    "    )\n",
    "\n",
    "    return string.replace(\"⁍\", \"{\").replace(\"⁌\", \"}\")\n"
   ]
  },
  {
   "cell_type": "code",
   "execution_count": 192,
   "metadata": {},
   "outputs": [
    {
     "name": "stdout",
     "output_type": "stream",
     "text": [
      "\\num{ 0.76 \\pm 0.02 } &  \\num{ 0.38 \\pm 0.03  } & \\num{ 0.36 \\pm 0.03 }\\\\\n"
     ]
    }
   ],
   "source": [
    "print(compile_table_row(compiled_res_grouped.loc['Name'].loc[500]))"
   ]
  },
  {
   "cell_type": "code",
   "execution_count": 177,
   "metadata": {},
   "outputs": [
    {
     "name": "stderr",
     "output_type": "stream",
     "text": [
      "/var/folders/m9/_txh68y946s4pxy1x2wnd3lh0000gn/T/ipykernel_69174/4278541108.py:1: FutureWarning: ['representation'] did not aggregate successfully. If any error is raised this will raise in a future version of pandas. Drop these columns/ops to avoid this warning.\n",
      "  baseline_res_agg= baseline_res.groupby(['train_set_size']).agg(['mean', 'std'])\n"
     ]
    }
   ],
   "source": [
    "baseline_res_agg= baseline_res.groupby(['train_set_size']).agg(['mean', 'std'])"
   ]
  },
  {
   "cell_type": "code",
   "execution_count": 185,
   "metadata": {},
   "outputs": [
    {
     "name": "stdout",
     "output_type": "stream",
     "text": [
      "\\num{ 0.84 \\pm 0.01 } &  \\num{ 0.59 \\pm 0.01  } & \\num{ 0.59 \\pm 0.01 }\\\\\n"
     ]
    }
   ],
   "source": [
    "print(compile_table_row(baseline_res_agg.loc[500]))"
   ]
  },
  {
   "cell_type": "code",
   "execution_count": null,
   "metadata": {},
   "outputs": [],
   "source": []
  },
  {
   "cell_type": "code",
   "execution_count": null,
   "metadata": {},
   "outputs": [],
   "source": []
  },
  {
   "cell_type": "code",
   "execution_count": null,
   "metadata": {},
   "outputs": [],
   "source": []
  }
 ],
 "metadata": {
  "kernelspec": {
   "display_name": "Python 3.9.13 ('gpt3')",
   "language": "python",
   "name": "python3"
  },
  "language_info": {
   "codemirror_mode": {
    "name": "ipython",
    "version": 3
   },
   "file_extension": ".py",
   "mimetype": "text/x-python",
   "name": "python",
   "nbconvert_exporter": "python",
   "pygments_lexer": "ipython3",
   "version": "3.9.13"
  },
  "orig_nbformat": 4,
  "vscode": {
   "interpreter": {
    "hash": "9a4fa60962de90e73b5da8d67a44b01d2de04630d82b94b8db1f727a73d31e61"
   }
  }
 },
 "nbformat": 4,
 "nbformat_minor": 2
}
