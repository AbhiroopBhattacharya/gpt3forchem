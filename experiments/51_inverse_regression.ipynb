{
 "cells": [
  {
   "cell_type": "code",
   "execution_count": 29,
   "metadata": {},
   "outputs": [],
   "source": [
    "from gpt3forchem.data import get_polymer_data\n",
    "from gpt3forchem.input import create_single_property_inverse_polymer_prompts\n",
    "from gpt3forchem.api_wrappers import fine_tune, query_gpt3, extract_regression_prediction, extract_inverse_prediction\n",
    "\n",
    "from gpt3forchem.output import polymer_string2performance\n",
    "\n",
    "import matplotlib.pyplot as plt\n",
    "\n",
    "import time"
   ]
  },
  {
   "cell_type": "code",
   "execution_count": 4,
   "metadata": {},
   "outputs": [],
   "source": [
    "df = get_polymer_data()"
   ]
  },
  {
   "cell_type": "code",
   "execution_count": 7,
   "metadata": {},
   "outputs": [],
   "source": [
    "df['deltaGmin_rounded'] = df['deltaGmin'].round(2)"
   ]
  },
  {
   "cell_type": "code",
   "execution_count": 13,
   "metadata": {},
   "outputs": [],
   "source": [
    "prompts = create_single_property_inverse_polymer_prompts(df, 'deltaGmin_rounded', {'deltaGmin_rounded': 'adsorption energy'}, encode_value=False)"
   ]
  },
  {
   "cell_type": "code",
   "execution_count": 14,
   "metadata": {},
   "outputs": [],
   "source": [
    "prompts['target'] = df['deltaGmin_rounded']"
   ]
  },
  {
   "cell_type": "code",
   "execution_count": 16,
   "metadata": {},
   "outputs": [
    {
     "data": {
      "text/plain": [
       "(array([ 26., 148., 299., 490., 592., 575., 499., 326., 141.,  29.]),\n",
       " array([-20.67 , -18.907, -17.144, -15.381, -13.618, -11.855, -10.092,\n",
       "         -8.329,  -6.566,  -4.803,  -3.04 ]),\n",
       " <BarContainer object of 10 artists>)"
      ]
     },
     "execution_count": 16,
     "metadata": {},
     "output_type": "execute_result"
    },
    {
     "data": {
      "image/png": "[encoded data removed]",
      "text/plain": [
       "<Figure size 432x288 with 1 Axes>"
      ]
     },
     "metadata": {
      "needs_background": "light"
     },
     "output_type": "display_data"
    }
   ],
   "source": [
    "plt.hist(df['deltaGmin_rounded'])"
   ]
  },
  {
   "cell_type": "code",
   "execution_count": 113,
   "metadata": {},
   "outputs": [],
   "source": [
    "df_train = prompts[prompts['target'] < -7.5]\n",
    "df_test = prompts[prompts['target'] >= -7.5]"
   ]
  },
  {
   "cell_type": "code",
   "execution_count": 114,
   "metadata": {},
   "outputs": [],
   "source": [
    "filename_base = time.strftime(\"%Y-%m-%d-%H-%M-%S\", time.localtime())\n",
    "train_filename = f\"run_files/{filename_base}_train_prompts_mof_h2o.jsonl\"\n",
    "valid_filename = f\"run_files/{filename_base}_valid_prompts_mof_h2o.jsonl\"\n",
    "\n",
    "df_train.to_json(train_filename, orient=\"records\", lines=True)\n",
    "df_test.to_json(valid_filename, orient=\"records\", lines=True)\n"
   ]
  },
  {
   "cell_type": "code",
   "execution_count": 21,
   "metadata": {},
   "outputs": [
    {
     "name": "stderr",
     "output_type": "stream",
     "text": [
      "Traceback (most recent call last):\n",
      "  File \"/Users/kevinmaikjablonka/miniconda3/envs/gpt3/bin/openai\", line 8, in <module>\n",
      "    sys.exit(main())\n",
      "  File \"/Users/kevinmaikjablonka/miniconda3/envs/gpt3/lib/python3.9/site-packages/openai/_openai_scripts.py\", line 63, in main\n",
      "    args.func(args)\n",
      "  File \"/Users/kevinmaikjablonka/miniconda3/envs/gpt3/lib/python3.9/site-packages/openai/cli.py\", line 545, in sync\n",
      "    resp = openai.wandb_logger.WandbLogger.sync(\n",
      "  File \"/Users/kevinmaikjablonka/miniconda3/envs/gpt3/lib/python3.9/site-packages/openai/wandb_logger.py\", line 74, in sync\n",
      "    fine_tune_logged = [\n",
      "  File \"/Users/kevinmaikjablonka/miniconda3/envs/gpt3/lib/python3.9/site-packages/openai/wandb_logger.py\", line 75, in <listcomp>\n",
      "    cls._log_fine_tune(\n",
      "  File \"/Users/kevinmaikjablonka/miniconda3/envs/gpt3/lib/python3.9/site-packages/openai/wandb_logger.py\", line 125, in _log_fine_tune\n",
      "    wandb_run = cls._get_wandb_run(run_path)\n",
      "  File \"/Users/kevinmaikjablonka/miniconda3/envs/gpt3/lib/python3.9/site-packages/openai/wandb_logger.py\", line 190, in _get_wandb_run\n",
      "    cls._ensure_logged_in()\n",
      "  File \"/Users/kevinmaikjablonka/miniconda3/envs/gpt3/lib/python3.9/site-packages/openai/wandb_logger.py\", line 186, in _ensure_logged_in\n",
      "    raise Exception(\"You need to log in to wandb\")\n",
      "Exception: You need to log in to wandb\n"
     ]
    },
    {
     "data": {
      "text/plain": [
       "'ada:ft-lsmoepfl-2022-11-18-17-03-36'"
      ]
     },
     "execution_count": 21,
     "metadata": {},
     "output_type": "execute_result"
    }
   ],
   "source": [
    "fine_tune(train_filename, valid_filename, \"ada\")"
   ]
  },
  {
   "cell_type": "code",
   "execution_count": 115,
   "metadata": {},
   "outputs": [],
   "source": [
    "completions_0 = query_gpt3('ada:ft-lsmoepfl-2022-11-18-17-03-36', df_test, max_tokens=300, temperature=0)\n",
    "completions_05 = query_gpt3('ada:ft-lsmoepfl-2022-11-18-17-03-36', df_test, max_tokens=300, temperature=0.5)\n",
    "completions_1 = query_gpt3('ada:ft-lsmoepfl-2022-11-18-17-03-36', df_test, max_tokens=300, temperature=1.0)\n",
    "completions_15 = query_gpt3('ada:ft-lsmoepfl-2022-11-18-17-03-36', df_test, max_tokens=300, temperature=1.5)"
   ]
  },
  {
   "cell_type": "code",
   "execution_count": 27,
   "metadata": {},
   "outputs": [],
   "source": [
    "preds_0 = [extract_inverse_prediction(completions, i) for i, completion in enumerate(completions['choices'])]   "
   ]
  },
  {
   "cell_type": "code",
   "execution_count": 36,
   "metadata": {},
   "outputs": [],
   "source": [
    "predictions = [polymer_string2performance(pred)['prediction'][0] for pred in preds]"
   ]
  },
  {
   "cell_type": "code",
   "execution_count": 48,
   "metadata": {},
   "outputs": [
    {
     "data": {
      "image/png": "[encoded data removed]",
      "text/plain": [
       "<Figure size 432x288 with 1 Axes>"
      ]
     },
     "metadata": {
      "needs_background": "light"
     },
     "output_type": "display_data"
    }
   ],
   "source": [
    "plt.hist(df_train['target'], alpha=0.5, label='train', density=True)\n",
    "plt.hist(df_test['target'], alpha=0.5, density=True, label='queried')\n",
    "plt.hist(predictions, alpha=0.5, density=True, label='generated')\n",
    "plt.legend()\n",
    "plt.xlabel('adsorption energy')\n",
    "plt.ylabel('density')\n",
    "plt.savefig('ads_energy_dist.pdf', bbox_inches='tight')"
   ]
  },
  {
   "cell_type": "markdown",
   "metadata": {},
   "source": [
    "# Now do query specifycally very low ones "
   ]
  },
  {
   "cell_type": "code",
   "execution_count": 89,
   "metadata": {},
   "outputs": [
    {
     "name": "stderr",
     "output_type": "stream",
     "text": [
      "/var/folders/m9/_txh68y946s4pxy1x2wnd3lh0000gn/T/ipykernel_86446/1298472080.py:1: SettingWithCopyWarning: \n",
      "A value is trying to be set on a copy of a slice from a DataFrame.\n",
      "Try using .loc[row_indexer,col_indexer] = value instead\n",
      "\n",
      "See the caveats in the documentation: https://pandas.pydata.org/pandas-docs/stable/user_guide/indexing.html#returning-a-view-versus-a-copy\n",
      "  df_test['prompt'] = 'what is a polymer with smaller than -20 adsorption energy?###'\n"
     ]
    }
   ],
   "source": [
    "df_test['prompt'] = 'what is a polymer with smaller than -20 adsorption energy?###'"
   ]
  },
  {
   "cell_type": "code",
   "execution_count": 99,
   "metadata": {},
   "outputs": [],
   "source": [
    "completions_very_low = query_gpt3('ada:ft-lsmoepfl-2022-11-18-17-03-36', df_test.iloc[:50], max_tokens=300)"
   ]
  },
  {
   "cell_type": "code",
   "execution_count": 100,
   "metadata": {},
   "outputs": [
    {
     "data": {
      "text/html": [
       "<div>\n",
       "<style scoped>\n",
       "    .dataframe tbody tr th:only-of-type {\n",
       "        vertical-align: middle;\n",
       "    }\n",
       "\n",
       "    .dataframe tbody tr th {\n",
       "        vertical-align: top;\n",
       "    }\n",
       "\n",
       "    .dataframe thead th {\n",
       "        text-align: right;\n",
       "    }\n",
       "</style>\n",
       "<table border=\"1\" class=\"dataframe\">\n",
       "  <thead>\n",
       "    <tr style=\"text-align: right;\">\n",
       "      <th></th>\n",
       "      <th>prompt</th>\n",
       "      <th>completion</th>\n",
       "      <th>target</th>\n",
       "    </tr>\n",
       "  </thead>\n",
       "  <tbody>\n",
       "    <tr>\n",
       "      <th>1</th>\n",
       "      <td>what is a polymer with smaller than -20 adsorp...</td>\n",
       "      <td>R-W-W-R-R-B-B-B-A-A-A-W-W-A-R-B@@@</td>\n",
       "      <td>-7.27</td>\n",
       "    </tr>\n",
       "    <tr>\n",
       "      <th>2</th>\n",
       "      <td>what is a polymer with smaller than -20 adsorp...</td>\n",
       "      <td>A-R-A-W-B-W-A-R-B-W-A-B-B-R-W-R@@@</td>\n",
       "      <td>-6.42</td>\n",
       "    </tr>\n",
       "    <tr>\n",
       "      <th>3</th>\n",
       "      <td>what is a polymer with smaller than -20 adsorp...</td>\n",
       "      <td>W-A-R-A-B-B-B-W-A-W-B-R-A-W-R-R@@@</td>\n",
       "      <td>-6.68</td>\n",
       "    </tr>\n",
       "    <tr>\n",
       "      <th>4</th>\n",
       "      <td>what is a polymer with smaller than -20 adsorp...</td>\n",
       "      <td>R-R-B-B-W-R-A-W-R-W-A-B-A-A-W-B@@@</td>\n",
       "      <td>-6.61</td>\n",
       "    </tr>\n",
       "    <tr>\n",
       "      <th>5</th>\n",
       "      <td>what is a polymer with smaller than -20 adsorp...</td>\n",
       "      <td>W-B-B-A-W-A-W-W-A-R-W-R-B-R-W-B-A-R@@@</td>\n",
       "      <td>-6.21</td>\n",
       "    </tr>\n",
       "    <tr>\n",
       "      <th>6</th>\n",
       "      <td>what is a polymer with smaller than -20 adsorp...</td>\n",
       "      <td>W-W-B-W-R-B-R-A-W-B-A-A-W-R-W-B-A-R@@@</td>\n",
       "      <td>-6.62</td>\n",
       "    </tr>\n",
       "    <tr>\n",
       "      <th>7</th>\n",
       "      <td>what is a polymer with smaller than -20 adsorp...</td>\n",
       "      <td>B-B-A-B-A-W-R-W-R-W-B-R-W-A-W-W-A-R@@@</td>\n",
       "      <td>-5.55</td>\n",
       "    </tr>\n",
       "    <tr>\n",
       "      <th>8</th>\n",
       "      <td>what is a polymer with smaller than -20 adsorp...</td>\n",
       "      <td>R-W-R-A-R-A-B-W-W-W-B-B-W-W-A-B-A-R@@@</td>\n",
       "      <td>-6.36</td>\n",
       "    </tr>\n",
       "    <tr>\n",
       "      <th>9</th>\n",
       "      <td>what is a polymer with smaller than -20 adsorp...</td>\n",
       "      <td>B-B-W-W-B-W-R-A-A-B-A-W-A-R-R-R-W-W@@@</td>\n",
       "      <td>-6.63</td>\n",
       "    </tr>\n",
       "    <tr>\n",
       "      <th>10</th>\n",
       "      <td>what is a polymer with smaller than -20 adsorp...</td>\n",
       "      <td>R-W-R-R-B-W-A-W-R-A-A-W-W-W-B-B-W-B-W-A@@@</td>\n",
       "      <td>-5.75</td>\n",
       "    </tr>\n",
       "    <tr>\n",
       "      <th>11</th>\n",
       "      <td>what is a polymer with smaller than -20 adsorp...</td>\n",
       "      <td>W-R-W-B-R-R-W-W-B-W-W-B-A-A-B-W-W-A-R-A@@@</td>\n",
       "      <td>-6.20</td>\n",
       "    </tr>\n",
       "    <tr>\n",
       "      <th>12</th>\n",
       "      <td>what is a polymer with smaller than -20 adsorp...</td>\n",
       "      <td>W-W-W-B-R-R-A-A-W-W-W-A-W-B-A-R-B-B-R-W@@@</td>\n",
       "      <td>-5.73</td>\n",
       "    </tr>\n",
       "    <tr>\n",
       "      <th>13</th>\n",
       "      <td>what is a polymer with smaller than -20 adsorp...</td>\n",
       "      <td>A-W-W-B-B-B-R-R-B-R-A-W-W-A-R-W-W-W-W-A@@@</td>\n",
       "      <td>-6.11</td>\n",
       "    </tr>\n",
       "    <tr>\n",
       "      <th>14</th>\n",
       "      <td>what is a polymer with smaller than -20 adsorp...</td>\n",
       "      <td>R-W-W-W-A-W-A-B-A-W-B-R-W-A-B-W-R-W-B-R@@@</td>\n",
       "      <td>-5.10</td>\n",
       "    </tr>\n",
       "    <tr>\n",
       "      <th>15</th>\n",
       "      <td>what is a polymer with smaller than -20 adsorp...</td>\n",
       "      <td>W-R-W-R-W-A-W-B-W-B-R-B-W-R-W-A-B-A-W-W-A-W@@@</td>\n",
       "      <td>-3.83</td>\n",
       "    </tr>\n",
       "    <tr>\n",
       "      <th>16</th>\n",
       "      <td>what is a polymer with smaller than -20 adsorp...</td>\n",
       "      <td>R-R-R-B-W-W-W-A-B-W-B-A-W-R-W-B-A-W-A-W-W-W@@@</td>\n",
       "      <td>-5.15</td>\n",
       "    </tr>\n",
       "    <tr>\n",
       "      <th>17</th>\n",
       "      <td>what is a polymer with smaller than -20 adsorp...</td>\n",
       "      <td>A-B-W-W-R-B-W-W-A-W-R-W-W-W-B-W-W-R-B-A-A-R@@@</td>\n",
       "      <td>-5.23</td>\n",
       "    </tr>\n",
       "    <tr>\n",
       "      <th>18</th>\n",
       "      <td>what is a polymer with smaller than -20 adsorp...</td>\n",
       "      <td>R-W-R-W-A-B-B-W-B-B-W-A-W-R-A-W-W-R-A-W-W-W@@@</td>\n",
       "      <td>-4.70</td>\n",
       "    </tr>\n",
       "    <tr>\n",
       "      <th>19</th>\n",
       "      <td>what is a polymer with smaller than -20 adsorp...</td>\n",
       "      <td>A-W-B-R-W-B-A-W-W-R-B-W-W-W-R-W-W-A-W-A-R-B@@@</td>\n",
       "      <td>-4.30</td>\n",
       "    </tr>\n",
       "    <tr>\n",
       "      <th>20</th>\n",
       "      <td>what is a polymer with smaller than -20 adsorp...</td>\n",
       "      <td>W-R-B-W-W-R-A-W-B-W-W-R-W-A-W-B-W-A-B-W-W-R-W...</td>\n",
       "      <td>-3.04</td>\n",
       "    </tr>\n",
       "    <tr>\n",
       "      <th>21</th>\n",
       "      <td>what is a polymer with smaller than -20 adsorp...</td>\n",
       "      <td>W-A-R-W-W-B-W-A-W-A-B-W-W-R-W-A-B-R-W-W-R-W-W...</td>\n",
       "      <td>-3.79</td>\n",
       "    </tr>\n",
       "    <tr>\n",
       "      <th>22</th>\n",
       "      <td>what is a polymer with smaller than -20 adsorp...</td>\n",
       "      <td>A-W-W-A-W-R-B-W-W-R-A-B-A-B-W-W-R-W-W-B-W-W-R...</td>\n",
       "      <td>-3.75</td>\n",
       "    </tr>\n",
       "    <tr>\n",
       "      <th>23</th>\n",
       "      <td>what is a polymer with smaller than -20 adsorp...</td>\n",
       "      <td>R-R-W-B-W-W-W-B-A-W-A-W-B-R-W-W-A-W-B-W-R-A-W...</td>\n",
       "      <td>-3.62</td>\n",
       "    </tr>\n",
       "    <tr>\n",
       "      <th>24</th>\n",
       "      <td>what is a polymer with smaller than -20 adsorp...</td>\n",
       "      <td>W-W-R-A-B-B-A-R-W-A-W-R-W-W-W-W-W-W-B-W-W-A-B...</td>\n",
       "      <td>-4.74</td>\n",
       "    </tr>\n",
       "    <tr>\n",
       "      <th>25</th>\n",
       "      <td>what is a polymer with smaller than -20 adsorp...</td>\n",
       "      <td>R-A-W-B-R-R-W-A-A-B-A-R-W-B-B-W-A-A@@@</td>\n",
       "      <td>-7.47</td>\n",
       "    </tr>\n",
       "    <tr>\n",
       "      <th>29</th>\n",
       "      <td>what is a polymer with smaller than -20 adsorp...</td>\n",
       "      <td>A-A-R-B-B-R-W-A-B-R-B-A-W-A-R-W-A-W@@@</td>\n",
       "      <td>-7.09</td>\n",
       "    </tr>\n",
       "    <tr>\n",
       "      <th>31</th>\n",
       "      <td>what is a polymer with smaller than -20 adsorp...</td>\n",
       "      <td>W-B-B-B-A-A-B-A-A-W-W-R-R-R-R-W-A-A-W-W@@@</td>\n",
       "      <td>-7.48</td>\n",
       "    </tr>\n",
       "    <tr>\n",
       "      <th>32</th>\n",
       "      <td>what is a polymer with smaller than -20 adsorp...</td>\n",
       "      <td>A-B-W-B-A-R-W-W-A-W-R-W-B-A-A-W-A-B-R-R@@@</td>\n",
       "      <td>-7.17</td>\n",
       "    </tr>\n",
       "    <tr>\n",
       "      <th>33</th>\n",
       "      <td>what is a polymer with smaller than -20 adsorp...</td>\n",
       "      <td>R-B-A-W-B-R-W-W-A-W-W-A-R-W-A-A-B-A-R-B@@@</td>\n",
       "      <td>-7.41</td>\n",
       "    </tr>\n",
       "    <tr>\n",
       "      <th>35</th>\n",
       "      <td>what is a polymer with smaller than -20 adsorp...</td>\n",
       "      <td>A-B-R-B-A-W-R-W-R-W-B-B-R-A-W-W-W-A-A-A-W-W@@@</td>\n",
       "      <td>-6.06</td>\n",
       "    </tr>\n",
       "    <tr>\n",
       "      <th>36</th>\n",
       "      <td>what is a polymer with smaller than -20 adsorp...</td>\n",
       "      <td>R-W-R-A-W-B-R-B-B-W-A-W-W-W-A-A-A-W-R-W-B-A@@@</td>\n",
       "      <td>-6.00</td>\n",
       "    </tr>\n",
       "    <tr>\n",
       "      <th>37</th>\n",
       "      <td>what is a polymer with smaller than -20 adsorp...</td>\n",
       "      <td>A-W-W-B-A-A-W-A-W-A-R-B-R-W-W-B-A-B-W-R-R-W@@@</td>\n",
       "      <td>-6.67</td>\n",
       "    </tr>\n",
       "    <tr>\n",
       "      <th>38</th>\n",
       "      <td>what is a polymer with smaller than -20 adsorp...</td>\n",
       "      <td>R-A-B-R-B-W-W-W-W-B-A-A-A-R-W-A-W-A-W-B-R-W@@@</td>\n",
       "      <td>-7.14</td>\n",
       "    </tr>\n",
       "    <tr>\n",
       "      <th>39</th>\n",
       "      <td>what is a polymer with smaller than -20 adsorp...</td>\n",
       "      <td>W-A-A-A-W-R-R-R-B-B-A-W-W-B-B-W-W-W-R-A-A-W@@@</td>\n",
       "      <td>-6.70</td>\n",
       "    </tr>\n",
       "    <tr>\n",
       "      <th>40</th>\n",
       "      <td>what is a polymer with smaller than -20 adsorp...</td>\n",
       "      <td>W-W-R-A-B-A-A-B-W-W-A-B-W-W-B-R-W-R-R-A-W-W-A...</td>\n",
       "      <td>-6.50</td>\n",
       "    </tr>\n",
       "    <tr>\n",
       "      <th>41</th>\n",
       "      <td>what is a polymer with smaller than -20 adsorp...</td>\n",
       "      <td>W-W-W-A-W-W-A-A-A-A-R-A-W-R-W-R-W-B-B-W-R-B-B...</td>\n",
       "      <td>-6.73</td>\n",
       "    </tr>\n",
       "    <tr>\n",
       "      <th>42</th>\n",
       "      <td>what is a polymer with smaller than -20 adsorp...</td>\n",
       "      <td>W-B-B-A-A-R-W-A-W-B-W-W-W-W-W-R-A-W-W-R-R-A-A...</td>\n",
       "      <td>-6.84</td>\n",
       "    </tr>\n",
       "    <tr>\n",
       "      <th>43</th>\n",
       "      <td>what is a polymer with smaller than -20 adsorp...</td>\n",
       "      <td>R-W-R-A-W-A-A-W-B-W-W-W-W-A-W-W-B-A-W-R-R-A-B...</td>\n",
       "      <td>-6.23</td>\n",
       "    </tr>\n",
       "    <tr>\n",
       "      <th>44</th>\n",
       "      <td>what is a polymer with smaller than -20 adsorp...</td>\n",
       "      <td>A-A-A-B-A-B-W-W-A-R-W-R-W-R-W-B-W-B-W-W-W-A-W...</td>\n",
       "      <td>-6.40</td>\n",
       "    </tr>\n",
       "    <tr>\n",
       "      <th>45</th>\n",
       "      <td>what is a polymer with smaller than -20 adsorp...</td>\n",
       "      <td>B-B-W-W-A-W-R-A-W-A-W-W-R-B-A-W-W-W-A-A-R-B-W...</td>\n",
       "      <td>-5.14</td>\n",
       "    </tr>\n",
       "    <tr>\n",
       "      <th>46</th>\n",
       "      <td>what is a polymer with smaller than -20 adsorp...</td>\n",
       "      <td>R-W-R-B-W-W-A-B-A-W-W-W-W-W-B-W-A-R-A-W-A-A-B...</td>\n",
       "      <td>-5.95</td>\n",
       "    </tr>\n",
       "    <tr>\n",
       "      <th>47</th>\n",
       "      <td>what is a polymer with smaller than -20 adsorp...</td>\n",
       "      <td>B-A-R-B-W-W-W-R-W-W-W-W-A-W-B-R-R-A-W-W-A-A-A...</td>\n",
       "      <td>-6.23</td>\n",
       "    </tr>\n",
       "    <tr>\n",
       "      <th>48</th>\n",
       "      <td>what is a polymer with smaller than -20 adsorp...</td>\n",
       "      <td>B-W-A-W-A-B-A-W-A-W-W-W-R-W-R-W-W-W-R-A-A-B-R...</td>\n",
       "      <td>-5.28</td>\n",
       "    </tr>\n",
       "    <tr>\n",
       "      <th>49</th>\n",
       "      <td>what is a polymer with smaller than -20 adsorp...</td>\n",
       "      <td>B-W-W-B-W-A-R-R-B-W-W-A-W-W-W-W-A-A-W-W-W-A-R...</td>\n",
       "      <td>-6.69</td>\n",
       "    </tr>\n",
       "    <tr>\n",
       "      <th>61</th>\n",
       "      <td>what is a polymer with smaller than -20 adsorp...</td>\n",
       "      <td>W-A-R-B-A-A-W-W-B-R-W-A-A-B-W-W-A-B-A-A-W-R-R...</td>\n",
       "      <td>-6.97</td>\n",
       "    </tr>\n",
       "    <tr>\n",
       "      <th>67</th>\n",
       "      <td>what is a polymer with smaller than -20 adsorp...</td>\n",
       "      <td>A-R-R-A-W-A-B-W-A-B-B-W-A-R-W-A-W-W-W-W-R-A-W...</td>\n",
       "      <td>-7.39</td>\n",
       "    </tr>\n",
       "    <tr>\n",
       "      <th>68</th>\n",
       "      <td>what is a polymer with smaller than -20 adsorp...</td>\n",
       "      <td>B-A-B-A-R-R-W-A-W-W-B-W-W-B-W-A-A-W-W-A-W-R-W...</td>\n",
       "      <td>-7.16</td>\n",
       "    </tr>\n",
       "    <tr>\n",
       "      <th>72</th>\n",
       "      <td>what is a polymer with smaller than -20 adsorp...</td>\n",
       "      <td>A-A-W-B-A-R-R-W-W-B-B-W-W-W-W-W-R-A-W-A-W-A-B...</td>\n",
       "      <td>-7.05</td>\n",
       "    </tr>\n",
       "    <tr>\n",
       "      <th>73</th>\n",
       "      <td>what is a polymer with smaller than -20 adsorp...</td>\n",
       "      <td>B-W-A-W-R-A-W-B-W-R-A-R-W-A-W-W-A-W-A-A-B-W-W...</td>\n",
       "      <td>-6.21</td>\n",
       "    </tr>\n",
       "    <tr>\n",
       "      <th>74</th>\n",
       "      <td>what is a polymer with smaller than -20 adsorp...</td>\n",
       "      <td>W-B-W-A-A-W-W-A-A-W-B-B-A-W-W-A-R-R-W-W-R-W-W...</td>\n",
       "      <td>-6.73</td>\n",
       "    </tr>\n",
       "  </tbody>\n",
       "</table>\n",
       "</div>"
      ],
      "text/plain": [
       "                                               prompt  ... target\n",
       "1   what is a polymer with smaller than -20 adsorp...  ...  -7.27\n",
       "2   what is a polymer with smaller than -20 adsorp...  ...  -6.42\n",
       "3   what is a polymer with smaller than -20 adsorp...  ...  -6.68\n",
       "4   what is a polymer with smaller than -20 adsorp...  ...  -6.61\n",
       "5   what is a polymer with smaller than -20 adsorp...  ...  -6.21\n",
       "6   what is a polymer with smaller than -20 adsorp...  ...  -6.62\n",
       "7   what is a polymer with smaller than -20 adsorp...  ...  -5.55\n",
       "8   what is a polymer with smaller than -20 adsorp...  ...  -6.36\n",
       "9   what is a polymer with smaller than -20 adsorp...  ...  -6.63\n",
       "10  what is a polymer with smaller than -20 adsorp...  ...  -5.75\n",
       "11  what is a polymer with smaller than -20 adsorp...  ...  -6.20\n",
       "12  what is a polymer with smaller than -20 adsorp...  ...  -5.73\n",
       "13  what is a polymer with smaller than -20 adsorp...  ...  -6.11\n",
       "14  what is a polymer with smaller than -20 adsorp...  ...  -5.10\n",
       "15  what is a polymer with smaller than -20 adsorp...  ...  -3.83\n",
       "16  what is a polymer with smaller than -20 adsorp...  ...  -5.15\n",
       "17  what is a polymer with smaller than -20 adsorp...  ...  -5.23\n",
       "18  what is a polymer with smaller than -20 adsorp...  ...  -4.70\n",
       "19  what is a polymer with smaller than -20 adsorp...  ...  -4.30\n",
       "20  what is a polymer with smaller than -20 adsorp...  ...  -3.04\n",
       "21  what is a polymer with smaller than -20 adsorp...  ...  -3.79\n",
       "22  what is a polymer with smaller than -20 adsorp...  ...  -3.75\n",
       "23  what is a polymer with smaller than -20 adsorp...  ...  -3.62\n",
       "24  what is a polymer with smaller than -20 adsorp...  ...  -4.74\n",
       "25  what is a polymer with smaller than -20 adsorp...  ...  -7.47\n",
       "29  what is a polymer with smaller than -20 adsorp...  ...  -7.09\n",
       "31  what is a polymer with smaller than -20 adsorp...  ...  -7.48\n",
       "32  what is a polymer with smaller than -20 adsorp...  ...  -7.17\n",
       "33  what is a polymer with smaller than -20 adsorp...  ...  -7.41\n",
       "35  what is a polymer with smaller than -20 adsorp...  ...  -6.06\n",
       "36  what is a polymer with smaller than -20 adsorp...  ...  -6.00\n",
       "37  what is a polymer with smaller than -20 adsorp...  ...  -6.67\n",
       "38  what is a polymer with smaller than -20 adsorp...  ...  -7.14\n",
       "39  what is a polymer with smaller than -20 adsorp...  ...  -6.70\n",
       "40  what is a polymer with smaller than -20 adsorp...  ...  -6.50\n",
       "41  what is a polymer with smaller than -20 adsorp...  ...  -6.73\n",
       "42  what is a polymer with smaller than -20 adsorp...  ...  -6.84\n",
       "43  what is a polymer with smaller than -20 adsorp...  ...  -6.23\n",
       "44  what is a polymer with smaller than -20 adsorp...  ...  -6.40\n",
       "45  what is a polymer with smaller than -20 adsorp...  ...  -5.14\n",
       "46  what is a polymer with smaller than -20 adsorp...  ...  -5.95\n",
       "47  what is a polymer with smaller than -20 adsorp...  ...  -6.23\n",
       "48  what is a polymer with smaller than -20 adsorp...  ...  -5.28\n",
       "49  what is a polymer with smaller than -20 adsorp...  ...  -6.69\n",
       "61  what is a polymer with smaller than -20 adsorp...  ...  -6.97\n",
       "67  what is a polymer with smaller than -20 adsorp...  ...  -7.39\n",
       "68  what is a polymer with smaller than -20 adsorp...  ...  -7.16\n",
       "72  what is a polymer with smaller than -20 adsorp...  ...  -7.05\n",
       "73  what is a polymer with smaller than -20 adsorp...  ...  -6.21\n",
       "74  what is a polymer with smaller than -20 adsorp...  ...  -6.73\n",
       "\n",
       "[50 rows x 3 columns]"
      ]
     },
     "execution_count": 100,
     "metadata": {},
     "output_type": "execute_result"
    }
   ],
   "source": [
    "df_test.iloc[:50]"
   ]
  },
  {
   "cell_type": "code",
   "execution_count": 109,
   "metadata": {},
   "outputs": [],
   "source": [
    "preds_very_low = [extract_inverse_prediction(completions_very_low, i) for i in range(len(completions_very_low['choices'])) ]   "
   ]
  },
  {
   "cell_type": "code",
   "execution_count": 105,
   "metadata": {},
   "outputs": [],
   "source": [
    "predictions_very_low = []\n",
    "\n",
    "for pred in preds_very_low:\n",
    "    try:\n",
    "        predictions_very_low.append(polymer_string2performance(pred)['prediction'][0])\n",
    "    except Exception:\n",
    "        pass"
   ]
  },
  {
   "cell_type": "code",
   "execution_count": 106,
   "metadata": {},
   "outputs": [
    {
     "data": {
      "text/plain": [
       "(array([ 0.,  0.,  0.,  0.,  0., 50.,  0.,  0.,  0.,  0.]),\n",
       " array([-8.721825 , -8.621824 , -8.521825 , -8.421824 , -8.321825 ,\n",
       "        -8.221825 , -8.121824 , -8.021825 , -7.9218245, -7.8218246,\n",
       "        -7.7218246], dtype=float32),\n",
       " <BarContainer object of 10 artists>)"
      ]
     },
     "execution_count": 106,
     "metadata": {},
     "output_type": "execute_result"
    },
    {
     "data": {
      "image/png": "[encoded data removed]",
      "text/plain": [
       "<Figure size 432x288 with 1 Axes>"
      ]
     },
     "metadata": {
      "needs_background": "light"
     },
     "output_type": "display_data"
    }
   ],
   "source": [
    "plt.hist(predictions_very_low)"
   ]
  },
  {
   "cell_type": "code",
   "execution_count": null,
   "metadata": {},
   "outputs": [],
   "source": []
  }
 ],
 "metadata": {
  "kernelspec": {
   "display_name": "Python 3.9.13 ('gpt3')",
   "language": "python",
   "name": "python3"
  },
  "language_info": {
   "codemirror_mode": {
    "name": "ipython",
    "version": 3
   },
   "file_extension": ".py",
   "mimetype": "text/x-python",
   "name": "python",
   "nbconvert_exporter": "python",
   "pygments_lexer": "ipython3",
   "version": "3.9.13"
  },
  "orig_nbformat": 4,
  "vscode": {
   "interpreter": {
    "hash": "9a4fa60962de90e73b5da8d67a44b01d2de04630d82b94b8db1f727a73d31e61"
   }
  }
 },
 "nbformat": 4,
 "nbformat_minor": 2
}
