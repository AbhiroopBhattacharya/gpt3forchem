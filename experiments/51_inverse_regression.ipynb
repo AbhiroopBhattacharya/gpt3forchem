{
 "cells": [
  {
   "cell_type": "code",
   "execution_count": 3,
   "metadata": {},
   "outputs": [],
   "source": [
    "from gpt3forchem.data import get_polymer_data\n",
    "from gpt3forchem.input import create_single_property_inverse_polymer_prompts\n",
    "from gpt3forchem.api_wrappers import fine_tune, query_gpt3, extract_regression_prediction, extract_inverse_prediction\n",
    "\n",
    "from gpt3forchem.output import polymer_string2performance\n",
    "\n",
    "import matplotlib.pyplot as plt\n",
    "\n",
    "import time\n",
    "\n",
    "import pandas as pd "
   ]
  },
  {
   "cell_type": "code",
   "execution_count": 4,
   "metadata": {},
   "outputs": [],
   "source": [
    "df = get_polymer_data()"
   ]
  },
  {
   "cell_type": "code",
   "execution_count": 5,
   "metadata": {},
   "outputs": [],
   "source": [
    "df['deltaGmin_rounded'] = df['deltaGmin'].round(2)"
   ]
  },
  {
   "cell_type": "code",
   "execution_count": 6,
   "metadata": {},
   "outputs": [],
   "source": [
    "prompts = create_single_property_inverse_polymer_prompts(df, 'deltaGmin_rounded', {'deltaGmin_rounded': 'adsorption energy'}, encode_value=False)"
   ]
  },
  {
   "cell_type": "code",
   "execution_count": 7,
   "metadata": {},
   "outputs": [],
   "source": [
    "prompts['target'] = df['deltaGmin_rounded']"
   ]
  },
  {
   "cell_type": "code",
   "execution_count": 8,
   "metadata": {},
   "outputs": [
    {
     "data": {
      "text/plain": [
       "(array([ 26., 148., 299., 490., 592., 575., 499., 326., 141.,  29.]),\n",
       " array([-20.67 , -18.907, -17.144, -15.381, -13.618, -11.855, -10.092,\n",
       "         -8.329,  -6.566,  -4.803,  -3.04 ]),\n",
       " <BarContainer object of 10 artists>)"
      ]
     },
     "execution_count": 8,
     "metadata": {},
     "output_type": "execute_result"
    },
    {
     "data": {
      "image/png": "[encoded data removed]",
      "text/plain": [
       "<Figure size 432x288 with 1 Axes>"
      ]
     },
     "metadata": {
      "needs_background": "light"
     },
     "output_type": "display_data"
    }
   ],
   "source": [
    "plt.hist(df['deltaGmin_rounded'])"
   ]
  },
  {
   "cell_type": "code",
   "execution_count": 9,
   "metadata": {},
   "outputs": [],
   "source": [
    "df_train = prompts[prompts['target'] < -7.5]\n",
    "df_test = prompts[prompts['target'] >= -7.5]"
   ]
  },
  {
   "cell_type": "code",
   "execution_count": 10,
   "metadata": {},
   "outputs": [],
   "source": [
    "filename_base = time.strftime(\"%Y-%m-%d-%H-%M-%S\", time.localtime())\n",
    "train_filename = f\"run_files/{filename_base}_train_prompts_mof_h2o.jsonl\"\n",
    "valid_filename = f\"run_files/{filename_base}_valid_prompts_mof_h2o.jsonl\"\n",
    "\n",
    "df_train.to_json(train_filename, orient=\"records\", lines=True)\n",
    "df_test.to_json(valid_filename, orient=\"records\", lines=True)\n"
   ]
  },
  {
   "cell_type": "code",
   "execution_count": 11,
   "metadata": {},
   "outputs": [
    {
     "name": "stderr",
     "output_type": "stream",
     "text": [
      "Traceback (most recent call last):\n",
      "  File \"/Users/kevinmaikjablonka/miniconda3/envs/gpt3/bin/openai\", line 8, in <module>\n",
      "    sys.exit(main())\n",
      "  File \"/Users/kevinmaikjablonka/miniconda3/envs/gpt3/lib/python3.9/site-packages/openai/_openai_scripts.py\", line 63, in main\n",
      "    args.func(args)\n",
      "  File \"/Users/kevinmaikjablonka/miniconda3/envs/gpt3/lib/python3.9/site-packages/openai/cli.py\", line 545, in sync\n",
      "    resp = openai.wandb_logger.WandbLogger.sync(\n",
      "  File \"/Users/kevinmaikjablonka/miniconda3/envs/gpt3/lib/python3.9/site-packages/openai/wandb_logger.py\", line 74, in sync\n",
      "    fine_tune_logged = [\n",
      "  File \"/Users/kevinmaikjablonka/miniconda3/envs/gpt3/lib/python3.9/site-packages/openai/wandb_logger.py\", line 75, in <listcomp>\n",
      "    cls._log_fine_tune(\n",
      "  File \"/Users/kevinmaikjablonka/miniconda3/envs/gpt3/lib/python3.9/site-packages/openai/wandb_logger.py\", line 125, in _log_fine_tune\n",
      "    wandb_run = cls._get_wandb_run(run_path)\n",
      "  File \"/Users/kevinmaikjablonka/miniconda3/envs/gpt3/lib/python3.9/site-packages/openai/wandb_logger.py\", line 190, in _get_wandb_run\n",
      "    cls._ensure_logged_in()\n",
      "  File \"/Users/kevinmaikjablonka/miniconda3/envs/gpt3/lib/python3.9/site-packages/openai/wandb_logger.py\", line 186, in _ensure_logged_in\n",
      "    raise Exception(\"You need to log in to wandb\")\n",
      "Exception: You need to log in to wandb\n"
     ]
    },
    {
     "data": {
      "text/plain": [
       "'ada:ft-lsmoepfl-2022-11-21-22-47-49'"
      ]
     },
     "execution_count": 11,
     "metadata": {},
     "output_type": "execute_result"
    }
   ],
   "source": [
    "fine_tune(train_filename, valid_filename, \"ada\")"
   ]
  },
  {
   "cell_type": "code",
   "execution_count": 12,
   "metadata": {},
   "outputs": [],
   "source": [
    "completions_0 = query_gpt3('ada:ft-lsmoepfl-2022-11-21-22-47-49', df_test, max_tokens=300, temperature=0)\n",
    "completions_05 = query_gpt3('ada:ft-lsmoepfl-2022-11-21-22-47-49', df_test, max_tokens=300, temperature=0.5)\n",
    "completions_1 = query_gpt3('ada:ft-lsmoepfl-2022-11-21-22-47-49', df_test, max_tokens=300, temperature=1.0)\n",
    "completions_15 = query_gpt3('ada:ft-lsmoepfl-2022-11-21-22-47-49', df_test, max_tokens=300, temperature=1.5)"
   ]
  },
  {
   "cell_type": "code",
   "execution_count": 16,
   "metadata": {},
   "outputs": [],
   "source": [
    "preds_0 = [extract_inverse_prediction(completions_0, i) for i, completion in enumerate(completions_0['choices'])]  \n",
    "preds_05 = [extract_inverse_prediction(completions_05, i) for i, completion in enumerate(completions_05['choices'])]   \n",
    "preds_1 = [extract_inverse_prediction(completions_1, i) for i, completion in enumerate(completions_1['choices'])]   \n",
    "preds_15 = [extract_inverse_prediction(completions_15, i) for i, completion in enumerate(completions_15['choices'])]   "
   ]
  },
  {
   "cell_type": "code",
   "execution_count": 18,
   "metadata": {},
   "outputs": [],
   "source": [
    "predictions_0 = [polymer_string2performance(pred)['prediction'][0] for pred in preds_0]\n",
    "predictions_05 = [polymer_string2performance(pred)['prediction'][0] for pred in preds_05]\n",
    "predictions_1 = []\n",
    "for pred in preds_1:\n",
    "    try:\n",
    "        predictions_1.append(polymer_string2performance(pred)['prediction'][0])\n",
    "    except:\n",
    "        pass\n",
    "\n",
    "predictions_15 = []\n",
    "for pred in preds_15:\n",
    "    try: \n",
    "        predictions_15.appemd(polymer_string2performance(pred)['prediction'][0])\n",
    "    except Exception: \n",
    "        pass "
   ]
  },
  {
   "cell_type": "code",
   "execution_count": 26,
   "metadata": {},
   "outputs": [
    {
     "data": {
      "image/png": "[encoded data removed]",
      "text/plain": [
       "<Figure size 432x288 with 1 Axes>"
      ]
     },
     "metadata": {
      "needs_background": "light"
     },
     "output_type": "display_data"
    }
   ],
   "source": [
    "plt.hist(df_train['target'], alpha=0.5, label='train', density=True)\n",
    "plt.hist(df_test['target'], alpha=0.5, density=True, label='queried')\n",
    "plt.hist(predictions_0, alpha=0.5, density=True, label='generated ($T=0$)')\n",
    "plt.hist(predictions_05, alpha=0.5, density=True, label='generated ($T=0.5$)')\n",
    "plt.hist(predictions_1, alpha=0.5, density=True, label='generated ($T=1.0$)')\n",
    "#plt.hist(predictions_15, alpha=0.5, density=True, label='generated ($T=1.5$)')\n",
    "plt.legend()\n",
    "plt.xlabel('adsorption energy / $kT$')\n",
    "plt.ylabel('density')\n",
    "plt.savefig('ads_energy_dist.pdf', bbox_inches='tight')"
   ]
  },
  {
   "cell_type": "markdown",
   "metadata": {},
   "source": [
    "# Now do query specifycally very low ones "
   ]
  },
  {
   "cell_type": "code",
   "execution_count": 27,
   "metadata": {},
   "outputs": [],
   "source": [
    "df_test_small = df_test.copy()"
   ]
  },
  {
   "cell_type": "code",
   "execution_count": 28,
   "metadata": {},
   "outputs": [
    {
     "data": {
      "text/plain": [
       "['what is a polymer with -7.27 ', ' 4 A, 4 B, 4 W, and 4 R?###']"
      ]
     },
     "execution_count": 28,
     "metadata": {},
     "output_type": "execute_result"
    }
   ],
   "source": [
    "df_test_small.prompt.iloc[0].split('adsorption energy and')"
   ]
  },
  {
   "cell_type": "code",
   "execution_count": 43,
   "metadata": {},
   "outputs": [],
   "source": [
    "prompts = []\n",
    "\n",
    "for i, row in df_test_small.iterrows():\n",
    "    composition = row.prompt.split('adsorption energy and')[1]\n",
    "    new_prompt = \"what is a polymer with adsorption energy larger than -2.0 and \" + composition\n",
    "    prompts.append(new_prompt)"
   ]
  },
  {
   "cell_type": "code",
   "execution_count": 44,
   "metadata": {},
   "outputs": [],
   "source": [
    "new_test_frame = pd.DataFrame({'prompt': list(set(prompts)), 'completion': ['']*len(set(prompts))})"
   ]
  },
  {
   "cell_type": "code",
   "execution_count": 45,
   "metadata": {},
   "outputs": [],
   "source": [
    "completions_very_low = query_gpt3('ada:ft-lsmoepfl-2022-11-18-17-03-36', new_test_frame, max_tokens=300)"
   ]
  },
  {
   "cell_type": "code",
   "execution_count": 46,
   "metadata": {},
   "outputs": [],
   "source": [
    "preds_very_low = [extract_inverse_prediction(completions_very_low, i) for i in range(len(completions_very_low['choices'])) ]   "
   ]
  },
  {
   "cell_type": "code",
   "execution_count": 48,
   "metadata": {},
   "outputs": [],
   "source": [
    "predictions_very_low = []\n",
    "\n",
    "for pred in preds_very_low:\n",
    "    try:\n",
    "        predictions_very_low.append(polymer_string2performance(pred)['prediction'][0])\n",
    "    except Exception:\n",
    "        pass"
   ]
  },
  {
   "cell_type": "code",
   "execution_count": 49,
   "metadata": {},
   "outputs": [
    {
     "data": {
      "text/plain": [
       "(array([ 1.,  3.,  6.,  7., 14., 21., 29.,  6.,  5.,  4.]),\n",
       " array([-8.699791 , -8.458611 , -8.217431 , -7.9762506, -7.73507  ,\n",
       "        -7.4938903, -7.2527103, -7.01153  , -6.77035  , -6.5291696,\n",
       "        -6.2879896], dtype=float32),\n",
       " <BarContainer object of 10 artists>)"
      ]
     },
     "execution_count": 49,
     "metadata": {},
     "output_type": "execute_result"
    },
    {
     "data": {
      "image/png": "[encoded data removed]",
      "text/plain": [
       "<Figure size 432x288 with 1 Axes>"
      ]
     },
     "metadata": {
      "needs_background": "light"
     },
     "output_type": "display_data"
    }
   ],
   "source": [
    "plt.hist(predictions_very_low)"
   ]
  },
  {
   "cell_type": "code",
   "execution_count": null,
   "metadata": {},
   "outputs": [],
   "source": []
  }
 ],
 "metadata": {
  "kernelspec": {
   "display_name": "Python 3.9.13 ('gpt3')",
   "language": "python",
   "name": "python3"
  },
  "language_info": {
   "codemirror_mode": {
    "name": "ipython",
    "version": 3
   },
   "file_extension": ".py",
   "mimetype": "text/x-python",
   "name": "python",
   "nbconvert_exporter": "python",
   "pygments_lexer": "ipython3",
   "version": "3.9.13"
  },
  "orig_nbformat": 4,
  "vscode": {
   "interpreter": {
    "hash": "9a4fa60962de90e73b5da8d67a44b01d2de04630d82b94b8db1f727a73d31e61"
   }
  }
 },
 "nbformat": 4,
 "nbformat_minor": 2
}
