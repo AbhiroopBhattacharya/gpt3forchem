{
 "cells": [
  {
   "cell_type": "code",
   "execution_count": 4,
   "metadata": {},
   "outputs": [],
   "source": [
    "%load_ext autoreload\n",
    "%autoreload 2"
   ]
  },
  {
   "cell_type": "code",
   "execution_count": 329,
   "metadata": {},
   "outputs": [],
   "source": [
    "from gpt3forchem.data import get_photoswitch_data\n",
    "from gpt3forchem.input import generate_inverse_photoswitch_prompts\n",
    "from gpt3forchem.api_wrappers import fine_tune, query_gpt3, extract_prediction, extract_inverse_prediction\n",
    "import time\n",
    "from sklearn.model_selection import train_test_split\n",
    "from gpt3forchem.output import FrechetBenchmark, KLDivBenchmark, test_inverse_photoswitch\n",
    "import seaborn as sns\n",
    "\n",
    "import matplotlib.pyplot as plt"
   ]
  },
  {
   "cell_type": "code",
   "execution_count": 181,
   "metadata": {},
   "outputs": [],
   "source": [
    "data = get_photoswitch_data()\n",
    "data = data.dropna(subset=['E isomer pi-pi* wavelength in nm', 'E isomer n-pi* wavelength in nm'])"
   ]
  },
  {
   "cell_type": "code",
   "execution_count": 182,
   "metadata": {},
   "outputs": [
    {
     "data": {
      "text/html": [
       "<div>\n",
       "<style scoped>\n",
       "    .dataframe tbody tr th:only-of-type {\n",
       "        vertical-align: middle;\n",
       "    }\n",
       "\n",
       "    .dataframe tbody tr th {\n",
       "        vertical-align: top;\n",
       "    }\n",
       "\n",
       "    .dataframe thead th {\n",
       "        text-align: right;\n",
       "    }\n",
       "</style>\n",
       "<table border=\"1\" class=\"dataframe\">\n",
       "  <thead>\n",
       "    <tr style=\"text-align: right;\">\n",
       "      <th></th>\n",
       "      <th>index</th>\n",
       "      <th>SMILES</th>\n",
       "      <th>rate of thermal isomerisation from Z-E in s-1</th>\n",
       "      <th>Solvent used for thermal isomerisation rates</th>\n",
       "      <th>Z PhotoStationaryState</th>\n",
       "      <th>E PhotoStationaryState</th>\n",
       "      <th>E isomer pi-pi* wavelength in nm</th>\n",
       "      <th>Extinction</th>\n",
       "      <th>E isomer n-pi* wavelength in nm</th>\n",
       "      <th>Extinction coefficient in M-1 cm-1</th>\n",
       "      <th>Z isomer pi-pi* wavelength in nm</th>\n",
       "      <th>Extinction.1</th>\n",
       "      <th>Z isomer n-pi* wavelength in nm</th>\n",
       "      <th>Extinction coefficient in M-1 cm-1.1</th>\n",
       "      <th>Wiberg index</th>\n",
       "      <th>E-Z irradiation wavelength in nm</th>\n",
       "      <th>Z-E irradiation wavelength</th>\n",
       "      <th>Irradiation solvent</th>\n",
       "      <th>PBE0 DFT E isomer pi-pi* wavelength in nm</th>\n",
       "      <th>PBE0 DFT E isomer n-pi* wavelength in nm</th>\n",
       "      <th>PBE0 DFT Z isomer pi-pi* wavelength in nm</th>\n",
       "      <th>PBE0 DFT Z isomer n-pi* wavelength in nm</th>\n",
       "      <th>TPSSh/6-31G** DFT E isomer pi-pi* wavelength in nm</th>\n",
       "      <th>TPSSh/6-31G** DFT E isomer n-pi* wavelength in nm</th>\n",
       "      <th>TPSSh/6-31G** DFT Z isomer pi-pi* wavelength in nm</th>\n",
       "      <th>TPSSh/6-31G** DFT Z isomer n-pi* wavelength in nm</th>\n",
       "      <th>CAM-B3LYP/6-31G** DFT E isomer pi-pi* wavelength in nm</th>\n",
       "      <th>CAM-B3LYP/6-31G** DFT E isomer n-pi* wavelength in nm</th>\n",
       "      <th>CAM-B3LYP/6-31G** DFT Z isomer pi-pi* wavelength in nm</th>\n",
       "      <th>CAM-B3LYP/6-31G** DFT Z isomer n-pi* wavelength in nm</th>\n",
       "      <th>BHLYP/6-31G* DFT E isomer pi-pi* wavelength in nm</th>\n",
       "      <th>BHLYP/6-31G* DFT E isomer n-pi* wavelength in nm</th>\n",
       "      <th>BHLYP/6-31G* Z isomer pi-pi* wavelength in nm</th>\n",
       "      <th>BHLYP/6-31G* DFT Z isomer n-pi* wavelength in nm</th>\n",
       "      <th>name</th>\n",
       "      <th>selfies</th>\n",
       "      <th>wavelength_cat</th>\n",
       "      <th>inchi</th>\n",
       "    </tr>\n",
       "  </thead>\n",
       "  <tbody>\n",
       "    <tr>\n",
       "      <th>0</th>\n",
       "      <td>0</td>\n",
       "      <td>C[N]1C=CC(=N1)N=NC2=CC=CC=C2</td>\n",
       "      <td>2.100000e-07</td>\n",
       "      <td>MeCN</td>\n",
       "      <td>76.0</td>\n",
       "      <td>72.0</td>\n",
       "      <td>310.0</td>\n",
       "      <td>1.67</td>\n",
       "      <td>442.0</td>\n",
       "      <td>0.0373</td>\n",
       "      <td>290.0</td>\n",
       "      <td>0.243</td>\n",
       "      <td>428.0</td>\n",
       "      <td>0.1010</td>\n",
       "      <td>1.896</td>\n",
       "      <td>355</td>\n",
       "      <td>532</td>\n",
       "      <td>MeCN</td>\n",
       "      <td>305.0</td>\n",
       "      <td>480.0</td>\n",
       "      <td>286.0</td>\n",
       "      <td>448.0</td>\n",
       "      <td>NaN</td>\n",
       "      <td>NaN</td>\n",
       "      <td>NaN</td>\n",
       "      <td>NaN</td>\n",
       "      <td>NaN</td>\n",
       "      <td>NaN</td>\n",
       "      <td>NaN</td>\n",
       "      <td>NaN</td>\n",
       "      <td>NaN</td>\n",
       "      <td>NaN</td>\n",
       "      <td>NaN</td>\n",
       "      <td>NaN</td>\n",
       "      <td>NaN</td>\n",
       "      <td>[C][NH0][N][=N][C][=Branch1][Ring2][=N][Ring1]...</td>\n",
       "      <td>very small</td>\n",
       "      <td>InChI=1S/C10H10N4/c1-14-8-7-10(13-14)12-11-9-5...</td>\n",
       "    </tr>\n",
       "    <tr>\n",
       "      <th>1</th>\n",
       "      <td>1</td>\n",
       "      <td>C[N]1C=NC(=N1)N=NC2=CC=CC=C2</td>\n",
       "      <td>3.800000e-07</td>\n",
       "      <td>MeCN</td>\n",
       "      <td>90.0</td>\n",
       "      <td>84.0</td>\n",
       "      <td>310.0</td>\n",
       "      <td>1.87</td>\n",
       "      <td>438.0</td>\n",
       "      <td>0.0505</td>\n",
       "      <td>272.0</td>\n",
       "      <td>0.489</td>\n",
       "      <td>434.0</td>\n",
       "      <td>0.1270</td>\n",
       "      <td>1.899</td>\n",
       "      <td>355</td>\n",
       "      <td>532</td>\n",
       "      <td>MeCN</td>\n",
       "      <td>306.0</td>\n",
       "      <td>473.0</td>\n",
       "      <td>284.0</td>\n",
       "      <td>448.0</td>\n",
       "      <td>NaN</td>\n",
       "      <td>NaN</td>\n",
       "      <td>NaN</td>\n",
       "      <td>NaN</td>\n",
       "      <td>NaN</td>\n",
       "      <td>NaN</td>\n",
       "      <td>NaN</td>\n",
       "      <td>NaN</td>\n",
       "      <td>NaN</td>\n",
       "      <td>NaN</td>\n",
       "      <td>NaN</td>\n",
       "      <td>NaN</td>\n",
       "      <td>NaN</td>\n",
       "      <td>[C][NH0][C][=N][C][=Branch1][Ring2][=N][Ring1]...</td>\n",
       "      <td>very small</td>\n",
       "      <td>InChI=1S/C9H9N5/c1-14-7-10-9(13-14)12-11-8-5-3...</td>\n",
       "    </tr>\n",
       "    <tr>\n",
       "      <th>2</th>\n",
       "      <td>3</td>\n",
       "      <td>C[N]1C=C(C)C(=N1)N=NC2=CC=CC=C2</td>\n",
       "      <td>1.500000e-06</td>\n",
       "      <td>MeCN</td>\n",
       "      <td>96.0</td>\n",
       "      <td>87.0</td>\n",
       "      <td>325.0</td>\n",
       "      <td>1.74</td>\n",
       "      <td>428.0</td>\n",
       "      <td>0.0612</td>\n",
       "      <td>286.0</td>\n",
       "      <td>0.515</td>\n",
       "      <td>438.0</td>\n",
       "      <td>0.1360</td>\n",
       "      <td>1.874</td>\n",
       "      <td>355</td>\n",
       "      <td>532</td>\n",
       "      <td>MeCN</td>\n",
       "      <td>317.0</td>\n",
       "      <td>458.0</td>\n",
       "      <td>302.0</td>\n",
       "      <td>461.0</td>\n",
       "      <td>NaN</td>\n",
       "      <td>NaN</td>\n",
       "      <td>NaN</td>\n",
       "      <td>NaN</td>\n",
       "      <td>NaN</td>\n",
       "      <td>NaN</td>\n",
       "      <td>NaN</td>\n",
       "      <td>NaN</td>\n",
       "      <td>NaN</td>\n",
       "      <td>NaN</td>\n",
       "      <td>NaN</td>\n",
       "      <td>NaN</td>\n",
       "      <td>NaN</td>\n",
       "      <td>[C][NH0][C][=C][Branch1][C][C][C][=Branch1][Ri...</td>\n",
       "      <td>very small</td>\n",
       "      <td>InChI=1S/C11H12N4/c1-9-8-15(2)14-11(9)13-12-10...</td>\n",
       "    </tr>\n",
       "    <tr>\n",
       "      <th>3</th>\n",
       "      <td>4</td>\n",
       "      <td>C[N]1C=C(C=N1)N=NC2=CC=CC=C2</td>\n",
       "      <td>7.600000e-09</td>\n",
       "      <td>MeCN</td>\n",
       "      <td>98.0</td>\n",
       "      <td>70.0</td>\n",
       "      <td>328.0</td>\n",
       "      <td>1.66</td>\n",
       "      <td>417.0</td>\n",
       "      <td>0.0640</td>\n",
       "      <td>275.0</td>\n",
       "      <td>0.806</td>\n",
       "      <td>403.0</td>\n",
       "      <td>0.0666</td>\n",
       "      <td>1.849</td>\n",
       "      <td>355</td>\n",
       "      <td>532</td>\n",
       "      <td>MeCN</td>\n",
       "      <td>318.0</td>\n",
       "      <td>447.0</td>\n",
       "      <td>278.0</td>\n",
       "      <td>409.0</td>\n",
       "      <td>328.0</td>\n",
       "      <td>455.0</td>\n",
       "      <td>295.0</td>\n",
       "      <td>410.0</td>\n",
       "      <td>305.0</td>\n",
       "      <td>427.0</td>\n",
       "      <td>256.0</td>\n",
       "      <td>401.0</td>\n",
       "      <td>NaN</td>\n",
       "      <td>NaN</td>\n",
       "      <td>NaN</td>\n",
       "      <td>NaN</td>\n",
       "      <td>NaN</td>\n",
       "      <td>[C][NH0][C][=C][Branch1][Branch1][C][=N][Ring1...</td>\n",
       "      <td>very small</td>\n",
       "      <td>InChI=1S/C10H10N4/c1-14-8-10(7-11-14)13-12-9-5...</td>\n",
       "    </tr>\n",
       "    <tr>\n",
       "      <th>4</th>\n",
       "      <td>5</td>\n",
       "      <td>C[N]1N=C(C)C(=C1C)N=NC2=CC=CC=C2</td>\n",
       "      <td>7.700000e-07</td>\n",
       "      <td>MeCN</td>\n",
       "      <td>98.0</td>\n",
       "      <td>98.0</td>\n",
       "      <td>335.0</td>\n",
       "      <td>2.27</td>\n",
       "      <td>425.0</td>\n",
       "      <td>0.0963</td>\n",
       "      <td>296.0</td>\n",
       "      <td>0.577</td>\n",
       "      <td>441.0</td>\n",
       "      <td>0.2300</td>\n",
       "      <td>1.837</td>\n",
       "      <td>355</td>\n",
       "      <td>532</td>\n",
       "      <td>MeCN</td>\n",
       "      <td>327.0</td>\n",
       "      <td>443.0</td>\n",
       "      <td>297.0</td>\n",
       "      <td>460.0</td>\n",
       "      <td>337.0</td>\n",
       "      <td>453.0</td>\n",
       "      <td>311.0</td>\n",
       "      <td>462.0</td>\n",
       "      <td>314.0</td>\n",
       "      <td>422.0</td>\n",
       "      <td>279.0</td>\n",
       "      <td>449.0</td>\n",
       "      <td>NaN</td>\n",
       "      <td>NaN</td>\n",
       "      <td>NaN</td>\n",
       "      <td>NaN</td>\n",
       "      <td>phenyl-(1,3,5-trimethylpyrazol-4-yl)diazene</td>\n",
       "      <td>[C][NH0][N][=C][Branch1][C][C][C][=Branch1][Br...</td>\n",
       "      <td>very small</td>\n",
       "      <td>InChI=1S/C12H14N4/c1-9-12(10(2)16(3)15-9)14-13...</td>\n",
       "    </tr>\n",
       "    <tr>\n",
       "      <th>...</th>\n",
       "      <td>...</td>\n",
       "      <td>...</td>\n",
       "      <td>...</td>\n",
       "      <td>...</td>\n",
       "      <td>...</td>\n",
       "      <td>...</td>\n",
       "      <td>...</td>\n",
       "      <td>...</td>\n",
       "      <td>...</td>\n",
       "      <td>...</td>\n",
       "      <td>...</td>\n",
       "      <td>...</td>\n",
       "      <td>...</td>\n",
       "      <td>...</td>\n",
       "      <td>...</td>\n",
       "      <td>...</td>\n",
       "      <td>...</td>\n",
       "      <td>...</td>\n",
       "      <td>...</td>\n",
       "      <td>...</td>\n",
       "      <td>...</td>\n",
       "      <td>...</td>\n",
       "      <td>...</td>\n",
       "      <td>...</td>\n",
       "      <td>...</td>\n",
       "      <td>...</td>\n",
       "      <td>...</td>\n",
       "      <td>...</td>\n",
       "      <td>...</td>\n",
       "      <td>...</td>\n",
       "      <td>...</td>\n",
       "      <td>...</td>\n",
       "      <td>...</td>\n",
       "      <td>...</td>\n",
       "      <td>...</td>\n",
       "      <td>...</td>\n",
       "      <td>...</td>\n",
       "      <td>...</td>\n",
       "    </tr>\n",
       "    <tr>\n",
       "      <th>148</th>\n",
       "      <td>162</td>\n",
       "      <td>CC1=CC(/N=N/C2=CC(C)=C(C)C=C2)=CC=C1C</td>\n",
       "      <td>NaN</td>\n",
       "      <td>NaN</td>\n",
       "      <td>NaN</td>\n",
       "      <td>NaN</td>\n",
       "      <td>333.0</td>\n",
       "      <td>NaN</td>\n",
       "      <td>441.0</td>\n",
       "      <td>NaN</td>\n",
       "      <td>NaN</td>\n",
       "      <td>NaN</td>\n",
       "      <td>NaN</td>\n",
       "      <td>NaN</td>\n",
       "      <td>NaN</td>\n",
       "      <td>NaN</td>\n",
       "      <td>NaN</td>\n",
       "      <td>CH</td>\n",
       "      <td>356.0</td>\n",
       "      <td>473.0</td>\n",
       "      <td>NaN</td>\n",
       "      <td>NaN</td>\n",
       "      <td>NaN</td>\n",
       "      <td>NaN</td>\n",
       "      <td>NaN</td>\n",
       "      <td>NaN</td>\n",
       "      <td>343.0</td>\n",
       "      <td>445.0</td>\n",
       "      <td>NaN</td>\n",
       "      <td>NaN</td>\n",
       "      <td>NaN</td>\n",
       "      <td>NaN</td>\n",
       "      <td>NaN</td>\n",
       "      <td>NaN</td>\n",
       "      <td>BIS(3,4-DIMETHYLPHENYL)DIAZENE</td>\n",
       "      <td>[C][C][=C][C][Branch1][P][/N][=N][/C][=C][C][B...</td>\n",
       "      <td>very small</td>\n",
       "      <td>InChI=1S/C16H18N2/c1-11-5-7-15(9-13(11)3)17-18...</td>\n",
       "    </tr>\n",
       "    <tr>\n",
       "      <th>149</th>\n",
       "      <td>163</td>\n",
       "      <td>CC1=C(Cl)C=CC=C1/N=N/C2=C(C)C(Cl)=CC=C2</td>\n",
       "      <td>NaN</td>\n",
       "      <td>NaN</td>\n",
       "      <td>NaN</td>\n",
       "      <td>NaN</td>\n",
       "      <td>329.0</td>\n",
       "      <td>NaN</td>\n",
       "      <td>461.0</td>\n",
       "      <td>NaN</td>\n",
       "      <td>NaN</td>\n",
       "      <td>NaN</td>\n",
       "      <td>NaN</td>\n",
       "      <td>NaN</td>\n",
       "      <td>NaN</td>\n",
       "      <td>NaN</td>\n",
       "      <td>NaN</td>\n",
       "      <td>CH</td>\n",
       "      <td>341.0</td>\n",
       "      <td>495.0</td>\n",
       "      <td>NaN</td>\n",
       "      <td>NaN</td>\n",
       "      <td>NaN</td>\n",
       "      <td>NaN</td>\n",
       "      <td>NaN</td>\n",
       "      <td>NaN</td>\n",
       "      <td>325.0</td>\n",
       "      <td>471.0</td>\n",
       "      <td>NaN</td>\n",
       "      <td>NaN</td>\n",
       "      <td>NaN</td>\n",
       "      <td>NaN</td>\n",
       "      <td>NaN</td>\n",
       "      <td>NaN</td>\n",
       "      <td>NaN</td>\n",
       "      <td>[C][C][=C][Branch1][C][Cl][C][=C][C][=C][Ring1...</td>\n",
       "      <td>very small</td>\n",
       "      <td>InChI=1S/C14H12Cl2N2/c1-9-11(15)5-3-7-13(9)17-...</td>\n",
       "    </tr>\n",
       "    <tr>\n",
       "      <th>150</th>\n",
       "      <td>164</td>\n",
       "      <td>CC1=CC(Cl)=CC=C1/N=N/C2=C(C)C=C(Cl)C=C2</td>\n",
       "      <td>NaN</td>\n",
       "      <td>NaN</td>\n",
       "      <td>NaN</td>\n",
       "      <td>NaN</td>\n",
       "      <td>346.0</td>\n",
       "      <td>NaN</td>\n",
       "      <td>461.0</td>\n",
       "      <td>NaN</td>\n",
       "      <td>NaN</td>\n",
       "      <td>NaN</td>\n",
       "      <td>NaN</td>\n",
       "      <td>NaN</td>\n",
       "      <td>NaN</td>\n",
       "      <td>NaN</td>\n",
       "      <td>NaN</td>\n",
       "      <td>CH</td>\n",
       "      <td>379.0</td>\n",
       "      <td>506.0</td>\n",
       "      <td>NaN</td>\n",
       "      <td>NaN</td>\n",
       "      <td>NaN</td>\n",
       "      <td>NaN</td>\n",
       "      <td>NaN</td>\n",
       "      <td>NaN</td>\n",
       "      <td>360.0</td>\n",
       "      <td>481.0</td>\n",
       "      <td>NaN</td>\n",
       "      <td>NaN</td>\n",
       "      <td>NaN</td>\n",
       "      <td>NaN</td>\n",
       "      <td>NaN</td>\n",
       "      <td>NaN</td>\n",
       "      <td>Bis(4-chloro-2-methylphenyl)diazene</td>\n",
       "      <td>[C][C][=C][C][Branch1][C][Cl][=C][C][=C][Ring1...</td>\n",
       "      <td>small</td>\n",
       "      <td>InChI=1S/C14H12Cl2N2/c1-9-7-11(15)3-5-13(9)17-...</td>\n",
       "    </tr>\n",
       "    <tr>\n",
       "      <th>151</th>\n",
       "      <td>165</td>\n",
       "      <td>BrC1=CC(Br)=CC(Br)=C1/N=N/C2=C(Br)C=C(Br)C=C2Br</td>\n",
       "      <td>NaN</td>\n",
       "      <td>NaN</td>\n",
       "      <td>NaN</td>\n",
       "      <td>NaN</td>\n",
       "      <td>302.0</td>\n",
       "      <td>NaN</td>\n",
       "      <td>474.0</td>\n",
       "      <td>NaN</td>\n",
       "      <td>NaN</td>\n",
       "      <td>NaN</td>\n",
       "      <td>NaN</td>\n",
       "      <td>NaN</td>\n",
       "      <td>NaN</td>\n",
       "      <td>NaN</td>\n",
       "      <td>NaN</td>\n",
       "      <td>EtOH</td>\n",
       "      <td>328.0</td>\n",
       "      <td>529.0</td>\n",
       "      <td>NaN</td>\n",
       "      <td>NaN</td>\n",
       "      <td>NaN</td>\n",
       "      <td>NaN</td>\n",
       "      <td>NaN</td>\n",
       "      <td>NaN</td>\n",
       "      <td>298.0</td>\n",
       "      <td>492.0</td>\n",
       "      <td>NaN</td>\n",
       "      <td>NaN</td>\n",
       "      <td>NaN</td>\n",
       "      <td>NaN</td>\n",
       "      <td>NaN</td>\n",
       "      <td>NaN</td>\n",
       "      <td>bis(2,4,6-tribromophenyl)diazene</td>\n",
       "      <td>[Br][C][=C][C][Branch1][C][Br][=C][C][Branch1]...</td>\n",
       "      <td>very small</td>\n",
       "      <td>InChI=1S/C12H4Br6N2/c13-5-1-7(15)11(8(16)2-5)1...</td>\n",
       "    </tr>\n",
       "    <tr>\n",
       "      <th>152</th>\n",
       "      <td>166</td>\n",
       "      <td>CC1=CC(C)=CC(C)=C1/N=N/C2=C(C)C=C(C)C=C2C</td>\n",
       "      <td>NaN</td>\n",
       "      <td>NaN</td>\n",
       "      <td>NaN</td>\n",
       "      <td>NaN</td>\n",
       "      <td>325.0</td>\n",
       "      <td>NaN</td>\n",
       "      <td>465.0</td>\n",
       "      <td>NaN</td>\n",
       "      <td>NaN</td>\n",
       "      <td>NaN</td>\n",
       "      <td>NaN</td>\n",
       "      <td>NaN</td>\n",
       "      <td>NaN</td>\n",
       "      <td>NaN</td>\n",
       "      <td>NaN</td>\n",
       "      <td>Alk</td>\n",
       "      <td>344.0</td>\n",
       "      <td>503.0</td>\n",
       "      <td>NaN</td>\n",
       "      <td>NaN</td>\n",
       "      <td>NaN</td>\n",
       "      <td>NaN</td>\n",
       "      <td>NaN</td>\n",
       "      <td>NaN</td>\n",
       "      <td>316.0</td>\n",
       "      <td>479.0</td>\n",
       "      <td>NaN</td>\n",
       "      <td>NaN</td>\n",
       "      <td>NaN</td>\n",
       "      <td>NaN</td>\n",
       "      <td>NaN</td>\n",
       "      <td>NaN</td>\n",
       "      <td>BIS(2,4,6-TRIMETHYLPHENYL)DIAZENE</td>\n",
       "      <td>[C][C][=C][C][Branch1][C][C][=C][C][Branch1][C...</td>\n",
       "      <td>very small</td>\n",
       "      <td>InChI=1S/C18H22N2/c1-11-7-13(3)17(14(4)8-11)19...</td>\n",
       "    </tr>\n",
       "  </tbody>\n",
       "</table>\n",
       "<p>127 rows × 38 columns</p>\n",
       "</div>"
      ],
      "text/plain": [
       "     index  ...                                              inchi\n",
       "0        0  ...  InChI=1S/C10H10N4/c1-14-8-7-10(13-14)12-11-9-5...\n",
       "1        1  ...  InChI=1S/C9H9N5/c1-14-7-10-9(13-14)12-11-8-5-3...\n",
       "2        3  ...  InChI=1S/C11H12N4/c1-9-8-15(2)14-11(9)13-12-10...\n",
       "3        4  ...  InChI=1S/C10H10N4/c1-14-8-10(7-11-14)13-12-9-5...\n",
       "4        5  ...  InChI=1S/C12H14N4/c1-9-12(10(2)16(3)15-9)14-13...\n",
       "..     ...  ...                                                ...\n",
       "148    162  ...  InChI=1S/C16H18N2/c1-11-5-7-15(9-13(11)3)17-18...\n",
       "149    163  ...  InChI=1S/C14H12Cl2N2/c1-9-11(15)5-3-7-13(9)17-...\n",
       "150    164  ...  InChI=1S/C14H12Cl2N2/c1-9-7-11(15)3-5-13(9)17-...\n",
       "151    165  ...  InChI=1S/C12H4Br6N2/c13-5-1-7(15)11(8(16)2-5)1...\n",
       "152    166  ...  InChI=1S/C18H22N2/c1-11-7-13(3)17(14(4)8-11)19...\n",
       "\n",
       "[127 rows x 38 columns]"
      ]
     },
     "execution_count": 182,
     "metadata": {},
     "output_type": "execute_result"
    }
   ],
   "source": [
    "data"
   ]
  },
  {
   "cell_type": "code",
   "execution_count": 184,
   "metadata": {},
   "outputs": [],
   "source": [
    "train_df, test_df = train_test_split(data, train_size=100, random_state=None, stratify=data[\"wavelength_cat\"])"
   ]
  },
  {
   "cell_type": "code",
   "execution_count": 237,
   "metadata": {},
   "outputs": [],
   "source": [
    "train_prompts_smiles = generate_inverse_photoswitch_prompts(train_df, 'SMILES')\n",
    "test_prompts_smiles = generate_inverse_photoswitch_prompts(test_df, 'SMILES')\n",
    "\n",
    "train_prompts_selfies = generate_inverse_photoswitch_prompts(train_df, 'selfies')\n",
    "test_prompts_seflies = generate_inverse_photoswitch_prompts(test_df, 'selfies')"
   ]
  },
  {
   "cell_type": "code",
   "execution_count": 249,
   "metadata": {},
   "outputs": [],
   "source": [
    "train_smiles = train_prompts_smiles['completion'].apply(lambda x: x.split('@@@')[0])\n",
    "test_smiles = test_prompts_smiles['completion'].apply(lambda x: x.split('@@@')[0])\n",
    "train_prompts_smiles['SMILES'] = train_smiles\n",
    "test_prompts_smiles['SMILES'] = test_smiles\n",
    "\n",
    "\n",
    "train_prompts_selfies['SMILES'] = train_smiles\n",
    "test_prompts_seflies['SMILES'] = test_smiles"
   ]
  },
  {
   "cell_type": "code",
   "execution_count": 239,
   "metadata": {},
   "outputs": [],
   "source": [
    "def train_inverse_model(df_train, representation):\n",
    "    train_prompts = generate_inverse_photoswitch_prompts(\n",
    "        df_train,\n",
    "        representation=representation,\n",
    "    )\n",
    "\n",
    "    train_size = len(train_prompts)\n",
    "\n",
    "    filename_base = time.strftime(\"%Y-%m-%d-%H-%M-%S\", time.localtime())\n",
    "    train_filename = f\"run_files/{filename_base}_train_prompts_photoswitch_inverse_{representation}_{train_size}.jsonl\"\n",
    "\n",
    "    train_prompts.to_json(train_filename, orient=\"records\", lines=True)\n",
    "\n",
    "    modelname = fine_tune(train_filename, train_filename, \"ada\")\n",
    "    return modelname, train_filename"
   ]
  },
  {
   "cell_type": "code",
   "execution_count": 246,
   "metadata": {},
   "outputs": [],
   "source": [
    "def test_inverse_model(modelname, test_prompts, df_train, max_tokens: int =100, temperatures=None, representation=\"SMILES\"): \n",
    "    temperatures = temperatures or  [0, 0.25, 0.5, 0.75, 1.0, 1.25, 1.5]\n",
    "\n",
    "    train_repr = df_train['completion'].apply(lambda x: x.split('@@@')[0])\n",
    "    train_smiles = df_train['SMILES'].to_list()\n",
    "    results = []\n",
    "    for temperature in temperatures:\n",
    "        try:\n",
    "            print(f\"Testing temperature {temperature} for {representation}\")\n",
    "            result = test_inverse_photoswitch(\n",
    "                test_prompts, modelname, train_smiles=train_smiles, temperature=temperature, max_tokens=max_tokens, representation=representation\n",
    "            )\n",
    "\n",
    "            results.append(result)\n",
    "        except Exception as e:\n",
    "            print(e)\n",
    "            pass\n",
    "    \n",
    "    return results"
   ]
  },
  {
   "cell_type": "code",
   "execution_count": 241,
   "metadata": {},
   "outputs": [
    {
     "name": "stderr",
     "output_type": "stream",
     "text": [
      "Traceback (most recent call last):\n",
      "  File \"/Users/kevinmaikjablonka/miniconda3/envs/gpt3/bin/openai\", line 8, in <module>\n",
      "    sys.exit(main())\n",
      "  File \"/Users/kevinmaikjablonka/miniconda3/envs/gpt3/lib/python3.9/site-packages/openai/_openai_scripts.py\", line 63, in main\n",
      "    args.func(args)\n",
      "  File \"/Users/kevinmaikjablonka/miniconda3/envs/gpt3/lib/python3.9/site-packages/openai/cli.py\", line 545, in sync\n",
      "    resp = openai.wandb_logger.WandbLogger.sync(\n",
      "  File \"/Users/kevinmaikjablonka/miniconda3/envs/gpt3/lib/python3.9/site-packages/openai/wandb_logger.py\", line 74, in sync\n",
      "    fine_tune_logged = [\n",
      "  File \"/Users/kevinmaikjablonka/miniconda3/envs/gpt3/lib/python3.9/site-packages/openai/wandb_logger.py\", line 75, in <listcomp>\n",
      "    cls._log_fine_tune(\n",
      "  File \"/Users/kevinmaikjablonka/miniconda3/envs/gpt3/lib/python3.9/site-packages/openai/wandb_logger.py\", line 125, in _log_fine_tune\n",
      "    wandb_run = cls._get_wandb_run(run_path)\n",
      "  File \"/Users/kevinmaikjablonka/miniconda3/envs/gpt3/lib/python3.9/site-packages/openai/wandb_logger.py\", line 190, in _get_wandb_run\n",
      "    cls._ensure_logged_in()\n",
      "  File \"/Users/kevinmaikjablonka/miniconda3/envs/gpt3/lib/python3.9/site-packages/openai/wandb_logger.py\", line 186, in _ensure_logged_in\n",
      "    raise Exception(\"You need to log in to wandb\")\n",
      "Exception: You need to log in to wandb\n"
     ]
    }
   ],
   "source": [
    "model_smiles, train_filename_smiles = train_inverse_model(train_df, 'SMILES')"
   ]
  },
  {
   "cell_type": "code",
   "execution_count": 242,
   "metadata": {},
   "outputs": [
    {
     "name": "stdout",
     "output_type": "stream",
     "text": [
      "Testing temperature 0\n"
     ]
    },
    {
     "name": "stderr",
     "output_type": "stream",
     "text": [
      "2022-11-24 10:58:15.704 | INFO     | gpt3forchem.output:_load_chemnet:217 - Saved ChemNet model to '/var/folders/m9/_txh68y946s4pxy1x2wnd3lh0000gn/T/ChemNet_v0.13_pretrained.h5'\n",
      "/Users/kevinmaikjablonka/miniconda3/envs/gpt3/lib/python3.9/site-packages/fcd/FCD.py:194: UserWarning: `Model.predict_generator` is deprecated and will be removed in a future version. Please use `Model.predict`, which supports generators.\n",
      "  gen_mol_act = model.predict_generator(\n"
     ]
    },
    {
     "name": "stdout",
     "output_type": "stream",
     "text": [
      "Testing temperature 0.25\n"
     ]
    },
    {
     "name": "stderr",
     "output_type": "stream",
     "text": [
      "2022-11-24 10:59:29.341 | INFO     | gpt3forchem.output:_load_chemnet:217 - Saved ChemNet model to '/var/folders/m9/_txh68y946s4pxy1x2wnd3lh0000gn/T/ChemNet_v0.13_pretrained.h5'\n",
      "/Users/kevinmaikjablonka/miniconda3/envs/gpt3/lib/python3.9/site-packages/fcd/FCD.py:194: UserWarning: `Model.predict_generator` is deprecated and will be removed in a future version. Please use `Model.predict`, which supports generators.\n",
      "  gen_mol_act = model.predict_generator(\n"
     ]
    },
    {
     "name": "stdout",
     "output_type": "stream",
     "text": [
      "Testing temperature 0.5\n"
     ]
    },
    {
     "name": "stderr",
     "output_type": "stream",
     "text": [
      "2022-11-24 11:00:13.270 | INFO     | gpt3forchem.output:_load_chemnet:217 - Saved ChemNet model to '/var/folders/m9/_txh68y946s4pxy1x2wnd3lh0000gn/T/ChemNet_v0.13_pretrained.h5'\n",
      "/Users/kevinmaikjablonka/miniconda3/envs/gpt3/lib/python3.9/site-packages/fcd/FCD.py:194: UserWarning: `Model.predict_generator` is deprecated and will be removed in a future version. Please use `Model.predict`, which supports generators.\n",
      "  gen_mol_act = model.predict_generator(\n"
     ]
    },
    {
     "name": "stdout",
     "output_type": "stream",
     "text": [
      "Testing temperature 0.75\n"
     ]
    },
    {
     "name": "stderr",
     "output_type": "stream",
     "text": [
      "2022-11-24 11:01:01.891 | INFO     | gpt3forchem.output:_load_chemnet:217 - Saved ChemNet model to '/var/folders/m9/_txh68y946s4pxy1x2wnd3lh0000gn/T/ChemNet_v0.13_pretrained.h5'\n",
      "/Users/kevinmaikjablonka/miniconda3/envs/gpt3/lib/python3.9/site-packages/fcd/FCD.py:194: UserWarning: `Model.predict_generator` is deprecated and will be removed in a future version. Please use `Model.predict`, which supports generators.\n",
      "  gen_mol_act = model.predict_generator(\n"
     ]
    },
    {
     "name": "stdout",
     "output_type": "stream",
     "text": [
      "Testing temperature 1.0\n"
     ]
    },
    {
     "name": "stderr",
     "output_type": "stream",
     "text": [
      "2022-11-24 11:01:46.677 | INFO     | gpt3forchem.output:_load_chemnet:217 - Saved ChemNet model to '/var/folders/m9/_txh68y946s4pxy1x2wnd3lh0000gn/T/ChemNet_v0.13_pretrained.h5'\n",
      "/Users/kevinmaikjablonka/miniconda3/envs/gpt3/lib/python3.9/site-packages/fcd/FCD.py:194: UserWarning: `Model.predict_generator` is deprecated and will be removed in a future version. Please use `Model.predict`, which supports generators.\n",
      "  gen_mol_act = model.predict_generator(\n"
     ]
    },
    {
     "name": "stdout",
     "output_type": "stream",
     "text": [
      "Testing temperature 1.25\n"
     ]
    },
    {
     "name": "stderr",
     "output_type": "stream",
     "text": [
      "2022-11-24 11:02:19.783 | INFO     | gpt3forchem.output:_load_chemnet:217 - Saved ChemNet model to '/var/folders/m9/_txh68y946s4pxy1x2wnd3lh0000gn/T/ChemNet_v0.13_pretrained.h5'\n",
      "/Users/kevinmaikjablonka/miniconda3/envs/gpt3/lib/python3.9/site-packages/fcd/FCD.py:194: UserWarning: `Model.predict_generator` is deprecated and will be removed in a future version. Please use `Model.predict`, which supports generators.\n",
      "  gen_mol_act = model.predict_generator(\n"
     ]
    },
    {
     "name": "stdout",
     "output_type": "stream",
     "text": [
      "Testing temperature 1.5\n"
     ]
    },
    {
     "name": "stderr",
     "output_type": "stream",
     "text": [
      "2022-11-24 11:02:45.753 | INFO     | gpt3forchem.output:_load_chemnet:217 - Saved ChemNet model to '/var/folders/m9/_txh68y946s4pxy1x2wnd3lh0000gn/T/ChemNet_v0.13_pretrained.h5'\n",
      "/Users/kevinmaikjablonka/miniconda3/envs/gpt3/lib/python3.9/site-packages/fcd/FCD.py:194: UserWarning: `Model.predict_generator` is deprecated and will be removed in a future version. Please use `Model.predict`, which supports generators.\n",
      "  gen_mol_act = model.predict_generator(\n"
     ]
    }
   ],
   "source": [
    "results_smiles = test_inverse_model(model_smiles, test_prompts_smiles, train_prompts_smiles, representation='SMILES')"
   ]
  },
  {
   "cell_type": "code",
   "execution_count": 243,
   "metadata": {},
   "outputs": [
    {
     "name": "stderr",
     "output_type": "stream",
     "text": [
      "Traceback (most recent call last):\n",
      "  File \"/Users/kevinmaikjablonka/miniconda3/envs/gpt3/bin/openai\", line 8, in <module>\n",
      "    sys.exit(main())\n",
      "  File \"/Users/kevinmaikjablonka/miniconda3/envs/gpt3/lib/python3.9/site-packages/openai/_openai_scripts.py\", line 63, in main\n",
      "    args.func(args)\n",
      "  File \"/Users/kevinmaikjablonka/miniconda3/envs/gpt3/lib/python3.9/site-packages/openai/cli.py\", line 545, in sync\n",
      "    resp = openai.wandb_logger.WandbLogger.sync(\n",
      "  File \"/Users/kevinmaikjablonka/miniconda3/envs/gpt3/lib/python3.9/site-packages/openai/wandb_logger.py\", line 74, in sync\n",
      "    fine_tune_logged = [\n",
      "  File \"/Users/kevinmaikjablonka/miniconda3/envs/gpt3/lib/python3.9/site-packages/openai/wandb_logger.py\", line 75, in <listcomp>\n",
      "    cls._log_fine_tune(\n",
      "  File \"/Users/kevinmaikjablonka/miniconda3/envs/gpt3/lib/python3.9/site-packages/openai/wandb_logger.py\", line 125, in _log_fine_tune\n",
      "    wandb_run = cls._get_wandb_run(run_path)\n",
      "  File \"/Users/kevinmaikjablonka/miniconda3/envs/gpt3/lib/python3.9/site-packages/openai/wandb_logger.py\", line 190, in _get_wandb_run\n",
      "    cls._ensure_logged_in()\n",
      "  File \"/Users/kevinmaikjablonka/miniconda3/envs/gpt3/lib/python3.9/site-packages/openai/wandb_logger.py\", line 186, in _ensure_logged_in\n",
      "    raise Exception(\"You need to log in to wandb\")\n",
      "Exception: You need to log in to wandb\n"
     ]
    }
   ],
   "source": [
    "model_selfies, train_filename = train_inverse_model(train_df, 'selfies')"
   ]
  },
  {
   "cell_type": "code",
   "execution_count": 250,
   "metadata": {},
   "outputs": [
    {
     "name": "stdout",
     "output_type": "stream",
     "text": [
      "Testing temperature 0 for selfies\n"
     ]
    },
    {
     "name": "stderr",
     "output_type": "stream",
     "text": [
      "2022-11-24 11:34:15.953 | DEBUG    | gpt3forchem.output:test_inverse_photoswitch:771 - Loaded predictions. Example: CC1=NOC(C)=C1/N=N/C2=CC=C(C)C=C2\n",
      "2022-11-24 11:34:16.038 | INFO     | gpt3forchem.output:_load_chemnet:217 - Saved ChemNet model to '/var/folders/m9/_txh68y946s4pxy1x2wnd3lh0000gn/T/ChemNet_v0.13_pretrained.h5'\n",
      "/Users/kevinmaikjablonka/miniconda3/envs/gpt3/lib/python3.9/site-packages/fcd/FCD.py:194: UserWarning: `Model.predict_generator` is deprecated and will be removed in a future version. Please use `Model.predict`, which supports generators.\n",
      "  gen_mol_act = model.predict_generator(\n"
     ]
    },
    {
     "name": "stdout",
     "output_type": "stream",
     "text": [
      "Testing temperature 0.25 for selfies\n"
     ]
    },
    {
     "name": "stderr",
     "output_type": "stream",
     "text": [
      "2022-11-24 11:35:03.531 | DEBUG    | gpt3forchem.output:test_inverse_photoswitch:771 - Loaded predictions. Example: C1C=C1/N=N/C2=CC=CC=C2C=NC=C\n",
      "2022-11-24 11:35:03.578 | INFO     | gpt3forchem.output:_load_chemnet:217 - Saved ChemNet model to '/var/folders/m9/_txh68y946s4pxy1x2wnd3lh0000gn/T/ChemNet_v0.13_pretrained.h5'\n",
      "/Users/kevinmaikjablonka/miniconda3/envs/gpt3/lib/python3.9/site-packages/fcd/FCD.py:194: UserWarning: `Model.predict_generator` is deprecated and will be removed in a future version. Please use `Model.predict`, which supports generators.\n",
      "  gen_mol_act = model.predict_generator(\n"
     ]
    },
    {
     "name": "stdout",
     "output_type": "stream",
     "text": [
      "Testing temperature 0.5 for selfies\n"
     ]
    },
    {
     "name": "stderr",
     "output_type": "stream",
     "text": [
      "2022-11-24 11:35:38.989 | DEBUG    | gpt3forchem.output:test_inverse_photoswitch:771 - Loaded predictions. Example: CC1=C(C(C)=NN1)/N=N/C2=CC(F)=CC=C2\n",
      "2022-11-24 11:35:39.017 | INFO     | gpt3forchem.output:_load_chemnet:217 - Saved ChemNet model to '/var/folders/m9/_txh68y946s4pxy1x2wnd3lh0000gn/T/ChemNet_v0.13_pretrained.h5'\n",
      "/Users/kevinmaikjablonka/miniconda3/envs/gpt3/lib/python3.9/site-packages/fcd/FCD.py:194: UserWarning: `Model.predict_generator` is deprecated and will be removed in a future version. Please use `Model.predict`, which supports generators.\n",
      "  gen_mol_act = model.predict_generator(\n"
     ]
    },
    {
     "name": "stdout",
     "output_type": "stream",
     "text": [
      "Testing temperature 0.75 for selfies\n"
     ]
    },
    {
     "name": "stderr",
     "output_type": "stream",
     "text": [
      "2022-11-24 11:36:13.800 | DEBUG    | gpt3forchem.output:test_inverse_photoswitch:771 - Loaded predictions. Example: NC1=CC=CC=C1/N=N/C2=C(F)C=CC=C2F\n",
      "2022-11-24 11:36:13.837 | INFO     | gpt3forchem.output:_load_chemnet:217 - Saved ChemNet model to '/var/folders/m9/_txh68y946s4pxy1x2wnd3lh0000gn/T/ChemNet_v0.13_pretrained.h5'\n",
      "/Users/kevinmaikjablonka/miniconda3/envs/gpt3/lib/python3.9/site-packages/fcd/FCD.py:194: UserWarning: `Model.predict_generator` is deprecated and will be removed in a future version. Please use `Model.predict`, which supports generators.\n",
      "  gen_mol_act = model.predict_generator(\n"
     ]
    },
    {
     "name": "stdout",
     "output_type": "stream",
     "text": [
      "Testing temperature 1.0 for selfies\n"
     ]
    },
    {
     "name": "stderr",
     "output_type": "stream",
     "text": [
      "2022-11-24 11:36:51.043 | DEBUG    | gpt3forchem.output:test_inverse_photoswitch:771 - Loaded predictions. Example: CC1=NOC(C)=C1/N=N/C2=CC(O)=CC=C2\n",
      "2022-11-24 11:36:51.090 | INFO     | gpt3forchem.output:_load_chemnet:217 - Saved ChemNet model to '/var/folders/m9/_txh68y946s4pxy1x2wnd3lh0000gn/T/ChemNet_v0.13_pretrained.h5'\n",
      "/Users/kevinmaikjablonka/miniconda3/envs/gpt3/lib/python3.9/site-packages/fcd/FCD.py:194: UserWarning: `Model.predict_generator` is deprecated and will be removed in a future version. Please use `Model.predict`, which supports generators.\n",
      "  gen_mol_act = model.predict_generator(\n"
     ]
    },
    {
     "name": "stdout",
     "output_type": "stream",
     "text": [
      "Testing temperature 1.25 for selfies\n"
     ]
    },
    {
     "name": "stderr",
     "output_type": "stream",
     "text": [
      "2022-11-24 11:37:37.680 | DEBUG    | gpt3forchem.output:test_inverse_photoswitch:771 - Loaded predictions. Example: CC1=NOC(C)=C1/N=N/C2=CC(O)=CC=C2\n",
      "2022-11-24 11:37:37.738 | INFO     | gpt3forchem.output:_load_chemnet:217 - Saved ChemNet model to '/var/folders/m9/_txh68y946s4pxy1x2wnd3lh0000gn/T/ChemNet_v0.13_pretrained.h5'\n",
      "/Users/kevinmaikjablonka/miniconda3/envs/gpt3/lib/python3.9/site-packages/fcd/FCD.py:194: UserWarning: `Model.predict_generator` is deprecated and will be removed in a future version. Please use `Model.predict`, which supports generators.\n",
      "  gen_mol_act = model.predict_generator(\n"
     ]
    },
    {
     "name": "stdout",
     "output_type": "stream",
     "text": [
      "Testing temperature 1.5 for selfies\n"
     ]
    },
    {
     "name": "stderr",
     "output_type": "stream",
     "text": [
      "2022-11-24 11:38:11.288 | DEBUG    | gpt3forchem.output:test_inverse_photoswitch:771 - Loaded predictions. Example: [N][C][=N][Branch1][=Bscl1][=becnes2][Branch2][C][Branch1][Ring1][Ob\n",
      "2022-11-24 11:38:11.366 | INFO     | gpt3forchem.output:_load_chemnet:217 - Saved ChemNet model to '/var/folders/m9/_txh68y946s4pxy1x2wnd3lh0000gn/T/ChemNet_v0.13_pretrained.h5'\n",
      "/Users/kevinmaikjablonka/miniconda3/envs/gpt3/lib/python3.9/site-packages/fcd/FCD.py:194: UserWarning: `Model.predict_generator` is deprecated and will be removed in a future version. Please use `Model.predict`, which supports generators.\n",
      "  gen_mol_act = model.predict_generator(\n",
      "/Users/kevinmaikjablonka/miniconda3/envs/gpt3/lib/python3.9/site-packages/numpy/lib/histograms.py:906: RuntimeWarning: invalid value encountered in divide\n",
      "  return n/db/n.sum(), bin_edges\n"
     ]
    }
   ],
   "source": [
    "results_selfies = test_inverse_model(model_selfies, test_prompts_seflies, train_prompts_selfies, representation='selfies')"
   ]
  },
  {
   "cell_type": "code",
   "execution_count": 251,
   "metadata": {},
   "outputs": [],
   "source": [
    "summarized_metrics_smiles = []\n",
    "\n",
    "for metric in results_smiles:\n",
    "    res = {\n",
    "        'temperature': metric['meta']['temperature'],\n",
    "         'fractions_valid_smiles': metric['fractions_valid_smiles'],\n",
    "        'fractions_smiles_in_train': metric['fractions_smiles_in_train'],\n",
    "        'unique_smiles': metric['unique_smiles'],\n",
    "        'frechet_chemnet': metric['frechet_chemnet'][0],\n",
    "        'pi_pi_star_mae': metric['pi_pi_star_metrics']['mean_absolute_error'],\n",
    "        'n_pi_star_mae': metric['n_pi_star_metrics']['mean_absolute_error'],\n",
    "    }\n",
    "    summarized_metrics_smiles.append(res)"
   ]
  },
  {
   "cell_type": "code",
   "execution_count": 252,
   "metadata": {},
   "outputs": [],
   "source": [
    "summarized_metrics_selfies = []\n",
    "\n",
    "for metric in results_selfies:\n",
    "    try:\n",
    "        res = {\n",
    "            'temperature': metric['meta']['temperature'],\n",
    "            'fractions_valid_smiles': metric['fractions_valid_smiles'],\n",
    "            'fractions_smiles_in_train': metric['fractions_smiles_in_train'],\n",
    "            'unique_smiles': metric['unique_smiles'],\n",
    "            'frechet_chemnet': metric['frechet_chemnet'][0],\n",
    "            'pi_pi_star_mae': metric['pi_pi_star_metrics']['mean_absolute_error'],\n",
    "            'n_pi_star_mae': metric['n_pi_star_metrics']['mean_absolute_error'],\n",
    "        }\n",
    "        summarized_metrics_selfies.append(res)\n",
    "    except Exception as e:\n",
    "        print(e)\n",
    "        pass"
   ]
  },
  {
   "cell_type": "code",
   "execution_count": 253,
   "metadata": {},
   "outputs": [],
   "source": [
    "import pandas as pd "
   ]
  },
  {
   "cell_type": "code",
   "execution_count": 254,
   "metadata": {},
   "outputs": [],
   "source": [
    "summarized_metrics_smiles = pd.DataFrame(summarized_metrics_smiles)"
   ]
  },
  {
   "cell_type": "code",
   "execution_count": 255,
   "metadata": {},
   "outputs": [],
   "source": [
    "summarized_metrics_selfies = pd.DataFrame(summarized_metrics_selfies)"
   ]
  },
  {
   "cell_type": "code",
   "execution_count": 256,
   "metadata": {},
   "outputs": [
    {
     "data": {
      "text/html": [
       "<div>\n",
       "<style scoped>\n",
       "    .dataframe tbody tr th:only-of-type {\n",
       "        vertical-align: middle;\n",
       "    }\n",
       "\n",
       "    .dataframe tbody tr th {\n",
       "        vertical-align: top;\n",
       "    }\n",
       "\n",
       "    .dataframe thead th {\n",
       "        text-align: right;\n",
       "    }\n",
       "</style>\n",
       "<table border=\"1\" class=\"dataframe\">\n",
       "  <thead>\n",
       "    <tr style=\"text-align: right;\">\n",
       "      <th></th>\n",
       "      <th>temperature</th>\n",
       "      <th>fractions_valid_smiles</th>\n",
       "      <th>fractions_smiles_in_train</th>\n",
       "      <th>unique_smiles</th>\n",
       "      <th>frechet_chemnet</th>\n",
       "      <th>pi_pi_star_mae</th>\n",
       "      <th>n_pi_star_mae</th>\n",
       "    </tr>\n",
       "  </thead>\n",
       "  <tbody>\n",
       "    <tr>\n",
       "      <th>0</th>\n",
       "      <td>0.00</td>\n",
       "      <td>1.000000</td>\n",
       "      <td>1.000000</td>\n",
       "      <td>0.074074</td>\n",
       "      <td>31.261643</td>\n",
       "      <td>10.352202</td>\n",
       "      <td>16.542582</td>\n",
       "    </tr>\n",
       "    <tr>\n",
       "      <th>1</th>\n",
       "      <td>0.25</td>\n",
       "      <td>1.000000</td>\n",
       "      <td>0.962963</td>\n",
       "      <td>0.481481</td>\n",
       "      <td>18.129407</td>\n",
       "      <td>12.320807</td>\n",
       "      <td>18.862905</td>\n",
       "    </tr>\n",
       "    <tr>\n",
       "      <th>2</th>\n",
       "      <td>0.50</td>\n",
       "      <td>0.925926</td>\n",
       "      <td>0.800000</td>\n",
       "      <td>0.680000</td>\n",
       "      <td>14.028975</td>\n",
       "      <td>16.815757</td>\n",
       "      <td>15.888342</td>\n",
       "    </tr>\n",
       "    <tr>\n",
       "      <th>3</th>\n",
       "      <td>0.75</td>\n",
       "      <td>0.962963</td>\n",
       "      <td>0.730769</td>\n",
       "      <td>0.846154</td>\n",
       "      <td>10.150410</td>\n",
       "      <td>16.923918</td>\n",
       "      <td>16.590871</td>\n",
       "    </tr>\n",
       "    <tr>\n",
       "      <th>4</th>\n",
       "      <td>1.00</td>\n",
       "      <td>0.814815</td>\n",
       "      <td>0.636364</td>\n",
       "      <td>0.954545</td>\n",
       "      <td>12.519774</td>\n",
       "      <td>18.900595</td>\n",
       "      <td>16.705321</td>\n",
       "    </tr>\n",
       "    <tr>\n",
       "      <th>5</th>\n",
       "      <td>1.25</td>\n",
       "      <td>0.407407</td>\n",
       "      <td>0.363636</td>\n",
       "      <td>0.909091</td>\n",
       "      <td>17.723569</td>\n",
       "      <td>35.793044</td>\n",
       "      <td>17.990552</td>\n",
       "    </tr>\n",
       "    <tr>\n",
       "      <th>6</th>\n",
       "      <td>1.50</td>\n",
       "      <td>0.111111</td>\n",
       "      <td>0.000000</td>\n",
       "      <td>1.000000</td>\n",
       "      <td>29.938051</td>\n",
       "      <td>18.967667</td>\n",
       "      <td>17.870842</td>\n",
       "    </tr>\n",
       "  </tbody>\n",
       "</table>\n",
       "</div>"
      ],
      "text/plain": [
       "   temperature  fractions_valid_smiles  ...  pi_pi_star_mae  n_pi_star_mae\n",
       "0         0.00                1.000000  ...       10.352202      16.542582\n",
       "1         0.25                1.000000  ...       12.320807      18.862905\n",
       "2         0.50                0.925926  ...       16.815757      15.888342\n",
       "3         0.75                0.962963  ...       16.923918      16.590871\n",
       "4         1.00                0.814815  ...       18.900595      16.705321\n",
       "5         1.25                0.407407  ...       35.793044      17.990552\n",
       "6         1.50                0.111111  ...       18.967667      17.870842\n",
       "\n",
       "[7 rows x 7 columns]"
      ]
     },
     "execution_count": 256,
     "metadata": {},
     "output_type": "execute_result"
    }
   ],
   "source": [
    "summarized_metrics_smiles"
   ]
  },
  {
   "cell_type": "code",
   "execution_count": 257,
   "metadata": {},
   "outputs": [
    {
     "data": {
      "text/html": [
       "<div>\n",
       "<style scoped>\n",
       "    .dataframe tbody tr th:only-of-type {\n",
       "        vertical-align: middle;\n",
       "    }\n",
       "\n",
       "    .dataframe tbody tr th {\n",
       "        vertical-align: top;\n",
       "    }\n",
       "\n",
       "    .dataframe thead th {\n",
       "        text-align: right;\n",
       "    }\n",
       "</style>\n",
       "<table border=\"1\" class=\"dataframe\">\n",
       "  <thead>\n",
       "    <tr style=\"text-align: right;\">\n",
       "      <th></th>\n",
       "      <th>temperature</th>\n",
       "      <th>fractions_valid_smiles</th>\n",
       "      <th>fractions_smiles_in_train</th>\n",
       "      <th>unique_smiles</th>\n",
       "      <th>frechet_chemnet</th>\n",
       "      <th>pi_pi_star_mae</th>\n",
       "      <th>n_pi_star_mae</th>\n",
       "    </tr>\n",
       "  </thead>\n",
       "  <tbody>\n",
       "    <tr>\n",
       "      <th>0</th>\n",
       "      <td>0.00</td>\n",
       "      <td>1.000000</td>\n",
       "      <td>1.000000</td>\n",
       "      <td>0.074074</td>\n",
       "      <td>22.287693</td>\n",
       "      <td>12.154209</td>\n",
       "      <td>18.700768</td>\n",
       "    </tr>\n",
       "    <tr>\n",
       "      <th>1</th>\n",
       "      <td>0.25</td>\n",
       "      <td>1.000000</td>\n",
       "      <td>0.962963</td>\n",
       "      <td>0.222222</td>\n",
       "      <td>17.381980</td>\n",
       "      <td>14.272996</td>\n",
       "      <td>17.960968</td>\n",
       "    </tr>\n",
       "    <tr>\n",
       "      <th>2</th>\n",
       "      <td>0.50</td>\n",
       "      <td>1.000000</td>\n",
       "      <td>0.777778</td>\n",
       "      <td>0.592593</td>\n",
       "      <td>14.146846</td>\n",
       "      <td>16.100918</td>\n",
       "      <td>17.083743</td>\n",
       "    </tr>\n",
       "    <tr>\n",
       "      <th>3</th>\n",
       "      <td>0.75</td>\n",
       "      <td>0.925926</td>\n",
       "      <td>0.760000</td>\n",
       "      <td>0.720000</td>\n",
       "      <td>13.776429</td>\n",
       "      <td>20.943504</td>\n",
       "      <td>15.033801</td>\n",
       "    </tr>\n",
       "    <tr>\n",
       "      <th>4</th>\n",
       "      <td>1.00</td>\n",
       "      <td>0.888889</td>\n",
       "      <td>0.416667</td>\n",
       "      <td>0.916667</td>\n",
       "      <td>19.937163</td>\n",
       "      <td>25.995480</td>\n",
       "      <td>17.335520</td>\n",
       "    </tr>\n",
       "    <tr>\n",
       "      <th>5</th>\n",
       "      <td>1.25</td>\n",
       "      <td>0.592593</td>\n",
       "      <td>0.062500</td>\n",
       "      <td>1.000000</td>\n",
       "      <td>34.475195</td>\n",
       "      <td>23.987665</td>\n",
       "      <td>21.528502</td>\n",
       "    </tr>\n",
       "    <tr>\n",
       "      <th>6</th>\n",
       "      <td>1.50</td>\n",
       "      <td>0.111111</td>\n",
       "      <td>0.000000</td>\n",
       "      <td>1.000000</td>\n",
       "      <td>49.484124</td>\n",
       "      <td>23.674885</td>\n",
       "      <td>15.113092</td>\n",
       "    </tr>\n",
       "  </tbody>\n",
       "</table>\n",
       "</div>"
      ],
      "text/plain": [
       "   temperature  fractions_valid_smiles  ...  pi_pi_star_mae  n_pi_star_mae\n",
       "0         0.00                1.000000  ...       12.154209      18.700768\n",
       "1         0.25                1.000000  ...       14.272996      17.960968\n",
       "2         0.50                1.000000  ...       16.100918      17.083743\n",
       "3         0.75                0.925926  ...       20.943504      15.033801\n",
       "4         1.00                0.888889  ...       25.995480      17.335520\n",
       "5         1.25                0.592593  ...       23.987665      21.528502\n",
       "6         1.50                0.111111  ...       23.674885      15.113092\n",
       "\n",
       "[7 rows x 7 columns]"
      ]
     },
     "execution_count": 257,
     "metadata": {},
     "output_type": "execute_result"
    }
   ],
   "source": [
    "summarized_metrics_selfies"
   ]
  },
  {
   "cell_type": "code",
   "execution_count": 260,
   "metadata": {},
   "outputs": [
    {
     "name": "stdout",
     "output_type": "stream",
     "text": [
      "\\begin{tabular}{rrrrrrr}\n",
      "temperature & fractions_valid_smiles & fractions_smiles_in_train & unique_smiles & frechet_chemnet & pi_pi_star_mae & n_pi_star_mae \\\\\n",
      "0.00 & 1.00 & 1.00 & 0.07 & 22.29 & 12.15 & 18.70 \\\\\n",
      "0.25 & 1.00 & 0.96 & 0.22 & 17.38 & 14.27 & 17.96 \\\\\n",
      "0.50 & 1.00 & 0.78 & 0.59 & 14.15 & 16.10 & 17.08 \\\\\n",
      "0.75 & 0.93 & 0.76 & 0.72 & 13.78 & 20.94 & 15.03 \\\\\n",
      "1.00 & 0.89 & 0.42 & 0.92 & 19.94 & 26.00 & 17.34 \\\\\n",
      "1.25 & 0.59 & 0.06 & 1.00 & 34.48 & 23.99 & 21.53 \\\\\n",
      "1.50 & 0.11 & 0.00 & 1.00 & 49.48 & 23.67 & 15.11 \\\\\n",
      "\\end{tabular}\n",
      "\n"
     ]
    },
    {
     "name": "stderr",
     "output_type": "stream",
     "text": [
      "/var/folders/m9/_txh68y946s4pxy1x2wnd3lh0000gn/T/ipykernel_96029/4245264988.py:1: FutureWarning: this method is deprecated in favour of `Styler.hide(axis='index')`\n",
      "  print(summarized_metrics_selfies.style.format({c: \"{:.2f}\" for c in summarized_metrics_selfies.columns }).hide_index().to_latex())\n"
     ]
    }
   ],
   "source": [
    "print(summarized_metrics_selfies.style.format({c: \"{:.2f}\" for c in summarized_metrics_selfies.columns }).hide_index().to_latex())"
   ]
  },
  {
   "cell_type": "code",
   "execution_count": 261,
   "metadata": {},
   "outputs": [
    {
     "name": "stdout",
     "output_type": "stream",
     "text": [
      "\\begin{tabular}{rrrrrrr}\n",
      "temperature & fractions_valid_smiles & fractions_smiles_in_train & unique_smiles & frechet_chemnet & pi_pi_star_mae & n_pi_star_mae \\\\\n",
      "0.00 & 1.00 & 1.00 & 0.07 & 31.26 & 10.35 & 16.54 \\\\\n",
      "0.25 & 1.00 & 0.96 & 0.48 & 18.13 & 12.32 & 18.86 \\\\\n",
      "0.50 & 0.93 & 0.80 & 0.68 & 14.03 & 16.82 & 15.89 \\\\\n",
      "0.75 & 0.96 & 0.73 & 0.85 & 10.15 & 16.92 & 16.59 \\\\\n",
      "1.00 & 0.81 & 0.64 & 0.95 & 12.52 & 18.90 & 16.71 \\\\\n",
      "1.25 & 0.41 & 0.36 & 0.91 & 17.72 & 35.79 & 17.99 \\\\\n",
      "1.50 & 0.11 & 0.00 & 1.00 & 29.94 & 18.97 & 17.87 \\\\\n",
      "\\end{tabular}\n",
      "\n"
     ]
    },
    {
     "name": "stderr",
     "output_type": "stream",
     "text": [
      "/var/folders/m9/_txh68y946s4pxy1x2wnd3lh0000gn/T/ipykernel_96029/2853801541.py:1: FutureWarning: this method is deprecated in favour of `Styler.hide(axis='index')`\n",
      "  print(summarized_metrics_smiles.style.format({c: \"{:.2f}\" for c in summarized_metrics_smiles.columns}).hide_index().to_latex())\n"
     ]
    }
   ],
   "source": [
    "print(summarized_metrics_smiles.style.format({c: \"{:.2f}\" for c in summarized_metrics_smiles.columns}).hide_index().to_latex())"
   ]
  },
  {
   "cell_type": "markdown",
   "metadata": {},
   "source": [
    "## Now, let's try to exclude a part"
   ]
  },
  {
   "cell_type": "code",
   "execution_count": 262,
   "metadata": {},
   "outputs": [],
   "source": [
    "data_subset = data.dropna(subset=['E isomer pi-pi* wavelength in nm', 'E isomer n-pi* wavelength in nm'])"
   ]
  },
  {
   "cell_type": "code",
   "execution_count": 263,
   "metadata": {},
   "outputs": [
    {
     "name": "stderr",
     "output_type": "stream",
     "text": [
      "/Users/kevinmaikjablonka/miniconda3/envs/gpt3/lib/python3.9/site-packages/seaborn/_decorators.py:36: FutureWarning: Pass the following variables as keyword args: x, y. From version 0.12, the only valid positional argument will be `data`, and passing other arguments without an explicit keyword will result in an error or misinterpretation.\n",
      "  warnings.warn(\n"
     ]
    },
    {
     "data": {
      "text/plain": [
       "<seaborn.axisgrid.JointGrid at 0x30e833370>"
      ]
     },
     "execution_count": 263,
     "metadata": {},
     "output_type": "execute_result"
    },
    {
     "data": {
      "image/png": "[encoded data removed]",
      "text/plain": [
       "<Figure size 432x432 with 3 Axes>"
      ]
     },
     "metadata": {
      "needs_background": "light"
     },
     "output_type": "display_data"
    }
   ],
   "source": [
    "g = sns.jointplot('E isomer pi-pi* wavelength in nm', 'E isomer n-pi* wavelength in nm', data=data_subset)\n",
    "g.plot_joint(sns.kdeplot, zorder=0, levels=10)\n",
    "g.plot_marginals(sns.rugplot, height=.15, clip_on=False)"
   ]
  },
  {
   "cell_type": "code",
   "execution_count": 264,
   "metadata": {},
   "outputs": [
    {
     "data": {
      "text/plain": [
       "<AxesSubplot:>"
      ]
     },
     "execution_count": 264,
     "metadata": {},
     "output_type": "execute_result"
    },
    {
     "data": {
      "image/png": "[encoded data removed]",
      "text/plain": [
       "<Figure size 432x288 with 1 Axes>"
      ]
     },
     "metadata": {
      "needs_background": "light"
     },
     "output_type": "display_data"
    }
   ],
   "source": [
    "data_subset['E isomer pi-pi* wavelength in nm'].hist()"
   ]
  },
  {
   "cell_type": "code",
   "execution_count": 265,
   "metadata": {},
   "outputs": [
    {
     "data": {
      "text/plain": [
       "<AxesSubplot:>"
      ]
     },
     "execution_count": 265,
     "metadata": {},
     "output_type": "execute_result"
    },
    {
     "data": {
      "image/png": "[encoded data removed]",
      "text/plain": [
       "<Figure size 432x288 with 1 Axes>"
      ]
     },
     "metadata": {
      "needs_background": "light"
     },
     "output_type": "display_data"
    }
   ],
   "source": [
    "data_subset['E isomer n-pi* wavelength in nm'].hist()"
   ]
  },
  {
   "cell_type": "code",
   "execution_count": 300,
   "metadata": {},
   "outputs": [],
   "source": [
    "test_mask_hard = (data['E isomer pi-pi* wavelength in nm']   > 33) & (data['E isomer n-pi* wavelength in nm'] < 418) # tuned a bit to again get 100 train examples\n",
    "train_data_hard = data[~test_mask_hard]\n",
    "test_data_hard = data[test_mask_hard]"
   ]
  },
  {
   "cell_type": "code",
   "execution_count": 301,
   "metadata": {},
   "outputs": [
    {
     "data": {
      "text/plain": [
       "23"
      ]
     },
     "execution_count": 301,
     "metadata": {},
     "output_type": "execute_result"
    }
   ],
   "source": [
    "len(test_data_hard)"
   ]
  },
  {
   "cell_type": "code",
   "execution_count": 302,
   "metadata": {},
   "outputs": [
    {
     "data": {
      "text/plain": [
       "104"
      ]
     },
     "execution_count": 302,
     "metadata": {},
     "output_type": "execute_result"
    }
   ],
   "source": [
    "len(train_data_hard)"
   ]
  },
  {
   "cell_type": "code",
   "execution_count": 303,
   "metadata": {},
   "outputs": [],
   "source": [
    "train_prompts_smiles_hard = generate_inverse_photoswitch_prompts(train_data_hard, 'SMILES')\n",
    "test_prompts_smiles_hard = generate_inverse_photoswitch_prompts(test_data_hard, 'SMILES')\n",
    "\n",
    "train_prompts_selfies_hard = generate_inverse_photoswitch_prompts(train_df, 'selfies')\n",
    "test_prompts_selfies_hard = generate_inverse_photoswitch_prompts(test_df, 'selfies')\n",
    "\n",
    "train_smiles_hard = train_prompts_smiles_hard['completion'].apply(lambda x: x.split('@@@')[0])\n",
    "test_smiles_hard = test_prompts_smiles_hard['completion'].apply(lambda x: x.split('@@@')[0])\n",
    "train_prompts_smiles_hard['SMILES'] = train_smiles_hard\n",
    "test_prompts_smiles_hard['SMILES'] = test_smiles_hard\n",
    "\n",
    "train_prompts_selfies_hard['SMILES'] = train_smiles_hard\n",
    "test_prompts_selfies_hard['SMILES'] = test_smiles_hard"
   ]
  },
  {
   "cell_type": "code",
   "execution_count": 304,
   "metadata": {},
   "outputs": [
    {
     "name": "stderr",
     "output_type": "stream",
     "text": [
      "Traceback (most recent call last):\n",
      "  File \"/Users/kevinmaikjablonka/miniconda3/envs/gpt3/bin/openai\", line 8, in <module>\n",
      "    sys.exit(main())\n",
      "  File \"/Users/kevinmaikjablonka/miniconda3/envs/gpt3/lib/python3.9/site-packages/openai/_openai_scripts.py\", line 63, in main\n",
      "    args.func(args)\n",
      "  File \"/Users/kevinmaikjablonka/miniconda3/envs/gpt3/lib/python3.9/site-packages/openai/cli.py\", line 545, in sync\n",
      "    resp = openai.wandb_logger.WandbLogger.sync(\n",
      "  File \"/Users/kevinmaikjablonka/miniconda3/envs/gpt3/lib/python3.9/site-packages/openai/wandb_logger.py\", line 74, in sync\n",
      "    fine_tune_logged = [\n",
      "  File \"/Users/kevinmaikjablonka/miniconda3/envs/gpt3/lib/python3.9/site-packages/openai/wandb_logger.py\", line 75, in <listcomp>\n",
      "    cls._log_fine_tune(\n",
      "  File \"/Users/kevinmaikjablonka/miniconda3/envs/gpt3/lib/python3.9/site-packages/openai/wandb_logger.py\", line 125, in _log_fine_tune\n",
      "    wandb_run = cls._get_wandb_run(run_path)\n",
      "  File \"/Users/kevinmaikjablonka/miniconda3/envs/gpt3/lib/python3.9/site-packages/openai/wandb_logger.py\", line 190, in _get_wandb_run\n",
      "    cls._ensure_logged_in()\n",
      "  File \"/Users/kevinmaikjablonka/miniconda3/envs/gpt3/lib/python3.9/site-packages/openai/wandb_logger.py\", line 186, in _ensure_logged_in\n",
      "    raise Exception(\"You need to log in to wandb\")\n",
      "Exception: You need to log in to wandb\n"
     ]
    }
   ],
   "source": [
    "model_smiles_hard, train_filename_smiles_hard = train_inverse_model(train_data_hard, 'SMILES')"
   ]
  },
  {
   "cell_type": "code",
   "execution_count": 313,
   "metadata": {},
   "outputs": [
    {
     "name": "stdout",
     "output_type": "stream",
     "text": [
      "Testing temperature 0 for SMILES\n"
     ]
    },
    {
     "name": "stderr",
     "output_type": "stream",
     "text": [
      "2022-11-24 15:02:14.419 | DEBUG    | gpt3forchem.output:test_inverse_photoswitch:771 - Loaded predictions. Example: CC1=NOC(C)=C1/N=N/C2=CC(C(F)(F)F)=CC=C2\n",
      "2022-11-24 15:02:14.554 | INFO     | gpt3forchem.output:_load_chemnet:217 - Saved ChemNet model to '/var/folders/m9/_txh68y946s4pxy1x2wnd3lh0000gn/T/ChemNet_v0.13_pretrained.h5'\n",
      "/Users/kevinmaikjablonka/miniconda3/envs/gpt3/lib/python3.9/site-packages/fcd/FCD.py:194: UserWarning: `Model.predict_generator` is deprecated and will be removed in a future version. Please use `Model.predict`, which supports generators.\n",
      "  gen_mol_act = model.predict_generator(\n"
     ]
    },
    {
     "name": "stdout",
     "output_type": "stream",
     "text": [
      "Testing temperature 0.25 for SMILES\n"
     ]
    },
    {
     "name": "stderr",
     "output_type": "stream",
     "text": [
      "2022-11-24 15:02:54.991 | DEBUG    | gpt3forchem.output:test_inverse_photoswitch:771 - Loaded predictions. Example: CC1=C(C(C)=NN1)/N=N/C2=CC(C(F)(F)F)=CC=C2\n",
      "2022-11-24 15:02:55.090 | INFO     | gpt3forchem.output:_load_chemnet:217 - Saved ChemNet model to '/var/folders/m9/_txh68y946s4pxy1x2wnd3lh0000gn/T/ChemNet_v0.13_pretrained.h5'\n",
      "/Users/kevinmaikjablonka/miniconda3/envs/gpt3/lib/python3.9/site-packages/fcd/FCD.py:194: UserWarning: `Model.predict_generator` is deprecated and will be removed in a future version. Please use `Model.predict`, which supports generators.\n",
      "  gen_mol_act = model.predict_generator(\n"
     ]
    },
    {
     "name": "stdout",
     "output_type": "stream",
     "text": [
      "Testing temperature 0.5 for SMILES\n"
     ]
    },
    {
     "name": "stderr",
     "output_type": "stream",
     "text": [
      "2022-11-24 15:03:38.457 | DEBUG    | gpt3forchem.output:test_inverse_photoswitch:771 - Loaded predictions. Example: CC1=C(C(C)=NN1)/N=N/C2=CC(C(F)(F)F)=CC=C2\n",
      "2022-11-24 15:03:38.485 | INFO     | gpt3forchem.output:_load_chemnet:217 - Saved ChemNet model to '/var/folders/m9/_txh68y946s4pxy1x2wnd3lh0000gn/T/ChemNet_v0.13_pretrained.h5'\n",
      "/Users/kevinmaikjablonka/miniconda3/envs/gpt3/lib/python3.9/site-packages/fcd/FCD.py:194: UserWarning: `Model.predict_generator` is deprecated and will be removed in a future version. Please use `Model.predict`, which supports generators.\n",
      "  gen_mol_act = model.predict_generator(\n"
     ]
    },
    {
     "name": "stdout",
     "output_type": "stream",
     "text": [
      "Testing temperature 0.75 for SMILES\n"
     ]
    },
    {
     "name": "stderr",
     "output_type": "stream",
     "text": [
      "2022-11-24 15:04:13.896 | DEBUG    | gpt3forchem.output:test_inverse_photoswitch:771 - Loaded predictions. Example: CC1=C(/N=N/C2=CC=CN=C2)C=NC=C1\n",
      "2022-11-24 15:04:13.930 | INFO     | gpt3forchem.output:_load_chemnet:217 - Saved ChemNet model to '/var/folders/m9/_txh68y946s4pxy1x2wnd3lh0000gn/T/ChemNet_v0.13_pretrained.h5'\n",
      "/Users/kevinmaikjablonka/miniconda3/envs/gpt3/lib/python3.9/site-packages/fcd/FCD.py:194: UserWarning: `Model.predict_generator` is deprecated and will be removed in a future version. Please use `Model.predict`, which supports generators.\n",
      "  gen_mol_act = model.predict_generator(\n"
     ]
    },
    {
     "name": "stdout",
     "output_type": "stream",
     "text": [
      "Testing temperature 1.0 for SMILES\n"
     ]
    },
    {
     "name": "stderr",
     "output_type": "stream",
     "text": [
      "2022-11-24 15:04:46.147 | DEBUG    | gpt3forchem.output:test_inverse_photoswitch:771 - Loaded predictions. Example: CC1=C(/N=N/C2=CC=CC=C2)C=NC=C1\n",
      "2022-11-24 15:04:46.182 | INFO     | gpt3forchem.output:_load_chemnet:217 - Saved ChemNet model to '/var/folders/m9/_txh68y946s4pxy1x2wnd3lh0000gn/T/ChemNet_v0.13_pretrained.h5'\n",
      "/Users/kevinmaikjablonka/miniconda3/envs/gpt3/lib/python3.9/site-packages/fcd/FCD.py:194: UserWarning: `Model.predict_generator` is deprecated and will be removed in a future version. Please use `Model.predict`, which supports generators.\n",
      "  gen_mol_act = model.predict_generator(\n"
     ]
    },
    {
     "name": "stdout",
     "output_type": "stream",
     "text": [
      "Testing temperature 1.25 for SMILES\n"
     ]
    },
    {
     "name": "stderr",
     "output_type": "stream",
     "text": [
      "2022-11-24 15:05:15.315 | DEBUG    | gpt3forchem.output:test_inverse_photoswitch:771 - Loaded predictions. Example: CC1C(C(OCC)=O)=CC=C(/N=N/C2=CC=Cat)C=C1\n",
      "2022-11-24 15:05:15.356 | INFO     | gpt3forchem.output:_load_chemnet:217 - Saved ChemNet model to '/var/folders/m9/_txh68y946s4pxy1x2wnd3lh0000gn/T/ChemNet_v0.13_pretrained.h5'\n",
      "/Users/kevinmaikjablonka/miniconda3/envs/gpt3/lib/python3.9/site-packages/fcd/FCD.py:194: UserWarning: `Model.predict_generator` is deprecated and will be removed in a future version. Please use `Model.predict`, which supports generators.\n",
      "  gen_mol_act = model.predict_generator(\n"
     ]
    },
    {
     "name": "stdout",
     "output_type": "stream",
     "text": [
      "Testing temperature 1.5 for SMILES\n"
     ]
    },
    {
     "name": "stderr",
     "output_type": "stream",
     "text": [
      "2022-11-24 15:05:39.488 | DEBUG    | gpt3forchem.output:test_inverse_photoswitch:771 - Loaded predictions. Example: TB(velength=F)(C=F){C1=CC=CC=C1/N=N/C2=CC=CC=C2FOC?\n",
      "2022-11-24 15:05:39.515 | INFO     | gpt3forchem.output:_load_chemnet:217 - Saved ChemNet model to '/var/folders/m9/_txh68y946s4pxy1x2wnd3lh0000gn/T/ChemNet_v0.13_pretrained.h5'\n",
      "/Users/kevinmaikjablonka/miniconda3/envs/gpt3/lib/python3.9/site-packages/fcd/FCD.py:194: UserWarning: `Model.predict_generator` is deprecated and will be removed in a future version. Please use `Model.predict`, which supports generators.\n",
      "  gen_mol_act = model.predict_generator(\n",
      "/Users/kevinmaikjablonka/git/kjappelbaum/gpt3forchem/gpt3forchem/output.py:238: RuntimeWarning: Degrees of freedom <= 0 for slice\n",
      "  cov = np.cov(gen_mol_act.T)\n",
      "/Users/kevinmaikjablonka/miniconda3/envs/gpt3/lib/python3.9/site-packages/numpy/lib/function_base.py:2704: RuntimeWarning: divide by zero encountered in divide\n",
      "  c *= np.true_divide(1, fact)\n",
      "/Users/kevinmaikjablonka/miniconda3/envs/gpt3/lib/python3.9/site-packages/numpy/lib/function_base.py:2704: RuntimeWarning: invalid value encountered in multiply\n",
      "  c *= np.true_divide(1, fact)\n",
      "/Users/kevinmaikjablonka/miniconda3/envs/gpt3/lib/python3.9/site-packages/sklearn/metrics/_regression.py:918: UndefinedMetricWarning: R^2 score is not well-defined with less than two samples.\n",
      "  warnings.warn(msg, UndefinedMetricWarning)\n",
      "/Users/kevinmaikjablonka/miniconda3/envs/gpt3/lib/python3.9/site-packages/sklearn/metrics/_regression.py:918: UndefinedMetricWarning: R^2 score is not well-defined with less than two samples.\n",
      "  warnings.warn(msg, UndefinedMetricWarning)\n"
     ]
    }
   ],
   "source": [
    "results_smiles_hard = test_inverse_model(model_smiles_hard, test_prompts_smiles_hard, train_prompts_smiles_hard, representation='SMILES')"
   ]
  },
  {
   "cell_type": "code",
   "execution_count": 316,
   "metadata": {},
   "outputs": [
    {
     "name": "stdout",
     "output_type": "stream",
     "text": [
      "'float' object is not subscriptable\n"
     ]
    }
   ],
   "source": [
    "summarized_metrics_smiles_hard = []\n",
    "\n",
    "for metric in results_smiles_hard:\n",
    "    try:\n",
    "        res = {\n",
    "            'temperature': metric['meta']['temperature'],\n",
    "            'fractions_valid_smiles': metric['fractions_valid_smiles'],\n",
    "            'fractions_smiles_in_train': metric['fractions_smiles_in_train'],\n",
    "            'unique_smiles': metric['unique_smiles'],\n",
    "            'frechet_chemnet': metric['frechet_chemnet'][0],\n",
    "            'pi_pi_star_mae': metric['pi_pi_star_metrics']['mean_absolute_error'],\n",
    "            'n_pi_star_mae': metric['n_pi_star_metrics']['mean_absolute_error'],\n",
    "        }\n",
    "        summarized_metrics_smiles_hard.append(res)\n",
    "    except Exception as e:\n",
    "        print(e)\n",
    "        pass"
   ]
  },
  {
   "cell_type": "code",
   "execution_count": 317,
   "metadata": {},
   "outputs": [],
   "source": [
    "summarized_metrics_smiles_hard = pd.DataFrame(summarized_metrics_smiles_hard)"
   ]
  },
  {
   "cell_type": "code",
   "execution_count": 318,
   "metadata": {},
   "outputs": [
    {
     "data": {
      "text/html": [
       "<div>\n",
       "<style scoped>\n",
       "    .dataframe tbody tr th:only-of-type {\n",
       "        vertical-align: middle;\n",
       "    }\n",
       "\n",
       "    .dataframe tbody tr th {\n",
       "        vertical-align: top;\n",
       "    }\n",
       "\n",
       "    .dataframe thead th {\n",
       "        text-align: right;\n",
       "    }\n",
       "</style>\n",
       "<table border=\"1\" class=\"dataframe\">\n",
       "  <thead>\n",
       "    <tr style=\"text-align: right;\">\n",
       "      <th></th>\n",
       "      <th>temperature</th>\n",
       "      <th>fractions_valid_smiles</th>\n",
       "      <th>fractions_smiles_in_train</th>\n",
       "      <th>unique_smiles</th>\n",
       "      <th>frechet_chemnet</th>\n",
       "      <th>pi_pi_star_mae</th>\n",
       "      <th>n_pi_star_mae</th>\n",
       "    </tr>\n",
       "  </thead>\n",
       "  <tbody>\n",
       "    <tr>\n",
       "      <th>0</th>\n",
       "      <td>0.00</td>\n",
       "      <td>1.000000</td>\n",
       "      <td>1.000000</td>\n",
       "      <td>0.043478</td>\n",
       "      <td>39.235189</td>\n",
       "      <td>23.205296</td>\n",
       "      <td>10.792123</td>\n",
       "    </tr>\n",
       "    <tr>\n",
       "      <th>1</th>\n",
       "      <td>0.25</td>\n",
       "      <td>1.000000</td>\n",
       "      <td>1.000000</td>\n",
       "      <td>0.304348</td>\n",
       "      <td>17.735503</td>\n",
       "      <td>19.892982</td>\n",
       "      <td>16.141966</td>\n",
       "    </tr>\n",
       "    <tr>\n",
       "      <th>2</th>\n",
       "      <td>0.50</td>\n",
       "      <td>1.000000</td>\n",
       "      <td>0.869565</td>\n",
       "      <td>0.695652</td>\n",
       "      <td>15.898052</td>\n",
       "      <td>20.169941</td>\n",
       "      <td>14.506838</td>\n",
       "    </tr>\n",
       "    <tr>\n",
       "      <th>3</th>\n",
       "      <td>0.75</td>\n",
       "      <td>0.913043</td>\n",
       "      <td>0.666667</td>\n",
       "      <td>0.904762</td>\n",
       "      <td>9.474801</td>\n",
       "      <td>18.673824</td>\n",
       "      <td>22.630928</td>\n",
       "    </tr>\n",
       "    <tr>\n",
       "      <th>4</th>\n",
       "      <td>1.00</td>\n",
       "      <td>0.782609</td>\n",
       "      <td>0.222222</td>\n",
       "      <td>1.000000</td>\n",
       "      <td>14.653805</td>\n",
       "      <td>12.255053</td>\n",
       "      <td>31.298962</td>\n",
       "    </tr>\n",
       "    <tr>\n",
       "      <th>5</th>\n",
       "      <td>1.25</td>\n",
       "      <td>0.434783</td>\n",
       "      <td>0.500000</td>\n",
       "      <td>1.000000</td>\n",
       "      <td>16.453481</td>\n",
       "      <td>20.631294</td>\n",
       "      <td>22.504026</td>\n",
       "    </tr>\n",
       "  </tbody>\n",
       "</table>\n",
       "</div>"
      ],
      "text/plain": [
       "   temperature  fractions_valid_smiles  ...  pi_pi_star_mae  n_pi_star_mae\n",
       "0         0.00                1.000000  ...       23.205296      10.792123\n",
       "1         0.25                1.000000  ...       19.892982      16.141966\n",
       "2         0.50                1.000000  ...       20.169941      14.506838\n",
       "3         0.75                0.913043  ...       18.673824      22.630928\n",
       "4         1.00                0.782609  ...       12.255053      31.298962\n",
       "5         1.25                0.434783  ...       20.631294      22.504026\n",
       "\n",
       "[6 rows x 7 columns]"
      ]
     },
     "execution_count": 318,
     "metadata": {},
     "output_type": "execute_result"
    }
   ],
   "source": [
    "summarized_metrics_smiles_hard"
   ]
  },
  {
   "cell_type": "code",
   "execution_count": 319,
   "metadata": {},
   "outputs": [
    {
     "name": "stderr",
     "output_type": "stream",
     "text": [
      "Traceback (most recent call last):\n",
      "  File \"/Users/kevinmaikjablonka/miniconda3/envs/gpt3/bin/openai\", line 8, in <module>\n",
      "    sys.exit(main())\n",
      "  File \"/Users/kevinmaikjablonka/miniconda3/envs/gpt3/lib/python3.9/site-packages/openai/_openai_scripts.py\", line 63, in main\n",
      "    args.func(args)\n",
      "  File \"/Users/kevinmaikjablonka/miniconda3/envs/gpt3/lib/python3.9/site-packages/openai/cli.py\", line 545, in sync\n",
      "    resp = openai.wandb_logger.WandbLogger.sync(\n",
      "  File \"/Users/kevinmaikjablonka/miniconda3/envs/gpt3/lib/python3.9/site-packages/openai/wandb_logger.py\", line 74, in sync\n",
      "    fine_tune_logged = [\n",
      "  File \"/Users/kevinmaikjablonka/miniconda3/envs/gpt3/lib/python3.9/site-packages/openai/wandb_logger.py\", line 75, in <listcomp>\n",
      "    cls._log_fine_tune(\n",
      "  File \"/Users/kevinmaikjablonka/miniconda3/envs/gpt3/lib/python3.9/site-packages/openai/wandb_logger.py\", line 125, in _log_fine_tune\n",
      "    wandb_run = cls._get_wandb_run(run_path)\n",
      "  File \"/Users/kevinmaikjablonka/miniconda3/envs/gpt3/lib/python3.9/site-packages/openai/wandb_logger.py\", line 190, in _get_wandb_run\n",
      "    cls._ensure_logged_in()\n",
      "  File \"/Users/kevinmaikjablonka/miniconda3/envs/gpt3/lib/python3.9/site-packages/openai/wandb_logger.py\", line 186, in _ensure_logged_in\n",
      "    raise Exception(\"You need to log in to wandb\")\n",
      "Exception: You need to log in to wandb\n"
     ]
    }
   ],
   "source": [
    "model_selfies_hard, train_filename_selfies_hard = train_inverse_model(train_data_hard, 'selfies')"
   ]
  },
  {
   "cell_type": "code",
   "execution_count": 321,
   "metadata": {},
   "outputs": [
    {
     "name": "stdout",
     "output_type": "stream",
     "text": [
      "Testing temperature 0 for selfies\n"
     ]
    },
    {
     "name": "stderr",
     "output_type": "stream",
     "text": [
      "2022-11-25 09:59:45.535 | DEBUG    | gpt3forchem.output:test_inverse_photoswitch:771 - Loaded predictions. Example: CC1=C(C(C)=NN1)/N=N/C2=CC(F)=CC=C2\n",
      "2022-11-25 09:59:45.563 | INFO     | gpt3forchem.output:_load_chemnet:217 - Saved ChemNet model to '/var/folders/m9/_txh68y946s4pxy1x2wnd3lh0000gn/T/ChemNet_v0.13_pretrained.h5'\n",
      "/Users/kevinmaikjablonka/miniconda3/envs/gpt3/lib/python3.9/site-packages/fcd/FCD.py:194: UserWarning: `Model.predict_generator` is deprecated and will be removed in a future version. Please use `Model.predict`, which supports generators.\n",
      "  gen_mol_act = model.predict_generator(\n"
     ]
    },
    {
     "name": "stdout",
     "output_type": "stream",
     "text": [
      "Testing temperature 0.25 for selfies\n"
     ]
    },
    {
     "name": "stderr",
     "output_type": "stream",
     "text": [
      "2022-11-25 10:00:25.217 | DEBUG    | gpt3forchem.output:test_inverse_photoswitch:771 - Loaded predictions. Example: CC1=C(C(C)=NN1)/N=N/C2=CC(F)=CC=C2\n",
      "2022-11-25 10:00:25.238 | INFO     | gpt3forchem.output:_load_chemnet:217 - Saved ChemNet model to '/var/folders/m9/_txh68y946s4pxy1x2wnd3lh0000gn/T/ChemNet_v0.13_pretrained.h5'\n",
      "/Users/kevinmaikjablonka/miniconda3/envs/gpt3/lib/python3.9/site-packages/fcd/FCD.py:194: UserWarning: `Model.predict_generator` is deprecated and will be removed in a future version. Please use `Model.predict`, which supports generators.\n",
      "  gen_mol_act = model.predict_generator(\n"
     ]
    },
    {
     "name": "stdout",
     "output_type": "stream",
     "text": [
      "Testing temperature 0.5 for selfies\n"
     ]
    },
    {
     "name": "stderr",
     "output_type": "stream",
     "text": [
      "2022-11-25 10:01:03.136 | DEBUG    | gpt3forchem.output:test_inverse_photoswitch:771 - Loaded predictions. Example: CC1=NOC(C)=C1/N=N/C2=CC(F)=CC=C2\n",
      "2022-11-25 10:01:03.157 | INFO     | gpt3forchem.output:_load_chemnet:217 - Saved ChemNet model to '/var/folders/m9/_txh68y946s4pxy1x2wnd3lh0000gn/T/ChemNet_v0.13_pretrained.h5'\n",
      "/Users/kevinmaikjablonka/miniconda3/envs/gpt3/lib/python3.9/site-packages/fcd/FCD.py:194: UserWarning: `Model.predict_generator` is deprecated and will be removed in a future version. Please use `Model.predict`, which supports generators.\n",
      "  gen_mol_act = model.predict_generator(\n"
     ]
    },
    {
     "name": "stdout",
     "output_type": "stream",
     "text": [
      "Testing temperature 0.75 for selfies\n"
     ]
    },
    {
     "name": "stderr",
     "output_type": "stream",
     "text": [
      "2022-11-25 10:01:41.965 | DEBUG    | gpt3forchem.output:test_inverse_photoswitch:771 - Loaded predictions. Example: CC=C(/N=N/C1=CC=C(F)C=C1F)C=CC=C\n",
      "2022-11-25 10:01:41.996 | INFO     | gpt3forchem.output:_load_chemnet:217 - Saved ChemNet model to '/var/folders/m9/_txh68y946s4pxy1x2wnd3lh0000gn/T/ChemNet_v0.13_pretrained.h5'\n",
      "/Users/kevinmaikjablonka/miniconda3/envs/gpt3/lib/python3.9/site-packages/fcd/FCD.py:194: UserWarning: `Model.predict_generator` is deprecated and will be removed in a future version. Please use `Model.predict`, which supports generators.\n",
      "  gen_mol_act = model.predict_generator(\n"
     ]
    },
    {
     "name": "stdout",
     "output_type": "stream",
     "text": [
      "Testing temperature 1.0 for selfies\n"
     ]
    },
    {
     "name": "stderr",
     "output_type": "stream",
     "text": [
      "2022-11-25 10:02:32.272 | DEBUG    | gpt3forchem.output:test_inverse_photoswitch:771 - Loaded predictions. Example: CC1=C(/N=N/C=CC(O)=CS)CCS=NC=C1C\n",
      "2022-11-25 10:02:32.293 | INFO     | gpt3forchem.output:_load_chemnet:217 - Saved ChemNet model to '/var/folders/m9/_txh68y946s4pxy1x2wnd3lh0000gn/T/ChemNet_v0.13_pretrained.h5'\n",
      "/Users/kevinmaikjablonka/miniconda3/envs/gpt3/lib/python3.9/site-packages/fcd/FCD.py:194: UserWarning: `Model.predict_generator` is deprecated and will be removed in a future version. Please use `Model.predict`, which supports generators.\n",
      "  gen_mol_act = model.predict_generator(\n"
     ]
    },
    {
     "name": "stdout",
     "output_type": "stream",
     "text": [
      "Testing temperature 1.25 for selfies\n"
     ]
    },
    {
     "name": "stderr",
     "output_type": "stream",
     "text": [
      "2022-11-25 10:03:10.633 | DEBUG    | gpt3forchem.output:test_inverse_photoswitch:771 - Loaded predictions. Example: CC1=C(C(C)=NN1)/N=N/C=CCC=C\n",
      "2022-11-25 10:03:10.657 | INFO     | gpt3forchem.output:_load_chemnet:217 - Saved ChemNet model to '/var/folders/m9/_txh68y946s4pxy1x2wnd3lh0000gn/T/ChemNet_v0.13_pretrained.h5'\n",
      "/Users/kevinmaikjablonka/miniconda3/envs/gpt3/lib/python3.9/site-packages/fcd/FCD.py:194: UserWarning: `Model.predict_generator` is deprecated and will be removed in a future version. Please use `Model.predict`, which supports generators.\n",
      "  gen_mol_act = model.predict_generator(\n"
     ]
    },
    {
     "name": "stdout",
     "output_type": "stream",
     "text": [
      "Testing temperature 1.5 for selfies\n"
     ]
    },
    {
     "name": "stderr",
     "output_type": "stream",
     "text": [
      "2022-11-25 10:03:41.477 | DEBUG    | gpt3forchem.output:test_inverse_photoswitch:771 - Loaded predictions. Example: [Cl][C][=C][Branch1][Branch1][=N][/N][=N][/C][=C][C][=C][C][Branch1][C][Cl][=C][Ring1][)[C][=C][Cap1][=C][C]\n",
      "2022-11-25 10:03:41.510 | INFO     | gpt3forchem.output:_load_chemnet:217 - Saved ChemNet model to '/var/folders/m9/_txh68y946s4pxy1x2wnd3lh0000gn/T/ChemNet_v0.13_pretrained.h5'\n",
      "/Users/kevinmaikjablonka/miniconda3/envs/gpt3/lib/python3.9/site-packages/fcd/FCD.py:194: UserWarning: `Model.predict_generator` is deprecated and will be removed in a future version. Please use `Model.predict`, which supports generators.\n",
      "  gen_mol_act = model.predict_generator(\n",
      "/Users/kevinmaikjablonka/miniconda3/envs/gpt3/lib/python3.9/site-packages/numpy/lib/histograms.py:906: RuntimeWarning: invalid value encountered in divide\n",
      "  return n/db/n.sum(), bin_edges\n"
     ]
    }
   ],
   "source": [
    "results_selfies_hard = test_inverse_model(model_selfies_hard, test_prompts_selfies_hard, train_prompts_selfies_hard, representation='selfies')"
   ]
  },
  {
   "cell_type": "code",
   "execution_count": 324,
   "metadata": {},
   "outputs": [
    {
     "name": "stdout",
     "output_type": "stream",
     "text": [
      "'float' object is not subscriptable\n"
     ]
    }
   ],
   "source": [
    "summarized_metrics_seflies_hard = []\n",
    "\n",
    "for metric in results_selfies_hard:\n",
    "    try:\n",
    "        res = {\n",
    "            'temperature': metric['meta']['temperature'],\n",
    "            'fractions_valid_smiles': metric['fractions_valid_smiles'],\n",
    "            'fractions_smiles_in_train': metric['fractions_smiles_in_train'],\n",
    "            'unique_smiles': metric['unique_smiles'],\n",
    "            'frechet_chemnet': metric['frechet_chemnet'][0],\n",
    "            'pi_pi_star_mae': metric['pi_pi_star_metrics']['mean_absolute_error'],\n",
    "            'n_pi_star_mae': metric['n_pi_star_metrics']['mean_absolute_error'],\n",
    "        }\n",
    "        summarized_metrics_seflies_hard.append(res)\n",
    "    except Exception as e:\n",
    "        print(e)\n",
    "        pass\n",
    "\n",
    "summarized_metrics_seflies_hard = pd.DataFrame(summarized_metrics_seflies_hard)"
   ]
  },
  {
   "cell_type": "code",
   "execution_count": 325,
   "metadata": {},
   "outputs": [
    {
     "data": {
      "text/html": [
       "<div>\n",
       "<style scoped>\n",
       "    .dataframe tbody tr th:only-of-type {\n",
       "        vertical-align: middle;\n",
       "    }\n",
       "\n",
       "    .dataframe tbody tr th {\n",
       "        vertical-align: top;\n",
       "    }\n",
       "\n",
       "    .dataframe thead th {\n",
       "        text-align: right;\n",
       "    }\n",
       "</style>\n",
       "<table border=\"1\" class=\"dataframe\">\n",
       "  <thead>\n",
       "    <tr style=\"text-align: right;\">\n",
       "      <th></th>\n",
       "      <th>temperature</th>\n",
       "      <th>fractions_valid_smiles</th>\n",
       "      <th>fractions_smiles_in_train</th>\n",
       "      <th>unique_smiles</th>\n",
       "      <th>frechet_chemnet</th>\n",
       "      <th>pi_pi_star_mae</th>\n",
       "      <th>n_pi_star_mae</th>\n",
       "    </tr>\n",
       "  </thead>\n",
       "  <tbody>\n",
       "    <tr>\n",
       "      <th>0</th>\n",
       "      <td>0.00</td>\n",
       "      <td>1.000000</td>\n",
       "      <td>0.000000</td>\n",
       "      <td>0.037037</td>\n",
       "      <td>29.540679</td>\n",
       "      <td>10.027289</td>\n",
       "      <td>19.634239</td>\n",
       "    </tr>\n",
       "    <tr>\n",
       "      <th>1</th>\n",
       "      <td>0.25</td>\n",
       "      <td>1.000000</td>\n",
       "      <td>0.555556</td>\n",
       "      <td>0.333333</td>\n",
       "      <td>23.184642</td>\n",
       "      <td>13.117716</td>\n",
       "      <td>17.950243</td>\n",
       "    </tr>\n",
       "    <tr>\n",
       "      <th>2</th>\n",
       "      <td>0.50</td>\n",
       "      <td>1.000000</td>\n",
       "      <td>0.703704</td>\n",
       "      <td>0.592593</td>\n",
       "      <td>13.441982</td>\n",
       "      <td>15.978484</td>\n",
       "      <td>16.525245</td>\n",
       "    </tr>\n",
       "    <tr>\n",
       "      <th>3</th>\n",
       "      <td>0.75</td>\n",
       "      <td>0.962963</td>\n",
       "      <td>0.384615</td>\n",
       "      <td>0.807692</td>\n",
       "      <td>15.296248</td>\n",
       "      <td>12.086494</td>\n",
       "      <td>17.558458</td>\n",
       "    </tr>\n",
       "    <tr>\n",
       "      <th>4</th>\n",
       "      <td>1.00</td>\n",
       "      <td>1.000000</td>\n",
       "      <td>0.111111</td>\n",
       "      <td>1.000000</td>\n",
       "      <td>21.514822</td>\n",
       "      <td>25.507687</td>\n",
       "      <td>14.630626</td>\n",
       "    </tr>\n",
       "    <tr>\n",
       "      <th>5</th>\n",
       "      <td>1.25</td>\n",
       "      <td>0.444444</td>\n",
       "      <td>0.000000</td>\n",
       "      <td>1.000000</td>\n",
       "      <td>31.525970</td>\n",
       "      <td>34.722090</td>\n",
       "      <td>13.892576</td>\n",
       "    </tr>\n",
       "  </tbody>\n",
       "</table>\n",
       "</div>"
      ],
      "text/plain": [
       "   temperature  fractions_valid_smiles  ...  pi_pi_star_mae  n_pi_star_mae\n",
       "0         0.00                1.000000  ...       10.027289      19.634239\n",
       "1         0.25                1.000000  ...       13.117716      17.950243\n",
       "2         0.50                1.000000  ...       15.978484      16.525245\n",
       "3         0.75                0.962963  ...       12.086494      17.558458\n",
       "4         1.00                1.000000  ...       25.507687      14.630626\n",
       "5         1.25                0.444444  ...       34.722090      13.892576\n",
       "\n",
       "[6 rows x 7 columns]"
      ]
     },
     "execution_count": 325,
     "metadata": {},
     "output_type": "execute_result"
    }
   ],
   "source": [
    "summarized_metrics_seflies_hard"
   ]
  },
  {
   "cell_type": "code",
   "execution_count": 326,
   "metadata": {},
   "outputs": [
    {
     "name": "stdout",
     "output_type": "stream",
     "text": [
      "\\begin{tabular}{rrrrrrr}\n",
      "temperature & fractions_valid_smiles & fractions_smiles_in_train & unique_smiles & frechet_chemnet & pi_pi_star_mae & n_pi_star_mae \\\\\n",
      "0.00 & 1.00 & 1.00 & 0.04 & 39.24 & 23.21 & 10.79 \\\\\n",
      "0.25 & 1.00 & 1.00 & 0.30 & 17.74 & 19.89 & 16.14 \\\\\n",
      "0.50 & 1.00 & 0.87 & 0.70 & 15.90 & 20.17 & 14.51 \\\\\n",
      "0.75 & 0.91 & 0.67 & 0.90 & 9.47 & 18.67 & 22.63 \\\\\n",
      "1.00 & 0.78 & 0.22 & 1.00 & 14.65 & 12.26 & 31.30 \\\\\n",
      "1.25 & 0.43 & 0.50 & 1.00 & 16.45 & 20.63 & 22.50 \\\\\n",
      "\\end{tabular}\n",
      "\n"
     ]
    },
    {
     "name": "stderr",
     "output_type": "stream",
     "text": [
      "/var/folders/m9/_txh68y946s4pxy1x2wnd3lh0000gn/T/ipykernel_96029/2843188943.py:1: FutureWarning: this method is deprecated in favour of `Styler.hide(axis='index')`\n",
      "  print(summarized_metrics_smiles_hard.style.format({c: \"{:.2f}\" for c in summarized_metrics_smiles_hard.columns}).hide_index().to_latex())\n"
     ]
    }
   ],
   "source": [
    "print(summarized_metrics_smiles_hard.style.format({c: \"{:.2f}\" for c in summarized_metrics_smiles_hard.columns}).hide_index().to_latex())"
   ]
  },
  {
   "cell_type": "code",
   "execution_count": 328,
   "metadata": {},
   "outputs": [
    {
     "name": "stdout",
     "output_type": "stream",
     "text": [
      "\\begin{tabular}{rrrrrrr}\n",
      "temperature & fractions_valid_smiles & fractions_smiles_in_train & unique_smiles & frechet_chemnet & pi_pi_star_mae & n_pi_star_mae \\\\\n",
      "0.00 & 1.00 & 0.00 & 0.04 & 29.54 & 10.03 & 19.63 \\\\\n",
      "0.25 & 1.00 & 0.56 & 0.33 & 23.18 & 13.12 & 17.95 \\\\\n",
      "0.50 & 1.00 & 0.70 & 0.59 & 13.44 & 15.98 & 16.53 \\\\\n",
      "0.75 & 0.96 & 0.38 & 0.81 & 15.30 & 12.09 & 17.56 \\\\\n",
      "1.00 & 1.00 & 0.11 & 1.00 & 21.51 & 25.51 & 14.63 \\\\\n",
      "1.25 & 0.44 & 0.00 & 1.00 & 31.53 & 34.72 & 13.89 \\\\\n",
      "\\end{tabular}\n",
      "\n"
     ]
    },
    {
     "name": "stderr",
     "output_type": "stream",
     "text": [
      "/var/folders/m9/_txh68y946s4pxy1x2wnd3lh0000gn/T/ipykernel_96029/2378457989.py:1: FutureWarning: this method is deprecated in favour of `Styler.hide(axis='index')`\n",
      "  print(summarized_metrics_seflies_hard.style.format({c: \"{:.2f}\" for c in summarized_metrics_seflies_hard.columns}).hide_index().to_latex())\n"
     ]
    }
   ],
   "source": [
    "print(summarized_metrics_seflies_hard.style.format({c: \"{:.2f}\" for c in summarized_metrics_seflies_hard.columns}).hide_index().to_latex())"
   ]
  },
  {
   "cell_type": "code",
   "execution_count": 342,
   "metadata": {},
   "outputs": [
    {
     "data": {
      "image/png": "[encoded data removed]",
      "text/plain": [
       "<Figure size 360x216 with 1 Axes>"
      ]
     },
     "metadata": {
      "needs_background": "light"
     },
     "output_type": "display_data"
    }
   ],
   "source": [
    "fig, ax = plt.subplots(figsize=(5, 3))\n",
    "\n",
    "ax.plot(summarized_metrics_smiles['temperature'], summarized_metrics_smiles['frechet_chemnet'], label='SMILES')\n",
    "\n",
    "ax.plot(summarized_metrics_selfies['temperature'], summarized_metrics_selfies['frechet_chemnet'], label='SELFIES')\n",
    "\n",
    "\n",
    "ax.plot(summarized_metrics_smiles_hard['temperature'], summarized_metrics_smiles_hard['frechet_chemnet'], label='SMILES extrapolation')\n",
    "\n",
    "ax.plot(summarized_metrics_seflies_hard['temperature'], summarized_metrics_seflies_hard['frechet_chemnet'], label='SELFIES extrapolation')\n",
    "\n",
    "ax.legend()\n",
    "\n",
    "ax.set_xlabel('temperature')\n",
    "ax.set_ylabel('Frechet ChemNet distance')\n",
    "\n",
    "fig.tight_layout()\n",
    "fig.savefig('frechet_chemnet_photoswitch.pdf', bbox_inches='tight')"
   ]
  },
  {
   "cell_type": "code",
   "execution_count": null,
   "metadata": {},
   "outputs": [],
   "source": []
  }
 ],
 "metadata": {
  "kernelspec": {
   "display_name": "Python 3.9.13 ('gpt3')",
   "language": "python",
   "name": "python3"
  },
  "language_info": {
   "codemirror_mode": {
    "name": "ipython",
    "version": 3
   },
   "file_extension": ".py",
   "mimetype": "text/x-python",
   "name": "python",
   "nbconvert_exporter": "python",
   "pygments_lexer": "ipython3",
   "version": "3.9.13"
  },
  "orig_nbformat": 4,
  "vscode": {
   "interpreter": {
    "hash": "9a4fa60962de90e73b5da8d67a44b01d2de04630d82b94b8db1f727a73d31e61"
   }
  }
 },
 "nbformat": 4,
 "nbformat_minor": 2
}
