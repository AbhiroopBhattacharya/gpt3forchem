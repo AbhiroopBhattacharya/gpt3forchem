{
 "cells": [
  {
   "cell_type": "code",
   "execution_count": 1,
   "metadata": {},
   "outputs": [],
   "source": [
    "%load_ext autoreload\n",
    "%autoreload 2"
   ]
  },
  {
   "cell_type": "code",
   "execution_count": 81,
   "metadata": {},
   "outputs": [],
   "source": [
    "from gpt3forchem.data import get_bandgap_data\n",
    "from gpt3forchem.api_wrappers import fine_tune, query_gpt3, extract_inverse_prediction\n",
    "import pandas as pd\n",
    "import numpy as np\n",
    "from sklearn.model_selection import train_test_split\n",
    "import time\n",
    "\n",
    "from fastcore.helpers import save_pickle\n",
    "import matplotlib.pyplot as plt\n",
    "\n",
    "from sklearn.metrics import mean_squared_error, r2_score, mean_absolute_error"
   ]
  },
  {
   "cell_type": "code",
   "execution_count": 3,
   "metadata": {},
   "outputs": [],
   "source": [
    "data = get_bandgap_data()"
   ]
  },
  {
   "cell_type": "code",
   "execution_count": 4,
   "metadata": {},
   "outputs": [],
   "source": [
    "train_data_small, test_data_small = train_test_split(\n",
    "    data, train_size=500, test_size=100, random_state=42\n",
    ")"
   ]
  },
  {
   "cell_type": "code",
   "execution_count": 5,
   "metadata": {},
   "outputs": [],
   "source": [
    "smiles_selfies = dict(zip(data[\"smiles\"], data[\"selfies\"]))"
   ]
  },
  {
   "cell_type": "code",
   "execution_count": 6,
   "metadata": {},
   "outputs": [],
   "source": [
    "data = data.groupby(\"smiles\").agg(\"mean\").reset_index()\n",
    "data[\"selfies\"] = data[\"smiles\"].map(smiles_selfies)"
   ]
  },
  {
   "cell_type": "code",
   "execution_count": 8,
   "metadata": {},
   "outputs": [],
   "source": [
    "PROMPT_TEMPLATE_bandgap_inverse = \"What is a molecule with a bandgap of {} eV###\"\n",
    "COMPLETION_TEMPLATE_bandgap_inverse = \"{}@@@\"\n",
    "\n",
    "\n",
    "def generate_inverse_photoswitch_prompts(\n",
    "    data: pd.DataFrame, representation: str = \"smiles\"\n",
    ") -> pd.DataFrame:\n",
    "    prompts = []\n",
    "    completions = []\n",
    "    smiles = []\n",
    "    for i, row in data.iterrows():\n",
    "\n",
    "        prompt = PROMPT_TEMPLATE_bandgap_inverse.format(\n",
    "            np.round(row[\"GFN2_HOMO_LUMO_GAP\"] * 27.2114, 1)\n",
    "        )\n",
    "\n",
    "        completion = COMPLETION_TEMPLATE_bandgap_inverse.format(row[representation])\n",
    "        prompts.append(prompt)\n",
    "        completions.append(completion)\n",
    "        smiles.append(row[\"smiles\"])\n",
    "\n",
    "    prompts = pd.DataFrame(\n",
    "        {\"prompt\": prompts, \"completion\": completions, \"SMILES\": smiles}\n",
    "    )\n",
    "\n",
    "    return prompts"
   ]
  },
  {
   "cell_type": "code",
   "execution_count": 11,
   "metadata": {},
   "outputs": [],
   "source": [
    "(\n",
    "    train_prompts_small_smiles,\n",
    "    test_prompts_small_smiles,\n",
    ") = generate_inverse_photoswitch_prompts(\n",
    "    train_data_small\n",
    "), generate_inverse_photoswitch_prompts(\n",
    "    test_data_small\n",
    ")"
   ]
  },
  {
   "cell_type": "code",
   "execution_count": 13,
   "metadata": {},
   "outputs": [],
   "source": [
    "def train_inverse_model(train_prompts, representation):\n",
    "\n",
    "    train_size = len(train_prompts)\n",
    "\n",
    "    filename_base = time.strftime(\"%Y-%m-%d-%H-%M-%S\", time.localtime())\n",
    "    train_filename = f\"run_files/{filename_base}_train_prompts_bandgap_inverse_{representation}_{train_size}.jsonl\"\n",
    "\n",
    "    train_prompts.to_json(train_filename, orient=\"records\", lines=True)\n",
    "\n",
    "    modelname = fine_tune(train_filename, train_filename, \"ada\")\n",
    "    return modelname, train_filename"
   ]
  },
  {
   "cell_type": "code",
   "execution_count": 14,
   "metadata": {},
   "outputs": [
    {
     "name": "stderr",
     "output_type": "stream",
     "text": [
      "Traceback (most recent call last):\n",
      "  File \"/Users/kevinmaikjablonka/miniconda3/envs/gpt3/bin/openai\", line 8, in <module>\n",
      "    sys.exit(main())\n",
      "  File \"/Users/kevinmaikjablonka/miniconda3/envs/gpt3/lib/python3.9/site-packages/openai/_openai_scripts.py\", line 63, in main\n",
      "    args.func(args)\n",
      "  File \"/Users/kevinmaikjablonka/miniconda3/envs/gpt3/lib/python3.9/site-packages/openai/cli.py\", line 545, in sync\n",
      "    resp = openai.wandb_logger.WandbLogger.sync(\n",
      "  File \"/Users/kevinmaikjablonka/miniconda3/envs/gpt3/lib/python3.9/site-packages/openai/wandb_logger.py\", line 74, in sync\n",
      "    fine_tune_logged = [\n",
      "  File \"/Users/kevinmaikjablonka/miniconda3/envs/gpt3/lib/python3.9/site-packages/openai/wandb_logger.py\", line 75, in <listcomp>\n",
      "    cls._log_fine_tune(\n",
      "  File \"/Users/kevinmaikjablonka/miniconda3/envs/gpt3/lib/python3.9/site-packages/openai/wandb_logger.py\", line 125, in _log_fine_tune\n",
      "    wandb_run = cls._get_wandb_run(run_path)\n",
      "  File \"/Users/kevinmaikjablonka/miniconda3/envs/gpt3/lib/python3.9/site-packages/openai/wandb_logger.py\", line 190, in _get_wandb_run\n",
      "    cls._ensure_logged_in()\n",
      "  File \"/Users/kevinmaikjablonka/miniconda3/envs/gpt3/lib/python3.9/site-packages/openai/wandb_logger.py\", line 186, in _ensure_logged_in\n",
      "    raise Exception(\"You need to log in to wandb\")\n",
      "Exception: You need to log in to wandb\n"
     ]
    }
   ],
   "source": [
    "modelname_small_smiles, train_filename_small_smiles = train_inverse_model(\n",
    "    train_prompts_small_smiles, \"smiles\"\n",
    ")"
   ]
  },
  {
   "cell_type": "code",
   "execution_count": 15,
   "metadata": {},
   "outputs": [
    {
     "name": "stderr",
     "output_type": "stream",
     "text": [
      "/Users/kevinmaikjablonka/miniconda3/envs/gpt3/lib/python3.9/site-packages/gpflow/experimental/utils.py:42: UserWarning: You're calling gpflow.experimental.check_shapes.decorator.check_shapes which is considered *experimental*. Expect: breaking changes, poor documentation, and bugs.\n",
      "  warn(\n",
      "/Users/kevinmaikjablonka/miniconda3/envs/gpt3/lib/python3.9/site-packages/gpflow/experimental/utils.py:42: UserWarning: You're calling gpflow.experimental.check_shapes.inheritance.inherit_check_shapes which is considered *experimental*. Expect: breaking changes, poor documentation, and bugs.\n",
      "  warn(\n"
     ]
    }
   ],
   "source": [
    "from gpt3forchem.output import test_inverse_bandgap"
   ]
  },
  {
   "cell_type": "code",
   "execution_count": 16,
   "metadata": {},
   "outputs": [],
   "source": [
    "def test_inverse_model(\n",
    "    modelname,\n",
    "    test_prompts,\n",
    "    df_train,\n",
    "    max_tokens: int = 250,\n",
    "    temperatures=None,\n",
    "    representation=\"SMILES\",\n",
    "):\n",
    "    temperatures = temperatures or [0, 0.25, 0.5, 0.75, 1.0, 1.25, 1.5]\n",
    "    train_smiles = df_train[\"SMILES\"].to_list()\n",
    "    results = []\n",
    "    for temperature in temperatures:\n",
    "        try:\n",
    "            print(f\"Testing temperature {temperature} for {representation}\")\n",
    "            result = test_inverse_bandgap(\n",
    "                test_prompts,\n",
    "                modelname,\n",
    "                train_smiles=train_smiles,\n",
    "                temperature=temperature,\n",
    "                max_tokens=max_tokens,\n",
    "                representation=representation,\n",
    "            )\n",
    "\n",
    "            results.append(result)\n",
    "        except Exception as e:\n",
    "            print(e)\n",
    "            pass\n",
    "\n",
    "    return results"
   ]
  },
  {
   "cell_type": "code",
   "execution_count": 17,
   "metadata": {},
   "outputs": [
    {
     "name": "stdout",
     "output_type": "stream",
     "text": [
      "Testing temperature 0 for SMILES\n"
     ]
    },
    {
     "name": "stderr",
     "output_type": "stream",
     "text": [
      "2022-11-27 22:15:59.803 | DEBUG    | gpt3forchem.output:test_inverse_bandgap:928 - Got predictions, example: [H]c1c([H])c([H])c(C([H])([H])N([H])C(=O)c2c([H])c([H])c(C(=O)N([H])c3c([H])c([H])c([H])c([H])c3[H])c([H])c2[H])c([H])c1[H]\n",
      "2022-11-27 22:15:59.804 | DEBUG    | gpt3forchem.output:test_inverse_bandgap:939 - Loaded predictions. Example: [H]c1c([H])c([H])c(C([H])([H])N([H])C(=O)c2c([H])c([H])c(C(=O)N([H])c3c([H])c([H])c([H])c([H])c3[H])c([H])c2[H])c([H])c1[H]\n",
      "2022-11-27 22:15:59.826 | DEBUG    | gpt3forchem.output:test_inverse_bandgap:950 - Calculating Frechet ChemNet distance for 100 samples\n",
      "2022-11-27 22:15:59.879 | INFO     | gpt3forchem.output:_load_chemnet:217 - Saved ChemNet model to '/var/folders/m9/_txh68y946s4pxy1x2wnd3lh0000gn/T/ChemNet_v0.13_pretrained.h5'\n",
      "2022-11-27 22:16:00.773331: W tensorflow/core/platform/profile_utils/cpu_utils.cc:128] Failed to get CPU frequency: 0 Hz\n",
      "2022-11-27 22:16:02.143 | DEBUG    | gpt3forchem.output:test_inverse_bandgap:959 - Computed frechet score: (86.51912736972785, 3.055231203154096e-08)\n",
      "2022-11-27 22:16:02.495 | DEBUG    | gpt3forchem.output:test_inverse_bandgap:970 - Computed KL div score: nan\n"
     ]
    },
    {
     "name": "stdout",
     "output_type": "stream",
     "text": [
      "Testing temperature 0.25 for SMILES\n"
     ]
    },
    {
     "name": "stderr",
     "output_type": "stream",
     "text": [
      "2022-11-27 22:16:37.239 | DEBUG    | gpt3forchem.output:test_inverse_bandgap:928 - Got predictions, example: [H]c1c([H])c(C([H])([H])N([H])C(=O)c2c([H])c([H])c(C(=O)N([H])c3c([H])c([H])c([H])c([H])c3[H])c([H])c2[H])c([H])c([H])c1Cl\n",
      "2022-11-27 22:16:37.243 | DEBUG    | gpt3forchem.output:test_inverse_bandgap:939 - Loaded predictions. Example: [H]c1c([H])c(C([H])([H])N([H])C(=O)c2c([H])c([H])c(C(=O)N([H])c3c([H])c([H])c([H])c([H])c3[H])c([H])c2[H])c([H])c([H])c1Cl\n",
      "2022-11-27 22:16:37.281 | DEBUG    | gpt3forchem.output:test_inverse_bandgap:950 - Calculating Frechet ChemNet distance for 76 samples\n",
      "2022-11-27 22:16:37.340 | INFO     | gpt3forchem.output:_load_chemnet:217 - Saved ChemNet model to '/var/folders/m9/_txh68y946s4pxy1x2wnd3lh0000gn/T/ChemNet_v0.13_pretrained.h5'\n",
      "2022-11-27 22:16:39.339 | DEBUG    | gpt3forchem.output:test_inverse_bandgap:959 - Computed frechet score: (57.71813835865383, 9.69764319338719e-06)\n",
      "2022-11-27 22:16:39.790 | DEBUG    | gpt3forchem.output:test_inverse_bandgap:970 - Computed KL div score: 0.2061092879126923\n"
     ]
    },
    {
     "name": "stdout",
     "output_type": "stream",
     "text": [
      "Testing temperature 0.5 for SMILES\n"
     ]
    },
    {
     "name": "stderr",
     "output_type": "stream",
     "text": [
      "2022-11-27 22:17:14.531 | DEBUG    | gpt3forchem.output:test_inverse_bandgap:928 - Got predictions, example: [H]c1c([H])c([H])c(-c2nc3c([H])c(N4C([H])([H])C([H])([H])N(C([H])([H])[H])C([H])([H])C4([H])[H])c([H])c3n2[H])c([H])c1[H]\n",
      "2022-11-27 22:17:14.532 | DEBUG    | gpt3forchem.output:test_inverse_bandgap:939 - Loaded predictions. Example: [H]c1c([H])c([H])c(-c2nc3c([H])c(N4C([H])([H])C([H])([H])N(C([H])([H])[H])C([H])([H])C4([H])[H])c([H])c3n2[H])c([H])c1[H]\n",
      "2022-11-27 22:17:14.563 | DEBUG    | gpt3forchem.output:test_inverse_bandgap:950 - Calculating Frechet ChemNet distance for 71 samples\n",
      "2022-11-27 22:17:14.593 | INFO     | gpt3forchem.output:_load_chemnet:217 - Saved ChemNet model to '/var/folders/m9/_txh68y946s4pxy1x2wnd3lh0000gn/T/ChemNet_v0.13_pretrained.h5'\n",
      "2022-11-27 22:17:16.252 | DEBUG    | gpt3forchem.output:test_inverse_bandgap:959 - Computed frechet score: (37.561995426863696, 0.00054626896950614)\n",
      "2022-11-27 22:17:16.697 | DEBUG    | gpt3forchem.output:test_inverse_bandgap:970 - Computed KL div score: 0.2889826049490621\n"
     ]
    },
    {
     "name": "stdout",
     "output_type": "stream",
     "text": [
      "Testing temperature 0.75 for SMILES\n"
     ]
    },
    {
     "name": "stderr",
     "output_type": "stream",
     "text": [
      "2022-11-27 22:17:51.531 | DEBUG    | gpt3forchem.output:test_inverse_bandgap:928 - Got predictions, example: [H]c1nc(N([H])c2c([H])c([H])c3c(c2[H])nc(N([H])C(=O)N(C([H])([H])C([H])([H])C([H])([H])[H])C([H])([H])[H])s3c2c([H])c([H])c([H])c([H])c32)c([H])c1[H]\n",
      "2022-11-27 22:17:51.533 | DEBUG    | gpt3forchem.output:test_inverse_bandgap:939 - Loaded predictions. Example: [H]c1nc(N([H])c2c([H])c([H])c3c(c2[H])nc(N([H])C(=O)N(C([H])([H])C([H])([H])C([H])([H])[H])C([H])([H])[H])s3c2c([H])c([H])c([H])c([H])c32)c([H])c1[H]\n",
      "2022-11-27 22:17:51.580 | DEBUG    | gpt3forchem.output:test_inverse_bandgap:950 - Calculating Frechet ChemNet distance for 43 samples\n",
      "2022-11-27 22:17:51.621 | INFO     | gpt3forchem.output:_load_chemnet:217 - Saved ChemNet model to '/var/folders/m9/_txh68y946s4pxy1x2wnd3lh0000gn/T/ChemNet_v0.13_pretrained.h5'\n",
      "2022-11-27 22:17:53.533 | DEBUG    | gpt3forchem.output:test_inverse_bandgap:959 - Computed frechet score: (37.250014435181924, 0.0005814399335530886)\n",
      "2022-11-27 22:17:53.838 | DEBUG    | gpt3forchem.output:test_inverse_bandgap:970 - Computed KL div score: 0.37959861216678525\n"
     ]
    },
    {
     "name": "stdout",
     "output_type": "stream",
     "text": [
      "Testing temperature 1.0 for SMILES\n"
     ]
    },
    {
     "name": "stderr",
     "output_type": "stream",
     "text": [
      "2022-11-27 22:18:29.214 | DEBUG    | gpt3forchem.output:test_inverse_bandgap:928 - Got predictions, example: [H]Oc1c([H])c(C([H])([H])[H])c([H])c(N([H])C(=O)c2c([H])c([H])c(C(F)(F)F)c([H])c2C([H])([H])[H])c1[H]\n",
      "2022-11-27 22:18:29.215 | DEBUG    | gpt3forchem.output:test_inverse_bandgap:939 - Loaded predictions. Example: [H]Oc1c([H])c(C([H])([H])[H])c([H])c(N([H])C(=O)c2c([H])c([H])c(C(F)(F)F)c([H])c2C([H])([H])[H])c1[H]\n",
      "2022-11-27 22:18:29.257 | DEBUG    | gpt3forchem.output:test_inverse_bandgap:950 - Calculating Frechet ChemNet distance for 18 samples\n",
      "2022-11-27 22:18:29.285 | INFO     | gpt3forchem.output:_load_chemnet:217 - Saved ChemNet model to '/var/folders/m9/_txh68y946s4pxy1x2wnd3lh0000gn/T/ChemNet_v0.13_pretrained.h5'\n",
      "2022-11-27 22:18:31.028 | DEBUG    | gpt3forchem.output:test_inverse_bandgap:959 - Computed frechet score: (50.68632613408735, 3.957688877697366e-05)\n",
      "2022-11-27 22:18:31.168 | DEBUG    | gpt3forchem.output:test_inverse_bandgap:970 - Computed KL div score: 0.5249516019252503\n"
     ]
    },
    {
     "name": "stdout",
     "output_type": "stream",
     "text": [
      "Testing temperature 1.25 for SMILES\n"
     ]
    },
    {
     "name": "stderr",
     "output_type": "stream",
     "text": [
      "2022-11-27 22:19:06.559 | DEBUG    | gpt3forchem.output:test_inverse_bandgap:928 - Got predictions, example: [H]C=C#Cc1c([H])c([H])c(C([H])([H])n2c(C([H])([H])S(=O)(=O)c3c([H])cards(C($Figators)F)c(Cl)c3[H])c([H])c(OC([H])([H])[H])c2[H])c1C#N[H]\n",
      "2022-11-27 22:19:06.561 | DEBUG    | gpt3forchem.output:test_inverse_bandgap:939 - Loaded predictions. Example: [H]C=C#Cc1c([H])c([H])c(C([H])([H])n2c(C([H])([H])S(=O)(=O)c3c([H])cards(C($Figators)F)c(Cl)c3[H])c([H])c(OC([H])([H])[H])c2[H])c1C#N[H]\n",
      "2022-11-27 22:19:06.609 | DEBUG    | gpt3forchem.output:test_inverse_bandgap:950 - Calculating Frechet ChemNet distance for 9 samples\n",
      "2022-11-27 22:19:06.651 | INFO     | gpt3forchem.output:_load_chemnet:217 - Saved ChemNet model to '/var/folders/m9/_txh68y946s4pxy1x2wnd3lh0000gn/T/ChemNet_v0.13_pretrained.h5'\n",
      "2022-11-27 22:19:08.219 | DEBUG    | gpt3forchem.output:test_inverse_bandgap:959 - Computed frechet score: (64.34800037696363, 2.5751569470566044e-06)\n",
      "2022-11-27 22:19:08.307 | DEBUG    | gpt3forchem.output:test_inverse_bandgap:970 - Computed KL div score: 0.5679587526671315\n"
     ]
    },
    {
     "name": "stdout",
     "output_type": "stream",
     "text": [
      "Testing temperature 1.5 for SMILES\n"
     ]
    },
    {
     "name": "stderr",
     "output_type": "stream",
     "text": [
      "2022-11-27 22:19:44.011 | DEBUG    | gpt3forchem.output:test_inverse_bandgap:928 - Got predictions, example: [hvin]),n(-nc(-c2c([H])n(-Ct1c([H])c([H])c(-c4c([H])c([H])ncmedium5n(N5C([H])([H])C([H])([H])C5([H])C([H])([H])C([H])([H])C6\n",
      "2022-11-27 22:19:44.012 | DEBUG    | gpt3forchem.output:test_inverse_bandgap:939 - Loaded predictions. Example: [hvin]),n(-nc(-c2c([H])n(-Ct1c([H])c([H])c(-c4c([H])c([H])ncmedium5n(N5C([H])([H])C([H])([H])C5([H])C([H])([H])C([H])([H])C6\n",
      "2022-11-27 22:19:44.054 | DEBUG    | gpt3forchem.output:test_inverse_bandgap:950 - Calculating Frechet ChemNet distance for 3 samples\n",
      "2022-11-27 22:19:44.082 | INFO     | gpt3forchem.output:_load_chemnet:217 - Saved ChemNet model to '/var/folders/m9/_txh68y946s4pxy1x2wnd3lh0000gn/T/ChemNet_v0.13_pretrained.h5'\n",
      "2022-11-27 22:19:45.991 | DEBUG    | gpt3forchem.output:test_inverse_bandgap:959 - Computed frechet score: (90.77580457366079, 1.304108713424753e-08)\n",
      "2022-11-27 22:19:46.026 | DEBUG    | gpt3forchem.output:test_inverse_bandgap:970 - Computed KL div score: nan\n"
     ]
    }
   ],
   "source": [
    "res_500_smiles = test_inverse_model(\n",
    "    modelname_small_smiles,\n",
    "    test_prompts_small_smiles,\n",
    "    train_prompts_small_smiles,\n",
    "    representation=\"SMILES\",\n",
    ")"
   ]
  },
  {
   "cell_type": "code",
   "execution_count": 19,
   "metadata": {},
   "outputs": [],
   "source": [
    "timestamp = time.strftime('%Y-%m-%d-%H-%M-%S', time.localtime())"
   ]
  },
  {
   "cell_type": "code",
   "execution_count": 155,
   "metadata": {},
   "outputs": [],
   "source": [
    "save_pickle(f\"run_files/{timestamp}-res_500_smiles.pkl\", res_500_smiles)"
   ]
  },
  {
   "cell_type": "code",
   "execution_count": 30,
   "metadata": {},
   "outputs": [],
   "source": [
    "smiles_500_sets = []\n",
    "\n",
    "for res in res_500_smiles:\n",
    "    result = {}\n",
    "    result[\"temperature\"] = res[\"meta\"][\"temperature\"]\n",
    "    result[\"smiles\"] = set(\n",
    "        res[\"predictions\"][res[\"valid_smiles\"]]\n",
    "    )\n",
    "    result['original_prediction_indices'] = [i for i, x in enumerate(res[\"predictions\"]) if x in result['smiles']]\n",
    "    result['expected'] = [res['expectations'][i] for i in result['original_prediction_indices']]\n",
    "    smiles_500_sets.append(result)\n",
    "\n",
    "for res in smiles_500_sets:\n",
    "    temp = res[\"temperature\"]\n",
    "    smiles_set = res[\"smiles\"]\n",
    "    with open(f\"for_xtb_opt/{timestamp}500_smiles_{temp}.txt\", \"w\") as f:\n",
    "        for i, smiles in enumerate(smiles_set):\n",
    "            if i != len(smiles_set) - 1:\n",
    "                f.write(smiles + \"\\n\")\n",
    "            else:\n",
    "                f.write(smiles)"
   ]
  },
  {
   "cell_type": "markdown",
   "metadata": {},
   "source": [
    "For the ground truth, we need to swtich to running on the server\n"
   ]
  },
  {
   "cell_type": "code",
   "execution_count": 23,
   "metadata": {},
   "outputs": [],
   "source": [
    "from natsort import natsorted"
   ]
  },
  {
   "cell_type": "code",
   "execution_count": 119,
   "metadata": {},
   "outputs": [],
   "source": [
    "def get_xtb_results(filename, results):\n",
    "    outputs = []\n",
    "    for res in results:\n",
    "        temp = res[\"temperature\"]\n",
    "        with open(f'for_xtb_opt/{filename}_{temp}_gaps.txt', 'r') as f:\n",
    "            gaps_ = f.readlines()\n",
    "            if not gaps_: print(f\"No results found for {temp}\"); continue\n",
    "            gaps = []\n",
    "            for _gap in gaps_:\n",
    "                name, gap = _gap.split()\n",
    "                gaps.append((int(name.split(\"/\")[-1]), float(gap) if gap !='None' else np.nan))\n",
    "\n",
    "        predicted, true = [], []\n",
    "\n",
    "        for i, g in gaps:\n",
    "            predicted.append(g)\n",
    "            true.append(res[\"expected\"][i])\n",
    "\n",
    "        true, predicted = np.array(true), np.array(predicted)\n",
    "\n",
    "        not_nan_mask = ~np.isnan(predicted)\n",
    "        outputs.append(\n",
    "            {\n",
    "                'predicted': predicted,\n",
    "                'true': true,\n",
    "                'temperature': temp,\n",
    "                 'r2_score': r2_score(true[not_nan_mask], predicted[not_nan_mask]),\n",
    "                'mae': mean_absolute_error(true[not_nan_mask], predicted[not_nan_mask]),\n",
    "            }\n",
    "        )\n",
    "    return outputs"
   ]
  },
  {
   "cell_type": "code",
   "execution_count": 156,
   "metadata": {},
   "outputs": [],
   "source": [
    "smiles_small_xtb_results = get_xtb_results('2022-11-27-22-29-43500_smiles', smiles_500_sets)\n",
    "save_pickle('run_files/2022-11-27-22-29-43500_smiles_xtb_results.pkl', smiles_small_xtb_results)"
   ]
  },
  {
   "cell_type": "markdown",
   "metadata": {},
   "source": [
    "#### Now use SELFIES\n"
   ]
  },
  {
   "cell_type": "code",
   "execution_count": 109,
   "metadata": {},
   "outputs": [],
   "source": [
    "train_prompts_selfies, test_prompts_selfies = generate_inverse_photoswitch_prompts(\n",
    "    train_data_small, \"selfies\"\n",
    "), generate_inverse_photoswitch_prompts(test_data_small, \"selfies\")"
   ]
  },
  {
   "cell_type": "code",
   "execution_count": 112,
   "metadata": {},
   "outputs": [
    {
     "name": "stderr",
     "output_type": "stream",
     "text": [
      "Traceback (most recent call last):\n",
      "  File \"/Users/kevinmaikjablonka/miniconda3/envs/gpt3/bin/openai\", line 8, in <module>\n",
      "    sys.exit(main())\n",
      "  File \"/Users/kevinmaikjablonka/miniconda3/envs/gpt3/lib/python3.9/site-packages/openai/_openai_scripts.py\", line 63, in main\n",
      "    args.func(args)\n",
      "  File \"/Users/kevinmaikjablonka/miniconda3/envs/gpt3/lib/python3.9/site-packages/openai/cli.py\", line 545, in sync\n",
      "    resp = openai.wandb_logger.WandbLogger.sync(\n",
      "  File \"/Users/kevinmaikjablonka/miniconda3/envs/gpt3/lib/python3.9/site-packages/openai/wandb_logger.py\", line 74, in sync\n",
      "    fine_tune_logged = [\n",
      "  File \"/Users/kevinmaikjablonka/miniconda3/envs/gpt3/lib/python3.9/site-packages/openai/wandb_logger.py\", line 75, in <listcomp>\n",
      "    cls._log_fine_tune(\n",
      "  File \"/Users/kevinmaikjablonka/miniconda3/envs/gpt3/lib/python3.9/site-packages/openai/wandb_logger.py\", line 125, in _log_fine_tune\n",
      "    wandb_run = cls._get_wandb_run(run_path)\n",
      "  File \"/Users/kevinmaikjablonka/miniconda3/envs/gpt3/lib/python3.9/site-packages/openai/wandb_logger.py\", line 190, in _get_wandb_run\n",
      "    cls._ensure_logged_in()\n",
      "  File \"/Users/kevinmaikjablonka/miniconda3/envs/gpt3/lib/python3.9/site-packages/openai/wandb_logger.py\", line 186, in _ensure_logged_in\n",
      "    raise Exception(\"You need to log in to wandb\")\n",
      "Exception: You need to log in to wandb\n"
     ]
    }
   ],
   "source": [
    "modelname_500_selfies, train_filename_500_selfies = train_inverse_model(\n",
    "    train_prompts_selfies, \"selfies\"\n",
    ")"
   ]
  },
  {
   "cell_type": "code",
   "execution_count": 137,
   "metadata": {},
   "outputs": [
    {
     "name": "stdout",
     "output_type": "stream",
     "text": [
      "Testing temperature 0 for selfies\n"
     ]
    },
    {
     "name": "stderr",
     "output_type": "stream",
     "text": [
      "2022-11-28 09:42:25.264 | DEBUG    | gpt3forchem.output:test_inverse_bandgap:928 - Got predictions, example: [H][C][=C][Branch1][C][H][C][Branch1][C][H][=C][Branch2][Branch2][=Branch2][C][Branch1][C][H][Branch1][C][H][N][Branch1][C][H][C][=Branch1][C][=O][C][Branch1][C][H][Branch1][C][H][C][Branch1][C][H][Branch1][C][H][C][Branch1][C][H][Branch1][C][H][C][Branch1][C][H][Branch1][C][H][C][Branch1][C][H][Branch1][C][H][C][Branch1][C][H][Branch1][C][H][C][Branch1][C][H][Branch1][C][H][C][Branch1][C][H][Branch1][C][H][C][Branch1][C][H][Branch1][C][H][C][Branch1][C][H][Branch1][C][H][C][Branch1][C][H][Branch1][C][H][C][Branch1][C][H][Branch1][C][H][C][Branch1][C][H][Branch1][C][H][C][Branch1][C][H][Branch1][C][H][C][Branch1][C][H][Branch1][C][H][C][Branch1][C][H][Branch1][C][H][C][Branch1][C][H][Branch1][C][H][C][Branch1][C][H][Branch1][C][H][C][Branch1][C][H][Branch1][C][H][C][Branch1][C][H][Branch1][C][H][C][Branch1][C][H][Branch1][C][H][C][Branch1][C][H][Branch1][C][H][C][Branch1][C][H][Branch1][C][H][C][Branch1][C][H][Branch1][C][H][C][Branch1][C][H][Branch1][C][H][C][Branch1][C][H][Branch1][C][H][C][Branch1][C][H][Branch1][C][H][C][Branch1][C][H][Branch1][C][H][C][Branch1][C][H][Branch1][C][H][C][Branch1][C][H][Branch1][C][H][C][Branch1][C][H][Branch1][C][H][C][Branch1][C][H][Branch1][C][H][C][Branch1][C][H][Branch1][C][H][C][Branch1][C][H][Branch1][C][H][C][Branch1][C][H][Branch1][C][H][C][Branch1][C][H][Branch1][C][H][C][Branch1][C][H][Branch1][C][H][C][Branch1][C][H][Branch1][C][H][C][Branch1][C][H][Branch1][C][H][C][Branch1][C][H][Branch1][C][H][C][Branch1][C][H][Branch1][C][H][C][Branch1][C][H][Branch1][C][H][C][Branch1][C][H][Branch1][C][H][C][Branch1][C][H][Branch1][C][H][C][Branch1][C][H][Branch1][C][H][C][Branch1][C][H][Branch1][C][H][C][Branch1][C][H][Branch1][C][H][C][Branch1][C][H][Branch1][C][H][C][Branch1][C][H][Branch1][C][H][C][Branch1][C][H][Branch1][C][H][C][Branch1][C][H][Branch1][C][H][C][Branch1][C][H][Branch1][C][H][C][Branch1][C][H][Branch1][C][H][C][Branch1][C][H][Branch1][C][H][C][Branch1][C][H][Branch1][C][H][C][Branch1][C][H][Branch1][C][H][C][Branch1][C][H][Branch1][C][H][C][Branch1][C][H][Branch1][C][H][C][Branch1][C][H][Branch1][C][H][C][Branch1][C][H][Branch1][C][H][C][Branch1][C][H][Branch1][C][H][C][Branch1][C][H][Branch1][C][H][C][Branch1][C][H][Branch1][C][H][C][Branch1][C][H][Branch1][C][H][C][Branch1][C][H][Branch1][C][H][C][Branch1][C][H][Branch1][C][H][C][Branch1][C][H][Branch1][C][H][C][Branch1][C][H][Branch1][C][H][C][Branch1][C][H][Branch1][C][H][C][Branch1][C][H][Branch1][C][H][C][Branch1][C][H][Branch1][C][H][C][Branch1][C][H][Branch1][C][H][C][Branch1][C][H][Branch1][C][H][C][Branch1][C][H][Branch1][C][H][C][Branch1][C][H][Branch1][C][H][C][Branch1][C][H][Branch1][C][H][C][Branch1][C][H][Branch1][C][H][C][Branch1][C][H][Branch1][C][H][C][Branch1][C][H][Branch1][C][H][C][Branch1][C][H][Branch1][C][H][C][Branch1][C][H][Branch1][C][H][C][Branch1][C][H][Branch1][C][H][C][Branch1][C][H][Branch1][C][H][C][Branch1][C][H][Branch1][C][H][C][Branch1][\n",
      "2022-11-28 09:42:25.388 | DEBUG    | gpt3forchem.output:test_inverse_bandgap:939 - Loaded predictions. Example: [H][C][=C][Branch1][C][H][C][Branch1][C][H][=C][Branch2][Branch2][=Branch2][C][Branch1][C][H][Branch1][C][H][N][Branch1][C][H][C][=Branch1][C][=O][C][Branch1][C][H][Branch1][C][H][C][Branch1][C][H][Branch1][C][H][C][Branch1][C][H][Branch1][C][H][C][Branch1][C][H][Branch1][C][H][C][Branch1][C][H][Branch1][C][H][C][Branch1][C][H][Branch1][C][H][C][Branch1][C][H][Branch1][C][H][C][Branch1][C][H][Branch1][C][H][C][Branch1][C][H][Branch1][C][H][C][Branch1][C][H][Branch1][C][H][C][Branch1][C][H][Branch1][C][H][C][Branch1][C][H][Branch1][C][H][C][Branch1][C][H][Branch1][C][H][C][Branch1][C][H][Branch1][C][H][C][Branch1][C][H][Branch1][C][H][C][Branch1][C][H][Branch1][C][H][C][Branch1][C][H][Branch1][C][H][C][Branch1][C][H][Branch1][C][H][C][Branch1][C][H][Branch1][C][H][C][Branch1][C][H][Branch1][C][H][C][Branch1][C][H][Branch1][C][H][C][Branch1][C][H][Branch1][C][H][C][Branch1][C][H][Branch1][C][H][C][Branch1][C][H][Branch1][C][H][C][Branch1][C][H][Branch1][C][H][C][Branch1][C][H][Branch1][C][H][C][Branch1][C][H][Branch1][C][H][C][Branch1][C][H][Branch1][C][H][C][Branch1][C][H][Branch1][C][H][C][Branch1][C][H][Branch1][C][H][C][Branch1][C][H][Branch1][C][H][C][Branch1][C][H][Branch1][C][H][C][Branch1][C][H][Branch1][C][H][C][Branch1][C][H][Branch1][C][H][C][Branch1][C][H][Branch1][C][H][C][Branch1][C][H][Branch1][C][H][C][Branch1][C][H][Branch1][C][H][C][Branch1][C][H][Branch1][C][H][C][Branch1][C][H][Branch1][C][H][C][Branch1][C][H][Branch1][C][H][C][Branch1][C][H][Branch1][C][H][C][Branch1][C][H][Branch1][C][H][C][Branch1][C][H][Branch1][C][H][C][Branch1][C][H][Branch1][C][H][C][Branch1][C][H][Branch1][C][H][C][Branch1][C][H][Branch1][C][H][C][Branch1][C][H][Branch1][C][H][C][Branch1][C][H][Branch1][C][H][C][Branch1][C][H][Branch1][C][H][C][Branch1][C][H][Branch1][C][H][C][Branch1][C][H][Branch1][C][H][C][Branch1][C][H][Branch1][C][H][C][Branch1][C][H][Branch1][C][H][C][Branch1][C][H][Branch1][C][H][C][Branch1][C][H][Branch1][C][H][C][Branch1][C][H][Branch1][C][H][C][Branch1][C][H][Branch1][C][H][C][Branch1][C][H][Branch1][C][H][C][Branch1][C][H][Branch1][C][H][C][Branch1][C][H][Branch1][C][H][C][Branch1][C][H][Branch1][C][H][C][Branch1][C][H][Branch1][C][H][C][Branch1][C][H][Branch1][C][H][C][Branch1][C][H][Branch1][C][H][C][Branch1][C][H][Branch1][C][H][C][Branch1][C][H][Branch1][C][H][C][Branch1][C][H][Branch1][C][H][C][Branch1][C][H][Branch1][C][H][C][Branch1][C][H][Branch1][C][H][C][Branch1][C][H][Branch1][C][H][C][Branch1][C][H][Branch1][C][H][C][Branch1][C][H][Branch1][C][H][C][Branch1][C][H][Branch1][C][H][C][Branch1][C][H][Branch1][C][H][C][Branch1][C][H][Branch1][C][H][C][Branch1][C][H][Branch1][C][H][C][Branch1][C][H][Branch1][C][H][C][Branch1][C][H][Branch1][C][H][C][Branch1][C][H][Branch1][C][H][C][Branch1][C][H][Branch1][C][H][C][Branch1][C][H][Branch1][C][H][C][Branch1][C][H][Branch1][C][H][C][Branch1][C][H][Branch1][C][H][C][Branch1][C][H][Branch1][C][H][C][Branch1][\n",
      "2022-11-28 09:42:25.415 | DEBUG    | gpt3forchem.output:test_inverse_bandgap:950 - Calculating Frechet ChemNet distance for 0 samples\n",
      "2022-11-28 09:42:25.416 | DEBUG    | gpt3forchem.output:test_inverse_bandgap:970 - Computed KL div score: nan\n"
     ]
    }
   ],
   "source": [
    "res_500_seflies = test_inverse_model(\n",
    "    modelname_500_selfies,\n",
    "    test_prompts_selfies,\n",
    "    train_prompts_selfies,\n",
    "    representation=\"selfies\",\n",
    "    max_tokens=1600,\n",
    "    temperatures=[0]\n",
    ")"
   ]
  },
  {
   "cell_type": "code",
   "execution_count": 122,
   "metadata": {},
   "outputs": [],
   "source": [
    "save_pickle(f\"run_files/{timestamp}-res_500_selfies.pkl\", res_500_seflies)"
   ]
  },
  {
   "cell_type": "code",
   "execution_count": 134,
   "metadata": {},
   "outputs": [
    {
     "data": {
      "text/plain": [
       "array(['[H][C][=C][Branch1][C][H][C][Branch1][C][H][=C][Branch2][Branch2][=Branch2][C][Branch1][C][H][Branch1][C][H][N][Branch1][C][H][C][=Branch1][C][=O][C][Branch1][C][H][Branch1][C][H][C][Branch1][C][H][Branch1][C][H][C][Branch1][C][H][Branch1][C][H][C][Branch1][C][H][Branch1][C][H][C][Branch1][C][H][Branch1][C][H][C][Branch1][C][H][Branch1][C][H][C][Branch1][C][H][Branch1][C][H][C][Branch1][C][H][Branch1][C][H][C][Branch1][C][H][Branch1][C][H][C][Branch1][',\n",
       "       '[H][C][=C][Branch1][C][H][C][Branch1][C][H][=C][Branch2][Branch2][=Branch2][C][Branch1][C][H][Branch1][C][H][N][Branch1][C][H][C][=Branch1][C][=O][C][Branch1][C][H][Branch1][C][H][C][Branch1][C][H][Branch1][C][H][C][Branch1][C][H][Branch1][C][H][C][Branch1][C][H][Branch1][C][H][C][Branch1][C][H][Branch1][C][H][C][Branch1][C][H][Branch1][C][H][C][Branch1][C][H][Branch1][C][H][C][Branch1][C][H][Branch1][C][H][C][Branch1][C][H][Branch1][C][H][C][Branch1][',\n",
       "       '[H][C][=C][Branch1][C][H][C][Branch1][C][H][=C][Branch2][Branch2][=Branch2][C][Branch1][C][H][Branch1][C][H][N][Branch2][Ring2][C][C][S][C][=C][Branch1][C][H][C][Branch1][C][H][=C][Branch1][C][H][C][Branch1][C][H][=C][Ring1][#Branch2][C][=Ring1][=N][C][Branch1][C][H][Branch1][C][H][H][C][Branch1][C][H][Branch1][C][H][C][Branch1][C][H][Branch1][C][H][C][Branch1][C][H][Branch1][C][H][C][Branch1][C][H][Branch1][C][H][C][Branch1][C][H][Branch1][C][H][C',\n",
       "       '[H][C][=C][Branch1][C][H][C][Branch1][C][H][=C][Branch2][Branch2][=Branch2][C][Branch1][C][H][Branch1][C][H][N][Branch2][Ring2][C][C][S][C][=C][Branch1][C][H][C][Branch1][C][H][=C][Branch1][C][H][C][Branch1][C][H][=C][Ring1][#Branch2][C][=Ring1][=N][C][Branch1][C][H][Branch1][C][H][H][C][Branch1][C][H][Branch1][C][H][C][Branch1][C][H][Branch1][C][H][C][Branch1][C][H][Branch1][C][H][C][Branch1][C][H][Branch1][C][H][C][Branch1][C][H][Branch1][C][H][C',\n",
       "       '[H][C][=C][Branch1][C][H][C][Branch1][C][H][=C][Branch2][Branch2][=Branch2][C][Branch1][C][H][Branch1][C][H][N][Branch2][Ring2][C][C][S][C][=C][Branch1][C][H][C][Branch1][C][H][=C][Branch1][C][H][C][Branch1][C][H][=C][Ring1][#Branch2][C][=Ring1][=N][C][Branch1][C][H][Branch1][C][H][H][C][Branch1][C][H][Branch1][C][H][C][Branch1][C][H][Branch1][C][H][C][Branch1][C][H][Branch1][C][H][C][Branch1][C][H][Branch1][C][H][C][Branch1][C][H][Branch1][C][H][C',\n",
       "       '[H][C][=C][Branch1][C][H][C][Branch1][C][H][=C][Branch2][Branch2][=Branch2][C][Branch1][C][H][Branch1][C][H][N][Branch2][Ring2][C][C][S][C][=C][Branch1][C][H][C][Branch1][C][H][=C][Branch1][C][H][C][Branch1][C][H][=C][Ring1][#Branch2][C][=Ring1][=N][C][Branch1][C][H][Branch1][C][H][H][C][Branch1][C][H][Branch1][C][H][C][Branch1][C][H][Branch1][C][H][C][Branch1][C][H][Branch1][C][H][C][Branch1][C][H][Branch1][C][H][C][Branch1][C][H][Branch1][C][H][C',\n",
       "       '[H][C][=C][Branch1][C][H][C][Branch1][C][H][=C][Branch2][Branch2][=Branch2][C][Branch1][C][H][Branch1][C][H][N][Branch2][Ring2][C][C][S][C][=C][Branch1][C][H][C][Branch1][C][H][=C][Branch1][C][H][C][Branch1][C][H][=C][Ring1][#Branch2][C][=Ring1][=N][C][Branch1][C][H][Branch1][C][H][H][C][Branch1][C][H][Branch1][C][H][C][Branch1][C][H][Branch1][C][H][C][Branch1][C][H][Branch1][C][H][C][Branch1][C][H][Branch1][C][H][C][Branch1][C][H][Branch1][C][H][C',\n",
       "       '[H][C][=C][Branch1][C][H][C][Branch1][C][H][=C][Branch2][Branch2][=Branch2][C][Branch1][C][H][Branch1][C][H][N][Branch1][C][H][C][=Branch1][C][=O][C][Branch1][C][H][Branch1][C][H][C][Branch1][C][H][Branch1][C][H][C][Branch1][C][H][Branch1][C][H][C][Branch1][C][H][Branch1][C][H][C][Branch1][C][H][Branch1][C][H][C][Branch1][C][H][Branch1][C][H][C][Branch1][C][H][Branch1][C][H][C][Branch1][C][H][Branch1][C][H][C][Branch1][C][H][Branch1][C][H][C][Branch1][',\n",
       "       '[H][C][=C][Branch1][C][H][C][Branch1][C][H][=C][Branch2][Branch2][=Branch2][C][Branch1][C][H][Branch1][C][H][N][Branch2][Ring2][C][C][S][C][=C][Branch1][C][H][C][Branch1][C][H][=C][Branch1][C][H][C][Branch1][C][H][=C][Ring1][#Branch2][C][=Ring1][=N][C][Branch1][C][H][Branch1][C][H][H][C][Branch1][C][H][Branch1][C][H][C][Branch1][C][H][Branch1][C][H][C][Branch1][C][H][Branch1][C][H][C][Branch1][C][H][Branch1][C][H][C][Branch1][C][H][Branch1][C][H][C',\n",
       "       '[H][C][=C][Branch1][C][H][C][Branch1][C][H][=C][Branch2][Branch2][=Branch2][C][Branch1][C][H][Branch1][C][H][N][Branch1][C][H][C][=Branch1][C][=O][C][Branch1][C][H][Branch1][C][H][C][Branch1][C][H][Branch1][C][H][C][Branch1][C][H][Branch1][C][H][C][Branch1][C][H][Branch1][C][H][C][Branch1][C][H][Branch1][C][H][C][Branch1][C][H][Branch1][C][H][C][Branch1][C][H][Branch1][C][H][C][Branch1][C][H][Branch1][C][H][C][Branch1][C][H][Branch1][C][H][C][Branch1][',\n",
       "       '[H][C][=C][Branch1][C][H][C][Branch1][C][H][=C][Branch2][Branch2][=Branch2][C][Branch1][C][H][Branch1][C][H][N][Branch1][C][H][C][=Branch1][C][=O][C][Branch1][C][H][Branch1][C][H][C][Branch1][C][H][Branch1][C][H][C][Branch1][C][H][Branch1][C][H][C][Branch1][C][H][Branch1][C][H][C][Branch1][C][H][Branch1][C][H][C][Branch1][C][H][Branch1][C][H][C][Branch1][C][H][Branch1][C][H][C][Branch1][C][H][Branch1][C][H][C][Branch1][C][H][Branch1][C][H][C][Branch1][',\n",
       "       '[H][C][=C][Branch1][C][H][C][Branch1][C][H][=C][Branch2][Branch2][=Branch2][C][Branch1][C][H][Branch1][C][H][N][Branch2][Ring2][C][C][S][C][=C][Branch1][C][H][C][Branch1][C][H][=C][Branch1][C][H][C][Branch1][C][H][=C][Ring1][#Branch2][C][=Ring1][=N][C][Branch1][C][H][Branch1][C][H][H][C][Branch1][C][H][Branch1][C][H][C][Branch1][C][H][Branch1][C][H][C][Branch1][C][H][Branch1][C][H][C][Branch1][C][H][Branch1][C][H][C][Branch1][C][H][Branch1][C][H][C',\n",
       "       '[H][C][=C][Branch1][C][H][C][Branch1][C][H][=C][Branch2][Branch2][=Branch2][C][Branch1][C][H][Branch1][C][H][N][Branch2][Ring2][C][C][S][C][=C][Branch1][C][H][C][Branch1][C][H][=C][Branch1][C][H][C][Branch1][C][H][=C][Ring1][#Branch2][C][=Ring1][=N][C][Branch1][C][H][Branch1][C][H][H][C][Branch1][C][H][Branch1][C][H][C][Branch1][C][H][Branch1][C][H][C][Branch1][C][H][Branch1][C][H][C][Branch1][C][H][Branch1][C][H][C][Branch1][C][H][Branch1][C][H][C',\n",
       "       '[H][C][=C][Branch1][C][H][C][Branch1][C][H][=C][Branch2][Branch2][=Branch2][C][Branch1][C][H][Branch1][C][H][N][Branch2][Ring2][C][C][S][C][=C][Branch1][C][H][C][Branch1][C][H][=C][Branch1][C][H][C][Branch1][C][H][=C][Ring1][#Branch2][C][=Ring1][=N][C][Branch1][C][H][Branch1][C][H][H][C][Branch1][C][H][Branch1][C][H][C][Branch1][C][H][Branch1][C][H][C][Branch1][C][H][Branch1][C][H][C][Branch1][C][H][Branch1][C][H][C][Branch1][C][H][Branch1][C][H][C',\n",
       "       '[H][C][=C][Branch1][C][H][C][Branch1][C][H][=C][Branch2][Branch2][=Branch2][C][Branch1][C][H][Branch1][C][H][N][Branch1][C][H][C][=Branch1][C][=O][C][Branch1][C][H][Branch1][C][H][C][Branch1][C][H][Branch1][C][H][C][Branch1][C][H][Branch1][C][H][C][Branch1][C][H][Branch1][C][H][C][Branch1][C][H][Branch1][C][H][C][Branch1][C][H][Branch1][C][H][C][Branch1][C][H][Branch1][C][H][C][Branch1][C][H][Branch1][C][H][C][Branch1][C][H][Branch1][C][H][C][Branch1][',\n",
       "       '[H][C][=C][Branch1][C][H][C][Branch1][C][H][=C][Branch2][Branch2][=Branch2][C][Branch1][C][H][Branch1][C][H][N][Branch1][C][H][C][=Branch1][C][=O][C][Branch1][C][H][Branch1][C][H][C][Branch1][C][H][Branch1][C][H][C][Branch1][C][H][Branch1][C][H][C][Branch1][C][H][Branch1][C][H][C][Branch1][C][H][Branch1][C][H][C][Branch1][C][H][Branch1][C][H][C][Branch1][C][H][Branch1][C][H][C][Branch1][C][H][Branch1][C][H][C][Branch1][C][H][Branch1][C][H][C][Branch1][',\n",
       "       '[H][C][=C][Branch1][C][H][C][Branch1][C][H][=C][Branch2][Branch2][=Branch2][C][Branch1][C][H][Branch1][C][H][N][Branch1][C][H][C][=Branch1][C][=O][C][Branch1][C][H][Branch1][C][H][C][Branch1][C][H][Branch1][C][H][C][Branch1][C][H][Branch1][C][H][C][Branch1][C][H][Branch1][C][H][C][Branch1][C][H][Branch1][C][H][C][Branch1][C][H][Branch1][C][H][C][Branch1][C][H][Branch1][C][H][C][Branch1][C][H][Branch1][C][H][C][Branch1][C][H][Branch1][C][H][C][Branch1][',\n",
       "       '[H][C][=C][Branch1][C][H][C][Branch1][C][H][=C][Branch2][Branch2][=Branch2][C][Branch1][C][H][Branch1][C][H][N][Branch1][C][H][C][=Branch1][C][=O][C][Branch1][C][H][Branch1][C][H][C][Branch1][C][H][Branch1][C][H][C][Branch1][C][H][Branch1][C][H][C][Branch1][C][H][Branch1][C][H][C][Branch1][C][H][Branch1][C][H][C][Branch1][C][H][Branch1][C][H][C][Branch1][C][H][Branch1][C][H][C][Branch1][C][H][Branch1][C][H][C][Branch1][C][H][Branch1][C][H][C][Branch1][',\n",
       "       '[H][C][=C][Branch1][C][H][C][Branch1][C][H][=C][Branch2][Branch2][=Branch2][C][Branch1][C][H][Branch1][C][H][N][Branch1][C][H][C][=Branch1][C][=O][C][Branch1][C][H][Branch1][C][H][C][Branch1][C][H][Branch1][C][H][C][Branch1][C][H][Branch1][C][H][C][Branch1][C][H][Branch1][C][H][C][Branch1][C][H][Branch1][C][H][C][Branch1][C][H][Branch1][C][H][C][Branch1][C][H][Branch1][C][H][C][Branch1][C][H][Branch1][C][H][C][Branch1][C][H][Branch1][C][H][C][Branch1][',\n",
       "       '[H][C][=C][Branch1][C][H][C][Branch1][C][H][=C][Branch2][Branch2][=Branch2][C][Branch1][C][H][Branch1][C][H][N][Branch1][C][H][C][=Branch1][C][=O][C][Branch1][C][H][Branch1][C][H][C][Branch1][C][H][Branch1][C][H][C][Branch1][C][H][Branch1][C][H][C][Branch1][C][H][Branch1][C][H][C][Branch1][C][H][Branch1][C][H][C][Branch1][C][H][Branch1][C][H][C][Branch1][C][H][Branch1][C][H][C][Branch1][C][H][Branch1][C][H][C][Branch1][C][H][Branch1][C][H][C][Branch1][',\n",
       "       '[H][C][=C][Branch1][C][H][C][Branch1][C][H][=C][Branch2][Branch2][=Branch2][C][Branch1][C][H][Branch1][C][H][N][Branch2][Ring2][C][C][S][C][=C][Branch1][C][H][C][Branch1][C][H][=C][Branch1][C][H][C][Branch1][C][H][=C][Ring1][#Branch2][C][=Ring1][=N][C][Branch1][C][H][Branch1][C][H][H][C][Branch1][C][H][Branch1][C][H][C][Branch1][C][H][Branch1][C][H][C][Branch1][C][H][Branch1][C][H][C][Branch1][C][H][Branch1][C][H][C][Branch1][C][H][Branch1][C][H][C',\n",
       "       '[H][C][=C][Branch1][C][H][C][Branch1][C][H][=C][Branch2][Branch2][=Branch2][C][Branch1][C][H][Branch1][C][H][N][Branch1][C][H][C][=Branch1][C][=O][C][Branch1][C][H][Branch1][C][H][C][Branch1][C][H][Branch1][C][H][C][Branch1][C][H][Branch1][C][H][C][Branch1][C][H][Branch1][C][H][C][Branch1][C][H][Branch1][C][H][C][Branch1][C][H][Branch1][C][H][C][Branch1][C][H][Branch1][C][H][C][Branch1][C][H][Branch1][C][H][C][Branch1][C][H][Branch1][C][H][C][Branch1][',\n",
       "       '[H][C][=C][Branch1][C][H][C][Branch1][C][H][=C][Branch2][Branch2][=Branch2][C][Branch1][C][H][Branch1][C][H][N][Branch2][Ring2][C][C][S][C][=C][Branch1][C][H][C][Branch1][C][H][=C][Branch1][C][H][C][Branch1][C][H][=C][Ring1][#Branch2][C][=Ring1][=N][C][Branch1][C][H][Branch1][C][H][H][C][Branch1][C][H][Branch1][C][H][C][Branch1][C][H][Branch1][C][H][C][Branch1][C][H][Branch1][C][H][C][Branch1][C][H][Branch1][C][H][C][Branch1][C][H][Branch1][C][H][C',\n",
       "       '[H][C][=C][Branch1][C][H][C][Branch1][C][H][=C][Branch2][Branch2][=Branch2][C][Branch1][C][H][Branch1][C][H][N][Branch1][C][H][C][=Branch1][C][=O][C][Branch1][C][H][Branch1][C][H][C][Branch1][C][H][Branch1][C][H][C][Branch1][C][H][Branch1][C][H][C][Branch1][C][H][Branch1][C][H][C][Branch1][C][H][Branch1][C][H][C][Branch1][C][H][Branch1][C][H][C][Branch1][C][H][Branch1][C][H][C][Branch1][C][H][Branch1][C][H][C][Branch1][C][H][Branch1][C][H][C][Branch1][',\n",
       "       '[H][C][=C][Branch1][C][H][C][Branch1][C][H][=C][Branch2][Branch2][=Branch2][C][Branch1][C][H][Branch1][C][H][N][Branch1][C][H][C][=Branch1][C][=O][C][Branch1][C][H][Branch1][C][H][C][Branch1][C][H][Branch1][C][H][C][Branch1][C][H][Branch1][C][H][C][Branch1][C][H][Branch1][C][H][C][Branch1][C][H][Branch1][C][H][C][Branch1][C][H][Branch1][C][H][C][Branch1][C][H][Branch1][C][H][C][Branch1][C][H][Branch1][C][H][C][Branch1][C][H][Branch1][C][H][C][Branch1][',\n",
       "       '[H][C][=C][Branch1][C][H][C][Branch1][C][H][=C][Branch2][Branch2][=Branch2][C][Branch1][C][H][Branch1][C][H][N][Branch2][Ring2][C][C][S][C][=C][Branch1][C][H][C][Branch1][C][H][=C][Branch1][C][H][C][Branch1][C][H][=C][Ring1][#Branch2][C][=Ring1][=N][C][Branch1][C][H][Branch1][C][H][H][C][Branch1][C][H][Branch1][C][H][C][Branch1][C][H][Branch1][C][H][C][Branch1][C][H][Branch1][C][H][C][Branch1][C][H][Branch1][C][H][C][Branch1][C][H][Branch1][C][H][C',\n",
       "       '[H][C][=C][Branch1][C][H][C][Branch1][C][H][=C][Branch2][Branch2][=Branch2][C][Branch1][C][H][Branch1][C][H][N][Branch2][Ring2][C][C][S][C][=C][Branch1][C][H][C][Branch1][C][H][=C][Branch1][C][H][C][Branch1][C][H][=C][Ring1][#Branch2][C][=Ring1][=N][C][Branch1][C][H][Branch1][C][H][H][C][Branch1][C][H][Branch1][C][H][C][Branch1][C][H][Branch1][C][H][C][Branch1][C][H][Branch1][C][H][C][Branch1][C][H][Branch1][C][H][C][Branch1][C][H][Branch1][C][H][C',\n",
       "       '[H][C][=C][Branch1][C][H][C][Branch1][C][H][=C][Branch2][Branch2][=Branch2][C][Branch1][C][H][Branch1][C][H][N][Branch1][C][H][C][=Branch1][C][=O][C][Branch1][C][H][Branch1][C][H][C][Branch1][C][H][Branch1][C][H][C][Branch1][C][H][Branch1][C][H][C][Branch1][C][H][Branch1][C][H][C][Branch1][C][H][Branch1][C][H][C][Branch1][C][H][Branch1][C][H][C][Branch1][C][H][Branch1][C][H][C][Branch1][C][H][Branch1][C][H][C][Branch1][C][H][Branch1][C][H][C][Branch1][',\n",
       "       '[H][C][=C][Branch1][C][H][C][Branch1][C][H][=C][Branch2][Branch2][=Branch2][C][Branch1][C][H][Branch1][C][H][N][Branch1][C][H][C][=Branch1][C][=O][C][Branch1][C][H][Branch1][C][H][C][Branch1][C][H][Branch1][C][H][C][Branch1][C][H][Branch1][C][H][C][Branch1][C][H][Branch1][C][H][C][Branch1][C][H][Branch1][C][H][C][Branch1][C][H][Branch1][C][H][C][Branch1][C][H][Branch1][C][H][C][Branch1][C][H][Branch1][C][H][C][Branch1][C][H][Branch1][C][H][C][Branch1][',\n",
       "       '[H][C][=C][Branch1][C][H][C][Branch1][C][H][=C][Branch2][Branch2][=Branch2][C][Branch1][C][H][Branch1][C][H][N][Branch1][C][H][C][=Branch1][C][=O][C][Branch1][C][H][Branch1][C][H][C][Branch1][C][H][Branch1][C][H][C][Branch1][C][H][Branch1][C][H][C][Branch1][C][H][Branch1][C][H][C][Branch1][C][H][Branch1][C][H][C][Branch1][C][H][Branch1][C][H][C][Branch1][C][H][Branch1][C][H][C][Branch1][C][H][Branch1][C][H][C][Branch1][C][H][Branch1][C][H][C][Branch1][',\n",
       "       '[H][C][=C][Branch1][C][H][C][Branch1][C][H][=C][Branch2][Branch2][=Branch2][C][Branch1][C][H][Branch1][C][H][N][Branch1][C][H][C][=Branch1][C][=O][C][Branch1][C][H][Branch1][C][H][C][Branch1][C][H][Branch1][C][H][C][Branch1][C][H][Branch1][C][H][C][Branch1][C][H][Branch1][C][H][C][Branch1][C][H][Branch1][C][H][C][Branch1][C][H][Branch1][C][H][C][Branch1][C][H][Branch1][C][H][C][Branch1][C][H][Branch1][C][H][C][Branch1][C][H][Branch1][C][H][C][Branch1][',\n",
       "       '[H][C][=C][Branch1][C][H][C][Branch1][C][H][=C][Branch2][Branch2][=Branch2][C][Branch1][C][H][Branch1][C][H][N][Branch1][C][H][C][=Branch1][C][=O][C][Branch1][C][H][Branch1][C][H][C][Branch1][C][H][Branch1][C][H][C][Branch1][C][H][Branch1][C][H][C][Branch1][C][H][Branch1][C][H][C][Branch1][C][H][Branch1][C][H][C][Branch1][C][H][Branch1][C][H][C][Branch1][C][H][Branch1][C][H][C][Branch1][C][H][Branch1][C][H][C][Branch1][C][H][Branch1][C][H][C][Branch1][',\n",
       "       '[H][C][=C][Branch1][C][H][C][Branch1][C][H][=C][Branch2][Branch2][=Branch2][C][Branch1][C][H][Branch1][C][H][N][Branch1][C][H][C][=Branch1][C][=O][C][Branch1][C][H][Branch1][C][H][C][Branch1][C][H][Branch1][C][H][C][Branch1][C][H][Branch1][C][H][C][Branch1][C][H][Branch1][C][H][C][Branch1][C][H][Branch1][C][H][C][Branch1][C][H][Branch1][C][H][C][Branch1][C][H][Branch1][C][H][C][Branch1][C][H][Branch1][C][H][C][Branch1][C][H][Branch1][C][H][C][Branch1][',\n",
       "       '[H][C][=C][Branch1][C][H][C][Branch1][C][H][=C][Branch2][Branch2][=Branch2][C][Branch1][C][H][Branch1][C][H][N][Branch1][C][H][C][=Branch1][C][=O][C][Branch1][C][H][Branch1][C][H][C][Branch1][C][H][Branch1][C][H][C][Branch1][C][H][Branch1][C][H][C][Branch1][C][H][Branch1][C][H][C][Branch1][C][H][Branch1][C][H][C][Branch1][C][H][Branch1][C][H][C][Branch1][C][H][Branch1][C][H][C][Branch1][C][H][Branch1][C][H][C][Branch1][C][H][Branch1][C][H][C][Branch1][',\n",
       "       '[H][C][=C][Branch1][C][H][C][Branch1][C][H][=C][Branch2][Branch2][=Branch2][C][Branch1][C][H][Branch1][C][H][N][Branch2][Ring2][C][C][S][C][=C][Branch1][C][H][C][Branch1][C][H][=C][Branch1][C][H][C][Branch1][C][H][=C][Ring1][#Branch2][C][=Ring1][=N][C][Branch1][C][H][Branch1][C][H][H][C][Branch1][C][H][Branch1][C][H][C][Branch1][C][H][Branch1][C][H][C][Branch1][C][H][Branch1][C][H][C][Branch1][C][H][Branch1][C][H][C][Branch1][C][H][Branch1][C][H][C',\n",
       "       '[H][C][=C][Branch1][C][H][C][Branch1][C][H][=C][Branch2][Branch2][=Branch2][C][Branch1][C][H][Branch1][C][H][N][Branch1][C][H][C][=Branch1][C][=O][C][Branch1][C][H][Branch1][C][H][C][Branch1][C][H][Branch1][C][H][C][Branch1][C][H][Branch1][C][H][C][Branch1][C][H][Branch1][C][H][C][Branch1][C][H][Branch1][C][H][C][Branch1][C][H][Branch1][C][H][C][Branch1][C][H][Branch1][C][H][C][Branch1][C][H][Branch1][C][H][C][Branch1][C][H][Branch1][C][H][C][Branch1][',\n",
       "       '[H][C][=C][Branch1][C][H][C][Branch1][C][H][=C][Branch2][Branch2][=Branch2][C][Branch1][C][H][Branch1][C][H][N][Branch1][C][H][C][=Branch1][C][=O][C][Branch1][C][H][Branch1][C][H][C][Branch1][C][H][Branch1][C][H][C][Branch1][C][H][Branch1][C][H][C][Branch1][C][H][Branch1][C][H][C][Branch1][C][H][Branch1][C][H][C][Branch1][C][H][Branch1][C][H][C][Branch1][C][H][Branch1][C][H][C][Branch1][C][H][Branch1][C][H][C][Branch1][C][H][Branch1][C][H][C][Branch1][',\n",
       "       '[H][C][=C][Branch1][C][H][C][Branch1][C][H][=C][Branch2][Branch2][=Branch2][C][Branch1][C][H][Branch1][C][H][N][Branch1][C][H][C][=Branch1][C][=O][C][Branch1][C][H][Branch1][C][H][C][Branch1][C][H][Branch1][C][H][C][Branch1][C][H][Branch1][C][H][C][Branch1][C][H][Branch1][C][H][C][Branch1][C][H][Branch1][C][H][C][Branch1][C][H][Branch1][C][H][C][Branch1][C][H][Branch1][C][H][C][Branch1][C][H][Branch1][C][H][C][Branch1][C][H][Branch1][C][H][C][Branch1][',\n",
       "       '[H][C][=C][Branch1][C][H][C][Branch1][C][H][=C][Branch2][Branch2][=Branch2][C][Branch1][C][H][Branch1][C][H][N][Branch2][Ring2][C][C][S][C][=C][Branch1][C][H][C][Branch1][C][H][=C][Branch1][C][H][C][Branch1][C][H][=C][Ring1][#Branch2][C][=Ring1][=N][C][Branch1][C][H][Branch1][C][H][H][C][Branch1][C][H][Branch1][C][H][C][Branch1][C][H][Branch1][C][H][C][Branch1][C][H][Branch1][C][H][C][Branch1][C][H][Branch1][C][H][C][Branch1][C][H][Branch1][C][H][C',\n",
       "       '[H][C][=C][Branch1][C][H][C][Branch1][C][H][=C][Branch2][Branch2][=Branch2][C][Branch1][C][H][Branch1][C][H][N][Branch2][Ring2][C][C][S][C][=C][Branch1][C][H][C][Branch1][C][H][=C][Branch1][C][H][C][Branch1][C][H][=C][Ring1][#Branch2][C][=Ring1][=N][C][Branch1][C][H][Branch1][C][H][H][C][Branch1][C][H][Branch1][C][H][C][Branch1][C][H][Branch1][C][H][C][Branch1][C][H][Branch1][C][H][C][Branch1][C][H][Branch1][C][H][C][Branch1][C][H][Branch1][C][H][C',\n",
       "       '[H][C][=C][Branch1][C][H][C][Branch1][C][H][=C][Branch2][Branch2][=Branch2][C][Branch1][C][H][Branch1][C][H][N][Branch1][C][H][C][=Branch1][C][=O][C][Branch1][C][H][Branch1][C][H][C][Branch1][C][H][Branch1][C][H][C][Branch1][C][H][Branch1][C][H][C][Branch1][C][H][Branch1][C][H][C][Branch1][C][H][Branch1][C][H][C][Branch1][C][H][Branch1][C][H][C][Branch1][C][H][Branch1][C][H][C][Branch1][C][H][Branch1][C][H][C][Branch1][C][H][Branch1][C][H][C][Branch1][',\n",
       "       '[H][C][=C][Branch1][C][H][C][Branch1][C][H][=C][Branch2][Branch2][=Branch2][C][Branch1][C][H][Branch1][C][H][N][Branch1][C][H][C][=Branch1][C][=O][C][Branch1][C][H][Branch1][C][H][C][Branch1][C][H][Branch1][C][H][C][Branch1][C][H][Branch1][C][H][C][Branch1][C][H][Branch1][C][H][C][Branch1][C][H][Branch1][C][H][C][Branch1][C][H][Branch1][C][H][C][Branch1][C][H][Branch1][C][H][C][Branch1][C][H][Branch1][C][H][C][Branch1][C][H][Branch1][C][H][C][Branch1][',\n",
       "       '[H][C][=C][Branch1][C][H][C][Branch1][C][H][=C][Branch2][Branch2][=Branch2][C][Branch1][C][H][Branch1][C][H][N][Branch1][C][H][C][=Branch1][C][=O][C][Branch1][C][H][Branch1][C][H][C][Branch1][C][H][Branch1][C][H][C][Branch1][C][H][Branch1][C][H][C][Branch1][C][H][Branch1][C][H][C][Branch1][C][H][Branch1][C][H][C][Branch1][C][H][Branch1][C][H][C][Branch1][C][H][Branch1][C][H][C][Branch1][C][H][Branch1][C][H][C][Branch1][C][H][Branch1][C][H][C][Branch1][',\n",
       "       '[H][C][=C][Branch1][C][H][C][Branch1][C][H][=C][Branch2][Branch2][=Branch2][C][Branch1][C][H][Branch1][C][H][N][Branch1][C][H][C][=Branch1][C][=O][C][Branch1][C][H][Branch1][C][H][C][Branch1][C][H][Branch1][C][H][C][Branch1][C][H][Branch1][C][H][C][Branch1][C][H][Branch1][C][H][C][Branch1][C][H][Branch1][C][H][C][Branch1][C][H][Branch1][C][H][C][Branch1][C][H][Branch1][C][H][C][Branch1][C][H][Branch1][C][H][C][Branch1][C][H][Branch1][C][H][C][Branch1][',\n",
       "       '[H][C][=C][Branch1][C][H][C][Branch1][C][H][=C][Branch2][Branch2][=Branch2][C][Branch1][C][H][Branch1][C][H][N][Branch1][C][H][C][=Branch1][C][=O][C][Branch1][C][H][Branch1][C][H][C][Branch1][C][H][Branch1][C][H][C][Branch1][C][H][Branch1][C][H][C][Branch1][C][H][Branch1][C][H][C][Branch1][C][H][Branch1][C][H][C][Branch1][C][H][Branch1][C][H][C][Branch1][C][H][Branch1][C][H][C][Branch1][C][H][Branch1][C][H][C][Branch1][C][H][Branch1][C][H][C][Branch1][',\n",
       "       '[H][C][=C][Branch1][C][H][C][Branch1][C][H][=C][Branch2][Branch2][=Branch2][C][Branch1][C][H][Branch1][C][H][N][Branch1][C][H][C][=Branch1][C][=O][C][Branch1][C][H][Branch1][C][H][C][Branch1][C][H][Branch1][C][H][C][Branch1][C][H][Branch1][C][H][C][Branch1][C][H][Branch1][C][H][C][Branch1][C][H][Branch1][C][H][C][Branch1][C][H][Branch1][C][H][C][Branch1][C][H][Branch1][C][H][C][Branch1][C][H][Branch1][C][H][C][Branch1][C][H][Branch1][C][H][C][Branch1][',\n",
       "       '[H][C][=C][Branch1][C][H][C][Branch1][C][H][=C][Branch2][Branch2][=Branch2][C][Branch1][C][H][Branch1][C][H][N][Branch1][C][H][C][=Branch1][C][=O][C][Branch1][C][H][Branch1][C][H][C][Branch1][C][H][Branch1][C][H][C][Branch1][C][H][Branch1][C][H][C][Branch1][C][H][Branch1][C][H][C][Branch1][C][H][Branch1][C][H][C][Branch1][C][H][Branch1][C][H][C][Branch1][C][H][Branch1][C][H][C][Branch1][C][H][Branch1][C][H][C][Branch1][C][H][Branch1][C][H][C][Branch1][',\n",
       "       '[H][C][=C][Branch1][C][H][C][Branch1][C][H][=C][Branch2][Branch2][=Branch2][C][Branch1][C][H][Branch1][C][H][N][Branch1][C][H][C][=Branch1][C][=O][C][Branch1][C][H][Branch1][C][H][C][Branch1][C][H][Branch1][C][H][C][Branch1][C][H][Branch1][C][H][C][Branch1][C][H][Branch1][C][H][C][Branch1][C][H][Branch1][C][H][C][Branch1][C][H][Branch1][C][H][C][Branch1][C][H][Branch1][C][H][C][Branch1][C][H][Branch1][C][H][C][Branch1][C][H][Branch1][C][H][C][Branch1][',\n",
       "       '[H][C][=C][Branch1][C][H][C][Branch1][C][H][=C][Branch2][Branch2][=Branch2][C][Branch1][C][H][Branch1][C][H][N][Branch1][C][H][C][=Branch1][C][=O][C][Branch1][C][H][Branch1][C][H][C][Branch1][C][H][Branch1][C][H][C][Branch1][C][H][Branch1][C][H][C][Branch1][C][H][Branch1][C][H][C][Branch1][C][H][Branch1][C][H][C][Branch1][C][H][Branch1][C][H][C][Branch1][C][H][Branch1][C][H][C][Branch1][C][H][Branch1][C][H][C][Branch1][C][H][Branch1][C][H][C][Branch1][',\n",
       "       '[H][C][=C][Branch1][C][H][C][Branch1][C][H][=C][Branch2][Branch2][=Branch2][C][Branch1][C][H][Branch1][C][H][N][Branch1][C][H][C][=Branch1][C][=O][C][Branch1][C][H][Branch1][C][H][C][Branch1][C][H][Branch1][C][H][C][Branch1][C][H][Branch1][C][H][C][Branch1][C][H][Branch1][C][H][C][Branch1][C][H][Branch1][C][H][C][Branch1][C][H][Branch1][C][H][C][Branch1][C][H][Branch1][C][H][C][Branch1][C][H][Branch1][C][H][C][Branch1][C][H][Branch1][C][H][C][Branch1][',\n",
       "       '[H][C][=C][Branch1][C][H][C][Branch1][C][H][=C][Branch2][Branch2][=Branch2][C][Branch1][C][H][Branch1][C][H][N][Branch1][C][H][C][=Branch1][C][=O][C][Branch1][C][H][Branch1][C][H][C][Branch1][C][H][Branch1][C][H][C][Branch1][C][H][Branch1][C][H][C][Branch1][C][H][Branch1][C][H][C][Branch1][C][H][Branch1][C][H][C][Branch1][C][H][Branch1][C][H][C][Branch1][C][H][Branch1][C][H][C][Branch1][C][H][Branch1][C][H][C][Branch1][C][H][Branch1][C][H][C][Branch1][',\n",
       "       '[H][C][=C][Branch1][C][H][C][Branch1][C][H][=C][Branch2][Branch2][=Branch2][C][Branch1][C][H][Branch1][C][H][N][Branch1][C][H][C][=Branch1][C][=O][C][Branch1][C][H][Branch1][C][H][C][Branch1][C][H][Branch1][C][H][C][Branch1][C][H][Branch1][C][H][C][Branch1][C][H][Branch1][C][H][C][Branch1][C][H][Branch1][C][H][C][Branch1][C][H][Branch1][C][H][C][Branch1][C][H][Branch1][C][H][C][Branch1][C][H][Branch1][C][H][C][Branch1][C][H][Branch1][C][H][C][Branch1][',\n",
       "       '[H][C][=C][Branch1][C][H][C][Branch1][C][H][=C][Branch2][Branch2][=Branch2][C][Branch1][C][H][Branch1][C][H][N][Branch1][C][H][C][=Branch1][C][=O][C][Branch1][C][H][Branch1][C][H][C][Branch1][C][H][Branch1][C][H][C][Branch1][C][H][Branch1][C][H][C][Branch1][C][H][Branch1][C][H][C][Branch1][C][H][Branch1][C][H][C][Branch1][C][H][Branch1][C][H][C][Branch1][C][H][Branch1][C][H][C][Branch1][C][H][Branch1][C][H][C][Branch1][C][H][Branch1][C][H][C][Branch1][',\n",
       "       '[H][C][=C][Branch1][C][H][C][Branch1][C][H][=C][Branch2][Branch2][=Branch2][C][Branch1][C][H][Branch1][C][H][N][Branch1][C][H][C][=Branch1][C][=O][C][Branch1][C][H][Branch1][C][H][C][Branch1][C][H][Branch1][C][H][C][Branch1][C][H][Branch1][C][H][C][Branch1][C][H][Branch1][C][H][C][Branch1][C][H][Branch1][C][H][C][Branch1][C][H][Branch1][C][H][C][Branch1][C][H][Branch1][C][H][C][Branch1][C][H][Branch1][C][H][C][Branch1][C][H][Branch1][C][H][C][Branch1][',\n",
       "       '[H][C][=C][Branch1][C][H][C][Branch1][C][H][=C][Branch2][Branch2][=Branch2][C][Branch1][C][H][Branch1][C][H][N][Branch1][C][H][C][=Branch1][C][=O][C][Branch1][C][H][Branch1][C][H][C][Branch1][C][H][Branch1][C][H][C][Branch1][C][H][Branch1][C][H][C][Branch1][C][H][Branch1][C][H][C][Branch1][C][H][Branch1][C][H][C][Branch1][C][H][Branch1][C][H][C][Branch1][C][H][Branch1][C][H][C][Branch1][C][H][Branch1][C][H][C][Branch1][C][H][Branch1][C][H][C][Branch1][',\n",
       "       '[H][C][=C][Branch1][C][H][C][Branch1][C][H][=C][Branch2][Branch2][=Branch2][C][Branch1][C][H][Branch1][C][H][N][Branch1][C][H][C][=Branch1][C][=O][C][Branch1][C][H][Branch1][C][H][C][Branch1][C][H][Branch1][C][H][C][Branch1][C][H][Branch1][C][H][C][Branch1][C][H][Branch1][C][H][C][Branch1][C][H][Branch1][C][H][C][Branch1][C][H][Branch1][C][H][C][Branch1][C][H][Branch1][C][H][C][Branch1][C][H][Branch1][C][H][C][Branch1][C][H][Branch1][C][H][C][Branch1][',\n",
       "       '[H][C][=C][Branch1][C][H][C][Branch1][C][H][=C][Branch2][Branch2][=Branch2][C][Branch1][C][H][Branch1][C][H][N][Branch1][C][H][C][=Branch1][C][=O][C][Branch1][C][H][Branch1][C][H][C][Branch1][C][H][Branch1][C][H][C][Branch1][C][H][Branch1][C][H][C][Branch1][C][H][Branch1][C][H][C][Branch1][C][H][Branch1][C][H][C][Branch1][C][H][Branch1][C][H][C][Branch1][C][H][Branch1][C][H][C][Branch1][C][H][Branch1][C][H][C][Branch1][C][H][Branch1][C][H][C][Branch1][',\n",
       "       '[H][C][=C][Branch1][C][H][C][Branch1][C][H][=C][Branch2][Branch2][=Branch2][C][Branch1][C][H][Branch1][C][H][N][Branch1][C][H][C][=Branch1][C][=O][C][Branch1][C][H][Branch1][C][H][C][Branch1][C][H][Branch1][C][H][C][Branch1][C][H][Branch1][C][H][C][Branch1][C][H][Branch1][C][H][C][Branch1][C][H][Branch1][C][H][C][Branch1][C][H][Branch1][C][H][C][Branch1][C][H][Branch1][C][H][C][Branch1][C][H][Branch1][C][H][C][Branch1][C][H][Branch1][C][H][C][Branch1][',\n",
       "       '[H][C][=C][Branch1][C][H][C][Branch1][C][H][=C][Branch2][Branch2][=Branch2][C][Branch1][C][H][Branch1][C][H][N][Branch1][C][H][C][=Branch1][C][=O][C][Branch1][C][H][Branch1][C][H][C][Branch1][C][H][Branch1][C][H][C][Branch1][C][H][Branch1][C][H][C][Branch1][C][H][Branch1][C][H][C][Branch1][C][H][Branch1][C][H][C][Branch1][C][H][Branch1][C][H][C][Branch1][C][H][Branch1][C][H][C][Branch1][C][H][Branch1][C][H][C][Branch1][C][H][Branch1][C][H][C][Branch1][',\n",
       "       '[H][C][=C][Branch1][C][H][C][Branch1][C][H][=C][Branch2][Branch2][=Branch2][C][Branch1][C][H][Branch1][C][H][N][Branch1][C][H][C][=Branch1][C][=O][C][Branch1][C][H][Branch1][C][H][C][Branch1][C][H][Branch1][C][H][C][Branch1][C][H][Branch1][C][H][C][Branch1][C][H][Branch1][C][H][C][Branch1][C][H][Branch1][C][H][C][Branch1][C][H][Branch1][C][H][C][Branch1][C][H][Branch1][C][H][C][Branch1][C][H][Branch1][C][H][C][Branch1][C][H][Branch1][C][H][C][Branch1][',\n",
       "       '[H][C][=C][Branch1][C][H][C][Branch1][C][H][=C][Branch2][Branch2][=Branch2][C][Branch1][C][H][Branch1][C][H][N][Branch2][Ring2][C][C][S][C][=C][Branch1][C][H][C][Branch1][C][H][=C][Branch1][C][H][C][Branch1][C][H][=C][Ring1][#Branch2][C][=Ring1][=N][C][Branch1][C][H][Branch1][C][H][H][C][Branch1][C][H][Branch1][C][H][C][Branch1][C][H][Branch1][C][H][C][Branch1][C][H][Branch1][C][H][C][Branch1][C][H][Branch1][C][H][C][Branch1][C][H][Branch1][C][H][C',\n",
       "       '[H][C][=C][Branch1][C][H][C][Branch1][C][H][=C][Branch2][Branch2][=Branch2][C][Branch1][C][H][Branch1][C][H][N][Branch1][C][H][C][=Branch1][C][=O][C][Branch1][C][H][Branch1][C][H][C][Branch1][C][H][Branch1][C][H][C][Branch1][C][H][Branch1][C][H][C][Branch1][C][H][Branch1][C][H][C][Branch1][C][H][Branch1][C][H][C][Branch1][C][H][Branch1][C][H][C][Branch1][C][H][Branch1][C][H][C][Branch1][C][H][Branch1][C][H][C][Branch1][C][H][Branch1][C][H][C][Branch1][',\n",
       "       '[H][C][=C][Branch1][C][H][C][Branch1][C][H][=C][Branch2][Branch2][=Branch2][C][Branch1][C][H][Branch1][C][H][N][Branch2][Ring2][C][C][S][C][=C][Branch1][C][H][C][Branch1][C][H][=C][Branch1][C][H][C][Branch1][C][H][=C][Ring1][#Branch2][C][=Ring1][=N][C][Branch1][C][H][Branch1][C][H][H][C][Branch1][C][H][Branch1][C][H][C][Branch1][C][H][Branch1][C][H][C][Branch1][C][H][Branch1][C][H][C][Branch1][C][H][Branch1][C][H][C][Branch1][C][H][Branch1][C][H][C',\n",
       "       '[H][C][=C][Branch1][C][H][C][Branch1][C][H][=C][Branch2][Branch2][=Branch2][C][Branch1][C][H][Branch1][C][H][N][Branch2][Ring2][C][C][S][C][=C][Branch1][C][H][C][Branch1][C][H][=C][Branch1][C][H][C][Branch1][C][H][=C][Ring1][#Branch2][C][=Ring1][=N][C][Branch1][C][H][Branch1][C][H][H][C][Branch1][C][H][Branch1][C][H][C][Branch1][C][H][Branch1][C][H][C][Branch1][C][H][Branch1][C][H][C][Branch1][C][H][Branch1][C][H][C][Branch1][C][H][Branch1][C][H][C',\n",
       "       '[H][C][=C][Branch1][C][H][C][Branch1][C][H][=C][Branch2][Branch2][=Branch2][C][Branch1][C][H][Branch1][C][H][N][Branch1][C][H][C][=Branch1][C][=O][C][Branch1][C][H][Branch1][C][H][C][Branch1][C][H][Branch1][C][H][C][Branch1][C][H][Branch1][C][H][C][Branch1][C][H][Branch1][C][H][C][Branch1][C][H][Branch1][C][H][C][Branch1][C][H][Branch1][C][H][C][Branch1][C][H][Branch1][C][H][C][Branch1][C][H][Branch1][C][H][C][Branch1][C][H][Branch1][C][H][C][Branch1][',\n",
       "       '[H][C][=C][Branch1][C][H][C][Branch1][C][H][=C][Branch2][Branch2][=Branch2][C][Branch1][C][H][Branch1][C][H][N][Branch1][C][H][C][=Branch1][C][=O][C][Branch1][C][H][Branch1][C][H][C][Branch1][C][H][Branch1][C][H][C][Branch1][C][H][Branch1][C][H][C][Branch1][C][H][Branch1][C][H][C][Branch1][C][H][Branch1][C][H][C][Branch1][C][H][Branch1][C][H][C][Branch1][C][H][Branch1][C][H][C][Branch1][C][H][Branch1][C][H][C][Branch1][C][H][Branch1][C][H][C][Branch1][',\n",
       "       '[H][C][=C][Branch1][C][H][C][Branch1][C][H][=C][Branch2][Branch2][=Branch2][C][Branch1][C][H][Branch1][C][H][N][Branch1][C][H][C][=Branch1][C][=O][C][Branch1][C][H][Branch1][C][H][C][Branch1][C][H][Branch1][C][H][C][Branch1][C][H][Branch1][C][H][C][Branch1][C][H][Branch1][C][H][C][Branch1][C][H][Branch1][C][H][C][Branch1][C][H][Branch1][C][H][C][Branch1][C][H][Branch1][C][H][C][Branch1][C][H][Branch1][C][H][C][Branch1][C][H][Branch1][C][H][C][Branch1][',\n",
       "       '[H][C][=C][Branch1][C][H][C][Branch1][C][H][=C][Branch2][Branch2][=Branch2][C][Branch1][C][H][Branch1][C][H][N][Branch2][Ring2][C][C][S][C][=C][Branch1][C][H][C][Branch1][C][H][=C][Branch1][C][H][C][Branch1][C][H][=C][Ring1][#Branch2][C][=Ring1][=N][C][Branch1][C][H][Branch1][C][H][H][C][Branch1][C][H][Branch1][C][H][C][Branch1][C][H][Branch1][C][H][C][Branch1][C][H][Branch1][C][H][C][Branch1][C][H][Branch1][C][H][C][Branch1][C][H][Branch1][C][H][C',\n",
       "       '[H][C][=C][Branch1][C][H][C][Branch1][C][H][=C][Branch2][Branch2][=Branch2][C][Branch1][C][H][Branch1][C][H][N][Branch2][Ring2][C][C][S][C][=C][Branch1][C][H][C][Branch1][C][H][=C][Branch1][C][H][C][Branch1][C][H][=C][Ring1][#Branch2][C][=Ring1][=N][C][Branch1][C][H][Branch1][C][H][H][C][Branch1][C][H][Branch1][C][H][C][Branch1][C][H][Branch1][C][H][C][Branch1][C][H][Branch1][C][H][C][Branch1][C][H][Branch1][C][H][C][Branch1][C][H][Branch1][C][H][C',\n",
       "       '[H][C][=C][Branch1][C][H][C][Branch1][C][H][=C][Branch2][Branch2][=Branch2][C][Branch1][C][H][Branch1][C][H][N][Branch1][C][H][C][=Branch1][C][=O][C][Branch1][C][H][Branch1][C][H][C][Branch1][C][H][Branch1][C][H][C][Branch1][C][H][Branch1][C][H][C][Branch1][C][H][Branch1][C][H][C][Branch1][C][H][Branch1][C][H][C][Branch1][C][H][Branch1][C][H][C][Branch1][C][H][Branch1][C][H][C][Branch1][C][H][Branch1][C][H][C][Branch1][C][H][Branch1][C][H][C][Branch1][',\n",
       "       '[H][C][=C][Branch1][C][H][C][Branch1][C][H][=C][Branch2][Branch2][=Branch2][C][Branch1][C][H][Branch1][C][H][N][Branch1][C][H][C][=Branch1][C][=O][C][Branch1][C][H][Branch1][C][H][C][Branch1][C][H][Branch1][C][H][C][Branch1][C][H][Branch1][C][H][C][Branch1][C][H][Branch1][C][H][C][Branch1][C][H][Branch1][C][H][C][Branch1][C][H][Branch1][C][H][C][Branch1][C][H][Branch1][C][H][C][Branch1][C][H][Branch1][C][H][C][Branch1][C][H][Branch1][C][H][C][Branch1][',\n",
       "       '[H][C][=C][Branch1][C][H][C][Branch1][C][H][=C][Branch2][Branch2][=Branch2][C][Branch1][C][H][Branch1][C][H][N][Branch1][C][H][C][=Branch1][C][=O][C][Branch1][C][H][Branch1][C][H][C][Branch1][C][H][Branch1][C][H][C][Branch1][C][H][Branch1][C][H][C][Branch1][C][H][Branch1][C][H][C][Branch1][C][H][Branch1][C][H][C][Branch1][C][H][Branch1][C][H][C][Branch1][C][H][Branch1][C][H][C][Branch1][C][H][Branch1][C][H][C][Branch1][C][H][Branch1][C][H][C][Branch1][',\n",
       "       '[H][C][=C][Branch1][C][H][C][Branch1][C][H][=C][Branch2][Branch2][=Branch2][C][Branch1][C][H][Branch1][C][H][N][Branch1][C][H][C][=Branch1][C][=O][C][Branch1][C][H][Branch1][C][H][C][Branch1][C][H][Branch1][C][H][C][Branch1][C][H][Branch1][C][H][C][Branch1][C][H][Branch1][C][H][C][Branch1][C][H][Branch1][C][H][C][Branch1][C][H][Branch1][C][H][C][Branch1][C][H][Branch1][C][H][C][Branch1][C][H][Branch1][C][H][C][Branch1][C][H][Branch1][C][H][C][Branch1][',\n",
       "       '[H][C][=C][Branch1][C][H][C][Branch1][C][H][=C][Branch2][Branch2][=Branch2][C][Branch1][C][H][Branch1][C][H][N][Branch1][C][H][C][=Branch1][C][=O][C][Branch1][C][H][Branch1][C][H][C][Branch1][C][H][Branch1][C][H][C][Branch1][C][H][Branch1][C][H][C][Branch1][C][H][Branch1][C][H][C][Branch1][C][H][Branch1][C][H][C][Branch1][C][H][Branch1][C][H][C][Branch1][C][H][Branch1][C][H][C][Branch1][C][H][Branch1][C][H][C][Branch1][C][H][Branch1][C][H][C][Branch1][',\n",
       "       '[H][C][=C][Branch1][C][H][C][Branch1][C][H][=C][Branch2][Branch2][=Branch2][C][Branch1][C][H][Branch1][C][H][N][Branch1][C][H][C][=Branch1][C][=O][C][Branch1][C][H][Branch1][C][H][C][Branch1][C][H][Branch1][C][H][C][Branch1][C][H][Branch1][C][H][C][Branch1][C][H][Branch1][C][H][C][Branch1][C][H][Branch1][C][H][C][Branch1][C][H][Branch1][C][H][C][Branch1][C][H][Branch1][C][H][C][Branch1][C][H][Branch1][C][H][C][Branch1][C][H][Branch1][C][H][C][Branch1][',\n",
       "       '[H][C][=C][Branch1][C][H][C][Branch1][C][H][=C][Branch2][Branch2][=Branch2][C][Branch1][C][H][Branch1][C][H][N][Branch1][C][H][C][=Branch1][C][=O][C][Branch1][C][H][Branch1][C][H][C][Branch1][C][H][Branch1][C][H][C][Branch1][C][H][Branch1][C][H][C][Branch1][C][H][Branch1][C][H][C][Branch1][C][H][Branch1][C][H][C][Branch1][C][H][Branch1][C][H][C][Branch1][C][H][Branch1][C][H][C][Branch1][C][H][Branch1][C][H][C][Branch1][C][H][Branch1][C][H][C][Branch1][',\n",
       "       '[H][C][=C][Branch1][C][H][C][Branch1][C][H][=C][Branch2][Branch2][=Branch2][C][Branch1][C][H][Branch1][C][H][N][Branch2][Ring2][C][C][S][C][=C][Branch1][C][H][C][Branch1][C][H][=C][Branch1][C][H][C][Branch1][C][H][=C][Ring1][#Branch2][C][=Ring1][=N][C][Branch1][C][H][Branch1][C][H][H][C][Branch1][C][H][Branch1][C][H][C][Branch1][C][H][Branch1][C][H][C][Branch1][C][H][Branch1][C][H][C][Branch1][C][H][Branch1][C][H][C][Branch1][C][H][Branch1][C][H][C',\n",
       "       '[H][C][=C][Branch1][C][H][C][Branch1][C][H][=C][Branch2][Branch2][=Branch2][C][Branch1][C][H][Branch1][C][H][N][Branch1][C][H][C][=Branch1][C][=O][C][Branch1][C][H][Branch1][C][H][C][Branch1][C][H][Branch1][C][H][C][Branch1][C][H][Branch1][C][H][C][Branch1][C][H][Branch1][C][H][C][Branch1][C][H][Branch1][C][H][C][Branch1][C][H][Branch1][C][H][C][Branch1][C][H][Branch1][C][H][C][Branch1][C][H][Branch1][C][H][C][Branch1][C][H][Branch1][C][H][C][Branch1][',\n",
       "       '[H][C][=C][Branch1][C][H][C][Branch1][C][H][=C][Branch2][Branch2][=Branch2][C][Branch1][C][H][Branch1][C][H][N][Branch2][Ring2][C][C][S][C][=C][Branch1][C][H][C][Branch1][C][H][=C][Branch1][C][H][C][Branch1][C][H][=C][Ring1][#Branch2][C][=Ring1][=N][C][Branch1][C][H][Branch1][C][H][H][C][Branch1][C][H][Branch1][C][H][C][Branch1][C][H][Branch1][C][H][C][Branch1][C][H][Branch1][C][H][C][Branch1][C][H][Branch1][C][H][C][Branch1][C][H][Branch1][C][H][C',\n",
       "       '[H][C][=C][Branch1][C][H][C][Branch1][C][H][=C][Branch2][Branch2][=Branch2][C][Branch1][C][H][Branch1][C][H][N][Branch1][C][H][C][=Branch1][C][=O][C][Branch1][C][H][Branch1][C][H][C][Branch1][C][H][Branch1][C][H][C][Branch1][C][H][Branch1][C][H][C][Branch1][C][H][Branch1][C][H][C][Branch1][C][H][Branch1][C][H][C][Branch1][C][H][Branch1][C][H][C][Branch1][C][H][Branch1][C][H][C][Branch1][C][H][Branch1][C][H][C][Branch1][C][H][Branch1][C][H][C][Branch1][',\n",
       "       '[H][C][=C][Branch1][C][H][C][Branch1][C][H][=C][Branch2][Branch2][=Branch2][C][Branch1][C][H][Branch1][C][H][N][Branch2][Ring2][C][C][S][C][=C][Branch1][C][H][C][Branch1][C][H][=C][Branch1][C][H][C][Branch1][C][H][=C][Ring1][#Branch2][C][=Ring1][=N][C][Branch1][C][H][Branch1][C][H][H][C][Branch1][C][H][Branch1][C][H][C][Branch1][C][H][Branch1][C][H][C][Branch1][C][H][Branch1][C][H][C][Branch1][C][H][Branch1][C][H][C][Branch1][C][H][Branch1][C][H][C',\n",
       "       '[H][C][=C][Branch1][C][H][C][Branch1][C][H][=C][Branch2][Branch2][=Branch2][C][Branch1][C][H][Branch1][C][H][N][Branch1][C][H][C][=Branch1][C][=O][C][Branch1][C][H][Branch1][C][H][C][Branch1][C][H][Branch1][C][H][C][Branch1][C][H][Branch1][C][H][C][Branch1][C][H][Branch1][C][H][C][Branch1][C][H][Branch1][C][H][C][Branch1][C][H][Branch1][C][H][C][Branch1][C][H][Branch1][C][H][C][Branch1][C][H][Branch1][C][H][C][Branch1][C][H][Branch1][C][H][C][Branch1][',\n",
       "       '[H][C][=C][Branch1][C][H][C][Branch1][C][H][=C][Branch2][Branch2][=Branch2][C][Branch1][C][H][Branch1][C][H][N][Branch1][C][H][C][=Branch1][C][=O][C][Branch1][C][H][Branch1][C][H][C][Branch1][C][H][Branch1][C][H][C][Branch1][C][H][Branch1][C][H][C][Branch1][C][H][Branch1][C][H][C][Branch1][C][H][Branch1][C][H][C][Branch1][C][H][Branch1][C][H][C][Branch1][C][H][Branch1][C][H][C][Branch1][C][H][Branch1][C][H][C][Branch1][C][H][Branch1][C][H][C][Branch1][',\n",
       "       '[H][C][=C][Branch1][C][H][C][Branch1][C][H][=C][Branch2][Branch2][=Branch2][C][Branch1][C][H][Branch1][C][H][N][Branch1][C][H][C][=Branch1][C][=O][C][Branch1][C][H][Branch1][C][H][C][Branch1][C][H][Branch1][C][H][C][Branch1][C][H][Branch1][C][H][C][Branch1][C][H][Branch1][C][H][C][Branch1][C][H][Branch1][C][H][C][Branch1][C][H][Branch1][C][H][C][Branch1][C][H][Branch1][C][H][C][Branch1][C][H][Branch1][C][H][C][Branch1][C][H][Branch1][C][H][C][Branch1][',\n",
       "       '[H][C][=C][Branch1][C][H][C][Branch1][C][H][=C][Branch2][Branch2][=Branch2][C][Branch1][C][H][Branch1][C][H][N][Branch2][Ring2][C][C][S][C][=C][Branch1][C][H][C][Branch1][C][H][=C][Branch1][C][H][C][Branch1][C][H][=C][Ring1][#Branch2][C][=Ring1][=N][C][Branch1][C][H][Branch1][C][H][H][C][Branch1][C][H][Branch1][C][H][C][Branch1][C][H][Branch1][C][H][C][Branch1][C][H][Branch1][C][H][C][Branch1][C][H][Branch1][C][H][C][Branch1][C][H][Branch1][C][H][C',\n",
       "       '[H][C][=C][Branch1][C][H][C][Branch1][C][H][=C][Branch2][Branch2][=Branch2][C][Branch1][C][H][Branch1][C][H][N][Branch1][C][H][C][=Branch1][C][=O][C][Branch1][C][H][Branch1][C][H][C][Branch1][C][H][Branch1][C][H][C][Branch1][C][H][Branch1][C][H][C][Branch1][C][H][Branch1][C][H][C][Branch1][C][H][Branch1][C][H][C][Branch1][C][H][Branch1][C][H][C][Branch1][C][H][Branch1][C][H][C][Branch1][C][H][Branch1][C][H][C][Branch1][C][H][Branch1][C][H][C][Branch1][',\n",
       "       '[H][C][=C][Branch1][C][H][C][Branch1][C][H][=C][Branch2][Branch2][=Branch2][C][Branch1][C][H][Branch1][C][H][N][Branch1][C][H][C][=Branch1][C][=O][C][Branch1][C][H][Branch1][C][H][C][Branch1][C][H][Branch1][C][H][C][Branch1][C][H][Branch1][C][H][C][Branch1][C][H][Branch1][C][H][C][Branch1][C][H][Branch1][C][H][C][Branch1][C][H][Branch1][C][H][C][Branch1][C][H][Branch1][C][H][C][Branch1][C][H][Branch1][C][H][C][Branch1][C][H][Branch1][C][H][C][Branch1][',\n",
       "       '[H][C][=C][Branch1][C][H][C][Branch1][C][H][=C][Branch2][Branch2][=Branch2][C][Branch1][C][H][Branch1][C][H][N][Branch1][C][H][C][=Branch1][C][=O][C][Branch1][C][H][Branch1][C][H][C][Branch1][C][H][Branch1][C][H][C][Branch1][C][H][Branch1][C][H][C][Branch1][C][H][Branch1][C][H][C][Branch1][C][H][Branch1][C][H][C][Branch1][C][H][Branch1][C][H][C][Branch1][C][H][Branch1][C][H][C][Branch1][C][H][Branch1][C][H][C][Branch1][C][H][Branch1][C][H][C][Branch1][',\n",
       "       '[H][C][=C][Branch1][C][H][C][Branch1][C][H][=C][Branch2][Branch2][=Branch2][C][Branch1][C][H][Branch1][C][H][N][Branch1][C][H][C][=Branch1][C][=O][C][Branch1][C][H][Branch1][C][H][C][Branch1][C][H][Branch1][C][H][C][Branch1][C][H][Branch1][C][H][C][Branch1][C][H][Branch1][C][H][C][Branch1][C][H][Branch1][C][H][C][Branch1][C][H][Branch1][C][H][C][Branch1][C][H][Branch1][C][H][C][Branch1][C][H][Branch1][C][H][C][Branch1][C][H][Branch1][C][H][C][Branch1][',\n",
       "       '[H][C][=C][Branch1][C][H][C][Branch1][C][H][=C][Branch2][Branch2][=Branch2][C][Branch1][C][H][Branch1][C][H][N][Branch2][Ring2][C][C][S][C][=C][Branch1][C][H][C][Branch1][C][H][=C][Branch1][C][H][C][Branch1][C][H][=C][Ring1][#Branch2][C][=Ring1][=N][C][Branch1][C][H][Branch1][C][H][H][C][Branch1][C][H][Branch1][C][H][C][Branch1][C][H][Branch1][C][H][C][Branch1][C][H][Branch1][C][H][C][Branch1][C][H][Branch1][C][H][C][Branch1][C][H][Branch1][C][H][C',\n",
       "       '[H][C][=C][Branch1][C][H][C][Branch1][C][H][=C][Branch2][Branch2][=Branch2][C][Branch1][C][H][Branch1][C][H][N][Branch1][C][H][C][=Branch1][C][=O][C][Branch1][C][H][Branch1][C][H][C][Branch1][C][H][Branch1][C][H][C][Branch1][C][H][Branch1][C][H][C][Branch1][C][H][Branch1][C][H][C][Branch1][C][H][Branch1][C][H][C][Branch1][C][H][Branch1][C][H][C][Branch1][C][H][Branch1][C][H][C][Branch1][C][H][Branch1][C][H][C][Branch1][C][H][Branch1][C][H][C][Branch1][',\n",
       "       '[H][C][=C][Branch1][C][H][C][Branch1][C][H][=C][Branch2][Branch2][=Branch2][C][Branch1][C][H][Branch1][C][H][N][Branch2][Ring2][C][C][S][C][=C][Branch1][C][H][C][Branch1][C][H][=C][Branch1][C][H][C][Branch1][C][H][=C][Ring1][#Branch2][C][=Ring1][=N][C][Branch1][C][H][Branch1][C][H][H][C][Branch1][C][H][Branch1][C][H][C][Branch1][C][H][Branch1][C][H][C][Branch1][C][H][Branch1][C][H][C][Branch1][C][H][Branch1][C][H][C][Branch1][C][H][Branch1][C][H][C',\n",
       "       '[H][C][=C][Branch1][C][H][C][Branch1][C][H][=C][Branch2][Branch2][=Branch2][C][Branch1][C][H][Branch1][C][H][N][Branch1][C][H][C][=Branch1][C][=O][C][Branch1][C][H][Branch1][C][H][C][Branch1][C][H][Branch1][C][H][C][Branch1][C][H][Branch1][C][H][C][Branch1][C][H][Branch1][C][H][C][Branch1][C][H][Branch1][C][H][C][Branch1][C][H][Branch1][C][H][C][Branch1][C][H][Branch1][C][H][C][Branch1][C][H][Branch1][C][H][C][Branch1][C][H][Branch1][C][H][C][Branch1][',\n",
       "       '[H][C][=C][Branch1][C][H][C][Branch1][C][H][=C][Branch2][Branch2][=Branch2][C][Branch1][C][H][Branch1][C][H][N][Branch1][C][H][C][=Branch1][C][=O][C][Branch1][C][H][Branch1][C][H][C][Branch1][C][H][Branch1][C][H][C][Branch1][C][H][Branch1][C][H][C][Branch1][C][H][Branch1][C][H][C][Branch1][C][H][Branch1][C][H][C][Branch1][C][H][Branch1][C][H][C][Branch1][C][H][Branch1][C][H][C][Branch1][C][H][Branch1][C][H][C][Branch1][C][H][Branch1][C][H][C][Branch1][',\n",
       "       '[H][C][=C][Branch1][C][H][C][Branch1][C][H][=C][Branch2][Branch2][=Branch2][C][Branch1][C][H][Branch1][C][H][N][Branch1][C][H][C][=Branch1][C][=O][C][Branch1][C][H][Branch1][C][H][C][Branch1][C][H][Branch1][C][H][C][Branch1][C][H][Branch1][C][H][C][Branch1][C][H][Branch1][C][H][C][Branch1][C][H][Branch1][C][H][C][Branch1][C][H][Branch1][C][H][C][Branch1][C][H][Branch1][C][H][C][Branch1][C][H][Branch1][C][H][C][Branch1][C][H][Branch1][C][H][C][Branch1][',\n",
       "       '[H][C][=C][Branch1][C][H][C][Branch1][C][H][=C][Branch2][Branch2][=Branch2][C][Branch1][C][H][Branch1][C][H][N][Branch1][C][H][C][=Branch1][C][=O][C][Branch1][C][H][Branch1][C][H][C][Branch1][C][H][Branch1][C][H][C][Branch1][C][H][Branch1][C][H][C][Branch1][C][H][Branch1][C][H][C][Branch1][C][H][Branch1][C][H][C][Branch1][C][H][Branch1][C][H][C][Branch1][C][H][Branch1][C][H][C][Branch1][C][H][Branch1][C][H][C][Branch1][C][H][Branch1][C][H][C][Branch1][',\n",
       "       '[H][C][=C][Branch1][C][H][C][Branch1][C][H][=C][Branch2][Branch2][=Branch2][C][Branch1][C][H][Branch1][C][H][N][Branch2][Ring2][C][C][S][C][=C][Branch1][C][H][C][Branch1][C][H][=C][Branch1][C][H][C][Branch1][C][H][=C][Ring1][#Branch2][C][=Ring1][=N][C][Branch1][C][H][Branch1][C][H][H][C][Branch1][C][H][Branch1][C][H][C][Branch1][C][H][Branch1][C][H][C][Branch1][C][H][Branch1][C][H][C][Branch1][C][H][Branch1][C][H][C][Branch1][C][H][Branch1][C][H][C',\n",
       "       '[H][C][=C][Branch1][C][H][C][Branch1][C][H][=C][Branch2][Branch2][=Branch2][C][Branch1][C][H][Branch1][C][H][N][Branch1][C][H][C][=Branch1][C][=O][C][Branch1][C][H][Branch1][C][H][C][Branch1][C][H][Branch1][C][H][C][Branch1][C][H][Branch1][C][H][C][Branch1][C][H][Branch1][C][H][C][Branch1][C][H][Branch1][C][H][C][Branch1][C][H][Branch1][C][H][C][Branch1][C][H][Branch1][C][H][C][Branch1][C][H][Branch1][C][H][C][Branch1][C][H][Branch1][C][H][C][Branch1][',\n",
       "       '[H][C][=C][Branch1][C][H][C][Branch1][C][H][=C][Branch2][Branch2][=Branch2][C][Branch1][C][H][Branch1][C][H][N][Branch1][C][H][C][=Branch1][C][=O][C][Branch1][C][H][Branch1][C][H][C][Branch1][C][H][Branch1][C][H][C][Branch1][C][H][Branch1][C][H][C][Branch1][C][H][Branch1][C][H][C][Branch1][C][H][Branch1][C][H][C][Branch1][C][H][Branch1][C][H][C][Branch1][C][H][Branch1][C][H][C][Branch1][C][H][Branch1][C][H][C][Branch1][C][H][Branch1][C][H][C][Branch1][',\n",
       "       '[H][C][=C][Branch1][C][H][C][Branch1][C][H][=C][Branch2][Branch2][=Branch2][C][Branch1][C][H][Branch1][C][H][N][Branch1][C][H][C][=Branch1][C][=O][C][Branch1][C][H][Branch1][C][H][C][Branch1][C][H][Branch1][C][H][C][Branch1][C][H][Branch1][C][H][C][Branch1][C][H][Branch1][C][H][C][Branch1][C][H][Branch1][C][H][C][Branch1][C][H][Branch1][C][H][C][Branch1][C][H][Branch1][C][H][C][Branch1][C][H][Branch1][C][H][C][Branch1][C][H][Branch1][C][H][C][Branch1]['],\n",
       "      dtype='<U456')"
      ]
     },
     "execution_count": 134,
     "metadata": {},
     "output_type": "execute_result"
    }
   ],
   "source": [
    "res_500_seflies[0]['predictions']"
   ]
  },
  {
   "cell_type": "code",
   "execution_count": 124,
   "metadata": {},
   "outputs": [],
   "source": [
    "import selfies as sf"
   ]
  },
  {
   "cell_type": "code",
   "execution_count": 132,
   "metadata": {},
   "outputs": [
    {
     "name": "stdout",
     "output_type": "stream",
     "text": [
      "[]\n",
      "set()\n",
      "['[H]C=NC(N([H])C(=O)N([H])C1=C([H])C([H])=C([H])C([H])=C1C([H])[H])[H]'\n",
      " '[H]C=NC(C1=C([H])C([H])=C([H])C([H])=C1[H])[H]'\n",
      " '[H]C=C([H])CC=C([H])C([H])=C(C1=C([H])C([H])=C([H])C([H])=C1[H])C[H]'\n",
      " '[H]OC(=O)C=C([H])C([H])=CC1=C([H])C([H])=C([H])C([H])=C1[H]']\n",
      "{'[H]C=NC(N([H])C(=O)N([H])C1=C([H])C([H])=C([H])C([H])=C1C([H])[H])[H]', '[H]C=NC(C1=C([H])C([H])=C([H])C([H])=C1[H])[H]', '[H]C=C([H])CC=C([H])C([H])=C(C1=C([H])C([H])=C([H])C([H])=C1[H])C[H]', '[H]OC(=O)C=C([H])C([H])=CC1=C([H])C([H])=C([H])C([H])=C1[H]'}\n"
     ]
    },
    {
     "ename": "DecoderError",
     "evalue": "invalid symbol 'C=NC(N([H]'\n\tSELFIES: [H]C=NC(N([H])C(=O)N([H])C1=C([H])C([H])=C([H])C([H])=C1C([H])[H])[H]",
     "output_type": "error",
     "traceback": [
      "\u001b[0;31m---------------------------------------------------------------------------\u001b[0m",
      "\u001b[0;31mDecoderError\u001b[0m                              Traceback (most recent call last)",
      "\u001b[1;32m/Users/kevinmaikjablonka/git/kjappelbaum/gpt3forchem/experiments/54_run_bandgap_inverse_regression.ipynb Cell 27\u001b[0m in \u001b[0;36m<cell line: 3>\u001b[0;34m()\u001b[0m\n\u001b[1;32m      <a href='vscode-notebook-cell:/Users/kevinmaikjablonka/git/kjappelbaum/gpt3forchem/experiments/54_run_bandgap_inverse_regression.ipynb#X34sZmlsZQ%3D%3D?line=6'>7</a>\u001b[0m result[\u001b[39m\"\u001b[39m\u001b[39mselfies\u001b[39m\u001b[39m\"\u001b[39m] \u001b[39m=\u001b[39m \u001b[39mset\u001b[39m(\n\u001b[1;32m      <a href='vscode-notebook-cell:/Users/kevinmaikjablonka/git/kjappelbaum/gpt3forchem/experiments/54_run_bandgap_inverse_regression.ipynb#X34sZmlsZQ%3D%3D?line=7'>8</a>\u001b[0m     res[\u001b[39m\"\u001b[39m\u001b[39mpredictions\u001b[39m\u001b[39m\"\u001b[39m][res[\u001b[39m\"\u001b[39m\u001b[39mvalid_smiles\u001b[39m\u001b[39m\"\u001b[39m]]\n\u001b[1;32m      <a href='vscode-notebook-cell:/Users/kevinmaikjablonka/git/kjappelbaum/gpt3forchem/experiments/54_run_bandgap_inverse_regression.ipynb#X34sZmlsZQ%3D%3D?line=8'>9</a>\u001b[0m )\n\u001b[1;32m     <a href='vscode-notebook-cell:/Users/kevinmaikjablonka/git/kjappelbaum/gpt3forchem/experiments/54_run_bandgap_inverse_regression.ipynb#X34sZmlsZQ%3D%3D?line=9'>10</a>\u001b[0m \u001b[39mprint\u001b[39m(result[\u001b[39m\"\u001b[39m\u001b[39mselfies\u001b[39m\u001b[39m\"\u001b[39m])\n\u001b[0;32m---> <a href='vscode-notebook-cell:/Users/kevinmaikjablonka/git/kjappelbaum/gpt3forchem/experiments/54_run_bandgap_inverse_regression.ipynb#X34sZmlsZQ%3D%3D?line=10'>11</a>\u001b[0m result[\u001b[39m'\u001b[39m\u001b[39msmiles\u001b[39m\u001b[39m'\u001b[39m] \u001b[39m=\u001b[39m [sf\u001b[39m.\u001b[39mdecoder(x) \u001b[39mfor\u001b[39;00m x \u001b[39min\u001b[39;00m result[\u001b[39m'\u001b[39m\u001b[39mselfies\u001b[39m\u001b[39m'\u001b[39m]]\n\u001b[1;32m     <a href='vscode-notebook-cell:/Users/kevinmaikjablonka/git/kjappelbaum/gpt3forchem/experiments/54_run_bandgap_inverse_regression.ipynb#X34sZmlsZQ%3D%3D?line=11'>12</a>\u001b[0m result[\u001b[39m'\u001b[39m\u001b[39moriginal_prediction_indices\u001b[39m\u001b[39m'\u001b[39m] \u001b[39m=\u001b[39m [i \u001b[39mfor\u001b[39;00m i, x \u001b[39min\u001b[39;00m \u001b[39menumerate\u001b[39m(res[\u001b[39m\"\u001b[39m\u001b[39mpredictions\u001b[39m\u001b[39m\"\u001b[39m]) \u001b[39mif\u001b[39;00m x \u001b[39min\u001b[39;00m result[\u001b[39m'\u001b[39m\u001b[39mselfies\u001b[39m\u001b[39m'\u001b[39m]]\n\u001b[1;32m     <a href='vscode-notebook-cell:/Users/kevinmaikjablonka/git/kjappelbaum/gpt3forchem/experiments/54_run_bandgap_inverse_regression.ipynb#X34sZmlsZQ%3D%3D?line=12'>13</a>\u001b[0m result[\u001b[39m'\u001b[39m\u001b[39mexpected\u001b[39m\u001b[39m'\u001b[39m] \u001b[39m=\u001b[39m [res[\u001b[39m'\u001b[39m\u001b[39mexpectations\u001b[39m\u001b[39m'\u001b[39m][i] \u001b[39mfor\u001b[39;00m i \u001b[39min\u001b[39;00m result[\u001b[39m'\u001b[39m\u001b[39moriginal_prediction_indices\u001b[39m\u001b[39m'\u001b[39m]]\n",
      "\u001b[1;32m/Users/kevinmaikjablonka/git/kjappelbaum/gpt3forchem/experiments/54_run_bandgap_inverse_regression.ipynb Cell 27\u001b[0m in \u001b[0;36m<listcomp>\u001b[0;34m(.0)\u001b[0m\n\u001b[1;32m      <a href='vscode-notebook-cell:/Users/kevinmaikjablonka/git/kjappelbaum/gpt3forchem/experiments/54_run_bandgap_inverse_regression.ipynb#X34sZmlsZQ%3D%3D?line=6'>7</a>\u001b[0m result[\u001b[39m\"\u001b[39m\u001b[39mselfies\u001b[39m\u001b[39m\"\u001b[39m] \u001b[39m=\u001b[39m \u001b[39mset\u001b[39m(\n\u001b[1;32m      <a href='vscode-notebook-cell:/Users/kevinmaikjablonka/git/kjappelbaum/gpt3forchem/experiments/54_run_bandgap_inverse_regression.ipynb#X34sZmlsZQ%3D%3D?line=7'>8</a>\u001b[0m     res[\u001b[39m\"\u001b[39m\u001b[39mpredictions\u001b[39m\u001b[39m\"\u001b[39m][res[\u001b[39m\"\u001b[39m\u001b[39mvalid_smiles\u001b[39m\u001b[39m\"\u001b[39m]]\n\u001b[1;32m      <a href='vscode-notebook-cell:/Users/kevinmaikjablonka/git/kjappelbaum/gpt3forchem/experiments/54_run_bandgap_inverse_regression.ipynb#X34sZmlsZQ%3D%3D?line=8'>9</a>\u001b[0m )\n\u001b[1;32m     <a href='vscode-notebook-cell:/Users/kevinmaikjablonka/git/kjappelbaum/gpt3forchem/experiments/54_run_bandgap_inverse_regression.ipynb#X34sZmlsZQ%3D%3D?line=9'>10</a>\u001b[0m \u001b[39mprint\u001b[39m(result[\u001b[39m\"\u001b[39m\u001b[39mselfies\u001b[39m\u001b[39m\"\u001b[39m])\n\u001b[0;32m---> <a href='vscode-notebook-cell:/Users/kevinmaikjablonka/git/kjappelbaum/gpt3forchem/experiments/54_run_bandgap_inverse_regression.ipynb#X34sZmlsZQ%3D%3D?line=10'>11</a>\u001b[0m result[\u001b[39m'\u001b[39m\u001b[39msmiles\u001b[39m\u001b[39m'\u001b[39m] \u001b[39m=\u001b[39m [sf\u001b[39m.\u001b[39;49mdecoder(x) \u001b[39mfor\u001b[39;00m x \u001b[39min\u001b[39;00m result[\u001b[39m'\u001b[39m\u001b[39mselfies\u001b[39m\u001b[39m'\u001b[39m]]\n\u001b[1;32m     <a href='vscode-notebook-cell:/Users/kevinmaikjablonka/git/kjappelbaum/gpt3forchem/experiments/54_run_bandgap_inverse_regression.ipynb#X34sZmlsZQ%3D%3D?line=11'>12</a>\u001b[0m result[\u001b[39m'\u001b[39m\u001b[39moriginal_prediction_indices\u001b[39m\u001b[39m'\u001b[39m] \u001b[39m=\u001b[39m [i \u001b[39mfor\u001b[39;00m i, x \u001b[39min\u001b[39;00m \u001b[39menumerate\u001b[39m(res[\u001b[39m\"\u001b[39m\u001b[39mpredictions\u001b[39m\u001b[39m\"\u001b[39m]) \u001b[39mif\u001b[39;00m x \u001b[39min\u001b[39;00m result[\u001b[39m'\u001b[39m\u001b[39mselfies\u001b[39m\u001b[39m'\u001b[39m]]\n\u001b[1;32m     <a href='vscode-notebook-cell:/Users/kevinmaikjablonka/git/kjappelbaum/gpt3forchem/experiments/54_run_bandgap_inverse_regression.ipynb#X34sZmlsZQ%3D%3D?line=12'>13</a>\u001b[0m result[\u001b[39m'\u001b[39m\u001b[39mexpected\u001b[39m\u001b[39m'\u001b[39m] \u001b[39m=\u001b[39m [res[\u001b[39m'\u001b[39m\u001b[39mexpectations\u001b[39m\u001b[39m'\u001b[39m][i] \u001b[39mfor\u001b[39;00m i \u001b[39min\u001b[39;00m result[\u001b[39m'\u001b[39m\u001b[39moriginal_prediction_indices\u001b[39m\u001b[39m'\u001b[39m]]\n",
      "File \u001b[0;32m~/miniconda3/envs/gpt3/lib/python3.9/site-packages/selfies/decoder.py:60\u001b[0m, in \u001b[0;36mdecoder\u001b[0;34m(selfies, compatible, attribute)\u001b[0m\n\u001b[1;32m     58\u001b[0m attribution_index \u001b[39m=\u001b[39m \u001b[39m0\u001b[39m\n\u001b[1;32m     59\u001b[0m \u001b[39mfor\u001b[39;00m s \u001b[39min\u001b[39;00m selfies\u001b[39m.\u001b[39msplit(\u001b[39m\"\u001b[39m\u001b[39m.\u001b[39m\u001b[39m\"\u001b[39m):\n\u001b[0;32m---> 60\u001b[0m     n \u001b[39m=\u001b[39m _derive_mol_from_symbols(\n\u001b[1;32m     61\u001b[0m         symbol_iter\u001b[39m=\u001b[39;49m\u001b[39menumerate\u001b[39;49m(_tokenize_selfies(s, compatible)),\n\u001b[1;32m     62\u001b[0m         mol\u001b[39m=\u001b[39;49mmol,\n\u001b[1;32m     63\u001b[0m         selfies\u001b[39m=\u001b[39;49mselfies,\n\u001b[1;32m     64\u001b[0m         max_derive\u001b[39m=\u001b[39;49m\u001b[39mfloat\u001b[39;49m(\u001b[39m\"\u001b[39;49m\u001b[39minf\u001b[39;49m\u001b[39m\"\u001b[39;49m),\n\u001b[1;32m     65\u001b[0m         init_state\u001b[39m=\u001b[39;49m\u001b[39m0\u001b[39;49m,\n\u001b[1;32m     66\u001b[0m         root_atom\u001b[39m=\u001b[39;49m\u001b[39mNone\u001b[39;49;00m,\n\u001b[1;32m     67\u001b[0m         rings\u001b[39m=\u001b[39;49mrings,\n\u001b[1;32m     68\u001b[0m         attribute_stack\u001b[39m=\u001b[39;49m[] \u001b[39mif\u001b[39;49;00m attribute \u001b[39melse\u001b[39;49;00m \u001b[39mNone\u001b[39;49;00m,\n\u001b[1;32m     69\u001b[0m         attribution_index\u001b[39m=\u001b[39;49mattribution_index\n\u001b[1;32m     70\u001b[0m     )\n\u001b[1;32m     71\u001b[0m     attribution_index \u001b[39m+\u001b[39m\u001b[39m=\u001b[39m n\n\u001b[1;32m     72\u001b[0m _form_rings_bilocally(mol, rings)\n",
      "File \u001b[0;32m~/miniconda3/envs/gpt3/lib/python3.9/site-packages/selfies/decoder.py:162\u001b[0m, in \u001b[0;36m_derive_mol_from_symbols\u001b[0;34m(symbol_iter, mol, selfies, max_derive, init_state, root_atom, rings, attribute_stack, attribution_index)\u001b[0m\n\u001b[1;32m    160\u001b[0m output \u001b[39m=\u001b[39m process_atom_symbol(symbol)\n\u001b[1;32m    161\u001b[0m \u001b[39mif\u001b[39;00m output \u001b[39mis\u001b[39;00m \u001b[39mNone\u001b[39;00m:\n\u001b[0;32m--> 162\u001b[0m     _raise_decoder_error(selfies, symbol)\n\u001b[1;32m    163\u001b[0m (bond_order, stereo), atom \u001b[39m=\u001b[39m output\n\u001b[1;32m    164\u001b[0m cap \u001b[39m=\u001b[39m atom\u001b[39m.\u001b[39mbonding_capacity\n",
      "File \u001b[0;32m~/miniconda3/envs/gpt3/lib/python3.9/site-packages/selfies/decoder.py:207\u001b[0m, in \u001b[0;36m_raise_decoder_error\u001b[0;34m(selfies, invalid_symbol)\u001b[0m\n\u001b[1;32m    203\u001b[0m \u001b[39mdef\u001b[39;00m \u001b[39m_raise_decoder_error\u001b[39m(selfies, invalid_symbol):\n\u001b[1;32m    204\u001b[0m     err_msg \u001b[39m=\u001b[39m \u001b[39m\"\u001b[39m\u001b[39minvalid symbol \u001b[39m\u001b[39m'\u001b[39m\u001b[39m{}\u001b[39;00m\u001b[39m'\u001b[39m\u001b[39m\\n\u001b[39;00m\u001b[39m\\t\u001b[39;00m\u001b[39mSELFIES: \u001b[39m\u001b[39m{}\u001b[39;00m\u001b[39m\"\u001b[39m\u001b[39m.\u001b[39mformat(\n\u001b[1;32m    205\u001b[0m         invalid_symbol, selfies\n\u001b[1;32m    206\u001b[0m     )\n\u001b[0;32m--> 207\u001b[0m     \u001b[39mraise\u001b[39;00m DecoderError(err_msg)\n",
      "\u001b[0;31mDecoderError\u001b[0m: invalid symbol 'C=NC(N([H]'\n\tSELFIES: [H]C=NC(N([H])C(=O)N([H])C1=C([H])C([H])=C([H])C([H])=C1C([H])[H])[H]"
     ]
    }
   ],
   "source": [
    "selfies_500_sets = []\n",
    "\n",
    "for res in res_500_seflies:\n",
    "    result = {}\n",
    "    result[\"temperature\"] = res[\"meta\"][\"temperature\"]\n",
    "    print(res[\"predictions\"][res[\"valid_smiles\"]])\n",
    "    result[\"selfies\"] = set(\n",
    "        res[\"predictions\"][res[\"valid_smiles\"]]\n",
    "    )\n",
    "    print(result[\"selfies\"])\n",
    "    result['smiles'] = [sf.decoder(x) for x in result['selfies']]\n",
    "    result['original_prediction_indices'] = [i for i, x in enumerate(res[\"predictions\"]) if x in result['selfies']]\n",
    "    result['expected'] = [res['expectations'][i] for i in result['original_prediction_indices']]\n",
    "    selfies_500_sets.append(result)\n",
    "\n",
    "for res in selfies_500_sets:\n",
    "    temp = res[\"temperature\"]\n",
    "    smiles_set = res[\"smiles\"]\n",
    "    with open(f\"for_xtb_opt/{timestamp}500_selfies_{temp}.txt\", \"w\") as f:\n",
    "        for i, smiles in enumerate(smiles_set):\n",
    "            if i != len(smiles_set) - 1:\n",
    "                f.write(smiles + \"\\n\")\n",
    "            else:\n",
    "                f.write(smiles)"
   ]
  },
  {
   "cell_type": "markdown",
   "metadata": {},
   "source": [
    "## Larger training set\n"
   ]
  },
  {
   "cell_type": "code",
   "execution_count": 138,
   "metadata": {},
   "outputs": [],
   "source": [
    "train_large, test_large = train_test_split(\n",
    "    data, train_size=1000, test_size=100, random_state=42\n",
    ")"
   ]
  },
  {
   "cell_type": "code",
   "execution_count": 139,
   "metadata": {},
   "outputs": [],
   "source": [
    "(\n",
    "    train_prompts_large_smiles,\n",
    "    test_prompts_large_smiles,\n",
    ") = generate_inverse_photoswitch_prompts(\n",
    "    train_large, \"smiles\"\n",
    "), generate_inverse_photoswitch_prompts(\n",
    "    test_large, \"smiles\"\n",
    ")\n",
    "\n",
    "(\n",
    "    train_prompts_large_selfies,\n",
    "    test_prompts_large_selfies,\n",
    ") = generate_inverse_photoswitch_prompts(\n",
    "    train_large, \"selfies\"\n",
    "), generate_inverse_photoswitch_prompts(\n",
    "    test_large, \"selfies\"\n",
    ")"
   ]
  },
  {
   "cell_type": "code",
   "execution_count": 140,
   "metadata": {},
   "outputs": [
    {
     "name": "stderr",
     "output_type": "stream",
     "text": [
      "Traceback (most recent call last):\n",
      "  File \"/Users/kevinmaikjablonka/miniconda3/envs/gpt3/bin/openai\", line 8, in <module>\n",
      "    sys.exit(main())\n",
      "  File \"/Users/kevinmaikjablonka/miniconda3/envs/gpt3/lib/python3.9/site-packages/openai/_openai_scripts.py\", line 63, in main\n",
      "    args.func(args)\n",
      "  File \"/Users/kevinmaikjablonka/miniconda3/envs/gpt3/lib/python3.9/site-packages/openai/cli.py\", line 545, in sync\n",
      "    resp = openai.wandb_logger.WandbLogger.sync(\n",
      "  File \"/Users/kevinmaikjablonka/miniconda3/envs/gpt3/lib/python3.9/site-packages/openai/wandb_logger.py\", line 74, in sync\n",
      "    fine_tune_logged = [\n",
      "  File \"/Users/kevinmaikjablonka/miniconda3/envs/gpt3/lib/python3.9/site-packages/openai/wandb_logger.py\", line 75, in <listcomp>\n",
      "    cls._log_fine_tune(\n",
      "  File \"/Users/kevinmaikjablonka/miniconda3/envs/gpt3/lib/python3.9/site-packages/openai/wandb_logger.py\", line 125, in _log_fine_tune\n",
      "    wandb_run = cls._get_wandb_run(run_path)\n",
      "  File \"/Users/kevinmaikjablonka/miniconda3/envs/gpt3/lib/python3.9/site-packages/openai/wandb_logger.py\", line 190, in _get_wandb_run\n",
      "    cls._ensure_logged_in()\n",
      "  File \"/Users/kevinmaikjablonka/miniconda3/envs/gpt3/lib/python3.9/site-packages/openai/wandb_logger.py\", line 186, in _ensure_logged_in\n",
      "    raise Exception(\"You need to log in to wandb\")\n",
      "Exception: You need to log in to wandb\n"
     ]
    }
   ],
   "source": [
    "modelname_1000_smiles, train_filename_1000_smiles = train_inverse_model(\n",
    "    train_prompts_large_smiles, \"smiles\"\n",
    ")"
   ]
  },
  {
   "cell_type": "code",
   "execution_count": 141,
   "metadata": {},
   "outputs": [
    {
     "name": "stdout",
     "output_type": "stream",
     "text": [
      "Testing temperature 0 for SMILES\n"
     ]
    },
    {
     "name": "stderr",
     "output_type": "stream",
     "text": [
      "2022-11-28 10:15:23.805 | DEBUG    | gpt3forchem.output:test_inverse_bandgap:928 - Got predictions, example: [H]c1c([H])c([H])c(C([H])([H])N2C([H])([H])C([H])([H])N(C([H])([H])C([H])([H])C([H])([H])C([H])([H])C([H])([H])C([H])([H])C([H])([H])C([H])([H])C([H])([H])C([H])([H])C([H])([H])C([H])([H])C([H])([H])C([H])([H])C([H])([H])C([H])([H])C([H])([H])C([H])([H])C([H])([H])C([H])([H])C([H])([H])C([H])([H])C([H])([H])C([H])([H])C([H])([H])C([H])([H\n",
      "2022-11-28 10:15:23.806 | DEBUG    | gpt3forchem.output:test_inverse_bandgap:939 - Loaded predictions. Example: [H]c1c([H])c([H])c(C([H])([H])N2C([H])([H])C([H])([H])N(C([H])([H])C([H])([H])C([H])([H])C([H])([H])C([H])([H])C([H])([H])C([H])([H])C([H])([H])C([H])([H])C([H])([H])C([H])([H])C([H])([H])C([H])([H])C([H])([H])C([H])([H])C([H])([H])C([H])([H])C([H])([H])C([H])([H])C([H])([H])C([H])([H])C([H])([H])C([H])([H])C([H])([H])C([H])([H])C([H])([H\n",
      "2022-11-28 10:15:23.831 | DEBUG    | gpt3forchem.output:test_inverse_bandgap:950 - Calculating Frechet ChemNet distance for 0 samples\n",
      "2022-11-28 10:15:23.831 | DEBUG    | gpt3forchem.output:test_inverse_bandgap:970 - Computed KL div score: nan\n"
     ]
    },
    {
     "name": "stdout",
     "output_type": "stream",
     "text": [
      "Testing temperature 0.25 for SMILES\n"
     ]
    },
    {
     "name": "stderr",
     "output_type": "stream",
     "text": [
      "2022-11-28 10:15:58.877 | DEBUG    | gpt3forchem.output:test_inverse_bandgap:928 - Got predictions, example: [H]c1c([H])c([H])c(C([H])([H])[C@@]([H])(C(=O)N([H])C([H])([H])C([H])([H])C([H])([H])C([H])([H])C([H])([H])C([H])([H])C([H])([H])C([H])([H])C([H])([H])C([H])([H])C([H])([H])C([H])([H])C([H])([H])C([H])([H])C([H])([H])C([H])([H])C([H])([H])C([H])([H])C([H])([H])C([H])([H])C([H])([H])C([H])([H])C([H])([H])C([H])([H])C([H])([H])C([H])([H])C([\n",
      "2022-11-28 10:15:58.879 | DEBUG    | gpt3forchem.output:test_inverse_bandgap:939 - Loaded predictions. Example: [H]c1c([H])c([H])c(C([H])([H])[C@@]([H])(C(=O)N([H])C([H])([H])C([H])([H])C([H])([H])C([H])([H])C([H])([H])C([H])([H])C([H])([H])C([H])([H])C([H])([H])C([H])([H])C([H])([H])C([H])([H])C([H])([H])C([H])([H])C([H])([H])C([H])([H])C([H])([H])C([H])([H])C([H])([H])C([H])([H])C([H])([H])C([H])([H])C([H])([H])C([H])([H])C([H])([H])C([H])([H])C([\n",
      "2022-11-28 10:15:58.913 | DEBUG    | gpt3forchem.output:test_inverse_bandgap:950 - Calculating Frechet ChemNet distance for 47 samples\n",
      "2022-11-28 10:15:58.973 | INFO     | gpt3forchem.output:_load_chemnet:217 - Saved ChemNet model to '/var/folders/m9/_txh68y946s4pxy1x2wnd3lh0000gn/T/ChemNet_v0.13_pretrained.h5'\n",
      "2022-11-28 10:16:00.371 | DEBUG    | gpt3forchem.output:test_inverse_bandgap:959 - Computed frechet score: (50.95729105780573, 3.748917956489477e-05)\n",
      "2022-11-28 10:16:00.643 | DEBUG    | gpt3forchem.output:test_inverse_bandgap:970 - Computed KL div score: 0.2630512351281903\n"
     ]
    },
    {
     "name": "stdout",
     "output_type": "stream",
     "text": [
      "Testing temperature 0.5 for SMILES\n"
     ]
    },
    {
     "name": "stderr",
     "output_type": "stream",
     "text": [
      "2022-11-28 10:16:35.774 | DEBUG    | gpt3forchem.output:test_inverse_bandgap:928 - Got predictions, example: [H]c1c([H])c([H])c(C([H])([H])C([H])([H])C([H])([H])N([H])C(=O)C([H])([H])N2C([H])([H])C([H])([H])C([H])([H])N(C([H])([H])C([H])([H])[H])C([H])([H])C2([H])[H])c([H])c1[H]\n",
      "2022-11-28 10:16:35.775 | DEBUG    | gpt3forchem.output:test_inverse_bandgap:939 - Loaded predictions. Example: [H]c1c([H])c([H])c(C([H])([H])C([H])([H])C([H])([H])N([H])C(=O)C([H])([H])N2C([H])([H])C([H])([H])C([H])([H])N(C([H])([H])C([H])([H])[H])C([H])([H])C2([H])[H])c([H])c1[H]\n",
      "2022-11-28 10:16:35.812 | DEBUG    | gpt3forchem.output:test_inverse_bandgap:950 - Calculating Frechet ChemNet distance for 57 samples\n",
      "2022-11-28 10:16:35.884 | INFO     | gpt3forchem.output:_load_chemnet:217 - Saved ChemNet model to '/var/folders/m9/_txh68y946s4pxy1x2wnd3lh0000gn/T/ChemNet_v0.13_pretrained.h5'\n",
      "2022-11-28 10:16:37.279 | DEBUG    | gpt3forchem.output:test_inverse_bandgap:959 - Computed frechet score: (37.19457067808685, 0.0005879232559842233)\n",
      "2022-11-28 10:16:37.564 | DEBUG    | gpt3forchem.output:test_inverse_bandgap:970 - Computed KL div score: 0.4274275053753505\n"
     ]
    },
    {
     "name": "stdout",
     "output_type": "stream",
     "text": [
      "Testing temperature 0.75 for SMILES\n"
     ]
    },
    {
     "name": "stderr",
     "output_type": "stream",
     "text": [
      "2022-11-28 10:17:12.450 | DEBUG    | gpt3forchem.output:test_inverse_bandgap:928 - Got predictions, example: [H]Oc1c([H])c([H])c(C([H])([H])C([H])([H])C([H])([H])[C@@]2([H])C([H])([H])N([H])C(=O)C([H])([H])N(C([H])([H])C([H])([H])N([H])C(=O)C([H])([H])C([H])([H])C([H])([H])c3oc4c([H])c([H])c([H])c([H])c4c3=O)C([H])([H])C2([H])[H])c([H])c1[H]\n",
      "2022-11-28 10:17:12.451 | DEBUG    | gpt3forchem.output:test_inverse_bandgap:939 - Loaded predictions. Example: [H]Oc1c([H])c([H])c(C([H])([H])C([H])([H])C([H])([H])[C@@]2([H])C([H])([H])N([H])C(=O)C([H])([H])N(C([H])([H])C([H])([H])N([H])C(=O)C([H])([H])C([H])([H])C([H])([H])c3oc4c([H])c([H])c([H])c([H])c4c3=O)C([H])([H])C2([H])[H])c([H])c1[H]\n",
      "2022-11-28 10:17:12.496 | DEBUG    | gpt3forchem.output:test_inverse_bandgap:950 - Calculating Frechet ChemNet distance for 56 samples\n",
      "2022-11-28 10:17:12.533 | INFO     | gpt3forchem.output:_load_chemnet:217 - Saved ChemNet model to '/var/folders/m9/_txh68y946s4pxy1x2wnd3lh0000gn/T/ChemNet_v0.13_pretrained.h5'\n",
      "2022-11-28 10:17:13.973 | DEBUG    | gpt3forchem.output:test_inverse_bandgap:959 - Computed frechet score: (31.187387142488475, 0.001954780381863611)\n",
      "2022-11-28 10:17:14.275 | DEBUG    | gpt3forchem.output:test_inverse_bandgap:970 - Computed KL div score: 0.6106774131971373\n"
     ]
    },
    {
     "name": "stdout",
     "output_type": "stream",
     "text": [
      "Testing temperature 1.0 for SMILES\n"
     ]
    },
    {
     "name": "stderr",
     "output_type": "stream",
     "text": [
      "2022-11-28 10:17:49.717 | DEBUG    | gpt3forchem.output:test_inverse_bandgap:928 - Got predictions, example: [H]c1nc([C@]2([H])C([H])([H])C([H])([H])N(C([H])([H])c3nc([H])c([N+](=O)[O-])c([H])c3[H])C([H])([H])C([H])([H])S2([H])[H])nc([H])c1OC([H])([H])C([H])([H])C([H])([H])C2([H])[H]\n",
      "2022-11-28 10:17:49.718 | DEBUG    | gpt3forchem.output:test_inverse_bandgap:939 - Loaded predictions. Example: [H]c1nc([C@]2([H])C([H])([H])C([H])([H])N(C([H])([H])c3nc([H])c([N+](=O)[O-])c([H])c3[H])C([H])([H])C([H])([H])S2([H])[H])nc([H])c1OC([H])([H])C([H])([H])C([H])([H])C2([H])[H]\n",
      "2022-11-28 10:17:49.768 | DEBUG    | gpt3forchem.output:test_inverse_bandgap:950 - Calculating Frechet ChemNet distance for 28 samples\n",
      "2022-11-28 10:17:49.796 | INFO     | gpt3forchem.output:_load_chemnet:217 - Saved ChemNet model to '/var/folders/m9/_txh68y946s4pxy1x2wnd3lh0000gn/T/ChemNet_v0.13_pretrained.h5'\n",
      "2022-11-28 10:17:51.123 | DEBUG    | gpt3forchem.output:test_inverse_bandgap:959 - Computed frechet score: (39.45241195852811, 0.00037428897753195617)\n",
      "2022-11-28 10:17:51.291 | DEBUG    | gpt3forchem.output:test_inverse_bandgap:970 - Computed KL div score: 0.7178775290531334\n"
     ]
    },
    {
     "name": "stdout",
     "output_type": "stream",
     "text": [
      "Testing temperature 1.25 for SMILES\n"
     ]
    },
    {
     "name": "stderr",
     "output_type": "stream",
     "text": [
      "2022-11-28 10:18:27.444 | DEBUG    | gpt3forchem.output:test_inverse_bandgap:928 - Got predictions, example: [H]c1sc(-c2oc3c([H])c([H])c([H])c([H])c3c2n2C([H])([H])C([H])([H])O3)c([H])c(C(=O)OC([H])([H])c2c([H])c([H])c([H])c([H])c2[H])c1[H]\n",
      "2022-11-28 10:18:27.445 | DEBUG    | gpt3forchem.output:test_inverse_bandgap:939 - Loaded predictions. Example: [H]c1sc(-c2oc3c([H])c([H])c([H])c([H])c3c2n2C([H])([H])C([H])([H])O3)c([H])c(C(=O)OC([H])([H])c2c([H])c([H])c([H])c([H])c2[H])c1[H]\n",
      "2022-11-28 10:18:27.472 | DEBUG    | gpt3forchem.output:test_inverse_bandgap:950 - Calculating Frechet ChemNet distance for 7 samples\n",
      "2022-11-28 10:18:27.515 | INFO     | gpt3forchem.output:_load_chemnet:217 - Saved ChemNet model to '/var/folders/m9/_txh68y946s4pxy1x2wnd3lh0000gn/T/ChemNet_v0.13_pretrained.h5'\n",
      "2022-11-28 10:18:33.032 | DEBUG    | gpt3forchem.output:test_inverse_bandgap:959 - Computed frechet score: (65.18249915247344, 2.1793152620181415e-06)\n",
      "2022-11-28 10:18:33.098 | DEBUG    | gpt3forchem.output:test_inverse_bandgap:970 - Computed KL div score: 0.4943385536862463\n"
     ]
    },
    {
     "name": "stdout",
     "output_type": "stream",
     "text": [
      "Testing temperature 1.5 for SMILES\n"
     ]
    },
    {
     "name": "stderr",
     "output_type": "stream",
     "text": [
      "2022-11-28 10:19:11.079 | DEBUG    | gpt3forchem.output:test_inverse_bandgap:928 - Got predictions, example: [H]ON1C(=O)c2sc(=o)c([H])c([H])c2C1=O\n",
      "2022-11-28 10:19:11.079 | DEBUG    | gpt3forchem.output:test_inverse_bandgap:939 - Loaded predictions. Example: [H]ON1C(=O)c2sc(=o)c([H])c([H])c2C1=O\n",
      "2022-11-28 10:19:11.103 | DEBUG    | gpt3forchem.output:test_inverse_bandgap:950 - Calculating Frechet ChemNet distance for 3 samples\n",
      "2022-11-28 10:19:11.176 | INFO     | gpt3forchem.output:_load_chemnet:217 - Saved ChemNet model to '/var/folders/m9/_txh68y946s4pxy1x2wnd3lh0000gn/T/ChemNet_v0.13_pretrained.h5'\n",
      "2022-11-28 10:19:17.189 | DEBUG    | gpt3forchem.output:test_inverse_bandgap:959 - Computed frechet score: (100.93881271193972, 1.708307807952628e-09)\n",
      "2022-11-28 10:19:17.216 | DEBUG    | gpt3forchem.output:test_inverse_bandgap:970 - Computed KL div score: 0.5275411763797172\n"
     ]
    }
   ],
   "source": [
    "res_1000_smiles = test_inverse_model(\n",
    "    modelname_1000_smiles,\n",
    "    test_prompts_large_smiles,\n",
    "    train_prompts_large_smiles,\n",
    "    representation=\"SMILES\",\n",
    ")"
   ]
  },
  {
   "cell_type": "code",
   "execution_count": 143,
   "metadata": {},
   "outputs": [],
   "source": [
    "save_pickle(f\"run_files/{timestamp}-res_1000_smiles.pkl\", res_1000_smiles)"
   ]
  },
  {
   "cell_type": "code",
   "execution_count": 144,
   "metadata": {},
   "outputs": [],
   "source": [
    "smiles_1000_sets = []\n",
    "\n",
    "for res in res_1000_smiles:\n",
    "    result = {}\n",
    "    result[\"temperature\"] = res[\"meta\"][\"temperature\"]\n",
    "    result[\"smiles\"] = set(\n",
    "        res[\"predictions\"][res[\"valid_smiles\"]]\n",
    "    )\n",
    "    result['original_prediction_indices'] = [i for i, x in enumerate(res[\"predictions\"]) if x in result['smiles']]\n",
    "    result['expected'] = [res['expectations'][i] for i in result['original_prediction_indices']]\n",
    "    smiles_1000_sets.append(result)\n",
    "\n",
    "for res in smiles_1000_sets:\n",
    "    temp = res[\"temperature\"]\n",
    "    smiles_set = res[\"smiles\"]\n",
    "    with open(f\"for_xtb_opt/{timestamp}1000_smiles_{temp}.txt\", \"w\") as f:\n",
    "        for i, smiles in enumerate(smiles_set):\n",
    "            if i != len(smiles_set) - 1:\n",
    "                f.write(smiles + \"\\n\")\n",
    "            else:\n",
    "                f.write(smiles)"
   ]
  },
  {
   "cell_type": "code",
   "execution_count": 157,
   "metadata": {},
   "outputs": [
    {
     "name": "stdout",
     "output_type": "stream",
     "text": [
      "No results found for 0\n"
     ]
    }
   ],
   "source": [
    "smiles_large_xtb_results = get_xtb_results('2022-11-27-22-29-431000_smiles', smiles_1000_sets)\n",
    "save_pickle('run_files/2022-11-27-22-29-431000_smiles_xtb_results.pkl', smiles_large_xtb_results)"
   ]
  },
  {
   "cell_type": "markdown",
   "metadata": {},
   "source": [
    "## Very large"
   ]
  },
  {
   "cell_type": "code",
   "execution_count": 149,
   "metadata": {},
   "outputs": [],
   "source": [
    "train_very_large, test_very_large = train_test_split(\n",
    "    data, train_size=5000, test_size=100, random_state=42\n",
    ")"
   ]
  },
  {
   "cell_type": "code",
   "execution_count": 150,
   "metadata": {},
   "outputs": [],
   "source": [
    "(\n",
    "    train_prompts_very_large_smiles,\n",
    "    test_prompts_very_large_smiles,\n",
    ") = generate_inverse_photoswitch_prompts(\n",
    "    train_very_large, \"smiles\"\n",
    "), generate_inverse_photoswitch_prompts(\n",
    "    test_very_large, \"smiles\"\n",
    ")\n",
    "\n",
    "(\n",
    "    train_prompts_very_large_selfies,\n",
    "    test_prompts_very_large_selfies,\n",
    ") = generate_inverse_photoswitch_prompts(\n",
    "    train_very_large, \"selfies\"\n",
    "), generate_inverse_photoswitch_prompts(\n",
    "    test_very_large, \"selfies\"\n",
    ")"
   ]
  },
  {
   "cell_type": "code",
   "execution_count": 151,
   "metadata": {},
   "outputs": [
    {
     "name": "stderr",
     "output_type": "stream",
     "text": [
      "Traceback (most recent call last):\n",
      "  File \"/Users/kevinmaikjablonka/miniconda3/envs/gpt3/bin/openai\", line 8, in <module>\n",
      "    sys.exit(main())\n",
      "  File \"/Users/kevinmaikjablonka/miniconda3/envs/gpt3/lib/python3.9/site-packages/openai/_openai_scripts.py\", line 63, in main\n",
      "    args.func(args)\n",
      "  File \"/Users/kevinmaikjablonka/miniconda3/envs/gpt3/lib/python3.9/site-packages/openai/cli.py\", line 545, in sync\n",
      "    resp = openai.wandb_logger.WandbLogger.sync(\n",
      "  File \"/Users/kevinmaikjablonka/miniconda3/envs/gpt3/lib/python3.9/site-packages/openai/wandb_logger.py\", line 74, in sync\n",
      "    fine_tune_logged = [\n",
      "  File \"/Users/kevinmaikjablonka/miniconda3/envs/gpt3/lib/python3.9/site-packages/openai/wandb_logger.py\", line 75, in <listcomp>\n",
      "    cls._log_fine_tune(\n",
      "  File \"/Users/kevinmaikjablonka/miniconda3/envs/gpt3/lib/python3.9/site-packages/openai/wandb_logger.py\", line 125, in _log_fine_tune\n",
      "    wandb_run = cls._get_wandb_run(run_path)\n",
      "  File \"/Users/kevinmaikjablonka/miniconda3/envs/gpt3/lib/python3.9/site-packages/openai/wandb_logger.py\", line 190, in _get_wandb_run\n",
      "    cls._ensure_logged_in()\n",
      "  File \"/Users/kevinmaikjablonka/miniconda3/envs/gpt3/lib/python3.9/site-packages/openai/wandb_logger.py\", line 186, in _ensure_logged_in\n",
      "    raise Exception(\"You need to log in to wandb\")\n",
      "Exception: You need to log in to wandb\n"
     ]
    }
   ],
   "source": [
    "modelname_5000_smiles, train_filename_5000_smiles = train_inverse_model(\n",
    "    train_prompts_very_large_smiles, \"smiles\"\n",
    ")"
   ]
  },
  {
   "cell_type": "code",
   "execution_count": 152,
   "metadata": {},
   "outputs": [
    {
     "name": "stdout",
     "output_type": "stream",
     "text": [
      "Testing temperature 0 for SMILES\n"
     ]
    },
    {
     "name": "stderr",
     "output_type": "stream",
     "text": [
      "2022-11-28 12:55:08.387 | DEBUG    | gpt3forchem.output:test_inverse_bandgap:928 - Got predictions, example: [H]c1c([H])c([H])c(C([H])([H])N([H])C(=O)N([H])c2c([H])c([H])c(C([H])([H])[H])c([H])c2[H])c([H])c1[H]\n",
      "2022-11-28 12:55:08.387 | DEBUG    | gpt3forchem.output:test_inverse_bandgap:939 - Loaded predictions. Example: [H]c1c([H])c([H])c(C([H])([H])N([H])C(=O)N([H])c2c([H])c([H])c(C([H])([H])[H])c([H])c2[H])c([H])c1[H]\n",
      "2022-11-28 12:55:08.441 | DEBUG    | gpt3forchem.output:test_inverse_bandgap:950 - Calculating Frechet ChemNet distance for 49 samples\n",
      "2022-11-28 12:55:08.530 | INFO     | gpt3forchem.output:_load_chemnet:217 - Saved ChemNet model to '/var/folders/m9/_txh68y946s4pxy1x2wnd3lh0000gn/T/ChemNet_v0.13_pretrained.h5'\n",
      "2022-11-28 12:55:10.229 | DEBUG    | gpt3forchem.output:test_inverse_bandgap:959 - Computed frechet score: (68.56659011537226, 1.1075967022091465e-06)\n",
      "2022-11-28 12:55:10.473 | DEBUG    | gpt3forchem.output:test_inverse_bandgap:970 - Computed KL div score: 0.0704032640782239\n"
     ]
    },
    {
     "name": "stdout",
     "output_type": "stream",
     "text": [
      "Testing temperature 0.25 for SMILES\n"
     ]
    },
    {
     "name": "stderr",
     "output_type": "stream",
     "text": [
      "2022-11-28 12:55:45.286 | DEBUG    | gpt3forchem.output:test_inverse_bandgap:928 - Got predictions, example: [H]c1c([H])c([H])c(C([H])([H])N2C([H])([H])C([H])([H])C([H])(C([H])([H])C([H])([H])C([H])([H])C([H])([H])C([H])([H])C([H])([H])C([H])([H])C([H])([H])C([H])([H])C([H])([H])C([H])([H])C([H])([H])C([H])([H])C([H])([H])C([H])([H])C([H])([H])C([H])([H])C([H])([H])C([H])([H])C([H])([H])C([H])([H])C([H])([H])C([H])([H])C([H])([H])C([H])([H])C([H]\n",
      "2022-11-28 12:55:45.287 | DEBUG    | gpt3forchem.output:test_inverse_bandgap:939 - Loaded predictions. Example: [H]c1c([H])c([H])c(C([H])([H])N2C([H])([H])C([H])([H])C([H])(C([H])([H])C([H])([H])C([H])([H])C([H])([H])C([H])([H])C([H])([H])C([H])([H])C([H])([H])C([H])([H])C([H])([H])C([H])([H])C([H])([H])C([H])([H])C([H])([H])C([H])([H])C([H])([H])C([H])([H])C([H])([H])C([H])([H])C([H])([H])C([H])([H])C([H])([H])C([H])([H])C([H])([H])C([H])([H])C([H]\n",
      "2022-11-28 12:55:45.328 | DEBUG    | gpt3forchem.output:test_inverse_bandgap:950 - Calculating Frechet ChemNet distance for 67 samples\n",
      "2022-11-28 12:55:45.399 | INFO     | gpt3forchem.output:_load_chemnet:217 - Saved ChemNet model to '/var/folders/m9/_txh68y946s4pxy1x2wnd3lh0000gn/T/ChemNet_v0.13_pretrained.h5'\n",
      "2022-11-28 12:55:47.269 | DEBUG    | gpt3forchem.output:test_inverse_bandgap:959 - Computed frechet score: (37.43025828563774, 0.0005608530346248196)\n",
      "2022-11-28 12:55:47.650 | DEBUG    | gpt3forchem.output:test_inverse_bandgap:970 - Computed KL div score: 0.3783806091991866\n"
     ]
    },
    {
     "name": "stdout",
     "output_type": "stream",
     "text": [
      "Testing temperature 0.5 for SMILES\n"
     ]
    },
    {
     "name": "stderr",
     "output_type": "stream",
     "text": [
      "2022-11-28 12:56:22.712 | DEBUG    | gpt3forchem.output:test_inverse_bandgap:928 - Got predictions, example: [H]c1nc([H])c([H])c(-c2c([H])c([H])c(C(=O)N([H])[C@]([H])(C(=O)N3C([H])([H])C([H])([H])C([H])([H])C([H])([H])C3([H])[H])C([H])([H])c3c([H])c([H])c([H])c([H])c3C([H])([H])[H])c([H])c2[H])c1[H]\n",
      "2022-11-28 12:56:22.716 | DEBUG    | gpt3forchem.output:test_inverse_bandgap:939 - Loaded predictions. Example: [H]c1nc([H])c([H])c(-c2c([H])c([H])c(C(=O)N([H])[C@]([H])(C(=O)N3C([H])([H])C([H])([H])C([H])([H])C([H])([H])C3([H])[H])C([H])([H])c3c([H])c([H])c([H])c([H])c3C([H])([H])[H])c([H])c2[H])c1[H]\n",
      "2022-11-28 12:56:22.742 | DEBUG    | gpt3forchem.output:test_inverse_bandgap:950 - Calculating Frechet ChemNet distance for 79 samples\n",
      "2022-11-28 12:56:22.817 | INFO     | gpt3forchem.output:_load_chemnet:217 - Saved ChemNet model to '/var/folders/m9/_txh68y946s4pxy1x2wnd3lh0000gn/T/ChemNet_v0.13_pretrained.h5'\n",
      "2022-11-28 12:56:35.783 | DEBUG    | gpt3forchem.output:test_inverse_bandgap:959 - Computed frechet score: (29.7602923107993, 0.0026004820113408574)\n",
      "2022-11-28 12:56:36.296 | DEBUG    | gpt3forchem.output:test_inverse_bandgap:970 - Computed KL div score: 0.48302345391907425\n"
     ]
    },
    {
     "name": "stdout",
     "output_type": "stream",
     "text": [
      "Testing temperature 0.75 for SMILES\n"
     ]
    },
    {
     "name": "stderr",
     "output_type": "stream",
     "text": [
      "2022-11-28 12:57:11.278 | DEBUG    | gpt3forchem.output:test_inverse_bandgap:928 - Got predictions, example: [H]c1c([H])c([H])c(S(=O)(=O)N([H])C(=O)C([H])([H])C([H])([H])C([H])([H])C([H])([H])C([H])([H])N([H])[H])c(OC([H])([H])[H])c1[H]\n",
      "2022-11-28 12:57:11.278 | DEBUG    | gpt3forchem.output:test_inverse_bandgap:939 - Loaded predictions. Example: [H]c1c([H])c([H])c(S(=O)(=O)N([H])C(=O)C([H])([H])C([H])([H])C([H])([H])C([H])([H])C([H])([H])N([H])[H])c(OC([H])([H])[H])c1[H]\n",
      "2022-11-28 12:57:11.308 | DEBUG    | gpt3forchem.output:test_inverse_bandgap:950 - Calculating Frechet ChemNet distance for 78 samples\n",
      "2022-11-28 12:57:11.364 | INFO     | gpt3forchem.output:_load_chemnet:217 - Saved ChemNet model to '/var/folders/m9/_txh68y946s4pxy1x2wnd3lh0000gn/T/ChemNet_v0.13_pretrained.h5'\n",
      "2022-11-28 12:57:39.811 | DEBUG    | gpt3forchem.output:test_inverse_bandgap:959 - Computed frechet score: (26.08972613798312, 0.005418451380042558)\n",
      "2022-11-28 12:57:40.382 | DEBUG    | gpt3forchem.output:test_inverse_bandgap:970 - Computed KL div score: 0.5101446849079212\n"
     ]
    },
    {
     "name": "stdout",
     "output_type": "stream",
     "text": [
      "Testing temperature 1.0 for SMILES\n"
     ]
    },
    {
     "name": "stderr",
     "output_type": "stream",
     "text": [
      "2022-11-28 12:58:15.636 | DEBUG    | gpt3forchem.output:test_inverse_bandgap:928 - Got predictions, example: [H]OC(=O)[C@@]([H])(N([H])S(=O)(=O)c1c([H])c([H])c([H])c(C([H])([H])N2c3c4c([H])c([H])c([H])c([H])c4n(C([H])(C([H])([H])[H])C([H])([H])[H])c3c(=O)c2[H])c1[H])C([H])([H])c1c([H])c([H])c(OC([H])([H])[H])c(C([H])([H])[H])c1[H]\n",
      "2022-11-28 12:58:15.637 | DEBUG    | gpt3forchem.output:test_inverse_bandgap:939 - Loaded predictions. Example: [H]OC(=O)[C@@]([H])(N([H])S(=O)(=O)c1c([H])c([H])c([H])c(C([H])([H])N2c3c4c([H])c([H])c([H])c([H])c4n(C([H])(C([H])([H])[H])C([H])([H])[H])c3c(=O)c2[H])c1[H])C([H])([H])c1c([H])c([H])c(OC([H])([H])[H])c(C([H])([H])[H])c1[H]\n",
      "2022-11-28 12:58:15.691 | DEBUG    | gpt3forchem.output:test_inverse_bandgap:950 - Calculating Frechet ChemNet distance for 64 samples\n",
      "2022-11-28 12:58:15.748 | INFO     | gpt3forchem.output:_load_chemnet:217 - Saved ChemNet model to '/var/folders/m9/_txh68y946s4pxy1x2wnd3lh0000gn/T/ChemNet_v0.13_pretrained.h5'\n",
      "2022-11-28 12:58:17.355 | DEBUG    | gpt3forchem.output:test_inverse_bandgap:959 - Computed frechet score: (28.7139828186082, 0.0032057905302438116)\n",
      "2022-11-28 12:58:17.749 | DEBUG    | gpt3forchem.output:test_inverse_bandgap:970 - Computed KL div score: 0.7459729024163927\n"
     ]
    },
    {
     "name": "stdout",
     "output_type": "stream",
     "text": [
      "Testing temperature 1.25 for SMILES\n"
     ]
    },
    {
     "name": "stderr",
     "output_type": "stream",
     "text": [
      "2022-11-28 12:58:53.863 | DEBUG    | gpt3forchem.output:test_inverse_bandgap:928 - Got predictions, example: [H]c1c([H])c([H])c2nsc(N([H])C([H])([H])C#N)c2c1[H]\n",
      "2022-11-28 12:58:53.864 | DEBUG    | gpt3forchem.output:test_inverse_bandgap:939 - Loaded predictions. Example: [H]c1c([H])c([H])c2nsc(N([H])C([H])([H])C#N)c2c1[H]\n",
      "2022-11-28 12:58:53.911 | DEBUG    | gpt3forchem.output:test_inverse_bandgap:950 - Calculating Frechet ChemNet distance for 31 samples\n",
      "2022-11-28 12:58:53.987 | INFO     | gpt3forchem.output:_load_chemnet:217 - Saved ChemNet model to '/var/folders/m9/_txh68y946s4pxy1x2wnd3lh0000gn/T/ChemNet_v0.13_pretrained.h5'\n",
      "2022-11-28 12:58:55.463 | DEBUG    | gpt3forchem.output:test_inverse_bandgap:959 - Computed frechet score: (41.40899478572808, 0.0002530815074856264)\n",
      "2022-11-28 12:58:55.649 | DEBUG    | gpt3forchem.output:test_inverse_bandgap:970 - Computed KL div score: 0.6509537496104156\n"
     ]
    },
    {
     "name": "stdout",
     "output_type": "stream",
     "text": [
      "Testing temperature 1.5 for SMILES\n"
     ]
    },
    {
     "name": "stderr",
     "output_type": "stream",
     "text": [
      "2022-11-28 12:59:31.561 | DEBUG    | gpt3forchem.output:test_inverse_bandgap:928 - Got predictions, example: [H]OP(C(=O)N1c2nn(-c3c([H])c([H])c([H])c(OC([H])([H])[H])c3C#N)[c2N(C([H])([H])c2nc3c([H])c([H])c(#N)c([H])c3u2)SC([H])([H])[C@@]1(C(=O)N([H])[H])C([H])([H])C([H])(C([H])([H])[H])C([H])([H])[H]\n",
      "2022-11-28 12:59:31.561 | DEBUG    | gpt3forchem.output:test_inverse_bandgap:939 - Loaded predictions. Example: [H]OP(C(=O)N1c2nn(-c3c([H])c([H])c([H])c(OC([H])([H])[H])c3C#N)[c2N(C([H])([H])c2nc3c([H])c([H])c(#N)c([H])c3u2)SC([H])([H])[C@@]1(C(=O)N([H])[H])C([H])([H])C([H])(C([H])([H])[H])C([H])([H])[H]\n",
      "2022-11-28 12:59:31.587 | DEBUG    | gpt3forchem.output:test_inverse_bandgap:950 - Calculating Frechet ChemNet distance for 2 samples\n",
      "2022-11-28 12:59:31.659 | INFO     | gpt3forchem.output:_load_chemnet:217 - Saved ChemNet model to '/var/folders/m9/_txh68y946s4pxy1x2wnd3lh0000gn/T/ChemNet_v0.13_pretrained.h5'\n",
      "2022-11-28 12:59:34.037 | DEBUG    | gpt3forchem.output:test_inverse_bandgap:959 - Computed frechet score: (96.40720506111286, 4.2284048787792256e-09)\n",
      "2022-11-28 12:59:34.099 | DEBUG    | gpt3forchem.output:test_inverse_bandgap:970 - Computed KL div score: nan\n"
     ]
    }
   ],
   "source": [
    "res_5000_smiles = test_inverse_model(\n",
    "    modelname_5000_smiles,\n",
    "    test_prompts_very_large_smiles,\n",
    "    train_prompts_very_large_smiles,\n",
    "    representation=\"SMILES\",\n",
    ")"
   ]
  },
  {
   "cell_type": "code",
   "execution_count": 153,
   "metadata": {},
   "outputs": [],
   "source": [
    "save_pickle(f\"run_files/{timestamp}-res_5000_smiles.pkl\", res_5000_smiles)"
   ]
  },
  {
   "cell_type": "code",
   "execution_count": 154,
   "metadata": {},
   "outputs": [],
   "source": [
    "smiles_5000_sets = []\n",
    "\n",
    "for res in res_5000_smiles:\n",
    "    result = {}\n",
    "    result[\"temperature\"] = res[\"meta\"][\"temperature\"]\n",
    "    result[\"smiles\"] = set(\n",
    "        res[\"predictions\"][res[\"valid_smiles\"]]\n",
    "    )\n",
    "    result['original_prediction_indices'] = [i for i, x in enumerate(res[\"predictions\"]) if x in result['smiles']]\n",
    "    result['expected'] = [res['expectations'][i] for i in result['original_prediction_indices']]\n",
    "    smiles_5000_sets.append(result)\n",
    "\n",
    "for res in smiles_5000_sets:\n",
    "    temp = res[\"temperature\"]\n",
    "    smiles_set = res[\"smiles\"]\n",
    "    with open(f\"for_xtb_opt/{timestamp}5000_smiles_{temp}.txt\", \"w\") as f:\n",
    "        for i, smiles in enumerate(smiles_set):\n",
    "            if i != len(smiles_set) - 1:\n",
    "                f.write(smiles + \"\\n\")\n",
    "            else:\n",
    "                f.write(smiles)"
   ]
  },
  {
   "cell_type": "code",
   "execution_count": 159,
   "metadata": {},
   "outputs": [
    {
     "ename": "FileNotFoundError",
     "evalue": "[Errno 2] No such file or directory: 'for_xtb_opt/2022-11-27-22-29-435000_smiles_0_gaps.txt'",
     "output_type": "error",
     "traceback": [
      "\u001b[0;31m---------------------------------------------------------------------------\u001b[0m",
      "\u001b[0;31mFileNotFoundError\u001b[0m                         Traceback (most recent call last)",
      "\u001b[1;32m/Users/kevinmaikjablonka/git/kjappelbaum/gpt3forchem/experiments/54_run_bandgap_inverse_regression.ipynb Cell 44\u001b[0m in \u001b[0;36m<cell line: 1>\u001b[0;34m()\u001b[0m\n\u001b[0;32m----> <a href='vscode-notebook-cell:/Users/kevinmaikjablonka/git/kjappelbaum/gpt3forchem/experiments/54_run_bandgap_inverse_regression.ipynb#Y132sZmlsZQ%3D%3D?line=0'>1</a>\u001b[0m smiles_very_large_xtb_results \u001b[39m=\u001b[39m get_xtb_results(\u001b[39m'\u001b[39;49m\u001b[39m2022-11-27-22-29-435000_smiles\u001b[39;49m\u001b[39m'\u001b[39;49m, smiles_5000_sets)\n\u001b[1;32m      <a href='vscode-notebook-cell:/Users/kevinmaikjablonka/git/kjappelbaum/gpt3forchem/experiments/54_run_bandgap_inverse_regression.ipynb#Y132sZmlsZQ%3D%3D?line=1'>2</a>\u001b[0m save_pickle(\u001b[39m'\u001b[39m\u001b[39mrun_files/2022-11-27-22-29-435000_smiles_xtb_results.pkl\u001b[39m\u001b[39m'\u001b[39m, smiles_very_large_xtb_results)\n",
      "\u001b[1;32m/Users/kevinmaikjablonka/git/kjappelbaum/gpt3forchem/experiments/54_run_bandgap_inverse_regression.ipynb Cell 44\u001b[0m in \u001b[0;36mget_xtb_results\u001b[0;34m(filename, results)\u001b[0m\n\u001b[1;32m      <a href='vscode-notebook-cell:/Users/kevinmaikjablonka/git/kjappelbaum/gpt3forchem/experiments/54_run_bandgap_inverse_regression.ipynb#Y132sZmlsZQ%3D%3D?line=2'>3</a>\u001b[0m \u001b[39mfor\u001b[39;00m res \u001b[39min\u001b[39;00m results:\n\u001b[1;32m      <a href='vscode-notebook-cell:/Users/kevinmaikjablonka/git/kjappelbaum/gpt3forchem/experiments/54_run_bandgap_inverse_regression.ipynb#Y132sZmlsZQ%3D%3D?line=3'>4</a>\u001b[0m     temp \u001b[39m=\u001b[39m res[\u001b[39m\"\u001b[39m\u001b[39mtemperature\u001b[39m\u001b[39m\"\u001b[39m]\n\u001b[0;32m----> <a href='vscode-notebook-cell:/Users/kevinmaikjablonka/git/kjappelbaum/gpt3forchem/experiments/54_run_bandgap_inverse_regression.ipynb#Y132sZmlsZQ%3D%3D?line=4'>5</a>\u001b[0m     \u001b[39mwith\u001b[39;00m \u001b[39mopen\u001b[39;49m(\u001b[39mf\u001b[39;49m\u001b[39m'\u001b[39;49m\u001b[39mfor_xtb_opt/\u001b[39;49m\u001b[39m{\u001b[39;49;00mfilename\u001b[39m}\u001b[39;49;00m\u001b[39m_\u001b[39;49m\u001b[39m{\u001b[39;49;00mtemp\u001b[39m}\u001b[39;49;00m\u001b[39m_gaps.txt\u001b[39;49m\u001b[39m'\u001b[39;49m, \u001b[39m'\u001b[39;49m\u001b[39mr\u001b[39;49m\u001b[39m'\u001b[39;49m) \u001b[39mas\u001b[39;00m f:\n\u001b[1;32m      <a href='vscode-notebook-cell:/Users/kevinmaikjablonka/git/kjappelbaum/gpt3forchem/experiments/54_run_bandgap_inverse_regression.ipynb#Y132sZmlsZQ%3D%3D?line=5'>6</a>\u001b[0m         gaps_ \u001b[39m=\u001b[39m f\u001b[39m.\u001b[39mreadlines()\n\u001b[1;32m      <a href='vscode-notebook-cell:/Users/kevinmaikjablonka/git/kjappelbaum/gpt3forchem/experiments/54_run_bandgap_inverse_regression.ipynb#Y132sZmlsZQ%3D%3D?line=6'>7</a>\u001b[0m         \u001b[39mif\u001b[39;00m \u001b[39mnot\u001b[39;00m gaps_: \u001b[39mprint\u001b[39m(\u001b[39mf\u001b[39m\u001b[39m\"\u001b[39m\u001b[39mNo results found for \u001b[39m\u001b[39m{\u001b[39;00mtemp\u001b[39m}\u001b[39;00m\u001b[39m\"\u001b[39m); \u001b[39mcontinue\u001b[39;00m\n",
      "\u001b[0;31mFileNotFoundError\u001b[0m: [Errno 2] No such file or directory: 'for_xtb_opt/2022-11-27-22-29-435000_smiles_0_gaps.txt'"
     ]
    }
   ],
   "source": [
    "smiles_very_large_xtb_results = get_xtb_results('2022-11-27-22-29-435000_smiles', smiles_5000_sets)\n",
    "save_pickle('run_files/2022-11-27-22-29-435000_smiles_xtb_results.pkl', smiles_very_large_xtb_results)"
   ]
  },
  {
   "cell_type": "markdown",
   "metadata": {},
   "source": [
    "## Very very large dataset"
   ]
  },
  {
   "cell_type": "code",
   "execution_count": 161,
   "metadata": {},
   "outputs": [],
   "source": [
    "train_very_very_large, test_very_very_large = train_test_split(\n",
    "    data, train_size=50_000, test_size=100, random_state=42\n",
    ")"
   ]
  },
  {
   "cell_type": "code",
   "execution_count": 162,
   "metadata": {},
   "outputs": [],
   "source": [
    "(\n",
    "    train_prompts_very_very_large_smiles,\n",
    "    test_prompts_very_very_large_smiles,\n",
    ") = generate_inverse_photoswitch_prompts(\n",
    "    train_very_very_large, \"smiles\"\n",
    "), generate_inverse_photoswitch_prompts(\n",
    "    test_very_very_large, \"smiles\"\n",
    ")\n",
    "\n",
    "(\n",
    "    train_prompts_very_very_large_selfies,\n",
    "    test_prompts_very_very_large_selfies,\n",
    ") = generate_inverse_photoswitch_prompts(\n",
    "    train_very_very_large, \"selfies\"\n",
    "), generate_inverse_photoswitch_prompts(\n",
    "    test_very_very_large, \"selfies\"\n",
    ")"
   ]
  },
  {
   "cell_type": "code",
   "execution_count": 163,
   "metadata": {},
   "outputs": [
    {
     "name": "stderr",
     "output_type": "stream",
     "text": [
      "Traceback (most recent call last):\n",
      "  File \"/Users/kevinmaikjablonka/miniconda3/envs/gpt3/bin/openai\", line 8, in <module>\n",
      "    sys.exit(main())\n",
      "  File \"/Users/kevinmaikjablonka/miniconda3/envs/gpt3/lib/python3.9/site-packages/openai/_openai_scripts.py\", line 63, in main\n",
      "    args.func(args)\n",
      "  File \"/Users/kevinmaikjablonka/miniconda3/envs/gpt3/lib/python3.9/site-packages/openai/cli.py\", line 545, in sync\n",
      "    resp = openai.wandb_logger.WandbLogger.sync(\n",
      "  File \"/Users/kevinmaikjablonka/miniconda3/envs/gpt3/lib/python3.9/site-packages/openai/wandb_logger.py\", line 74, in sync\n",
      "    fine_tune_logged = [\n",
      "  File \"/Users/kevinmaikjablonka/miniconda3/envs/gpt3/lib/python3.9/site-packages/openai/wandb_logger.py\", line 75, in <listcomp>\n",
      "    cls._log_fine_tune(\n",
      "  File \"/Users/kevinmaikjablonka/miniconda3/envs/gpt3/lib/python3.9/site-packages/openai/wandb_logger.py\", line 125, in _log_fine_tune\n",
      "    wandb_run = cls._get_wandb_run(run_path)\n",
      "  File \"/Users/kevinmaikjablonka/miniconda3/envs/gpt3/lib/python3.9/site-packages/openai/wandb_logger.py\", line 190, in _get_wandb_run\n",
      "    cls._ensure_logged_in()\n",
      "  File \"/Users/kevinmaikjablonka/miniconda3/envs/gpt3/lib/python3.9/site-packages/openai/wandb_logger.py\", line 186, in _ensure_logged_in\n",
      "    raise Exception(\"You need to log in to wandb\")\n",
      "Exception: You need to log in to wandb\n"
     ]
    }
   ],
   "source": [
    "modelname_50000_smiles, train_filename_50000_smiles = train_inverse_model(\n",
    "    train_prompts_very_very_large_smiles, \"smiles\"\n",
    ")"
   ]
  },
  {
   "cell_type": "code",
   "execution_count": null,
   "metadata": {},
   "outputs": [],
   "source": []
  }
 ],
 "metadata": {
  "kernelspec": {
   "display_name": "Python 3.9.13 ('gpt3')",
   "language": "python",
   "name": "python3"
  },
  "language_info": {
   "codemirror_mode": {
    "name": "ipython",
    "version": 3
   },
   "file_extension": ".py",
   "mimetype": "text/x-python",
   "name": "python",
   "nbconvert_exporter": "python",
   "pygments_lexer": "ipython3",
   "version": "3.9.13"
  },
  "orig_nbformat": 4,
  "vscode": {
   "interpreter": {
    "hash": "9a4fa60962de90e73b5da8d67a44b01d2de04630d82b94b8db1f727a73d31e61"
   }
  }
 },
 "nbformat": 4,
 "nbformat_minor": 2
}
