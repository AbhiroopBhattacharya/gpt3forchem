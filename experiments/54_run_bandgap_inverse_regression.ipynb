{
 "cells": [
  {
   "cell_type": "code",
   "execution_count": 1,
   "metadata": {},
   "outputs": [],
   "source": [
    "%load_ext autoreload\n",
    "%autoreload 2"
   ]
  },
  {
   "cell_type": "code",
   "execution_count": 72,
   "metadata": {},
   "outputs": [],
   "source": [
    "from gpt3forchem.data import get_bandgap_data\n",
    "from gpt3forchem.api_wrappers import fine_tune, query_gpt3, extract_inverse_prediction\n",
    "import pandas as pd \n",
    "import numpy as np \n",
    "from sklearn.model_selection import train_test_split\n",
    "import time\n",
    "\n",
    "from fastcore.helpers import save_pickle"
   ]
  },
  {
   "cell_type": "code",
   "execution_count": 115,
   "metadata": {},
   "outputs": [],
   "source": [
    "data = get_bandgap_data()"
   ]
  },
  {
   "cell_type": "code",
   "execution_count": 7,
   "metadata": {},
   "outputs": [],
   "source": [
    "train_data, test_data = train_test_split(data, train_size=500, test_size=100, random_state=42)"
   ]
  },
  {
   "cell_type": "code",
   "execution_count": 116,
   "metadata": {},
   "outputs": [],
   "source": [
    "smiles_selfies = dict(zip(data['smiles'], data['selfies']))"
   ]
  },
  {
   "cell_type": "code",
   "execution_count": 117,
   "metadata": {},
   "outputs": [],
   "source": [
    "data = data.groupby('smiles').agg('mean').reset_index()\n",
    "data['selfies'] = data['smiles'].map(smiles_selfies)"
   ]
  },
  {
   "cell_type": "code",
   "execution_count": 14,
   "metadata": {},
   "outputs": [],
   "source": [
    "PROMPT_TEMPLATE_bandgap_inverse = \"What is a molecule with a bandgap of {} eV###\"\n",
    "COMPLETION_TEMPLATE_bandgap_inverse= \"{}@@@\"\n",
    "\n",
    "\n",
    "def generate_inverse_photoswitch_prompts(data: pd.DataFrame, representation: str = 'smiles') -> pd.DataFrame:\n",
    "    prompts = []\n",
    "    completions = []\n",
    "    smiles = []\n",
    "    for i, row in data.iterrows():\n",
    "    \n",
    "        prompt = PROMPT_TEMPLATE_bandgap_inverse.format(\n",
    "               np.round(row['GFN2_HOMO_LUMO_GAP']* 27.2114, 1)\n",
    "            )\n",
    "\n",
    "        completion = COMPLETION_TEMPLATE_bandgap_inverse.format(row[representation])\n",
    "        prompts.append(prompt)\n",
    "        completions.append(completion)\n",
    "        smiles.append(row[\"smiles\"])\n",
    "\n",
    "    prompts = pd.DataFrame({\"prompt\": prompts, \"completion\": completions, \"SMILES\": smiles})\n",
    "\n",
    "    return prompts\n"
   ]
  },
  {
   "cell_type": "code",
   "execution_count": 15,
   "metadata": {},
   "outputs": [],
   "source": [
    "train_prompts, test_prompts = generate_inverse_photoswitch_prompts(train_data), generate_inverse_photoswitch_prompts(test_data)"
   ]
  },
  {
   "cell_type": "code",
   "execution_count": 16,
   "metadata": {},
   "outputs": [
    {
     "data": {
      "text/html": [
       "<div>\n",
       "<style scoped>\n",
       "    .dataframe tbody tr th:only-of-type {\n",
       "        vertical-align: middle;\n",
       "    }\n",
       "\n",
       "    .dataframe tbody tr th {\n",
       "        vertical-align: top;\n",
       "    }\n",
       "\n",
       "    .dataframe thead th {\n",
       "        text-align: right;\n",
       "    }\n",
       "</style>\n",
       "<table border=\"1\" class=\"dataframe\">\n",
       "  <thead>\n",
       "    <tr style=\"text-align: right;\">\n",
       "      <th></th>\n",
       "      <th>prompt</th>\n",
       "      <th>completion</th>\n",
       "      <th>SMILES</th>\n",
       "    </tr>\n",
       "  </thead>\n",
       "  <tbody>\n",
       "    <tr>\n",
       "      <th>0</th>\n",
       "      <td>What is a molecule with a bandgap of 2.1 eV###</td>\n",
       "      <td>[H]c1c([H])c(-n2nc(C(=O)N([H])C([H])([H])C([H]...</td>\n",
       "      <td>[H]c1c([H])c(-n2nc(C(=O)N([H])C([H])([H])C([H]...</td>\n",
       "    </tr>\n",
       "    <tr>\n",
       "      <th>1</th>\n",
       "      <td>What is a molecule with a bandgap of 1.9 eV###</td>\n",
       "      <td>[H]c1c([H])c([H])c2c(c1[H])C(=O)C1=[N+]([O-])[...</td>\n",
       "      <td>[H]c1c([H])c([H])c2c(c1[H])C(=O)C1=[N+]([O-])[...</td>\n",
       "    </tr>\n",
       "    <tr>\n",
       "      <th>2</th>\n",
       "      <td>What is a molecule with a bandgap of 1.9 eV###</td>\n",
       "      <td>[H]c1nc2c(N3C([H])([H])C([H])([H])C([H])(C#N)C...</td>\n",
       "      <td>[H]c1nc2c(N3C([H])([H])C([H])([H])C([H])(C#N)C...</td>\n",
       "    </tr>\n",
       "    <tr>\n",
       "      <th>3</th>\n",
       "      <td>What is a molecule with a bandgap of 3.0 eV###</td>\n",
       "      <td>[H]c1c([H])c(S(=O)(=O)N([H])C([H])([H])C([H])(...</td>\n",
       "      <td>[H]c1c([H])c(S(=O)(=O)N([H])C([H])([H])C([H])(...</td>\n",
       "    </tr>\n",
       "    <tr>\n",
       "      <th>4</th>\n",
       "      <td>What is a molecule with a bandgap of 3.5 eV###</td>\n",
       "      <td>[H]OC(=O)C([H])([H])c1c([H])c([H])c(OC([H])([H...</td>\n",
       "      <td>[H]OC(=O)C([H])([H])c1c([H])c([H])c(OC([H])([H...</td>\n",
       "    </tr>\n",
       "    <tr>\n",
       "      <th>...</th>\n",
       "      <td>...</td>\n",
       "      <td>...</td>\n",
       "      <td>...</td>\n",
       "    </tr>\n",
       "    <tr>\n",
       "      <th>495</th>\n",
       "      <td>What is a molecule with a bandgap of 2.0 eV###</td>\n",
       "      <td>[H]c1nc(-c2c([H])c(F)c(F)c([H])c2F)c(-c2c([H])...</td>\n",
       "      <td>[H]c1nc(-c2c([H])c(F)c(F)c([H])c2F)c(-c2c([H])...</td>\n",
       "    </tr>\n",
       "    <tr>\n",
       "      <th>496</th>\n",
       "      <td>What is a molecule with a bandgap of 2.7 eV###</td>\n",
       "      <td>[H]c1c([H])c(C(=O)n2c(C([H])([H])C([H])([H])C(...</td>\n",
       "      <td>[H]c1c([H])c(C(=O)n2c(C([H])([H])C([H])([H])C(...</td>\n",
       "    </tr>\n",
       "    <tr>\n",
       "      <th>497</th>\n",
       "      <td>What is a molecule with a bandgap of 1.8 eV###</td>\n",
       "      <td>[H]c1c([H])c([H])c(-c2nc(N([H])c3c([H])c([H])c...</td>\n",
       "      <td>[H]c1c([H])c([H])c(-c2nc(N([H])c3c([H])c([H])c...</td>\n",
       "    </tr>\n",
       "    <tr>\n",
       "      <th>498</th>\n",
       "      <td>What is a molecule with a bandgap of 2.0 eV###</td>\n",
       "      <td>[H]c1c([H])c(OC([H])([H])[H])c(C([H])(C([H])([...</td>\n",
       "      <td>[H]c1c([H])c(OC([H])([H])[H])c(C([H])(C([H])([...</td>\n",
       "    </tr>\n",
       "    <tr>\n",
       "      <th>499</th>\n",
       "      <td>What is a molecule with a bandgap of 3.7 eV###</td>\n",
       "      <td>[H]OP(=O)(O[H])C([H])([H])N([H])[C@]([H])(c1nn...</td>\n",
       "      <td>[H]OP(=O)(O[H])C([H])([H])N([H])[C@]([H])(c1nn...</td>\n",
       "    </tr>\n",
       "  </tbody>\n",
       "</table>\n",
       "<p>500 rows × 3 columns</p>\n",
       "</div>"
      ],
      "text/plain": [
       "                                             prompt  ...                                             SMILES\n",
       "0    What is a molecule with a bandgap of 2.1 eV###  ...  [H]c1c([H])c(-n2nc(C(=O)N([H])C([H])([H])C([H]...\n",
       "1    What is a molecule with a bandgap of 1.9 eV###  ...  [H]c1c([H])c([H])c2c(c1[H])C(=O)C1=[N+]([O-])[...\n",
       "2    What is a molecule with a bandgap of 1.9 eV###  ...  [H]c1nc2c(N3C([H])([H])C([H])([H])C([H])(C#N)C...\n",
       "3    What is a molecule with a bandgap of 3.0 eV###  ...  [H]c1c([H])c(S(=O)(=O)N([H])C([H])([H])C([H])(...\n",
       "4    What is a molecule with a bandgap of 3.5 eV###  ...  [H]OC(=O)C([H])([H])c1c([H])c([H])c(OC([H])([H...\n",
       "..                                              ...  ...                                                ...\n",
       "495  What is a molecule with a bandgap of 2.0 eV###  ...  [H]c1nc(-c2c([H])c(F)c(F)c([H])c2F)c(-c2c([H])...\n",
       "496  What is a molecule with a bandgap of 2.7 eV###  ...  [H]c1c([H])c(C(=O)n2c(C([H])([H])C([H])([H])C(...\n",
       "497  What is a molecule with a bandgap of 1.8 eV###  ...  [H]c1c([H])c([H])c(-c2nc(N([H])c3c([H])c([H])c...\n",
       "498  What is a molecule with a bandgap of 2.0 eV###  ...  [H]c1c([H])c(OC([H])([H])[H])c(C([H])(C([H])([...\n",
       "499  What is a molecule with a bandgap of 3.7 eV###  ...  [H]OP(=O)(O[H])C([H])([H])N([H])[C@]([H])(c1nn...\n",
       "\n",
       "[500 rows x 3 columns]"
      ]
     },
     "execution_count": 16,
     "metadata": {},
     "output_type": "execute_result"
    }
   ],
   "source": [
    "train_prompts"
   ]
  },
  {
   "cell_type": "code",
   "execution_count": 17,
   "metadata": {},
   "outputs": [],
   "source": [
    "def train_inverse_model(train_prompts, representation):\n",
    "\n",
    "    train_size = len(train_prompts)\n",
    "\n",
    "    filename_base = time.strftime(\"%Y-%m-%d-%H-%M-%S\", time.localtime())\n",
    "    train_filename = f\"run_files/{filename_base}_train_prompts_bandgap_inverse_{representation}_{train_size}.jsonl\"\n",
    "\n",
    "    train_prompts.to_json(train_filename, orient=\"records\", lines=True)\n",
    "\n",
    "    modelname = fine_tune(train_filename, train_filename, \"ada\")\n",
    "    return modelname, train_filename"
   ]
  },
  {
   "cell_type": "code",
   "execution_count": 20,
   "metadata": {},
   "outputs": [
    {
     "name": "stderr",
     "output_type": "stream",
     "text": [
      "Traceback (most recent call last):\n",
      "  File \"/Users/kevinmaikjablonka/miniconda3/envs/gpt3/bin/openai\", line 8, in <module>\n",
      "    sys.exit(main())\n",
      "  File \"/Users/kevinmaikjablonka/miniconda3/envs/gpt3/lib/python3.9/site-packages/openai/_openai_scripts.py\", line 63, in main\n",
      "    args.func(args)\n",
      "  File \"/Users/kevinmaikjablonka/miniconda3/envs/gpt3/lib/python3.9/site-packages/openai/cli.py\", line 545, in sync\n",
      "    resp = openai.wandb_logger.WandbLogger.sync(\n",
      "  File \"/Users/kevinmaikjablonka/miniconda3/envs/gpt3/lib/python3.9/site-packages/openai/wandb_logger.py\", line 74, in sync\n",
      "    fine_tune_logged = [\n",
      "  File \"/Users/kevinmaikjablonka/miniconda3/envs/gpt3/lib/python3.9/site-packages/openai/wandb_logger.py\", line 75, in <listcomp>\n",
      "    cls._log_fine_tune(\n",
      "  File \"/Users/kevinmaikjablonka/miniconda3/envs/gpt3/lib/python3.9/site-packages/openai/wandb_logger.py\", line 125, in _log_fine_tune\n",
      "    wandb_run = cls._get_wandb_run(run_path)\n",
      "  File \"/Users/kevinmaikjablonka/miniconda3/envs/gpt3/lib/python3.9/site-packages/openai/wandb_logger.py\", line 190, in _get_wandb_run\n",
      "    cls._ensure_logged_in()\n",
      "  File \"/Users/kevinmaikjablonka/miniconda3/envs/gpt3/lib/python3.9/site-packages/openai/wandb_logger.py\", line 186, in _ensure_logged_in\n",
      "    raise Exception(\"You need to log in to wandb\")\n",
      "Exception: You need to log in to wandb\n"
     ]
    }
   ],
   "source": [
    "modelname, train_filename = train_inverse_model(train_prompts, 'smiles')"
   ]
  },
  {
   "cell_type": "code",
   "execution_count": 23,
   "metadata": {},
   "outputs": [
    {
     "data": {
      "text/plain": [
       "'What is a molecule with a bandgap of 2.1 eV###'"
      ]
     },
     "execution_count": 23,
     "metadata": {},
     "output_type": "execute_result"
    }
   ],
   "source": [
    "train_prompts['prompt'].iloc[0]"
   ]
  },
  {
   "cell_type": "code",
   "execution_count": 27,
   "metadata": {},
   "outputs": [],
   "source": [
    "from gpt3forchem.output import test_inverse_bandgap"
   ]
  },
  {
   "cell_type": "code",
   "execution_count": 66,
   "metadata": {},
   "outputs": [
    {
     "name": "stderr",
     "output_type": "stream",
     "text": [
      "2022-11-25 11:48:51.396 | DEBUG    | gpt3forchem.output:test_inverse_bandgap:928 - Got predictions, example: [H]c1nc([H])c([H])c(N([H])C(=O)N([H])c2c([H])c([H])c([H])c([H])c2[H])c1[H]\n",
      "2022-11-25 11:48:51.396 | DEBUG    | gpt3forchem.output:test_inverse_bandgap:939 - Loaded predictions. Example: [H]c1nc([H])c([H])c(N([H])C(=O)N([H])c2c([H])c([H])c([H])c([H])c2[H])c1[H]\n",
      "2022-11-25 11:48:51.400 | DEBUG    | gpt3forchem.output:test_inverse_bandgap:950 - Calculating Frechet ChemNet distance for 6 samples\n",
      "2022-11-25 11:48:51.438 | INFO     | gpt3forchem.output:_load_chemnet:217 - Saved ChemNet model to '/var/folders/m9/_txh68y946s4pxy1x2wnd3lh0000gn/T/ChemNet_v0.13_pretrained.h5'\n",
      "/Users/kevinmaikjablonka/miniconda3/envs/gpt3/lib/python3.9/site-packages/fcd/FCD.py:194: UserWarning: `Model.predict_generator` is deprecated and will be removed in a future version. Please use `Model.predict`, which supports generators.\n",
      "  gen_mol_act = model.predict_generator(\n",
      "2022-11-25 11:48:59.342 | DEBUG    | gpt3forchem.output:test_inverse_bandgap:959 - Computed frechet score: (77.47723397212097, 1.8638586028278752e-07)\n",
      "2022-11-25 11:48:59.398 | DEBUG    | gpt3forchem.output:test_inverse_bandgap:970 - Computed KL div score: 0.3089225170957535\n"
     ]
    }
   ],
   "source": [
    "res = test_inverse_bandgap(test_prompts.iloc[:10], modelname, train_prompts['SMILES'].iloc[:10], 0.75, max_tokens=250)"
   ]
  },
  {
   "cell_type": "code",
   "execution_count": 70,
   "metadata": {},
   "outputs": [],
   "source": [
    "def test_inverse_model(modelname, test_prompts, df_train, max_tokens: int =250, temperatures=None, representation=\"SMILES\"): \n",
    "    temperatures = temperatures or  [0, 0.25, 0.5, 0.75, 1.0, 1.25, 1.5]\n",
    "    train_smiles = df_train['SMILES'].to_list()\n",
    "    results = []\n",
    "    for temperature in temperatures:\n",
    "        try:\n",
    "            print(f\"Testing temperature {temperature} for {representation}\")\n",
    "            result = test_inverse_bandgap(\n",
    "                test_prompts, modelname, train_smiles=train_smiles, temperature=temperature, max_tokens=max_tokens, representation=representation\n",
    "            )\n",
    "\n",
    "            results.append(result)\n",
    "        except Exception as e:\n",
    "            print(e)\n",
    "            pass\n",
    "    \n",
    "    return results"
   ]
  },
  {
   "cell_type": "code",
   "execution_count": 71,
   "metadata": {},
   "outputs": [
    {
     "name": "stdout",
     "output_type": "stream",
     "text": [
      "Testing temperature 0 for SMILES\n"
     ]
    },
    {
     "name": "stderr",
     "output_type": "stream",
     "text": [
      "2022-11-25 11:58:46.088 | DEBUG    | gpt3forchem.output:test_inverse_bandgap:928 - Got predictions, example: [H]c1c([H])c([H])c(C([H])([H])N([H])C(=O)N([H])c2c([H])c([H])c(C(=O)N([H])c3c([H])c([H])c(OC([H])([H])[H])c([H])c3[H])c([H])c2[H])c([H])c1[H]\n",
      "2022-11-25 11:58:46.088 | DEBUG    | gpt3forchem.output:test_inverse_bandgap:939 - Loaded predictions. Example: [H]c1c([H])c([H])c(C([H])([H])N([H])C(=O)N([H])c2c([H])c([H])c(C(=O)N([H])c3c([H])c([H])c(OC([H])([H])[H])c([H])c3[H])c([H])c2[H])c([H])c1[H]\n",
      "2022-11-25 11:58:46.110 | DEBUG    | gpt3forchem.output:test_inverse_bandgap:950 - Calculating Frechet ChemNet distance for 100 samples\n",
      "2022-11-25 11:58:46.173 | INFO     | gpt3forchem.output:_load_chemnet:217 - Saved ChemNet model to '/var/folders/m9/_txh68y946s4pxy1x2wnd3lh0000gn/T/ChemNet_v0.13_pretrained.h5'\n",
      "/Users/kevinmaikjablonka/miniconda3/envs/gpt3/lib/python3.9/site-packages/fcd/FCD.py:194: UserWarning: `Model.predict_generator` is deprecated and will be removed in a future version. Please use `Model.predict`, which supports generators.\n",
      "  gen_mol_act = model.predict_generator(\n",
      "/Users/kevinmaikjablonka/miniconda3/envs/gpt3/lib/python3.9/site-packages/scipy/linalg/_matfuncs_sqrtm.py:189: RuntimeWarning: invalid value encountered in double_scalars\n",
      "  arg2 = norm(X.dot(X) - A, 'fro')**2 / norm(A, 'fro')\n",
      "2022-11-25 11:59:10.584 | DEBUG    | gpt3forchem.output:test_inverse_bandgap:959 - Computed frechet score: (97.82904481967903, 3.181831177406957e-09)\n",
      "2022-11-25 11:59:10.900 | DEBUG    | gpt3forchem.output:test_inverse_bandgap:970 - Computed KL div score: nan\n"
     ]
    },
    {
     "name": "stdout",
     "output_type": "stream",
     "text": [
      "Testing temperature 0.25 for SMILES\n"
     ]
    },
    {
     "name": "stderr",
     "output_type": "stream",
     "text": [
      "2022-11-25 11:59:46.096 | DEBUG    | gpt3forchem.output:test_inverse_bandgap:928 - Got predictions, example: [H]c1c([H])c([H])c(C([H])([H])N([H])C(=O)N([H])c2c([H])c([H])c(C(=O)N([H])c3c([H])c([H])c([H])c([H])c3[H])c([H])c2[H])c([H])c1[H]\n",
      "2022-11-25 11:59:46.097 | DEBUG    | gpt3forchem.output:test_inverse_bandgap:939 - Loaded predictions. Example: [H]c1c([H])c([H])c(C([H])([H])N([H])C(=O)N([H])c2c([H])c([H])c(C(=O)N([H])c3c([H])c([H])c([H])c([H])c3[H])c([H])c2[H])c([H])c1[H]\n",
      "2022-11-25 11:59:46.119 | DEBUG    | gpt3forchem.output:test_inverse_bandgap:950 - Calculating Frechet ChemNet distance for 76 samples\n",
      "2022-11-25 11:59:46.149 | INFO     | gpt3forchem.output:_load_chemnet:217 - Saved ChemNet model to '/var/folders/m9/_txh68y946s4pxy1x2wnd3lh0000gn/T/ChemNet_v0.13_pretrained.h5'\n",
      "2022-11-25 12:00:10.442 | DEBUG    | gpt3forchem.output:test_inverse_bandgap:959 - Computed frechet score: (57.22531938419547, 1.0702171674685315e-05)\n",
      "2022-11-25 12:00:10.811 | DEBUG    | gpt3forchem.output:test_inverse_bandgap:970 - Computed KL div score: 0.1948707995736059\n"
     ]
    },
    {
     "name": "stdout",
     "output_type": "stream",
     "text": [
      "Testing temperature 0.5 for SMILES\n"
     ]
    },
    {
     "name": "stderr",
     "output_type": "stream",
     "text": [
      "2022-11-25 12:00:45.102 | DEBUG    | gpt3forchem.output:test_inverse_bandgap:928 - Got predictions, example: [H]c1c([H])c([H])c(C(=O)N([H])c2nc3c([H])c(C(=O)N([H])C([H])([H])C([H])([H])C([H])([H])N4C([H])([H])C([H])([H])C([H])([H])C4([H])[H])c([H])c([H])c3sc2C([H])([H])[H])c([H])c1[H]\n",
      "2022-11-25 12:00:45.102 | DEBUG    | gpt3forchem.output:test_inverse_bandgap:939 - Loaded predictions. Example: [H]c1c([H])c([H])c(C(=O)N([H])c2nc3c([H])c(C(=O)N([H])C([H])([H])C([H])([H])C([H])([H])N4C([H])([H])C([H])([H])C([H])([H])C4([H])[H])c([H])c([H])c3sc2C([H])([H])[H])c([H])c1[H]\n",
      "2022-11-25 12:00:45.133 | DEBUG    | gpt3forchem.output:test_inverse_bandgap:950 - Calculating Frechet ChemNet distance for 60 samples\n",
      "2022-11-25 12:00:45.161 | INFO     | gpt3forchem.output:_load_chemnet:217 - Saved ChemNet model to '/var/folders/m9/_txh68y946s4pxy1x2wnd3lh0000gn/T/ChemNet_v0.13_pretrained.h5'\n",
      "2022-11-25 12:01:09.334 | DEBUG    | gpt3forchem.output:test_inverse_bandgap:959 - Computed frechet score: (38.67916862545875, 0.0004368879840674601)\n",
      "2022-11-25 12:01:09.669 | DEBUG    | gpt3forchem.output:test_inverse_bandgap:970 - Computed KL div score: 0.35771669849956655\n"
     ]
    },
    {
     "name": "stdout",
     "output_type": "stream",
     "text": [
      "Testing temperature 0.75 for SMILES\n"
     ]
    },
    {
     "name": "stderr",
     "output_type": "stream",
     "text": [
      "2022-11-25 12:01:44.624 | DEBUG    | gpt3forchem.output:test_inverse_bandgap:928 - Got predictions, example: [H]c1nc(N([H])c2nc(C([H])([H])[H])c([H])c([H])c2N([H])[H])c([H])c(C([H])([H])[H])c1[H]\n",
      "2022-11-25 12:01:44.624 | DEBUG    | gpt3forchem.output:test_inverse_bandgap:939 - Loaded predictions. Example: [H]c1nc(N([H])c2nc(C([H])([H])[H])c([H])c([H])c2N([H])[H])c([H])c(C([H])([H])[H])c1[H]\n",
      "2022-11-25 12:01:44.666 | DEBUG    | gpt3forchem.output:test_inverse_bandgap:950 - Calculating Frechet ChemNet distance for 30 samples\n",
      "2022-11-25 12:01:44.693 | INFO     | gpt3forchem.output:_load_chemnet:217 - Saved ChemNet model to '/var/folders/m9/_txh68y946s4pxy1x2wnd3lh0000gn/T/ChemNet_v0.13_pretrained.h5'\n",
      "2022-11-25 12:02:08.755 | DEBUG    | gpt3forchem.output:test_inverse_bandgap:959 - Computed frechet score: (45.54272623196655, 0.0001107156620423434)\n",
      "2022-11-25 12:02:08.945 | DEBUG    | gpt3forchem.output:test_inverse_bandgap:970 - Computed KL div score: 0.3657454532513622\n"
     ]
    },
    {
     "name": "stdout",
     "output_type": "stream",
     "text": [
      "Testing temperature 1.0 for SMILES\n"
     ]
    },
    {
     "name": "stderr",
     "output_type": "stream",
     "text": [
      "2022-11-25 12:02:44.262 | DEBUG    | gpt3forchem.output:test_inverse_bandgap:928 - Got predictions, example: [H]c1c([H])c(C([H])([H])Br)c(N([H])c2c(N3C([H])([H])C([H])([H])N(C(=O)N([H])C([H])([H])[H])SC([H])([H])C3([H])[H])c([H])c([H])c2C([H])([H])C3([H])[H])c1[H]\n",
      "2022-11-25 12:02:44.262 | DEBUG    | gpt3forchem.output:test_inverse_bandgap:939 - Loaded predictions. Example: [H]c1c([H])c(C([H])([H])Br)c(N([H])c2c(N3C([H])([H])C([H])([H])N(C(=O)N([H])C([H])([H])[H])SC([H])([H])C3([H])[H])c([H])c([H])c2C([H])([H])C3([H])[H])c1[H]\n",
      "2022-11-25 12:02:44.299 | DEBUG    | gpt3forchem.output:test_inverse_bandgap:950 - Calculating Frechet ChemNet distance for 21 samples\n",
      "2022-11-25 12:02:44.331 | INFO     | gpt3forchem.output:_load_chemnet:217 - Saved ChemNet model to '/var/folders/m9/_txh68y946s4pxy1x2wnd3lh0000gn/T/ChemNet_v0.13_pretrained.h5'\n",
      "2022-11-25 12:03:02.060 | DEBUG    | gpt3forchem.output:test_inverse_bandgap:959 - Computed frechet score: (45.4895519614289, 0.00011189939018701424)\n",
      "2022-11-25 12:03:02.207 | DEBUG    | gpt3forchem.output:test_inverse_bandgap:970 - Computed KL div score: 0.5564671192979788\n"
     ]
    },
    {
     "name": "stdout",
     "output_type": "stream",
     "text": [
      "Testing temperature 1.25 for SMILES\n"
     ]
    },
    {
     "name": "stderr",
     "output_type": "stream",
     "text": [
      "2022-11-25 12:03:37.901 | DEBUG    | gpt3forchem.output:test_inverse_bandgap:928 - Got predictions, example: [H]/C(=N(C([H])([H])S(=O)(=O)OF)(=O)C([H])([H])S(=O)(=O)C([H])([H])c1nnc([H])c([H])c2nc(N([H])s1C([H])([H])C9([H])([H])C([H])([H])OC([H])([H])C9([H])[H])c3sc([H])c([H])c([H])c([H])c32)c1[H])C2=O\n",
      "2022-11-25 12:03:37.902 | DEBUG    | gpt3forchem.output:test_inverse_bandgap:939 - Loaded predictions. Example: [H]/C(=N(C([H])([H])S(=O)(=O)OF)(=O)C([H])([H])S(=O)(=O)C([H])([H])c1nnc([H])c([H])c2nc(N([H])s1C([H])([H])C9([H])([H])C([H])([H])OC([H])([H])C9([H])[H])c3sc([H])c([H])c([H])c([H])c32)c1[H])C2=O\n",
      "2022-11-25 12:03:37.927 | DEBUG    | gpt3forchem.output:test_inverse_bandgap:950 - Calculating Frechet ChemNet distance for 5 samples\n",
      "2022-11-25 12:03:37.985 | INFO     | gpt3forchem.output:_load_chemnet:217 - Saved ChemNet model to '/var/folders/m9/_txh68y946s4pxy1x2wnd3lh0000gn/T/ChemNet_v0.13_pretrained.h5'\n",
      "2022-11-25 12:03:47.195 | DEBUG    | gpt3forchem.output:test_inverse_bandgap:959 - Computed frechet score: (79.20259703452265, 1.3199267518736524e-07)\n",
      "2022-11-25 12:03:47.230 | DEBUG    | gpt3forchem.output:test_inverse_bandgap:970 - Computed KL div score: 0.5589129224995769\n"
     ]
    },
    {
     "name": "stdout",
     "output_type": "stream",
     "text": [
      "Testing temperature 1.5 for SMILES\n"
     ]
    },
    {
     "name": "stderr",
     "output_type": "stream",
     "text": [
      "2022-11-25 12:04:23.150 | DEBUG    | gpt3forchem.output:test_inverse_bandgap:928 - Got predictions, example: [H]OC1(C([H])([H])OC(C([H])([H]])n2c2c(-c3c(ocooc(-ce)c(-c4c(-c([H])\n",
      "2022-11-25 12:04:23.151 | DEBUG    | gpt3forchem.output:test_inverse_bandgap:939 - Loaded predictions. Example: [H]OC1(C([H])([H])OC(C([H])([H]])n2c2c(-c3c(ocooc(-ce)c(-c4c(-c([H])\n",
      "2022-11-25 12:04:23.175 | DEBUG    | gpt3forchem.output:test_inverse_bandgap:950 - Calculating Frechet ChemNet distance for 3 samples\n",
      "2022-11-25 12:04:23.256 | INFO     | gpt3forchem.output:_load_chemnet:217 - Saved ChemNet model to '/var/folders/m9/_txh68y946s4pxy1x2wnd3lh0000gn/T/ChemNet_v0.13_pretrained.h5'\n",
      "[12:04:28] WARNING: not removing hydrogen atom without neighbors\n",
      "2022-11-25 12:04:29.991 | DEBUG    | gpt3forchem.output:test_inverse_bandgap:959 - Computed frechet score: (83.02738582460621, 6.142326499048503e-08)\n",
      "/Users/kevinmaikjablonka/miniconda3/envs/gpt3/lib/python3.9/site-packages/numpy/lib/histograms.py:906: RuntimeWarning: invalid value encountered in divide\n",
      "  return n/db/n.sum(), bin_edges\n",
      "2022-11-25 12:04:30.025 | DEBUG    | gpt3forchem.output:test_inverse_bandgap:970 - Computed KL div score: nan\n"
     ]
    }
   ],
   "source": [
    "res_500_smiles = test_inverse_model(modelname, test_prompts, train_prompts, representation=\"SMILES\")"
   ]
  },
  {
   "cell_type": "code",
   "execution_count": 73,
   "metadata": {},
   "outputs": [],
   "source": [
    "save_pickle( \"run_files/res_500_smiles.pkl\", res_500_smiles)"
   ]
  },
  {
   "cell_type": "code",
   "execution_count": 79,
   "metadata": {},
   "outputs": [],
   "source": [
    "smiles_500_smiles_sets = {}\n",
    "\n",
    "for res in res_500_smiles:\n",
    "    smiles_500_smiles_sets[res['meta']['temperature']] = set(res['predictions'][res['valid_smiles']])\n",
    "\n",
    "for temp, smiles_set in smiles_500_smiles_sets.items():\n",
    "    with open(f'for_xtb_opt/500_smiles_{temp}.txt', 'w') as f:\n",
    "        for i, smiles in enumerate(smiles_set):\n",
    "            if i != len(smiles_set) - 1:\n",
    "                f.write(smiles + '\\n')\n",
    "            else:\n",
    "                f.write(smiles)"
   ]
  },
  {
   "cell_type": "markdown",
   "metadata": {},
   "source": [
    "For the ground truth, we need to swtich to running on the server"
   ]
  },
  {
   "cell_type": "markdown",
   "metadata": {},
   "source": [
    "#### Now use SELFIES"
   ]
  },
  {
   "cell_type": "code",
   "execution_count": 80,
   "metadata": {},
   "outputs": [],
   "source": [
    "train_prompts_selfies, test_prompts_selfies = generate_inverse_photoswitch_prompts(train_data, 'selfies'), generate_inverse_photoswitch_prompts(test_data, 'selfies')"
   ]
  },
  {
   "cell_type": "code",
   "execution_count": 84,
   "metadata": {},
   "outputs": [
    {
     "name": "stderr",
     "output_type": "stream",
     "text": [
      "Traceback (most recent call last):\n",
      "  File \"/Users/kevinmaikjablonka/miniconda3/envs/gpt3/bin/openai\", line 8, in <module>\n",
      "    sys.exit(main())\n",
      "  File \"/Users/kevinmaikjablonka/miniconda3/envs/gpt3/lib/python3.9/site-packages/openai/_openai_scripts.py\", line 63, in main\n",
      "    args.func(args)\n",
      "  File \"/Users/kevinmaikjablonka/miniconda3/envs/gpt3/lib/python3.9/site-packages/openai/cli.py\", line 545, in sync\n",
      "    resp = openai.wandb_logger.WandbLogger.sync(\n",
      "  File \"/Users/kevinmaikjablonka/miniconda3/envs/gpt3/lib/python3.9/site-packages/openai/wandb_logger.py\", line 74, in sync\n",
      "    fine_tune_logged = [\n",
      "  File \"/Users/kevinmaikjablonka/miniconda3/envs/gpt3/lib/python3.9/site-packages/openai/wandb_logger.py\", line 75, in <listcomp>\n",
      "    cls._log_fine_tune(\n",
      "  File \"/Users/kevinmaikjablonka/miniconda3/envs/gpt3/lib/python3.9/site-packages/openai/wandb_logger.py\", line 125, in _log_fine_tune\n",
      "    wandb_run = cls._get_wandb_run(run_path)\n",
      "  File \"/Users/kevinmaikjablonka/miniconda3/envs/gpt3/lib/python3.9/site-packages/openai/wandb_logger.py\", line 190, in _get_wandb_run\n",
      "    cls._ensure_logged_in()\n",
      "  File \"/Users/kevinmaikjablonka/miniconda3/envs/gpt3/lib/python3.9/site-packages/openai/wandb_logger.py\", line 186, in _ensure_logged_in\n",
      "    raise Exception(\"You need to log in to wandb\")\n",
      "Exception: You need to log in to wandb\n"
     ]
    }
   ],
   "source": [
    "modelname_500_selfies, train_filename_500_selfies = train_inverse_model(train_prompts_selfies, 'selfies')"
   ]
  },
  {
   "cell_type": "code",
   "execution_count": 86,
   "metadata": {},
   "outputs": [
    {
     "name": "stdout",
     "output_type": "stream",
     "text": [
      "Testing temperature 0 for selfies\n"
     ]
    },
    {
     "name": "stderr",
     "output_type": "stream",
     "text": [
      "2022-11-25 13:59:53.495 | DEBUG    | gpt3forchem.output:test_inverse_bandgap:928 - Got predictions, example: [H][C][=C][Branch1][C][H][C][Branch1][C][H][=C][Branch2][Branch1][#Branch1][C][=Branch1][C][=O][N][Branch1][C][H][C][=C][Branch1][C][H][C][Branch1][C][H][=C][Branch2][Ring1][=Branch1][C][=C][Branch1][C][H][C][Branch1][C][H][=C][Branch1][C][H][C][Branch1][C][H][=C][Ring1][#Branch2][H][C][Branch1][C][H][=C][Ring2][Ring1][Branch1][H][C][Branch1][C][H][=C][Ring2][Ring2][Branch1][H]\n",
      "2022-11-25 13:59:53.532 | DEBUG    | gpt3forchem.output:test_inverse_bandgap:939 - Loaded predictions. Example: [H]C=C([H])C([H])=C(C(=O)N([H])C=C([H])C([H])=C(C1=C([H])C([H])=C([H])C([H])=C1[H])C([H])=C[H])[H]\n",
      "2022-11-25 13:59:53.540 | DEBUG    | gpt3forchem.output:test_inverse_bandgap:950 - Calculating Frechet ChemNet distance for 100 samples\n",
      "2022-11-25 13:59:53.612 | INFO     | gpt3forchem.output:_load_chemnet:217 - Saved ChemNet model to '/var/folders/m9/_txh68y946s4pxy1x2wnd3lh0000gn/T/ChemNet_v0.13_pretrained.h5'\n",
      "/Users/kevinmaikjablonka/miniconda3/envs/gpt3/lib/python3.9/site-packages/fcd/FCD.py:194: UserWarning: `Model.predict_generator` is deprecated and will be removed in a future version. Please use `Model.predict`, which supports generators.\n",
      "  gen_mol_act = model.predict_generator(\n",
      "/Users/kevinmaikjablonka/miniconda3/envs/gpt3/lib/python3.9/site-packages/scipy/linalg/_matfuncs_sqrtm.py:189: RuntimeWarning: invalid value encountered in double_scalars\n",
      "  arg2 = norm(X.dot(X) - A, 'fro')**2 / norm(A, 'fro')\n",
      "2022-11-25 14:00:19.205 | DEBUG    | gpt3forchem.output:test_inverse_bandgap:959 - Computed frechet score: (71.9607167251966, 5.617868412458238e-07)\n",
      "2022-11-25 14:00:19.534 | DEBUG    | gpt3forchem.output:test_inverse_bandgap:970 - Computed KL div score: nan\n"
     ]
    },
    {
     "name": "stdout",
     "output_type": "stream",
     "text": [
      "Testing temperature 0.25 for selfies\n"
     ]
    },
    {
     "name": "stderr",
     "output_type": "stream",
     "text": [
      "2022-11-25 14:00:55.903 | DEBUG    | gpt3forchem.output:test_inverse_bandgap:928 - Got predictions, example: [H][C][=C][Branch1][C][H][C][Branch1][C][H][=C][Branch2][=Branch1][#Branch1][C][Branch1][C][H][Branch1][C][H][N][Branch1][C][H][C][=Branch1][C][=O][C][=C][Branch1][C][H][C][Branch1][C][H][=C][Branch2][Ring1][=Branch1][C][=C][Branch1][C][H][C][Branch1][C][H][=C][Branch1][C][H][C][Branch1][C][H][=C][Ring1][#Branch2][H][C][Branch1][C][H][=C][Ring2][Ring1][#Branch1][H][C][Branch1][C][H][Branch1][C][H][C][Branch1][C][H][Branch1][C][H][C][Branch1][C][H][\n",
      "2022-11-25 14:00:55.934 | DEBUG    | gpt3forchem.output:test_inverse_bandgap:939 - Loaded predictions. Example: [H][C][=C][Branch1][C][H][C][Branch1][C][H][=C][Branch2][=Branch1][#Branch1][C][Branch1][C][H][Branch1][C][H][N][Branch1][C][H][C][=Branch1][C][=O][C][=C][Branch1][C][H][C][Branch1][C][H][=C][Branch2][Ring1][=Branch1][C][=C][Branch1][C][H][C][Branch1][C][H][=C][Branch1][C][H][C][Branch1][C][H][=C][Ring1][#Branch2][H][C][Branch1][C][H][=C][Ring2][Ring1][#Branch1][H][C][Branch1][C][H][Branch1][C][H][C][Branch1][C][H][Branch1][C][H][C][Branch1][C][H][\n",
      "2022-11-25 14:00:55.953 | DEBUG    | gpt3forchem.output:test_inverse_bandgap:950 - Calculating Frechet ChemNet distance for 37 samples\n",
      "2022-11-25 14:00:56.040 | INFO     | gpt3forchem.output:_load_chemnet:217 - Saved ChemNet model to '/var/folders/m9/_txh68y946s4pxy1x2wnd3lh0000gn/T/ChemNet_v0.13_pretrained.h5'\n",
      "2022-11-25 14:01:22.919 | DEBUG    | gpt3forchem.output:test_inverse_bandgap:959 - Computed frechet score: (55.581260836703976, 1.4868700867104872e-05)\n",
      "2022-11-25 14:01:23.108 | DEBUG    | gpt3forchem.output:test_inverse_bandgap:970 - Computed KL div score: 0.04499047367876567\n"
     ]
    },
    {
     "name": "stdout",
     "output_type": "stream",
     "text": [
      "Testing temperature 0.5 for selfies\n"
     ]
    },
    {
     "name": "stderr",
     "output_type": "stream",
     "text": [
      "2022-11-25 14:01:59.332 | DEBUG    | gpt3forchem.output:test_inverse_bandgap:928 - Got predictions, example: [H][C][=N][C][Branch2][Ring1][=Branch1][N][Branch1][C][H][C][=N][C][Branch1][C][H][=C][Branch1][C][H][C][Branch1][C][H][=C][Ring1][#Branch2][N][Branch1][C][H][H][=C][Ring2][Ring1][#Branch2][C][=C][Branch1][C][H][C][Branch1][C][H][=C][Branch1][C][H][C][Branch1][C][H][=C][Ring1][#Branch2][N][Branch1][C][H][H][C][Branch1][C][H][=C][Ring2][Ring1][#Branch2][H]\n",
      "2022-11-25 14:01:59.367 | DEBUG    | gpt3forchem.output:test_inverse_bandgap:939 - Loaded predictions. Example: [H]C=NC(N([H])C=NC([H])=C([H])C([H])=C)N([H])[H]\n",
      "2022-11-25 14:01:59.391 | DEBUG    | gpt3forchem.output:test_inverse_bandgap:950 - Calculating Frechet ChemNet distance for 26 samples\n",
      "2022-11-25 14:01:59.458 | INFO     | gpt3forchem.output:_load_chemnet:217 - Saved ChemNet model to '/var/folders/m9/_txh68y946s4pxy1x2wnd3lh0000gn/T/ChemNet_v0.13_pretrained.h5'\n",
      "2022-11-25 14:02:21.184 | DEBUG    | gpt3forchem.output:test_inverse_bandgap:959 - Computed frechet score: (48.300418226925004, 6.377918687379502e-05)\n",
      "2022-11-25 14:02:21.345 | DEBUG    | gpt3forchem.output:test_inverse_bandgap:970 - Computed KL div score: 0.11612155467961553\n"
     ]
    },
    {
     "name": "stdout",
     "output_type": "stream",
     "text": [
      "Testing temperature 0.75 for selfies\n"
     ]
    },
    {
     "name": "stderr",
     "output_type": "stream",
     "text": [
      "2022-11-25 14:02:57.405 | DEBUG    | gpt3forchem.output:test_inverse_bandgap:928 - Got predictions, example: [H][C][=C][Branch1][C][H][C][Branch2][Ring2][#Branch1][C][=C][Branch1][C][H][C][Branch1][C][H][=C][Branch1][C][H][C][Branch1][C][F][=C][Ring1][#Branch2][H][C][Branch1][C][H][Branch1][C][H][S][C][Branch1][C][H][Branch1][C][H][H][C][=Branch1][C][=O][N][Branch1][C][H][C][=N][C][=C][Branch1][C][H][C][Branch1][C][H][=C][Branch1][C][H][C][Branch1][C][H][=C][Ring1][#Branch2][N][Branch1][C][H][H][C][Branch1][C][H][=C][Ring2][Ring2][=Branch2][C][Branch1\n",
      "2022-11-25 14:02:57.449 | DEBUG    | gpt3forchem.output:test_inverse_bandgap:939 - Loaded predictions. Example: [H][C][=C][Branch1][C][H][C][Branch2][Ring2][#Branch1][C][=C][Branch1][C][H][C][Branch1][C][H][=C][Branch1][C][H][C][Branch1][C][F][=C][Ring1][#Branch2][H][C][Branch1][C][H][Branch1][C][H][S][C][Branch1][C][H][Branch1][C][H][H][C][=Branch1][C][=O][N][Branch1][C][H][C][=N][C][=C][Branch1][C][H][C][Branch1][C][H][=C][Branch1][C][H][C][Branch1][C][H][=C][Ring1][#Branch2][N][Branch1][C][H][H][C][Branch1][C][H][=C][Ring2][Ring2][=Branch2][C][Branch1\n",
      "2022-11-25 14:02:57.473 | DEBUG    | gpt3forchem.output:test_inverse_bandgap:950 - Calculating Frechet ChemNet distance for 28 samples\n",
      "2022-11-25 14:02:57.539 | INFO     | gpt3forchem.output:_load_chemnet:217 - Saved ChemNet model to '/var/folders/m9/_txh68y946s4pxy1x2wnd3lh0000gn/T/ChemNet_v0.13_pretrained.h5'\n",
      "2022-11-25 14:03:19.610 | DEBUG    | gpt3forchem.output:test_inverse_bandgap:959 - Computed frechet score: (50.165732634055495, 4.391974675589751e-05)\n",
      "2022-11-25 14:03:19.757 | DEBUG    | gpt3forchem.output:test_inverse_bandgap:970 - Computed KL div score: 0.17123208108857046\n"
     ]
    },
    {
     "name": "stdout",
     "output_type": "stream",
     "text": [
      "Testing temperature 1.0 for selfies\n"
     ]
    },
    {
     "name": "stderr",
     "output_type": "stream",
     "text": [
      "2022-11-25 14:03:56.519 | DEBUG    | gpt3forchem.output:test_inverse_bandgap:928 - Got predictions, example: [H][C][=N][C][Branch1][C][H][=C][Branch1][C][H][C][Branch2][Ring2][=C][C][=N][C][Branch1][C][H][=C][Branch1][C][H][C][Branch1][C][H][=C][Ring1][#Branch2][C][=Ring1][=N][C][Branch1][C][H][Branch1][C][H][C][Branch1][C][H][Branch1][C][H][H][=C][Branch2][Ring1][=Branch2][N][Branch1][C][H][C][=Branch1][C][=O][C][Branch1][C][H][Branch1][C][H][N][Branch1][C][H][C][=Branch1][C][=O][C@][Branch1][C][H][C][Branch1][C][H][Branch1][C][H][N][C][Branch1][C\n",
      "2022-11-25 14:03:56.547 | DEBUG    | gpt3forchem.output:test_inverse_bandgap:939 - Loaded predictions. Example: [H][C][=N][C][Branch1][C][H][=C][Branch1][C][H][C][Branch2][Ring2][=C][C][=N][C][Branch1][C][H][=C][Branch1][C][H][C][Branch1][C][H][=C][Ring1][#Branch2][C][=Ring1][=N][C][Branch1][C][H][Branch1][C][H][C][Branch1][C][H][Branch1][C][H][H][=C][Branch2][Ring1][=Branch2][N][Branch1][C][H][C][=Branch1][C][=O][C][Branch1][C][H][Branch1][C][H][N][Branch1][C][H][C][=Branch1][C][=O][C@][Branch1][C][H][C][Branch1][C][H][Branch1][C][H][N][C][Branch1][C\n",
      "2022-11-25 14:03:56.568 | DEBUG    | gpt3forchem.output:test_inverse_bandgap:950 - Calculating Frechet ChemNet distance for 28 samples\n",
      "2022-11-25 14:03:56.626 | INFO     | gpt3forchem.output:_load_chemnet:217 - Saved ChemNet model to '/var/folders/m9/_txh68y946s4pxy1x2wnd3lh0000gn/T/ChemNet_v0.13_pretrained.h5'\n",
      "2022-11-25 14:04:31.307 | DEBUG    | gpt3forchem.output:test_inverse_bandgap:959 - Computed frechet score: (49.663100696973736, 4.856438379735953e-05)\n",
      "2022-11-25 14:04:31.461 | DEBUG    | gpt3forchem.output:test_inverse_bandgap:970 - Computed KL div score: 0.24612893995041546\n"
     ]
    },
    {
     "name": "stdout",
     "output_type": "stream",
     "text": [
      "Testing temperature 1.25 for selfies\n"
     ]
    },
    {
     "name": "stderr",
     "output_type": "stream",
     "text": [
      "2022-11-25 14:05:07.030 | DEBUG    | gpt3forchem.output:test_inverse_bandgap:928 - Got predictions, example: [H][C][=N][C][Branch1][C][H][=C][Branch1][Ring1][O][H][=C][Ring1][=Branch1][H][N][C][Branch2][C][Branch2][Branch1][C][Ring1][N][C][Branch1][C][H][Branch1][C][H][C@][C][Branch1][C][H][C][Branch1][C][H][Branch1][C][H][C@][Ring1][S][Branch1][C][H][C][=Ring2][Ring1][S][Ring1][N]\n",
      "2022-11-25 14:05:07.046 | DEBUG    | gpt3forchem.output:test_inverse_bandgap:939 - Loaded predictions. Example: [H]C=NC([H])=C(O[H])C[H]\n",
      "2022-11-25 14:05:07.071 | DEBUG    | gpt3forchem.output:test_inverse_bandgap:950 - Calculating Frechet ChemNet distance for 25 samples\n",
      "2022-11-25 14:05:07.115 | INFO     | gpt3forchem.output:_load_chemnet:217 - Saved ChemNet model to '/var/folders/m9/_txh68y946s4pxy1x2wnd3lh0000gn/T/ChemNet_v0.13_pretrained.h5'\n",
      "2022-11-25 14:05:29.242 | DEBUG    | gpt3forchem.output:test_inverse_bandgap:959 - Computed frechet score: (50.868700634934555, 3.815933542638705e-05)\n",
      "2022-11-25 14:05:29.388 | DEBUG    | gpt3forchem.output:test_inverse_bandgap:970 - Computed KL div score: 0.2908190029607238\n"
     ]
    },
    {
     "name": "stdout",
     "output_type": "stream",
     "text": [
      "Testing temperature 1.5 for selfies\n",
      "list index out of range\n"
     ]
    }
   ],
   "source": [
    "res_500_seflies = test_inverse_model(modelname_500_selfies, test_prompts_selfies , train_prompts_selfies, representation=\"selfies\")"
   ]
  },
  {
   "cell_type": "code",
   "execution_count": 87,
   "metadata": {},
   "outputs": [],
   "source": [
    "save_pickle( \"run_files/res_500_selfies.pkl\", res_500_smiles)"
   ]
  },
  {
   "cell_type": "code",
   "execution_count": 89,
   "metadata": {},
   "outputs": [],
   "source": [
    "import selfies as sf"
   ]
  },
  {
   "cell_type": "code",
   "execution_count": 92,
   "metadata": {},
   "outputs": [],
   "source": [
    "selfies_500_smiles_sets = {}\n",
    "\n",
    "for res in res_500_smiles:\n",
    "    selfies_500_smiles_sets[res['meta']['temperature']] = set(res['predictions'][res['valid_smiles']])\n",
    "\n",
    "for temp, smiles_set in selfies_500_smiles_sets.items():\n",
    "    with open(f'for_xtb_opt/500_selfies_{temp}.txt', 'w') as f:\n",
    "        for i, smiles in enumerate(smiles_set):\n",
    "            if i != len(smiles_set) - 1:\n",
    "                f.write(smiles + '\\n')\n",
    "            else:\n",
    "                f.write(smiles)"
   ]
  },
  {
   "cell_type": "markdown",
   "metadata": {},
   "source": [
    "## Larger training set"
   ]
  },
  {
   "cell_type": "code",
   "execution_count": 118,
   "metadata": {},
   "outputs": [],
   "source": [
    "train_large, test_large = train_test_split(data, train_size=1000, test_size=100, random_state=42)"
   ]
  },
  {
   "cell_type": "code",
   "execution_count": 120,
   "metadata": {},
   "outputs": [],
   "source": [
    "train_prompts_large_smiles, test_prompts_large_smiles = generate_inverse_photoswitch_prompts(train_large, 'smiles'), generate_inverse_photoswitch_prompts(test_large, 'smiles')\n",
    "\n",
    "train_prompts_large_selfies, test_prompts_large_selfies = generate_inverse_photoswitch_prompts(train_large, 'selfies'), generate_inverse_photoswitch_prompts(test_large, 'selfies')"
   ]
  },
  {
   "cell_type": "code",
   "execution_count": null,
   "metadata": {},
   "outputs": [],
   "source": []
  }
 ],
 "metadata": {
  "kernelspec": {
   "display_name": "Python 3.9.13 ('gpt3')",
   "language": "python",
   "name": "python3"
  },
  "language_info": {
   "codemirror_mode": {
    "name": "ipython",
    "version": 3
   },
   "file_extension": ".py",
   "mimetype": "text/x-python",
   "name": "python",
   "nbconvert_exporter": "python",
   "pygments_lexer": "ipython3",
   "version": "3.9.13"
  },
  "orig_nbformat": 4,
  "vscode": {
   "interpreter": {
    "hash": "9a4fa60962de90e73b5da8d67a44b01d2de04630d82b94b8db1f727a73d31e61"
   }
  }
 },
 "nbformat": 4,
 "nbformat_minor": 2
}
