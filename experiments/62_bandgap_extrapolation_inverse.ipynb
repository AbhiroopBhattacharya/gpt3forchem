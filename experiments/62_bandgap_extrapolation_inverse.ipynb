{
 "cells": [
  {
   "cell_type": "markdown",
   "metadata": {},
   "source": [
    "# Testing how well we can predict extreme bandgaps using inverse design"
   ]
  },
  {
   "cell_type": "code",
   "execution_count": 170,
   "metadata": {},
   "outputs": [],
   "source": [
    "from gpt3forchem.data import get_bandgap_data\n",
    "import pandas as pd \n",
    "import matplotlib.pyplot as plt \n",
    "import seaborn as sns\n",
    "\n",
    "\n",
    "from sklearn.model_selection import train_test_split\n",
    "\n",
    "from gpt3forchem.api_wrappers import query_gpt3, extract_prediction, extract_inverse_prediction, fine_tune\n",
    "from gpt3forchem.output import test_inverse_bandgap\n",
    "\n",
    "import time\n",
    "\n",
    "from rdkit.Contrib.SA_Score.sascorer import calculateScore as calculate_sascore\n",
    "\n",
    "from fastcore.helpers import save_pickle\n",
    "\n",
    "import numpy as np\n",
    "from rdkit import Chem \n",
    "from sklearn.metrics import mean_squared_error, r2_score, mean_absolute_error\n",
    "import matplotlib as mpl\n",
    "mpl.rcParams.update(mpl.rcParamsDefault)\n",
    "plt.style.use(['science', 'nature'])"
   ]
  },
  {
   "cell_type": "code",
   "execution_count": 139,
   "metadata": {},
   "outputs": [],
   "source": [
    "def get_xtb_results(filename, results):\n",
    "    outputs = []\n",
    "    for res in results:\n",
    "        temp = res[\"temperature\"]\n",
    "        with open(f'for_xtb_opt/{filename}_{temp}_gaps.txt', 'r') as f:\n",
    "            gaps_ = f.readlines()\n",
    "            if not gaps_: print(f\"No results found for {temp}\"); continue\n",
    "            gaps = []\n",
    "            for _gap in gaps_:\n",
    "                name, gap = _gap.split()\n",
    "                gaps.append((int(name.split(\"/\")[-1]), float(gap) if gap !='None' else np.nan))\n",
    "\n",
    "        predicted, true = [], []\n",
    "\n",
    "        for i, g in gaps:\n",
    "            predicted.append(g)\n",
    "            true.append(res[\"expected\"][i])\n",
    "\n",
    "        true, predicted = np.array(true), np.array(predicted)\n",
    "\n",
    "        not_nan_mask = ~np.isnan(predicted)\n",
    "        outputs.append(\n",
    "            {\n",
    "                'predicted': predicted,\n",
    "                'true': true,\n",
    "                'temperature': temp,\n",
    "                 'r2_score': r2_score(true[not_nan_mask], predicted[not_nan_mask]),\n",
    "                'mae': mean_absolute_error(true[not_nan_mask], predicted[not_nan_mask]),\n",
    "            }\n",
    "        )\n",
    "    return outputs"
   ]
  },
  {
   "cell_type": "code",
   "execution_count": 4,
   "metadata": {},
   "outputs": [],
   "source": [
    "data = get_bandgap_data()"
   ]
  },
  {
   "cell_type": "code",
   "execution_count": 15,
   "metadata": {},
   "outputs": [],
   "source": [
    "random_bandgaps = np.random.normal(4.0, 0.5, size=300)"
   ]
  },
  {
   "cell_type": "code",
   "execution_count": 16,
   "metadata": {},
   "outputs": [
    {
     "name": "stderr",
     "output_type": "stream",
     "text": [
      "/Users/kevinmaikjablonka/miniconda3/envs/gpt3/lib/python3.9/site-packages/seaborn/distributions.py:2619: FutureWarning: `distplot` is a deprecated function and will be removed in a future version. Please adapt your code to use either `displot` (a figure-level function with similar flexibility) or `histplot` (an axes-level function for histograms).\n",
      "  warnings.warn(msg, FutureWarning)\n",
      "/Users/kevinmaikjablonka/miniconda3/envs/gpt3/lib/python3.9/site-packages/seaborn/distributions.py:2619: FutureWarning: `distplot` is a deprecated function and will be removed in a future version. Please adapt your code to use either `displot` (a figure-level function with similar flexibility) or `histplot` (an axes-level function for histograms).\n",
      "  warnings.warn(msg, FutureWarning)\n"
     ]
    },
    {
     "data": {
      "text/plain": [
       "<matplotlib.collections.LineCollection at 0x282b69df0>"
      ]
     },
     "execution_count": 16,
     "metadata": {},
     "output_type": "execute_result"
    },
    {
     "data": {
      "image/png": "[encoded data removed]",
      "text/plain": [
       "<Figure size 237.6x180 with 1 Axes>"
      ]
     },
     "metadata": {},
     "output_type": "display_data"
    }
   ],
   "source": [
    "fig, ax = plt.subplots()\n",
    "sns.distplot(data['GFN2_HOMO_LUMO_GAP'] * 27.2114, ax=ax)\n",
    "sns.distplot(random_bandgaps, ax=ax)\n",
    "ax.vlines(3.5, 0, 1.0, color='red')"
   ]
  },
  {
   "cell_type": "markdown",
   "metadata": {},
   "source": [
    "Let's try this in two settings: (1) we try to use the little data we have to predict the biased distribution and (2) we completely ignore all training data above 3.5 eV and try to predict the unbiased distribution."
   ]
  },
  {
   "cell_type": "markdown",
   "metadata": {},
   "source": [
    "## Random split and biased test set"
   ]
  },
  {
   "cell_type": "code",
   "execution_count": 26,
   "metadata": {},
   "outputs": [],
   "source": [
    "train_set_random, test_set_random = train_test_split(data, train_size=1_000, test_size=200, random_state=42)"
   ]
  },
  {
   "cell_type": "code",
   "execution_count": 27,
   "metadata": {},
   "outputs": [],
   "source": [
    "PROMPT_TEMPLATE_bandgap_inverse = \"What is a molecule with a bandgap of {} eV###\"\n",
    "COMPLETION_TEMPLATE_bandgap_inverse = \"{}@@@\"\n",
    "\n",
    "\n",
    "def generate_inverse_photoswitch_prompts(\n",
    "    data: pd.DataFrame, representation: str = \"smiles\"\n",
    ") -> pd.DataFrame:\n",
    "    prompts = []\n",
    "    completions = []\n",
    "    smiles = []\n",
    "    for i, row in data.iterrows():\n",
    "\n",
    "        prompt = PROMPT_TEMPLATE_bandgap_inverse.format(\n",
    "            np.round(row[\"GFN2_HOMO_LUMO_GAP\"] * 27.2114, 1)\n",
    "        )\n",
    "\n",
    "        completion = COMPLETION_TEMPLATE_bandgap_inverse.format(row[representation])\n",
    "        prompts.append(prompt)\n",
    "        completions.append(completion)\n",
    "        smiles.append(row[\"smiles\"])\n",
    "\n",
    "    prompts = pd.DataFrame(\n",
    "        {\"prompt\": prompts, \"completion\": completions, \"SMILES\": smiles}\n",
    "    )\n",
    "\n",
    "    return prompts"
   ]
  },
  {
   "cell_type": "code",
   "execution_count": 29,
   "metadata": {},
   "outputs": [],
   "source": [
    "train_prompts_random = generate_inverse_photoswitch_prompts(train_set_random)\n",
    "\n",
    "test_prompts_random = generate_inverse_photoswitch_prompts(test_set_random)"
   ]
  },
  {
   "cell_type": "code",
   "execution_count": 25,
   "metadata": {},
   "outputs": [
    {
     "data": {
      "text/html": [
       "<div>\n",
       "<style scoped>\n",
       "    .dataframe tbody tr th:only-of-type {\n",
       "        vertical-align: middle;\n",
       "    }\n",
       "\n",
       "    .dataframe tbody tr th {\n",
       "        vertical-align: top;\n",
       "    }\n",
       "\n",
       "    .dataframe thead th {\n",
       "        text-align: right;\n",
       "    }\n",
       "</style>\n",
       "<table border=\"1\" class=\"dataframe\">\n",
       "  <thead>\n",
       "    <tr style=\"text-align: right;\">\n",
       "      <th></th>\n",
       "      <th>prompt</th>\n",
       "      <th>completion</th>\n",
       "      <th>SMILES</th>\n",
       "    </tr>\n",
       "  </thead>\n",
       "  <tbody>\n",
       "    <tr>\n",
       "      <th>0</th>\n",
       "      <td>What is a molecule with a bandgap of 2.9 eV###</td>\n",
       "      <td>[H]c1nc([C@]2([H])C(=O)N(C([H])([H])[H])C(C([H...</td>\n",
       "      <td>[H]c1nc([C@]2([H])C(=O)N(C([H])([H])[H])C(C([H...</td>\n",
       "    </tr>\n",
       "    <tr>\n",
       "      <th>1</th>\n",
       "      <td>What is a molecule with a bandgap of 1.6 eV###</td>\n",
       "      <td>[H]c1nc(N([H])c2c([H])c(Cl)c(C(=O)N([H])[C@]3(...</td>\n",
       "      <td>[H]c1nc(N([H])c2c([H])c(Cl)c(C(=O)N([H])[C@]3(...</td>\n",
       "    </tr>\n",
       "    <tr>\n",
       "      <th>2</th>\n",
       "      <td>What is a molecule with a bandgap of 2.3 eV###</td>\n",
       "      <td>[H]/C(=C(/[H])C([H])([H])n1c(-c2c([H])c([H])c(...</td>\n",
       "      <td>[H]/C(=C(/[H])C([H])([H])n1c(-c2c([H])c([H])c(...</td>\n",
       "    </tr>\n",
       "    <tr>\n",
       "      <th>3</th>\n",
       "      <td>What is a molecule with a bandgap of 1.7 eV###</td>\n",
       "      <td>[H]c1c([H])c(-c2c([H])c([H])c(N([H])C(=O)c3c([...</td>\n",
       "      <td>[H]c1c([H])c(-c2c([H])c([H])c(N([H])C(=O)c3c([...</td>\n",
       "    </tr>\n",
       "    <tr>\n",
       "      <th>4</th>\n",
       "      <td>What is a molecule with a bandgap of 1.9 eV###</td>\n",
       "      <td>[H]c1nc(-n2nc(N([H])c3c([H])c([H])c(C4([H])C([...</td>\n",
       "      <td>[H]c1nc(-n2nc(N([H])c3c([H])c([H])c(C4([H])C([...</td>\n",
       "    </tr>\n",
       "    <tr>\n",
       "      <th>...</th>\n",
       "      <td>...</td>\n",
       "      <td>...</td>\n",
       "      <td>...</td>\n",
       "    </tr>\n",
       "    <tr>\n",
       "      <th>495</th>\n",
       "      <td>What is a molecule with a bandgap of 2.4 eV###</td>\n",
       "      <td>[H]OC(=O)c1c(N([H])S(=O)(=O)c2c([H])c([H])c([H...</td>\n",
       "      <td>[H]OC(=O)c1c(N([H])S(=O)(=O)c2c([H])c([H])c([H...</td>\n",
       "    </tr>\n",
       "    <tr>\n",
       "      <th>496</th>\n",
       "      <td>What is a molecule with a bandgap of 3.6 eV###</td>\n",
       "      <td>[H]N1C([H])([H])C([H])([H])N(C([H])([H])C(=O)N...</td>\n",
       "      <td>[H]N1C([H])([H])C([H])([H])N(C([H])([H])C(=O)N...</td>\n",
       "    </tr>\n",
       "    <tr>\n",
       "      <th>497</th>\n",
       "      <td>What is a molecule with a bandgap of 0.7 eV###</td>\n",
       "      <td>[H]c1nc(N([H])c2c([H])c([H])c(F)c(Cl)c2[H])c2c...</td>\n",
       "      <td>[H]c1nc(N([H])c2c([H])c([H])c(F)c(Cl)c2[H])c2c...</td>\n",
       "    </tr>\n",
       "    <tr>\n",
       "      <th>498</th>\n",
       "      <td>What is a molecule with a bandgap of 1.7 eV###</td>\n",
       "      <td>[H]C([H])=C([H])C(=O)N([H])c1c([H])c([H])c([H]...</td>\n",
       "      <td>[H]C([H])=C([H])C(=O)N([H])c1c([H])c([H])c([H]...</td>\n",
       "    </tr>\n",
       "    <tr>\n",
       "      <th>499</th>\n",
       "      <td>What is a molecule with a bandgap of 2.0 eV###</td>\n",
       "      <td>[H]c1c([H])c(OC([H])([H])[H])c([H])c(C([H])([H...</td>\n",
       "      <td>[H]c1c([H])c(OC([H])([H])[H])c([H])c(C([H])([H...</td>\n",
       "    </tr>\n",
       "  </tbody>\n",
       "</table>\n",
       "<p>500 rows × 3 columns</p>\n",
       "</div>"
      ],
      "text/plain": [
       "                                             prompt  \\\n",
       "0    What is a molecule with a bandgap of 2.9 eV###   \n",
       "1    What is a molecule with a bandgap of 1.6 eV###   \n",
       "2    What is a molecule with a bandgap of 2.3 eV###   \n",
       "3    What is a molecule with a bandgap of 1.7 eV###   \n",
       "4    What is a molecule with a bandgap of 1.9 eV###   \n",
       "..                                              ...   \n",
       "495  What is a molecule with a bandgap of 2.4 eV###   \n",
       "496  What is a molecule with a bandgap of 3.6 eV###   \n",
       "497  What is a molecule with a bandgap of 0.7 eV###   \n",
       "498  What is a molecule with a bandgap of 1.7 eV###   \n",
       "499  What is a molecule with a bandgap of 2.0 eV###   \n",
       "\n",
       "                                            completion  \\\n",
       "0    [H]c1nc([C@]2([H])C(=O)N(C([H])([H])[H])C(C([H...   \n",
       "1    [H]c1nc(N([H])c2c([H])c(Cl)c(C(=O)N([H])[C@]3(...   \n",
       "2    [H]/C(=C(/[H])C([H])([H])n1c(-c2c([H])c([H])c(...   \n",
       "3    [H]c1c([H])c(-c2c([H])c([H])c(N([H])C(=O)c3c([...   \n",
       "4    [H]c1nc(-n2nc(N([H])c3c([H])c([H])c(C4([H])C([...   \n",
       "..                                                 ...   \n",
       "495  [H]OC(=O)c1c(N([H])S(=O)(=O)c2c([H])c([H])c([H...   \n",
       "496  [H]N1C([H])([H])C([H])([H])N(C([H])([H])C(=O)N...   \n",
       "497  [H]c1nc(N([H])c2c([H])c([H])c(F)c(Cl)c2[H])c2c...   \n",
       "498  [H]C([H])=C([H])C(=O)N([H])c1c([H])c([H])c([H]...   \n",
       "499  [H]c1c([H])c(OC([H])([H])[H])c([H])c(C([H])([H...   \n",
       "\n",
       "                                                SMILES  \n",
       "0    [H]c1nc([C@]2([H])C(=O)N(C([H])([H])[H])C(C([H...  \n",
       "1    [H]c1nc(N([H])c2c([H])c(Cl)c(C(=O)N([H])[C@]3(...  \n",
       "2    [H]/C(=C(/[H])C([H])([H])n1c(-c2c([H])c([H])c(...  \n",
       "3    [H]c1c([H])c(-c2c([H])c([H])c(N([H])C(=O)c3c([...  \n",
       "4    [H]c1nc(-n2nc(N([H])c3c([H])c([H])c(C4([H])C([...  \n",
       "..                                                 ...  \n",
       "495  [H]OC(=O)c1c(N([H])S(=O)(=O)c2c([H])c([H])c([H...  \n",
       "496  [H]N1C([H])([H])C([H])([H])N(C([H])([H])C(=O)N...  \n",
       "497  [H]c1nc(N([H])c2c([H])c([H])c(F)c(Cl)c2[H])c2c...  \n",
       "498  [H]C([H])=C([H])C(=O)N([H])c1c([H])c([H])c([H]...  \n",
       "499  [H]c1c([H])c(OC([H])([H])[H])c([H])c(C([H])([H...  \n",
       "\n",
       "[500 rows x 3 columns]"
      ]
     },
     "execution_count": 25,
     "metadata": {},
     "output_type": "execute_result"
    }
   ],
   "source": [
    "train_prompts_random"
   ]
  },
  {
   "cell_type": "code",
   "execution_count": 34,
   "metadata": {},
   "outputs": [],
   "source": [
    "train_size = len(train_set_random)\n",
    "\n",
    "filename_base = time.strftime(\"%Y-%m-%d-%H-%M-%S\", time.localtime())\n",
    "train_filename_random = f\"run_files/{filename_base}_train_prompts_bandgap_inverse_smiles_{train_size}.jsonl\"\n",
    "\n",
    "train_prompts_random.to_json(train_filename_random, orient=\"records\", lines=True)\n",
    "\n",
    "\n",
    "valid_filename_random = f\"run_files/{filename_base}_valid_prompts_bandgap_inverse_smiles_{train_size}.jsonl\"\n",
    "test_prompts_random.to_json(valid_filename_random, orient=\"records\", lines=True)"
   ]
  },
  {
   "cell_type": "code",
   "execution_count": 35,
   "metadata": {},
   "outputs": [
    {
     "name": "stdout",
     "output_type": "stream",
     "text": [
      "Fine-tune ft-KBzV2aU0bJBTSK3GKV6vggJG has the status \"running\" and will not be logged\n",
      "🎉 wandb sync completed successfully\n"
     ]
    }
   ],
   "source": [
    "modelname_random = fine_tune(train_filename_random, valid_filename_random)   "
   ]
  },
  {
   "cell_type": "code",
   "execution_count": 37,
   "metadata": {},
   "outputs": [],
   "source": [
    "def test_inverse_model(\n",
    "    modelname,\n",
    "    test_prompts,\n",
    "    df_train,\n",
    "    max_tokens: int = 250,\n",
    "    temperatures=None,\n",
    "    representation=\"SMILES\",\n",
    "):\n",
    "    temperatures = temperatures or [0, 0.25, 0.5, 0.75, 1.0, 1.25, 1.5]\n",
    "    train_smiles = df_train[\"SMILES\"].to_list()\n",
    "    results = []\n",
    "    for temperature in temperatures:\n",
    "        try:\n",
    "            print(f\"Testing temperature {temperature} for {representation}\")\n",
    "            result = test_inverse_bandgap(\n",
    "                test_prompts,\n",
    "                modelname,\n",
    "                train_smiles=train_smiles,\n",
    "                temperature=temperature,\n",
    "                max_tokens=max_tokens,\n",
    "                representation=representation,\n",
    "            )\n",
    "\n",
    "            results.append(result)\n",
    "        except Exception as e:\n",
    "            print(e)\n",
    "            pass\n",
    "\n",
    "    return results"
   ]
  },
  {
   "cell_type": "code",
   "execution_count": 42,
   "metadata": {},
   "outputs": [
    {
     "name": "stdout",
     "output_type": "stream",
     "text": [
      "Testing temperature 0 for SMILES\n"
     ]
    },
    {
     "name": "stderr",
     "output_type": "stream",
     "text": [
      "2022-11-30 22:36:49.814 | DEBUG    | gpt3forchem.output:test_inverse_bandgap:931 - Got predictions, example: [H]c1c([H])c([H])c(C([H])([H])N([H])C(=O)c2c([H])c([H])c(C([H])([H])[H])c([H])c2[H])c([H])c1[H]\n",
      "2022-11-30 22:36:49.819 | DEBUG    | gpt3forchem.output:test_inverse_bandgap:942 - Loaded predictions. Example: [H]c1c([H])c([H])c(C([H])([H])N([H])C(=O)c2c([H])c([H])c(C([H])([H])[H])c([H])c2[H])c([H])c1[H]\n",
      "2022-11-30 22:36:49.861 | DEBUG    | gpt3forchem.output:test_inverse_bandgap:953 - Calculating Frechet ChemNet distance for 200 samples\n",
      "2022-11-30 22:36:50.178 | INFO     | gpt3forchem.output:_load_chemnet:218 - Saved ChemNet model to '/var/folders/m9/_txh68y946s4pxy1x2wnd3lh0000gn/T/ChemNet_v0.13_pretrained.h5'\n",
      "2022-11-30 22:38:15.489 | DEBUG    | gpt3forchem.output:test_inverse_bandgap:962 - Computed frechet score: (81.16275694474034, 8.918514126808853e-08)\n",
      "2022-11-30 22:38:16.252 | DEBUG    | gpt3forchem.output:test_inverse_bandgap:973 - Computed KL div score: 0.2915397151217557\n"
     ]
    },
    {
     "name": "stdout",
     "output_type": "stream",
     "text": [
      "Testing temperature 0.25 for SMILES\n"
     ]
    },
    {
     "name": "stderr",
     "output_type": "stream",
     "text": [
      "2022-11-30 22:39:26.259 | DEBUG    | gpt3forchem.output:test_inverse_bandgap:931 - Got predictions, example: [H]c1c([H])c([H])c(C([H])([H])N([H])C(=O)c2c([H])c([H])c(C([H])([H])[H])c([H])c2[H])c([H])c1[H]\n",
      "2022-11-30 22:39:26.262 | DEBUG    | gpt3forchem.output:test_inverse_bandgap:942 - Loaded predictions. Example: [H]c1c([H])c([H])c(C([H])([H])N([H])C(=O)c2c([H])c([H])c(C([H])([H])[H])c([H])c2[H])c([H])c1[H]\n",
      "2022-11-30 22:39:26.304 | DEBUG    | gpt3forchem.output:test_inverse_bandgap:953 - Calculating Frechet ChemNet distance for 142 samples\n",
      "2022-11-30 22:39:26.527 | INFO     | gpt3forchem.output:_load_chemnet:218 - Saved ChemNet model to '/var/folders/m9/_txh68y946s4pxy1x2wnd3lh0000gn/T/ChemNet_v0.13_pretrained.h5'\n",
      "2022-11-30 22:40:00.127 | DEBUG    | gpt3forchem.output:test_inverse_bandgap:962 - Computed frechet score: (41.89966872982133, 0.00022942514529373565)\n",
      "2022-11-30 22:40:00.863 | DEBUG    | gpt3forchem.output:test_inverse_bandgap:973 - Computed KL div score: 0.17189881425441497\n"
     ]
    },
    {
     "name": "stdout",
     "output_type": "stream",
     "text": [
      "Testing temperature 0.5 for SMILES\n"
     ]
    },
    {
     "name": "stderr",
     "output_type": "stream",
     "text": [
      "2022-11-30 22:41:11.015 | DEBUG    | gpt3forchem.output:test_inverse_bandgap:931 - Got predictions, example: [H]c1c([H])c(C([H])([H])[H])c([H])c(N([H])C(=O)N([H])c2c([H])c([H])c([H])c([H])c2C([H])([H])[H])c1[H]\n",
      "2022-11-30 22:41:11.016 | DEBUG    | gpt3forchem.output:test_inverse_bandgap:942 - Loaded predictions. Example: [H]c1c([H])c(C([H])([H])[H])c([H])c(N([H])C(=O)N([H])c2c([H])c([H])c([H])c([H])c2C([H])([H])[H])c1[H]\n",
      "2022-11-30 22:41:11.067 | DEBUG    | gpt3forchem.output:test_inverse_bandgap:953 - Calculating Frechet ChemNet distance for 122 samples\n",
      "2022-11-30 22:41:11.342 | INFO     | gpt3forchem.output:_load_chemnet:218 - Saved ChemNet model to '/var/folders/m9/_txh68y946s4pxy1x2wnd3lh0000gn/T/ChemNet_v0.13_pretrained.h5'\n",
      "2022-11-30 22:42:06.091 | DEBUG    | gpt3forchem.output:test_inverse_bandgap:962 - Computed frechet score: (28.65400579895571, 0.0032444768476936957)\n",
      "2022-11-30 22:42:06.822 | DEBUG    | gpt3forchem.output:test_inverse_bandgap:973 - Computed KL div score: 0.36657096986521653\n"
     ]
    },
    {
     "name": "stdout",
     "output_type": "stream",
     "text": [
      "Testing temperature 0.75 for SMILES\n"
     ]
    },
    {
     "name": "stderr",
     "output_type": "stream",
     "text": [
      "2022-11-30 22:43:16.125 | DEBUG    | gpt3forchem.output:test_inverse_bandgap:931 - Got predictions, example: [H]/N=C(/c1nc([H])c([H])c([H])c1[H])N(C([H])([H])C([H])([H])C([H])([H])C([H])([H])C([H])([H])C([H])([H])C([H])([H])C([H])([H])C([H])([H])C([H])([H])C([H])([H])C([H])([H])C([H])([H])C([H])([H])C([H])([H])C([H])([H])C([H])([H])C([H])([H])C([H])([H])C([H])([H])C([H])([H])C([H])([H])C([H])([H])[H]\n",
      "2022-11-30 22:43:16.125 | DEBUG    | gpt3forchem.output:test_inverse_bandgap:942 - Loaded predictions. Example: [H]/N=C(/c1nc([H])c([H])c([H])c1[H])N(C([H])([H])C([H])([H])C([H])([H])C([H])([H])C([H])([H])C([H])([H])C([H])([H])C([H])([H])C([H])([H])C([H])([H])C([H])([H])C([H])([H])C([H])([H])C([H])([H])C([H])([H])C([H])([H])C([H])([H])C([H])([H])C([H])([H])C([H])([H])C([H])([H])C([H])([H])C([H])([H])[H]\n",
      "2022-11-30 22:43:16.188 | DEBUG    | gpt3forchem.output:test_inverse_bandgap:953 - Calculating Frechet ChemNet distance for 97 samples\n",
      "2022-11-30 22:43:16.410 | INFO     | gpt3forchem.output:_load_chemnet:218 - Saved ChemNet model to '/var/folders/m9/_txh68y946s4pxy1x2wnd3lh0000gn/T/ChemNet_v0.13_pretrained.h5'\n",
      "2022-11-30 22:44:28.152 | DEBUG    | gpt3forchem.output:test_inverse_bandgap:962 - Computed frechet score: (24.995954907595838, 0.006743400328355237)\n",
      "2022-11-30 22:44:28.755 | DEBUG    | gpt3forchem.output:test_inverse_bandgap:973 - Computed KL div score: 0.5063215761724883\n"
     ]
    },
    {
     "name": "stdout",
     "output_type": "stream",
     "text": [
      "Testing temperature 1.0 for SMILES\n"
     ]
    },
    {
     "name": "stderr",
     "output_type": "stream",
     "text": [
      "2022-11-30 22:45:38.665 | DEBUG    | gpt3forchem.output:test_inverse_bandgap:931 - Got predictions, example: [H]OC([H])([H])[C@@]([H])(C(=O)N([H])S(=O)(=O)c1c([H])c([H])c(-n2c(-c3([H])nc([H])c([H])c3[H])nc2[H])nc1[H])C([H])([H])[H]\n",
      "2022-11-30 22:45:38.666 | DEBUG    | gpt3forchem.output:test_inverse_bandgap:942 - Loaded predictions. Example: [H]OC([H])([H])[C@@]([H])(C(=O)N([H])S(=O)(=O)c1c([H])c([H])c(-n2c(-c3([H])nc([H])c([H])c3[H])nc2[H])nc1[H])C([H])([H])[H]\n",
      "2022-11-30 22:45:38.732 | DEBUG    | gpt3forchem.output:test_inverse_bandgap:953 - Calculating Frechet ChemNet distance for 54 samples\n",
      "2022-11-30 22:45:38.828 | INFO     | gpt3forchem.output:_load_chemnet:218 - Saved ChemNet model to '/var/folders/m9/_txh68y946s4pxy1x2wnd3lh0000gn/T/ChemNet_v0.13_pretrained.h5'\n",
      "2022-11-30 22:46:47.499 | DEBUG    | gpt3forchem.output:test_inverse_bandgap:962 - Computed frechet score: (30.06588195373145, 0.002446305404539369)\n",
      "2022-11-30 22:46:47.859 | DEBUG    | gpt3forchem.output:test_inverse_bandgap:973 - Computed KL div score: 0.5987282669623833\n"
     ]
    },
    {
     "name": "stdout",
     "output_type": "stream",
     "text": [
      "Testing temperature 1.25 for SMILES\n"
     ]
    },
    {
     "name": "stderr",
     "output_type": "stream",
     "text": [
      "2022-11-30 22:47:58.263 | DEBUG    | gpt3forchem.output:test_inverse_bandgap:931 - Got predictions, example: [H]Oc1c([H])c([H])c([H])c([C@]2([H])C([H])([H])[C@@]3([H])N(O[H])[C@=O]3C([H])([H])C(C([H])([H])[H])(C([H])([H])[H])[C@@]3([H])O[H])c1[H]\n",
      "2022-11-30 22:47:58.263 | DEBUG    | gpt3forchem.output:test_inverse_bandgap:942 - Loaded predictions. Example: [H]Oc1c([H])c([H])c([H])c([C@]2([H])C([H])([H])[C@@]3([H])N(O[H])[C@=O]3C([H])([H])C(C([H])([H])[H])(C([H])([H])[H])[C@@]3([H])O[H])c1[H]\n",
      "2022-11-30 22:47:58.318 | DEBUG    | gpt3forchem.output:test_inverse_bandgap:953 - Calculating Frechet ChemNet distance for 21 samples\n",
      "2022-11-30 22:47:58.461 | INFO     | gpt3forchem.output:_load_chemnet:218 - Saved ChemNet model to '/var/folders/m9/_txh68y946s4pxy1x2wnd3lh0000gn/T/ChemNet_v0.13_pretrained.h5'\n",
      "[22:48:20] WARNING: not removing hydrogen atom without neighbors\n",
      "2022-11-30 22:48:29.443 | DEBUG    | gpt3forchem.output:test_inverse_bandgap:962 - Computed frechet score: (46.90723029860626, 8.42732502266974e-05)\n",
      "2022-11-30 22:48:29.633 | DEBUG    | gpt3forchem.output:test_inverse_bandgap:973 - Computed KL div score: 0.5635804830691156\n"
     ]
    },
    {
     "name": "stdout",
     "output_type": "stream",
     "text": [
      "Testing temperature 1.5 for SMILES\n"
     ]
    },
    {
     "name": "stderr",
     "output_type": "stream",
     "text": [
      "2022-11-30 22:49:41.937 | DEBUG    | gpt3forchem.output:test_inverse_bandgap:931 - Got predictions, example: [H]c1nn2c(C(=O)N([H])C([H])([H])c3nc(N4C([H])([H])C([H])([H])N(C([H])([H])C([H])([H])SC(=O)OC5C([H])([H])[H])C([H])([H])O4)nc(-n3c3c([H])c([H])n([P]^UP)(Vert)c3[H])c3c([H])nn32)nc(N2[H])c2c([H])n2c([H])c([H])c([H])c12\n",
      "2022-11-30 22:49:41.938 | DEBUG    | gpt3forchem.output:test_inverse_bandgap:942 - Loaded predictions. Example: [H]c1nn2c(C(=O)N([H])C([H])([H])c3nc(N4C([H])([H])C([H])([H])N(C([H])([H])C([H])([H])SC(=O)OC5C([H])([H])[H])C([H])([H])O4)nc(-n3c3c([H])c([H])n([P]^UP)(Vert)c3[H])c3c([H])nn32)nc(N2[H])c2c([H])n2c([H])c([H])c([H])c12\n",
      "2022-11-30 22:49:41.975 | DEBUG    | gpt3forchem.output:test_inverse_bandgap:953 - Calculating Frechet ChemNet distance for 10 samples\n",
      "2022-11-30 22:49:42.057 | INFO     | gpt3forchem.output:_load_chemnet:218 - Saved ChemNet model to '/var/folders/m9/_txh68y946s4pxy1x2wnd3lh0000gn/T/ChemNet_v0.13_pretrained.h5'\n",
      "[22:49:50] WARNING: not removing hydrogen atom without neighbors\n",
      "[22:49:50] WARNING: not removing hydrogen atom without neighbors\n",
      "[22:49:50] WARNING: not removing hydrogen atom without neighbors\n",
      "[22:49:50] WARNING: not removing hydrogen atom without neighbors\n",
      "2022-11-30 22:51:09.978 | DEBUG    | gpt3forchem.output:test_inverse_bandgap:962 - Computed frechet score: (60.58451324932762, 5.4663324554706125e-06)\n",
      "2022-11-30 22:51:10.031 | DEBUG    | gpt3forchem.output:test_inverse_bandgap:973 - Computed KL div score: nan\n"
     ]
    }
   ],
   "source": [
    "random_test_results = test_inverse_model(modelname_random, test_prompts_random, train_prompts_random)"
   ]
  },
  {
   "cell_type": "code",
   "execution_count": 45,
   "metadata": {},
   "outputs": [],
   "source": [
    "timestamp = time.strftime('%Y-%m-%d-%H-%M-%S', time.localtime())"
   ]
  },
  {
   "cell_type": "code",
   "execution_count": 46,
   "metadata": {},
   "outputs": [],
   "source": [
    "save_pickle(f\"run_files/{timestamp}-random_test_results_extrapolation_smiles.pkl\", random_test_results)"
   ]
  },
  {
   "cell_type": "code",
   "execution_count": 47,
   "metadata": {},
   "outputs": [],
   "source": [
    "smiles_500_random_sets = []\n",
    "\n",
    "for res in random_test_results:\n",
    "    result = {}\n",
    "    result[\"temperature\"] = res[\"meta\"][\"temperature\"]\n",
    "    result[\"smiles\"] = set(\n",
    "        res[\"predictions\"][res[\"valid_smiles\"]]\n",
    "    )\n",
    "    result['original_prediction_indices'] = [i for i, x in enumerate(res[\"predictions\"]) if x in result['smiles']]\n",
    "    result['expected'] = [res['expectations'][i] for i in result['original_prediction_indices']]\n",
    "    smiles_500_random_sets.append(result)\n",
    "\n",
    "for res in smiles_500_random_sets:\n",
    "    temp = res[\"temperature\"]\n",
    "    smiles_set = res[\"smiles\"]\n",
    "    with open(f\"for_xtb_opt/{timestamp}_smiles_500_random_sets_{temp}.txt\", \"w\") as f:\n",
    "        for i, smiles in enumerate(smiles_set):\n",
    "            if i != len(smiles_set) - 1:\n",
    "                f.write(smiles + \"\\n\")\n",
    "            else:\n",
    "                f.write(smiles)"
   ]
  },
  {
   "cell_type": "code",
   "execution_count": 71,
   "metadata": {},
   "outputs": [],
   "source": [
    "random_xtb_results = get_xtb_results('2022-11-30-23-07-49_smiles_500_random_sets', smiles_500_random_sets)\n",
    "save_pickle('run_files/2022-12-01-random-xtb-results', random_xtb_results)"
   ]
  },
  {
   "cell_type": "code",
   "execution_count": 77,
   "metadata": {},
   "outputs": [
    {
     "data": {
      "image/png": "[encoded data removed]",
      "text/plain": [
       "<Figure size 237.6x180 with 7 Axes>"
      ]
     },
     "metadata": {},
     "output_type": "display_data"
    }
   ],
   "source": [
    "fig, ax = plt.subplots(1,7)\n",
    "for i in range(7):\n",
    "    sns.distplot(random_xtb_results[i]['predicted'], ax=ax[i], kde_kws={\"cut\":0}, label='predicted')\n",
    "    sns.distplot(random_xtb_results[i]['true'], ax=ax[i], kde_kws={\"cut\":0}, label='queried')  \n",
    "  "
   ]
  },
  {
   "cell_type": "code",
   "execution_count": 78,
   "metadata": {},
   "outputs": [],
   "source": [
    "random_bandgaps = np.random.normal(4.0, 0.5, size=200) / 27.2114\n",
    "test_set_random_biased = test_set_random.copy()\n",
    "test_set_random_biased['GFN2_HOMO_LUMO_GAP'] = random_bandgaps\n",
    "\n",
    "\n",
    "test_prompts_random_biased = generate_inverse_photoswitch_prompts(test_set_random_biased)\n",
    "valid_filename_random_biased = f\"run_files/{filename_base}_valid_prompts_bandgap_inverse_smiles_random_biased_{train_size}.jsonl\"\n",
    "test_prompts_random_biased.to_json(valid_filename_random_biased, orient=\"records\", lines=True)"
   ]
  },
  {
   "cell_type": "code",
   "execution_count": 85,
   "metadata": {},
   "outputs": [
    {
     "name": "stdout",
     "output_type": "stream",
     "text": [
      "Testing temperature 0 for SMILES\n"
     ]
    },
    {
     "name": "stderr",
     "output_type": "stream",
     "text": [
      "2022-12-01 15:46:19.033 | DEBUG    | gpt3forchem.output:test_inverse_bandgap:931 - Got predictions, example: [H]c1c([H])c([H])c(C([H])([H])N([H])C(=O)c2c([H])c([H])c(C([H])([H])[H])c([H])c2[H])c([H])c1[H]\n",
      "2022-12-01 15:46:19.036 | DEBUG    | gpt3forchem.output:test_inverse_bandgap:942 - Loaded predictions. Example: [H]c1c([H])c([H])c(C([H])([H])N([H])C(=O)c2c([H])c([H])c(C([H])([H])[H])c([H])c2[H])c([H])c1[H]\n",
      "2022-12-01 15:46:19.076 | DEBUG    | gpt3forchem.output:test_inverse_bandgap:953 - Calculating Frechet ChemNet distance for 200 samples\n",
      "2022-12-01 15:46:19.389 | INFO     | gpt3forchem.output:_load_chemnet:218 - Saved ChemNet model to '/var/folders/m9/_txh68y946s4pxy1x2wnd3lh0000gn/T/ChemNet_v0.13_pretrained.h5'\n",
      "2022-12-01 15:46:44.191 | DEBUG    | gpt3forchem.output:test_inverse_bandgap:962 - Computed frechet score: (76.85357248786127, 2.1114631715259432e-07)\n",
      "2022-12-01 15:46:44.752 | DEBUG    | gpt3forchem.output:test_inverse_bandgap:973 - Computed KL div score: 0.19101598750301427\n"
     ]
    },
    {
     "name": "stdout",
     "output_type": "stream",
     "text": [
      "Testing temperature 0.25 for SMILES\n"
     ]
    },
    {
     "name": "stderr",
     "output_type": "stream",
     "text": [
      "2022-12-01 15:47:54.109 | DEBUG    | gpt3forchem.output:test_inverse_bandgap:931 - Got predictions, example: [H]c1c([H])c(C([H])([H])N([H])C(=O)C([H])([H])N2C([H])([H])C([H])([H])N(C([H])([H])C([H])([H])C([H])([H])C([H])([H])C([H])([H])C([H])([H])C([H])([H])C([H])([H])C([H])([H])C([H])([H])C([H])([H])C([H])([H])C([H])([H])C([H])([H])C([H])([H])C([H])([H])C([H])([H])C([H])([H])C([H])([H])C([H])([H])C([H])([H])C([H])([H])C([H])([H])C([H])([H])C([\n",
      "2022-12-01 15:47:54.110 | DEBUG    | gpt3forchem.output:test_inverse_bandgap:942 - Loaded predictions. Example: [H]c1c([H])c(C([H])([H])N([H])C(=O)C([H])([H])N2C([H])([H])C([H])([H])N(C([H])([H])C([H])([H])C([H])([H])C([H])([H])C([H])([H])C([H])([H])C([H])([H])C([H])([H])C([H])([H])C([H])([H])C([H])([H])C([H])([H])C([H])([H])C([H])([H])C([H])([H])C([H])([H])C([H])([H])C([H])([H])C([H])([H])C([H])([H])C([H])([H])C([H])([H])C([H])([H])C([H])([H])C([\n",
      "2022-12-01 15:47:54.170 | DEBUG    | gpt3forchem.output:test_inverse_bandgap:953 - Calculating Frechet ChemNet distance for 131 samples\n",
      "2022-12-01 15:47:54.292 | INFO     | gpt3forchem.output:_load_chemnet:218 - Saved ChemNet model to '/var/folders/m9/_txh68y946s4pxy1x2wnd3lh0000gn/T/ChemNet_v0.13_pretrained.h5'\n",
      "2022-12-01 15:48:19.041 | DEBUG    | gpt3forchem.output:test_inverse_bandgap:962 - Computed frechet score: (42.11956091707399, 0.0002195540348263662)\n",
      "2022-12-01 15:48:19.567 | DEBUG    | gpt3forchem.output:test_inverse_bandgap:973 - Computed KL div score: 0.19256198693381862\n"
     ]
    },
    {
     "name": "stdout",
     "output_type": "stream",
     "text": [
      "Testing temperature 0.5 for SMILES\n"
     ]
    },
    {
     "name": "stderr",
     "output_type": "stream",
     "text": [
      "2022-12-01 15:49:29.036 | DEBUG    | gpt3forchem.output:test_inverse_bandgap:931 - Got predictions, example: [H]c1c([H])c([H])c(C(=O)N([H])c2nc(C([H])([H])[H])nc(N([H])C(=O)C([H])([H])[H])c2C([H])([H])[H])c([H])c1[H]\n",
      "2022-12-01 15:49:29.038 | DEBUG    | gpt3forchem.output:test_inverse_bandgap:942 - Loaded predictions. Example: [H]c1c([H])c([H])c(C(=O)N([H])c2nc(C([H])([H])[H])nc(N([H])C(=O)C([H])([H])[H])c2C([H])([H])[H])c([H])c1[H]\n",
      "2022-12-01 15:49:29.089 | DEBUG    | gpt3forchem.output:test_inverse_bandgap:953 - Calculating Frechet ChemNet distance for 133 samples\n",
      "2022-12-01 15:49:29.212 | INFO     | gpt3forchem.output:_load_chemnet:218 - Saved ChemNet model to '/var/folders/m9/_txh68y946s4pxy1x2wnd3lh0000gn/T/ChemNet_v0.13_pretrained.h5'\n",
      "2022-12-01 15:49:53.425 | DEBUG    | gpt3forchem.output:test_inverse_bandgap:962 - Computed frechet score: (27.955334071792137, 0.0037310454079815896)\n",
      "2022-12-01 15:49:54.066 | DEBUG    | gpt3forchem.output:test_inverse_bandgap:973 - Computed KL div score: 0.387957358636276\n"
     ]
    },
    {
     "name": "stdout",
     "output_type": "stream",
     "text": [
      "Testing temperature 0.75 for SMILES\n"
     ]
    },
    {
     "name": "stderr",
     "output_type": "stream",
     "text": [
      "2022-12-01 15:51:03.223 | DEBUG    | gpt3forchem.output:test_inverse_bandgap:931 - Got predictions, example: [H]Oc1c([H])c([H])c([C@]2([H])C([H])([H])[C@@]([H])(C([H])([H])[H])[C@@]3([H])N(C([H])([H])[H])[C@]([H])(C([H])([H])[H])N([H])[C@]([H])(C([H])([H])[H])C3([H])[H])c([H])c1F\n",
      "2022-12-01 15:51:03.224 | DEBUG    | gpt3forchem.output:test_inverse_bandgap:942 - Loaded predictions. Example: [H]Oc1c([H])c([H])c([C@]2([H])C([H])([H])[C@@]([H])(C([H])([H])[H])[C@@]3([H])N(C([H])([H])[H])[C@]([H])(C([H])([H])[H])N([H])[C@]([H])(C([H])([H])[H])C3([H])[H])c([H])c1F\n",
      "2022-12-01 15:51:03.277 | DEBUG    | gpt3forchem.output:test_inverse_bandgap:953 - Calculating Frechet ChemNet distance for 93 samples\n",
      "2022-12-01 15:51:03.409 | INFO     | gpt3forchem.output:_load_chemnet:218 - Saved ChemNet model to '/var/folders/m9/_txh68y946s4pxy1x2wnd3lh0000gn/T/ChemNet_v0.13_pretrained.h5'\n",
      "2022-12-01 15:51:28.283 | DEBUG    | gpt3forchem.output:test_inverse_bandgap:962 - Computed frechet score: (25.59645557895361, 0.005980260705151378)\n",
      "2022-12-01 15:51:28.760 | DEBUG    | gpt3forchem.output:test_inverse_bandgap:973 - Computed KL div score: 0.4598965577244166\n"
     ]
    },
    {
     "name": "stdout",
     "output_type": "stream",
     "text": [
      "Testing temperature 1.0 for SMILES\n"
     ]
    },
    {
     "name": "stderr",
     "output_type": "stream",
     "text": [
      "2022-12-01 15:52:40.745 | DEBUG    | gpt3forchem.output:test_inverse_bandgap:931 - Got predictions, example: [H]OC([H])([H])[C@](c1c([H])c([H])c([H])c([H])c1[H])(C([H])([H])[H])C([H])([H])C([H])([H])N([H])C(=O)c1c([H])c([H])c(C(C([H])([H])[H])(C([H])([H])[H])C([H])([H])[H])c(=O)oc1[H]\n",
      "2022-12-01 15:52:40.746 | DEBUG    | gpt3forchem.output:test_inverse_bandgap:942 - Loaded predictions. Example: [H]OC([H])([H])[C@](c1c([H])c([H])c([H])c([H])c1[H])(C([H])([H])[H])C([H])([H])C([H])([H])N([H])C(=O)c1c([H])c([H])c(C(C([H])([H])[H])(C([H])([H])[H])C([H])([H])[H])c(=O)oc1[H]\n",
      "2022-12-01 15:52:40.798 | DEBUG    | gpt3forchem.output:test_inverse_bandgap:953 - Calculating Frechet ChemNet distance for 44 samples\n",
      "2022-12-01 15:52:40.927 | INFO     | gpt3forchem.output:_load_chemnet:218 - Saved ChemNet model to '/var/folders/m9/_txh68y946s4pxy1x2wnd3lh0000gn/T/ChemNet_v0.13_pretrained.h5'\n",
      "2022-12-01 15:53:05.707 | DEBUG    | gpt3forchem.output:test_inverse_bandgap:962 - Computed frechet score: (32.5946921761589, 0.0014752343282003837)\n",
      "2022-12-01 15:53:05.989 | DEBUG    | gpt3forchem.output:test_inverse_bandgap:973 - Computed KL div score: 0.42312464964308694\n"
     ]
    },
    {
     "name": "stdout",
     "output_type": "stream",
     "text": [
      "Testing temperature 1.25 for SMILES\n"
     ]
    },
    {
     "name": "stderr",
     "output_type": "stream",
     "text": [
      "2022-12-01 15:54:20.691 | DEBUG    | gpt3forchem.output:test_inverse_bandgap:931 - Got predictions, example: [H]c1nc(Oc2nc(C(=S)S(=O)(=O)O[B])(C([H])([H])[H])C3=O)c(N([H])[H])c-c2c(-c3167)c([H])c.[H])c([H])c1Cl\n",
      "2022-12-01 15:54:20.693 | DEBUG    | gpt3forchem.output:test_inverse_bandgap:942 - Loaded predictions. Example: [H]c1nc(Oc2nc(C(=S)S(=O)(=O)O[B])(C([H])([H])[H])C3=O)c(N([H])[H])c-c2c(-c3167)c([H])c.[H])c([H])c1Cl\n",
      "2022-12-01 15:54:20.746 | DEBUG    | gpt3forchem.output:test_inverse_bandgap:953 - Calculating Frechet ChemNet distance for 8 samples\n",
      "2022-12-01 15:54:20.896 | INFO     | gpt3forchem.output:_load_chemnet:218 - Saved ChemNet model to '/var/folders/m9/_txh68y946s4pxy1x2wnd3lh0000gn/T/ChemNet_v0.13_pretrained.h5'\n",
      "[15:54:28] WARNING: not removing hydrogen atom without neighbors\n",
      "[15:54:28] WARNING: not removing hydrogen atom without neighbors\n",
      "2022-12-01 15:54:32.541 | DEBUG    | gpt3forchem.output:test_inverse_bandgap:962 - Computed frechet score: (65.6618620030247, 1.9800818007424146e-06)\n",
      "2022-12-01 15:54:32.627 | DEBUG    | gpt3forchem.output:test_inverse_bandgap:973 - Computed KL div score: 0.4279172095050951\n"
     ]
    },
    {
     "name": "stdout",
     "output_type": "stream",
     "text": [
      "Testing temperature 1.5 for SMILES\n"
     ]
    },
    {
     "name": "stderr",
     "output_type": "stream",
     "text": [
      "2022-12-01 15:55:43.105 | DEBUG    | gpt3forchem.output:test_inverse_bandgap:931 - Got predictions, example: [H]c1nc(oc1)Oc1nc(-c2c()nn(C([H])([H])[H])c2[H])nc2rc(3)c(-c3c(-c4N)nl(-c([H])c4nc([H])c(C(C(F)(F)\n",
      "2022-12-01 15:55:43.105 | DEBUG    | gpt3forchem.output:test_inverse_bandgap:942 - Loaded predictions. Example: [H]c1nc(oc1)Oc1nc(-c2c()nn(C([H])([H])[H])c2[H])nc2rc(3)c(-c3c(-c4N)nl(-c([H])c4nc([H])c(C(C(F)(F)\n",
      "2022-12-01 15:55:43.135 | DEBUG    | gpt3forchem.output:test_inverse_bandgap:953 - Calculating Frechet ChemNet distance for 9 samples\n",
      "2022-12-01 15:55:43.266 | INFO     | gpt3forchem.output:_load_chemnet:218 - Saved ChemNet model to '/var/folders/m9/_txh68y946s4pxy1x2wnd3lh0000gn/T/ChemNet_v0.13_pretrained.h5'\n",
      "[15:55:52] WARNING: not removing hydrogen atom without neighbors\n",
      "[15:55:52] WARNING: not removing hydrogen atom without neighbors\n",
      "[15:55:52] WARNING: not removing hydrogen atom without neighbors\n",
      "2022-12-01 15:56:05.250 | DEBUG    | gpt3forchem.output:test_inverse_bandgap:962 - Computed frechet score: (61.44968682037815, 4.597778232532351e-06)\n",
      "2022-12-01 15:56:05.295 | DEBUG    | gpt3forchem.output:test_inverse_bandgap:973 - Computed KL div score: nan\n"
     ]
    }
   ],
   "source": [
    "random_biased_test_results = test_inverse_model(modelname_random, test_prompts_random_biased, train_prompts_random)"
   ]
  },
  {
   "cell_type": "code",
   "execution_count": 126,
   "metadata": {},
   "outputs": [],
   "source": [
    "test_prompts_random_biased_long = pd.concat([test_prompts_random_biased.copy() for _ in range(3)])\n",
    "\n",
    "test_prompts_random_biased_long['GFN2_HOMO_LUMO_GAP'] = np.random.normal(4.0, 0.5, size=600) / 27.2114"
   ]
  },
  {
   "cell_type": "code",
   "execution_count": 129,
   "metadata": {},
   "outputs": [
    {
     "name": "stdout",
     "output_type": "stream",
     "text": [
      "Testing temperature 0 for SMILES\n"
     ]
    },
    {
     "name": "stderr",
     "output_type": "stream",
     "text": [
      "2022-12-02 00:48:55.178 | DEBUG    | gpt3forchem.output:test_inverse_bandgap:931 - Got predictions, example: [H]c1c([H])c([H])c(C([H])([H])N([H])C(=O)c2c([H])c([H])c(C([H])([H])[H])c([H])c2[H])c([H])c1[H]\n",
      "2022-12-02 00:48:55.179 | DEBUG    | gpt3forchem.output:test_inverse_bandgap:942 - Loaded predictions. Example: [H]c1c([H])c([H])c(C([H])([H])N([H])C(=O)c2c([H])c([H])c(C([H])([H])[H])c([H])c2[H])c([H])c1[H]\n",
      "2022-12-02 00:48:55.259 | DEBUG    | gpt3forchem.output:test_inverse_bandgap:953 - Calculating Frechet ChemNet distance for 600 samples\n",
      "2022-12-02 00:48:55.377 | INFO     | gpt3forchem.output:_load_chemnet:218 - Saved ChemNet model to '/var/folders/m9/_txh68y946s4pxy1x2wnd3lh0000gn/T/ChemNet_v0.13_pretrained.h5'\n",
      "2022-12-02 00:49:31.888 | DEBUG    | gpt3forchem.output:test_inverse_bandgap:962 - Computed frechet score: (76.83257079388272, 2.1203506844168624e-07)\n",
      "2022-12-02 00:49:33.862 | DEBUG    | gpt3forchem.output:test_inverse_bandgap:973 - Computed KL div score: 0.2202844108758928\n"
     ]
    }
   ],
   "source": [
    "random_biased_test_low_temp_results += test_inverse_model(modelname_random, test_prompts_random_biased_long, train_prompts_random, temperatures=[0])"
   ]
  },
  {
   "cell_type": "code",
   "execution_count": 86,
   "metadata": {},
   "outputs": [],
   "source": [
    "save_pickle(f\"run_files/{timestamp}-random_biased_test_results_extrapolation_smiles.pkl\", random_biased_test_results)"
   ]
  },
  {
   "cell_type": "code",
   "execution_count": 87,
   "metadata": {},
   "outputs": [],
   "source": [
    "smiles_500_random_biased_sets = []\n",
    "\n",
    "for res in random_biased_test_results:\n",
    "    result = {}\n",
    "    result[\"temperature\"] = res[\"meta\"][\"temperature\"]\n",
    "    result[\"smiles\"] = set(\n",
    "        res[\"predictions\"][res[\"valid_smiles\"]]\n",
    "    )\n",
    "    result['original_prediction_indices'] = [i for i, x in enumerate(res[\"predictions\"]) if x in result['smiles']]\n",
    "    result['expected'] = [res['expectations'][i] for i in result['original_prediction_indices']]\n",
    "    smiles_500_random_biased_sets.append(result)\n",
    "\n",
    "for res in smiles_500_random_biased_sets:\n",
    "    temp = res[\"temperature\"]\n",
    "    smiles_set = res[\"smiles\"]\n",
    "    with open(f\"for_xtb_opt/{timestamp}_smiles_500_random_biased_sets_{temp}.txt\", \"w\") as f:\n",
    "        for i, smiles in enumerate(smiles_set):\n",
    "            if i != len(smiles_set) - 1:\n",
    "                f.write(smiles + \"\\n\")\n",
    "            else:\n",
    "                f.write(smiles)"
   ]
  },
  {
   "cell_type": "code",
   "execution_count": 130,
   "metadata": {},
   "outputs": [],
   "source": [
    "smiles_500_random_biased_low_temp_sets = []\n",
    "\n",
    "for res in random_biased_test_low_temp_results:\n",
    "    result = {}\n",
    "    result[\"temperature\"] = res[\"meta\"][\"temperature\"]\n",
    "    result[\"smiles\"] = set(\n",
    "        res[\"predictions\"][res[\"valid_smiles\"]]\n",
    "    )\n",
    "    result['original_prediction_indices'] = [i for i, x in enumerate(res[\"predictions\"]) if x in result['smiles']]\n",
    "    result['expected'] = [res['expectations'][i] for i in result['original_prediction_indices']]\n",
    "    smiles_500_random_biased_low_temp_sets.append(result)\n",
    "\n",
    "for res in smiles_500_random_biased_low_temp_sets:\n",
    "    temp = res[\"temperature\"]\n",
    "    smiles_set = res[\"smiles\"]\n",
    "    with open(f\"for_xtb_opt/{timestamp}_smiles_500_random_biased_low_temp_sets_{temp}.txt\", \"w\") as f:\n",
    "        for i, smiles in enumerate(smiles_set):\n",
    "            if i != len(smiles_set) - 1:\n",
    "                f.write(smiles + \"\\n\")\n",
    "            else:\n",
    "                f.write(smiles)"
   ]
  },
  {
   "cell_type": "code",
   "execution_count": 131,
   "metadata": {},
   "outputs": [],
   "source": [
    "random_biased_xtb_results = get_xtb_results('2022-11-30-23-07-49_smiles_500_random_biased_sets', smiles_500_random_biased_sets)\n",
    "save_pickle('run_files/2022-12-01-random_biased-xtb-results', random_biased_xtb_results)"
   ]
  },
  {
   "cell_type": "code",
   "execution_count": 174,
   "metadata": {},
   "outputs": [],
   "source": [
    "random_biased_low_temp_xtb_results = get_xtb_results('2022-11-30-23-07-49_smiles_500_random_biased_low_temp_sets', smiles_500_random_biased_low_temp_sets)\n",
    "save_pickle('run_files/2022-12-01-random_biased-low_temp_xtb-results', random_biased_low_temp_xtb_results)"
   ]
  },
  {
   "cell_type": "markdown",
   "metadata": {},
   "source": [
    "## Extrapolation test"
   ]
  },
  {
   "cell_type": "code",
   "execution_count": 48,
   "metadata": {},
   "outputs": [],
   "source": [
    "train_set_extrapolation = data[data['GFN2_HOMO_LUMO_GAP'] * 27.2114 < 3.5].sample(1000)\n",
    "test_set_extrapolation = data[data['GFN2_HOMO_LUMO_GAP'] * 27.2114 > 3.5].sample(200)"
   ]
  },
  {
   "cell_type": "code",
   "execution_count": 53,
   "metadata": {},
   "outputs": [],
   "source": [
    "random_bandgaps = np.random.normal(4.0, 0.5, size=200) / 27.2114"
   ]
  },
  {
   "cell_type": "code",
   "execution_count": 54,
   "metadata": {},
   "outputs": [],
   "source": [
    "test_set_extrapolation['GFN2_HOMO_LUMO_GAP'] = random_bandgaps"
   ]
  },
  {
   "cell_type": "code",
   "execution_count": 55,
   "metadata": {},
   "outputs": [],
   "source": [
    "train_prompts_extrapolation = generate_inverse_photoswitch_prompts(train_set_extrapolation)\n",
    "\n",
    "test_prompts_extrapolation = generate_inverse_photoswitch_prompts(test_set_extrapolation)"
   ]
  },
  {
   "cell_type": "code",
   "execution_count": 56,
   "metadata": {},
   "outputs": [
    {
     "data": {
      "text/html": [
       "<div>\n",
       "<style scoped>\n",
       "    .dataframe tbody tr th:only-of-type {\n",
       "        vertical-align: middle;\n",
       "    }\n",
       "\n",
       "    .dataframe tbody tr th {\n",
       "        vertical-align: top;\n",
       "    }\n",
       "\n",
       "    .dataframe thead th {\n",
       "        text-align: right;\n",
       "    }\n",
       "</style>\n",
       "<table border=\"1\" class=\"dataframe\">\n",
       "  <thead>\n",
       "    <tr style=\"text-align: right;\">\n",
       "      <th></th>\n",
       "      <th>prompt</th>\n",
       "      <th>completion</th>\n",
       "      <th>SMILES</th>\n",
       "    </tr>\n",
       "  </thead>\n",
       "  <tbody>\n",
       "    <tr>\n",
       "      <th>0</th>\n",
       "      <td>What is a molecule with a bandgap of 3.6 eV###</td>\n",
       "      <td>[H]c1c([H])c2c(c([H])c1N([H])C(=O)C([H])([H])[...</td>\n",
       "      <td>[H]c1c([H])c2c(c([H])c1N([H])C(=O)C([H])([H])[...</td>\n",
       "    </tr>\n",
       "    <tr>\n",
       "      <th>1</th>\n",
       "      <td>What is a molecule with a bandgap of 4.7 eV###</td>\n",
       "      <td>[H]C1=C([H])C([H])([H])N(C(=O)c2c([H])c([H])c(...</td>\n",
       "      <td>[H]C1=C([H])C([H])([H])N(C(=O)c2c([H])c([H])c(...</td>\n",
       "    </tr>\n",
       "    <tr>\n",
       "      <th>2</th>\n",
       "      <td>What is a molecule with a bandgap of 3.9 eV###</td>\n",
       "      <td>[H]Oc1c([H])c([H])c2c3c1O[C@@]1([H])[C@]4(OC([...</td>\n",
       "      <td>[H]Oc1c([H])c([H])c2c3c1O[C@@]1([H])[C@]4(OC([...</td>\n",
       "    </tr>\n",
       "    <tr>\n",
       "      <th>3</th>\n",
       "      <td>What is a molecule with a bandgap of 3.4 eV###</td>\n",
       "      <td>[H]OC(=O)[C@@]([H])(N([H])[H])[C@@]1([H])C(F)(...</td>\n",
       "      <td>[H]OC(=O)[C@@]([H])(N([H])[H])[C@@]1([H])C(F)(...</td>\n",
       "    </tr>\n",
       "    <tr>\n",
       "      <th>4</th>\n",
       "      <td>What is a molecule with a bandgap of 3.6 eV###</td>\n",
       "      <td>[H]C1=C2N(N([H])[H])C(=O)C([H])([H])C([H])([H]...</td>\n",
       "      <td>[H]C1=C2N(N([H])[H])C(=O)C([H])([H])C([H])([H]...</td>\n",
       "    </tr>\n",
       "    <tr>\n",
       "      <th>...</th>\n",
       "      <td>...</td>\n",
       "      <td>...</td>\n",
       "      <td>...</td>\n",
       "    </tr>\n",
       "    <tr>\n",
       "      <th>195</th>\n",
       "      <td>What is a molecule with a bandgap of 3.6 eV###</td>\n",
       "      <td>[H]c1nc([H])c([H])c(N2C([H])([H])C([H])([H])N(...</td>\n",
       "      <td>[H]c1nc([H])c([H])c(N2C([H])([H])C([H])([H])N(...</td>\n",
       "    </tr>\n",
       "    <tr>\n",
       "      <th>196</th>\n",
       "      <td>What is a molecule with a bandgap of 4.3 eV###</td>\n",
       "      <td>[H]OC(=O)[C@@]1([H])N(C(=O)[C@]([H])(C([H])([H...</td>\n",
       "      <td>[H]OC(=O)[C@@]1([H])N(C(=O)[C@]([H])(C([H])([H...</td>\n",
       "    </tr>\n",
       "    <tr>\n",
       "      <th>197</th>\n",
       "      <td>What is a molecule with a bandgap of 3.8 eV###</td>\n",
       "      <td>[H]OC([H])([H])[C@](N([H])[H])(C([H])([H])OP(=...</td>\n",
       "      <td>[H]OC([H])([H])[C@](N([H])[H])(C([H])([H])OP(=...</td>\n",
       "    </tr>\n",
       "    <tr>\n",
       "      <th>198</th>\n",
       "      <td>What is a molecule with a bandgap of 4.0 eV###</td>\n",
       "      <td>[H]c1c([H])c([C@@]2([H])C([H])([H])[C@@]3([H])...</td>\n",
       "      <td>[H]c1c([H])c([C@@]2([H])C([H])([H])[C@@]3([H])...</td>\n",
       "    </tr>\n",
       "    <tr>\n",
       "      <th>199</th>\n",
       "      <td>What is a molecule with a bandgap of 3.8 eV###</td>\n",
       "      <td>[H]ON([H])C(=O)[C@@](O[H])(C([H])([H])[H])[C@]...</td>\n",
       "      <td>[H]ON([H])C(=O)[C@@](O[H])(C([H])([H])[H])[C@]...</td>\n",
       "    </tr>\n",
       "  </tbody>\n",
       "</table>\n",
       "<p>200 rows × 3 columns</p>\n",
       "</div>"
      ],
      "text/plain": [
       "                                             prompt  \\\n",
       "0    What is a molecule with a bandgap of 3.6 eV###   \n",
       "1    What is a molecule with a bandgap of 4.7 eV###   \n",
       "2    What is a molecule with a bandgap of 3.9 eV###   \n",
       "3    What is a molecule with a bandgap of 3.4 eV###   \n",
       "4    What is a molecule with a bandgap of 3.6 eV###   \n",
       "..                                              ...   \n",
       "195  What is a molecule with a bandgap of 3.6 eV###   \n",
       "196  What is a molecule with a bandgap of 4.3 eV###   \n",
       "197  What is a molecule with a bandgap of 3.8 eV###   \n",
       "198  What is a molecule with a bandgap of 4.0 eV###   \n",
       "199  What is a molecule with a bandgap of 3.8 eV###   \n",
       "\n",
       "                                            completion  \\\n",
       "0    [H]c1c([H])c2c(c([H])c1N([H])C(=O)C([H])([H])[...   \n",
       "1    [H]C1=C([H])C([H])([H])N(C(=O)c2c([H])c([H])c(...   \n",
       "2    [H]Oc1c([H])c([H])c2c3c1O[C@@]1([H])[C@]4(OC([...   \n",
       "3    [H]OC(=O)[C@@]([H])(N([H])[H])[C@@]1([H])C(F)(...   \n",
       "4    [H]C1=C2N(N([H])[H])C(=O)C([H])([H])C([H])([H]...   \n",
       "..                                                 ...   \n",
       "195  [H]c1nc([H])c([H])c(N2C([H])([H])C([H])([H])N(...   \n",
       "196  [H]OC(=O)[C@@]1([H])N(C(=O)[C@]([H])(C([H])([H...   \n",
       "197  [H]OC([H])([H])[C@](N([H])[H])(C([H])([H])OP(=...   \n",
       "198  [H]c1c([H])c([C@@]2([H])C([H])([H])[C@@]3([H])...   \n",
       "199  [H]ON([H])C(=O)[C@@](O[H])(C([H])([H])[H])[C@]...   \n",
       "\n",
       "                                                SMILES  \n",
       "0    [H]c1c([H])c2c(c([H])c1N([H])C(=O)C([H])([H])[...  \n",
       "1    [H]C1=C([H])C([H])([H])N(C(=O)c2c([H])c([H])c(...  \n",
       "2    [H]Oc1c([H])c([H])c2c3c1O[C@@]1([H])[C@]4(OC([...  \n",
       "3    [H]OC(=O)[C@@]([H])(N([H])[H])[C@@]1([H])C(F)(...  \n",
       "4    [H]C1=C2N(N([H])[H])C(=O)C([H])([H])C([H])([H]...  \n",
       "..                                                 ...  \n",
       "195  [H]c1nc([H])c([H])c(N2C([H])([H])C([H])([H])N(...  \n",
       "196  [H]OC(=O)[C@@]1([H])N(C(=O)[C@]([H])(C([H])([H...  \n",
       "197  [H]OC([H])([H])[C@](N([H])[H])(C([H])([H])OP(=...  \n",
       "198  [H]c1c([H])c([C@@]2([H])C([H])([H])[C@@]3([H])...  \n",
       "199  [H]ON([H])C(=O)[C@@](O[H])(C([H])([H])[H])[C@]...  \n",
       "\n",
       "[200 rows x 3 columns]"
      ]
     },
     "execution_count": 56,
     "metadata": {},
     "output_type": "execute_result"
    }
   ],
   "source": [
    "test_prompts_extrapolation"
   ]
  },
  {
   "cell_type": "code",
   "execution_count": 58,
   "metadata": {},
   "outputs": [],
   "source": [
    "train_size = len(train_set_random)\n",
    "\n",
    "filename_base = time.strftime(\"%Y-%m-%d-%H-%M-%S\", time.localtime())\n",
    "train_filename_extrapolation = f\"run_files/{filename_base}_train_prompts_bandgap_inverse_smiles_extrapolation_{train_size}.jsonl\"\n",
    "\n",
    "train_prompts_extrapolation.to_json(train_filename_extrapolation, orient=\"records\", lines=True)\n",
    "\n",
    "\n",
    "valid_filename_extrapolation = f\"run_files/{filename_base}_valid_prompts_bandgap_inverse_smiles_extrapolation_{train_size}.jsonl\"\n",
    "test_prompts_extrapolation.to_json(valid_filename_extrapolation, orient=\"records\", lines=True)"
   ]
  },
  {
   "cell_type": "code",
   "execution_count": 59,
   "metadata": {},
   "outputs": [
    {
     "name": "stderr",
     "output_type": "stream",
     "text": [
      "Traceback (most recent call last):\n",
      "  File \"/Users/kevinmaikjablonka/miniconda3/envs/gpt3/bin/openai\", line 8, in <module>\n",
      "    sys.exit(main())\n",
      "  File \"/Users/kevinmaikjablonka/miniconda3/envs/gpt3/lib/python3.9/site-packages/openai/_openai_scripts.py\", line 63, in main\n",
      "    args.func(args)\n",
      "  File \"/Users/kevinmaikjablonka/miniconda3/envs/gpt3/lib/python3.9/site-packages/openai/cli.py\", line 545, in sync\n",
      "    resp = openai.wandb_logger.WandbLogger.sync(\n",
      "  File \"/Users/kevinmaikjablonka/miniconda3/envs/gpt3/lib/python3.9/site-packages/openai/wandb_logger.py\", line 74, in sync\n",
      "    fine_tune_logged = [\n",
      "  File \"/Users/kevinmaikjablonka/miniconda3/envs/gpt3/lib/python3.9/site-packages/openai/wandb_logger.py\", line 75, in <listcomp>\n",
      "    cls._log_fine_tune(\n",
      "  File \"/Users/kevinmaikjablonka/miniconda3/envs/gpt3/lib/python3.9/site-packages/openai/wandb_logger.py\", line 125, in _log_fine_tune\n",
      "    wandb_run = cls._get_wandb_run(run_path)\n",
      "  File \"/Users/kevinmaikjablonka/miniconda3/envs/gpt3/lib/python3.9/site-packages/openai/wandb_logger.py\", line 190, in _get_wandb_run\n",
      "    cls._ensure_logged_in()\n",
      "  File \"/Users/kevinmaikjablonka/miniconda3/envs/gpt3/lib/python3.9/site-packages/openai/wandb_logger.py\", line 186, in _ensure_logged_in\n",
      "    raise Exception(\"You need to log in to wandb\")\n",
      "Exception: You need to log in to wandb\n"
     ]
    }
   ],
   "source": [
    "modelname_extrapolation =  fine_tune(train_filename_extrapolation, valid_filename_extrapolation)   "
   ]
  },
  {
   "cell_type": "code",
   "execution_count": 64,
   "metadata": {},
   "outputs": [
    {
     "name": "stdout",
     "output_type": "stream",
     "text": [
      "Testing temperature 0 for SMILES\n"
     ]
    },
    {
     "name": "stderr",
     "output_type": "stream",
     "text": [
      "2022-12-01 11:43:43.202 | DEBUG    | gpt3forchem.output:test_inverse_bandgap:931 - Got predictions, example: [H]c1c([H])c([H])c(C([H])([H])N2C([H])([H])C([H])([H])C([H])([H])C2([H])[H])c([H])c1[H]\n",
      "2022-12-01 11:43:43.203 | DEBUG    | gpt3forchem.output:test_inverse_bandgap:942 - Loaded predictions. Example: [H]c1c([H])c([H])c(C([H])([H])N2C([H])([H])C([H])([H])C([H])([H])C2([H])[H])c([H])c1[H]\n",
      "2022-12-01 11:43:43.224 | DEBUG    | gpt3forchem.output:test_inverse_bandgap:953 - Calculating Frechet ChemNet distance for 200 samples\n",
      "2022-12-01 11:43:43.278 | INFO     | gpt3forchem.output:_load_chemnet:218 - Saved ChemNet model to '/var/folders/m9/_txh68y946s4pxy1x2wnd3lh0000gn/T/ChemNet_v0.13_pretrained.h5'\n",
      "2022-12-01 11:44:36.328 | DEBUG    | gpt3forchem.output:test_inverse_bandgap:962 - Computed frechet score: (74.8614398824616, 3.1449804517270136e-07)\n",
      "2022-12-01 11:44:36.966 | DEBUG    | gpt3forchem.output:test_inverse_bandgap:973 - Computed KL div score: nan\n"
     ]
    },
    {
     "name": "stdout",
     "output_type": "stream",
     "text": [
      "Testing temperature 0.25 for SMILES\n"
     ]
    },
    {
     "name": "stderr",
     "output_type": "stream",
     "text": [
      "2022-12-01 11:45:47.155 | DEBUG    | gpt3forchem.output:test_inverse_bandgap:931 - Got predictions, example: [H]c1c([H])c(N([H])C(=O)N([H])c2c([H])c([H])c3c(c2[H])C([H])([H])C([H])([H])N3C([H])([H])C([H])([H])C([H])([H])C3([H])[H])c([H])c([H])c1N([H])C(=O)C([H])([H])[H]\n",
      "2022-12-01 11:45:47.156 | DEBUG    | gpt3forchem.output:test_inverse_bandgap:942 - Loaded predictions. Example: [H]c1c([H])c(N([H])C(=O)N([H])c2c([H])c([H])c3c(c2[H])C([H])([H])C([H])([H])N3C([H])([H])C([H])([H])C([H])([H])C3([H])[H])c([H])c([H])c1N([H])C(=O)C([H])([H])[H]\n",
      "2022-12-01 11:45:47.201 | DEBUG    | gpt3forchem.output:test_inverse_bandgap:953 - Calculating Frechet ChemNet distance for 171 samples\n",
      "2022-12-01 11:45:47.249 | INFO     | gpt3forchem.output:_load_chemnet:218 - Saved ChemNet model to '/var/folders/m9/_txh68y946s4pxy1x2wnd3lh0000gn/T/ChemNet_v0.13_pretrained.h5'\n",
      "2022-12-01 11:46:26.381 | DEBUG    | gpt3forchem.output:test_inverse_bandgap:962 - Computed frechet score: (43.448226832066396, 0.00016831970746037197)\n",
      "2022-12-01 11:46:27.171 | DEBUG    | gpt3forchem.output:test_inverse_bandgap:973 - Computed KL div score: 0.3229119374517733\n"
     ]
    },
    {
     "name": "stdout",
     "output_type": "stream",
     "text": [
      "Testing temperature 0.5 for SMILES\n"
     ]
    },
    {
     "name": "stderr",
     "output_type": "stream",
     "text": [
      "2022-12-01 11:47:37.259 | DEBUG    | gpt3forchem.output:test_inverse_bandgap:931 - Got predictions, example: [H]c1c([H])c([H])c(N([H])c2nc3c([H])c([H])c([H])c([H])c3c2[H])c([H])c1[H]\n",
      "2022-12-01 11:47:37.260 | DEBUG    | gpt3forchem.output:test_inverse_bandgap:942 - Loaded predictions. Example: [H]c1c([H])c([H])c(N([H])c2nc3c([H])c([H])c([H])c([H])c3c2[H])c([H])c1[H]\n",
      "2022-12-01 11:47:37.322 | DEBUG    | gpt3forchem.output:test_inverse_bandgap:953 - Calculating Frechet ChemNet distance for 128 samples\n",
      "2022-12-01 11:47:37.371 | INFO     | gpt3forchem.output:_load_chemnet:218 - Saved ChemNet model to '/var/folders/m9/_txh68y946s4pxy1x2wnd3lh0000gn/T/ChemNet_v0.13_pretrained.h5'\n",
      "2022-12-01 11:48:48.011 | DEBUG    | gpt3forchem.output:test_inverse_bandgap:962 - Computed frechet score: (28.156279091970745, 0.003584071556977821)\n",
      "2022-12-01 11:48:48.573 | DEBUG    | gpt3forchem.output:test_inverse_bandgap:973 - Computed KL div score: 0.3974279058491146\n"
     ]
    },
    {
     "name": "stdout",
     "output_type": "stream",
     "text": [
      "Testing temperature 0.75 for SMILES\n"
     ]
    },
    {
     "name": "stderr",
     "output_type": "stream",
     "text": [
      "2022-12-01 11:49:59.460 | DEBUG    | gpt3forchem.output:test_inverse_bandgap:931 - Got predictions, example: [H]c1sc(C(=O)N([H])c2c([H])c([H])c([H])c(C([H])([H])N3C([H])([H])C([H])([H])N(c4c([H])c([H])c5c([H])c([H])c([H])c([H])c45)C([H])([H])C3([H])[H])c2[H])nc1[H]\n",
      "2022-12-01 11:49:59.464 | DEBUG    | gpt3forchem.output:test_inverse_bandgap:942 - Loaded predictions. Example: [H]c1sc(C(=O)N([H])c2c([H])c([H])c([H])c(C([H])([H])N3C([H])([H])C([H])([H])N(c4c([H])c([H])c5c([H])c([H])c([H])c([H])c45)C([H])([H])C3([H])[H])c2[H])nc1[H]\n",
      "2022-12-01 11:49:59.515 | DEBUG    | gpt3forchem.output:test_inverse_bandgap:953 - Calculating Frechet ChemNet distance for 91 samples\n",
      "2022-12-01 11:49:59.564 | INFO     | gpt3forchem.output:_load_chemnet:218 - Saved ChemNet model to '/var/folders/m9/_txh68y946s4pxy1x2wnd3lh0000gn/T/ChemNet_v0.13_pretrained.h5'\n",
      "2022-12-01 11:51:15.045 | DEBUG    | gpt3forchem.output:test_inverse_bandgap:962 - Computed frechet score: (25.97111665250427, 0.0055485240113122185)\n",
      "2022-12-01 11:51:15.534 | DEBUG    | gpt3forchem.output:test_inverse_bandgap:973 - Computed KL div score: 0.5976778583501181\n"
     ]
    },
    {
     "name": "stdout",
     "output_type": "stream",
     "text": [
      "Testing temperature 1.0 for SMILES\n"
     ]
    },
    {
     "name": "stderr",
     "output_type": "stream",
     "text": [
      "2022-12-01 11:52:26.125 | DEBUG    | gpt3forchem.output:test_inverse_bandgap:931 - Got predictions, example: [H]c1nc(-c2c([H])oc(N([H])C(=O)OC([H])([H])[H])c2[H])c(C(=O)N([H])c2c([H])c([H])c3nc([H])c([H])c(C(F)(F)F)c3c2[H])c([H])c1F\n",
      "2022-12-01 11:52:26.126 | DEBUG    | gpt3forchem.output:test_inverse_bandgap:942 - Loaded predictions. Example: [H]c1nc(-c2c([H])oc(N([H])C(=O)OC([H])([H])[H])c2[H])c(C(=O)N([H])c2c([H])c([H])c3nc([H])c([H])c(C(F)(F)F)c3c2[H])c([H])c1F\n",
      "2022-12-01 11:52:26.186 | DEBUG    | gpt3forchem.output:test_inverse_bandgap:953 - Calculating Frechet ChemNet distance for 50 samples\n",
      "2022-12-01 11:52:26.237 | INFO     | gpt3forchem.output:_load_chemnet:218 - Saved ChemNet model to '/var/folders/m9/_txh68y946s4pxy1x2wnd3lh0000gn/T/ChemNet_v0.13_pretrained.h5'\n",
      "2022-12-01 11:53:11.021 | DEBUG    | gpt3forchem.output:test_inverse_bandgap:962 - Computed frechet score: (30.311107105412447, 0.0023292209557175822)\n",
      "2022-12-01 11:53:11.298 | DEBUG    | gpt3forchem.output:test_inverse_bandgap:973 - Computed KL div score: 0.6588522716989937\n"
     ]
    },
    {
     "name": "stdout",
     "output_type": "stream",
     "text": [
      "Testing temperature 1.25 for SMILES\n"
     ]
    },
    {
     "name": "stderr",
     "output_type": "stream",
     "text": [
      "2022-12-01 11:54:22.171 | DEBUG    | gpt3forchem.output:test_inverse_bandgap:931 - Got predictions, example: [H]OC(=O)=C1/C([H])=C([H])N(C([H])([H])c2c([H])c([H])c3c(nc(N4C([H])([H])C([H])([H])C([H])([H])C4([H])[H])sc31)[C@@]4([H])C([H])([H])C([H])([H])C4([H])[H])C(=O)C1([H])[\n",
      "2022-12-01 11:54:22.172 | DEBUG    | gpt3forchem.output:test_inverse_bandgap:942 - Loaded predictions. Example: [H]OC(=O)=C1/C([H])=C([H])N(C([H])([H])c2c([H])c([H])c3c(nc(N4C([H])([H])C([H])([H])C([H])([H])C4([H])[H])sc31)[C@@]4([H])C([H])([H])C([H])([H])C4([H])[H])C(=O)C1([H])[\n",
      "2022-12-01 11:54:22.214 | DEBUG    | gpt3forchem.output:test_inverse_bandgap:953 - Calculating Frechet ChemNet distance for 18 samples\n",
      "2022-12-01 11:54:25.520 | INFO     | gpt3forchem.output:_load_chemnet:218 - Saved ChemNet model to '/var/folders/m9/_txh68y946s4pxy1x2wnd3lh0000gn/T/ChemNet_v0.13_pretrained.h5'\n",
      "2022-12-01 11:54:47.265 | DEBUG    | gpt3forchem.output:test_inverse_bandgap:962 - Computed frechet score: (43.93045623590529, 0.00015284423192376517)\n",
      "2022-12-01 11:54:47.378 | DEBUG    | gpt3forchem.output:test_inverse_bandgap:973 - Computed KL div score: 0.6119516122188401\n"
     ]
    },
    {
     "name": "stdout",
     "output_type": "stream",
     "text": [
      "Testing temperature 1.5 for SMILES\n"
     ]
    },
    {
     "name": "stderr",
     "output_type": "stream",
     "text": [
      "2022-12-01 11:55:59.725 | DEBUG    | gpt3forchem.output:test_inverse_bandgap:931 - Got predictions, example: [H]Oc1nc2c(C(F)(F)F)c([H])c([H])c([H])c2c1-c1c([H])c([H])oc(C([H])([H])N([H])O4)[C@]([H])(C(<SPOice\n",
      "2022-12-01 11:55:59.726 | DEBUG    | gpt3forchem.output:test_inverse_bandgap:942 - Loaded predictions. Example: [H]Oc1nc2c(C(F)(F)F)c([H])c([H])c([H])c2c1-c1c([H])c([H])oc(C([H])([H])N([H])O4)[C@]([H])(C(<SPOice\n",
      "2022-12-01 11:55:59.763 | DEBUG    | gpt3forchem.output:test_inverse_bandgap:953 - Calculating Frechet ChemNet distance for 6 samples\n",
      "2022-12-01 11:56:00.439 | INFO     | gpt3forchem.output:_load_chemnet:218 - Saved ChemNet model to '/var/folders/m9/_txh68y946s4pxy1x2wnd3lh0000gn/T/ChemNet_v0.13_pretrained.h5'\n",
      "2022-12-01 11:56:13.031 | DEBUG    | gpt3forchem.output:test_inverse_bandgap:962 - Computed frechet score: (55.10820303263125, 1.6344148631748464e-05)\n",
      "2022-12-01 11:56:13.085 | DEBUG    | gpt3forchem.output:test_inverse_bandgap:973 - Computed KL div score: 0.24547348897950338\n"
     ]
    }
   ],
   "source": [
    "extrapolation_test_results = test_inverse_model(modelname_extrapolation, test_prompts_extrapolation, train_prompts_extrapolation)"
   ]
  },
  {
   "cell_type": "code",
   "execution_count": null,
   "metadata": {},
   "outputs": [],
   "source": [
    "save_pickle(f\"run_files/{timestamp}-extrapolation_test_results_extrapolation_smiles.pkl\", extrapolation_test_results)"
   ]
  },
  {
   "cell_type": "code",
   "execution_count": 66,
   "metadata": {},
   "outputs": [],
   "source": [
    "smiles_500_extrapolation_sets = []\n",
    "\n",
    "for res in extrapolation_test_results:\n",
    "    result = {}\n",
    "    result[\"temperature\"] = res[\"meta\"][\"temperature\"]\n",
    "    result[\"smiles\"] = set(\n",
    "        res[\"predictions\"][res[\"valid_smiles\"]]\n",
    "    )\n",
    "    result['original_prediction_indices'] = [i for i, x in enumerate(res[\"predictions\"]) if x in result['smiles']]\n",
    "    result['expected'] = [res['expectations'][i] for i in result['original_prediction_indices']]\n",
    "    smiles_500_extrapolation_sets.append(result)\n",
    "\n",
    "for res in smiles_500_extrapolation_sets:\n",
    "    temp = res[\"temperature\"]\n",
    "    smiles_set = res[\"smiles\"]\n",
    "    with open(f\"for_xtb_opt/{timestamp}_smiles_500_extrapolation_sets_{temp}.txt\", \"w\") as f:\n",
    "        for i, smiles in enumerate(smiles_set):\n",
    "            if i != len(smiles_set) - 1:\n",
    "                f.write(smiles + \"\\n\")\n",
    "            else:\n",
    "                f.write(smiles)"
   ]
  },
  {
   "cell_type": "code",
   "execution_count": 132,
   "metadata": {},
   "outputs": [],
   "source": [
    "extrapolation_xtb_results = get_xtb_results('2022-11-30-23-07-49_smiles_500_extrapolation_sets', smiles_500_extrapolation_sets)\n",
    "save_pickle('run_files/2022-12-01-extrapolation-xtb-results', extrapolation_xtb_results)"
   ]
  },
  {
   "cell_type": "code",
   "execution_count": 121,
   "metadata": {},
   "outputs": [
    {
     "data": {
      "text/plain": [
       "2.586887084444036"
      ]
     },
     "execution_count": 121,
     "metadata": {},
     "output_type": "execute_result"
    }
   ],
   "source": [
    "np.mean(data['GFN2_HOMO_LUMO_GAP'] * 27.2114)"
   ]
  },
  {
   "cell_type": "code",
   "execution_count": 173,
   "metadata": {},
   "outputs": [
    {
     "name": "stdout",
     "output_type": "stream",
     "text": [
      "Extrpolation set 0 mean: 3.4055332145659998 eV | predicted 4.15\n",
      "Extrpolation set 1 mean: 2.7845654715010113 eV | predicted 4.146067415730337\n",
      "Extrpolation set 2 mean: 2.889449617305927 eV | predicted 4.020967741935484\n",
      "Extrpolation set 3 mean: 2.558864969657011 eV | predicted 4.1177777777777775\n",
      "Extrpolation set 4 mean: 2.43745803187226 eV | predicted 3.974\n",
      "Extrpolation set 5 mean: nan eV | predicted 4.116666666666667\n",
      "Extrpolation set 6 mean: 6.318654269044667 eV | predicted 4.333333333333333\n"
     ]
    },
    {
     "data": {
      "image/png": "[encoded data removed]",
      "text/plain": [
       "<Figure size 700x500 with 14 Axes>"
      ]
     },
     "metadata": {},
     "output_type": "display_data"
    }
   ],
   "source": [
    "\n",
    "fig, ax = plt.subplots(2,7, figsize=(7,5), sharex='all', sharey='all')\n",
    "temperatures = [0, 0.25, 0.5, 0.75, 1.0, 1.25, 1.5]\n",
    "# for i in range(7):\n",
    "#     sns.distplot(train_set_random['GFN2_HOMO_LUMO_GAP'] * 27.2114, ax=ax[0,i], color='gray',)\n",
    "#     sns.distplot(random_bandgaps *  27.2114, ax=ax[0][i], kde_kws={\"cut\":0}, label='queried')  \n",
    "#     sns.distplot(random_xtb_results[i]['predicted'], ax=ax[0][i], kde_kws={\"cut\":0}, label='predicted')\n",
    "#     print(f'Random set {i} mean: {np.mean(random_xtb_results[i][\"predicted\"])} eV | predicted {np.mean(random_xtb_results[i][\"true\"])}' )\n",
    "    \n",
    "\n",
    "\n",
    "\n",
    "for i in range(7):\n",
    "    sns.distplot(train_set_random['GFN2_HOMO_LUMO_GAP'] * 27.2114, ax=ax[0,i], color='gray',)\n",
    "    sns.distplot(random_bandgaps* 27.2114, ax=ax[0][i], kde_kws={\"cut\":0}, label='queried')   \n",
    "    sns.distplot(random_biased_xtb_results[i]['predicted'], ax=ax[0][i], kde_kws={\"cut\":0}, label='predicted')\n",
    "    \n",
    "\n",
    "for i in range(7):\n",
    "    sns.distplot(train_set_random['GFN2_HOMO_LUMO_GAP'] * 27.2114, ax=ax[1,i], color='gray',)\n",
    "    sns.distplot(random_bandgaps* 27.2114, ax=ax[1][i], kde_kws={\"cut\":0}, label='queried')   \n",
    "    sns.distplot(extrapolation_xtb_results[i]['predicted'], ax=ax[1][i], kde_kws={\"cut\":0}, label='predicted')\n",
    "    print(f'Extrpolation set {i} mean: {np.mean(extrapolation_xtb_results[i][\"predicted\"])} eV | predicted {np.mean(extrapolation_xtb_results[i][\"true\"])}' )\n",
    "    \n",
    "\n",
    "\n",
    "ax[0][0].set_ylabel('random')\n",
    "ax[0][0].set_ylabel('random train split')\n",
    "ax[1][0].set_ylabel('extrapolation')\n",
    "\n",
    "ax[0][0].set_ylim(0, 1.4)\n",
    "ax[0][0].set_xlim(1, 5)\n",
    "\n",
    "fig.show()\n",
    "\n",
    "ax[0,0].legend(handletextpad=0)\n",
    "\n",
    "\n",
    "for i in range(7):\n",
    "    ax[-1][i].set_xlabel('gap / eV')\n",
    "\n",
    "for i, temp in enumerate(temperatures):\n",
    "    ax[0][i].set_title(f\"{temp}\")\n",
    "\n",
    "for row in range(2):\n",
    "    for col in range(7):\n",
    "        ax[row][col].vlines(3.5, 0, 1.4, color='k', alpha=.5)\n",
    "\n",
    "fig.tight_layout()\n",
    "fig.savefig('20221201_predicted_gap_distributions_biased_extrapolation_sampling.pdf', bbox_inches='tight')"
   ]
  },
  {
   "cell_type": "code",
   "execution_count": 175,
   "metadata": {},
   "outputs": [
    {
     "data": {
      "text/plain": [
       "<matplotlib.legend.Legend at 0x368758c70>"
      ]
     },
     "execution_count": 175,
     "metadata": {},
     "output_type": "execute_result"
    },
    {
     "data": {
      "image/png": "[encoded data removed]",
      "text/plain": [
       "<Figure size 330x250 with 3 Axes>"
      ]
     },
     "metadata": {},
     "output_type": "display_data"
    }
   ],
   "source": [
    "fig, ax = plt.subplots(1, 3)\n",
    "for i in range(3):\n",
    "    sns.distplot(train_set_random['GFN2_HOMO_LUMO_GAP'].values * 27.2114, ax=ax[i])\n",
    "    sns.distplot(random_bandgaps* 27.2114, ax=ax[i], kde_kws={\"cut\":0}, label='queried')   \n",
    "    sns.distplot(random_biased_low_temp_xtb_results[i]['predicted'], ax=ax[i], kde_kws={\"cut\":0}, label='predicted')\n",
    "\n",
    "ax[0].legend()"
   ]
  },
  {
   "cell_type": "markdown",
   "metadata": {},
   "source": [
    "## Make again a diversity analysis"
   ]
  },
  {
   "cell_type": "code",
   "execution_count": 109,
   "metadata": {},
   "outputs": [],
   "source": [
    "def get_sa_scores(smiles):\n",
    "    sa_scores = []\n",
    "    for smiles in smiles:\n",
    "        try:\n",
    "            mol = Chem.MolFromSmiles(smiles)\n",
    "            sa_scores.append(calculate_sascore(mol))\n",
    "        except: \n",
    "            pass\n",
    "    return sa_scores"
   ]
  },
  {
   "cell_type": "code",
   "execution_count": 111,
   "metadata": {},
   "outputs": [],
   "source": [
    "diversity_metrics = []\n",
    "\n",
    "for res in random_test_results: \n",
    "    sa_scores = get_sa_scores(res['predictions'][res['valid_smiles']])\n",
    "    metrics = {\n",
    "        'temperature': res['meta']['temperature'],\n",
    "        'kl_divergence': res['kl_divergence'],\n",
    "        'unique_smiles': res['unique_smiles'],\n",
    "        'fcd': res['frechet_chemnet'][0],\n",
    "        'valid_smiles': res['fractions_valid_smiles'], \n",
    "        'smiles_in_train': res['fractions_smiles_in_train'],\n",
    "        'sampling': \"random\",\n",
    "        'mean_sa_score': np.mean(sa_scores),\n",
    "    }\n",
    "\n",
    "    diversity_metrics.append(metrics)\n",
    "\n",
    "for res in extrapolation_test_results: \n",
    "    sa_scores = get_sa_scores(res['predictions'][res['valid_smiles']])\n",
    "    metrics = {\n",
    "        'temperature': res['meta']['temperature'],\n",
    "        'kl_divergence': res['kl_divergence'],\n",
    "        'unique_smiles': res['unique_smiles'],\n",
    "        'fcd': res['frechet_chemnet'][0],\n",
    "        'valid_smiles': res['fractions_valid_smiles'], \n",
    "        'smiles_in_train': res['fractions_smiles_in_train'],\n",
    "        'sampling': \"extrapolation\",\n",
    "         'mean_sa_score': np.mean(sa_scores),\n",
    "    }\n",
    "\n",
    "    diversity_metrics.append(metrics)\n",
    "\n"
   ]
  },
  {
   "cell_type": "code",
   "execution_count": 112,
   "metadata": {},
   "outputs": [],
   "source": [
    "diversity_metrics = pd.DataFrame(diversity_metrics)"
   ]
  },
  {
   "cell_type": "code",
   "execution_count": 119,
   "metadata": {},
   "outputs": [
    {
     "data": {
      "image/png": "[encoded data removed]",
      "text/plain": [
       "<Figure size 252x432 with 5 Axes>"
      ]
     },
     "metadata": {},
     "output_type": "display_data"
    }
   ],
   "source": [
    "fig, ax = plt.subplots(5,1, sharex='all', figsize=(3.5, 6))\n",
    "\n",
    "for sampling in [\"random\", \"extrapolation\"]:\n",
    "    subset = diversity_metrics[diversity_metrics['sampling'] == sampling]\n",
    "    ax[0].plot(subset['temperature'], subset['kl_divergence'], label=train_size)\n",
    "\n",
    "for sampling in [\"random\", \"extrapolation\"]:\n",
    "    subset = diversity_metrics[diversity_metrics['sampling'] == sampling]\n",
    "    ax[1].plot(subset['temperature'], subset['fcd'], label=train_size)\n",
    "\n",
    "\n",
    "for sampling in [\"random\", \"extrapolation\"]:\n",
    "    subset = diversity_metrics[diversity_metrics['sampling'] == sampling]\n",
    "    ax[2].plot(subset['temperature'], subset['valid_smiles'], label=train_size)\n",
    "\n",
    "\n",
    "for sampling in [\"random\", \"extrapolation\"]:\n",
    "    subset = diversity_metrics[diversity_metrics['sampling'] == sampling]\n",
    "    ax[3].plot(subset['temperature'], subset['unique_smiles'], label=train_size)\n",
    "\n",
    "for sampling in [\"random\", \"extrapolation\"]:\n",
    "    subset = diversity_metrics[diversity_metrics['sampling'] == sampling]\n",
    "    ax[4].plot(subset['temperature'], subset['mean_sa_score'], label=train_size)\n",
    "\n",
    "ax[0].set_ylabel('KL divergence')\n",
    "ax[1].set_ylabel('Fréchet ChemNet Distance')\n",
    "ax[2].set_ylabel('Fraction valid SMILES')\n",
    "ax[3].set_ylabel('unique SMILES')\n",
    "ax[4].set_ylabel('SA score')\n",
    "\n",
    "\n",
    "ax[0].legend(title='sampling')\n",
    "ax[-1].set_xlabel('temperature')\n",
    "fig.tight_layout()"
   ]
  },
  {
   "cell_type": "code",
   "execution_count": null,
   "metadata": {},
   "outputs": [],
   "source": []
  }
 ],
 "metadata": {
  "kernelspec": {
   "display_name": "Python 3.9.13 ('gpt3')",
   "language": "python",
   "name": "python3"
  },
  "language_info": {
   "codemirror_mode": {
    "name": "ipython",
    "version": 3
   },
   "file_extension": ".py",
   "mimetype": "text/x-python",
   "name": "python",
   "nbconvert_exporter": "python",
   "pygments_lexer": "ipython3",
   "version": "3.9.13"
  },
  "orig_nbformat": 4,
  "vscode": {
   "interpreter": {
    "hash": "9a4fa60962de90e73b5da8d67a44b01d2de04630d82b94b8db1f727a73d31e61"
   }
  }
 },
 "nbformat": 4,
 "nbformat_minor": 2
}
