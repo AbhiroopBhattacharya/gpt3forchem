{
 "cells": [
  {
   "cell_type": "markdown",
   "metadata": {},
   "source": [
    "# Testing how well we can predict extreme bandgaps using inverse design"
   ]
  },
  {
   "cell_type": "code",
   "execution_count": 43,
   "metadata": {},
   "outputs": [],
   "source": [
    "from gpt3forchem.data import get_bandgap_data\n",
    "import pandas as pd \n",
    "import matplotlib.pyplot as plt \n",
    "import seaborn as sns\n",
    "plt.style.use(['science', 'nature'])\n",
    "\n",
    "from sklearn.model_selection import train_test_split\n",
    "\n",
    "from gpt3forchem.api_wrappers import query_gpt3, extract_prediction, extract_inverse_prediction, fine_tune\n",
    "from gpt3forchem.output import test_inverse_bandgap\n",
    "\n",
    "import time\n",
    "\n",
    "from fastcore.helpers import save_pickle\n",
    "\n",
    "import numpy as np"
   ]
  },
  {
   "cell_type": "code",
   "execution_count": 4,
   "metadata": {},
   "outputs": [],
   "source": [
    "data = get_bandgap_data()"
   ]
  },
  {
   "cell_type": "code",
   "execution_count": 15,
   "metadata": {},
   "outputs": [],
   "source": [
    "random_bandgaps = np.random.normal(4.0, 0.5, size=300)"
   ]
  },
  {
   "cell_type": "code",
   "execution_count": 16,
   "metadata": {},
   "outputs": [
    {
     "name": "stderr",
     "output_type": "stream",
     "text": [
      "/Users/kevinmaikjablonka/miniconda3/envs/gpt3/lib/python3.9/site-packages/seaborn/distributions.py:2619: FutureWarning: `distplot` is a deprecated function and will be removed in a future version. Please adapt your code to use either `displot` (a figure-level function with similar flexibility) or `histplot` (an axes-level function for histograms).\n",
      "  warnings.warn(msg, FutureWarning)\n",
      "/Users/kevinmaikjablonka/miniconda3/envs/gpt3/lib/python3.9/site-packages/seaborn/distributions.py:2619: FutureWarning: `distplot` is a deprecated function and will be removed in a future version. Please adapt your code to use either `displot` (a figure-level function with similar flexibility) or `histplot` (an axes-level function for histograms).\n",
      "  warnings.warn(msg, FutureWarning)\n"
     ]
    },
    {
     "data": {
      "text/plain": [
       "<matplotlib.collections.LineCollection at 0x282b69df0>"
      ]
     },
     "execution_count": 16,
     "metadata": {},
     "output_type": "execute_result"
    },
    {
     "data": {
      "image/png": "[encoded data removed]",
      "text/plain": [
       "<Figure size 237.6x180 with 1 Axes>"
      ]
     },
     "metadata": {},
     "output_type": "display_data"
    }
   ],
   "source": [
    "fig, ax = plt.subplots()\n",
    "sns.distplot(data['GFN2_HOMO_LUMO_GAP'] * 27.2114, ax=ax)\n",
    "sns.distplot(random_bandgaps, ax=ax)\n",
    "ax.vlines(3.5, 0, 1.0, color='red')"
   ]
  },
  {
   "cell_type": "markdown",
   "metadata": {},
   "source": [
    "Let's try this in two settings: (1) we try to use the little data we have to predict the biased distribution and (2) we completely ignore all training data above 3.5 eV and try to predict the unbiased distribution."
   ]
  },
  {
   "cell_type": "markdown",
   "metadata": {},
   "source": [
    "## Random split and biased test set"
   ]
  },
  {
   "cell_type": "code",
   "execution_count": 26,
   "metadata": {},
   "outputs": [],
   "source": [
    "train_set_random, test_set_random = train_test_split(data, train_size=1_000, test_size=200, random_state=42)"
   ]
  },
  {
   "cell_type": "code",
   "execution_count": 27,
   "metadata": {},
   "outputs": [],
   "source": [
    "PROMPT_TEMPLATE_bandgap_inverse = \"What is a molecule with a bandgap of {} eV###\"\n",
    "COMPLETION_TEMPLATE_bandgap_inverse = \"{}@@@\"\n",
    "\n",
    "\n",
    "def generate_inverse_photoswitch_prompts(\n",
    "    data: pd.DataFrame, representation: str = \"smiles\"\n",
    ") -> pd.DataFrame:\n",
    "    prompts = []\n",
    "    completions = []\n",
    "    smiles = []\n",
    "    for i, row in data.iterrows():\n",
    "\n",
    "        prompt = PROMPT_TEMPLATE_bandgap_inverse.format(\n",
    "            np.round(row[\"GFN2_HOMO_LUMO_GAP\"] * 27.2114, 1)\n",
    "        )\n",
    "\n",
    "        completion = COMPLETION_TEMPLATE_bandgap_inverse.format(row[representation])\n",
    "        prompts.append(prompt)\n",
    "        completions.append(completion)\n",
    "        smiles.append(row[\"smiles\"])\n",
    "\n",
    "    prompts = pd.DataFrame(\n",
    "        {\"prompt\": prompts, \"completion\": completions, \"SMILES\": smiles}\n",
    "    )\n",
    "\n",
    "    return prompts"
   ]
  },
  {
   "cell_type": "code",
   "execution_count": 29,
   "metadata": {},
   "outputs": [],
   "source": [
    "train_prompts_random = generate_inverse_photoswitch_prompts(train_set_random)\n",
    "\n",
    "test_prompts_random = generate_inverse_photoswitch_prompts(test_set_random)"
   ]
  },
  {
   "cell_type": "code",
   "execution_count": 25,
   "metadata": {},
   "outputs": [
    {
     "data": {
      "text/html": [
       "<div>\n",
       "<style scoped>\n",
       "    .dataframe tbody tr th:only-of-type {\n",
       "        vertical-align: middle;\n",
       "    }\n",
       "\n",
       "    .dataframe tbody tr th {\n",
       "        vertical-align: top;\n",
       "    }\n",
       "\n",
       "    .dataframe thead th {\n",
       "        text-align: right;\n",
       "    }\n",
       "</style>\n",
       "<table border=\"1\" class=\"dataframe\">\n",
       "  <thead>\n",
       "    <tr style=\"text-align: right;\">\n",
       "      <th></th>\n",
       "      <th>prompt</th>\n",
       "      <th>completion</th>\n",
       "      <th>SMILES</th>\n",
       "    </tr>\n",
       "  </thead>\n",
       "  <tbody>\n",
       "    <tr>\n",
       "      <th>0</th>\n",
       "      <td>What is a molecule with a bandgap of 2.9 eV###</td>\n",
       "      <td>[H]c1nc([C@]2([H])C(=O)N(C([H])([H])[H])C(C([H...</td>\n",
       "      <td>[H]c1nc([C@]2([H])C(=O)N(C([H])([H])[H])C(C([H...</td>\n",
       "    </tr>\n",
       "    <tr>\n",
       "      <th>1</th>\n",
       "      <td>What is a molecule with a bandgap of 1.6 eV###</td>\n",
       "      <td>[H]c1nc(N([H])c2c([H])c(Cl)c(C(=O)N([H])[C@]3(...</td>\n",
       "      <td>[H]c1nc(N([H])c2c([H])c(Cl)c(C(=O)N([H])[C@]3(...</td>\n",
       "    </tr>\n",
       "    <tr>\n",
       "      <th>2</th>\n",
       "      <td>What is a molecule with a bandgap of 2.3 eV###</td>\n",
       "      <td>[H]/C(=C(/[H])C([H])([H])n1c(-c2c([H])c([H])c(...</td>\n",
       "      <td>[H]/C(=C(/[H])C([H])([H])n1c(-c2c([H])c([H])c(...</td>\n",
       "    </tr>\n",
       "    <tr>\n",
       "      <th>3</th>\n",
       "      <td>What is a molecule with a bandgap of 1.7 eV###</td>\n",
       "      <td>[H]c1c([H])c(-c2c([H])c([H])c(N([H])C(=O)c3c([...</td>\n",
       "      <td>[H]c1c([H])c(-c2c([H])c([H])c(N([H])C(=O)c3c([...</td>\n",
       "    </tr>\n",
       "    <tr>\n",
       "      <th>4</th>\n",
       "      <td>What is a molecule with a bandgap of 1.9 eV###</td>\n",
       "      <td>[H]c1nc(-n2nc(N([H])c3c([H])c([H])c(C4([H])C([...</td>\n",
       "      <td>[H]c1nc(-n2nc(N([H])c3c([H])c([H])c(C4([H])C([...</td>\n",
       "    </tr>\n",
       "    <tr>\n",
       "      <th>...</th>\n",
       "      <td>...</td>\n",
       "      <td>...</td>\n",
       "      <td>...</td>\n",
       "    </tr>\n",
       "    <tr>\n",
       "      <th>495</th>\n",
       "      <td>What is a molecule with a bandgap of 2.4 eV###</td>\n",
       "      <td>[H]OC(=O)c1c(N([H])S(=O)(=O)c2c([H])c([H])c([H...</td>\n",
       "      <td>[H]OC(=O)c1c(N([H])S(=O)(=O)c2c([H])c([H])c([H...</td>\n",
       "    </tr>\n",
       "    <tr>\n",
       "      <th>496</th>\n",
       "      <td>What is a molecule with a bandgap of 3.6 eV###</td>\n",
       "      <td>[H]N1C([H])([H])C([H])([H])N(C([H])([H])C(=O)N...</td>\n",
       "      <td>[H]N1C([H])([H])C([H])([H])N(C([H])([H])C(=O)N...</td>\n",
       "    </tr>\n",
       "    <tr>\n",
       "      <th>497</th>\n",
       "      <td>What is a molecule with a bandgap of 0.7 eV###</td>\n",
       "      <td>[H]c1nc(N([H])c2c([H])c([H])c(F)c(Cl)c2[H])c2c...</td>\n",
       "      <td>[H]c1nc(N([H])c2c([H])c([H])c(F)c(Cl)c2[H])c2c...</td>\n",
       "    </tr>\n",
       "    <tr>\n",
       "      <th>498</th>\n",
       "      <td>What is a molecule with a bandgap of 1.7 eV###</td>\n",
       "      <td>[H]C([H])=C([H])C(=O)N([H])c1c([H])c([H])c([H]...</td>\n",
       "      <td>[H]C([H])=C([H])C(=O)N([H])c1c([H])c([H])c([H]...</td>\n",
       "    </tr>\n",
       "    <tr>\n",
       "      <th>499</th>\n",
       "      <td>What is a molecule with a bandgap of 2.0 eV###</td>\n",
       "      <td>[H]c1c([H])c(OC([H])([H])[H])c([H])c(C([H])([H...</td>\n",
       "      <td>[H]c1c([H])c(OC([H])([H])[H])c([H])c(C([H])([H...</td>\n",
       "    </tr>\n",
       "  </tbody>\n",
       "</table>\n",
       "<p>500 rows × 3 columns</p>\n",
       "</div>"
      ],
      "text/plain": [
       "                                             prompt  \\\n",
       "0    What is a molecule with a bandgap of 2.9 eV###   \n",
       "1    What is a molecule with a bandgap of 1.6 eV###   \n",
       "2    What is a molecule with a bandgap of 2.3 eV###   \n",
       "3    What is a molecule with a bandgap of 1.7 eV###   \n",
       "4    What is a molecule with a bandgap of 1.9 eV###   \n",
       "..                                              ...   \n",
       "495  What is a molecule with a bandgap of 2.4 eV###   \n",
       "496  What is a molecule with a bandgap of 3.6 eV###   \n",
       "497  What is a molecule with a bandgap of 0.7 eV###   \n",
       "498  What is a molecule with a bandgap of 1.7 eV###   \n",
       "499  What is a molecule with a bandgap of 2.0 eV###   \n",
       "\n",
       "                                            completion  \\\n",
       "0    [H]c1nc([C@]2([H])C(=O)N(C([H])([H])[H])C(C([H...   \n",
       "1    [H]c1nc(N([H])c2c([H])c(Cl)c(C(=O)N([H])[C@]3(...   \n",
       "2    [H]/C(=C(/[H])C([H])([H])n1c(-c2c([H])c([H])c(...   \n",
       "3    [H]c1c([H])c(-c2c([H])c([H])c(N([H])C(=O)c3c([...   \n",
       "4    [H]c1nc(-n2nc(N([H])c3c([H])c([H])c(C4([H])C([...   \n",
       "..                                                 ...   \n",
       "495  [H]OC(=O)c1c(N([H])S(=O)(=O)c2c([H])c([H])c([H...   \n",
       "496  [H]N1C([H])([H])C([H])([H])N(C([H])([H])C(=O)N...   \n",
       "497  [H]c1nc(N([H])c2c([H])c([H])c(F)c(Cl)c2[H])c2c...   \n",
       "498  [H]C([H])=C([H])C(=O)N([H])c1c([H])c([H])c([H]...   \n",
       "499  [H]c1c([H])c(OC([H])([H])[H])c([H])c(C([H])([H...   \n",
       "\n",
       "                                                SMILES  \n",
       "0    [H]c1nc([C@]2([H])C(=O)N(C([H])([H])[H])C(C([H...  \n",
       "1    [H]c1nc(N([H])c2c([H])c(Cl)c(C(=O)N([H])[C@]3(...  \n",
       "2    [H]/C(=C(/[H])C([H])([H])n1c(-c2c([H])c([H])c(...  \n",
       "3    [H]c1c([H])c(-c2c([H])c([H])c(N([H])C(=O)c3c([...  \n",
       "4    [H]c1nc(-n2nc(N([H])c3c([H])c([H])c(C4([H])C([...  \n",
       "..                                                 ...  \n",
       "495  [H]OC(=O)c1c(N([H])S(=O)(=O)c2c([H])c([H])c([H...  \n",
       "496  [H]N1C([H])([H])C([H])([H])N(C([H])([H])C(=O)N...  \n",
       "497  [H]c1nc(N([H])c2c([H])c([H])c(F)c(Cl)c2[H])c2c...  \n",
       "498  [H]C([H])=C([H])C(=O)N([H])c1c([H])c([H])c([H]...  \n",
       "499  [H]c1c([H])c(OC([H])([H])[H])c([H])c(C([H])([H...  \n",
       "\n",
       "[500 rows x 3 columns]"
      ]
     },
     "execution_count": 25,
     "metadata": {},
     "output_type": "execute_result"
    }
   ],
   "source": [
    "train_prompts_random"
   ]
  },
  {
   "cell_type": "code",
   "execution_count": 34,
   "metadata": {},
   "outputs": [],
   "source": [
    "train_size = len(train_set_random)\n",
    "\n",
    "filename_base = time.strftime(\"%Y-%m-%d-%H-%M-%S\", time.localtime())\n",
    "train_filename_random = f\"run_files/{filename_base}_train_prompts_bandgap_inverse_smiles_{train_size}.jsonl\"\n",
    "\n",
    "train_prompts_random.to_json(train_filename_random, orient=\"records\", lines=True)\n",
    "\n",
    "\n",
    "valid_filename_random = f\"run_files/{filename_base}_valid_prompts_bandgap_inverse_smiles_{train_size}.jsonl\"\n",
    "test_prompts_random.to_json(valid_filename_random, orient=\"records\", lines=True)"
   ]
  },
  {
   "cell_type": "code",
   "execution_count": 35,
   "metadata": {},
   "outputs": [
    {
     "name": "stdout",
     "output_type": "stream",
     "text": [
      "Fine-tune ft-KBzV2aU0bJBTSK3GKV6vggJG has the status \"running\" and will not be logged\n",
      "🎉 wandb sync completed successfully\n"
     ]
    }
   ],
   "source": [
    "modelname_random = fine_tune(train_filename_random, valid_filename_random)   "
   ]
  },
  {
   "cell_type": "code",
   "execution_count": 37,
   "metadata": {},
   "outputs": [],
   "source": [
    "def test_inverse_model(\n",
    "    modelname,\n",
    "    test_prompts,\n",
    "    df_train,\n",
    "    max_tokens: int = 250,\n",
    "    temperatures=None,\n",
    "    representation=\"SMILES\",\n",
    "):\n",
    "    temperatures = temperatures or [0, 0.25, 0.5, 0.75, 1.0, 1.25, 1.5]\n",
    "    train_smiles = df_train[\"SMILES\"].to_list()\n",
    "    results = []\n",
    "    for temperature in temperatures:\n",
    "        try:\n",
    "            print(f\"Testing temperature {temperature} for {representation}\")\n",
    "            result = test_inverse_bandgap(\n",
    "                test_prompts,\n",
    "                modelname,\n",
    "                train_smiles=train_smiles,\n",
    "                temperature=temperature,\n",
    "                max_tokens=max_tokens,\n",
    "                representation=representation,\n",
    "            )\n",
    "\n",
    "            results.append(result)\n",
    "        except Exception as e:\n",
    "            print(e)\n",
    "            pass\n",
    "\n",
    "    return results"
   ]
  },
  {
   "cell_type": "code",
   "execution_count": 42,
   "metadata": {},
   "outputs": [
    {
     "name": "stdout",
     "output_type": "stream",
     "text": [
      "Testing temperature 0 for SMILES\n"
     ]
    },
    {
     "name": "stderr",
     "output_type": "stream",
     "text": [
      "2022-11-30 22:36:49.814 | DEBUG    | gpt3forchem.output:test_inverse_bandgap:931 - Got predictions, example: [H]c1c([H])c([H])c(C([H])([H])N([H])C(=O)c2c([H])c([H])c(C([H])([H])[H])c([H])c2[H])c([H])c1[H]\n",
      "2022-11-30 22:36:49.819 | DEBUG    | gpt3forchem.output:test_inverse_bandgap:942 - Loaded predictions. Example: [H]c1c([H])c([H])c(C([H])([H])N([H])C(=O)c2c([H])c([H])c(C([H])([H])[H])c([H])c2[H])c([H])c1[H]\n",
      "2022-11-30 22:36:49.861 | DEBUG    | gpt3forchem.output:test_inverse_bandgap:953 - Calculating Frechet ChemNet distance for 200 samples\n",
      "2022-11-30 22:36:50.178 | INFO     | gpt3forchem.output:_load_chemnet:218 - Saved ChemNet model to '/var/folders/m9/_txh68y946s4pxy1x2wnd3lh0000gn/T/ChemNet_v0.13_pretrained.h5'\n",
      "2022-11-30 22:38:15.489 | DEBUG    | gpt3forchem.output:test_inverse_bandgap:962 - Computed frechet score: (81.16275694474034, 8.918514126808853e-08)\n",
      "2022-11-30 22:38:16.252 | DEBUG    | gpt3forchem.output:test_inverse_bandgap:973 - Computed KL div score: 0.2915397151217557\n"
     ]
    },
    {
     "name": "stdout",
     "output_type": "stream",
     "text": [
      "Testing temperature 0.25 for SMILES\n"
     ]
    },
    {
     "name": "stderr",
     "output_type": "stream",
     "text": [
      "2022-11-30 22:39:26.259 | DEBUG    | gpt3forchem.output:test_inverse_bandgap:931 - Got predictions, example: [H]c1c([H])c([H])c(C([H])([H])N([H])C(=O)c2c([H])c([H])c(C([H])([H])[H])c([H])c2[H])c([H])c1[H]\n",
      "2022-11-30 22:39:26.262 | DEBUG    | gpt3forchem.output:test_inverse_bandgap:942 - Loaded predictions. Example: [H]c1c([H])c([H])c(C([H])([H])N([H])C(=O)c2c([H])c([H])c(C([H])([H])[H])c([H])c2[H])c([H])c1[H]\n",
      "2022-11-30 22:39:26.304 | DEBUG    | gpt3forchem.output:test_inverse_bandgap:953 - Calculating Frechet ChemNet distance for 142 samples\n",
      "2022-11-30 22:39:26.527 | INFO     | gpt3forchem.output:_load_chemnet:218 - Saved ChemNet model to '/var/folders/m9/_txh68y946s4pxy1x2wnd3lh0000gn/T/ChemNet_v0.13_pretrained.h5'\n",
      "2022-11-30 22:40:00.127 | DEBUG    | gpt3forchem.output:test_inverse_bandgap:962 - Computed frechet score: (41.89966872982133, 0.00022942514529373565)\n",
      "2022-11-30 22:40:00.863 | DEBUG    | gpt3forchem.output:test_inverse_bandgap:973 - Computed KL div score: 0.17189881425441497\n"
     ]
    },
    {
     "name": "stdout",
     "output_type": "stream",
     "text": [
      "Testing temperature 0.5 for SMILES\n"
     ]
    },
    {
     "name": "stderr",
     "output_type": "stream",
     "text": [
      "2022-11-30 22:41:11.015 | DEBUG    | gpt3forchem.output:test_inverse_bandgap:931 - Got predictions, example: [H]c1c([H])c(C([H])([H])[H])c([H])c(N([H])C(=O)N([H])c2c([H])c([H])c([H])c([H])c2C([H])([H])[H])c1[H]\n",
      "2022-11-30 22:41:11.016 | DEBUG    | gpt3forchem.output:test_inverse_bandgap:942 - Loaded predictions. Example: [H]c1c([H])c(C([H])([H])[H])c([H])c(N([H])C(=O)N([H])c2c([H])c([H])c([H])c([H])c2C([H])([H])[H])c1[H]\n",
      "2022-11-30 22:41:11.067 | DEBUG    | gpt3forchem.output:test_inverse_bandgap:953 - Calculating Frechet ChemNet distance for 122 samples\n",
      "2022-11-30 22:41:11.342 | INFO     | gpt3forchem.output:_load_chemnet:218 - Saved ChemNet model to '/var/folders/m9/_txh68y946s4pxy1x2wnd3lh0000gn/T/ChemNet_v0.13_pretrained.h5'\n",
      "2022-11-30 22:42:06.091 | DEBUG    | gpt3forchem.output:test_inverse_bandgap:962 - Computed frechet score: (28.65400579895571, 0.0032444768476936957)\n",
      "2022-11-30 22:42:06.822 | DEBUG    | gpt3forchem.output:test_inverse_bandgap:973 - Computed KL div score: 0.36657096986521653\n"
     ]
    },
    {
     "name": "stdout",
     "output_type": "stream",
     "text": [
      "Testing temperature 0.75 for SMILES\n"
     ]
    },
    {
     "name": "stderr",
     "output_type": "stream",
     "text": [
      "2022-11-30 22:43:16.125 | DEBUG    | gpt3forchem.output:test_inverse_bandgap:931 - Got predictions, example: [H]/N=C(/c1nc([H])c([H])c([H])c1[H])N(C([H])([H])C([H])([H])C([H])([H])C([H])([H])C([H])([H])C([H])([H])C([H])([H])C([H])([H])C([H])([H])C([H])([H])C([H])([H])C([H])([H])C([H])([H])C([H])([H])C([H])([H])C([H])([H])C([H])([H])C([H])([H])C([H])([H])C([H])([H])C([H])([H])C([H])([H])C([H])([H])[H]\n",
      "2022-11-30 22:43:16.125 | DEBUG    | gpt3forchem.output:test_inverse_bandgap:942 - Loaded predictions. Example: [H]/N=C(/c1nc([H])c([H])c([H])c1[H])N(C([H])([H])C([H])([H])C([H])([H])C([H])([H])C([H])([H])C([H])([H])C([H])([H])C([H])([H])C([H])([H])C([H])([H])C([H])([H])C([H])([H])C([H])([H])C([H])([H])C([H])([H])C([H])([H])C([H])([H])C([H])([H])C([H])([H])C([H])([H])C([H])([H])C([H])([H])C([H])([H])[H]\n",
      "2022-11-30 22:43:16.188 | DEBUG    | gpt3forchem.output:test_inverse_bandgap:953 - Calculating Frechet ChemNet distance for 97 samples\n",
      "2022-11-30 22:43:16.410 | INFO     | gpt3forchem.output:_load_chemnet:218 - Saved ChemNet model to '/var/folders/m9/_txh68y946s4pxy1x2wnd3lh0000gn/T/ChemNet_v0.13_pretrained.h5'\n",
      "2022-11-30 22:44:28.152 | DEBUG    | gpt3forchem.output:test_inverse_bandgap:962 - Computed frechet score: (24.995954907595838, 0.006743400328355237)\n",
      "2022-11-30 22:44:28.755 | DEBUG    | gpt3forchem.output:test_inverse_bandgap:973 - Computed KL div score: 0.5063215761724883\n"
     ]
    },
    {
     "name": "stdout",
     "output_type": "stream",
     "text": [
      "Testing temperature 1.0 for SMILES\n"
     ]
    },
    {
     "name": "stderr",
     "output_type": "stream",
     "text": [
      "2022-11-30 22:45:38.665 | DEBUG    | gpt3forchem.output:test_inverse_bandgap:931 - Got predictions, example: [H]OC([H])([H])[C@@]([H])(C(=O)N([H])S(=O)(=O)c1c([H])c([H])c(-n2c(-c3([H])nc([H])c([H])c3[H])nc2[H])nc1[H])C([H])([H])[H]\n",
      "2022-11-30 22:45:38.666 | DEBUG    | gpt3forchem.output:test_inverse_bandgap:942 - Loaded predictions. Example: [H]OC([H])([H])[C@@]([H])(C(=O)N([H])S(=O)(=O)c1c([H])c([H])c(-n2c(-c3([H])nc([H])c([H])c3[H])nc2[H])nc1[H])C([H])([H])[H]\n",
      "2022-11-30 22:45:38.732 | DEBUG    | gpt3forchem.output:test_inverse_bandgap:953 - Calculating Frechet ChemNet distance for 54 samples\n",
      "2022-11-30 22:45:38.828 | INFO     | gpt3forchem.output:_load_chemnet:218 - Saved ChemNet model to '/var/folders/m9/_txh68y946s4pxy1x2wnd3lh0000gn/T/ChemNet_v0.13_pretrained.h5'\n",
      "2022-11-30 22:46:47.499 | DEBUG    | gpt3forchem.output:test_inverse_bandgap:962 - Computed frechet score: (30.06588195373145, 0.002446305404539369)\n",
      "2022-11-30 22:46:47.859 | DEBUG    | gpt3forchem.output:test_inverse_bandgap:973 - Computed KL div score: 0.5987282669623833\n"
     ]
    },
    {
     "name": "stdout",
     "output_type": "stream",
     "text": [
      "Testing temperature 1.25 for SMILES\n"
     ]
    },
    {
     "name": "stderr",
     "output_type": "stream",
     "text": [
      "2022-11-30 22:47:58.263 | DEBUG    | gpt3forchem.output:test_inverse_bandgap:931 - Got predictions, example: [H]Oc1c([H])c([H])c([H])c([C@]2([H])C([H])([H])[C@@]3([H])N(O[H])[C@=O]3C([H])([H])C(C([H])([H])[H])(C([H])([H])[H])[C@@]3([H])O[H])c1[H]\n",
      "2022-11-30 22:47:58.263 | DEBUG    | gpt3forchem.output:test_inverse_bandgap:942 - Loaded predictions. Example: [H]Oc1c([H])c([H])c([H])c([C@]2([H])C([H])([H])[C@@]3([H])N(O[H])[C@=O]3C([H])([H])C(C([H])([H])[H])(C([H])([H])[H])[C@@]3([H])O[H])c1[H]\n",
      "2022-11-30 22:47:58.318 | DEBUG    | gpt3forchem.output:test_inverse_bandgap:953 - Calculating Frechet ChemNet distance for 21 samples\n",
      "2022-11-30 22:47:58.461 | INFO     | gpt3forchem.output:_load_chemnet:218 - Saved ChemNet model to '/var/folders/m9/_txh68y946s4pxy1x2wnd3lh0000gn/T/ChemNet_v0.13_pretrained.h5'\n",
      "[22:48:20] WARNING: not removing hydrogen atom without neighbors\n",
      "2022-11-30 22:48:29.443 | DEBUG    | gpt3forchem.output:test_inverse_bandgap:962 - Computed frechet score: (46.90723029860626, 8.42732502266974e-05)\n",
      "2022-11-30 22:48:29.633 | DEBUG    | gpt3forchem.output:test_inverse_bandgap:973 - Computed KL div score: 0.5635804830691156\n"
     ]
    },
    {
     "name": "stdout",
     "output_type": "stream",
     "text": [
      "Testing temperature 1.5 for SMILES\n"
     ]
    },
    {
     "name": "stderr",
     "output_type": "stream",
     "text": [
      "2022-11-30 22:49:41.937 | DEBUG    | gpt3forchem.output:test_inverse_bandgap:931 - Got predictions, example: [H]c1nn2c(C(=O)N([H])C([H])([H])c3nc(N4C([H])([H])C([H])([H])N(C([H])([H])C([H])([H])SC(=O)OC5C([H])([H])[H])C([H])([H])O4)nc(-n3c3c([H])c([H])n([P]^UP)(Vert)c3[H])c3c([H])nn32)nc(N2[H])c2c([H])n2c([H])c([H])c([H])c12\n",
      "2022-11-30 22:49:41.938 | DEBUG    | gpt3forchem.output:test_inverse_bandgap:942 - Loaded predictions. Example: [H]c1nn2c(C(=O)N([H])C([H])([H])c3nc(N4C([H])([H])C([H])([H])N(C([H])([H])C([H])([H])SC(=O)OC5C([H])([H])[H])C([H])([H])O4)nc(-n3c3c([H])c([H])n([P]^UP)(Vert)c3[H])c3c([H])nn32)nc(N2[H])c2c([H])n2c([H])c([H])c([H])c12\n",
      "2022-11-30 22:49:41.975 | DEBUG    | gpt3forchem.output:test_inverse_bandgap:953 - Calculating Frechet ChemNet distance for 10 samples\n",
      "2022-11-30 22:49:42.057 | INFO     | gpt3forchem.output:_load_chemnet:218 - Saved ChemNet model to '/var/folders/m9/_txh68y946s4pxy1x2wnd3lh0000gn/T/ChemNet_v0.13_pretrained.h5'\n",
      "[22:49:50] WARNING: not removing hydrogen atom without neighbors\n",
      "[22:49:50] WARNING: not removing hydrogen atom without neighbors\n",
      "[22:49:50] WARNING: not removing hydrogen atom without neighbors\n",
      "[22:49:50] WARNING: not removing hydrogen atom without neighbors\n",
      "2022-11-30 22:51:09.978 | DEBUG    | gpt3forchem.output:test_inverse_bandgap:962 - Computed frechet score: (60.58451324932762, 5.4663324554706125e-06)\n",
      "2022-11-30 22:51:10.031 | DEBUG    | gpt3forchem.output:test_inverse_bandgap:973 - Computed KL div score: nan\n"
     ]
    }
   ],
   "source": [
    "random_test_results = test_inverse_model(modelname_random, test_prompts_random, train_prompts_random)"
   ]
  },
  {
   "cell_type": "code",
   "execution_count": 45,
   "metadata": {},
   "outputs": [],
   "source": [
    "timestamp = time.strftime('%Y-%m-%d-%H-%M-%S', time.localtime())"
   ]
  },
  {
   "cell_type": "code",
   "execution_count": 46,
   "metadata": {},
   "outputs": [],
   "source": [
    "save_pickle(f\"run_files/{timestamp}-random_test_results_extrapolation_smiles.pkl\", random_test_results)"
   ]
  },
  {
   "cell_type": "code",
   "execution_count": 47,
   "metadata": {},
   "outputs": [],
   "source": [
    "smiles_500_random_sets = []\n",
    "\n",
    "for res in random_test_results:\n",
    "    result = {}\n",
    "    result[\"temperature\"] = res[\"meta\"][\"temperature\"]\n",
    "    result[\"smiles\"] = set(\n",
    "        res[\"predictions\"][res[\"valid_smiles\"]]\n",
    "    )\n",
    "    result['original_prediction_indices'] = [i for i, x in enumerate(res[\"predictions\"]) if x in result['smiles']]\n",
    "    result['expected'] = [res['expectations'][i] for i in result['original_prediction_indices']]\n",
    "    smiles_500_random_sets.append(result)\n",
    "\n",
    "for res in smiles_500_random_sets:\n",
    "    temp = res[\"temperature\"]\n",
    "    smiles_set = res[\"smiles\"]\n",
    "    with open(f\"for_xtb_opt/{timestamp}_smiles_500_random_sets_{temp}.txt\", \"w\") as f:\n",
    "        for i, smiles in enumerate(smiles_set):\n",
    "            if i != len(smiles_set) - 1:\n",
    "                f.write(smiles + \"\\n\")\n",
    "            else:\n",
    "                f.write(smiles)"
   ]
  },
  {
   "cell_type": "markdown",
   "metadata": {},
   "source": [
    "## Extrapolation test"
   ]
  },
  {
   "cell_type": "code",
   "execution_count": 48,
   "metadata": {},
   "outputs": [],
   "source": [
    "train_set_extrapolation = data[data['GFN2_HOMO_LUMO_GAP'] * 27.2114 < 3.5].sample(1000)\n",
    "test_set_extrapolation = data[data['GFN2_HOMO_LUMO_GAP'] * 27.2114 > 3.5].sample(200)"
   ]
  },
  {
   "cell_type": "code",
   "execution_count": 53,
   "metadata": {},
   "outputs": [],
   "source": [
    "random_bandgaps = np.random.normal(4.0, 0.5, size=200) / 27.2114"
   ]
  },
  {
   "cell_type": "code",
   "execution_count": 54,
   "metadata": {},
   "outputs": [],
   "source": [
    "test_set_extrapolation['GFN2_HOMO_LUMO_GAP'] = random_bandgaps"
   ]
  },
  {
   "cell_type": "code",
   "execution_count": 55,
   "metadata": {},
   "outputs": [],
   "source": [
    "train_prompts_extrapolation = generate_inverse_photoswitch_prompts(train_set_extrapolation)\n",
    "\n",
    "test_prompts_extrapolation = generate_inverse_photoswitch_prompts(test_set_extrapolation)"
   ]
  },
  {
   "cell_type": "code",
   "execution_count": 56,
   "metadata": {},
   "outputs": [
    {
     "data": {
      "text/html": [
       "<div>\n",
       "<style scoped>\n",
       "    .dataframe tbody tr th:only-of-type {\n",
       "        vertical-align: middle;\n",
       "    }\n",
       "\n",
       "    .dataframe tbody tr th {\n",
       "        vertical-align: top;\n",
       "    }\n",
       "\n",
       "    .dataframe thead th {\n",
       "        text-align: right;\n",
       "    }\n",
       "</style>\n",
       "<table border=\"1\" class=\"dataframe\">\n",
       "  <thead>\n",
       "    <tr style=\"text-align: right;\">\n",
       "      <th></th>\n",
       "      <th>prompt</th>\n",
       "      <th>completion</th>\n",
       "      <th>SMILES</th>\n",
       "    </tr>\n",
       "  </thead>\n",
       "  <tbody>\n",
       "    <tr>\n",
       "      <th>0</th>\n",
       "      <td>What is a molecule with a bandgap of 3.6 eV###</td>\n",
       "      <td>[H]c1c([H])c2c(c([H])c1N([H])C(=O)C([H])([H])[...</td>\n",
       "      <td>[H]c1c([H])c2c(c([H])c1N([H])C(=O)C([H])([H])[...</td>\n",
       "    </tr>\n",
       "    <tr>\n",
       "      <th>1</th>\n",
       "      <td>What is a molecule with a bandgap of 4.7 eV###</td>\n",
       "      <td>[H]C1=C([H])C([H])([H])N(C(=O)c2c([H])c([H])c(...</td>\n",
       "      <td>[H]C1=C([H])C([H])([H])N(C(=O)c2c([H])c([H])c(...</td>\n",
       "    </tr>\n",
       "    <tr>\n",
       "      <th>2</th>\n",
       "      <td>What is a molecule with a bandgap of 3.9 eV###</td>\n",
       "      <td>[H]Oc1c([H])c([H])c2c3c1O[C@@]1([H])[C@]4(OC([...</td>\n",
       "      <td>[H]Oc1c([H])c([H])c2c3c1O[C@@]1([H])[C@]4(OC([...</td>\n",
       "    </tr>\n",
       "    <tr>\n",
       "      <th>3</th>\n",
       "      <td>What is a molecule with a bandgap of 3.4 eV###</td>\n",
       "      <td>[H]OC(=O)[C@@]([H])(N([H])[H])[C@@]1([H])C(F)(...</td>\n",
       "      <td>[H]OC(=O)[C@@]([H])(N([H])[H])[C@@]1([H])C(F)(...</td>\n",
       "    </tr>\n",
       "    <tr>\n",
       "      <th>4</th>\n",
       "      <td>What is a molecule with a bandgap of 3.6 eV###</td>\n",
       "      <td>[H]C1=C2N(N([H])[H])C(=O)C([H])([H])C([H])([H]...</td>\n",
       "      <td>[H]C1=C2N(N([H])[H])C(=O)C([H])([H])C([H])([H]...</td>\n",
       "    </tr>\n",
       "    <tr>\n",
       "      <th>...</th>\n",
       "      <td>...</td>\n",
       "      <td>...</td>\n",
       "      <td>...</td>\n",
       "    </tr>\n",
       "    <tr>\n",
       "      <th>195</th>\n",
       "      <td>What is a molecule with a bandgap of 3.6 eV###</td>\n",
       "      <td>[H]c1nc([H])c([H])c(N2C([H])([H])C([H])([H])N(...</td>\n",
       "      <td>[H]c1nc([H])c([H])c(N2C([H])([H])C([H])([H])N(...</td>\n",
       "    </tr>\n",
       "    <tr>\n",
       "      <th>196</th>\n",
       "      <td>What is a molecule with a bandgap of 4.3 eV###</td>\n",
       "      <td>[H]OC(=O)[C@@]1([H])N(C(=O)[C@]([H])(C([H])([H...</td>\n",
       "      <td>[H]OC(=O)[C@@]1([H])N(C(=O)[C@]([H])(C([H])([H...</td>\n",
       "    </tr>\n",
       "    <tr>\n",
       "      <th>197</th>\n",
       "      <td>What is a molecule with a bandgap of 3.8 eV###</td>\n",
       "      <td>[H]OC([H])([H])[C@](N([H])[H])(C([H])([H])OP(=...</td>\n",
       "      <td>[H]OC([H])([H])[C@](N([H])[H])(C([H])([H])OP(=...</td>\n",
       "    </tr>\n",
       "    <tr>\n",
       "      <th>198</th>\n",
       "      <td>What is a molecule with a bandgap of 4.0 eV###</td>\n",
       "      <td>[H]c1c([H])c([C@@]2([H])C([H])([H])[C@@]3([H])...</td>\n",
       "      <td>[H]c1c([H])c([C@@]2([H])C([H])([H])[C@@]3([H])...</td>\n",
       "    </tr>\n",
       "    <tr>\n",
       "      <th>199</th>\n",
       "      <td>What is a molecule with a bandgap of 3.8 eV###</td>\n",
       "      <td>[H]ON([H])C(=O)[C@@](O[H])(C([H])([H])[H])[C@]...</td>\n",
       "      <td>[H]ON([H])C(=O)[C@@](O[H])(C([H])([H])[H])[C@]...</td>\n",
       "    </tr>\n",
       "  </tbody>\n",
       "</table>\n",
       "<p>200 rows × 3 columns</p>\n",
       "</div>"
      ],
      "text/plain": [
       "                                             prompt  \\\n",
       "0    What is a molecule with a bandgap of 3.6 eV###   \n",
       "1    What is a molecule with a bandgap of 4.7 eV###   \n",
       "2    What is a molecule with a bandgap of 3.9 eV###   \n",
       "3    What is a molecule with a bandgap of 3.4 eV###   \n",
       "4    What is a molecule with a bandgap of 3.6 eV###   \n",
       "..                                              ...   \n",
       "195  What is a molecule with a bandgap of 3.6 eV###   \n",
       "196  What is a molecule with a bandgap of 4.3 eV###   \n",
       "197  What is a molecule with a bandgap of 3.8 eV###   \n",
       "198  What is a molecule with a bandgap of 4.0 eV###   \n",
       "199  What is a molecule with a bandgap of 3.8 eV###   \n",
       "\n",
       "                                            completion  \\\n",
       "0    [H]c1c([H])c2c(c([H])c1N([H])C(=O)C([H])([H])[...   \n",
       "1    [H]C1=C([H])C([H])([H])N(C(=O)c2c([H])c([H])c(...   \n",
       "2    [H]Oc1c([H])c([H])c2c3c1O[C@@]1([H])[C@]4(OC([...   \n",
       "3    [H]OC(=O)[C@@]([H])(N([H])[H])[C@@]1([H])C(F)(...   \n",
       "4    [H]C1=C2N(N([H])[H])C(=O)C([H])([H])C([H])([H]...   \n",
       "..                                                 ...   \n",
       "195  [H]c1nc([H])c([H])c(N2C([H])([H])C([H])([H])N(...   \n",
       "196  [H]OC(=O)[C@@]1([H])N(C(=O)[C@]([H])(C([H])([H...   \n",
       "197  [H]OC([H])([H])[C@](N([H])[H])(C([H])([H])OP(=...   \n",
       "198  [H]c1c([H])c([C@@]2([H])C([H])([H])[C@@]3([H])...   \n",
       "199  [H]ON([H])C(=O)[C@@](O[H])(C([H])([H])[H])[C@]...   \n",
       "\n",
       "                                                SMILES  \n",
       "0    [H]c1c([H])c2c(c([H])c1N([H])C(=O)C([H])([H])[...  \n",
       "1    [H]C1=C([H])C([H])([H])N(C(=O)c2c([H])c([H])c(...  \n",
       "2    [H]Oc1c([H])c([H])c2c3c1O[C@@]1([H])[C@]4(OC([...  \n",
       "3    [H]OC(=O)[C@@]([H])(N([H])[H])[C@@]1([H])C(F)(...  \n",
       "4    [H]C1=C2N(N([H])[H])C(=O)C([H])([H])C([H])([H]...  \n",
       "..                                                 ...  \n",
       "195  [H]c1nc([H])c([H])c(N2C([H])([H])C([H])([H])N(...  \n",
       "196  [H]OC(=O)[C@@]1([H])N(C(=O)[C@]([H])(C([H])([H...  \n",
       "197  [H]OC([H])([H])[C@](N([H])[H])(C([H])([H])OP(=...  \n",
       "198  [H]c1c([H])c([C@@]2([H])C([H])([H])[C@@]3([H])...  \n",
       "199  [H]ON([H])C(=O)[C@@](O[H])(C([H])([H])[H])[C@]...  \n",
       "\n",
       "[200 rows x 3 columns]"
      ]
     },
     "execution_count": 56,
     "metadata": {},
     "output_type": "execute_result"
    }
   ],
   "source": [
    "test_prompts_extrapolation"
   ]
  },
  {
   "cell_type": "code",
   "execution_count": 58,
   "metadata": {},
   "outputs": [],
   "source": [
    "train_size = len(train_set_random)\n",
    "\n",
    "filename_base = time.strftime(\"%Y-%m-%d-%H-%M-%S\", time.localtime())\n",
    "train_filename_extrapolation = f\"run_files/{filename_base}_train_prompts_bandgap_inverse_smiles_extrapolation_{train_size}.jsonl\"\n",
    "\n",
    "train_prompts_extrapolation.to_json(train_filename_extrapolation, orient=\"records\", lines=True)\n",
    "\n",
    "\n",
    "valid_filename_extrapolation = f\"run_files/{filename_base}_valid_prompts_bandgap_inverse_smiles_extrapolation_{train_size}.jsonl\"\n",
    "test_prompts_extrapolation.to_json(valid_filename_extrapolation, orient=\"records\", lines=True)"
   ]
  },
  {
   "cell_type": "code",
   "execution_count": 59,
   "metadata": {},
   "outputs": [
    {
     "name": "stderr",
     "output_type": "stream",
     "text": [
      "Traceback (most recent call last):\n",
      "  File \"/Users/kevinmaikjablonka/miniconda3/envs/gpt3/bin/openai\", line 8, in <module>\n",
      "    sys.exit(main())\n",
      "  File \"/Users/kevinmaikjablonka/miniconda3/envs/gpt3/lib/python3.9/site-packages/openai/_openai_scripts.py\", line 63, in main\n",
      "    args.func(args)\n",
      "  File \"/Users/kevinmaikjablonka/miniconda3/envs/gpt3/lib/python3.9/site-packages/openai/cli.py\", line 545, in sync\n",
      "    resp = openai.wandb_logger.WandbLogger.sync(\n",
      "  File \"/Users/kevinmaikjablonka/miniconda3/envs/gpt3/lib/python3.9/site-packages/openai/wandb_logger.py\", line 74, in sync\n",
      "    fine_tune_logged = [\n",
      "  File \"/Users/kevinmaikjablonka/miniconda3/envs/gpt3/lib/python3.9/site-packages/openai/wandb_logger.py\", line 75, in <listcomp>\n",
      "    cls._log_fine_tune(\n",
      "  File \"/Users/kevinmaikjablonka/miniconda3/envs/gpt3/lib/python3.9/site-packages/openai/wandb_logger.py\", line 125, in _log_fine_tune\n",
      "    wandb_run = cls._get_wandb_run(run_path)\n",
      "  File \"/Users/kevinmaikjablonka/miniconda3/envs/gpt3/lib/python3.9/site-packages/openai/wandb_logger.py\", line 190, in _get_wandb_run\n",
      "    cls._ensure_logged_in()\n",
      "  File \"/Users/kevinmaikjablonka/miniconda3/envs/gpt3/lib/python3.9/site-packages/openai/wandb_logger.py\", line 186, in _ensure_logged_in\n",
      "    raise Exception(\"You need to log in to wandb\")\n",
      "Exception: You need to log in to wandb\n"
     ]
    }
   ],
   "source": [
    "modelname_extrapolation =  fine_tune(train_filename_extrapolation, valid_filename_extrapolation)   "
   ]
  },
  {
   "cell_type": "code",
   "execution_count": 63,
   "metadata": {},
   "outputs": [
    {
     "name": "stdout",
     "output_type": "stream",
     "text": [
      "Testing temperature 0 for SMILES\n"
     ]
    },
    {
     "name": "stderr",
     "output_type": "stream",
     "text": [
      "2022-12-01 10:44:38.964 | DEBUG    | gpt3forchem.output:test_inverse_bandgap:931 - Got predictions, example: [H]c1c([H])c([H])c(C([H])([H])N2C([H])([H])C([H])([H])C([H])([H])C2([H])[H])c([H])c1[H]\n",
      "2022-12-01 10:44:38.965 | DEBUG    | gpt3forchem.output:test_inverse_bandgap:942 - Loaded predictions. Example: [H]c1c([H])c([H])c(C([H])([H])N2C([H])([H])C([H])([H])C([H])([H])C2([H])[H])c([H])c1[H]\n",
      "2022-12-01 10:44:38.990 | DEBUG    | gpt3forchem.output:test_inverse_bandgap:953 - Calculating Frechet ChemNet distance for 200 samples\n",
      "2022-12-01 10:44:39.035 | INFO     | gpt3forchem.output:_load_chemnet:218 - Saved ChemNet model to '/var/folders/m9/_txh68y946s4pxy1x2wnd3lh0000gn/T/ChemNet_v0.13_pretrained.h5'\n",
      "2022-12-01 10:45:14.125 | DEBUG    | gpt3forchem.output:test_inverse_bandgap:962 - Computed frechet score: (74.70535697709458, 3.2447044114324397e-07)\n",
      "2022-12-01 10:45:14.845 | DEBUG    | gpt3forchem.output:test_inverse_bandgap:973 - Computed KL div score: nan\n"
     ]
    },
    {
     "name": "stdout",
     "output_type": "stream",
     "text": [
      "Testing temperature 0.25 for SMILES\n"
     ]
    },
    {
     "name": "stderr",
     "output_type": "stream",
     "text": [
      "2022-12-01 10:46:24.738 | DEBUG    | gpt3forchem.output:test_inverse_bandgap:931 - Got predictions, example: [H]c1nc(N([H])c2c([H])c([H])c(C(=O)N([H])C([H])([H])C([H])([H])N3C([H])([H])C([H])([H])C([H])([H])C([H])([H])C3([H])[H])c([H])c2[H])nc(C([H])([H])[H])c1C(=O)N1C([H])([H])C([H])([H])C([H])([H])C([H])([H])C1([H])[H]\n",
      "2022-12-01 10:46:24.739 | DEBUG    | gpt3forchem.output:test_inverse_bandgap:942 - Loaded predictions. Example: [H]c1nc(N([H])c2c([H])c([H])c(C(=O)N([H])C([H])([H])C([H])([H])N3C([H])([H])C([H])([H])C([H])([H])C([H])([H])C3([H])[H])c([H])c2[H])nc(C([H])([H])[H])c1C(=O)N1C([H])([H])C([H])([H])C([H])([H])C([H])([H])C1([H])[H]\n",
      "2022-12-01 10:46:24.790 | DEBUG    | gpt3forchem.output:test_inverse_bandgap:953 - Calculating Frechet ChemNet distance for 162 samples\n",
      "2022-12-01 10:46:24.831 | INFO     | gpt3forchem.output:_load_chemnet:218 - Saved ChemNet model to '/var/folders/m9/_txh68y946s4pxy1x2wnd3lh0000gn/T/ChemNet_v0.13_pretrained.h5'\n",
      "2022-12-01 10:47:25.254 | DEBUG    | gpt3forchem.output:test_inverse_bandgap:962 - Computed frechet score: (44.53342454955484, 0.00013548021949183183)\n",
      "2022-12-01 10:47:26.191 | DEBUG    | gpt3forchem.output:test_inverse_bandgap:973 - Computed KL div score: 0.3513323601029002\n"
     ]
    },
    {
     "name": "stdout",
     "output_type": "stream",
     "text": [
      "Testing temperature 0.5 for SMILES\n"
     ]
    },
    {
     "name": "stderr",
     "output_type": "stream",
     "text": [
      "2022-12-01 10:48:37.546 | DEBUG    | gpt3forchem.output:test_inverse_bandgap:931 - Got predictions, example: [H]c1c([H])c([H])c(C([H])([H])N([H])C(=O)C([H])([H])C([H])([H])N([H])C(=O)C([H])([H])C([H])([H])[H])c([H])c1[H]\n",
      "2022-12-01 10:48:37.547 | DEBUG    | gpt3forchem.output:test_inverse_bandgap:942 - Loaded predictions. Example: [H]c1c([H])c([H])c(C([H])([H])N([H])C(=O)C([H])([H])C([H])([H])N([H])C(=O)C([H])([H])C([H])([H])[H])c([H])c1[H]\n",
      "2022-12-01 10:48:37.605 | DEBUG    | gpt3forchem.output:test_inverse_bandgap:953 - Calculating Frechet ChemNet distance for 135 samples\n",
      "2022-12-01 10:48:37.649 | INFO     | gpt3forchem.output:_load_chemnet:218 - Saved ChemNet model to '/var/folders/m9/_txh68y946s4pxy1x2wnd3lh0000gn/T/ChemNet_v0.13_pretrained.h5'\n",
      "2022-12-01 10:49:26.784 | DEBUG    | gpt3forchem.output:test_inverse_bandgap:962 - Computed frechet score: (29.100233479828177, 0.002967466572828484)\n",
      "2022-12-01 10:49:27.610 | DEBUG    | gpt3forchem.output:test_inverse_bandgap:973 - Computed KL div score: 0.41050712843479065\n"
     ]
    },
    {
     "name": "stdout",
     "output_type": "stream",
     "text": [
      "Testing temperature 0.75 for SMILES\n"
     ]
    },
    {
     "name": "stderr",
     "output_type": "stream",
     "text": [
      "2022-12-01 10:50:38.181 | DEBUG    | gpt3forchem.output:test_inverse_bandgap:931 - Got predictions, example: [H]c1nc([H])c([H])c(N([H])C(=O)N([H])C([H])([H])C([H])([H])[C@]2([H])C([H])([H])[C@]3(C(=O)N(C([H])([H])[H])C([H])([H])[C@]4([H])C([H])([H])C([H])([H])[C@@]23C([H])([H])C([H])([H])C([H])([H])[C@]([H])(C(=O)N([H])C([H])([H])c3c([H])c([H])c(F)c([H])c3[H])C([H])([H])[C@]2([H])C([H])([H])[H]\n",
      "2022-12-01 10:50:38.181 | DEBUG    | gpt3forchem.output:test_inverse_bandgap:942 - Loaded predictions. Example: [H]c1nc([H])c([H])c(N([H])C(=O)N([H])C([H])([H])C([H])([H])[C@]2([H])C([H])([H])[C@]3(C(=O)N(C([H])([H])[H])C([H])([H])[C@]4([H])C([H])([H])C([H])([H])[C@@]23C([H])([H])C([H])([H])C([H])([H])[C@]([H])(C(=O)N([H])C([H])([H])c3c([H])c([H])c(F)c([H])c3[H])C([H])([H])[C@]2([H])C([H])([H])[H]\n",
      "2022-12-01 10:50:38.232 | DEBUG    | gpt3forchem.output:test_inverse_bandgap:953 - Calculating Frechet ChemNet distance for 117 samples\n",
      "2022-12-01 10:50:38.271 | INFO     | gpt3forchem.output:_load_chemnet:218 - Saved ChemNet model to '/var/folders/m9/_txh68y946s4pxy1x2wnd3lh0000gn/T/ChemNet_v0.13_pretrained.h5'\n",
      "dyld[84391]: Assertion failed: (this->magic == kMagic), function matchesPath, file Loader.cpp, line 154.\n",
      "\n"
     ]
    }
   ],
   "source": [
    "extrapolation_test_results = test_inverse_model(modelname_extrapolation, test_prompts_extrapolation, train_prompts_extrapolation)"
   ]
  },
  {
   "cell_type": "code",
   "execution_count": null,
   "metadata": {},
   "outputs": [],
   "source": []
  }
 ],
 "metadata": {
  "kernelspec": {
   "display_name": "Python 3.9.13 ('gpt3')",
   "language": "python",
   "name": "python3"
  },
  "language_info": {
   "codemirror_mode": {
    "name": "ipython",
    "version": 3
   },
   "file_extension": ".py",
   "mimetype": "text/x-python",
   "name": "python",
   "nbconvert_exporter": "python",
   "pygments_lexer": "ipython3",
   "version": "3.9.13"
  },
  "orig_nbformat": 4,
  "vscode": {
   "interpreter": {
    "hash": "9a4fa60962de90e73b5da8d67a44b01d2de04630d82b94b8db1f727a73d31e61"
   }
  }
 },
 "nbformat": 4,
 "nbformat_minor": 2
}
