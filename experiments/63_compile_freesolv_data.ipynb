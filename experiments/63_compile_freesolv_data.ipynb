{
 "cells": [
  {
   "cell_type": "code",
   "execution_count": 114,
   "metadata": {},
   "outputs": [
    {
     "name": "stdout",
     "output_type": "stream",
     "text": [
      "The autoreload extension is already loaded. To reload it, use:\n",
      "  %reload_ext autoreload\n"
     ]
    }
   ],
   "source": [
    "%load_ext autoreload\n",
    "%autoreload 2"
   ]
  },
  {
   "cell_type": "code",
   "execution_count": 115,
   "metadata": {},
   "outputs": [],
   "source": [
    "import pandas as pd\n",
    "from glob import glob \n",
    "from fastcore.xtras import load_pickle\n",
    "\n",
    "from gpt3forchem.output import get_regression_metrics\n",
    "from gpt3forchem.api_wrappers import extract_prediction\n",
    "from gpt3forchem.helpers import compile_table_row\n",
    "\n",
    "\n",
    "from pycm import ConfusionMatrix"
   ]
  },
  {
   "cell_type": "markdown",
   "metadata": {},
   "source": [
    "## Classification"
   ]
  },
  {
   "cell_type": "code",
   "execution_count": 116,
   "metadata": {},
   "outputs": [],
   "source": [
    "all_res = glob('results/20221130_freesolv/*')"
   ]
  },
  {
   "cell_type": "code",
   "execution_count": 117,
   "metadata": {},
   "outputs": [],
   "source": [
    "metrics = []\n",
    "baselines = []\n",
    "\n",
    "for res in all_res:\n",
    "    res = load_pickle(res)\n",
    "    cm = res['cm']\n",
    "    cm = ConfusionMatrix(list(map(lambda x: str(x).strip(), res['cm'].actual_vector)), list(map(lambda x: str(x).strip(), res['cm'].predict_vector)))\n",
    "    baseline_cm = res['baseline']['cm']\n",
    "    baseline_cm = ConfusionMatrix(list(map(lambda x: str(x).strip(), baseline_cm.actual_vector)), list(map(lambda x: str(x).strip(), baseline_cm.predict_vector)))\n",
    "    metrics.append(\n",
    "        {\n",
    "            'train_size': res['train_size'],\n",
    "            'representation': res['representation'],\n",
    "            'acc': cm.ACC_Macro,\n",
    "            'f1_macro': cm.F1_Macro,\n",
    "            'f1_micro': cm.F1_Micro\n",
    "        })\n",
    "    baselines.append(\n",
    "        {\n",
    "            'train_size': res['train_size'],\n",
    "            'representation': res['representation'],\n",
    "            'acc': baseline_cm.ACC_Macro,\n",
    "            'f1_macro': baseline_cm.F1_Macro,\n",
    "            'f1_micro': baseline_cm.F1_Micro  \n",
    "        })"
   ]
  },
  {
   "cell_type": "code",
   "execution_count": 118,
   "metadata": {},
   "outputs": [],
   "source": [
    "metrics = pd.DataFrame(metrics)\n",
    "baselines = pd.DataFrame(baselines)"
   ]
  },
  {
   "cell_type": "code",
   "execution_count": 119,
   "metadata": {},
   "outputs": [
    {
     "data": {
      "text/html": [
       "<div>\n",
       "<style scoped>\n",
       "    .dataframe tbody tr th:only-of-type {\n",
       "        vertical-align: middle;\n",
       "    }\n",
       "\n",
       "    .dataframe tbody tr th {\n",
       "        vertical-align: top;\n",
       "    }\n",
       "\n",
       "    .dataframe thead tr th {\n",
       "        text-align: left;\n",
       "    }\n",
       "\n",
       "    .dataframe thead tr:last-of-type th {\n",
       "        text-align: right;\n",
       "    }\n",
       "</style>\n",
       "<table border=\"1\" class=\"dataframe\">\n",
       "  <thead>\n",
       "    <tr>\n",
       "      <th></th>\n",
       "      <th></th>\n",
       "      <th colspan=\"3\" halign=\"left\">acc</th>\n",
       "      <th colspan=\"3\" halign=\"left\">f1_macro</th>\n",
       "      <th colspan=\"3\" halign=\"left\">f1_micro</th>\n",
       "    </tr>\n",
       "    <tr>\n",
       "      <th></th>\n",
       "      <th></th>\n",
       "      <th>mean</th>\n",
       "      <th>std</th>\n",
       "      <th>count</th>\n",
       "      <th>mean</th>\n",
       "      <th>std</th>\n",
       "      <th>count</th>\n",
       "      <th>mean</th>\n",
       "      <th>std</th>\n",
       "      <th>count</th>\n",
       "    </tr>\n",
       "    <tr>\n",
       "      <th>representation</th>\n",
       "      <th>train_size</th>\n",
       "      <th></th>\n",
       "      <th></th>\n",
       "      <th></th>\n",
       "      <th></th>\n",
       "      <th></th>\n",
       "      <th></th>\n",
       "      <th></th>\n",
       "      <th></th>\n",
       "      <th></th>\n",
       "    </tr>\n",
       "  </thead>\n",
       "  <tbody>\n",
       "    <tr>\n",
       "      <th rowspan=\"3\" valign=\"top\">inchi</th>\n",
       "      <th>10</th>\n",
       "      <td>0.798800</td>\n",
       "      <td>0.022917</td>\n",
       "      <td>5</td>\n",
       "      <td>0.197519</td>\n",
       "      <td>0.028437</td>\n",
       "      <td>5</td>\n",
       "      <td>0.497000</td>\n",
       "      <td>0.057293</td>\n",
       "      <td>5</td>\n",
       "    </tr>\n",
       "    <tr>\n",
       "      <th>50</th>\n",
       "      <td>0.835600</td>\n",
       "      <td>0.011082</td>\n",
       "      <td>5</td>\n",
       "      <td>0.229224</td>\n",
       "      <td>0.034806</td>\n",
       "      <td>5</td>\n",
       "      <td>0.589000</td>\n",
       "      <td>0.027704</td>\n",
       "      <td>5</td>\n",
       "    </tr>\n",
       "    <tr>\n",
       "      <th>500</th>\n",
       "      <td>0.936162</td>\n",
       "      <td>0.010458</td>\n",
       "      <td>5</td>\n",
       "      <td>0.760080</td>\n",
       "      <td>0.155316</td>\n",
       "      <td>5</td>\n",
       "      <td>0.840404</td>\n",
       "      <td>0.026146</td>\n",
       "      <td>5</td>\n",
       "    </tr>\n",
       "    <tr>\n",
       "      <th rowspan=\"3\" valign=\"top\">iupac_name</th>\n",
       "      <th>10</th>\n",
       "      <td>0.813200</td>\n",
       "      <td>0.022610</td>\n",
       "      <td>5</td>\n",
       "      <td>0.192957</td>\n",
       "      <td>0.035519</td>\n",
       "      <td>5</td>\n",
       "      <td>0.533000</td>\n",
       "      <td>0.056524</td>\n",
       "      <td>5</td>\n",
       "    </tr>\n",
       "    <tr>\n",
       "      <th>50</th>\n",
       "      <td>0.864400</td>\n",
       "      <td>0.028014</td>\n",
       "      <td>5</td>\n",
       "      <td>0.375840</td>\n",
       "      <td>0.112334</td>\n",
       "      <td>5</td>\n",
       "      <td>0.661000</td>\n",
       "      <td>0.070036</td>\n",
       "      <td>5</td>\n",
       "    </tr>\n",
       "    <tr>\n",
       "      <th>500</th>\n",
       "      <td>0.939394</td>\n",
       "      <td>0.009476</td>\n",
       "      <td>5</td>\n",
       "      <td>0.747614</td>\n",
       "      <td>0.102260</td>\n",
       "      <td>5</td>\n",
       "      <td>0.848485</td>\n",
       "      <td>0.023689</td>\n",
       "      <td>5</td>\n",
       "    </tr>\n",
       "    <tr>\n",
       "      <th rowspan=\"3\" valign=\"top\">selfies</th>\n",
       "      <th>10</th>\n",
       "      <td>0.791333</td>\n",
       "      <td>0.041157</td>\n",
       "      <td>6</td>\n",
       "      <td>0.186471</td>\n",
       "      <td>0.063182</td>\n",
       "      <td>6</td>\n",
       "      <td>0.478333</td>\n",
       "      <td>0.102892</td>\n",
       "      <td>6</td>\n",
       "    </tr>\n",
       "    <tr>\n",
       "      <th>50</th>\n",
       "      <td>0.859600</td>\n",
       "      <td>0.034911</td>\n",
       "      <td>5</td>\n",
       "      <td>0.254561</td>\n",
       "      <td>0.069632</td>\n",
       "      <td>5</td>\n",
       "      <td>0.649000</td>\n",
       "      <td>0.087278</td>\n",
       "      <td>5</td>\n",
       "    </tr>\n",
       "    <tr>\n",
       "      <th>500</th>\n",
       "      <td>0.931313</td>\n",
       "      <td>0.014568</td>\n",
       "      <td>5</td>\n",
       "      <td>0.722291</td>\n",
       "      <td>0.167402</td>\n",
       "      <td>5</td>\n",
       "      <td>0.828283</td>\n",
       "      <td>0.036420</td>\n",
       "      <td>5</td>\n",
       "    </tr>\n",
       "    <tr>\n",
       "      <th rowspan=\"3\" valign=\"top\">smiles</th>\n",
       "      <th>10</th>\n",
       "      <td>0.831250</td>\n",
       "      <td>0.022701</td>\n",
       "      <td>8</td>\n",
       "      <td>0.245202</td>\n",
       "      <td>0.011885</td>\n",
       "      <td>8</td>\n",
       "      <td>0.578125</td>\n",
       "      <td>0.056754</td>\n",
       "      <td>8</td>\n",
       "    </tr>\n",
       "    <tr>\n",
       "      <th>50</th>\n",
       "      <td>0.864667</td>\n",
       "      <td>0.009004</td>\n",
       "      <td>6</td>\n",
       "      <td>0.297002</td>\n",
       "      <td>0.030250</td>\n",
       "      <td>6</td>\n",
       "      <td>0.661667</td>\n",
       "      <td>0.022509</td>\n",
       "      <td>6</td>\n",
       "    </tr>\n",
       "    <tr>\n",
       "      <th>500</th>\n",
       "      <td>0.942088</td>\n",
       "      <td>0.011617</td>\n",
       "      <td>6</td>\n",
       "      <td>0.764506</td>\n",
       "      <td>0.134202</td>\n",
       "      <td>6</td>\n",
       "      <td>0.855219</td>\n",
       "      <td>0.029042</td>\n",
       "      <td>6</td>\n",
       "    </tr>\n",
       "  </tbody>\n",
       "</table>\n",
       "</div>"
      ],
      "text/plain": [
       "                                acc                  f1_macro                  \\\n",
       "                               mean       std count      mean       std count   \n",
       "representation train_size                                                       \n",
       "inchi          10          0.798800  0.022917     5  0.197519  0.028437     5   \n",
       "               50          0.835600  0.011082     5  0.229224  0.034806     5   \n",
       "               500         0.936162  0.010458     5  0.760080  0.155316     5   \n",
       "iupac_name     10          0.813200  0.022610     5  0.192957  0.035519     5   \n",
       "               50          0.864400  0.028014     5  0.375840  0.112334     5   \n",
       "               500         0.939394  0.009476     5  0.747614  0.102260     5   \n",
       "selfies        10          0.791333  0.041157     6  0.186471  0.063182     6   \n",
       "               50          0.859600  0.034911     5  0.254561  0.069632     5   \n",
       "               500         0.931313  0.014568     5  0.722291  0.167402     5   \n",
       "smiles         10          0.831250  0.022701     8  0.245202  0.011885     8   \n",
       "               50          0.864667  0.009004     6  0.297002  0.030250     6   \n",
       "               500         0.942088  0.011617     6  0.764506  0.134202     6   \n",
       "\n",
       "                           f1_micro                  \n",
       "                               mean       std count  \n",
       "representation train_size                            \n",
       "inchi          10          0.497000  0.057293     5  \n",
       "               50          0.589000  0.027704     5  \n",
       "               500         0.840404  0.026146     5  \n",
       "iupac_name     10          0.533000  0.056524     5  \n",
       "               50          0.661000  0.070036     5  \n",
       "               500         0.848485  0.023689     5  \n",
       "selfies        10          0.478333  0.102892     6  \n",
       "               50          0.649000  0.087278     5  \n",
       "               500         0.828283  0.036420     5  \n",
       "smiles         10          0.578125  0.056754     8  \n",
       "               50          0.661667  0.022509     6  \n",
       "               500         0.855219  0.029042     6  "
      ]
     },
     "execution_count": 119,
     "metadata": {},
     "output_type": "execute_result"
    }
   ],
   "source": [
    "metrics.groupby(['representation', 'train_size']).agg(['mean', 'std', 'count'])"
   ]
  },
  {
   "cell_type": "code",
   "execution_count": 122,
   "metadata": {},
   "outputs": [
    {
     "name": "stdout",
     "output_type": "stream",
     "text": [
      "\\begin{tabular}{llrrrrrr}\n",
      "\\toprule\n",
      "       &     & \\multicolumn{2}{l}{acc} & \\multicolumn{2}{l}{f1\\_macro} & \\multicolumn{2}{l}{f1\\_micro} \\\\\n",
      "       &     &  mean &   std &     mean &   std &     mean &   std \\\\\n",
      "representation & train\\_size &       &       &          &       &          &       \\\\\n",
      "\\midrule\n",
      "inchi & 10  &  0.80 &  0.02 &     0.20 &  0.03 &     0.50 &  0.06 \\\\\n",
      "       & 50  &  0.84 &  0.01 &     0.23 &  0.03 &     0.59 &  0.03 \\\\\n",
      "       & 500 &  0.94 &  0.01 &     0.76 &  0.16 &     0.84 &  0.03 \\\\\n",
      "iupac\\_name & 10  &  0.81 &  0.02 &     0.19 &  0.04 &     0.53 &  0.06 \\\\\n",
      "       & 50  &  0.86 &  0.03 &     0.38 &  0.11 &     0.66 &  0.07 \\\\\n",
      "       & 500 &  0.94 &  0.01 &     0.75 &  0.10 &     0.85 &  0.02 \\\\\n",
      "selfies & 10  &  0.79 &  0.04 &     0.19 &  0.06 &     0.48 &  0.10 \\\\\n",
      "       & 50  &  0.86 &  0.03 &     0.25 &  0.07 &     0.65 &  0.09 \\\\\n",
      "       & 500 &  0.93 &  0.01 &     0.72 &  0.17 &     0.83 &  0.04 \\\\\n",
      "smiles & 10  &  0.83 &  0.02 &     0.25 &  0.01 &     0.58 &  0.06 \\\\\n",
      "       & 50  &  0.86 &  0.01 &     0.30 &  0.03 &     0.66 &  0.02 \\\\\n",
      "       & 500 &  0.94 &  0.01 &     0.76 &  0.13 &     0.86 &  0.03 \\\\\n",
      "\\bottomrule\n",
      "\\end{tabular}\n",
      "\n"
     ]
    }
   ],
   "source": [
    "print(metrics.groupby(['representation', 'train_size']).agg(['mean', 'std']).round(2).to_latex())"
   ]
  },
  {
   "cell_type": "code",
   "execution_count": 123,
   "metadata": {},
   "outputs": [
    {
     "name": "stdout",
     "output_type": "stream",
     "text": [
      "\\begin{tabular}{lrrrrrr}\n",
      "\\toprule\n",
      "{} & \\multicolumn{2}{l}{acc} & \\multicolumn{2}{l}{f1\\_macro} & \\multicolumn{2}{l}{f1\\_micro} \\\\\n",
      "{} &  mean &   std &     mean &   std &     mean &   std \\\\\n",
      "train\\_size &       &       &          &       &          &       \\\\\n",
      "\\midrule\n",
      "10         &  0.83 &  0.00 &     0.22 &  0.04 &     0.58 &  0.01 \\\\\n",
      "50         &  0.90 &  0.01 &     0.47 &  0.08 &     0.74 &  0.02 \\\\\n",
      "500        &  0.86 &  0.07 &     0.31 &  0.38 &     0.35 &  0.42 \\\\\n",
      "\\bottomrule\n",
      "\\end{tabular}\n",
      "\n"
     ]
    }
   ],
   "source": [
    "print(baselines.groupby(['train_size']).agg(['mean', 'std']).round(2).to_latex())"
   ]
  },
  {
   "cell_type": "markdown",
   "metadata": {},
   "source": [
    "## Regression"
   ]
  },
  {
   "cell_type": "code",
   "execution_count": 103,
   "metadata": {},
   "outputs": [],
   "source": [
    "all_res_regression = glob('results/20221129_freesolv_regression/*')"
   ]
  },
  {
   "cell_type": "code",
   "execution_count": 104,
   "metadata": {},
   "outputs": [],
   "source": [
    "metrics_regression = []\n",
    "baselines_regression = []\n",
    "\n",
    "for res in all_res_regression:\n",
    "    res = load_pickle(res)\n",
    "    metrics_regression.append(\n",
    "        {\n",
    "            'train_size': res['train_size'],\n",
    "            'representation': res['representation'],\n",
    "            'r2': res['metrics']['r2'],\n",
    "            'max_error': res['metrics']['max_error'],\n",
    "            'mean_absolute_error': res['metrics']['mean_absolute_error'],\n",
    "            'mean_squared_error': res['metrics']['mean_squared_error'],\n",
    "            'rmse': res['metrics']['rmse'],\n",
    "        })\n",
    "    baselines_regression.append(\n",
    "        {\n",
    "            'train_size': res['train_size'],\n",
    "            'representation': res['representation'],\n",
    "            'r2': res['baseline']['r2'],\n",
    "            'max_error': res['baseline']['max_error'],\n",
    "            'mean_absolute_error': res['baseline']['mean_absolute_error'], \n",
    "            'mean_squared_error': res['baseline']['mean_squared_error'],\n",
    "            'rmse': res['baseline']['rmse'],\n",
    "        })"
   ]
  },
  {
   "cell_type": "code",
   "execution_count": 105,
   "metadata": {},
   "outputs": [],
   "source": [
    "metrics_regression = pd.DataFrame(metrics_regression)\n",
    "\n",
    "baselines_regression = pd.DataFrame(baselines_regression)"
   ]
  },
  {
   "cell_type": "code",
   "execution_count": 124,
   "metadata": {},
   "outputs": [
    {
     "name": "stdout",
     "output_type": "stream",
     "text": [
      "\\begin{tabular}{llrrrrrrrrrr}\n",
      "\\toprule\n",
      "       &     & \\multicolumn{2}{l}{r2} & \\multicolumn{2}{l}{max\\_error} & \\multicolumn{2}{l}{mean\\_absolute\\_error} & \\multicolumn{2}{l}{mean\\_squared\\_error} & \\multicolumn{2}{l}{rmse} \\\\\n",
      "       &     &  mean &   std &      mean &   std &                mean &   std &               mean &   std &  mean &   std \\\\\n",
      "representation & train\\_size &       &       &           &       &                     &       &                    &       &       &       \\\\\n",
      "\\midrule\n",
      "inchi & 10  & -0.22 &  0.11 &     20.21 &  2.34 &                3.14 &  0.17 &              18.34 &  1.38 &  4.28 &  0.16 \\\\\n",
      "       & 50  & -0.05 &  0.12 &     18.26 &  0.54 &                2.85 &  0.15 &              15.40 &  1.59 &  3.92 &  0.20 \\\\\n",
      "       & 500 &  0.62 &  0.04 &     15.47 &  2.49 &                1.41 &  0.10 &               5.94 &  0.79 &  2.43 &  0.16 \\\\\n",
      "iupac\\_name & 10  & -0.31 &  0.21 &     18.03 &  3.30 &                3.43 &  0.31 &              19.64 &  3.23 &  4.42 &  0.38 \\\\\n",
      "       & 50  &  0.06 &  0.11 &     18.16 &  0.69 &                2.79 &  0.18 &              13.90 &  1.51 &  3.72 &  0.21 \\\\\n",
      "       & 500 &  0.74 &  0.09 &     10.09 &  5.30 &                1.18 &  0.06 &               4.14 &  1.59 &  2.01 &  0.36 \\\\\n",
      "selfies & 10  & -0.09 &  0.18 &     19.09 &  1.96 &                2.97 &  0.21 &              16.32 &  2.22 &  4.03 &  0.27 \\\\\n",
      "       & 50  &  0.14 &  0.08 &     16.48 &  2.72 &                2.68 &  0.15 &              12.64 &  1.09 &  3.55 &  0.16 \\\\\n",
      "       & 500 &  0.69 &  0.08 &     12.02 &  3.17 &                1.25 &  0.11 &               4.78 &  1.46 &  2.17 &  0.32 \\\\\n",
      "smiles & 10  & -0.19 &  0.16 &     19.90 &  2.22 &                3.15 &  0.32 &              17.88 &  2.62 &  4.22 &  0.30 \\\\\n",
      "       & 50  &  0.08 &  0.10 &     18.52 &  1.04 &                2.69 &  0.14 &              13.39 &  1.33 &  3.66 &  0.18 \\\\\n",
      "       & 500 &  0.78 &  0.06 &     10.03 &  3.93 &                1.06 &  0.09 &               3.43 &  1.12 &  1.83 &  0.31 \\\\\n",
      "\\bottomrule\n",
      "\\end{tabular}\n",
      "\n"
     ]
    }
   ],
   "source": [
    "print(metrics_regression.groupby(['representation', 'train_size']).agg(['mean', 'std']).round(2).to_latex())"
   ]
  },
  {
   "cell_type": "code",
   "execution_count": 125,
   "metadata": {},
   "outputs": [
    {
     "name": "stdout",
     "output_type": "stream",
     "text": [
      "\\begin{tabular}{lrrrrrrrrrr}\n",
      "\\toprule\n",
      "{} & \\multicolumn{2}{l}{r2} & \\multicolumn{2}{l}{max\\_error} & \\multicolumn{2}{l}{mean\\_absolute\\_error} & \\multicolumn{2}{l}{mean\\_squared\\_error} & \\multicolumn{2}{l}{rmse} \\\\\n",
      "{} &  mean &   std &      mean &   std &                mean &   std &               mean &   std &  mean &   std \\\\\n",
      "train\\_size &       &       &           &       &                     &       &                    &       &       &       \\\\\n",
      "\\midrule\n",
      "10         &  0.13 &  0.05 &     20.27 &  0.60 &                2.71 &  0.07 &              13.93 &  0.34 &  3.73 &  0.05 \\\\\n",
      "50         &  0.69 &  0.04 &     10.60 &  2.43 &                1.60 &  0.03 &               4.81 &  0.54 &  2.19 &  0.12 \\\\\n",
      "500        &  0.91 &  0.01 &      4.36 &  1.26 &                0.86 &  0.06 &               1.39 &  0.24 &  1.17 &  0.11 \\\\\n",
      "\\bottomrule\n",
      "\\end{tabular}\n",
      "\n"
     ]
    }
   ],
   "source": [
    "print(baselines_regression.groupby(['train_size']).agg(['mean', 'std']).round(2).to_latex())"
   ]
  },
  {
   "cell_type": "code",
   "execution_count": null,
   "metadata": {},
   "outputs": [],
   "source": []
  }
 ],
 "metadata": {
  "kernelspec": {
   "display_name": "Python 3.9.13 ('gpt3')",
   "language": "python",
   "name": "python3"
  },
  "language_info": {
   "codemirror_mode": {
    "name": "ipython",
    "version": 3
   },
   "file_extension": ".py",
   "mimetype": "text/x-python",
   "name": "python",
   "nbconvert_exporter": "python",
   "pygments_lexer": "ipython3",
   "version": "3.9.13"
  },
  "orig_nbformat": 4,
  "vscode": {
   "interpreter": {
    "hash": "9a4fa60962de90e73b5da8d67a44b01d2de04630d82b94b8db1f727a73d31e61"
   }
  }
 },
 "nbformat": 4,
 "nbformat_minor": 2
}
