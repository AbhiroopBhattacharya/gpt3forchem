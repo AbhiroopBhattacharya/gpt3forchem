{
 "cells": [
  {
   "cell_type": "markdown",
   "metadata": {},
   "source": [
    "# Evaluate the inverse design with fragment prompts"
   ]
  },
  {
   "cell_type": "code",
   "execution_count": 1,
   "metadata": {},
   "outputs": [],
   "source": [
    "from glob import glob \n",
    "from fastcore.helpers import load_pickle\n",
    "import matplotlib.pyplot as plt \n",
    "plt.style.use(['science', 'nature'])\n",
    "import numpy as np \n",
    "import pandas as pd "
   ]
  },
  {
   "cell_type": "markdown",
   "metadata": {},
   "source": [
    "The main plot is probably the found ratio / prevalence as a function of the temperature for different functional groups."
   ]
  },
  {
   "cell_type": "code",
   "execution_count": 33,
   "metadata": {},
   "outputs": [],
   "source": [
    "all_res = glob('/Users/kevinmaikjablonka/git/kjappelbaum/gpt3forchem/experiments/results/20221206_generate_with_fragment/*.pkl')"
   ]
  },
  {
   "cell_type": "code",
   "execution_count": 34,
   "metadata": {},
   "outputs": [
    {
     "data": {
      "text/plain": [
       "['/Users/kevinmaikjablonka/git/kjappelbaum/gpt3forchem/experiments/results/20221206_generate_with_fragment/20221206-120046_C(=O).pkl',\n",
       " '/Users/kevinmaikjablonka/git/kjappelbaum/gpt3forchem/experiments/results/20221206_generate_with_fragment/20221206-180420_Br.pkl',\n",
       " '/Users/kevinmaikjablonka/git/kjappelbaum/gpt3forchem/experiments/results/20221206_generate_with_fragment/20221206-140021_CO.pkl',\n",
       " '/Users/kevinmaikjablonka/git/kjappelbaum/gpt3forchem/experiments/results/20221206_generate_with_fragment/20221206-160434_C#C.pkl',\n",
       " '/Users/kevinmaikjablonka/git/kjappelbaum/gpt3forchem/experiments/results/20221206_generate_with_fragment/20221206-100332_C(=O).pkl']"
      ]
     },
     "execution_count": 34,
     "metadata": {},
     "output_type": "execute_result"
    }
   ],
   "source": [
    "all_res"
   ]
  },
  {
   "cell_type": "code",
   "execution_count": 35,
   "metadata": {},
   "outputs": [],
   "source": [
    "cres = {}\n",
    "\n",
    "for r in all_res[:-1]: \n",
    "    res = load_pickle(r)\n",
    "    cres[res['fragment']] = {\n",
    "        'fragment_in_smiles': [ri['fragment_in_smiles']/res['prevalence'] for ri in res['analysis']],\n",
    "        'p_value': [ri['p_value'] for ri in  res['analysis']],\n",
    "        'temperatures': [ri['temperature'] for ri in  res['analysis']],\n",
    "    }\n",
    "    "
   ]
  },
  {
   "cell_type": "code",
   "execution_count": 36,
   "metadata": {},
   "outputs": [
    {
     "data": {
      "text/plain": [
       "{'C(=O)': {'fragment_in_smiles': [0.0,\n",
       "   1.3120989722369487,\n",
       "   1.1913592903146732,\n",
       "   1.0990519741675473,\n",
       "   1.0110558195915333,\n",
       "   0.9274412247102332,\n",
       "   0.8887122905521047,\n",
       "   0.8049692985693462,\n",
       "   0.5250415279439887],\n",
       "  'p_value': [nan,\n",
       "   0.013383883418461532,\n",
       "   8.59176588682188e-06,\n",
       "   6.828020124265942e-05,\n",
       "   0.4943239223690482,\n",
       "   1.1382213628318588e-05,\n",
       "   5.7443104554502307e-11,\n",
       "   1.6683201858232043e-21,\n",
       "   7.506652215500865e-36],\n",
       "  'temperatures': [0, 0.05, 0.15, 0.25, 0.5, 0.75, 1.0, 1.25, 1.5]},\n",
       " 'Br': {'fragment_in_smiles': [0.0,\n",
       "   0.9942713636055115,\n",
       "   0.6767729449751801,\n",
       "   0.7781254149956177,\n",
       "   0.719210852415868,\n",
       "   1.4615789045001017,\n",
       "   1.8122712741049356,\n",
       "   2.7948559426280957,\n",
       "   3.256969797693054],\n",
       "  'p_value': [nan,\n",
       "   1.0,\n",
       "   0.25840522642787284,\n",
       "   0.21438553635980662,\n",
       "   0.02909422293762313,\n",
       "   0.00011349446718435515,\n",
       "   1.9060415555143799e-10,\n",
       "   9.29155432891628e-33,\n",
       "   1.255955426088358e-13],\n",
       "  'temperatures': [0, 0.05, 0.15, 0.25, 0.5, 0.75, 1.0, 1.25, 1.5]},\n",
       " 'CO': {'fragment_in_smiles': [0.0,\n",
       "   0.0,\n",
       "   0.0,\n",
       "   0.0,\n",
       "   0.0,\n",
       "   0.0,\n",
       "   0.0,\n",
       "   304.6150646950092,\n",
       "   0.0],\n",
       "  'p_value': [nan, nan, nan, nan, nan, nan, nan, 0.0, nan],\n",
       "  'temperatures': [0, 0.05, 0.15, 0.25, 0.5, 0.75, 1.0, 1.25, 1.5]},\n",
       " 'C#C': {'fragment_in_smiles': [0.0,\n",
       "   0.0,\n",
       "   0.0,\n",
       "   0.11571216872964422,\n",
       "   0.10844588325254571,\n",
       "   0.25481159650653834,\n",
       "   0.7233241526121165,\n",
       "   0.8578099856152631,\n",
       "   1.817349422593203],\n",
       "  'p_value': [nan,\n",
       "   0.3119924711454469,\n",
       "   0.007498947775806451,\n",
       "   0.00023528201567134886,\n",
       "   7.00154022837294e-08,\n",
       "   2.666436225072908e-06,\n",
       "   0.12411601959795021,\n",
       "   0.5271279731642635,\n",
       "   0.03904479254382106],\n",
       "  'temperatures': [0, 0.05, 0.15, 0.25, 0.5, 0.75, 1.0, 1.25, 1.5]}}"
      ]
     },
     "execution_count": 36,
     "metadata": {},
     "output_type": "execute_result"
    }
   ],
   "source": [
    "cres"
   ]
  },
  {
   "cell_type": "code",
   "execution_count": 46,
   "metadata": {},
   "outputs": [
    {
     "data": {
      "image/png": "[encoded data removed]",
      "text/plain": [
       "<Figure size 216x144 with 1 Axes>"
      ]
     },
     "metadata": {
      "needs_background": "light"
     },
     "output_type": "display_data"
    }
   ],
   "source": [
    "fig, ax = plt.subplots(1, 1, figsize=(3, 2))\n",
    "plt.plot(cres['C(=O)']['temperatures'], cres['C(=O)']['fragment_in_smiles'], label='C(=O)', marker='o')\n",
    "#plt.plot(cres['CO']['temperatures'], cres['CO']['fragment_in_smiles'], label='CO')\n",
    "plt.plot(cres['C#C']['temperatures'], cres['C#C']['fragment_in_smiles'], label='C\\#C', marker='o')\n",
    "plt.plot(cres['Br']['temperatures'], cres['Br']['fragment_in_smiles'], label='Br',  marker='o')\n",
    "plt.xlabel('temperature')\n",
    "plt.ylabel('fraction in SMILES / prevalence')\n",
    "plt.hlines(1, 0, 1.5, linestyle='--', color='grey')\n",
    "plt.legend()\n",
    "plt.tight_layout()\n",
    "plt.savefig('20221206_fragment_in_smiles.pdf', bbox_inches='tight')"
   ]
  },
  {
   "cell_type": "code",
   "execution_count": 19,
   "metadata": {},
   "outputs": [
    {
     "data": {
      "text/plain": [
       "[]"
      ]
     },
     "execution_count": 19,
     "metadata": {},
     "output_type": "execute_result"
    }
   ],
   "source": [
    "plt.plot(cres['C(=O)']['temperatures'], cres['C(=O)']['fragment_in_smiles'], label='C(=O)')"
   ]
  },
  {
   "cell_type": "code",
   "execution_count": null,
   "metadata": {},
   "outputs": [],
   "source": []
  }
 ],
 "metadata": {
  "kernelspec": {
   "display_name": "Python 3.9.13 ('gpt3')",
   "language": "python",
   "name": "python3"
  },
  "language_info": {
   "codemirror_mode": {
    "name": "ipython",
    "version": 3
   },
   "file_extension": ".py",
   "mimetype": "text/x-python",
   "name": "python",
   "nbconvert_exporter": "python",
   "pygments_lexer": "ipython3",
   "version": "3.9.13"
  },
  "orig_nbformat": 4,
  "vscode": {
   "interpreter": {
    "hash": "9a4fa60962de90e73b5da8d67a44b01d2de04630d82b94b8db1f727a73d31e61"
   }
  }
 },
 "nbformat": 4,
 "nbformat_minor": 2
}
