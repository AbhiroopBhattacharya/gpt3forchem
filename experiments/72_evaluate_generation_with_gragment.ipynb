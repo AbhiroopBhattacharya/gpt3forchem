{
 "cells": [
  {
   "cell_type": "markdown",
   "metadata": {},
   "source": [
    "# Evaluate the inverse design with fragment prompts"
   ]
  },
  {
   "cell_type": "code",
   "execution_count": 2,
   "metadata": {},
   "outputs": [],
   "source": [
    "from glob import glob \n",
    "from fastcore.helpers import load_pickle, save_pickle\n",
    "import matplotlib.pyplot as plt \n",
    "plt.style.use(['science', 'nature'])\n",
    "import numpy as np \n",
    "import pandas as pd \n",
    "import time"
   ]
  },
  {
   "cell_type": "code",
   "execution_count": 3,
   "metadata": {},
   "outputs": [],
   "source": [
    "def prevalence(df, fragment, target, window=0.1):\n",
    "    subset = df[df['GFN']]    \n",
    "    return df[\"smiles\"].apply(lambda x: fragment in x).sum() / len(df)\n"
   ]
  },
  {
   "cell_type": "markdown",
   "metadata": {},
   "source": [
    "The main plot is probably the found ratio / prevalence as a function of the temperature for different functional groups."
   ]
  },
  {
   "cell_type": "code",
   "execution_count": 4,
   "metadata": {},
   "outputs": [],
   "source": [
    "all_res = glob('/Users/kevinmaikjablonka/git/kjappelbaum/gpt3forchem/experiments/results/20221206_generate_with_fragment/*.pkl')"
   ]
  },
  {
   "cell_type": "code",
   "execution_count": 5,
   "metadata": {},
   "outputs": [
    {
     "data": {
      "text/plain": [
       "{'[H]OC([H])([H])[C@]1([H])N([H])[C@@]([H])(C([H])([H])C([H])([H])C([H])([H])C([H])([H])C([H])([H])C([H])([H])C([H])([H])C([H])([H])C([H])([H])C([H])([H])C([H])([H])C([H])([H])C([H])([H])C([H])([H])C([H])([H])C([H])([H])C([H])([H])C([H])([H])C([H])([H])C([H])([H])C([H])([H])C([H])([H])[H])C([H])([H])[C@]1([H])O[H]'}"
      ]
     },
     "execution_count": 5,
     "metadata": {},
     "output_type": "execute_result"
    }
   ],
   "source": [
    "load_pickle(all_res[0])['analysis'][0]['smiles']"
   ]
  },
  {
   "cell_type": "code",
   "execution_count": 6,
   "metadata": {},
   "outputs": [],
   "source": [
    "cres = []\n",
    "\n",
    "for r in all_res: \n",
    "    res = load_pickle(r)\n",
    "    if res['analysis'] and res['analysis'][0]['p_value']:\n",
    "        for ri in res['analysis']:\n",
    "            cres.append(\n",
    "                {'fragment': res['fragment'],\n",
    "                'fragment_in_smiles': ri['fragment_in_smiles']/res['prevalence'],\n",
    "                'p_value': ri['p_value'] ,\n",
    "                'temperatures': ri['temperature'],\n",
    "            })\n",
    "\n",
    "        # timestr = time.strftime(\"%Y%m%d-%H%M%S\")\n",
    "        # for a in res['analysis']:\n",
    "        #     with open(f'generate_w_fragment_for_xtb/{timestr}_{res[\"fragment\"]}_{a[\"temperature\"]}.txt', 'w') as f:\n",
    "        #         for smile in a['smiles']:\n",
    "        #             f.write(smile + '\\n')"
   ]
  },
  {
   "cell_type": "code",
   "execution_count": 7,
   "metadata": {},
   "outputs": [],
   "source": [
    "cres = pd.DataFrame(cres)"
   ]
  },
  {
   "cell_type": "code",
   "execution_count": 8,
   "metadata": {},
   "outputs": [],
   "source": [
    "fragment_data = cres.groupby(['fragment', 'temperatures']).agg(['mean', 'std'])"
   ]
  },
  {
   "cell_type": "code",
   "execution_count": 9,
   "metadata": {},
   "outputs": [
    {
     "data": {
      "text/html": [
       "<div>\n",
       "<style scoped>\n",
       "    .dataframe tbody tr th:only-of-type {\n",
       "        vertical-align: middle;\n",
       "    }\n",
       "\n",
       "    .dataframe tbody tr th {\n",
       "        vertical-align: top;\n",
       "    }\n",
       "\n",
       "    .dataframe thead tr th {\n",
       "        text-align: left;\n",
       "    }\n",
       "\n",
       "    .dataframe thead tr:last-of-type th {\n",
       "        text-align: right;\n",
       "    }\n",
       "</style>\n",
       "<table border=\"1\" class=\"dataframe\">\n",
       "  <thead>\n",
       "    <tr>\n",
       "      <th></th>\n",
       "      <th colspan=\"2\" halign=\"left\">fragment_in_smiles</th>\n",
       "      <th colspan=\"2\" halign=\"left\">p_value</th>\n",
       "    </tr>\n",
       "    <tr>\n",
       "      <th></th>\n",
       "      <th>mean</th>\n",
       "      <th>std</th>\n",
       "      <th>mean</th>\n",
       "      <th>std</th>\n",
       "    </tr>\n",
       "    <tr>\n",
       "      <th>temperatures</th>\n",
       "      <th></th>\n",
       "      <th></th>\n",
       "      <th></th>\n",
       "      <th></th>\n",
       "    </tr>\n",
       "  </thead>\n",
       "  <tbody>\n",
       "    <tr>\n",
       "      <th>0.00</th>\n",
       "      <td>0.000000</td>\n",
       "      <td>0.000000</td>\n",
       "      <td>NaN</td>\n",
       "      <td>NaN</td>\n",
       "    </tr>\n",
       "    <tr>\n",
       "      <th>0.05</th>\n",
       "      <td>0.923252</td>\n",
       "      <td>0.100437</td>\n",
       "      <td>1.000000e+00</td>\n",
       "      <td>0.000000e+00</td>\n",
       "    </tr>\n",
       "    <tr>\n",
       "      <th>0.15</th>\n",
       "      <td>0.581803</td>\n",
       "      <td>0.134308</td>\n",
       "      <td>1.575467e-01</td>\n",
       "      <td>1.426355e-01</td>\n",
       "    </tr>\n",
       "    <tr>\n",
       "      <th>0.25</th>\n",
       "      <td>0.804954</td>\n",
       "      <td>0.023273</td>\n",
       "      <td>2.677088e-01</td>\n",
       "      <td>4.617932e-02</td>\n",
       "    </tr>\n",
       "    <tr>\n",
       "      <th>0.50</th>\n",
       "      <td>0.861911</td>\n",
       "      <td>0.152276</td>\n",
       "      <td>3.581441e-01</td>\n",
       "      <td>3.958070e-01</td>\n",
       "    </tr>\n",
       "    <tr>\n",
       "      <th>0.75</th>\n",
       "      <td>1.229078</td>\n",
       "      <td>0.203067</td>\n",
       "      <td>2.205109e-01</td>\n",
       "      <td>2.259678e-01</td>\n",
       "    </tr>\n",
       "    <tr>\n",
       "      <th>1.00</th>\n",
       "      <td>1.965711</td>\n",
       "      <td>0.325434</td>\n",
       "      <td>1.133454e-09</td>\n",
       "      <td>1.800655e-09</td>\n",
       "    </tr>\n",
       "    <tr>\n",
       "      <th>1.25</th>\n",
       "      <td>3.044836</td>\n",
       "      <td>0.339206</td>\n",
       "      <td>3.665672e-33</td>\n",
       "      <td>4.946217e-33</td>\n",
       "    </tr>\n",
       "    <tr>\n",
       "      <th>1.50</th>\n",
       "      <td>3.215319</td>\n",
       "      <td>0.142031</td>\n",
       "      <td>5.082869e-13</td>\n",
       "      <td>7.734111e-13</td>\n",
       "    </tr>\n",
       "  </tbody>\n",
       "</table>\n",
       "</div>"
      ],
      "text/plain": [
       "             fragment_in_smiles                 p_value              \n",
       "                           mean       std          mean           std\n",
       "temperatures                                                         \n",
       "0.00                   0.000000  0.000000           NaN           NaN\n",
       "0.05                   0.923252  0.100437  1.000000e+00  0.000000e+00\n",
       "0.15                   0.581803  0.134308  1.575467e-01  1.426355e-01\n",
       "0.25                   0.804954  0.023273  2.677088e-01  4.617932e-02\n",
       "0.50                   0.861911  0.152276  3.581441e-01  3.958070e-01\n",
       "0.75                   1.229078  0.203067  2.205109e-01  2.259678e-01\n",
       "1.00                   1.965711  0.325434  1.133454e-09  1.800655e-09\n",
       "1.25                   3.044836  0.339206  3.665672e-33  4.946217e-33\n",
       "1.50                   3.215319  0.142031  5.082869e-13  7.734111e-13"
      ]
     },
     "execution_count": 9,
     "metadata": {},
     "output_type": "execute_result"
    }
   ],
   "source": [
    "fragment_data.loc['Br']"
   ]
  },
  {
   "cell_type": "code",
   "execution_count": 10,
   "metadata": {},
   "outputs": [
    {
     "data": {
      "text/plain": [
       "array(['C(=O)', 'C#C', 'Br', 'F', 'CO', 'C#CC', 'Cl', 'I', 'C#CBr'],\n",
       "      dtype=object)"
      ]
     },
     "execution_count": 10,
     "metadata": {},
     "output_type": "execute_result"
    }
   ],
   "source": [
    "cres['fragment'].unique()"
   ]
  },
  {
   "cell_type": "code",
   "execution_count": 24,
   "metadata": {},
   "outputs": [
    {
     "data": {
      "image/png": "[encoded data removed]",
      "text/plain": [
       "<Figure size 216x144 with 1 Axes>"
      ]
     },
     "metadata": {
      "needs_background": "light"
     },
     "output_type": "display_data"
    }
   ],
   "source": [
    "fig, ax = plt.subplots(1, 1, figsize=(3, 2))\n",
    "for label, fragment in [('I', 'I'), ('Br', 'Br'), ('Cl', 'Cl'), ('F', 'F'), (r'C\\#C', 'C#C'), ('C(=O)', 'C(=O)'), (r'C\\#CC', 'C#CC')]:\n",
    "    data = fragment_data.loc[fragment]\n",
    "    ax.plot(data.index, data['fragment_in_smiles']['mean'], label=label, marker='o')\n",
    "plt.xlabel('temperature')\n",
    "plt.ylabel('fraction in SMILES / prevalence')\n",
    "plt.hlines(1, 0, 1.5, linestyle='--', color='grey')\n",
    "plt.legend(ncol=2)\n",
    "plt.tight_layout()\n",
    "plt.yscale('symlog')\n",
    "plt.savefig('20221206_fragment_in_smiles.pdf', bbox_inches='tight')"
   ]
  },
  {
   "cell_type": "code",
   "execution_count": 16,
   "metadata": {},
   "outputs": [
    {
     "data": {
      "text/html": [
       "<div>\n",
       "<style scoped>\n",
       "    .dataframe tbody tr th:only-of-type {\n",
       "        vertical-align: middle;\n",
       "    }\n",
       "\n",
       "    .dataframe tbody tr th {\n",
       "        vertical-align: top;\n",
       "    }\n",
       "\n",
       "    .dataframe thead tr th {\n",
       "        text-align: left;\n",
       "    }\n",
       "\n",
       "    .dataframe thead tr:last-of-type th {\n",
       "        text-align: right;\n",
       "    }\n",
       "</style>\n",
       "<table border=\"1\" class=\"dataframe\">\n",
       "  <thead>\n",
       "    <tr>\n",
       "      <th></th>\n",
       "      <th colspan=\"2\" halign=\"left\">fragment_in_smiles</th>\n",
       "      <th colspan=\"2\" halign=\"left\">p_value</th>\n",
       "    </tr>\n",
       "    <tr>\n",
       "      <th></th>\n",
       "      <th>mean</th>\n",
       "      <th>std</th>\n",
       "      <th>mean</th>\n",
       "      <th>std</th>\n",
       "    </tr>\n",
       "    <tr>\n",
       "      <th>temperatures</th>\n",
       "      <th></th>\n",
       "      <th></th>\n",
       "      <th></th>\n",
       "      <th></th>\n",
       "    </tr>\n",
       "  </thead>\n",
       "  <tbody>\n",
       "    <tr>\n",
       "      <th>0.00</th>\n",
       "      <td>0.000000</td>\n",
       "      <td>0.000000</td>\n",
       "      <td>NaN</td>\n",
       "      <td>NaN</td>\n",
       "    </tr>\n",
       "    <tr>\n",
       "      <th>0.05</th>\n",
       "      <td>0.000000</td>\n",
       "      <td>0.000000</td>\n",
       "      <td>NaN</td>\n",
       "      <td>NaN</td>\n",
       "    </tr>\n",
       "    <tr>\n",
       "      <th>0.15</th>\n",
       "      <td>0.000000</td>\n",
       "      <td>0.000000</td>\n",
       "      <td>NaN</td>\n",
       "      <td>NaN</td>\n",
       "    </tr>\n",
       "    <tr>\n",
       "      <th>0.25</th>\n",
       "      <td>0.000000</td>\n",
       "      <td>0.000000</td>\n",
       "      <td>NaN</td>\n",
       "      <td>NaN</td>\n",
       "    </tr>\n",
       "    <tr>\n",
       "      <th>0.50</th>\n",
       "      <td>0.000000</td>\n",
       "      <td>0.000000</td>\n",
       "      <td>NaN</td>\n",
       "      <td>NaN</td>\n",
       "    </tr>\n",
       "    <tr>\n",
       "      <th>0.75</th>\n",
       "      <td>0.000000</td>\n",
       "      <td>0.000000</td>\n",
       "      <td>NaN</td>\n",
       "      <td>NaN</td>\n",
       "    </tr>\n",
       "    <tr>\n",
       "      <th>1.00</th>\n",
       "      <td>0.000000</td>\n",
       "      <td>NaN</td>\n",
       "      <td>NaN</td>\n",
       "      <td>NaN</td>\n",
       "    </tr>\n",
       "    <tr>\n",
       "      <th>1.25</th>\n",
       "      <td>39.519604</td>\n",
       "      <td>68.449963</td>\n",
       "      <td>0.0</td>\n",
       "      <td>NaN</td>\n",
       "    </tr>\n",
       "    <tr>\n",
       "      <th>1.50</th>\n",
       "      <td>0.000000</td>\n",
       "      <td>0.000000</td>\n",
       "      <td>NaN</td>\n",
       "      <td>NaN</td>\n",
       "    </tr>\n",
       "  </tbody>\n",
       "</table>\n",
       "</div>"
      ],
      "text/plain": [
       "             fragment_in_smiles            p_value    \n",
       "                           mean        std    mean std\n",
       "temperatures                                          \n",
       "0.00                   0.000000   0.000000     NaN NaN\n",
       "0.05                   0.000000   0.000000     NaN NaN\n",
       "0.15                   0.000000   0.000000     NaN NaN\n",
       "0.25                   0.000000   0.000000     NaN NaN\n",
       "0.50                   0.000000   0.000000     NaN NaN\n",
       "0.75                   0.000000   0.000000     NaN NaN\n",
       "1.00                   0.000000        NaN     NaN NaN\n",
       "1.25                  39.519604  68.449963     0.0 NaN\n",
       "1.50                   0.000000   0.000000     NaN NaN"
      ]
     },
     "execution_count": 16,
     "metadata": {},
     "output_type": "execute_result"
    }
   ],
   "source": [
    "fragment_data.loc['C#CBr']"
   ]
  },
  {
   "cell_type": "code",
   "execution_count": null,
   "metadata": {},
   "outputs": [],
   "source": []
  }
 ],
 "metadata": {
  "kernelspec": {
   "display_name": "Python 3.9.13 ('gpt3')",
   "language": "python",
   "name": "python3"
  },
  "language_info": {
   "codemirror_mode": {
    "name": "ipython",
    "version": 3
   },
   "file_extension": ".py",
   "mimetype": "text/x-python",
   "name": "python",
   "nbconvert_exporter": "python",
   "pygments_lexer": "ipython3",
   "version": "3.9.13"
  },
  "orig_nbformat": 4,
  "vscode": {
   "interpreter": {
    "hash": "9a4fa60962de90e73b5da8d67a44b01d2de04630d82b94b8db1f727a73d31e61"
   }
  }
 },
 "nbformat": 4,
 "nbformat_minor": 2
}
