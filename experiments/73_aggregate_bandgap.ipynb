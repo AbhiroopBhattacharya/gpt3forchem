{
 "cells": [
  {
   "cell_type": "code",
   "execution_count": 3,
   "metadata": {},
   "outputs": [],
   "source": [
    "from glob import glob \n",
    "import pandas as pd \n",
    "import numpy as np \n",
    "from fastcore.helpers import load_pickle\n",
    "from pycm import ConfusionMatrix"
   ]
  },
  {
   "cell_type": "code",
   "execution_count": 2,
   "metadata": {},
   "outputs": [],
   "source": [
    "all_res = glob('/Users/kevinmaikjablonka/git/kjappelbaum/gpt3forchem/experiments/results/20221205_bandgap_classification/*.pkl')"
   ]
  },
  {
   "cell_type": "code",
   "execution_count": 8,
   "metadata": {},
   "outputs": [],
   "source": [
    "metrics = []\n",
    "\n",
    "for res in all_res:\n",
    "    res = load_pickle(res)\n",
    "    cm = res['confusion_matrix']\n",
    "    cm = ConfusionMatrix(list(map(lambda x: str(x).strip(), res['confusion_matrix'].actual_vector)), list(map(lambda x: str(x).strip(), res['confusion_matrix'].predict_vector)))\n",
    "\n",
    "    metrics.append(\n",
    "        {\n",
    "            'train_size': res['train_size'],\n",
    "            'representation': res['representation'],\n",
    "            'accuracy': cm.ACC_Macro,\n",
    "            'f1_macro': cm.F1_Macro,\n",
    "            'f1_micro': cm.F1_Micro\n",
    "        })\n"
   ]
  },
  {
   "cell_type": "code",
   "execution_count": 9,
   "metadata": {},
   "outputs": [],
   "source": [
    "metrics = pd.DataFrame(metrics)"
   ]
  },
  {
   "cell_type": "code",
   "execution_count": 15,
   "metadata": {},
   "outputs": [
    {
     "name": "stdout",
     "output_type": "stream",
     "text": [
      "\\begin{tabular}{llrrrrrr}\n",
      "\\toprule\n",
      "       &     & \\multicolumn{2}{l}{accuracy} & \\multicolumn{2}{l}{f1\\_macro} & \\multicolumn{2}{l}{f1\\_micro} \\\\\n",
      "       &     &     mean &   std &     mean &   std &     mean &   std \\\\\n",
      "representation & train\\_size &          &       &          &       &          &       \\\\\n",
      "\\midrule\n",
      "inchi & 10  &     0.58 &  0.11 &     0.36 &  0.12 &     0.51 &  0.06 \\\\\n",
      "       & 50  &     0.61 &  0.09 &     0.43 &  0.08 &     0.55 &  0.03 \\\\\n",
      "       & 500 &     0.65 &  0.11 &     0.51 &  0.10 &     0.60 &  0.06 \\\\\n",
      "seflies & 10  &     0.55 &  0.10 &     0.30 &  0.06 &     0.50 &  0.06 \\\\\n",
      "       & 50  &     0.60 &  0.07 &     0.45 &  0.12 &     0.56 &  0.03 \\\\\n",
      "       & 500 &     0.68 &  0.07 &     0.57 &  0.13 &     0.64 &  0.06 \\\\\n",
      "smiles & 10  &     0.56 &  0.10 &     0.33 &  0.05 &     0.51 &  0.05 \\\\\n",
      "       & 50  &     0.62 &  0.05 &     0.47 &  0.14 &     0.58 &  0.04 \\\\\n",
      "       & 500 &     0.69 &  0.08 &     0.59 &  0.10 &     0.66 &  0.05 \\\\\n",
      "\\bottomrule\n",
      "\\end{tabular}\n",
      "\n"
     ]
    },
    {
     "name": "stderr",
     "output_type": "stream",
     "text": [
      "/var/folders/m9/_txh68y946s4pxy1x2wnd3lh0000gn/T/ipykernel_460/3857939800.py:1: FutureWarning: In future versions `DataFrame.to_latex` is expected to utilise the base implementation of `Styler.to_latex` for formatting and rendering. The arguments signature may therefore change. It is recommended instead to use `DataFrame.style.to_latex` which also contains additional functionality.\n",
      "  print(metrics.groupby(['representation', 'train_size']).agg(['mean',  'std']).round(2).to_latex())\n"
     ]
    }
   ],
   "source": [
    "print(metrics.groupby(['representation', 'train_size']).agg(['mean',  'std']).round(2).to_latex())"
   ]
  },
  {
   "cell_type": "code",
   "execution_count": null,
   "metadata": {},
   "outputs": [],
   "source": []
  }
 ],
 "metadata": {
  "kernelspec": {
   "display_name": "Python 3.9.13 ('gpt3')",
   "language": "python",
   "name": "python3"
  },
  "language_info": {
   "codemirror_mode": {
    "name": "ipython",
    "version": 3
   },
   "file_extension": ".py",
   "mimetype": "text/x-python",
   "name": "python",
   "nbconvert_exporter": "python",
   "pygments_lexer": "ipython3",
   "version": "3.9.13"
  },
  "orig_nbformat": 4,
  "vscode": {
   "interpreter": {
    "hash": "9a4fa60962de90e73b5da8d67a44b01d2de04630d82b94b8db1f727a73d31e61"
   }
  }
 },
 "nbformat": 4,
 "nbformat_minor": 2
}
