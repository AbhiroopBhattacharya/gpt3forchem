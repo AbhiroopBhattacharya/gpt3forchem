{
 "cells": [
  {
   "cell_type": "code",
   "execution_count": 1,
   "metadata": {},
   "outputs": [
    {
     "name": "stderr",
     "output_type": "stream",
     "text": [
      "/Users/kevinmaikjablonka/miniconda3/envs/gpt3/lib/python3.9/site-packages/tqdm/auto.py:22: TqdmWarning: IProgress not found. Please update jupyter and ipywidgets. See https://ipywidgets.readthedocs.io/en/stable/user_install.html\n",
      "  from .autonotebook import tqdm as notebook_tqdm\n"
     ]
    }
   ],
   "source": [
    "from gpt3forchem.data import get_bandgap_data\n",
    "import pandas as pd \n",
    "import matplotlib.pyplot as plt \n",
    "import seaborn as sns\n",
    "\n",
    "\n",
    "from sklearn.model_selection import train_test_split\n",
    "\n",
    "from gpt3forchem.api_wrappers import query_gpt3, extract_prediction, extract_inverse_prediction, fine_tune\n",
    "from gpt3forchem.output import test_inverse_bandgap\n",
    "\n",
    "import time\n",
    "\n",
    "from rdkit.Contrib.SA_Score.sascorer import calculateScore as calculate_sascore\n",
    "\n",
    "from fastcore.helpers import save_pickle\n",
    "\n",
    "import numpy as np\n",
    "from rdkit import Chem \n",
    "from sklearn.metrics import mean_squared_error, r2_score, mean_absolute_error\n",
    "import matplotlib as mpl\n",
    "mpl.rcParams.update(mpl.rcParamsDefault)\n",
    "plt.style.use(['science', 'nature'])"
   ]
  },
  {
   "cell_type": "code",
   "execution_count": 2,
   "metadata": {},
   "outputs": [],
   "source": [
    "data = get_bandgap_data()"
   ]
  },
  {
   "cell_type": "code",
   "execution_count": 3,
   "metadata": {},
   "outputs": [],
   "source": [
    "PROMPT_TEMPLATE_bandgap_inverse = \"What is a molecule with a bandgap of {} eV###\"\n",
    "COMPLETION_TEMPLATE_bandgap_inverse = \"{}@@@\"\n",
    "\n",
    "\n",
    "def generate_inverse_photoswitch_prompts(\n",
    "    data: pd.DataFrame, representation: str = \"smiles\"\n",
    ") -> pd.DataFrame:\n",
    "    prompts = []\n",
    "    completions = []\n",
    "    smiles = []\n",
    "    for i, row in data.iterrows():\n",
    "\n",
    "        prompt = PROMPT_TEMPLATE_bandgap_inverse.format(\n",
    "            np.round(row[\"GFN2_HOMO_LUMO_GAP\"] * 27.2114, 1)\n",
    "        )\n",
    "\n",
    "        completion = COMPLETION_TEMPLATE_bandgap_inverse.format(row[representation])\n",
    "        prompts.append(prompt)\n",
    "        completions.append(completion)\n",
    "        smiles.append(row[\"smiles\"])\n",
    "\n",
    "    prompts = pd.DataFrame(\n",
    "        {\"prompt\": prompts, \"completion\": completions, \"SMILES\": smiles}\n",
    "    )\n",
    "\n",
    "    return prompts"
   ]
  },
  {
   "cell_type": "code",
   "execution_count": 4,
   "metadata": {},
   "outputs": [],
   "source": [
    "def test_inverse_model(\n",
    "    modelname,\n",
    "    test_prompts,\n",
    "    df_train,\n",
    "    max_tokens: int = 250,\n",
    "    temperatures=None,\n",
    "    representation=\"SMILES\",\n",
    "):\n",
    "    temperatures = temperatures or [0, 0.25, 0.5, 0.75, 1.0, 1.25, 1.5]\n",
    "    train_smiles = df_train[\"SMILES\"].to_list()\n",
    "    results = []\n",
    "    for temperature in temperatures:\n",
    "        try:\n",
    "            print(f\"Testing temperature {temperature} for {representation}\")\n",
    "            result = test_inverse_bandgap(\n",
    "                test_prompts,\n",
    "                modelname,\n",
    "                train_smiles=train_smiles,\n",
    "                temperature=temperature,\n",
    "                max_tokens=max_tokens,\n",
    "                representation=representation,\n",
    "            )\n",
    "\n",
    "            results.append(result)\n",
    "        except Exception as e:\n",
    "            print(e)\n",
    "            pass\n",
    "\n",
    "    return results"
   ]
  },
  {
   "cell_type": "code",
   "execution_count": 16,
   "metadata": {},
   "outputs": [],
   "source": [
    "modelname_random = \"ada:ft-lsmoepfl-2022-11-30-15-25-12\"\n",
    "modelname_extrapolation = \"ada:ft-lsmoepfl-2022-11-30-23-58-24\""
   ]
  },
  {
   "cell_type": "code",
   "execution_count": null,
   "metadata": {},
   "outputs": [],
   "source": [
    "filename_base = time.strftime(\"%Y-%m-%d-%H-%M-%S\", time.localtime())"
   ]
  },
  {
   "cell_type": "code",
   "execution_count": 5,
   "metadata": {},
   "outputs": [],
   "source": [
    "train_set_random, test_set_random = train_test_split(data, train_size=1_000, test_size=2000, random_state=42)"
   ]
  },
  {
   "cell_type": "code",
   "execution_count": 19,
   "metadata": {},
   "outputs": [],
   "source": [
    "random_bandgaps = np.random.normal(4.0, 0.5, size=2000) / 27.2114\n",
    "test_set_random_biased = test_set_random.copy()\n",
    "test_set_random_biased['GFN2_HOMO_LUMO_GAP'] = random_bandgaps\n",
    "filename_base = time.strftime(\"%Y-%m-%d-%H-%M-%S\", time.localtime())\n",
    "\n",
    "test_prompts_random_biased = generate_inverse_photoswitch_prompts(test_set_random_biased)\n",
    "valid_filename_random_biased = f\"run_files/{filename_base}_valid_prompts_bandgap_inverse_smiles_random_biased.jsonl\"\n",
    "test_prompts_random_biased.to_json(valid_filename_random_biased, orient=\"records\", lines=True)"
   ]
  },
  {
   "cell_type": "code",
   "execution_count": 8,
   "metadata": {},
   "outputs": [],
   "source": [
    "original_train_prompts = pd.read_json('run_files/2022-11-30-15-18-01_train_prompts_bandgap_inverse_smiles_1000.jsonl', lines=True)"
   ]
  },
  {
   "cell_type": "code",
   "execution_count": 10,
   "metadata": {},
   "outputs": [],
   "source": [
    "original_train_set = data['smiles'].isin(original_train_prompts['SMILES']).values"
   ]
  },
  {
   "cell_type": "code",
   "execution_count": 13,
   "metadata": {},
   "outputs": [],
   "source": [
    "original_train_set = data[original_train_set]\n"
   ]
  },
  {
   "cell_type": "code",
   "execution_count": 20,
   "metadata": {},
   "outputs": [
    {
     "name": "stdout",
     "output_type": "stream",
     "text": [
      "Testing temperature 0 for SMILES\n",
      "Error communicating with OpenAI\n",
      "Testing temperature 0.25 for SMILES\n"
     ]
    },
    {
     "name": "stderr",
     "output_type": "stream",
     "text": [
      "2022-12-07 16:21:40.727 | DEBUG    | gpt3forchem.output:test_inverse_bandgap:931 - Got predictions, example: [H]c1c([H])c([H])c(C([H])([H])N([H])C(=O)c2c([H])c([H])c(N([H])C(=O)C([H])([H])[H])c([H])c2[H])c([H])c1[H]\n",
      "2022-12-07 16:21:40.732 | DEBUG    | gpt3forchem.output:test_inverse_bandgap:942 - Loaded predictions. Example: [H]c1c([H])c([H])c(C([H])([H])N([H])C(=O)c2c([H])c([H])c(N([H])C(=O)C([H])([H])[H])c([H])c2[H])c([H])c1[H]\n",
      "2022-12-07 16:21:41.037 | DEBUG    | gpt3forchem.output:test_inverse_bandgap:953 - Calculating Frechet ChemNet distance for 1000 samples\n",
      "2022-12-07 16:21:41.144 | INFO     | gpt3forchem.output:_load_chemnet:218 - Saved ChemNet model to '/var/folders/m9/_txh68y946s4pxy1x2wnd3lh0000gn/T/ChemNet_v0.13_pretrained.h5'\n",
      "2022-12-07 16:21:42.137643: W tensorflow/core/platform/profile_utils/cpu_utils.cc:128] Failed to get CPU frequency: 0 Hz\n",
      "2022-12-07 16:21:47.690 | DEBUG    | gpt3forchem.output:test_inverse_bandgap:962 - Computed frechet score: (35.82187032088866, 0.0007736630893796965)\n",
      "2022-12-07 16:21:48.063 | WARNING  | gpt3forchem.output:score:102 - The model could not generate enough unique molecules. The score will be penalized.\n",
      "2022-12-07 16:21:51.340 | DEBUG    | gpt3forchem.output:test_inverse_bandgap:973 - Computed KL div score: 0.29682478823586006\n"
     ]
    },
    {
     "name": "stdout",
     "output_type": "stream",
     "text": [
      "Testing temperature 0.5 for SMILES\n"
     ]
    },
    {
     "name": "stderr",
     "output_type": "stream",
     "text": [
      "2022-12-07 16:35:08.520 | DEBUG    | gpt3forchem.output:test_inverse_bandgap:931 - Got predictions, example: [H]c1nc([H])c2c(c1[H])N(C(=O)N([H])c1c([H])c([H])c(C([H])([H])C([H])([H])N([H])[H])c([H])c1[H])C([H])([H])C2([H])[H]\n",
      "2022-12-07 16:35:08.522 | DEBUG    | gpt3forchem.output:test_inverse_bandgap:942 - Loaded predictions. Example: [H]c1nc([H])c2c(c1[H])N(C(=O)N([H])c1c([H])c([H])c(C([H])([H])C([H])([H])N([H])[H])c([H])c1[H])C([H])([H])C2([H])[H]\n",
      "2022-12-07 16:35:08.920 | DEBUG    | gpt3forchem.output:test_inverse_bandgap:953 - Calculating Frechet ChemNet distance for 1000 samples\n",
      "2022-12-07 16:35:09.040 | INFO     | gpt3forchem.output:_load_chemnet:218 - Saved ChemNet model to '/var/folders/m9/_txh68y946s4pxy1x2wnd3lh0000gn/T/ChemNet_v0.13_pretrained.h5'\n",
      "2022-12-07 16:35:14.199 | DEBUG    | gpt3forchem.output:test_inverse_bandgap:962 - Computed frechet score: (16.7319611477375, 0.03521115900085974)\n",
      "2022-12-07 16:35:14.543 | WARNING  | gpt3forchem.output:score:102 - The model could not generate enough unique molecules. The score will be penalized.\n",
      "2022-12-07 16:35:18.961 | DEBUG    | gpt3forchem.output:test_inverse_bandgap:973 - Computed KL div score: 0.5456476376662664\n"
     ]
    },
    {
     "name": "stdout",
     "output_type": "stream",
     "text": [
      "Testing temperature 0.75 for SMILES\n",
      "Error communicating with OpenAI\n",
      "Testing temperature 1.0 for SMILES\n"
     ]
    },
    {
     "name": "stderr",
     "output_type": "stream",
     "text": [
      "2022-12-07 17:06:57.376 | DEBUG    | gpt3forchem.output:test_inverse_bandgap:931 - Got predictions, example: [H]Oc1c([H])c([H])c2c(c1[H])c1c(C([H])([H])N([H])[H])oc([H])c1c1c([H])c([H])c(C([H])([H])P2C([H])([H])C([H])([H])N(C([H])([H])[H])C([H])([H])[H])c([H])n1[H]\n",
      "2022-12-07 17:06:57.378 | DEBUG    | gpt3forchem.output:test_inverse_bandgap:942 - Loaded predictions. Example: [H]Oc1c([H])c([H])c2c(c1[H])c1c(C([H])([H])N([H])[H])oc([H])c1c1c([H])c([H])c(C([H])([H])P2C([H])([H])C([H])([H])N(C([H])([H])[H])C([H])([H])[H])c([H])n1[H]\n",
      "2022-12-07 17:06:57.837 | DEBUG    | gpt3forchem.output:test_inverse_bandgap:953 - Calculating Frechet ChemNet distance for 511 samples\n",
      "2022-12-07 17:06:57.935 | INFO     | gpt3forchem.output:_load_chemnet:218 - Saved ChemNet model to '/var/folders/m9/_txh68y946s4pxy1x2wnd3lh0000gn/T/ChemNet_v0.13_pretrained.h5'\n",
      "2022-12-07 17:07:05.967 | DEBUG    | gpt3forchem.output:test_inverse_bandgap:962 - Computed frechet score: (8.874719268047329, 0.16949296565056102)\n",
      "2022-12-07 17:07:08.358 | DEBUG    | gpt3forchem.output:test_inverse_bandgap:973 - Computed KL div score: 0.7055186910370581\n"
     ]
    },
    {
     "name": "stdout",
     "output_type": "stream",
     "text": [
      "Testing temperature 1.25 for SMILES\n",
      "Error communicating with OpenAI\n",
      "Testing temperature 1.5 for SMILES\n"
     ]
    },
    {
     "name": "stderr",
     "output_type": "stream",
     "text": [
      "2022-12-07 17:55:22.122 | DEBUG    | gpt3forchem.output:test_inverse_bandgap:931 - Got predictions, example: [H]c1nc([H])c(S(=C(/oc\n",
      "2022-12-07 17:55:22.125 | DEBUG    | gpt3forchem.output:test_inverse_bandgap:942 - Loaded predictions. Example: [H]c1nc([H])c(S(=C(/oc\n",
      "2022-12-07 17:55:22.417 | DEBUG    | gpt3forchem.output:test_inverse_bandgap:953 - Calculating Frechet ChemNet distance for 70 samples\n",
      "2022-12-07 17:55:22.477 | INFO     | gpt3forchem.output:_load_chemnet:218 - Saved ChemNet model to '/var/folders/m9/_txh68y946s4pxy1x2wnd3lh0000gn/T/ChemNet_v0.13_pretrained.h5'\n",
      "2022-12-07 17:55:25.062 | DEBUG    | gpt3forchem.output:test_inverse_bandgap:962 - Computed frechet score: (43.911545939971944, 0.00015342339237443562)\n",
      "2022-12-07 17:55:25.350 | DEBUG    | gpt3forchem.output:test_inverse_bandgap:973 - Computed KL div score: 0.13533228045952803\n"
     ]
    }
   ],
   "source": [
    "random_test_results = test_inverse_model(modelname_random, test_prompts_random_biased, original_train_prompts)"
   ]
  },
  {
   "cell_type": "code",
   "execution_count": 21,
   "metadata": {},
   "outputs": [],
   "source": [
    "save_pickle(f\"run_files/{filename_base}-random_test_results_extrapolation_smiles_more.pkl\", random_test_results)"
   ]
  },
  {
   "cell_type": "code",
   "execution_count": 23,
   "metadata": {},
   "outputs": [],
   "source": [
    "smiles_random_biased_sets = []\n",
    "\n",
    "for res in random_test_results:\n",
    "    result = {}\n",
    "    result[\"temperature\"] = res[\"meta\"][\"temperature\"]\n",
    "    result[\"smiles\"] = set(\n",
    "        res[\"predictions\"][res[\"valid_smiles\"]]\n",
    "    )\n",
    "    result['original_prediction_indices'] = [i for i, x in enumerate(res[\"predictions\"]) if x in result['smiles']]\n",
    "    result['expected'] = [res['expectations'][i] for i in result['original_prediction_indices']]\n",
    "    smiles_random_biased_sets.append(result)\n",
    "\n",
    "for res in smiles_random_biased_sets:\n",
    "    temp = res[\"temperature\"]\n",
    "    smiles_set = res[\"smiles\"]\n",
    "    with open(f\"for_more_xtb_opt/{filename_base}_smiles_random_biased_sets{temp}.txt\", \"w\") as f:\n",
    "        for i, smiles in enumerate(smiles_set):\n",
    "            if i != len(smiles_set) - 1:\n",
    "                f.write(smiles + \"\\n\")\n",
    "            else:\n",
    "                f.write(smiles)"
   ]
  },
  {
   "cell_type": "markdown",
   "metadata": {},
   "source": [
    "## Extrapolation"
   ]
  },
  {
   "cell_type": "code",
   "execution_count": 26,
   "metadata": {},
   "outputs": [],
   "source": [
    "train_prompts_extrapolation = pd.read_json(\"run_files/2022-11-30-23-19-44_train_prompts_bandgap_inverse_smiles_extrapolation_1000.jsonl\", lines=True)"
   ]
  },
  {
   "cell_type": "code",
   "execution_count": 27,
   "metadata": {},
   "outputs": [
    {
     "name": "stdout",
     "output_type": "stream",
     "text": [
      "Testing temperature 0 for SMILES\n"
     ]
    },
    {
     "name": "stderr",
     "output_type": "stream",
     "text": [
      "2022-12-07 20:26:39.360 | DEBUG    | gpt3forchem.output:test_inverse_bandgap:931 - Got predictions, example: [H]c1c([H])c([H])c(C([H])([H])N2C([H])([H])C([H])([H])C([H])([H])C2([H])[H])c([H])c1[H]\n",
      "2022-12-07 20:26:39.371 | DEBUG    | gpt3forchem.output:test_inverse_bandgap:942 - Loaded predictions. Example: [H]c1c([H])c([H])c(C([H])([H])N2C([H])([H])C([H])([H])C([H])([H])C2([H])[H])c([H])c1[H]\n",
      "2022-12-07 20:26:39.691 | DEBUG    | gpt3forchem.output:test_inverse_bandgap:953 - Calculating Frechet ChemNet distance for 1000 samples\n",
      "2022-12-07 20:26:39.792 | INFO     | gpt3forchem.output:_load_chemnet:218 - Saved ChemNet model to '/var/folders/m9/_txh68y946s4pxy1x2wnd3lh0000gn/T/ChemNet_v0.13_pretrained.h5'\n",
      "2022-12-07 20:27:18.658 | DEBUG    | gpt3forchem.output:test_inverse_bandgap:962 - Computed frechet score: (76.38413607646115, 2.3193070034933744e-07)\n",
      "2022-12-07 20:27:19.012 | WARNING  | gpt3forchem.output:score:102 - The model could not generate enough unique molecules. The score will be penalized.\n",
      "2022-12-07 20:27:21.375 | DEBUG    | gpt3forchem.output:test_inverse_bandgap:973 - Computed KL div score: nan\n"
     ]
    },
    {
     "name": "stdout",
     "output_type": "stream",
     "text": [
      "Testing temperature 0.25 for SMILES\n"
     ]
    },
    {
     "name": "stderr",
     "output_type": "stream",
     "text": [
      "2022-12-07 20:41:03.246 | DEBUG    | gpt3forchem.output:test_inverse_bandgap:931 - Got predictions, example: [H]c1c([H])c([H])c(C([H])([H])N2C([H])([H])C([H])([H])C([H])([H])C2([H])[H])c([H])c1[H]\n",
      "2022-12-07 20:41:03.248 | DEBUG    | gpt3forchem.output:test_inverse_bandgap:942 - Loaded predictions. Example: [H]c1c([H])c([H])c(C([H])([H])N2C([H])([H])C([H])([H])C([H])([H])C2([H])[H])c([H])c1[H]\n",
      "2022-12-07 20:41:03.527 | DEBUG    | gpt3forchem.output:test_inverse_bandgap:953 - Calculating Frechet ChemNet distance for 1000 samples\n",
      "2022-12-07 20:41:03.621 | INFO     | gpt3forchem.output:_load_chemnet:218 - Saved ChemNet model to '/var/folders/m9/_txh68y946s4pxy1x2wnd3lh0000gn/T/ChemNet_v0.13_pretrained.h5'\n",
      "2022-12-07 20:41:09.059 | DEBUG    | gpt3forchem.output:test_inverse_bandgap:962 - Computed frechet score: (36.95506460520862, 0.0006167708967771995)\n",
      "2022-12-07 20:41:09.410 | WARNING  | gpt3forchem.output:score:102 - The model could not generate enough unique molecules. The score will be penalized.\n",
      "2022-12-07 20:41:12.740 | DEBUG    | gpt3forchem.output:test_inverse_bandgap:973 - Computed KL div score: 0.39533715520022045\n"
     ]
    },
    {
     "name": "stdout",
     "output_type": "stream",
     "text": [
      "Testing temperature 0.5 for SMILES\n",
      "Error communicating with OpenAI\n",
      "Testing temperature 0.75 for SMILES\n"
     ]
    },
    {
     "name": "stderr",
     "output_type": "stream",
     "text": [
      "2022-12-07 21:14:31.658 | DEBUG    | gpt3forchem.output:test_inverse_bandgap:931 - Got predictions, example: [H]c1c([H])c([H])c(C([H])([H])N2C([H])([H])C([H])([H])C([H])([H])C2([H])[H])c(C([H])([H])[H])c1[H]\n",
      "2022-12-07 21:14:31.661 | DEBUG    | gpt3forchem.output:test_inverse_bandgap:942 - Loaded predictions. Example: [H]c1c([H])c([H])c(C([H])([H])N2C([H])([H])C([H])([H])C([H])([H])C2([H])[H])c(C([H])([H])[H])c1[H]\n",
      "2022-12-07 21:14:32.095 | DEBUG    | gpt3forchem.output:test_inverse_bandgap:953 - Calculating Frechet ChemNet distance for 960 samples\n",
      "2022-12-07 21:14:32.151 | INFO     | gpt3forchem.output:_load_chemnet:218 - Saved ChemNet model to '/var/folders/m9/_txh68y946s4pxy1x2wnd3lh0000gn/T/ChemNet_v0.13_pretrained.h5'\n",
      "2022-12-07 21:14:36.181 | DEBUG    | gpt3forchem.output:test_inverse_bandgap:962 - Computed frechet score: (8.779165287285608, 0.1727632606049706)\n",
      "2022-12-07 21:14:40.178 | DEBUG    | gpt3forchem.output:test_inverse_bandgap:973 - Computed KL div score: 0.717685938896264\n"
     ]
    },
    {
     "name": "stdout",
     "output_type": "stream",
     "text": [
      "Testing temperature 1.0 for SMILES\n"
     ]
    },
    {
     "name": "stderr",
     "output_type": "stream",
     "text": [
      "2022-12-07 21:31:41.467 | DEBUG    | gpt3forchem.output:test_inverse_bandgap:931 - Got predictions, example: [H]c1c([H])c2c(c([H])c1Cl)N=C(C(=O)c1c([H])c([H])c([H])c(SC3([H])C([H])([H])C([H])([H])C([H])([H])C3([H])[H])c1[H])C2([H])[H]\n",
      "2022-12-07 21:31:41.470 | DEBUG    | gpt3forchem.output:test_inverse_bandgap:942 - Loaded predictions. Example: [H]c1c([H])c2c(c([H])c1Cl)N=C(C(=O)c1c([H])c([H])c([H])c(SC3([H])C([H])([H])C([H])([H])C([H])([H])C3([H])[H])c1[H])C2([H])[H]\n",
      "2022-12-07 21:31:41.919 | DEBUG    | gpt3forchem.output:test_inverse_bandgap:953 - Calculating Frechet ChemNet distance for 522 samples\n",
      "2022-12-07 21:31:42.003 | INFO     | gpt3forchem.output:_load_chemnet:218 - Saved ChemNet model to '/var/folders/m9/_txh68y946s4pxy1x2wnd3lh0000gn/T/ChemNet_v0.13_pretrained.h5'\n",
      "2022-12-07 21:31:44.640 | DEBUG    | gpt3forchem.output:test_inverse_bandgap:962 - Computed frechet score: (8.59451859570079, 0.17926256234511487)\n",
      "2022-12-07 21:31:46.887 | DEBUG    | gpt3forchem.output:test_inverse_bandgap:973 - Computed KL div score: 0.7900367776103712\n"
     ]
    },
    {
     "name": "stdout",
     "output_type": "stream",
     "text": [
      "Testing temperature 1.25 for SMILES\n"
     ]
    },
    {
     "name": "stderr",
     "output_type": "stream",
     "text": [
      "2022-12-07 21:55:00.513 | DEBUG    | gpt3forchem.output:test_inverse_bandgap:931 - Got predictions, example: [H]c1c([H])c(-n2c([H])c([H])c([H])c2OC([H])([H])c2c([H])c(OC([H])([H])[H])c([H])c([H])c2C([H])([H])C([H])([H])N(C([H])([H])C([H])([H])N1C([H])([H])[C@]2([H])C([H])([H])[C@@]([H])(O[H])C2([H])[H])C([H])([H])[C@@]1([H])C([H])([H])c1c([H])c([H])c(C([H])([H])C([H])([H])N([H])[C@]2([H])[H])c2nc1[H]\n",
      "2022-12-07 21:55:00.519 | DEBUG    | gpt3forchem.output:test_inverse_bandgap:942 - Loaded predictions. Example: [H]c1c([H])c(-n2c([H])c([H])c([H])c2OC([H])([H])c2c([H])c(OC([H])([H])[H])c([H])c([H])c2C([H])([H])C([H])([H])N(C([H])([H])C([H])([H])N1C([H])([H])[C@]2([H])C([H])([H])[C@@]([H])(O[H])C2([H])[H])C([H])([H])[C@@]1([H])C([H])([H])c1c([H])c([H])c(C([H])([H])C([H])([H])N([H])[C@]2([H])[H])c2nc1[H]\n",
      "2022-12-07 21:55:00.903 | DEBUG    | gpt3forchem.output:test_inverse_bandgap:953 - Calculating Frechet ChemNet distance for 170 samples\n",
      "2022-12-07 21:55:01.020 | INFO     | gpt3forchem.output:_load_chemnet:218 - Saved ChemNet model to '/var/folders/m9/_txh68y946s4pxy1x2wnd3lh0000gn/T/ChemNet_v0.13_pretrained.h5'\n",
      "2022-12-07 21:55:03.329 | DEBUG    | gpt3forchem.output:test_inverse_bandgap:962 - Computed frechet score: (18.467321533863128, 0.024885641043343034)\n",
      "2022-12-07 21:55:04.125 | DEBUG    | gpt3forchem.output:test_inverse_bandgap:973 - Computed KL div score: 0.7268992539604502\n"
     ]
    },
    {
     "name": "stdout",
     "output_type": "stream",
     "text": [
      "Testing temperature 1.5 for SMILES\n"
     ]
    },
    {
     "name": "stderr",
     "output_type": "stream",
     "text": [
      "2022-12-07 22:20:27.980 | DEBUG    | gpt3forchem.output:test_inverse_bandgap:931 - Got predictions, example: [H]00\n",
      "2022-12-07 22:20:27.982 | DEBUG    | gpt3forchem.output:test_inverse_bandgap:942 - Loaded predictions. Example: [H]00\n",
      "2022-12-07 22:20:28.278 | DEBUG    | gpt3forchem.output:test_inverse_bandgap:953 - Calculating Frechet ChemNet distance for 71 samples\n",
      "2022-12-07 22:20:28.389 | INFO     | gpt3forchem.output:_load_chemnet:218 - Saved ChemNet model to '/var/folders/m9/_txh68y946s4pxy1x2wnd3lh0000gn/T/ChemNet_v0.13_pretrained.h5'\n",
      "2022-12-07 22:20:29.830 | DEBUG    | gpt3forchem.output:test_inverse_bandgap:962 - Computed frechet score: (37.99478494754655, 0.0005009736818437066)\n",
      "2022-12-07 22:20:30.097 | DEBUG    | gpt3forchem.output:test_inverse_bandgap:973 - Computed KL div score: 0.22369364556531676\n"
     ]
    }
   ],
   "source": [
    "extrapolation_test_results = test_inverse_model(modelname_extrapolation, test_prompts_random_biased, train_prompts_extrapolation)"
   ]
  },
  {
   "cell_type": "code",
   "execution_count": 29,
   "metadata": {},
   "outputs": [],
   "source": [
    "save_pickle(f\"run_files/{filename_base}-extrapolation_test_results_extrapolation_smiles_more.pkl\", extrapolation_test_results)"
   ]
  },
  {
   "cell_type": "code",
   "execution_count": 30,
   "metadata": {},
   "outputs": [],
   "source": [
    "smiles_extrapolation_sets = []\n",
    "\n",
    "for res in extrapolation_test_results:\n",
    "    result = {}\n",
    "    result[\"temperature\"] = res[\"meta\"][\"temperature\"]\n",
    "    result[\"smiles\"] = set(\n",
    "        res[\"predictions\"][res[\"valid_smiles\"]]\n",
    "    )\n",
    "    result['original_prediction_indices'] = [i for i, x in enumerate(res[\"predictions\"]) if x in result['smiles']]\n",
    "    result['expected'] = [res['expectations'][i] for i in result['original_prediction_indices']]\n",
    "    smiles_extrapolation_sets.append(result)\n",
    "\n",
    "for res in smiles_extrapolation_sets:\n",
    "    temp = res[\"temperature\"]\n",
    "    smiles_set = res[\"smiles\"]\n",
    "    with open(f\"for_more_xtb_opt/{filename_base}_smiles_extrapolation_sets{temp}.txt\", \"w\") as f:\n",
    "        for i, smiles in enumerate(smiles_set):\n",
    "            if i != len(smiles_set) - 1:\n",
    "                f.write(smiles + \"\\n\")\n",
    "            else:\n",
    "                f.write(smiles)"
   ]
  },
  {
   "cell_type": "code",
   "execution_count": null,
   "metadata": {},
   "outputs": [],
   "source": []
  }
 ],
 "metadata": {
  "kernelspec": {
   "display_name": "Python 3.9.13 ('gpt3')",
   "language": "python",
   "name": "python3"
  },
  "language_info": {
   "codemirror_mode": {
    "name": "ipython",
    "version": 3
   },
   "file_extension": ".py",
   "mimetype": "text/x-python",
   "name": "python",
   "nbconvert_exporter": "python",
   "pygments_lexer": "ipython3",
   "version": "3.9.13"
  },
  "orig_nbformat": 4,
  "vscode": {
   "interpreter": {
    "hash": "9a4fa60962de90e73b5da8d67a44b01d2de04630d82b94b8db1f727a73d31e61"
   }
  }
 },
 "nbformat": 4,
 "nbformat_minor": 2
}
