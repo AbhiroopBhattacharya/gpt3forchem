{
 "cells": [
  {
   "cell_type": "code",
   "execution_count": 178,
   "metadata": {},
   "outputs": [],
   "source": [
    "from sklearn.model_selection import StratifiedKFold\n",
    "from sklearn.model_selection import train_test_split\n",
    "from sklearn.model_selection import GridSearchCV\n",
    "\n",
    "from sklearn.ensemble import RandomForestClassifier\n",
    "\n",
    "import pandas as pd\n",
    "\n",
    "from gpt3forchem.data import get_waterstability_data\n",
    "\n",
    "import numpy as np\n",
    "\n",
    "from pycm import ConfusionMatrix\n",
    "\n",
    "import seaborn as sns"
   ]
  },
  {
   "cell_type": "code",
   "execution_count": 179,
   "metadata": {},
   "outputs": [],
   "source": [
    "original_train_data = pd.read_csv(\n",
    "    \"/Users/kevinmaikjablonka/Downloads/rohitbatra1989-MOFWaterStability-67e1b6d/data/traindata.csv\"\n",
    ")"
   ]
  },
  {
   "cell_type": "code",
   "execution_count": 180,
   "metadata": {},
   "outputs": [],
   "source": [
    "mustXcols = [\"L_linkermetalratio\", \"L_no\", \"L_noh\", \"L_nh2o\"]\n",
    "selXcols = original_train_data.columns[\n",
    "    (original_train_data.columns.str.contains(\"M_\"))\n",
    "    | (original_train_data.columns.str.contains(\"L_\"))\n",
    "]\n",
    "\n",
    "assert all(elem in selXcols for elem in mustXcols)\n",
    "\n",
    "original_train_data = original_train_data.dropna(subset=selXcols)"
   ]
  },
  {
   "cell_type": "code",
   "execution_count": 181,
   "metadata": {},
   "outputs": [
    {
     "data": {
      "text/plain": [
       "207"
      ]
     },
     "execution_count": 181,
     "metadata": {},
     "output_type": "execute_result"
    }
   ],
   "source": [
    "len(original_train_data)"
   ]
  },
  {
   "cell_type": "code",
   "execution_count": 182,
   "metadata": {},
   "outputs": [],
   "source": [
    "data = get_waterstability_data()"
   ]
  },
  {
   "cell_type": "code",
   "execution_count": 183,
   "metadata": {},
   "outputs": [
    {
     "data": {
      "text/plain": [
       "188"
      ]
     },
     "execution_count": 183,
     "metadata": {},
     "output_type": "execute_result"
    }
   ],
   "source": [
    "len(data)"
   ]
  },
  {
   "cell_type": "code",
   "execution_count": 184,
   "metadata": {},
   "outputs": [],
   "source": [
    "data[\"common_name_clean\"] = data[\"common name\"].apply(lambda x: x.replace(\" \", \"\"))\n",
    "original_train_data[\"common_name_clean\"] = original_train_data[\"Common name\"].apply(\n",
    "    lambda x: x.replace(\" \", \"\")\n",
    ")\n",
    "original_train_data[\"Activated formula unit_x\"] = original_train_data[\n",
    "    \"Activated formula unit_x\"\n",
    "].apply(lambda x: x.strip())\n",
    "data[\"activated formula unita\"] = data[\"activated formula unita\"].apply(\n",
    "    lambda x: x.strip()\n",
    ")"
   ]
  },
  {
   "cell_type": "code",
   "execution_count": 185,
   "metadata": {},
   "outputs": [
    {
     "data": {
      "text/plain": [
       "array(['high', 'low'], dtype=object)"
      ]
     },
     "execution_count": 185,
     "metadata": {},
     "output_type": "execute_result"
    }
   ],
   "source": [
    "data[\"stability\"].unique()"
   ]
  },
  {
   "cell_type": "code",
   "execution_count": 186,
   "metadata": {},
   "outputs": [],
   "source": [
    "merged_data = original_train_data.merge(\n",
    "    data, left_on=\"common_name_clean\", right_on=\"common_name_clean\"\n",
    ")"
   ]
  },
  {
   "cell_type": "code",
   "execution_count": 187,
   "metadata": {},
   "outputs": [
    {
     "data": {
      "text/plain": [
       "266"
      ]
     },
     "execution_count": 187,
     "metadata": {},
     "output_type": "execute_result"
    }
   ],
   "source": [
    "len(merged_data)"
   ]
  },
  {
   "cell_type": "code",
   "execution_count": 188,
   "metadata": {},
   "outputs": [],
   "source": [
    "merged_data = merged_data.drop_duplicates(subset=[\"normalized_names\"])"
   ]
  },
  {
   "cell_type": "code",
   "execution_count": 189,
   "metadata": {},
   "outputs": [
    {
     "data": {
      "text/plain": [
       "185"
      ]
     },
     "execution_count": 189,
     "metadata": {},
     "output_type": "execute_result"
    }
   ],
   "source": [
    "len(merged_data)"
   ]
  },
  {
   "cell_type": "code",
   "execution_count": 190,
   "metadata": {},
   "outputs": [
    {
     "data": {
      "text/plain": [
       "185"
      ]
     },
     "execution_count": 190,
     "metadata": {},
     "output_type": "execute_result"
    }
   ],
   "source": [
    "len(merged_data)"
   ]
  },
  {
   "cell_type": "code",
   "execution_count": 191,
   "metadata": {},
   "outputs": [],
   "source": [
    "# merged_data.loc[merged_data['Stability']==2,'Stability']=-1\n",
    "# merged_data.loc[merged_data['Stability']==3,'Stability']=-1\n",
    "# merged_data.loc[merged_data['Stability']==0,'Stability']=1\n",
    "# merged_data.loc[merged_data['Stability']==1,'Stability']=1\n",
    "\n",
    "X = merged_data[selXcols]\n",
    "y = merged_data[\"stability\"].replace({\"low\": 0, \"high\": 1})"
   ]
  },
  {
   "cell_type": "code",
   "execution_count": 192,
   "metadata": {},
   "outputs": [],
   "source": [
    "ncvfold = 5\n",
    "rnseed = 436\n",
    "scoring = \"f1_macro\""
   ]
  },
  {
   "cell_type": "code",
   "execution_count": 193,
   "metadata": {},
   "outputs": [],
   "source": [
    "X_train, X_test, y_train, y_test = train_test_split(\n",
    "    X.values, y.values, train_size=0.8, random_state=rnseed, stratify=y.values\n",
    ")"
   ]
  },
  {
   "cell_type": "code",
   "execution_count": 194,
   "metadata": {},
   "outputs": [
    {
     "data": {
      "text/plain": [
       "False"
      ]
     },
     "execution_count": 194,
     "metadata": {},
     "output_type": "execute_result"
    }
   ],
   "source": [
    "np.isnan(X_train).any()"
   ]
  },
  {
   "cell_type": "code",
   "execution_count": 195,
   "metadata": {},
   "outputs": [],
   "source": [
    "cms = []\n",
    "\n",
    "for i in range(10):\n",
    "    random_state = i\n",
    "    X_train, X_test, y_train, y_test = train_test_split(\n",
    "        X.values, y.values, train_size=0.8, random_state=random_state, stratify=y.values\n",
    "    )\n",
    "    param_grid = {\"n_estimators\": range(50, 150, 10), \"max_features\": range(10, 40, 5)}\n",
    "    forest_clf = RandomForestClassifier(\n",
    "        class_weight=\"balanced_subsample\", random_state=42, oob_score=True, n_jobs=-1\n",
    "    )\n",
    "\n",
    "    # Perform Grid search for C and Gamma hyper-parameter\n",
    "    clf = GridSearchCV(\n",
    "        forest_clf,\n",
    "        cv=StratifiedKFold(n_splits=ncvfold, random_state=random_state, shuffle=True),\n",
    "        param_grid=param_grid,\n",
    "        scoring=scoring,\n",
    "    )\n",
    "\n",
    "    clf.fit(X_train, y_train)\n",
    "    cm = ConfusionMatrix(y_test, clf.predict(X_test))\n",
    "    cms.append(cm)"
   ]
  },
  {
   "cell_type": "code",
   "execution_count": 196,
   "metadata": {},
   "outputs": [],
   "source": [
    "baseline_av = ConfusionMatrix(matrix=sum([cm.to_array() for cm in cms])) "
   ]
  },
  {
   "cell_type": "code",
   "execution_count": 197,
   "metadata": {},
   "outputs": [
    {
     "data": {
      "text/plain": [
       "<AxesSubplot:>"
      ]
     },
     "execution_count": 197,
     "metadata": {},
     "output_type": "execute_result"
    },
    {
     "data": {
      "image/png": "[encoded data removed]",
      "text/plain": [
       "<Figure size 432x288 with 2 Axes>"
      ]
     },
     "metadata": {
      "needs_background": "light"
     },
     "output_type": "display_data"
    }
   ],
   "source": [
    "sns.heatmap(baseline_av.to_array(normalized=True), cmap='RdBu_r', annot=True, fmt='.2f')"
   ]
  },
  {
   "cell_type": "code",
   "execution_count": null,
   "metadata": {},
   "outputs": [],
   "source": []
  }
 ],
 "metadata": {
  "kernelspec": {
   "display_name": "Python 3.9.13 ('gpt3')",
   "language": "python",
   "name": "python3"
  },
  "language_info": {
   "codemirror_mode": {
    "name": "ipython",
    "version": 3
   },
   "file_extension": ".py",
   "mimetype": "text/x-python",
   "name": "python",
   "nbconvert_exporter": "python",
   "pygments_lexer": "ipython3",
   "version": "3.9.13"
  },
  "orig_nbformat": 4,
  "vscode": {
   "interpreter": {
    "hash": "9a4fa60962de90e73b5da8d67a44b01d2de04630d82b94b8db1f727a73d31e61"
   }
  }
 },
 "nbformat": 4,
 "nbformat_minor": 2
}
