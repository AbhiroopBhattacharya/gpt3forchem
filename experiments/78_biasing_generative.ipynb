{
 "cells": [
  {
   "cell_type": "markdown",
   "metadata": {},
   "source": [
    "# Iteratively bias the generative modeling"
   ]
  },
  {
   "cell_type": "markdown",
   "metadata": {},
   "source": [
    "1) Loading the generated molecules at all temperatures.\n",
    "2) Select those over some threshold\n",
    "3) Retrain model"
   ]
  },
  {
   "cell_type": "code",
   "execution_count": 1,
   "metadata": {},
   "outputs": [],
   "source": [
    "import pandas as pd \n",
    "from gpt3forchem.api_wrappers import fine_tune, query_gpt3, extract_prediction\n",
    "from glob import glob\n",
    "import matplotlib.pyplot as plt\n",
    "import seaborn as sns\n",
    "from gpt3forchem.output import test_inverse_bandgap\n",
    "import numpy as np\n",
    "import time\n",
    "from fastcore.helpers import save_pickle\n",
    "plt.style.use(['science', 'nature'])"
   ]
  },
  {
   "cell_type": "code",
   "execution_count": 2,
   "metadata": {},
   "outputs": [],
   "source": [
    "def load_gaps(filename):\n",
    "    with open(filename) as f:\n",
    "        lines = f.readlines()\n",
    "\n",
    "    smiles_file = filename.replace(\"_gaps\", \"\")\n",
    "\n",
    "    smiles_ = []\n",
    "    with open(smiles_file) as f:\n",
    "        for line in f.readlines():\n",
    "            smiles_.append(line.strip())\n",
    "    \n",
    "\n",
    "    gaps = []\n",
    "    smiles = []\n",
    "    path = []\n",
    "    for i, line in enumerate(lines):\n",
    "        try:\n",
    "            smile, gap = line.split()\n",
    "            num = int(smile.split('/')[-1])\n",
    "            gaps.append(float(gap))\n",
    "            smiles.append(smiles_[num])\n",
    "            path.append(smile)\n",
    "        except:\n",
    "            pass\n",
    "    temperature = float(filename.split(\"sets\")[-1].split(\"_\")[0])\n",
    "    return pd.DataFrame({\"smiles\": smiles, \"gap\": gaps, \"temperature\": temperature, \"path\": path})"
   ]
  },
  {
   "cell_type": "code",
   "execution_count": 3,
   "metadata": {},
   "outputs": [],
   "source": [
    "res = load_gaps(\"/Users/kevinmaikjablonka/git/kjappelbaum/gpt3forchem/experiments/for_more_xtb_opt/2022-12-07-15-51-30_smiles_extrapolation_sets1.25_gaps.txt\")"
   ]
  },
  {
   "cell_type": "code",
   "execution_count": 86,
   "metadata": {},
   "outputs": [
    {
     "data": {
      "text/html": [
       "<div>\n",
       "<style scoped>\n",
       "    .dataframe tbody tr th:only-of-type {\n",
       "        vertical-align: middle;\n",
       "    }\n",
       "\n",
       "    .dataframe tbody tr th {\n",
       "        vertical-align: top;\n",
       "    }\n",
       "\n",
       "    .dataframe thead th {\n",
       "        text-align: right;\n",
       "    }\n",
       "</style>\n",
       "<table border=\"1\" class=\"dataframe\">\n",
       "  <thead>\n",
       "    <tr style=\"text-align: right;\">\n",
       "      <th></th>\n",
       "      <th>smiles</th>\n",
       "      <th>gap</th>\n",
       "      <th>temperature</th>\n",
       "      <th>path</th>\n",
       "    </tr>\n",
       "  </thead>\n",
       "  <tbody>\n",
       "    <tr>\n",
       "      <th>50</th>\n",
       "      <td>[H]C</td>\n",
       "      <td>17.353074</td>\n",
       "      <td>1.25</td>\n",
       "      <td>2022-12-07-15-51-30_smiles_extrapolation_sets1...</td>\n",
       "    </tr>\n",
       "  </tbody>\n",
       "</table>\n",
       "</div>"
      ],
      "text/plain": [
       "   smiles        gap  temperature  \\\n",
       "50   [H]C  17.353074         1.25   \n",
       "\n",
       "                                                 path  \n",
       "50  2022-12-07-15-51-30_smiles_extrapolation_sets1...  "
      ]
     },
     "execution_count": 86,
     "metadata": {},
     "output_type": "execute_result"
    }
   ],
   "source": [
    "res[res['gap'] >14]"
   ]
  },
  {
   "cell_type": "code",
   "execution_count": 10,
   "metadata": {},
   "outputs": [],
   "source": [
    "all_files = glob(\"/Users/kevinmaikjablonka/git/kjappelbaum/gpt3forchem/experiments/for_more_xtb_opt/*_gaps.txt\")"
   ]
  },
  {
   "cell_type": "code",
   "execution_count": 11,
   "metadata": {},
   "outputs": [
    {
     "ename": "FileNotFoundError",
     "evalue": "[Errno 2] No such file or directory: '/Users/kevinmaikjablonka/git/kjappelbaum/gpt3forchem/experiments/for_more_xtb_opt/2022-12-09-23-20-30_smiles_iteration_1_biased_sets1.5.txt'",
     "output_type": "error",
     "traceback": [
      "\u001b[0;31m---------------------------------------------------------------------------\u001b[0m",
      "\u001b[0;31mFileNotFoundError\u001b[0m                         Traceback (most recent call last)",
      "\u001b[1;32m/Users/kevinmaikjablonka/git/kjappelbaum/gpt3forchem/experiments/78_biasing_generative.ipynb Cell 8\u001b[0m in \u001b[0;36m<cell line: 2>\u001b[0;34m()\u001b[0m\n\u001b[1;32m      <a href='vscode-notebook-cell:/Users/kevinmaikjablonka/git/kjappelbaum/gpt3forchem/experiments/78_biasing_generative.ipynb#X10sZmlsZQ%3D%3D?line=0'>1</a>\u001b[0m all_res \u001b[39m=\u001b[39m []\n\u001b[1;32m      <a href='vscode-notebook-cell:/Users/kevinmaikjablonka/git/kjappelbaum/gpt3forchem/experiments/78_biasing_generative.ipynb#X10sZmlsZQ%3D%3D?line=1'>2</a>\u001b[0m \u001b[39mfor\u001b[39;00m file \u001b[39min\u001b[39;00m all_files:\n\u001b[0;32m----> <a href='vscode-notebook-cell:/Users/kevinmaikjablonka/git/kjappelbaum/gpt3forchem/experiments/78_biasing_generative.ipynb#X10sZmlsZQ%3D%3D?line=2'>3</a>\u001b[0m     all_res\u001b[39m.\u001b[39mappend(load_gaps(file))\n",
      "\u001b[1;32m/Users/kevinmaikjablonka/git/kjappelbaum/gpt3forchem/experiments/78_biasing_generative.ipynb Cell 8\u001b[0m in \u001b[0;36mload_gaps\u001b[0;34m(filename)\u001b[0m\n\u001b[1;32m      <a href='vscode-notebook-cell:/Users/kevinmaikjablonka/git/kjappelbaum/gpt3forchem/experiments/78_biasing_generative.ipynb#X10sZmlsZQ%3D%3D?line=4'>5</a>\u001b[0m smiles_file \u001b[39m=\u001b[39m filename\u001b[39m.\u001b[39mreplace(\u001b[39m\"\u001b[39m\u001b[39m_gaps\u001b[39m\u001b[39m\"\u001b[39m, \u001b[39m\"\u001b[39m\u001b[39m\"\u001b[39m)\n\u001b[1;32m      <a href='vscode-notebook-cell:/Users/kevinmaikjablonka/git/kjappelbaum/gpt3forchem/experiments/78_biasing_generative.ipynb#X10sZmlsZQ%3D%3D?line=6'>7</a>\u001b[0m smiles_ \u001b[39m=\u001b[39m []\n\u001b[0;32m----> <a href='vscode-notebook-cell:/Users/kevinmaikjablonka/git/kjappelbaum/gpt3forchem/experiments/78_biasing_generative.ipynb#X10sZmlsZQ%3D%3D?line=7'>8</a>\u001b[0m \u001b[39mwith\u001b[39;00m \u001b[39mopen\u001b[39;49m(smiles_file) \u001b[39mas\u001b[39;00m f:\n\u001b[1;32m      <a href='vscode-notebook-cell:/Users/kevinmaikjablonka/git/kjappelbaum/gpt3forchem/experiments/78_biasing_generative.ipynb#X10sZmlsZQ%3D%3D?line=8'>9</a>\u001b[0m     \u001b[39mfor\u001b[39;00m line \u001b[39min\u001b[39;00m f\u001b[39m.\u001b[39mreadlines():\n\u001b[1;32m     <a href='vscode-notebook-cell:/Users/kevinmaikjablonka/git/kjappelbaum/gpt3forchem/experiments/78_biasing_generative.ipynb#X10sZmlsZQ%3D%3D?line=9'>10</a>\u001b[0m         smiles_\u001b[39m.\u001b[39mappend(line\u001b[39m.\u001b[39mstrip())\n",
      "\u001b[0;31mFileNotFoundError\u001b[0m: [Errno 2] No such file or directory: '/Users/kevinmaikjablonka/git/kjappelbaum/gpt3forchem/experiments/for_more_xtb_opt/2022-12-09-23-20-30_smiles_iteration_1_biased_sets1.5.txt'"
     ]
    }
   ],
   "source": [
    "all_res = []\n",
    "for file in all_files:\n",
    "    all_res.append(load_gaps(file))"
   ]
  },
  {
   "cell_type": "code",
   "execution_count": 6,
   "metadata": {},
   "outputs": [
    {
     "ename": "ValueError",
     "evalue": "No objects to concatenate",
     "output_type": "error",
     "traceback": [
      "\u001b[0;31m---------------------------------------------------------------------------\u001b[0m",
      "\u001b[0;31mValueError\u001b[0m                                Traceback (most recent call last)",
      "\u001b[1;32m/Users/kevinmaikjablonka/git/kjappelbaum/gpt3forchem/experiments/78_biasing_generative.ipynb Cell 9\u001b[0m in \u001b[0;36m<cell line: 1>\u001b[0;34m()\u001b[0m\n\u001b[0;32m----> <a href='vscode-notebook-cell:/Users/kevinmaikjablonka/git/kjappelbaum/gpt3forchem/experiments/78_biasing_generative.ipynb#X11sZmlsZQ%3D%3D?line=0'>1</a>\u001b[0m all_res \u001b[39m=\u001b[39m pd\u001b[39m.\u001b[39;49mconcat(all_res)\n",
      "File \u001b[0;32m~/miniconda3/envs/gpt3/lib/python3.9/site-packages/pandas/util/_decorators.py:311\u001b[0m, in \u001b[0;36mdeprecate_nonkeyword_arguments.<locals>.decorate.<locals>.wrapper\u001b[0;34m(*args, **kwargs)\u001b[0m\n\u001b[1;32m    305\u001b[0m \u001b[39mif\u001b[39;00m \u001b[39mlen\u001b[39m(args) \u001b[39m>\u001b[39m num_allow_args:\n\u001b[1;32m    306\u001b[0m     warnings\u001b[39m.\u001b[39mwarn(\n\u001b[1;32m    307\u001b[0m         msg\u001b[39m.\u001b[39mformat(arguments\u001b[39m=\u001b[39marguments),\n\u001b[1;32m    308\u001b[0m         \u001b[39mFutureWarning\u001b[39;00m,\n\u001b[1;32m    309\u001b[0m         stacklevel\u001b[39m=\u001b[39mstacklevel,\n\u001b[1;32m    310\u001b[0m     )\n\u001b[0;32m--> 311\u001b[0m \u001b[39mreturn\u001b[39;00m func(\u001b[39m*\u001b[39;49margs, \u001b[39m*\u001b[39;49m\u001b[39m*\u001b[39;49mkwargs)\n",
      "File \u001b[0;32m~/miniconda3/envs/gpt3/lib/python3.9/site-packages/pandas/core/reshape/concat.py:347\u001b[0m, in \u001b[0;36mconcat\u001b[0;34m(objs, axis, join, ignore_index, keys, levels, names, verify_integrity, sort, copy)\u001b[0m\n\u001b[1;32m    143\u001b[0m \u001b[39m@deprecate_nonkeyword_arguments\u001b[39m(version\u001b[39m=\u001b[39m\u001b[39mNone\u001b[39;00m, allowed_args\u001b[39m=\u001b[39m[\u001b[39m\"\u001b[39m\u001b[39mobjs\u001b[39m\u001b[39m\"\u001b[39m])\n\u001b[1;32m    144\u001b[0m \u001b[39mdef\u001b[39;00m \u001b[39mconcat\u001b[39m(\n\u001b[1;32m    145\u001b[0m     objs: Iterable[NDFrame] \u001b[39m|\u001b[39m Mapping[Hashable, NDFrame],\n\u001b[0;32m   (...)\u001b[0m\n\u001b[1;32m    154\u001b[0m     copy: \u001b[39mbool\u001b[39m \u001b[39m=\u001b[39m \u001b[39mTrue\u001b[39;00m,\n\u001b[1;32m    155\u001b[0m ) \u001b[39m-\u001b[39m\u001b[39m>\u001b[39m DataFrame \u001b[39m|\u001b[39m Series:\n\u001b[1;32m    156\u001b[0m     \u001b[39m\"\"\"\u001b[39;00m\n\u001b[1;32m    157\u001b[0m \u001b[39m    Concatenate pandas objects along a particular axis with optional set logic\u001b[39;00m\n\u001b[1;32m    158\u001b[0m \u001b[39m    along the other axes.\u001b[39;00m\n\u001b[0;32m   (...)\u001b[0m\n\u001b[1;32m    345\u001b[0m \u001b[39m    ValueError: Indexes have overlapping values: ['a']\u001b[39;00m\n\u001b[1;32m    346\u001b[0m \u001b[39m    \"\"\"\u001b[39;00m\n\u001b[0;32m--> 347\u001b[0m     op \u001b[39m=\u001b[39m _Concatenator(\n\u001b[1;32m    348\u001b[0m         objs,\n\u001b[1;32m    349\u001b[0m         axis\u001b[39m=\u001b[39;49maxis,\n\u001b[1;32m    350\u001b[0m         ignore_index\u001b[39m=\u001b[39;49mignore_index,\n\u001b[1;32m    351\u001b[0m         join\u001b[39m=\u001b[39;49mjoin,\n\u001b[1;32m    352\u001b[0m         keys\u001b[39m=\u001b[39;49mkeys,\n\u001b[1;32m    353\u001b[0m         levels\u001b[39m=\u001b[39;49mlevels,\n\u001b[1;32m    354\u001b[0m         names\u001b[39m=\u001b[39;49mnames,\n\u001b[1;32m    355\u001b[0m         verify_integrity\u001b[39m=\u001b[39;49mverify_integrity,\n\u001b[1;32m    356\u001b[0m         copy\u001b[39m=\u001b[39;49mcopy,\n\u001b[1;32m    357\u001b[0m         sort\u001b[39m=\u001b[39;49msort,\n\u001b[1;32m    358\u001b[0m     )\n\u001b[1;32m    360\u001b[0m     \u001b[39mreturn\u001b[39;00m op\u001b[39m.\u001b[39mget_result()\n",
      "File \u001b[0;32m~/miniconda3/envs/gpt3/lib/python3.9/site-packages/pandas/core/reshape/concat.py:404\u001b[0m, in \u001b[0;36m_Concatenator.__init__\u001b[0;34m(self, objs, axis, join, keys, levels, names, ignore_index, verify_integrity, copy, sort)\u001b[0m\n\u001b[1;32m    401\u001b[0m     objs \u001b[39m=\u001b[39m \u001b[39mlist\u001b[39m(objs)\n\u001b[1;32m    403\u001b[0m \u001b[39mif\u001b[39;00m \u001b[39mlen\u001b[39m(objs) \u001b[39m==\u001b[39m \u001b[39m0\u001b[39m:\n\u001b[0;32m--> 404\u001b[0m     \u001b[39mraise\u001b[39;00m \u001b[39mValueError\u001b[39;00m(\u001b[39m\"\u001b[39m\u001b[39mNo objects to concatenate\u001b[39m\u001b[39m\"\u001b[39m)\n\u001b[1;32m    406\u001b[0m \u001b[39mif\u001b[39;00m keys \u001b[39mis\u001b[39;00m \u001b[39mNone\u001b[39;00m:\n\u001b[1;32m    407\u001b[0m     objs \u001b[39m=\u001b[39m \u001b[39mlist\u001b[39m(com\u001b[39m.\u001b[39mnot_none(\u001b[39m*\u001b[39mobjs))\n",
      "\u001b[0;31mValueError\u001b[0m: No objects to concatenate"
     ]
    }
   ],
   "source": [
    "all_res = pd.concat(all_res)"
   ]
  },
  {
   "cell_type": "code",
   "execution_count": 7,
   "metadata": {},
   "outputs": [
    {
     "ename": "TypeError",
     "evalue": "list indices must be integers or slices, not str",
     "output_type": "error",
     "traceback": [
      "\u001b[0;31m---------------------------------------------------------------------------\u001b[0m",
      "\u001b[0;31mTypeError\u001b[0m                                 Traceback (most recent call last)",
      "\u001b[1;32m/Users/kevinmaikjablonka/git/kjappelbaum/gpt3forchem/experiments/78_biasing_generative.ipynb Cell 10\u001b[0m in \u001b[0;36m<cell line: 1>\u001b[0;34m()\u001b[0m\n\u001b[0;32m----> <a href='vscode-notebook-cell:/Users/kevinmaikjablonka/git/kjappelbaum/gpt3forchem/experiments/78_biasing_generative.ipynb#X12sZmlsZQ%3D%3D?line=0'>1</a>\u001b[0m sns\u001b[39m.\u001b[39mdisplot(all_res[\u001b[39m'\u001b[39;49m\u001b[39mgap\u001b[39;49m\u001b[39m'\u001b[39;49m])\n",
      "\u001b[0;31mTypeError\u001b[0m: list indices must be integers or slices, not str"
     ]
    }
   ],
   "source": [
    "sns.displot(all_res['gap'])"
   ]
  },
  {
   "cell_type": "code",
   "execution_count": 97,
   "metadata": {},
   "outputs": [
    {
     "data": {
      "text/html": [
       "<div>\n",
       "<style scoped>\n",
       "    .dataframe tbody tr th:only-of-type {\n",
       "        vertical-align: middle;\n",
       "    }\n",
       "\n",
       "    .dataframe tbody tr th {\n",
       "        vertical-align: top;\n",
       "    }\n",
       "\n",
       "    .dataframe thead th {\n",
       "        text-align: right;\n",
       "    }\n",
       "</style>\n",
       "<table border=\"1\" class=\"dataframe\">\n",
       "  <thead>\n",
       "    <tr style=\"text-align: right;\">\n",
       "      <th></th>\n",
       "      <th>smiles</th>\n",
       "      <th>gap</th>\n",
       "      <th>temperature</th>\n",
       "      <th>path</th>\n",
       "    </tr>\n",
       "  </thead>\n",
       "  <tbody>\n",
       "    <tr>\n",
       "      <th>0</th>\n",
       "      <td>[H]c1nc([H])c2c(c1[H])C([H])([H])N(C(=O)C([H])...</td>\n",
       "      <td>3.212664</td>\n",
       "      <td>0.5</td>\n",
       "      <td>2022-12-07-15-51-30_smiles_random_biased_sets0...</td>\n",
       "    </tr>\n",
       "    <tr>\n",
       "      <th>1</th>\n",
       "      <td>[H]OC([H])([H])C([H])([H])C([H])([H])C([H])([H...</td>\n",
       "      <td>10.572196</td>\n",
       "      <td>0.5</td>\n",
       "      <td>2022-12-07-15-51-30_smiles_random_biased_sets0...</td>\n",
       "    </tr>\n",
       "    <tr>\n",
       "      <th>4</th>\n",
       "      <td>[H]Oc1c([H])c(C([H])([H])[C@@]([H])(C([H])([H]...</td>\n",
       "      <td>3.632658</td>\n",
       "      <td>0.5</td>\n",
       "      <td>2022-12-07-15-51-30_smiles_random_biased_sets0...</td>\n",
       "    </tr>\n",
       "    <tr>\n",
       "      <th>6</th>\n",
       "      <td>[H]c1c([H])c([H])c(C([H])([H])C([H])([H])N([H]...</td>\n",
       "      <td>3.379229</td>\n",
       "      <td>0.5</td>\n",
       "      <td>2022-12-07-15-51-30_smiles_random_biased_sets0...</td>\n",
       "    </tr>\n",
       "    <tr>\n",
       "      <th>8</th>\n",
       "      <td>[H]c1c([H])c([H])c(C([H])([H])N([H])C(=O)c2c([...</td>\n",
       "      <td>3.669626</td>\n",
       "      <td>0.5</td>\n",
       "      <td>2022-12-07-15-51-30_smiles_random_biased_sets0...</td>\n",
       "    </tr>\n",
       "    <tr>\n",
       "      <th>...</th>\n",
       "      <td>...</td>\n",
       "      <td>...</td>\n",
       "      <td>...</td>\n",
       "      <td>...</td>\n",
       "    </tr>\n",
       "    <tr>\n",
       "      <th>35</th>\n",
       "      <td>[H]OC(=O)C([H])([H])C([H])([H])Oc1Sc(Br)c([H])...</td>\n",
       "      <td>3.180736</td>\n",
       "      <td>1.5</td>\n",
       "      <td>2022-12-07-15-51-30_smiles_extrapolation_sets1...</td>\n",
       "    </tr>\n",
       "    <tr>\n",
       "      <th>37</th>\n",
       "      <td>[H]O</td>\n",
       "      <td>14.388335</td>\n",
       "      <td>1.5</td>\n",
       "      <td>2022-12-07-15-51-30_smiles_extrapolation_sets1...</td>\n",
       "    </tr>\n",
       "    <tr>\n",
       "      <th>38</th>\n",
       "      <td>[H]c1oc(C(C([H])([H])[H])(C([H])([H])[H])C([H]...</td>\n",
       "      <td>4.608166</td>\n",
       "      <td>1.5</td>\n",
       "      <td>2022-12-07-15-51-30_smiles_extrapolation_sets1...</td>\n",
       "    </tr>\n",
       "    <tr>\n",
       "      <th>0</th>\n",
       "      <td>[H]c1c([H])c([H])c(C([H])([H])N2C([H])([H])C([...</td>\n",
       "      <td>3.520630</td>\n",
       "      <td>0.0</td>\n",
       "      <td>2022-12-07-15-51-30_smiles_extrapolation_sets0/0</td>\n",
       "    </tr>\n",
       "    <tr>\n",
       "      <th>1</th>\n",
       "      <td>[H]c1c([H])c([H])c(C([H])([H])N2C([H])([H])C([...</td>\n",
       "      <td>3.290437</td>\n",
       "      <td>0.0</td>\n",
       "      <td>2022-12-07-15-51-30_smiles_extrapolation_sets0/1</td>\n",
       "    </tr>\n",
       "  </tbody>\n",
       "</table>\n",
       "<p>1052 rows × 4 columns</p>\n",
       "</div>"
      ],
      "text/plain": [
       "                                               smiles        gap  temperature  \\\n",
       "0   [H]c1nc([H])c2c(c1[H])C([H])([H])N(C(=O)C([H])...   3.212664          0.5   \n",
       "1   [H]OC([H])([H])C([H])([H])C([H])([H])C([H])([H...  10.572196          0.5   \n",
       "4   [H]Oc1c([H])c(C([H])([H])[C@@]([H])(C([H])([H]...   3.632658          0.5   \n",
       "6   [H]c1c([H])c([H])c(C([H])([H])C([H])([H])N([H]...   3.379229          0.5   \n",
       "8   [H]c1c([H])c([H])c(C([H])([H])N([H])C(=O)c2c([...   3.669626          0.5   \n",
       "..                                                ...        ...          ...   \n",
       "35  [H]OC(=O)C([H])([H])C([H])([H])Oc1Sc(Br)c([H])...   3.180736          1.5   \n",
       "37                                               [H]O  14.388335          1.5   \n",
       "38  [H]c1oc(C(C([H])([H])[H])(C([H])([H])[H])C([H]...   4.608166          1.5   \n",
       "0   [H]c1c([H])c([H])c(C([H])([H])N2C([H])([H])C([...   3.520630          0.0   \n",
       "1   [H]c1c([H])c([H])c(C([H])([H])N2C([H])([H])C([...   3.290437          0.0   \n",
       "\n",
       "                                                 path  \n",
       "0   2022-12-07-15-51-30_smiles_random_biased_sets0...  \n",
       "1   2022-12-07-15-51-30_smiles_random_biased_sets0...  \n",
       "4   2022-12-07-15-51-30_smiles_random_biased_sets0...  \n",
       "6   2022-12-07-15-51-30_smiles_random_biased_sets0...  \n",
       "8   2022-12-07-15-51-30_smiles_random_biased_sets0...  \n",
       "..                                                ...  \n",
       "35  2022-12-07-15-51-30_smiles_extrapolation_sets1...  \n",
       "37  2022-12-07-15-51-30_smiles_extrapolation_sets1...  \n",
       "38  2022-12-07-15-51-30_smiles_extrapolation_sets1...  \n",
       "0    2022-12-07-15-51-30_smiles_extrapolation_sets0/0  \n",
       "1    2022-12-07-15-51-30_smiles_extrapolation_sets0/1  \n",
       "\n",
       "[1052 rows x 4 columns]"
      ]
     },
     "execution_count": 97,
     "metadata": {},
     "output_type": "execute_result"
    }
   ],
   "source": [
    "all_res[all_res['gap']>3]"
   ]
  },
  {
   "cell_type": "code",
   "execution_count": 92,
   "metadata": {},
   "outputs": [
    {
     "data": {
      "text/plain": [
       "'2022-12-07-15-51-30_smiles_extrapolation_sets1.25/8'"
      ]
     },
     "execution_count": 92,
     "metadata": {},
     "output_type": "execute_result"
    }
   ],
   "source": [
    "all_res[all_res['gap']>14]['path'].values[1]"
   ]
  },
  {
   "cell_type": "code",
   "execution_count": 93,
   "metadata": {},
   "outputs": [
    {
     "data": {
      "text/plain": [
       "'[H]C'"
      ]
     },
     "execution_count": 93,
     "metadata": {},
     "output_type": "execute_result"
    }
   ],
   "source": [
    "all_res[all_res['gap']>14]['smiles'].values[1]"
   ]
  },
  {
   "cell_type": "code",
   "execution_count": 102,
   "metadata": {},
   "outputs": [],
   "source": [
    "PROMPT_TEMPLATE_bandgap_inverse = \"What is a molecule with a bandgap of {} eV###\"\n",
    "COMPLETION_TEMPLATE_bandgap_inverse = \"{}@@@\"\n",
    "\n",
    "\n",
    "def generate_inverse_photoswitch_prompts(\n",
    "    data: pd.DataFrame, representation: str = \"smiles\"\n",
    ") -> pd.DataFrame:\n",
    "    prompts = []\n",
    "    completions = []\n",
    "    smiles = []\n",
    "    for i, row in data.iterrows():\n",
    "\n",
    "        prompt = PROMPT_TEMPLATE_bandgap_inverse.format(\n",
    "            np.round(row[\"gap\"] , 1)\n",
    "        )\n",
    "\n",
    "        completion = COMPLETION_TEMPLATE_bandgap_inverse.format(row[representation])\n",
    "        prompts.append(prompt)\n",
    "        completions.append(completion)\n",
    "        smiles.append(row[\"smiles\"])\n",
    "\n",
    "    prompts = pd.DataFrame(\n",
    "        {\"prompt\": prompts, \"completion\": completions, \"SMILES\": smiles}\n",
    "    )\n",
    "\n",
    "    return prompts"
   ]
  },
  {
   "cell_type": "code",
   "execution_count": 113,
   "metadata": {},
   "outputs": [],
   "source": [
    "def train_inverse_model(train_prompts, representation):\n",
    "\n",
    "    train_size = len(train_prompts)\n",
    "\n",
    "    filename_base = time.strftime(\"%Y-%m-%d-%H-%M-%S\", time.localtime())\n",
    "    train_filename = f\"run_files/{filename_base}_iterative_train_prompts_bandgap_inverse_{representation}_{train_size}.jsonl\"\n",
    "\n",
    "    train_prompts.to_json(train_filename, orient=\"records\", lines=True)\n",
    "\n",
    "    modelname = fine_tune(train_filename, train_filename, \"ada\")\n",
    "    return modelname, train_filename"
   ]
  },
  {
   "cell_type": "code",
   "execution_count": 116,
   "metadata": {},
   "outputs": [],
   "source": [
    "def test_inverse_model(\n",
    "    modelname,\n",
    "    test_prompts,\n",
    "    df_train,\n",
    "    max_tokens: int = 250,\n",
    "    temperatures=None,\n",
    "    representation=\"SMILES\",\n",
    "):\n",
    "    temperatures = temperatures or [0, 0.25, 0.5, 0.75, 1.0, 1.25, 1.5]\n",
    "    train_smiles = df_train[\"SMILES\"].to_list()\n",
    "    results = []\n",
    "    for temperature in temperatures:\n",
    "        try:\n",
    "            print(f\"Testing temperature {temperature} for {representation}\")\n",
    "            result = test_inverse_bandgap(\n",
    "                test_prompts,\n",
    "                modelname,\n",
    "                train_smiles=train_smiles,\n",
    "                temperature=temperature,\n",
    "                max_tokens=max_tokens,\n",
    "                representation=representation,\n",
    "            )\n",
    "\n",
    "            results.append(result)\n",
    "        except Exception as e:\n",
    "            print(e)\n",
    "            pass\n",
    "\n",
    "    return results"
   ]
  },
  {
   "cell_type": "code",
   "execution_count": 100,
   "metadata": {},
   "outputs": [
    {
     "data": {
      "text/plain": [
       "<seaborn.axisgrid.FacetGrid at 0x137f5e670>"
      ]
     },
     "execution_count": 100,
     "metadata": {},
     "output_type": "execute_result"
    },
    {
     "data": {
      "image/png": "[encoded data removed]",
      "text/plain": [
       "<Figure size 360x360 with 1 Axes>"
      ]
     },
     "metadata": {},
     "output_type": "display_data"
    }
   ],
   "source": [
    "sns.displot(all_res[all_res['gap']>3]['gap'])"
   ]
  },
  {
   "cell_type": "code",
   "execution_count": 103,
   "metadata": {},
   "outputs": [],
   "source": [
    "large_gap = all_res[all_res['gap']>3]"
   ]
  },
  {
   "cell_type": "code",
   "execution_count": 104,
   "metadata": {},
   "outputs": [],
   "source": [
    "large_gap_prompts = generate_inverse_photoswitch_prompts(large_gap)"
   ]
  },
  {
   "cell_type": "code",
   "execution_count": 105,
   "metadata": {},
   "outputs": [
    {
     "data": {
      "text/plain": [
       "1052"
      ]
     },
     "execution_count": 105,
     "metadata": {},
     "output_type": "execute_result"
    }
   ],
   "source": [
    "len(large_gap_prompts)"
   ]
  },
  {
   "cell_type": "code",
   "execution_count": 111,
   "metadata": {},
   "outputs": [],
   "source": [
    "random_bandgaps = np.random.normal(4.0, 0.2, size=len(large_gap_prompts)) \n",
    "test_set_random_biased = large_gap.copy()\n",
    "test_set_random_biased['gap'] = random_bandgaps\n",
    "filename_base = time.strftime(\"%Y-%m-%d-%H-%M-%S\", time.localtime())\n",
    "\n",
    "test_prompts_random_biased = generate_inverse_photoswitch_prompts(test_set_random_biased)\n",
    "valid_filename_random_biased = f\"run_files/{filename_base}_iterative_valid_prompts_bandgap_inverse_smiles_random_biased.jsonl\"\n",
    "test_prompts_random_biased.to_json(valid_filename_random_biased, orient=\"records\", lines=True)"
   ]
  },
  {
   "cell_type": "code",
   "execution_count": 112,
   "metadata": {},
   "outputs": [
    {
     "data": {
      "text/plain": [
       "<seaborn.axisgrid.FacetGrid at 0x29e524c70>"
      ]
     },
     "execution_count": 112,
     "metadata": {},
     "output_type": "execute_result"
    },
    {
     "data": {
      "image/png": "[encoded data removed]",
      "text/plain": [
       "<Figure size 360x360 with 1 Axes>"
      ]
     },
     "metadata": {},
     "output_type": "display_data"
    }
   ],
   "source": [
    "sns.displot(random_bandgaps)"
   ]
  },
  {
   "cell_type": "code",
   "execution_count": 114,
   "metadata": {},
   "outputs": [
    {
     "name": "stderr",
     "output_type": "stream",
     "text": [
      "Traceback (most recent call last):\n",
      "  File \"/Users/kevinmaikjablonka/miniconda3/envs/gpt3/bin/openai\", line 8, in <module>\n",
      "    sys.exit(main())\n",
      "  File \"/Users/kevinmaikjablonka/miniconda3/envs/gpt3/lib/python3.9/site-packages/openai/_openai_scripts.py\", line 63, in main\n",
      "    args.func(args)\n",
      "  File \"/Users/kevinmaikjablonka/miniconda3/envs/gpt3/lib/python3.9/site-packages/openai/cli.py\", line 545, in sync\n",
      "    resp = openai.wandb_logger.WandbLogger.sync(\n",
      "  File \"/Users/kevinmaikjablonka/miniconda3/envs/gpt3/lib/python3.9/site-packages/openai/wandb_logger.py\", line 74, in sync\n",
      "    fine_tune_logged = [\n",
      "  File \"/Users/kevinmaikjablonka/miniconda3/envs/gpt3/lib/python3.9/site-packages/openai/wandb_logger.py\", line 75, in <listcomp>\n",
      "    cls._log_fine_tune(\n",
      "  File \"/Users/kevinmaikjablonka/miniconda3/envs/gpt3/lib/python3.9/site-packages/openai/wandb_logger.py\", line 125, in _log_fine_tune\n",
      "    wandb_run = cls._get_wandb_run(run_path)\n",
      "  File \"/Users/kevinmaikjablonka/miniconda3/envs/gpt3/lib/python3.9/site-packages/openai/wandb_logger.py\", line 190, in _get_wandb_run\n",
      "    cls._ensure_logged_in()\n",
      "  File \"/Users/kevinmaikjablonka/miniconda3/envs/gpt3/lib/python3.9/site-packages/openai/wandb_logger.py\", line 186, in _ensure_logged_in\n",
      "    raise Exception(\"You need to log in to wandb\")\n",
      "Exception: You need to log in to wandb\n"
     ]
    },
    {
     "data": {
      "text/plain": [
       "('ada:ft-lsmoepfl-2022-12-09-22-38-37',\n",
       " 'run_files/2022-12-09-23-22-11_iterative_train_prompts_bandgap_inverse_smiles_1052.jsonl')"
      ]
     },
     "execution_count": 114,
     "metadata": {},
     "output_type": "execute_result"
    }
   ],
   "source": [
    "train_inverse_model(large_gap_prompts, \"smiles\")"
   ]
  },
  {
   "cell_type": "code",
   "execution_count": 117,
   "metadata": {},
   "outputs": [
    {
     "name": "stdout",
     "output_type": "stream",
     "text": [
      "Testing temperature 0 for SMILES\n"
     ]
    },
    {
     "name": "stderr",
     "output_type": "stream",
     "text": [
      "2022-12-09 23:51:25.966 | DEBUG    | gpt3forchem.output:test_inverse_bandgap:931 - Got predictions, example: [H]c1c([H])c([H])c(C([H])([H])N([H])C(=O)C([H])([H])c2c([H])c([H])c(C([H])([H])[H])c([H])c2[H])c([H])c1[H]\n",
      "2022-12-09 23:51:25.966 | DEBUG    | gpt3forchem.output:test_inverse_bandgap:942 - Loaded predictions. Example: [H]c1c([H])c([H])c(C([H])([H])N([H])C(=O)C([H])([H])c2c([H])c([H])c(C([H])([H])[H])c([H])c2[H])c([H])c1[H]\n",
      "2022-12-09 23:51:26.066 | DEBUG    | gpt3forchem.output:test_inverse_bandgap:953 - Calculating Frechet ChemNet distance for 1052 samples\n",
      "2022-12-09 23:51:26.120 | INFO     | gpt3forchem.output:_load_chemnet:218 - Saved ChemNet model to '/var/folders/m9/_txh68y946s4pxy1x2wnd3lh0000gn/T/ChemNet_v0.13_pretrained.h5'\n",
      "2022-12-09 23:51:27.013489: W tensorflow/core/platform/profile_utils/cpu_utils.cc:128] Failed to get CPU frequency: 0 Hz\n",
      "2022-12-09 23:51:34.635 | DEBUG    | gpt3forchem.output:test_inverse_bandgap:962 - Computed frechet score: (52.243671484551875, 2.8984936414579686e-05)\n",
      "2022-12-09 23:51:37.188 | DEBUG    | gpt3forchem.output:test_inverse_bandgap:973 - Computed KL div score: nan\n"
     ]
    },
    {
     "name": "stdout",
     "output_type": "stream",
     "text": [
      "Testing temperature 0.25 for SMILES\n"
     ]
    },
    {
     "name": "stderr",
     "output_type": "stream",
     "text": [
      "2022-12-09 23:58:24.856 | DEBUG    | gpt3forchem.output:test_inverse_bandgap:931 - Got predictions, example: [H]c1c([H])c([H])c(C([H])([H])N([H])C(=O)C([H])([H])c2c([H])c([H])c(C([H])([H])[H])c([H])c2[H])c([H])c1[H]\n",
      "2022-12-09 23:58:24.856 | DEBUG    | gpt3forchem.output:test_inverse_bandgap:942 - Loaded predictions. Example: [H]c1c([H])c([H])c(C([H])([H])N([H])C(=O)C([H])([H])c2c([H])c([H])c(C([H])([H])[H])c([H])c2[H])c([H])c1[H]\n",
      "2022-12-09 23:58:24.965 | DEBUG    | gpt3forchem.output:test_inverse_bandgap:953 - Calculating Frechet ChemNet distance for 1038 samples\n",
      "2022-12-09 23:58:25.034 | INFO     | gpt3forchem.output:_load_chemnet:218 - Saved ChemNet model to '/var/folders/m9/_txh68y946s4pxy1x2wnd3lh0000gn/T/ChemNet_v0.13_pretrained.h5'\n",
      "2022-12-09 23:58:32.549 | DEBUG    | gpt3forchem.output:test_inverse_bandgap:962 - Computed frechet score: (40.322944841288816, 0.00031448034863049)\n",
      "2022-12-09 23:58:35.424 | DEBUG    | gpt3forchem.output:test_inverse_bandgap:973 - Computed KL div score: 0.4866439818310642\n"
     ]
    },
    {
     "name": "stdout",
     "output_type": "stream",
     "text": [
      "Testing temperature 0.5 for SMILES\n"
     ]
    },
    {
     "name": "stderr",
     "output_type": "stream",
     "text": [
      "2022-12-10 00:04:55.654 | DEBUG    | gpt3forchem.output:test_inverse_bandgap:931 - Got predictions, example: [H]c1nc([H])c(C([H])([H])N([H])C(=O)C([H])([H])c2c([H])c([H])c([H])c([H])c2C([H])([H])[H])c([H])c1[H]\n",
      "2022-12-10 00:04:55.655 | DEBUG    | gpt3forchem.output:test_inverse_bandgap:942 - Loaded predictions. Example: [H]c1nc([H])c(C([H])([H])N([H])C(=O)C([H])([H])c2c([H])c([H])c([H])c([H])c2C([H])([H])[H])c([H])c1[H]\n",
      "2022-12-10 00:04:55.794 | DEBUG    | gpt3forchem.output:test_inverse_bandgap:953 - Calculating Frechet ChemNet distance for 1020 samples\n",
      "2022-12-10 00:04:55.841 | INFO     | gpt3forchem.output:_load_chemnet:218 - Saved ChemNet model to '/var/folders/m9/_txh68y946s4pxy1x2wnd3lh0000gn/T/ChemNet_v0.13_pretrained.h5'\n",
      "2022-12-10 00:05:03.635 | DEBUG    | gpt3forchem.output:test_inverse_bandgap:962 - Computed frechet score: (18.313737511321456, 0.025661909624882816)\n",
      "2022-12-10 00:05:07.020 | DEBUG    | gpt3forchem.output:test_inverse_bandgap:973 - Computed KL div score: 0.730348596382304\n"
     ]
    },
    {
     "name": "stdout",
     "output_type": "stream",
     "text": [
      "Testing temperature 0.75 for SMILES\n"
     ]
    },
    {
     "name": "stderr",
     "output_type": "stream",
     "text": [
      "2022-12-10 00:11:29.036 | DEBUG    | gpt3forchem.output:test_inverse_bandgap:931 - Got predictions, example: [H]c1c([H])c([H])c(S(=O)(=O)N([H])C([H])([H])C([H])([H])C([H])([H])N2C(=O)N(C([H])([H])[H])C([H])([H])C([H])([H])C2([H])[H])c([H])c1[H]\n",
      "2022-12-10 00:11:29.036 | DEBUG    | gpt3forchem.output:test_inverse_bandgap:942 - Loaded predictions. Example: [H]c1c([H])c([H])c(S(=O)(=O)N([H])C([H])([H])C([H])([H])C([H])([H])N2C(=O)N(C([H])([H])[H])C([H])([H])C([H])([H])C2([H])[H])c([H])c1[H]\n",
      "2022-12-10 00:11:29.201 | DEBUG    | gpt3forchem.output:test_inverse_bandgap:953 - Calculating Frechet ChemNet distance for 976 samples\n",
      "2022-12-10 00:11:29.264 | INFO     | gpt3forchem.output:_load_chemnet:218 - Saved ChemNet model to '/var/folders/m9/_txh68y946s4pxy1x2wnd3lh0000gn/T/ChemNet_v0.13_pretrained.h5'\n",
      "2022-12-10 00:11:36.548 | DEBUG    | gpt3forchem.output:test_inverse_bandgap:962 - Computed frechet score: (6.11185915362865, 0.2945307607073991)\n",
      "2022-12-10 00:11:40.694 | DEBUG    | gpt3forchem.output:test_inverse_bandgap:973 - Computed KL div score: 0.8832625471331383\n"
     ]
    },
    {
     "name": "stdout",
     "output_type": "stream",
     "text": [
      "Testing temperature 1.0 for SMILES\n"
     ]
    },
    {
     "name": "stderr",
     "output_type": "stream",
     "text": [
      "2022-12-10 00:18:06.130 | DEBUG    | gpt3forchem.output:test_inverse_bandgap:931 - Got predictions, example: [H]c1nc(N([H])[H])c([H])c(C([H])([H])[C@@]2([H])C([H])([H])[C@]([H])(C([H])([H])N([H])C(=O)C([H])([H])[C@]([H])(C([H])([H])[H])C2([H])[H])C([H])([H])C2([H])[H])c1[H]\n",
      "2022-12-10 00:18:06.131 | DEBUG    | gpt3forchem.output:test_inverse_bandgap:942 - Loaded predictions. Example: [H]c1nc(N([H])[H])c([H])c(C([H])([H])[C@@]2([H])C([H])([H])[C@]([H])(C([H])([H])N([H])C(=O)C([H])([H])[C@]([H])(C([H])([H])[H])C2([H])[H])C([H])([H])C2([H])[H])c1[H]\n",
      "2022-12-10 00:18:06.364 | DEBUG    | gpt3forchem.output:test_inverse_bandgap:953 - Calculating Frechet ChemNet distance for 790 samples\n",
      "2022-12-10 00:18:06.432 | INFO     | gpt3forchem.output:_load_chemnet:218 - Saved ChemNet model to '/var/folders/m9/_txh68y946s4pxy1x2wnd3lh0000gn/T/ChemNet_v0.13_pretrained.h5'\n",
      "2022-12-10 00:18:14.026 | DEBUG    | gpt3forchem.output:test_inverse_bandgap:962 - Computed frechet score: (3.1105618472356227, 0.5368092995380155)\n",
      "2022-12-10 00:18:17.993 | DEBUG    | gpt3forchem.output:test_inverse_bandgap:973 - Computed KL div score: 0.9578347942317702\n"
     ]
    },
    {
     "name": "stdout",
     "output_type": "stream",
     "text": [
      "Testing temperature 1.25 for SMILES\n"
     ]
    },
    {
     "name": "stderr",
     "output_type": "stream",
     "text": [
      "2022-12-10 00:25:13.654 | DEBUG    | gpt3forchem.output:test_inverse_bandgap:931 - Got predictions, example: [H]FK&&\n",
      "2022-12-10 00:25:13.656 | DEBUG    | gpt3forchem.output:test_inverse_bandgap:942 - Loaded predictions. Example: [H]FK&&\n",
      "2022-12-10 00:25:13.981 | DEBUG    | gpt3forchem.output:test_inverse_bandgap:953 - Calculating Frechet ChemNet distance for 469 samples\n",
      "2022-12-10 00:25:14.038 | INFO     | gpt3forchem.output:_load_chemnet:218 - Saved ChemNet model to '/var/folders/m9/_txh68y946s4pxy1x2wnd3lh0000gn/T/ChemNet_v0.13_pretrained.h5'\n",
      "2022-12-10 00:25:21.383 | DEBUG    | gpt3forchem.output:test_inverse_bandgap:962 - Computed frechet score: (4.715856152336599, 0.3893910266049677)\n",
      "2022-12-10 00:25:23.810 | DEBUG    | gpt3forchem.output:test_inverse_bandgap:973 - Computed KL div score: 0.9282424481250438\n"
     ]
    },
    {
     "name": "stdout",
     "output_type": "stream",
     "text": [
      "Testing temperature 1.5 for SMILES\n",
      "That model is still being loaded. Please try again shortly.\n"
     ]
    }
   ],
   "source": [
    "iteration_1_test_results = test_inverse_model(\"ada:ft-lsmoepfl-2022-12-09-22-38-37\", test_prompts_random_biased, large_gap_prompts)"
   ]
  },
  {
   "cell_type": "code",
   "execution_count": 119,
   "metadata": {},
   "outputs": [],
   "source": [
    "save_pickle(f\"run_files/{filename_base}-iteration_1_results_extrapolation_smiles_more.pkl\", iteration_1_test_results)"
   ]
  },
  {
   "cell_type": "code",
   "execution_count": 120,
   "metadata": {},
   "outputs": [],
   "source": [
    "smiles_random_biased_sets = []\n",
    "\n",
    "for res in iteration_1_test_results:\n",
    "    result = {}\n",
    "    result[\"temperature\"] = res[\"meta\"][\"temperature\"]\n",
    "    result[\"smiles\"] = set(\n",
    "        res[\"predictions\"][res[\"valid_smiles\"]]\n",
    "    )\n",
    "    result['original_prediction_indices'] = [i for i, x in enumerate(res[\"predictions\"]) if x in result['smiles']]\n",
    "    result['expected'] = [res['expectations'][i] for i in result['original_prediction_indices']]\n",
    "    smiles_random_biased_sets.append(result)\n",
    "\n",
    "for res in smiles_random_biased_sets:\n",
    "    temp = res[\"temperature\"]\n",
    "    smiles_set = res[\"smiles\"]\n",
    "    with open(f\"for_more_xtb_opt/{filename_base}_smiles_iteration_1_biased_sets{temp}.txt\", \"w\") as f:\n",
    "        for i, smiles in enumerate(smiles_set):\n",
    "            if i != len(smiles_set) - 1:\n",
    "                f.write(smiles + \"\\n\")\n",
    "            else:\n",
    "                f.write(smiles)"
   ]
  },
  {
   "cell_type": "code",
   "execution_count": 133,
   "metadata": {},
   "outputs": [],
   "source": [
    "biased_gap_files = glob(\"/Users/kevinmaikjablonka/git/kjappelbaum/gpt3forchem/experiments/for_more_xtb_opt/*_smiles_random_biased_sets*_gaps.txt\")"
   ]
  },
  {
   "cell_type": "code",
   "execution_count": 134,
   "metadata": {},
   "outputs": [],
   "source": [
    "biased_gap_res = []\n",
    "for file in biased_gap_files:\n",
    "    biased_gap_res.append(load_gaps(file))"
   ]
  },
  {
   "cell_type": "code",
   "execution_count": 136,
   "metadata": {},
   "outputs": [],
   "source": [
    "biased_gap_res = pd.concat(biased_gap_res)"
   ]
  },
  {
   "cell_type": "code",
   "execution_count": 165,
   "metadata": {},
   "outputs": [
    {
     "data": {
      "text/plain": [
       "<AxesSubplot:xlabel='gap', ylabel='Density'>"
      ]
     },
     "execution_count": 165,
     "metadata": {},
     "output_type": "execute_result"
    },
    {
     "data": {
      "image/png": "[encoded data removed]",
      "text/plain": [
       "<Figure size 720x720 with 1 Axes>"
      ]
     },
     "metadata": {},
     "output_type": "display_data"
    }
   ],
   "source": [
    "fig, ax = plt.subplots(figsize=(10, 10))\n",
    "sns.distplot(all_res[all_res['temperature']>0]['gap'], ax=ax)\n",
    "sns.distplot(biased_gap_res[biased_gap_res['temperature']>0]['gap'], ax=ax)\n"
   ]
  },
  {
   "cell_type": "code",
   "execution_count": 155,
   "metadata": {},
   "outputs": [
    {
     "data": {
      "text/plain": [
       "5.606668254252824"
      ]
     },
     "execution_count": 155,
     "metadata": {},
     "output_type": "execute_result"
    }
   ],
   "source": [
    "biased_gap_res[biased_gap_res['temperature']>1.0]['gap'].mean()"
   ]
  },
  {
   "cell_type": "code",
   "execution_count": 156,
   "metadata": {},
   "outputs": [
    {
     "data": {
      "text/plain": [
       "3.5713476977488487"
      ]
     },
     "execution_count": 156,
     "metadata": {},
     "output_type": "execute_result"
    }
   ],
   "source": [
    "all_res[all_res['temperature']>1.0]['gap'].mean()"
   ]
  },
  {
   "cell_type": "code",
   "execution_count": 158,
   "metadata": {},
   "outputs": [],
   "source": [
    "zeroth_and_first = pd.concat([all_res, biased_gap_res])"
   ]
  },
  {
   "cell_type": "code",
   "execution_count": 159,
   "metadata": {},
   "outputs": [],
   "source": [
    "zeroth_and_first_large_gap = zeroth_and_first[zeroth_and_first['gap']>4]"
   ]
  },
  {
   "cell_type": "code",
   "execution_count": 160,
   "metadata": {},
   "outputs": [],
   "source": [
    "zeroth_and_first_large_gap_prompts = generate_inverse_photoswitch_prompts(zeroth_and_first_large_gap)"
   ]
  },
  {
   "cell_type": "code",
   "execution_count": 162,
   "metadata": {},
   "outputs": [],
   "source": [
    "random_bandgaps_zeroth_first = np.random.normal(4.5, 0.2, size=len(zeroth_and_first_large_gap)) \n",
    "test_set_zeroth_and_first_large_gap = zeroth_and_first_large_gap.copy()\n",
    "test_set_zeroth_and_first_large_gap['gap'] = random_bandgaps_zeroth_first\n",
    "filename_base = time.strftime(\"%Y-%m-%d-%H-%M-%S\", time.localtime())\n",
    "\n",
    "test_set_zeroth_and_first_large_gap_prompts = generate_inverse_photoswitch_prompts(test_set_zeroth_and_first_large_gap)\n",
    "valid_filename_random_biased_1 = f\"run_files/{filename_base}_iterative_2_valid_prompts_bandgap_inverse_smiles_random_biased.jsonl\"\n",
    "test_set_zeroth_and_first_large_gap_prompts.to_json(valid_filename_random_biased_1, orient=\"records\", lines=True)"
   ]
  },
  {
   "cell_type": "code",
   "execution_count": 163,
   "metadata": {},
   "outputs": [
    {
     "data": {
      "text/plain": [
       "243"
      ]
     },
     "execution_count": 163,
     "metadata": {},
     "output_type": "execute_result"
    }
   ],
   "source": [
    "len(zeroth_and_first_large_gap_prompts)"
   ]
  },
  {
   "cell_type": "code",
   "execution_count": 164,
   "metadata": {},
   "outputs": [
    {
     "name": "stderr",
     "output_type": "stream",
     "text": [
      "Traceback (most recent call last):\n",
      "  File \"/Users/kevinmaikjablonka/miniconda3/envs/gpt3/bin/openai\", line 8, in <module>\n",
      "    sys.exit(main())\n",
      "  File \"/Users/kevinmaikjablonka/miniconda3/envs/gpt3/lib/python3.9/site-packages/openai/_openai_scripts.py\", line 63, in main\n",
      "    args.func(args)\n",
      "  File \"/Users/kevinmaikjablonka/miniconda3/envs/gpt3/lib/python3.9/site-packages/openai/cli.py\", line 545, in sync\n",
      "    resp = openai.wandb_logger.WandbLogger.sync(\n",
      "  File \"/Users/kevinmaikjablonka/miniconda3/envs/gpt3/lib/python3.9/site-packages/openai/wandb_logger.py\", line 74, in sync\n",
      "    fine_tune_logged = [\n",
      "  File \"/Users/kevinmaikjablonka/miniconda3/envs/gpt3/lib/python3.9/site-packages/openai/wandb_logger.py\", line 75, in <listcomp>\n",
      "    cls._log_fine_tune(\n",
      "  File \"/Users/kevinmaikjablonka/miniconda3/envs/gpt3/lib/python3.9/site-packages/openai/wandb_logger.py\", line 125, in _log_fine_tune\n",
      "    wandb_run = cls._get_wandb_run(run_path)\n",
      "  File \"/Users/kevinmaikjablonka/miniconda3/envs/gpt3/lib/python3.9/site-packages/openai/wandb_logger.py\", line 190, in _get_wandb_run\n",
      "    cls._ensure_logged_in()\n",
      "  File \"/Users/kevinmaikjablonka/miniconda3/envs/gpt3/lib/python3.9/site-packages/openai/wandb_logger.py\", line 186, in _ensure_logged_in\n",
      "    raise Exception(\"You need to log in to wandb\")\n",
      "Exception: You need to log in to wandb\n"
     ]
    },
    {
     "data": {
      "text/plain": [
       "('ada:ft-lsmoepfl-2022-12-11-22-58-26',\n",
       " 'run_files/2022-12-11-23-55-11_iterative_train_prompts_bandgap_inverse_smiles_243.jsonl')"
      ]
     },
     "execution_count": 164,
     "metadata": {},
     "output_type": "execute_result"
    }
   ],
   "source": [
    "train_inverse_model(zeroth_and_first_large_gap_prompts, \"smiles\")"
   ]
  },
  {
   "cell_type": "code",
   "execution_count": 166,
   "metadata": {},
   "outputs": [
    {
     "name": "stdout",
     "output_type": "stream",
     "text": [
      "Testing temperature 0 for SMILES\n"
     ]
    },
    {
     "name": "stderr",
     "output_type": "stream",
     "text": [
      "2022-12-12 08:22:17.095 | DEBUG    | gpt3forchem.output:test_inverse_bandgap:931 - Got predictions, example: [H]c1c([H])c([H])c(C([H])([H])N([H])C(=O)C([H])([H])c2c([H])c([H])c([H])c([H])c2[H])c([H])c1[H]\n",
      "2022-12-12 08:22:17.100 | DEBUG    | gpt3forchem.output:test_inverse_bandgap:942 - Loaded predictions. Example: [H]c1c([H])c([H])c(C([H])([H])N([H])C(=O)C([H])([H])c2c([H])c([H])c([H])c([H])c2[H])c([H])c1[H]\n",
      "2022-12-12 08:22:17.198 | DEBUG    | gpt3forchem.output:test_inverse_bandgap:953 - Calculating Frechet ChemNet distance for 237 samples\n",
      "2022-12-12 08:22:17.323 | INFO     | gpt3forchem.output:_load_chemnet:218 - Saved ChemNet model to '/var/folders/m9/_txh68y946s4pxy1x2wnd3lh0000gn/T/ChemNet_v0.13_pretrained.h5'\n",
      "2022-12-12 08:22:26.081 | DEBUG    | gpt3forchem.output:test_inverse_bandgap:962 - Computed frechet score: (31.84458936861148, 0.001714013000883716)\n",
      "2022-12-12 08:22:26.536 | DEBUG    | gpt3forchem.output:test_inverse_bandgap:973 - Computed KL div score: nan\n"
     ]
    },
    {
     "name": "stdout",
     "output_type": "stream",
     "text": [
      "Testing temperature 0.25 for SMILES\n"
     ]
    },
    {
     "name": "stderr",
     "output_type": "stream",
     "text": [
      "2022-12-12 08:23:56.230 | DEBUG    | gpt3forchem.output:test_inverse_bandgap:931 - Got predictions, example: [H]c1c([H])c([H])c(C([H])([H])N([H])C(=O)C([H])([H])c2c([H])c([H])c(C([H])([H])[H])c([H])c2[H])c([H])c1[H]\n",
      "2022-12-12 08:23:56.232 | DEBUG    | gpt3forchem.output:test_inverse_bandgap:942 - Loaded predictions. Example: [H]c1c([H])c([H])c(C([H])([H])N([H])C(=O)C([H])([H])c2c([H])c([H])c(C([H])([H])[H])c([H])c2[H])c([H])c1[H]\n",
      "2022-12-12 08:23:56.280 | DEBUG    | gpt3forchem.output:test_inverse_bandgap:953 - Calculating Frechet ChemNet distance for 161 samples\n",
      "2022-12-12 08:23:56.361 | INFO     | gpt3forchem.output:_load_chemnet:218 - Saved ChemNet model to '/var/folders/m9/_txh68y946s4pxy1x2wnd3lh0000gn/T/ChemNet_v0.13_pretrained.h5'\n",
      "2022-12-12 08:24:04.350 | DEBUG    | gpt3forchem.output:test_inverse_bandgap:962 - Computed frechet score: (20.77437011399143, 0.015687767306168214)\n",
      "2022-12-12 08:24:04.718 | DEBUG    | gpt3forchem.output:test_inverse_bandgap:973 - Computed KL div score: 0.5596860636330547\n"
     ]
    },
    {
     "name": "stdout",
     "output_type": "stream",
     "text": [
      "Testing temperature 0.5 for SMILES\n"
     ]
    },
    {
     "name": "stderr",
     "output_type": "stream",
     "text": [
      "2022-12-12 08:25:35.124 | DEBUG    | gpt3forchem.output:test_inverse_bandgap:931 - Got predictions, example: [H]c1c([H])c([H])c(C([H])([H])N([H])C(=O)C([H])([H])[C@@]2([H])C([H])([H])C([H])([H])C2([H])[H])c([H])c1[H]\n",
      "2022-12-12 08:25:35.128 | DEBUG    | gpt3forchem.output:test_inverse_bandgap:942 - Loaded predictions. Example: [H]c1c([H])c([H])c(C([H])([H])N([H])C(=O)C([H])([H])[C@@]2([H])C([H])([H])C([H])([H])C2([H])[H])c([H])c1[H]\n",
      "2022-12-12 08:25:35.170 | DEBUG    | gpt3forchem.output:test_inverse_bandgap:953 - Calculating Frechet ChemNet distance for 201 samples\n",
      "2022-12-12 08:25:35.238 | INFO     | gpt3forchem.output:_load_chemnet:218 - Saved ChemNet model to '/var/folders/m9/_txh68y946s4pxy1x2wnd3lh0000gn/T/ChemNet_v0.13_pretrained.h5'\n",
      "2022-12-12 08:25:42.750 | DEBUG    | gpt3forchem.output:test_inverse_bandgap:962 - Computed frechet score: (13.575678695334389, 0.066195967018418)\n",
      "2022-12-12 08:25:43.236 | DEBUG    | gpt3forchem.output:test_inverse_bandgap:973 - Computed KL div score: 0.6281941965680663\n"
     ]
    },
    {
     "name": "stdout",
     "output_type": "stream",
     "text": [
      "Testing temperature 0.75 for SMILES\n"
     ]
    },
    {
     "name": "stderr",
     "output_type": "stream",
     "text": [
      "2022-12-12 08:27:13.510 | DEBUG    | gpt3forchem.output:test_inverse_bandgap:931 - Got predictions, example: [H]O[C@]1([H])[C@@]([H])(C([H])([H])[H])O[C@]([H])(C([H])([H])[H])[C@]1([H])O[H]\n",
      "2022-12-12 08:27:13.511 | DEBUG    | gpt3forchem.output:test_inverse_bandgap:942 - Loaded predictions. Example: [H]O[C@]1([H])[C@@]([H])(C([H])([H])[H])O[C@]([H])(C([H])([H])[H])[C@]1([H])O[H]\n",
      "2022-12-12 08:27:13.554 | DEBUG    | gpt3forchem.output:test_inverse_bandgap:953 - Calculating Frechet ChemNet distance for 202 samples\n",
      "2022-12-12 08:27:13.664 | INFO     | gpt3forchem.output:_load_chemnet:218 - Saved ChemNet model to '/var/folders/m9/_txh68y946s4pxy1x2wnd3lh0000gn/T/ChemNet_v0.13_pretrained.h5'\n",
      "2022-12-12 08:28:18.824 | DEBUG    | gpt3forchem.output:test_inverse_bandgap:962 - Computed frechet score: (6.672777954115432, 0.2632751513548374)\n",
      "2022-12-12 08:28:19.416 | DEBUG    | gpt3forchem.output:test_inverse_bandgap:973 - Computed KL div score: 0.8286259342095301\n"
     ]
    },
    {
     "name": "stdout",
     "output_type": "stream",
     "text": [
      "Testing temperature 1.0 for SMILES\n"
     ]
    },
    {
     "name": "stderr",
     "output_type": "stream",
     "text": [
      "2022-12-12 08:29:50.185 | DEBUG    | gpt3forchem.output:test_inverse_bandgap:931 - Got predictions, example: [H]OC(=O)C1(C([H])([H])[H])C([H])([H])C([H])([H])C1([H])[H]\n",
      "2022-12-12 08:29:50.186 | DEBUG    | gpt3forchem.output:test_inverse_bandgap:942 - Loaded predictions. Example: [H]OC(=O)C1(C([H])([H])[H])C([H])([H])C([H])([H])C1([H])[H]\n",
      "2022-12-12 08:29:50.241 | DEBUG    | gpt3forchem.output:test_inverse_bandgap:953 - Calculating Frechet ChemNet distance for 165 samples\n",
      "2022-12-12 08:29:50.286 | INFO     | gpt3forchem.output:_load_chemnet:218 - Saved ChemNet model to '/var/folders/m9/_txh68y946s4pxy1x2wnd3lh0000gn/T/ChemNet_v0.13_pretrained.h5'\n",
      "2022-12-12 08:29:56.631 | DEBUG    | gpt3forchem.output:test_inverse_bandgap:962 - Computed frechet score: (6.546297422044418, 0.2700199363412138)\n",
      "2022-12-12 08:29:57.139 | DEBUG    | gpt3forchem.output:test_inverse_bandgap:973 - Computed KL div score: 0.9498956868422057\n"
     ]
    },
    {
     "name": "stdout",
     "output_type": "stream",
     "text": [
      "Testing temperature 1.25 for SMILES\n"
     ]
    },
    {
     "name": "stderr",
     "output_type": "stream",
     "text": [
      "2022-12-12 08:31:29.053 | DEBUG    | gpt3forchem.output:test_inverse_bandgap:931 - Got predictions, example: [H]OC(=O)C([H])\n",
      "2022-12-12 08:31:29.053 | DEBUG    | gpt3forchem.output:test_inverse_bandgap:942 - Loaded predictions. Example: [H]OC(=O)C([H])\n",
      "2022-12-12 08:31:29.121 | DEBUG    | gpt3forchem.output:test_inverse_bandgap:953 - Calculating Frechet ChemNet distance for 92 samples\n",
      "2022-12-12 08:31:29.180 | INFO     | gpt3forchem.output:_load_chemnet:218 - Saved ChemNet model to '/var/folders/m9/_txh68y946s4pxy1x2wnd3lh0000gn/T/ChemNet_v0.13_pretrained.h5'\n",
      "2022-12-12 08:31:35.741 | DEBUG    | gpt3forchem.output:test_inverse_bandgap:962 - Computed frechet score: (9.861801534423954, 0.139128083392208)\n",
      "2022-12-12 08:31:36.162 | DEBUG    | gpt3forchem.output:test_inverse_bandgap:973 - Computed KL div score: 0.7808783289468003\n"
     ]
    },
    {
     "name": "stdout",
     "output_type": "stream",
     "text": [
      "Testing temperature 1.5 for SMILES\n"
     ]
    },
    {
     "name": "stderr",
     "output_type": "stream",
     "text": [
      "2022-12-12 08:33:08.307 | DEBUG    | gpt3forchem.output:test_inverse_bandgap:931 - Got predictions, example: [H]O[C@]1([H])[C@@]1(C([H])([H])[H])O[\n",
      "2022-12-12 08:33:08.307 | DEBUG    | gpt3forchem.output:test_inverse_bandgap:942 - Loaded predictions. Example: [H]O[C@]1([H])[C@@]1(C([H])([H])[H])O[\n",
      "2022-12-12 08:33:08.385 | DEBUG    | gpt3forchem.output:test_inverse_bandgap:953 - Calculating Frechet ChemNet distance for 31 samples\n",
      "2022-12-12 08:33:08.469 | INFO     | gpt3forchem.output:_load_chemnet:218 - Saved ChemNet model to '/var/folders/m9/_txh68y946s4pxy1x2wnd3lh0000gn/T/ChemNet_v0.13_pretrained.h5'\n",
      "2022-12-12 08:33:17.907 | DEBUG    | gpt3forchem.output:test_inverse_bandgap:962 - Computed frechet score: (24.80341578918178, 0.007008138532091136)\n",
      "2022-12-12 08:33:18.244 | DEBUG    | gpt3forchem.output:test_inverse_bandgap:973 - Computed KL div score: 0.5386800388542898\n"
     ]
    }
   ],
   "source": [
    "iteration_2_test_results = test_inverse_model(\"ada:ft-lsmoepfl-2022-12-11-22-58-26\", test_set_zeroth_and_first_large_gap_prompts, zeroth_and_first_large_gap_prompts)"
   ]
  },
  {
   "cell_type": "code",
   "execution_count": 167,
   "metadata": {},
   "outputs": [],
   "source": [
    "save_pickle(f\"run_files/{filename_base}-iteration_2_results_extrapolation_smiles_more.pkl\", iteration_2_test_results)"
   ]
  },
  {
   "cell_type": "code",
   "execution_count": 168,
   "metadata": {},
   "outputs": [],
   "source": [
    "smiles_random_biased_sets_2 = []\n",
    "\n",
    "for res in iteration_2_test_results:\n",
    "    result = {}\n",
    "    result[\"temperature\"] = res[\"meta\"][\"temperature\"]\n",
    "    result[\"smiles\"] = set(\n",
    "        res[\"predictions\"][res[\"valid_smiles\"]]\n",
    "    )\n",
    "    result['original_prediction_indices'] = [i for i, x in enumerate(res[\"predictions\"]) if x in result['smiles']]\n",
    "    result['expected'] = [res['expectations'][i] for i in result['original_prediction_indices']]\n",
    "    smiles_random_biased_sets_2.append(result)\n",
    "\n",
    "for res in smiles_random_biased_sets_2:\n",
    "    temp = res[\"temperature\"]\n",
    "    smiles_set = res[\"smiles\"]\n",
    "    with open(f\"for_more_xtb_opt/{filename_base}_smiles_iteration_2_biased_sets{temp}.txt\", \"w\") as f:\n",
    "        for i, smiles in enumerate(smiles_set):\n",
    "            if i != len(smiles_set) - 1:\n",
    "                f.write(smiles + \"\\n\")\n",
    "            else:\n",
    "                f.write(smiles)"
   ]
  },
  {
   "cell_type": "code",
   "execution_count": null,
   "metadata": {},
   "outputs": [],
   "source": []
  }
 ],
 "metadata": {
  "kernelspec": {
   "display_name": "Python 3.9.13 ('gpt3')",
   "language": "python",
   "name": "python3"
  },
  "language_info": {
   "codemirror_mode": {
    "name": "ipython",
    "version": 3
   },
   "file_extension": ".py",
   "mimetype": "text/x-python",
   "name": "python",
   "nbconvert_exporter": "python",
   "pygments_lexer": "ipython3",
   "version": "3.9.13"
  },
  "orig_nbformat": 4,
  "vscode": {
   "interpreter": {
    "hash": "9a4fa60962de90e73b5da8d67a44b01d2de04630d82b94b8db1f727a73d31e61"
   }
  }
 },
 "nbformat": 4,
 "nbformat_minor": 2
}
