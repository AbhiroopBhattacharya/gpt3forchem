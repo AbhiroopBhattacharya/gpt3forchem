{
 "cells": [
  {
   "cell_type": "code",
   "execution_count": 9,
   "metadata": {},
   "outputs": [],
   "source": [
    "import matplotlib.pyplot as plt\n",
    "import seaborn as sn \n",
    "\n",
    "from gpt3forchem.data import get_bandgap_data\n",
    "import seaborn as sns\n",
    "from glob import glob\n",
    "import pandas as pd\n",
    "plt.style.use(['science', 'nature'])"
   ]
  },
  {
   "cell_type": "code",
   "execution_count": 12,
   "metadata": {},
   "outputs": [],
   "source": [
    "def load_gaps(filename):\n",
    "    with open(filename) as f:\n",
    "        lines = f.readlines()\n",
    "\n",
    "    smiles_file = filename.replace(\"_gaps\", \"\")\n",
    "\n",
    "    smiles_ = []\n",
    "    with open(smiles_file) as f:\n",
    "        for line in f.readlines():\n",
    "            smiles_.append(line.strip())\n",
    "    \n",
    "\n",
    "    gaps = []\n",
    "    smiles = []\n",
    "    path = []\n",
    "    for i, line in enumerate(lines):\n",
    "        try:\n",
    "            smile, gap = line.split()\n",
    "            num = int(smile.split('/')[-1])\n",
    "            gaps.append(float(gap))\n",
    "            smiles.append(smiles_[num])\n",
    "            path.append(smile)\n",
    "        except:\n",
    "            pass\n",
    "    temperature = float(filename.split(\"sets\")[-1].split(\"_\")[0])\n",
    "    return pd.DataFrame({\"smiles\": smiles, \"gap\": gaps, \"temperature\": temperature, \"path\": path})"
   ]
  },
  {
   "cell_type": "code",
   "execution_count": 4,
   "metadata": {},
   "outputs": [],
   "source": [
    "data = get_bandgap_data()"
   ]
  },
  {
   "cell_type": "code",
   "execution_count": 6,
   "metadata": {},
   "outputs": [],
   "source": [
    "gaps = data['GFN2_HOMO_LUMO_GAP'] *  27.2114"
   ]
  },
  {
   "cell_type": "code",
   "execution_count": 10,
   "metadata": {},
   "outputs": [],
   "source": [
    "biased_gap_files = glob(\"/Users/kevinmaikjablonka/git/kjappelbaum/gpt3forchem/experiments/for_more_xtb_opt/*_smiles_random_biased_sets*_gaps.txt\")"
   ]
  },
  {
   "cell_type": "code",
   "execution_count": 36,
   "metadata": {},
   "outputs": [],
   "source": [
    "first_iteration_gap_files = glob(\"/Users/kevinmaikjablonka/git/kjappelbaum/gpt3forchem/experiments/for_more_xtb_opt/2022-12-09-23-20-30_smiles_iteration_1_biased_sets*gaps.txt\")"
   ]
  },
  {
   "cell_type": "code",
   "execution_count": 45,
   "metadata": {},
   "outputs": [],
   "source": [
    "second_iteration_gap_files = glob(\"/Users/kevinmaikjablonka/git/kjappelbaum/gpt3forchem/experiments/for_more_xtb_opt/2022-12-11-23-54-28_smiles_iteration_2_biased*gaps.txt\")"
   ]
  },
  {
   "cell_type": "code",
   "execution_count": 46,
   "metadata": {},
   "outputs": [],
   "source": [
    "biased_gap_res = []\n",
    "for file in biased_gap_files:\n",
    "    biased_gap_res.append(load_gaps(file))\n",
    "\n",
    "biased_gap_res = pd.concat(biased_gap_res)\n",
    "\n",
    "first_iteration_gap_res = []\n",
    "for file in first_iteration_gap_files:\n",
    "    try:\n",
    "        first_iteration_gap_res.append(load_gaps(file))\n",
    "    except:\n",
    "        pass\n",
    "first_iteration_gap_res = pd.concat(first_iteration_gap_res)\n",
    "\n",
    "\n",
    "second_iteration_gap_res = []\n",
    "for file in second_iteration_gap_files:\n",
    "    try:\n",
    "        second_iteration_gap_res.append(load_gaps(file))\n",
    "    except:\n",
    "        pass\n",
    "second_iteration_gap_res = pd.concat(second_iteration_gap_res)"
   ]
  },
  {
   "cell_type": "code",
   "execution_count": 47,
   "metadata": {},
   "outputs": [
    {
     "name": "stderr",
     "output_type": "stream",
     "text": [
      "/Users/kevinmaikjablonka/miniconda3/envs/gpt3/lib/python3.9/site-packages/seaborn/distributions.py:2619: FutureWarning: `distplot` is a deprecated function and will be removed in a future version. Please adapt your code to use either `displot` (a figure-level function with similar flexibility) or `histplot` (an axes-level function for histograms).\n",
      "  warnings.warn(msg, FutureWarning)\n",
      "/Users/kevinmaikjablonka/miniconda3/envs/gpt3/lib/python3.9/site-packages/seaborn/distributions.py:2619: FutureWarning: `distplot` is a deprecated function and will be removed in a future version. Please adapt your code to use either `displot` (a figure-level function with similar flexibility) or `histplot` (an axes-level function for histograms).\n",
      "  warnings.warn(msg, FutureWarning)\n",
      "/Users/kevinmaikjablonka/miniconda3/envs/gpt3/lib/python3.9/site-packages/seaborn/distributions.py:2619: FutureWarning: `distplot` is a deprecated function and will be removed in a future version. Please adapt your code to use either `displot` (a figure-level function with similar flexibility) or `histplot` (an axes-level function for histograms).\n",
      "  warnings.warn(msg, FutureWarning)\n",
      "/Users/kevinmaikjablonka/miniconda3/envs/gpt3/lib/python3.9/site-packages/seaborn/distributions.py:2619: FutureWarning: `distplot` is a deprecated function and will be removed in a future version. Please adapt your code to use either `displot` (a figure-level function with similar flexibility) or `histplot` (an axes-level function for histograms).\n",
      "  warnings.warn(msg, FutureWarning)\n"
     ]
    },
    {
     "data": {
      "image/png": "[encoded data removed]",
      "text/plain": [
       "<Figure size 252x180 with 1 Axes>"
      ]
     },
     "metadata": {
      "needs_background": "light"
     },
     "output_type": "display_data"
    }
   ],
   "source": [
    "fig, ax = plt.subplots(figsize=(3.5, 2.5))\n",
    "\n",
    "sns.distplot(gaps, ax=ax, label=\"QMUGs\")\n",
    "sns.distplot(biased_gap_res['gap'], label=\"biased inference\")\n",
    "sns.distplot(first_iteration_gap_res['gap'], label=\"first iteration\")\n",
    "sns.distplot(second_iteration_gap_res['gap'], label=\"second iteration\")\n",
    "ax.set_xlim(0, 10)\n",
    "ax.legend()\n",
    "ax.set_xlabel(\"HOMO-LUMO gap / eV\")\n",
    "fig.tight_layout()\n",
    "fig.savefig('biasing_gaps.pdf', bbox_inches='tight')"
   ]
  },
  {
   "cell_type": "code",
   "execution_count": null,
   "metadata": {},
   "outputs": [],
   "source": []
  }
 ],
 "metadata": {
  "kernelspec": {
   "display_name": "Python 3.9.13 ('gpt3')",
   "language": "python",
   "name": "python3"
  },
  "language_info": {
   "codemirror_mode": {
    "name": "ipython",
    "version": 3
   },
   "file_extension": ".py",
   "mimetype": "text/x-python",
   "name": "python",
   "nbconvert_exporter": "python",
   "pygments_lexer": "ipython3",
   "version": "3.9.13"
  },
  "orig_nbformat": 4,
  "vscode": {
   "interpreter": {
    "hash": "9a4fa60962de90e73b5da8d67a44b01d2de04630d82b94b8db1f727a73d31e61"
   }
  }
 },
 "nbformat": 4,
 "nbformat_minor": 2
}
