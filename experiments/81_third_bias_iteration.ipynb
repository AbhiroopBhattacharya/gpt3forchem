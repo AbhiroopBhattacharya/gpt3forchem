{
 "cells": [
  {
   "cell_type": "code",
   "execution_count": 84,
   "metadata": {},
   "outputs": [],
   "source": [
    "from gpt3forchem.api_wrappers import fine_tune, query_gpt3, extract_regression_prediction\n",
    "\n",
    "from glob import glob \n",
    "import pandas as pd \n",
    "\n",
    "import time \n",
    "import numpy as np \n",
    "from rdkit import Chem\n",
    "from guacamol.utils.chemistry import is_valid\n",
    "from gpt3forchem.output import test_inverse_bandgap\n",
    "\n",
    "\n",
    "from fastcore.xtras import save_pickle"
   ]
  },
  {
   "cell_type": "code",
   "execution_count": 65,
   "metadata": {},
   "outputs": [],
   "source": [
    "PROMPT_TEMPLATE_bandgap_inverse = \"What is a molecule with a bandgap of {} eV###\"\n",
    "COMPLETION_TEMPLATE_bandgap_inverse = \"{}@@@\"\n",
    "\n",
    "\n",
    "def generate_inverse_photoswitch_prompts(\n",
    "    data: pd.DataFrame\n",
    ") -> pd.DataFrame:\n",
    "    prompts = []\n",
    "    completions = []\n",
    "    smiles = []\n",
    "    for i, row in data.iterrows():\n",
    "        \n",
    "        if is_valid(row[\"smiles\"]):\n",
    "            prompt = PROMPT_TEMPLATE_bandgap_inverse.format(\n",
    "                np.round(row[\"gap\"] , 1)\n",
    "            )\n",
    "            smiles_ = Chem.MolToSmiles(Chem.MolFromSmiles(row[\"smiles\"]))\n",
    "            completion = COMPLETION_TEMPLATE_bandgap_inverse.format(smiles_)\n",
    "            prompts.append(prompt)\n",
    "            completions.append(completion)\n",
    "            smiles.append(smiles_)\n",
    "\n",
    "    prompts = pd.DataFrame(\n",
    "        {\"prompt\": prompts, \"completion\": completions, \"SMILES\": smiles}\n",
    "    )\n",
    "\n",
    "    return prompts"
   ]
  },
  {
   "cell_type": "code",
   "execution_count": 3,
   "metadata": {},
   "outputs": [],
   "source": [
    "def load_gaps(filename):\n",
    "    with open(filename) as f:\n",
    "        lines = f.readlines()\n",
    "\n",
    "    smiles_file = filename.replace(\"_gaps\", \"\")\n",
    "\n",
    "    smiles_ = []\n",
    "    with open(smiles_file) as f:\n",
    "        for line in f.readlines():\n",
    "            smiles_.append(line.strip())\n",
    "    \n",
    "\n",
    "    gaps = []\n",
    "    smiles = []\n",
    "    path = []\n",
    "    for i, line in enumerate(lines):\n",
    "        try:\n",
    "            smile, gap = line.split()\n",
    "            num = int(smile.split('/')[-1])\n",
    "            gaps.append(float(gap))\n",
    "            smiles.append(smiles_[num])\n",
    "            path.append(smile)\n",
    "        except:\n",
    "            pass\n",
    "    temperature = float(filename.split(\"sets\")[-1].split(\"_\")[0])\n",
    "    return pd.DataFrame({\"smiles\": smiles, \"gap\": gaps, \"temperature\": temperature, \"path\": path})"
   ]
  },
  {
   "cell_type": "code",
   "execution_count": 30,
   "metadata": {},
   "outputs": [],
   "source": [
    "def compile_res(files): \n",
    "    res = []\n",
    "    for f in files:\n",
    "        try: \n",
    "            res.append(load_gaps(f))\n",
    "        except Exception:\n",
    "            pass\n",
    "\n",
    "    df = pd.concat(res)\n",
    "    df = df.sort_values(\"temperature\")\n",
    "    return df"
   ]
  },
  {
   "cell_type": "code",
   "execution_count": 32,
   "metadata": {},
   "outputs": [],
   "source": [
    "def train_inverse_model(train_prompts, representation):\n",
    "\n",
    "    train_size = len(train_prompts)\n",
    "\n",
    "    filename_base = time.strftime(\"%Y-%m-%d-%H-%M-%S\", time.localtime())\n",
    "    train_filename = f\"run_files/{filename_base}_iterative_train_prompts_bandgap_inverse_{representation}_{train_size}.jsonl\"\n",
    "\n",
    "    train_prompts.to_json(train_filename, orient=\"records\", lines=True)\n",
    "\n",
    "    modelname = fine_tune(train_filename, train_filename, \"ada\")\n",
    "    return modelname, train_filename"
   ]
  },
  {
   "cell_type": "code",
   "execution_count": 15,
   "metadata": {},
   "outputs": [],
   "source": [
    "initial_sample_for_bias = glob('for_more_xtb_opt/2022-12-07-15-51-30_smiles_extrapolation_sets*gaps.txt') + glob('for_more_xtb_opt/2022-12-07-15-51-30_smiles_extrapolation*gaps.txt')\n",
    "\n",
    "iteration_1 = glob(\"for_more_xtb_opt/2022-12-09-23-20-30_smiles_iteration_1_biased_sets*gaps.txt\")\n",
    "iteration_2 = glob(\"for_more_xtb_opt/2022-12-11-23-54-28_smiles_iteration_2_biased_sets*gaps.txt\")"
   ]
  },
  {
   "cell_type": "code",
   "execution_count": 16,
   "metadata": {},
   "outputs": [],
   "source": [
    "initial_sample_res = compile_res(initial_sample_for_bias)\n",
    "iteration_1_res = compile_res(iteration_1)\n",
    "iteration_2_res = compile_res(iteration_2)"
   ]
  },
  {
   "cell_type": "code",
   "execution_count": 18,
   "metadata": {},
   "outputs": [],
   "source": [
    "all_res = pd.concat([initial_sample_res, iteration_1_res, iteration_2_res])"
   ]
  },
  {
   "cell_type": "code",
   "execution_count": 73,
   "metadata": {},
   "outputs": [],
   "source": [
    "large_gap = all_res[all_res[\"gap\"] > 4.2]"
   ]
  },
  {
   "cell_type": "code",
   "execution_count": 74,
   "metadata": {},
   "outputs": [],
   "source": [
    "large_gap = large_gap.drop_duplicates('smiles')"
   ]
  },
  {
   "cell_type": "code",
   "execution_count": 75,
   "metadata": {},
   "outputs": [],
   "source": [
    "large_gap_prompts = generate_inverse_photoswitch_prompts(large_gap)"
   ]
  },
  {
   "cell_type": "code",
   "execution_count": 76,
   "metadata": {},
   "outputs": [
    {
     "data": {
      "text/html": [
       "<div>\n",
       "<style scoped>\n",
       "    .dataframe tbody tr th:only-of-type {\n",
       "        vertical-align: middle;\n",
       "    }\n",
       "\n",
       "    .dataframe tbody tr th {\n",
       "        vertical-align: top;\n",
       "    }\n",
       "\n",
       "    .dataframe thead th {\n",
       "        text-align: right;\n",
       "    }\n",
       "</style>\n",
       "<table border=\"1\" class=\"dataframe\">\n",
       "  <thead>\n",
       "    <tr style=\"text-align: right;\">\n",
       "      <th></th>\n",
       "      <th>prompt</th>\n",
       "      <th>completion</th>\n",
       "      <th>SMILES</th>\n",
       "    </tr>\n",
       "  </thead>\n",
       "  <tbody>\n",
       "    <tr>\n",
       "      <th>0</th>\n",
       "      <td>What is a molecule with a bandgap of 17.4 eV###</td>\n",
       "      <td>C@@@</td>\n",
       "      <td>C</td>\n",
       "    </tr>\n",
       "    <tr>\n",
       "      <th>1</th>\n",
       "      <td>What is a molecule with a bandgap of 4.3 eV###</td>\n",
       "      <td>FC(F)(F)n1ccnc1@@@</td>\n",
       "      <td>FC(F)(F)n1ccnc1</td>\n",
       "    </tr>\n",
       "    <tr>\n",
       "      <th>2</th>\n",
       "      <td>What is a molecule with a bandgap of 7.1 eV###</td>\n",
       "      <td>C#CC@@@</td>\n",
       "      <td>C#CC</td>\n",
       "    </tr>\n",
       "    <tr>\n",
       "      <th>3</th>\n",
       "      <td>What is a molecule with a bandgap of 4.6 eV###</td>\n",
       "      <td>[H]/N=C(\\N)N1CCNCC1@@@</td>\n",
       "      <td>[H]/N=C(\\N)N1CCNCC1</td>\n",
       "    </tr>\n",
       "    <tr>\n",
       "      <th>4</th>\n",
       "      <td>What is a molecule with a bandgap of 4.4 eV###</td>\n",
       "      <td>C/C=C\\N1CCCC1@@@</td>\n",
       "      <td>C/C=C\\N1CCCC1</td>\n",
       "    </tr>\n",
       "    <tr>\n",
       "      <th>...</th>\n",
       "      <td>...</td>\n",
       "      <td>...</td>\n",
       "      <td>...</td>\n",
       "    </tr>\n",
       "    <tr>\n",
       "      <th>378</th>\n",
       "      <td>What is a molecule with a bandgap of 11.5 eV###</td>\n",
       "      <td>NCN@@@</td>\n",
       "      <td>NCN</td>\n",
       "    </tr>\n",
       "    <tr>\n",
       "      <th>379</th>\n",
       "      <td>What is a molecule with a bandgap of 8.8 eV###</td>\n",
       "      <td>CON@@@</td>\n",
       "      <td>CON</td>\n",
       "    </tr>\n",
       "    <tr>\n",
       "      <th>380</th>\n",
       "      <td>What is a molecule with a bandgap of 4.5 eV###</td>\n",
       "      <td>Oc1c[nH]cn1@@@</td>\n",
       "      <td>Oc1c[nH]cn1</td>\n",
       "    </tr>\n",
       "    <tr>\n",
       "      <th>381</th>\n",
       "      <td>What is a molecule with a bandgap of 5.8 eV###</td>\n",
       "      <td>NP@@@</td>\n",
       "      <td>NP</td>\n",
       "    </tr>\n",
       "    <tr>\n",
       "      <th>382</th>\n",
       "      <td>What is a molecule with a bandgap of 17.4 eV###</td>\n",
       "      <td>C@@@</td>\n",
       "      <td>C</td>\n",
       "    </tr>\n",
       "  </tbody>\n",
       "</table>\n",
       "<p>383 rows × 3 columns</p>\n",
       "</div>"
      ],
      "text/plain": [
       "                                              prompt              completion  \\\n",
       "0    What is a molecule with a bandgap of 17.4 eV###                    C@@@   \n",
       "1     What is a molecule with a bandgap of 4.3 eV###      FC(F)(F)n1ccnc1@@@   \n",
       "2     What is a molecule with a bandgap of 7.1 eV###                 C#CC@@@   \n",
       "3     What is a molecule with a bandgap of 4.6 eV###  [H]/N=C(\\N)N1CCNCC1@@@   \n",
       "4     What is a molecule with a bandgap of 4.4 eV###        C/C=C\\N1CCCC1@@@   \n",
       "..                                               ...                     ...   \n",
       "378  What is a molecule with a bandgap of 11.5 eV###                  NCN@@@   \n",
       "379   What is a molecule with a bandgap of 8.8 eV###                  CON@@@   \n",
       "380   What is a molecule with a bandgap of 4.5 eV###          Oc1c[nH]cn1@@@   \n",
       "381   What is a molecule with a bandgap of 5.8 eV###                   NP@@@   \n",
       "382  What is a molecule with a bandgap of 17.4 eV###                    C@@@   \n",
       "\n",
       "                  SMILES  \n",
       "0                      C  \n",
       "1        FC(F)(F)n1ccnc1  \n",
       "2                   C#CC  \n",
       "3    [H]/N=C(\\N)N1CCNCC1  \n",
       "4          C/C=C\\N1CCCC1  \n",
       "..                   ...  \n",
       "378                  NCN  \n",
       "379                  CON  \n",
       "380          Oc1c[nH]cn1  \n",
       "381                   NP  \n",
       "382                    C  \n",
       "\n",
       "[383 rows x 3 columns]"
      ]
     },
     "execution_count": 76,
     "metadata": {},
     "output_type": "execute_result"
    }
   ],
   "source": [
    "large_gap_prompts"
   ]
  },
  {
   "cell_type": "code",
   "execution_count": 78,
   "metadata": {},
   "outputs": [
    {
     "name": "stderr",
     "output_type": "stream",
     "text": [
      "Traceback (most recent call last):\n",
      "  File \"/Users/kevinmaikjablonka/miniconda3/envs/gpt3/bin/openai\", line 8, in <module>\n",
      "    sys.exit(main())\n",
      "  File \"/Users/kevinmaikjablonka/miniconda3/envs/gpt3/lib/python3.9/site-packages/openai/_openai_scripts.py\", line 63, in main\n",
      "    args.func(args)\n",
      "  File \"/Users/kevinmaikjablonka/miniconda3/envs/gpt3/lib/python3.9/site-packages/openai/cli.py\", line 545, in sync\n",
      "    resp = openai.wandb_logger.WandbLogger.sync(\n",
      "  File \"/Users/kevinmaikjablonka/miniconda3/envs/gpt3/lib/python3.9/site-packages/openai/wandb_logger.py\", line 74, in sync\n",
      "    fine_tune_logged = [\n",
      "  File \"/Users/kevinmaikjablonka/miniconda3/envs/gpt3/lib/python3.9/site-packages/openai/wandb_logger.py\", line 75, in <listcomp>\n",
      "    cls._log_fine_tune(\n",
      "  File \"/Users/kevinmaikjablonka/miniconda3/envs/gpt3/lib/python3.9/site-packages/openai/wandb_logger.py\", line 125, in _log_fine_tune\n",
      "    wandb_run = cls._get_wandb_run(run_path)\n",
      "  File \"/Users/kevinmaikjablonka/miniconda3/envs/gpt3/lib/python3.9/site-packages/openai/wandb_logger.py\", line 190, in _get_wandb_run\n",
      "    cls._ensure_logged_in()\n",
      "  File \"/Users/kevinmaikjablonka/miniconda3/envs/gpt3/lib/python3.9/site-packages/openai/wandb_logger.py\", line 186, in _ensure_logged_in\n",
      "    raise Exception(\"You need to log in to wandb\")\n",
      "Exception: You need to log in to wandb\n"
     ]
    },
    {
     "data": {
      "text/plain": [
       "('ada:ft-lsmoepfl-2022-12-13-15-11-46',\n",
       " 'run_files/2022-12-13-16-07-07_iterative_train_prompts_bandgap_inverse_smiles_383.jsonl')"
      ]
     },
     "execution_count": 78,
     "metadata": {},
     "output_type": "execute_result"
    }
   ],
   "source": [
    "train_inverse_model(large_gap_prompts, \"smiles\")"
   ]
  },
  {
   "cell_type": "code",
   "execution_count": 36,
   "metadata": {},
   "outputs": [],
   "source": [
    "def test_inverse_model(\n",
    "    modelname,\n",
    "    test_prompts,\n",
    "    df_train,\n",
    "    max_tokens: int = 250,\n",
    "    temperatures=None,\n",
    "    representation=\"SMILES\",\n",
    "):\n",
    "    temperatures = temperatures or [0, 0.25, 0.5, 0.75, 1.0, 1.25, 1.5]\n",
    "    train_smiles = df_train[\"SMILES\"].to_list()\n",
    "    results = []\n",
    "    for temperature in temperatures:\n",
    "        try:\n",
    "            print(f\"Testing temperature {temperature} for {representation}\")\n",
    "            result = test_inverse_bandgap(\n",
    "                test_prompts,\n",
    "                modelname,\n",
    "                train_smiles=train_smiles,\n",
    "                temperature=temperature,\n",
    "                max_tokens=max_tokens,\n",
    "                representation=representation,\n",
    "            )\n",
    "\n",
    "            results.append(result)\n",
    "        except Exception as e:\n",
    "            print(e)\n",
    "            pass\n",
    "\n",
    "    return results"
   ]
  },
  {
   "cell_type": "code",
   "execution_count": 81,
   "metadata": {},
   "outputs": [],
   "source": [
    "random_bandgaps = np.random.normal(5.0, 0.2, size=len(large_gap_prompts)*3) \n",
    "test_set_biased = pd.concat([large_gap.copy(), large_gap.copy(), large_gap.copy()])\n",
    "\n",
    "test_set_biased['gap'] = random_bandgaps\n",
    "filename_base = time.strftime(\"%Y-%m-%d-%H-%M-%S\", time.localtime())\n",
    "\n",
    "test_prompts = generate_inverse_photoswitch_prompts(test_set_biased)\n",
    "valid_filename_random_biased = f\"run_files/{filename_base}_iterative_valid_prompts_bandgap_inverse_smiles_random_biased.jsonl\"\n",
    "test_set_biased.to_json(valid_filename_random_biased, orient=\"records\", lines=True)"
   ]
  },
  {
   "cell_type": "code",
   "execution_count": 83,
   "metadata": {},
   "outputs": [
    {
     "name": "stdout",
     "output_type": "stream",
     "text": [
      "Testing temperature 0 for SMILES\n",
      "Internal server error\n",
      "Testing temperature 0.25 for SMILES\n"
     ]
    },
    {
     "name": "stderr",
     "output_type": "stream",
     "text": [
      "2022-12-13 16:55:37.393 | DEBUG    | gpt3forchem.output:test_inverse_bandgap:931 - Got predictions, example: CC(C)Cc1ccccc1\n",
      "2022-12-13 16:55:37.395 | DEBUG    | gpt3forchem.output:test_inverse_bandgap:942 - Loaded predictions. Example: CC(C)Cc1ccccc1\n",
      "2022-12-13 16:55:41.132 | DEBUG    | gpt3forchem.output:test_inverse_bandgap:953 - Calculating Frechet ChemNet distance for 383 samples\n",
      "2022-12-13 16:55:41.253 | INFO     | gpt3forchem.output:_load_chemnet:218 - Saved ChemNet model to '/var/folders/m9/_txh68y946s4pxy1x2wnd3lh0000gn/T/ChemNet_v0.13_pretrained.h5'\n",
      "2022-12-13 16:55:42.035568: W tensorflow/core/platform/profile_utils/cpu_utils.cc:128] Failed to get CPU frequency: 0 Hz\n",
      "2022-12-13 16:55:47.035 | DEBUG    | gpt3forchem.output:test_inverse_bandgap:962 - Computed frechet score: (17.62690471042294, 0.029440590072918955)\n",
      "2022-12-13 16:55:47.085 | WARNING  | gpt3forchem.output:score:102 - The model could not generate enough unique molecules. The score will be penalized.\n",
      "2022-12-13 16:55:54.760 | DEBUG    | gpt3forchem.output:test_inverse_bandgap:973 - Computed KL div score: 0.45009408235468606\n"
     ]
    },
    {
     "name": "stdout",
     "output_type": "stream",
     "text": [
      "Testing temperature 0.5 for SMILES\n"
     ]
    },
    {
     "name": "stderr",
     "output_type": "stream",
     "text": [
      "2022-12-13 17:02:43.924 | DEBUG    | gpt3forchem.output:test_inverse_bandgap:931 - Got predictions, example: Cc1cccc(C(F)(F)F)c1\n",
      "2022-12-13 17:02:43.948 | DEBUG    | gpt3forchem.output:test_inverse_bandgap:942 - Loaded predictions. Example: Cc1cccc(C(F)(F)F)c1\n",
      "2022-12-13 17:02:44.118 | DEBUG    | gpt3forchem.output:test_inverse_bandgap:953 - Calculating Frechet ChemNet distance for 383 samples\n",
      "2022-12-13 17:02:44.220 | INFO     | gpt3forchem.output:_load_chemnet:218 - Saved ChemNet model to '/var/folders/m9/_txh68y946s4pxy1x2wnd3lh0000gn/T/ChemNet_v0.13_pretrained.h5'\n",
      "2022-12-13 17:02:49.086 | DEBUG    | gpt3forchem.output:test_inverse_bandgap:962 - Computed frechet score: (11.186543144741442, 0.10674540962720445)\n",
      "2022-12-13 17:02:49.176 | WARNING  | gpt3forchem.output:score:102 - The model could not generate enough unique molecules. The score will be penalized.\n",
      "2022-12-13 17:02:50.433 | DEBUG    | gpt3forchem.output:test_inverse_bandgap:973 - Computed KL div score: 0.837534923388844\n"
     ]
    },
    {
     "name": "stdout",
     "output_type": "stream",
     "text": [
      "Testing temperature 0.75 for SMILES\n"
     ]
    },
    {
     "name": "stderr",
     "output_type": "stream",
     "text": [
      "2022-12-13 17:09:34.379 | DEBUG    | gpt3forchem.output:test_inverse_bandgap:931 - Got predictions, example: CCCCCCCCCCCCCCCCCCCCCC(=O)NCc1ccccc1\n",
      "2022-12-13 17:09:34.381 | DEBUG    | gpt3forchem.output:test_inverse_bandgap:942 - Loaded predictions. Example: CCCCCCCCCCCCCCCCCCCCCC(=O)NCc1ccccc1\n",
      "2022-12-13 17:09:34.482 | DEBUG    | gpt3forchem.output:test_inverse_bandgap:953 - Calculating Frechet ChemNet distance for 383 samples\n",
      "2022-12-13 17:09:34.945 | INFO     | gpt3forchem.output:_load_chemnet:218 - Saved ChemNet model to '/var/folders/m9/_txh68y946s4pxy1x2wnd3lh0000gn/T/ChemNet_v0.13_pretrained.h5'\n",
      "2022-12-13 17:09:51.905 | DEBUG    | gpt3forchem.output:test_inverse_bandgap:962 - Computed frechet score: (6.121723241495822, 0.2939502780282441)\n",
      "2022-12-13 17:09:51.956 | WARNING  | gpt3forchem.output:score:102 - The model could not generate enough unique molecules. The score will be penalized.\n",
      "2022-12-13 17:09:53.396 | DEBUG    | gpt3forchem.output:test_inverse_bandgap:973 - Computed KL div score: 0.9315006115979767\n"
     ]
    },
    {
     "name": "stdout",
     "output_type": "stream",
     "text": [
      "Testing temperature 1.0 for SMILES\n"
     ]
    },
    {
     "name": "stderr",
     "output_type": "stream",
     "text": [
      "2022-12-13 17:16:40.220 | DEBUG    | gpt3forchem.output:test_inverse_bandgap:931 - Got predictions, example: CCCCCCCCCCC(=O)NCc1ccccc1\n",
      "2022-12-13 17:16:40.222 | DEBUG    | gpt3forchem.output:test_inverse_bandgap:942 - Loaded predictions. Example: CCCCCCCCCCC(=O)NCc1ccccc1\n",
      "2022-12-13 17:16:40.331 | DEBUG    | gpt3forchem.output:test_inverse_bandgap:953 - Calculating Frechet ChemNet distance for 383 samples\n",
      "2022-12-13 17:16:40.392 | INFO     | gpt3forchem.output:_load_chemnet:218 - Saved ChemNet model to '/var/folders/m9/_txh68y946s4pxy1x2wnd3lh0000gn/T/ChemNet_v0.13_pretrained.h5'\n",
      "2022-12-13 17:16:45.694 | DEBUG    | gpt3forchem.output:test_inverse_bandgap:962 - Computed frechet score: (3.766299699694244, 0.47082917339362973)\n",
      "2022-12-13 17:16:45.777 | WARNING  | gpt3forchem.output:score:102 - The model could not generate enough unique molecules. The score will be penalized.\n",
      "2022-12-13 17:16:47.406 | DEBUG    | gpt3forchem.output:test_inverse_bandgap:973 - Computed KL div score: 0.9489100808942522\n"
     ]
    },
    {
     "name": "stdout",
     "output_type": "stream",
     "text": [
      "Testing temperature 1.25 for SMILES\n"
     ]
    },
    {
     "name": "stderr",
     "output_type": "stream",
     "text": [
      "2022-12-13 17:23:36.324 | DEBUG    | gpt3forchem.output:test_inverse_bandgap:931 - Got predictions, example: FC(=O)O\n",
      "2022-12-13 17:23:36.325 | DEBUG    | gpt3forchem.output:test_inverse_bandgap:942 - Loaded predictions. Example: FC(=O)O\n",
      "2022-12-13 17:23:36.505 | DEBUG    | gpt3forchem.output:test_inverse_bandgap:953 - Calculating Frechet ChemNet distance for 383 samples\n",
      "2022-12-13 17:23:36.566 | INFO     | gpt3forchem.output:_load_chemnet:218 - Saved ChemNet model to '/var/folders/m9/_txh68y946s4pxy1x2wnd3lh0000gn/T/ChemNet_v0.13_pretrained.h5'\n",
      "2022-12-13 17:23:41.978 | DEBUG    | gpt3forchem.output:test_inverse_bandgap:962 - Computed frechet score: (3.7839300068054698, 0.4691719243069576)\n",
      "2022-12-13 17:23:42.042 | WARNING  | gpt3forchem.output:score:102 - The model could not generate enough unique molecules. The score will be penalized.\n",
      "2022-12-13 17:23:43.372 | DEBUG    | gpt3forchem.output:test_inverse_bandgap:973 - Computed KL div score: 0.9420475770785324\n"
     ]
    },
    {
     "name": "stdout",
     "output_type": "stream",
     "text": [
      "Testing temperature 1.5 for SMILES\n"
     ]
    },
    {
     "name": "stderr",
     "output_type": "stream",
     "text": [
      "2022-12-13 17:30:34.883 | DEBUG    | gpt3forchem.output:test_inverse_bandgap:931 - Got predictions, example: COc1cpc[nH]c1\n",
      "2022-12-13 17:30:34.884 | DEBUG    | gpt3forchem.output:test_inverse_bandgap:942 - Loaded predictions. Example: COc1cpc[nH]c1\n",
      "2022-12-13 17:30:35.118 | DEBUG    | gpt3forchem.output:test_inverse_bandgap:953 - Calculating Frechet ChemNet distance for 345 samples\n",
      "2022-12-13 17:30:35.172 | INFO     | gpt3forchem.output:_load_chemnet:218 - Saved ChemNet model to '/var/folders/m9/_txh68y946s4pxy1x2wnd3lh0000gn/T/ChemNet_v0.13_pretrained.h5'\n",
      "2022-12-13 17:30:38.276 | DEBUG    | gpt3forchem.output:test_inverse_bandgap:962 - Computed frechet score: (9.607042235652898, 0.14640061932079423)\n",
      "Traceback (most recent call last):\n",
      "  File \"/Users/kevinmaikjablonka/miniconda3/envs/gpt3/lib/python3.9/site-packages/rdkit/ML/Descriptors/MoleculeDescriptors.py\", line 88, in CalcDescriptors\n",
      "    res[i] = fn(mol)\n",
      "  File \"/Users/kevinmaikjablonka/miniconda3/envs/gpt3/lib/python3.9/site-packages/rdkit/Chem/GraphDescriptors.py\", line 687, in BertzCT\n",
      "    return _CalculateEntropies(connectionDict, atomTypeDict, numAtoms)\n",
      "  File \"/Users/kevinmaikjablonka/miniconda3/envs/gpt3/lib/python3.9/site-packages/rdkit/Chem/GraphDescriptors.py\", line 557, in _CalculateEntropies\n",
      "    entropy.InfoEntropy(numpy.array(connectionList)) + math.log(totConnections) / _log2val)\n",
      "ValueError: math domain error\n",
      "2022-12-13 17:30:39.227 | DEBUG    | gpt3forchem.output:test_inverse_bandgap:973 - Computed KL div score: 0.694359166502007\n"
     ]
    }
   ],
   "source": [
    "iteration_3_test_results = test_inverse_model(\"ada:ft-lsmoepfl-2022-12-13-15-11-46\", test_prompts, large_gap_prompts)"
   ]
  },
  {
   "cell_type": "code",
   "execution_count": 85,
   "metadata": {},
   "outputs": [],
   "source": [
    "save_pickle(f\"run_files/{filename_base}-iteration_3_results_extrapolation_smiles_more.pkl\", iteration_3_test_results)"
   ]
  },
  {
   "cell_type": "code",
   "execution_count": 86,
   "metadata": {},
   "outputs": [],
   "source": [
    "smiles_random_biased_sets = []\n",
    "\n",
    "for res in iteration_3_test_results:\n",
    "    result = {}\n",
    "    result[\"temperature\"] = res[\"meta\"][\"temperature\"]\n",
    "    result[\"smiles\"] = set(\n",
    "        res[\"predictions\"][res[\"valid_smiles\"]]\n",
    "    )\n",
    "    result['original_prediction_indices'] = [i for i, x in enumerate(res[\"predictions\"]) if x in result['smiles']]\n",
    "    result['expected'] = [res['expectations'][i] for i in result['original_prediction_indices']]\n",
    "    smiles_random_biased_sets.append(result)\n",
    "\n",
    "for res in smiles_random_biased_sets:\n",
    "    temp = res[\"temperature\"]\n",
    "    smiles_set = res[\"smiles\"]\n",
    "    with open(f\"for_more_xtb_opt/{filename_base}_smiles_iteration_3_biased_sets{temp}.txt\", \"w\") as f:\n",
    "        for i, smiles in enumerate(smiles_set):\n",
    "            if i != len(smiles_set) - 1:\n",
    "                f.write(smiles + \"\\n\")\n",
    "            else:\n",
    "                f.write(smiles)"
   ]
  },
  {
   "cell_type": "code",
   "execution_count": null,
   "metadata": {},
   "outputs": [],
   "source": []
  }
 ],
 "metadata": {
  "kernelspec": {
   "display_name": "Python 3.9.13 ('gpt3')",
   "language": "python",
   "name": "python3"
  },
  "language_info": {
   "codemirror_mode": {
    "name": "ipython",
    "version": 3
   },
   "file_extension": ".py",
   "mimetype": "text/x-python",
   "name": "python",
   "nbconvert_exporter": "python",
   "pygments_lexer": "ipython3",
   "version": "3.9.13"
  },
  "orig_nbformat": 4,
  "vscode": {
   "interpreter": {
    "hash": "9a4fa60962de90e73b5da8d67a44b01d2de04630d82b94b8db1f727a73d31e61"
   }
  }
 },
 "nbformat": 4,
 "nbformat_minor": 2
}
