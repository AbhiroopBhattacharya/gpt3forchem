{
 "cells": [
  {
   "cell_type": "markdown",
   "metadata": {},
   "source": [
    "# Test the fine-tuning approach by training on some properties and testing on others"
   ]
  },
  {
   "cell_type": "code",
   "execution_count": 1,
   "metadata": {},
   "outputs": [],
   "source": [
    "%reload_ext autoreload\n",
    "%autoreload 2"
   ]
  },
  {
   "cell_type": "code",
   "execution_count": 13,
   "metadata": {},
   "outputs": [],
   "source": [
    "from gpt3forchem.extrapolation.create_prompts import create_prompts\n",
    "from gpt3forchem.extrapolation.data import get_data\n",
    "\n",
    "from sklearn.model_selection import train_test_split\n",
    "\n",
    "from gpt3forchem.fine_tune import fine_tune\n",
    "\n",
    "import time"
   ]
  },
  {
   "cell_type": "code",
   "execution_count": 3,
   "metadata": {},
   "outputs": [],
   "source": [
    "data = get_data()"
   ]
  },
  {
   "cell_type": "code",
   "execution_count": 7,
   "metadata": {},
   "outputs": [],
   "source": [
    "TRAIN_PROPERTIES = [\n",
    "    \"CO2 Henry coefficient_binned\",\n",
    "    \"N2 Henry coefficient_binned\",\n",
    "    \"CH4 Henry coefficient_binned\",\n",
    "    \"O2 Henry coefficient_binned\",\n",
    "    \"Xe Henry coefficient_binned\",\n",
    "    \"Kr Henry coefficient_binned\",\n",
    "    \"outputs.pbe.bandgap_binned\"\n",
    "]"
   ]
  },
  {
   "cell_type": "code",
   "execution_count": 8,
   "metadata": {},
   "outputs": [],
   "source": [
    "VALIDATION_PROPERTIES = [\n",
    "    \"H2S Henry coefficient_binned\",\n",
    "    \"H2O Henry coefficient_binned\",\n",
    "]"
   ]
  },
  {
   "cell_type": "code",
   "execution_count": 19,
   "metadata": {},
   "outputs": [],
   "source": [
    "train_data, test_data = train_test_split(data, test_size=0.2)"
   ]
  },
  {
   "cell_type": "code",
   "execution_count": 20,
   "metadata": {},
   "outputs": [],
   "source": [
    "train_prompts = create_prompts(train_data, TRAIN_PROPERTIES)\n",
    "valid_prompts = create_prompts(test_data, VALIDATION_PROPERTIES)"
   ]
  },
  {
   "cell_type": "code",
   "execution_count": 21,
   "metadata": {},
   "outputs": [],
   "source": [
    "train_size = len(train_prompts)\n",
    "test_size = len(valid_prompts)"
   ]
  },
  {
   "cell_type": "code",
   "execution_count": 22,
   "metadata": {},
   "outputs": [
    {
     "data": {
      "text/plain": [
       "112"
      ]
     },
     "execution_count": 22,
     "metadata": {},
     "output_type": "execute_result"
    }
   ],
   "source": [
    "len(valid_prompts)"
   ]
  },
  {
   "cell_type": "code",
   "execution_count": 23,
   "metadata": {},
   "outputs": [],
   "source": [
    "filename_base = time.strftime(\"%Y-%m-%d-%H-%M-%S\", time.localtime())\n",
    "train_filename = f\"run_files/{filename_base}_train_mof_mulitoutput_{train_size}.jsonl\"\n",
    "valid_filename = f\"run_files/{filename_base}_valid_mof_mulitoutput_{test_size}.jsonl\"\n",
    "# to save money, just run a small valid frame\n",
    "valid_small_filename = f\"run_files/{filename_base}_validsmall_mof_mulitoutput_{test_size}.jsonl\"\n",
    "train_prompts.to_json(train_filename, orient=\"records\", lines=True)\n",
    "valid_prompts.to_json(valid_filename, orient=\"records\", lines=True)"
   ]
  },
  {
   "cell_type": "code",
   "execution_count": 24,
   "metadata": {},
   "outputs": [
    {
     "name": "stderr",
     "output_type": "stream",
     "text": [
      "Upload progress: 100%|██████████| 413k/413k [00:00<00:00, 299Mit/s]\n"
     ]
    },
    {
     "name": "stdout",
     "output_type": "stream",
     "text": [
      "Uploaded file from run_files/2022-07-18-15-39-16_train_mof_mulitoutput_1947.jsonl: file-CiU4QIhkLjfpXEFahNCQbdmH\n"
     ]
    },
    {
     "name": "stderr",
     "output_type": "stream",
     "text": [
      "Upload progress: 100%|██████████| 24.0k/24.0k [00:00<00:00, 35.8Mit/s]\n"
     ]
    },
    {
     "name": "stdout",
     "output_type": "stream",
     "text": [
      "Uploaded file from run_files/2022-07-18-15-39-16_valid_mof_mulitoutput_112.jsonl: file-0gb4dclox0RLQBqTBP4W7VXN\n",
      "Created fine-tune: ft-xbM9L0PYNG0dq1q08SoOye08\n",
      "Streaming events until fine-tuning is complete...\n",
      "\n",
      "(Ctrl-C will interrupt the stream, but not cancel the fine-tune)\n",
      "[2022-07-18 15:39:45] Created fine-tune: ft-xbM9L0PYNG0dq1q08SoOye08\n",
      "[2022-07-18 15:39:58] Fine-tune costs $0.39\n",
      "[2022-07-18 15:39:58] Fine-tune enqueued. Queue number: 0\n",
      "[2022-07-18 15:40:01] Fine-tune started\n"
     ]
    }
   ],
   "source": [
    "fine_tune(train_filename, valid_filename)"
   ]
  },
  {
   "cell_type": "code",
   "execution_count": null,
   "metadata": {},
   "outputs": [],
   "source": []
  }
 ],
 "metadata": {
  "interpreter": {
   "hash": "9a4fa60962de90e73b5da8d67a44b01d2de04630d82b94b8db1f727a73d31e61"
  },
  "kernelspec": {
   "display_name": "Python 3.8.13 ('gpt3')",
   "language": "python",
   "name": "python3"
  },
  "language_info": {
   "codemirror_mode": {
    "name": "ipython",
    "version": 3
   },
   "file_extension": ".py",
   "mimetype": "text/x-python",
   "name": "python",
   "nbconvert_exporter": "python",
   "pygments_lexer": "ipython3",
   "version": "3.8.13"
  },
  "orig_nbformat": 4
 },
 "nbformat": 4,
 "nbformat_minor": 2
}
