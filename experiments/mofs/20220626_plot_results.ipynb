{
 "cells": [
  {
   "cell_type": "markdown",
   "metadata": {},
   "source": [
    "# Plot the results for MOFs\n"
   ]
  },
  {
   "cell_type": "code",
   "execution_count": 2,
   "metadata": {},
   "outputs": [],
   "source": [
    "import matplotlib.pyplot as plt\n",
    "\n",
    "plt.style.use([\"science\", \"nature\"])\n",
    "import numpy as np\n",
    "from collections import OrderedDict\n"
   ]
  },
  {
   "cell_type": "code",
   "execution_count": 13,
   "metadata": {},
   "outputs": [],
   "source": [
    "results = OrderedDict(\n",
    "    {\n",
    "        100: {\n",
    "            \"baseline\": {\n",
    "                \"ACC\": {\n",
    "                    0: 0.7545429130556333,\n",
    "                    1: 0.7095331283198211,\n",
    "                    2: 0.6388034665921163,\n",
    "                    3: 0.7313391109868606,\n",
    "                    4: 0.8624545708694437,\n",
    "                },\n",
    "                \"ACC_macro\": 0.739334637964775,\n",
    "                \"F1_micro\": 0.34833659491193736,\n",
    "                \"F1_macro\": 0.3259054462045681,\n",
    "            },\n",
    "            \"mofid\": {\n",
    "                \"ACC\": {0: 0.75, 1: 0.58, 2: 0.55, 3: 0.83, 4: 0.83},\n",
    "                \"ACC_macro\": 0.708,\n",
    "                \"F1_micro\": 0.27,\n",
    "                \"F1_macro\": 0.2286157202097209,\n",
    "            },\n",
    "            \"chemical_name\": {\n",
    "                \"ACC\": {0: 0.73, 1: 0.71, 2: 0.44, 3: 0.87, 4: 0.83},\n",
    "                \"ACC_macro\": 0.716,\n",
    "                \"F1_micro\": 0.29,\n",
    "                \"F1_macro\": 0.16967320261437907,\n",
    "            },\n",
    "        },\n",
    "        500: {\n",
    "            \"baseline\": {\n",
    "                \"ACC\": {\n",
    "                    0: 0.8378973874724583,\n",
    "                    1: 0.7560591753226314,\n",
    "                    2: 0.7450424929178471,\n",
    "                    3: 0.7988668555240793,\n",
    "                    4: 0.8756688700031476,\n",
    "                },\n",
    "                \"ACC_macro\": 0.8027069562480328,\n",
    "                \"F1_micro\": 0.5067673906200818,\n",
    "                \"F1_macro\": 0.49406079368327765,\n",
    "            },\n",
    "            \"mofid\": {\n",
    "                \"ACC\": {0: 0.77, 1: 0.7, 2: 0.78, 3: 0.88, 4: 0.85},\n",
    "                \"ACC_macro\": 0.796,\n",
    "                \"F1_micro\": 0.49,\n",
    "                \"F1_macro\": 0.39362081417163347,\n",
    "            },\n",
    "            \"chemical_name\": {\n",
    "                \"ACC\": {0: 0.81, 1: 0.75, 2: 0.76, 3: 0.85, 4: 0.89},\n",
    "                \"ACC_macro\": 0.812,\n",
    "                \"F1_micro\": 0.53,\n",
    "                \"F1_macro\": 0.45393593955843947,\n",
    "            },\n",
    "        },\n",
    "        2000: {\n",
    "            \"baseline\": {\n",
    "                \"ACC\": {\n",
    "                    0: 0.9083636363636364,\n",
    "                    1: 0.8036363636363636,\n",
    "                    2: 0.8014545454545454,\n",
    "                    3: 0.8225454545454546,\n",
    "                    4: 0.9047272727272727,\n",
    "                },\n",
    "                \"ACC_macro\": 0.8481454545454545,\n",
    "                \"F1_micro\": 0.6203636363636363,\n",
    "                \"F1_macro\": 0.6182768851255356,\n",
    "            },\n",
    "            \"mofid\": {\n",
    "                \"ACC\": {0: 0.82, 1: 0.8, 2: 0.79, 3: 0.74, 4: 0.83},\n",
    "                \"ACC_macro\": 0.796,\n",
    "                \"F1_micro\": 0.49,\n",
    "                \"F1_macro\": 0.48316639230196295,\n",
    "            },\n",
    "            \"chemical_name\": {\n",
    "                \"ACC\": {\n",
    "                    0: 0.8487272727272728,\n",
    "                    1: 0.7207272727272728,\n",
    "                    2: 0.7767272727272727,\n",
    "                    3: 0.8,\n",
    "                    4: 0.8952727272727272,\n",
    "                },\n",
    "                \"ACC_macro\": 0.8082909090909091,\n",
    "                \"F1_micro\": 0.5207272727272727,\n",
    "                \"F1_macro\": 0.5238991138283985,\n",
    "            },\n",
    "        },\n",
    "    }\n",
    ")\n"
   ]
  },
  {
   "cell_type": "code",
   "execution_count": 14,
   "metadata": {},
   "outputs": [],
   "source": [
    "x_axis = list(results.keys())\n",
    "acc_gbdt = [v[\"baseline\"][\"ACC_macro\"] for k, v in results.items()]\n",
    "f1_micro_gbdt = [v[\"baseline\"][\"F1_micro\"] for k, v in results.items()]\n",
    "f1_macro_gbdt = [v[\"baseline\"][\"F1_macro\"] for k, v in results.items()]\n",
    "\n",
    "acc_mofid = [v[\"mofid\"][\"ACC_macro\"] for k, v in results.items()]\n",
    "f1_micro_mofid = [v[\"mofid\"][\"F1_micro\"] for k, v in results.items()]\n",
    "f1_macro_mofid = [v[\"mofid\"][\"F1_macro\"] for k, v in results.items()]\n",
    "\n",
    "acc_iupac = [v[\"chemical_name\"][\"ACC_macro\"] for k, v in results.items()]\n",
    "f1_micro_iupac = [v[\"chemical_name\"][\"F1_micro\"] for k, v in results.items()]\n",
    "f1_macro_iupac = [v[\"chemical_name\"][\"F1_macro\"] for k, v in results.items()]\n"
   ]
  },
  {
   "cell_type": "code",
   "execution_count": 30,
   "metadata": {},
   "outputs": [
    {
     "data": {
      "image/png": "[encoded data removed]",
      "text/plain": [
       "<Figure size 237.6x180 with 3 Axes>"
      ]
     },
     "metadata": {
      "needs_background": "light"
     },
     "output_type": "display_data"
    }
   ],
   "source": [
    "fig, ax = plt.subplots(1, 3, sharex=\"all\")\n",
    "\n",
    "ax[0].plot(x_axis, acc_gbdt, marker=\"o\", label=\"GBDT\")\n",
    "ax[1].plot(x_axis, f1_micro_gbdt, marker=\"o\", label=None)\n",
    "ax[2].plot(x_axis, f1_macro_gbdt, marker=\"o\", label=None)\n",
    "\n",
    "ax[0].plot(x_axis, acc_mofid, marker=\"o\", label=\"MOFid\")\n",
    "ax[1].plot(x_axis, f1_micro_mofid, marker=\"o\", label=None)\n",
    "ax[2].plot(x_axis, f1_macro_mofid, marker=\"o\", label=None)\n",
    "\n",
    "ax[0].plot(x_axis, acc_iupac, marker=\"o\", label=\"name\")\n",
    "ax[1].plot(x_axis, f1_micro_iupac, marker=\"o\", label=None)\n",
    "ax[2].plot(x_axis, f1_macro_iupac, marker=\"o\", label=None)\n",
    "\n",
    "\n",
    "ax[0].set_ylabel(\"accuracy (macro)\")\n",
    "ax[1].set_ylabel(\"F$_1$ (micro)\")\n",
    "ax[2].set_ylabel(\"F$_1$ (macro)\")\n",
    "\n",
    "for i in range(3):\n",
    "    ax[i].set_xlabel(\"\\# training points\")\n",
    "    ax[i].set_xscale(\"log\")\n",
    "\n",
    "ax[0].legend(handletextpad=0.1)\n",
    "\n",
    "fig.tight_layout()\n",
    "\n",
    "fig.savefig(\"mof_metric_comparison.pdf\", bbox_inches=\"tight\")\n"
   ]
  },
  {
   "cell_type": "code",
   "execution_count": null,
   "metadata": {},
   "outputs": [],
   "source": []
  }
 ],
 "metadata": {
  "interpreter": {
   "hash": "9a4fa60962de90e73b5da8d67a44b01d2de04630d82b94b8db1f727a73d31e61"
  },
  "kernelspec": {
   "display_name": "Python 3.8.13 ('gpt3')",
   "language": "python",
   "name": "python3"
  },
  "language_info": {
   "codemirror_mode": {
    "name": "ipython",
    "version": 3
   },
   "file_extension": ".py",
   "mimetype": "text/x-python",
   "name": "python",
   "nbconvert_exporter": "python",
   "pygments_lexer": "ipython3",
   "version": "3.8.13"
  },
  "orig_nbformat": 4
 },
 "nbformat": 4,
 "nbformat_minor": 2
}
