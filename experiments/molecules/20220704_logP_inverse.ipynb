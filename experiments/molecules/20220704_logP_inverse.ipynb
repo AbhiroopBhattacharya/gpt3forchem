{
 "cells": [
  {
   "cell_type": "markdown",
   "metadata": {},
   "source": [
    "# Predict molecule with a desired logP"
   ]
  },
  {
   "cell_type": "code",
   "execution_count": 1,
   "metadata": {},
   "outputs": [
    {
     "ename": "ImportError",
     "evalue": "cannot import name 'create_single_property_inverse_prompts' from 'gpt3forchem.molecules.create_prompts' (/Users/kevinmaikjablonka/git/kjappelbaum/gpt3forchem/src/gpt3forchem/molecules/create_prompts.py)",
     "output_type": "error",
     "traceback": [
      "\u001b[0;31m---------------------------------------------------------------------------\u001b[0m",
      "\u001b[0;31mImportError\u001b[0m                               Traceback (most recent call last)",
      "\u001b[1;32m/Users/kevinmaikjablonka/git/kjappelbaum/gpt3forchem/experiments/molecules/20220704_logP_inverse.ipynb Cell 2'\u001b[0m in \u001b[0;36m<cell line: 14>\u001b[0;34m()\u001b[0m\n\u001b[1;32m     <a href='vscode-notebook-cell:/Users/kevinmaikjablonka/git/kjappelbaum/gpt3forchem/experiments/molecules/20220704_logP_inverse.ipynb#ch0000003?line=11'>12</a>\u001b[0m \u001b[39mfrom\u001b[39;00m \u001b[39mgpt3forchem\u001b[39;00m\u001b[39m.\u001b[39;00m\u001b[39mmolecules\u001b[39;00m\u001b[39m.\u001b[39;00m\u001b[39mdata\u001b[39;00m \u001b[39mimport\u001b[39;00m get_data\n\u001b[1;32m     <a href='vscode-notebook-cell:/Users/kevinmaikjablonka/git/kjappelbaum/gpt3forchem/experiments/molecules/20220704_logP_inverse.ipynb#ch0000003?line=12'>13</a>\u001b[0m \u001b[39mfrom\u001b[39;00m \u001b[39mgpt3forchem\u001b[39;00m\u001b[39m.\u001b[39;00m\u001b[39mmolecules\u001b[39;00m\u001b[39m.\u001b[39;00m\u001b[39mconstants\u001b[39;00m \u001b[39mimport\u001b[39;00m TARGETS, FEATURES, CAT_TARGETS\n\u001b[0;32m---> <a href='vscode-notebook-cell:/Users/kevinmaikjablonka/git/kjappelbaum/gpt3forchem/experiments/molecules/20220704_logP_inverse.ipynb#ch0000003?line=13'>14</a>\u001b[0m \u001b[39mfrom\u001b[39;00m \u001b[39mgpt3forchem\u001b[39;00m\u001b[39m.\u001b[39;00m\u001b[39mmolecules\u001b[39;00m\u001b[39m.\u001b[39;00m\u001b[39mcreate_prompts\u001b[39;00m \u001b[39mimport\u001b[39;00m create_single_property_inverse_prompts\n\u001b[1;32m     <a href='vscode-notebook-cell:/Users/kevinmaikjablonka/git/kjappelbaum/gpt3forchem/experiments/molecules/20220704_logP_inverse.ipynb#ch0000003?line=14'>15</a>\u001b[0m \u001b[39mfrom\u001b[39;00m \u001b[39mgpt3forchem\u001b[39;00m\u001b[39m.\u001b[39;00m\u001b[39mfine_tune\u001b[39;00m \u001b[39mimport\u001b[39;00m fine_tune\n\u001b[1;32m     <a href='vscode-notebook-cell:/Users/kevinmaikjablonka/git/kjappelbaum/gpt3forchem/experiments/molecules/20220704_logP_inverse.ipynb#ch0000003?line=15'>16</a>\u001b[0m \u001b[39mfrom\u001b[39;00m \u001b[39mgpt3forchem\u001b[39;00m\u001b[39m.\u001b[39;00m\u001b[39mquery_model\u001b[39;00m \u001b[39mimport\u001b[39;00m query_gpt3, extract_prediction\n",
      "\u001b[0;31mImportError\u001b[0m: cannot import name 'create_single_property_inverse_prompts' from 'gpt3forchem.molecules.create_prompts' (/Users/kevinmaikjablonka/git/kjappelbaum/gpt3forchem/src/gpt3forchem/molecules/create_prompts.py)"
     ]
    }
   ],
   "source": [
    "%reload_ext autoreload\n",
    "%autoreload 2\n",
    "\n",
    "import time\n",
    "import matplotlib.pyplot as plt\n",
    "plt.style.use(['science', 'nature'])\n",
    "from pycm import ConfusionMatrix\n",
    "import wandb\n",
    "from sklearn.model_selection import train_test_split\n",
    "import numpy as np\n",
    "\n",
    "from gpt3forchem.molecules.data import get_data\n",
    "from gpt3forchem.molecules.constants import TARGETS, FEATURES, CAT_TARGETS\n",
    "from gpt3forchem.molecules.create_prompts import create_single_property_inverse_prompts\n",
    "from gpt3forchem.fine_tune import fine_tune\n",
    "from gpt3forchem.query_model import query_gpt3, extract_prediction"
   ]
  },
  {
   "cell_type": "code",
   "execution_count": null,
   "metadata": {},
   "outputs": [],
   "source": []
  }
 ],
 "metadata": {
  "interpreter": {
   "hash": "9a4fa60962de90e73b5da8d67a44b01d2de04630d82b94b8db1f727a73d31e61"
  },
  "kernelspec": {
   "display_name": "Python 3.8.13 ('gpt3')",
   "language": "python",
   "name": "python3"
  },
  "language_info": {
   "codemirror_mode": {
    "name": "ipython",
    "version": 3
   },
   "file_extension": ".py",
   "mimetype": "text/x-python",
   "name": "python",
   "nbconvert_exporter": "python",
   "pygments_lexer": "ipython3",
   "version": "3.8.13"
  },
  "orig_nbformat": 4
 },
 "nbformat": 4,
 "nbformat_minor": 2
}
