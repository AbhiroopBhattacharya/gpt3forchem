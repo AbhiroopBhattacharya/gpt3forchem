{
 "cells": [
  {
   "cell_type": "markdown",
   "metadata": {},
   "source": [
    "# Predict molecules given a prompt"
   ]
  },
  {
   "cell_type": "code",
   "execution_count": 1,
   "metadata": {},
   "outputs": [],
   "source": [
    "%reload_ext autoreload\n",
    "%autoreload 2\n",
    "\n",
    "import time\n",
    "import matplotlib.pyplot as plt\n",
    "plt.style.use(['science', 'nature'])\n",
    "from pycm import ConfusionMatrix\n",
    "import wandb\n",
    "from sklearn.model_selection import train_test_split\n",
    "import numpy as np\n",
    "\n",
    "from gpt3forchem.molecules.data import get_data\n",
    "from gpt3forchem.molecules.constants import TARGETS, FEATURES, CAT_TARGETS\n",
    "from gpt3forchem.molecules.create_prompts import create_inverse_prompts\n",
    "from gpt3forchem.fine_tune import fine_tune\n",
    "from gpt3forchem.query_model import query_gpt3, extract_prediction"
   ]
  },
  {
   "cell_type": "code",
   "execution_count": 2,
   "metadata": {},
   "outputs": [],
   "source": [
    "data = get_data()"
   ]
  },
  {
   "cell_type": "code",
   "execution_count": 5,
   "metadata": {},
   "outputs": [],
   "source": [
    "train_df, test_df = train_test_split(data, train_size=0.6)"
   ]
  },
  {
   "cell_type": "code",
   "execution_count": 6,
   "metadata": {},
   "outputs": [
    {
     "name": "stdout",
     "output_type": "stream",
     "text": [
      "11105 train points and 7404 test points\n"
     ]
    }
   ],
   "source": [
    "train_size = len(train_df)\n",
    "test_size = len(test_df)\n",
    "print(f\"{len(train_df)} train points and {len(test_df)} test points\")\n"
   ]
  },
  {
   "cell_type": "code",
   "execution_count": 14,
   "metadata": {},
   "outputs": [],
   "source": [
    "train_prompts = create_inverse_prompts(train_df)\n",
    "test_prompts = create_inverse_prompts(test_df)"
   ]
  },
  {
   "cell_type": "code",
   "execution_count": 15,
   "metadata": {},
   "outputs": [],
   "source": [
    "completion_lengths = []\n",
    "\n",
    "for i, row in train_prompts.iterrows(): \n",
    "    completion_lengths.append(len(row['completion']))\n",
    "\n",
    "completion_lengths = np.array(completion_lengths)"
   ]
  },
  {
   "cell_type": "code",
   "execution_count": 16,
   "metadata": {},
   "outputs": [
    {
     "data": {
      "text/plain": [
       "(array([4146., 4075., 1749.,  584.,  217.,  119.,   81.,   36.,   17.,\n",
       "          24.]),\n",
       " array([  5.,  34.,  63.,  92., 121., 150., 179., 208., 237., 266., 295.]),\n",
       " <BarContainer object of 10 artists>)"
      ]
     },
     "execution_count": 16,
     "metadata": {},
     "output_type": "execute_result"
    },
    {
     "data": {
      "image/png": "[encoded data removed]",
      "text/plain": [
       "<Figure size 237.6x180 with 1 Axes>"
      ]
     },
     "metadata": {
      "needs_background": "light"
     },
     "output_type": "display_data"
    }
   ],
   "source": [
    "plt.hist(completion_lengths)"
   ]
  },
  {
   "cell_type": "code",
   "execution_count": 17,
   "metadata": {},
   "outputs": [
    {
     "data": {
      "text/plain": [
       "11048"
      ]
     },
     "execution_count": 17,
     "metadata": {},
     "output_type": "execute_result"
    }
   ],
   "source": [
    "len(train_prompts)"
   ]
  },
  {
   "cell_type": "code",
   "execution_count": 18,
   "metadata": {},
   "outputs": [
    {
     "data": {
      "text/plain": [
       "7369"
      ]
     },
     "execution_count": 18,
     "metadata": {},
     "output_type": "execute_result"
    }
   ],
   "source": [
    "len(test_prompts)"
   ]
  },
  {
   "cell_type": "markdown",
   "metadata": {},
   "source": [
    "### Now, we can fine-tune the model"
   ]
  },
  {
   "cell_type": "code",
   "execution_count": 19,
   "metadata": {},
   "outputs": [],
   "source": [
    "filename_base = time.strftime(\"%Y-%m-%d-%H-%M-%S\", time.localtime())\n",
    "train_filename = f\"run_files/{filename_base}_train_inverse_prompts_mols_{train_size}.jsonl\"\n",
    "valid_filename = f\"run_files/{filename_base}_valid_inverse_prompts_mols_{test_size}.jsonl\"\n",
    "# to save money, just run a small valid frame\n",
    "valid_small_filename = f\"run_files/{filename_base}_validsmall_inverse_prompts_mols_{test_size}.jsonl\"\n",
    "train_prompts.to_json(train_filename, orient=\"records\", lines=True)\n",
    "test_prompts.to_json(valid_filename, orient=\"records\", lines=True)\n",
    "test_prompts.sample(100).to_json(valid_small_filename, orient=\"records\", lines=True)"
   ]
  },
  {
   "cell_type": "code",
   "execution_count": 20,
   "metadata": {},
   "outputs": [
    {
     "name": "stderr",
     "output_type": "stream",
     "text": [
      "Upload progress: 100%|██████████| 1.70M/1.70M [00:00<00:00, 1.06Git/s]\n"
     ]
    },
    {
     "name": "stdout",
     "output_type": "stream",
     "text": [
      "Uploaded file from run_files/2022-07-18-11-09-42_train_inverse_prompts_mols_11105.jsonl: file-PpUJlB0liTRFnHvLXOBiRPAO\n"
     ]
    },
    {
     "name": "stderr",
     "output_type": "stream",
     "text": [
      "Upload progress: 100%|██████████| 15.9k/15.9k [00:00<00:00, 26.7Mit/s]\n"
     ]
    },
    {
     "name": "stdout",
     "output_type": "stream",
     "text": [
      "Uploaded file from run_files/2022-07-18-11-09-42_validsmall_inverse_prompts_mols_7404.jsonl: file-Tc3kokZZOVvgs6rWflWZ0Hjh\n",
      "Created fine-tune: ft-l31mvB9YaHUhFYtWtj4Df1Pt\n",
      "Streaming events until fine-tuning is complete...\n",
      "\n",
      "(Ctrl-C will interrupt the stream, but not cancel the fine-tune)\n",
      "[2022-07-18 11:09:52] Created fine-tune: ft-l31mvB9YaHUhFYtWtj4Df1Pt\n",
      "[2022-07-18 11:10:00] Fine-tune costs $1.24\n",
      "[2022-07-18 11:10:01] Fine-tune enqueued. Queue number: 0\n",
      "[2022-07-18 11:10:02] Fine-tune started\n",
      "[2022-07-18 11:14:17] Completed epoch 1/4\n",
      "[2022-07-18 11:18:15] Completed epoch 2/4\n",
      "[2022-07-18 11:22:13] Completed epoch 3/4\n",
      "\n",
      "Stream interrupted (client disconnected).\n",
      "To resume the stream, run:\n",
      "\n",
      "  openai api fine_tunes.follow -i ft-l31mvB9YaHUhFYtWtj4Df1Pt\n",
      "\n",
      "Fine-tune ft-l31mvB9YaHUhFYtWtj4Df1Pt has the status \"running\" and will not be logged\n",
      "🎉 wandb sync completed successfully\n"
     ]
    }
   ],
   "source": [
    "fine_tune(train_filename, valid_small_filename) "
   ]
  },
  {
   "cell_type": "code",
   "execution_count": null,
   "metadata": {},
   "outputs": [],
   "source": []
  }
 ],
 "metadata": {
  "interpreter": {
   "hash": "9a4fa60962de90e73b5da8d67a44b01d2de04630d82b94b8db1f727a73d31e61"
  },
  "kernelspec": {
   "display_name": "Python 3.8.13 ('gpt3')",
   "language": "python",
   "name": "python3"
  },
  "language_info": {
   "codemirror_mode": {
    "name": "ipython",
    "version": 3
   },
   "file_extension": ".py",
   "mimetype": "text/x-python",
   "name": "python",
   "nbconvert_exporter": "python",
   "pygments_lexer": "ipython3",
   "version": "3.8.13"
  },
  "orig_nbformat": 4
 },
 "nbformat": 4,
 "nbformat_minor": 2
}
