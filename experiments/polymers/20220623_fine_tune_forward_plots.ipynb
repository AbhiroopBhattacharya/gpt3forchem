{
 "cells": [
  {
   "cell_type": "code",
   "execution_count": 2,
   "metadata": {},
   "outputs": [],
   "source": [
    "import matplotlib.pyplot as plt\n",
    "\n",
    "plt.style.use([\"science\", \"nature\"])\n"
   ]
  },
  {
   "cell_type": "code",
   "execution_count": 26,
   "metadata": {},
   "outputs": [],
   "source": [
    "small_metrics = {\n",
    "    \"gpt3\": {\"ACC_macro\": 0.736, \"F1_macro\": 0.22682146542827655, \"F1_micro\": 0.34},\n",
    "    \"gbdt\": {\n",
    "        \"ACC_macro\": 0.8016528925619836,\n",
    "        \"F1_macro\": 0.48907493639993815,\n",
    "        \"F1_micro\": 0.5041322314049587,\n",
    "    },\n",
    "}\n",
    "\n",
    "\n",
    "medium_metrics = {\n",
    "    \"gpt3\": {\"ACC_macro\": 0.9, \"F1_macro\": 0.75549, \"F1_micro\": 0.75},\n",
    "    \"gbdt\": {\n",
    "        \"ACC_macro\": 0.85097,\n",
    "        \"F1_macro\": 0.62649,\n",
    "        \"F1_micro\": 0.62743,\n",
    "    },\n",
    "}\n",
    "\n",
    "large_metrics = {\n",
    "    \"gbdt\": {\"ACC_macro\": 0.88907, \"F1_macro\": 0.72514, \"F1_micro\": 0.72267},\n",
    "    \"gpt3\": {\"ACC_macro\": 0.952, \"F1_micro\": 0.88, \"F1_macro\": 0.8855555555555557},\n",
    "}\n"
   ]
  },
  {
   "cell_type": "code",
   "execution_count": 27,
   "metadata": {},
   "outputs": [],
   "source": [
    "x_axis = [100, 500, 2000]\n",
    "acc_gbdt = [\n",
    "    small_metrics[\"gbdt\"][\"ACC_macro\"],\n",
    "    medium_metrics[\"gbdt\"][\"ACC_macro\"],\n",
    "    large_metrics[\"gbdt\"][\"ACC_macro\"],\n",
    "]\n",
    "f1_micro_gbdt = [\n",
    "    small_metrics[\"gbdt\"][\"F1_micro\"],\n",
    "    medium_metrics[\"gbdt\"][\"F1_micro\"],\n",
    "    large_metrics[\"gbdt\"][\"F1_micro\"],\n",
    "]\n",
    "f1_macro_gbdt = [\n",
    "    small_metrics[\"gbdt\"][\"F1_macro\"],\n",
    "    medium_metrics[\"gbdt\"][\"F1_macro\"],\n",
    "    large_metrics[\"gbdt\"][\"F1_macro\"],\n",
    "]\n",
    "\n",
    "\n",
    "acc_gpt3 = [\n",
    "    small_metrics[\"gpt3\"][\"ACC_macro\"],\n",
    "    medium_metrics[\"gpt3\"][\"ACC_macro\"],\n",
    "    large_metrics[\"gpt3\"][\"ACC_macro\"],\n",
    "]\n",
    "\n",
    "f1_micro_gpt3 = [\n",
    "    small_metrics[\"gpt3\"][\"F1_micro\"],\n",
    "    medium_metrics[\"gpt3\"][\"F1_micro\"],\n",
    "    large_metrics[\"gpt3\"][\"F1_micro\"],\n",
    "]\n",
    "\n",
    "\n",
    "f1_macro_gpt3 = [\n",
    "    small_metrics[\"gpt3\"][\"F1_macro\"],\n",
    "    medium_metrics[\"gpt3\"][\"F1_macro\"],\n",
    "    large_metrics[\"gpt3\"][\"F1_macro\"],\n",
    "]\n"
   ]
  },
  {
   "cell_type": "code",
   "execution_count": 35,
   "metadata": {},
   "outputs": [
    {
     "data": {
      "image/png": "[encoded data removed]",
      "text/plain": [
       "<Figure size 237.6x180 with 3 Axes>"
      ]
     },
     "metadata": {
      "needs_background": "light"
     },
     "output_type": "display_data"
    }
   ],
   "source": [
    "fig, ax = plt.subplots(1, 3, sharex=\"all\")\n",
    "\n",
    "ax[0].plot(x_axis, acc_gbdt, marker=\"o\", label=\"GBDT\")\n",
    "ax[1].plot(x_axis, f1_micro_gbdt, marker=\"o\", label=\"GBDT\")\n",
    "ax[2].plot(x_axis, f1_macro_gbdt, marker=\"o\", label=\"GBDT\")\n",
    "\n",
    "ax[0].plot(x_axis, acc_gpt3, marker=\"o\", label=\"GPT3\")\n",
    "ax[1].plot(x_axis, f1_micro_gpt3, marker=\"o\", label=\"GPT3\")\n",
    "ax[2].plot(x_axis, f1_macro_gpt3, marker=\"o\", label=\"GPT3\")\n",
    "\n",
    "ax[0].set_ylabel(\"accuracy (macro)\")\n",
    "ax[1].set_ylabel(\"F$_1$ (micro)\")\n",
    "ax[2].set_ylabel(\"F$_1$ (macro)\")\n",
    "\n",
    "for i in range(3):\n",
    "    ax[i].set_xlabel(\"\\# training points\")\n",
    "    ax[i].set_xscale(\"log\")\n",
    "\n",
    "ax[0].legend(handletextpad=0.1, loc='lower right')\n",
    "\n",
    "fig.tight_layout()\n",
    "\n",
    "fig.savefig('polymer_metric_comparison.pdf', bbox_inches='tight')\n"
   ]
  },
  {
   "cell_type": "markdown",
   "metadata": {},
   "source": []
  }
 ],
 "metadata": {
  "interpreter": {
   "hash": "9a4fa60962de90e73b5da8d67a44b01d2de04630d82b94b8db1f727a73d31e61"
  },
  "kernelspec": {
   "display_name": "Python 3.8.13 ('gpt3')",
   "language": "python",
   "name": "python3"
  },
  "language_info": {
   "codemirror_mode": {
    "name": "ipython",
    "version": 3
   },
   "file_extension": ".py",
   "mimetype": "text/x-python",
   "name": "python",
   "nbconvert_exporter": "python",
   "pygments_lexer": "ipython3",
   "version": "3.8.13"
  },
  "orig_nbformat": 4
 },
 "nbformat": 4,
 "nbformat_minor": 2
}
