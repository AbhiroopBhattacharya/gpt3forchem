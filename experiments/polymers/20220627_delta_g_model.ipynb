{
 "cells": [
  {
   "cell_type": "code",
   "execution_count": 2,
   "metadata": {},
   "outputs": [
    {
     "name": "stderr",
     "output_type": "stream",
     "text": [
      "/Users/kevinmaikjablonka/miniconda3/envs/gpt3/lib/python3.8/site-packages/tqdm/auto.py:22: TqdmWarning: IProgress not found. Please update jupyter and ipywidgets. See https://ipywidgets.readthedocs.io/en/stable/user_install.html\n",
      "  from .autonotebook import tqdm as notebook_tqdm\n"
     ]
    }
   ],
   "source": [
    "from xgboost import XGBClassifier\n",
    "import pandas as pd \n",
    "import wandb\n",
    "from gpt3forchem.polymers.featurizer  import featurize_many\n",
    "from gpt3forchem.polymers.data import get_data\n",
    "from gpt3forchem.polymers.constants import TARGETS, FEATURES, CAT_TARGETS\n",
    "from gpt3forchem.mofs.baseline.classification import XGBClassificationBaseline\n",
    "from gpt3forchem.mofs.baseline.regression import XGBRegressionBaseline\n",
    "from pycm import *\n",
    "from sklearn.model_selection import train_test_split\n",
    "\n",
    "import matplotlib.pyplot as plt\n",
    "plt.style.use(['science', 'nature'])\n",
    "import joblib"
   ]
  },
  {
   "cell_type": "code",
   "execution_count": 3,
   "metadata": {},
   "outputs": [],
   "source": [
    "df = get_data()"
   ]
  },
  {
   "cell_type": "code",
   "execution_count": 4,
   "metadata": {},
   "outputs": [
    {
     "data": {
      "text/plain": [
       "['deltaGmin', 'A2_normalized']"
      ]
     },
     "execution_count": 4,
     "metadata": {},
     "output_type": "execute_result"
    }
   ],
   "source": [
    "TARGETS"
   ]
  },
  {
   "cell_type": "code",
   "execution_count": 5,
   "metadata": {},
   "outputs": [
    {
     "data": {
      "text/plain": [
       "['deltaGmin_cat', 'A2_normalized_cat']"
      ]
     },
     "execution_count": 5,
     "metadata": {},
     "output_type": "execute_result"
    }
   ],
   "source": [
    "CAT_TARGETS"
   ]
  },
  {
   "cell_type": "code",
   "execution_count": 6,
   "metadata": {},
   "outputs": [],
   "source": [
    "X = df[FEATURES]\n",
    "#y = df[CAT_TARGETS[0]].replace({\"very small\": 0, \"small\": 1, \"medium\": 2, \"large\": 3, \"very large\": 4})\n",
    "y = df[TARGETS[0]]"
   ]
  },
  {
   "cell_type": "code",
   "execution_count": 7,
   "metadata": {},
   "outputs": [],
   "source": [
    "model = XGBRegressionBaseline(524524)"
   ]
  },
  {
   "cell_type": "code",
   "execution_count": 8,
   "metadata": {},
   "outputs": [],
   "source": [
    "X_train, X_test, y_train, y_test = train_test_split(X, y, train_size=0.9)"
   ]
  },
  {
   "cell_type": "code",
   "execution_count": 9,
   "metadata": {},
   "outputs": [
    {
     "name": "stderr",
     "output_type": "stream",
     "text": [
      "\u001b[34m\u001b[1mwandb\u001b[0m: Currently logged in as: \u001b[33mkjappelbaum\u001b[0m. Use \u001b[1m`wandb login --relogin`\u001b[0m to force relogin\n"
     ]
    },
    {
     "data": {
      "text/html": [
       "wandb version 0.12.20 is available!  To upgrade, please run:\n",
       " $ pip install wandb --upgrade"
      ],
      "text/plain": [
       "<IPython.core.display.HTML object>"
      ]
     },
     "metadata": {},
     "output_type": "display_data"
    },
    {
     "data": {
      "text/html": [
       "Tracking run with wandb version 0.12.19"
      ],
      "text/plain": [
       "<IPython.core.display.HTML object>"
      ]
     },
     "metadata": {},
     "output_type": "display_data"
    },
    {
     "data": {
      "text/html": [
       "Run data is saved locally in <code>/Users/kevinmaikjablonka/git/kjappelbaum/gpt3forchem/experiments/polymers/wandb/run-20220701_141906-1ortlkio</code>"
      ],
      "text/plain": [
       "<IPython.core.display.HTML object>"
      ]
     },
     "metadata": {},
     "output_type": "display_data"
    },
    {
     "data": {
      "text/html": [
       "Syncing run <strong><a href=\"https://wandb.ai/kjappelbaum/GPT-3/runs/1ortlkio\" target=\"_blank\">neat-field-95</a></strong> to <a href=\"https://wandb.ai/kjappelbaum/GPT-3\" target=\"_blank\">Weights & Biases</a> (<a href=\"https://wandb.me/run\" target=\"_blank\">docs</a>)<br/>"
      ],
      "text/plain": [
       "<IPython.core.display.HTML object>"
      ]
     },
     "metadata": {},
     "output_type": "display_data"
    }
   ],
   "source": [
    "run = wandb.init(\n",
    "    project=\"gpt-3\",\n",
    "    job_type=\"delta-g-predicttor\",\n",
    "    config={\n",
    "        \"train_size\": len(X_train),\n",
    "        \"test_size\": len(X_test),\n",
    "        \"features\": FEATURES,\n",
    "        \"targets\": [TARGETS[0]],\n",
    "        \"ds\": \"polymer\",\n",
    "    },\n",
    ")\n"
   ]
  },
  {
   "cell_type": "code",
   "execution_count": 10,
   "metadata": {},
   "outputs": [
    {
     "name": "stderr",
     "output_type": "stream",
     "text": [
      "\u001b[32m[I 2022-07-01 14:19:09,261]\u001b[0m A new study created in memory with name: no-name-b98dca1e-af29-41ae-963f-83087ff49f0a\u001b[0m\n",
      "\u001b[32m[I 2022-07-01 14:19:43,744]\u001b[0m Trial 0 finished with value: 0.37563971009039127 and parameters: {'max_depth': 4, 'learning_rate': 0.027215111861196635, 'colsample_bytree': 0.25016390343446626, 'subsample': 0.6967136405126441, 'alpha': 1.2367036045195612, 'lambda': 0.00011112374444674256, 'min_child_weight': 22.050631472702428}. Best is trial 0 with value: 0.37563971009039127.\u001b[0m\n",
      "\u001b[32m[I 2022-07-01 14:20:12,262]\u001b[0m Trial 1 finished with value: 1.1788650824752887 and parameters: {'max_depth': 9, 'learning_rate': 0.02879218825325805, 'colsample_bytree': 0.20997743923194157, 'subsample': 0.7383762301401272, 'alpha': 0.05460070288563517, 'lambda': 0.0007217818854156072, 'min_child_weight': 439.4183175264513}. Best is trial 0 with value: 0.37563971009039127.\u001b[0m\n",
      "\u001b[32m[I 2022-07-01 14:20:28,143]\u001b[0m Trial 2 finished with value: 1.2881615437671663 and parameters: {'max_depth': 5, 'learning_rate': 0.022564232066084017, 'colsample_bytree': 0.40024143066459683, 'subsample': 0.4156721634869501, 'alpha': 0.010527226534575322, 'lambda': 9.00571719739953e-08, 'min_child_weight': 348.8030332486544}. Best is trial 0 with value: 0.37563971009039127.\u001b[0m\n",
      "\u001b[32m[I 2022-07-01 14:20:33,600]\u001b[0m Trial 3 finished with value: 10.906853139005934 and parameters: {'max_depth': 12, 'learning_rate': 0.008189986943880215, 'colsample_bytree': 0.5472338803142817, 'subsample': 0.6355330354699069, 'alpha': 0.6078326168163225, 'lambda': 4.424086275530053e-08, 'min_child_weight': 901.7254921509084}. Best is trial 0 with value: 0.37563971009039127.\u001b[0m\n",
      "\u001b[32m[I 2022-07-01 14:22:27,629]\u001b[0m Trial 4 finished with value: 0.43330711373673286 and parameters: {'max_depth': 7, 'learning_rate': 0.005501062951863949, 'colsample_bytree': 0.3975899598712093, 'subsample': 0.7916491808432703, 'alpha': 0.07138923125624522, 'lambda': 7.779945362721338e-05, 'min_child_weight': 11.468461485183202}. Best is trial 0 with value: 0.37563971009039127.\u001b[0m\n",
      "\u001b[32m[I 2022-07-01 14:23:58,043]\u001b[0m Trial 5 finished with value: 0.37509734181791443 and parameters: {'max_depth': 12, 'learning_rate': 0.02846497790947455, 'colsample_bytree': 0.20878290433938687, 'subsample': 0.779395812483935, 'alpha': 3.3030268997319663, 'lambda': 0.07136019782204003, 'min_child_weight': 44.5180649245172}. Best is trial 5 with value: 0.37509734181791443.\u001b[0m\n",
      "\u001b[32m[I 2022-07-01 14:23:58,065]\u001b[0m Trial 6 pruned. Trial was pruned at iteration 0.\u001b[0m\n",
      "\u001b[32m[I 2022-07-01 14:23:58,119]\u001b[0m Trial 7 pruned. Trial was pruned at iteration 0.\u001b[0m\n",
      "\u001b[32m[I 2022-07-01 14:23:58,185]\u001b[0m Trial 8 pruned. Trial was pruned at iteration 0.\u001b[0m\n",
      "\u001b[32m[I 2022-07-01 14:23:58,205]\u001b[0m Trial 9 pruned. Trial was pruned at iteration 0.\u001b[0m\n",
      "\u001b[32m[I 2022-07-01 14:25:49,966]\u001b[0m Trial 10 finished with value: 0.38454501230870397 and parameters: {'max_depth': 10, 'learning_rate': 0.04371082049084653, 'colsample_bytree': 0.2037636733443172, 'subsample': 0.6086538200464598, 'alpha': 8.80250628462464, 'lambda': 0.8198187301868972, 'min_child_weight': 34.179108707147684}. Best is trial 5 with value: 0.37509734181791443.\u001b[0m\n",
      "\u001b[32m[I 2022-07-01 14:27:05,328]\u001b[0m Trial 11 finished with value: 0.38488772337111965 and parameters: {'max_depth': 8, 'learning_rate': 0.02832196623655785, 'colsample_bytree': 0.25008995871765394, 'subsample': 0.6781162502174805, 'alpha': 3.9441431258726487, 'lambda': 0.04010167306836331, 'min_child_weight': 16.30859708145045}. Best is trial 5 with value: 0.37509734181791443.\u001b[0m\n",
      "\u001b[32m[I 2022-07-01 14:27:26,821]\u001b[0m Trial 12 finished with value: 0.3743718540114708 and parameters: {'max_depth': 4, 'learning_rate': 0.046914359604183574, 'colsample_bytree': 0.23694608709400722, 'subsample': 0.6841207764660331, 'alpha': 1.9834532319157876, 'lambda': 1.5447010532199807e-05, 'min_child_weight': 27.28773647368123}. Best is trial 12 with value: 0.3743718540114708.\u001b[0m\n",
      "\u001b[32m[I 2022-07-01 14:27:56,205]\u001b[0m Trial 13 finished with value: 0.3787629222352543 and parameters: {'max_depth': 7, 'learning_rate': 0.049886228043088746, 'colsample_bytree': 0.22573823733129597, 'subsample': 0.5618665334014882, 'alpha': 2.90201148738951, 'lambda': 3.3749112383006924e-06, 'min_child_weight': 40.368568408782984}. Best is trial 12 with value: 0.3743718540114708.\u001b[0m\n",
      "\u001b[32m[I 2022-07-01 14:28:25,052]\u001b[0m Trial 14 finished with value: 0.3740360211401601 and parameters: {'max_depth': 11, 'learning_rate': 0.03758560623432784, 'colsample_bytree': 0.4927572102791178, 'subsample': 0.799350127537721, 'alpha': 7.0079645330094325, 'lambda': 0.18347040499404485, 'min_child_weight': 60.77407597813592}. Best is trial 14 with value: 0.3740360211401601.\u001b[0m\n",
      "\u001b[32m[I 2022-07-01 14:28:46,295]\u001b[0m Trial 15 finished with value: 0.3564711322951338 and parameters: {'max_depth': 10, 'learning_rate': 0.03756639899577563, 'colsample_bytree': 0.5065493184753613, 'subsample': 0.6508999324895389, 'alpha': 9.14474794656453, 'lambda': 4.120267095856292e-06, 'min_child_weight': 67.08701361476376}. Best is trial 15 with value: 0.3564711322951338.\u001b[0m\n",
      "\u001b[32m[I 2022-07-01 14:28:46,310]\u001b[0m Trial 16 pruned. Trial was pruned at iteration 0.\u001b[0m\n",
      "\u001b[32m[I 2022-07-01 14:29:05,899]\u001b[0m Trial 17 finished with value: 0.3591742438978174 and parameters: {'max_depth': 11, 'learning_rate': 0.03802024065149601, 'colsample_bytree': 0.46670437924859687, 'subsample': 0.6378874228307414, 'alpha': 0.1469969365248263, 'lambda': 0.007828340942313904, 'min_child_weight': 231.55738421801635}. Best is trial 15 with value: 0.3564711322951338.\u001b[0m\n",
      "\u001b[32m[I 2022-07-01 14:29:06,129]\u001b[0m Trial 18 pruned. Trial was pruned at iteration 100.\u001b[0m\n",
      "\u001b[32m[I 2022-07-01 14:29:06,148]\u001b[0m Trial 19 pruned. Trial was pruned at iteration 0.\u001b[0m\n",
      "\u001b[32m[I 2022-07-01 14:29:06,170]\u001b[0m Trial 20 pruned. Trial was pruned at iteration 0.\u001b[0m\n",
      "\u001b[32m[I 2022-07-01 14:29:36,932]\u001b[0m Trial 21 finished with value: 0.36740233640318726 and parameters: {'max_depth': 11, 'learning_rate': 0.037480636183266684, 'colsample_bytree': 0.47711598996583865, 'subsample': 0.7243437101946111, 'alpha': 5.023982283834484, 'lambda': 0.6927093368120762, 'min_child_weight': 211.73019457922322}. Best is trial 15 with value: 0.3564711322951338.\u001b[0m\n",
      "\u001b[32m[I 2022-07-01 14:29:39,577]\u001b[0m Trial 22 pruned. Trial was pruned at iteration 1192.\u001b[0m\n",
      "\u001b[32m[I 2022-07-01 14:29:52,451]\u001b[0m Trial 23 finished with value: 0.3561476829329611 and parameters: {'max_depth': 11, 'learning_rate': 0.04027643906440876, 'colsample_bytree': 0.5045568451243204, 'subsample': 0.591627317300681, 'alpha': 0.03614953610370031, 'lambda': 0.5270084793171427, 'min_child_weight': 197.97711075152503}. Best is trial 23 with value: 0.3561476829329611.\u001b[0m\n",
      "\u001b[32m[I 2022-07-01 14:29:52,467]\u001b[0m Trial 24 pruned. Trial was pruned at iteration 0.\u001b[0m\n",
      "\u001b[32m[I 2022-07-01 14:29:52,580]\u001b[0m Trial 25 pruned. Trial was pruned at iteration 44.\u001b[0m\n",
      "\u001b[32m[I 2022-07-01 14:29:52,593]\u001b[0m Trial 26 pruned. Trial was pruned at iteration 0.\u001b[0m\n",
      "\u001b[32m[I 2022-07-01 14:29:52,611]\u001b[0m Trial 27 pruned. Trial was pruned at iteration 0.\u001b[0m\n",
      "\u001b[32m[I 2022-07-01 14:29:52,631]\u001b[0m Trial 28 pruned. Trial was pruned at iteration 0.\u001b[0m\n",
      "\u001b[32m[I 2022-07-01 14:29:52,672]\u001b[0m Trial 29 pruned. Trial was pruned at iteration 0.\u001b[0m\n",
      "\u001b[32m[I 2022-07-01 14:29:52,754]\u001b[0m Trial 30 pruned. Trial was pruned at iteration 41.\u001b[0m\n",
      "\u001b[32m[I 2022-07-01 14:29:52,770]\u001b[0m Trial 31 pruned. Trial was pruned at iteration 0.\u001b[0m\n",
      "\u001b[32m[I 2022-07-01 14:30:14,374]\u001b[0m Trial 32 finished with value: 0.36121392371723476 and parameters: {'max_depth': 12, 'learning_rate': 0.03813584927882324, 'colsample_bytree': 0.4742840887618118, 'subsample': 0.7439921252419682, 'alpha': 1.188512334498927, 'lambda': 0.1321593599488997, 'min_child_weight': 273.8022605264766}. Best is trial 23 with value: 0.3561476829329611.\u001b[0m\n",
      "\u001b[32m[I 2022-07-01 14:30:14,387]\u001b[0m Trial 33 pruned. Trial was pruned at iteration 0.\u001b[0m\n",
      "\u001b[32m[I 2022-07-01 14:30:14,407]\u001b[0m Trial 34 pruned. Trial was pruned at iteration 0.\u001b[0m\n",
      "\u001b[32m[I 2022-07-01 14:30:33,680]\u001b[0m Trial 35 finished with value: 0.3642660251856287 and parameters: {'max_depth': 9, 'learning_rate': 0.03998118126438219, 'colsample_bytree': 0.3814466375401175, 'subsample': 0.7658897521302048, 'alpha': 1.7813640217437177, 'lambda': 0.2060037084771351, 'min_child_weight': 118.61619311743837}. Best is trial 23 with value: 0.3561476829329611.\u001b[0m\n",
      "\u001b[32m[I 2022-07-01 14:30:33,695]\u001b[0m Trial 36 pruned. Trial was pruned at iteration 0.\u001b[0m\n",
      "\u001b[32m[I 2022-07-01 14:30:50,361]\u001b[0m Trial 37 finished with value: 0.36299785715332133 and parameters: {'max_depth': 12, 'learning_rate': 0.048895343129793586, 'colsample_bytree': 0.40204570354460334, 'subsample': 0.7449012092647028, 'alpha': 0.23223878672272558, 'lambda': 0.0015445863711293683, 'min_child_weight': 264.88957317976843}. Best is trial 23 with value: 0.3561476829329611.\u001b[0m\n",
      "\u001b[32m[I 2022-07-01 14:30:50,375]\u001b[0m Trial 38 pruned. Trial was pruned at iteration 0.\u001b[0m\n",
      "\u001b[32m[I 2022-07-01 14:30:50,433]\u001b[0m Trial 39 pruned. Trial was pruned at iteration 25.\u001b[0m\n",
      "\u001b[32m[I 2022-07-01 14:30:50,448]\u001b[0m Trial 40 pruned. Trial was pruned at iteration 0.\u001b[0m\n",
      "\u001b[32m[I 2022-07-01 14:31:05,712]\u001b[0m Trial 41 finished with value: 0.3635541742286472 and parameters: {'max_depth': 12, 'learning_rate': 0.0483304342290963, 'colsample_bytree': 0.4030567846300588, 'subsample': 0.7509261382042673, 'alpha': 0.2059951031606753, 'lambda': 0.0026406096014560134, 'min_child_weight': 275.63090826287413}. Best is trial 23 with value: 0.3561476829329611.\u001b[0m\n",
      "\u001b[32m[I 2022-07-01 14:31:05,978]\u001b[0m Trial 42 pruned. Trial was pruned at iteration 77.\u001b[0m\n",
      "\u001b[32m[I 2022-07-01 14:31:25,694]\u001b[0m Trial 43 finished with value: 0.35951291783115547 and parameters: {'max_depth': 12, 'learning_rate': 0.0450618937844765, 'colsample_bytree': 0.4269870472231063, 'subsample': 0.6645866220228771, 'alpha': 0.018117696615634133, 'lambda': 0.028973725289292727, 'min_child_weight': 259.257032581913}. Best is trial 23 with value: 0.3561476829329611.\u001b[0m\n",
      "\u001b[32m[I 2022-07-01 14:31:25,708]\u001b[0m Trial 44 pruned. Trial was pruned at iteration 0.\u001b[0m\n",
      "\u001b[32m[I 2022-07-01 14:31:42,053]\u001b[0m Trial 45 finished with value: 0.3675373991884171 and parameters: {'max_depth': 12, 'learning_rate': 0.042569822411236476, 'colsample_bytree': 0.4260008302393268, 'subsample': 0.6320742700244633, 'alpha': 0.030447896839651864, 'lambda': 0.20300661480528528, 'min_child_weight': 158.37931573064535}. Best is trial 23 with value: 0.3561476829329611.\u001b[0m\n",
      "\u001b[32m[I 2022-07-01 14:31:42,069]\u001b[0m Trial 46 pruned. Trial was pruned at iteration 0.\u001b[0m\n",
      "\u001b[32m[I 2022-07-01 14:31:54,291]\u001b[0m Trial 47 finished with value: 0.36756846902915297 and parameters: {'max_depth': 6, 'learning_rate': 0.045146100495870575, 'colsample_bytree': 0.4493024897175055, 'subsample': 0.6074032032526359, 'alpha': 0.01916835905070445, 'lambda': 2.9972382140333012e-05, 'min_child_weight': 103.56348523750555}. Best is trial 23 with value: 0.3561476829329611.\u001b[0m\n",
      "\u001b[32m[I 2022-07-01 14:31:54,304]\u001b[0m Trial 48 pruned. Trial was pruned at iteration 0.\u001b[0m\n",
      "\u001b[32m[I 2022-07-01 14:31:54,321]\u001b[0m Trial 49 pruned. Trial was pruned at iteration 0.\u001b[0m\n",
      "\u001b[32m[I 2022-07-01 14:31:54,341]\u001b[0m Trial 50 pruned. Trial was pruned at iteration 0.\u001b[0m\n",
      "\u001b[32m[I 2022-07-01 14:32:13,035]\u001b[0m Trial 51 finished with value: 0.3632003223654824 and parameters: {'max_depth': 12, 'learning_rate': 0.04925191465784186, 'colsample_bytree': 0.4093758137447065, 'subsample': 0.7457185415053738, 'alpha': 0.16169025289089492, 'lambda': 0.0026391322484832815, 'min_child_weight': 266.31095212553123}. Best is trial 23 with value: 0.3561476829329611.\u001b[0m\n",
      "\u001b[32m[I 2022-07-01 14:32:34,488]\u001b[0m Trial 52 finished with value: 0.36411805030801103 and parameters: {'max_depth': 11, 'learning_rate': 0.045501120906093276, 'colsample_bytree': 0.39045276687997005, 'subsample': 0.715272855024583, 'alpha': 0.09654332160281894, 'lambda': 0.0002302176448042494, 'min_child_weight': 247.916043890443}. Best is trial 23 with value: 0.3561476829329611.\u001b[0m\n",
      "\u001b[32m[I 2022-07-01 14:32:34,512]\u001b[0m Trial 53 pruned. Trial was pruned at iteration 0.\u001b[0m\n",
      "\u001b[32m[I 2022-07-01 14:32:53,680]\u001b[0m Trial 54 finished with value: 0.36238584298111143 and parameters: {'max_depth': 11, 'learning_rate': 0.03939049516406596, 'colsample_bytree': 0.4674845125926542, 'subsample': 0.6427284788576659, 'alpha': 0.04100301662611215, 'lambda': 0.005697859867491307, 'min_child_weight': 115.49369066530211}. Best is trial 23 with value: 0.3561476829329611.\u001b[0m\n",
      "\u001b[32m[I 2022-07-01 14:32:53,701]\u001b[0m Trial 55 pruned. Trial was pruned at iteration 0.\u001b[0m\n",
      "\u001b[32m[I 2022-07-01 14:33:09,375]\u001b[0m Trial 56 finished with value: 0.3610833733565524 and parameters: {'max_depth': 11, 'learning_rate': 0.040141538734838514, 'colsample_bytree': 0.4805990813344351, 'subsample': 0.5893582946378927, 'alpha': 0.04433683864764437, 'lambda': 0.12975148186656743, 'min_child_weight': 92.92077344875784}. Best is trial 23 with value: 0.3561476829329611.\u001b[0m\n",
      "\u001b[32m[I 2022-07-01 14:33:09,391]\u001b[0m Trial 57 pruned. Trial was pruned at iteration 0.\u001b[0m\n",
      "\u001b[32m[I 2022-07-01 14:33:09,407]\u001b[0m Trial 58 pruned. Trial was pruned at iteration 0.\u001b[0m\n",
      "\u001b[32m[I 2022-07-01 14:33:09,429]\u001b[0m Trial 59 pruned. Trial was pruned at iteration 0.\u001b[0m\n",
      "\u001b[32m[I 2022-07-01 14:33:09,446]\u001b[0m Trial 60 pruned. Trial was pruned at iteration 0.\u001b[0m\n",
      "\u001b[32m[I 2022-07-01 14:33:25,653]\u001b[0m Trial 61 finished with value: 0.3614984441140445 and parameters: {'max_depth': 11, 'learning_rate': 0.0404276719023186, 'colsample_bytree': 0.4691525457232823, 'subsample': 0.6360224345332882, 'alpha': 0.04395379496955988, 'lambda': 0.05399965911613522, 'min_child_weight': 121.56421331299772}. Best is trial 23 with value: 0.3561476829329611.\u001b[0m\n",
      "\u001b[32m[I 2022-07-01 14:33:41,085]\u001b[0m Trial 62 finished with value: 0.36457837064545195 and parameters: {'max_depth': 11, 'learning_rate': 0.041666171453258224, 'colsample_bytree': 0.4754251287118181, 'subsample': 0.5969797320983851, 'alpha': 0.04101348603835991, 'lambda': 0.05076114217396847, 'min_child_weight': 90.55507961082763}. Best is trial 23 with value: 0.3561476829329611.\u001b[0m\n",
      "\u001b[32m[I 2022-07-01 14:33:41,108]\u001b[0m Trial 63 pruned. Trial was pruned at iteration 0.\u001b[0m\n",
      "\u001b[32m[I 2022-07-01 14:33:56,431]\u001b[0m Trial 64 finished with value: 0.3611602067373914 and parameters: {'max_depth': 12, 'learning_rate': 0.04196623908664364, 'colsample_bytree': 0.43738821310839154, 'subsample': 0.5590480175141105, 'alpha': 0.02054752801628889, 'lambda': 4.8022495227827036e-06, 'min_child_weight': 169.59404203869067}. Best is trial 23 with value: 0.3561476829329611.\u001b[0m\n",
      "\u001b[32m[I 2022-07-01 14:34:09,484]\u001b[0m Trial 65 finished with value: 0.36369931833689195 and parameters: {'max_depth': 12, 'learning_rate': 0.04497508010991826, 'colsample_bytree': 0.4519035359534016, 'subsample': 0.5239392465334548, 'alpha': 0.02484988892081392, 'lambda': 2.4424950856327214e-07, 'min_child_weight': 168.03757220613238}. Best is trial 23 with value: 0.3561476829329611.\u001b[0m\n",
      "\u001b[32m[I 2022-07-01 14:34:09,506]\u001b[0m Trial 66 pruned. Trial was pruned at iteration 0.\u001b[0m\n",
      "\u001b[32m[I 2022-07-01 14:34:09,650]\u001b[0m Trial 67 pruned. Trial was pruned at iteration 54.\u001b[0m\n",
      "\u001b[32m[I 2022-07-01 14:34:09,665]\u001b[0m Trial 68 pruned. Trial was pruned at iteration 0.\u001b[0m\n",
      "\u001b[32m[I 2022-07-01 14:34:09,679]\u001b[0m Trial 69 pruned. Trial was pruned at iteration 0.\u001b[0m\n",
      "\u001b[32m[I 2022-07-01 14:34:22,615]\u001b[0m Trial 70 finished with value: 0.36720773307606225 and parameters: {'max_depth': 11, 'learning_rate': 0.04748717788244442, 'colsample_bytree': 0.437300551208951, 'subsample': 0.580948861853762, 'alpha': 3.3793751581448497, 'lambda': 6.904512462089137e-06, 'min_child_weight': 138.4245890075582}. Best is trial 23 with value: 0.3561476829329611.\u001b[0m\n",
      "\u001b[32m[I 2022-07-01 14:34:22,634]\u001b[0m Trial 71 pruned. Trial was pruned at iteration 0.\u001b[0m\n",
      "\u001b[32m[I 2022-07-01 14:34:36,613]\u001b[0m Trial 72 finished with value: 0.3617504730175594 and parameters: {'max_depth': 12, 'learning_rate': 0.041920856242992216, 'colsample_bytree': 0.521523090527925, 'subsample': 0.6420174982903067, 'alpha': 0.035158863630776804, 'lambda': 5.895863345484658e-07, 'min_child_weight': 138.3541026983741}. Best is trial 23 with value: 0.3561476829329611.\u001b[0m\n",
      "\u001b[32m[I 2022-07-01 14:34:36,630]\u001b[0m Trial 73 pruned. Trial was pruned at iteration 0.\u001b[0m\n",
      "\u001b[32m[I 2022-07-01 14:34:36,644]\u001b[0m Trial 74 pruned. Trial was pruned at iteration 0.\u001b[0m\n",
      "\u001b[32m[I 2022-07-01 14:34:37,755]\u001b[0m Trial 75 pruned. Trial was pruned at iteration 462.\u001b[0m\n",
      "\u001b[32m[I 2022-07-01 14:34:37,918]\u001b[0m Trial 76 pruned. Trial was pruned at iteration 71.\u001b[0m\n",
      "\u001b[32m[I 2022-07-01 14:34:37,932]\u001b[0m Trial 77 pruned. Trial was pruned at iteration 0.\u001b[0m\n",
      "\u001b[32m[I 2022-07-01 14:34:49,514]\u001b[0m Trial 78 finished with value: 0.3645292716344152 and parameters: {'max_depth': 12, 'learning_rate': 0.049933007552232754, 'colsample_bytree': 0.5085075178810525, 'subsample': 0.6579514971198205, 'alpha': 0.6225262673240288, 'lambda': 6.588098041545177e-05, 'min_child_weight': 71.14813605122863}. Best is trial 23 with value: 0.3561476829329611.\u001b[0m\n",
      "\u001b[32m[I 2022-07-01 14:34:49,538]\u001b[0m Trial 79 pruned. Trial was pruned at iteration 0.\u001b[0m\n",
      "\u001b[32m[I 2022-07-01 14:34:49,552]\u001b[0m Trial 80 pruned. Trial was pruned at iteration 0.\u001b[0m\n",
      "\u001b[32m[I 2022-07-01 14:35:06,965]\u001b[0m Trial 81 finished with value: 0.36192519505101295 and parameters: {'max_depth': 12, 'learning_rate': 0.04129110640314961, 'colsample_bytree': 0.5209905989046314, 'subsample': 0.6407761385762698, 'alpha': 0.03876744911229339, 'lambda': 8.749113079197266e-07, 'min_child_weight': 137.77189279926648}. Best is trial 23 with value: 0.3561476829329611.\u001b[0m\n",
      "\u001b[32m[I 2022-07-01 14:35:06,988]\u001b[0m Trial 82 pruned. Trial was pruned at iteration 0.\u001b[0m\n",
      "\u001b[32m[I 2022-07-01 14:35:07,131]\u001b[0m Trial 83 pruned. Trial was pruned at iteration 38.\u001b[0m\n",
      "\u001b[32m[I 2022-07-01 14:35:07,148]\u001b[0m Trial 84 pruned. Trial was pruned at iteration 0.\u001b[0m\n",
      "\u001b[32m[I 2022-07-01 14:35:07,166]\u001b[0m Trial 85 pruned. Trial was pruned at iteration 0.\u001b[0m\n",
      "\u001b[32m[I 2022-07-01 14:35:07,182]\u001b[0m Trial 86 pruned. Trial was pruned at iteration 0.\u001b[0m\n",
      "\u001b[32m[I 2022-07-01 14:35:10,333]\u001b[0m Trial 87 pruned. Trial was pruned at iteration 672.\u001b[0m\n",
      "\u001b[32m[I 2022-07-01 14:35:10,351]\u001b[0m Trial 88 pruned. Trial was pruned at iteration 0.\u001b[0m\n",
      "\u001b[32m[I 2022-07-01 14:35:10,365]\u001b[0m Trial 89 pruned. Trial was pruned at iteration 0.\u001b[0m\n",
      "\u001b[32m[I 2022-07-01 14:35:12,936]\u001b[0m Trial 90 pruned. Trial was pruned at iteration 872.\u001b[0m\n",
      "\u001b[32m[I 2022-07-01 14:35:29,588]\u001b[0m Trial 91 finished with value: 0.36238030570346974 and parameters: {'max_depth': 12, 'learning_rate': 0.040795118934988814, 'colsample_bytree': 0.5170148674354518, 'subsample': 0.633038957278388, 'alpha': 0.022115751904585465, 'lambda': 7.405592207604159e-06, 'min_child_weight': 130.08312904124668}. Best is trial 23 with value: 0.3561476829329611.\u001b[0m\n",
      "\u001b[32m[I 2022-07-01 14:35:29,740]\u001b[0m Trial 92 pruned. Trial was pruned at iteration 45.\u001b[0m\n",
      "\u001b[32m[I 2022-07-01 14:35:29,760]\u001b[0m Trial 93 pruned. Trial was pruned at iteration 0.\u001b[0m\n",
      "\u001b[32m[I 2022-07-01 14:35:29,776]\u001b[0m Trial 94 pruned. Trial was pruned at iteration 0.\u001b[0m\n",
      "\u001b[32m[I 2022-07-01 14:35:29,794]\u001b[0m Trial 95 pruned. Trial was pruned at iteration 0.\u001b[0m\n",
      "\u001b[32m[I 2022-07-01 14:35:48,620]\u001b[0m Trial 96 finished with value: 0.3660392892013014 and parameters: {'max_depth': 12, 'learning_rate': 0.04666769772230347, 'colsample_bytree': 0.4877307920196313, 'subsample': 0.7057147364809914, 'alpha': 0.02850194150744858, 'lambda': 1.2679184619977812e-06, 'min_child_weight': 210.8912347670611}. Best is trial 23 with value: 0.3561476829329611.\u001b[0m\n",
      "\u001b[32m[I 2022-07-01 14:35:48,643]\u001b[0m Trial 97 pruned. Trial was pruned at iteration 0.\u001b[0m\n",
      "\u001b[32m[I 2022-07-01 14:36:09,502]\u001b[0m Trial 98 finished with value: 0.3582813076558983 and parameters: {'max_depth': 11, 'learning_rate': 0.04357957284101945, 'colsample_bytree': 0.5726290796328359, 'subsample': 0.6949785210243965, 'alpha': 0.06463354160410215, 'lambda': 0.00042690654413051973, 'min_child_weight': 202.49708396982388}. Best is trial 23 with value: 0.3561476829329611.\u001b[0m\n",
      "\u001b[32m[I 2022-07-01 14:36:24,916]\u001b[0m Trial 99 finished with value: 0.3572951085120826 and parameters: {'max_depth': 11, 'learning_rate': 0.04310294094413199, 'colsample_bytree': 0.5644489681588006, 'subsample': 0.7263991767273117, 'alpha': 0.053670041978610666, 'lambda': 0.00012687038209155884, 'min_child_weight': 254.77141739855074}. Best is trial 23 with value: 0.3561476829329611.\u001b[0m\n"
     ]
    }
   ],
   "source": [
    "from IPython.utils import io\n",
    "\n",
    "with io.capture_output() as captured:\n",
    "    model.tune(X_train, y_train);"
   ]
  },
  {
   "cell_type": "code",
   "execution_count": 11,
   "metadata": {},
   "outputs": [],
   "source": [
    "model.fit(X_train.values, y_train)"
   ]
  },
  {
   "cell_type": "code",
   "execution_count": 12,
   "metadata": {},
   "outputs": [],
   "source": [
    "test_predictions = model.predict(X_test)"
   ]
  },
  {
   "cell_type": "code",
   "execution_count": 13,
   "metadata": {},
   "outputs": [],
   "source": [
    "cm = ConfusionMatrix(y_test.values, test_predictions)"
   ]
  },
  {
   "cell_type": "code",
   "execution_count": 14,
   "metadata": {},
   "outputs": [
    {
     "name": "stderr",
     "output_type": "stream",
     "text": [
      "/Users/kevinmaikjablonka/miniconda3/envs/gpt3/lib/python3.8/site-packages/pycm/pycm_obj.py:206: RuntimeWarning: The confusion matrix is a high dimension matrix and won't be demonstrated properly.\n",
      "If confusion matrix has too many zeros (sparse matrix) you can set `sparse` flag to True in printing functions otherwise by using save_csv method to save the confusion matrix in csv format you'll have better demonstration.\n",
      "  warn(CLASS_NUMBER_WARNING, RuntimeWarning)\n",
      "IOPub data rate exceeded.\n",
      "The Jupyter server will temporarily stop sending output\n",
      "to the client in order to avoid crashing it.\n",
      "To change this limit, set the config variable\n",
      "`--ServerApp.iopub_data_rate_limit`.\n",
      "\n",
      "Current values:\n",
      "ServerApp.iopub_data_rate_limit=1000000.0 (bytes/sec)\n",
      "ServerApp.rate_limit_window=3.0 (secs)\n",
      "\n"
     ]
    }
   ],
   "source": [
    "print(cm)"
   ]
  },
  {
   "cell_type": "code",
   "execution_count": 16,
   "metadata": {},
   "outputs": [
    {
     "data": {
      "text/plain": [
       "<matplotlib.collections.PathCollection at 0x288b252b0>"
      ]
     },
     "execution_count": 16,
     "metadata": {},
     "output_type": "execute_result"
    },
    {
     "data": {
      "image/png": "[encoded data removed]",
      "text/plain": [
       "<Figure size 432x288 with 1 Axes>"
      ]
     },
     "metadata": {
      "needs_background": "light"
     },
     "output_type": "display_data"
    }
   ],
   "source": [
    "plt.scatter(test_predictions, y_test)"
   ]
  },
  {
   "cell_type": "code",
   "execution_count": 1,
   "metadata": {},
   "outputs": [],
   "source": [
    "import joblib"
   ]
  },
  {
   "cell_type": "code",
   "execution_count": 7,
   "metadata": {},
   "outputs": [],
   "source": [
    "model = joblib.load(\"delta_g_model.joblib\")"
   ]
  },
  {
   "cell_type": "code",
   "execution_count": 8,
   "metadata": {},
   "outputs": [],
   "source": [
    "model.fit(X.values, y)"
   ]
  },
  {
   "cell_type": "code",
   "execution_count": 9,
   "metadata": {},
   "outputs": [
    {
     "data": {
      "text/plain": [
       "['delta_g_model.joblib']"
      ]
     },
     "execution_count": 9,
     "metadata": {},
     "output_type": "execute_result"
    }
   ],
   "source": [
    "joblib.dump(model, 'delta_g_model.joblib')"
   ]
  },
  {
   "cell_type": "code",
   "execution_count": null,
   "metadata": {},
   "outputs": [],
   "source": []
  }
 ],
 "metadata": {
  "interpreter": {
   "hash": "9a4fa60962de90e73b5da8d67a44b01d2de04630d82b94b8db1f727a73d31e61"
  },
  "kernelspec": {
   "display_name": "Python 3.8.13 ('gpt3')",
   "language": "python",
   "name": "python3"
  },
  "language_info": {
   "codemirror_mode": {
    "name": "ipython",
    "version": 3
   },
   "file_extension": ".py",
   "mimetype": "text/x-python",
   "name": "python",
   "nbconvert_exporter": "python",
   "pygments_lexer": "ipython3",
   "version": "3.8.13"
  }
 },
 "nbformat": 4,
 "nbformat_minor": 4
}
