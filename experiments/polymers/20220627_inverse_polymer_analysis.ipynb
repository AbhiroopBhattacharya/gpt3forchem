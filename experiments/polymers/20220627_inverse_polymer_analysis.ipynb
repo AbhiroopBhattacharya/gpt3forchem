{
 "cells": [
  {
   "cell_type": "markdown",
   "metadata": {},
   "source": [
    "# Analyze inverse predictions for polymers\n"
   ]
  },
  {
   "cell_type": "code",
   "execution_count": 281,
   "metadata": {},
   "outputs": [],
   "source": [
    "%reload_ext autoreload\n",
    "%autoreload 2\n",
    "\n",
    "import time\n",
    "import matplotlib.pyplot as plt\n",
    "plt.style.use(['science', 'nature'])\n",
    "from pycm import ConfusionMatrix\n",
    "import wandb\n",
    "from sklearn.model_selection import train_test_split\n",
    "import numpy as np\n",
    "import pandas as pd \n",
    "import re\n",
    "import seaborn as sns \n",
    "from ipywidgets import FloatProgress\n",
    "from tqdm import tqdm\n",
    "\n",
    "from gpt3forchem.polymers.data import get_data\n",
    "from gpt3forchem.polymers.constants import TARGETS, FEATURES, CAT_TARGETS\n",
    "from gpt3forchem.polymers.analysis import string2performance, composition_mismatch\n",
    "from gpt3forchem.analysis import string_distances\n",
    "from gpt3forchem.polymers.create_prompts import create_single_property_inverse_prompts\n",
    "from gpt3forchem.fine_tune import fine_tune\n",
    "from gpt3forchem.query_model import query_gpt3, extract_prediction\n",
    "colors = [\"#0C5DA5\", \"#00B945\", \"#FF9500\", \"#FF2C00\", \"#845B97\", \"#474747\", \"#9e9e9e\"]"
   ]
  },
  {
   "cell_type": "code",
   "execution_count": 222,
   "metadata": {},
   "outputs": [],
   "source": [
    "df_train = pd.read_json(\n",
    "    \"run_files/2022-06-25-17-15-56_train_inverse_prompts_polymers_2812.jsonl\", lines=True\n",
    ")\n",
    "df_test = pd.read_json(\n",
    "    \"run_files/2022-06-25-17-15-56_valid_inverse_prompts_polymers_313.jsonl\", lines=True\n",
    ")\n"
   ]
  },
  {
   "cell_type": "code",
   "execution_count": 223,
   "metadata": {},
   "outputs": [],
   "source": [
    "test_string = df_test[\"prompt\"].iloc[8]\n",
    "test_completion = df_test[\"completion\"].iloc[8]\n"
   ]
  },
  {
   "cell_type": "code",
   "execution_count": 224,
   "metadata": {},
   "outputs": [
    {
     "data": {
      "text/plain": [
       "'what is a polymer with 2 adsorption energy and 4 A, 6 B, 10 W, and 12 R?###'"
      ]
     },
     "execution_count": 224,
     "metadata": {},
     "output_type": "execute_result"
    }
   ],
   "source": [
    "test_string\n"
   ]
  },
  {
   "cell_type": "code",
   "execution_count": 225,
   "metadata": {},
   "outputs": [
    {
     "data": {
      "text/plain": [
       "' R-W-B-A-A-A-W-A-R-R-R-B-W-W-B-W-R-R-R-R-B-W-W-R-R-W-W-R-W-B-R-B@@@'"
      ]
     },
     "execution_count": 225,
     "metadata": {},
     "output_type": "execute_result"
    }
   ],
   "source": [
    "test_completion\n"
   ]
  },
  {
   "cell_type": "code",
   "execution_count": 226,
   "metadata": {},
   "outputs": [],
   "source": [
    "import re\n"
   ]
  },
  {
   "cell_type": "code",
   "execution_count": 227,
   "metadata": {},
   "outputs": [
    {
     "data": {
      "text/plain": [
       "['R-W-B-A-A-A-W-A-R-R-R-B-W-W-B-W-R-R-R-R-B-W-W-R-R-W-W-R-W-B-R-B']"
      ]
     },
     "execution_count": 227,
     "metadata": {},
     "output_type": "execute_result"
    }
   ],
   "source": [
    "re.findall(\"[(R|W|A|B)\\-(R|W|A|B)]+\", test_completion)\n"
   ]
  },
  {
   "cell_type": "code",
   "execution_count": 228,
   "metadata": {},
   "outputs": [],
   "source": [
    "def get_num_monomer(string, monomer):\n",
    "    num = re.findall(f\"([\\d+]+) {monomer}\", string)\n",
    "    try:\n",
    "        num = int(num[0])\n",
    "    except Exception:\n",
    "        num = 0\n",
    "    return num\n"
   ]
  },
  {
   "cell_type": "code",
   "execution_count": 229,
   "metadata": {},
   "outputs": [],
   "source": [
    "def get_target(string):\n",
    "    num = re.findall(\"([\\d+]+) adsorption\", string)\n",
    "\n",
    "    return int(num[0])\n"
   ]
  },
  {
   "cell_type": "code",
   "execution_count": 230,
   "metadata": {},
   "outputs": [],
   "source": [
    "def get_prompt_data(prompt):\n",
    "    composition = {}\n",
    "\n",
    "    for monomer in [\"R\", \"W\", \"A\", \"B\"]:\n",
    "        composition[monomer] = get_num_monomer(prompt, monomer)\n",
    "\n",
    "    return composition, get_target(prompt)\n"
   ]
  },
  {
   "cell_type": "code",
   "execution_count": 231,
   "metadata": {},
   "outputs": [
    {
     "data": {
      "text/plain": [
       "({'R': 12, 'W': 10, 'A': 4, 'B': 6}, 2)"
      ]
     },
     "execution_count": 231,
     "metadata": {},
     "output_type": "execute_result"
    }
   ],
   "source": [
    "get_prompt_data(test_string)\n"
   ]
  },
  {
   "cell_type": "code",
   "execution_count": 232,
   "metadata": {},
   "outputs": [
    {
     "data": {
      "text/plain": [
       "Counter({' R': 1, 'W': 10, 'B': 5, 'A': 4, 'R': 11, 'B@@@': 1})"
      ]
     },
     "execution_count": 232,
     "metadata": {},
     "output_type": "execute_result"
    }
   ],
   "source": [
    "from collections import Counter\n",
    "\n",
    "Counter(test_completion.split(\"-\"))\n"
   ]
  },
  {
   "cell_type": "code",
   "execution_count": 233,
   "metadata": {},
   "outputs": [
    {
     "data": {
      "text/plain": [
       "{'monomer_squence': 'R-W-B-A-A-A-W-A-R-R-R-B-W-W-B-W-R-R-R-R-B-W-W-R-R-W-W-R-W-B-R-B',\n",
       " 'composition': {'R': 12, 'W': 10, 'B': 6, 'A': 4},\n",
       " 'smiles': '[R][W][Tr][Ta][Ta][Ta][W][Ta][R][R][R][Tr][W][W][Tr][W][R][R][R][R][Tr][W][W][R][R][W][W][R][W][Tr][R][Tr]',\n",
       " 'prediction': array([-8.858534], dtype=float32)}"
      ]
     },
     "execution_count": 233,
     "metadata": {},
     "output_type": "execute_result"
    }
   ],
   "source": [
    "string2performance(test_completion)\n"
   ]
  },
  {
   "cell_type": "code",
   "execution_count": 234,
   "metadata": {},
   "outputs": [],
   "source": [
    "df = get_data()\n"
   ]
  },
  {
   "cell_type": "code",
   "execution_count": 16,
   "metadata": {},
   "outputs": [],
   "source": [
    "_, ranges = pd.cut(df[\"deltaGmin\"], 5, retbins=True)\n"
   ]
  },
  {
   "cell_type": "code",
   "execution_count": 17,
   "metadata": {},
   "outputs": [
    {
     "data": {
      "text/plain": [
       "array([-20.69113445, -17.14582303, -13.61814997, -10.09047692,\n",
       "        -6.56280386,  -3.0351308 ])"
      ]
     },
     "execution_count": 17,
     "metadata": {},
     "output_type": "execute_result"
    }
   ],
   "source": [
    "ranges\n"
   ]
  },
  {
   "cell_type": "code",
   "execution_count": 78,
   "metadata": {},
   "outputs": [],
   "source": [
    "bins = {i: (ranges[i], ranges[i + 1]) for i in range(len(ranges) - 1)}\n"
   ]
  },
  {
   "cell_type": "code",
   "execution_count": 79,
   "metadata": {},
   "outputs": [
    {
     "data": {
      "text/plain": [
       "{0: (-20.691134454177792, -17.145823031111124),\n",
       " 1: (-17.145823031111124, -13.618149973333342),\n",
       " 2: (-13.618149973333342, -10.090476915555563),\n",
       " 3: (-10.090476915555563, -6.562803857777782),\n",
       " 4: (-6.562803857777782, -3.035130800000002)}"
      ]
     },
     "execution_count": 79,
     "metadata": {},
     "output_type": "execute_result"
    }
   ],
   "source": [
    "bins\n"
   ]
  },
  {
   "cell_type": "code",
   "execution_count": 80,
   "metadata": {},
   "outputs": [],
   "source": [
    "def get_distance(prediction, bin, bins):\n",
    "    in_bin = (prediction >= bins[bin][0]) & (prediction < bins[bin][1])\n",
    "    if in_bin:\n",
    "        loss = 0\n",
    "    else:\n",
    "        # compute the minimum distance to bin\n",
    "        left_edge_distance = abs(prediction - bins[bin][0])\n",
    "        right_edge_distance = abs(prediction - bins[bin][1])\n",
    "        loss = min(left_edge_distance, right_edge_distance)\n",
    "    return loss\n"
   ]
  },
  {
   "cell_type": "code",
   "execution_count": 81,
   "metadata": {},
   "outputs": [
    {
     "data": {
      "text/plain": [
       "2.277310915555563"
      ]
     },
     "execution_count": 81,
     "metadata": {},
     "output_type": "execute_result"
    }
   ],
   "source": [
    "get_distance(-7.813166, 2, bins)\n"
   ]
  },
  {
   "cell_type": "markdown",
   "metadata": {},
   "source": [
    "## As a baseline, run the analysis on the training data\n"
   ]
  },
  {
   "cell_type": "code",
   "execution_count": 124,
   "metadata": {},
   "outputs": [],
   "source": [
    "losses = []\n",
    "composition_mismatches = []\n",
    "for i, row in df_test.iterrows():\n",
    "\n",
    "    composition, bin = get_prompt_data(row[\"prompt\"])\n",
    "    completion_data = string2performance(row[\"completion\"])\n",
    "    loss = get_distance(completion_data[\"prediction\"][0], bin, bins)\n",
    "    losses.append(loss)\n",
    "    composition_mismatches.append(composition_mismatch(composition, completion_data[\"composition\"]))\n"
   ]
  },
  {
   "cell_type": "code",
   "execution_count": 125,
   "metadata": {},
   "outputs": [
    {
     "data": {
      "text/plain": [
       "prompt        what is a polymer with 3 adsorption energy and...\n",
       "completion     W-W-R-A-W-W-B-A-R-R-B-W-A-A-A-B-B-R-B-B-B-B-R...\n",
       "Name: 312, dtype: object"
      ]
     },
     "execution_count": 125,
     "metadata": {},
     "output_type": "execute_result"
    }
   ],
   "source": [
    "row\n"
   ]
  },
  {
   "cell_type": "code",
   "execution_count": 126,
   "metadata": {},
   "outputs": [
    {
     "data": {
      "text/plain": [
       "'what is a polymer with 3 adsorption energy and 8 A, 8 B, 10 W, and 8 R?###'"
      ]
     },
     "execution_count": 126,
     "metadata": {},
     "output_type": "execute_result"
    }
   ],
   "source": [
    "row[\"prompt\"]\n"
   ]
  },
  {
   "cell_type": "code",
   "execution_count": 127,
   "metadata": {},
   "outputs": [
    {
     "data": {
      "text/plain": [
       "{'R': 8, 'W': 10, 'A': 8, 'B': 8}"
      ]
     },
     "execution_count": 127,
     "metadata": {},
     "output_type": "execute_result"
    }
   ],
   "source": [
    "composition\n"
   ]
  },
  {
   "cell_type": "code",
   "execution_count": 128,
   "metadata": {},
   "outputs": [
    {
     "data": {
      "text/plain": [
       "{'W': 10, 'R': 8, 'A': 8, 'B': 8}"
      ]
     },
     "execution_count": 128,
     "metadata": {},
     "output_type": "execute_result"
    }
   ],
   "source": [
    "completion_data[\"composition\"]\n"
   ]
  },
  {
   "cell_type": "code",
   "execution_count": 129,
   "metadata": {},
   "outputs": [
    {
     "data": {
      "text/plain": [
       "{'distances': [0, 0, 0, 0],\n",
       " 'min': 0,\n",
       " 'max': 0,\n",
       " 'mean': 0.0,\n",
       " 'expected_len': 34,\n",
       " 'found_len': 34}"
      ]
     },
     "execution_count": 129,
     "metadata": {},
     "output_type": "execute_result"
    }
   ],
   "source": [
    "composition_mismatch(composition, completion_data[\"composition\"])\n"
   ]
  },
  {
   "cell_type": "code",
   "execution_count": 130,
   "metadata": {},
   "outputs": [
    {
     "data": {
      "text/plain": [
       "{'W': 10, 'R': 8, 'A': 8, 'B': 8}"
      ]
     },
     "execution_count": 130,
     "metadata": {},
     "output_type": "execute_result"
    }
   ],
   "source": [
    "completion_data[\"composition\"]\n"
   ]
  },
  {
   "cell_type": "code",
   "execution_count": 131,
   "metadata": {},
   "outputs": [
    {
     "data": {
      "text/plain": [
       "(array([98., 72., 33.,  1., 10., 34., 11.,  0., 30., 24.]),\n",
       " array([0.        , 0.91791277, 1.83582554, 2.75373832, 3.67165109,\n",
       "        4.58956386, 5.50747663, 6.42538941, 7.34330218, 8.26121495,\n",
       "        9.17912772]),\n",
       " <BarContainer object of 10 artists>)"
      ]
     },
     "execution_count": 131,
     "metadata": {},
     "output_type": "execute_result"
    },
    {
     "data": {
      "image/png": "[encoded data removed]",
      "text/plain": [
       "<Figure size 237.6x180 with 1 Axes>"
      ]
     },
     "metadata": {
      "needs_background": "light"
     },
     "output_type": "display_data"
    }
   ],
   "source": [
    "plt.hist(losses)\n"
   ]
  },
  {
   "cell_type": "code",
   "execution_count": 87,
   "metadata": {},
   "outputs": [
    {
     "data": {
      "text/plain": [
       "2.9358926045066087"
      ]
     },
     "execution_count": 87,
     "metadata": {},
     "output_type": "execute_result"
    }
   ],
   "source": [
    "np.mean(losses)\n"
   ]
  },
  {
   "cell_type": "code",
   "execution_count": null,
   "metadata": {},
   "outputs": [],
   "source": [
    "composition_mismatches\n"
   ]
  },
  {
   "cell_type": "code",
   "execution_count": 155,
   "metadata": {},
   "outputs": [],
   "source": [
    "completions_0 = query_gpt3(\n",
    "    \"ada:ft-epfl-2022-06-25-15-34-15\", df_test, max_tokens=200, temperature=0\n",
    ")\n"
   ]
  },
  {
   "cell_type": "code",
   "execution_count": 272,
   "metadata": {},
   "outputs": [],
   "source": [
    "completions_05 = query_gpt3(\n",
    "    \"ada:ft-epfl-2022-06-25-15-34-15\", df_test, max_tokens=200, temperature=0.5\n",
    ")\n"
   ]
  },
  {
   "cell_type": "code",
   "execution_count": 275,
   "metadata": {},
   "outputs": [],
   "source": [
    "completions_10 = query_gpt3(\n",
    "    \"ada:ft-epfl-2022-06-25-15-34-15\", df_test, max_tokens=200, temperature=1.0\n",
    ")\n"
   ]
  },
  {
   "cell_type": "code",
   "execution_count": 156,
   "metadata": {},
   "outputs": [],
   "source": [
    "completion_texts_0 = [completion[\"choices\"][0][\"text\"] for completion in completions_0]\n"
   ]
  },
  {
   "cell_type": "code",
   "execution_count": 273,
   "metadata": {},
   "outputs": [],
   "source": [
    "completion_texts_05 = [completion[\"choices\"][0][\"text\"] for completion in completions_05]\n"
   ]
  },
  {
   "cell_type": "code",
   "execution_count": 276,
   "metadata": {},
   "outputs": [],
   "source": [
    "completion_texts_10 = [completion[\"choices\"][0][\"text\"] for completion in completions_10]\n"
   ]
  },
  {
   "cell_type": "code",
   "execution_count": 186,
   "metadata": {},
   "outputs": [],
   "source": [
    "train_sequences = [string2performance(seq)[\"monomer_squence\"] for seq in df_train[\"completion\"]]\n"
   ]
  },
  {
   "cell_type": "code",
   "execution_count": 261,
   "metadata": {},
   "outputs": [],
   "source": [
    "np.random.shuffle(train_sequences)\n"
   ]
  },
  {
   "cell_type": "code",
   "execution_count": 385,
   "metadata": {},
   "outputs": [
    {
     "data": {
      "text/plain": [
       "2.601691648679342"
      ]
     },
     "execution_count": 385,
     "metadata": {},
     "output_type": "execute_result"
    }
   ],
   "source": [
    "get_distance(completion_data[\"prediction\"][0], 2, bins)"
   ]
  },
  {
   "cell_type": "code",
   "execution_count": 278,
   "metadata": {},
   "outputs": [],
   "source": [
    "def get_metrics(completion_texts):\n",
    "    losses = []\n",
    "    composition_mismatches = []\n",
    "\n",
    "    for i, row in tqdm(df_test.iterrows(), total=len(completion_texts)):\n",
    "        if i < len(completion_texts):\n",
    "            try:\n",
    "                composition, bin = get_prompt_data(row[\"prompt\"])\n",
    "                completion_data = string2performance(completion_texts[i])\n",
    "                loss = get_distance(completion_data[\"prediction\"][0], bin, bins)\n",
    "                losses.append(loss)\n",
    "\n",
    "                mm = composition_mismatch(composition, completion_data[\"composition\"])\n",
    "                distances = string_distances(\n",
    "                    train_sequences[:2000], completion_data[\"monomer_squence\"]\n",
    "                )\n",
    "                mm.update(completion_data)\n",
    "                mm.update(distances)\n",
    "                mm.update({\"loss\": loss})\n",
    "                composition_mismatches.append(mm)\n",
    "            except Exception as e:\n",
    "                print(e)\n",
    "    return losses, pd.DataFrame(composition_mismatches)\n"
   ]
  },
  {
   "cell_type": "code",
   "execution_count": 263,
   "metadata": {},
   "outputs": [
    {
     "name": "stderr",
     "output_type": "stream",
     "text": [
      "100%|██████████| 313/313 [23:52<00:00,  4.58s/it]\n"
     ]
    }
   ],
   "source": [
    "losses_test, composition_mismatches_test = get_metrics(df_test[\"completion\"])\n"
   ]
  },
  {
   "cell_type": "code",
   "execution_count": 264,
   "metadata": {},
   "outputs": [
    {
     "name": "stderr",
     "output_type": "stream",
     "text": [
      "100%|██████████| 313/313 [24:30<00:00,  4.70s/it]\n"
     ]
    }
   ],
   "source": [
    "losses_0, composition_mismatches_0 = get_metrics(completion_texts_0)\n"
   ]
  },
  {
   "cell_type": "code",
   "execution_count": 274,
   "metadata": {},
   "outputs": [
    {
     "name": "stderr",
     "output_type": "stream",
     "text": [
      "100%|██████████| 313/313 [1:39:28<00:00, 19.07s/it]   \n"
     ]
    }
   ],
   "source": [
    "losses_05, composition_mismatches_05 = get_metrics(completion_texts_05)\n"
   ]
  },
  {
   "cell_type": "code",
   "execution_count": 279,
   "metadata": {},
   "outputs": [
    {
     "name": "stderr",
     "output_type": "stream",
     "text": [
      " 26%|██▌       | 82/313 [08:07<21:41,  5.63s/it]"
     ]
    },
    {
     "name": "stdout",
     "output_type": "stream",
     "text": [
      "'o'\n"
     ]
    },
    {
     "name": "stderr",
     "output_type": "stream",
     "text": [
      "100%|██████████| 313/313 [31:20<00:00,  6.01s/it]\n"
     ]
    }
   ],
   "source": [
    "losses_10, composition_mismatches_10 = get_metrics(completion_texts_10)\n"
   ]
  },
  {
   "cell_type": "code",
   "execution_count": 368,
   "metadata": {},
   "outputs": [],
   "source": [
    "df_loss = pd.DataFrame(\n",
    "    {\n",
    "        \"loss\": losses_test + losses_0 + losses_05 + losses_10,\n",
    "        \"name\": [\"test\"] * len(losses_test)\n",
    "        + [0] * len(losses_0)\n",
    "        + [0.5] * len(losses_05)\n",
    "        + [1.0] * len(losses_10),\n",
    "    }\n",
    ")\n",
    "\n",
    "\n",
    "df_levelstein = pd.DataFrame(\n",
    "    {\n",
    "        \"levenein\": composition_mismatches_test[\"NormalizedLevenshtein_min\"].to_list()\n",
    "        + composition_mismatches_0[\"NormalizedLevenshtein_min\"].to_list()\n",
    "        + composition_mismatches_05[\"NormalizedLevenshtein_min\"].to_list()\n",
    "        + composition_mismatches_10[\"NormalizedLevenshtein_min\"].to_list(),\n",
    "        \"name\": [\"test\"] * len(composition_mismatches_test[\"NormalizedLevenshtein_min\"])\n",
    "        + [0] * len(composition_mismatches_0[\"NormalizedLevenshtein_min\"])\n",
    "        + [0.5] * len(composition_mismatches_05[\"NormalizedLevenshtein_min\"])\n",
    "        + [1.0] * len(composition_mismatches_10[\"NormalizedLevenshtein_min\"]),\n",
    "    }\n",
    ")\n",
    "\n",
    "df_composition = pd.DataFrame(\n",
    "    {\n",
    "        \"composiion\": composition_mismatches_test[\"mean\"].to_list()\n",
    "        + composition_mismatches_0[\"mean\"].to_list()\n",
    "        + composition_mismatches_05[\"mean\"].to_list()\n",
    "        + composition_mismatches_10[\"mean\"].to_list(),\n",
    "        \"name\": [\"test\"] * len(composition_mismatches_test[\"mean\"])\n",
    "        + [0] * len(composition_mismatches_0[\"mean\"])\n",
    "        + [0.5] * len(composition_mismatches_05[\"mean\"])\n",
    "        + [1.0] * len(composition_mismatches_10[\"mean\"]),\n",
    "    }\n",
    ")\n",
    "\n",
    "df_substring = pd.DataFrame(\n",
    "    {\n",
    "        \"substring\": composition_mismatches_test[\"LongestCommonSubsequence_max\"].to_list()\n",
    "        + composition_mismatches_0[\"LongestCommonSubsequence_max\"].to_list()\n",
    "        + composition_mismatches_05[\"LongestCommonSubsequence_max\"].to_list()\n",
    "        + composition_mismatches_10[\"LongestCommonSubsequence_max\"].to_list(),\n",
    "        \"name\": [\"test\"] * len(composition_mismatches_test[\"LongestCommonSubsequence_max\"])\n",
    "        + [0] * len(composition_mismatches_0[\"LongestCommonSubsequence_max\"])\n",
    "        + [0.5] * len(composition_mismatches_05[\"LongestCommonSubsequence_max\"])\n",
    "        + [1.0] * len(composition_mismatches_10[\"LongestCommonSubsequence_max\"]),\n",
    "    }\n",
    ")\n"
   ]
  },
  {
   "cell_type": "code",
   "execution_count": 358,
   "metadata": {},
   "outputs": [
    {
     "data": {
      "text/plain": [
       "3.3"
      ]
     },
     "execution_count": 358,
     "metadata": {},
     "output_type": "execute_result"
    },
    {
     "data": {
      "image/png": "[encoded data removed]",
      "text/plain": [
       "<Figure size 237.6x180 with 1 Axes>"
      ]
     },
     "metadata": {
      "needs_background": "light"
     },
     "output_type": "display_data"
    }
   ],
   "source": [
    "fig, ax = plt.subplots()\n",
    "fig.get_figwidth()"
   ]
  },
  {
   "cell_type": "code",
   "execution_count": 386,
   "metadata": {},
   "outputs": [
    {
     "data": {
      "text/plain": [
       "2.9358926045066087"
      ]
     },
     "execution_count": 386,
     "metadata": {},
     "output_type": "execute_result"
    }
   ],
   "source": [
    "np.mean(losses_test)"
   ]
  },
  {
   "cell_type": "code",
   "execution_count": 399,
   "metadata": {},
   "outputs": [
    {
     "data": {
      "text/plain": [
       "2.8612383391729392"
      ]
     },
     "execution_count": 399,
     "metadata": {},
     "output_type": "execute_result"
    }
   ],
   "source": [
    "np.mean(losses_0)"
   ]
  },
  {
   "cell_type": "code",
   "execution_count": 400,
   "metadata": {},
   "outputs": [
    {
     "data": {
      "text/plain": [
       "2.957585139492623"
      ]
     },
     "execution_count": 400,
     "metadata": {},
     "output_type": "execute_result"
    }
   ],
   "source": [
    "np.mean(losses_05)"
   ]
  },
  {
   "cell_type": "code",
   "execution_count": 401,
   "metadata": {},
   "outputs": [
    {
     "data": {
      "text/plain": [
       "2.9634087864690914"
      ]
     },
     "execution_count": 401,
     "metadata": {},
     "output_type": "execute_result"
    }
   ],
   "source": [
    "np.mean(losses_10)"
   ]
  },
  {
   "cell_type": "code",
   "execution_count": 398,
   "metadata": {},
   "outputs": [
    {
     "name": "stderr",
     "output_type": "stream",
     "text": [
      "/Users/kevinmaikjablonka/miniconda3/envs/gpt3/lib/python3.8/site-packages/seaborn/_decorators.py:36: FutureWarning: Pass the following variables as keyword args: x, y. From version 0.12, the only valid positional argument will be `data`, and passing other arguments without an explicit keyword will result in an error or misinterpretation.\n",
      "  warnings.warn(\n",
      "/Users/kevinmaikjablonka/miniconda3/envs/gpt3/lib/python3.8/site-packages/seaborn/_decorators.py:36: FutureWarning: Pass the following variables as keyword args: x, y. From version 0.12, the only valid positional argument will be `data`, and passing other arguments without an explicit keyword will result in an error or misinterpretation.\n",
      "  warnings.warn(\n",
      "/Users/kevinmaikjablonka/miniconda3/envs/gpt3/lib/python3.8/site-packages/seaborn/_decorators.py:36: FutureWarning: Pass the following variables as keyword args: x, y. From version 0.12, the only valid positional argument will be `data`, and passing other arguments without an explicit keyword will result in an error or misinterpretation.\n",
      "  warnings.warn(\n",
      "/Users/kevinmaikjablonka/miniconda3/envs/gpt3/lib/python3.8/site-packages/seaborn/_decorators.py:36: FutureWarning: Pass the following variables as keyword args: x, y. From version 0.12, the only valid positional argument will be `data`, and passing other arguments without an explicit keyword will result in an error or misinterpretation.\n",
      "  warnings.warn(\n"
     ]
    },
    {
     "data": {
      "image/png": "[encoded data removed]",
      "text/plain": [
       "<Figure size 475.2x252 with 4 Axes>"
      ]
     },
     "metadata": {
      "needs_background": "light"
     },
     "output_type": "display_data"
    }
   ],
   "source": [
    "fig, ax = plt.subplots(1, 4, figsize=(6.6, 3.5), sharey='all')\n",
    "\n",
    "sns.violinplot(df_loss[\"loss\"], df_loss[\"name\"], ax=ax[0], scale='width')\n",
    "\n",
    "sns.violinplot(df_composition[\"composiion\"], df_composition[\"name\"], ax=ax[1] , scale='width')\n",
    "ax[1].set_xlim(0,2)\n",
    "sns.violinplot(df_substring[\"substring\"], df_substring[\"name\"], ax=ax[2], scale='width')\n",
    "\n",
    "sns.violinplot(df_levelstein[\"levenein\"], df_levelstein[\"name\"], ax=ax[3], scale='width')\n",
    "ax[3].set_xlim(0.2, 0.32)\n",
    "\n",
    "\n",
    "ax[0].set_xlabel('prediction error / $k_\\mathrm{B}T$')\n",
    "ax[1].set_xlabel('mean composition error')\n",
    "ax[2].set_xlabel('longest common subsquence')\n",
    "ax[3].set_xlabel('Levenshtein distance')\n",
    "\n",
    "fig.tight_layout()\n",
    "\n",
    "fig.savefig('polymer_inverse_design.pdf', bbox_inches='tight')"
   ]
  },
  {
   "cell_type": "code",
   "execution_count": 345,
   "metadata": {},
   "outputs": [
    {
     "data": {
      "text/plain": [
       "<AxesSubplot:>"
      ]
     },
     "execution_count": 345,
     "metadata": {},
     "output_type": "execute_result"
    },
    {
     "data": {
      "image/png": "[encoded data removed]",
      "text/plain": [
       "<Figure size 237.6x180 with 1 Axes>"
      ]
     },
     "metadata": {
      "needs_background": "light"
     },
     "output_type": "display_data"
    }
   ],
   "source": [
    "composition_mismatches_0[\"NormalizedLevenshtein_min\"].hist()\n"
   ]
  },
  {
   "cell_type": "code",
   "execution_count": 346,
   "metadata": {},
   "outputs": [
    {
     "data": {
      "text/plain": [
       "<AxesSubplot:>"
      ]
     },
     "execution_count": 346,
     "metadata": {},
     "output_type": "execute_result"
    },
    {
     "data": {
      "image/png": "[encoded data removed]",
      "text/plain": [
       "<Figure size 237.6x180 with 1 Axes>"
      ]
     },
     "metadata": {
      "needs_background": "light"
     },
     "output_type": "display_data"
    }
   ],
   "source": [
    "composition_mismatches_test[\"NormalizedLevenshtein_min\"].hist()\n"
   ]
  },
  {
   "cell_type": "code",
   "execution_count": 347,
   "metadata": {},
   "outputs": [
    {
     "data": {
      "text/plain": [
       "<AxesSubplot:>"
      ]
     },
     "execution_count": 347,
     "metadata": {},
     "output_type": "execute_result"
    },
    {
     "data": {
      "image/png": "[encoded data removed]",
      "text/plain": [
       "<Figure size 237.6x180 with 1 Axes>"
      ]
     },
     "metadata": {
      "needs_background": "light"
     },
     "output_type": "display_data"
    }
   ],
   "source": [
    "composition_mismatches_test[\"LongestCommonSubsequence_max\"].hist()\n"
   ]
  },
  {
   "cell_type": "code",
   "execution_count": 348,
   "metadata": {},
   "outputs": [
    {
     "data": {
      "text/plain": [
       "<AxesSubplot:>"
      ]
     },
     "execution_count": 348,
     "metadata": {},
     "output_type": "execute_result"
    },
    {
     "data": {
      "image/png": "[encoded data removed]",
      "text/plain": [
       "<Figure size 237.6x180 with 1 Axes>"
      ]
     },
     "metadata": {
      "needs_background": "light"
     },
     "output_type": "display_data"
    }
   ],
   "source": [
    "composition_mismatches_0[\"LongestCommonSubsequence_max\"].hist()\n"
   ]
  },
  {
   "cell_type": "code",
   "execution_count": 349,
   "metadata": {},
   "outputs": [
    {
     "data": {
      "text/plain": [
       "0.1864406779661017"
      ]
     },
     "execution_count": 349,
     "metadata": {},
     "output_type": "execute_result"
    }
   ],
   "source": [
    "composition_mismatches_0[\"NormalizedLevenshtein_min\"].min()\n"
   ]
  },
  {
   "cell_type": "code",
   "execution_count": 350,
   "metadata": {},
   "outputs": [
    {
     "data": {
      "text/plain": [
       "0.19607843137254902"
      ]
     },
     "execution_count": 350,
     "metadata": {},
     "output_type": "execute_result"
    }
   ],
   "source": [
    "composition_mismatches_test[\"NormalizedLevenshtein_min\"].min()\n"
   ]
  },
  {
   "cell_type": "code",
   "execution_count": 351,
   "metadata": {},
   "outputs": [
    {
     "data": {
      "text/plain": [
       "0.370651613653096"
      ]
     },
     "execution_count": 351,
     "metadata": {},
     "output_type": "execute_result"
    }
   ],
   "source": [
    "composition_mismatches_test[\"NormalizedLevenshtein_mean\"].min()\n"
   ]
  },
  {
   "cell_type": "code",
   "execution_count": 352,
   "metadata": {},
   "outputs": [
    {
     "data": {
      "text/plain": [
       "0.3639052357650537"
      ]
     },
     "execution_count": 352,
     "metadata": {},
     "output_type": "execute_result"
    }
   ],
   "source": [
    "composition_mismatches_0[\"NormalizedLevenshtein_mean\"].min()\n"
   ]
  },
  {
   "cell_type": "code",
   "execution_count": 367,
   "metadata": {},
   "outputs": [
    {
     "data": {
      "text/html": [
       "<div>\n",
       "<style scoped>\n",
       "    .dataframe tbody tr th:only-of-type {\n",
       "        vertical-align: middle;\n",
       "    }\n",
       "\n",
       "    .dataframe tbody tr th {\n",
       "        vertical-align: top;\n",
       "    }\n",
       "\n",
       "    .dataframe thead th {\n",
       "        text-align: right;\n",
       "    }\n",
       "</style>\n",
       "<table border=\"1\" class=\"dataframe\">\n",
       "  <thead>\n",
       "    <tr style=\"text-align: right;\">\n",
       "      <th></th>\n",
       "      <th>distances</th>\n",
       "      <th>min</th>\n",
       "      <th>max</th>\n",
       "      <th>mean</th>\n",
       "      <th>expected_len</th>\n",
       "      <th>found_len</th>\n",
       "      <th>monomer_squence</th>\n",
       "      <th>composition</th>\n",
       "      <th>smiles</th>\n",
       "      <th>prediction</th>\n",
       "      <th>...</th>\n",
       "      <th>Levenshtein_std</th>\n",
       "      <th>NormalizedLevenshtein_min</th>\n",
       "      <th>NormalizedLevenshtein_max</th>\n",
       "      <th>NormalizedLevenshtein_mean</th>\n",
       "      <th>NormalizedLevenshtein_std</th>\n",
       "      <th>LongestCommonSubsequence_min</th>\n",
       "      <th>LongestCommonSubsequence_max</th>\n",
       "      <th>LongestCommonSubsequence_mean</th>\n",
       "      <th>LongestCommonSubsequence_std</th>\n",
       "      <th>loss</th>\n",
       "    </tr>\n",
       "  </thead>\n",
       "  <tbody>\n",
       "    <tr>\n",
       "      <th>0</th>\n",
       "      <td>[0, 1, 0, 0]</td>\n",
       "      <td>0</td>\n",
       "      <td>1</td>\n",
       "      <td>0.25</td>\n",
       "      <td>40</td>\n",
       "      <td>41</td>\n",
       "      <td>B-R-B-W-B-R-W-B-R-W-A-B-W-R-A-B-W-R-A-B-W-R-A-...</td>\n",
       "      <td>{'B': 13, 'R': 10, 'W': 10, 'A': 8}</td>\n",
       "      <td>[Tr][R][Tr][W][Tr][R][W][Tr][R][W][Ta][Tr][W][...</td>\n",
       "      <td>[-8.214346]</td>\n",
       "      <td>...</td>\n",
       "      <td>4.830734</td>\n",
       "      <td>0.259259</td>\n",
       "      <td>0.654321</td>\n",
       "      <td>0.393965</td>\n",
       "      <td>0.060349</td>\n",
       "      <td>30</td>\n",
       "      <td>56</td>\n",
       "      <td>43.540</td>\n",
       "      <td>3.528796</td>\n",
       "      <td>1.876131</td>\n",
       "    </tr>\n",
       "    <tr>\n",
       "      <th>1</th>\n",
       "      <td>[0, 1, 0, 0]</td>\n",
       "      <td>0</td>\n",
       "      <td>1</td>\n",
       "      <td>0.25</td>\n",
       "      <td>36</td>\n",
       "      <td>37</td>\n",
       "      <td>A-A-A-A-B-A-B-W-B-A-B-W-A-B-W-R-A-B-W-R-A-B-W-...</td>\n",
       "      <td>{'A': 12, 'B': 11, 'W': 8, 'R': 6}</td>\n",
       "      <td>[Ta][Ta][Ta][Ta][Tr][Ta][Tr][W][Tr][Ta][Tr][W]...</td>\n",
       "      <td>[-8.772864]</td>\n",
       "      <td>...</td>\n",
       "      <td>3.878215</td>\n",
       "      <td>0.253333</td>\n",
       "      <td>0.643836</td>\n",
       "      <td>0.379619</td>\n",
       "      <td>0.052744</td>\n",
       "      <td>28</td>\n",
       "      <td>60</td>\n",
       "      <td>41.420</td>\n",
       "      <td>4.046183</td>\n",
       "      <td>1.317613</td>\n",
       "    </tr>\n",
       "    <tr>\n",
       "      <th>2</th>\n",
       "      <td>[0, 0, 1, 0]</td>\n",
       "      <td>0</td>\n",
       "      <td>1</td>\n",
       "      <td>0.25</td>\n",
       "      <td>30</td>\n",
       "      <td>31</td>\n",
       "      <td>R-R-R-R-R-R-A-R-W-B-A-R-W-B-A-R-W-B-A-R-W-B-A-...</td>\n",
       "      <td>{'R': 13, 'A': 6, 'W': 6, 'B': 6}</td>\n",
       "      <td>[R][R][R][R][R][R][Ta][R][W][Tr][Ta][R][W][Tr]...</td>\n",
       "      <td>[-9.036897]</td>\n",
       "      <td>...</td>\n",
       "      <td>4.505324</td>\n",
       "      <td>0.253968</td>\n",
       "      <td>0.573770</td>\n",
       "      <td>0.374857</td>\n",
       "      <td>0.040442</td>\n",
       "      <td>24</td>\n",
       "      <td>58</td>\n",
       "      <td>38.450</td>\n",
       "      <td>5.097597</td>\n",
       "      <td>8.108926</td>\n",
       "    </tr>\n",
       "    <tr>\n",
       "      <th>3</th>\n",
       "      <td>[0, 1, 0, 0]</td>\n",
       "      <td>0</td>\n",
       "      <td>1</td>\n",
       "      <td>0.25</td>\n",
       "      <td>38</td>\n",
       "      <td>39</td>\n",
       "      <td>W-B-W-B-W-B-W-R-B-W-R-B-W-A-W-B-R-B-W-A-R-B-W-...</td>\n",
       "      <td>{'W': 12, 'B': 13, 'R': 8, 'A': 6}</td>\n",
       "      <td>[W][Tr][W][Tr][W][Tr][W][R][Tr][W][R][Tr][W][T...</td>\n",
       "      <td>[-8.214346]</td>\n",
       "      <td>...</td>\n",
       "      <td>4.347494</td>\n",
       "      <td>0.259740</td>\n",
       "      <td>0.636364</td>\n",
       "      <td>0.386380</td>\n",
       "      <td>0.057372</td>\n",
       "      <td>28</td>\n",
       "      <td>58</td>\n",
       "      <td>42.444</td>\n",
       "      <td>3.803007</td>\n",
       "      <td>1.651542</td>\n",
       "    </tr>\n",
       "    <tr>\n",
       "      <th>4</th>\n",
       "      <td>[0, 0, 1, 0]</td>\n",
       "      <td>0</td>\n",
       "      <td>1</td>\n",
       "      <td>0.25</td>\n",
       "      <td>34</td>\n",
       "      <td>35</td>\n",
       "      <td>W-B-B-W-R-W-B-W-R-B-W-A-R-B-W-A-R-B-W-R-A-B-W-...</td>\n",
       "      <td>{'W': 10, 'B': 10, 'R': 9, 'A': 6}</td>\n",
       "      <td>[W][Tr][Tr][W][R][W][Tr][W][R][Tr][W][Ta][R][T...</td>\n",
       "      <td>[-7.9429283]</td>\n",
       "      <td>...</td>\n",
       "      <td>3.447675</td>\n",
       "      <td>0.260870</td>\n",
       "      <td>0.594203</td>\n",
       "      <td>0.367821</td>\n",
       "      <td>0.044923</td>\n",
       "      <td>24</td>\n",
       "      <td>56</td>\n",
       "      <td>38.723</td>\n",
       "      <td>4.020855</td>\n",
       "      <td>0.000000</td>\n",
       "    </tr>\n",
       "    <tr>\n",
       "      <th>...</th>\n",
       "      <td>...</td>\n",
       "      <td>...</td>\n",
       "      <td>...</td>\n",
       "      <td>...</td>\n",
       "      <td>...</td>\n",
       "      <td>...</td>\n",
       "      <td>...</td>\n",
       "      <td>...</td>\n",
       "      <td>...</td>\n",
       "      <td>...</td>\n",
       "      <td>...</td>\n",
       "      <td>...</td>\n",
       "      <td>...</td>\n",
       "      <td>...</td>\n",
       "      <td>...</td>\n",
       "      <td>...</td>\n",
       "      <td>...</td>\n",
       "      <td>...</td>\n",
       "      <td>...</td>\n",
       "      <td>...</td>\n",
       "      <td>...</td>\n",
       "    </tr>\n",
       "    <tr>\n",
       "      <th>308</th>\n",
       "      <td>[0, 0, 1, 0]</td>\n",
       "      <td>0</td>\n",
       "      <td>1</td>\n",
       "      <td>0.25</td>\n",
       "      <td>36</td>\n",
       "      <td>37</td>\n",
       "      <td>W-R-A-A-W-R-A-W-R-A-W-R-A-W-R-A-R-W-B-A-R-W-B-...</td>\n",
       "      <td>{'W': 10, 'R': 11, 'A': 10, 'B': 6}</td>\n",
       "      <td>[W][R][Ta][Ta][W][R][Ta][W][R][Ta][W][R][Ta][W...</td>\n",
       "      <td>[-8.524666]</td>\n",
       "      <td>...</td>\n",
       "      <td>3.780072</td>\n",
       "      <td>0.246575</td>\n",
       "      <td>0.616438</td>\n",
       "      <td>0.375808</td>\n",
       "      <td>0.051580</td>\n",
       "      <td>28</td>\n",
       "      <td>56</td>\n",
       "      <td>40.349</td>\n",
       "      <td>3.849182</td>\n",
       "      <td>8.621157</td>\n",
       "    </tr>\n",
       "    <tr>\n",
       "      <th>309</th>\n",
       "      <td>[0, 0, 1, 0]</td>\n",
       "      <td>0</td>\n",
       "      <td>1</td>\n",
       "      <td>0.25</td>\n",
       "      <td>38</td>\n",
       "      <td>39</td>\n",
       "      <td>W-R-W-R-R-B-W-R-B-W-R-W-B-R-W-B-R-W-B-R-W-B-R-...</td>\n",
       "      <td>{'W': 12, 'R': 13, 'B': 10, 'A': 4}</td>\n",
       "      <td>[W][R][W][R][R][Tr][W][R][Tr][W][R][W][Tr][R][...</td>\n",
       "      <td>[-8.994056]</td>\n",
       "      <td>...</td>\n",
       "      <td>4.444665</td>\n",
       "      <td>0.246753</td>\n",
       "      <td>0.649351</td>\n",
       "      <td>0.389130</td>\n",
       "      <td>0.058847</td>\n",
       "      <td>30</td>\n",
       "      <td>56</td>\n",
       "      <td>42.956</td>\n",
       "      <td>3.886652</td>\n",
       "      <td>1.096421</td>\n",
       "    </tr>\n",
       "    <tr>\n",
       "      <th>310</th>\n",
       "      <td>[0, 1, 0, 0]</td>\n",
       "      <td>0</td>\n",
       "      <td>1</td>\n",
       "      <td>0.25</td>\n",
       "      <td>40</td>\n",
       "      <td>41</td>\n",
       "      <td>A-A-A-B-A-B-R-R-B-R-B-A-B-R-A-B-A-R-W-B-A-R-W-...</td>\n",
       "      <td>{'A': 12, 'B': 13, 'R': 10, 'W': 6}</td>\n",
       "      <td>[Ta][Ta][Ta][Tr][Ta][Tr][R][R][Tr][R][Tr][Ta][...</td>\n",
       "      <td>[-9.65991]</td>\n",
       "      <td>...</td>\n",
       "      <td>4.979476</td>\n",
       "      <td>0.234568</td>\n",
       "      <td>0.654321</td>\n",
       "      <td>0.402607</td>\n",
       "      <td>0.062236</td>\n",
       "      <td>32</td>\n",
       "      <td>56</td>\n",
       "      <td>45.006</td>\n",
       "      <td>3.756589</td>\n",
       "      <td>7.485913</td>\n",
       "    </tr>\n",
       "    <tr>\n",
       "      <th>311</th>\n",
       "      <td>[0, 0, 0, 0]</td>\n",
       "      <td>0</td>\n",
       "      <td>0</td>\n",
       "      <td>0.00</td>\n",
       "      <td>26</td>\n",
       "      <td>26</td>\n",
       "      <td>A-R-A-R-A-R-B-A-R-B-A-R-B-W-A-R-B-W-A-R-B-W-A-...</td>\n",
       "      <td>{'A': 8, 'R': 8, 'B': 6, 'W': 4, '': 1}</td>\n",
       "      <td>[Ta][R][Ta][R][Ta][R][Tr][Ta][R][Tr][Ta][R][Tr...</td>\n",
       "      <td>[-7.3276353]</td>\n",
       "      <td>...</td>\n",
       "      <td>6.587280</td>\n",
       "      <td>0.250000</td>\n",
       "      <td>0.538462</td>\n",
       "      <td>0.391451</td>\n",
       "      <td>0.045666</td>\n",
       "      <td>21</td>\n",
       "      <td>57</td>\n",
       "      <td>35.951</td>\n",
       "      <td>6.153178</td>\n",
       "      <td>6.290515</td>\n",
       "    </tr>\n",
       "    <tr>\n",
       "      <th>312</th>\n",
       "      <td>[0, 0, 1, 0]</td>\n",
       "      <td>0</td>\n",
       "      <td>1</td>\n",
       "      <td>0.25</td>\n",
       "      <td>34</td>\n",
       "      <td>35</td>\n",
       "      <td>W-W-A-B-R-W-A-W-R-B-W-A-R-B-W-A-R-B-W-A-R-B-A-...</td>\n",
       "      <td>{'W': 10, 'A': 8, 'B': 8, 'R': 9}</td>\n",
       "      <td>[W][W][Ta][Tr][R][W][Ta][W][R][Tr][W][Ta][R][T...</td>\n",
       "      <td>[-7.4887853]</td>\n",
       "      <td>...</td>\n",
       "      <td>3.393154</td>\n",
       "      <td>0.253165</td>\n",
       "      <td>0.594203</td>\n",
       "      <td>0.366330</td>\n",
       "      <td>0.044120</td>\n",
       "      <td>24</td>\n",
       "      <td>54</td>\n",
       "      <td>38.423</td>\n",
       "      <td>3.973295</td>\n",
       "      <td>0.000000</td>\n",
       "    </tr>\n",
       "  </tbody>\n",
       "</table>\n",
       "<p>313 rows × 23 columns</p>\n",
       "</div>"
      ],
      "text/plain": [
       "        distances  min  max  mean  expected_len  found_len  \\\n",
       "0    [0, 1, 0, 0]    0    1  0.25            40         41   \n",
       "1    [0, 1, 0, 0]    0    1  0.25            36         37   \n",
       "2    [0, 0, 1, 0]    0    1  0.25            30         31   \n",
       "3    [0, 1, 0, 0]    0    1  0.25            38         39   \n",
       "4    [0, 0, 1, 0]    0    1  0.25            34         35   \n",
       "..            ...  ...  ...   ...           ...        ...   \n",
       "308  [0, 0, 1, 0]    0    1  0.25            36         37   \n",
       "309  [0, 0, 1, 0]    0    1  0.25            38         39   \n",
       "310  [0, 1, 0, 0]    0    1  0.25            40         41   \n",
       "311  [0, 0, 0, 0]    0    0  0.00            26         26   \n",
       "312  [0, 0, 1, 0]    0    1  0.25            34         35   \n",
       "\n",
       "                                       monomer_squence  \\\n",
       "0    B-R-B-W-B-R-W-B-R-W-A-B-W-R-A-B-W-R-A-B-W-R-A-...   \n",
       "1    A-A-A-A-B-A-B-W-B-A-B-W-A-B-W-R-A-B-W-R-A-B-W-...   \n",
       "2    R-R-R-R-R-R-A-R-W-B-A-R-W-B-A-R-W-B-A-R-W-B-A-...   \n",
       "3    W-B-W-B-W-B-W-R-B-W-R-B-W-A-W-B-R-B-W-A-R-B-W-...   \n",
       "4    W-B-B-W-R-W-B-W-R-B-W-A-R-B-W-A-R-B-W-R-A-B-W-...   \n",
       "..                                                 ...   \n",
       "308  W-R-A-A-W-R-A-W-R-A-W-R-A-W-R-A-R-W-B-A-R-W-B-...   \n",
       "309  W-R-W-R-R-B-W-R-B-W-R-W-B-R-W-B-R-W-B-R-W-B-R-...   \n",
       "310  A-A-A-B-A-B-R-R-B-R-B-A-B-R-A-B-A-R-W-B-A-R-W-...   \n",
       "311  A-R-A-R-A-R-B-A-R-B-A-R-B-W-A-R-B-W-A-R-B-W-A-...   \n",
       "312  W-W-A-B-R-W-A-W-R-B-W-A-R-B-W-A-R-B-W-A-R-B-A-...   \n",
       "\n",
       "                                 composition  \\\n",
       "0        {'B': 13, 'R': 10, 'W': 10, 'A': 8}   \n",
       "1         {'A': 12, 'B': 11, 'W': 8, 'R': 6}   \n",
       "2          {'R': 13, 'A': 6, 'W': 6, 'B': 6}   \n",
       "3         {'W': 12, 'B': 13, 'R': 8, 'A': 6}   \n",
       "4         {'W': 10, 'B': 10, 'R': 9, 'A': 6}   \n",
       "..                                       ...   \n",
       "308      {'W': 10, 'R': 11, 'A': 10, 'B': 6}   \n",
       "309      {'W': 12, 'R': 13, 'B': 10, 'A': 4}   \n",
       "310      {'A': 12, 'B': 13, 'R': 10, 'W': 6}   \n",
       "311  {'A': 8, 'R': 8, 'B': 6, 'W': 4, '': 1}   \n",
       "312        {'W': 10, 'A': 8, 'B': 8, 'R': 9}   \n",
       "\n",
       "                                                smiles    prediction  ...  \\\n",
       "0    [Tr][R][Tr][W][Tr][R][W][Tr][R][W][Ta][Tr][W][...   [-8.214346]  ...   \n",
       "1    [Ta][Ta][Ta][Ta][Tr][Ta][Tr][W][Tr][Ta][Tr][W]...   [-8.772864]  ...   \n",
       "2    [R][R][R][R][R][R][Ta][R][W][Tr][Ta][R][W][Tr]...   [-9.036897]  ...   \n",
       "3    [W][Tr][W][Tr][W][Tr][W][R][Tr][W][R][Tr][W][T...   [-8.214346]  ...   \n",
       "4    [W][Tr][Tr][W][R][W][Tr][W][R][Tr][W][Ta][R][T...  [-7.9429283]  ...   \n",
       "..                                                 ...           ...  ...   \n",
       "308  [W][R][Ta][Ta][W][R][Ta][W][R][Ta][W][R][Ta][W...   [-8.524666]  ...   \n",
       "309  [W][R][W][R][R][Tr][W][R][Tr][W][R][W][Tr][R][...   [-8.994056]  ...   \n",
       "310  [Ta][Ta][Ta][Tr][Ta][Tr][R][R][Tr][R][Tr][Ta][...    [-9.65991]  ...   \n",
       "311  [Ta][R][Ta][R][Ta][R][Tr][Ta][R][Tr][Ta][R][Tr...  [-7.3276353]  ...   \n",
       "312  [W][W][Ta][Tr][R][W][Ta][W][R][Tr][W][Ta][R][T...  [-7.4887853]  ...   \n",
       "\n",
       "     Levenshtein_std  NormalizedLevenshtein_min  NormalizedLevenshtein_max  \\\n",
       "0           4.830734                   0.259259                   0.654321   \n",
       "1           3.878215                   0.253333                   0.643836   \n",
       "2           4.505324                   0.253968                   0.573770   \n",
       "3           4.347494                   0.259740                   0.636364   \n",
       "4           3.447675                   0.260870                   0.594203   \n",
       "..               ...                        ...                        ...   \n",
       "308         3.780072                   0.246575                   0.616438   \n",
       "309         4.444665                   0.246753                   0.649351   \n",
       "310         4.979476                   0.234568                   0.654321   \n",
       "311         6.587280                   0.250000                   0.538462   \n",
       "312         3.393154                   0.253165                   0.594203   \n",
       "\n",
       "     NormalizedLevenshtein_mean  NormalizedLevenshtein_std  \\\n",
       "0                      0.393965                   0.060349   \n",
       "1                      0.379619                   0.052744   \n",
       "2                      0.374857                   0.040442   \n",
       "3                      0.386380                   0.057372   \n",
       "4                      0.367821                   0.044923   \n",
       "..                          ...                        ...   \n",
       "308                    0.375808                   0.051580   \n",
       "309                    0.389130                   0.058847   \n",
       "310                    0.402607                   0.062236   \n",
       "311                    0.391451                   0.045666   \n",
       "312                    0.366330                   0.044120   \n",
       "\n",
       "     LongestCommonSubsequence_min  LongestCommonSubsequence_max  \\\n",
       "0                              30                            56   \n",
       "1                              28                            60   \n",
       "2                              24                            58   \n",
       "3                              28                            58   \n",
       "4                              24                            56   \n",
       "..                            ...                           ...   \n",
       "308                            28                            56   \n",
       "309                            30                            56   \n",
       "310                            32                            56   \n",
       "311                            21                            57   \n",
       "312                            24                            54   \n",
       "\n",
       "     LongestCommonSubsequence_mean  LongestCommonSubsequence_std      loss  \n",
       "0                           43.540                      3.528796  1.876131  \n",
       "1                           41.420                      4.046183  1.317613  \n",
       "2                           38.450                      5.097597  8.108926  \n",
       "3                           42.444                      3.803007  1.651542  \n",
       "4                           38.723                      4.020855  0.000000  \n",
       "..                             ...                           ...       ...  \n",
       "308                         40.349                      3.849182  8.621157  \n",
       "309                         42.956                      3.886652  1.096421  \n",
       "310                         45.006                      3.756589  7.485913  \n",
       "311                         35.951                      6.153178  6.290515  \n",
       "312                         38.423                      3.973295  0.000000  \n",
       "\n",
       "[313 rows x 23 columns]"
      ]
     },
     "execution_count": 367,
     "metadata": {},
     "output_type": "execute_result"
    }
   ],
   "source": [
    "composition_mismatches_0"
   ]
  },
  {
   "cell_type": "code",
   "execution_count": null,
   "metadata": {},
   "outputs": [],
   "source": []
  }
 ],
 "metadata": {
  "interpreter": {
   "hash": "9a4fa60962de90e73b5da8d67a44b01d2de04630d82b94b8db1f727a73d31e61"
  },
  "kernelspec": {
   "display_name": "Python 3.8.13 ('gpt3')",
   "language": "python",
   "name": "python3"
  },
  "language_info": {
   "codemirror_mode": {
    "name": "ipython",
    "version": 3
   },
   "file_extension": ".py",
   "mimetype": "text/x-python",
   "name": "python",
   "nbconvert_exporter": "python",
   "pygments_lexer": "ipython3",
   "version": "3.8.13"
  },
  "orig_nbformat": 4
 },
 "nbformat": 4,
 "nbformat_minor": 2
}
