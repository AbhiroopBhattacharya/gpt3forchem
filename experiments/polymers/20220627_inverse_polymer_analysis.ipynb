{
 "cells": [
  {
   "cell_type": "markdown",
   "metadata": {},
   "source": [
    "# Analyze inverse predictions for polymers"
   ]
  },
  {
   "cell_type": "code",
   "execution_count": 2,
   "metadata": {},
   "outputs": [],
   "source": [
    "%reload_ext autoreload\n",
    "%autoreload 2\n",
    "\n",
    "import time\n",
    "import matplotlib.pyplot as plt\n",
    "plt.style.use(['science', 'nature'])\n",
    "from pycm import ConfusionMatrix\n",
    "import wandb\n",
    "from sklearn.model_selection import train_test_split\n",
    "import numpy as np\n",
    "import pandas as pd \n",
    "import re\n",
    "\n",
    "from gpt3forchem.polymers.data import get_data\n",
    "from gpt3forchem.polymers.constants import TARGETS, FEATURES, CAT_TARGETS\n",
    "from gpt3forchem.polymers.create_prompts import create_single_property_inverse_prompts\n",
    "from gpt3forchem.fine_tune import fine_tune\n",
    "from gpt3forchem.query_model import query_gpt3, extract_prediction"
   ]
  },
  {
   "cell_type": "code",
   "execution_count": 3,
   "metadata": {},
   "outputs": [],
   "source": [
    "df_train = pd.read_json('run_files/2022-06-25-17-15-56_train_inverse_prompts_polymers_2812.jsonl', lines=True)\n",
    "df_test = pd.read_json('run_files/2022-06-25-17-15-56_valid_inverse_prompts_polymers_313.jsonl',  lines=True)"
   ]
  },
  {
   "cell_type": "code",
   "execution_count": 28,
   "metadata": {},
   "outputs": [],
   "source": [
    "test_string = df_test['prompt'].iloc[0]\n",
    "test_completion = df_test['completion'].iloc[0]"
   ]
  },
  {
   "cell_type": "code",
   "execution_count": 29,
   "metadata": {},
   "outputs": [
    {
     "data": {
      "text/plain": [
       "'what is a polymer with 2 adsorption energy and 8 A, 12 B, 10 W, and 10 R?###'"
      ]
     },
     "execution_count": 29,
     "metadata": {},
     "output_type": "execute_result"
    }
   ],
   "source": [
    "test_string"
   ]
  },
  {
   "cell_type": "code",
   "execution_count": 30,
   "metadata": {},
   "outputs": [
    {
     "data": {
      "text/plain": [
       "' R-A-A-W-B-R-A-B-R-B-W-A-W-B-W-R-R-R-A-B-A-B-W-A-B-B-W-W-B-R-W-W-B-R-B-R-W-B-A-R@@@'"
      ]
     },
     "execution_count": 30,
     "metadata": {},
     "output_type": "execute_result"
    }
   ],
   "source": [
    "test_completion"
   ]
  },
  {
   "cell_type": "code",
   "execution_count": 4,
   "metadata": {},
   "outputs": [],
   "source": [
    "import re"
   ]
  },
  {
   "cell_type": "code",
   "execution_count": 5,
   "metadata": {},
   "outputs": [],
   "source": [
    "test_completion = 'R-W-A-R-A-B-B-R-A-W-R-A-B-R-A-R-B-W-R-R-R-B-B-W-W-W-B-B-W'"
   ]
  },
  {
   "cell_type": "code",
   "execution_count": 7,
   "metadata": {},
   "outputs": [
    {
     "data": {
      "text/plain": [
       "['R-W-A-R-A-B-B-R-A-W-R-A-B-R-A-R-B-W-R-R-R-B-B-W-W-W-B-B-W']"
      ]
     },
     "execution_count": 7,
     "metadata": {},
     "output_type": "execute_result"
    }
   ],
   "source": [
    "re.findall(\"[(R|W|A|B)\\-(R|W|A|B)]+\", test_completion)"
   ]
  },
  {
   "cell_type": "code",
   "execution_count": 24,
   "metadata": {},
   "outputs": [],
   "source": [
    "def get_num_monomer(string, monomer): \n",
    "    num = re.findall(f'([\\d+]) {monomer}', string)\n",
    "    try: \n",
    "        num = int(num[0])\n",
    "    except Exception: \n",
    "        num = 0\n",
    "    return num"
   ]
  },
  {
   "cell_type": "code",
   "execution_count": 26,
   "metadata": {},
   "outputs": [],
   "source": [
    "def get_target(string): \n",
    "    num = re.findall('([\\d+]) adsorption', string)\n",
    "    return int(num[0])"
   ]
  },
  {
   "cell_type": "code",
   "execution_count": 32,
   "metadata": {},
   "outputs": [],
   "source": [
    "def get_prompt_data(prompt): \n",
    "    composition = {}\n",
    "\n",
    "    for monomer in ['R', \"W\", 'A', \"B\"]: \n",
    "        composition[monomer] =get_num_monomer(prompt, monomer)\n",
    "\n",
    "    return composition, get_target(prompt)"
   ]
  },
  {
   "cell_type": "code",
   "execution_count": 33,
   "metadata": {},
   "outputs": [
    {
     "data": {
      "text/plain": [
       "({'R': 0, 'W': 0, 'A': 8, 'B': 2}, 2)"
      ]
     },
     "execution_count": 33,
     "metadata": {},
     "output_type": "execute_result"
    }
   ],
   "source": [
    "get_prompt_data(test_string)"
   ]
  },
  {
   "cell_type": "code",
   "execution_count": null,
   "metadata": {},
   "outputs": [],
   "source": []
  }
 ],
 "metadata": {
  "interpreter": {
   "hash": "9a4fa60962de90e73b5da8d67a44b01d2de04630d82b94b8db1f727a73d31e61"
  },
  "kernelspec": {
   "display_name": "Python 3.8.13 ('gpt3')",
   "language": "python",
   "name": "python3"
  },
  "language_info": {
   "codemirror_mode": {
    "name": "ipython",
    "version": 3
   },
   "file_extension": ".py",
   "mimetype": "text/x-python",
   "name": "python",
   "nbconvert_exporter": "python",
   "pygments_lexer": "ipython3",
   "version": "3.8.13"
  },
  "orig_nbformat": 4
 },
 "nbformat": 4,
 "nbformat_minor": 2
}
