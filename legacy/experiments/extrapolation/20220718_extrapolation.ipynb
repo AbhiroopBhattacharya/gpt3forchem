{
 "cells": [
  {
   "cell_type": "markdown",
   "metadata": {},
   "source": [
    "# Test the fine-tuning approach by training on some properties and testing on others"
   ]
  },
  {
   "cell_type": "code",
   "execution_count": 9,
   "metadata": {},
   "outputs": [],
   "source": [
    "%reload_ext autoreload\n",
    "%autoreload 2"
   ]
  },
  {
   "cell_type": "code",
   "execution_count": 44,
   "metadata": {},
   "outputs": [],
   "source": [
    "from gpt3forchem.extrapolation.create_prompts import create_prompts\n",
    "from gpt3forchem.extrapolation.data import get_data\n",
    "\n",
    "from sklearn.model_selection import train_test_split\n",
    "\n",
    "from gpt3forchem.fine_tune import fine_tune\n",
    "\n",
    "import time\n",
    "\n",
    "from gpt3forchem.query_model import query_gpt3"
   ]
  },
  {
   "cell_type": "code",
   "execution_count": 51,
   "metadata": {},
   "outputs": [],
   "source": [
    "data = get_data()"
   ]
  },
  {
   "cell_type": "code",
   "execution_count": 80,
   "metadata": {},
   "outputs": [],
   "source": [
    "TRAIN_PROPERTIES = [\n",
    "    \"CO2 Henry coefficient_binned\",\n",
    "    \"N2 Henry coefficient_binned\",\n",
    "    \"CH4 Henry coefficient_binned\",\n",
    "    \"O2 Henry coefficient_binned\",\n",
    "    \"Xe Henry coefficient_binned\",\n",
    "    \"Kr Henry coefficient_binned\",\n",
    "   # \"outputs.pbe.bandgap_binned\",\n",
    "     \"H2S Henry coefficient_binned\",\n",
    "        #  \"H2O Henry coefficient_binned\",\n",
    "]"
   ]
  },
  {
   "cell_type": "code",
   "execution_count": 81,
   "metadata": {},
   "outputs": [],
   "source": [
    "VALIDATION_PROPERTIES = [\n",
    " \"H2O Henry coefficient_binned\",\n",
    "]"
   ]
  },
  {
   "cell_type": "code",
   "execution_count": 93,
   "metadata": {},
   "outputs": [],
   "source": [
    "train_data, test_data = train_test_split(data, test_size=0.1)"
   ]
  },
  {
   "cell_type": "code",
   "execution_count": 94,
   "metadata": {},
   "outputs": [],
   "source": [
    "train_prompts = create_prompts(train_data, TRAIN_PROPERTIES)\n",
    "valid_prompts_new_appl = create_prompts(test_data, VALIDATION_PROPERTIES)\n",
    "valid_prompts_old_appl = create_prompts(test_data, TRAIN_PROPERTIES)"
   ]
  },
  {
   "cell_type": "code",
   "execution_count": 95,
   "metadata": {},
   "outputs": [
    {
     "data": {
      "text/html": [
       "<div>\n",
       "<style scoped>\n",
       "    .dataframe tbody tr th:only-of-type {\n",
       "        vertical-align: middle;\n",
       "    }\n",
       "\n",
       "    .dataframe tbody tr th {\n",
       "        vertical-align: top;\n",
       "    }\n",
       "\n",
       "    .dataframe thead th {\n",
       "        text-align: right;\n",
       "    }\n",
       "</style>\n",
       "<table border=\"1\" class=\"dataframe\">\n",
       "  <thead>\n",
       "    <tr style=\"text-align: right;\">\n",
       "      <th></th>\n",
       "      <th>prompt</th>\n",
       "      <th>completion</th>\n",
       "    </tr>\n",
       "  </thead>\n",
       "  <tbody>\n",
       "    <tr>\n",
       "      <th>0</th>\n",
       "      <td>what is the Henry coefficient of H2O (water), ...</td>\n",
       "      <td>2@@@</td>\n",
       "    </tr>\n",
       "    <tr>\n",
       "      <th>1</th>\n",
       "      <td>what is the Henry coefficient of H2O (water), ...</td>\n",
       "      <td>0@@@</td>\n",
       "    </tr>\n",
       "    <tr>\n",
       "      <th>2</th>\n",
       "      <td>what is the Henry coefficient of H2O (water), ...</td>\n",
       "      <td>2@@@</td>\n",
       "    </tr>\n",
       "    <tr>\n",
       "      <th>3</th>\n",
       "      <td>what is the Henry coefficient of H2O (water), ...</td>\n",
       "      <td>4@@@</td>\n",
       "    </tr>\n",
       "  </tbody>\n",
       "</table>\n",
       "</div>"
      ],
      "text/plain": [
       "                                              prompt completion\n",
       "0  what is the Henry coefficient of H2O (water), ...       2@@@\n",
       "1  what is the Henry coefficient of H2O (water), ...       0@@@\n",
       "2  what is the Henry coefficient of H2O (water), ...       2@@@\n",
       "3  what is the Henry coefficient of H2O (water), ...       4@@@"
      ]
     },
     "execution_count": 95,
     "metadata": {},
     "output_type": "execute_result"
    }
   ],
   "source": [
    "valid_prompts_new_appl"
   ]
  },
  {
   "cell_type": "code",
   "execution_count": 96,
   "metadata": {},
   "outputs": [],
   "source": [
    "train_size = len(train_prompts)\n",
    "test_size = len(valid_prompts_new_appl)"
   ]
  },
  {
   "cell_type": "code",
   "execution_count": 97,
   "metadata": {},
   "outputs": [
    {
     "data": {
      "text/plain": [
       "4"
      ]
     },
     "execution_count": 97,
     "metadata": {},
     "output_type": "execute_result"
    }
   ],
   "source": [
    "len(valid_prompts_new_appl)"
   ]
  },
  {
   "cell_type": "code",
   "execution_count": 98,
   "metadata": {},
   "outputs": [],
   "source": [
    "filename_base = time.strftime(\"%Y-%m-%d-%H-%M-%S\", time.localtime())\n",
    "train_filename = f\"run_files/{filename_base}_train_mof_mulitoutput_{train_size}.jsonl\"\n",
    "valid_filename = f\"run_files/{filename_base}_valid_mof_mulitoutput_{test_size}.jsonl\"\n",
    "# to save money, just run a small valid frame\n",
    "valid_small_filename = f\"run_files/{filename_base}_validsmall_mof_mulitoutput_{test_size}.jsonl\"\n",
    "train_prompts.to_json(train_filename, orient=\"records\", lines=True)\n",
    "valid_prompts_new_appl.to_json(valid_filename, orient=\"records\", lines=True)"
   ]
  },
  {
   "cell_type": "code",
   "execution_count": 99,
   "metadata": {},
   "outputs": [
    {
     "name": "stderr",
     "output_type": "stream",
     "text": [
      "Upload progress: 100%|██████████| 93.8k/93.8k [00:00<00:00, 48.3Mit/s]\n"
     ]
    },
    {
     "name": "stdout",
     "output_type": "stream",
     "text": [
      "Uploaded file from run_files/2022-07-21-14-30-09_train_mof_mulitoutput_404.jsonl: file-VVIJSJSF9myOg2WlSrW2J6CL\n"
     ]
    },
    {
     "name": "stderr",
     "output_type": "stream",
     "text": [
      "Upload progress: 100%|██████████| 1.54k/1.54k [00:00<00:00, 716kit/s]\n"
     ]
    },
    {
     "name": "stdout",
     "output_type": "stream",
     "text": [
      "Uploaded file from run_files/2022-07-21-14-30-09_valid_mof_mulitoutput_4.jsonl: file-BLXvonHFcQmFKmZTIlR80AMV\n",
      "Created fine-tune: ft-caQjl9QayDJtnCXuM8fu1c7R\n",
      "Streaming events until fine-tuning is complete...\n",
      "\n",
      "(Ctrl-C will interrupt the stream, but not cancel the fine-tune)\n",
      "[2022-07-21 14:30:14] Created fine-tune: ft-caQjl9QayDJtnCXuM8fu1c7R\n",
      "[2022-07-21 14:30:20] Fine-tune costs $0.07\n",
      "[2022-07-21 14:30:21] Fine-tune enqueued. Queue number: 0\n",
      "[2022-07-21 14:30:24] Fine-tune started\n",
      "[2022-07-21 14:31:36] Completed epoch 1/4\n",
      "[2022-07-21 14:32:33] Completed epoch 2/4\n",
      "[2022-07-21 14:33:30] Completed epoch 3/4\n",
      "[2022-07-21 14:34:28] Completed epoch 4/4\n",
      "[2022-07-21 14:34:46] Uploaded model: ada:ft-epfl-2022-07-21-12-34-46\n",
      "[2022-07-21 14:34:47] Uploaded result file: file-DhBv2oqU40iqR9JgeR5uTKm7\n",
      "[2022-07-21 14:34:47] Fine-tune succeeded\n",
      "\n",
      "Job complete! Status: succeeded 🎉\n",
      "Try out your fine-tuned model:\n",
      "\n",
      "openai api completions.create -m ada:ft-epfl-2022-07-21-12-34-46 -p <YOUR_PROMPT>\n"
     ]
    },
    {
     "name": "stderr",
     "output_type": "stream",
     "text": [
      "wandb: Currently logged in as: kjappelbaum. Use `wandb login --relogin` to force relogin\n",
      "wandb: wandb version 0.12.21 is available!  To upgrade, please run:\n",
      "wandb:  $ pip install wandb --upgrade\n",
      "wandb: Tracking run with wandb version 0.12.19\n",
      "wandb: Run data is saved locally in /Users/kevinmaikjablonka/git/kjappelbaum/gpt3forchem/experiments/extrapolation/wandb/run-20220721_143452-ft-caQjl9QayDJtnCXuM8fu1c7R\n",
      "wandb: Run `wandb offline` to turn off syncing.\n",
      "wandb: Syncing run ft-caQjl9QayDJtnCXuM8fu1c7R\n",
      "wandb: ⭐️ View project at https://wandb.ai/kjappelbaum/GPT-3\n",
      "wandb: 🚀 View run at https://wandb.ai/kjappelbaum/GPT-3/runs/ft-caQjl9QayDJtnCXuM8fu1c7R\n",
      "wandb: Waiting for W&B process to finish... (success).\n",
      "wandb:                                                                                \n"
     ]
    },
    {
     "name": "stdout",
     "output_type": "stream",
     "text": [
      "🎉 wandb sync completed successfully\n"
     ]
    },
    {
     "name": "stderr",
     "output_type": "stream",
     "text": [
      "wandb: \n",
      "wandb: Run history:\n",
      "wandb:             elapsed_examples ▁▁▁▁▂▂▂▂▂▃▃▃▃▃▃▄▄▄▄▄▅▅▅▅▅▅▆▆▆▆▆▇▇▇▇▇▇███\n",
      "wandb:               elapsed_tokens ▁▁▁▁▂▂▂▂▂▃▃▃▃▃▃▄▄▄▄▄▅▅▅▅▅▅▆▆▆▆▆▇▇▇▇▇▇███\n",
      "wandb:                training_loss █▅▂▂▂▃▃▂▂▁▂▃▁▂▃▁▂▂▂▁▂▂▂▁▁▂▂▂▁▁▂▂▃▁▁▂▁▂▁▁\n",
      "wandb:   training_sequence_accuracy █▁▁███▁▁██▁▁█████▁██▁█▁██▁▁██▁▁█▁██▁████\n",
      "wandb:      training_token_accuracy █▁▁███▁▁██▁▁█████▁██▁█▁██▁▁██▁▁█▁██▁████\n",
      "wandb:              validation_loss █▂▂▃▂▁▂▁▂▁▁▂▃▁▁▁▂▁▁▂▂▁▁▁▁▂▁▂▂▁▁▂▃▂▁▁▃▂▁▁\n",
      "wandb: validation_sequence_accuracy ▁▁▁▁▁▁▁▁▁▁▁▁▁▁▁▁▁▁▁▁▁▁▁▁▁▁▁█▁▁▁██▁▁▁█▁▁▁\n",
      "wandb:    validation_token_accuracy ▁▆▆▆▆▆▆▆▆▆▆▆▆▆▆▆▆▆▆▆▆▆▆▆▆▆▆█▆▆▆██▆▆▆█▆▆▆\n",
      "wandb: \n",
      "wandb: Run summary:\n",
      "wandb:             elapsed_examples 1617.0\n",
      "wandb:               elapsed_tokens 191569.0\n",
      "wandb:             fine_tuned_model ada:ft-epfl-2022-07-...\n",
      "wandb:                       status succeeded\n",
      "wandb:                training_loss 0.00809\n",
      "wandb:   training_sequence_accuracy 1.0\n",
      "wandb:      training_token_accuracy 1.0\n",
      "wandb:              validation_loss 0.04295\n",
      "wandb: validation_sequence_accuracy 0.0\n",
      "wandb:    validation_token_accuracy 0.66667\n",
      "wandb: \n",
      "wandb: Synced ft-caQjl9QayDJtnCXuM8fu1c7R: https://wandb.ai/kjappelbaum/GPT-3/runs/ft-caQjl9QayDJtnCXuM8fu1c7R\n",
      "wandb: Synced 6 W&B file(s), 0 media file(s), 5 artifact file(s) and 0 other file(s)\n",
      "wandb: Find logs at: ./wandb/run-20220721_143452-ft-caQjl9QayDJtnCXuM8fu1c7R/logs\n"
     ]
    }
   ],
   "source": [
    "fine_tune(train_filename, valid_filename)"
   ]
  },
  {
   "cell_type": "code",
   "execution_count": 34,
   "metadata": {},
   "outputs": [
    {
     "name": "stdout",
     "output_type": "stream",
     "text": [
      "[2022-07-21 11:05:12] Created fine-tune: ft-R60sZ2aGlOZgq6elnoaCmwjJ\n",
      "[2022-07-21 11:05:39] Fine-tune costs $0.31\n",
      "[2022-07-21 11:05:40] Fine-tune enqueued. Queue number: 0\n",
      "[2022-07-21 11:05:42] Fine-tune started\n",
      "[2022-07-21 11:10:17] Completed epoch 1/4\n",
      "[2022-07-21 11:14:36] Completed epoch 2/4\n",
      "[2022-07-21 11:18:58] Completed epoch 3/4\n",
      "[2022-07-21 11:23:19] Completed epoch 4/4\n",
      "[2022-07-21 11:23:40] Uploaded model: ada:ft-epfl-2022-07-21-09-23-40\n",
      "[2022-07-21 11:23:41] Uploaded result file: file-BLARPdU25ZcUSy4TYt9idWNR\n",
      "[2022-07-21 11:23:41] Fine-tune succeeded\n",
      "\n",
      "Job complete! Status: succeeded 🎉\n",
      "Try out your fine-tuned model:\n",
      "\n",
      "openai api completions.create -m ada:ft-epfl-2022-07-21-09-23-40 -p <YOUR_PROMPT>\n"
     ]
    }
   ],
   "source": [
    "! openai api fine_tunes.follow -i  ft-R60sZ2aGlOZgq6elnoaCmwjJ"
   ]
  },
  {
   "cell_type": "code",
   "execution_count": 100,
   "metadata": {},
   "outputs": [],
   "source": [
    "completions = query_gpt3(\"ada:ft-epfl-2022-07-21-12-34-46\", valid_prompts_new_appl)"
   ]
  },
  {
   "cell_type": "code",
   "execution_count": 101,
   "metadata": {},
   "outputs": [
    {
     "data": {
      "text/plain": [
       "array([' 2@@@', ' 0@@@', ' 2@@@', ' 4@@@'], dtype=object)"
      ]
     },
     "execution_count": 101,
     "metadata": {},
     "output_type": "execute_result"
    }
   ],
   "source": [
    "valid_prompts_new_appl['completion'].values"
   ]
  },
  {
   "cell_type": "code",
   "execution_count": 102,
   "metadata": {},
   "outputs": [
    {
     "data": {
      "text/plain": [
       "[<OpenAIObject text_completion id=cmpl-5WQHZ7ciLZ2OJCWvC3MswudjFNXP8 at 0x16a0005e0> JSON: {\n",
       "   \"choices\": [\n",
       "     {\n",
       "       \"finish_reason\": \"length\",\n",
       "       \"index\": 0,\n",
       "       \"logprobs\": null,\n",
       "       \"text\": \" 1@@@ 1@@@ 1@@@ 1\"\n",
       "     }\n",
       "   ],\n",
       "   \"created\": 1658409209,\n",
       "   \"id\": \"cmpl-5WQHZ7ciLZ2OJCWvC3MswudjFNXP8\",\n",
       "   \"model\": \"ada:ft-epfl-2022-07-21-12-34-46\",\n",
       "   \"object\": \"text_completion\",\n",
       "   \"usage\": {\n",
       "     \"completion_tokens\": 10,\n",
       "     \"prompt_tokens\": 313,\n",
       "     \"total_tokens\": 323\n",
       "   }\n",
       " },\n",
       " <OpenAIObject text_completion id=cmpl-5WQHesaPEHhQCTLCieeWOEBzGpiIF at 0x16a000130> JSON: {\n",
       "   \"choices\": [\n",
       "     {\n",
       "       \"finish_reason\": \"length\",\n",
       "       \"index\": 0,\n",
       "       \"logprobs\": null,\n",
       "       \"text\": \" 0@@@1@@@1@@@1\"\n",
       "     }\n",
       "   ],\n",
       "   \"created\": 1658409214,\n",
       "   \"id\": \"cmpl-5WQHesaPEHhQCTLCieeWOEBzGpiIF\",\n",
       "   \"model\": \"ada:ft-epfl-2022-07-21-12-34-46\",\n",
       "   \"object\": \"text_completion\",\n",
       "   \"usage\": {\n",
       "     \"completion_tokens\": 10,\n",
       "     \"prompt_tokens\": 241,\n",
       "     \"total_tokens\": 251\n",
       "   }\n",
       " },\n",
       " <OpenAIObject text_completion id=cmpl-5WQHkvmB3ntRYvTVRruuAY13p6qNf at 0x157f09e50> JSON: {\n",
       "   \"choices\": [\n",
       "     {\n",
       "       \"finish_reason\": \"length\",\n",
       "       \"index\": 0,\n",
       "       \"logprobs\": null,\n",
       "       \"text\": \" 1@@@ 1@@@ 1@@@ 1\"\n",
       "     }\n",
       "   ],\n",
       "   \"created\": 1658409220,\n",
       "   \"id\": \"cmpl-5WQHkvmB3ntRYvTVRruuAY13p6qNf\",\n",
       "   \"model\": \"ada:ft-epfl-2022-07-21-12-34-46\",\n",
       "   \"object\": \"text_completion\",\n",
       "   \"usage\": {\n",
       "     \"completion_tokens\": 10,\n",
       "     \"prompt_tokens\": 84,\n",
       "     \"total_tokens\": 94\n",
       "   }\n",
       " },\n",
       " <OpenAIObject text_completion id=cmpl-5WQHpCv33tJA7QvisHLRWVGrX4cDV at 0x157f094f0> JSON: {\n",
       "   \"choices\": [\n",
       "     {\n",
       "       \"finish_reason\": \"length\",\n",
       "       \"index\": 0,\n",
       "       \"logprobs\": null,\n",
       "       \"text\": \" 1@@@ 1@@@ 1@@@ 1\"\n",
       "     }\n",
       "   ],\n",
       "   \"created\": 1658409225,\n",
       "   \"id\": \"cmpl-5WQHpCv33tJA7QvisHLRWVGrX4cDV\",\n",
       "   \"model\": \"ada:ft-epfl-2022-07-21-12-34-46\",\n",
       "   \"object\": \"text_completion\",\n",
       "   \"usage\": {\n",
       "     \"completion_tokens\": 10,\n",
       "     \"prompt_tokens\": 301,\n",
       "     \"total_tokens\": 311\n",
       "   }\n",
       " }]"
      ]
     },
     "execution_count": 102,
     "metadata": {},
     "output_type": "execute_result"
    }
   ],
   "source": [
    "completions"
   ]
  },
  {
   "cell_type": "code",
   "execution_count": null,
   "metadata": {},
   "outputs": [
    {
     "name": "stderr",
     "output_type": "stream",
     "text": [
      "/Users/kevinmaikjablonka/miniconda3/envs/gpt3/lib/python3.8/site-packages/seaborn/_decorators.py:36: FutureWarning: Pass the following variable as a keyword arg: x. From version 0.12, the only valid positional argument will be `data`, and passing other arguments without an explicit keyword will result in an error or misinterpretation.\n",
      "  warnings.warn(\n",
      "/Users/kevinmaikjablonka/miniconda3/envs/gpt3/lib/python3.8/site-packages/seaborn/_decorators.py:36: FutureWarning: Pass the following variable as a keyword arg: x. From version 0.12, the only valid positional argument will be `data`, and passing other arguments without an explicit keyword will result in an error or misinterpretation.\n",
      "  warnings.warn(\n",
      "/Users/kevinmaikjablonka/miniconda3/envs/gpt3/lib/python3.8/site-packages/seaborn/_decorators.py:36: FutureWarning: Pass the following variable as a keyword arg: x. From version 0.12, the only valid positional argument will be `data`, and passing other arguments without an explicit keyword will result in an error or misinterpretation.\n",
      "  warnings.warn(\n",
      "/Users/kevinmaikjablonka/miniconda3/envs/gpt3/lib/python3.8/site-packages/seaborn/_decorators.py:36: FutureWarning: Pass the following variable as a keyword arg: x. From version 0.12, the only valid positional argument will be `data`, and passing other arguments without an explicit keyword will result in an error or misinterpretation.\n",
      "  warnings.warn(\n",
      "/Users/kevinmaikjablonka/miniconda3/envs/gpt3/lib/python3.8/site-packages/seaborn/_decorators.py:36: FutureWarning: Pass the following variable as a keyword arg: x. From version 0.12, the only valid positional argument will be `data`, and passing other arguments without an explicit keyword will result in an error or misinterpretation.\n",
      "  warnings.warn(\n",
      "/Users/kevinmaikjablonka/miniconda3/envs/gpt3/lib/python3.8/site-packages/seaborn/_decorators.py:36: FutureWarning: Pass the following variable as a keyword arg: x. From version 0.12, the only valid positional argument will be `data`, and passing other arguments without an explicit keyword will result in an error or misinterpretation.\n",
      "  warnings.warn(\n"
     ]
    },
    {
     "data": {
      "image/png": "[encoded data removed]",
      "text/plain": [
       "<Figure size 237.6x180 with 3 Axes>"
      ]
     },
     "metadata": {},
     "output_type": "display_data"
    }
   ],
   "source": [
    "fig, ax = plt.subplots(3,1, sharex=\"all\")\n",
    "\n",
    "for i in range(3):\n",
    "    sns.boxenplot(df_valid_distances['mean_trainingset_distance'],  ax=ax[i], color='r', )\n",
    "\n",
    "\n",
    "sns.boxenplot(df_metrics_0['mean_trainingset_distance'],ax=ax[0])\n",
    "sns.boxenplot(df_metrics_05['mean_trainingset_distance'],  ax=ax[1])\n",
    "sns.boxenplot(df_metrics_1['mean_trainingset_distance'], ax=ax[2])\n",
    "\n",
    "\n",
    "\n",
    "for a in ax:\n",
    "    plt.setp(a.collections, alpha=.5)"
   ]
  },
  {
   "cell_type": "code",
   "execution_count": null,
   "metadata": {},
   "outputs": [
    {
     "name": "stderr",
     "output_type": "stream",
     "text": [
      "/Users/kevinmaikjablonka/miniconda3/envs/gpt3/lib/python3.8/site-packages/seaborn/_decorators.py:36: FutureWarning: Pass the following variable as a keyword arg: x. From version 0.12, the only valid positional argument will be `data`, and passing other arguments without an explicit keyword will result in an error or misinterpretation.\n",
      "  warnings.warn(\n",
      "/Users/kevinmaikjablonka/miniconda3/envs/gpt3/lib/python3.8/site-packages/seaborn/_decorators.py:36: FutureWarning: Pass the following variable as a keyword arg: x. From version 0.12, the only valid positional argument will be `data`, and passing other arguments without an explicit keyword will result in an error or misinterpretation.\n",
      "  warnings.warn(\n",
      "/Users/kevinmaikjablonka/miniconda3/envs/gpt3/lib/python3.8/site-packages/seaborn/_decorators.py:36: FutureWarning: Pass the following variable as a keyword arg: x. From version 0.12, the only valid positional argument will be `data`, and passing other arguments without an explicit keyword will result in an error or misinterpretation.\n",
      "  warnings.warn(\n",
      "/Users/kevinmaikjablonka/miniconda3/envs/gpt3/lib/python3.8/site-packages/seaborn/_decorators.py:36: FutureWarning: Pass the following variable as a keyword arg: x. From version 0.12, the only valid positional argument will be `data`, and passing other arguments without an explicit keyword will result in an error or misinterpretation.\n",
      "  warnings.warn(\n",
      "/Users/kevinmaikjablonka/miniconda3/envs/gpt3/lib/python3.8/site-packages/seaborn/_decorators.py:36: FutureWarning: Pass the following variable as a keyword arg: x. From version 0.12, the only valid positional argument will be `data`, and passing other arguments without an explicit keyword will result in an error or misinterpretation.\n",
      "  warnings.warn(\n",
      "/Users/kevinmaikjablonka/miniconda3/envs/gpt3/lib/python3.8/site-packages/seaborn/_decorators.py:36: FutureWarning: Pass the following variable as a keyword arg: x. From version 0.12, the only valid positional argument will be `data`, and passing other arguments without an explicit keyword will result in an error or misinterpretation.\n",
      "  warnings.warn(\n"
     ]
    },
    {
     "data": {
      "image/png": "[encoded data removed]",
      "text/plain": [
       "<Figure size 237.6x180 with 3 Axes>"
      ]
     },
     "metadata": {},
     "output_type": "display_data"
    }
   ],
   "source": [
    "fig, ax = plt.subplots(3,1, sharex=\"all\")\n",
    "\n",
    "for i in range(3):\n",
    "    sns.boxenplot(df_valid_distances['mean_trainingset_distance'],  ax=ax[i], color='r', )\n",
    "\n",
    "\n",
    "sns.boxenplot(df_metrics_0['mean_trainingset_distance'],ax=ax[0])\n",
    "sns.boxenplot(df_metrics_05['mean_trainingset_distance'],  ax=ax[1])\n",
    "sns.boxenplot(df_metrics_1['mean_trainingset_distance'], ax=ax[2])\n",
    "\n",
    "\n",
    "\n",
    "for a in ax:\n",
    "    plt.setp(a.collections, alpha=.5)"
   ]
  },
  {
   "cell_type": "code",
   "execution_count": null,
   "metadata": {},
   "outputs": [],
   "source": []
  }
 ],
 "metadata": {
  "interpreter": {
   "hash": "9a4fa60962de90e73b5da8d67a44b01d2de04630d82b94b8db1f727a73d31e61"
  },
  "kernelspec": {
   "display_name": "Python 3.8.13 ('gpt3')",
   "language": "python",
   "name": "python3"
  },
  "language_info": {
   "codemirror_mode": {
    "name": "ipython",
    "version": 3
   },
   "file_extension": ".py",
   "mimetype": "text/x-python",
   "name": "python",
   "nbconvert_exporter": "python",
   "pygments_lexer": "ipython3",
   "version": "3.8.13"
  },
  "orig_nbformat": 4
 },
 "nbformat": 4,
 "nbformat_minor": 2
}
