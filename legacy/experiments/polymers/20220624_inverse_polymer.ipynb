{
 "cells": [
  {
   "cell_type": "markdown",
   "metadata": {},
   "source": [
    "# Predict polymers given a prompt"
   ]
  },
  {
   "cell_type": "code",
   "execution_count": 1,
   "metadata": {},
   "outputs": [],
   "source": [
    "%reload_ext autoreload\n",
    "%autoreload 2\n",
    "\n",
    "import time\n",
    "import matplotlib.pyplot as plt\n",
    "plt.style.use(['science', 'nature'])\n",
    "from pycm import ConfusionMatrix\n",
    "import wandb\n",
    "from sklearn.model_selection import train_test_split\n",
    "import numpy as np\n",
    "\n",
    "from gpt3forchem.polymers.data import get_data\n",
    "from gpt3forchem.polymers.constants import TARGETS, FEATURES, CAT_TARGETS\n",
    "from gpt3forchem.polymers.create_prompts import create_single_property_inverse_prompts\n",
    "from gpt3forchem.fine_tune import fine_tune\n",
    "from gpt3forchem.query_model import query_gpt3, extract_prediction"
   ]
  },
  {
   "cell_type": "code",
   "execution_count": 2,
   "metadata": {},
   "outputs": [],
   "source": [
    "data = get_data()"
   ]
  },
  {
   "cell_type": "code",
   "execution_count": 3,
   "metadata": {},
   "outputs": [],
   "source": [
    "train_df, test_df = train_test_split(data, train_size=0.9)"
   ]
  },
  {
   "cell_type": "code",
   "execution_count": 4,
   "metadata": {},
   "outputs": [
    {
     "name": "stdout",
     "output_type": "stream",
     "text": [
      "2812 train points and 313 test points\n"
     ]
    }
   ],
   "source": [
    "train_size = len(train_df)\n",
    "test_size = len(test_df)\n",
    "print(f\"{len(train_df)} train points and {len(test_df)} test points\")\n"
   ]
  },
  {
   "cell_type": "code",
   "execution_count": 25,
   "metadata": {},
   "outputs": [],
   "source": [
    "train_prompts = create_single_property_inverse_prompts(train_df, CAT_TARGETS[0])\n",
    "test_prompts = create_single_property_inverse_prompts(test_df, CAT_TARGETS[0])"
   ]
  },
  {
   "cell_type": "code",
   "execution_count": 26,
   "metadata": {},
   "outputs": [
    {
     "data": {
      "text/html": [
       "<div>\n",
       "<style scoped>\n",
       "    .dataframe tbody tr th:only-of-type {\n",
       "        vertical-align: middle;\n",
       "    }\n",
       "\n",
       "    .dataframe tbody tr th {\n",
       "        vertical-align: top;\n",
       "    }\n",
       "\n",
       "    .dataframe thead th {\n",
       "        text-align: right;\n",
       "    }\n",
       "</style>\n",
       "<table border=\"1\" class=\"dataframe\">\n",
       "  <thead>\n",
       "    <tr style=\"text-align: right;\">\n",
       "      <th></th>\n",
       "      <th>prompt</th>\n",
       "      <th>completion</th>\n",
       "    </tr>\n",
       "  </thead>\n",
       "  <tbody>\n",
       "    <tr>\n",
       "      <th>0</th>\n",
       "      <td>what is a polymer with 0 adsorption energy?###</td>\n",
       "      <td>B-R-R-R-A-R-R-W-R-A-B-B-R-A-A-W-A-W-R-R-W-A-A...</td>\n",
       "    </tr>\n",
       "    <tr>\n",
       "      <th>1</th>\n",
       "      <td>what is a polymer with 0 adsorption energy?###</td>\n",
       "      <td>A-W-W-B-R-B-B-W-R-A-B-B-W-W-B-A-W-R-A-B-B-W-R...</td>\n",
       "    </tr>\n",
       "    <tr>\n",
       "      <th>2</th>\n",
       "      <td>what is a polymer with 1 adsorption energy?###</td>\n",
       "      <td>A-R-B-A-R-R-B-A-B-R-A-B-R-R-B-R-B-R-B-R-W-W-B...</td>\n",
       "    </tr>\n",
       "    <tr>\n",
       "      <th>3</th>\n",
       "      <td>what is a polymer with 0 adsorption energy?###</td>\n",
       "      <td>W-R-B-B-W-R-W-W-A-R-A-A-R-A-W-R-A-R-R-A-A-R-B...</td>\n",
       "    </tr>\n",
       "    <tr>\n",
       "      <th>4</th>\n",
       "      <td>what is a polymer with 4 adsorption energy?###</td>\n",
       "      <td>W-R-B-A-R-W-W-R-A-B-R-W-A-R-W-W-W-W-W-B-R-W-B...</td>\n",
       "    </tr>\n",
       "  </tbody>\n",
       "</table>\n",
       "</div>"
      ],
      "text/plain": [
       "                                           prompt  \\\n",
       "0  what is a polymer with 0 adsorption energy?###   \n",
       "1  what is a polymer with 0 adsorption energy?###   \n",
       "2  what is a polymer with 1 adsorption energy?###   \n",
       "3  what is a polymer with 0 adsorption energy?###   \n",
       "4  what is a polymer with 4 adsorption energy?###   \n",
       "\n",
       "                                          completion  \n",
       "0   B-R-R-R-A-R-R-W-R-A-B-B-R-A-A-W-A-W-R-R-W-A-A...  \n",
       "1   A-W-W-B-R-B-B-W-R-A-B-B-W-W-B-A-W-R-A-B-B-W-R...  \n",
       "2   A-R-B-A-R-R-B-A-B-R-A-B-R-R-B-R-B-R-B-R-W-W-B...  \n",
       "3   W-R-B-B-W-R-W-W-A-R-A-A-R-A-W-R-A-R-R-A-A-R-B...  \n",
       "4   W-R-B-A-R-W-W-R-A-B-R-W-A-R-W-W-W-W-W-B-R-W-B...  "
      ]
     },
     "execution_count": 26,
     "metadata": {},
     "output_type": "execute_result"
    }
   ],
   "source": [
    "train_prompts.head()"
   ]
  },
  {
   "cell_type": "code",
   "execution_count": 21,
   "metadata": {},
   "outputs": [],
   "source": [
    "completion_lengths = []\n",
    "\n",
    "for i, row in train_prompts.iterrows(): \n",
    "    completion_lengths.append(len(row['completion']))\n",
    "\n",
    "completion_lengths = np.array(completion_lengths)"
   ]
  },
  {
   "cell_type": "code",
   "execution_count": 22,
   "metadata": {},
   "outputs": [
    {
     "data": {
      "text/plain": [
       "(array([ 24., 133., 159., 537., 359., 741., 548., 150., 137.,  24.]),\n",
       " array([35. , 41.4, 47.8, 54.2, 60.6, 67. , 73.4, 79.8, 86.2, 92.6, 99. ]),\n",
       " <BarContainer object of 10 artists>)"
      ]
     },
     "execution_count": 22,
     "metadata": {},
     "output_type": "execute_result"
    },
    {
     "data": {
      "image/png": "[encoded data removed]",
      "text/plain": [
       "<Figure size 237.6x180 with 1 Axes>"
      ]
     },
     "metadata": {
      "needs_background": "light"
     },
     "output_type": "display_data"
    }
   ],
   "source": [
    "plt.hist(completion_lengths)"
   ]
  },
  {
   "cell_type": "markdown",
   "metadata": {},
   "source": [
    "This is way longer than what we used for regression, but still much smaller than the maximum number of tokens (2048). However, it is longer than the default number of output tokens"
   ]
  },
  {
   "cell_type": "code",
   "execution_count": 24,
   "metadata": {},
   "outputs": [
    {
     "data": {
      "text/plain": [
       "67.0398293029872"
      ]
     },
     "execution_count": 24,
     "metadata": {},
     "output_type": "execute_result"
    }
   ],
   "source": [
    "np.mean(completion_lengths)"
   ]
  },
  {
   "cell_type": "markdown",
   "metadata": {},
   "source": [
    "### Now, fine tune a model"
   ]
  },
  {
   "cell_type": "code",
   "execution_count": 29,
   "metadata": {},
   "outputs": [],
   "source": [
    "filename_base = time.strftime(\"%Y-%m-%d-%H-%M-%S\", time.localtime())\n",
    "train_filename = f\"run_files/{filename_base}_train_inverse_prompts_polymers_{train_size}.jsonl\"\n",
    "valid_filename = f\"run_files/{filename_base}_valid_inverse_prompts_polymers_{test_size}.jsonl\"\n",
    "# to save money, just run a small valid frame\n",
    "valid_small_filename = f\"run_files/{filename_base}_validsmall_inverse_prompts_polymers_{test_size}.jsonl\"\n",
    "train_prompts.to_json(train_filename, orient=\"records\", lines=True)\n",
    "test_prompts.to_json(valid_filename, orient=\"records\", lines=True)\n",
    "test_prompts.sample(100).to_json(valid_small_filename, orient=\"records\", lines=True)"
   ]
  },
  {
   "cell_type": "code",
   "execution_count": 30,
   "metadata": {},
   "outputs": [
    {
     "name": "stderr",
     "output_type": "stream",
     "text": [
      "Upload progress: 100%|██████████| 402k/402k [00:00<00:00, 218Mit/s]\n"
     ]
    },
    {
     "name": "stdout",
     "output_type": "stream",
     "text": [
      "Uploaded file from run_files/2022-06-24-09-56-07_train_inverse_prompts_polymers_2812.jsonl: file-4ALR9IWrmcCYBFwg1SdasWxn\n"
     ]
    },
    {
     "name": "stderr",
     "output_type": "stream",
     "text": [
      "Upload progress: 100%|██████████| 14.2k/14.2k [00:00<00:00, 6.47Mit/s]\n"
     ]
    },
    {
     "name": "stdout",
     "output_type": "stream",
     "text": [
      "Uploaded file from run_files/2022-06-24-09-56-07_validsmall_inverse_prompts_polymers_313.jsonl: file-YUygyl5agZT2q8It4iIAspoy\n",
      "Created fine-tune: ft-XmU0V1eMplRqymO94Okry8J2\n",
      "Streaming events until fine-tuning is complete...\n",
      "\n",
      "(Ctrl-C will interrupt the stream, but not cancel the fine-tune)\n",
      "[2022-06-24 10:18:18] Created fine-tune: ft-XmU0V1eMplRqymO94Okry8J2\n",
      "[2022-06-24 10:20:03] Fine-tune costs $0.35\n",
      "[2022-06-24 10:20:03] Fine-tune enqueued. Queue number: 12\n",
      "\n",
      "Stream interrupted (client disconnected).\n",
      "To resume the stream, run:\n",
      "\n",
      "  openai api fine_tunes.follow -i ft-XmU0V1eMplRqymO94Okry8J2\n",
      "\n",
      "Fine-tune ft-XmU0V1eMplRqymO94Okry8J2 has the status \"pending\" and will not be logged\n",
      "🎉 wandb sync completed successfully\n"
     ]
    }
   ],
   "source": [
    "fine_tune(train_filename, valid_small_filename) "
   ]
  },
  {
   "cell_type": "code",
   "execution_count": 47,
   "metadata": {},
   "outputs": [],
   "source": [
    "completions = query_gpt3(\"ada:ft-epfl-2022-06-24-20-47-07\", test_prompts.iloc[:2], max_tokens=100, temperature=1.2)\n"
   ]
  },
  {
   "cell_type": "code",
   "execution_count": 40,
   "metadata": {},
   "outputs": [
    {
     "data": {
      "text/plain": [
       "'run_files/2022-06-24-09-56-07_train_inverse_prompts_polymers_2812.jsonl'"
      ]
     },
     "execution_count": 40,
     "metadata": {},
     "output_type": "execute_result"
    }
   ],
   "source": [
    "train_filename"
   ]
  },
  {
   "cell_type": "code",
   "execution_count": 48,
   "metadata": {},
   "outputs": [
    {
     "data": {
      "text/html": [
       "<div>\n",
       "<style scoped>\n",
       "    .dataframe tbody tr th:only-of-type {\n",
       "        vertical-align: middle;\n",
       "    }\n",
       "\n",
       "    .dataframe tbody tr th {\n",
       "        vertical-align: top;\n",
       "    }\n",
       "\n",
       "    .dataframe thead th {\n",
       "        text-align: right;\n",
       "    }\n",
       "</style>\n",
       "<table border=\"1\" class=\"dataframe\">\n",
       "  <thead>\n",
       "    <tr style=\"text-align: right;\">\n",
       "      <th></th>\n",
       "      <th>prompt</th>\n",
       "      <th>completion</th>\n",
       "    </tr>\n",
       "  </thead>\n",
       "  <tbody>\n",
       "    <tr>\n",
       "      <th>0</th>\n",
       "      <td>what is a polymer with 2 adsorption energy?###</td>\n",
       "      <td>R-A-A-W-B-R-A-B-R-B-W-A-W-B-W-R-R-R-A-B-A-B-W...</td>\n",
       "    </tr>\n",
       "    <tr>\n",
       "      <th>1</th>\n",
       "      <td>what is a polymer with 2 adsorption energy?###</td>\n",
       "      <td>A-W-B-B-A-W-A-W-R-R-A-B-B-B-R-A-A-B-R-A-W-W-B...</td>\n",
       "    </tr>\n",
       "    <tr>\n",
       "      <th>2</th>\n",
       "      <td>what is a polymer with 0 adsorption energy?###</td>\n",
       "      <td>R-R-B-A-B-R-A-R-R-R-R-A-B-W-R-W-B-R-R-W-W-A-A...</td>\n",
       "    </tr>\n",
       "    <tr>\n",
       "      <th>3</th>\n",
       "      <td>what is a polymer with 4 adsorption energy?###</td>\n",
       "      <td>B-R-W-R-B-B-W-B-A-R-R-W-B-R-W-W-W-B-A-A-W-W-B...</td>\n",
       "    </tr>\n",
       "    <tr>\n",
       "      <th>4</th>\n",
       "      <td>what is a polymer with 3 adsorption energy?###</td>\n",
       "      <td>W-A-W-B-W-B-B-B-R-R-B-B-W-A-B-R-W-W-B-R-A-W-B...</td>\n",
       "    </tr>\n",
       "    <tr>\n",
       "      <th>...</th>\n",
       "      <td>...</td>\n",
       "      <td>...</td>\n",
       "    </tr>\n",
       "    <tr>\n",
       "      <th>308</th>\n",
       "      <td>what is a polymer with 0 adsorption energy?###</td>\n",
       "      <td>W-W-W-W-A-W-W-B-A-A-B-A-R-A-A-R-A-R-B-W-R-W-A...</td>\n",
       "    </tr>\n",
       "    <tr>\n",
       "      <th>309</th>\n",
       "      <td>what is a polymer with 2 adsorption energy?###</td>\n",
       "      <td>W-B-R-A-R-W-R-W-W-B-B-R-A-W-R-R-A-W-B-R-B-B-W...</td>\n",
       "    </tr>\n",
       "    <tr>\n",
       "      <th>310</th>\n",
       "      <td>what is a polymer with 0 adsorption energy?###</td>\n",
       "      <td>B-A-B-B-A-R-A-R-A-W-B-A-A-A-R-B-W-A-B-R-B-W-R...</td>\n",
       "    </tr>\n",
       "    <tr>\n",
       "      <th>311</th>\n",
       "      <td>what is a polymer with 1 adsorption energy?###</td>\n",
       "      <td>A-R-R-B-B-A-B-R-B-A-R-R-A-W-A-B-W-W-A-A-R-A-B...</td>\n",
       "    </tr>\n",
       "    <tr>\n",
       "      <th>312</th>\n",
       "      <td>what is a polymer with 3 adsorption energy?###</td>\n",
       "      <td>W-W-R-A-W-W-B-A-R-R-B-W-A-A-A-B-B-R-B-B-B-B-R...</td>\n",
       "    </tr>\n",
       "  </tbody>\n",
       "</table>\n",
       "<p>313 rows × 2 columns</p>\n",
       "</div>"
      ],
      "text/plain": [
       "                                             prompt  \\\n",
       "0    what is a polymer with 2 adsorption energy?###   \n",
       "1    what is a polymer with 2 adsorption energy?###   \n",
       "2    what is a polymer with 0 adsorption energy?###   \n",
       "3    what is a polymer with 4 adsorption energy?###   \n",
       "4    what is a polymer with 3 adsorption energy?###   \n",
       "..                                              ...   \n",
       "308  what is a polymer with 0 adsorption energy?###   \n",
       "309  what is a polymer with 2 adsorption energy?###   \n",
       "310  what is a polymer with 0 adsorption energy?###   \n",
       "311  what is a polymer with 1 adsorption energy?###   \n",
       "312  what is a polymer with 3 adsorption energy?###   \n",
       "\n",
       "                                            completion  \n",
       "0     R-A-A-W-B-R-A-B-R-B-W-A-W-B-W-R-R-R-A-B-A-B-W...  \n",
       "1     A-W-B-B-A-W-A-W-R-R-A-B-B-B-R-A-A-B-R-A-W-W-B...  \n",
       "2     R-R-B-A-B-R-A-R-R-R-R-A-B-W-R-W-B-R-R-W-W-A-A...  \n",
       "3     B-R-W-R-B-B-W-B-A-R-R-W-B-R-W-W-W-B-A-A-W-W-B...  \n",
       "4     W-A-W-B-W-B-B-B-R-R-B-B-W-A-B-R-W-W-B-R-A-W-B...  \n",
       "..                                                 ...  \n",
       "308   W-W-W-W-A-W-W-B-A-A-B-A-R-A-A-R-A-R-B-W-R-W-A...  \n",
       "309   W-B-R-A-R-W-R-W-W-B-B-R-A-W-R-R-A-W-B-R-B-B-W...  \n",
       "310   B-A-B-B-A-R-A-R-A-W-B-A-A-A-R-B-W-A-B-R-B-W-R...  \n",
       "311   A-R-R-B-B-A-B-R-B-A-R-R-A-W-A-B-W-W-A-A-R-A-B...  \n",
       "312   W-W-R-A-W-W-B-A-R-R-B-W-A-A-A-B-B-R-B-B-B-B-R...  \n",
       "\n",
       "[313 rows x 2 columns]"
      ]
     },
     "execution_count": 48,
     "metadata": {},
     "output_type": "execute_result"
    }
   ],
   "source": [
    "test_prompts"
   ]
  },
  {
   "cell_type": "code",
   "execution_count": 49,
   "metadata": {},
   "outputs": [
    {
     "data": {
      "text/plain": [
       "[<OpenAIObject text_completion id=cmpl-5MxsQE6cMpFQG1UB6P2t1X5ZpRyXC at 0x2880bd130> JSON: {\n",
       "   \"choices\": [\n",
       "     {\n",
       "       \"finish_reason\": \"length\",\n",
       "       \"index\": 0,\n",
       "       \"logprobs\": null,\n",
       "       \"text\": \" 4@@@@@@@@@@@@@@@@@@@@@@@@@@@@*** 3@@@@@@@@@@@@@@@-[\\\"@@@ forfeques@@@@@@@@@@@@@- endeavu@@- A- R- B### 3@@@@@@@ donkey@@@&@@@@@@- R- R- B- W- B- B- R- B### 1@@@@@@@@@@@\"\n",
       "     }\n",
       "   ],\n",
       "   \"created\": 1656155066,\n",
       "   \"id\": \"cmpl-5MxsQE6cMpFQG1UB6P2t1X5ZpRyXC\",\n",
       "   \"model\": \"ada:ft-epfl-2022-06-24-20-47-07\",\n",
       "   \"object\": \"text_completion\",\n",
       "   \"usage\": {\n",
       "     \"completion_tokens\": 100,\n",
       "     \"prompt_tokens\": 12,\n",
       "     \"total_tokens\": 112\n",
       "   }\n",
       " },\n",
       " <OpenAIObject text_completion id=cmpl-5MxsWByBeYawwUZXz21lFLjuM9Psz at 0x2892f9680> JSON: {\n",
       "   \"choices\": [\n",
       "     {\n",
       "       \"finish_reason\": \"length\",\n",
       "       \"index\": 0,\n",
       "       \"logprobs\": null,\n",
       "       \"text\": \" 4@@@@@@@@@@@@@@@@@@@@@@@@@@@@@@@@@@@@@@@@@@### 3@@@@@@@@@@@@@@@@@@@@ <@@@@@@@@@@@r@@@ engulfed-r-a-a-a-a-r-b-w-w-R-R-A-B-R-A### 0@@@@@@@@@@@@@@\"\n",
       "     }\n",
       "   ],\n",
       "   \"created\": 1656155072,\n",
       "   \"id\": \"cmpl-5MxsWByBeYawwUZXz21lFLjuM9Psz\",\n",
       "   \"model\": \"ada:ft-epfl-2022-06-24-20-47-07\",\n",
       "   \"object\": \"text_completion\",\n",
       "   \"usage\": {\n",
       "     \"completion_tokens\": 100,\n",
       "     \"prompt_tokens\": 12,\n",
       "     \"total_tokens\": 112\n",
       "   }\n",
       " }]"
      ]
     },
     "execution_count": 49,
     "metadata": {},
     "output_type": "execute_result"
    }
   ],
   "source": [
    "completions"
   ]
  },
  {
   "cell_type": "markdown",
   "metadata": {},
   "source": [
    "This didn't work at all."
   ]
  },
  {
   "cell_type": "markdown",
   "metadata": {},
   "source": [
    "Maybe we need to give more constraints. Let's try to but the composition into the prompt."
   ]
  },
  {
   "cell_type": "markdown",
   "metadata": {},
   "source": [
    "Again, I changed the defaults and it will now always put the desired composition into the prompt."
   ]
  },
  {
   "cell_type": "code",
   "execution_count": 51,
   "metadata": {},
   "outputs": [],
   "source": [
    "train_prompts = create_single_property_inverse_prompts(train_df, CAT_TARGETS[0])\n",
    "test_prompts = create_single_property_inverse_prompts(test_df, CAT_TARGETS[0])"
   ]
  },
  {
   "cell_type": "code",
   "execution_count": 52,
   "metadata": {},
   "outputs": [
    {
     "data": {
      "text/html": [
       "<div>\n",
       "<style scoped>\n",
       "    .dataframe tbody tr th:only-of-type {\n",
       "        vertical-align: middle;\n",
       "    }\n",
       "\n",
       "    .dataframe tbody tr th {\n",
       "        vertical-align: top;\n",
       "    }\n",
       "\n",
       "    .dataframe thead th {\n",
       "        text-align: right;\n",
       "    }\n",
       "</style>\n",
       "<table border=\"1\" class=\"dataframe\">\n",
       "  <thead>\n",
       "    <tr style=\"text-align: right;\">\n",
       "      <th></th>\n",
       "      <th>prompt</th>\n",
       "      <th>completion</th>\n",
       "    </tr>\n",
       "  </thead>\n",
       "  <tbody>\n",
       "    <tr>\n",
       "      <th>0</th>\n",
       "      <td>what is a polymer with 0 adsorption energy and...</td>\n",
       "      <td>B-R-R-R-A-R-R-W-R-A-B-B-R-A-A-W-A-W-R-R-W-A-A...</td>\n",
       "    </tr>\n",
       "    <tr>\n",
       "      <th>1</th>\n",
       "      <td>what is a polymer with 0 adsorption energy and...</td>\n",
       "      <td>A-W-W-B-R-B-B-W-R-A-B-B-W-W-B-A-W-R-A-B-B-W-R...</td>\n",
       "    </tr>\n",
       "    <tr>\n",
       "      <th>2</th>\n",
       "      <td>what is a polymer with 1 adsorption energy and...</td>\n",
       "      <td>A-R-B-A-R-R-B-A-B-R-A-B-R-R-B-R-B-R-B-R-W-W-B...</td>\n",
       "    </tr>\n",
       "    <tr>\n",
       "      <th>3</th>\n",
       "      <td>what is a polymer with 0 adsorption energy and...</td>\n",
       "      <td>W-R-B-B-W-R-W-W-A-R-A-A-R-A-W-R-A-R-R-A-A-R-B...</td>\n",
       "    </tr>\n",
       "    <tr>\n",
       "      <th>4</th>\n",
       "      <td>what is a polymer with 4 adsorption energy and...</td>\n",
       "      <td>W-R-B-A-R-W-W-R-A-B-R-W-A-R-W-W-W-W-W-B-R-W-B...</td>\n",
       "    </tr>\n",
       "    <tr>\n",
       "      <th>...</th>\n",
       "      <td>...</td>\n",
       "      <td>...</td>\n",
       "    </tr>\n",
       "    <tr>\n",
       "      <th>2807</th>\n",
       "      <td>what is a polymer with 0 adsorption energy and...</td>\n",
       "      <td>R-R-B-A-A-W-R-A-A-B-A-B-W-W-W-B-W-B-B-R-R-R-B...</td>\n",
       "    </tr>\n",
       "    <tr>\n",
       "      <th>2808</th>\n",
       "      <td>what is a polymer with 3 adsorption energy and...</td>\n",
       "      <td>B-R-W-A-B-W-R-W-R-W-W-A-R-B-R-A-B-R-A-B-B-W-R...</td>\n",
       "    </tr>\n",
       "    <tr>\n",
       "      <th>2809</th>\n",
       "      <td>what is a polymer with 0 adsorption energy and...</td>\n",
       "      <td>W-B-W-W-R-A-R-A-A-B-B-R-A-B-R-W-B-A-W-A-W-A-W...</td>\n",
       "    </tr>\n",
       "    <tr>\n",
       "      <th>2810</th>\n",
       "      <td>what is a polymer with 1 adsorption energy and...</td>\n",
       "      <td>W-B-W-B-R-A-A-B-W-A-A-R-W-B-A-W-A-R-W-B-R-R-R...</td>\n",
       "    </tr>\n",
       "    <tr>\n",
       "      <th>2811</th>\n",
       "      <td>what is a polymer with 1 adsorption energy and...</td>\n",
       "      <td>A-R-B-A-B-B-A-W-B-B-A-W-A-R-A-W-R-R-A-A-R-W-B...</td>\n",
       "    </tr>\n",
       "  </tbody>\n",
       "</table>\n",
       "<p>2812 rows × 2 columns</p>\n",
       "</div>"
      ],
      "text/plain": [
       "                                                 prompt  \\\n",
       "0     what is a polymer with 0 adsorption energy and...   \n",
       "1     what is a polymer with 0 adsorption energy and...   \n",
       "2     what is a polymer with 1 adsorption energy and...   \n",
       "3     what is a polymer with 0 adsorption energy and...   \n",
       "4     what is a polymer with 4 adsorption energy and...   \n",
       "...                                                 ...   \n",
       "2807  what is a polymer with 0 adsorption energy and...   \n",
       "2808  what is a polymer with 3 adsorption energy and...   \n",
       "2809  what is a polymer with 0 adsorption energy and...   \n",
       "2810  what is a polymer with 1 adsorption energy and...   \n",
       "2811  what is a polymer with 1 adsorption energy and...   \n",
       "\n",
       "                                             completion  \n",
       "0      B-R-R-R-A-R-R-W-R-A-B-B-R-A-A-W-A-W-R-R-W-A-A...  \n",
       "1      A-W-W-B-R-B-B-W-R-A-B-B-W-W-B-A-W-R-A-B-B-W-R...  \n",
       "2      A-R-B-A-R-R-B-A-B-R-A-B-R-R-B-R-B-R-B-R-W-W-B...  \n",
       "3      W-R-B-B-W-R-W-W-A-R-A-A-R-A-W-R-A-R-R-A-A-R-B...  \n",
       "4      W-R-B-A-R-W-W-R-A-B-R-W-A-R-W-W-W-W-W-B-R-W-B...  \n",
       "...                                                 ...  \n",
       "2807   R-R-B-A-A-W-R-A-A-B-A-B-W-W-W-B-W-B-B-R-R-R-B...  \n",
       "2808   B-R-W-A-B-W-R-W-R-W-W-A-R-B-R-A-B-R-A-B-B-W-R...  \n",
       "2809   W-B-W-W-R-A-R-A-A-B-B-R-A-B-R-W-B-A-W-A-W-A-W...  \n",
       "2810   W-B-W-B-R-A-A-B-W-A-A-R-W-B-A-W-A-R-W-B-R-R-R...  \n",
       "2811   A-R-B-A-B-B-A-W-B-B-A-W-A-R-A-W-R-R-A-A-R-W-B...  \n",
       "\n",
       "[2812 rows x 2 columns]"
      ]
     },
     "execution_count": 52,
     "metadata": {},
     "output_type": "execute_result"
    }
   ],
   "source": [
    "train_prompts"
   ]
  },
  {
   "cell_type": "code",
   "execution_count": 53,
   "metadata": {},
   "outputs": [],
   "source": [
    "filename_base = time.strftime(\"%Y-%m-%d-%H-%M-%S\", time.localtime())\n",
    "train_filename = f\"run_files/{filename_base}_train_inverse_prompts_polymers_{train_size}.jsonl\"\n",
    "valid_filename = f\"run_files/{filename_base}_valid_inverse_prompts_polymers_{test_size}.jsonl\"\n",
    "# to save money, just run a small valid frame\n",
    "valid_small_filename = f\"run_files/{filename_base}_validsmall_inverse_prompts_polymers_{test_size}.jsonl\"\n",
    "train_prompts.to_json(train_filename, orient=\"records\", lines=True)\n",
    "test_prompts.to_json(valid_filename, orient=\"records\", lines=True)\n",
    "test_prompts.sample(100).to_json(valid_small_filename, orient=\"records\", lines=True)"
   ]
  },
  {
   "cell_type": "code",
   "execution_count": 54,
   "metadata": {},
   "outputs": [
    {
     "name": "stderr",
     "output_type": "stream",
     "text": [
      "Upload progress: 100%|██████████| 483k/483k [00:00<00:00, 184Mit/s]\n"
     ]
    },
    {
     "name": "stdout",
     "output_type": "stream",
     "text": [
      "Uploaded file from run_files/2022-06-25-17-15-56_train_inverse_prompts_polymers_2812.jsonl: file-vA5lcbvWWyDcftvv90LJ6RcH\n"
     ]
    },
    {
     "name": "stderr",
     "output_type": "stream",
     "text": [
      "Upload progress: 100%|██████████| 17.1k/17.1k [00:00<00:00, 30.5Mit/s]\n"
     ]
    },
    {
     "name": "stdout",
     "output_type": "stream",
     "text": [
      "Uploaded file from run_files/2022-06-25-17-15-56_validsmall_inverse_prompts_polymers_313.jsonl: file-aYymrjTSTbxtvfptHE7NCyXc\n",
      "Created fine-tune: ft-FR643eTWPjn5nX8u6uobu2mt\n",
      "Streaming events until fine-tuning is complete...\n",
      "\n",
      "(Ctrl-C will interrupt the stream, but not cancel the fine-tune)\n",
      "[2022-06-25 17:16:42] Created fine-tune: ft-FR643eTWPjn5nX8u6uobu2mt\n",
      "[2022-06-25 17:16:47] Fine-tune costs $0.41\n",
      "[2022-06-25 17:16:48] Fine-tune enqueued. Queue number: 0\n",
      "[2022-06-25 17:16:51] Fine-tune started\n",
      "[2022-06-25 17:21:18] Completed epoch 1/4\n",
      "[2022-06-25 17:25:29] Completed epoch 2/4\n",
      "[2022-06-25 17:29:40] Completed epoch 3/4\n",
      "\n",
      "Stream interrupted (client disconnected).\n",
      "To resume the stream, run:\n",
      "\n",
      "  openai api fine_tunes.follow -i ft-FR643eTWPjn5nX8u6uobu2mt\n",
      "\n",
      "Fine-tune ft-FR643eTWPjn5nX8u6uobu2mt has the status \"running\" and will not be logged\n",
      "🎉 wandb sync completed successfully\n"
     ]
    }
   ],
   "source": [
    "fine_tune(train_filename, valid_small_filename) "
   ]
  },
  {
   "cell_type": "code",
   "execution_count": 55,
   "metadata": {},
   "outputs": [],
   "source": [
    "completions = query_gpt3(\"ada:ft-epfl-2022-06-25-15-34-15\", test_prompts.iloc[:2], max_tokens=100, temperature=1.2)\n"
   ]
  },
  {
   "cell_type": "code",
   "execution_count": 56,
   "metadata": {},
   "outputs": [
    {
     "data": {
      "text/plain": [
       "[<OpenAIObject text_completion id=cmpl-5N2o0B0BRVTQnGutDLLwtAYBXgn7Y at 0x15828fc70> JSON: {\n",
       "   \"choices\": [\n",
       "     {\n",
       "       \"finish_reason\": \"length\",\n",
       "       \"index\": 0,\n",
       "       \"logprobs\": null,\n",
       "       \"text\": \" R-W-A-R-A-B-B-R-A-W-R-A-B-R-A-R-B-W-R-R-R-B-B-W-W-W-B-B-B-W-A-W-A-W-B-B-B-W-A-R-B@@@@@@W-B@@@@@B@@R@@W@@R@@R\"\n",
       "     }\n",
       "   ],\n",
       "   \"created\": 1656174012,\n",
       "   \"id\": \"cmpl-5N2o0B0BRVTQnGutDLLwtAYBXgn7Y\",\n",
       "   \"model\": \"ada:ft-epfl-2022-06-25-15-34-15\",\n",
       "   \"object\": \"text_completion\",\n",
       "   \"usage\": {\n",
       "     \"completion_tokens\": 100,\n",
       "     \"prompt_tokens\": 25,\n",
       "     \"total_tokens\": 125\n",
       "   }\n",
       " },\n",
       " <OpenAIObject text_completion id=cmpl-5N2o8O0fFSYHb24QgsCNzlfDuwTMz at 0x177e4ec70> JSON: {\n",
       "   \"choices\": [\n",
       "     {\n",
       "       \"finish_reason\": \"length\",\n",
       "       \"index\": 0,\n",
       "       \"logprobs\": null,\n",
       "       \"text\": \" W-R-A-B-R-A-A-B-W-A-R-A-A-B-W-B-W-A-W-A-B-B-W-A-B-B-A-B-R-A-R-W-R-B-A-W-R@@@@@B-W@@@@@A@@@@@A@@B@@@@@@@@@@@@@@@@@@@@@@\"\n",
       "     }\n",
       "   ],\n",
       "   \"created\": 1656174020,\n",
       "   \"id\": \"cmpl-5N2o8O0fFSYHb24QgsCNzlfDuwTMz\",\n",
       "   \"model\": \"ada:ft-epfl-2022-06-25-15-34-15\",\n",
       "   \"object\": \"text_completion\",\n",
       "   \"usage\": {\n",
       "     \"completion_tokens\": 100,\n",
       "     \"prompt_tokens\": 25,\n",
       "     \"total_tokens\": 125\n",
       "   }\n",
       " }]"
      ]
     },
     "execution_count": 56,
     "metadata": {},
     "output_type": "execute_result"
    }
   ],
   "source": [
    "completions"
   ]
  },
  {
   "cell_type": "markdown",
   "metadata": {},
   "source": []
  }
 ],
 "metadata": {
  "interpreter": {
   "hash": "9a4fa60962de90e73b5da8d67a44b01d2de04630d82b94b8db1f727a73d31e61"
  },
  "kernelspec": {
   "display_name": "Python 3.8.13 ('gpt3')",
   "language": "python",
   "name": "python3"
  },
  "language_info": {
   "codemirror_mode": {
    "name": "ipython",
    "version": 3
   },
   "file_extension": ".py",
   "mimetype": "text/x-python",
   "name": "python",
   "nbconvert_exporter": "python",
   "pygments_lexer": "ipython3",
   "version": "3.8.13"
  },
  "orig_nbformat": 4
 },
 "nbformat": 4,
 "nbformat_minor": 2
}
