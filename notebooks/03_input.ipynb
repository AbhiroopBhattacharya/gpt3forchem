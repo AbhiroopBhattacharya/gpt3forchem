{
 "cells": [
  {
   "cell_type": "code",
   "execution_count": null,
   "metadata": {},
   "outputs": [],
   "source": [
    "# | default_exp input"
   ]
  },
  {
   "cell_type": "markdown",
   "metadata": {},
   "source": [
    "# Data augmentation"
   ]
  },
  {
   "cell_type": "markdown",
   "metadata": {},
   "source": [
    "We can use SMILES randomization for data augmentation. We use code by [Schwaller et al.](https://github.com/rxn4chemistry/rxn_yields)."
   ]
  },
  {
   "cell_type": "code",
   "execution_count": 26,
   "metadata": {},
   "outputs": [],
   "source": [
    "from rdkit import Chem\n",
    "import random"
   ]
  },
  {
   "cell_type": "code",
   "execution_count": null,
   "metadata": {},
   "outputs": [],
   "source": [
    "def randomize_smiles(\n",
    "    smiles: str, \n",
    "    random_type: str = \"rotated\",  #  The type (unrestricted, restricted, rotated) of randomization performed.\n",
    "    isomericSmiles: bool = True\n",
    "):\n",
    "    \"\"\"\n",
    "    From: https://github.com/undeadpixel/reinvent-randomized and https://github.com/GLambard/SMILES-X\n",
    "    Returns a random SMILES given a SMILES of a molecule.\n",
    "    \"\"\"\n",
    "    mol = Chem.MolFromSmiles(smiles)\n",
    "    if not mol:\n",
    "        return None\n",
    "\n",
    "    if random_type == \"unrestricted\":\n",
    "        return Chem.MolToSmiles(\n",
    "            mol, canonical=False, doRandom=True, isomericSmiles=isomericSmiles\n",
    "        )\n",
    "    elif random_type == \"restricted\":\n",
    "        new_atom_order = list(range(mol.GetNumAtoms()))\n",
    "        random.shuffle(new_atom_order)\n",
    "        random_mol = Chem.RenumberAtoms(mol, newOrder=new_atom_order)\n",
    "        return Chem.MolToSmiles(\n",
    "            random_mol, canonical=False, isomericSmiles=isomericSmiles\n",
    "        )\n",
    "    elif random_type == \"rotated\":\n",
    "        n_atoms = mol.GetNumAtoms()\n",
    "        rotation_index = random.randint(0, n_atoms - 1)\n",
    "        atoms = list(range(n_atoms))\n",
    "        new_atoms_order = (\n",
    "            atoms[rotation_index % len(atoms) :] + atoms[: rotation_index % len(atoms)]\n",
    "        )\n",
    "        rotated_mol = Chem.RenumberAtoms(mol, new_atoms_order)\n",
    "        return Chem.MolToSmiles(\n",
    "            rotated_mol, canonical=False, isomericSmiles=isomericSmiles\n",
    "        )\n",
    "    raise ValueError(\"Type '{}' is not valid\".format(random_type))\n"
   ]
  },
  {
   "cell_type": "markdown",
   "metadata": {},
   "source": [
    "# Creating prompts/training data\n"
   ]
  },
  {
   "cell_type": "code",
   "execution_count": null,
   "metadata": {},
   "outputs": [],
   "source": [
    "# | export\n",
    "from collections import Counter\n",
    "\n",
    "import numpy as np\n",
    "import pandas as pd"
   ]
  },
  {
   "cell_type": "code",
   "execution_count": null,
   "metadata": {},
   "outputs": [],
   "source": [
    "# | export\n",
    "\n",
    "\n",
    "_DEFAULT_ENCODING_DICT = {\n",
    "    \"very small\": 0,\n",
    "    \"small\": 1,\n",
    "    \"medium\": 2,\n",
    "    \"large\": 3,\n",
    "    \"very large\": 4,\n",
    "}\n",
    "\n",
    "_DEFAULT_DECODING_DICT = {v: k for k, v in _DEFAULT_ENCODING_DICT.items()}\n",
    "\n",
    "\n",
    "def encode_categorical_value(value, encoding_dict=_DEFAULT_DECODING_DICT):\n",
    "    try:\n",
    "        return encoding_dict[value]\n",
    "    except KeyError:\n",
    "        raise ValueError(\"Unknown value: %s\" % value)\n",
    "\n",
    "\n",
    "def decode_categorical_value(value, decoding_dict=_DEFAULT_DECODING_DICT):\n",
    "    try:\n",
    "        return decoding_dict[value]\n",
    "    except KeyError:\n",
    "        raise ValueError(\"Unknown value: %s\" % value)\n"
   ]
  },
  {
   "cell_type": "code",
   "execution_count": null,
   "metadata": {},
   "outputs": [],
   "source": [
    "# | export\n",
    "ONE_PROPERTY_FORWARD_PROMPT_TEMPLATE = \"what is the {property} of {text}###\"\n",
    "ONE_PROPERTY_FORWARD_COMPLETION_TEMPLATE = \" {value}@@@\"\n"
   ]
  },
  {
   "cell_type": "code",
   "execution_count": null,
   "metadata": {},
   "outputs": [],
   "source": [
    "# | export\n",
    "def create_single_property_forward_prompts(\n",
    "    df: pd.DataFrame, # input data\n",
    "    target: str, # target property\n",
    "    target_rename_dict: dict, # dict to rename target property from the column name in df to the target property name in the prompt\n",
    "    encode_value: bool=True, # whether to encode the value of the target property categorically\n",
    "    encoding_dict: dict=_DEFAULT_ENCODING_DICT, # mapping from numerical categories to string\n",
    "    prompt_prefix: str=\"\", # prefix to add to the prompt, e.g. \"I am an expert chemist\"\n",
    "    representation_col: str = 'string', # name of the column to use as the representation of the compound\n",
    "    smiles_augmentation: bool = False, # whether to augment the SMILES with randomization\n",
    "    smiles_augmentation_type: str = \"rotated\", # the type of randomization to perform\n",
    "    smiles_augmentation_rounds: int = 10, # the number of randomizations to perform\n",
    "):\n",
    "    prompts = []\n",
    "\n",
    "    if not smiles_augmentation: \n",
    "        smiles_augmentation_rounds= 1\n",
    "    for _ in range(smiles_augmentation_rounds):\n",
    "        target_name = target\n",
    "        for key, value in target_rename_dict.items():\n",
    "            target_name = target_name.replace(key, value)\n",
    "\n",
    "        for _, row in df.iterrows():\n",
    "            if encode_value:\n",
    "                value = encode_categorical_value(row[target], encoding_dict=encoding_dict)\n",
    "            else:\n",
    "                value = row[target]\n",
    "\n",
    "            repr = row[representation_col]\n",
    "            if smiles_augmentation:\n",
    "                repr = randomize_smiles(repr, random_type=smiles_augmentation_type)\n",
    "            prompts.append(\n",
    "                {\n",
    "                    \"prompt\": prompt_prefix\n",
    "                    + ONE_PROPERTY_FORWARD_PROMPT_TEMPLATE.format(\n",
    "                        property=target_name, text=repr\n",
    "                    ),\n",
    "                    \"completion\": ONE_PROPERTY_FORWARD_COMPLETION_TEMPLATE.format(\n",
    "                        value=value\n",
    "                    ),\n",
    "                }\n",
    "            )\n",
    "\n",
    "    df = pd.DataFrame(prompts)\n",
    "    df.dropna(subset=['prompt'], inplace=True)\n",
    "    return df\n"
   ]
  },
  {
   "cell_type": "code",
   "execution_count": null,
   "metadata": {},
   "outputs": [
    {
     "data": {
      "text/html": [
       "<div>\n",
       "<style scoped>\n",
       "    .dataframe tbody tr th:only-of-type {\n",
       "        vertical-align: middle;\n",
       "    }\n",
       "\n",
       "    .dataframe tbody tr th {\n",
       "        vertical-align: top;\n",
       "    }\n",
       "\n",
       "    .dataframe thead th {\n",
       "        text-align: right;\n",
       "    }\n",
       "</style>\n",
       "<table border=\"1\" class=\"dataframe\">\n",
       "  <thead>\n",
       "    <tr style=\"text-align: right;\">\n",
       "      <th></th>\n",
       "      <th>prompt</th>\n",
       "      <th>completion</th>\n",
       "    </tr>\n",
       "  </thead>\n",
       "  <tbody>\n",
       "    <tr>\n",
       "      <th>0</th>\n",
       "      <td>what is the adsorption energy of W-A-B-W-W-A-A...</td>\n",
       "      <td>4@@@</td>\n",
       "    </tr>\n",
       "    <tr>\n",
       "      <th>1</th>\n",
       "      <td>what is the adsorption energy of R-W-W-R-R-B-B...</td>\n",
       "      <td>4@@@</td>\n",
       "    </tr>\n",
       "    <tr>\n",
       "      <th>2</th>\n",
       "      <td>what is the adsorption energy of A-R-A-W-B-W-A...</td>\n",
       "      <td>4@@@</td>\n",
       "    </tr>\n",
       "    <tr>\n",
       "      <th>3</th>\n",
       "      <td>what is the adsorption energy of W-A-R-A-B-B-B...</td>\n",
       "      <td>4@@@</td>\n",
       "    </tr>\n",
       "    <tr>\n",
       "      <th>4</th>\n",
       "      <td>what is the adsorption energy of R-R-B-B-W-R-A...</td>\n",
       "      <td>4@@@</td>\n",
       "    </tr>\n",
       "    <tr>\n",
       "      <th>...</th>\n",
       "      <td>...</td>\n",
       "      <td>...</td>\n",
       "    </tr>\n",
       "    <tr>\n",
       "      <th>3120</th>\n",
       "      <td>what is the adsorption energy of R-W-B-W-W-B-B...</td>\n",
       "      <td>0@@@</td>\n",
       "    </tr>\n",
       "    <tr>\n",
       "      <th>3121</th>\n",
       "      <td>what is the adsorption energy of R-A-A-R-A-R-W...</td>\n",
       "      <td>0@@@</td>\n",
       "    </tr>\n",
       "    <tr>\n",
       "      <th>3122</th>\n",
       "      <td>what is the adsorption energy of W-W-R-B-W-W-A...</td>\n",
       "      <td>0@@@</td>\n",
       "    </tr>\n",
       "    <tr>\n",
       "      <th>3123</th>\n",
       "      <td>what is the adsorption energy of B-A-B-B-R-W-A...</td>\n",
       "      <td>1@@@</td>\n",
       "    </tr>\n",
       "    <tr>\n",
       "      <th>3124</th>\n",
       "      <td>what is the adsorption energy of B-W-B-R-B-A-R...</td>\n",
       "      <td>0@@@</td>\n",
       "    </tr>\n",
       "  </tbody>\n",
       "</table>\n",
       "<p>3125 rows × 2 columns</p>\n",
       "</div>"
      ],
      "text/plain": [
       "                                                 prompt completion\n",
       "0     what is the adsorption energy of W-A-B-W-W-A-A...       4@@@\n",
       "1     what is the adsorption energy of R-W-W-R-R-B-B...       4@@@\n",
       "2     what is the adsorption energy of A-R-A-W-B-W-A...       4@@@\n",
       "3     what is the adsorption energy of W-A-R-A-B-B-B...       4@@@\n",
       "4     what is the adsorption energy of R-R-B-B-W-R-A...       4@@@\n",
       "...                                                 ...        ...\n",
       "3120  what is the adsorption energy of R-W-B-W-W-B-B...       0@@@\n",
       "3121  what is the adsorption energy of R-A-A-R-A-R-W...       0@@@\n",
       "3122  what is the adsorption energy of W-W-R-B-W-W-A...       0@@@\n",
       "3123  what is the adsorption energy of B-A-B-B-R-W-A...       1@@@\n",
       "3124  what is the adsorption energy of B-W-B-R-B-A-R...       0@@@\n",
       "\n",
       "[3125 rows x 2 columns]"
      ]
     },
     "execution_count": null,
     "metadata": {},
     "output_type": "execute_result"
    }
   ],
   "source": [
    "from gpt3forchem.data import get_polymer_data\n",
    "\n",
    "create_single_property_forward_prompts(\n",
    "    get_polymer_data(), \"deltaGmin_cat\", {\"deltaGmin_cat\": \"adsorption energy\"}\n",
    ")\n"
   ]
  },
  {
   "cell_type": "code",
   "execution_count": null,
   "metadata": {},
   "outputs": [
    {
     "data": {
      "text/html": [
       "<div>\n",
       "<style scoped>\n",
       "    .dataframe tbody tr th:only-of-type {\n",
       "        vertical-align: middle;\n",
       "    }\n",
       "\n",
       "    .dataframe tbody tr th {\n",
       "        vertical-align: top;\n",
       "    }\n",
       "\n",
       "    .dataframe thead th {\n",
       "        text-align: right;\n",
       "    }\n",
       "</style>\n",
       "<table border=\"1\" class=\"dataframe\">\n",
       "  <thead>\n",
       "    <tr style=\"text-align: right;\">\n",
       "      <th></th>\n",
       "      <th>prompt</th>\n",
       "      <th>completion</th>\n",
       "    </tr>\n",
       "  </thead>\n",
       "  <tbody>\n",
       "    <tr>\n",
       "      <th>0</th>\n",
       "      <td>you are an expert chemist: what is the adsorpt...</td>\n",
       "      <td>4@@@</td>\n",
       "    </tr>\n",
       "    <tr>\n",
       "      <th>1</th>\n",
       "      <td>you are an expert chemist: what is the adsorpt...</td>\n",
       "      <td>4@@@</td>\n",
       "    </tr>\n",
       "    <tr>\n",
       "      <th>2</th>\n",
       "      <td>you are an expert chemist: what is the adsorpt...</td>\n",
       "      <td>4@@@</td>\n",
       "    </tr>\n",
       "    <tr>\n",
       "      <th>3</th>\n",
       "      <td>you are an expert chemist: what is the adsorpt...</td>\n",
       "      <td>4@@@</td>\n",
       "    </tr>\n",
       "    <tr>\n",
       "      <th>4</th>\n",
       "      <td>you are an expert chemist: what is the adsorpt...</td>\n",
       "      <td>4@@@</td>\n",
       "    </tr>\n",
       "    <tr>\n",
       "      <th>...</th>\n",
       "      <td>...</td>\n",
       "      <td>...</td>\n",
       "    </tr>\n",
       "    <tr>\n",
       "      <th>3120</th>\n",
       "      <td>you are an expert chemist: what is the adsorpt...</td>\n",
       "      <td>0@@@</td>\n",
       "    </tr>\n",
       "    <tr>\n",
       "      <th>3121</th>\n",
       "      <td>you are an expert chemist: what is the adsorpt...</td>\n",
       "      <td>0@@@</td>\n",
       "    </tr>\n",
       "    <tr>\n",
       "      <th>3122</th>\n",
       "      <td>you are an expert chemist: what is the adsorpt...</td>\n",
       "      <td>0@@@</td>\n",
       "    </tr>\n",
       "    <tr>\n",
       "      <th>3123</th>\n",
       "      <td>you are an expert chemist: what is the adsorpt...</td>\n",
       "      <td>1@@@</td>\n",
       "    </tr>\n",
       "    <tr>\n",
       "      <th>3124</th>\n",
       "      <td>you are an expert chemist: what is the adsorpt...</td>\n",
       "      <td>0@@@</td>\n",
       "    </tr>\n",
       "  </tbody>\n",
       "</table>\n",
       "<p>3125 rows × 2 columns</p>\n",
       "</div>"
      ],
      "text/plain": [
       "                                                 prompt completion\n",
       "0     you are an expert chemist: what is the adsorpt...       4@@@\n",
       "1     you are an expert chemist: what is the adsorpt...       4@@@\n",
       "2     you are an expert chemist: what is the adsorpt...       4@@@\n",
       "3     you are an expert chemist: what is the adsorpt...       4@@@\n",
       "4     you are an expert chemist: what is the adsorpt...       4@@@\n",
       "...                                                 ...        ...\n",
       "3120  you are an expert chemist: what is the adsorpt...       0@@@\n",
       "3121  you are an expert chemist: what is the adsorpt...       0@@@\n",
       "3122  you are an expert chemist: what is the adsorpt...       0@@@\n",
       "3123  you are an expert chemist: what is the adsorpt...       1@@@\n",
       "3124  you are an expert chemist: what is the adsorpt...       0@@@\n",
       "\n",
       "[3125 rows x 2 columns]"
      ]
     },
     "execution_count": null,
     "metadata": {},
     "output_type": "execute_result"
    }
   ],
   "source": [
    "create_single_property_forward_prompts(\n",
    "    get_polymer_data(), \"deltaGmin_cat\", {\"deltaGmin_cat\": \"adsorption energy\"}, prompt_prefix='you are an expert chemist: '\n",
    ")\n"
   ]
  },
  {
   "cell_type": "code",
   "execution_count": null,
   "metadata": {},
   "outputs": [
    {
     "data": {
      "text/html": [
       "<div>\n",
       "<style scoped>\n",
       "    .dataframe tbody tr th:only-of-type {\n",
       "        vertical-align: middle;\n",
       "    }\n",
       "\n",
       "    .dataframe tbody tr th {\n",
       "        vertical-align: top;\n",
       "    }\n",
       "\n",
       "    .dataframe thead th {\n",
       "        text-align: right;\n",
       "    }\n",
       "</style>\n",
       "<table border=\"1\" class=\"dataframe\">\n",
       "  <thead>\n",
       "    <tr style=\"text-align: right;\">\n",
       "      <th></th>\n",
       "      <th>prompt</th>\n",
       "      <th>completion</th>\n",
       "    </tr>\n",
       "  </thead>\n",
       "  <tbody>\n",
       "    <tr>\n",
       "      <th>0</th>\n",
       "      <td>you are an expert chemist: what is the transit...</td>\n",
       "      <td>0@@@</td>\n",
       "    </tr>\n",
       "    <tr>\n",
       "      <th>1</th>\n",
       "      <td>you are an expert chemist: what is the transit...</td>\n",
       "      <td>0@@@</td>\n",
       "    </tr>\n",
       "    <tr>\n",
       "      <th>2</th>\n",
       "      <td>you are an expert chemist: what is the transit...</td>\n",
       "      <td>0@@@</td>\n",
       "    </tr>\n",
       "    <tr>\n",
       "      <th>3</th>\n",
       "      <td>you are an expert chemist: what is the transit...</td>\n",
       "      <td>0@@@</td>\n",
       "    </tr>\n",
       "    <tr>\n",
       "      <th>4</th>\n",
       "      <td>you are an expert chemist: what is the transit...</td>\n",
       "      <td>0@@@</td>\n",
       "    </tr>\n",
       "    <tr>\n",
       "      <th>...</th>\n",
       "      <td>...</td>\n",
       "      <td>...</td>\n",
       "    </tr>\n",
       "    <tr>\n",
       "      <th>387</th>\n",
       "      <td>you are an expert chemist: what is the transit...</td>\n",
       "      <td>2@@@</td>\n",
       "    </tr>\n",
       "    <tr>\n",
       "      <th>388</th>\n",
       "      <td>you are an expert chemist: what is the transit...</td>\n",
       "      <td>2@@@</td>\n",
       "    </tr>\n",
       "    <tr>\n",
       "      <th>389</th>\n",
       "      <td>you are an expert chemist: what is the transit...</td>\n",
       "      <td>3@@@</td>\n",
       "    </tr>\n",
       "    <tr>\n",
       "      <th>390</th>\n",
       "      <td>you are an expert chemist: what is the transit...</td>\n",
       "      <td>3@@@</td>\n",
       "    </tr>\n",
       "    <tr>\n",
       "      <th>391</th>\n",
       "      <td>you are an expert chemist: what is the transit...</td>\n",
       "      <td>3@@@</td>\n",
       "    </tr>\n",
       "  </tbody>\n",
       "</table>\n",
       "<p>392 rows × 2 columns</p>\n",
       "</div>"
      ],
      "text/plain": [
       "                                                prompt completion\n",
       "0    you are an expert chemist: what is the transit...       0@@@\n",
       "1    you are an expert chemist: what is the transit...       0@@@\n",
       "2    you are an expert chemist: what is the transit...       0@@@\n",
       "3    you are an expert chemist: what is the transit...       0@@@\n",
       "4    you are an expert chemist: what is the transit...       0@@@\n",
       "..                                                 ...        ...\n",
       "387  you are an expert chemist: what is the transit...       2@@@\n",
       "388  you are an expert chemist: what is the transit...       2@@@\n",
       "389  you are an expert chemist: what is the transit...       3@@@\n",
       "390  you are an expert chemist: what is the transit...       3@@@\n",
       "391  you are an expert chemist: what is the transit...       3@@@\n",
       "\n",
       "[392 rows x 2 columns]"
      ]
     },
     "execution_count": null,
     "metadata": {},
     "output_type": "execute_result"
    }
   ],
   "source": [
    "from gpt3forchem.data import get_photoswitch_data\n",
    "\n",
    "create_single_property_forward_prompts(\n",
    "    get_photoswitch_data(), \"wavelength_cat\", {\"wavelength_cat\": \"transition wavelength\"}, prompt_prefix='you are an expert chemist: ', representation_col='SMILES'\n",
    ")\n"
   ]
  },
  {
   "cell_type": "code",
   "execution_count": null,
   "metadata": {},
   "outputs": [],
   "source": [
    "# | export\n",
    "def create_single_property_forward_prompts_regression(\n",
    "    df, # input data\n",
    "    target, # target property\n",
    "    target_rename_dict, # dict to rename target property from the column name in df to the target property name in the prompt\n",
    "    prompt_prefix=\"\", # prefix to add to the prompt, e.g. \"I am an expert chemist\"\n",
    "    num_digit=1,\n",
    "):\n",
    "    prompts = []\n",
    "\n",
    "    target_name = target\n",
    "    for key, value in target_rename_dict.items():\n",
    "        target_name = target_name.replace(key, value)\n",
    "\n",
    "    for _, row in df.iterrows():\n",
    "\n",
    "        value = f\"{round(row[target], num_digit)}\"\n",
    "\n",
    "        prompts.append(\n",
    "            {\n",
    "                \"prompt\": prompt_prefix\n",
    "                + ONE_PROPERTY_FORWARD_PROMPT_TEMPLATE.format(\n",
    "                    property=target_name, text=row[\"string\"]\n",
    "                ),\n",
    "                \"completion\": ONE_PROPERTY_FORWARD_COMPLETION_TEMPLATE.format(\n",
    "                    value=value\n",
    "                ),\n",
    "            }\n",
    "        )\n",
    "\n",
    "    return pd.DataFrame(prompts)\n"
   ]
  },
  {
   "cell_type": "code",
   "execution_count": null,
   "metadata": {},
   "outputs": [
    {
     "data": {
      "text/html": [
       "<div>\n",
       "<style scoped>\n",
       "    .dataframe tbody tr th:only-of-type {\n",
       "        vertical-align: middle;\n",
       "    }\n",
       "\n",
       "    .dataframe tbody tr th {\n",
       "        vertical-align: top;\n",
       "    }\n",
       "\n",
       "    .dataframe thead th {\n",
       "        text-align: right;\n",
       "    }\n",
       "</style>\n",
       "<table border=\"1\" class=\"dataframe\">\n",
       "  <thead>\n",
       "    <tr style=\"text-align: right;\">\n",
       "      <th></th>\n",
       "      <th>prompt</th>\n",
       "      <th>completion</th>\n",
       "    </tr>\n",
       "  </thead>\n",
       "  <tbody>\n",
       "    <tr>\n",
       "      <th>0</th>\n",
       "      <td>you are an expert chemist: what is the deltaGm...</td>\n",
       "      <td>-7.5@@@</td>\n",
       "    </tr>\n",
       "    <tr>\n",
       "      <th>1</th>\n",
       "      <td>you are an expert chemist: what is the deltaGm...</td>\n",
       "      <td>-7.3@@@</td>\n",
       "    </tr>\n",
       "    <tr>\n",
       "      <th>2</th>\n",
       "      <td>you are an expert chemist: what is the deltaGm...</td>\n",
       "      <td>-6.4@@@</td>\n",
       "    </tr>\n",
       "    <tr>\n",
       "      <th>3</th>\n",
       "      <td>you are an expert chemist: what is the deltaGm...</td>\n",
       "      <td>-6.7@@@</td>\n",
       "    </tr>\n",
       "    <tr>\n",
       "      <th>4</th>\n",
       "      <td>you are an expert chemist: what is the deltaGm...</td>\n",
       "      <td>-6.6@@@</td>\n",
       "    </tr>\n",
       "    <tr>\n",
       "      <th>...</th>\n",
       "      <td>...</td>\n",
       "      <td>...</td>\n",
       "    </tr>\n",
       "    <tr>\n",
       "      <th>3120</th>\n",
       "      <td>you are an expert chemist: what is the deltaGm...</td>\n",
       "      <td>-17.0@@@</td>\n",
       "    </tr>\n",
       "    <tr>\n",
       "      <th>3121</th>\n",
       "      <td>you are an expert chemist: what is the deltaGm...</td>\n",
       "      <td>-17.1@@@</td>\n",
       "    </tr>\n",
       "    <tr>\n",
       "      <th>3122</th>\n",
       "      <td>you are an expert chemist: what is the deltaGm...</td>\n",
       "      <td>-16.4@@@</td>\n",
       "    </tr>\n",
       "    <tr>\n",
       "      <th>3123</th>\n",
       "      <td>you are an expert chemist: what is the deltaGm...</td>\n",
       "      <td>-14.7@@@</td>\n",
       "    </tr>\n",
       "    <tr>\n",
       "      <th>3124</th>\n",
       "      <td>you are an expert chemist: what is the deltaGm...</td>\n",
       "      <td>-16.9@@@</td>\n",
       "    </tr>\n",
       "  </tbody>\n",
       "</table>\n",
       "<p>3125 rows × 2 columns</p>\n",
       "</div>"
      ],
      "text/plain": [
       "                                                 prompt completion\n",
       "0     you are an expert chemist: what is the deltaGm...    -7.5@@@\n",
       "1     you are an expert chemist: what is the deltaGm...    -7.3@@@\n",
       "2     you are an expert chemist: what is the deltaGm...    -6.4@@@\n",
       "3     you are an expert chemist: what is the deltaGm...    -6.7@@@\n",
       "4     you are an expert chemist: what is the deltaGm...    -6.6@@@\n",
       "...                                                 ...        ...\n",
       "3120  you are an expert chemist: what is the deltaGm...   -17.0@@@\n",
       "3121  you are an expert chemist: what is the deltaGm...   -17.1@@@\n",
       "3122  you are an expert chemist: what is the deltaGm...   -16.4@@@\n",
       "3123  you are an expert chemist: what is the deltaGm...   -14.7@@@\n",
       "3124  you are an expert chemist: what is the deltaGm...   -16.9@@@\n",
       "\n",
       "[3125 rows x 2 columns]"
      ]
     },
     "execution_count": null,
     "metadata": {},
     "output_type": "execute_result"
    }
   ],
   "source": [
    "create_single_property_forward_prompts_regression(\n",
    "    get_polymer_data(), \"deltaGmin\", {\"deltaGmin_cat\": \"adsorption energy\"}, prompt_prefix='you are an expert chemist: '\n",
    ")\n"
   ]
  },
  {
   "cell_type": "markdown",
   "metadata": {},
   "source": [
    "## Polymers\n"
   ]
  },
  {
   "cell_type": "markdown",
   "metadata": {},
   "source": [
    "Polymer specific prompt generation methods."
   ]
  },
  {
   "cell_type": "code",
   "execution_count": null,
   "metadata": {},
   "outputs": [],
   "source": [
    "# | export\n",
    "POLYMER_ONE_PROPERTY_INVERSE_PROMPT_TEMPLATE_CAT = (\n",
    "    \"what is a polymer with {class_name} {property}?###\"\n",
    ")\n",
    "POLYMER_ONE_PROPERTY_INVERSE_COMPLETION_TEMPLATE_CAT = \" {text}@@@\"\n",
    "\n",
    "POLYMER_ONE_PROPERTY_INVERSE_PROMPT_TEMPLATE_CAT_W_COMPOSITION = \"what is a polymer with {class_name} {property} and {num_A} A, {num_B} B, {num_W} W, and {num_R} R?###\"\n"
   ]
  },
  {
   "cell_type": "code",
   "execution_count": null,
   "metadata": {},
   "outputs": [],
   "source": [
    "# | export\n",
    "def get_polymer_composition_dict(row):\n",
    "    composition = Counter(row[\"string\"].split(\"-\"))\n",
    "    comp_dict = {}\n",
    "    for key in [\"A\", \"B\", \"R\", \"W\"]:\n",
    "        try:\n",
    "            count = composition[key]\n",
    "        except KeyError:\n",
    "            count = 0\n",
    "        comp_dict[f\"num_{key}\"] = count\n",
    "    return comp_dict\n"
   ]
  },
  {
   "cell_type": "markdown",
   "metadata": {},
   "source": [
    "## Photoswitches"
   ]
  },
  {
   "cell_type": "code",
   "execution_count": null,
   "metadata": {},
   "outputs": [],
   "source": [
    "# | export \n",
    "\n",
    "PROMPT_TEMPLATE_photoswitch_w_n_pistar = \"What is a molecule with a pi-pi* transition wavelength of {} nm and n-pi* transition wavelength of {} nm###\"\n",
    "PROMPT_TEMPLATE_photoswitch_ = \"What is a molecule with a pi-pi* transition wavelength of {} nm###\"\n",
    "COMPLETION_TEMPLATE_photoswitch_ = \"{}@@@\"\n",
    "\n",
    "\n",
    "def generate_inverse_photoswitch_prompts(data: pd.DataFrame) -> pd.DataFrame:\n",
    "    prompts = []\n",
    "    completions = []\n",
    "\n",
    "    for i, row in data.iterrows():\n",
    "        if np.isnan(row[\"E isomer n-pi* wavelength in nm\"]):\n",
    "            prompt = PROMPT_TEMPLATE_photoswitch_.format(row[\"E isomer pi-pi* wavelength in nm\"])\n",
    "        else:\n",
    "            prompt = PROMPT_TEMPLATE_photoswitch_w_n_pistar.format(\n",
    "                row[\"E isomer pi-pi* wavelength in nm\"],\n",
    "                row[\"E isomer n-pi* wavelength in nm\"],\n",
    "            )\n",
    "\n",
    "        completion = COMPLETION_TEMPLATE_photoswitch_.format(row[\"SMILES\"])\n",
    "        prompts.append(prompt)\n",
    "        completions.append(completion)\n",
    "\n",
    "    prompts = pd.DataFrame({\"prompt\": prompts, \"completion\": completions})\n",
    "\n",
    "    return prompts\n"
   ]
  },
  {
   "cell_type": "code",
   "execution_count": null,
   "metadata": {},
   "outputs": [],
   "source": [
    "from gpt3forchem.data import get_photoswitch_data"
   ]
  },
  {
   "cell_type": "code",
   "execution_count": null,
   "metadata": {},
   "outputs": [],
   "source": [
    "photoswitch_data = get_photoswitch_data()"
   ]
  },
  {
   "cell_type": "code",
   "execution_count": null,
   "metadata": {},
   "outputs": [
    {
     "data": {
      "text/html": [
       "<div>\n",
       "<style scoped>\n",
       "    .dataframe tbody tr th:only-of-type {\n",
       "        vertical-align: middle;\n",
       "    }\n",
       "\n",
       "    .dataframe tbody tr th {\n",
       "        vertical-align: top;\n",
       "    }\n",
       "\n",
       "    .dataframe thead th {\n",
       "        text-align: right;\n",
       "    }\n",
       "</style>\n",
       "<table border=\"1\" class=\"dataframe\">\n",
       "  <thead>\n",
       "    <tr style=\"text-align: right;\">\n",
       "      <th></th>\n",
       "      <th>prompt</th>\n",
       "      <th>completion</th>\n",
       "    </tr>\n",
       "  </thead>\n",
       "  <tbody>\n",
       "    <tr>\n",
       "      <th>0</th>\n",
       "      <td>What is a molecule with a pi-pi* transition wa...</td>\n",
       "      <td>C[N]1C=CC(=N1)N=NC2=CC=CC=C2@@@</td>\n",
       "    </tr>\n",
       "    <tr>\n",
       "      <th>1</th>\n",
       "      <td>What is a molecule with a pi-pi* transition wa...</td>\n",
       "      <td>C[N]1C=NC(=N1)N=NC2=CC=CC=C2@@@</td>\n",
       "    </tr>\n",
       "    <tr>\n",
       "      <th>2</th>\n",
       "      <td>What is a molecule with a pi-pi* transition wa...</td>\n",
       "      <td>C[N]1C=C(C)C(=N1)N=NC2=CC=CC=C2@@@</td>\n",
       "    </tr>\n",
       "    <tr>\n",
       "      <th>3</th>\n",
       "      <td>What is a molecule with a pi-pi* transition wa...</td>\n",
       "      <td>C[N]1C=C(C=N1)N=NC2=CC=CC=C2@@@</td>\n",
       "    </tr>\n",
       "    <tr>\n",
       "      <th>4</th>\n",
       "      <td>What is a molecule with a pi-pi* transition wa...</td>\n",
       "      <td>C[N]1N=C(C)C(=C1C)N=NC2=CC=CC=C2@@@</td>\n",
       "    </tr>\n",
       "    <tr>\n",
       "      <th>...</th>\n",
       "      <td>...</td>\n",
       "      <td>...</td>\n",
       "    </tr>\n",
       "    <tr>\n",
       "      <th>385</th>\n",
       "      <td>What is a molecule with a pi-pi* transition wa...</td>\n",
       "      <td>OC%38=C%39N=CC=CC%39=C(/N=N/C%40=NC%41=CC(C)=C...</td>\n",
       "    </tr>\n",
       "    <tr>\n",
       "      <th>386</th>\n",
       "      <td>What is a molecule with a pi-pi* transition wa...</td>\n",
       "      <td>OC%42=C%43N=CC=CC%43=C(/N=N/C%44=NC%45=CC=CC=C...</td>\n",
       "    </tr>\n",
       "    <tr>\n",
       "      <th>387</th>\n",
       "      <td>What is a molecule with a pi-pi* transition wa...</td>\n",
       "      <td>N#CC1C(SC(/N=N/C2=NC(C=CC([N+]([O-])=O)=C3)=C3...</td>\n",
       "    </tr>\n",
       "    <tr>\n",
       "      <th>388</th>\n",
       "      <td>What is a molecule with a pi-pi* transition wa...</td>\n",
       "      <td>N#Cc5c(c6ccc(Cl)cc6)c(/N=N/C7=NC(C=CC([N+]([O-...</td>\n",
       "    </tr>\n",
       "    <tr>\n",
       "      <th>389</th>\n",
       "      <td>What is a molecule with a pi-pi* transition wa...</td>\n",
       "      <td>N#CC9C(SC(/N=N/C%10=NC(C=CC([N+]([O-])=O)=C%11...</td>\n",
       "    </tr>\n",
       "  </tbody>\n",
       "</table>\n",
       "<p>390 rows × 2 columns</p>\n",
       "</div>"
      ],
      "text/plain": [
       "                                                prompt  \\\n",
       "0    What is a molecule with a pi-pi* transition wa...   \n",
       "1    What is a molecule with a pi-pi* transition wa...   \n",
       "2    What is a molecule with a pi-pi* transition wa...   \n",
       "3    What is a molecule with a pi-pi* transition wa...   \n",
       "4    What is a molecule with a pi-pi* transition wa...   \n",
       "..                                                 ...   \n",
       "385  What is a molecule with a pi-pi* transition wa...   \n",
       "386  What is a molecule with a pi-pi* transition wa...   \n",
       "387  What is a molecule with a pi-pi* transition wa...   \n",
       "388  What is a molecule with a pi-pi* transition wa...   \n",
       "389  What is a molecule with a pi-pi* transition wa...   \n",
       "\n",
       "                                            completion  \n",
       "0                      C[N]1C=CC(=N1)N=NC2=CC=CC=C2@@@  \n",
       "1                      C[N]1C=NC(=N1)N=NC2=CC=CC=C2@@@  \n",
       "2                   C[N]1C=C(C)C(=N1)N=NC2=CC=CC=C2@@@  \n",
       "3                      C[N]1C=C(C=N1)N=NC2=CC=CC=C2@@@  \n",
       "4                  C[N]1N=C(C)C(=C1C)N=NC2=CC=CC=C2@@@  \n",
       "..                                                 ...  \n",
       "385  OC%38=C%39N=CC=CC%39=C(/N=N/C%40=NC%41=CC(C)=C...  \n",
       "386  OC%42=C%43N=CC=CC%43=C(/N=N/C%44=NC%45=CC=CC=C...  \n",
       "387  N#CC1C(SC(/N=N/C2=NC(C=CC([N+]([O-])=O)=C3)=C3...  \n",
       "388  N#Cc5c(c6ccc(Cl)cc6)c(/N=N/C7=NC(C=CC([N+]([O-...  \n",
       "389  N#CC9C(SC(/N=N/C%10=NC(C=CC([N+]([O-])=O)=C%11...  \n",
       "\n",
       "[390 rows x 2 columns]"
      ]
     },
     "execution_count": null,
     "metadata": {},
     "output_type": "execute_result"
    }
   ],
   "source": [
    "generate_inverse_photoswitch_prompts(photoswitch_data)"
   ]
  },
  {
   "cell_type": "markdown",
   "metadata": {},
   "source": [
    "## MOFs"
   ]
  },
  {
   "cell_type": "code",
   "execution_count": null,
   "metadata": {},
   "outputs": [],
   "source": [
    "from gpt3forchem.data import get_mof_data\n",
    "import pandas as pd\n",
    "from sklearn.model_selection import train_test_split\n",
    "from typing import List"
   ]
  },
  {
   "cell_type": "code",
   "execution_count": null,
   "metadata": {},
   "outputs": [
    {
     "name": "stderr",
     "output_type": "stream",
     "text": [
      "/Users/kevinmaikjablonka/git/kjappelbaum/gpt3forchem/gpt3forchem/data.py:55: DtypeWarning: Columns (23,24,25,26,27,35,36,37,38,39,47,48,49,50,51) have mixed types. Specify dtype option on import or set low_memory=False.\n",
      "  return pd.read_csv(os.path.join(datadir, \"mof.csv\"))\n"
     ]
    }
   ],
   "source": [
    "data = get_mof_data()"
   ]
  },
  {
   "cell_type": "code",
   "execution_count": null,
   "metadata": {},
   "outputs": [],
   "source": [
    "outputs = [c for c in data.columns if \"output\" in c]"
   ]
  },
  {
   "cell_type": "code",
   "execution_count": null,
   "metadata": {},
   "outputs": [
    {
     "data": {
      "text/plain": [
       "170"
      ]
     },
     "execution_count": null,
     "metadata": {},
     "output_type": "execute_result"
    }
   ],
   "source": [
    "len(data) - data['outputs.CO2-henry_coefficient-mol--kg--Pa'].isna().sum()"
   ]
  },
  {
   "cell_type": "code",
   "execution_count": null,
   "metadata": {},
   "outputs": [
    {
     "data": {
      "text/plain": [
       "153"
      ]
     },
     "execution_count": null,
     "metadata": {},
     "output_type": "execute_result"
    }
   ],
   "source": [
    "len(data) - data['outputs.H2O-henry_coefficient-mol--kg--Pa'].isna().sum()"
   ]
  },
  {
   "cell_type": "code",
   "execution_count": null,
   "metadata": {},
   "outputs": [
    {
     "data": {
      "text/plain": [
       "141"
      ]
     },
     "execution_count": null,
     "metadata": {},
     "output_type": "execute_result"
    }
   ],
   "source": [
    "len(data) - data['outputs.N2-henry_coefficient-mol--kg--Pa'].isna().sum()"
   ]
  },
  {
   "cell_type": "markdown",
   "metadata": {},
   "source": [
    "Perhaps, let's create a long frame with all the gases."
   ]
  },
  {
   "cell_type": "code",
   "execution_count": null,
   "metadata": {},
   "outputs": [],
   "source": [
    "MOF_REPRESENTATIONS = [\n",
    "   'info.mofid.mofid_clean',\n",
    "   'chemical_name',\n",
    "   'info.qmof_id'\n",
    "]"
   ]
  },
  {
   "cell_type": "code",
   "execution_count": null,
   "metadata": {},
   "outputs": [],
   "source": [
    "MOF_OUTPUTS = [\n",
    "    \"outputs.Xe-henry_coefficient-mol--kg--Pa\",\n",
    "    \"outputs.Kr-henry_coefficient-mol--kg--Pa\",\n",
    "    \"outputs.H2S-henry_coefficient-mol--kg--Pa\",\n",
    "    \"outputs.H2O-henry_coefficient-mol--kg--Pa\",\n",
    "    \"outputs.O2-henry_coefficient-mol--kg--Pa\",\n",
    "    \"outputs.CH4-henry_coefficient-mol--kg--Pa\",\n",
    "    \"outputs.CO2-henry_coefficient-mol--kg--Pa\",\n",
    "    \"outputs.N2-henry_coefficient-mol--kg--Pa\",\n",
    "    \"outputs.pbe.bandgap\",\n",
    "]\n"
   ]
  },
  {
   "cell_type": "code",
   "execution_count": null,
   "metadata": {},
   "outputs": [
    {
     "ename": "NameError",
     "evalue": "name '_DEFAULT_ENCODING_DICT' is not defined",
     "output_type": "error",
     "traceback": [
      "\u001b[0;31m---------------------------------------------------------------------------\u001b[0m",
      "\u001b[0;31mNameError\u001b[0m                                 Traceback (most recent call last)",
      "\u001b[1;32m/Users/kevinmaikjablonka/git/kjappelbaum/gpt3forchem/notebooks/03_input.ipynb Cell 31\u001b[0m in \u001b[0;36m<cell line: 6>\u001b[0;34m()\u001b[0m\n\u001b[1;32m      <a href='vscode-notebook-cell:/Users/kevinmaikjablonka/git/kjappelbaum/gpt3forchem/notebooks/03_input.ipynb#ch0000043?line=0'>1</a>\u001b[0m \u001b[39m# | export\u001b[39;00m\n\u001b[1;32m      <a href='vscode-notebook-cell:/Users/kevinmaikjablonka/git/kjappelbaum/gpt3forchem/notebooks/03_input.ipynb#ch0000043?line=1'>2</a>\u001b[0m \u001b[39mdef\u001b[39;00m \u001b[39mcreate_single_property_forward_prompts_multiple_targets\u001b[39m(\n\u001b[1;32m      <a href='vscode-notebook-cell:/Users/kevinmaikjablonka/git/kjappelbaum/gpt3forchem/notebooks/03_input.ipynb#ch0000043?line=2'>3</a>\u001b[0m     df: pd\u001b[39m.\u001b[39mDataFrame, \u001b[39m# input data\u001b[39;00m\n\u001b[1;32m      <a href='vscode-notebook-cell:/Users/kevinmaikjablonka/git/kjappelbaum/gpt3forchem/notebooks/03_input.ipynb#ch0000043?line=3'>4</a>\u001b[0m     targets: List[\u001b[39mstr\u001b[39m], \u001b[39m# target property\u001b[39;00m\n\u001b[1;32m      <a href='vscode-notebook-cell:/Users/kevinmaikjablonka/git/kjappelbaum/gpt3forchem/notebooks/03_input.ipynb#ch0000043?line=4'>5</a>\u001b[0m     target_rename_dict: \u001b[39mdict\u001b[39m, \u001b[39m# dict to rename target property from the column name in df to the target property name in the prompt\u001b[39;00m\n\u001b[1;32m      <a href='vscode-notebook-cell:/Users/kevinmaikjablonka/git/kjappelbaum/gpt3forchem/notebooks/03_input.ipynb#ch0000043?line=5'>6</a>\u001b[0m     encode_value: \u001b[39mbool\u001b[39m\u001b[39m=\u001b[39m\u001b[39mTrue\u001b[39;00m, \u001b[39m# whether to encode the value of the target property categorically\u001b[39;00m\n\u001b[0;32m----> <a href='vscode-notebook-cell:/Users/kevinmaikjablonka/git/kjappelbaum/gpt3forchem/notebooks/03_input.ipynb#ch0000043?line=6'>7</a>\u001b[0m     encoding_dict: \u001b[39mdict\u001b[39m\u001b[39m=\u001b[39m_DEFAULT_ENCODING_DICT, \u001b[39m# mapping from numerical categories to string\u001b[39;00m\n\u001b[1;32m      <a href='vscode-notebook-cell:/Users/kevinmaikjablonka/git/kjappelbaum/gpt3forchem/notebooks/03_input.ipynb#ch0000043?line=7'>8</a>\u001b[0m     prompt_prefix: \u001b[39mstr\u001b[39m\u001b[39m=\u001b[39m\u001b[39m\"\u001b[39m\u001b[39m\"\u001b[39m, \u001b[39m# prefix to add to the prompt, e.g. \"I am an expert chemist\"\u001b[39;00m\n\u001b[1;32m      <a href='vscode-notebook-cell:/Users/kevinmaikjablonka/git/kjappelbaum/gpt3forchem/notebooks/03_input.ipynb#ch0000043?line=8'>9</a>\u001b[0m     representation_col: \u001b[39mstr\u001b[39m \u001b[39m=\u001b[39m \u001b[39m'\u001b[39m\u001b[39mstring\u001b[39m\u001b[39m'\u001b[39m \u001b[39m# name of the column to use as the representation of the compound\u001b[39;00m\n\u001b[1;32m     <a href='vscode-notebook-cell:/Users/kevinmaikjablonka/git/kjappelbaum/gpt3forchem/notebooks/03_input.ipynb#ch0000043?line=9'>10</a>\u001b[0m ):\n\u001b[1;32m     <a href='vscode-notebook-cell:/Users/kevinmaikjablonka/git/kjappelbaum/gpt3forchem/notebooks/03_input.ipynb#ch0000043?line=10'>11</a>\u001b[0m     prompts \u001b[39m=\u001b[39m []\n\u001b[1;32m     <a href='vscode-notebook-cell:/Users/kevinmaikjablonka/git/kjappelbaum/gpt3forchem/notebooks/03_input.ipynb#ch0000043?line=12'>13</a>\u001b[0m     \u001b[39mfor\u001b[39;00m target \u001b[39min\u001b[39;00m targets:\n",
      "\u001b[0;31mNameError\u001b[0m: name '_DEFAULT_ENCODING_DICT' is not defined"
     ]
    }
   ],
   "source": [
    "# | export\n",
    "def create_single_property_forward_prompts_multiple_targets(\n",
    "    df: pd.DataFrame, # input data\n",
    "    targets: List[str], # target property\n",
    "    target_rename_dict: dict, # dict to rename target property from the column name in df to the target property name in the prompt\n",
    "    encode_value: bool=True, # whether to encode the value of the target property categorically\n",
    "    encoding_dict: dict=_DEFAULT_ENCODING_DICT, # mapping from numerical categories to string\n",
    "    prompt_prefix: str=\"\", # prefix to add to the prompt, e.g. \"I am an expert chemist\"\n",
    "    representation_col: str = 'string' # name of the column to use as the representation of the compound\n",
    "):\n",
    "    prompts = []\n",
    "\n",
    "    for target in targets:\n",
    "        target_name = target\n",
    "        for key, value in target_rename_dict.items():\n",
    "            target_name = target_name.replace(key, value)\n",
    "\n",
    "        for _, row in df.iterrows():\n",
    "            if encode_value:\n",
    "                value = encode_categorical_value(row[target], encoding_dict=encoding_dict)\n",
    "            else:\n",
    "                value = row[target]\n",
    "\n",
    "            prompts.append(\n",
    "                {\n",
    "                    \"prompt\": prompt_prefix\n",
    "                    + ONE_PROPERTY_FORWARD_PROMPT_TEMPLATE.format(\n",
    "                        property=target_name, text=row[representation_col]\n",
    "                    ),\n",
    "                    \"completion\": ONE_PROPERTY_FORWARD_COMPLETION_TEMPLATE.format(\n",
    "                        value=value\n",
    "                    ),\n",
    "                }\n",
    "            )\n",
    "\n",
    "    return pd.DataFrame(prompts)\n"
   ]
  },
  {
   "cell_type": "code",
   "execution_count": null,
   "metadata": {},
   "outputs": [],
   "source": []
  }
 ],
 "metadata": {
  "kernelspec": {
   "display_name": "Python 3.9.13 ('gpt3')",
   "language": "python",
   "name": "python3"
  }
 },
 "nbformat": 4,
 "nbformat_minor": 4
}
