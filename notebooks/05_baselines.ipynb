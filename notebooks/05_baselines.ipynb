{
 "cells": [
  {
   "cell_type": "code",
   "execution_count": null,
   "metadata": {},
   "outputs": [],
   "source": [
    "# | default_exp baselines\n"
   ]
  },
  {
   "cell_type": "code",
   "execution_count": null,
   "metadata": {},
   "outputs": [
    {
     "name": "stderr",
     "output_type": "stream",
     "text": [
      "/Users/kevinmaikjablonka/miniconda3/envs/gpt3/lib/python3.9/site-packages/tqdm/auto.py:22: TqdmWarning: IProgress not found. Please update jupyter and ipywidgets. See https://ipywidgets.readthedocs.io/en/stable/user_install.html\n",
      "  from .autonotebook import tqdm as notebook_tqdm\n"
     ]
    }
   ],
   "source": [
    "# |export\n",
    "from abc import ABC, abstractmethod\n",
    "from typing import Iterable\n",
    "\n",
    "import gpflow\n",
    "import numpy as np\n",
    "import tensorflow as tf\n",
    "from gpflow.mean_functions import Constant\n",
    "from gpflow.utilities import positive, print_summary\n",
    "from gpflow.utilities.ops import broadcasting_elementwise\n",
    "from nbdev.showdoc import *\n",
    "from optuna import create_study\n",
    "from optuna.integration import XGBoostPruningCallback\n",
    "from optuna.samplers import TPESampler\n",
    "from rdkit.Chem import AllChem, Descriptors, MolFromSmiles, MolToSmiles\n",
    "from sklearn.metrics import accuracy_score, f1_score, mean_squared_error\n",
    "from sklearn.model_selection import KFold\n",
    "from sklearn.preprocessing import LabelEncoder, StandardScaler\n",
    "from wandb.xgboost import WandbCallback\n",
    "from xgboost import XGBClassifier, XGBRegressor"
   ]
  },
  {
   "cell_type": "markdown",
   "metadata": {},
   "source": [
    "# Baselines\n",
    "\n",
    "> Code for baseline models.\n"
   ]
  },
  {
   "cell_type": "code",
   "execution_count": null,
   "metadata": {},
   "outputs": [],
   "source": [
    "# |export\n",
    "\n",
    "\n",
    "class BaseLineModel(ABC):\n",
    "    @abstractmethod\n",
    "    def tune(self, X_train, y_train):\n",
    "        raise NotImplementedError()\n",
    "\n",
    "    @abstractmethod\n",
    "    def fit(self, X_train, y_train):\n",
    "        raise NotImplementedError()\n",
    "\n",
    "    @abstractmethod\n",
    "    def predict(self, X):\n",
    "        raise\n"
   ]
  },
  {
   "cell_type": "code",
   "execution_count": null,
   "metadata": {},
   "outputs": [],
   "source": [
    "# |export\n",
    "\n",
    "\n",
    "class XGBClassificationBaseline(BaseLineModel):\n",
    "    def __init__(self, seed, num_trials=100) -> None:\n",
    "        self.seed = seed\n",
    "        self.num_trials = num_trials\n",
    "        self.model = XGBClassifier()\n",
    "\n",
    "        self.label_encoder = LabelEncoder()\n",
    "\n",
    "    def tune(self, X_train, y_train):\n",
    "        y_train = self.label_encoder.fit_transform(y_train)\n",
    "\n",
    "        def objective(\n",
    "            trial,\n",
    "            X,\n",
    "            y,\n",
    "            random_state=22,\n",
    "            n_splits=3,\n",
    "            n_jobs=1,\n",
    "            early_stopping_rounds=100,\n",
    "        ):\n",
    "            # XGBoost parameters\n",
    "            params = {\n",
    "                \"verbosity\": 0,  # 0 (silent) - 3 (debug)\n",
    "                \"n_estimators\": trial.suggest_int(\"n_estimators\", 4, 10_000),\n",
    "                \"max_depth\": trial.suggest_int(\"max_depth\", 4, 100),\n",
    "                \"learning_rate\": trial.suggest_loguniform(\"learning_rate\", 0.001, 0.05),\n",
    "                \"colsample_bytree\": trial.suggest_loguniform(\n",
    "                    \"colsample_bytree\", 0.2, 1\n",
    "                ),\n",
    "                \"subsample\": trial.suggest_loguniform(\"subsample\", 0.00001, 1),\n",
    "                \"alpha\": trial.suggest_loguniform(\"alpha\", 1e-8, 10.0),\n",
    "                \"lambda\": trial.suggest_loguniform(\"lambda\", 1e-8, 10.0),\n",
    "                \"seed\": random_state,\n",
    "                \"n_jobs\": n_jobs,\n",
    "            }\n",
    "\n",
    "            model = XGBClassifier(**params)\n",
    "            pruning_callback = XGBoostPruningCallback(trial, \"validation_0-mlogloss\")\n",
    "            kf = KFold(n_splits=n_splits)\n",
    "            X_values = X.values\n",
    "            y_values = y\n",
    "\n",
    "            scores = []\n",
    "            for train_index, test_index in kf.split(X_values):\n",
    "                X_A, X_B = X_values[train_index, :], X_values[test_index, :]\n",
    "                y_A, y_B = y_values[train_index], y_values[test_index]\n",
    "\n",
    "                model.fit(\n",
    "                    X_A,\n",
    "                    y_A,\n",
    "                    eval_set=[(X_B, y_B)],\n",
    "                    eval_metric=\"mlogloss\",\n",
    "                    verbose=0,\n",
    "                    callbacks=[pruning_callback],\n",
    "                    early_stopping_rounds=early_stopping_rounds,\n",
    "                )\n",
    "                y_pred = model.predict(X_B)\n",
    "                scores.append(f1_score(y_pred, y_B, average=\"macro\"))\n",
    "            return np.mean(scores)\n",
    "\n",
    "        sampler = TPESampler(seed=self.seed)\n",
    "        study = create_study(direction=\"maximize\", sampler=sampler)\n",
    "        study.optimize(\n",
    "            lambda trial: objective(\n",
    "                trial,\n",
    "                X_train,\n",
    "                y_train,\n",
    "                random_state=self.seed,\n",
    "                n_splits=5,\n",
    "                n_jobs=-1,\n",
    "                early_stopping_rounds=100,\n",
    "            ),\n",
    "            n_trials=self.num_trials,\n",
    "            n_jobs=1,\n",
    "        )\n",
    "\n",
    "        self.model = XGBClassifier(**study.best_params, callbacks=[WandbCallback()])\n",
    "\n",
    "    def fit(self, X_train, y_train):\n",
    "        y_train = self.label_encoder.fit_transform(y_train)\n",
    "        self.model.fit(X_train, y_train)\n",
    "\n",
    "    def predict(self, X):\n",
    "        return self.label_encoder.inverse_transform(self.model.predict(X))\n"
   ]
  },
  {
   "cell_type": "code",
   "execution_count": null,
   "metadata": {},
   "outputs": [],
   "source": [
    "# |export\n",
    "class XGBRegressionBaseline(BaseLineModel):\n",
    "    def __init__(self, seed, num_trials=100) -> None:\n",
    "        self.seed = seed\n",
    "        self.num_trials = num_trials\n",
    "        self.model = XGBRegressor()\n",
    "\n",
    "    def tune(self, X_train, y_train):\n",
    "        def objective(\n",
    "            trial,\n",
    "            X,\n",
    "            y,\n",
    "            random_state=22,\n",
    "            n_splits=3,\n",
    "            n_jobs=1,\n",
    "            early_stopping_rounds=50,\n",
    "        ):\n",
    "            # XGBoost parameters\n",
    "            params = {\n",
    "                \"verbosity\": 0,  # 0 (silent) - 3 (debug)\n",
    "                \"objective\": \"reg:squarederror\",\n",
    "                \"n_estimators\": 10000,\n",
    "                \"max_depth\": trial.suggest_int(\"max_depth\", 4, 12),\n",
    "                \"learning_rate\": trial.suggest_loguniform(\"learning_rate\", 0.005, 0.05),\n",
    "                \"colsample_bytree\": trial.suggest_loguniform(\n",
    "                    \"colsample_bytree\", 0.2, 0.6\n",
    "                ),\n",
    "                \"subsample\": trial.suggest_loguniform(\"subsample\", 0.4, 0.8),\n",
    "                \"alpha\": trial.suggest_loguniform(\"alpha\", 0.01, 10.0),\n",
    "                \"lambda\": trial.suggest_loguniform(\"lambda\", 1e-8, 10.0),\n",
    "                \"gamma\": trial.suggest_loguniform(\"lambda\", 1e-8, 10.0),\n",
    "                \"min_child_weight\": trial.suggest_loguniform(\n",
    "                    \"min_child_weight\", 10, 1000\n",
    "                ),\n",
    "                \"seed\": random_state,\n",
    "                \"n_jobs\": n_jobs,\n",
    "            }\n",
    "\n",
    "            model = XGBRegressor(**params)\n",
    "            pruning_callback = XGBoostPruningCallback(trial, \"validation_0-rmse\")\n",
    "            kf = KFold(n_splits=n_splits)\n",
    "            X_values = X.values\n",
    "            y_values = y.values\n",
    "            scores = []\n",
    "            for train_index, test_index in kf.split(X_values):\n",
    "                X_A, X_B = X_values[train_index, :], X_values[test_index, :]\n",
    "                y_A, y_B = y_values[train_index], y_values[test_index]\n",
    "                model.fit(\n",
    "                    X_A,\n",
    "                    y_A,\n",
    "                    eval_set=[(X_B, y_B)],\n",
    "                    eval_metric=\"rmse\",\n",
    "                    verbose=0,\n",
    "                    callbacks=[pruning_callback],\n",
    "                    early_stopping_rounds=early_stopping_rounds,\n",
    "                )\n",
    "                y_pred = model.predict(X_B)\n",
    "                scores.append(mean_squared_error(y_pred, y_B))\n",
    "            return np.mean(scores)\n",
    "\n",
    "        sampler = TPESampler(seed=self.seed)\n",
    "        study = create_study(direction=\"minimize\", sampler=sampler)\n",
    "        study.optimize(\n",
    "            lambda trial: objective(\n",
    "                trial,\n",
    "                X_train,\n",
    "                y_train,\n",
    "                random_state=self.seed,\n",
    "                n_splits=5,\n",
    "                n_jobs=8,\n",
    "                early_stopping_rounds=100,\n",
    "            ),\n",
    "            n_trials=self.num_trials,\n",
    "            n_jobs=1,\n",
    "        )\n",
    "\n",
    "        self.model = XGBRegressor(**study.best_params)\n",
    "\n",
    "    def fit(self, X_train, y_train):\n",
    "        self.model.fit(X_train, y_train)\n",
    "\n",
    "    def predict(self, X):\n",
    "        return self.model.predict(X)\n"
   ]
  },
  {
   "cell_type": "markdown",
   "metadata": {},
   "source": [
    "## Photoswitch\n",
    "\n",
    "> Code specific for the photoswitch test case\n"
   ]
  },
  {
   "cell_type": "markdown",
   "metadata": {},
   "source": [
    "For the photoswitch datataset, we'll use a GPR on the \"fragprint\" representation using a Tanimoto kernel (as in [the original implementation](https://github.com/Ryan-Rhys/The-Photoswitch-Dataset/blob/master/property_prediction/predict_with_GPR.py))\n"
   ]
  },
  {
   "cell_type": "code",
   "execution_count": null,
   "metadata": {},
   "outputs": [],
   "source": [
    "# |export\n",
    "\n",
    "\n",
    "\n",
    "class Tanimoto(gpflow.kernels.Kernel):\n",
    "    \"\"\"Tanimoto kernel.\n",
    "\n",
    "    Taken from https://github.com/Ryan-Rhys/The-Photoswitch-Dataset/blob/master/property_prediction/kernels.py.\n",
    "    \"\"\"\n",
    "\n",
    "    def __init__(self, **kwargs):\n",
    "        \"\"\"\n",
    "        :param kwargs: accepts `name` and `active_dims`, which is a list or\n",
    "            slice of indices which controls which columns of X are used (by\n",
    "            default, all columns are used).\n",
    "        \"\"\"\n",
    "        for kwarg in kwargs:\n",
    "            if kwarg not in {\"name\", \"active_dims\"}:\n",
    "                raise TypeError(\"Unknown keyword argument:\", kwarg)\n",
    "        super().__init__(**kwargs)\n",
    "        self.variance = gpflow.Parameter(1.0, transform=positive())\n",
    "\n",
    "    def K(self, X, X2=None):\n",
    "        \"\"\"\n",
    "        Compute the Tanimoto kernel matrix σ² * ((<x, y>) / (||x||^2 + ||y||^2 - <x, y>))\n",
    "        :param X: N x D array\n",
    "        :param X2: M x D array. If None, compute the N x N kernel matrix for X.\n",
    "        :return: The kernel matrix of dimension N x M\n",
    "        \"\"\"\n",
    "        if X2 is None:\n",
    "            X2 = X\n",
    "\n",
    "        Xs = tf.reduce_sum(tf.square(X), axis=-1)  # Squared L2-norm of X\n",
    "        X2s = tf.reduce_sum(tf.square(X2), axis=-1)  # Squared L2-norm of X2\n",
    "        cross_product = tf.tensordot(\n",
    "            X, X2, [[-1], [-1]]\n",
    "        )  # outer product of the matrices X and X2\n",
    "\n",
    "        # Analogue of denominator in Tanimoto formula\n",
    "\n",
    "        denominator = -cross_product + broadcasting_elementwise(tf.add, Xs, X2s)\n",
    "\n",
    "        return self.variance * cross_product / denominator\n",
    "\n",
    "    def K_diag(self, X):\n",
    "        \"\"\"\n",
    "        Compute the diagonal of the N x N kernel matrix of X\n",
    "        :param X: N x D array\n",
    "        :return: N x 1 array\n",
    "        \"\"\"\n",
    "        return tf.fill(tf.shape(X)[:-1], tf.squeeze(self.variance))\n"
   ]
  },
  {
   "cell_type": "code",
   "execution_count": null,
   "metadata": {},
   "outputs": [],
   "source": [
    "# |export\n",
    "\n",
    "\n",
    "def compute_fragprints(\n",
    "    smiles_list: Iterable[str] # list of SMILEs\n",
    ") -> np.ndarray:\n",
    "    rdkit_mols = [MolFromSmiles(smiles) for smiles in smiles_list]\n",
    "    rdkit_smiles = [MolToSmiles(mol, isomericSmiles=False) for mol in rdkit_mols]\n",
    "    rdkit_mols = [MolFromSmiles(smiles) for smiles in rdkit_smiles]\n",
    "    X = [\n",
    "        AllChem.GetMorganFingerprintAsBitVect(mol, 3, nBits=2048)\n",
    "        for mol in rdkit_mols\n",
    "    ]\n",
    "    X = np.asarray(X)\n",
    "\n",
    "    fragments = {d[0]: d[1] for d in Descriptors.descList[115:]}\n",
    "    X1 = np.zeros((len(smiles_list), len(fragments)))\n",
    "    for i in range(len(smiles_list)):\n",
    "        mol = MolFromSmiles(smiles_list[i])\n",
    "        try:\n",
    "            features = [fragments[d](mol) for d in fragments]\n",
    "        except:\n",
    "            raise Exception(\"molecule {}\".format(i) + \" is not canonicalised\")\n",
    "        X1[i, :] = features\n",
    "\n",
    "    X = np.concatenate((X, X1), axis=1)\n",
    "    return X"
   ]
  },
  {
   "cell_type": "code",
   "execution_count": null,
   "metadata": {},
   "outputs": [],
   "source": [
    "# |export\n",
    "\n",
    "class GPRBaseline(BaseLineModel):\n",
    "    \"\"\"GPR w/ Tanimoto kernel baseline.\"\"\"\n",
    "    def __init__(self) -> None:\n",
    "        self.model = None\n",
    "        self.y_scaler = StandardScaler()\n",
    "\n",
    "    def tune(\n",
    "        self,\n",
    "        X_train: np.ndarray, # N x D features\n",
    "        y_train: np.ndarray  # N x 1 target\n",
    "    ):\n",
    "        pass\n",
    "\n",
    "    def fit(\n",
    "        self,\n",
    "        X_train: np.ndarray, # N x D features\n",
    "        y_train: np.ndarray  # N x 1 target\n",
    "    ):\n",
    "        y_train = y_train.reshape(-1, 1)\n",
    "\n",
    "        def objective_closure():\n",
    "            return -m.log_marginal_likelihood()\n",
    "\n",
    "        y_train = self.y_scaler.fit_transform(y_train)\n",
    "\n",
    "        m = gpflow.models.GPR(\n",
    "            data=(X_train, y_train),\n",
    "            mean_function=Constant(np.mean(y_train)),\n",
    "            kernel=Tanimoto(),\n",
    "            noise_variance=1,\n",
    "        )\n",
    "\n",
    "        # Optimise the kernel variance and noise level by the marginal likelihood\n",
    "        opt = gpflow.optimizers.Scipy()\n",
    "        opt.minimize(\n",
    "            objective_closure, m.trainable_variables, options=dict(maxiter=10000)\n",
    "        )\n",
    "        print_summary(m)\n",
    "        self.model = m\n",
    "\n",
    "    def predict(\n",
    "            self, \n",
    "            X_test: np.ndarray # N x D features\n",
    "        ):  \n",
    "        y_pred, y_var = self.model.predict_f(X_test)\n",
    "        y_pred = self.y_scaler.inverse_transform(y_pred)\n",
    "        return y_pred\n"
   ]
  },
  {
   "cell_type": "code",
   "execution_count": null,
   "metadata": {},
   "outputs": [],
   "source": [
    "from sklearn.model_selection import train_test_split\n",
    "from gpt3forchem.data import get_photoswitch_data\n",
    "from sklearn.metrics import r2_score"
   ]
  },
  {
   "cell_type": "markdown",
   "metadata": {},
   "source": [
    "Let's create some data using \"fragprint\" features"
   ]
  },
  {
   "cell_type": "code",
   "execution_count": null,
   "metadata": {},
   "outputs": [],
   "source": [
    "df = get_photoswitch_data()\n",
    "smiles_list = df['SMILES'].values\n",
    "y = df['E isomer pi-pi* wavelength in nm'].values\n",
    "X = compute_fragprints(smiles_list)"
   ]
  },
  {
   "cell_type": "markdown",
   "metadata": {},
   "source": [
    "Get a random train/test split. In the original work they use a random, unstratified split in 80/20 ratio."
   ]
  },
  {
   "cell_type": "code",
   "execution_count": null,
   "metadata": {},
   "outputs": [],
   "source": [
    "X_train, X_test, y_train, y_test = train_test_split(X, y, test_size=0.2, random_state=42)"
   ]
  },
  {
   "cell_type": "markdown",
   "metadata": {},
   "source": [
    "Now, let's run the baseline"
   ]
  },
  {
   "cell_type": "code",
   "execution_count": null,
   "metadata": {},
   "outputs": [
    {
     "name": "stderr",
     "output_type": "stream",
     "text": [
      "/Users/kevinmaikjablonka/miniconda3/envs/gpt3/lib/python3.9/site-packages/gpflow/experimental/utils.py:42: UserWarning: You're calling gpflow.experimental.check_shapes.checker.ShapeChecker.__init__ which is considered *experimental*. Expect: breaking changes, poor documentation, and bugs.\n",
      "  warn(\n",
      "2022-08-31 13:11:44.145813: W tensorflow/core/platform/profile_utils/cpu_utils.cc:128] Failed to get CPU frequency: 0 Hz\n"
     ]
    },
    {
     "name": "stdout",
     "output_type": "stream",
     "text": [
      "╒═════════════════════════╤═══════════╤══════════════════╤═════════╤═════════════╤═════════╤═════════╤══════════╕\n",
      "│ name                    │ class     │ transform        │ prior   │ trainable   │ shape   │ dtype   │    value │\n",
      "╞═════════════════════════╪═══════════╪══════════════════╪═════════╪═════════════╪═════════╪═════════╪══════════╡\n",
      "│ GPR.mean_function.c     │ Parameter │ Identity         │         │ True        │ ()      │ float64 │ -0.0388  │\n",
      "├─────────────────────────┼───────────┼──────────────────┼─────────┼─────────────┼─────────┼─────────┼──────────┤\n",
      "│ GPR.kernel.variance     │ Parameter │ Softplus         │         │ True        │ ()      │ float64 │ 41.8636  │\n",
      "├─────────────────────────┼───────────┼──────────────────┼─────────┼─────────────┼─────────┼─────────┼──────────┤\n",
      "│ GPR.likelihood.variance │ Parameter │ Softplus + Shift │         │ True        │ ()      │ float64 │  0.02649 │\n",
      "╘═════════════════════════╧═══════════╧══════════════════╧═════════╧═════════════╧═════════╧═════════╧══════════╛\n"
     ]
    }
   ],
   "source": [
    "baseline = GPRBaseline()\n",
    "baseline.fit(X_train, y_train)"
   ]
  },
  {
   "cell_type": "code",
   "execution_count": null,
   "metadata": {},
   "outputs": [],
   "source": [
    "predictions = baseline.predict(X_test)"
   ]
  },
  {
   "cell_type": "code",
   "execution_count": null,
   "metadata": {},
   "outputs": [
    {
     "data": {
      "text/plain": [
       "0.9207905563562994"
      ]
     },
     "execution_count": null,
     "metadata": {},
     "output_type": "execute_result"
    }
   ],
   "source": [
    "r2_score(y_test, predictions)"
   ]
  },
  {
   "cell_type": "markdown",
   "metadata": {},
   "source": [
    "This seems quite comparable to the results from the original paper (0.9 stated in the [README](https://github.com/Ryan-Rhys/The-Photoswitch-Dataset))."
   ]
  }
 ],
 "metadata": {
  "kernelspec": {
   "display_name": "Python 3.9.13 ('gpt3')",
   "language": "python",
   "name": "python3"
  }
 },
 "nbformat": 4,
 "nbformat_minor": 4
}
