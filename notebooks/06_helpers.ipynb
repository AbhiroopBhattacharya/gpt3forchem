{
 "cells": [
  {
   "cell_type": "code",
   "execution_count": null,
   "metadata": {},
   "outputs": [],
   "source": [
    "#|default_exp helpers"
   ]
  },
  {
   "cell_type": "code",
   "execution_count": null,
   "metadata": {},
   "outputs": [],
   "source": [
    "#| export \n",
    "\n",
    "from hashlib import sha256\n",
    "from pandas.util import hash_pandas_object\n",
    "from functools import lru_cache\n",
    "import pandas as pd\n",
    "import numpy as np"
   ]
  },
  {
   "cell_type": "code",
   "execution_count": null,
   "metadata": {},
   "outputs": [],
   "source": [
    "# | export\n",
    "\n",
    "# taken from https://gist.github.com/dsevero/3f3db7acb45d6cd8e945e8a32eaca168\n",
    "class HashableDataFrame(pd.DataFrame):\n",
    "    def __init__(self, obj):\n",
    "        super().__init__(obj)\n",
    "\n",
    "    def __hash__(self):\n",
    "        hash_value = sha256(hash_pandas_object(self, index=True).values)\n",
    "        hash_value = hash(hash_value.hexdigest())\n",
    "        return hash_value\n",
    "\n",
    "    def __eq__(self, other):\n",
    "        return self.equals(other)"
   ]
  },
  {
   "cell_type": "code",
   "execution_count": null,
   "metadata": {},
   "outputs": [],
   "source": [
    "from gpt3forchem.data import get_photoswitch_data\n",
    "from functools import lru_cache"
   ]
  },
  {
   "cell_type": "markdown",
   "metadata": {},
   "source": [
    "Let's define a cached function."
   ]
  },
  {
   "cell_type": "code",
   "execution_count": null,
   "metadata": {},
   "outputs": [],
   "source": [
    "@lru_cache\n",
    "def cached_function(df): \n",
    "    return df['Extinction'].sum()"
   ]
  },
  {
   "cell_type": "code",
   "execution_count": null,
   "metadata": {},
   "outputs": [],
   "source": [
    "data = get_photoswitch_data()"
   ]
  },
  {
   "cell_type": "code",
   "execution_count": null,
   "metadata": {},
   "outputs": [],
   "source": [
    "data = HashableDataFrame(data)"
   ]
  },
  {
   "cell_type": "code",
   "execution_count": null,
   "metadata": {},
   "outputs": [
    {
     "data": {
      "text/plain": [
       "336213.03"
      ]
     },
     "execution_count": null,
     "metadata": {},
     "output_type": "execute_result"
    }
   ],
   "source": [
    "cached_function(data)"
   ]
  },
  {
   "cell_type": "code",
   "execution_count": null,
   "metadata": {},
   "outputs": [],
   "source": [
    "# | export\n",
    "# taken from https://github.com/IBM/UQ360/blob/main/uq360/metrics/regression_metrics.py\n",
    "def picp(y_true, y_lower, y_upper):\n",
    "    \"\"\"\n",
    "    Prediction Interval Coverage Probability (PICP). Computes the fraction of samples for which the grounds truth lies\n",
    "    within predicted interval. Measures the prediction interval calibration for regression.\n",
    "    Args:\n",
    "        y_true: Ground truth\n",
    "        y_lower: predicted lower bound\n",
    "        y_upper: predicted upper bound\n",
    "    Returns:\n",
    "        float: the fraction of samples for which the grounds truth lies within predicted interval.\n",
    "    \"\"\"\n",
    "    satisfies_upper_bound = y_true <= y_upper\n",
    "    satisfies_lower_bound = y_true >= y_lower\n",
    "    return np.mean(satisfies_upper_bound * satisfies_lower_bound)\n"
   ]
  },
  {
   "cell_type": "code",
   "execution_count": null,
   "metadata": {},
   "outputs": [
    {
     "data": {
      "text/plain": [
       "1.0"
      ]
     },
     "execution_count": null,
     "metadata": {},
     "output_type": "execute_result"
    }
   ],
   "source": [
    "picp(np.array([1, 2, 3]), np.array([0, 1, 2]), np.array([2, 3, 4]))"
   ]
  },
  {
   "cell_type": "code",
   "execution_count": null,
   "metadata": {},
   "outputs": [],
   "source": []
  }
 ],
 "metadata": {
  "kernelspec": {
   "display_name": "Python 3.9.13 ('gpt3')",
   "language": "python",
   "name": "python3"
  }
 },
 "nbformat": 4,
 "nbformat_minor": 2
}
