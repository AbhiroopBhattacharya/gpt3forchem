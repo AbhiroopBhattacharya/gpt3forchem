{
 "cells": [
  {
   "cell_type": "code",
   "execution_count": null,
   "metadata": {},
   "outputs": [],
   "source": [
    "#|hide\n",
    "from gpt3forchem import *"
   ]
  },
  {
   "cell_type": "markdown",
   "metadata": {},
   "source": [
    "# GPT3 for molecular and materials design and discovery\n",
    "\n",
    "> Fine-tuning GPT3 on chemical data.\n",
    "\n",
    "<!-- DALL·E 2022-08-31 09.08.40 - scientist at a laptop using large language models such as GPT-3 for discovering novel molecules that save the world, digital art.png -->\n",
    "![](dalle.png)"
   ]
  },
  {
   "cell_type": "markdown",
   "metadata": {},
   "source": [
    "## Install"
   ]
  },
  {
   "cell_type": "markdown",
   "metadata": {},
   "source": [
    "```\n",
    "pip install gpt3forchem\n",
    "```"
   ]
  },
  {
   "cell_type": "markdown",
   "metadata": {},
   "source": [
    "## How to use\n",
    "\n",
    "\n",
    "* the `legacy` directory contains code from initial exploration. The relevant parts have been migrated into notebooks. \n",
    "\n",
    "* the `experiments` directory contain code for the actual fine-tuning experiments"
   ]
  },
  {
   "cell_type": "markdown",
   "metadata": {},
   "source": [
    "Before you can use it, you need to set up the OpenAI API access (you might need to export your `OPENAI_API_KEY`)"
   ]
  },
  {
   "cell_type": "markdown",
   "metadata": {},
   "source": [
    "Also, you need to keep in mind that there are [rate limits](https://help.openai.com/en/articles/5955598-is-api-usage-subject-to-any-rate-limits) wherefore we needed to add some delays between requests."
   ]
  },
  {
   "cell_type": "markdown",
   "metadata": {},
   "source": []
  }
 ],
 "metadata": {
  "kernelspec": {
   "display_name": "Python 3.9.13 64-bit",
   "language": "python",
   "name": "python3"
  },
  "language_info": {
   "name": "python",
   "version": "3.9.13"
  },
  "vscode": {
   "interpreter": {
    "hash": "b0fa6594d8f4cbf19f97940f81e996739fb7646882a419484c72d19e05852a7e"
   }
  }
 },
 "nbformat": 4,
 "nbformat_minor": 4
}
